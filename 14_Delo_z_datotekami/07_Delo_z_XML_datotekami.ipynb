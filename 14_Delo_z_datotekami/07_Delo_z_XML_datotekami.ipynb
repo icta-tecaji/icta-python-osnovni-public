{
 "cells": [
  {
   "cell_type": "markdown",
   "metadata": {},
   "source": [
    "# XML parsing\n",
    "https://docs.python.org/3/library/xml.etree.elementtree.html"
   ]
  },
  {
   "cell_type": "code",
   "execution_count": null,
   "metadata": {},
   "outputs": [],
   "source": [
    "import xml.etree.ElementTree as ET\n",
    "\n",
    "#tree = ET.parse('Results/Demand_CumulativeMaximumDemand_Arithmetic_Cmpo2100-2116.trx') # Importing XML file\n",
    "tree = ET.parse('Results/Average_LastAveragePower_Arithmetic.trx') # Importing XML file\n",
    "\n",
    "root = tree.getroot()"
   ]
  },
  {
   "cell_type": "code",
   "execution_count": null,
   "metadata": {},
   "outputs": [],
   "source": [
    "print(root.tag)\n",
    "print(\"********\")\n",
    "print(root.attrib)"
   ]
  },
  {
   "cell_type": "code",
   "execution_count": null,
   "metadata": {},
   "outputs": [],
   "source": [
    "# Takojšnji podelementi XML datoteke\n",
    "for child in root:\n",
    "    print(\"Child tag \\t ==> \", child.tag)\n",
    "    print(\"Child attributes ==> \", child.attrib)\n",
    "    print()"
   ]
  },
  {
   "cell_type": "code",
   "execution_count": null,
   "metadata": {},
   "outputs": [],
   "source": [
    "# Start and finish time of the test\n",
    "test_info = root.find(\"{http://microsoft.com/schemas/VisualStudio/TeamTest/2010}Times\")\n",
    "print(\"Start time: \", test_info.attrib[\"start\"])\n",
    "print(\"Finish time: \", test_info.attrib[\"finish\"])"
   ]
  },
  {
   "cell_type": "code",
   "execution_count": null,
   "metadata": {},
   "outputs": [],
   "source": [
    "results = root.find(\"{http://microsoft.com/schemas/VisualStudio/TeamTest/2010}Results\")\n",
    "print(results.tag)\n",
    "\n",
    "for child in results:\n",
    "    print(\"Child tag \\t ==> \", child.tag)\n",
    "    print(\"Child attributes ==> \", child.attrib)\n",
    "    print()"
   ]
  },
  {
   "cell_type": "code",
   "execution_count": null,
   "metadata": {},
   "outputs": [],
   "source": [
    "unit_test_results = results.findall(\"{http://microsoft.com/schemas/VisualStudio/TeamTest/2010}UnitTestResult\") # findall checks only direct children\n",
    "\n",
    "for test in unit_test_results:\n",
    "    #print(test.attrib.keys())\n",
    "    print(test.attrib[\"testName\"])\n",
    "    print(test.attrib[\"duration\"])\n",
    "    print(test.attrib[\"outcome\"])\n",
    "    if test.attrib[\"outcome\"] == \"Passed\":\n",
    "        print(\"No errors.\")\n",
    "    else:\n",
    "        test_output = test.find(\"{http://microsoft.com/schemas/VisualStudio/TeamTest/2010}Output\")\n",
    "        stdout = test_output.find(\"{http://microsoft.com/schemas/VisualStudio/TeamTest/2010}StdOut\")\n",
    "        stdout_parsed = parse_stdout(stdout.text)\n",
    "        error_info = test_output.find(\"{http://microsoft.com/schemas/VisualStudio/TeamTest/2010}ErrorInfo\")\n",
    "        error_message = error_info.find(\"{http://microsoft.com/schemas/VisualStudio/TeamTest/2010}Message\")\n",
    "        print(error_message.text)\n",
    "    \n",
    "    print()"
   ]
  },
  {
   "cell_type": "code",
   "execution_count": 11,
   "metadata": {},
   "outputs": [],
   "source": [
    "\n",
    "    "
   ]
  },
  {
   "cell_type": "code",
   "execution_count": null,
   "metadata": {},
   "outputs": [],
   "source": []
  },
  {
   "cell_type": "markdown",
   "metadata": {},
   "source": [
    "# Excel report"
   ]
  },
  {
   "cell_type": "markdown",
   "metadata": {},
   "source": [
    "https://realpython.com/openpyxl-excel-spreadsheets-python/"
   ]
  },
  {
   "cell_type": "markdown",
   "metadata": {},
   "source": [
    "https://openpyxl.readthedocs.io/en/stable/styles.html"
   ]
  },
  {
   "cell_type": "code",
   "execution_count": 22,
   "metadata": {},
   "outputs": [
    {
     "name": "stdout",
     "output_type": "stream",
     "text": [
      "Test:  Average_Current\n",
      "Test:  Average_LastAveragePowerFactor_Arithmetic_Lapf2100-2157\n",
      "Test:  Average_LastAveragePowerFactor_Vector_Lapf1100-1157\n",
      "Test:  Average_LastAveragePower_Arithmetic\n",
      "PARSING STDOUT\n",
      "Test:  Average_LastAveragePower_Vector\n",
      "PARSING STDOUT\n",
      "Test:  Average_MinimumPowerFactor_Arithmetic_Mipf2100-2407\n",
      "Test:  Average_MinimumPowerFactor_Vector_Mipf1100-1407\n",
      "Test:  Average_Power_Arithmetic_Avpo2600-2604\n",
      "Test:  Average_Power_Vector_Avpo1600-1604\n",
      "Test:  Average_Voltage\n",
      "Test:  Demand_CumulativeMaximumDemand_Arithmetic_Cmpo2100-2116\n",
      "PARSING STDOUT\n",
      "PARSING STDOUT\n",
      "Test:  Demand_CumulativeMaximumDemand_Arithmetic_Cmpo2200-2207\n",
      "PARSING STDOUT\n",
      "Test:  Demand_CumulativeMaximumDemand_Vector_Cmpo1100-1116\n",
      "PARSING STDOUT\n",
      "Test:  Demand_CumulativeMaximumDemand_Vector_Cmpo1200-1207\n",
      "PARSING STDOUT\n",
      "Test:  Demand_Demand_Arithmetic_Dere2600-2604\n",
      "Test:  Demand_Demand_Vector_Dere1600-1604\n",
      "Test:  Demand_MaximumDemand_Arithmetic_Made2100-2203\n",
      "Test:  Demand_MaximumDemand_Arithmetic_Made2300-2503\n",
      "PARSING STDOUT\n",
      "Test:  Demand_MaximumDemand_Vector_Made1100-1203\n",
      "Test:  Demand_MaximumDemand_Vector_Made1300-1503\n",
      "PARSING STDOUT\n",
      "Test:  Energy_Arithmetic_Enre2100-2110\n",
      "Test:  Energy_Arithmetic_Enre2300-2329\n",
      "PARSING STDOUT\n",
      "PARSING STDOUT\n",
      "PARSING STDOUT\n",
      "PARSING STDOUT\n",
      "PARSING STDOUT\n",
      "PARSING STDOUT\n",
      "PARSING STDOUT\n",
      "Test:  Energy_Vector_Enre1100-1110\n",
      "Test:  Energy_Vector_Enre1300-1329\n",
      "PARSING STDOUT\n",
      "PARSING STDOUT\n",
      "Test:  Instantaneous_Current\n",
      "Test:  Instantaneous_Frequency\n",
      "Test:  Instantaneous_PowerFactor_Arithmetic\n",
      "Test:  Instantaneous_PowerFactor_Vector\n",
      "Test:  Instantaneous_Power_Arithmetic\n",
      "Test:  Instantaneous_Power_Vector\n",
      "Test:  Instantaneous_Voltage\n"
     ]
    }
   ],
   "source": [
    "import xml.etree.ElementTree as ET\n",
    "from openpyxl import Workbook\n",
    "from openpyxl.styles import Font, Color, Alignment, Border, Side, colors, PatternFill\n",
    "import glob\n",
    "import random # to make random color\n",
    "import re\n",
    "\n",
    "\n",
    "\n",
    "def parse_stdout(data):\n",
    "    print(\"PARSING STDOUT\")\n",
    "    # Add code to parse STDOUT\n",
    "    \n",
    "    \n",
    "\n",
    "\n",
    "filename = \"Results.xlsx\"\n",
    "\n",
    "workbook = Workbook() # creates new excell\n",
    "sheet = workbook.active # selects the active sheet, which is the first one - Sheet 1\n",
    "\n",
    "header = [\"Sklop testov\", \n",
    "            \"Ime sklopa\", \n",
    "            \"Start set of tests\", \n",
    "            \"End set of tests\", \n",
    "            \"Sklop testov.1\", \n",
    "            \"Test name\", \n",
    "            \"Dolzina testa\", \n",
    "            \"Uspesnost\",\n",
    "            \"Error info\"]\n",
    "\n",
    "for i, text in enumerate(header):\n",
    "    cell = sheet.cell(row=1, column=i+1)\n",
    "    cell.value = text\n",
    "    #Styling\n",
    "    cell.font = Font(bold=True)\n",
    "    cell.alignment = Alignment(horizontal=\"center\")\n",
    "\n",
    "\n",
    "'''\n",
    "# Primer kako je sestavljen tests\n",
    "tests = [\n",
    "    [\"Results/Average_Current\", \"0012e7cc\"],\n",
    "    [\"Results/Average_LastAveragePower_Arithmetic\", \"001f536a\"],\n",
    "    [\"Results/Average_LastAveragePower_Vector\", \"00f1b81d\"],\n",
    "    \n",
    "]\n",
    "'''\n",
    "\n",
    "tests = []\n",
    "trxFiles = glob.glob(f'Results/*.trx')\n",
    "for file in trxFiles:\n",
    "    #print(file)\n",
    "    random_color = \"00\"+''.join([random.choice('0123456789ABCDEF') for j in range(6)])\n",
    "    tests.append([file, random_color]) # File_path, aRGB\n",
    "\n",
    "for i in range(len(tests)):\n",
    "    row = i+2\n",
    "    sheet.cell(row=row, column=1).value = i\n",
    "    fill = PatternFill(start_color=tests[i][1], # aRGB -> AARRGGBB\n",
    "                   end_color=tests[i][1],\n",
    "                   fill_type='solid')\n",
    "    sheet.cell(row=row, column=1).fill = fill\n",
    "    \n",
    "    pattern = r\"\\\\(.+)\\.\"\n",
    "    test_name = re.search(pattern, tests[i][0]).group(1)\n",
    "    print(\"Test: \", test_name)\n",
    "    sheet.cell(row=row, column=2).value = test_name\n",
    "    sheet.cell(row=row, column=2).fill = fill\n",
    "    \n",
    "    tree = ET.parse(tests[i][0]) # Importing XML file\n",
    "    root = tree.getroot()\n",
    "    \n",
    "    test_info = root.find(\"{http://microsoft.com/schemas/VisualStudio/TeamTest/2010}Times\")\n",
    "    sheet.cell(row=row, column=3).value = test_info.attrib[\"start\"]\n",
    "    sheet.cell(row=row, column=4).value = test_info.attrib[\"finish\"]\n",
    "    \n",
    "    results = root.find(\"{http://microsoft.com/schemas/VisualStudio/TeamTest/2010}Results\")\n",
    "    unit_test_results = results.findall(\"{http://microsoft.com/schemas/VisualStudio/TeamTest/2010}UnitTestResult\") # findall checks only direct children\n",
    "    for test in unit_test_results:\n",
    "        if sheet[\"F\"][-1].value == None: # the first time, the value is None, because row has been createf for the first test\n",
    "            row = sheet[\"F\"][-1].row\n",
    "        else: # the other times, this column is the one with most rows and so the last value is not None\n",
    "            row = sheet[\"F\"][-1].row + 1 \n",
    "        \n",
    "        sheet.cell(row=row, column=5).value = i\n",
    "        sheet.cell(row=row, column=5).fill = fill\n",
    "        \n",
    "        sheet.cell(row=row, column=6).value = test.attrib[\"testName\"]\n",
    "        sheet.cell(row=row, column=7).value = test.attrib[\"duration\"]\n",
    "        \n",
    "        sheet.cell(row=row, column=8).value = test.attrib[\"outcome\"]\n",
    "        if test.attrib[\"outcome\"] == \"Passed\":\n",
    "            outcome_fill = PatternFill(start_color='0000FF00', # aRGB -> AARRGGBB\n",
    "                   end_color='0000FF00',\n",
    "                   fill_type='solid')\n",
    "            sheet.cell(row=row, column=8).fill = outcome_fill\n",
    "            \n",
    "            error_info_text = \"No errors\"\n",
    "        else:\n",
    "            outcome_fill = PatternFill(start_color='00FF0000',\n",
    "                   end_color='00FF0000',\n",
    "                   fill_type='solid')\n",
    "            sheet.cell(row=row, column=8).fill = outcome_fill\n",
    "            \n",
    "            test_output = test.find(\"{http://microsoft.com/schemas/VisualStudio/TeamTest/2010}Output\")\n",
    "            stdout = test_output.find(\"{http://microsoft.com/schemas/VisualStudio/TeamTest/2010}StdOut\")\n",
    "            stdout_parsed = parse_stdout(stdout.text)\n",
    "            error_info = test_output.find(\"{http://microsoft.com/schemas/VisualStudio/TeamTest/2010}ErrorInfo\")\n",
    "            error_message = error_info.find(\"{http://microsoft.com/schemas/VisualStudio/TeamTest/2010}Message\")\n",
    "            \n",
    "            error_info_text = error_message.text\n",
    "            \n",
    "        sheet.cell(row=row, column=9).value = error_info_text\n",
    "            \n",
    "\n",
    "\n",
    "workbook.save(filename=filename) # save"
   ]
  },
  {
   "cell_type": "markdown",
   "metadata": {},
   "source": [
    "# Razlaga"
   ]
  },
  {
   "cell_type": "code",
   "execution_count": 1,
   "metadata": {},
   "outputs": [],
   "source": [
    "import xml.etree.ElementTree as ET\n",
    "import globlas\n",
    "\n",
    "\n",
    "def xml_parser(folder_path):\n",
    "    try:\n",
    "        # Parse the XML content\n",
    "        root = ET.fromstring(folder_path)\n",
    "\n",
    "        # Iterate through all elements in the XML tree\n",
    "        for element in root.iter(\"function\"):\n",
    "            name = element.get(\"name\")\n",
    "            if name == \"Appliance_GoTo_TestMode__MAT\":\n",
    "                globals.go_to_test_mode = element.get(\"location\")\n",
    "\n",
    "            if name == \"Appliance_RegisterInternalEvent__MAT\":\n",
    "                globals.go_to_standby_location = element.get(\"location\")\n",
    "                for element_mat in root.iter(\"enum\"):\n",
    "                    name = element_mat.get(\"name\")\n",
    "                    if name == \"APPLIANCE_INTERNAL_EVENT__STANDBY_TIMER_ELAPSED\":\n",
    "                        globals.go_to_standby_value = int(element_mat.get(\"value\"))\n",
    "\n",
    "    except Exception as e:\n",
    "        print(f\"Error occurred while parsing the XML content: {e}\")\n",
    "        return None"
   ]
  },
  {
   "cell_type": "code",
   "execution_count": 12,
   "metadata": {},
   "outputs": [
    {
     "name": "stdout",
     "output_type": "stream",
     "text": [
      "0x08028c31\n",
      "0x08028bc9\n"
     ]
    },
    {
     "name": "stdout",
     "output_type": "stream",
     "text": [
      "39\n"
     ]
    }
   ],
   "source": [
    "import pandas as pd\n",
    "from functools import lru_cache\n",
    "\n",
    "\n",
    "@lru_cache(maxsize=5)\n",
    "def load_xml(xml_file, xpath):\n",
    "    return pd.read_xml(xml_file, xpath=xpath)\n",
    "\n",
    "\n",
    "def extract_location_by_name(xml_file, function_name):\n",
    "    df = load_xml(\"data/memoryLogCommands_02_01_09.xml\", \".//function\")\n",
    "    location = df[df[\"name\"] == function_name][\"location\"].values[0]\n",
    "    return location\n",
    "\n",
    "\n",
    "def extract_value_by_name(xml_file, enum_name):\n",
    "    df = load_xml(\"data/memoryLogCommands_02_01_09.xml\", \".//enum\")\n",
    "    value = df[df[\"name\"] == enum_name][\"value\"].values[0]\n",
    "    return value\n",
    "\n",
    "\n",
    "location1 = extract_location_by_name(\n",
    "    \"data/memoryLogCommands_02_01_09.xml\", \"Appliance_GoTo_TestMode__MAT\"\n",
    ")\n",
    "print(location1)\n",
    "location2 = extract_location_by_name(\n",
    "    \"data/memoryLogCommands_02_01_09.xml\", \"Appliance_RegisterInternalEvent__MAT\"\n",
    ")\n",
    "print(location2)\n",
    "\n",
    "value = extract_value_by_name(\n",
    "    \"data/memoryLogCommands_02_01_09.xml\",\n",
    "    \"APPLIANCE_INTERNAL_EVENT__STANDBY_TIMER_ELAPSED\",\n",
    ")\n",
    "print(value)"
   ]
  },
  {
   "cell_type": "code",
   "execution_count": null,
   "metadata": {},
   "outputs": [],
   "source": []
  },
  {
   "cell_type": "code",
   "execution_count": null,
   "metadata": {},
   "outputs": [],
   "source": []
  },
  {
   "cell_type": "code",
   "execution_count": null,
   "metadata": {},
   "outputs": [],
   "source": []
  }
 ],
 "metadata": {
  "kernelspec": {
   "display_name": "Python 3",
   "language": "python",
   "name": "python3"
  },
  "language_info": {
   "codemirror_mode": {
    "name": "ipython",
    "version": 3
   },
   "file_extension": ".py",
   "mimetype": "text/x-python",
   "name": "python",
   "nbconvert_exporter": "python",
   "pygments_lexer": "ipython3",
   "version": "3.12.0"
  },
  "toc": {
   "base_numbering": 1,
   "nav_menu": {},
   "number_sections": true,
   "sideBar": true,
   "skip_h1_title": false,
   "title_cell": "Table of Contents",
   "title_sidebar": "Contents",
   "toc_cell": false,
   "toc_position": {},
   "toc_section_display": true,
   "toc_window_display": false
  }
 },
 "nbformat": 4,
 "nbformat_minor": 4
}
