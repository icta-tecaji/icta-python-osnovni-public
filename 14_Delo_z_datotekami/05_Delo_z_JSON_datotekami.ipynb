{
 "cells": [
  {
   "cell_type": "markdown",
   "metadata": {},
   "source": [
    "# Delo z JSON datotekami"
   ]
  },
  {
   "cell_type": "markdown",
   "metadata": {},
   "source": [
    "## Branje in pisanje JSON datotek\n",
    "    "
   ]
  },
  {
   "cell_type": "markdown",
   "metadata": {},
   "source": [
    "Since its inception, JSON has quickly become the de facto standard for information exchange. Chances are you’re here because you need to transport some data from here to there. Perhaps you’re gathering information through an API or storing your data in a document database. One way or another, you’re up to your neck in JSON, and you’ve got to Python your way out."
   ]
  },
  {
   "cell_type": "markdown",
   "metadata": {},
   "source": [
    "### A (Very) Brief History of JSON"
   ]
  },
  {
   "cell_type": "markdown",
   "metadata": {},
   "source": [
    "Not so surprisingly, JavaScript Object Notation was inspired by a subset of the JavaScript programming language dealing with object literal syntax. They’ve got a nifty website that explains the whole thing. Don’t worry though: JSON has long since become language agnostic and exists as its own standard, so we can thankfully avoid JavaScript for the sake of this discussion.\n",
    "\n",
    "Ultimately, the community at large adopted JSON because it’s easy for both humans and machines to create and understand."
   ]
  },
  {
   "cell_type": "markdown",
   "metadata": {},
   "source": [
    "As you can see, JSON supports primitive types, like strings and numbers, as well as nested lists and objects."
   ]
  },
  {
   "cell_type": "markdown",
   "metadata": {},
   "source": [
    "> Wait, that looks like a Python dictionary! I know, right? It’s pretty much universal object notation at this point, but I don’t think UON rolls off the tongue quite as nicely."
   ]
  },
  {
   "cell_type": "markdown",
   "metadata": {},
   "source": [
    "### Python Supports JSON Natively"
   ]
  },
  {
   "cell_type": "markdown",
   "metadata": {},
   "source": [
    "Python comes with a built-in package called json for encoding and decoding JSON data.\n",
    "\n",
    "Just throw this little guy up at the top of your file:"
   ]
  },
  {
   "cell_type": "code",
   "execution_count": null,
   "metadata": {},
   "outputs": [],
   "source": [
    "import json"
   ]
  },
  {
   "cell_type": "markdown",
   "metadata": {},
   "source": [
    "The process of encoding JSON is usually called serialization. This term refers to the transformation of data into a series of bytes (hence serial) to be stored or transmitted across a network. You may also hear the term marshaling, but that’s a whole other discussion. Naturally, deserialization is the reciprocal process of decoding data that has been stored or delivered in the JSON standard."
   ]
  },
  {
   "cell_type": "markdown",
   "metadata": {},
   "source": [
    "Yikes! That sounds pretty technical. Definitely. But in reality, all we’re talking about here is reading and writing. Think of it like this: encoding is for writing data to disk, while decoding is for reading data into memory."
   ]
  },
  {
   "cell_type": "markdown",
   "metadata": {},
   "source": [
    "### Serializing JSON"
   ]
  },
  {
   "cell_type": "markdown",
   "metadata": {},
   "source": [
    "What happens after a computer processes lots of information? It needs to take a data dump. Accordingly, the json library exposes the dump() method for writing data to files. There is also a dumps() method (pronounced as “dump-s”) for writing to a Python string.\n",
    "\n",
    "Simple Python objects are translated to JSON according to a fairly intuitive conversion."
   ]
  },
  {
   "cell_type": "markdown",
   "metadata": {},
   "source": [
    "<div class=\"table-responsive\">\n",
    "<table class=\"table table-hover\">\n",
    "<thead>\n",
    "<tr>\n",
    "<th>Python</th>\n",
    "<th>JSON</th>\n",
    "</tr>\n",
    "</thead>\n",
    "<tbody>\n",
    "<tr>\n",
    "<td><code>dict</code></td>\n",
    "<td><code>object</code></td>\n",
    "</tr>\n",
    "<tr>\n",
    "<td><code>list</code>, <code>tuple</code></td>\n",
    "<td><code>array</code></td>\n",
    "</tr>\n",
    "<tr>\n",
    "<td><code>str</code></td>\n",
    "<td><code>string</code></td>\n",
    "</tr>\n",
    "<tr>\n",
    "<td><code>int</code>, <code>long</code>, <code>float</code></td>\n",
    "<td><code>number</code></td>\n",
    "</tr>\n",
    "<tr>\n",
    "<td><code>True</code></td>\n",
    "<td><code>true</code></td>\n",
    "</tr>\n",
    "<tr>\n",
    "<td><code>False</code></td>\n",
    "<td><code>false</code></td>\n",
    "</tr>\n",
    "<tr>\n",
    "<td><code>None</code></td>\n",
    "<td><code>null</code></td>\n",
    "</tr>\n",
    "</tbody>\n",
    "</table>\n",
    "</div>"
   ]
  },
  {
   "cell_type": "markdown",
   "metadata": {},
   "source": [
    "Imagine you’re working with a Python object in memory that looks a little something like this:"
   ]
  },
  {
   "cell_type": "code",
   "execution_count": null,
   "metadata": {},
   "outputs": [],
   "source": [
    "data = {\n",
    "    \"president\": {\n",
    "        \"name\": \"Zaphod Beeblebrox\",\n",
    "        \"species\": \"Betelgeusian\"\n",
    "    }\n",
    "}"
   ]
  },
  {
   "cell_type": "markdown",
   "metadata": {},
   "source": [
    "It is critical that you save this information to disk, so your mission is to write it to a file.\n",
    "\n",
    "Using Python’s context manager, you can create a file called data_file.json and open it in write mode. (JSON files conveniently end in a .json extension.)"
   ]
  },
  {
   "cell_type": "code",
   "execution_count": null,
   "metadata": {},
   "outputs": [],
   "source": [
    "with open(\"data/data_file.json\", \"w\") as write_file:\n",
    "    json.dump(data, write_file)"
   ]
  },
  {
   "cell_type": "markdown",
   "metadata": {},
   "source": [
    "Note that dump() takes two positional arguments: (1) the data object to be serialized, and (2) the file-like object to which the bytes will be written.\n",
    "\n",
    "Or, if you were so inclined as to continue using this serialized JSON data in your program, you could write it to a native Python str object."
   ]
  },
  {
   "cell_type": "code",
   "execution_count": null,
   "metadata": {},
   "outputs": [
    {
     "name": "stdout",
     "output_type": "stream",
     "text": [
      "{\"president\": {\"name\": \"Zaphod Beeblebrox\", \"species\": \"Betelgeusian\"}}\n"
     ]
    }
   ],
   "source": [
    "json_string = json.dumps(data)\n",
    "print(json_string)"
   ]
  },
  {
   "cell_type": "markdown",
   "metadata": {},
   "source": [
    "Notice that the file-like object is absent since you aren’t actually writing to disk. Other than that, dumps() is just like dump()."
   ]
  },
  {
   "cell_type": "markdown",
   "metadata": {},
   "source": [
    "### Deserializing JSON"
   ]
  },
  {
   "cell_type": "markdown",
   "metadata": {},
   "source": [
    "Great, looks like you’ve captured yourself some wild JSON! Now it’s time to whip it into shape. In the json library, you’ll find load() and loads() for turning JSON encoded data into Python objects.\n",
    "\n",
    "Just like serialization, there is a simple conversion table for deserialization, though you can probably guess what it looks like already."
   ]
  },
  {
   "cell_type": "markdown",
   "metadata": {},
   "source": [
    "<div class=\"table-responsive\">\n",
    "<table class=\"table table-hover\">\n",
    "<thead>\n",
    "<tr>\n",
    "<th>JSON</th>\n",
    "<th>Python</th>\n",
    "</tr>\n",
    "</thead>\n",
    "<tbody>\n",
    "<tr>\n",
    "<td><code>object</code></td>\n",
    "<td><code>dict</code></td>\n",
    "</tr>\n",
    "<tr>\n",
    "<td><code>array</code></td>\n",
    "<td><code>list</code></td>\n",
    "</tr>\n",
    "<tr>\n",
    "<td><code>string</code></td>\n",
    "<td><code>str</code></td>\n",
    "</tr>\n",
    "<tr>\n",
    "<td><code>number</code> (int)</td>\n",
    "<td><code>int</code></td>\n",
    "</tr>\n",
    "<tr>\n",
    "<td><code>number</code> (real)</td>\n",
    "<td><code>float</code></td>\n",
    "</tr>\n",
    "<tr>\n",
    "<td><code>true</code></td>\n",
    "<td><code>True</code></td>\n",
    "</tr>\n",
    "<tr>\n",
    "<td><code>false</code></td>\n",
    "<td><code>False</code></td>\n",
    "</tr>\n",
    "<tr>\n",
    "<td><code>null</code></td>\n",
    "<td><code>None</code></td>\n",
    "</tr>\n",
    "</tbody>\n",
    "</table>\n",
    "</div>"
   ]
  },
  {
   "cell_type": "markdown",
   "metadata": {},
   "source": [
    "Technically, this conversion isn’t a perfect inverse to the serialization table. That basically means that if you encode an object now and then decode it again later, you may not get exactly the same object back. I imagine it’s a bit like teleportation: break my molecules down over here and put them back together over there. Am I still the same person?\n",
    "\n",
    "In reality, it’s probably more like getting one friend to translate something into Japanese and another friend to translate it back into English. Regardless, the simplest example would be encoding a tuple and getting back a list after decoding, like so:"
   ]
  },
  {
   "cell_type": "code",
   "execution_count": null,
   "metadata": {},
   "outputs": [],
   "source": [
    "blackjack_hand = (8, \"Q\")\n",
    "encoded_hand = json.dumps(blackjack_hand)\n",
    "decoded_hand = json.loads(encoded_hand)"
   ]
  },
  {
   "cell_type": "code",
   "execution_count": null,
   "metadata": {},
   "outputs": [
    {
     "data": {
      "text/plain": [
       "False"
      ]
     },
     "metadata": {},
     "output_type": "display_data"
    }
   ],
   "source": [
    "blackjack_hand == decoded_hand"
   ]
  },
  {
   "cell_type": "code",
   "execution_count": null,
   "metadata": {},
   "outputs": [
    {
     "data": {
      "text/plain": [
       "tuple"
      ]
     },
     "metadata": {},
     "output_type": "display_data"
    }
   ],
   "source": [
    "type(blackjack_hand)"
   ]
  },
  {
   "cell_type": "code",
   "execution_count": null,
   "metadata": {},
   "outputs": [
    {
     "data": {
      "text/plain": [
       "list"
      ]
     },
     "metadata": {},
     "output_type": "display_data"
    }
   ],
   "source": [
    "type(decoded_hand)"
   ]
  },
  {
   "cell_type": "code",
   "execution_count": null,
   "metadata": {},
   "outputs": [
    {
     "data": {
      "text/plain": [
       "True"
      ]
     },
     "metadata": {},
     "output_type": "display_data"
    }
   ],
   "source": [
    "blackjack_hand == tuple(decoded_hand)"
   ]
  },
  {
   "cell_type": "markdown",
   "metadata": {},
   "source": [
    "This time, imagine you’ve got some data stored on disk that you’d like to manipulate in memory. You’ll still use the context manager, but this time you’ll open up the existing data_file.json in read mode."
   ]
  },
  {
   "cell_type": "code",
   "execution_count": null,
   "metadata": {},
   "outputs": [],
   "source": [
    "with open(\"data/data_file.json\", \"r\") as read_file:\n",
    "    data = json.load(read_file)"
   ]
  },
  {
   "cell_type": "code",
   "execution_count": null,
   "metadata": {},
   "outputs": [
    {
     "data": {
      "text/plain": [
       "{'president': {'name': 'Zaphod Beeblebrox', 'species': 'Betelgeusian'}}"
      ]
     },
     "metadata": {},
     "output_type": "display_data"
    }
   ],
   "source": [
    "data"
   ]
  },
  {
   "cell_type": "markdown",
   "metadata": {},
   "source": [
    "Things are pretty straightforward here, but keep in mind that the result of this method could return any of the allowed data types from the conversion table. This is only important if you’re loading in data you haven’t seen before. In most cases, the root object will be a dict or a list.\n",
    "\n",
    "If you’ve pulled JSON data in from another program or have otherwise obtained a string of JSON formatted data in Python, you can easily deserialize that with loads(), which naturally loads from a string:"
   ]
  },
  {
   "cell_type": "code",
   "execution_count": null,
   "metadata": {},
   "outputs": [],
   "source": [
    "json_string = \"\"\"\n",
    "{\n",
    "    \"researcher\": {\n",
    "        \"name\": \"Ford Prefect\",\n",
    "        \"species\": \"Betelgeusian\",\n",
    "        \"relatives\": [\n",
    "            {\n",
    "                \"name\": \"Zaphod Beeblebrox\",\n",
    "                \"species\": \"Betelgeusian\"\n",
    "            }\n",
    "        ]\n",
    "    }\n",
    "}\n",
    "\"\"\"\n",
    "data = json.loads(json_string)"
   ]
  },
  {
   "cell_type": "code",
   "execution_count": null,
   "metadata": {},
   "outputs": [
    {
     "data": {
      "text/plain": [
       "{'researcher': {'name': 'Ford Prefect',\n",
       "  'species': 'Betelgeusian',\n",
       "  'relatives': [{'name': 'Zaphod Beeblebrox', 'species': 'Betelgeusian'}]}}"
      ]
     },
     "metadata": {},
     "output_type": "display_data"
    }
   ],
   "source": [
    "data"
   ]
  },
  {
   "cell_type": "markdown",
   "metadata": {},
   "source": [
    "### Vaja: parsing JSON data"
   ]
  },
  {
   "cell_type": "markdown",
   "metadata": {},
   "source": [
    "Objective: using data file 'interface-data.json', create output that resembles the following by parsing the included JSON file."
   ]
  },
  {
   "cell_type": "markdown",
   "metadata": {},
   "source": [
    "    Interface Status\n",
    "    ================================================================================\n",
    "    DN                                                 Description           Speed    MTU  \n",
    "    -------------------------------------------------- --------------------  ------  ------\n",
    "    topology/pod-1/node-201/sys/phys-[eth1/33]                              inherit   9150 \n",
    "    topology/pod-1/node-201/sys/phys-[eth1/34]                              inherit   9150 \n",
    "    topology/pod-1/node-201/sys/phys-[eth1/35]                              inherit   9150 "
   ]
  },
  {
   "cell_type": "code",
   "execution_count": null,
   "metadata": {},
   "outputs": [],
   "source": [
    "head = \"\"\"================================================================\\n\n",
    "DN                                                  Speed    MTU\\n \n",
    "--------------------------------------------------  ------  ------\\n\"\"\""
   ]
  },
  {
   "cell_type": "code",
   "execution_count": null,
   "metadata": {},
   "outputs": [],
   "source": [
    "import json\n",
    "\n",
    "with open('data/exer1-interface-data.json') as f:\n",
    "    #jsondata = f.read()\n",
    "    json_object = json.load(f)"
   ]
  },
  {
   "cell_type": "code",
   "execution_count": null,
   "metadata": {},
   "outputs": [],
   "source": [
    "imdata = json_object[\"imdata\"]"
   ]
  },
  {
   "cell_type": "code",
   "execution_count": null,
   "metadata": {},
   "outputs": [],
   "source": [
    "with open('data/interface_output.txt', 'w') as f:\n",
    "    f.write(head)\n",
    "    #print(head)\n",
    "    for interface in imdata:\n",
    "        attributes = interface[\"l1PhysIf\"][\"attributes\"]\n",
    "        dn = attributes[\"dn\"]\n",
    "        speed = attributes[\"speed\"]\n",
    "        mtu = attributes[\"mtu\"]\n",
    "        data_string = f\"{dn:50} {speed:8} {mtu:7}\\n\"\n",
    "        #print(data_string)\n",
    "        f.write(data_string)"
   ]
  },
  {
   "cell_type": "markdown",
   "metadata": {},
   "source": [
    "### Parsing JSON Files With the pandas Library"
   ]
  },
  {
   "cell_type": "code",
   "execution_count": null,
   "metadata": {},
   "outputs": [],
   "source": [
    "import pandas as pd"
   ]
  },
  {
   "cell_type": "markdown",
   "metadata": {},
   "source": [
    "[Primeri datasetov](https://github.com/jdorfman/awesome-json-datasets#bitcoin)"
   ]
  },
  {
   "cell_type": "markdown",
   "metadata": {},
   "source": [
    "Reading a JSON string to pandas object can take a number of parameters. The parser will try to parse a DataFrame if typ is not supplied or is None. To explicitly force Series parsing, pass typ=series"
   ]
  },
  {
   "cell_type": "markdown",
   "metadata": {},
   "source": [
    "    pd.read_json(json)"
   ]
  },
  {
   "cell_type": "markdown",
   "metadata": {},
   "source": [
    "- dtype : if True, infer dtypes, if a dict of column to dtype, then use those, if False, then don’t infer dtypes at all, default is True, apply only to the data.\n",
    "- convert_axes : boolean, try to convert the axes to the proper dtypes, default is True\n",
    "- convert_dates : a list of columns to parse for dates; If True, then try to parse date-like columns, default is True.\n",
    "- keep_default_dates : boolean, default True. If parsing dates, then parse the default date-like columns.\n",
    "- numpy : direct decoding to NumPy arrays. default is False; Supports numeric data only, although labels may be non-numeric. Also note that the JSON ordering MUST be the same for each term if numpy=True.\n",
    "- precise_float : boolean, default False. Set to enable usage of higher precision (strtod) function when decoding string to double values. Default (False) is to use fast but less precise builtin functionality.\n",
    "- date_unit : string, the timestamp unit to detect if converting dates. Default None. By default the timestamp precision will be detected, if this is not desired then pass one of ‘s’, ‘ms’, ‘us’ or ‘ns’ to force timestamp precision to seconds, milliseconds, microseconds or nanoseconds respectively.\n",
    "- lines : reads file as one json object per line. \n",
    "- encoding : The encoding to use to decode py3 bytes.\n",
    "- chunksize : when used in combination with lines=True, return a JsonReader which reads in chunksize lines per iteration."
   ]
  },
  {
   "cell_type": "markdown",
   "metadata": {},
   "source": [
    "#### Orient options"
   ]
  },
  {
   "cell_type": "markdown",
   "metadata": {},
   "source": [
    "`orient` :\n",
    "- Series:\n",
    "    - default is index\n",
    "    - allowed values are {split, records, index}\n",
    "- DataFrame:\n",
    "    - default is columns\n",
    "    - allowed values are {split, records, index, columns, values, table}"
   ]
  },
  {
   "cell_type": "code",
   "execution_count": null,
   "metadata": {},
   "outputs": [],
   "source": [
    "dfjo = pd.DataFrame(dict(A=range(1, 4), B=range(4, 7), C=range(7, 10)), columns=list('ABC'), index=list('xyz'))"
   ]
  },
  {
   "cell_type": "code",
   "execution_count": null,
   "metadata": {},
   "outputs": [
    {
     "data": {
      "text/html": [
       "<div>\n",
       "<style scoped>\n",
       "    .dataframe tbody tr th:only-of-type {\n",
       "        vertical-align: middle;\n",
       "    }\n",
       "\n",
       "    .dataframe tbody tr th {\n",
       "        vertical-align: top;\n",
       "    }\n",
       "\n",
       "    .dataframe thead th {\n",
       "        text-align: right;\n",
       "    }\n",
       "</style>\n",
       "<table border=\"1\" class=\"dataframe\">\n",
       "  <thead>\n",
       "    <tr style=\"text-align: right;\">\n",
       "      <th></th>\n",
       "      <th>A</th>\n",
       "      <th>B</th>\n",
       "      <th>C</th>\n",
       "    </tr>\n",
       "  </thead>\n",
       "  <tbody>\n",
       "    <tr>\n",
       "      <th>x</th>\n",
       "      <td>1</td>\n",
       "      <td>4</td>\n",
       "      <td>7</td>\n",
       "    </tr>\n",
       "    <tr>\n",
       "      <th>y</th>\n",
       "      <td>2</td>\n",
       "      <td>5</td>\n",
       "      <td>8</td>\n",
       "    </tr>\n",
       "    <tr>\n",
       "      <th>z</th>\n",
       "      <td>3</td>\n",
       "      <td>6</td>\n",
       "      <td>9</td>\n",
       "    </tr>\n",
       "  </tbody>\n",
       "</table>\n",
       "</div>"
      ],
      "text/plain": [
       "   A  B  C\n",
       "x  1  4  7\n",
       "y  2  5  8\n",
       "z  3  6  9"
      ]
     },
     "metadata": {},
     "output_type": "display_data"
    }
   ],
   "source": [
    "dfjo"
   ]
  },
  {
   "cell_type": "markdown",
   "metadata": {},
   "source": [
    "The format of the JSON string:"
   ]
  },
  {
   "cell_type": "markdown",
   "metadata": {},
   "source": [
    "<table class=\"colwidths-given table\">\n",
    "<colgroup>\n",
    "<col style=\"width: 12%\">\n",
    "<col style=\"width: 88%\">\n",
    "</colgroup>\n",
    "<tbody>\n",
    "<tr class=\"row-odd\"><td><p><code class=\"docutils literal notranslate\"><span class=\"pre\">split</span></code></p></td>\n",
    "<td><p>dict like {index -&gt; [index], columns -&gt; [columns], data -&gt; [values]}</p></td>\n",
    "</tr>\n",
    "<tr class=\"row-even\"><td><p><code class=\"docutils literal notranslate\"><span class=\"pre\">records</span></code></p></td>\n",
    "<td><p>list like [{column -&gt; value}, … , {column -&gt; value}]</p></td>\n",
    "</tr>\n",
    "<tr class=\"row-odd\"><td><p><code class=\"docutils literal notranslate\"><span class=\"pre\">index</span></code></p></td>\n",
    "<td><p>dict like {index -&gt; {column -&gt; value}}</p></td>\n",
    "</tr>\n",
    "<tr class=\"row-even\"><td><p><code class=\"docutils literal notranslate\"><span class=\"pre\">columns</span></code></p></td>\n",
    "<td><p>dict like {column -&gt; {index -&gt; value}}</p></td>\n",
    "</tr>\n",
    "<tr class=\"row-odd\"><td><p><code class=\"docutils literal notranslate\"><span class=\"pre\">values</span></code></p></td>\n",
    "<td><p>just the values array</p></td>\n",
    "</tr>\n",
    "<tr class=\"row-even\"><td><p><code class=\"docutils literal notranslate\"><span class=\"pre\">table</span></code></p></td>\n",
    "<td><p>adhering to the JSON <a class=\"reference external\" href=\"https://specs.frictionlessdata.io/json-table-schema/\">Table Schema</a></p></td>\n",
    "</tr>\n",
    "</tbody>\n",
    "</table>"
   ]
  },
  {
   "cell_type": "markdown",
   "metadata": {},
   "source": [
    "- Column oriented (the default for DataFrame) serializes the data as nested JSON objects with column labels acting as the primary index:"
   ]
  },
  {
   "cell_type": "code",
   "execution_count": null,
   "metadata": {},
   "outputs": [
    {
     "data": {
      "text/plain": [
       "'{\"A\":{\"x\":1,\"y\":2,\"z\":3},\"B\":{\"x\":4,\"y\":5,\"z\":6},\"C\":{\"x\":7,\"y\":8,\"z\":9}}'"
      ]
     },
     "metadata": {},
     "output_type": "display_data"
    }
   ],
   "source": [
    "dfjo.to_json(orient=\"columns\")"
   ]
  },
  {
   "cell_type": "markdown",
   "metadata": {},
   "source": [
    "- Index oriented (the default for Series) similar to column oriented but the index labels are now primary:"
   ]
  },
  {
   "cell_type": "code",
   "execution_count": null,
   "metadata": {},
   "outputs": [
    {
     "data": {
      "text/plain": [
       "'{\"x\":{\"A\":1,\"B\":4,\"C\":7},\"y\":{\"A\":2,\"B\":5,\"C\":8},\"z\":{\"A\":3,\"B\":6,\"C\":9}}'"
      ]
     },
     "metadata": {},
     "output_type": "display_data"
    }
   ],
   "source": [
    "dfjo.to_json(orient=\"index\")"
   ]
  },
  {
   "cell_type": "markdown",
   "metadata": {},
   "source": [
    "- Record oriented serializes the data to a JSON array of column -> value records, index labels are not included. This is useful for passing DataFrame data to plotting libraries, for example the JavaScript library d3.js"
   ]
  },
  {
   "cell_type": "code",
   "execution_count": null,
   "metadata": {},
   "outputs": [
    {
     "data": {
      "text/plain": [
       "'[{\"A\":1,\"B\":4,\"C\":7},{\"A\":2,\"B\":5,\"C\":8},{\"A\":3,\"B\":6,\"C\":9}]'"
      ]
     },
     "metadata": {},
     "output_type": "display_data"
    }
   ],
   "source": [
    "dfjo.to_json(orient=\"records\")"
   ]
  },
  {
   "cell_type": "markdown",
   "metadata": {},
   "source": [
    "- Value oriented is a bare-bones option which serializes to nested JSON arrays of values only, column and index labels are not included:"
   ]
  },
  {
   "cell_type": "code",
   "execution_count": null,
   "metadata": {},
   "outputs": [
    {
     "data": {
      "text/plain": [
       "'[[1,4,7],[2,5,8],[3,6,9]]'"
      ]
     },
     "metadata": {},
     "output_type": "display_data"
    }
   ],
   "source": [
    "dfjo.to_json(orient=\"values\")"
   ]
  },
  {
   "cell_type": "markdown",
   "metadata": {},
   "source": [
    "- Split oriented serializes to a JSON object containing separate entries for values, index and columns. Name is also included for Series:"
   ]
  },
  {
   "cell_type": "code",
   "execution_count": null,
   "metadata": {},
   "outputs": [
    {
     "data": {
      "text/plain": [
       "'{\"columns\":[\"A\",\"B\",\"C\"],\"index\":[\"x\",\"y\",\"z\"],\"data\":[[1,4,7],[2,5,8],[3,6,9]]}'"
      ]
     },
     "metadata": {},
     "output_type": "display_data"
    }
   ],
   "source": [
    "dfjo.to_json(orient=\"split\")"
   ]
  },
  {
   "cell_type": "markdown",
   "metadata": {},
   "source": [
    "- Table oriented serializes to the JSON Table Schema, allowing for the preservation of metadata including but not limited to dtypes and index names."
   ]
  },
  {
   "cell_type": "code",
   "execution_count": null,
   "metadata": {},
   "outputs": [
    {
     "data": {
      "text/plain": [
       "'{\"schema\":{\"fields\":[{\"name\":\"index\",\"type\":\"string\"},{\"name\":\"A\",\"type\":\"integer\"},{\"name\":\"B\",\"type\":\"integer\"},{\"name\":\"C\",\"type\":\"integer\"}],\"primaryKey\":[\"index\"],\"pandas_version\":\"0.20.0\"},\"data\":[{\"index\":\"x\",\"A\":1,\"B\":4,\"C\":7},{\"index\":\"y\",\"A\":2,\"B\":5,\"C\":8},{\"index\":\"z\",\"A\":3,\"B\":6,\"C\":9}]}'"
      ]
     },
     "metadata": {},
     "output_type": "display_data"
    }
   ],
   "source": [
    "dfjo.to_json(orient=\"table\")"
   ]
  },
  {
   "cell_type": "markdown",
   "metadata": {},
   "source": [
    "#### Primer: ocenas.json"
   ]
  },
  {
   "cell_type": "code",
   "execution_count": null,
   "metadata": {},
   "outputs": [
    {
     "data": {
      "text/html": [
       "<div>\n",
       "<style scoped>\n",
       "    .dataframe tbody tr th:only-of-type {\n",
       "        vertical-align: middle;\n",
       "    }\n",
       "\n",
       "    .dataframe tbody tr th {\n",
       "        vertical-align: top;\n",
       "    }\n",
       "\n",
       "    .dataframe thead th {\n",
       "        text-align: right;\n",
       "    }\n",
       "</style>\n",
       "<table border=\"1\" class=\"dataframe\">\n",
       "  <thead>\n",
       "    <tr style=\"text-align: right;\">\n",
       "      <th></th>\n",
       "      <th>temp_anomaly_celsius</th>\n",
       "    </tr>\n",
       "    <tr>\n",
       "      <th>year</th>\n",
       "      <th></th>\n",
       "    </tr>\n",
       "  </thead>\n",
       "  <tbody>\n",
       "    <tr>\n",
       "      <th>1880</th>\n",
       "      <td>-0.12</td>\n",
       "    </tr>\n",
       "    <tr>\n",
       "      <th>1881</th>\n",
       "      <td>-0.09</td>\n",
       "    </tr>\n",
       "    <tr>\n",
       "      <th>1882</th>\n",
       "      <td>-0.10</td>\n",
       "    </tr>\n",
       "    <tr>\n",
       "      <th>1883</th>\n",
       "      <td>-0.18</td>\n",
       "    </tr>\n",
       "    <tr>\n",
       "      <th>1884</th>\n",
       "      <td>-0.27</td>\n",
       "    </tr>\n",
       "  </tbody>\n",
       "</table>\n",
       "</div>"
      ],
      "text/plain": [
       "      temp_anomaly_celsius\n",
       "year                      \n",
       "1880                 -0.12\n",
       "1881                 -0.09\n",
       "1882                 -0.10\n",
       "1883                 -0.18\n",
       "1884                 -0.27"
      ]
     },
     "metadata": {},
     "output_type": "display_data"
    }
   ],
   "source": [
    "# način 1\n",
    "ocenas = pd.read_json('data/ocenas.json', orient='column')\n",
    "ocenas.drop(columns='description', inplace=True)\n",
    "ocenas.drop(['title', 'units', 'base_period', 'missing'], inplace=True)\n",
    "ocenas.index.name = 'year'\n",
    "ocenas.rename(columns={'data':'temp_anomaly_celsius'}, inplace=True)\n",
    "ocenas.index = pd.to_datetime(ocenas.index).year\n",
    "ocenas.head()"
   ]
  },
  {
   "cell_type": "markdown",
   "metadata": {},
   "source": [
    "#### Primer: temperatures.json"
   ]
  },
  {
   "cell_type": "code",
   "execution_count": null,
   "metadata": {},
   "outputs": [],
   "source": [
    "#!cat ./data/temperatures.json"
   ]
  },
  {
   "cell_type": "code",
   "execution_count": null,
   "metadata": {},
   "outputs": [],
   "source": [
    "import json\n",
    "#load json object\n",
    "with open('data/temperatures.json') as f:\n",
    "    d = json.load(f)"
   ]
  },
  {
   "cell_type": "code",
   "execution_count": null,
   "metadata": {},
   "outputs": [],
   "source": [
    "# podatke pretvorimo v json v pomnilniku\n",
    "temps_json = json.dumps(d['data'])"
   ]
  },
  {
   "cell_type": "code",
   "execution_count": null,
   "metadata": {},
   "outputs": [
    {
     "data": {
      "text/html": [
       "<div>\n",
       "<style scoped>\n",
       "    .dataframe tbody tr th:only-of-type {\n",
       "        vertical-align: middle;\n",
       "    }\n",
       "\n",
       "    .dataframe tbody tr th {\n",
       "        vertical-align: top;\n",
       "    }\n",
       "\n",
       "    .dataframe thead th {\n",
       "        text-align: right;\n",
       "    }\n",
       "</style>\n",
       "<table border=\"1\" class=\"dataframe\">\n",
       "  <thead>\n",
       "    <tr style=\"text-align: right;\">\n",
       "      <th></th>\n",
       "      <th>value</th>\n",
       "      <th>anomaly</th>\n",
       "    </tr>\n",
       "  </thead>\n",
       "  <tbody>\n",
       "    <tr>\n",
       "      <th>189512</th>\n",
       "      <td>50.34</td>\n",
       "      <td>-1.68</td>\n",
       "    </tr>\n",
       "    <tr>\n",
       "      <th>189612</th>\n",
       "      <td>51.99</td>\n",
       "      <td>-0.03</td>\n",
       "    </tr>\n",
       "    <tr>\n",
       "      <th>189712</th>\n",
       "      <td>51.56</td>\n",
       "      <td>-0.46</td>\n",
       "    </tr>\n",
       "    <tr>\n",
       "      <th>189812</th>\n",
       "      <td>51.43</td>\n",
       "      <td>-0.59</td>\n",
       "    </tr>\n",
       "    <tr>\n",
       "      <th>189912</th>\n",
       "      <td>51.01</td>\n",
       "      <td>-1.01</td>\n",
       "    </tr>\n",
       "  </tbody>\n",
       "</table>\n",
       "</div>"
      ],
      "text/plain": [
       "        value  anomaly\n",
       "189512  50.34    -1.68\n",
       "189612  51.99    -0.03\n",
       "189712  51.56    -0.46\n",
       "189812  51.43    -0.59\n",
       "189912  51.01    -1.01"
      ]
     },
     "metadata": {},
     "output_type": "display_data"
    }
   ],
   "source": [
    "temps = pd.read_json(temps_json, orient='index')\n",
    "temps.head()"
   ]
  },
  {
   "cell_type": "markdown",
   "metadata": {},
   "source": [
    "#### Primer: cities.json"
   ]
  },
  {
   "cell_type": "code",
   "execution_count": null,
   "metadata": {},
   "outputs": [
    {
     "data": {
      "text/html": [
       "<div>\n",
       "<style scoped>\n",
       "    .dataframe tbody tr th:only-of-type {\n",
       "        vertical-align: middle;\n",
       "    }\n",
       "\n",
       "    .dataframe tbody tr th {\n",
       "        vertical-align: top;\n",
       "    }\n",
       "\n",
       "    .dataframe thead th {\n",
       "        text-align: right;\n",
       "    }\n",
       "</style>\n",
       "<table border=\"1\" class=\"dataframe\">\n",
       "  <thead>\n",
       "    <tr style=\"text-align: right;\">\n",
       "      <th></th>\n",
       "      <th>name</th>\n",
       "      <th>id</th>\n",
       "      <th>nametype</th>\n",
       "      <th>recclass</th>\n",
       "      <th>mass</th>\n",
       "      <th>fall</th>\n",
       "      <th>year</th>\n",
       "      <th>reclat</th>\n",
       "      <th>reclong</th>\n",
       "      <th>geolocation</th>\n",
       "      <th>:@computed_region_cbhk_fwbd</th>\n",
       "      <th>:@computed_region_nnqa_25f4</th>\n",
       "    </tr>\n",
       "  </thead>\n",
       "  <tbody>\n",
       "    <tr>\n",
       "      <th>0</th>\n",
       "      <td>Aachen</td>\n",
       "      <td>1</td>\n",
       "      <td>Valid</td>\n",
       "      <td>L5</td>\n",
       "      <td>21.0</td>\n",
       "      <td>Fell</td>\n",
       "      <td>1880-01-01T00:00:00.000</td>\n",
       "      <td>50.77500</td>\n",
       "      <td>6.08333</td>\n",
       "      <td>{'type': 'Point', 'coordinates': [6.08333, 50....</td>\n",
       "      <td>NaN</td>\n",
       "      <td>NaN</td>\n",
       "    </tr>\n",
       "    <tr>\n",
       "      <th>1</th>\n",
       "      <td>Aarhus</td>\n",
       "      <td>2</td>\n",
       "      <td>Valid</td>\n",
       "      <td>H6</td>\n",
       "      <td>720.0</td>\n",
       "      <td>Fell</td>\n",
       "      <td>1951-01-01T00:00:00.000</td>\n",
       "      <td>56.18333</td>\n",
       "      <td>10.23333</td>\n",
       "      <td>{'type': 'Point', 'coordinates': [10.23333, 56...</td>\n",
       "      <td>NaN</td>\n",
       "      <td>NaN</td>\n",
       "    </tr>\n",
       "  </tbody>\n",
       "</table>\n",
       "</div>"
      ],
      "text/plain": [
       "     name  id nametype recclass   mass  fall                     year  \\\n",
       "0  Aachen   1    Valid       L5   21.0  Fell  1880-01-01T00:00:00.000   \n",
       "1  Aarhus   2    Valid       H6  720.0  Fell  1951-01-01T00:00:00.000   \n",
       "\n",
       "     reclat   reclong                                        geolocation  \\\n",
       "0  50.77500   6.08333  {'type': 'Point', 'coordinates': [6.08333, 50....   \n",
       "1  56.18333  10.23333  {'type': 'Point', 'coordinates': [10.23333, 56...   \n",
       "\n",
       "   :@computed_region_cbhk_fwbd  :@computed_region_nnqa_25f4  \n",
       "0                          NaN                          NaN  \n",
       "1                          NaN                          NaN  "
      ]
     },
     "metadata": {},
     "output_type": "display_data"
    }
   ],
   "source": [
    "# lahko prodamo amapk ne moremo dobit geolokacije vn\n",
    "cities = pd.read_json('data/cities.json', orient='records')\n",
    "cities.head(2) "
   ]
  },
  {
   "cell_type": "code",
   "execution_count": null,
   "metadata": {},
   "outputs": [],
   "source": [
    "with open('data/cities.json') as f:\n",
    "    d = json.load(f)"
   ]
  },
  {
   "cell_type": "code",
   "execution_count": null,
   "metadata": {},
   "outputs": [
    {
     "name": "stderr",
     "output_type": "stream",
     "text": [
      "<ipython-input-24-26b1da13a1e9>:2: FutureWarning: pandas.io.json.json_normalize is deprecated, use pandas.json_normalize instead\n",
      "  cities = json_normalize(d)\n"
     ]
    }
   ],
   "source": [
    "from pandas.io.json import json_normalize\n",
    "cities = json_normalize(d)"
   ]
  },
  {
   "cell_type": "code",
   "execution_count": null,
   "metadata": {},
   "outputs": [
    {
     "data": {
      "text/html": [
       "<div>\n",
       "<style scoped>\n",
       "    .dataframe tbody tr th:only-of-type {\n",
       "        vertical-align: middle;\n",
       "    }\n",
       "\n",
       "    .dataframe tbody tr th {\n",
       "        vertical-align: top;\n",
       "    }\n",
       "\n",
       "    .dataframe thead th {\n",
       "        text-align: right;\n",
       "    }\n",
       "</style>\n",
       "<table border=\"1\" class=\"dataframe\">\n",
       "  <thead>\n",
       "    <tr style=\"text-align: right;\">\n",
       "      <th></th>\n",
       "      <th>id</th>\n",
       "      <th>nametype</th>\n",
       "      <th>recclass</th>\n",
       "      <th>mass</th>\n",
       "      <th>fall</th>\n",
       "      <th>year</th>\n",
       "      <th>reclat</th>\n",
       "      <th>reclong</th>\n",
       "      <th>geolocation.type</th>\n",
       "      <th>coordinates_x</th>\n",
       "      <th>coordinates_y</th>\n",
       "    </tr>\n",
       "    <tr>\n",
       "      <th>name</th>\n",
       "      <th></th>\n",
       "      <th></th>\n",
       "      <th></th>\n",
       "      <th></th>\n",
       "      <th></th>\n",
       "      <th></th>\n",
       "      <th></th>\n",
       "      <th></th>\n",
       "      <th></th>\n",
       "      <th></th>\n",
       "      <th></th>\n",
       "    </tr>\n",
       "  </thead>\n",
       "  <tbody>\n",
       "    <tr>\n",
       "      <th>Aachen</th>\n",
       "      <td>1</td>\n",
       "      <td>Valid</td>\n",
       "      <td>L5</td>\n",
       "      <td>21.0</td>\n",
       "      <td>Fell</td>\n",
       "      <td>1880-01-01T00:00:00.000</td>\n",
       "      <td>50.775000</td>\n",
       "      <td>6.083330</td>\n",
       "      <td>Point</td>\n",
       "      <td>6.08333</td>\n",
       "      <td>50.77500</td>\n",
       "    </tr>\n",
       "    <tr>\n",
       "      <th>Aarhus</th>\n",
       "      <td>2</td>\n",
       "      <td>Valid</td>\n",
       "      <td>H6</td>\n",
       "      <td>720.0</td>\n",
       "      <td>Fell</td>\n",
       "      <td>1951-01-01T00:00:00.000</td>\n",
       "      <td>56.183330</td>\n",
       "      <td>10.233330</td>\n",
       "      <td>Point</td>\n",
       "      <td>10.23333</td>\n",
       "      <td>56.18333</td>\n",
       "    </tr>\n",
       "    <tr>\n",
       "      <th>Abee</th>\n",
       "      <td>6</td>\n",
       "      <td>Valid</td>\n",
       "      <td>EH4</td>\n",
       "      <td>107000.0</td>\n",
       "      <td>Fell</td>\n",
       "      <td>1952-01-01T00:00:00.000</td>\n",
       "      <td>54.216670</td>\n",
       "      <td>-113.000000</td>\n",
       "      <td>Point</td>\n",
       "      <td>-113.00000</td>\n",
       "      <td>54.21667</td>\n",
       "    </tr>\n",
       "    <tr>\n",
       "      <th>Acapulco</th>\n",
       "      <td>10</td>\n",
       "      <td>Valid</td>\n",
       "      <td>Acapulcoite</td>\n",
       "      <td>1914.0</td>\n",
       "      <td>Fell</td>\n",
       "      <td>1976-01-01T00:00:00.000</td>\n",
       "      <td>16.883330</td>\n",
       "      <td>-99.900000</td>\n",
       "      <td>Point</td>\n",
       "      <td>-99.90000</td>\n",
       "      <td>16.88333</td>\n",
       "    </tr>\n",
       "    <tr>\n",
       "      <th>Achiras</th>\n",
       "      <td>370</td>\n",
       "      <td>Valid</td>\n",
       "      <td>L6</td>\n",
       "      <td>780.0</td>\n",
       "      <td>Fell</td>\n",
       "      <td>1902-01-01T00:00:00.000</td>\n",
       "      <td>-33.166670</td>\n",
       "      <td>-64.950000</td>\n",
       "      <td>Point</td>\n",
       "      <td>-64.95000</td>\n",
       "      <td>-33.16667</td>\n",
       "    </tr>\n",
       "  </tbody>\n",
       "</table>\n",
       "</div>"
      ],
      "text/plain": [
       "           id nametype     recclass      mass  fall                     year  \\\n",
       "name                                                                           \n",
       "Aachen      1    Valid           L5      21.0  Fell  1880-01-01T00:00:00.000   \n",
       "Aarhus      2    Valid           H6     720.0  Fell  1951-01-01T00:00:00.000   \n",
       "Abee        6    Valid          EH4  107000.0  Fell  1952-01-01T00:00:00.000   \n",
       "Acapulco   10    Valid  Acapulcoite    1914.0  Fell  1976-01-01T00:00:00.000   \n",
       "Achiras   370    Valid           L6     780.0  Fell  1902-01-01T00:00:00.000   \n",
       "\n",
       "              reclat      reclong geolocation.type  coordinates_x  \\\n",
       "name                                                                \n",
       "Aachen     50.775000     6.083330            Point        6.08333   \n",
       "Aarhus     56.183330    10.233330            Point       10.23333   \n",
       "Abee       54.216670  -113.000000            Point     -113.00000   \n",
       "Acapulco   16.883330   -99.900000            Point      -99.90000   \n",
       "Achiras   -33.166670   -64.950000            Point      -64.95000   \n",
       "\n",
       "          coordinates_y  \n",
       "name                     \n",
       "Aachen         50.77500  \n",
       "Aarhus         56.18333  \n",
       "Abee           54.21667  \n",
       "Acapulco       16.88333  \n",
       "Achiras       -33.16667  "
      ]
     },
     "metadata": {},
     "output_type": "display_data"
    }
   ],
   "source": [
    "cities['coordinates_x'] = cities['geolocation.coordinates'].str[0]\n",
    "cities['coordinates_y'] = cities['geolocation.coordinates'].str[1]\n",
    "cities.drop(columns=['geolocation.coordinates', ':@computed_region_cbhk_fwbd', ':@computed_region_nnqa_25f4'], inplace=True)\n",
    "cities.set_index('name', inplace=True)\n",
    "cities['mass'] = pd.to_numeric(cities['mass'])\n",
    "# na podoben način še ostale\n",
    "cities.head()"
   ]
  },
  {
   "cell_type": "markdown",
   "metadata": {},
   "source": [
    "#### Primer: transactions.json"
   ]
  },
  {
   "cell_type": "code",
   "execution_count": null,
   "metadata": {},
   "outputs": [
    {
     "name": "stdout",
     "output_type": "stream",
     "text": [
      "{\r\n",
      "\"txs\":[\r\n",
      "\r\n",
      "{\r\n",
      "   \"lock_time\":0,\r\n",
      "   \"ver\":1,\r\n",
      "   \"size\":373,\r\n",
      "   \"inputs\":[\r\n",
      "      {\r\n",
      "         \"sequence\":4294967295,\r\n"
     ]
    }
   ],
   "source": [
    "!head -n 10 data/transactions.json"
   ]
  },
  {
   "cell_type": "code",
   "execution_count": null,
   "metadata": {},
   "outputs": [],
   "source": [
    "with open('data/transactions.json') as f:\n",
    "    data= json.load(f)"
   ]
  },
  {
   "cell_type": "markdown",
   "metadata": {},
   "source": [
    "[pandas.json_normalize](https://pandas.pydata.org/pandas-docs/stable/reference/api/pandas.json_normalize.html): Normalize semi-structured JSON data into a flat table."
   ]
  },
  {
   "cell_type": "code",
   "execution_count": null,
   "metadata": {},
   "outputs": [],
   "source": [
    "from pandas.io.json import json_normalize\n",
    "\n",
    "#json_normalize(data['txs']).head()"
   ]
  },
  {
   "cell_type": "code",
   "execution_count": null,
   "metadata": {},
   "outputs": [
    {
     "name": "stderr",
     "output_type": "stream",
     "text": [
      "<ipython-input-29-37877734e905>:1: FutureWarning: pandas.io.json.json_normalize is deprecated, use pandas.json_normalize instead\n",
      "  trans = json_normalize(data['txs'], record_path=['out'], meta=['time', 'relayed_by', 'vout_sz', 'hash'])\n"
     ]
    }
   ],
   "source": [
    "trans = json_normalize(data['txs'], record_path=['out'], meta=['time', 'relayed_by', 'vout_sz', 'hash'])"
   ]
  },
  {
   "cell_type": "code",
   "execution_count": null,
   "metadata": {},
   "outputs": [
    {
     "data": {
      "text/html": [
       "<div>\n",
       "<style scoped>\n",
       "    .dataframe tbody tr th:only-of-type {\n",
       "        vertical-align: middle;\n",
       "    }\n",
       "\n",
       "    .dataframe tbody tr th {\n",
       "        vertical-align: top;\n",
       "    }\n",
       "\n",
       "    .dataframe thead th {\n",
       "        text-align: right;\n",
       "    }\n",
       "</style>\n",
       "<table border=\"1\" class=\"dataframe\">\n",
       "  <thead>\n",
       "    <tr style=\"text-align: right;\">\n",
       "      <th></th>\n",
       "      <th>spent</th>\n",
       "      <th>tx_index</th>\n",
       "      <th>type</th>\n",
       "      <th>addr</th>\n",
       "      <th>value</th>\n",
       "      <th>n</th>\n",
       "      <th>script</th>\n",
       "      <th>time</th>\n",
       "      <th>relayed_by</th>\n",
       "      <th>vout_sz</th>\n",
       "      <th>hash</th>\n",
       "    </tr>\n",
       "  </thead>\n",
       "  <tbody>\n",
       "    <tr>\n",
       "      <th>0</th>\n",
       "      <td>False</td>\n",
       "      <td>0</td>\n",
       "      <td>0</td>\n",
       "      <td>1H7r57SXAwaKs3Tf5ugbkRNxwfh9YaxC5b</td>\n",
       "      <td>7541</td>\n",
       "      <td>0</td>\n",
       "      <td>76a914b0cd787a7a879ac0a5277b0013ec7b11c145055d...</td>\n",
       "      <td>1586376721</td>\n",
       "      <td>0.0.0.0</td>\n",
       "      <td>2</td>\n",
       "      <td>0f06714015f334626a168ee3e0aa5e0d3866a33dad504b...</td>\n",
       "    </tr>\n",
       "    <tr>\n",
       "      <th>1</th>\n",
       "      <td>False</td>\n",
       "      <td>0</td>\n",
       "      <td>0</td>\n",
       "      <td>1BPULhbGfrojrknyD7aZYMtRVUu38Cn75j</td>\n",
       "      <td>1364400</td>\n",
       "      <td>1</td>\n",
       "      <td>76a91471f13b222426eb80b47d2413d21a8904ec1966b2...</td>\n",
       "      <td>1586376721</td>\n",
       "      <td>0.0.0.0</td>\n",
       "      <td>2</td>\n",
       "      <td>0f06714015f334626a168ee3e0aa5e0d3866a33dad504b...</td>\n",
       "    </tr>\n",
       "    <tr>\n",
       "      <th>2</th>\n",
       "      <td>False</td>\n",
       "      <td>0</td>\n",
       "      <td>0</td>\n",
       "      <td>1LQ6YURobx4EGZRp8bdEDHup6T56o5NGKN</td>\n",
       "      <td>3127836</td>\n",
       "      <td>0</td>\n",
       "      <td>76a914d4c895721d3a8cd74bb3ccbb699a3dbe342c0807...</td>\n",
       "      <td>1586376722</td>\n",
       "      <td>0.0.0.0</td>\n",
       "      <td>2</td>\n",
       "      <td>3684072a50d7389933210d7adf4f98640d3d53c8cb245e...</td>\n",
       "    </tr>\n",
       "    <tr>\n",
       "      <th>3</th>\n",
       "      <td>False</td>\n",
       "      <td>0</td>\n",
       "      <td>0</td>\n",
       "      <td>1HSLVVSSQmzaNG8sbakhFDrmpzUPZLnYCe</td>\n",
       "      <td>30036732</td>\n",
       "      <td>1</td>\n",
       "      <td>76a914b44cae99837337275d21d2c5c6ed6cddf7a7e9f7...</td>\n",
       "      <td>1586376722</td>\n",
       "      <td>0.0.0.0</td>\n",
       "      <td>2</td>\n",
       "      <td>3684072a50d7389933210d7adf4f98640d3d53c8cb245e...</td>\n",
       "    </tr>\n",
       "    <tr>\n",
       "      <th>4</th>\n",
       "      <td>False</td>\n",
       "      <td>0</td>\n",
       "      <td>0</td>\n",
       "      <td>3Lb2MJWbBE88BUHf6tAw8ZzhkR6H2cYRhR</td>\n",
       "      <td>206183</td>\n",
       "      <td>0</td>\n",
       "      <td>a914cf48401e3cf81080352f281ea859ccabd51a821487</td>\n",
       "      <td>1586376721</td>\n",
       "      <td>0.0.0.0</td>\n",
       "      <td>3</td>\n",
       "      <td>3d3cc141654170060a7e298a9e5298557970e8cd0051ab...</td>\n",
       "    </tr>\n",
       "  </tbody>\n",
       "</table>\n",
       "</div>"
      ],
      "text/plain": [
       "   spent  tx_index  type                                addr     value  n  \\\n",
       "0  False         0     0  1H7r57SXAwaKs3Tf5ugbkRNxwfh9YaxC5b      7541  0   \n",
       "1  False         0     0  1BPULhbGfrojrknyD7aZYMtRVUu38Cn75j   1364400  1   \n",
       "2  False         0     0  1LQ6YURobx4EGZRp8bdEDHup6T56o5NGKN   3127836  0   \n",
       "3  False         0     0  1HSLVVSSQmzaNG8sbakhFDrmpzUPZLnYCe  30036732  1   \n",
       "4  False         0     0  3Lb2MJWbBE88BUHf6tAw8ZzhkR6H2cYRhR    206183  0   \n",
       "\n",
       "                                              script        time relayed_by  \\\n",
       "0  76a914b0cd787a7a879ac0a5277b0013ec7b11c145055d...  1586376721    0.0.0.0   \n",
       "1  76a91471f13b222426eb80b47d2413d21a8904ec1966b2...  1586376721    0.0.0.0   \n",
       "2  76a914d4c895721d3a8cd74bb3ccbb699a3dbe342c0807...  1586376722    0.0.0.0   \n",
       "3  76a914b44cae99837337275d21d2c5c6ed6cddf7a7e9f7...  1586376722    0.0.0.0   \n",
       "4     a914cf48401e3cf81080352f281ea859ccabd51a821487  1586376721    0.0.0.0   \n",
       "\n",
       "  vout_sz                                               hash  \n",
       "0       2  0f06714015f334626a168ee3e0aa5e0d3866a33dad504b...  \n",
       "1       2  0f06714015f334626a168ee3e0aa5e0d3866a33dad504b...  \n",
       "2       2  3684072a50d7389933210d7adf4f98640d3d53c8cb245e...  \n",
       "3       2  3684072a50d7389933210d7adf4f98640d3d53c8cb245e...  \n",
       "4       3  3d3cc141654170060a7e298a9e5298557970e8cd0051ab...  "
      ]
     },
     "metadata": {},
     "output_type": "display_data"
    }
   ],
   "source": [
    "trans.head()"
   ]
  },
  {
   "cell_type": "markdown",
   "metadata": {},
   "source": [
    "#### Primer: all_hour_geo.json"
   ]
  },
  {
   "cell_type": "code",
   "execution_count": null,
   "metadata": {},
   "outputs": [],
   "source": [
    "from pandas.io.json import json_normalize\n",
    "import json"
   ]
  },
  {
   "cell_type": "code",
   "execution_count": null,
   "metadata": {},
   "outputs": [],
   "source": [
    "#load json object\n",
    "with open('data/all_hour_geo.json') as f:\n",
    "    d = json.load(f)"
   ]
  },
  {
   "cell_type": "code",
   "execution_count": null,
   "metadata": {},
   "outputs": [],
   "source": [
    "data = [element['properties'] for element in  d['features']]\n",
    "all_hour_geo = json_normalize(data)"
   ]
  },
  {
   "cell_type": "code",
   "execution_count": null,
   "metadata": {},
   "outputs": [
    {
     "data": {
      "text/html": [
       "<div>\n",
       "<style scoped>\n",
       "    .dataframe tbody tr th:only-of-type {\n",
       "        vertical-align: middle;\n",
       "    }\n",
       "\n",
       "    .dataframe tbody tr th {\n",
       "        vertical-align: top;\n",
       "    }\n",
       "\n",
       "    .dataframe thead th {\n",
       "        text-align: right;\n",
       "    }\n",
       "</style>\n",
       "<table border=\"1\" class=\"dataframe\">\n",
       "  <thead>\n",
       "    <tr style=\"text-align: right;\">\n",
       "      <th></th>\n",
       "      <th>mag</th>\n",
       "      <th>place</th>\n",
       "      <th>time</th>\n",
       "      <th>updated</th>\n",
       "      <th>tz</th>\n",
       "      <th>url</th>\n",
       "      <th>detail</th>\n",
       "      <th>felt</th>\n",
       "      <th>cdi</th>\n",
       "      <th>mmi</th>\n",
       "      <th>...</th>\n",
       "      <th>ids</th>\n",
       "      <th>sources</th>\n",
       "      <th>types</th>\n",
       "      <th>nst</th>\n",
       "      <th>dmin</th>\n",
       "      <th>rms</th>\n",
       "      <th>gap</th>\n",
       "      <th>magType</th>\n",
       "      <th>type</th>\n",
       "      <th>title</th>\n",
       "    </tr>\n",
       "  </thead>\n",
       "  <tbody>\n",
       "    <tr>\n",
       "      <th>0</th>\n",
       "      <td>0.69</td>\n",
       "      <td>16km ESE of Anza, CA</td>\n",
       "      <td>1586352802900</td>\n",
       "      <td>1586353032308</td>\n",
       "      <td>-480</td>\n",
       "      <td>https://earthquake.usgs.gov/earthquakes/eventp...</td>\n",
       "      <td>https://earthquake.usgs.gov/earthquakes/feed/v...</td>\n",
       "      <td>None</td>\n",
       "      <td>None</td>\n",
       "      <td>None</td>\n",
       "      <td>...</td>\n",
       "      <td>,ci39143639,</td>\n",
       "      <td>,ci,</td>\n",
       "      <td>,geoserve,nearby-cities,origin,phase-data,scit...</td>\n",
       "      <td>12.0</td>\n",
       "      <td>0.05468</td>\n",
       "      <td>0.14</td>\n",
       "      <td>98.0</td>\n",
       "      <td>ml</td>\n",
       "      <td>earthquake</td>\n",
       "      <td>M 0.7 - 16km ESE of Anza, CA</td>\n",
       "    </tr>\n",
       "    <tr>\n",
       "      <th>1</th>\n",
       "      <td>2.34</td>\n",
       "      <td>7km ENE of Pahala, Hawaii</td>\n",
       "      <td>1586352794640</td>\n",
       "      <td>1586353127910</td>\n",
       "      <td>-600</td>\n",
       "      <td>https://earthquake.usgs.gov/earthquakes/eventp...</td>\n",
       "      <td>https://earthquake.usgs.gov/earthquakes/feed/v...</td>\n",
       "      <td>None</td>\n",
       "      <td>None</td>\n",
       "      <td>None</td>\n",
       "      <td>...</td>\n",
       "      <td>,hv71464377,</td>\n",
       "      <td>,hv,</td>\n",
       "      <td>,geoserve,origin,phase-data,</td>\n",
       "      <td>49.0</td>\n",
       "      <td>0.02127</td>\n",
       "      <td>0.13</td>\n",
       "      <td>136.0</td>\n",
       "      <td>ml</td>\n",
       "      <td>earthquake</td>\n",
       "      <td>M 2.3 - 7km ENE of Pahala, Hawaii</td>\n",
       "    </tr>\n",
       "    <tr>\n",
       "      <th>2</th>\n",
       "      <td>0.85</td>\n",
       "      <td>15km ESE of Anza, CA</td>\n",
       "      <td>1586352704490</td>\n",
       "      <td>1586352926133</td>\n",
       "      <td>-480</td>\n",
       "      <td>https://earthquake.usgs.gov/earthquakes/eventp...</td>\n",
       "      <td>https://earthquake.usgs.gov/earthquakes/feed/v...</td>\n",
       "      <td>None</td>\n",
       "      <td>None</td>\n",
       "      <td>None</td>\n",
       "      <td>...</td>\n",
       "      <td>,ci39143631,</td>\n",
       "      <td>,ci,</td>\n",
       "      <td>,geoserve,nearby-cities,origin,phase-data,scit...</td>\n",
       "      <td>30.0</td>\n",
       "      <td>0.04884</td>\n",
       "      <td>0.14</td>\n",
       "      <td>55.0</td>\n",
       "      <td>ml</td>\n",
       "      <td>earthquake</td>\n",
       "      <td>M 0.9 - 15km ESE of Anza, CA</td>\n",
       "    </tr>\n",
       "  </tbody>\n",
       "</table>\n",
       "<p>3 rows × 26 columns</p>\n",
       "</div>"
      ],
      "text/plain": [
       "    mag                      place           time        updated   tz  \\\n",
       "0  0.69       16km ESE of Anza, CA  1586352802900  1586353032308 -480   \n",
       "1  2.34  7km ENE of Pahala, Hawaii  1586352794640  1586353127910 -600   \n",
       "2  0.85       15km ESE of Anza, CA  1586352704490  1586352926133 -480   \n",
       "\n",
       "                                                 url  \\\n",
       "0  https://earthquake.usgs.gov/earthquakes/eventp...   \n",
       "1  https://earthquake.usgs.gov/earthquakes/eventp...   \n",
       "2  https://earthquake.usgs.gov/earthquakes/eventp...   \n",
       "\n",
       "                                              detail  felt   cdi   mmi  ...  \\\n",
       "0  https://earthquake.usgs.gov/earthquakes/feed/v...  None  None  None  ...   \n",
       "1  https://earthquake.usgs.gov/earthquakes/feed/v...  None  None  None  ...   \n",
       "2  https://earthquake.usgs.gov/earthquakes/feed/v...  None  None  None  ...   \n",
       "\n",
       "            ids sources                                              types  \\\n",
       "0  ,ci39143639,    ,ci,  ,geoserve,nearby-cities,origin,phase-data,scit...   \n",
       "1  ,hv71464377,    ,hv,                       ,geoserve,origin,phase-data,   \n",
       "2  ,ci39143631,    ,ci,  ,geoserve,nearby-cities,origin,phase-data,scit...   \n",
       "\n",
       "    nst     dmin   rms    gap magType        type  \\\n",
       "0  12.0  0.05468  0.14   98.0      ml  earthquake   \n",
       "1  49.0  0.02127  0.13  136.0      ml  earthquake   \n",
       "2  30.0  0.04884  0.14   55.0      ml  earthquake   \n",
       "\n",
       "                               title  \n",
       "0       M 0.7 - 16km ESE of Anza, CA  \n",
       "1  M 2.3 - 7km ENE of Pahala, Hawaii  \n",
       "2       M 0.9 - 15km ESE of Anza, CA  \n",
       "\n",
       "[3 rows x 26 columns]"
      ]
     },
     "metadata": {},
     "output_type": "display_data"
    }
   ],
   "source": [
    "all_hour_geo.head(3)"
   ]
  },
  {
   "cell_type": "markdown",
   "metadata": {},
   "source": [
    "#### Primer: rates.json"
   ]
  },
  {
   "cell_type": "code",
   "execution_count": null,
   "metadata": {},
   "outputs": [],
   "source": [
    "#load json object\n",
    "with open('data/rates.json') as f:\n",
    "    d = json.load(f)"
   ]
  },
  {
   "cell_type": "code",
   "execution_count": null,
   "metadata": {},
   "outputs": [],
   "source": [
    "# json_normalize(d['rates'])"
   ]
  },
  {
   "cell_type": "code",
   "execution_count": null,
   "metadata": {},
   "outputs": [
    {
     "data": {
      "text/html": [
       "<div>\n",
       "<style scoped>\n",
       "    .dataframe tbody tr th:only-of-type {\n",
       "        vertical-align: middle;\n",
       "    }\n",
       "\n",
       "    .dataframe tbody tr th {\n",
       "        vertical-align: top;\n",
       "    }\n",
       "\n",
       "    .dataframe thead th {\n",
       "        text-align: right;\n",
       "    }\n",
       "</style>\n",
       "<table border=\"1\" class=\"dataframe\">\n",
       "  <thead>\n",
       "    <tr style=\"text-align: right;\">\n",
       "      <th></th>\n",
       "      <th>effective_from</th>\n",
       "      <th>rates.super_reduced</th>\n",
       "      <th>rates.reduced</th>\n",
       "      <th>rates.standard</th>\n",
       "      <th>rates.reduced1</th>\n",
       "      <th>rates.reduced2</th>\n",
       "      <th>rates.parking</th>\n",
       "      <th>name</th>\n",
       "      <th>code</th>\n",
       "      <th>country_code</th>\n",
       "    </tr>\n",
       "  </thead>\n",
       "  <tbody>\n",
       "    <tr>\n",
       "      <th>0</th>\n",
       "      <td>0000-01-01</td>\n",
       "      <td>4.0</td>\n",
       "      <td>10.0</td>\n",
       "      <td>21.0</td>\n",
       "      <td>NaN</td>\n",
       "      <td>NaN</td>\n",
       "      <td>NaN</td>\n",
       "      <td>Spain</td>\n",
       "      <td>ES</td>\n",
       "      <td>ES</td>\n",
       "    </tr>\n",
       "    <tr>\n",
       "      <th>1</th>\n",
       "      <td>0000-01-01</td>\n",
       "      <td>NaN</td>\n",
       "      <td>9.0</td>\n",
       "      <td>20.0</td>\n",
       "      <td>NaN</td>\n",
       "      <td>NaN</td>\n",
       "      <td>NaN</td>\n",
       "      <td>Bulgaria</td>\n",
       "      <td>BG</td>\n",
       "      <td>BG</td>\n",
       "    </tr>\n",
       "    <tr>\n",
       "      <th>2</th>\n",
       "      <td>0000-01-01</td>\n",
       "      <td>NaN</td>\n",
       "      <td>NaN</td>\n",
       "      <td>27.0</td>\n",
       "      <td>5.0</td>\n",
       "      <td>18.0</td>\n",
       "      <td>NaN</td>\n",
       "      <td>Hungary</td>\n",
       "      <td>HU</td>\n",
       "      <td>HU</td>\n",
       "    </tr>\n",
       "    <tr>\n",
       "      <th>3</th>\n",
       "      <td>0000-01-01</td>\n",
       "      <td>NaN</td>\n",
       "      <td>12.0</td>\n",
       "      <td>21.0</td>\n",
       "      <td>NaN</td>\n",
       "      <td>NaN</td>\n",
       "      <td>NaN</td>\n",
       "      <td>Latvia</td>\n",
       "      <td>LV</td>\n",
       "      <td>LV</td>\n",
       "    </tr>\n",
       "    <tr>\n",
       "      <th>4</th>\n",
       "      <td>0000-01-01</td>\n",
       "      <td>NaN</td>\n",
       "      <td>NaN</td>\n",
       "      <td>23.0</td>\n",
       "      <td>5.0</td>\n",
       "      <td>8.0</td>\n",
       "      <td>NaN</td>\n",
       "      <td>Poland</td>\n",
       "      <td>PL</td>\n",
       "      <td>PL</td>\n",
       "    </tr>\n",
       "  </tbody>\n",
       "</table>\n",
       "</div>"
      ],
      "text/plain": [
       "  effective_from  rates.super_reduced  rates.reduced  rates.standard  \\\n",
       "0     0000-01-01                  4.0           10.0            21.0   \n",
       "1     0000-01-01                  NaN            9.0            20.0   \n",
       "2     0000-01-01                  NaN            NaN            27.0   \n",
       "3     0000-01-01                  NaN           12.0            21.0   \n",
       "4     0000-01-01                  NaN            NaN            23.0   \n",
       "\n",
       "   rates.reduced1  rates.reduced2  rates.parking      name code country_code  \n",
       "0             NaN             NaN            NaN     Spain   ES           ES  \n",
       "1             NaN             NaN            NaN  Bulgaria   BG           BG  \n",
       "2             5.0            18.0            NaN   Hungary   HU           HU  \n",
       "3             NaN             NaN            NaN    Latvia   LV           LV  \n",
       "4             5.0             8.0            NaN    Poland   PL           PL  "
      ]
     },
     "metadata": {},
     "output_type": "display_data"
    }
   ],
   "source": [
    "rates = json_normalize(d['rates'], record_path=['periods'], meta=['name', 'code', 'country_code'])\n",
    "rates.head()"
   ]
  },
  {
   "cell_type": "markdown",
   "metadata": {},
   "source": []
  },
  {
   "cell_type": "markdown",
   "metadata": {},
   "source": []
  },
  {
   "cell_type": "markdown",
   "metadata": {},
   "source": []
  },
  {
   "cell_type": "markdown",
   "metadata": {},
   "source": []
  },
  {
   "cell_type": "markdown",
   "metadata": {},
   "source": []
  }
 ],
 "metadata": {
  "language_info": {
   "name": "python"
  }
 },
 "nbformat": 4,
 "nbformat_minor": 2
}
