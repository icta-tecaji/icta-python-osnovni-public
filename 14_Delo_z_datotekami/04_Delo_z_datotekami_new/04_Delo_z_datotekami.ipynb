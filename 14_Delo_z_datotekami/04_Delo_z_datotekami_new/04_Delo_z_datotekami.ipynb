{
 "cells": [
  {
   "cell_type": "markdown",
   "metadata": {},
   "source": [
    "# Delo z datotekami"
   ]
  },
  {
   "cell_type": "markdown",
   "metadata": {},
   "source": [
    "## Osnove branja in pisanja za tekstovne datoteke"
   ]
  },
  {
   "cell_type": "markdown",
   "metadata": {},
   "source": [
    "Before we can go into how to work with files in Python, it’s important to understand what exactly a file is and how modern operating systems handle some of their aspects.\n",
    "\n",
    "At its core, a file is a contiguous set of bytes used to store data. This data is organized in a specific format and can be anything as simple as a text file or as complicated as a program executable. In the end, these byte files are then translated into binary 1 and 0 for easier processing by the computer.\n",
    "\n",
    "Files on most modern file systems are composed of three main parts:\n",
    "- Header: metadata about the contents of the file (file name, size, type, and so on)\n",
    "- Data: contents of the file as written by the creator or editor\n",
    "- End of file (EOF): special character that indicates the end of the file"
   ]
  },
  {
   "cell_type": "markdown",
   "metadata": {},
   "source": [
    "What this data represents depends on the format specification used, which is typically represented by an extension. For example, a file that has an extension of .gif most likely conforms to the Graphics Interchange Format specification. There are hundreds, if not thousands, of file extensions out there. For this tutorial, you’ll only deal with .txt or .csv file extensions."
   ]
  },
  {
   "cell_type": "markdown",
   "metadata": {},
   "source": [
    "#### Line Endings"
   ]
  },
  {
   "cell_type": "markdown",
   "metadata": {},
   "source": [
    "One problem often encountered when working with file data is the representation of a new line or line ending. The line ending has its roots from back in the Morse Code era, when a specific pro-sign was used to communicate the end of a transmission or the end of a line.\n",
    "\n",
    "Later, this was standardized for teleprinters by both the International Organization for Standardization (ISO) and the American Standards Association (ASA). ASA standard states that line endings should use the sequence of the Carriage Return (CR or \\r) and the Line Feed (LF or \\n) characters (CR+LF or \\r\\n). The ISO standard however allowed for either the CR+LF characters or just the LF character.\n",
    "\n",
    "Windows uses the CR+LF characters to indicate a new line, while Unix and the newer Mac versions use just the LF character. This can cause some complications when you’re processing files on an operating system that is different than the file’s source. Here’s a quick example. Let’s say that we examine the file dog_breeds.txt that was created on a Windows system:"
   ]
  },
  {
   "cell_type": "markdown",
   "metadata": {},
   "source": [
    "    Pug\\r\\n\n",
    "    Jack Russell Terrier\\r\\n\n",
    "    English Springer Spaniel\\r\\n\n",
    "    German Shepherd\\r\\n\n",
    "    Staffordshire Bull Terrier\\r\\n\n",
    "    Cavalier King Charles Spaniel\\r\\n\n",
    "    Golden Retriever\\r\\n\n",
    "    West Highland White Terrier\\r\\n\n",
    "    Boxer\\r\\n\n",
    "    Border Terrier\\r\\n"
   ]
  },
  {
   "cell_type": "markdown",
   "metadata": {},
   "source": [
    "This same output will be interpreted on a Unix device differently:"
   ]
  },
  {
   "cell_type": "markdown",
   "metadata": {},
   "source": [
    "    Pug\\r\n",
    "    \\n\n",
    "    Jack Russell Terrier\\r\n",
    "    \\n\n",
    "    English Springer Spaniel\\r\n",
    "    \\n\n",
    "    German Shepherd\\r\n",
    "    \\n\n",
    "    Staffordshire Bull Terrier\\r\n",
    "    \\n\n",
    "    Cavalier King Charles Spaniel\\r\n",
    "    \\n\n",
    "    Golden Retriever\\r\n",
    "    \\n\n",
    "    West Highland White Terrier\\r\n",
    "    \\n\n",
    "    Boxer\\r\n",
    "    \\n\n",
    "    Border Terrier\\r\n",
    "    \\n"
   ]
  },
  {
   "cell_type": "markdown",
   "metadata": {},
   "source": [
    "This can make iterating over each line problematic, and you may need to account for situations like this."
   ]
  },
  {
   "cell_type": "markdown",
   "metadata": {},
   "source": [
    "#### Character Encodings"
   ]
  },
  {
   "cell_type": "markdown",
   "metadata": {},
   "source": [
    "Another common problem that you may face is the encoding of the byte data. An encoding is a translation from byte data to human readable characters. This is typically done by assigning a numerical value to represent a character. The two most common encodings are the ASCII and UNICODE Formats. ASCII can only store 128 characters, while Unicode can contain up to 1,114,112 characters.\n",
    "\n",
    "ASCII is actually a subset of Unicode (UTF-8), meaning that ASCII and Unicode share the same numerical to character values. It’s important to note that parsing a file with the incorrect character encoding can lead to failures or misrepresentation of the character. For example, if a file was created using the UTF-8 encoding, and you try to parse it using the ASCII encoding, if there is a character that is outside of those 128 values, then an error will be thrown."
   ]
  },
  {
   "cell_type": "markdown",
   "metadata": {},
   "source": [
    "### Opening and Closing a File in Python"
   ]
  },
  {
   "cell_type": "markdown",
   "metadata": {},
   "source": [
    "When you want to work with a file, the first thing to do is to open it. This is done by invoking the open() built-in function. open() has a single required argument that is the path to the file. open() has a single return, the file object:"
   ]
  },
  {
   "cell_type": "code",
   "execution_count": 1,
   "metadata": {},
   "outputs": [],
   "source": [
    "file = open('data/test.txt')"
   ]
  },
  {
   "cell_type": "markdown",
   "metadata": {},
   "source": [
    "After you open a file, the next thing to learn is how to close it."
   ]
  },
  {
   "cell_type": "markdown",
   "metadata": {},
   "source": [
    "> Warning: You should always make sure that an open file is properly closed."
   ]
  },
  {
   "cell_type": "code",
   "execution_count": 2,
   "metadata": {},
   "outputs": [],
   "source": [
    "file.close()"
   ]
  },
  {
   "cell_type": "markdown",
   "metadata": {},
   "source": [
    "It’s important to remember that it’s your responsibility to close the file. In most cases, upon termination of an application or script, a file will be closed eventually. However, there is no guarantee when exactly that will happen. This can lead to unwanted behavior including resource leaks. It’s also a best practice within Python (Pythonic) to make sure that your code behaves in a way that is well defined and reduces any unwanted behavior.\n",
    "\n",
    "When you’re manipulating a file, there are two ways that you can use to ensure that a file is closed properly, even when encountering an error. The first way to close a file is to use the try-finally block:"
   ]
  },
  {
   "cell_type": "code",
   "execution_count": 3,
   "metadata": {},
   "outputs": [],
   "source": [
    "reader = open('data/test.txt')\n",
    "try:\n",
    "    # Further file processing goes here\n",
    "    pass\n",
    "finally:\n",
    "    reader.close()"
   ]
  },
  {
   "cell_type": "markdown",
   "metadata": {},
   "source": [
    "The second way to close a file is to use the with statement:"
   ]
  },
  {
   "cell_type": "code",
   "execution_count": 4,
   "metadata": {},
   "outputs": [],
   "source": [
    "with open('data/test.txt') as reader:\n",
    "    # Further file processing goes herež\n",
    "    pass"
   ]
  },
  {
   "cell_type": "markdown",
   "metadata": {},
   "source": [
    "The with statement automatically takes care of closing the file once it leaves the with block, even in cases of error. I highly recommend that you use the with statement as much as possible, as it allows for cleaner code and makes handling any unexpected errors easier for you.\n",
    "\n",
    "Most likely, you’ll also want to use the second positional argument, mode. This argument is a string that contains multiple characters to represent how you want to open the file. The default and most common is 'r', which represents opening the file in read-only mode as a text file:"
   ]
  },
  {
   "cell_type": "code",
   "execution_count": 5,
   "metadata": {},
   "outputs": [],
   "source": [
    "with open('data/test.txt', 'r') as reader:\n",
    "    # Further file processing goes here\n",
    "    pass"
   ]
  },
  {
   "cell_type": "markdown",
   "metadata": {},
   "source": [
    "Other options for modes are fully documented online, but the most commonly used ones are the following:"
   ]
  },
  {
   "cell_type": "markdown",
   "metadata": {},
   "source": [
    "<table class=\"table table-hover\">\n",
    "<thead>\n",
    "<tr>\n",
    "<th>Character</th>\n",
    "<th>Meaning</th>\n",
    "</tr>\n",
    "</thead>\n",
    "<tbody>\n",
    "<tr>\n",
    "<td><code>'r'</code></td>\n",
    "<td>Open for reading (default)</td>\n",
    "</tr>\n",
    "<tr>\n",
    "<td><code>'w'</code></td>\n",
    "<td>Open for writing, truncating (overwriting) the file first</td>\n",
    "</tr>\n",
    "<tr>\n",
    "<td><code>'rb'</code> or <code>'wb'</code></td>\n",
    "<td>Open in binary mode (read/write using byte data)</td>\n",
    "</tr>\n",
    "</tbody>\n",
    "</table>"
   ]
  },
  {
   "cell_type": "markdown",
   "metadata": {},
   "source": [
    "[open(file, mode='r', buffering=-1, encoding=None, errors=None, newline=None, closefd=True, opener=None)](https://docs.python.org/3/library/functions.html#open)"
   ]
  },
  {
   "cell_type": "markdown",
   "metadata": {},
   "source": [
    "> mode is an optional string that specifies the mode in which the file is opened. It defaults to 'r' which means open for reading in text mode. Other common values are 'w' for writing (truncating the file if it already exists), 'x' for exclusive creation and 'a' for appending (which on some Unix systems, means that all writes append to the end of the file regardless of the current seek position). In text mode, if encoding is not specified the encoding used is platform dependent: locale.getpreferredencoding(False) is called to get the current locale encoding. (For reading and writing raw bytes use binary mode and leave encoding unspecified.) The available modes are:"
   ]
  },
  {
   "cell_type": "markdown",
   "metadata": {},
   "source": [
    "<table class=\"docutils align-default\" id=\"index-5\">\n",
    "<colgroup>\n",
    "<col style=\"width: 13%\">\n",
    "<col style=\"width: 88%\">\n",
    "</colgroup>\n",
    "<thead>\n",
    "<tr class=\"row-odd\"><th class=\"head\"><p>Character</p></th>\n",
    "<th class=\"head\"><p>Meaning</p></th>\n",
    "</tr>\n",
    "</thead>\n",
    "<tbody>\n",
    "<tr class=\"row-even\"><td><p><code class=\"docutils literal notranslate\"><span class=\"pre\">'r'</span></code></p></td>\n",
    "<td><p>open for reading (default)</p></td>\n",
    "</tr>\n",
    "<tr class=\"row-odd\"><td><p><code class=\"docutils literal notranslate\"><span class=\"pre\">'w'</span></code></p></td>\n",
    "<td><p>open for writing, truncating the file first</p></td>\n",
    "</tr>\n",
    "<tr class=\"row-even\"><td><p><code class=\"docutils literal notranslate\"><span class=\"pre\">'x'</span></code></p></td>\n",
    "<td><p>open for exclusive creation, failing if the file already exists</p></td>\n",
    "</tr>\n",
    "<tr class=\"row-odd\"><td><p><code class=\"docutils literal notranslate\"><span class=\"pre\">'a'</span></code></p></td>\n",
    "<td><p>open for writing, appending to the end of the file if it exists</p></td>\n",
    "</tr>\n",
    "<tr class=\"row-even\"><td><p><code class=\"docutils literal notranslate\"><span class=\"pre\">'b'</span></code></p></td>\n",
    "<td><p>binary mode</p></td>\n",
    "</tr>\n",
    "<tr class=\"row-odd\"><td><p><code class=\"docutils literal notranslate\"><span class=\"pre\">'t'</span></code></p></td>\n",
    "<td><p>text mode (default)</p></td>\n",
    "</tr>\n",
    "<tr class=\"row-even\"><td><p><code class=\"docutils literal notranslate\"><span class=\"pre\">'+'</span></code></p></td>\n",
    "<td><p>open for updating (reading and writing)</p></td>\n",
    "</tr>\n",
    "</tbody>\n",
    "</table>"
   ]
  },
  {
   "cell_type": "markdown",
   "metadata": {},
   "source": [
    "Let’s go back and talk a little about file objects. A file object is:"
   ]
  },
  {
   "cell_type": "markdown",
   "metadata": {},
   "source": [
    "> “an object exposing a file-oriented API (with methods such as read() or write()) to an underlying resource.” (Source)"
   ]
  },
  {
   "cell_type": "markdown",
   "metadata": {},
   "source": [
    "There are three different categories of file objects:\n",
    "- Text files\n",
    "- Buffered binary files\n",
    "- Raw binary files\n",
    "\n",
    "Each of these file types are defined in the io module. Here’s a quick rundown of how everything lines up.\n"
   ]
  },
  {
   "cell_type": "markdown",
   "metadata": {},
   "source": [
    "#### Text File Types"
   ]
  },
  {
   "cell_type": "markdown",
   "metadata": {},
   "source": [
    "A text file is the most common file that you’ll encounter. Here are some examples of how these files are opened:"
   ]
  },
  {
   "cell_type": "markdown",
   "metadata": {},
   "source": [
    "    open('abc.txt')\n",
    "\n",
    "    open('abc.txt', 'r')\n",
    "\n",
    "    open('abc.txt', 'w')"
   ]
  },
  {
   "cell_type": "markdown",
   "metadata": {},
   "source": [
    "With these types of files, open() will return a TextIOWrapper file object:"
   ]
  },
  {
   "cell_type": "code",
   "execution_count": 6,
   "metadata": {},
   "outputs": [
    {
     "name": "stdout",
     "output_type": "stream",
     "text": [
      "<class '_io.TextIOWrapper'>\n"
     ]
    }
   ],
   "source": [
    "with open('data/test.txt') as file:\n",
    "    print(type(file))"
   ]
  },
  {
   "cell_type": "markdown",
   "metadata": {},
   "source": [
    "This is the default file object returned by open()."
   ]
  },
  {
   "cell_type": "markdown",
   "metadata": {},
   "source": [
    "> Text I/O expects and produces str objects. This means that whenever the backing store is natively made of bytes (such as in the case of a file), encoding and decoding of data is made transparently as well as optional translation of platform-specific newline characters."
   ]
  },
  {
   "cell_type": "markdown",
   "metadata": {},
   "source": [
    "#### More about encodings"
   ]
  },
  {
   "cell_type": "markdown",
   "metadata": {},
   "source": [
    "You need to read or write text data, possibly in different text encodings such as ASCII, UTF-8, or UTF-16."
   ]
  },
  {
   "cell_type": "markdown",
   "metadata": {},
   "source": [
    "By default, files are read/written using the system default text encoding, as can be found\n",
    "in sys.getdefaultencoding(). On most machines, this is set to utf-8. If you know\n",
    "that the text you are reading or writing is in a different encoding, supply the optional\n",
    "encoding parameter to open(). For example:"
   ]
  },
  {
   "cell_type": "code",
   "execution_count": 7,
   "metadata": {},
   "outputs": [
    {
     "data": {
      "text/plain": [
       "'utf-8'"
      ]
     },
     "execution_count": 7,
     "metadata": {},
     "output_type": "execute_result"
    }
   ],
   "source": [
    "import sys\n",
    "sys.getdefaultencoding()"
   ]
  },
  {
   "cell_type": "markdown",
   "metadata": {},
   "source": [
    "Python understands several hundred possible text encodings. However, some of the\n",
    "more common encodings are ascii, latin-1, utf-8, and utf-16. UTF-8 is usually a\n",
    "safe bet if working with web applications. ascii corresponds to the 7-bit characters in\n",
    "the range U+0000 to U+007F. latin-1 is a direct mapping of bytes 0-255 to Unicode\n",
    "characters U+0000 to U+00FF. latin-1 encoding is notable in that it will never produce\n",
    "a decoding error when reading text of a possibly unknown encoding. Reading a file as\n",
    "latin-1 might not produce a completely correct text decoding, but it still might be\n",
    "enough to extract useful data out of it. Also, if you later write the data back out, the\n",
    "original input data will be preserved."
   ]
  },
  {
   "cell_type": "markdown",
   "metadata": {},
   "source": [
    "> encoding is the name of the encoding used to decode or encode the file. This should only be used in text mode. The default encoding is platform dependent (whatever locale.getpreferredencoding() returns), but any text encoding supported by Python can be used. See the codecs module for the list of supported encodings."
   ]
  },
  {
   "cell_type": "markdown",
   "metadata": {},
   "source": [
    "#### More open() function arguments"
   ]
  },
  {
   "cell_type": "markdown",
   "metadata": {},
   "source": [
    "Another minor complication concerns the recognition of newlines, which are different\n",
    "on Unix and Windows (i.e., \\n versus \\r\\n). By default, Python operates in what’s known\n",
    "as “universal newline” mode. In this mode, all common newline conventions are recognized,\n",
    "and newline characters are converted to a single \\n character while reading.\n",
    "Similarly, the newline character \\n is converted to the system default newline character on output. If you don’t want this translation, supply the newline='' argument to\n",
    "open(), like this:"
   ]
  },
  {
   "cell_type": "code",
   "execution_count": 2,
   "metadata": {},
   "outputs": [],
   "source": [
    "# Read with disabled newline translation\n",
    "with open('data/test.txt', 'rt', newline='') as f:\n",
    "    pass"
   ]
  },
  {
   "cell_type": "markdown",
   "metadata": {},
   "source": [
    "> newline controls how universal newlines mode works (it only applies to text mode). It can be None, '', '\\n', '\\r', and '\\r\\n'. It works as follows:\n",
    "- When reading input from the stream, if newline is None, universal newlines mode is enabled. Lines in the input can end in '\\n', '\\r', or '\\r\\n', and these are translated into '\\n' before being returned to the caller. If it is '', universal newlines mode is enabled, but line endings are returned to the caller untranslated. If it has any of the other legal values, input lines are only terminated by the given string, and the line ending is returned to the caller untranslated.\n",
    "- When writing output to the stream, if newline is None, any '\\n' characters written are translated to the system default line separator, os.linesep. If newline is '' or '\\n', no translation takes place. If newline is any of the other legal values, any '\\n' characters written are translated to the given string."
   ]
  },
  {
   "cell_type": "markdown",
   "metadata": {},
   "source": [
    "A final issue concerns possible encoding errors in text files. When reading or writing a\n",
    "text file, you might encounter an encoding or decoding error. For instance:"
   ]
  },
  {
   "cell_type": "code",
   "execution_count": 14,
   "metadata": {},
   "outputs": [
    {
     "name": "stdout",
     "output_type": "stream",
     "text": [
      "16\n"
     ]
    }
   ],
   "source": [
    "with open('data/ascii_read.txt', 'wt', encoding='utf-16') as f:\n",
    "    print(f.write('Test sfsfr refef'))"
   ]
  },
  {
   "cell_type": "code",
   "execution_count": 15,
   "metadata": {},
   "outputs": [
    {
     "ename": "UnicodeDecodeError",
     "evalue": "'ascii' codec can't decode byte 0xff in position 0: ordinal not in range(128)",
     "output_type": "error",
     "traceback": [
      "\u001b[0;31m---------------------------------------------------------------------------\u001b[0m",
      "\u001b[0;31mUnicodeDecodeError\u001b[0m                        Traceback (most recent call last)",
      "Input \u001b[0;32mIn [15]\u001b[0m, in \u001b[0;36m<cell line: 1>\u001b[0;34m()\u001b[0m\n\u001b[1;32m      1\u001b[0m \u001b[38;5;28;01mwith\u001b[39;00m \u001b[38;5;28mopen\u001b[39m(\u001b[38;5;124m'\u001b[39m\u001b[38;5;124mdata/ascii_read.txt\u001b[39m\u001b[38;5;124m'\u001b[39m, \u001b[38;5;124m'\u001b[39m\u001b[38;5;124mrt\u001b[39m\u001b[38;5;124m'\u001b[39m, encoding\u001b[38;5;241m=\u001b[39m\u001b[38;5;124m'\u001b[39m\u001b[38;5;124mascii\u001b[39m\u001b[38;5;124m'\u001b[39m) \u001b[38;5;28;01mas\u001b[39;00m f:\n\u001b[0;32m----> 2\u001b[0m     \u001b[38;5;28mprint\u001b[39m(\u001b[43mf\u001b[49m\u001b[38;5;241;43m.\u001b[39;49m\u001b[43mread\u001b[49m\u001b[43m(\u001b[49m\u001b[43m)\u001b[49m)\n",
      "File \u001b[0;32m~/.pyenv/versions/3.9.12/lib/python3.9/encodings/ascii.py:26\u001b[0m, in \u001b[0;36mIncrementalDecoder.decode\u001b[0;34m(self, input, final)\u001b[0m\n\u001b[1;32m     25\u001b[0m \u001b[38;5;28;01mdef\u001b[39;00m \u001b[38;5;21mdecode\u001b[39m(\u001b[38;5;28mself\u001b[39m, \u001b[38;5;28minput\u001b[39m, final\u001b[38;5;241m=\u001b[39m\u001b[38;5;28;01mFalse\u001b[39;00m):\n\u001b[0;32m---> 26\u001b[0m     \u001b[38;5;28;01mreturn\u001b[39;00m \u001b[43mcodecs\u001b[49m\u001b[38;5;241;43m.\u001b[39;49m\u001b[43mascii_decode\u001b[49m\u001b[43m(\u001b[49m\u001b[38;5;28;43minput\u001b[39;49m\u001b[43m,\u001b[49m\u001b[43m \u001b[49m\u001b[38;5;28;43mself\u001b[39;49m\u001b[38;5;241;43m.\u001b[39;49m\u001b[43merrors\u001b[49m\u001b[43m)\u001b[49m[\u001b[38;5;241m0\u001b[39m]\n",
      "\u001b[0;31mUnicodeDecodeError\u001b[0m: 'ascii' codec can't decode byte 0xff in position 0: ordinal not in range(128)"
     ]
    }
   ],
   "source": [
    "with open('data/ascii_read.txt', 'rt', encoding='ascii') as f:\n",
    "    print(f.read())"
   ]
  },
  {
   "cell_type": "markdown",
   "metadata": {},
   "source": [
    "If you get this error, it usually means that you’re not reading the file in the correct\n",
    "encoding. You should carefully read the specification of whatever it is that you’re reading\n",
    "and check that you’re doing it right (e.g., reading data as UTF-8 instead of Latin-1 or\n",
    "whatever it needs to be). If encoding errors are still a possibility, you can supply an\n",
    "optional errors argument to open() to deal with the errors. Here are a few samples of\n",
    "common error handling schemes:"
   ]
  },
  {
   "cell_type": "code",
   "execution_count": 16,
   "metadata": {},
   "outputs": [
    {
     "name": "stdout",
     "output_type": "stream",
     "text": [
      "��T\u0000e\u0000s\u0000t\u0000 \u0000s\u0000f\u0000s\u0000f\u0000r\u0000 \u0000r\u0000e\u0000f\u0000e\u0000f\u0000\n"
     ]
    }
   ],
   "source": [
    "# Replace bad chars with Unicode U+fffd replacement char\n",
    "with open('data/ascii_read.txt', 'rt', encoding='ascii', errors='replace') as f:\n",
    "    print(f.read())"
   ]
  },
  {
   "cell_type": "code",
   "execution_count": 17,
   "metadata": {},
   "outputs": [
    {
     "name": "stdout",
     "output_type": "stream",
     "text": [
      "T\u0000e\u0000s\u0000t\u0000 \u0000s\u0000f\u0000s\u0000f\u0000r\u0000 \u0000r\u0000e\u0000f\u0000e\u0000f\u0000\n"
     ]
    }
   ],
   "source": [
    "# Ignore bad chars entirely\n",
    "with open('data/ascii_read.txt', 'rt', encoding='ascii', errors='ignore') as f:\n",
    "    print(f.read())"
   ]
  },
  {
   "cell_type": "markdown",
   "metadata": {},
   "source": [
    "> errors is an optional string that specifies how encoding and decoding errors are to be handled—this cannot be used in binary mode. A variety of standard error handlers are available (listed under Error Handlers), though any error handling name that has been registered with codecs.register_error() is also valid. The standard names include:\n",
    "- 'strict' to raise a ValueError exception if there is an encoding error. The default value of None has the same effect.\n",
    "- 'ignore' ignores errors. Note that ignoring encoding errors can lead to data loss.\n",
    "- 'replace' causes a replacement marker (such as '?') to be inserted where there is malformed data."
   ]
  },
  {
   "cell_type": "markdown",
   "metadata": {},
   "source": [
    "If you’re constantly fiddling with the encoding and errors arguments to open() and\n",
    "doing lots of hacks, you’re probably making life more difficult than it needs to be. The\n",
    "number one rule with text is that you simply need to make sure you’re always using the\n",
    "proper text encoding. When in doubt, use the default setting (typically UTF-8)."
   ]
  },
  {
   "cell_type": "markdown",
   "metadata": {},
   "source": [
    "**Buffering is an optional integer** used to set the buffering policy. Pass 0 to switch buffering off (only allowed in binary mode), 1 to select line buffering (only usable in text mode), and an integer > 1 to indicate the size in bytes of a fixed-size chunk buffer. When no buffering argument is given, the default buffering policy works as follows:\n",
    "- Binary files are buffered in fixed-size chunks; the size of the buffer is chosen using a heuristic trying to determine the underlying device’s “block size” and falling back on io.DEFAULT_BUFFER_SIZE. On many systems, the buffer will typically be 4096 or 8192 bytes long.\n",
    "- “Interactive” text files (files for which isatty() returns True) use line buffering. Other text files use the policy described above for binary files."
   ]
  },
  {
   "cell_type": "markdown",
   "metadata": {},
   "source": [
    "There's typically two levels of buffering involved:\n",
    "- Internal buffers\n",
    "- Operating system buffers\n",
    "\n",
    "The internal buffers are buffers created by the runtime/library/language that you're programming against and is meant to speed things up by avoiding system calls for every write. Instead, when you write to a file object, you write into its buffer, and whenever the buffer fills up, the data is written to the actual file using system calls.\n",
    "\n",
    "However, due to the operating system buffers, this might not mean that the data is written to disk. It may just mean that the data is copied from the buffers maintained by your runtime into the buffers maintained by the operating system.\n",
    "\n",
    "If you write something, and it ends up in the buffer (only), and the power is cut to your machine, that data is not on disk when the machine turns off.\n",
    "\n",
    "So, in order to help with that you have the flush and fsync methods, on their respective objects.\n",
    "\n",
    "The first, `flush`, will simply write out any data that lingers in a program buffer to the actual file. Typically this means that the data will be copied from the program buffer to the operating system buffer.\n",
    "\n",
    "Specifically what this means is that if another process has that same file open for reading, it will be able to access the data you just flushed to the file. However, it does not necessarily mean it has been \"permanently\" stored on disk.\n",
    "\n",
    "To do that, you need to call the `os.fsync` method which ensures all operating system buffers are synchronized with the storage devices they're for, in other words, that method will copy data from the operating system buffers to the disk.\n",
    "\n",
    "Typically you don't need to bother with either method, but if you're in a scenario where paranoia about what actually ends up on disk is a good thing, you should make both calls as instructed."
   ]
  },
  {
   "cell_type": "markdown",
   "metadata": {},
   "source": [
    "- `os.fsync(fd)`: Force write of file with filedescriptor fd to disk. On Unix, this calls the native fsync() function; on Windows, the MS _commit() function. If you’re starting with a buffered Python file object f, first do f.flush(), and then do os.fsync(f.fileno()), to ensure that all internal buffers associated with f are written to disk."
   ]
  },
  {
   "cell_type": "markdown",
   "metadata": {},
   "source": [
    "### Reading and Writing Opened Files"
   ]
  },
  {
   "cell_type": "markdown",
   "metadata": {},
   "source": [
    "Once you’ve opened up a file, you’ll want to read or write to the file. First off, let’s cover reading a file. There are multiple methods that can be called on a file object to help you out:"
   ]
  },
  {
   "cell_type": "markdown",
   "metadata": {},
   "source": [
    "<div class=\"table-responsive\">\n",
    "<table class=\"table table-hover\">\n",
    "<thead>\n",
    "<tr>\n",
    "<th>Method</th>\n",
    "<th>What It Does</th>\n",
    "</tr>\n",
    "</thead>\n",
    "<tbody>\n",
    "<tr>\n",
    "<td><a href=\"https://docs.python.org/3.7/library/io.html#io.RawIOBase.read\"><code>.read(size=-1)</code></a></td>\n",
    "<td>This reads from the file based on the number of <code>size</code> bytes. If no argument is passed or <code>None</code> or <code>-1</code> is passed, then the entire file is read.</td>\n",
    "</tr>\n",
    "<tr>\n",
    "<td><a href=\"https://docs.python.org/3.7/library/io.html#io.IOBase.readline\"><code>.readline(size=-1)</code></a></td>\n",
    "<td>This reads at most <code>size</code> number of characters from the line. This continues to the end of the line and then wraps back around. If no argument is passed or <code>None</code> or <code>-1</code> is passed, then the entire line (or rest of the line) is read.</td>\n",
    "</tr>\n",
    "<tr>\n",
    "<td><a href=\"https://docs.python.org/3.7/library/io.html#io.IOBase.readlines\"><code>.readlines()</code></a></td>\n",
    "<td>This reads the remaining lines from the file object and returns them as a list.</td>\n",
    "</tr>\n",
    "</tbody>\n",
    "</table>\n",
    "</div>"
   ]
  },
  {
   "cell_type": "markdown",
   "metadata": {},
   "source": [
    "Using the same dog_breeds.txt file you used above, let’s go through some examples of how to use these methods. Here’s an example of how to open and read the entire file using .read():"
   ]
  },
  {
   "cell_type": "code",
   "execution_count": 18,
   "metadata": {},
   "outputs": [
    {
     "name": "stdout",
     "output_type": "stream",
     "text": [
      "03/22 08:51:06 INFO   :.....mailslot_create: creating mailslot for RSVP\n",
      "03/22 08:51:06 INFO   :....mailbox_register: mailbox allocated for rsvp\n",
      "03/22 08:51:06 INFO   :.....mailslot_create: creating mailslot for RSVP via UDP\n",
      "03/22 08:51:06 INFO   :....mailbox_register: mailbox allocated for rsvp-udp\n",
      "03/22 08:51:06 TRACE  :..entity_initialize: interface 127.0.0.1, entity for rsvp allocated and initialized\n",
      "03/22 08:51:06 INFO   :......mailslot_create: creating socket for querying route\n",
      "03/22 08:51:06 INFO   :.....mailbox_register: no mailbox necessary for forward\n",
      "03/22 08:51:06 INFO   :......mailslot_create: creating mailslot for route engine - informational socket\n",
      "03/22 08:51:06 TRACE  :......mailslot_create: ready to accept informational socket connection\n",
      "03/22 08:51:11 INFO   :.....mailbox_register: mailbox allocated for route\n",
      "03/22 08:51:11 INFO   :.....mailslot_create: creating socket for traffic control module\n",
      "03/22 08:51:11 INFO   :....mailbox_register: no mailbox necessary for traffic-control\n",
      "03/22 08:51:11 INFO   :....mailslot_create: creating mailslot for RSVP client API\n",
      "03/22 08:51:11 INFO   :...mailbox_register: mailbox allocated for rsvp-api\n",
      "03/22 08:51:11 INFO   :...mailslot_create: creating mailslot for terminate\n",
      "03/22 08:51:11 INFO   :..mailbox_register: mailbox allocated for terminate\n",
      "03/22 08:51:11 INFO   :...mailslot_create: creating mailslot for dump\n",
      "03/22 08:51:11 INFO   :..mailbox_register: mailbox allocated for dump\n",
      "03/22 08:51:11 INFO   :...mailslot_create: creating mailslot for (broken) pipe\n",
      "03/22 08:51:11 INFO   :..mailbox_register: mailbox allocated for pipe\n"
     ]
    }
   ],
   "source": [
    "with open('data/test.txt', 'r') as reader:\n",
    "    # Read & print the entire file\n",
    "    print(reader.read())"
   ]
  },
  {
   "cell_type": "markdown",
   "metadata": {},
   "source": [
    "Here’s an example of how to read 5 bytes of a line each time using the Python .readline() method:"
   ]
  },
  {
   "cell_type": "code",
   "execution_count": 19,
   "metadata": {},
   "outputs": [
    {
     "name": "stdout",
     "output_type": "stream",
     "text": [
      "03/22\n",
      " 08:5\n",
      "1:06 \n",
      "INFO \n",
      "  :..\n"
     ]
    }
   ],
   "source": [
    "with open('data/test.txt', 'r') as reader:\n",
    "    # Read & print the first 5 characters of the line 5 times\n",
    "    print(reader.readline(5))\n",
    "    # Notice that line is greater than the 5 chars and continues\n",
    "    # down the line, reading 5 chars each time until the end of the\n",
    "    # line and then \"wraps\" around\n",
    "    print(reader.readline(5))\n",
    "    print(reader.readline(5))\n",
    "    print(reader.readline(5))\n",
    "    print(reader.readline(5))"
   ]
  },
  {
   "cell_type": "markdown",
   "metadata": {},
   "source": [
    "Here’s an example of how to read the entire file as a list using the Python .readlines() method:"
   ]
  },
  {
   "cell_type": "code",
   "execution_count": 20,
   "metadata": {},
   "outputs": [
    {
     "name": "stdout",
     "output_type": "stream",
     "text": [
      "['03/22 08:51:06 INFO   :.....mailslot_create: creating mailslot for RSVP\\n', '03/22 08:51:06 INFO   :....mailbox_register: mailbox allocated for rsvp\\n', '03/22 08:51:06 INFO   :.....mailslot_create: creating mailslot for RSVP via UDP\\n', '03/22 08:51:06 INFO   :....mailbox_register: mailbox allocated for rsvp-udp\\n', '03/22 08:51:06 TRACE  :..entity_initialize: interface 127.0.0.1, entity for rsvp allocated and initialized\\n', '03/22 08:51:06 INFO   :......mailslot_create: creating socket for querying route\\n', '03/22 08:51:06 INFO   :.....mailbox_register: no mailbox necessary for forward\\n', '03/22 08:51:06 INFO   :......mailslot_create: creating mailslot for route engine - informational socket\\n', '03/22 08:51:06 TRACE  :......mailslot_create: ready to accept informational socket connection\\n', '03/22 08:51:11 INFO   :.....mailbox_register: mailbox allocated for route\\n', '03/22 08:51:11 INFO   :.....mailslot_create: creating socket for traffic control module\\n', '03/22 08:51:11 INFO   :....mailbox_register: no mailbox necessary for traffic-control\\n', '03/22 08:51:11 INFO   :....mailslot_create: creating mailslot for RSVP client API\\n', '03/22 08:51:11 INFO   :...mailbox_register: mailbox allocated for rsvp-api\\n', '03/22 08:51:11 INFO   :...mailslot_create: creating mailslot for terminate\\n', '03/22 08:51:11 INFO   :..mailbox_register: mailbox allocated for terminate\\n', '03/22 08:51:11 INFO   :...mailslot_create: creating mailslot for dump\\n', '03/22 08:51:11 INFO   :..mailbox_register: mailbox allocated for dump\\n', '03/22 08:51:11 INFO   :...mailslot_create: creating mailslot for (broken) pipe\\n', '03/22 08:51:11 INFO   :..mailbox_register: mailbox allocated for pipe']\n"
     ]
    }
   ],
   "source": [
    "with open('data/test.txt', 'r') as f:\n",
    "    data = f.readlines()  # Returns a list object\n",
    "    print(data)"
   ]
  },
  {
   "cell_type": "markdown",
   "metadata": {},
   "source": [
    "The above example can also be done by using list() to create a list out of the file object:"
   ]
  },
  {
   "cell_type": "code",
   "execution_count": 21,
   "metadata": {},
   "outputs": [
    {
     "name": "stdout",
     "output_type": "stream",
     "text": [
      "['03/22 08:51:06 INFO   :.....mailslot_create: creating mailslot for RSVP\\n', '03/22 08:51:06 INFO   :....mailbox_register: mailbox allocated for rsvp\\n', '03/22 08:51:06 INFO   :.....mailslot_create: creating mailslot for RSVP via UDP\\n', '03/22 08:51:06 INFO   :....mailbox_register: mailbox allocated for rsvp-udp\\n', '03/22 08:51:06 TRACE  :..entity_initialize: interface 127.0.0.1, entity for rsvp allocated and initialized\\n', '03/22 08:51:06 INFO   :......mailslot_create: creating socket for querying route\\n', '03/22 08:51:06 INFO   :.....mailbox_register: no mailbox necessary for forward\\n', '03/22 08:51:06 INFO   :......mailslot_create: creating mailslot for route engine - informational socket\\n', '03/22 08:51:06 TRACE  :......mailslot_create: ready to accept informational socket connection\\n', '03/22 08:51:11 INFO   :.....mailbox_register: mailbox allocated for route\\n', '03/22 08:51:11 INFO   :.....mailslot_create: creating socket for traffic control module\\n', '03/22 08:51:11 INFO   :....mailbox_register: no mailbox necessary for traffic-control\\n', '03/22 08:51:11 INFO   :....mailslot_create: creating mailslot for RSVP client API\\n', '03/22 08:51:11 INFO   :...mailbox_register: mailbox allocated for rsvp-api\\n', '03/22 08:51:11 INFO   :...mailslot_create: creating mailslot for terminate\\n', '03/22 08:51:11 INFO   :..mailbox_register: mailbox allocated for terminate\\n', '03/22 08:51:11 INFO   :...mailslot_create: creating mailslot for dump\\n', '03/22 08:51:11 INFO   :..mailbox_register: mailbox allocated for dump\\n', '03/22 08:51:11 INFO   :...mailslot_create: creating mailslot for (broken) pipe\\n', '03/22 08:51:11 INFO   :..mailbox_register: mailbox allocated for pipe']\n"
     ]
    }
   ],
   "source": [
    "with open('data/test.txt', 'r') as f:\n",
    "    data = list(f)\n",
    "    print(data)"
   ]
  },
  {
   "cell_type": "markdown",
   "metadata": {},
   "source": [
    "#### Iterating Over Each Line in the File"
   ]
  },
  {
   "cell_type": "markdown",
   "metadata": {},
   "source": [
    "> Note: Looping over lines in a text file preserves their own newline characters, which combined with the print() function’s default behavior will result in a redundant newline character. There are two newlines after each line of text. You want to strip one of the them, as shown earlier in this article, before printing the line:"
   ]
  },
  {
   "cell_type": "markdown",
   "metadata": {},
   "source": [
    "    print(line.rstrip())"
   ]
  },
  {
   "cell_type": "markdown",
   "metadata": {},
   "source": [
    "Alternatively, you can keep the newline in the content but suppress the one appended by print() automatically. You’d use the end keyword argument to do that:\n",
    "\n"
   ]
  },
  {
   "cell_type": "markdown",
   "metadata": {},
   "source": [
    "    print(line, end='')"
   ]
  },
  {
   "cell_type": "markdown",
   "metadata": {},
   "source": [
    "<hr>"
   ]
  },
  {
   "cell_type": "markdown",
   "metadata": {},
   "source": [
    "A common thing to do while reading a file is to iterate over each line. Here’s an example of how to use the Python .readline() method to perform that iteration:"
   ]
  },
  {
   "cell_type": "code",
   "execution_count": 22,
   "metadata": {},
   "outputs": [
    {
     "name": "stdout",
     "output_type": "stream",
     "text": [
      "03/22 08:51:06 INFO   :.....mailslot_create: creating mailslot for RSVP\n",
      "03/22 08:51:06 INFO   :....mailbox_register: mailbox allocated for rsvp\n",
      "03/22 08:51:06 INFO   :.....mailslot_create: creating mailslot for RSVP via UDP\n",
      "03/22 08:51:06 INFO   :....mailbox_register: mailbox allocated for rsvp-udp\n",
      "03/22 08:51:06 TRACE  :..entity_initialize: interface 127.0.0.1, entity for rsvp allocated and initialized\n",
      "03/22 08:51:06 INFO   :......mailslot_create: creating socket for querying route\n",
      "03/22 08:51:06 INFO   :.....mailbox_register: no mailbox necessary for forward\n",
      "03/22 08:51:06 INFO   :......mailslot_create: creating mailslot for route engine - informational socket\n",
      "03/22 08:51:06 TRACE  :......mailslot_create: ready to accept informational socket connection\n",
      "03/22 08:51:11 INFO   :.....mailbox_register: mailbox allocated for route\n",
      "03/22 08:51:11 INFO   :.....mailslot_create: creating socket for traffic control module\n",
      "03/22 08:51:11 INFO   :....mailbox_register: no mailbox necessary for traffic-control\n",
      "03/22 08:51:11 INFO   :....mailslot_create: creating mailslot for RSVP client API\n",
      "03/22 08:51:11 INFO   :...mailbox_register: mailbox allocated for rsvp-api\n",
      "03/22 08:51:11 INFO   :...mailslot_create: creating mailslot for terminate\n",
      "03/22 08:51:11 INFO   :..mailbox_register: mailbox allocated for terminate\n",
      "03/22 08:51:11 INFO   :...mailslot_create: creating mailslot for dump\n",
      "03/22 08:51:11 INFO   :..mailbox_register: mailbox allocated for dump\n",
      "03/22 08:51:11 INFO   :...mailslot_create: creating mailslot for (broken) pipe\n",
      "03/22 08:51:11 INFO   :..mailbox_register: mailbox allocated for pipe"
     ]
    }
   ],
   "source": [
    "with open('data/test.txt', 'r') as reader:\n",
    "    # Read and print the entire file line by line\n",
    "    line = reader.readline()\n",
    "    while line != '':  # The EOF char is an empty string\n",
    "        print(line, end='')\n",
    "        line = reader.readline()"
   ]
  },
  {
   "cell_type": "markdown",
   "metadata": {},
   "source": [
    "Another way you could iterate over each line in the file is to use the Python .readlines() method of the file object. Remember, .readlines() returns a list where each element in the list represents a line in the file:"
   ]
  },
  {
   "cell_type": "code",
   "execution_count": 23,
   "metadata": {},
   "outputs": [
    {
     "name": "stdout",
     "output_type": "stream",
     "text": [
      "03/22 08:51:06 INFO   :.....mailslot_create: creating mailslot for RSVP\n",
      "03/22 08:51:06 INFO   :....mailbox_register: mailbox allocated for rsvp\n",
      "03/22 08:51:06 INFO   :.....mailslot_create: creating mailslot for RSVP via UDP\n",
      "03/22 08:51:06 INFO   :....mailbox_register: mailbox allocated for rsvp-udp\n",
      "03/22 08:51:06 TRACE  :..entity_initialize: interface 127.0.0.1, entity for rsvp allocated and initialized\n",
      "03/22 08:51:06 INFO   :......mailslot_create: creating socket for querying route\n",
      "03/22 08:51:06 INFO   :.....mailbox_register: no mailbox necessary for forward\n",
      "03/22 08:51:06 INFO   :......mailslot_create: creating mailslot for route engine - informational socket\n",
      "03/22 08:51:06 TRACE  :......mailslot_create: ready to accept informational socket connection\n",
      "03/22 08:51:11 INFO   :.....mailbox_register: mailbox allocated for route\n",
      "03/22 08:51:11 INFO   :.....mailslot_create: creating socket for traffic control module\n",
      "03/22 08:51:11 INFO   :....mailbox_register: no mailbox necessary for traffic-control\n",
      "03/22 08:51:11 INFO   :....mailslot_create: creating mailslot for RSVP client API\n",
      "03/22 08:51:11 INFO   :...mailbox_register: mailbox allocated for rsvp-api\n",
      "03/22 08:51:11 INFO   :...mailslot_create: creating mailslot for terminate\n",
      "03/22 08:51:11 INFO   :..mailbox_register: mailbox allocated for terminate\n",
      "03/22 08:51:11 INFO   :...mailslot_create: creating mailslot for dump\n",
      "03/22 08:51:11 INFO   :..mailbox_register: mailbox allocated for dump\n",
      "03/22 08:51:11 INFO   :...mailslot_create: creating mailslot for (broken) pipe\n",
      "03/22 08:51:11 INFO   :..mailbox_register: mailbox allocated for pipe"
     ]
    }
   ],
   "source": [
    "with open('data/test.txt', 'r') as reader:\n",
    "    for line in reader.readlines():\n",
    "        print(line, end='')"
   ]
  },
  {
   "cell_type": "markdown",
   "metadata": {},
   "source": [
    "However, the above examples can be further simplified by iterating over the file object itself:"
   ]
  },
  {
   "cell_type": "code",
   "execution_count": 24,
   "metadata": {},
   "outputs": [
    {
     "name": "stdout",
     "output_type": "stream",
     "text": [
      "03/22 08:51:06 INFO   :.....mailslot_create: creating mailslot for RSVP\n",
      "03/22 08:51:06 INFO   :....mailbox_register: mailbox allocated for rsvp\n",
      "03/22 08:51:06 INFO   :.....mailslot_create: creating mailslot for RSVP via UDP\n",
      "03/22 08:51:06 INFO   :....mailbox_register: mailbox allocated for rsvp-udp\n",
      "03/22 08:51:06 TRACE  :..entity_initialize: interface 127.0.0.1, entity for rsvp allocated and initialized\n",
      "03/22 08:51:06 INFO   :......mailslot_create: creating socket for querying route\n",
      "03/22 08:51:06 INFO   :.....mailbox_register: no mailbox necessary for forward\n",
      "03/22 08:51:06 INFO   :......mailslot_create: creating mailslot for route engine - informational socket\n",
      "03/22 08:51:06 TRACE  :......mailslot_create: ready to accept informational socket connection\n",
      "03/22 08:51:11 INFO   :.....mailbox_register: mailbox allocated for route\n",
      "03/22 08:51:11 INFO   :.....mailslot_create: creating socket for traffic control module\n",
      "03/22 08:51:11 INFO   :....mailbox_register: no mailbox necessary for traffic-control\n",
      "03/22 08:51:11 INFO   :....mailslot_create: creating mailslot for RSVP client API\n",
      "03/22 08:51:11 INFO   :...mailbox_register: mailbox allocated for rsvp-api\n",
      "03/22 08:51:11 INFO   :...mailslot_create: creating mailslot for terminate\n",
      "03/22 08:51:11 INFO   :..mailbox_register: mailbox allocated for terminate\n",
      "03/22 08:51:11 INFO   :...mailslot_create: creating mailslot for dump\n",
      "03/22 08:51:11 INFO   :..mailbox_register: mailbox allocated for dump\n",
      "03/22 08:51:11 INFO   :...mailslot_create: creating mailslot for (broken) pipe\n",
      "03/22 08:51:11 INFO   :..mailbox_register: mailbox allocated for pipe"
     ]
    }
   ],
   "source": [
    "with open('data/test.txt', 'r') as reader:\n",
    "    for line in reader:\n",
    "        print(line, end='')"
   ]
  },
  {
   "cell_type": "markdown",
   "metadata": {},
   "source": [
    "This final approach is more Pythonic and can be quicker and more memory efficient. Therefore, it is suggested you use this instead."
   ]
  },
  {
   "cell_type": "markdown",
   "metadata": {},
   "source": [
    "#### Writing lines"
   ]
  },
  {
   "cell_type": "markdown",
   "metadata": {},
   "source": [
    "Now let’s dive into writing files. As with reading files, file objects have multiple methods that are useful for writing to a file:"
   ]
  },
  {
   "cell_type": "markdown",
   "metadata": {},
   "source": [
    "<div class=\"table-responsive\">\n",
    "<table class=\"table table-hover\">\n",
    "<thead>\n",
    "<tr>\n",
    "<th>Method</th>\n",
    "<th>What It Does</th>\n",
    "</tr>\n",
    "</thead>\n",
    "<tbody>\n",
    "<tr>\n",
    "<td><code>.write(string)</code></td>\n",
    "<td>This writes the string to the file.</td>\n",
    "</tr>\n",
    "<tr>\n",
    "<td><code>.writelines(seq)</code></td>\n",
    "<td>This writes the sequence to the file. No line endings are appended to each sequence item. It’s up to you to add the appropriate line ending(s).</td>\n",
    "</tr>\n",
    "</tbody>\n",
    "</table>\n",
    "</div>"
   ]
  },
  {
   "cell_type": "markdown",
   "metadata": {},
   "source": [
    "Here’s a quick example of using .write() and .writelines():"
   ]
  },
  {
   "cell_type": "code",
   "execution_count": 25,
   "metadata": {},
   "outputs": [],
   "source": [
    "with open('data/test.txt', 'r') as f:\n",
    "    # Note: readlines doesn't trim the line endings\n",
    "    lines = f.readlines()\n",
    "\n",
    "with open('data/test_reversed.txt', 'w') as f:\n",
    "    # Alternatively you could use\n",
    "    # f.writelines(reversed(lines))\n",
    "\n",
    "    # Write the dog breeds to the file in reversed order\n",
    "    for line in reversed(lines):\n",
    "        f.write(line)"
   ]
  },
  {
   "cell_type": "code",
   "execution_count": 26,
   "metadata": {},
   "outputs": [
    {
     "name": "stdout",
     "output_type": "stream",
     "text": [
      "['03/22 08:51:11 INFO   :..mailbox_register: mailbox allocated for pipe03/22 08:51:11 INFO   :...mailslot_create: creating mailslot for (broken) pipe\\n', '03/22 08:51:11 INFO   :..mailbox_register: mailbox allocated for dump\\n', '03/22 08:51:11 INFO   :...mailslot_create: creating mailslot for dump\\n', '03/22 08:51:11 INFO   :..mailbox_register: mailbox allocated for terminate\\n', '03/22 08:51:11 INFO   :...mailslot_create: creating mailslot for terminate\\n', '03/22 08:51:11 INFO   :...mailbox_register: mailbox allocated for rsvp-api\\n', '03/22 08:51:11 INFO   :....mailslot_create: creating mailslot for RSVP client API\\n', '03/22 08:51:11 INFO   :....mailbox_register: no mailbox necessary for traffic-control\\n', '03/22 08:51:11 INFO   :.....mailslot_create: creating socket for traffic control module\\n', '03/22 08:51:11 INFO   :.....mailbox_register: mailbox allocated for route\\n', '03/22 08:51:06 TRACE  :......mailslot_create: ready to accept informational socket connection\\n', '03/22 08:51:06 INFO   :......mailslot_create: creating mailslot for route engine - informational socket\\n', '03/22 08:51:06 INFO   :.....mailbox_register: no mailbox necessary for forward\\n', '03/22 08:51:06 INFO   :......mailslot_create: creating socket for querying route\\n', '03/22 08:51:06 TRACE  :..entity_initialize: interface 127.0.0.1, entity for rsvp allocated and initialized\\n', '03/22 08:51:06 INFO   :....mailbox_register: mailbox allocated for rsvp-udp\\n', '03/22 08:51:06 INFO   :.....mailslot_create: creating mailslot for RSVP via UDP\\n', '03/22 08:51:06 INFO   :....mailbox_register: mailbox allocated for rsvp\\n', '03/22 08:51:06 INFO   :.....mailslot_create: creating mailslot for RSVP\\n']\n"
     ]
    }
   ],
   "source": [
    "with open('data/test_reversed.txt', 'r') as f:\n",
    "    # Note: readlines doesn't trim the line endings\n",
    "    lines = f.readlines()\n",
    "\n",
    "print(lines)"
   ]
  },
  {
   "cell_type": "markdown",
   "metadata": {},
   "source": [
    "#### Change file cursor position"
   ]
  },
  {
   "cell_type": "code",
   "execution_count": 27,
   "metadata": {},
   "outputs": [],
   "source": [
    "f = open('data/test.txt', 'r')"
   ]
  },
  {
   "cell_type": "code",
   "execution_count": 28,
   "metadata": {},
   "outputs": [
    {
     "data": {
      "text/plain": [
       "'03/22 08'"
      ]
     },
     "execution_count": 28,
     "metadata": {},
     "output_type": "execute_result"
    }
   ],
   "source": [
    "f.read(8)"
   ]
  },
  {
   "cell_type": "code",
   "execution_count": 29,
   "metadata": {},
   "outputs": [
    {
     "data": {
      "text/plain": [
       "':51:06 INFO   :.....mailslot_c'"
      ]
     },
     "execution_count": 29,
     "metadata": {},
     "output_type": "execute_result"
    }
   ],
   "source": [
    "f.read(30)"
   ]
  },
  {
   "cell_type": "code",
   "execution_count": 30,
   "metadata": {},
   "outputs": [
    {
     "data": {
      "text/plain": [
       "'reate: creating mailslot for RSVP\\n03/22 08:51:06 INFO   :....mailbox_register: mailbox allocated for rsvp\\n03/22 08:51:06 INFO   :.....mailslot_create:'"
      ]
     },
     "execution_count": 30,
     "metadata": {},
     "output_type": "execute_result"
    }
   ],
   "source": [
    "f.read(150)"
   ]
  },
  {
   "cell_type": "code",
   "execution_count": 31,
   "metadata": {},
   "outputs": [
    {
     "data": {
      "text/plain": [
       "' creating mailslot for RSVP via UDP\\n03/22 08:51:06 INFO   :....mailbox_register: mailbox allocated for rsvp-udp\\n03/22 08:51:06 TRACE  :..entity_initialize: interface 127.0.0.1, entity for rsvp allocated and initialized\\n03/22 08:51:06 INFO   :......mailslot_create: creating socket for querying route\\n03/22 08:51:06 INFO   :.....mailbox_register: no mailbox necessary for forward\\n03/22 08:51:06 INFO   :......mailslot_create: creating mailslot for route engine - informational socket\\n03/22 08:51:06 TRACE  :......mailslot_create: ready to accept informational socket connection\\n03/22 08:51:11 INFO   :.....mailbox_register: mailbox allocated for route\\n03/22 08:51:11 INFO   :.....mailslot_create: creating socket for traffic control module\\n03/22 08:51:11 INFO   :....mailbox_register: no mailbox necessary for traffic-control\\n03/22 08:51:11 INFO   :....mailslot_create: creating mailslot for RSVP client API\\n03/22 08:51:11 INFO   :...mailbox_register: mailbox allocated for rsvp-api\\n03/22 08:51:11 INFO   :...mailslot_create: creating mailslot for terminate\\n03/22 08:51:11 INFO   :..mailbox_register: mailbox allocated for terminate\\n03/22 08:51:11 INFO   :...mailslot_create: creating mailslot for dump\\n03/22 08:51:11 INFO   :..mailbox_register: mailbox allocated for dump\\n03/22 08:51:11 INFO   :...mailslot_create: creating mailslot for (broken) pipe\\n03/22 08:51:11 INFO   :..mailbox_register: mailbox allocated for pipe'"
      ]
     },
     "execution_count": 31,
     "metadata": {},
     "output_type": "execute_result"
    }
   ],
   "source": [
    "f.read()"
   ]
  },
  {
   "cell_type": "markdown",
   "metadata": {},
   "source": [
    "Once the end of file is reached, we get empty string on further reading."
   ]
  },
  {
   "cell_type": "markdown",
   "metadata": {},
   "source": [
    "We can change our current file cursor (position) using the seek() method. Similarly, the tell() method returns our current position (in number of bytes)."
   ]
  },
  {
   "cell_type": "code",
   "execution_count": 32,
   "metadata": {},
   "outputs": [
    {
     "data": {
      "text/plain": [
       "1608"
      ]
     },
     "execution_count": 32,
     "metadata": {},
     "output_type": "execute_result"
    }
   ],
   "source": [
    "f.tell()    # get the current file position"
   ]
  },
  {
   "cell_type": "code",
   "execution_count": 33,
   "metadata": {},
   "outputs": [
    {
     "data": {
      "text/plain": [
       "0"
      ]
     },
     "execution_count": 33,
     "metadata": {},
     "output_type": "execute_result"
    }
   ],
   "source": [
    "f.seek(0)   # bring file cursor to initial position"
   ]
  },
  {
   "cell_type": "code",
   "execution_count": 34,
   "metadata": {},
   "outputs": [
    {
     "data": {
      "text/plain": [
       "'03/22 08:5'"
      ]
     },
     "execution_count": 34,
     "metadata": {},
     "output_type": "execute_result"
    }
   ],
   "source": [
    "f.read(10)"
   ]
  },
  {
   "cell_type": "code",
   "execution_count": 35,
   "metadata": {},
   "outputs": [
    {
     "data": {
      "text/plain": [
       "10"
      ]
     },
     "execution_count": 35,
     "metadata": {},
     "output_type": "execute_result"
    }
   ],
   "source": [
    "f.tell() "
   ]
  },
  {
   "cell_type": "code",
   "execution_count": 36,
   "metadata": {},
   "outputs": [
    {
     "name": "stdout",
     "output_type": "stream",
     "text": [
      "1:06 INFO   :.....mailslot_create: creating mailslot for RSVP\n",
      "03/22 08:51:06 INFO   :....mailbox_register: mailbox allocated for rsvp\n",
      "03/22 08:51:06 INFO   :.....mailslot_create: creating mailslot for RSVP via UDP\n",
      "03/22 08:51:06 INFO   :....mailbox_register: mailbox allocated for rsvp-udp\n",
      "03/22 08:51:06 TRACE  :..entity_initialize: interface 127.0.0.1, entity for rsvp allocated and initialized\n",
      "03/22 08:51:06 INFO   :......mailslot_create: creating socket for querying route\n",
      "03/22 08:51:06 INFO   :.....mailbox_register: no mailbox necessary for forward\n",
      "03/22 08:51:06 INFO   :......mailslot_create: creating mailslot for route engine - informational socket\n",
      "03/22 08:51:06 TRACE  :......mailslot_create: ready to accept informational socket connection\n",
      "03/22 08:51:11 INFO   :.....mailbox_register: mailbox allocated for route\n",
      "03/22 08:51:11 INFO   :.....mailslot_create: creating socket for traffic control module\n",
      "03/22 08:51:11 INFO   :....mailbox_register: no mailbox necessary for traffic-control\n",
      "03/22 08:51:11 INFO   :....mailslot_create: creating mailslot for RSVP client API\n",
      "03/22 08:51:11 INFO   :...mailbox_register: mailbox allocated for rsvp-api\n",
      "03/22 08:51:11 INFO   :...mailslot_create: creating mailslot for terminate\n",
      "03/22 08:51:11 INFO   :..mailbox_register: mailbox allocated for terminate\n",
      "03/22 08:51:11 INFO   :...mailslot_create: creating mailslot for dump\n",
      "03/22 08:51:11 INFO   :..mailbox_register: mailbox allocated for dump\n",
      "03/22 08:51:11 INFO   :...mailslot_create: creating mailslot for (broken) pipe\n",
      "03/22 08:51:11 INFO   :..mailbox_register: mailbox allocated for pipe\n"
     ]
    }
   ],
   "source": [
    "print(f.read())"
   ]
  },
  {
   "cell_type": "markdown",
   "metadata": {},
   "source": [
    "## Pregled operaciji nad datotekami"
   ]
  },
  {
   "cell_type": "markdown",
   "metadata": {},
   "source": [
    "### Pretvorba vsebine datoteke"
   ]
  },
  {
   "cell_type": "markdown",
   "metadata": {},
   "source": [
    "Pretvorimo vsebino datoteke v velike črke."
   ]
  },
  {
   "cell_type": "code",
   "execution_count": 37,
   "metadata": {},
   "outputs": [],
   "source": [
    "def lower2upper(input_str: str) -> str:\n",
    "    r_str = input_str.upper()\n",
    "    return r_str\n",
    "\n",
    "def converter(source_file: str, dest_file: str):\n",
    "    with open(source_file, 'r') as reader:\n",
    "        low_content = reader.read()\n",
    "\n",
    "    up_content = lower2upper(low_content)\n",
    "\n",
    "    with open(dest_file, 'w') as writer:\n",
    "        writer.write(up_content)\n",
    "        \n",
    "if __name__ == \"__main__\":\n",
    "    s_file = 'data/test.txt'\n",
    "    d_file = 'data/test_upper.txt'\n",
    "    converter(s_file, d_file)"
   ]
  },
  {
   "cell_type": "markdown",
   "metadata": {},
   "source": [
    "###  Find the longest words"
   ]
  },
  {
   "cell_type": "markdown",
   "metadata": {},
   "source": [
    "Write a python program to find the longest words."
   ]
  },
  {
   "cell_type": "code",
   "execution_count": 39,
   "metadata": {},
   "outputs": [
    {
     "name": "stdout",
     "output_type": "stream",
     "text": [
      "[':.....mailbox_register:', ':......mailslot_create:']\n"
     ]
    }
   ],
   "source": [
    "def longest_word(filename):\n",
    "    with open(filename, 'r') as infile:\n",
    "        words = infile.read().split()\n",
    "    max_len = len(max(words, key=len))\n",
    "    return list(set([word for word in words if len(word) == max_len]))\n",
    "\n",
    "print(longest_word('data/test.txt'))"
   ]
  },
  {
   "cell_type": "markdown",
   "metadata": {},
   "source": [
    "### Writing to a File That Doesn’t Already Exist"
   ]
  },
  {
   "cell_type": "markdown",
   "metadata": {},
   "source": [
    "You want to write data to a file, but only if it doesn’t already exist on the filesystem."
   ]
  },
  {
   "cell_type": "markdown",
   "metadata": {},
   "source": [
    "This problem is easily solved by using the little-known x mode to open() instead of the\n",
    "usual w mode. For example:"
   ]
  },
  {
   "cell_type": "code",
   "execution_count": 40,
   "metadata": {},
   "outputs": [],
   "source": [
    "with open('data/exists.txt', 'wt') as f:\n",
    "    f.write('Hello\\n')"
   ]
  },
  {
   "cell_type": "code",
   "execution_count": 41,
   "metadata": {},
   "outputs": [
    {
     "ename": "FileExistsError",
     "evalue": "[Errno 17] File exists: 'data/exists.txt'",
     "output_type": "error",
     "traceback": [
      "\u001b[0;31m---------------------------------------------------------------------------\u001b[0m",
      "\u001b[0;31mFileExistsError\u001b[0m                           Traceback (most recent call last)",
      "Input \u001b[0;32mIn [41]\u001b[0m, in \u001b[0;36m<cell line: 1>\u001b[0;34m()\u001b[0m\n\u001b[0;32m----> 1\u001b[0m \u001b[38;5;28;01mwith\u001b[39;00m \u001b[38;5;28;43mopen\u001b[39;49m\u001b[43m(\u001b[49m\u001b[38;5;124;43m'\u001b[39;49m\u001b[38;5;124;43mdata/exists.txt\u001b[39;49m\u001b[38;5;124;43m'\u001b[39;49m\u001b[43m,\u001b[49m\u001b[43m \u001b[49m\u001b[38;5;124;43m'\u001b[39;49m\u001b[38;5;124;43mxt\u001b[39;49m\u001b[38;5;124;43m'\u001b[39;49m\u001b[43m)\u001b[49m \u001b[38;5;28;01mas\u001b[39;00m f:\n\u001b[1;32m      2\u001b[0m     f\u001b[38;5;241m.\u001b[39mwrite(\u001b[38;5;124m'\u001b[39m\u001b[38;5;124mHello\u001b[39m\u001b[38;5;130;01m\\n\u001b[39;00m\u001b[38;5;124m'\u001b[39m)\n",
      "\u001b[0;31mFileExistsError\u001b[0m: [Errno 17] File exists: 'data/exists.txt'"
     ]
    }
   ],
   "source": [
    "with open('data/exists.txt', 'xt') as f:\n",
    "    f.write('Hello\\n')"
   ]
  },
  {
   "cell_type": "markdown",
   "metadata": {},
   "source": [
    "If the file is binary mode, use mode xb instead of xt."
   ]
  },
  {
   "cell_type": "markdown",
   "metadata": {},
   "source": [
    "This recipe illustrates an extremely elegant solution to a problem that sometimes arises\n",
    "when writing files (i.e., accidentally overwriting an existing file). An alternative solution\n",
    "is to first test for the file like this:"
   ]
  },
  {
   "cell_type": "code",
   "execution_count": 42,
   "metadata": {},
   "outputs": [
    {
     "name": "stdout",
     "output_type": "stream",
     "text": [
      "File already exists!\n"
     ]
    }
   ],
   "source": [
    "import os\n",
    "\n",
    "if not os.path.exists('data/exists.txt'):\n",
    "    with open('data/exists.txt', 'wt') as f:\n",
    "        f.write('Hello\\n')\n",
    "else:\n",
    "    print('File already exists!')"
   ]
  },
  {
   "cell_type": "markdown",
   "metadata": {},
   "source": [
    "Clearly, using the x file mode is a lot more straightforward. It is important to note that\n",
    "the x mode is a Python 3 specific extension to the open() function. In particular, no\n",
    "such mode exists in earlier Python versions or the underlying C libraries used in Python’s\n",
    "implementation."
   ]
  },
  {
   "cell_type": "markdown",
   "metadata": {},
   "source": [
    "### Appending to a File"
   ]
  },
  {
   "cell_type": "markdown",
   "metadata": {},
   "source": [
    "Sometimes, you may want to append to a file or start writing at the end of an already populated file. This is easily done by using the 'a' character for the mode argument:"
   ]
  },
  {
   "cell_type": "code",
   "execution_count": 43,
   "metadata": {},
   "outputs": [],
   "source": [
    "with open('data/exists.txt', 'a') as a_writer:\n",
    "    a_writer.write('\\nBeagle\\n')"
   ]
  },
  {
   "cell_type": "markdown",
   "metadata": {},
   "source": [
    "When you examine dog_breeds.txt again, you’ll see that the beginning of the file is unchanged and Beagle is now added to the end of the file:"
   ]
  },
  {
   "cell_type": "code",
   "execution_count": 44,
   "metadata": {},
   "outputs": [
    {
     "name": "stdout",
     "output_type": "stream",
     "text": [
      "Hello\n",
      "\n",
      "Beagle\n",
      "\n"
     ]
    }
   ],
   "source": [
    "with open('data/exists.txt', 'r') as reader:\n",
    "    print(reader.read())"
   ]
  },
  {
   "cell_type": "markdown",
   "metadata": {},
   "source": [
    "### Working With Two Files at the Same Time"
   ]
  },
  {
   "cell_type": "markdown",
   "metadata": {},
   "source": [
    "There are times when you may want to read a file and write to another file at the same time. If you use the example that was shown when you were learning how to write to a file, it can actually be combined into the following:"
   ]
  },
  {
   "cell_type": "code",
   "execution_count": 45,
   "metadata": {},
   "outputs": [],
   "source": [
    "d_path = 'data/test.txt'\n",
    "d_r_path = 'data/test_reversed.txt'\n",
    "\n",
    "with open(d_path, 'r') as reader, open(d_r_path, 'w') as writer:\n",
    "    data = reader.readlines()\n",
    "    writer.writelines(reversed(data))"
   ]
  },
  {
   "cell_type": "markdown",
   "metadata": {},
   "source": [
    "### Search for a string in text files"
   ]
  },
  {
   "cell_type": "markdown",
   "metadata": {},
   "source": [
    "If your file is not too large, you can read it into a string, and just use that (easier and often faster than reading and checking line per line):"
   ]
  },
  {
   "cell_type": "code",
   "execution_count": 46,
   "metadata": {},
   "outputs": [
    {
     "name": "stdout",
     "output_type": "stream",
     "text": [
      "true\n"
     ]
    }
   ],
   "source": [
    "with open('data/test.txt') as f:\n",
    "    if 'rsvp' in f.read():\n",
    "        print(\"true\")\n",
    "        "
   ]
  },
  {
   "cell_type": "markdown",
   "metadata": {},
   "source": [
    "There is no simple built-in string function that does what you're looking for, but you could use the more powerful regular expressions:"
   ]
  },
  {
   "cell_type": "code",
   "execution_count": 49,
   "metadata": {},
   "outputs": [
    {
     "name": "stdout",
     "output_type": "stream",
     "text": [
      "['Python is an easy to', 'Python’s elegant syn', 'Python interpreter a', 'Python Web site, htt', 'Python modules, prog', 'Python interpreter i', 'Python is also suita', 'Python language and ', 'Python interpreter h']\n"
     ]
    }
   ],
   "source": [
    "# želimo najdet vse ponovitve iskane besede\n",
    "import re\n",
    "\n",
    "with open('data/search_file.txt') as f:\n",
    "    content = f.read()\n",
    "    find_results_indexes = [m.start() for m in re.finditer('Python', content)]\n",
    "    find_results = [content[index:index+20] for index in find_results_indexes]\n",
    "    print(find_results)"
   ]
  },
  {
   "cell_type": "markdown",
   "metadata": {},
   "source": [
    "### Counts words in a text file"
   ]
  },
  {
   "cell_type": "code",
   "execution_count": 50,
   "metadata": {},
   "outputs": [
    {
     "name": "stdout",
     "output_type": "stream",
     "text": [
      "[('and', 11), ('the', 9), ('python', 8), ('to', 5), ('language', 4), ('for', 4), ('is', 3), ('an', 3), ('it', 3), ('in', 3)]\n"
     ]
    }
   ],
   "source": [
    "from collections import Counter\n",
    "\n",
    "with open('data/search_file.txt', 'r') as f:\n",
    "    text = f.read()\n",
    "    \n",
    "# edit text\n",
    "text_splited = text.split()\n",
    "text_splited = [word.lower() for word in text_splited] # all lowercase\n",
    "text_splited = [word.strip() for word in text_splited] # strip spaces\n",
    "text_splited = [word.replace('.', '').replace('(', '').replace(')', '').replace(',', '') for word in text_splited if not word.startswith('http') ] # remove char . , ( ) an filter url\n",
    "\n",
    "# boljše\n",
    "text_splited = [''.join(c for c in word if c.isalnum()) for word in text_splited] \n",
    "\n",
    "wordcount = Counter(text_splited)\n",
    "print(wordcount.most_common(10))"
   ]
  },
  {
   "cell_type": "markdown",
   "metadata": {},
   "source": [
    "### Replace String in File"
   ]
  },
  {
   "cell_type": "markdown",
   "metadata": {},
   "source": [
    "To replace a string in File using Python, follow these steps:\n",
    "- Open input file in read mode and handle it in text mode.\n",
    "- Open output file in write mode and handle it in text mode.\n",
    "- For each line read from input file, replace the string and write to output file.\n",
    "- Close both input and output files."
   ]
  },
  {
   "cell_type": "code",
   "execution_count": 51,
   "metadata": {},
   "outputs": [],
   "source": [
    "d_path = 'data/test.txt'\n",
    "d_r_path = 'data/test_edited.txt'\n",
    "with open(d_path, 'r') as reader, open(d_r_path, 'w') as writer:\n",
    "    for line in reader:\n",
    "        # logika za zamenjavo in pogoji\n",
    "        writer.write(line.replace('INFO', 'ERROR-MESSAGE'))"
   ]
  },
  {
   "cell_type": "markdown",
   "metadata": {},
   "source": [
    "### Counting lines in a file"
   ]
  },
  {
   "cell_type": "code",
   "execution_count": 52,
   "metadata": {},
   "outputs": [],
   "source": [
    "def file_len(fname):\n",
    "    with open(fname) as f:\n",
    "        i = 0\n",
    "        for i, l in enumerate(f):\n",
    "            pass\n",
    "    return i + 1"
   ]
  },
  {
   "cell_type": "code",
   "execution_count": 53,
   "metadata": {},
   "outputs": [
    {
     "name": "stdout",
     "output_type": "stream",
     "text": [
      "20\n"
     ]
    }
   ],
   "source": [
    "print(file_len('data/test.txt'))"
   ]
  },
  {
   "cell_type": "markdown",
   "metadata": {},
   "source": [
    "### Keeping the Last N Items"
   ]
  },
  {
   "cell_type": "markdown",
   "metadata": {},
   "source": [
    "You want to keep a limited history of the last few items seen during iteration or during\n",
    "some other kind of processing."
   ]
  },
  {
   "cell_type": "markdown",
   "metadata": {},
   "source": [
    "Keeping a limited history is a perfect use for a collections.deque. For example, the\n",
    "following code performs a simple text match on a sequence of lines and yields the\n",
    "matching line along with the previous N lines of context when found:"
   ]
  },
  {
   "cell_type": "code",
   "execution_count": 55,
   "metadata": {},
   "outputs": [],
   "source": [
    "from collections import deque\n",
    "\n",
    "def search(lines, pattern, history=5):\n",
    "    previous_lines = deque(maxlen=history)\n",
    "    for line in lines:\n",
    "        if pattern in line:\n",
    "            yield line, previous_lines\n",
    "        previous_lines.append(line)"
   ]
  },
  {
   "cell_type": "code",
   "execution_count": 56,
   "metadata": {},
   "outputs": [
    {
     "name": "stdout",
     "output_type": "stream",
     "text": [
      "10.131.0.1,[29/Nov/2017:14:33:22,GET /css/normalize.css HTTP/1.1,304\n",
      "10.131.2.1,[29/Nov/2017:14:33:22,GET /css/main.css HTTP/1.1,304\n",
      "10.131.0.1,[29/Nov/2017:14:33:22,GET /css/style.css HTTP/1.1,304\n",
      "10.128.2.1,[29/Nov/2017:14:33:23,GET /js/vendor/modernizr-2.8.3.min.js HTTP/1.1,304\n",
      "10.131.2.1,[29/Nov/2017:14:33:23,GET /js/vendor/jquery-1.12.0.min.js HTTP/1.1,304\n",
      "10.131.2.1,[29/Nov/2017:14:33:23,GET /bootstrap-3.3.7/js/bootstrap.min.js HTTP/1.1,304\n",
      "--------------------\n",
      "10.130.2.1,[30/Nov/2017:12:18:40,GET /css/font-awesome.min.css HTTP/1.1,304\n",
      "10.128.2.1,[30/Nov/2017:12:18:40,GET /css/normalize.css HTTP/1.1,304\n",
      "10.128.2.1,[30/Nov/2017:12:18:40,GET /js/vendor/modernizr-2.8.3.min.js HTTP/1.1,304\n",
      "10.130.2.1,[30/Nov/2017:12:18:40,GET /js/vendor/jquery-1.12.0.min.js HTTP/1.1,304\n",
      "10.129.2.1,[30/Nov/2017:12:18:40,GET /css/style.css HTTP/1.1,304\n",
      "10.128.2.1,[30/Nov/2017:12:18:40,GET /bootstrap-3.3.7/js/bootstrap.min.js HTTP/1.1,304\n",
      "--------------------\n"
     ]
    }
   ],
   "source": [
    "# Example use on a file\n",
    "if __name__ == '__main__':\n",
    "    with open('data/weblog.csv', 'r') as f:\n",
    "        for line, prevlines in search(f, '/bootstrap-3.3.7/js/bootstrap.min.js HTTP/1.1,304', 5):\n",
    "            for pline in prevlines:\n",
    "                print(pline, end='')\n",
    "            print(line, end='')\n",
    "            print('-'*20)"
   ]
  },
  {
   "cell_type": "markdown",
   "metadata": {},
   "source": [
    "When writing code to search for items, it is common to use a generator function involving\n",
    "yield, as shown in this recipe’s solution. This decouples the process of searching\n",
    "from the code that uses the results."
   ]
  },
  {
   "cell_type": "markdown",
   "metadata": {},
   "source": [
    "Using deque(maxlen=N) creates a fixed-sized queue. When new items are added and\n",
    "the queue is full, the oldest item is automatically removed. For example:"
   ]
  },
  {
   "cell_type": "code",
   "execution_count": 61,
   "metadata": {},
   "outputs": [],
   "source": [
    "q = deque(maxlen=3)"
   ]
  },
  {
   "cell_type": "code",
   "execution_count": 62,
   "metadata": {},
   "outputs": [],
   "source": [
    "q.append(1)"
   ]
  },
  {
   "cell_type": "code",
   "execution_count": 63,
   "metadata": {},
   "outputs": [],
   "source": [
    "q.append(2)"
   ]
  },
  {
   "cell_type": "code",
   "execution_count": 64,
   "metadata": {},
   "outputs": [],
   "source": [
    "q.append(3)"
   ]
  },
  {
   "cell_type": "code",
   "execution_count": 65,
   "metadata": {},
   "outputs": [
    {
     "data": {
      "text/plain": [
       "deque([1, 2, 3])"
      ]
     },
     "execution_count": 65,
     "metadata": {},
     "output_type": "execute_result"
    }
   ],
   "source": [
    "q"
   ]
  },
  {
   "cell_type": "code",
   "execution_count": 66,
   "metadata": {},
   "outputs": [],
   "source": [
    "q.append(4)"
   ]
  },
  {
   "cell_type": "code",
   "execution_count": 67,
   "metadata": {},
   "outputs": [
    {
     "data": {
      "text/plain": [
       "deque([2, 3, 4])"
      ]
     },
     "execution_count": 67,
     "metadata": {},
     "output_type": "execute_result"
    }
   ],
   "source": [
    "q"
   ]
  },
  {
   "cell_type": "code",
   "execution_count": 68,
   "metadata": {},
   "outputs": [],
   "source": [
    "q.append(5)"
   ]
  },
  {
   "cell_type": "code",
   "execution_count": 69,
   "metadata": {},
   "outputs": [
    {
     "data": {
      "text/plain": [
       "deque([3, 4, 5])"
      ]
     },
     "execution_count": 69,
     "metadata": {},
     "output_type": "execute_result"
    }
   ],
   "source": [
    "q"
   ]
  },
  {
   "cell_type": "markdown",
   "metadata": {},
   "source": [
    "Although you could manually perform such operations on a list (e.g., appending, deleting,\n",
    "etc.), the queue solution is far more elegant and runs a lot faster.\n",
    "\n",
    "More generally, a deque can be used whenever you need a simple queue structure. If\n",
    "you don’t give it a maximum size, you get an unbounded queue that lets you append\n",
    "and pop items on either end. For example:"
   ]
  },
  {
   "cell_type": "code",
   "execution_count": 70,
   "metadata": {},
   "outputs": [
    {
     "data": {
      "text/plain": [
       "deque([1, 2, 3])"
      ]
     },
     "execution_count": 70,
     "metadata": {},
     "output_type": "execute_result"
    }
   ],
   "source": [
    "q = deque()\n",
    "q.append(1)\n",
    "q.append(2)\n",
    "q.append(3)\n",
    "q"
   ]
  },
  {
   "cell_type": "code",
   "execution_count": 71,
   "metadata": {},
   "outputs": [
    {
     "data": {
      "text/plain": [
       "deque([4, 1, 2, 3])"
      ]
     },
     "execution_count": 71,
     "metadata": {},
     "output_type": "execute_result"
    }
   ],
   "source": [
    "q.appendleft(4)\n",
    "q"
   ]
  },
  {
   "cell_type": "code",
   "execution_count": 72,
   "metadata": {},
   "outputs": [
    {
     "data": {
      "text/plain": [
       "deque([4, 1, 2])"
      ]
     },
     "execution_count": 72,
     "metadata": {},
     "output_type": "execute_result"
    }
   ],
   "source": [
    "q.pop()\n",
    "q"
   ]
  },
  {
   "cell_type": "code",
   "execution_count": 73,
   "metadata": {},
   "outputs": [
    {
     "data": {
      "text/plain": [
       "deque([1, 2])"
      ]
     },
     "execution_count": 73,
     "metadata": {},
     "output_type": "execute_result"
    }
   ],
   "source": [
    "q.popleft()\n",
    "q"
   ]
  },
  {
   "cell_type": "markdown",
   "metadata": {},
   "source": [
    "Adding or popping items from either end of a queue has O(1) complexity. This is unlike\n",
    "a list where inserting or removing items from the front of the list is O(N)."
   ]
  },
  {
   "cell_type": "markdown",
   "metadata": {},
   "source": [
    "### Skipping the First Part of a file"
   ]
  },
  {
   "cell_type": "markdown",
   "metadata": {},
   "source": [
    "You want to iterate over items in an iterable, but the first few items aren’t of interest and\n",
    "you just want to discard them."
   ]
  },
  {
   "cell_type": "markdown",
   "metadata": {},
   "source": [
    "The itertools module has a few functions that can be used to address this task. The\n",
    "first is the itertools.dropwhile() function. To use it, you supply a function and an\n",
    "iterable. The returned iterator discards the first items in the sequence as long as the\n",
    "supplied function returns True. Afterward, the entirety of the sequence is produced.\n",
    "\n",
    "To illustrate, suppose you are reading a file that starts with a series of comment lines.\n",
    "For example:"
   ]
  },
  {
   "cell_type": "code",
   "execution_count": 57,
   "metadata": {},
   "outputs": [
    {
     "name": "stdout",
     "output_type": "stream",
     "text": [
      "##\n",
      "# User Database\n",
      "#\n",
      "# Note that this file is consulted directly only when the system is running\n",
      "# in single-user mode. At other times, this information is provided by\n",
      "# Open Directory.\n",
      "##\n",
      "nobody:*:-2:-2:Unprivileged User:/var/empty:/usr/bin/false\n",
      "root:*:0:0:System Administrator:/var/root:/bin/sh\n",
      "root:x:0:0:root:/root:/bin/bash\n",
      "daemon:x:1:1:daemon:/usr/sbin:/usr/sbin/nologin\n",
      "bin:x:2:2:bin:/bin:/usr/sbin/nologin\n",
      "# POMEMBNO NOČEMO ZBRISATI\n",
      "sys:x:3:3:sys:/dev:/usr/sbin/nologin\n"
     ]
    }
   ],
   "source": [
    "with open('data/userdb.txt') as f:\n",
    "    for line in f:\n",
    "        print(line, end='')"
   ]
  },
  {
   "cell_type": "markdown",
   "metadata": {},
   "source": [
    "If you want to skip all of the initial comment lines, here’s one way to do it:"
   ]
  },
  {
   "cell_type": "code",
   "execution_count": 58,
   "metadata": {},
   "outputs": [
    {
     "name": "stdout",
     "output_type": "stream",
     "text": [
      "nobody:*:-2:-2:Unprivileged User:/var/empty:/usr/bin/false\n",
      "root:*:0:0:System Administrator:/var/root:/bin/sh\n",
      "root:x:0:0:root:/root:/bin/bash\n",
      "daemon:x:1:1:daemon:/usr/sbin:/usr/sbin/nologin\n",
      "bin:x:2:2:bin:/bin:/usr/sbin/nologin\n",
      "# POMEMBNO NOČEMO ZBRISATI\n",
      "sys:x:3:3:sys:/dev:/usr/sbin/nologin\n"
     ]
    }
   ],
   "source": [
    "# lahko kot vaja da probajo sami -> spodaj daljši način\n",
    "from itertools import dropwhile\n",
    "\n",
    "with open('data/userdb.txt') as f:\n",
    "    for line in dropwhile(lambda line: line.startswith('#'), f):\n",
    "        print(line, end='')"
   ]
  },
  {
   "cell_type": "markdown",
   "metadata": {},
   "source": [
    "This example is based on skipping the first items according to a test function. If you\n",
    "happen to know the exact number of items you want to skip, then you can use iter\n",
    "tools.islice() instead. For example:"
   ]
  },
  {
   "cell_type": "code",
   "execution_count": 59,
   "metadata": {},
   "outputs": [
    {
     "name": "stdout",
     "output_type": "stream",
     "text": [
      "nobody:*:-2:-2:Unprivileged User:/var/empty:/usr/bin/false\n",
      "root:*:0:0:System Administrator:/var/root:/bin/sh\n",
      "root:x:0:0:root:/root:/bin/bash\n",
      "daemon:x:1:1:daemon:/usr/sbin:/usr/sbin/nologin\n",
      "bin:x:2:2:bin:/bin:/usr/sbin/nologin\n",
      "# POMEMBNO NOČEMO ZBRISATI\n",
      "sys:x:3:3:sys:/dev:/usr/sbin/nologin\n"
     ]
    }
   ],
   "source": [
    "from itertools import islice\n",
    "\n",
    "with open('data/userdb.txt') as f:\n",
    "    for line in islice(f, 7, None):\n",
    "        print(line, end='')"
   ]
  },
  {
   "cell_type": "markdown",
   "metadata": {},
   "source": [
    "In this example, the last None argument to islice() is required to indicate that you\n",
    "want everything beyond the first three items as opposed to only the first three items\n",
    "(e.g., a slice of [3:] as opposed to a slice of [:3])."
   ]
  },
  {
   "cell_type": "markdown",
   "metadata": {},
   "source": [
    "The dropwhile() and islice() functions are mainly convenience functions that you\n",
    "can use to avoid writing rather messy code such as this:"
   ]
  },
  {
   "cell_type": "code",
   "execution_count": 60,
   "metadata": {},
   "outputs": [
    {
     "name": "stdout",
     "output_type": "stream",
     "text": [
      "nobody:*:-2:-2:Unprivileged User:/var/empty:/usr/bin/false\n",
      "root:*:0:0:System Administrator:/var/root:/bin/sh\n",
      "root:x:0:0:root:/root:/bin/bash\n",
      "daemon:x:1:1:daemon:/usr/sbin:/usr/sbin/nologin\n",
      "bin:x:2:2:bin:/bin:/usr/sbin/nologin\n",
      "# POMEMBNO NOČEMO ZBRISATI\n",
      "sys:x:3:3:sys:/dev:/usr/sbin/nologin\n"
     ]
    }
   ],
   "source": [
    "with open('data/userdb.txt') as f:\n",
    "    # Skip over initial comments\n",
    "    while True:\n",
    "        line = next(f, '')\n",
    "        if not line.startswith('#'):\n",
    "            break\n",
    "    \n",
    "    # Process remaining lines\n",
    "    while line:\n",
    "        # Replace with useful processing\n",
    "        print(line, end='')\n",
    "        line = next(f, None)"
   ]
  },
  {
   "cell_type": "markdown",
   "metadata": {},
   "source": [
    "Discarding the first part of an iterable is also slightly different than simply filtering all\n",
    "of it. For example, the first part of this recipe might be rewritten as follows:"
   ]
  },
  {
   "cell_type": "code",
   "execution_count": 61,
   "metadata": {},
   "outputs": [
    {
     "name": "stdout",
     "output_type": "stream",
     "text": [
      "nobody:*:-2:-2:Unprivileged User:/var/empty:/usr/bin/false\n",
      "root:*:0:0:System Administrator:/var/root:/bin/sh\n",
      "root:x:0:0:root:/root:/bin/bash\n",
      "daemon:x:1:1:daemon:/usr/sbin:/usr/sbin/nologin\n",
      "bin:x:2:2:bin:/bin:/usr/sbin/nologin\n",
      "sys:x:3:3:sys:/dev:/usr/sbin/nologin\n"
     ]
    }
   ],
   "source": [
    "# v primeru da hočemo zbrisat vse ki se začnejo na # \n",
    "with open('data/userdb.txt') as f:\n",
    "    lines = (line for line in f if not line.startswith('#'))\n",
    "    for line in lines:\n",
    "        print(line, end='')"
   ]
  },
  {
   "cell_type": "markdown",
   "metadata": {},
   "source": [
    "This will obviously discard the comment lines at the start, but will also discard all such\n",
    "lines throughout the entire file. On the other hand, the solution only discards items\n",
    "until an item no longer satisfies the supplied test. After that, all subsequent items are\n",
    "returned with no filtering.\n",
    "\n",
    "Last, but not least, it should be emphasized that this recipe works with all iterables,\n",
    "including those whose size can’t be determined in advance. This includes generators,\n",
    "files, and similar kinds of objects."
   ]
  },
  {
   "cell_type": "markdown",
   "metadata": {},
   "source": [
    "### Reading Multiple Files"
   ]
  },
  {
   "cell_type": "markdown",
   "metadata": {},
   "source": [
    "https://docs.python.org/3/library/fileinput.html"
   ]
  },
  {
   "cell_type": "markdown",
   "metadata": {},
   "source": [
    "Python supports reading data from multiple input streams or from a list of files through the fileinput module. This module allows you to loop over the contents of one or more text files quickly and easily. Here’s the typical way fileinput is used:"
   ]
  },
  {
   "cell_type": "markdown",
   "metadata": {},
   "source": [
    "    import fileinput\n",
    "\n",
    "    for line in fileinput.input()\n",
    "        process(line)"
   ]
  },
  {
   "cell_type": "markdown",
   "metadata": {},
   "source": [
    "fileinput gets its input from command line arguments passed to sys.argv by default."
   ]
  },
  {
   "cell_type": "markdown",
   "metadata": {},
   "source": [
    "This iterates over the lines of all files listed in sys.argv[1:], defaulting to sys.stdin if the list is empty. If a filename is '-', it is also replaced by sys.stdin and the optional arguments mode and openhook are ignored. To specify an alternative list of filenames, pass it as the first argument to input(). A single file name is also allowed.\n",
    "\n",
    "All files are opened in text mode by default, but you can override this by specifying the mode parameter in the call to input() or FileInput. If an I/O error occurs during opening or reading a file, OSError is raised."
   ]
  },
  {
   "cell_type": "code",
   "execution_count": 63,
   "metadata": {},
   "outputs": [
    {
     "name": "stdout",
     "output_type": "stream",
     "text": [
      "\n",
      "03/22 08:51:06 INFO   :.....mailslot_create: creating mailslot for RSVP\n",
      "03/22 08:51:06 INFO   :....mailbox_register: mailbox allocated for rsvp\n",
      "03/22 08:51:06 INFO   :.....mailslot_create: creating mailslot for RSVP via UDP\n",
      "03/22 08:51:06 INFO   :....mailbox_register: mailbox allocated for rsvp-udp\n",
      "03/22 08:51:06 TRACE  :..entity_initialize: interface 127.0.0.1, entity for rsvp allocated and initialized\n",
      "03/22 08:51:06 INFO   :......mailslot_create: creating socket for querying route\n",
      "03/22 08:51:06 INFO   :.....mailbox_register: no mailbox necessary for forward\n",
      "03/22 08:51:06 INFO   :......mailslot_create: creating mailslot for route engine - informational socket\n",
      "03/22 08:51:06 TRACE  :......mailslot_create: ready to accept informational socket connection\n",
      "03/22 08:51:11 INFO   :.....mailbox_register: mailbox allocated for route\n",
      "03/22 08:51:11 INFO   :.....mailslot_create: creating socket for traffic control module\n",
      "03/22 08:51:11 INFO   :....mailbox_register: no mailbox necessary for traffic-control\n",
      "03/22 08:51:11 INFO   :....mailslot_create: creating mailslot for RSVP client API\n",
      "03/22 08:51:11 INFO   :...mailbox_register: mailbox allocated for rsvp-api\n",
      "03/22 08:51:11 INFO   :...mailslot_create: creating mailslot for terminate\n",
      "03/22 08:51:11 INFO   :..mailbox_register: mailbox allocated for terminate\n",
      "03/22 08:51:11 INFO   :...mailslot_create: creating mailslot for dump\n",
      "03/22 08:51:11 INFO   :..mailbox_register: mailbox allocated for dump\n",
      "03/22 08:51:11 INFO   :...mailslot_create: creating mailslot for (broken) pipe\n",
      "03/22 08:51:11 INFO   :..mailbox_register: mailbox allocated for pipe\n",
      "03/22 08:51:06 INFO   :.....MAILSLOT_CREATE: CREATING MAILSLOT FOR RSVP\n",
      "03/22 08:51:06 INFO   :....MAILBOX_REGISTER: MAILBOX ALLOCATED FOR RSVP\n",
      "03/22 08:51:06 INFO   :.....MAILSLOT_CREATE: CREATING MAILSLOT FOR RSVP VIA UDP\n",
      "03/22 08:51:06 INFO   :....MAILBOX_REGISTER: MAILBOX ALLOCATED FOR RSVP-UDP\n",
      "03/22 08:51:06 TRACE  :..ENTITY_INITIALIZE: INTERFACE 127.0.0.1, ENTITY FOR RSVP ALLOCATED AND INITIALIZED\n",
      "03/22 08:51:06 INFO   :......MAILSLOT_CREATE: CREATING SOCKET FOR QUERYING ROUTE\n",
      "03/22 08:51:06 INFO   :.....MAILBOX_REGISTER: NO MAILBOX NECESSARY FOR FORWARD\n",
      "03/22 08:51:06 INFO   :......MAILSLOT_CREATE: CREATING MAILSLOT FOR ROUTE ENGINE - INFORMATIONAL SOCKET\n",
      "03/22 08:51:06 TRACE  :......MAILSLOT_CREATE: READY TO ACCEPT INFORMATIONAL SOCKET CONNECTION\n",
      "03/22 08:51:11 INFO   :.....MAILBOX_REGISTER: MAILBOX ALLOCATED FOR ROUTE\n",
      "03/22 08:51:11 INFO   :.....MAILSLOT_CREATE: CREATING SOCKET FOR TRAFFIC CONTROL MODULE\n",
      "03/22 08:51:11 INFO   :....MAILBOX_REGISTER: NO MAILBOX NECESSARY FOR TRAFFIC-CONTROL\n",
      "03/22 08:51:11 INFO   :....MAILSLOT_CREATE: CREATING MAILSLOT FOR RSVP CLIENT API\n",
      "03/22 08:51:11 INFO   :...MAILBOX_REGISTER: MAILBOX ALLOCATED FOR RSVP-API\n",
      "03/22 08:51:11 INFO   :...MAILSLOT_CREATE: CREATING MAILSLOT FOR TERMINATE\n",
      "03/22 08:51:11 INFO   :..MAILBOX_REGISTER: MAILBOX ALLOCATED FOR TERMINATE\n",
      "03/22 08:51:11 INFO   :...MAILSLOT_CREATE: CREATING MAILSLOT FOR DUMP\n",
      "03/22 08:51:11 INFO   :..MAILBOX_REGISTER: MAILBOX ALLOCATED FOR DUMP\n",
      "03/22 08:51:11 INFO   :...MAILSLOT_CREATE: CREATING MAILSLOT FOR (BROKEN) PIPE\n",
      "03/22 08:51:11 INFO   :..MAILBOX_REGISTER: MAILBOX ALLOCATED FOR PIPE"
     ]
    }
   ],
   "source": [
    "import fileinput\n",
    "#with fileinput.input(files=('data/multiple_files/file1.txt', 'data/multiple_files/file2.txt')) as f:\n",
    "with fileinput.input(['data/test.txt', 'data/test_upper.txt']) as f:\n",
    "    for line in f:\n",
    "        if f.isfirstline():\n",
    "            print()\n",
    "        print(line, end='')"
   ]
  },
  {
   "cell_type": "markdown",
   "metadata": {},
   "source": [
    "> `fileinput.input(files=None, inplace=False, backup='', *, mode='r', openhook=None)`: Create an instance of the FileInput class. The instance will be used as global state for the functions of this module, and is also returned to use during iteration. The parameters to this function will be passed along to the constructor of the FileInput class. The FileInput instance can be used as a context manager in the with statement. In this example, input is closed after the with statement is exited, even if an exception occurs:"
   ]
  },
  {
   "cell_type": "markdown",
   "metadata": {},
   "source": [
    "Let’s use fileinput to build a crude version of the common UNIX utility cat. The cat utility reads files sequentially, writing them to standard output. When given more than one file in its command line arguments, cat will concatenate the text files and display the result in the terminal:"
   ]
  },
  {
   "cell_type": "markdown",
   "metadata": {},
   "source": [
    "    cat exists.txt test_edited.txt test.txt"
   ]
  },
  {
   "cell_type": "code",
   "execution_count": null,
   "metadata": {},
   "outputs": [],
   "source": [
    "# cat.py\n",
    "import fileinput\n",
    "\n",
    "with fileinput.input() as files:\n",
    "    for line in files:\n",
    "        if fileinput.isfirstline():\n",
    "            print(f'\\n--- Reading {fileinput.filename()} ---')\n",
    "        print(' -> ' + line, end='')\n",
    "    print()"
   ]
  },
  {
   "cell_type": "markdown",
   "metadata": {},
   "source": [
    "    python cat.py  data/test*"
   ]
  },
  {
   "cell_type": "markdown",
   "metadata": {},
   "source": [
    "fileinput allows you to retrieve more information about each line such as whether or not it is the first line (.isfirstline()), the line number (.lineno()), and the filename (.filename())."
   ]
  },
  {
   "cell_type": "markdown",
   "metadata": {},
   "source": [
    "[fileinput — Iterate over lines from multiple input streams](https://docs.python.org/3/library/fileinput.html?highlight=fileinput#module-fileinput)"
   ]
  },
  {
   "cell_type": "markdown",
   "metadata": {},
   "source": [
    "## Branje in pisanje binarnih datotek"
   ]
  },
  {
   "cell_type": "markdown",
   "metadata": {},
   "source": [
    "### Bytes Objects"
   ]
  },
  {
   "cell_type": "markdown",
   "metadata": {},
   "source": [
    "The bytes object is one of the core built-in types for manipulating binary data. A bytes object is an immutable sequence of single byte values. Each element in a bytes object is a small integer in the range 0 to 255."
   ]
  },
  {
   "cell_type": "markdown",
   "metadata": {},
   "source": [
    "Although binary sequences are really sequences of integers, their literal notation reflects\n",
    "the fact that ASCII text is often embedded in them. Therefore, three different displays\n",
    "are used, depending on each byte value:\n",
    "- For bytes in the printable ASCII range—from space to ~—the ASCII character itself\n",
    "is used.\n",
    "- For bytes corresponding to tab, newline, carriage return, and \\, the escape sequences\n",
    "\\t, \\n, \\r, and \\\\ are used.\n",
    "- For every other byte value, a hexadecimal escape sequence is used (e.g., \\x00 is the\n",
    "null byte)."
   ]
  },
  {
   "cell_type": "markdown",
   "metadata": {},
   "source": [
    "That is why in Example 4-2 you see b'caf\\xc3\\xa9': the first three bytes b'caf' are in\n",
    "the printable ASCII range, the last two are not.\n",
    "\n",
    "Both bytes and bytearray support every str method except those that do formatting\n",
    "(format, format_map) and a few others that depend on Unicode data, including case\n",
    "fold, isdecimal, isidentifier, isnumeric, isprintable, and encode. This means that\n",
    "you can use familiar string methods like endswith, replace, strip, translate, upper,\n",
    "and dozens of others with binary sequences—only using bytes and not str arguments.\n",
    "In addition, the regular expression functions in the re module also work on binary\n",
    "sequences, if the regex is compiled from a binary sequence instead of a str."
   ]
  },
  {
   "cell_type": "markdown",
   "metadata": {},
   "source": [
    "#### Defining a Literal bytes Object"
   ]
  },
  {
   "cell_type": "markdown",
   "metadata": {},
   "source": [
    "A bytes literal is defined in the same way as a string literal with the addition of a 'b' prefix:"
   ]
  },
  {
   "cell_type": "code",
   "execution_count": 3,
   "metadata": {},
   "outputs": [],
   "source": [
    "b = b'foo bar baz'"
   ]
  },
  {
   "cell_type": "code",
   "execution_count": 4,
   "metadata": {},
   "outputs": [
    {
     "name": "stdout",
     "output_type": "stream",
     "text": [
      "b'foo bar baz'\n"
     ]
    }
   ],
   "source": [
    "print(b)"
   ]
  },
  {
   "cell_type": "code",
   "execution_count": 5,
   "metadata": {},
   "outputs": [
    {
     "data": {
      "text/plain": [
       "bytes"
      ]
     },
     "execution_count": 5,
     "metadata": {},
     "output_type": "execute_result"
    }
   ],
   "source": [
    "type(b)"
   ]
  },
  {
   "cell_type": "markdown",
   "metadata": {},
   "source": [
    "Only ASCII characters are allowed in a bytes literal. Any character value greater than 127 must be specified using an appropriate escape sequence:"
   ]
  },
  {
   "cell_type": "code",
   "execution_count": 6,
   "metadata": {},
   "outputs": [],
   "source": [
    "b = b'foo\\xddbar'"
   ]
  },
  {
   "cell_type": "code",
   "execution_count": 7,
   "metadata": {},
   "outputs": [
    {
     "data": {
      "text/plain": [
       "b'foo\\xddbar'"
      ]
     },
     "execution_count": 7,
     "metadata": {},
     "output_type": "execute_result"
    }
   ],
   "source": [
    "b"
   ]
  },
  {
   "cell_type": "code",
   "execution_count": 8,
   "metadata": {},
   "outputs": [
    {
     "data": {
      "text/plain": [
       "221"
      ]
     },
     "execution_count": 8,
     "metadata": {},
     "output_type": "execute_result"
    }
   ],
   "source": [
    "b[3]"
   ]
  },
  {
   "cell_type": "code",
   "execution_count": 9,
   "metadata": {},
   "outputs": [
    {
     "data": {
      "text/plain": [
       "221"
      ]
     },
     "execution_count": 9,
     "metadata": {},
     "output_type": "execute_result"
    }
   ],
   "source": [
    "int(0xdd)"
   ]
  },
  {
   "cell_type": "markdown",
   "metadata": {},
   "source": [
    "#### Defining a bytes Object With the Built-in bytes() Function"
   ]
  },
  {
   "cell_type": "markdown",
   "metadata": {},
   "source": [
    "The bytes() function also creates a bytes object. What sort of bytes object gets returned depends on the argument(s) passed to the function. The possible forms are shown below."
   ]
  },
  {
   "cell_type": "markdown",
   "metadata": {},
   "source": [
    "`bytes(<s>, <encoding>) converts string <s> to a bytes object, using str.encode() according to the specified <encoding>:`"
   ]
  },
  {
   "cell_type": "code",
   "execution_count": 10,
   "metadata": {},
   "outputs": [],
   "source": [
    "b = bytes('foo.bar', 'utf8')"
   ]
  },
  {
   "cell_type": "code",
   "execution_count": 11,
   "metadata": {},
   "outputs": [
    {
     "data": {
      "text/plain": [
       "b'foo.bar'"
      ]
     },
     "execution_count": 11,
     "metadata": {},
     "output_type": "execute_result"
    }
   ],
   "source": [
    "b"
   ]
  },
  {
   "cell_type": "markdown",
   "metadata": {},
   "source": [
    "> Technical Note: In this form of the bytes() function, the <encoding> argument is required. “Encoding” refers to the manner in which characters are translated to integer values. A value of \"utf8\" indicates Unicode Transformation Format UTF-8, which is an encoding that can handle every possible Unicode character. UTF-8 can also be indicated by specifying \"UTF8\", \"utf-8\", or \"UTF-8\" for <encoding>."
   ]
  },
  {
   "cell_type": "markdown",
   "metadata": {},
   "source": [
    "Although a bytes object definition and representation is based on ASCII text, it actually behaves like an immutable sequence of small integers in the range 0 to 255, inclusive. That is why a single element from a bytes object is displayed as an integer:"
   ]
  },
  {
   "cell_type": "code",
   "execution_count": 12,
   "metadata": {},
   "outputs": [
    {
     "data": {
      "text/plain": [
       "46"
      ]
     },
     "execution_count": 12,
     "metadata": {},
     "output_type": "execute_result"
    }
   ],
   "source": [
    "b[3]"
   ]
  },
  {
   "cell_type": "markdown",
   "metadata": {},
   "source": [
    "You can convert a bytes object into a list of integers with the built-in list() function:"
   ]
  },
  {
   "cell_type": "code",
   "execution_count": 13,
   "metadata": {},
   "outputs": [
    {
     "data": {
      "text/plain": [
       "[102, 111, 111, 46, 98, 97, 114]"
      ]
     },
     "execution_count": 13,
     "metadata": {},
     "output_type": "execute_result"
    }
   ],
   "source": [
    "list(b)"
   ]
  },
  {
   "cell_type": "markdown",
   "metadata": {},
   "source": [
    "Hexadecimal numbers are often used to specify binary data because two hexadecimal digits correspond directly to a single byte. The bytes class supports two additional methods that facilitate conversion to and from a string of hexadecimal digits."
   ]
  },
  {
   "cell_type": "markdown",
   "metadata": {},
   "source": [
    "- `bytes.fromhex(<s>): Returns a bytes object constructed from a string of hexadecimal values.`"
   ]
  },
  {
   "cell_type": "markdown",
   "metadata": {},
   "source": [
    "bytes.fromhex(s) returns the bytes object that results from converting each pair of hexadecimal digits in s to the corresponding byte value. The hexadecimal digit pairs in s may optionally be separated by whitespace, which is ignored:"
   ]
  },
  {
   "cell_type": "code",
   "execution_count": 14,
   "metadata": {},
   "outputs": [],
   "source": [
    "b = bytes.fromhex(' aa 68 4682cc ')"
   ]
  },
  {
   "cell_type": "code",
   "execution_count": 15,
   "metadata": {},
   "outputs": [
    {
     "data": {
      "text/plain": [
       "b'\\xaahF\\x82\\xcc'"
      ]
     },
     "execution_count": 15,
     "metadata": {},
     "output_type": "execute_result"
    }
   ],
   "source": [
    "b"
   ]
  },
  {
   "cell_type": "code",
   "execution_count": 16,
   "metadata": {},
   "outputs": [
    {
     "data": {
      "text/plain": [
       "[170, 104, 70, 130, 204]"
      ]
     },
     "execution_count": 16,
     "metadata": {},
     "output_type": "execute_result"
    }
   ],
   "source": [
    "list(b)"
   ]
  },
  {
   "cell_type": "markdown",
   "metadata": {},
   "source": [
    "- `b.hex(): Returns a string of hexadecimal value from a bytes object.`"
   ]
  },
  {
   "cell_type": "markdown",
   "metadata": {},
   "source": [
    "b.hex() returns the result of converting bytes object b into a string of hexadecimal digit pairs. That is, it does the reverse of .fromhex():\n",
    "\n"
   ]
  },
  {
   "cell_type": "code",
   "execution_count": 17,
   "metadata": {},
   "outputs": [],
   "source": [
    "b = bytes.fromhex(' aa 68 4682cc ')"
   ]
  },
  {
   "cell_type": "code",
   "execution_count": 18,
   "metadata": {},
   "outputs": [
    {
     "data": {
      "text/plain": [
       "b'\\xaahF\\x82\\xcc'"
      ]
     },
     "execution_count": 18,
     "metadata": {},
     "output_type": "execute_result"
    }
   ],
   "source": [
    "b"
   ]
  },
  {
   "cell_type": "code",
   "execution_count": 19,
   "metadata": {},
   "outputs": [
    {
     "data": {
      "text/plain": [
       "'aa684682cc'"
      ]
     },
     "execution_count": 19,
     "metadata": {},
     "output_type": "execute_result"
    }
   ],
   "source": [
    "b.hex()"
   ]
  },
  {
   "cell_type": "code",
   "execution_count": 20,
   "metadata": {},
   "outputs": [
    {
     "data": {
      "text/plain": [
       "str"
      ]
     },
     "execution_count": 20,
     "metadata": {},
     "output_type": "execute_result"
    }
   ],
   "source": [
    "type(b.hex())"
   ]
  },
  {
   "cell_type": "markdown",
   "metadata": {},
   "source": [
    "The other ways of building bytes or bytearray instances are calling their constructors\n",
    "with:\n",
    "- A str and an encoding keyword argument.\n",
    "- An iterable providing items with values from 0 to 255.\n",
    "- A single integer, to create a binary sequence of that size initialized with null bytes.\n",
    "(This signature will be deprecated in Python 3.5 and removed in Python 3.6. See\n",
    "PEP 467 — Minor API improvements for binary sequences.)\n",
    "- An object that implements the buffer protocol (e.g., bytes, bytearray, memory\n",
    "view, array.array); this copies the bytes from the source object to the newly created\n",
    "binary sequence.\n",
    "\n",
    "\n",
    "Building a binary sequence from a buffer-like object is a low-level operation that may\n",
    "involve type casting."
   ]
  },
  {
   "cell_type": "markdown",
   "metadata": {},
   "source": [
    "#### String encode()/decode()"
   ]
  },
  {
   "cell_type": "markdown",
   "metadata": {},
   "source": [
    "In Python 3, there are two types that represent sequences of characters: bytes and str.\n",
    "Instances of bytes contain raw 8-bit values. Instances of str contain Unicode\n",
    "characters.\n",
    "\n",
    "There are many ways to represent Unicode characters as binary data (raw 8-bit values).\n",
    "The most common encoding is UTF-8. Importantly, str instances in Python 3 and\n",
    "unicode instances in Python 2 do not have an associated binary encoding. To convert\n",
    "Unicode characters to binary data, you must use the encode method. To convert binary\n",
    "data to Unicode characters, you must use the decode method.\n",
    "\n",
    "When you’re writing Python programs, it’s important to do encoding and decoding of\n",
    "Unicode at the furthest boundary of your interfaces. The core of your program should use\n",
    "Unicode character types (str in Python 3, unicode in Python 2) and should not assume\n",
    "anything about character encodings. This approach allows you to be very accepting of\n",
    "alternative text encodings (such as Latin-1, Shift JIS, and Big5) while being strict about\n",
    "your output text encoding (ideally, UTF-8)."
   ]
  },
  {
   "cell_type": "markdown",
   "metadata": {},
   "source": [
    "[codecs — Codec registry and base classes](https://docs.python.org/3/library/codecs.html)"
   ]
  },
  {
   "cell_type": "markdown",
   "metadata": {},
   "source": [
    "The concept of “string” is simple enough: a string is a sequence of characters. The problem\n",
    "lies in the definition of “character.”\n",
    "\n",
    "In 2015, the best definition of “character” we have is a Unicode character. Accordingly,\n",
    "the items you get out of a Python 3 str are Unicode characters, just like the items of a\n",
    "unicode object in Python 2—and not the raw bytes you get from a Python 2 str."
   ]
  },
  {
   "cell_type": "markdown",
   "metadata": {},
   "source": [
    "The Unicode standard explicitly separates the identity of characters from specific byte\n",
    "representations:\n",
    "- The identity of a character—its code point—is a number from 0 to 1,114,111 (base\n",
    "10), shown in the Unicode standard as 4 to 6 hexadecimal digits with a “U+” prefix.\n",
    "For example, the code point for the letter A is U+0041, the Euro sign is U+20AC,\n",
    "and the musical symbol G clef is assigned to code point U+1D11E. About 10% of\n",
    "the valid code points have characters assigned to them in Unicode 6.3, the standard\n",
    "used in Python 3.4.\n",
    "- The actual bytes that represent a character depend on the encoding in use. An encoding\n",
    "is an algorithm that converts code points to byte sequences and vice versa.\n",
    "The code point for A (U+0041) is encoded as the single byte \\x41 in the UTF-8\n",
    "encoding, or as the bytes \\x41\\x00 in UTF-16LE encoding. As another example,\n",
    "the Euro sign (U+20AC) becomes three bytes in UTF-8—\\xe2\\x82\\xac—but in\n",
    "UTF-16LE it is encoded as two bytes: \\xac\\x20."
   ]
  },
  {
   "cell_type": "markdown",
   "metadata": {},
   "source": [
    "Converting from code points to bytes is encoding; converting from bytes to code points\n",
    "is decoding."
   ]
  },
  {
   "cell_type": "code",
   "execution_count": 1,
   "metadata": {},
   "outputs": [],
   "source": [
    "# Example: Encoding and decoding"
   ]
  },
  {
   "cell_type": "code",
   "execution_count": 21,
   "metadata": {},
   "outputs": [],
   "source": [
    "s = 'café'"
   ]
  },
  {
   "cell_type": "code",
   "execution_count": 22,
   "metadata": {},
   "outputs": [
    {
     "data": {
      "text/plain": [
       "4"
      ]
     },
     "execution_count": 22,
     "metadata": {},
     "output_type": "execute_result"
    }
   ],
   "source": [
    "# The str 'café' has four Unicode characters.\n",
    "len(s)"
   ]
  },
  {
   "cell_type": "markdown",
   "metadata": {},
   "source": [
    "Python string encode() function is used to encode the string using the provided encoding. This function returns the bytes object. If we don’t provide encoding, “utf-8” encoding is used as default."
   ]
  },
  {
   "cell_type": "code",
   "execution_count": 23,
   "metadata": {},
   "outputs": [],
   "source": [
    "# Encode str to bytes using UTF-8 encoding.\n",
    "b = s.encode('utf8')"
   ]
  },
  {
   "cell_type": "code",
   "execution_count": 24,
   "metadata": {},
   "outputs": [
    {
     "data": {
      "text/plain": [
       "b'caf\\xc3\\xa9'"
      ]
     },
     "execution_count": 24,
     "metadata": {},
     "output_type": "execute_result"
    }
   ],
   "source": [
    "b # bytes literals start with a b prefix."
   ]
  },
  {
   "cell_type": "code",
   "execution_count": 25,
   "metadata": {},
   "outputs": [
    {
     "data": {
      "text/plain": [
       "b'caf\\xc3\\xa9'"
      ]
     },
     "execution_count": 25,
     "metadata": {},
     "output_type": "execute_result"
    }
   ],
   "source": [
    "#Isto\n",
    "bytes(s, 'utf-8')"
   ]
  },
  {
   "cell_type": "code",
   "execution_count": 26,
   "metadata": {},
   "outputs": [
    {
     "data": {
      "text/plain": [
       "5"
      ]
     },
     "execution_count": 26,
     "metadata": {},
     "output_type": "execute_result"
    }
   ],
   "source": [
    "# bytes b has five bytes (the code point for “é” is encoded as two bytes in UTF-8).\n",
    "len(b)"
   ]
  },
  {
   "cell_type": "markdown",
   "metadata": {},
   "source": [
    "Python bytes decode() function is used to convert bytes to string object. Both these functions allow us to specify the error handling scheme to use for encoding/decoding errors. The default is ‘strict’ meaning that encoding errors raise a UnicodeEncodeError. Some other possible values are ‘ignore’, ‘replace’ and ‘xmlcharrefreplace’."
   ]
  },
  {
   "cell_type": "code",
   "execution_count": 27,
   "metadata": {},
   "outputs": [
    {
     "data": {
      "text/plain": [
       "'café'"
      ]
     },
     "execution_count": 27,
     "metadata": {},
     "output_type": "execute_result"
    }
   ],
   "source": [
    "# Decode bytes to str using UTF-8 encoding.\n",
    "b.decode('utf8')"
   ]
  },
  {
   "cell_type": "markdown",
   "metadata": {},
   "source": [
    "> If you need a memory aid to help distinguish .decode()\n",
    "from .encode(), convince yourself that byte sequences can be\n",
    "cryptic machine core dumps while Unicode str objects are “human”\n",
    "text. Therefore, it makes sense that we decode bytes to str\n",
    "to get human-readable text, and we encode str to bytes for storage\n",
    "or transmission."
   ]
  },
  {
   "cell_type": "markdown",
   "metadata": {},
   "source": [
    "The Python distribution bundles more than 100 codecs (encoder/decoder) for text to\n",
    "byte conversion and vice versa. Each codec has a name, like 'utf_8', and often aliases,\n",
    "such as 'utf8', 'utf-8', and 'U8', which you can use as the encoding argument in\n",
    "functions like open(), str.encode(), bytes.decode(), and so on."
   ]
  },
  {
   "cell_type": "code",
   "execution_count": 28,
   "metadata": {},
   "outputs": [],
   "source": [
    "# The string “El Niño” encoded with three codecs producing very different\n",
    "# byte sequences"
   ]
  },
  {
   "cell_type": "code",
   "execution_count": 29,
   "metadata": {},
   "outputs": [
    {
     "name": "stdout",
     "output_type": "stream",
     "text": [
      "latin_1\tb'El Ni\\xf1o'\n",
      "utf_8\tb'El Ni\\xc3\\xb1o'\n",
      "utf_16\tb'\\xff\\xfeE\\x00l\\x00 \\x00N\\x00i\\x00\\xf1\\x00o\\x00'\n"
     ]
    }
   ],
   "source": [
    "for codec in ['latin_1', 'utf_8', 'utf_16']:\n",
    "    print(codec, 'El Niño'.encode(codec), sep='\\t')"
   ]
  },
  {
   "cell_type": "markdown",
   "metadata": {},
   "source": [
    "You’ll often need two helper functions to convert between these two cases and to ensure\n",
    "that the type of input values matches your code’s expectations."
   ]
  },
  {
   "cell_type": "markdown",
   "metadata": {},
   "source": [
    "In Python 3, you’ll need one method that takes a str or bytes and always returns a\n",
    "str."
   ]
  },
  {
   "cell_type": "code",
   "execution_count": 30,
   "metadata": {},
   "outputs": [],
   "source": [
    "def to_str(bytes_or_str):\n",
    "    if isinstance(bytes_or_str, bytes):\n",
    "        value = bytes_or_str.decode('utf-8')\n",
    "    else:\n",
    "        value = bytes_or_str\n",
    "    return value # Instance of str"
   ]
  },
  {
   "cell_type": "code",
   "execution_count": 31,
   "metadata": {},
   "outputs": [
    {
     "data": {
      "text/plain": [
       "'café'"
      ]
     },
     "execution_count": 31,
     "metadata": {},
     "output_type": "execute_result"
    }
   ],
   "source": [
    "to_str(b'caf\\xc3\\xa9')"
   ]
  },
  {
   "cell_type": "markdown",
   "metadata": {},
   "source": [
    "You’ll need another method that takes a str or bytes and always returns a bytes."
   ]
  },
  {
   "cell_type": "code",
   "execution_count": 32,
   "metadata": {},
   "outputs": [],
   "source": [
    "def to_bytes(bytes_or_str):\n",
    "    if isinstance(bytes_or_str, str):\n",
    "        value = bytes_or_str.encode('utf-8')\n",
    "    else:\n",
    "        value = bytes_or_str\n",
    "    return value # Instance of bytes"
   ]
  },
  {
   "cell_type": "code",
   "execution_count": 33,
   "metadata": {},
   "outputs": [
    {
     "data": {
      "text/plain": [
       "b'danes je de\\xc5\\xbeeven dan'"
      ]
     },
     "execution_count": 33,
     "metadata": {},
     "output_type": "execute_result"
    }
   ],
   "source": [
    "to_bytes('danes je deževen dan')"
   ]
  },
  {
   "cell_type": "markdown",
   "metadata": {},
   "source": [
    "- In Python 3, bytes contains sequences of 8-bit values, str contains sequences of\n",
    "Unicode characters. bytes and str instances can’t be used together with operators\n",
    "(like > or +).\n",
    "- Use helper functions to ensure that the inputs you operate on are the type of\n",
    "character sequence you expect (8-bit values, UTF-8 encoded characters, Unicode\n",
    "characters, etc.)."
   ]
  },
  {
   "cell_type": "markdown",
   "metadata": {},
   "source": [
    "#### Primer: base64"
   ]
  },
  {
   "cell_type": "markdown",
   "metadata": {},
   "source": [
    "[Encoding and Decoding Base64 Strings in Python](https://stackabuse.com/encoding-and-decoding-base64-strings-in-python/)"
   ]
  },
  {
   "cell_type": "markdown",
   "metadata": {},
   "source": [
    "Base64 encoding allows us to convert bytes containing binary or text data to ASCII characters. By encoding our data, we improve the chances of it being processed correctly by various systems."
   ]
  },
  {
   "cell_type": "markdown",
   "metadata": {},
   "source": [
    "**What is Base64 Encoding?**\n",
    "Base64 encoding is a type of conversion of bytes into ASCII characters. In mathematics, the base of a number system refers to how many different characters represent numbers. The name of this encoding comes directly from the mathematical definition of bases - we have 64 characters that represent numbers.\n",
    "\n",
    "The Base64 character set contains:\n",
    "- 26 uppercase letters\n",
    "- 26 lowercase letters\n",
    "- 10 numbers\n",
    "- + and / for new lines (some implementations may use different characters)\n",
    "\n",
    "When the computer converts Base64 characters to binary, each Base64 character represents 6 bits of information.\n",
    "Note: This is not an encryption algorithm, and should not be used for security purposes."
   ]
  },
  {
   "cell_type": "markdown",
   "metadata": {},
   "source": [
    "**Why use Base64 Encoding?**\n",
    "\n",
    "In computers, all data of different types are transmitted as 1s and 0s. However, some communication channels and applications are not able to understand all the bits it receives. This is because the meaning of a sequence of 1s and 0s is dependent on the type of data it represents. For example, 10110001 must be processed differently if it represents a letter or an image.\n",
    "\n",
    "To work around this limitation, you can encode your data to text, improving the chances of it being transmitted and processed correctly. Base64 is a popular method to get binary data into ASCII characters, which is widely understood by the majority of networks and applications.\n",
    "\n",
    "A common real-world scenario where Base64 encoding is heavily used are in mail servers. They were originally built to handle text data, but we also expect them to send images and other media with a message. In those cases, your media data would be Base64 encoded when it is being sent. It will then be Base64 decoded when it is received so an application can use it. "
   ]
  },
  {
   "cell_type": "markdown",
   "metadata": {},
   "source": [
    "**Encoding Strings with Python**"
   ]
  },
  {
   "cell_type": "markdown",
   "metadata": {},
   "source": [
    "Python 3 provides a base64 module that allows us to easily encode and decode information. We first convert the string into a bytes-like object. Once converted, we can use the base64 module to encode it."
   ]
  },
  {
   "cell_type": "code",
   "execution_count": 34,
   "metadata": {},
   "outputs": [
    {
     "name": "stdout",
     "output_type": "stream",
     "text": [
      "message_bytes: b'Python is fun'\n",
      "base64_bytes: b'UHl0aG9uIGlzIGZ1bg=='\n",
      "UHl0aG9uIGlzIGZ1bg==\n"
     ]
    }
   ],
   "source": [
    "import base64\n",
    "\n",
    "message = \"Python is fun\"\n",
    "message_bytes = message.encode('ascii')\n",
    "print('message_bytes:', message_bytes)\n",
    "base64_bytes = base64.b64encode(message_bytes)\n",
    "print('base64_bytes:', base64_bytes)\n",
    "base64_message = base64_bytes.decode('ascii')\n",
    "print(base64_message)"
   ]
  },
  {
   "cell_type": "markdown",
   "metadata": {},
   "source": [
    "In the code above, we first imported the base64 module. The message variable stores our input string to be encoded. We convert that to a bytes-like object using the string's encode method and store it in message_bytes. We then Base64 encode message_bytes and store the result in base64_bytes using the base64.b64encode method. We finally get the string representation of the Base64 conversion by decoding the base64_bytes as ASCII."
   ]
  },
  {
   "cell_type": "markdown",
   "metadata": {},
   "source": [
    "**Decoding Strings with Python**"
   ]
  },
  {
   "cell_type": "markdown",
   "metadata": {},
   "source": [
    "Decoding a Base64 string is essentially a reverse of the encoding process. We decode the Base64 string into bytes of unencoded data. We then convert the bytes-like object into a string."
   ]
  },
  {
   "cell_type": "code",
   "execution_count": 4,
   "metadata": {},
   "outputs": [
    {
     "name": "stdout",
     "output_type": "stream",
     "text": [
      "Python is fun\n"
     ]
    }
   ],
   "source": [
    "import base64\n",
    "\n",
    "base64_message = 'UHl0aG9uIGlzIGZ1bg=='\n",
    "base64_bytes = base64_message.encode('ascii')\n",
    "message_bytes = base64.b64decode(base64_bytes)\n",
    "message = message_bytes.decode('ascii')\n",
    "\n",
    "print(message)"
   ]
  },
  {
   "cell_type": "markdown",
   "metadata": {},
   "source": [
    "Once again, we need the base64 module imported. We then encode our message into a bytes-like object with encode('ASCII'). We continue by calling the base64.b64decode method to decode the base64_bytes into our message_bytes variable. Finally, we decode message_bytes into a string object message, so it becomes human readable.\n",
    "\n"
   ]
  },
  {
   "cell_type": "markdown",
   "metadata": {},
   "source": [
    "#### Primer: Hashing Strings"
   ]
  },
  {
   "cell_type": "markdown",
   "metadata": {},
   "source": [
    "[Hashing Strings with Python](https://www.pythoncentral.io/hashing-strings-with-python/)"
   ]
  },
  {
   "cell_type": "markdown",
   "metadata": {},
   "source": [
    "A hash function is a function that takes input of a variable length sequence of bytes and converts it to a fixed length sequence. It is a one way function. This means if f is the hashing function, calculating f(x) is pretty fast and simple, but trying to obtain x again will take years. The value returned by a hash function is often called a hash, message digest, hash value, or checksum. Most of the time a hash function will produce unique output for a given input"
   ]
  },
  {
   "cell_type": "markdown",
   "metadata": {},
   "source": [
    "It is important to note the \"b\" preceding the string literal, this converts the string to bytes, because the hashing function only takes a sequence of bytes as a parameter."
   ]
  },
  {
   "cell_type": "code",
   "execution_count": 35,
   "metadata": {},
   "outputs": [],
   "source": [
    "message = 'Danes je lep dan.'\n",
    "message_bytes = message.encode()\n",
    "\n",
    "import hashlib\n",
    "hash_object = hashlib.md5(message_bytes)"
   ]
  },
  {
   "cell_type": "markdown",
   "metadata": {},
   "source": [
    "hash.digest(): Return the digest of the data passed to the update() method so far. This is a bytes object of size digest_size which may contain bytes in the whole range from 0 to 255."
   ]
  },
  {
   "cell_type": "code",
   "execution_count": 36,
   "metadata": {},
   "outputs": [
    {
     "data": {
      "text/plain": [
       "b'\\x80\\xf6\\xda\\xf3\\x00|C\\xdcH\\xdeB]\\x7fy\\t\\xa3'"
      ]
     },
     "execution_count": 36,
     "metadata": {},
     "output_type": "execute_result"
    }
   ],
   "source": [
    "hash_object.digest()"
   ]
  },
  {
   "cell_type": "code",
   "execution_count": 37,
   "metadata": {},
   "outputs": [
    {
     "data": {
      "text/plain": [
       "'80f6daf3007c43dc48de425d7f7909a3'"
      ]
     },
     "execution_count": 37,
     "metadata": {},
     "output_type": "execute_result"
    }
   ],
   "source": [
    "hash_object.digest().hex()"
   ]
  },
  {
   "cell_type": "markdown",
   "metadata": {},
   "source": [
    "hash.hexdigest(): Like digest() except the digest is returned as a string object of double length, containing only hexadecimal digits. This may be used to exchange the value safely in email or other non-binary environments."
   ]
  },
  {
   "cell_type": "code",
   "execution_count": 38,
   "metadata": {},
   "outputs": [
    {
     "data": {
      "text/plain": [
       "'80f6daf3007c43dc48de425d7f7909a3'"
      ]
     },
     "execution_count": 38,
     "metadata": {},
     "output_type": "execute_result"
    }
   ],
   "source": [
    "hash_object.hexdigest()"
   ]
  },
  {
   "cell_type": "code",
   "execution_count": 39,
   "metadata": {},
   "outputs": [
    {
     "data": {
      "text/plain": [
       "str"
      ]
     },
     "execution_count": 39,
     "metadata": {},
     "output_type": "execute_result"
    }
   ],
   "source": [
    "type(hash_object.hexdigest())"
   ]
  },
  {
   "cell_type": "code",
   "execution_count": 40,
   "metadata": {},
   "outputs": [
    {
     "name": "stdout",
     "output_type": "stream",
     "text": [
      "2c74fd17edafd80e8447b0d46741ee243b7eb74dd2149a0ab1b9246fb30382f27e853d8585719e0e67cbda0daa8f51671064615d645ae27acb15bfb1447f459b\n"
     ]
    }
   ],
   "source": [
    "# SHA512\n",
    "import hashlib\n",
    "hash_object = hashlib.sha512(b'Hello World')\n",
    "hex_dig = hash_object.hexdigest()\n",
    "print(hex_dig)"
   ]
  },
  {
   "cell_type": "markdown",
   "metadata": {},
   "source": [
    "### Binarne datoteke"
   ]
  },
  {
   "cell_type": "markdown",
   "metadata": {},
   "source": [
    "You need to read or write binary data, such as that found in images, sound files, and so\n",
    "on."
   ]
  },
  {
   "cell_type": "markdown",
   "metadata": {},
   "source": [
    "Use the open() function with mode rb or wb to read or write binary data. For example:"
   ]
  },
  {
   "cell_type": "code",
   "execution_count": 41,
   "metadata": {},
   "outputs": [],
   "source": [
    "# Write binary data to a file\n",
    "with open('data/somefile.bin', 'wb') as f:\n",
    "    f.write(b'Hello World')"
   ]
  },
  {
   "cell_type": "code",
   "execution_count": 42,
   "metadata": {},
   "outputs": [
    {
     "name": "stdout",
     "output_type": "stream",
     "text": [
      "b'Hello World'\n"
     ]
    }
   ],
   "source": [
    "# Read the entire file as a single byte string\n",
    "with open('data/somefile.bin', 'rb') as f:\n",
    "    data = f.read()\n",
    "    print(data)"
   ]
  },
  {
   "cell_type": "markdown",
   "metadata": {},
   "source": [
    "Sometimes, you may need to work with files using byte strings. This is done by adding the 'b' character to the mode argument. All of the same methods for the file object apply. However, each of the methods expect and return a bytes object instead:"
   ]
  },
  {
   "cell_type": "code",
   "execution_count": 43,
   "metadata": {},
   "outputs": [
    {
     "name": "stdout",
     "output_type": "stream",
     "text": [
      "b'The problem with list comprehensions is that they may create a whole new list containing one \\r\\n'\n",
      "<class 'bytes'>\n"
     ]
    }
   ],
   "source": [
    "with open('data/example.txt', 'rb') as reader:\n",
    "    line = reader.readline()\n",
    "    print(line)\n",
    "    print(type(line))"
   ]
  },
  {
   "cell_type": "markdown",
   "metadata": {},
   "source": [
    "When reading binary, it is important to stress that all data returned will be in the form\n",
    "of byte strings, not text strings. Similarly, when writing, you must supply data in the\n",
    "form of objects that expose data as bytes (e.g., byte strings, bytearray objects, etc.)."
   ]
  },
  {
   "cell_type": "markdown",
   "metadata": {},
   "source": [
    "If you ever need to read or write text from a binary-mode file, make sure you remember\n",
    "to decode or encode it. For example:"
   ]
  },
  {
   "cell_type": "code",
   "execution_count": 44,
   "metadata": {},
   "outputs": [],
   "source": [
    "with open('data/somefile.bin', 'wb') as f:\n",
    "    text = 'Hello World'\n",
    "    f.write(text.encode('utf-8'))"
   ]
  },
  {
   "cell_type": "code",
   "execution_count": 45,
   "metadata": {},
   "outputs": [
    {
     "name": "stdout",
     "output_type": "stream",
     "text": [
      "Hello World\n"
     ]
    }
   ],
   "source": [
    "with open('data/somefile.bin', 'rb') as f:\n",
    "    data = f.read(16)\n",
    "    text = data.decode('utf-8')\n",
    "    print(text)"
   ]
  },
  {
   "cell_type": "markdown",
   "metadata": {},
   "source": [
    "### Buffered Binary File Types"
   ]
  },
  {
   "cell_type": "markdown",
   "metadata": {},
   "source": [
    "A buffered binary file type is used for reading and writing binary files. Here are some examples of how these files are opened:"
   ]
  },
  {
   "cell_type": "markdown",
   "metadata": {},
   "source": [
    "    open('abc.txt', 'rb')\n",
    "\n",
    "    open('abc.txt', 'wb')"
   ]
  },
  {
   "cell_type": "markdown",
   "metadata": {},
   "source": [
    "With these types of files, open() will return either a BufferedReader or BufferedWriter file object:"
   ]
  },
  {
   "cell_type": "code",
   "execution_count": 48,
   "metadata": {},
   "outputs": [
    {
     "name": "stdout",
     "output_type": "stream",
     "text": [
      "<class '_io.BufferedReader'>\n"
     ]
    }
   ],
   "source": [
    "with open('data/example.txt', 'rb') as file:\n",
    "    print(type(file))"
   ]
  },
  {
   "cell_type": "code",
   "execution_count": 49,
   "metadata": {},
   "outputs": [
    {
     "name": "stdout",
     "output_type": "stream",
     "text": [
      "<class '_io.BufferedWriter'>\n"
     ]
    }
   ],
   "source": [
    "with open('data/example.txt', 'wb') as file:\n",
    "    print(type(file))"
   ]
  },
  {
   "cell_type": "markdown",
   "metadata": {},
   "source": [
    "> Binary I/O (also called buffered I/O) expects bytes-like objects and produces bytes objects. No encoding, decoding, or newline translation is performed. This category of streams can be used for all kinds of non-text data, and also when manual control over the handling of text data is desired."
   ]
  },
  {
   "cell_type": "markdown",
   "metadata": {},
   "source": [
    "### Raw File Types"
   ]
  },
  {
   "cell_type": "markdown",
   "metadata": {},
   "source": [
    "Raw I/O (also called unbuffered I/O) is generally used as a low-level building-block for binary and text streams; it is rarely useful to directly manipulate a raw stream from user code. Nevertheless, you can create a raw stream by opening a file in binary mode with buffering disabled:"
   ]
  },
  {
   "cell_type": "markdown",
   "metadata": {},
   "source": [
    "It is therefore not typically used.\n",
    "\n",
    "Here’s an example of how these files are opened:"
   ]
  },
  {
   "cell_type": "markdown",
   "metadata": {},
   "source": [
    "    open('abc.txt', 'rb', buffering=0)"
   ]
  },
  {
   "cell_type": "markdown",
   "metadata": {},
   "source": [
    "With these types of files, open() will return a FileIO file object:"
   ]
  },
  {
   "cell_type": "code",
   "execution_count": 50,
   "metadata": {},
   "outputs": [
    {
     "name": "stdout",
     "output_type": "stream",
     "text": [
      "<class '_io.FileIO'>\n"
     ]
    }
   ],
   "source": [
    "with open('data/example.txt', 'rb', buffering=0) as file:\n",
    "    print(type(file))"
   ]
  },
  {
   "cell_type": "markdown",
   "metadata": {},
   "source": [
    "### Memory Mapping Binary Files"
   ]
  },
  {
   "cell_type": "markdown",
   "metadata": {},
   "source": [
    "[mmap — Memory-mapped file support](https://docs.python.org/3.8/library/mmap.html) This module provides an interface to the operating system’s memory mapping functions. The mapped region behaves pretty much like a string object, but data is read directly from the fil"
   ]
  },
  {
   "cell_type": "markdown",
   "metadata": {},
   "source": [
    "Memory-mapped file objects behave like both bytearray and like file objects. You can use mmap objects in most places where bytearray are expected; for example, you can use the re module to search through a memory-mapped file. You can also change a single byte by doing obj[index] = 97, or change a subsequence by assigning to a slice: obj[i1:i2] = b'...'. You can also read and write data starting at the current file position, and seek() through the file to different positions."
   ]
  },
  {
   "cell_type": "markdown",
   "metadata": {},
   "source": [
    "A memory-mapped file is created by the mmap constructor, which is different on Unix and on Windows. In either case you must provide a file descriptor for a file opened for update. If you wish to map an existing Python file object, use its fileno() method to obtain the correct value for the fileno parameter. Otherwise, you can open the file using the os.open() function, which returns a file descriptor directly (the file still needs to be closed when done)."
   ]
  },
  {
   "cell_type": "code",
   "execution_count": 51,
   "metadata": {},
   "outputs": [],
   "source": [
    "import mmap\n",
    "\n",
    "# write a simple example file\n",
    "with open(\"data/mapping.txt\", \"wb\") as f:\n",
    "    f.write(b\"Hello Python!\\n\")"
   ]
  },
  {
   "cell_type": "code",
   "execution_count": 52,
   "metadata": {},
   "outputs": [
    {
     "name": "stdout",
     "output_type": "stream",
     "text": [
      "b'Hello Python!\\n'\n",
      "b'Hello'\n",
      "b'Hello LLXXld!\\n'\n"
     ]
    }
   ],
   "source": [
    "with open(\"data/mapping.txt\", \"r+b\") as f:\n",
    "    #memory-map the file, size 0 means whole file\n",
    "    mm = mmap.mmap(f.fileno(), 0)\n",
    "    # read content via standard file methods\n",
    "    print(mm.readline())  # prints b\"Hello Python!\\n\"\n",
    "    # read content via slice notation\n",
    "    print(mm[:5])  # prints b\"Hello\"\n",
    "    # update content using slice notation;\n",
    "    # note that new content must have same size\n",
    "    mm[6:] = b\" wXXld!\\n\"\n",
    "    mm[6:8] = b\"LL\"\n",
    "    # ... and read again using standard file methods\n",
    "    mm.seek(0)\n",
    "    print(mm.readline())  # prints b\"Hello  world!\\n\"\n",
    "    # close the map\n",
    "    mm.close()"
   ]
  },
  {
   "cell_type": "markdown",
   "metadata": {},
   "source": [
    "The code above opens a file, then memory maps it. It exercises the readline() method of the mapped file, demonstrating that it works just as with a standard file. It then reads and writes slices of the mapped file (an equally valid way to access the mapped file's content, which does not alter the file pointer). Finally the file pointer is repositioned at the start and the (updated) contents are read in. ("
   ]
  },
  {
   "cell_type": "markdown",
   "metadata": {},
   "source": [
    "> Writing: To set up the memory mapped file to receive updates, start by opening it for appending with mode 'r+' (not 'w') before mapping it. Then use any of the API methods that change the data (write(), assignment to a slice, etc.)."
   ]
  },
  {
   "cell_type": "markdown",
   "metadata": {},
   "source": [
    "Files can be so large that it is impractical to load all of their content into memory at once. The mmap.mmap() function creates a virtual file object. Not only can you perform all the regular file operations on a memory-mapped file, you can also treat it as a vast object (far larger than any real object could be) that you can address just like any other sequence.\n",
    "\n",
    "This technique deals with files by mapping them into your process's address space. The mmap module allows you to treat files as similar to bytearray objects—you can index them, slice them, search them with regular expressions and the like. Many of these operations can make it much easier to handle the data in a file: without memory mapping, you have to read the file in chunks and process the chunks (assuming the files are too large to read into memory as a single chunk). This makes it very difficult to process strings that overlap the inter-chunk boundaries. Memory mapping allows you to pretend that all the data is in memory at the same time even when that is not actually the case. The necessary manipulations to allow this are performed automatically.\n"
   ]
  },
  {
   "cell_type": "markdown",
   "metadata": {},
   "source": [
    "Memory-mapping a file uses the operating system virtual memory system to access the data on the filesystem directly, instead of using normal I/O functions. Memory-mapping typically improves I/O performance because it does not involve a separate system call for each access and it does not require copying data between buffers – the memory is accessed directly."
   ]
  },
  {
   "cell_type": "markdown",
   "metadata": {},
   "source": [
    "Memory-mapped files can be treated as mutable strings or file-like objects, depending on your need. A mapped file supports the expected file API methods, such as close(), flush(), read(), readline(), seek(), tell(), and write(). It also supports the string API, with features such as slicing and methods like find()."
   ]
  },
  {
   "cell_type": "markdown",
   "metadata": {},
   "source": [
    "> Note There are differences in the arguments and behaviors for mmap() between Unix and Windows, which are not discussed below. For more details, refer to the standard library documentation."
   ]
  },
  {
   "cell_type": "markdown",
   "metadata": {},
   "source": [
    "#### The mmap Interface"
   ]
  },
  {
   "cell_type": "markdown",
   "metadata": {},
   "source": [
    "<p> For calls to <b>mmap.mmap()</b> to be cross-platform compatible they should stick to the following signature: </p>\n",
    "\n",
    "\n",
    "OBSERVE:<pre>mmap(<span class=\"darkred\">fileno</span>, <span class=\"darkblue\">length</span>, <span class=\"darkgreen\">access=ACCESS_WRITE</span>, <span class=\"purple\">offset=0</span>)</pre>\n",
    "\n",
    "<p>The <span class=\"darkred\">file number</span> is used simply because this mirrors the interface of the underlying C library (not always \n",
    "the best design decision, but fortunately the file number is easily obtained from an open file's fileno() method). Using a \n",
    "file number of -1 creates an anonymous share (one that cannot be accessed from the filestore). </p>\n",
    "\n",
    "<p>The call above maps <span class=\"darkblue\">length</span> bytes from the beginning of the file, and returns an mmap object that gives \n",
    "both file- and index-based access to that portion of the file's contents. If <span class=\"darkblue\">length</span> exceeds the current \n",
    "length of the file, the file is extended to the new length before operations continue. If <span class=\"darkblue\">length</span> is \n",
    "zero, the mmap object will map the current length of the file, which in turn sets the maximum valid index that can be used.</p>\n",
    "\n",
    "<p>The optional <span class=\"darkgreen\">access</span> argument can take one of three values, all defined in the mmap module: </p>\n",
    "\n",
    "<table class=\"tbl\"><tbody><tr><th>Access Value</th><th>Meaning</th></tr><tr><td>ACCESS_READ</td><td>Any attempt to assign to the memory map raises a TypeError exception.</td></tr><tr><td>ACCESS_WRITE</td><td>Assignments to the map affect both the map's content and the underlying file.</td></tr><tr><td>ACCESS_COPY</td><td>Assignments to the memory map change the map's contents but do not update the file on which the map was based \n",
    "(a copy-on-write mapping).</td></tr></tbody></table>\n",
    "\n",
    "<p>The <span class=\"purple\">offset</span> argument, when present, establishes an offset within the file for the starting position of the \n",
    "memory map. The offset must be a multiple of the constant <b>mmap.ALLOCATIONGRANULARITY</b> (which is typically the size of \n",
    "a virtual memory block, 4096 bytes on many systems). </p>"
   ]
  },
  {
   "cell_type": "markdown",
   "metadata": {},
   "source": [
    "> Be careful with large files. Remember that if you memory map a file it gets mapped into your process's virtual address space. If you are using 32-bit Python (either because you are running on a 32-bit system or because your system administrators chose to install a 32-bit Python interpreter on a system built using 64-bit technology), each process has a 4GB upper limit on the size of its address space. Since there are many other claims on a process's memory, it is unlikely you will be able to map all of a file much above 1GB in size in a 32-bit Python environment."
   ]
  },
  {
   "cell_type": "markdown",
   "metadata": {},
   "source": [
    "> First, the memory of your machine is irrelevant. It's the size of your process's address space that's relevant. With a 32-bit Python, this will be somewhere under 4GB. With a 64-bit Python, it will be more than enough.\n",
    "The reason for this is that mmap isn't about mapping a file into physical memory, but into virtual memory. An mmapped file becomes just like a special swap file for your program. Thinking about this can get a bit complicated, but the Wikipedia links above should help.\n",
    "So, the first answer is \"use a 64-bit Python\". But obviously that may not be applicable in your case.\n",
    "The obvious alternative is to map in the first 1GB, search that, unmap it, map in the next 1GB, etc. The way you do this is by specifying the length and offset parameters to the mmap method. For example: `m = mmap.mmap(f.fileno(), length=1024*1024*1024, offset=1536*1024*1024)`"
   ]
  },
  {
   "cell_type": "markdown",
   "metadata": {},
   "source": [
    "### Uporaba"
   ]
  },
  {
   "cell_type": "markdown",
   "metadata": {},
   "source": [
    "You want to memory map a binary file into a mutable byte array, possibly for random\n",
    "access to its contents or to make in-place modifications."
   ]
  },
  {
   "cell_type": "markdown",
   "metadata": {},
   "source": [
    "Use the mmap module to memory map files. Here is a utility function that shows how to\n",
    "open a file and memory map it in a portable manner:"
   ]
  },
  {
   "cell_type": "code",
   "execution_count": 53,
   "metadata": {},
   "outputs": [],
   "source": [
    "import os\n",
    "import mmap\n",
    "\n",
    "def memory_map(filename, access=mmap.ACCESS_WRITE):\n",
    "    size = os.path.getsize(filename)\n",
    "    fd = os.open(filename, os.O_RDWR)\n",
    "    return mmap.mmap(fd, size, access=access)"
   ]
  },
  {
   "cell_type": "markdown",
   "metadata": {},
   "source": [
    "Now here is an example of memory mapping the contents using the memory_map()\n",
    "function:"
   ]
  },
  {
   "cell_type": "code",
   "execution_count": 54,
   "metadata": {},
   "outputs": [],
   "source": [
    "m = memory_map('data/mapping.txt')"
   ]
  },
  {
   "cell_type": "code",
   "execution_count": 55,
   "metadata": {},
   "outputs": [
    {
     "data": {
      "text/plain": [
       "14"
      ]
     },
     "execution_count": 55,
     "metadata": {},
     "output_type": "execute_result"
    }
   ],
   "source": [
    "len(m)"
   ]
  },
  {
   "cell_type": "code",
   "execution_count": 56,
   "metadata": {},
   "outputs": [
    {
     "data": {
      "text/plain": [
       "b'Hello LLXX'"
      ]
     },
     "execution_count": 56,
     "metadata": {},
     "output_type": "execute_result"
    }
   ],
   "source": [
    "m[0:10]"
   ]
  },
  {
   "cell_type": "code",
   "execution_count": 57,
   "metadata": {},
   "outputs": [],
   "source": [
    "m.close()"
   ]
  },
  {
   "cell_type": "markdown",
   "metadata": {},
   "source": [
    "The mmap object returned by mmap() can also be used as a context manager, in which\n",
    "case the underlying file is closed automatically. For example:"
   ]
  },
  {
   "cell_type": "code",
   "execution_count": 58,
   "metadata": {},
   "outputs": [
    {
     "name": "stdout",
     "output_type": "stream",
     "text": [
      "14\n",
      "b'Hello LLXX'\n"
     ]
    }
   ],
   "source": [
    "with memory_map('data/mapping.txt') as m:\n",
    "    print(len(m))\n",
    "    print(m[0:10])"
   ]
  },
  {
   "cell_type": "markdown",
   "metadata": {},
   "source": [
    "By default, the memory_map() function shown opens a file for both reading and writing.\n",
    "Any modifications made to the data are copied back to the original file. If read-only\n",
    "access is needed instead, supply mmap.ACCESS_READ for the access argument. For\n",
    "example:\n",
    "- `m = memory_map(filename, mmap.ACCESS_READ)`\n",
    "\n",
    "If you intend to modify the data locally, but don’t want those changes written back to\n",
    "the original file, use mmap.ACCESS_COPY:\n",
    "- `m = memory_map(filename, mmap.ACCESS_COPY)`"
   ]
  },
  {
   "cell_type": "markdown",
   "metadata": {},
   "source": [
    "Using mmap to map files into memory can be an efficient and elegant means for randomly\n",
    "accessing the contents of a file. For example, instead of opening a file and performing\n",
    "various combinations of seek(), read(), and write() calls, you can simply map the\n",
    "file and access the data using slicing operations."
   ]
  },
  {
   "cell_type": "markdown",
   "metadata": {},
   "source": [
    "It should be emphasized that memory mapping a file does not cause the entire file to be\n",
    "read into memory. That is, it’s not copied into some kind of memory buffer or array.\n",
    "Instead, the operating system merely reserves a section of virtual memory for the file\n",
    "contents. As you access different regions, those portions of the file will be read and\n",
    "mapped into the memory region as needed. However, parts of the file that are never\n",
    "accessed simply stay on disk. This all happens transparently, behind the scenes.\n",
    "\n",
    "If more than one Python interpreter memory maps the same file, the resulting mmap\n",
    "object can be used to exchange data between interpreters. That is, all interpreters can\n",
    "read/write data simultaneously, and changes made to the data in one interpreter will\n",
    "automatically appear in the others. Obviously, some extra care is required to synchronize\n",
    "things, but this kind of approach is sometimes used as an alternative to transmitting\n",
    "data in messages over pipes or sockets.\n",
    "\n",
    "As shown, this recipe has been written to be as general purpose as possible, working on\n",
    "both Unix and Windows. Be aware that there are some platform differences concerning\n",
    "the use of the mmap() call hidden behind the scenes."
   ]
  },
  {
   "cell_type": "markdown",
   "metadata": {},
   "source": [
    "Another trick: you can alleviate the possible memory problems by using mmap.mmap() to create a \"string-like\" object that uses the underlying file (instead of reading the whole file in memory):"
   ]
  },
  {
   "cell_type": "code",
   "execution_count": 59,
   "metadata": {},
   "outputs": [],
   "source": [
    "import mmap\n",
    "\n",
    "with memory_map('data/mapping.txt') as m:\n",
    "    if m.find(b'wXX') != -1:\n",
    "        print('true')"
   ]
  },
  {
   "cell_type": "markdown",
   "metadata": {},
   "source": [
    "#### Regular Expressions"
   ]
  },
  {
   "cell_type": "markdown",
   "metadata": {},
   "source": [
    "Since a memory mapped file can act like a string, it can be used with other modules that operate on strings, such as regular expressions. This example finds all of the sentences with “nulla” in them."
   ]
  },
  {
   "cell_type": "code",
   "execution_count": 60,
   "metadata": {},
   "outputs": [
    {
     "name": "stdout",
     "output_type": "stream",
     "text": [
      "b'Nulla facilisi.'\n",
      "b'Nulla feugiat augue eleifend nulla.'\n"
     ]
    }
   ],
   "source": [
    "import mmap\n",
    "import re\n",
    "\n",
    "pattern = re.compile(rb'(\\.\\W+)?([^.]?nulla[^.]*?\\.)', re.DOTALL | re.IGNORECASE | re.MULTILINE)\n",
    "\n",
    "with open('data/lorem.txt', 'r') as f:\n",
    "    with mmap.mmap(f.fileno(), 0, access=mmap.ACCESS_READ) as m:\n",
    "        for match in pattern.findall(m):\n",
    "            print(match[1].replace(b'\\n', b' '))\n",
    "            #print(match)"
   ]
  },
  {
   "cell_type": "markdown",
   "metadata": {},
   "source": [
    "Because the pattern includes two groups, the return value from findall() is a sequence of tuples. The print statement pulls out the matching sentence and replaces newlines with spaces so each result prints on a single line."
   ]
  }
 ],
 "metadata": {
  "kernelspec": {
   "display_name": "Python 3 (ipykernel)",
   "language": "python",
   "name": "python3"
  },
  "language_info": {
   "codemirror_mode": {
    "name": "ipython",
    "version": 3
   },
   "file_extension": ".py",
   "mimetype": "text/x-python",
   "name": "python",
   "nbconvert_exporter": "python",
   "pygments_lexer": "ipython3",
   "version": "3.9.12"
  }
 },
 "nbformat": 4,
 "nbformat_minor": 4
}
