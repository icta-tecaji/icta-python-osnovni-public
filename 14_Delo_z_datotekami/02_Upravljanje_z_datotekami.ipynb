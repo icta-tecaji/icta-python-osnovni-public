{
 "cells": [
  {
   "cell_type": "markdown",
   "metadata": {},
   "source": [
    "# Upravljanje z datotekami\n"
   ]
  },
  {
   "cell_type": "markdown",
   "metadata": {},
   "source": [
    "## Managing Files and Directories"
   ]
  },
  {
   "cell_type": "markdown",
   "metadata": {},
   "source": [
    "[File and Directory Access](https://docs.python.org/3/library/filesys.html)"
   ]
  },
  {
   "cell_type": "markdown",
   "metadata": {},
   "source": [
    "Avtomatizacija taskov, kdaj se splača: [slika](https://xkcd.com/1205/)"
   ]
  },
  {
   "cell_type": "markdown",
   "metadata": {},
   "source": [
    "### General OS operations"
   ]
  },
  {
   "cell_type": "code",
   "execution_count": null,
   "metadata": {},
   "outputs": [],
   "source": [
    "import os"
   ]
  },
  {
   "cell_type": "markdown",
   "metadata": {},
   "source": [
    "- `os.getcwd()`: Return a string representing the current working directory."
   ]
  },
  {
   "cell_type": "code",
   "execution_count": null,
   "metadata": {},
   "outputs": [
    {
     "data": {
      "text/plain": [
       "'/home/jovyan/work/osnovni_tecaj/10_Interact_with_the_Operating_System'"
      ]
     },
     "metadata": {},
     "output_type": "display_data"
    }
   ],
   "source": [
    "os.getcwd()"
   ]
  },
  {
   "cell_type": "markdown",
   "metadata": {},
   "source": [
    "- `os.chdir(path)` Change the current working directory to path."
   ]
  },
  {
   "cell_type": "code",
   "execution_count": null,
   "metadata": {},
   "outputs": [],
   "source": [
    "os.chdir('./data')"
   ]
  },
  {
   "cell_type": "markdown",
   "metadata": {},
   "source": [
    "- `os.path.exists(path)`: Return True if path refers to an existing path or an open file descriptor. Returns False for broken symbolic links. On some platforms, this function may return False if permission is not granted to execute os.stat() on the requested file, even if the path physically exists."
   ]
  },
  {
   "cell_type": "code",
   "execution_count": null,
   "metadata": {},
   "outputs": [
    {
     "data": {
      "text/plain": [
       "True"
      ]
     },
     "metadata": {},
     "output_type": "display_data"
    }
   ],
   "source": [
    "os.path.exists('data/')"
   ]
  },
  {
   "cell_type": "markdown",
   "metadata": {},
   "source": [
    "- `os.path.abspath(path)`: Return a normalized absolutized version of the pathname path. On most platforms, this is equivalent to calling the function normpath() as follows: normpath(join(os.getcwd(), path))."
   ]
  },
  {
   "cell_type": "code",
   "execution_count": null,
   "metadata": {},
   "outputs": [
    {
     "data": {
      "text/plain": [
       "'/home/jovyan/work/osnovni_tecaj/10_Interact_with_the_Operating_System/data/example.txt'"
      ]
     },
     "metadata": {},
     "output_type": "display_data"
    }
   ],
   "source": [
    "os.path.abspath(\"data/example.txt\")"
   ]
  },
  {
   "cell_type": "markdown",
   "metadata": {},
   "source": [
    "- `os.path.getsize(path)`: Return the size, in bytes, of path. Raise OSError if the file does not exist or is inaccessible."
   ]
  },
  {
   "cell_type": "code",
   "execution_count": null,
   "metadata": {},
   "outputs": [
    {
     "data": {
      "text/plain": [
       "1115343"
      ]
     },
     "metadata": {},
     "output_type": "display_data"
    }
   ],
   "source": [
    "os.path.getsize('data/weblog.csv')"
   ]
  },
  {
   "cell_type": "markdown",
   "metadata": {},
   "source": [
    "- `os.path.isdir(path)`: Return True if path is an existing directory. This follows symbolic links, so both islink() and isdir() can be true for the same path."
   ]
  },
  {
   "cell_type": "code",
   "execution_count": null,
   "metadata": {},
   "outputs": [
    {
     "data": {
      "text/plain": [
       "True"
      ]
     },
     "metadata": {},
     "output_type": "display_data"
    }
   ],
   "source": [
    "os.path.isdir('data')"
   ]
  },
  {
   "cell_type": "markdown",
   "metadata": {},
   "source": [
    "- `os.path.isfile(path)`: Return True if path is an existing directory. This follows symbolic links, so both islink() and isdir() can be true for the same path."
   ]
  },
  {
   "cell_type": "code",
   "execution_count": null,
   "metadata": {},
   "outputs": [
    {
     "data": {
      "text/plain": [
       "True"
      ]
     },
     "metadata": {},
     "output_type": "display_data"
    }
   ],
   "source": [
    "os.path.isfile('data/example3.txt')"
   ]
  },
  {
   "cell_type": "markdown",
   "metadata": {},
   "source": [
    "- `os.path.join(path, *paths)`: Join one or more path components intelligently. The return value is the concatenation of path and any members of *paths with exactly one directory separator (os.sep) following each non-empty part except the last, meaning that the result will only end in a separator if the last part is empty. If a component is an absolute path, all previous components are thrown away and joining continues from the absolute path component."
   ]
  },
  {
   "cell_type": "code",
   "execution_count": null,
   "metadata": {},
   "outputs": [
    {
     "data": {
      "text/plain": [
       "'/data/examples/test.py'"
      ]
     },
     "metadata": {},
     "output_type": "display_data"
    }
   ],
   "source": [
    "os.path.join('/data', 'examples/test.py')"
   ]
  },
  {
   "cell_type": "markdown",
   "metadata": {},
   "source": [
    "- `os.path.getatime(path)`: Return the time of last access of path. The return value is a floating point number giving the number of seconds since the epoch (see the time module). Raise OSError if the file does not exist or is inaccessible.\n",
    "- `os.path.getmtime(path)`: Return the time of last modification of path. The return value is a floating point number giving the number of seconds since the epoch (see the time module). Raise OSError if the file does not exist or is inaccessible.\n",
    "- `os.path.getctime(path)`: Return the system’s ctime which, on some systems (like Unix) is the time of the last metadata change, and, on others (like Windows), is the creation time for path. The return value is a number giving the number of seconds since the epoch (see the time module). Raise OSError if the file does not exist or is inaccessible."
   ]
  },
  {
   "cell_type": "code",
   "execution_count": null,
   "metadata": {},
   "outputs": [
    {
     "name": "stdout",
     "output_type": "stream",
     "text": [
      "1580161039.466197\n"
     ]
    }
   ],
   "source": [
    "timestamp = os.path.getmtime('data/example.txt')\n",
    "print(timestamp)"
   ]
  },
  {
   "cell_type": "code",
   "execution_count": null,
   "metadata": {},
   "outputs": [],
   "source": [
    "# pretvorba v datetime\n",
    "from datetime import datetime\n",
    "\n",
    "def unix_to_str_time(unix_time, time_format='%Y-%m-%d %H:%M:%S'):\n",
    "    return datetime.utcfromtimestamp(unix_time).strftime(time_format)"
   ]
  },
  {
   "cell_type": "code",
   "execution_count": null,
   "metadata": {},
   "outputs": [
    {
     "data": {
      "text/plain": [
       "'2020-01-27 21:37:19'"
      ]
     },
     "metadata": {},
     "output_type": "display_data"
    }
   ],
   "source": [
    "unix_to_str_time(timestamp)"
   ]
  },
  {
   "cell_type": "markdown",
   "metadata": {},
   "source": [
    "### Making Directories"
   ]
  },
  {
   "cell_type": "markdown",
   "metadata": {},
   "source": [
    "#### Creating a Single Directory"
   ]
  },
  {
   "cell_type": "code",
   "execution_count": null,
   "metadata": {},
   "outputs": [],
   "source": [
    "import os\n",
    "\n",
    "os.mkdir('data/example_directory/')"
   ]
  },
  {
   "cell_type": "code",
   "execution_count": null,
   "metadata": {},
   "outputs": [
    {
     "ename": "FileExistsError",
     "evalue": "[Errno 17] File exists: 'data/example_directory/'",
     "output_type": "error",
     "traceback": [
      "\u001b[0;31m---------------------------------------------------------------------------\u001b[0m\n",
      "\u001b[0;31mFileExistsError\u001b[0m                           Traceback (most recent call last)\n",
      "\u001b[0;32m<ipython-input-2-3eca3a9c3e67>\u001b[0m in \u001b[0;36m<module>\u001b[0;34m\u001b[0m\n",
      "\u001b[0;32m----> 1\u001b[0;31m \u001b[0mos\u001b[0m\u001b[0;34m.\u001b[0m\u001b[0mmkdir\u001b[0m\u001b[0;34m(\u001b[0m\u001b[0;34m'data/example_directory/'\u001b[0m\u001b[0;34m)\u001b[0m\u001b[0;34m\u001b[0m\u001b[0;34m\u001b[0m\u001b[0m\n",
      "\u001b[0m\n",
      "\u001b[0;31mFileExistsError\u001b[0m: [Errno 17] File exists: 'data/example_directory/'"
     ]
    }
   ],
   "source": [
    "os.mkdir('data/example_directory/')"
   ]
  },
  {
   "cell_type": "code",
   "execution_count": null,
   "metadata": {},
   "outputs": [
    {
     "name": "stdout",
     "output_type": "stream",
     "text": [
      "[Errno 17] File exists: 'data/example_directory/'\n"
     ]
    }
   ],
   "source": [
    "try:\n",
    "    os.mkdir('data/example_directory/')\n",
    "except FileExistsError as exc:\n",
    "    print(exc)"
   ]
  },
  {
   "cell_type": "markdown",
   "metadata": {},
   "source": [
    "#### Creating Multiple Directories"
   ]
  },
  {
   "cell_type": "code",
   "execution_count": null,
   "metadata": {},
   "outputs": [],
   "source": [
    "os.makedirs('data/leto/mesec/dan')"
   ]
  },
  {
   "cell_type": "code",
   "execution_count": null,
   "metadata": {},
   "outputs": [],
   "source": [
    "os.makedirs('data/leto/2018/10/05', mode=0o770)"
   ]
  },
  {
   "cell_type": "markdown",
   "metadata": {},
   "source": [
    "[Premissions](https://danielmiessler.com/images/permissions.png)"
   ]
  },
  {
   "cell_type": "markdown",
   "metadata": {},
   "source": [
    "### Getting a Directory Listing"
   ]
  },
  {
   "cell_type": "markdown",
   "metadata": {},
   "source": [
    "- [os.listdir](https://docs.python.org/3/library/os.html#os.listdir)\n",
    "- [os.scandir](https://docs.python.org/3/library/os.html#os.scandir)\n",
    "    "
   ]
  },
  {
   "cell_type": "markdown",
   "metadata": {},
   "source": [
    "> The scandir() function returns directory entries along with file attribute information, giving better performance for many common use cases."
   ]
  },
  {
   "cell_type": "code",
   "execution_count": null,
   "metadata": {},
   "outputs": [
    {
     "name": "stdout",
     "output_type": "stream",
     "text": [
      "['Command_line_with_python.ipynb', 'skripte', '.ipynb_checkpoints', 'data']\n"
     ]
    }
   ],
   "source": [
    "# Directory Listing in Legacy Python Versions\n",
    "import os\n",
    "entries = os.listdir('./')\n",
    "print(entries)"
   ]
  },
  {
   "cell_type": "code",
   "execution_count": null,
   "metadata": {},
   "outputs": [
    {
     "name": "stdout",
     "output_type": "stream",
     "text": [
      "./data/newdir is a directory\n",
      "./data/example.txt is a file\n",
      "./data/.ipynb_checkpoints is a directory\n"
     ]
    }
   ],
   "source": [
    "# Primer: kako vidimo katero so mape katero datoteke\n",
    "directory = './data'\n",
    "\n",
    "for name in os.listdir(directory):\n",
    "    fullname = os.path.join(directory, name) #joinmao ne glede na sistem\n",
    "    if os.path.isdir(fullname):\n",
    "        print(f'{fullname} is a directory')\n",
    "    else:\n",
    "        print(f'{fullname} is a file')"
   ]
  },
  {
   "cell_type": "code",
   "execution_count": null,
   "metadata": {},
   "outputs": [
    {
     "name": "stdout",
     "output_type": "stream",
     "text": [
      "<posix.ScandirIterator object at 0x7fb9039daa58>\n"
     ]
    }
   ],
   "source": [
    "# Directory Listing in Modern Python Versions\n",
    "import os\n",
    "entries = os.scandir('./')\n",
    "print(entries)"
   ]
  },
  {
   "cell_type": "code",
   "execution_count": null,
   "metadata": {},
   "outputs": [
    {
     "name": "stdout",
     "output_type": "stream",
     "text": [
      "Command_line_with_python.ipynb\n",
      "skripte\n",
      ".ipynb_checkpoints\n",
      "data\n"
     ]
    }
   ],
   "source": [
    "import os\n",
    "\n",
    "with os.scandir('./') as entries:\n",
    "    for entry in entries:\n",
    "        print(entry.name)"
   ]
  },
  {
   "cell_type": "code",
   "execution_count": null,
   "metadata": {},
   "outputs": [
    {
     "name": "stdout",
     "output_type": "stream",
     "text": [
      "Command_line_with_python.ipynb\n"
     ]
    }
   ],
   "source": [
    "# Primer\n",
    "with os.scandir('./') as it:\n",
    "    for entry in it:\n",
    "        if not entry.name.startswith('.') and entry.is_file():\n",
    "            print(entry.name)"
   ]
  },
  {
   "cell_type": "code",
   "execution_count": null,
   "metadata": {},
   "outputs": [
    {
     "name": "stdout",
     "output_type": "stream",
     "text": [
      "skripte\n",
      ".ipynb_checkpoints\n",
      "data\n"
     ]
    }
   ],
   "source": [
    "# Listing Subdirectories\n",
    "# List all subdirectories using scandir()\n",
    "basepath = './'\n",
    "with os.scandir(basepath) as entries:\n",
    "    for entry in entries:\n",
    "        if entry.is_dir():\n",
    "            print(entry.name)"
   ]
  },
  {
   "cell_type": "markdown",
   "metadata": {},
   "source": [
    "### Getting File Attributes"
   ]
  },
  {
   "cell_type": "code",
   "execution_count": null,
   "metadata": {},
   "outputs": [
    {
     "name": "stdout",
     "output_type": "stream",
     "text": [
      "Name: Command_line_with_python.ipynb, Time: 1580251977.5320895s\n",
      "Name: skripte, Time: 1580242340.9039881s\n",
      "Name: .ipynb_checkpoints, Time: 1579434568.7935946s\n",
      "Name: data, Time: 1580162510.3971303s\n"
     ]
    }
   ],
   "source": [
    "import os\n",
    "with os.scandir('./') as dir_contents:\n",
    "    for entry in dir_contents:\n",
    "        info = entry.stat()\n",
    "        #print(info)\n",
    "        print(f'Name: {entry.name}, Time: {info.st_mtime}s')"
   ]
  },
  {
   "cell_type": "markdown",
   "metadata": {},
   "source": [
    "[os.stat_result](https://docs.python.org/3/library/os.html#os.stat_result)"
   ]
  },
  {
   "cell_type": "code",
   "execution_count": null,
   "metadata": {},
   "outputs": [
    {
     "name": "stdout",
     "output_type": "stream",
     "text": [
      "example04.py        \t Last Modified: 2020-01-19 16:26:12\n",
      "example00.py        \t Last Modified: 2020-01-19 14:46:31\n",
      "example03.py        \t Last Modified: 2020-01-19 14:50:58\n",
      "create_file.py      \t Last Modified: 2020-01-28 19:48:09\n",
      "host.py             \t Last Modified: 2020-01-28 21:20:55\n",
      "healthcheck_script.py\t Last Modified: 2020-01-27 20:41:51\n",
      "example01.py        \t Last Modified: 2020-01-19 14:43:19\n",
      "example05.py        \t Last Modified: 2020-01-25 23:07:59\n",
      "example02.py        \t Last Modified: 2020-01-19 14:43:03\n"
     ]
    }
   ],
   "source": [
    "from datetime import datetime\n",
    "from os import scandir\n",
    "\n",
    "def convert_date(timestamp):\n",
    "    d = datetime.utcfromtimestamp(timestamp)\n",
    "    formated_date = d.strftime('%Y-%m-%d %H:%M:%S')\n",
    "    return formated_date\n",
    "\n",
    "def get_files(dir_path):\n",
    "    dir_entries = scandir(dir_path)\n",
    "    for entry in dir_entries:\n",
    "        if entry.is_file():\n",
    "            info = entry.stat()\n",
    "            # The width specifier sets the width of the value. \n",
    "            print(f'{entry.name:20}\\t Last Modified: {convert_date(info.st_mtime)}')\n",
    "            \n",
    "get_files('./skripte')"
   ]
  },
  {
   "cell_type": "markdown",
   "metadata": {},
   "source": [
    "### Filename Pattern Matching"
   ]
  },
  {
   "cell_type": "markdown",
   "metadata": {},
   "source": [
    "    mkdir some_directory\n",
    "    cd some_directory/\n",
    "    mkdir sub_dir\n",
    "    touch sub_dir/file1.py sub_dir/file2.py\n",
    "    touch data_{01..03}.txt data_{01..03}_backup.txt admin.py tests.py"
   ]
  },
  {
   "cell_type": "markdown",
   "metadata": {},
   "source": [
    "#### Using String Methods"
   ]
  },
  {
   "cell_type": "code",
   "execution_count": null,
   "metadata": {},
   "outputs": [],
   "source": [
    "import os\n",
    "\n",
    "# Get .txt files\n",
    "def search_file_by_extension(directory, extension):\n",
    "    for f_name in os.listdir(directory):\n",
    "        if f_name.endswith(extension):\n",
    "            print(f_name)"
   ]
  },
  {
   "cell_type": "code",
   "execution_count": null,
   "metadata": {},
   "outputs": [
    {
     "name": "stdout",
     "output_type": "stream",
     "text": [
      "data_01_backup.txt\n",
      "data_02_backup.txt\n",
      "data_01.txt\n",
      "data_03_backup.txt\n",
      "data_03.txt\n",
      "data_02.txt\n"
     ]
    }
   ],
   "source": [
    "search_file_by_extension('data/some_directory/', '.txt')"
   ]
  },
  {
   "cell_type": "markdown",
   "metadata": {},
   "source": [
    "#### Filename Pattern Matching Using fnmatch"
   ]
  },
  {
   "cell_type": "markdown",
   "metadata": {},
   "source": [
    "> [fnmatch — Unix filename pattern matching](https://docs.python.org/3.8/library/fnmatch.html)"
   ]
  },
  {
   "cell_type": "code",
   "execution_count": null,
   "metadata": {},
   "outputs": [
    {
     "name": "stdout",
     "output_type": "stream",
     "text": [
      "data_01_backup.txt\n",
      "data_02_backup.txt\n",
      "data_01.txt\n",
      "data_03_backup.txt\n",
      "data_03.txt\n",
      "data_02.txt\n"
     ]
    }
   ],
   "source": [
    "import os\n",
    "import fnmatch\n",
    "\n",
    "for file_name in os.listdir('data/some_directory/'):\n",
    "    if fnmatch.fnmatch(file_name, '*.txt'):\n",
    "        print(file_name)"
   ]
  },
  {
   "cell_type": "code",
   "execution_count": null,
   "metadata": {},
   "outputs": [
    {
     "name": "stdout",
     "output_type": "stream",
     "text": [
      "data_01_backup.txt\n",
      "data_02_backup.txt\n",
      "data_03_backup.txt\n"
     ]
    }
   ],
   "source": [
    "for filename in os.listdir('data/some_directory/'):\n",
    "    if fnmatch.fnmatch(filename, 'data_*_backup.txt'):\n",
    "        print(filename)"
   ]
  },
  {
   "cell_type": "markdown",
   "metadata": {},
   "source": [
    "#### Filename Pattern Matching Using glob"
   ]
  },
  {
   "cell_type": "markdown",
   "metadata": {},
   "source": [
    "> [glob — Unix style pathname pattern expansion](https://docs.python.org/3.8/library/glob.html?highlight=glob#module-glob)"
   ]
  },
  {
   "cell_type": "code",
   "execution_count": null,
   "metadata": {},
   "outputs": [
    {
     "data": {
      "text/plain": [
       "['data/some_directory/sub_dir/file1.py',\n",
       " 'data/some_directory/sub_dir/file2.py']"
      ]
     },
     "metadata": {},
     "output_type": "display_data"
    }
   ],
   "source": [
    "import glob\n",
    "glob.glob('data/some_directory/sub_dir/*.py')"
   ]
  },
  {
   "cell_type": "code",
   "execution_count": null,
   "metadata": {},
   "outputs": [
    {
     "name": "stdout",
     "output_type": "stream",
     "text": [
      "data/some_directory/data_01_backup.txt\n",
      "data/some_directory/data_02_backup.txt\n",
      "data/some_directory/data_01.txt\n",
      "data/some_directory/data_03_backup.txt\n",
      "data/some_directory/data_03.txt\n",
      "data/some_directory/data_02.txt\n"
     ]
    }
   ],
   "source": [
    "import glob\n",
    "for name in glob.glob('data/some_directory/*[0-9]*.txt'):\n",
    "    print(name)"
   ]
  },
  {
   "cell_type": "code",
   "execution_count": null,
   "metadata": {},
   "outputs": [
    {
     "name": "stdout",
     "output_type": "stream",
     "text": [
      "data/some_directory/tests.py\n",
      "data/some_directory/admin.py\n",
      "data/some_directory/sub_dir/file1.py\n",
      "data/some_directory/sub_dir/file2.py\n"
     ]
    }
   ],
   "source": [
    "import glob\n",
    "for file in glob.iglob('data/some_directory/**/*.py', recursive=True):\n",
    "    print(file)"
   ]
  },
  {
   "cell_type": "markdown",
   "metadata": {},
   "source": [
    "### Traversing Directories and Processing Files"
   ]
  },
  {
   "cell_type": "code",
   "execution_count": null,
   "metadata": {},
   "outputs": [
    {
     "name": "stdout",
     "output_type": "stream",
     "text": [
      "Found directory: ./data/some_directory/\n",
      "tests.py\n",
      "data_01_backup.txt\n",
      "data_02_backup.txt\n",
      "admin.py\n",
      "data_01.txt\n",
      "data_03_backup.txt\n",
      "data_03.txt\n",
      "data_02.txt\n",
      "Found directory: ./data/some_directory/sub_dir\n",
      "file1.py\n",
      "file2.py\n"
     ]
    }
   ],
   "source": [
    "# Walking a directory tree and printing the names of the directories and files\n",
    "for dirpath, dirnames, files in os.walk('./data/some_directory/'):\n",
    "    print(f'Found directory: {dirpath}')\n",
    "    for file_name in files:\n",
    "        print(file_name)"
   ]
  },
  {
   "cell_type": "code",
   "execution_count": null,
   "metadata": {},
   "outputs": [
    {
     "name": "stdout",
     "output_type": "stream",
     "text": [
      "Found directory: ./data/some_directory/\n",
      "Editing ./data/some_directory/tests.py...\n",
      "Editing ./data/some_directory/data_01_backup.txt...\n",
      "Editing ./data/some_directory/data_02_backup.txt...\n",
      "Editing ./data/some_directory/admin.py...\n",
      "Editing ./data/some_directory/data_01.txt...\n",
      "Editing ./data/some_directory/data_03_backup.txt...\n",
      "Editing ./data/some_directory/data_03.txt...\n",
      "Editing ./data/some_directory/data_02.txt...\n",
      "Found directory: ./data/some_directory/sub_dir\n",
      "Editing ./data/some_directory/sub_dir/file1.py...\n",
      "Editing ./data/some_directory/sub_dir/file2.py...\n"
     ]
    }
   ],
   "source": [
    "# vaja dodamo v vsak file neko vsebino\n",
    "for dirpath, dirnames, files in os.walk('./data/some_directory/'):\n",
    "    print(f'Found directory: {dirpath}')\n",
    "    for file_name in files:\n",
    "        fullname = os.path.join(dirpath, file_name)\n",
    "        print(f'Editing {fullname}...')\n",
    "        with open(fullname, 'w') as f:\n",
    "            f.write('Heloo')"
   ]
  },
  {
   "cell_type": "markdown",
   "metadata": {},
   "source": [
    "### Deleting Files and Directories"
   ]
  },
  {
   "cell_type": "markdown",
   "metadata": {},
   "source": [
    "#### Deleting Files in Python"
   ]
  },
  {
   "cell_type": "code",
   "execution_count": null,
   "metadata": {},
   "outputs": [],
   "source": [
    "import os\n",
    "\n",
    "data_file = './data/delete.txt'\n",
    "os.remove(data_file)"
   ]
  },
  {
   "cell_type": "code",
   "execution_count": null,
   "metadata": {},
   "outputs": [],
   "source": [
    "import os\n",
    "\n",
    "data_file = './data/delete.txt'\n",
    "os.unlink(data_file)"
   ]
  },
  {
   "cell_type": "code",
   "execution_count": null,
   "metadata": {},
   "outputs": [
    {
     "name": "stdout",
     "output_type": "stream",
     "text": [
      "Error: ./data/delete.txt not a valid filename\n"
     ]
    }
   ],
   "source": [
    "import os\n",
    "\n",
    "data_file = './data/delete.txt'\n",
    "\n",
    "# If the file exists, delete it\n",
    "if os.path.isfile(data_file):\n",
    "    os.remove(data_file)\n",
    "else:\n",
    "    print(f'Error: {data_file} not a valid filename')"
   ]
  },
  {
   "cell_type": "code",
   "execution_count": null,
   "metadata": {},
   "outputs": [
    {
     "name": "stdout",
     "output_type": "stream",
     "text": [
      "Error: ./data/delete.txt : No such file or directory\n"
     ]
    }
   ],
   "source": [
    "import os\n",
    "\n",
    "data_file = './data/delete.txt'\n",
    "\n",
    "# Use exception handling\n",
    "try:\n",
    "    os.remove(data_file)\n",
    "except OSError as e:\n",
    "    print(f'Error: {data_file} : {e.strerror}')"
   ]
  },
  {
   "cell_type": "markdown",
   "metadata": {},
   "source": [
    "#### Deleting Directories"
   ]
  },
  {
   "cell_type": "code",
   "execution_count": null,
   "metadata": {},
   "outputs": [],
   "source": [
    "import os\n",
    "\n",
    "trash_dir = './data/test'\n",
    "\n",
    "try:\n",
    "    os.rmdir(trash_dir)\n",
    "except OSError as e:\n",
    "    print(f'Error: {trash_dir} : {e.strerror}')"
   ]
  },
  {
   "cell_type": "markdown",
   "metadata": {},
   "source": [
    "Here, the trash_dir directory is deleted by passing its path to os.rmdir(). If the directory isn’t empty, an error message is printed to the screen:"
   ]
  },
  {
   "cell_type": "markdown",
   "metadata": {},
   "source": [
    "    Traceback (most recent call last):\n",
    "      File '<stdin>', line 1, in <module>\n",
    "    OSError: [Errno 39] Directory not empty: 'my_documents/bad_dir'"
   ]
  },
  {
   "cell_type": "markdown",
   "metadata": {},
   "source": [
    "#### Deleting Entire Directory Trees"
   ]
  },
  {
   "cell_type": "code",
   "execution_count": null,
   "metadata": {},
   "outputs": [],
   "source": [
    "!mkdir ./data/test\n",
    "!touch ./data/test/lalal"
   ]
  },
  {
   "cell_type": "code",
   "execution_count": null,
   "metadata": {},
   "outputs": [],
   "source": [
    "import shutil\n",
    "\n",
    "trash_dir = './data/test'\n",
    "\n",
    "try:\n",
    "    shutil.rmtree(trash_dir)\n",
    "except OSError as e:\n",
    "    print(f'Error: {trash_dir} : {e.strerror}')"
   ]
  },
  {
   "cell_type": "code",
   "execution_count": null,
   "metadata": {},
   "outputs": [],
   "source": [
    "import os\n",
    "\n",
    "for dirpath, dirnames, files in os.walk('.', topdown=False):\n",
    "    try:\n",
    "        os.rmdir(dirpath)\n",
    "    except OSError as ex:\n",
    "        pass"
   ]
  },
  {
   "cell_type": "markdown",
   "metadata": {},
   "source": [
    "<div class=\"table-responsive\">\n",
    "<table class=\"table table-hover\">\n",
    "<thead>\n",
    "<tr>\n",
    "<th>Function</th>\n",
    "<th>Description</th>\n",
    "</tr>\n",
    "</thead>\n",
    "<tbody>\n",
    "<tr>\n",
    "<td><code>os.remove()</code></td>\n",
    "<td>Deletes a file and does not delete directories</td>\n",
    "</tr>\n",
    "<tr>\n",
    "<td><code>os.unlink()</code></td>\n",
    "<td>Is identical to <code>os.remove()</code> and deletes a single file</td>\n",
    "</tr>\n",
    "<tr>\n",
    "<td><code>pathlib.Path.unlink()</code></td>\n",
    "<td>Deletes a file and cannot delete directories</td>\n",
    "</tr>\n",
    "<tr>\n",
    "<td><code>os.rmdir()</code></td>\n",
    "<td>Deletes an empty directory</td>\n",
    "</tr>\n",
    "<tr>\n",
    "<td><code>pathlib.Path.rmdir()</code></td>\n",
    "<td>Deletes an empty directory</td>\n",
    "</tr>\n",
    "<tr>\n",
    "<td><code>shutil.rmtree()</code></td>\n",
    "<td>Deletes entire directory tree and can be used to delete non-empty directories</td>\n",
    "</tr>\n",
    "</tbody>\n",
    "</table>\n",
    "</div>"
   ]
  },
  {
   "cell_type": "markdown",
   "metadata": {},
   "source": [
    "### Copying, Moving, and Renaming Files and Directories"
   ]
  },
  {
   "cell_type": "markdown",
   "metadata": {},
   "source": [
    "#### Copying Files in Python"
   ]
  },
  {
   "cell_type": "code",
   "execution_count": null,
   "metadata": {},
   "outputs": [
    {
     "data": {
      "text/plain": [
       "'./data/example2.txt'"
      ]
     },
     "metadata": {},
     "output_type": "display_data"
    }
   ],
   "source": [
    "import shutil\n",
    "\n",
    "src = './data/example.txt'\n",
    "dst = './data/example2.txt'\n",
    "shutil.copy(src, dst)"
   ]
  },
  {
   "cell_type": "code",
   "execution_count": null,
   "metadata": {},
   "outputs": [
    {
     "data": {
      "text/plain": [
       "'./data/example3.txt'"
      ]
     },
     "metadata": {},
     "output_type": "display_data"
    }
   ],
   "source": [
    "import shutil\n",
    "\n",
    "src = './data/example.txt'\n",
    "dst = './data/example3.txt'\n",
    "shutil.copy2(src, dst)"
   ]
  },
  {
   "cell_type": "markdown",
   "metadata": {},
   "source": [
    "#### Copying Directories"
   ]
  },
  {
   "cell_type": "code",
   "execution_count": null,
   "metadata": {},
   "outputs": [],
   "source": [
    "import shutil\n",
    "shutil.copytree('data_1', 'data1_backup')"
   ]
  },
  {
   "cell_type": "markdown",
   "metadata": {},
   "source": [
    "#### Moving Files and Directories"
   ]
  },
  {
   "cell_type": "code",
   "execution_count": null,
   "metadata": {},
   "outputs": [],
   "source": [
    "import shutil\n",
    "shutil.move('dir_1/', 'backup/')"
   ]
  },
  {
   "cell_type": "markdown",
   "metadata": {},
   "source": [
    "#### Renaming Files and Directories"
   ]
  },
  {
   "cell_type": "code",
   "execution_count": null,
   "metadata": {},
   "outputs": [],
   "source": [
    "os.rename('first.zip', 'first_01.zip')"
   ]
  },
  {
   "cell_type": "markdown",
   "metadata": {},
   "source": [
    "### Archiving"
   ]
  },
  {
   "cell_type": "markdown",
   "metadata": {},
   "source": [
    "#### ZIP Files"
   ]
  },
  {
   "cell_type": "markdown",
   "metadata": {},
   "source": [
    "[zipfile — Work with ZIP archives](https://docs.python.org/3/library/zipfile.html?highlight=zip#module-zipfile)"
   ]
  },
  {
   "cell_type": "markdown",
   "metadata": {},
   "source": [
    "#### TAR Archives"
   ]
  },
  {
   "cell_type": "markdown",
   "metadata": {},
   "source": [
    "[tarfile — Read and write tar archive files](https://docs.python.org/3/library/tarfile.html?highlight=tar#module-tarfile)"
   ]
  },
  {
   "cell_type": "markdown",
   "metadata": {},
   "source": [
    "#### An Easier Way of Creating Archives"
   ]
  },
  {
   "cell_type": "code",
   "execution_count": null,
   "metadata": {},
   "outputs": [
    {
     "data": {
      "text/plain": [
       "'/home/jovyan/work/osnovni_tecaj/10_Interact_with_the_Operating_System/data/leto.tar'"
      ]
     },
     "metadata": {},
     "output_type": "display_data"
    }
   ],
   "source": [
    "import shutil\n",
    "\n",
    "# shutil.make_archive(base_name, format, root_dir)\n",
    "shutil.make_archive('./data/leto', 'tar', './data/leto')"
   ]
  },
  {
   "cell_type": "code",
   "execution_count": null,
   "metadata": {},
   "outputs": [],
   "source": [
    "shutil.unpack_archive('./data/leto.tar', 'data/extract_dir/')"
   ]
  },
  {
   "cell_type": "markdown",
   "metadata": {},
   "source": [
    "# Razlaga"
   ]
  },
  {
   "cell_type": "code",
   "execution_count": 3,
   "metadata": {},
   "outputs": [],
   "source": [
    "import os\n",
    "from pathlib import Path\n"
   ]
  },
  {
   "cell_type": "code",
   "execution_count": 2,
   "metadata": {},
   "outputs": [
    {
     "data": {
      "text/plain": [
       "'c:\\\\LEON\\\\ICTA\\\\Tečaji\\\\icta-python-osnovni-public\\\\14_Delo_z_datotekami'"
      ]
     },
     "execution_count": 2,
     "metadata": {},
     "output_type": "execute_result"
    }
   ],
   "source": [
    "os.getcwd()"
   ]
  },
  {
   "cell_type": "code",
   "execution_count": 7,
   "metadata": {},
   "outputs": [],
   "source": [
    "# my_path = Path(__file__)\n",
    "my_path = Path(r\"C:\\LEON\\ICTA\\Tečaji\\icta-python-osnovni-public\\00_Playground\\project_01\\main.py\")\n"
   ]
  },
  {
   "cell_type": "code",
   "execution_count": 18,
   "metadata": {},
   "outputs": [
    {
     "data": {
      "text/plain": [
       "WindowsPath('C:/LEON/ICTA/Tečaji/icta-python-osnovni-public/00_Playground/project_01/data')"
      ]
     },
     "execution_count": 18,
     "metadata": {},
     "output_type": "execute_result"
    }
   ],
   "source": []
  },
  {
   "cell_type": "code",
   "execution_count": 17,
   "metadata": {},
   "outputs": [
    {
     "data": {
      "text/plain": [
       "WindowsPath('C:/LEON/ICTA/Tečaji/icta-python-osnovni-public/00_Playground/project_01/data')"
      ]
     },
     "execution_count": 17,
     "metadata": {},
     "output_type": "execute_result"
    }
   ],
   "source": [
    "my_path.parent / \"data\""
   ]
  },
  {
   "cell_type": "code",
   "execution_count": 23,
   "metadata": {},
   "outputs": [
    {
     "name": "stdout",
     "output_type": "stream",
     "text": [
      "Name: 2_test_report_02_UBL500_20109to20110_02.01.03_905587.xlsx, Time: 1700478736.474779s, Size: 1403744b, Is file: True\n",
      "C:\\LEON\\ICTA\\Tečaji\\icta-python-osnovni-public\\00_Playground\\project_01\\data\\2_test_report_02_UBL500_20109to20110_02.01.03_905587.xlsx\n",
      "Name: memoryLogCommands_02_01_09.xml, Time: 1700479821.7023146s, Size: 346340b, Is file: True\n",
      "C:\\LEON\\ICTA\\Tečaji\\icta-python-osnovni-public\\00_Playground\\project_01\\data\\memoryLogCommands_02_01_09.xml\n",
      "Name: OutputLog_COM51_20231114-160929.log, Time: 1700478736.4385574s, Size: 6877b, Is file: True\n",
      "C:\\LEON\\ICTA\\Tečaji\\icta-python-osnovni-public\\00_Playground\\project_01\\data\\OutputLog_COM51_20231114-160929.log\n",
      "Name: white-60-wp-0703-14-01.txt, Time: 1700478736.5372758s, Size: 2798110b, Is file: True\n",
      "C:\\LEON\\ICTA\\Tečaji\\icta-python-osnovni-public\\00_Playground\\project_01\\data\\white-60-wp-0703-14-01.txt\n"
     ]
    }
   ],
   "source": [
    "my_path = Path(r\"C:\\LEON\\ICTA\\Tečaji\\icta-python-osnovni-public\\00_Playground\\project_01\\main.py\")\n",
    "my_path = my_path.parent.joinpath(\"data\")\n",
    "\n",
    "with os.scandir(my_path) as dir_contents:\n",
    "    for entry in dir_contents:\n",
    "        info = entry.stat()\n",
    "        # print(info)\n",
    "        print(f\"Name: {entry.name}, Time: {info.st_mtime}s, Size: {info.st_size}b, Is file: {entry.is_file()}\")\n",
    "        print(entry.path)\n"
   ]
  },
  {
   "cell_type": "code",
   "execution_count": null,
   "metadata": {},
   "outputs": [],
   "source": []
  }
 ],
 "metadata": {
  "kernelspec": {
   "display_name": "Python 3",
   "language": "python",
   "name": "python3"
  },
  "language_info": {
   "codemirror_mode": {
    "name": "ipython",
    "version": 3
   },
   "file_extension": ".py",
   "mimetype": "text/x-python",
   "name": "python",
   "nbconvert_exporter": "python",
   "pygments_lexer": "ipython3",
   "version": "3.12.0"
  }
 },
 "nbformat": 4,
 "nbformat_minor": 4
}
