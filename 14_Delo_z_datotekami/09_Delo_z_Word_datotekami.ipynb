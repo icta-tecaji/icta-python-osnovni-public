{
 "cells": [
  {
   "cell_type": "markdown",
   "metadata": {},
   "source": [
    "# Delo z Word datotekami"
   ]
  },
  {
   "cell_type": "markdown",
   "metadata": {},
   "source": [
    "## Word dokumenti"
   ]
  },
  {
   "cell_type": "markdown",
   "metadata": {},
   "source": [
    "python-docx is a Python library for creating and updating Microsoft Word (.docx) files."
   ]
  },
  {
   "cell_type": "markdown",
   "metadata": {},
   "source": [
    "https://python-docx.readthedocs.io/en/latest/"
   ]
  },
  {
   "cell_type": "markdown",
   "metadata": {},
   "source": [
    "Several libraries exist that can be used to read and write MS Word files in Python. However, we will be using the python-docx module owing to its ease-of-use. Execute the following pip command in your terminal to download the python-docx module as shown below:"
   ]
  },
  {
   "cell_type": "code",
   "execution_count": 2,
   "metadata": {},
   "outputs": [],
   "source": [
    "#!pip install python-docx"
   ]
  },
  {
   "cell_type": "markdown",
   "metadata": {},
   "source": [
    "### Reading MS Word Files"
   ]
  },
  {
   "cell_type": "markdown",
   "metadata": {},
   "source": [
    "In this section, you will see how to read text from MS Word files via the python-docx module."
   ]
  },
  {
   "cell_type": "markdown",
   "metadata": {},
   "source": [
    "Create a new MS Word file and rename it as \"Uvod_v_Python.docx\". "
   ]
  },
  {
   "cell_type": "markdown",
   "metadata": {},
   "source": [
    "To read the above file, first import the docx module and then create an object of the Document class from the docx module. Pass the path of the my_word_file.docx to the constructor of the Document class, as shown in the following script:"
   ]
  },
  {
   "cell_type": "code",
   "execution_count": 29,
   "metadata": {},
   "outputs": [],
   "source": [
    "import docx\n",
    "\n",
    "doc = docx.Document('data/Uvod_v_Python.docx')"
   ]
  },
  {
   "cell_type": "markdown",
   "metadata": {},
   "source": [
    "The Document class object doc can now be used to read the content of the my_word_file.docx."
   ]
  },
  {
   "cell_type": "markdown",
   "metadata": {},
   "source": [
    "#### Reading Paragraphs"
   ]
  },
  {
   "cell_type": "markdown",
   "metadata": {},
   "source": [
    "Once you create an object of the Document class using the file path, you can access all the paragraphs in the document via the paragraphs attribute. An empty line is also read as a paragraph by the Document. Let's fetch all the paragraphs from the my_word_file.docx and then display the total number of paragraphs in the document:"
   ]
  },
  {
   "cell_type": "code",
   "execution_count": 30,
   "metadata": {},
   "outputs": [
    {
     "data": {
      "text/plain": [
       "12"
      ]
     },
     "execution_count": 30,
     "metadata": {},
     "output_type": "execute_result"
    }
   ],
   "source": [
    "all_paras = doc.paragraphs\n",
    "len(all_paras)"
   ]
  },
  {
   "cell_type": "markdown",
   "metadata": {},
   "source": [
    "Now we'll iteratively print all the paragraphs in the my_word_file.docx file:"
   ]
  },
  {
   "cell_type": "code",
   "execution_count": 31,
   "metadata": {},
   "outputs": [
    {
     "name": "stdout",
     "output_type": "stream",
     "text": [
      "Uvod v Python\n",
      "-------\n",
      "\n",
      "-------\n",
      "Python is an easy to learn, powerful programming language. It has efficient high-level data structures and a simple but effective approach to object-oriented programming. Python’s elegant syntax and dynamic typing, together with its interpreted nature, make it an ideal language for scripting and rapid application development in many areas on most platforms.\n",
      "-------\n",
      "\n",
      "-------\n",
      "Using the Python Interpreter\n",
      "-------\n",
      "When commands are read from a tty, the interpreter is said to be in interactive mode. In this mode it prompts for the next command with the primary prompt, usually three greater-than signs (>>>); for continuation lines it prompts with the secondary prompt, by default three dots (...). The interpreter prints a welcome message stating its version number and a copyright notice before printing the first prompt:\n",
      "-------\n",
      "\n",
      "-------\n",
      "Tabela\n",
      "-------\n",
      "\n",
      "-------\n",
      "\n",
      "-------\n",
      "\n",
      "-------\n",
      "\n",
      "-------\n"
     ]
    }
   ],
   "source": [
    "for para in all_paras:\n",
    "    print(para.text)\n",
    "    print(\"-------\")"
   ]
  },
  {
   "cell_type": "markdown",
   "metadata": {},
   "source": [
    "The output shows all of the paragraphs in the Word file."
   ]
  },
  {
   "cell_type": "markdown",
   "metadata": {},
   "source": [
    "We can even access a specific paragraph by indexing the paragraphs property like an array. Let's print the 5th paragraph in the file:"
   ]
  },
  {
   "cell_type": "code",
   "execution_count": 32,
   "metadata": {},
   "outputs": [
    {
     "name": "stdout",
     "output_type": "stream",
     "text": [
      "Python is an easy to learn, powerful programming language. It has efficient high-level data structures and a simple but effective approach to object-oriented programming. Python’s elegant syntax and dynamic typing, together with its interpreted nature, make it an ideal language for scripting and rapid application development in many areas on most platforms.\n"
     ]
    }
   ],
   "source": [
    "single_para = doc.paragraphs[2]\n",
    "print(single_para.text)"
   ]
  },
  {
   "cell_type": "code",
   "execution_count": 33,
   "metadata": {},
   "outputs": [
    {
     "name": "stdout",
     "output_type": "stream",
     "text": [
      "['python', 'is', 'an', 'easy', 'to', 'learn', 'powerful', 'programming', 'language', 'it', 'has', 'efficient', 'high-level', 'data', 'structures', 'and', 'a', 'simple', 'but', 'effective', 'approach', 'to', 'object-oriented', 'programming', 'python’s', 'elegant', 'syntax', 'and', 'dynamic', 'typing', 'together', 'with', 'its', 'interpreted', 'nature', 'make', 'it', 'an', 'ideal', 'language', 'for', 'scripting', 'and', 'rapid', 'application', 'development', 'in', 'many', 'areas', 'on', 'most', 'platforms']\n"
     ]
    }
   ],
   "source": [
    "print(single_para.text.lower().replace(',', '').replace('.','').split())"
   ]
  },
  {
   "cell_type": "markdown",
   "metadata": {},
   "source": [
    "Vaja: funkcija, ki prebere celotni text.\n",
    "\n"
   ]
  },
  {
   "cell_type": "code",
   "execution_count": 36,
   "metadata": {},
   "outputs": [],
   "source": [
    "def read_all_text(document_path, sep='\\n'):\n",
    "    doc = docx.Document(document_path)\n",
    "    final_text = []\n",
    "    for line in doc.paragraphs:\n",
    "        final_text.append(line.text)\n",
    "    return sep.join(final_text)"
   ]
  },
  {
   "cell_type": "code",
   "execution_count": 38,
   "metadata": {},
   "outputs": [
    {
     "data": {
      "text/plain": [
       "'Uvod v Python||Python is an easy to learn, powerful programming language. It has efficient high-level data structures and a simple but effective approach to object-oriented programming. Python’s elegant syntax and dynamic typing, together with its interpreted nature, make it an ideal language for scripting and rapid application development in many areas on most platforms.||Using the Python Interpreter|When commands are read from a tty, the interpreter is said to be in interactive mode. In this mode it prompts for the next command with the primary prompt, usually three greater-than signs (>>>); for continuation lines it prompts with the secondary prompt, by default three dots (...). The interpreter prints a welcome message stating its version number and a copyright notice before printing the first prompt:||Tabela||||'"
      ]
     },
     "execution_count": 38,
     "metadata": {},
     "output_type": "execute_result"
    }
   ],
   "source": [
    "read_all_text('data/Uvod_v_Python.docx', '|')"
   ]
  },
  {
   "cell_type": "markdown",
   "metadata": {},
   "source": [
    "#### Reading Runs"
   ]
  },
  {
   "cell_type": "markdown",
   "metadata": {},
   "source": [
    "A **run in a word document** is **a continuous sequence of words having similar properties**, such as similar font sizes, font shapes, and font styles. "
   ]
  },
  {
   "cell_type": "markdown",
   "metadata": {},
   "source": [
    "To get all the runs in a paragraph, you can use the run property of the paragraph attribute of the doc object."
   ]
  },
  {
   "cell_type": "code",
   "execution_count": 34,
   "metadata": {},
   "outputs": [
    {
     "name": "stdout",
     "output_type": "stream",
     "text": [
      "Python is an easy to learn\n",
      "----\n",
      ", powerful programming language. It has efficient high-level data structures and a simple but effective approach to object-oriented programming. Python’s elegant syntax and dynamic typing, together with its interpreted nature, \n",
      "----\n",
      "make it an ideal language\n",
      "----\n",
      " for scripting and rapid application development in many areas on most platforms.\n",
      "----\n"
     ]
    }
   ],
   "source": [
    "single_para = doc.paragraphs[2]\n",
    "\n",
    "for run in single_para.runs:\n",
    "    print(run.text)\n",
    "    print('----')"
   ]
  },
  {
   "cell_type": "markdown",
   "metadata": {},
   "source": [
    "#### Reading Tabels"
   ]
  },
  {
   "cell_type": "code",
   "execution_count": 39,
   "metadata": {},
   "outputs": [],
   "source": [
    "# Load the first table from your document. In your example file,\n",
    "# there is only one table, so I just grab the first one.\n",
    "doc = docx.Document('data/Uvod_v_Python.docx')\n",
    "table = doc.tables[0]"
   ]
  },
  {
   "cell_type": "code",
   "execution_count": 40,
   "metadata": {},
   "outputs": [],
   "source": [
    "# Data will be a list of rows represented as dictionaries\n",
    "# containing each row's data.\n",
    "data = []"
   ]
  },
  {
   "cell_type": "code",
   "execution_count": 48,
   "metadata": {},
   "outputs": [],
   "source": [
    "keys = None\n",
    "for i, row in enumerate(table.rows):\n",
    "    text = (cell.text for cell in row.cells)\n",
    "\n",
    "    # Establish the mapping based on the first row\n",
    "    # headers; these will become the keys of our dictionary\n",
    "    if i == 0:\n",
    "        keys = tuple(text)\n",
    "        continue\n",
    "\n",
    "    # Construct a dictionary for this row, mapping\n",
    "    # keys to values for this row\n",
    "    row_data = dict(zip(keys, text))\n",
    "    data.append(row_data)"
   ]
  },
  {
   "cell_type": "code",
   "execution_count": 49,
   "metadata": {},
   "outputs": [
    {
     "data": {
      "text/plain": [
       "[{'Verzija': '1.3', 'Hitrost': '58', 'Cena': '425'},\n",
       " {'Verzija': '2.2', 'Hitrost': '78', 'Cena': '526'},\n",
       " {'Verzija': '2.8', 'Hitrost': '79', 'Cena': '636'}]"
      ]
     },
     "execution_count": 49,
     "metadata": {},
     "output_type": "execute_result"
    }
   ],
   "source": [
    "data"
   ]
  },
  {
   "cell_type": "code",
   "execution_count": 50,
   "metadata": {},
   "outputs": [],
   "source": [
    "import pandas as pd"
   ]
  },
  {
   "cell_type": "code",
   "execution_count": 51,
   "metadata": {},
   "outputs": [],
   "source": [
    "df = pd.DataFrame.from_dict(data)"
   ]
  },
  {
   "cell_type": "code",
   "execution_count": 54,
   "metadata": {},
   "outputs": [
    {
     "data": {
      "text/html": [
       "<div>\n",
       "<style scoped>\n",
       "    .dataframe tbody tr th:only-of-type {\n",
       "        vertical-align: middle;\n",
       "    }\n",
       "\n",
       "    .dataframe tbody tr th {\n",
       "        vertical-align: top;\n",
       "    }\n",
       "\n",
       "    .dataframe thead th {\n",
       "        text-align: right;\n",
       "    }\n",
       "</style>\n",
       "<table border=\"1\" class=\"dataframe\">\n",
       "  <thead>\n",
       "    <tr style=\"text-align: right;\">\n",
       "      <th></th>\n",
       "      <th>Verzija</th>\n",
       "      <th>Hitrost</th>\n",
       "      <th>Cena</th>\n",
       "    </tr>\n",
       "  </thead>\n",
       "  <tbody>\n",
       "    <tr>\n",
       "      <th>0</th>\n",
       "      <td>1.3</td>\n",
       "      <td>58</td>\n",
       "      <td>425</td>\n",
       "    </tr>\n",
       "    <tr>\n",
       "      <th>1</th>\n",
       "      <td>2.2</td>\n",
       "      <td>78</td>\n",
       "      <td>526</td>\n",
       "    </tr>\n",
       "    <tr>\n",
       "      <th>2</th>\n",
       "      <td>2.8</td>\n",
       "      <td>79</td>\n",
       "      <td>636</td>\n",
       "    </tr>\n",
       "  </tbody>\n",
       "</table>\n",
       "</div>"
      ],
      "text/plain": [
       "  Verzija Hitrost Cena\n",
       "0     1.3      58  425\n",
       "1     2.2      78  526\n",
       "2     2.8      79  636"
      ]
     },
     "execution_count": 54,
     "metadata": {},
     "output_type": "execute_result"
    }
   ],
   "source": [
    "df"
   ]
  },
  {
   "cell_type": "markdown",
   "metadata": {},
   "source": [
    "Vaja: funkcija, ki pretvori tabelo iz dokumenta v df."
   ]
  },
  {
   "cell_type": "code",
   "execution_count": 100,
   "metadata": {},
   "outputs": [],
   "source": [
    "import pandas as pd\n",
    "import docx\n",
    "\n",
    "def read_docx_table_to_df(document_path: str, table_id: int = 1) -> pd.DataFrame:\n",
    "    document = docx.Document(document_path)\n",
    "    \n",
    "    tables = []\n",
    "    for table in document.tables:\n",
    "        df = [['' for i in range(len(table.columns))] for j in range(len(table.rows))]\n",
    "        for i, row in enumerate(table.rows):\n",
    "            for j, cell in enumerate(row.cells):\n",
    "                if cell.text:\n",
    "                    df[i][j] = cell.text\n",
    "        \n",
    "        tables.append(pd.DataFrame(df[1:], columns=df[0]))\n",
    "        \n",
    "    if (table_id > len(tables)) or (table_id < 1):\n",
    "        raise ValueError(f'table_id {table_id} not exists. There are {len(tables)} table in {document_path}')\n",
    "    \n",
    "    return tables[table_id - 1]"
   ]
  },
  {
   "cell_type": "code",
   "execution_count": 105,
   "metadata": {},
   "outputs": [],
   "source": [
    "df_list = read_docx_table_to_df('data/Uvod_v_Python.docx', 1)"
   ]
  },
  {
   "cell_type": "code",
   "execution_count": 106,
   "metadata": {},
   "outputs": [
    {
     "data": {
      "text/html": [
       "<div>\n",
       "<style scoped>\n",
       "    .dataframe tbody tr th:only-of-type {\n",
       "        vertical-align: middle;\n",
       "    }\n",
       "\n",
       "    .dataframe tbody tr th {\n",
       "        vertical-align: top;\n",
       "    }\n",
       "\n",
       "    .dataframe thead th {\n",
       "        text-align: right;\n",
       "    }\n",
       "</style>\n",
       "<table border=\"1\" class=\"dataframe\">\n",
       "  <thead>\n",
       "    <tr style=\"text-align: right;\">\n",
       "      <th></th>\n",
       "      <th>Verzija</th>\n",
       "      <th>Hitrost</th>\n",
       "      <th>Cena</th>\n",
       "    </tr>\n",
       "  </thead>\n",
       "  <tbody>\n",
       "    <tr>\n",
       "      <th>0</th>\n",
       "      <td>1.3</td>\n",
       "      <td>58</td>\n",
       "      <td>425</td>\n",
       "    </tr>\n",
       "    <tr>\n",
       "      <th>1</th>\n",
       "      <td>2.2</td>\n",
       "      <td>78</td>\n",
       "      <td>526</td>\n",
       "    </tr>\n",
       "    <tr>\n",
       "      <th>2</th>\n",
       "      <td>2.8</td>\n",
       "      <td>79</td>\n",
       "      <td>636</td>\n",
       "    </tr>\n",
       "  </tbody>\n",
       "</table>\n",
       "</div>"
      ],
      "text/plain": [
       "  Verzija Hitrost Cena\n",
       "0     1.3      58  425\n",
       "1     2.2      78  526\n",
       "2     2.8      79  636"
      ]
     },
     "execution_count": 106,
     "metadata": {},
     "output_type": "execute_result"
    }
   ],
   "source": [
    "df_list"
   ]
  },
  {
   "cell_type": "markdown",
   "metadata": {},
   "source": [
    "### Reading tables to excel"
   ]
  },
  {
   "cell_type": "code",
   "execution_count": null,
   "metadata": {},
   "outputs": [],
   "source": [
    "import os\n",
    "from typing import List\n",
    "\n",
    "import docx\n",
    "import pandas as pd\n",
    "\n",
    "def read_docx_table_to_list(document_path: str) -> List:\n",
    "    doc = docx.Document(document_path)\n",
    "    tables = doc.tables\n",
    "    final_tables = []\n",
    "    for table in tables:\n",
    "        data = []\n",
    "        keys = None\n",
    "        for i, row in enumerate(table.rows):\n",
    "            text = (cell.text for cell in row.cells)\n",
    "            if i == 0:\n",
    "                keys = tuple(text)\n",
    "                continue\n",
    "            row_data = dict(zip(keys, text))\n",
    "            data.append(row_data)\n",
    "        final_tables.append(data)\n",
    "    return final_tables\n",
    "\n",
    "\n",
    "def read_docx_table_to_df(document_path: str) -> List[pd.DataFrame]:\n",
    "    tables = read_docx_table_to_list(document_path)\n",
    "    tables_df = [pd.DataFrame.from_dict(table) for table in tables]\n",
    "    return tables_df\n",
    "\n",
    "\n",
    "def convert_docx_tables_to_xlsx(document_path: str):\n",
    "    tables = read_docx_table_to_df(document_path)\n",
    "    for count, table in enumerate(tables):\n",
    "        converted_file_name = f\"{os.path.splitext(document_path)[0]}-table-{count}.xlsx\"\n",
    "        print(f\"Converting file {converted_file_name}...\")\n",
    "        table.to_excel(converted_file_name)\n",
    "\n",
    "\n",
    "if __name__ == \"__main__\":\n",
    "    convert_docx_tables_to_xlsx(\"Del_08_Generiranje_porocil/data/Uvod_v_Python.docx\")"
   ]
  },
  {
   "cell_type": "markdown",
   "metadata": {},
   "source": [
    "### Writing MS Word Files"
   ]
  },
  {
   "cell_type": "markdown",
   "metadata": {},
   "source": [
    "To write MS Word files, you have to create an object of the Document class with an empty constructor, or without passing a file name."
   ]
  },
  {
   "cell_type": "code",
   "execution_count": 180,
   "metadata": {},
   "outputs": [],
   "source": [
    "from docx.shared import Inches\n",
    "\n",
    "mydoc = docx.Document()\n",
    "path = \"data/my_written_file.docx\""
   ]
  },
  {
   "cell_type": "markdown",
   "metadata": {},
   "source": [
    "To write paragraphs, you can use the add_paragraph() method of the Document class object. Once you have added a paragraph, you will need to call the save() method on the Document class object. The path of the file to which you want to write your paragraph is passed as a parameter to the save() method. If the file doesn't already exist, a new file will be created, otherwise the paragraph will be appended at the end of the existing MS Word file."
   ]
  },
  {
   "cell_type": "code",
   "execution_count": 181,
   "metadata": {},
   "outputs": [
    {
     "data": {
      "text/plain": [
       "<docx.text.paragraph.Paragraph at 0x7fd60e611070>"
      ]
     },
     "execution_count": 181,
     "metadata": {},
     "output_type": "execute_result"
    }
   ],
   "source": [
    "mydoc.add_paragraph(\"This is first paragraph of a MS Word file.\")"
   ]
  },
  {
   "cell_type": "markdown",
   "metadata": {},
   "source": [
    "Once you execute the above script, you should see a new file \"my_written_file.docx\" in the directory that you specified in the save() method. Inside the file, you should see one paragraph which reads \"This is first paragraph of a MS Word file.\""
   ]
  },
  {
   "cell_type": "code",
   "execution_count": 182,
   "metadata": {},
   "outputs": [],
   "source": [
    "from datetime import datetime\n",
    "time = datetime.now().strftime(\"%d.%m.%Y %H:%M:%S\")"
   ]
  },
  {
   "cell_type": "code",
   "execution_count": 183,
   "metadata": {},
   "outputs": [
    {
     "data": {
      "text/plain": [
       "<docx.text.paragraph.Paragraph at 0x7fd60d9b6250>"
      ]
     },
     "execution_count": 183,
     "metadata": {},
     "output_type": "execute_result"
    }
   ],
   "source": [
    "mydoc.add_paragraph(f\"Current datetime: {time}.\")"
   ]
  },
  {
   "cell_type": "code",
   "execution_count": 184,
   "metadata": {},
   "outputs": [
    {
     "data": {
      "text/plain": [
       "<docx.text.paragraph.Paragraph at 0x7fd60e61b3d0>"
      ]
     },
     "execution_count": 184,
     "metadata": {},
     "output_type": "execute_result"
    }
   ],
   "source": [
    "mydoc.add_heading(\"This is level 1 heading\", 0)\n",
    "mydoc.add_heading(\"This is level 2 heading\", 1)\n",
    "mydoc.add_heading(\"This is level 3 heading\", 2)"
   ]
  },
  {
   "cell_type": "code",
   "execution_count": 185,
   "metadata": {},
   "outputs": [
    {
     "data": {
      "text/plain": [
       "<docx.text.paragraph.Paragraph at 0x7fd5fc11ef10>"
      ]
     },
     "execution_count": 185,
     "metadata": {},
     "output_type": "execute_result"
    }
   ],
   "source": [
    "mydoc.add_paragraph('Intense quote', style='Intense Quote')"
   ]
  },
  {
   "cell_type": "code",
   "execution_count": 186,
   "metadata": {},
   "outputs": [
    {
     "data": {
      "text/plain": [
       "<docx.text.paragraph.Paragraph at 0x7fd60e618df0>"
      ]
     },
     "execution_count": 186,
     "metadata": {},
     "output_type": "execute_result"
    }
   ],
   "source": [
    "mydoc.add_paragraph(\n",
    "    'first item in unordered list', style='List Bullet'\n",
    ")"
   ]
  },
  {
   "cell_type": "code",
   "execution_count": 187,
   "metadata": {},
   "outputs": [
    {
     "data": {
      "text/plain": [
       "<docx.text.paragraph.Paragraph at 0x7fd60e618bb0>"
      ]
     },
     "execution_count": 187,
     "metadata": {},
     "output_type": "execute_result"
    }
   ],
   "source": [
    "mydoc.add_page_break()"
   ]
  },
  {
   "cell_type": "code",
   "execution_count": 188,
   "metadata": {},
   "outputs": [
    {
     "data": {
      "text/plain": [
       "<docx.shape.InlineShape at 0x7fd5fc118730>"
      ]
     },
     "execution_count": 188,
     "metadata": {},
     "output_type": "execute_result"
    }
   ],
   "source": [
    "mydoc.add_picture('data/slika.jpg', width=Inches(1.25))"
   ]
  },
  {
   "cell_type": "code",
   "execution_count": 189,
   "metadata": {},
   "outputs": [],
   "source": [
    "from docx.enum.style import WD_STYLE_TYPE\n",
    "from docx.shared import Pt\n",
    "\n",
    "styles = mydoc.styles\n",
    "style = styles.add_style('tahoma_big', WD_STYLE_TYPE.PARAGRAPH)\n",
    "style.font.name = 'Tahoma'\n",
    "style.font.size = Pt(25)\n",
    "\n",
    "p = mydoc.add_paragraph('danes je lep dan')\n",
    "p.style = mydoc.styles['tahoma_big']"
   ]
  },
  {
   "cell_type": "code",
   "execution_count": 191,
   "metadata": {},
   "outputs": [],
   "source": [
    "mydoc.save(path)"
   ]
  },
  {
   "cell_type": "markdown",
   "metadata": {},
   "source": [
    "## Vaja 1: Branje kompleksnih tabel iz worda"
   ]
  },
  {
   "cell_type": "markdown",
   "metadata": {},
   "source": [
    "Primer tabele v Word ali PDF obliki, ki bi ju rad pretvoril v EXCELL obliko, kot sem prikazal v priponki.\n",
    " \n",
    "Namreč velikokrat dobimo od strank zahteve v takšni obliki (word, pdf), ki bi jo želeli spraviti v standardno obliko v excellu, ki jo v podjetju uporabljamo. Iz excella potem generiramo kodo v C-ju (v header file), ki je potem osnova za naše nadaljnje delo.\n",
    " \n",
    "V priponki sem prikazal 2 primera tabele, ki bi ju rad pretvoril v excell v željeno obliko. Upam, da je skozi primer v priponki razvidno, kaj je cilj. V primeru nejasnosti, se lahko na kratko tudi slišiva. Lahko potem zadevo predebatiramo v sredo na predavanju."
   ]
  },
  {
   "cell_type": "code",
   "execution_count": 93,
   "metadata": {},
   "outputs": [],
   "source": [
    "import re\n",
    "import docx\n",
    "from openpyxl import Workbook\n",
    "from openpyxl.styles import Font, Color, Alignment, Border, Side, colors, PatternFill\n",
    "\n",
    "\n",
    "class DocxTableReportParser:\n",
    "    def __init__(self, docx_path):\n",
    "        self.docx_path = docx_path\n",
    "        self.workbook = Workbook()\n",
    "        self.sheet = self.workbook.active\n",
    "        self.tables = self._read_docx_table_all_elements_to_list(self.docx_path)\n",
    "        # stili\n",
    "        self.bold_font = Font(bold=True)\n",
    "        self.center_aligned_text = Alignment(horizontal=\"center\")\n",
    "        self.light_gray_bg_color = PatternFill(start_color=\"D3D3D3\", fill_type = \"solid\")\n",
    "        self.red_bg_color = PatternFill(start_color=\"FF0000\", fill_type = \"solid\")\n",
    "        self.yellow_bg_color = PatternFill(start_color=\"FFFF00\", fill_type = \"solid\")\n",
    "        self.cyan_bg_color = PatternFill(start_color=\"00FFFF\", fill_type = \"solid\")\n",
    "        self._add_first_line_template()\n",
    "        self._add_second_line_template()\n",
    "        \n",
    "    def _append_rows(self, rows):\n",
    "        for row in rows:\n",
    "            self.sheet.append(row)\n",
    "            \n",
    "    def _get_class_id_version(self, table_id):\n",
    "        data = self.tables[table_id][0][1].split(',')\n",
    "        class_id = int(re.search(r'Class_id\\s?=\\s?(\\d)', data[0], re.IGNORECASE).group(1))\n",
    "        version = int(re.search(r'version\\s?=\\s?(\\d)', data[1], re.IGNORECASE).group(1))\n",
    "        return class_id, version\n",
    "    \n",
    "    def _get_obis_code_daily(self, table_id):\n",
    "        result = self.tables[table_id][2]\n",
    "        result = [el.strip() for el in result]\n",
    "        obis_code = f\"{result[1]}-{result[2]}:{result[3]}.{result[4]}.{result[5]}.{result[6]}\"\n",
    "        return obis_code\n",
    "    \n",
    "    def _add_atributes_table(self, table_id):\n",
    "        attributes = self.tables[table_id][3:]\n",
    "        attributes_name = [[int(attr[0].split()[0].replace('.','')), attr[0].split()[1]] for attr in attributes]\n",
    "        access_rights = []\n",
    "        for ar in attributes:    \n",
    "            access_rights.append([el.replace('R/-', 'Get_1').replace('R/W', 'Get_1,Set_1').replace('-/- ', '') for el in ar[2:]])\n",
    "        final_list = []\n",
    "        for an, ar in zip(attributes_name, access_rights):\n",
    "            final_list.append([an[0], an[1], '', '', '', ar[0], ar[1], ar[3], ar[2]])\n",
    "        self._append_rows(final_list)\n",
    "        return len(attributes_name)\n",
    "        \n",
    "        \n",
    "    def _read_docx_table_all_elements_to_list(self, document_path: str):\n",
    "        doc = docx.Document(document_path)\n",
    "        tables_doc = doc.tables\n",
    "        final_tables = []\n",
    "        for table in tables_doc:\n",
    "            data = []\n",
    "            for i, row in enumerate(table.rows):\n",
    "                text = list((cell.text for cell in row.cells))\n",
    "                data.append(text)\n",
    "            final_tables.append(data)\n",
    "        return final_tables\n",
    "        \n",
    "        \n",
    "    def _add_first_line_template(self):\n",
    "        '''Add first line fix template.'''\n",
    "        rows = [\n",
    "            [\"\", \"Object/Attribute Name\", \"IC\", \"IC\", \"OBIS Object\",\n",
    "            \"Access right\", \"Access right\", \"Access right\", \"Access right\"]]\n",
    "        \n",
    "        for row in rows:\n",
    "            self.sheet.append(row)\n",
    "            \n",
    "        # združimo celice\n",
    "        self.sheet.merge_cells('C1:D1')\n",
    "        self.sheet.merge_cells('F1:I1')\n",
    "        # uredimo prvo vrstico\n",
    "        for cell in self.sheet[\"1:1\"]:\n",
    "            cell.fill = self.light_gray_bg_color\n",
    "            cell.alignment = self.center_aligned_text\n",
    "            cell.font = self.bold_font\n",
    "            \n",
    "    def _add_second_line_template(self):\n",
    "        '''Add second line fix template'''\n",
    "        rows = [[\"#\", \"Object/Attribute Name\", \"Class ID\", \"Ver.\", \"OBIS Object Code / Default Value\",\n",
    "        \"A.1\", \"A.2\", \"A.3\", \"A.4\"]]\n",
    "        self._append_rows(rows)\n",
    "        for cell in self.sheet[\"2:2\"]:\n",
    "            cell.fill = self.light_gray_bg_color\n",
    "            cell.alignment = self.center_aligned_text\n",
    "            \n",
    "    def add_energy_profile_daily_snapshot(self, id_class, id_attr):\n",
    "        # dodamo rdečo vrstico\n",
    "        rows = [[\"\", \"Energy Profile (Daily snapshot)\"]]\n",
    "        self._append_rows(rows)\n",
    "        current_row = self.sheet._current_row\n",
    "        for cell in self.sheet[f\"{current_row}:{current_row}\"]:\n",
    "            cell.fill = self.red_bg_color\n",
    "            cell.font = self.bold_font\n",
    "            \n",
    "        # dodamo rumeno vrstico\n",
    "        calss_id, version = self._get_class_id_version(id_attr)\n",
    "        obis_code = self._get_obis_code_daily(id_class)\n",
    "        \n",
    "        rows = [[\"Attr\", \"Energy Profile (Daily snapshot)\", calss_id, version, obis_code]]\n",
    "        self._append_rows(rows)\n",
    "        current_row = self.sheet._current_row\n",
    "        for cell in self.sheet[f\"{current_row}:{current_row}\"]:\n",
    "            cell.fill = self.yellow_bg_color\n",
    "            cell.font = self.bold_font\n",
    "        \n",
    "        # dodamo atribute\n",
    "        table_len = self._add_atributes_table(id_attr)\n",
    "        current_row = self.sheet._current_row\n",
    "        for a in self.sheet[f\"A{current_row-table_len+1}:B{current_row}\"]:\n",
    "            for cell in a:\n",
    "                cell.fill = self.cyan_bg_color\n",
    "                \n",
    "        # dodamo prazno vrstico\n",
    "        self.sheet._current_row += 1\n",
    "        \n",
    "        \n",
    "    def add_total_energy_registers(self, id_class, id_attr):\n",
    "        # dodamo rdečo vrstico\n",
    "        rows = [[\"\", \"Total Energy Registers\"]]\n",
    "        self._append_rows(rows)\n",
    "        current_row = self.sheet._current_row\n",
    "        for cell in self.sheet[f\"{current_row}:{current_row}\"]:\n",
    "            cell.fill = self.red_bg_color\n",
    "            cell.font = self.bold_font\n",
    "            \n",
    "        # dodamo rumeno vrstico\n",
    "        calss_id, version = self._get_class_id_version(id_attr)\n",
    "        obis_code = self.tables[0][1][-1].strip()\n",
    "        \n",
    "        rows = [[\"Attr\", \"Active energy import (+A)\", calss_id, version, obis_code]]\n",
    "        self._append_rows(rows)\n",
    "        current_row = self.sheet._current_row\n",
    "        for cell in self.sheet[f\"{current_row}:{current_row}\"]:\n",
    "            cell.fill = self.yellow_bg_color\n",
    "            cell.font = self.bold_font\n",
    "            \n",
    "        # dodamo atribute\n",
    "        table_len = self._add_atributes_table(id_attr)\n",
    "        current_row = self.sheet._current_row\n",
    "        for a in self.sheet[f\"A{current_row-table_len+1}:B{current_row}\"]:\n",
    "            for cell in a:\n",
    "                cell.fill = self.cyan_bg_color    \n",
    "        \n",
    "        # dodamo prazno vrstico\n",
    "        self.sheet._current_row += 1\n",
    "        \n",
    "        # dodamo rumeno vrstico\n",
    "        calss_id, version = self._get_class_id_version(id_attr)\n",
    "        obis_code = self.tables[0][2][-1].strip()\n",
    "        \n",
    "        rows = [[\"Attr\", \"Active energy import (-A)\", calss_id, version, obis_code]]\n",
    "        self._append_rows(rows)\n",
    "        current_row = self.sheet._current_row\n",
    "        for cell in self.sheet[f\"{current_row}:{current_row}\"]:\n",
    "            cell.fill = self.yellow_bg_color\n",
    "            cell.font = self.bold_font\n",
    "            \n",
    "        # dodamo atribute\n",
    "        table_len = self._add_atributes_table(id_attr)\n",
    "        current_row = self.sheet._current_row\n",
    "        for a in self.sheet[f\"A{current_row-table_len+1}:B{current_row}\"]:\n",
    "            for cell in a:\n",
    "                cell.fill = self.cyan_bg_color\n",
    "                \n",
    "        # dodamo prazno vrstico\n",
    "        self.sheet._current_row += 1\n",
    "        \n",
    "    \n",
    "    def save_table(self, table_path):\n",
    "        self.workbook.save(filename=table_path)"
   ]
  },
  {
   "cell_type": "code",
   "execution_count": 94,
   "metadata": {},
   "outputs": [],
   "source": [
    "my_parser = DocxTableReportParser(\"data/PRIMER_kompleksna_tabela.docx\")\n",
    "\n",
    "my_parser.add_total_energy_registers(0, 1)\n",
    "my_parser.add_energy_profile_daily_snapshot(2, 3)\n",
    "my_parser.save_table(\"data/complex_report.xlsx\")"
   ]
  },
  {
   "cell_type": "code",
   "execution_count": null,
   "metadata": {},
   "outputs": [],
   "source": []
  },
  {
   "cell_type": "code",
   "execution_count": null,
   "metadata": {},
   "outputs": [],
   "source": []
  },
  {
   "cell_type": "code",
   "execution_count": null,
   "metadata": {},
   "outputs": [],
   "source": []
  },
  {
   "cell_type": "code",
   "execution_count": null,
   "metadata": {},
   "outputs": [],
   "source": []
  }
 ],
 "metadata": {
  "kernelspec": {
   "display_name": "Python 3",
   "language": "python",
   "name": "python3"
  },
  "language_info": {
   "codemirror_mode": {
    "name": "ipython",
    "version": 3
   },
   "file_extension": ".py",
   "mimetype": "text/x-python",
   "name": "python",
   "nbconvert_exporter": "python",
   "pygments_lexer": "ipython3",
   "version": "3.8.6"
  }
 },
 "nbformat": 4,
 "nbformat_minor": 4
}
