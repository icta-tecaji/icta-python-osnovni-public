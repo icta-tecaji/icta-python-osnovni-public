{
 "cells": [
  {
   "cell_type": "markdown",
   "metadata": {},
   "source": [
    "# Iterators and Iterables"
   ]
  },
  {
   "cell_type": "markdown",
   "metadata": {},
   "source": [
    "**Iteration is the repetition of some kind of process over and over again.** Python’s for loop gives us an easy way to iterate over various objects. Often, you’ll iterate over a list, but we can also iterate over other Python objects such as strings and dictionaries."
   ]
  },
  {
   "cell_type": "code",
   "execution_count": null,
   "metadata": {},
   "outputs": [
    {
     "name": "stdout",
     "output_type": "stream",
     "text": [
      "1\n",
      "2\n",
      "3\n"
     ]
    }
   ],
   "source": [
    "# Iterating over a list\n",
    "ez_list = [1, 2, 3]\n",
    "for i in ez_list:\n",
    "    print(i)"
   ]
  },
  {
   "cell_type": "code",
   "execution_count": null,
   "metadata": {},
   "outputs": [
    {
     "name": "stdout",
     "output_type": "stream",
     "text": [
      "G\n",
      "e\n",
      "n\n",
      "e\n",
      "r\n",
      "a\n",
      "t\n",
      "o\n",
      "r\n",
      "s\n"
     ]
    }
   ],
   "source": [
    "# Iterating over a string\n",
    "ez_string = \"Generators\"\n",
    "for s in ez_string:\n",
    "    print(s)"
   ]
  },
  {
   "cell_type": "code",
   "execution_count": null,
   "metadata": {},
   "outputs": [
    {
     "name": "stdout",
     "output_type": "stream",
     "text": [
      "1 First\n",
      "2 Second\n"
     ]
    }
   ],
   "source": [
    "# Iterating over a dictionary\n",
    "ez_dict = {1 : \"First\", 2 : \"Second\"}\n",
    "for key, value in ez_dict.items():\n",
    "    print(key, value)"
   ]
  },
  {
   "cell_type": "markdown",
   "metadata": {},
   "source": [
    "In each of the above examples, the for loop iterates over the sequence we give it. The code above used a list, string, and dictionary, but you can iterate over tuples and sets as well. In each loop above, we print each of the items in the sequence in the order they appear. For example, you can confirm that the order of the ez_list is replicated in the order that its items are printed out."
   ]
  },
  {
   "cell_type": "markdown",
   "metadata": {},
   "source": [
    "**We refer to any object that can support iteration as an iterable.**"
   ]
  },
  {
   "cell_type": "markdown",
   "metadata": {},
   "source": [
    "### What defines an iterable?"
   ]
  },
  {
   "cell_type": "markdown",
   "metadata": {},
   "source": [
    "Iterables support something called the **Iterator Protocol**. The technical definition for the Iterator Protocol is out of the scope of this article, but it can be thought of as **a set of requirements to be used for a for loop**. That is to say: lists, strings and dictionaries all follow the Iterator Protocol, therefore we can use them in for loops. Conversely, objects that do not follow the protocol cannot be used in a for loop. **One example of an object that does not follow the protocol is an integer**. If we try to give an integer to a for loop, Python will throw an error."
   ]
  },
  {
   "cell_type": "code",
   "execution_count": null,
   "metadata": {},
   "outputs": [
    {
     "ename": "TypeError",
     "evalue": "'int' object is not iterable",
     "output_type": "error",
     "traceback": [
      "\u001b[0;31m---------------------------------------------------------------------------\u001b[0m\n",
      "\u001b[0;31mTypeError\u001b[0m                                 Traceback (most recent call last)\n",
      "\u001b[0;32m<ipython-input-10-b97de08daa0b>\u001b[0m in \u001b[0;36m<module>\u001b[0;34m\u001b[0m\n",
      "\u001b[1;32m      1\u001b[0m \u001b[0mnumber\u001b[0m \u001b[0;34m=\u001b[0m \u001b[0;36m12345\u001b[0m\u001b[0;34m\u001b[0m\u001b[0;34m\u001b[0m\u001b[0m\n",
      "\u001b[0;32m----> 2\u001b[0;31m \u001b[0;32mfor\u001b[0m \u001b[0mn\u001b[0m \u001b[0;32min\u001b[0m \u001b[0mnumber\u001b[0m\u001b[0;34m:\u001b[0m\u001b[0;34m\u001b[0m\u001b[0;34m\u001b[0m\u001b[0m\n",
      "\u001b[0m\u001b[1;32m      3\u001b[0m     \u001b[0mprint\u001b[0m\u001b[0;34m(\u001b[0m\u001b[0mn\u001b[0m\u001b[0;34m)\u001b[0m\u001b[0;34m\u001b[0m\u001b[0;34m\u001b[0m\u001b[0m\n",
      "\n",
      "\u001b[0;31mTypeError\u001b[0m: 'int' object is not iterable"
     ]
    }
   ],
   "source": [
    "number = 12345\n",
    "for n in number:\n",
    "    print(n)"
   ]
  },
  {
   "cell_type": "markdown",
   "metadata": {},
   "source": [
    "An integer is just a singular number, not a sequence. You may argue that the “first” number in number is 1, but it is not the same as the first item in a sequence. It doesn’t make sense to ask “What’s after 1?” from number since Python only understands integers as a single entities. Therefore, one of the requirements to be an iterable is to be able to describe to the for loop what the next item to perform the operation on is. For example, lists tell the for loop that the next item to iterate on is in the index+1 from the current one (1 comes after 0). Consequently, an iterable must also signal to a for loop when to stop iterating. This signal usually comes when we arrive at the end of a sequence (i.e. the end of a list or string). We will explore the specific functions that make something iterable later in this article, the important thing to know is that iterables describe how a for loop should traverse its contents. Generators are iterables themselves. As you’ll see later, for loops are one of the main ways we use a generator, so they must be able to support iteration. We’ll delve into how we can create our own generators in the next secton."
   ]
  },
  {
   "cell_type": "markdown",
   "metadata": {},
   "source": [
    "> - Iteration is the idea of repeating some process over a sequence of items. In Python, iteration is usually related to the for loop.\n",
    "- An iterable is an object that supports iteration.\n",
    "- To be an iterable, it must describe to a for loop two things:\n",
    "    - What item comes next in the iteration.\n",
    "    - When should the loop stop iteration.\n",
    "- Generators are iterables."
   ]
  },
  {
   "cell_type": "markdown",
   "metadata": {},
   "source": [
    "## Iterators"
   ]
  },
  {
   "cell_type": "markdown",
   "metadata": {},
   "source": [
    "<p data-id=\"e676dedd66b7a59576952d0c5743e38f\">An iterator is an object that will allow you to iterate over a\n",
    "container. The iterator in Python is implemented via two distinct\n",
    "methods: <strong>__iter__</strong> and <strong>__next__</strong>. The <strong>__iter__</strong>\n",
    "method is required for your container to provide iteration support. It\n",
    "will return the iterator object itself. But if you want to create an\n",
    "iterator object, then you will need to define <strong>__next__</strong> as well,\n",
    "which will return the next item in the container.</p>"
   ]
  },
  {
   "cell_type": "markdown",
   "metadata": {},
   "source": [
    "To make things extra clear, let’s go over a couple of definitions:"
   ]
  },
  {
   "cell_type": "markdown",
   "metadata": {},
   "source": [
    "<ul>\n",
    "<li>iterable - an object that has the __iter__ method defined</li>\n",
    "<li>iterator - an object that has both __iter__ and __next__\n",
    "defined where __iter__ will return the iterator object and\n",
    "__next__ will return the next element in the iteration.</li>\n",
    "</ul>"
   ]
  },
  {
   "cell_type": "markdown",
   "metadata": {},
   "source": [
    "<p>As with most magic methods (the methods with double-underscores), you\n",
    "should not call __iter__ or __next__ directly. Instead you can\n",
    "use a <strong>for</strong> loop or list comprehension and Python will call the\n",
    "methods for you automatically. There are cases when you may need to\n",
    "call them, but you can do so with Python’s built-ins: <strong>iter</strong> and\n",
    "<strong>next</strong>.</p>"
   ]
  },
  {
   "cell_type": "markdown",
   "metadata": {},
   "source": [
    "<p>Before we move on, I want to mention Sequences. Python 3 has several\n",
    "sequence types such as list, tuple and range. The list is an iterable,\n",
    "but not an iterator because it does not implement __next__. This\n",
    "can be easily seen in the following example:</p>"
   ]
  },
  {
   "cell_type": "code",
   "execution_count": null,
   "metadata": {},
   "outputs": [
    {
     "ename": "TypeError",
     "evalue": "'list' object is not an iterator",
     "output_type": "error",
     "traceback": [
      "\u001b[0;31m---------------------------------------------------------------------------\u001b[0m\n",
      "\u001b[0;31mTypeError\u001b[0m                                 Traceback (most recent call last)\n",
      "\u001b[0;32m<ipython-input-2-37482521928a>\u001b[0m in \u001b[0;36m<module>\u001b[0;34m\u001b[0m\n",
      "\u001b[1;32m      1\u001b[0m \u001b[0mmy_list\u001b[0m \u001b[0;34m=\u001b[0m \u001b[0;34m[\u001b[0m\u001b[0;36m1\u001b[0m\u001b[0;34m,\u001b[0m \u001b[0;36m2\u001b[0m\u001b[0;34m,\u001b[0m \u001b[0;36m3\u001b[0m\u001b[0;34m]\u001b[0m\u001b[0;34m\u001b[0m\u001b[0;34m\u001b[0m\u001b[0m\n",
      "\u001b[0;32m----> 2\u001b[0;31m \u001b[0mnext\u001b[0m\u001b[0;34m(\u001b[0m\u001b[0mmy_list\u001b[0m\u001b[0;34m)\u001b[0m\u001b[0;34m\u001b[0m\u001b[0;34m\u001b[0m\u001b[0m\n",
      "\u001b[0m\n",
      "\u001b[0;31mTypeError\u001b[0m: 'list' object is not an iterator"
     ]
    }
   ],
   "source": [
    "my_list = [1, 2, 3]\n",
    "next(my_list)"
   ]
  },
  {
   "cell_type": "markdown",
   "metadata": {},
   "source": [
    "When we tried to call the list’s next method in the example above, we received a TypeError and were informed that the list object is not an iterator. But we can make it one! Let’s see how:"
   ]
  },
  {
   "cell_type": "code",
   "execution_count": null,
   "metadata": {},
   "outputs": [
    {
     "data": {
      "text/plain": [
       "<list_iterator at 0x7f8acc362780>"
      ]
     },
     "metadata": {},
     "output_type": "display_data"
    }
   ],
   "source": [
    "iter(my_list)"
   ]
  },
  {
   "cell_type": "code",
   "execution_count": null,
   "metadata": {},
   "outputs": [
    {
     "data": {
      "text/plain": [
       "1"
      ]
     },
     "metadata": {},
     "output_type": "display_data"
    }
   ],
   "source": [
    "list_iterator = iter(my_list)\n",
    "next(list_iterator)"
   ]
  },
  {
   "cell_type": "code",
   "execution_count": null,
   "metadata": {},
   "outputs": [
    {
     "data": {
      "text/plain": [
       "2"
      ]
     },
     "metadata": {},
     "output_type": "display_data"
    }
   ],
   "source": [
    "next(list_iterator)"
   ]
  },
  {
   "cell_type": "code",
   "execution_count": null,
   "metadata": {},
   "outputs": [
    {
     "data": {
      "text/plain": [
       "3"
      ]
     },
     "metadata": {},
     "output_type": "display_data"
    }
   ],
   "source": [
    "next(list_iterator)"
   ]
  },
  {
   "cell_type": "code",
   "execution_count": null,
   "metadata": {},
   "outputs": [
    {
     "ename": "StopIteration",
     "evalue": "",
     "output_type": "error",
     "traceback": [
      "\u001b[0;31m---------------------------------------------------------------------------\u001b[0m\n",
      "\u001b[0;31mStopIteration\u001b[0m                             Traceback (most recent call last)\n",
      "\u001b[0;32m<ipython-input-7-56e733bbb896>\u001b[0m in \u001b[0;36m<module>\u001b[0;34m\u001b[0m\n",
      "\u001b[0;32m----> 1\u001b[0;31m \u001b[0mnext\u001b[0m\u001b[0;34m(\u001b[0m\u001b[0mlist_iterator\u001b[0m\u001b[0;34m)\u001b[0m\u001b[0;34m\u001b[0m\u001b[0;34m\u001b[0m\u001b[0m\n",
      "\u001b[0m\n",
      "\u001b[0;31mStopIteration\u001b[0m: "
     ]
    }
   ],
   "source": [
    "next(list_iterator)"
   ]
  },
  {
   "cell_type": "markdown",
   "metadata": {},
   "source": [
    "To turn the list into an iterator, just wrap it in a call to Python’s iter method. Then you can call next on it until the iterator runs out of items and StopIteration gets raised. Let’s try turning the list into an iterator and iterating over it with a loop:"
   ]
  },
  {
   "cell_type": "code",
   "execution_count": null,
   "metadata": {},
   "outputs": [
    {
     "name": "stdout",
     "output_type": "stream",
     "text": [
      "1\n",
      "2\n",
      "3\n"
     ]
    }
   ],
   "source": [
    "for item in iter(my_list):\n",
    "    print(item)"
   ]
  },
  {
   "cell_type": "code",
   "execution_count": null,
   "metadata": {},
   "outputs": [
    {
     "name": "stdout",
     "output_type": "stream",
     "text": [
      "1\n",
      "2\n",
      "3\n"
     ]
    }
   ],
   "source": [
    "for item in my_list:\n",
    "    print(item)"
   ]
  },
  {
   "cell_type": "markdown",
   "metadata": {},
   "source": [
    "When you use a loop to iterate over the iterator, you don’t need to call next and you also don’t have to worry about the StopIteration exception being raised."
   ]
  },
  {
   "cell_type": "markdown",
   "metadata": {},
   "source": [
    "### Creating Your Own Iterators"
   ]
  },
  {
   "cell_type": "markdown",
   "metadata": {},
   "source": [
    "<p data-id=\"ef127564d4724bf7d20c938e5f00004d\">Occasionally you will want to create your own custom iterators. Python\n",
    "makes this very easy to do. As mentioned in the previous section, all\n",
    "you need to do is implement the __iter__ and __next__ methods in\n",
    "your class. Let’s create an iterator that can iterate over a string of\n",
    "words:</p>"
   ]
  },
  {
   "cell_type": "code",
   "execution_count": null,
   "metadata": {},
   "outputs": [
    {
     "name": "stdout",
     "output_type": "stream",
     "text": [
      "Danes\n",
      "je\n",
      "lep\n",
      "dan\n"
     ]
    }
   ],
   "source": [
    "import re\n",
    "RE_WORD = re.compile(r'\\w+')\n",
    "\n",
    "\n",
    "class SentenceIterator:\n",
    "    def __init__(self, text):\n",
    "        \"\"\"\n",
    "        Constructor\n",
    "        \"\"\"\n",
    "        self.words = RE_WORD.findall(text)\n",
    "        self.index = 0\n",
    "\n",
    "    def __iter__(self):\n",
    "        \"\"\"\n",
    "        Returns itself as an iterator\n",
    "        \"\"\"\n",
    "        return self\n",
    "\n",
    "    def __next__(self):\n",
    "        \"\"\"\n",
    "        Returns the next word in the sequence or \n",
    "        raises StopIteration\n",
    "        \"\"\"\n",
    "        try:\n",
    "            word = self.words[self.index]\n",
    "        except IndexError:\n",
    "            raise StopIteration()\n",
    "        self.index += 1\n",
    "        return word\n",
    "\n",
    "if __name__ == '__main__':\n",
    "    sentence = SentenceIterator('Danes je lep dan.')\n",
    "    for item in sentence:\n",
    "        print(item)"
   ]
  },
  {
   "cell_type": "markdown",
   "metadata": {},
   "source": [
    "<p data-id=\"31f71620b602daa3e2a9d4893bad2247\">For this example, we only needed three methods in our class. In our\n",
    "initialization, we pass in the string of letters and create a class\n",
    "variable to refer to them. We also initialize a position variable so we\n",
    "always know where we’re at in the string. The __iter__ method just\n",
    "returns itself, which is all it really needs to do. The __next__\n",
    "method is the meatiest part of this class. Here we check the position\n",
    "against the length of the string and raise StopIteration if we try to go\n",
    "past its length. Otherwise we extract the letter we’re on, increment the\n",
    "position and return the letter.</p>"
   ]
  },
  {
   "cell_type": "markdown",
   "metadata": {},
   "source": [
    "Let’s take a moment to create an infinite iterator. An infinite iterator is one that can iterate forever. You will need to be careful when calling these as they will cause an infinite loop if you don’t make sure to put a bound on them."
   ]
  },
  {
   "cell_type": "code",
   "execution_count": null,
   "metadata": {},
   "outputs": [
    {
     "name": "stdout",
     "output_type": "stream",
     "text": [
      "1\n",
      "4\n",
      "9\n",
      "16\n",
      "25\n",
      "36\n",
      "49\n"
     ]
    }
   ],
   "source": [
    "class Doubler:\n",
    "    \"\"\"\n",
    "    An infinite iterator\n",
    "    \"\"\"\n",
    "    def __init__(self):\n",
    "        \"\"\"\n",
    "        Constructor\n",
    "        \"\"\"\n",
    "        self.number = 0\n",
    "\n",
    "    def __iter__(self):\n",
    "        \"\"\"\n",
    "        Returns itself as an iterator\n",
    "        \"\"\"\n",
    "        return self\n",
    "\n",
    "    def __next__(self):\n",
    "        \"\"\"\n",
    "        Doubles the number each time next is called\n",
    "        and returns it. \n",
    "        \"\"\"\n",
    "        self.number += 1\n",
    "        return self.number * self.number\n",
    "\n",
    "if __name__ == '__main__':\n",
    "    doubler = Doubler()\n",
    "    count = 0\n",
    "\n",
    "    for number in doubler:\n",
    "        print(number)\n",
    "        if count > 5:\n",
    "            break\n",
    "        count += 1"
   ]
  },
  {
   "cell_type": "markdown",
   "metadata": {},
   "source": [
    "In this piece of code, we don’t pass anything to our iterator. We just instantiate it. Then to make sure we don’t end up in an infinite loop, we add a counter before we start iterating over our custom iterator. Finally we start iterating and break out when the counter goes above 5."
   ]
  },
  {
   "cell_type": "markdown",
   "metadata": {},
   "source": [
    "## Advanced topics - Iterables, Iterators"
   ]
  },
  {
   "cell_type": "markdown",
   "metadata": {},
   "source": [
    "Iteration is fundamental to data processing. And when scanning datasets that don’t fit\n",
    "in memory, we need a way to fetch the items lazily, that is, one at a time and on demand.\n",
    "This is what the Iterator pattern is about. This chapter shows how the Iterator pattern\n",
    "is built into the Python language so you never need to implement it by hand."
   ]
  },
  {
   "cell_type": "markdown",
   "metadata": {},
   "source": [
    "The yield keyword allows the construction of generators, which\n",
    "work as iterators."
   ]
  },
  {
   "cell_type": "markdown",
   "metadata": {},
   "source": [
    "> Every generator is an iterator: generators fully implement the\n",
    "iterator interface. But an iterator—as defined in the GoF book—\n",
    "retrieves items from a collection, while a generator can produce\n",
    "items “out of thin air.” That’s why the Fibonacci sequence generator\n",
    "is a common example: an infinite series of numbers cannot\n",
    "be stored in a collection. However, be aware that the Python\n",
    "community treats iterator and generator as synonyms most of the\n",
    "time."
   ]
  },
  {
   "cell_type": "markdown",
   "metadata": {},
   "source": [
    "Python 3 uses generators in many places. Even the range() built-in now returns a\n",
    "generator-like object instead of full-blown lists like before. If you must build a list\n",
    "from range, you have to be explicit (e.g., list(range(100)))."
   ]
  },
  {
   "cell_type": "markdown",
   "metadata": {},
   "source": [
    "Every collection in Python is iterable, and iterators are used internally to support:\n",
    "- for loops\n",
    "- Collection types construction and extension\n",
    "- Looping over text files line by line\n",
    "- List, dict, and set comprehensions\n",
    "- Tuple unpacking\n",
    "- Unpacking actual parameters with * in function calls"
   ]
  },
  {
   "cell_type": "markdown",
   "metadata": {},
   "source": [
    "### Sentence Take #1: A Sequence of Words"
   ]
  },
  {
   "cell_type": "markdown",
   "metadata": {},
   "source": [
    "We’ll start our exploration of iterables by implementing a Sentence class: you give its\n",
    "constructor a string with some text, and then you can iterate word by word. The first\n",
    "version will implement the sequence protocol, and it’s iterable because all sequences are\n",
    "iterable, as we’ve seen before, but now we’ll see exactly why."
   ]
  },
  {
   "cell_type": "code",
   "execution_count": null,
   "metadata": {},
   "outputs": [],
   "source": [
    "import re\n",
    "import reprlib"
   ]
  },
  {
   "cell_type": "code",
   "execution_count": null,
   "metadata": {},
   "outputs": [],
   "source": [
    "RE_WORD = re.compile('\\w+')"
   ]
  },
  {
   "cell_type": "code",
   "execution_count": null,
   "metadata": {},
   "outputs": [],
   "source": [
    "class Sentence:\n",
    "    def __init__(self, text):\n",
    "        self.text = text\n",
    "        self.words = RE_WORD.findall(text)\n",
    "    def __getitem__(self, index):\n",
    "        return self.words[index]\n",
    "    def __len__(self):\n",
    "        return len(self.words)\n",
    "    def __repr__(self):\n",
    "        return 'Sentence(%s)' % reprlib.repr(self.text)"
   ]
  },
  {
   "cell_type": "markdown",
   "metadata": {},
   "source": [
    "- re.findall returns a list with all nonoverlapping matches of the regular\n",
    "expression, as a list of strings.\n",
    "- self.words holds the result of .findall, so we simply return the word at the\n",
    "given index.\n",
    "- To complete the sequence protocol, we implement \\__len__—but it is not needed\n",
    "to make an iterable object.\n",
    "- reprlib.repr is a utility function to generate abbreviated string representations\n",
    "of data structures that can be very large."
   ]
  },
  {
   "cell_type": "markdown",
   "metadata": {},
   "source": [
    "By default, reprlib.repr limits the generated string to 30 characters. See the console\n",
    "session in Example 14-2 to see how Sentence is used."
   ]
  },
  {
   "cell_type": "code",
   "execution_count": null,
   "metadata": {},
   "outputs": [],
   "source": [
    "# A sentence is created from a string.\n",
    "s = Sentence('\"The time has come,\" the Walrus said,')"
   ]
  },
  {
   "cell_type": "code",
   "execution_count": null,
   "metadata": {},
   "outputs": [
    {
     "data": {
      "text/plain": [
       "Sentence('\"The time ha... Walrus said,')"
      ]
     },
     "metadata": {},
     "output_type": "display_data"
    }
   ],
   "source": [
    "# Note the output of __repr__ using ... generated by reprlib.repr.\n",
    "s"
   ]
  },
  {
   "cell_type": "code",
   "execution_count": null,
   "metadata": {},
   "outputs": [
    {
     "name": "stdout",
     "output_type": "stream",
     "text": [
      "The\n",
      "time\n",
      "has\n",
      "come\n",
      "the\n",
      "Walrus\n",
      "said\n"
     ]
    }
   ],
   "source": [
    "# Sentence instances are iterable; we’ll see why in a moment.\n",
    "for word in s:\n",
    "    print(word)"
   ]
  },
  {
   "cell_type": "code",
   "execution_count": null,
   "metadata": {},
   "outputs": [
    {
     "data": {
      "text/plain": [
       "['The', 'time', 'has', 'come', 'the', 'Walrus', 'said']"
      ]
     },
     "metadata": {},
     "output_type": "display_data"
    }
   ],
   "source": [
    "# Being iterable, Sentence objects can be used as input to build lists and other\n",
    "# iterable types.\n",
    "list(s)"
   ]
  },
  {
   "cell_type": "code",
   "execution_count": null,
   "metadata": {},
   "outputs": [
    {
     "data": {
      "text/plain": [
       "7"
      ]
     },
     "metadata": {},
     "output_type": "display_data"
    }
   ],
   "source": [
    "len(s)"
   ]
  },
  {
   "cell_type": "markdown",
   "metadata": {},
   "source": [
    "In the following pages, we’ll develop other Sentence classes that pass the tests in\n",
    "Example 14-2. However, the implementation in Example 14-1 is different from all the\n",
    "others because it’s also a sequence, so you can get words by index:"
   ]
  },
  {
   "cell_type": "code",
   "execution_count": null,
   "metadata": {},
   "outputs": [
    {
     "data": {
      "text/plain": [
       "'The'"
      ]
     },
     "metadata": {},
     "output_type": "display_data"
    }
   ],
   "source": [
    "s[0]"
   ]
  },
  {
   "cell_type": "code",
   "execution_count": null,
   "metadata": {},
   "outputs": [
    {
     "data": {
      "text/plain": [
       "'The'"
      ]
     },
     "metadata": {},
     "output_type": "display_data"
    }
   ],
   "source": [
    "s[0]"
   ]
  },
  {
   "cell_type": "code",
   "execution_count": null,
   "metadata": {},
   "outputs": [
    {
     "data": {
      "text/plain": [
       "'said'"
      ]
     },
     "metadata": {},
     "output_type": "display_data"
    }
   ],
   "source": [
    "s[-1]"
   ]
  },
  {
   "cell_type": "markdown",
   "metadata": {},
   "source": [
    "Every Python programmer knows that sequences are iterable. Now we’ll see precisely\n",
    "why."
   ]
  },
  {
   "cell_type": "markdown",
   "metadata": {},
   "source": [
    "#### Why Sequences Are Iterable: The iter Function"
   ]
  },
  {
   "cell_type": "markdown",
   "metadata": {},
   "source": [
    "Whenever the interpreter needs to iterate over an object x, it automatically calls iter(x).\n",
    "The iter built-in function:\n",
    "- 1. Checks whether the object implements  `__iter__`, and calls that to obtain an iterator.\n",
    "- 2. If  `__iter__` is not implemented, but  `__getitem__` is implemented, Python creates\n",
    "an iterator that attempts to fetch items in order, starting from index 0 (zero).\n",
    "- 3. If that fails, Python raises TypeError, usually saying “C object is not iterable,” where\n",
    "C is the class of the target object."
   ]
  },
  {
   "cell_type": "markdown",
   "metadata": {},
   "source": [
    "That is why any Python sequence is iterable: they all implement `__getitem__`. In fact,\n",
    "the standard sequences also implement `__iter__`, and yours should too, because the\n",
    "special handling of `__getitem__` exists for backward compatibility reasons and may be\n",
    "gone in the future (although it is not deprecated as I write this)."
   ]
  },
  {
   "cell_type": "markdown",
   "metadata": {},
   "source": [
    "As mentioned in “Python Digs Sequences” on page 310, this is an extreme form of duck\n",
    "typing: an object is considered iterable not only when it implements the special method `__iter__`, but also when it implements `__getitem__`, as long as `__getitem__` accepts\n",
    "int keys starting from 0."
   ]
  },
  {
   "cell_type": "markdown",
   "metadata": {},
   "source": [
    "In the goose-typing approach, the definition for an iterable is simpler but not as flexible:\n",
    "an object is considered iterable if it implements the `__iter__` method. No subclassing\n",
    "or registration is required, because abc.Iterable implements the `__subclasshook__`,\n",
    "as seen in “Geese Can Behave as Ducks” on page 338. Here is a demonstration:"
   ]
  },
  {
   "cell_type": "code",
   "execution_count": null,
   "metadata": {},
   "outputs": [],
   "source": [
    "class Foo:\n",
    "    def __iter__(self):\n",
    "        pass"
   ]
  },
  {
   "cell_type": "code",
   "execution_count": null,
   "metadata": {},
   "outputs": [],
   "source": [
    "from collections import abc"
   ]
  },
  {
   "cell_type": "code",
   "execution_count": null,
   "metadata": {},
   "outputs": [
    {
     "data": {
      "text/plain": [
       "True"
      ]
     },
     "metadata": {},
     "output_type": "display_data"
    }
   ],
   "source": [
    "issubclass(Foo, abc.Iterable)"
   ]
  },
  {
   "cell_type": "code",
   "execution_count": null,
   "metadata": {},
   "outputs": [],
   "source": [
    "f = Foo()"
   ]
  },
  {
   "cell_type": "code",
   "execution_count": null,
   "metadata": {},
   "outputs": [
    {
     "data": {
      "text/plain": [
       "True"
      ]
     },
     "metadata": {},
     "output_type": "display_data"
    }
   ],
   "source": [
    "isinstance(f, abc.Iterable)"
   ]
  },
  {
   "cell_type": "markdown",
   "metadata": {},
   "source": [
    "However, note that our initial Sentence class does not pass the issubclass(Sentence,\n",
    "abc.Iterable) test, even though it is iterable in practice."
   ]
  },
  {
   "cell_type": "markdown",
   "metadata": {},
   "source": [
    "> As of Python 3.4, the most accurate way to check whether an object\n",
    "x is iterable is to call iter(x) and handle a TypeError exception\n",
    "if it isn’t. This is more accurate than using isinstance(x,\n",
    "abc.Iterable), because iter(x) also considers the legacy\n",
    "`__getitem__` method, while the Iterable ABC does not."
   ]
  },
  {
   "cell_type": "markdown",
   "metadata": {},
   "source": [
    "Explicitly checking whether an object is iterable may not be worthwhile if right after the\n",
    "check you are going to iterate over the object. After all, when the iteration is attempted\n",
    "on a noniterable, the exception Python raises is clear enough: TypeError: 'C' object\n",
    "is not iterable . If you can do better than just raising TypeError, then do so in a\n",
    "try/except block instead of doing an explicit check. The explicit check may make sense\n",
    "if you are holding on to the object to iterate over it later; in this case, catching the error\n",
    "early may be useful.\n",
    "The next section makes explicit the relationship between iterables and iterators."
   ]
  },
  {
   "cell_type": "markdown",
   "metadata": {},
   "source": [
    "### Iterables Versus Iterators"
   ]
  },
  {
   "cell_type": "markdown",
   "metadata": {},
   "source": [
    "iterable: Any object from which the iter built-in function can obtain an iterator. Objects\n",
    "implementing an `__iter__`method returning an iterator are iterable. Sequences are always iterable; as are objects implementing a __getitem__ method that takes\n",
    "0-based indexes."
   ]
  },
  {
   "cell_type": "markdown",
   "metadata": {},
   "source": [
    "It’s important to be clear about the relationship between iterables and iterators: Python\n",
    "obtains iterators from iterables.\n",
    "Here is a simple for loop iterating over a str. The str 'ABC' is the iterable here. You\n",
    "don’t see it, but there is an iterator behind the curtain:"
   ]
  },
  {
   "cell_type": "code",
   "execution_count": null,
   "metadata": {},
   "outputs": [
    {
     "name": "stdout",
     "output_type": "stream",
     "text": [
      "A\n",
      "B\n",
      "C\n"
     ]
    }
   ],
   "source": [
    "s = 'ABC'\n",
    "\n",
    "for char in s:\n",
    "    print(char)"
   ]
  },
  {
   "cell_type": "markdown",
   "metadata": {},
   "source": [
    "If there was no for statement and we had to emulate the for machinery by hand with\n",
    "a while loop, this is what we’d have to write:"
   ]
  },
  {
   "cell_type": "code",
   "execution_count": null,
   "metadata": {},
   "outputs": [
    {
     "name": "stdout",
     "output_type": "stream",
     "text": [
      "A\n",
      "B\n",
      "C\n"
     ]
    }
   ],
   "source": [
    "s = 'ABC'\n",
    "it = iter(s) # Build an iterator it from the iterable.\n",
    "\n",
    "while True:\n",
    "    try:\n",
    "        print(next(it)) # Repeatedly call next on the iterator to obtain the next item.\n",
    "    except StopIteration: #The iterator raises StopIteration when there are no further items.\n",
    "        del it # Release reference to it—the iterator object is discarded.\n",
    "        break # Exit the loop."
   ]
  },
  {
   "cell_type": "markdown",
   "metadata": {},
   "source": [
    "StopIteration signals that the iterator is exhausted. This exception is handled internally\n",
    "in for loops and other iteration contexts like list comprehensions, tuple unpacking,\n",
    "etc.\n",
    "\n",
    "The standard interface for an iterator has two methods:"
   ]
  },
  {
   "cell_type": "markdown",
   "metadata": {},
   "source": [
    "- `__next__`: Returns the next available item, raising StopIteration when there are no more\n",
    "items.\n",
    "- `__iter__`: Returns self; this allows iterators to be used where an iterable is expected, for\n",
    "example, in a for loop."
   ]
  },
  {
   "cell_type": "markdown",
   "metadata": {},
   "source": [
    "Back to our Sentence class from Example 14-1, you can clearly see how the iterator is\n",
    "built by iter(…) and consumed by next(…) using the Python console:"
   ]
  },
  {
   "cell_type": "code",
   "execution_count": null,
   "metadata": {},
   "outputs": [],
   "source": [
    "s3 = Sentence('Pig and Pepper')"
   ]
  },
  {
   "cell_type": "code",
   "execution_count": null,
   "metadata": {},
   "outputs": [],
   "source": [
    "it = iter(s3)"
   ]
  },
  {
   "cell_type": "code",
   "execution_count": null,
   "metadata": {},
   "outputs": [
    {
     "data": {
      "text/plain": [
       "<iterator at 0x7f39acbdd3c8>"
      ]
     },
     "metadata": {},
     "output_type": "display_data"
    }
   ],
   "source": [
    "z"
   ]
  },
  {
   "cell_type": "code",
   "execution_count": null,
   "metadata": {},
   "outputs": [
    {
     "data": {
      "text/plain": [
       "'Pig'"
      ]
     },
     "metadata": {},
     "output_type": "display_data"
    }
   ],
   "source": [
    "next(it)"
   ]
  },
  {
   "cell_type": "code",
   "execution_count": null,
   "metadata": {},
   "outputs": [
    {
     "data": {
      "text/plain": [
       "'and'"
      ]
     },
     "metadata": {},
     "output_type": "display_data"
    }
   ],
   "source": [
    "next(it)"
   ]
  },
  {
   "cell_type": "code",
   "execution_count": null,
   "metadata": {},
   "outputs": [
    {
     "data": {
      "text/plain": [
       "'Pepper'"
      ]
     },
     "metadata": {},
     "output_type": "display_data"
    }
   ],
   "source": [
    "next(it)"
   ]
  },
  {
   "cell_type": "code",
   "execution_count": null,
   "metadata": {},
   "outputs": [
    {
     "ename": "StopIteration",
     "evalue": "",
     "output_type": "error",
     "traceback": [
      "\u001b[0;31m---------------------------------------------------------------------------\u001b[0m\n",
      "\u001b[0;31mStopIteration\u001b[0m                             Traceback (most recent call last)\n",
      "\u001b[0;32m<ipython-input-101-bc1ab118995a>\u001b[0m in \u001b[0;36m<module>\u001b[0;34m\u001b[0m\n",
      "\u001b[0;32m----> 1\u001b[0;31m \u001b[0mnext\u001b[0m\u001b[0;34m(\u001b[0m\u001b[0mit\u001b[0m\u001b[0;34m)\u001b[0m\u001b[0;34m\u001b[0m\u001b[0;34m\u001b[0m\u001b[0m\n",
      "\u001b[0m\n",
      "\u001b[0;31mStopIteration\u001b[0m: "
     ]
    }
   ],
   "source": [
    "next(it)"
   ]
  },
  {
   "cell_type": "code",
   "execution_count": null,
   "metadata": {},
   "outputs": [
    {
     "data": {
      "text/plain": [
       "[]"
      ]
     },
     "metadata": {},
     "output_type": "display_data"
    }
   ],
   "source": [
    "list(it)"
   ]
  },
  {
   "cell_type": "code",
   "execution_count": null,
   "metadata": {},
   "outputs": [
    {
     "data": {
      "text/plain": [
       "['Pig', 'and', 'Pepper']"
      ]
     },
     "metadata": {},
     "output_type": "display_data"
    }
   ],
   "source": [
    "list(iter(s3))"
   ]
  },
  {
   "cell_type": "markdown",
   "metadata": {},
   "source": [
    "Because the only methods required of an iterator are `__next__` and `__iter__`, there is\n",
    "no way to check whether there are remaining items, other than to call next() and catch\n",
    "StopInteration. Also, it’s not possible to “reset” an iterator. If you need to start over,\n",
    "you need to call iter(…) on the iterable that built the iterator in the first place. Calling\n",
    "iter(…) on the iterator itself won’t help, because—as mentioned—Iterator.`__iter__` is implemented by returning self, so this will not reset a depleted iterator.\n",
    "To wrap up this section, here is a definition for iterator:"
   ]
  },
  {
   "cell_type": "markdown",
   "metadata": {},
   "source": [
    "iterator: Any object that implements the `__next__` no-argument method that returns the\n",
    "next item in a series or raises StopIteration when there are no more items. Python\n",
    "iterators also implement the `__iter__` method so they are iterable as well."
   ]
  },
  {
   "cell_type": "markdown",
   "metadata": {},
   "source": [
    "This first version of Sentence was iterable thanks to the special treatment the iter(…)\n",
    "built-in gives to sequences. Now we’ll implement the standard iterable protocol."
   ]
  },
  {
   "cell_type": "markdown",
   "metadata": {},
   "source": [
    "### Sentence Take #2: A Classic Iterator"
   ]
  },
  {
   "cell_type": "markdown",
   "metadata": {},
   "source": [
    "The next Sentence class is built according to the classic Iterator design pattern following\n",
    "the blueprint in the GoF book. Note that this is not idiomatic Python, as the next refactorings\n",
    "will make very clear. But it serves to make explicit the relationship between\n",
    "the iterable collection and the iterator object.\n",
    "\n",
    "Example 14-4 shows an implementation of a Sentence that is iterable because it implements\n",
    "the `__iter__` special method, which builds and returns a SentenceIterator.\n",
    "This is how the Iterator design pattern is described in the original Design Patterns book.\n",
    "\n",
    "We are doing it this way here just to make clear the crucial distinction between an iterable\n",
    "and an iterator and how they are connected."
   ]
  },
  {
   "cell_type": "code",
   "execution_count": null,
   "metadata": {},
   "outputs": [],
   "source": [
    "import re\n",
    "import reprlib\n",
    "RE_WORD = re.compile('\\w+')\n",
    "\n",
    "class Sentence:\n",
    "    def __init__(self, text):\n",
    "        self.text = text\n",
    "        self.words = RE_WORD.findall(text)\n",
    "    def __repr__(self):\n",
    "        return 'Sentence(%s)' % reprlib.repr(self.text)\n",
    "    def __iter__(self):\n",
    "        return SentenceIterator(self.words)\n",
    "    \n",
    "class SentenceIterator:\n",
    "    def __init__(self, words):\n",
    "        self.words = words\n",
    "        self.index = 0\n",
    "    def __next__(self):\n",
    "        try:\n",
    "            word = self.words[self.index]\n",
    "        except IndexError:\n",
    "            raise StopIteration()\n",
    "        self.index += 1\n",
    "        return word\n",
    "    def __iter__(self):\n",
    "        return self"
   ]
  },
  {
   "cell_type": "markdown",
   "metadata": {},
   "source": [
    "- The `__iter__` method is the only addition to the previous Sentence implementation. This version has no `__getitem__`, to make it clear that the class is iterable because it implements `__iter__`.\n",
    "- `__iter__` fulfills the iterable protocol by instantiating and returning an iterator.\n",
    "- SentenceIterator holds a reference to the list of words.\n",
    "- self.index is used to determine the next word to fetch.\n",
    "- Get the word at self.index.\n",
    "- If there is no word at self.index, raise StopIteration.\n",
    "- Increment self.index.\n",
    "- Return the word.\n",
    "- Implement `self.__iter__`."
   ]
  },
  {
   "cell_type": "markdown",
   "metadata": {},
   "source": [
    "Note that implementing `__iter__` in SentenceIterator is not actually needed for this\n",
    "example to work, but the it’s the right thing to do: iterators are supposed to implement\n",
    "both `__next__` and `__iter__`, and doing so makes our iterator pass the issubclass(Sen\n",
    "tenceInterator, abc.Iterator) test. If we had subclassed SentenceIterator from\n",
    "abc.Iterator, we’d inherit the concrete `abc.Iterator.__iter__` method."
   ]
  },
  {
   "cell_type": "markdown",
   "metadata": {},
   "source": [
    "A common cause of errors in building iterables and iterators is to confuse the two. To\n",
    "be clear: iterables have an `__iter__` method that instantiates a new iterator every time.\n",
    "Iterators implement a `__next__` method that returns individual items, and an `__iter__`\n",
    "method that returns self.\n",
    "\n",
    "Therefore, iterators are also iterable, but iterables are not iterators."
   ]
  },
  {
   "cell_type": "markdown",
   "metadata": {},
   "source": [
    "> An iterable should never act as an iterator over itself. In other\n",
    "words, iterables must implement `__iter__`, but not `__next__`.\n",
    "On the other hand, for convenience, iterators should be iterable.\n",
    "An iterator’s `__iter__` should just return self."
   ]
  }
 ],
 "metadata": {
  "language_info": {
   "name": "python"
  }
 },
 "nbformat": 4,
 "nbformat_minor": 2
}
