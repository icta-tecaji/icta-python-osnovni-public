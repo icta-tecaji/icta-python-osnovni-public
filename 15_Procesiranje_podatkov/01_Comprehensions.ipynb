{
 "cells": [
  {
   "cell_type": "markdown",
   "metadata": {},
   "source": [
    "# Comprehensions"
   ]
  },
  {
   "cell_type": "markdown",
   "metadata": {},
   "source": [
    "## List Comprehension"
   ]
  },
  {
   "cell_type": "markdown",
   "metadata": {},
   "source": [
    "Python is famous for allowing you to write code that’s elegant, easy to write, and almost as easy to read as plain English. One of the language’s most distinctive features is the list comprehension, which you can use to create powerful functionality within a single line of code. However, many developers struggle to fully leverage the more advanced features of a list comprehension in Python. Some programmers even use them too much, which can lead to code that’s less efficient and harder to read.\n",
    "\n",
    "By the end of this tutorial, you’ll understand the full power of Python list comprehensions and how to use their features comfortably. You’ll also gain an understanding of the trade-offs that come with using them so that you can determine when other approaches are more preferable."
   ]
  },
  {
   "cell_type": "markdown",
   "metadata": {},
   "source": [
    "### How to Create Lists in Python"
   ]
  },
  {
   "cell_type": "markdown",
   "metadata": {},
   "source": [
    "There are a few different ways you can create lists in Python. To better understand the trade-offs of using a list comprehension in Python, let’s first see how to create lists with these approaches."
   ]
  },
  {
   "cell_type": "markdown",
   "metadata": {},
   "source": [
    "#### Using for Loops"
   ]
  },
  {
   "cell_type": "markdown",
   "metadata": {},
   "source": [
    "The most common type of loop is the for loop. You can use a for loop to create a list of elements in three steps:\n",
    "- Instantiate an empty list.\n",
    "- Loop over an iterable or range of elements.\n",
    "- Append each element to the end of the list."
   ]
  },
  {
   "cell_type": "markdown",
   "metadata": {},
   "source": [
    "If you want to create a list containing the first ten perfect squares, then you can complete these steps in three lines of code:"
   ]
  },
  {
   "cell_type": "code",
   "execution_count": 1,
   "metadata": {},
   "outputs": [
    {
     "name": "stdout",
     "output_type": "stream",
     "text": [
      "[0, 1, 4, 9, 16, 25, 36, 49, 64, 81]\n"
     ]
    }
   ],
   "source": [
    "squares = []\n",
    "for i in range(10):\n",
    "    squares.append(i * i)\n",
    "\n",
    "print(squares)"
   ]
  },
  {
   "cell_type": "markdown",
   "metadata": {},
   "source": [
    "Here, you instantiate an empty list, squares. Then, you use a for loop to iterate over range(10). Finally, you multiply each number by itself and append the result to the end of the list."
   ]
  },
  {
   "cell_type": "markdown",
   "metadata": {},
   "source": [
    "#### Using map() Objects"
   ]
  },
  {
   "cell_type": "markdown",
   "metadata": {},
   "source": [
    "map() provides an alternative approach that’s based in functional programming. You pass in a function and an iterable, and map() will create an object. This object contains the output you would get from running each iterable element through the supplied function.\n",
    "\n",
    "As an example, consider a situation in which you need to calculate the price after tax for a list of transactions:"
   ]
  },
  {
   "cell_type": "code",
   "execution_count": 2,
   "metadata": {},
   "outputs": [],
   "source": [
    "txns = [1.09, 23.56, 57.84, 4.56, 6.78]\n",
    "TAX_RATE = 0.08\n",
    "\n",
    "def get_price_with_tax(txn):\n",
    "    return txn * (1 + TAX_RATE)"
   ]
  },
  {
   "cell_type": "code",
   "execution_count": 3,
   "metadata": {},
   "outputs": [],
   "source": [
    "final_prices = map(get_price_with_tax, txns)"
   ]
  },
  {
   "cell_type": "code",
   "execution_count": 4,
   "metadata": {},
   "outputs": [],
   "source": [
    "final_prices = list(final_prices)"
   ]
  },
  {
   "cell_type": "code",
   "execution_count": 5,
   "metadata": {},
   "outputs": [
    {
     "data": {
      "text/plain": [
       "[1.1772000000000002, 25.4448, 62.467200000000005, 4.9248, 7.322400000000001]"
      ]
     },
     "execution_count": 5,
     "metadata": {},
     "output_type": "execute_result"
    }
   ],
   "source": [
    "final_prices"
   ]
  },
  {
   "cell_type": "markdown",
   "metadata": {},
   "source": [
    "Here, you have an iterable txns and a function get_price_with_tax(). You pass both of these arguments to map(), and store the resulting object in final_prices. You can easily convert this map object into a list using list()."
   ]
  },
  {
   "cell_type": "markdown",
   "metadata": {},
   "source": [
    "Zaokrožimo vrednosti na dve decimalke:"
   ]
  },
  {
   "cell_type": "code",
   "execution_count": 6,
   "metadata": {},
   "outputs": [
    {
     "name": "stdout",
     "output_type": "stream",
     "text": [
      "[1.18, 25.44, 62.47, 4.92, 7.32]\n"
     ]
    }
   ],
   "source": [
    "rounded = []\n",
    "for price in final_prices:\n",
    "    rounded.append(round(price, 2))\n",
    "\n",
    "print(rounded)"
   ]
  },
  {
   "cell_type": "markdown",
   "metadata": {},
   "source": [
    "> Note: The behavior of round() for floats can be surprising: for example, round(2.675, 2) gives 2.67 instead of the expected 2.68. This is not a bug: it’s a result of the fact that most decimal fractions can’t be represented exactly as a float. See Floating Point Arithmetic: Issues and Limitations for more information.\n",
    "- [Floating Point Arithmetic: Issues and Limitations](https://docs.python.org/3.8/tutorial/floatingpoint.html#tut-fp-issues)\n",
    "- [Decimal fixed point and floating point arithmetic](https://docs.python.org/3.8/library/decimal.html)"
   ]
  },
  {
   "cell_type": "markdown",
   "metadata": {},
   "source": [
    "#### Using List Comprehensions"
   ]
  },
  {
   "cell_type": "markdown",
   "metadata": {},
   "source": [
    "List comprehensions are a third way of making lists. With this elegant approach, you could rewrite the for loop from the first example in just a single line of code:"
   ]
  },
  {
   "cell_type": "markdown",
   "metadata": {},
   "source": [
    "    squares = []\n",
    "    for i in range(10):\n",
    "        squares.append(i * i)\n",
    "\n",
    "    print(squares)"
   ]
  },
  {
   "cell_type": "code",
   "execution_count": 7,
   "metadata": {},
   "outputs": [],
   "source": [
    "squares = [i * i for i in range(10)]"
   ]
  },
  {
   "cell_type": "code",
   "execution_count": 8,
   "metadata": {},
   "outputs": [
    {
     "data": {
      "text/plain": [
       "[0, 1, 4, 9, 16, 25, 36, 49, 64, 81]"
      ]
     },
     "execution_count": 8,
     "metadata": {},
     "output_type": "execute_result"
    }
   ],
   "source": [
    "squares"
   ]
  },
  {
   "cell_type": "markdown",
   "metadata": {},
   "source": [
    "Rather than creating an empty list and adding each element to the end, you simply define the list and its contents at the same time by following this format:"
   ]
  },
  {
   "cell_type": "markdown",
   "metadata": {},
   "source": [
    "    new_list = [expression for member in iterable]"
   ]
  },
  {
   "cell_type": "markdown",
   "metadata": {},
   "source": [
    "Every list comprehension in Python includes three elements:\n",
    "- expression is the member itself, a call to a method, or any other valid expression that returns a value. In the example above, the expression i * i is the square of the member value.\n",
    "- member is the object or value in the list or iterable. In the example above, the member value is i.\n",
    "- iterable is a list, set, sequence, generator, or any other object that can return its elements one at a time. In the example above, the iterable is range(10)."
   ]
  },
  {
   "cell_type": "markdown",
   "metadata": {},
   "source": [
    "Because the expression requirement is so flexible, a list comprehension in Python works well in many places where you would use map(). You can rewrite the pricing example with its own list comprehension:"
   ]
  },
  {
   "cell_type": "code",
   "execution_count": 9,
   "metadata": {},
   "outputs": [],
   "source": [
    "txns = [1.09, 23.56, 57.84, 4.56, 6.78]\n",
    "TAX_RATE = .08\n",
    "def get_price_with_tax(txn):\n",
    "    return txn * (1 + TAX_RATE)\n",
    "    #return round(txn * (1 + TAX_RATE),2)"
   ]
  },
  {
   "cell_type": "code",
   "execution_count": 10,
   "metadata": {},
   "outputs": [
    {
     "name": "stdout",
     "output_type": "stream",
     "text": [
      "[1.18, 25.44, 62.47, 4.92, 7.32]\n"
     ]
    }
   ],
   "source": [
    "final_prices = [round(get_price_with_tax(i), 2) for i in txns] \n",
    "print(final_prices)"
   ]
  },
  {
   "cell_type": "markdown",
   "metadata": {},
   "source": [
    "The only distinction between this implementation and map() is that the list comprehension in Python returns a list, not a map object."
   ]
  },
  {
   "cell_type": "markdown",
   "metadata": {},
   "source": [
    "### Benefits of Using List Comprehensions"
   ]
  },
  {
   "cell_type": "markdown",
   "metadata": {},
   "source": [
    "List comprehensions are often described as being more Pythonic than loops or map(). But rather than blindly accepting that assessment, it’s worth it to understand the benefits of using a list comprehension in Python when compared to the alternatives. Later on, you’ll learn about a few scenarios where the alternatives are a better choice.\n",
    "\n",
    "One main benefit of using a list comprehension in Python is that it’s a single tool that you can use in many different situations. In addition to standard list creation, list comprehensions can also be used for mapping and filtering. You don’t have to use a different approach for each scenario.\n",
    "\n",
    "This is the main reason why list comprehensions are considered Pythonic, as Python embraces simple, powerful tools that you can use in a wide variety of situations. As an added side benefit, whenever you use a list comprehension in Python, you won’t need to remember the proper order of arguments like you would when you call map().\n",
    "\n",
    "List comprehensions are also more declarative than loops, which means they’re easier to read and understand. Loops require you to focus on how the list is created. You have to manually create an empty list, loop over the elements, and add each of them to the end of the list. With a list comprehension in Python, you can instead focus on what you want to go in the list and trust that Python will take care of how the list construction takes place."
   ]
  },
  {
   "cell_type": "markdown",
   "metadata": {},
   "source": [
    "### How to Supercharge Your Comprehensions"
   ]
  },
  {
   "cell_type": "markdown",
   "metadata": {},
   "source": [
    "In order to understand the full value that list comprehensions can provide, it’s helpful to understand their range of possible functionality. You’ll also want to understand the changes that are coming to the list comprehension in Python 3.8."
   ]
  },
  {
   "cell_type": "markdown",
   "metadata": {},
   "source": [
    "#### Using Conditional Logic"
   ]
  },
  {
   "cell_type": "markdown",
   "metadata": {},
   "source": [
    "Earlier, you saw this formula for how to create list comprehensions:"
   ]
  },
  {
   "cell_type": "markdown",
   "metadata": {},
   "source": [
    "    new_list = [expression for member in iterable]"
   ]
  },
  {
   "cell_type": "markdown",
   "metadata": {},
   "source": [
    "While this formula is accurate, it’s also a bit incomplete. A more complete description of the comprehension formula adds support for optional conditionals. The most common way to add conditional logic to a list comprehension is to add a conditional to the end of the expression:"
   ]
  },
  {
   "cell_type": "markdown",
   "metadata": {},
   "source": [
    "    new_list = [expression for member in iterable (if conditional)]"
   ]
  },
  {
   "cell_type": "markdown",
   "metadata": {},
   "source": [
    "Here, your conditional statement comes just before the closing bracket.\n",
    "\n",
    "Conditionals are important because they allow list comprehensions to filter out unwanted values, which would normally require a call to filter():"
   ]
  },
  {
   "cell_type": "code",
   "execution_count": 11,
   "metadata": {},
   "outputs": [
    {
     "name": "stdout",
     "output_type": "stream",
     "text": [
      "['e', 'o', 'e', 'a', 'e', 'a', 'o', 'a']\n"
     ]
    }
   ],
   "source": [
    "sentence = 'the rocket came back from mars'\n",
    "\n",
    "vowels = [i for i in sentence if i in 'aeiou']\n",
    "\n",
    "print(vowels)"
   ]
  },
  {
   "cell_type": "markdown",
   "metadata": {},
   "source": [
    "In this code block, the conditional statement filters out any characters in sentence that aren’t a vowel.\n",
    "\n",
    "The conditional can test any valid expression. If you need a more complex filter, then you can even move the conditional logic to a separate function:"
   ]
  },
  {
   "cell_type": "code",
   "execution_count": 12,
   "metadata": {},
   "outputs": [],
   "source": [
    "sentence = 'The rocket, who was named Ted, came back \\\n",
    "from Mars because he missed his friends.'"
   ]
  },
  {
   "cell_type": "code",
   "execution_count": 13,
   "metadata": {},
   "outputs": [],
   "source": [
    "def is_consonant(letter):\n",
    "    vowels = 'aeiou'\n",
    "    return letter.isalpha() and letter.lower() not in vowels"
   ]
  },
  {
   "cell_type": "code",
   "execution_count": 14,
   "metadata": {},
   "outputs": [],
   "source": [
    "consonants = [i.lower() for i in sentence if is_consonant(i)]"
   ]
  },
  {
   "cell_type": "code",
   "execution_count": 15,
   "metadata": {},
   "outputs": [
    {
     "name": "stdout",
     "output_type": "stream",
     "text": [
      "['t', 'h', 'r', 'c', 'k', 't', 'w', 'h', 'w', 's', 'n', 'm', 'd', 't', 'd', 'c', 'm', 'b', 'c', 'k', 'f', 'r', 'm', 'm', 'r', 's', 'b', 'c', 's', 'h', 'm', 's', 's', 'd', 'h', 's', 'f', 'r', 'n', 'd', 's']\n"
     ]
    }
   ],
   "source": [
    "print(consonants)"
   ]
  },
  {
   "cell_type": "markdown",
   "metadata": {},
   "source": [
    "You can place the conditional at the end of the statement for simple filtering, but what if you want to change a member value instead of filtering it out? In this case, it’s useful to place the conditional near the beginning of the expression:"
   ]
  },
  {
   "cell_type": "markdown",
   "metadata": {},
   "source": [
    "    new_list = [expression (if conditional) for member in iterable]"
   ]
  },
  {
   "cell_type": "markdown",
   "metadata": {},
   "source": [
    "With this formula, you can use conditional logic to select from multiple possible output options. For example, if you have a list of prices, then you may want to replace negative prices with 0 and leave the positive values unchanged:"
   ]
  },
  {
   "cell_type": "code",
   "execution_count": 16,
   "metadata": {},
   "outputs": [
    {
     "name": "stdout",
     "output_type": "stream",
     "text": [
      "[1.25, 0, 10.22, 3.78, 0, 1.16]\n"
     ]
    }
   ],
   "source": [
    "original_prices = [1.25, -9.45, 10.22, 3.78, -5.92, 1.16]\n",
    "prices = [i if i > 0 else 0 for i in original_prices]\n",
    "print(prices)"
   ]
  },
  {
   "cell_type": "markdown",
   "metadata": {},
   "source": [
    "Here, your expression i contains a conditional statement, if i > 0 else 0. This tells Python to output the value of i if the number is positive, but to change i to 0 if the number is negative. If this seems overwhelming, then it may be helpful to view the conditional logic as its own function:"
   ]
  },
  {
   "cell_type": "code",
   "execution_count": 17,
   "metadata": {},
   "outputs": [],
   "source": [
    "def get_price(price): \n",
    "    return price if price > 0 else 0\n",
    "\n",
    "prices = [get_price(i) for i in original_prices]"
   ]
  },
  {
   "cell_type": "code",
   "execution_count": 18,
   "metadata": {},
   "outputs": [
    {
     "name": "stdout",
     "output_type": "stream",
     "text": [
      "[1.25, 0, 10.22, 3.78, 0, 1.16]\n"
     ]
    }
   ],
   "source": [
    "print(prices)"
   ]
  },
  {
   "cell_type": "markdown",
   "metadata": {},
   "source": [
    "Now, your conditional statement is contained within get_price(), and you can use it as part of your list comprehension expression."
   ]
  },
  {
   "cell_type": "markdown",
   "metadata": {},
   "source": [
    "#### Using Set and Dictionary Comprehensions"
   ]
  },
  {
   "cell_type": "markdown",
   "metadata": {},
   "source": [
    "While the list comprehension in Python is a common tool, you can also create set and dictionary comprehensions. A set comprehension is almost exactly the same as a list comprehension in Python. The difference is that set comprehensions make sure the output contains no duplicates. You can create a set comprehension by using curly braces instead of brackets:"
   ]
  },
  {
   "cell_type": "code",
   "execution_count": 19,
   "metadata": {},
   "outputs": [
    {
     "name": "stdout",
     "output_type": "stream",
     "text": [
      "{'i', 'a', 'e', 'u'}\n"
     ]
    }
   ],
   "source": [
    "quote = \"life, uh, finds a way\"\n",
    "unique_vowels = {i for i in quote if i in 'aeiou'}\n",
    "\n",
    "print(unique_vowels)"
   ]
  },
  {
   "cell_type": "markdown",
   "metadata": {},
   "source": [
    "Your set comprehension outputs all the unique vowels it found in quote. Unlike lists, sets don’t guarantee that items will be saved in any particular order. This is why the first member of the set is a, even though the first vowel in quote is i."
   ]
  },
  {
   "cell_type": "markdown",
   "metadata": {},
   "source": [
    "Dictionary comprehensions are similar, with the additional requirement of defining a key:\n",
    "\n"
   ]
  },
  {
   "cell_type": "code",
   "execution_count": 20,
   "metadata": {},
   "outputs": [
    {
     "name": "stdout",
     "output_type": "stream",
     "text": [
      "{0: 0, 1: 1, 2: 4, 3: 9, 4: 16, 5: 25, 6: 36, 7: 49, 8: 64, 9: 81}\n"
     ]
    }
   ],
   "source": [
    "squares = {i: i * i for i in range(10)}\n",
    "print(squares)"
   ]
  },
  {
   "cell_type": "markdown",
   "metadata": {},
   "source": [
    "To create the squares dictionary, you use curly braces ({}) as well as a key-value pair (i: i * i) in your expression."
   ]
  },
  {
   "cell_type": "markdown",
   "metadata": {},
   "source": [
    "### When Not to Use a List Comprehension in Python"
   ]
  },
  {
   "cell_type": "markdown",
   "metadata": {},
   "source": [
    "List comprehensions are useful and can help you write elegant code that’s easy to read and debug, but they’re not the right choice for all circumstances. They might make your code run more slowly or use more memory. If your code is less performant or harder to understand, then it’s probably better to choose an alternative."
   ]
  },
  {
   "cell_type": "markdown",
   "metadata": {},
   "source": [
    "#### Watch Out for Nested Comprehensions"
   ]
  },
  {
   "cell_type": "markdown",
   "metadata": {},
   "source": [
    "Comprehensions can be nested to create combinations of lists, dictionaries, and sets within a collection. For example, say a climate laboratory is tracking the high temperature in five different cities for the first week of June. The perfect data structure for storing this data could be a Python list comprehension nested within a dictionary comprehension:"
   ]
  },
  {
   "cell_type": "code",
   "execution_count": 21,
   "metadata": {},
   "outputs": [],
   "source": [
    "cities = ['Austin', 'Tacoma', 'Topeka', 'Sacramento', 'Charlotte']"
   ]
  },
  {
   "cell_type": "code",
   "execution_count": 22,
   "metadata": {},
   "outputs": [],
   "source": [
    "temps = {city: [0 for _ in range(7)] for city in cities}"
   ]
  },
  {
   "cell_type": "code",
   "execution_count": 23,
   "metadata": {},
   "outputs": [
    {
     "data": {
      "text/plain": [
       "{'Austin': [0, 0, 0, 0, 0, 0, 0],\n",
       " 'Tacoma': [0, 0, 0, 0, 0, 0, 0],\n",
       " 'Topeka': [0, 0, 0, 0, 0, 0, 0],\n",
       " 'Sacramento': [0, 0, 0, 0, 0, 0, 0],\n",
       " 'Charlotte': [0, 0, 0, 0, 0, 0, 0]}"
      ]
     },
     "execution_count": 23,
     "metadata": {},
     "output_type": "execute_result"
    }
   ],
   "source": [
    "temps"
   ]
  },
  {
   "cell_type": "markdown",
   "metadata": {},
   "source": [
    "You create the outer collection temps with a dictionary comprehension. The expression is a key-value pair, which contains yet another comprehension. This code will quickly generate a list of data for each city in cities."
   ]
  },
  {
   "cell_type": "markdown",
   "metadata": {},
   "source": [
    "Nested lists are a common way to create matrices, which are often used for mathematical purposes. Take a look at the code block below:"
   ]
  },
  {
   "cell_type": "code",
   "execution_count": 24,
   "metadata": {},
   "outputs": [],
   "source": [
    "matrix = [[i for i in range(5)] for _ in range(6)]"
   ]
  },
  {
   "cell_type": "code",
   "execution_count": 25,
   "metadata": {},
   "outputs": [
    {
     "data": {
      "text/plain": [
       "[[0, 1, 2, 3, 4],\n",
       " [0, 1, 2, 3, 4],\n",
       " [0, 1, 2, 3, 4],\n",
       " [0, 1, 2, 3, 4],\n",
       " [0, 1, 2, 3, 4],\n",
       " [0, 1, 2, 3, 4]]"
      ]
     },
     "execution_count": 25,
     "metadata": {},
     "output_type": "execute_result"
    }
   ],
   "source": [
    "matrix"
   ]
  },
  {
   "cell_type": "markdown",
   "metadata": {},
   "source": [
    "The outer list comprehension [... for _ in range(6)] creates six rows, while the inner list comprehension [i for i in range(5)] fills each of these rows with values.\n",
    "\n",
    "So far, the purpose of each nested comprehension is pretty intuitive. However, there are other situations, such as flattening nested lists, where the logic arguably makes your code more confusing. Take this example, which uses a nested list comprehension to flatten a matrix:"
   ]
  },
  {
   "cell_type": "code",
   "execution_count": 26,
   "metadata": {},
   "outputs": [],
   "source": [
    "matrix = [\n",
    "[0, 0, 0],\n",
    "[1, 1, 1],\n",
    "[2, 2, 2],]"
   ]
  },
  {
   "cell_type": "code",
   "execution_count": 27,
   "metadata": {},
   "outputs": [],
   "source": [
    "flat = [num for row in matrix for num in row]"
   ]
  },
  {
   "cell_type": "code",
   "execution_count": 28,
   "metadata": {},
   "outputs": [
    {
     "data": {
      "text/plain": [
       "[0, 0, 0, 1, 1, 1, 2, 2, 2]"
      ]
     },
     "execution_count": 28,
     "metadata": {},
     "output_type": "execute_result"
    }
   ],
   "source": [
    "flat"
   ]
  },
  {
   "cell_type": "markdown",
   "metadata": {},
   "source": [
    "The code to flatten the matrix is concise, but it may not be so intuitive to understand how it works. On the other hand, if you were to use for loops to flatten the same matrix, then your code will be much more straightforward:"
   ]
  },
  {
   "cell_type": "code",
   "execution_count": 29,
   "metadata": {},
   "outputs": [
    {
     "data": {
      "text/plain": [
       "[0, 0, 0, 1, 1, 1, 2, 2, 2]"
      ]
     },
     "execution_count": 29,
     "metadata": {},
     "output_type": "execute_result"
    }
   ],
   "source": [
    "matrix = [\n",
    "    [0, 0, 0],\n",
    "    [1, 1, 1],\n",
    "    [2, 2, 2],\n",
    "]\n",
    "flat = []\n",
    "for row in matrix:\n",
    "    for num in row:\n",
    "        flat.append(num)\n",
    "\n",
    "flat"
   ]
  },
  {
   "cell_type": "markdown",
   "metadata": {},
   "source": [
    "Now you can see that the code traverses one row of the matrix at a time, pulling out all the elements in that row before moving on to the next one.\n",
    "\n",
    "While the single-line nested list comprehension might seem more Pythonic, what’s most important is to write code that your team can easily understand and modify. When you choose your approach, you’ll have to make a judgment call based on whether you think the comprehension helps or hurts readability."
   ]
  },
  {
   "cell_type": "markdown",
   "metadata": {},
   "source": [
    "#### Profile to Optimize Performance"
   ]
  },
  {
   "cell_type": "markdown",
   "metadata": {},
   "source": [
    "So, which approach is faster? Should you use list comprehensions or one of their alternatives? Rather than adhere to a single rule that’s true in all cases, it’s more useful to ask yourself whether or not performance matters in your specific circumstance. If not, then it’s usually best to choose whatever approach leads to the cleanest code!"
   ]
  },
  {
   "cell_type": "markdown",
   "metadata": {},
   "source": [
    "If you’re in a scenario where performance is important, then it’s typically best to profile different approaches and listen to the data. timeit is a useful library for timing how long it takes chunks of code to run. You can use timeit to compare the runtime of map(), for loops, and list comprehensions:"
   ]
  },
  {
   "cell_type": "code",
   "execution_count": 30,
   "metadata": {},
   "outputs": [],
   "source": [
    "import random\n",
    "import timeit\n",
    "TAX_RATE = .08\n",
    "txns = [random.randrange(100) for _ in range(100000)]\n",
    "def get_price(txn):\n",
    "    return txn * (1 + TAX_RATE)"
   ]
  },
  {
   "cell_type": "code",
   "execution_count": 31,
   "metadata": {},
   "outputs": [],
   "source": [
    "def get_prices_with_map():\n",
    "    return list(map(get_price, txns))\n",
    "\n",
    "def get_prices_with_comprehension():\n",
    "    return [get_price(txn) for txn in txns]\n",
    "\n",
    "def get_prices_with_loop():\n",
    "    prices = []\n",
    "    for txn in txns:\n",
    "        prices.append(get_price(txn))\n",
    "    return prices"
   ]
  },
  {
   "cell_type": "code",
   "execution_count": 32,
   "metadata": {},
   "outputs": [
    {
     "data": {
      "text/plain": [
       "1.6914971999940462"
      ]
     },
     "execution_count": 32,
     "metadata": {},
     "output_type": "execute_result"
    }
   ],
   "source": [
    "timeit.timeit(get_prices_with_map, number=100)"
   ]
  },
  {
   "cell_type": "code",
   "execution_count": 33,
   "metadata": {},
   "outputs": [
    {
     "data": {
      "text/plain": [
       "2.2438498999981675"
      ]
     },
     "execution_count": 33,
     "metadata": {},
     "output_type": "execute_result"
    }
   ],
   "source": [
    "timeit.timeit(get_prices_with_comprehension, number=100)"
   ]
  },
  {
   "cell_type": "code",
   "execution_count": 34,
   "metadata": {},
   "outputs": [
    {
     "data": {
      "text/plain": [
       "2.796779600001173"
      ]
     },
     "execution_count": 34,
     "metadata": {},
     "output_type": "execute_result"
    }
   ],
   "source": [
    "timeit.timeit(get_prices_with_loop, number=100)"
   ]
  },
  {
   "cell_type": "markdown",
   "metadata": {},
   "source": [
    "Here, you define three methods that each use a different approach for creating a list. Then, you tell timeit to run each of those functions 100 times each. timeit returns the total time it took to run those 100 executions.\n",
    "\n",
    "As the code demonstrates, the biggest difference is between the loop-based approach and map(), with the loop taking 50% longer to execute. Whether or not this matters depends on the needs of your application."
   ]
  },
  {
   "cell_type": "markdown",
   "metadata": {},
   "source": [
    "Whenever you have to choose a list creation method, try multiple implementations and consider what’s easiest to read and understand in your specific scenario. If performance is important, then you can use profiling tools to give you actionable data instead of relying on hunches or guesses about what works the best."
   ]
  },
  {
   "cell_type": "markdown",
   "metadata": {},
   "source": [
    "## The Map Function"
   ]
  },
  {
   "cell_type": "markdown",
   "metadata": {},
   "source": [
    "While the ability to pass in functions as arguments is not unique to Python, it is a recent development in programming languages. Functions that allow for this type of behavior are called first-class functions. Any language that contains first-class functions can be written in a functional style."
   ]
  },
  {
   "cell_type": "markdown",
   "metadata": {},
   "source": [
    "There are a set of important first-class functions that are commonly used within the functional paradigm. These functions take in a Python iterable, and, like sorted, apply a function for each element in the list. Over the next few screens, we will examine each of these functions, but they all follow the general form of `function_name(function_to_apply, iterable_of_elements)`."
   ]
  },
  {
   "cell_type": "markdown",
   "metadata": {},
   "source": [
    "The first function we'll work with is the map() function. The map() function takes in an iterable (ie. list), and creates a new iterable object, a special map object. The new object has the first-class function applied to every element."
   ]
  },
  {
   "cell_type": "markdown",
   "metadata": {},
   "source": [
    "    # Pseudocode for map.\n",
    "    def map(func, seq):\n",
    "        # Return `Map` object with\n",
    "        # the function applied to every\n",
    "        # element.\n",
    "        return Map(\n",
    "            func(x)\n",
    "            for x in seq\n",
    "        )"
   ]
  },
  {
   "cell_type": "markdown",
   "metadata": {},
   "source": [
    "Here's how we could use map() to add 10 or 20 to every element in a list:"
   ]
  },
  {
   "cell_type": "code",
   "execution_count": 45,
   "metadata": {},
   "outputs": [
    {
     "name": "stdout",
     "output_type": "stream",
     "text": [
      "[11, 12, 13, 14, 15]\n"
     ]
    }
   ],
   "source": [
    "values = [1, 2, 3, 4, 5]\n",
    "\n",
    "# Note: We convert the returned map object to\n",
    "# a list data structure.\n",
    "add_10 = list(map(lambda x: x + 10, values))\n",
    "add_20 = list(map(lambda x: x + 20, values))\n",
    "\n",
    "print(add_10)"
   ]
  },
  {
   "cell_type": "code",
   "execution_count": 46,
   "metadata": {},
   "outputs": [
    {
     "name": "stdout",
     "output_type": "stream",
     "text": [
      "[21, 22, 23, 24, 25]\n"
     ]
    }
   ],
   "source": [
    "print(add_20)"
   ]
  },
  {
   "cell_type": "markdown",
   "metadata": {},
   "source": [
    "Note that it's important to cast the return value from map() as a list object. Using the returned map object is difficult to work with if you're expecting it to function like a list. First, printing it does not show each of its items, and secondly, you can only iterate over it once."
   ]
  },
  {
   "cell_type": "markdown",
   "metadata": {},
   "source": [
    "### Vaja"
   ]
  },
  {
   "cell_type": "markdown",
   "metadata": {},
   "source": [
    "- Map each line in the lines variable to its corresponding IP address:\n",
    "    - Split the line on empty spaces ' '.\n",
    "    - Return the first element on the split line.\n",
    "- Cast the mapped object to a list, and assign it to the ip_addresses variable.\n",
    "- Print first 10 ips from ip_addresses variable"
   ]
  },
  {
   "cell_type": "code",
   "execution_count": 47,
   "metadata": {},
   "outputs": [
    {
     "name": "stdout",
     "output_type": "stream",
     "text": [
      "['200.155.108.44', '36.139.255.202', '50.112.115.219', '10.0.25.26', '233.154.7.24', '241.220.141.78', '191.198.138.97', '172.40.187.145', '225.119.46.80', '97.218.117.229']\n"
     ]
    }
   ],
   "source": [
    "with open('data/example_log.txt') as file:\n",
    "    lines = file.readlines()\n",
    "    ip_addresses = list(map(lambda x: x.split()[0], lines))\n",
    "    print(ip_addresses[:10])"
   ]
  },
  {
   "cell_type": "markdown",
   "metadata": {},
   "source": [
    "### Alternatives to map"
   ]
  },
  {
   "cell_type": "markdown",
   "metadata": {},
   "source": [
    "The built-in function map() takes a function as a first argument and applies it to each of the elements of its second argument, an iterable. Examples of iterables are strings, lists, and tuples. For more information on iterables and iterators, check out Iterables and Iterators.\n",
    "\n",
    "map() returns an iterator corresponding to the transformed collection. As an example, if you wanted to transform a list of strings to a new list with each string capitalized, you could use map(), as follows:"
   ]
  },
  {
   "cell_type": "code",
   "execution_count": 48,
   "metadata": {},
   "outputs": [
    {
     "data": {
      "text/plain": [
       "['Cat', 'Dog', 'Cow']"
      ]
     },
     "execution_count": 48,
     "metadata": {},
     "output_type": "execute_result"
    }
   ],
   "source": [
    "list(map(lambda x: x.capitalize(), ['cat', 'dog', 'cow']))"
   ]
  },
  {
   "cell_type": "markdown",
   "metadata": {},
   "source": [
    "You need to invoke list() to convert the iterator returned by map() into an expanded list that can be displayed in the Python shell interpreter.\n",
    "\n",
    "Using a list comprehension eliminates the need for defining and invoking the lambda function:"
   ]
  },
  {
   "cell_type": "code",
   "execution_count": 49,
   "metadata": {},
   "outputs": [
    {
     "data": {
      "text/plain": [
       "['Cat', 'Dog', 'Cow']"
      ]
     },
     "execution_count": 49,
     "metadata": {},
     "output_type": "execute_result"
    }
   ],
   "source": [
    "[x.capitalize() for x in ['cat', 'dog', 'cow']]"
   ]
  },
  {
   "cell_type": "code",
   "execution_count": 50,
   "metadata": {},
   "outputs": [
    {
     "name": "stdout",
     "output_type": "stream",
     "text": [
      "['200.155.108.44', '36.139.255.202', '50.112.115.219', '10.0.25.26', '233.154.7.24', '241.220.141.78', '191.198.138.97', '172.40.187.145', '225.119.46.80', '97.218.117.229']\n"
     ]
    }
   ],
   "source": [
    "# comprehations alternativa - zgornji primer\n",
    "with open('data/example_log.txt') as file:\n",
    "    lines = file.readlines()\n",
    "    ip_addresses = [line.split()[0] for line in lines]\n",
    "    print(ip_addresses[:10])"
   ]
  },
  {
   "cell_type": "markdown",
   "metadata": {},
   "source": [
    "## The Filter Function"
   ]
  },
  {
   "cell_type": "markdown",
   "metadata": {},
   "source": [
    "The second function we'll work with is the filter() function. The filter() function takes in an iterable, creates a new iterable object (again, a special map object), and a first-class function that must return a bool value. The new map object is a filtered iterable of all elements that returned True."
   ]
  },
  {
   "cell_type": "markdown",
   "metadata": {},
   "source": [
    "    # Pseudocode for filter.\n",
    "    def filter(evaluate, seq):\n",
    "        # Return `Map` object with\n",
    "        # the evaluate function applied to every\n",
    "        # element.\n",
    "        return Map(\n",
    "            x for x in seq\n",
    "            if evaluate(x) is True\n",
    "        )"
   ]
  },
  {
   "cell_type": "markdown",
   "metadata": {},
   "source": [
    "Here's how we could filter odd or even values from a list:"
   ]
  },
  {
   "cell_type": "code",
   "execution_count": 51,
   "metadata": {},
   "outputs": [
    {
     "name": "stdout",
     "output_type": "stream",
     "text": [
      "[2, 4, 6, 8, 10]\n"
     ]
    }
   ],
   "source": [
    "values = [1, 2, 3, 4, 5, 6, 7, 8, 9, 10]\n",
    "\n",
    "# Note: We convert the returned filter object to\n",
    "# a list data structure.\n",
    "even = list(filter(lambda x: x % 2 == 0, values))\n",
    "odd = list(filter(lambda x: x % 2 == 1, values))\n",
    "\n",
    "print(even)"
   ]
  },
  {
   "cell_type": "code",
   "execution_count": 52,
   "metadata": {},
   "outputs": [
    {
     "name": "stdout",
     "output_type": "stream",
     "text": [
      "[1, 3, 5, 7, 9]\n"
     ]
    }
   ],
   "source": [
    "print(odd)"
   ]
  },
  {
   "cell_type": "markdown",
   "metadata": {},
   "source": [
    "### Vaja"
   ]
  },
  {
   "cell_type": "markdown",
   "metadata": {},
   "source": [
    "- Filter each line in the ip_addresses list to IP addresses that begin with less than or equal to 20.\n",
    "- Cast the filtered object to a list, and assign it to the filtered_ips variable.\n",
    "- Print the filtered_ips variable."
   ]
  },
  {
   "cell_type": "code",
   "execution_count": 53,
   "metadata": {},
   "outputs": [
    {
     "name": "stdout",
     "output_type": "stream",
     "text": [
      "['10.0.25.26', '4.31.18.29', '10.3.25.58', '5.237.70.145', '4.186.143.85', '7.205.198.134', '2.98.108.99', '20.123.163.219', '17.192.186.123', '19.137.101.141']\n"
     ]
    }
   ],
   "source": [
    "# comprehations alternativa - zgornji primer\n",
    "with open('data/example_log.txt') as file:\n",
    "    lines = file.readlines()\n",
    "    ip_addresses = list(map(lambda x: x.split()[0], lines))\n",
    "    filtered_ips = list(filter(lambda x: int(x.split('.')[0]) <= 20, ip_addresses))\n",
    "    print(filtered_ips[:10])"
   ]
  },
  {
   "cell_type": "markdown",
   "metadata": {},
   "source": [
    "### Alternatives to filter"
   ]
  },
  {
   "cell_type": "markdown",
   "metadata": {},
   "source": [
    "The built-in function filter(), another classic functional construct, can be converted into a list comprehension. It takes a predicate as a first argument and an iterable as a second argument. It builds an iterator containing all the elements of the initial collection that satisfies the predicate function. Here’s an example that filters all the even numbers in a given list of integers:"
   ]
  },
  {
   "cell_type": "code",
   "execution_count": 54,
   "metadata": {},
   "outputs": [
    {
     "data": {
      "text/plain": [
       "[0, 2, 4, 6, 8, 10]"
      ]
     },
     "execution_count": 54,
     "metadata": {},
     "output_type": "execute_result"
    }
   ],
   "source": [
    "list(filter(lambda x: x%2 == 0, range(11)))"
   ]
  },
  {
   "cell_type": "markdown",
   "metadata": {},
   "source": [
    "Note that filter() returns an iterator, hence the need to invoke the built-in type list that constructs a list given an iterator.\n",
    "\n",
    "The implementation leveraging the list comprehension construct gives the following:"
   ]
  },
  {
   "cell_type": "code",
   "execution_count": 55,
   "metadata": {},
   "outputs": [
    {
     "data": {
      "text/plain": [
       "[0, 2, 4, 6, 8, 10]"
      ]
     },
     "execution_count": 55,
     "metadata": {},
     "output_type": "execute_result"
    }
   ],
   "source": [
    "[x for x in range(11) if x%2 == 0]"
   ]
  },
  {
   "cell_type": "code",
   "execution_count": 56,
   "metadata": {},
   "outputs": [
    {
     "name": "stdout",
     "output_type": "stream",
     "text": [
      "['10.0.25.26', '4.31.18.29', '10.3.25.58', '5.237.70.145', '4.186.143.85', '7.205.198.134', '2.98.108.99', '20.123.163.219', '17.192.186.123', '19.137.101.141']\n"
     ]
    }
   ],
   "source": [
    "# comprehations alternativa - zgornji primer\n",
    "with open('data/example_log.txt') as file:\n",
    "    lines = file.readlines()\n",
    "    ip_addresses = [line.split()[0] for line in lines]\n",
    "    filtered_ips = [ip for ip in ip_addresses if int(ip.split('.')[0]) <= 20]\n",
    "    print(filtered_ips[:10])"
   ]
  },
  {
   "cell_type": "markdown",
   "metadata": {},
   "source": [
    "## The Reduce Function"
   ]
  },
  {
   "cell_type": "markdown",
   "metadata": {},
   "source": [
    "The last function we'll look at is the reduce() function from the functools package. The reduce() function takes in an iterable, and then reduces the iterable to a single value. Reduce is different from filter() and map(), because reduce() takes in a function that has two input values.\n",
    "\n",
    "Here's an example of how we can use reduce() to sum all elements in a list."
   ]
  },
  {
   "cell_type": "code",
   "execution_count": 57,
   "metadata": {},
   "outputs": [
    {
     "name": "stdout",
     "output_type": "stream",
     "text": [
      "10\n"
     ]
    }
   ],
   "source": [
    "from functools import reduce\n",
    "\n",
    "values = [1, 2, 3, 4]\n",
    "\n",
    "summed = reduce(lambda a, b: a + b, values)\n",
    "print(summed)"
   ]
  },
  {
   "cell_type": "markdown",
   "metadata": {},
   "source": [
    "<img alt=\"diagram of reduce\" src=\"https://dq-content.s3.amazonaws.com/263/s5_reduce_function.svg\">"
   ]
  },
  {
   "cell_type": "markdown",
   "metadata": {},
   "source": [
    "An interesting note to make is that you do not have to operate on the second value in the lambda expression. For example, you can write a function that always returns the first value of an iterable:"
   ]
  },
  {
   "cell_type": "code",
   "execution_count": 58,
   "metadata": {},
   "outputs": [
    {
     "name": "stdout",
     "output_type": "stream",
     "text": [
      "1\n"
     ]
    }
   ],
   "source": [
    "from functools import reduce\n",
    "\n",
    "values = [1, 2, 3, 4, 5]\n",
    "\n",
    "# By convention, we add `_` as a placeholder for an input\n",
    "# we do not use.\n",
    "first_value = reduce(lambda a, _: a, values)\n",
    "print(first_value)"
   ]
  },
  {
   "cell_type": "markdown",
   "metadata": {},
   "source": [
    "### Vaja"
   ]
  },
  {
   "cell_type": "markdown",
   "metadata": {},
   "source": [
    "- Using reduce, count the total amount of elements in lines and filtered_ips.\n",
    "- Find the ratio between filtered_ips and lines, and assign the value to ratio.\n",
    "- Print the ratio variable."
   ]
  },
  {
   "cell_type": "code",
   "execution_count": 59,
   "metadata": {},
   "outputs": [
    {
     "name": "stdout",
     "output_type": "stream",
     "text": [
      "0.07770304186326674\n"
     ]
    }
   ],
   "source": [
    "from functools import reduce\n",
    "\n",
    "with open('data/example_log.txt') as file:\n",
    "    lines = file.readlines()\n",
    "    ip_addresses = list(map(lambda x: x.split()[0], lines))\n",
    "    filtered_ips = list(filter(lambda x: int(x.split('.')[0]) <= 20, ip_addresses))\n",
    "    count_all = reduce(lambda x, _: 2 if isinstance(x, str) else x + 1, lines)\n",
    "    count_filtered = reduce(lambda x, _: 2 if isinstance(x, str) else x + 1, filtered_ips)\n",
    "    ratio = count_filtered / count_all\n",
    "\n",
    "print(ratio)"
   ]
  },
  {
   "cell_type": "markdown",
   "metadata": {},
   "source": [
    "### Alternatives to reduce"
   ]
  },
  {
   "cell_type": "markdown",
   "metadata": {},
   "source": [
    "Since Python 3, reduce() has gone from a built-in function to a functools module function. As map() and filter(), its first two arguments are respectively a function and an iterable. It may also take an initializer as a third argument that is used as the initial value of the resulting accumulator. For each element of the iterable, reduce() applies the function and accumulates the result that is returned when the iterable is exhausted."
   ]
  },
  {
   "cell_type": "markdown",
   "metadata": {},
   "source": [
    "To apply reduce() to a list of pairs and calculate the sum of the first item of each pair, you could write this:"
   ]
  },
  {
   "cell_type": "code",
   "execution_count": 60,
   "metadata": {},
   "outputs": [
    {
     "data": {
      "text/plain": [
       "6"
      ]
     },
     "execution_count": 60,
     "metadata": {},
     "output_type": "execute_result"
    }
   ],
   "source": [
    "import functools\n",
    "pairs = [(1, 'a'), (2, 'b'), (3, 'c')]\n",
    "functools.reduce(lambda acc, pair: acc + pair[0], pairs, 0)"
   ]
  },
  {
   "cell_type": "markdown",
   "metadata": {},
   "source": [
    "A more idiomatic approach using a generator expression, as an argument to sum() in the example, is the following:\n",
    "\n"
   ]
  },
  {
   "cell_type": "code",
   "execution_count": 61,
   "metadata": {},
   "outputs": [],
   "source": [
    "pairs = [(1, 'a'), (2, 'b'), (3, 'c')]"
   ]
  },
  {
   "cell_type": "code",
   "execution_count": 62,
   "metadata": {},
   "outputs": [
    {
     "data": {
      "text/plain": [
       "6"
      ]
     },
     "execution_count": 62,
     "metadata": {},
     "output_type": "execute_result"
    }
   ],
   "source": [
    "sum(x[0] for x in pairs)"
   ]
  },
  {
   "cell_type": "markdown",
   "metadata": {},
   "source": [
    "A slightly different and possibly cleaner solution removes the need to explicitly access the first element of the pair and instead use unpacking:"
   ]
  },
  {
   "cell_type": "code",
   "execution_count": 63,
   "metadata": {},
   "outputs": [
    {
     "data": {
      "text/plain": [
       "6"
      ]
     },
     "execution_count": 63,
     "metadata": {},
     "output_type": "execute_result"
    }
   ],
   "source": [
    "pairs = [(1, 'a'), (2, 'b'), (3, 'c')]\n",
    "sum(x for x, _ in pairs)"
   ]
  },
  {
   "cell_type": "markdown",
   "metadata": {},
   "source": [
    "The use of underscore (_) is a Python convention indicating that you can ignore the second value of the pair.\n",
    "\n",
    "sum() takes a unique argument, so the generator expression does not need to be in parentheses."
   ]
  },
  {
   "cell_type": "code",
   "execution_count": 64,
   "metadata": {},
   "outputs": [
    {
     "name": "stdout",
     "output_type": "stream",
     "text": [
      "0.07770304186326674\n"
     ]
    }
   ],
   "source": [
    "# comprehations alternativa - zgornji primer\n",
    "with open('data/example_log.txt') as file:\n",
    "    lines = file.readlines()\n",
    "    ip_addresses = [line.split()[0] for line in lines]\n",
    "    filtered_ips = [ip for ip in ip_addresses if int(ip.split('.')[0]) <= 20]\n",
    "    count_all = sum(1 for line in lines)\n",
    "    count_filtered = sum(1 for filtered_ip in filtered_ips)\n",
    "    ratio = count_filtered / count_all\n",
    "    print(ratio)"
   ]
  },
  {
   "cell_type": "code",
   "execution_count": 65,
   "metadata": {},
   "outputs": [
    {
     "name": "stdout",
     "output_type": "stream",
     "text": [
      "0.07770304186326674\n"
     ]
    }
   ],
   "source": [
    "# alternativa\n",
    "with open('data/example_log.txt') as file:\n",
    "    lines = file.readlines()\n",
    "    ip_addresses = [line.split()[0] for line in lines]\n",
    "    filtered_ips = [ip for ip in ip_addresses if int(ip.split('.')[0]) <= 20]\n",
    "    ratio = len(filtered_ips) / len(lines)\n",
    "    print(ratio)"
   ]
  },
  {
   "cell_type": "markdown",
   "metadata": {},
   "source": [
    "## Primer: Parsanje IPjev"
   ]
  },
  {
   "cell_type": "code",
   "execution_count": 66,
   "metadata": {},
   "outputs": [
    {
     "name": "stdout",
     "output_type": "stream",
     "text": [
      "200.155.108.44 - - [30/Nov/2017:11:59:54 +0000] \"PUT /categories/categories/categories HTTP/1.1\" 401 963 \"http://www.yates.com/list/tags/category/\" \"Mozilla/5.0 (Windows CE) AppleWebKit/5332 (KHTML, like Gecko) Chrome/13.0.864.0 Safari/5332\"\r\n",
      "36.139.255.202 - - [30/Nov/2017:11:59:54 +0000] \"PUT /search HTTP/1.1\" 404 171 \"https://www.butler.org/main/tag/category/home.php\" \"Mozilla/5.0 (Macintosh; PPC Mac OS X 10_5_0) AppleWebKit/5332 (KHTML, like Gecko) Chrome/15.0.813.0 Safari/5332\"\r\n",
      "50.112.115.219 - - [30/Nov/2017:11:59:54 +0000] \"POST /main/blog HTTP/1.1\" 404 743 \"http://deleon-bender.com/categories/category.html\" \"Mozilla/5.0 (Macintosh; Intel Mac OS X 10_5_5 rv:2.0; apn-IN) AppleWebKit/531.48.1 (KHTML, like Gecko) Version/4.0 Safari/531.48.1\"\r\n"
     ]
    }
   ],
   "source": [
    "!head -n 3 data/example_log.txt"
   ]
  },
  {
   "cell_type": "markdown",
   "metadata": {},
   "source": [
    "- Preberemo datoteko in izločimo samo tiste vrstice, ki imajo privatne IPje."
   ]
  },
  {
   "cell_type": "code",
   "execution_count": 67,
   "metadata": {},
   "outputs": [],
   "source": [
    "with open('data/example_log.txt') as file:\n",
    "    lines = file.readlines()"
   ]
  },
  {
   "cell_type": "markdown",
   "metadata": {},
   "source": [
    "> [ipaddress — IPv4/IPv6 manipulation library](https://docs.python.org/3/library/ipaddress.html)"
   ]
  },
  {
   "cell_type": "markdown",
   "metadata": {},
   "source": [
    "is_private: True if the address is allocated for private networks. See iana-ipv4-special-registry (for IPv4) or iana-ipv6-special-registry (for IPv6)."
   ]
  },
  {
   "cell_type": "code",
   "execution_count": 68,
   "metadata": {},
   "outputs": [],
   "source": [
    "import ipaddress\n",
    "\n",
    "def is_ip_private(ip):\n",
    "    ip_object = ipaddress.ip_address(ip)\n",
    "    return ip_object.is_private and not ip_object.is_reserved  and not ip_object.is_loopback"
   ]
  },
  {
   "cell_type": "code",
   "execution_count": 69,
   "metadata": {},
   "outputs": [],
   "source": [
    "status_codes = []\n",
    "for log in lines:\n",
    "    log_splited = log.split()\n",
    "    ip = log_splited[0]\n",
    "    if is_ip_private(ip):\n",
    "        status_code = int(log_splited[8])\n",
    "        status_codes.append(status_code)"
   ]
  },
  {
   "cell_type": "code",
   "execution_count": 70,
   "metadata": {},
   "outputs": [
    {
     "name": "stdout",
     "output_type": "stream",
     "text": [
      "[404, 401, 404, 404, 200, 200, 404, 200, 200, 200, 200, 200, 404, 401, 401, 401, 404, 200, 401, 200, 200, 200, 200, 401, 200, 200, 401, 401, 404, 401, 404, 200, 401, 401, 200, 401, 200, 200, 401, 200, 404, 404, 200, 401, 200, 200, 404, 404, 404, 200, 200, 401, 401, 200, 200, 401, 404, 401, 404, 401, 200, 200]\n"
     ]
    }
   ],
   "source": [
    "print(status_codes)"
   ]
  },
  {
   "cell_type": "code",
   "execution_count": 71,
   "metadata": {},
   "outputs": [],
   "source": [
    "from collections import Counter"
   ]
  },
  {
   "cell_type": "code",
   "execution_count": 72,
   "metadata": {},
   "outputs": [],
   "source": [
    "status_counter = Counter(status_codes)"
   ]
  },
  {
   "cell_type": "code",
   "execution_count": 73,
   "metadata": {},
   "outputs": [
    {
     "data": {
      "text/plain": [
       "[(200, 28), (401, 19), (404, 15)]"
      ]
     },
     "execution_count": 73,
     "metadata": {},
     "output_type": "execute_result"
    }
   ],
   "source": [
    "status_counter.most_common()"
   ]
  },
  {
   "cell_type": "code",
   "execution_count": 74,
   "metadata": {},
   "outputs": [
    {
     "name": "stdout",
     "output_type": "stream",
     "text": [
      "Status code 200: 28x\n",
      "Status code 401: 19x\n",
      "Status code 404: 15x\n"
     ]
    }
   ],
   "source": [
    "for code, count in status_counter.most_common():\n",
    "    print(f'Status code {code}: {count}x')"
   ]
  },
  {
   "cell_type": "markdown",
   "metadata": {},
   "source": [
    "### Pandas alternativa"
   ]
  },
  {
   "cell_type": "code",
   "execution_count": 75,
   "metadata": {},
   "outputs": [],
   "source": [
    "import ipaddress\n",
    "\n",
    "def is_ip_private(ip):\n",
    "    ip_object = ipaddress.ip_address(ip)\n",
    "    return ip_object.is_private and not ip_object.is_reserved  and not ip_object.is_loopback"
   ]
  },
  {
   "cell_type": "code",
   "execution_count": 76,
   "metadata": {},
   "outputs": [],
   "source": [
    "import pandas as pd\n",
    "df = pd.read_csv('data/example_log.txt', sep=' ', header=None)\n",
    "df.drop(labels=[1,2,3,4,5,7,8,9], axis=1, inplace=True)\n",
    "df.rename(columns={0:'ip', 6:'status_code'}, inplace=True)\n",
    "df['is_private'] = df['ip'].apply(lambda ip: is_ip_private(ip))\n",
    "status_codes_private_ips = df[df['is_private'] == True].copy()"
   ]
  },
  {
   "cell_type": "code",
   "execution_count": 77,
   "metadata": {},
   "outputs": [
    {
     "data": {
      "text/plain": [
       "{200: 28, 401: 19, 404: 15}"
      ]
     },
     "execution_count": 77,
     "metadata": {},
     "output_type": "execute_result"
    }
   ],
   "source": [
    "result = status_codes_private_ips['status_code'].value_counts().to_dict()\n",
    "result"
   ]
  },
  {
   "cell_type": "markdown",
   "metadata": {},
   "source": [
    "# Razlaga"
   ]
  },
  {
   "cell_type": "markdown",
   "metadata": {},
   "source": [
    "List Comprehension"
   ]
  },
  {
   "cell_type": "code",
   "execution_count": 4,
   "metadata": {},
   "outputs": [
    {
     "name": "stdout",
     "output_type": "stream",
     "text": [
      "[1.33, 28.74, 70.56, 5.56, 8.27]\n"
     ]
    }
   ],
   "source": [
    "prices = [1.09, 23.56, 57.84, 4.56, 6.78]\n",
    "TAX_RATE = 0.22\n",
    "\n",
    "\n",
    "def get_price_with_tax(txn):\n",
    "    return round(txn * (1 + TAX_RATE), 2)\n",
    "\n",
    "\n",
    "prices_with_tax = []\n",
    "for price in prices:\n",
    "    prices_with_tax.append(get_price_with_tax(price))\n",
    "\n",
    "print(prices_with_tax)"
   ]
  },
  {
   "cell_type": "code",
   "execution_count": 5,
   "metadata": {},
   "outputs": [
    {
     "name": "stdout",
     "output_type": "stream",
     "text": [
      "[1.33, 28.74, 70.56, 5.56, 8.27]\n"
     ]
    }
   ],
   "source": [
    "# alternativa - list comprehension\n",
    "prices = [1.09, 23.56, 57.84, 4.56, 6.78]\n",
    "TAX_RATE = 0.22\n",
    "\n",
    "\n",
    "def get_price_with_tax(txn):\n",
    "    return round(txn * (1 + TAX_RATE), 2)\n",
    "\n",
    "\n",
    "prices_with_tax = [get_price_with_tax(price) for price in prices]\n",
    "print(prices_with_tax)"
   ]
  },
  {
   "cell_type": "code",
   "execution_count": 9,
   "metadata": {},
   "outputs": [
    {
     "name": "stdout",
     "output_type": "stream",
     "text": [
      "[1.33, 28.74, 70.56, 5.56, 8.27]\n"
     ]
    }
   ],
   "source": [
    "# alternativa - map funkcija\n",
    "prices = [1.09, 23.56, 57.84, 4.56, 6.78]\n",
    "TAX_RATE = 0.22\n",
    "\n",
    "\n",
    "def get_price_with_tax(txn):\n",
    "    return round(txn * (1 + TAX_RATE), 2)\n",
    "\n",
    "\n",
    "final_prices = list(map(get_price_with_tax, prices))\n",
    "print(final_prices)"
   ]
  },
  {
   "cell_type": "markdown",
   "metadata": {},
   "source": [
    "    new_list = [expression for member in iterable]\n",
    "    new_list = [expression for member in iterable (if conditional)]"
   ]
  },
  {
   "cell_type": "code",
   "execution_count": 11,
   "metadata": {},
   "outputs": [
    {
     "name": "stdout",
     "output_type": "stream",
     "text": [
      "['e', 'o', 'e', 'a', 'e', 'a', 'o', 'a']\n"
     ]
    }
   ],
   "source": [
    "sentence = \"the rocket came back from mars\"\n",
    "\n",
    "vowels = [letter for letter in sentence if letter in \"aeiou\"]\n",
    "print(vowels)"
   ]
  },
  {
   "cell_type": "code",
   "execution_count": 12,
   "metadata": {},
   "outputs": [
    {
     "name": "stdout",
     "output_type": "stream",
     "text": [
      "[1.25, 10.22, 3.78, 1.16]\n"
     ]
    }
   ],
   "source": [
    "original_prices = [1.25, -9.45, 10.22, 3.78, -5.92, 1.16]\n",
    "\n",
    "non_neg_prices = [price for price in original_prices if price > 0]\n",
    "print(non_neg_prices)\n"
   ]
  },
  {
   "cell_type": "code",
   "execution_count": 14,
   "metadata": {},
   "outputs": [
    {
     "name": "stdout",
     "output_type": "stream",
     "text": [
      "[1.16, 1.25, 3.78, 10.22]\n"
     ]
    }
   ],
   "source": [
    "non_neg_prices = sorted([price for price in original_prices if price > 0])\n",
    "print(non_neg_prices)\n"
   ]
  },
  {
   "cell_type": "markdown",
   "metadata": {},
   "source": [
    "    new_list = [expression (if conditional) for member in iterable]"
   ]
  },
  {
   "cell_type": "code",
   "execution_count": 15,
   "metadata": {},
   "outputs": [
    {
     "name": "stdout",
     "output_type": "stream",
     "text": [
      "[1.25, 0, 10.22, 3.78, 0, 1.16]\n"
     ]
    }
   ],
   "source": [
    "original_prices = [1.25, -9.45, 10.22, 3.78, -5.92, 1.16]\n",
    "prices = [price if price > 0 else 0 for price in original_prices]\n",
    "print(prices)\n"
   ]
  },
  {
   "cell_type": "code",
   "execution_count": 16,
   "metadata": {},
   "outputs": [
    {
     "name": "stdout",
     "output_type": "stream",
     "text": [
      "{'article_0': 1.25, 'article_1': -9.45, 'article_2': 10.22, 'article_3': 3.78, 'article_4': -5.92, 'article_5': 1.16}\n"
     ]
    }
   ],
   "source": [
    "original_prices = [1.25, -9.45, 10.22, 3.78, -5.92, 1.16]\n",
    "\n",
    "articles = {f\"article_{number}\": price for number, price in enumerate(original_prices)}\n",
    "print(articles)\n"
   ]
  },
  {
   "cell_type": "code",
   "execution_count": 18,
   "metadata": {},
   "outputs": [
    {
     "data": {
      "text/plain": [
       "[(0, 1.25), (1, -9.45), (2, 10.22), (3, 3.78), (4, -5.92), (5, 1.16)]"
      ]
     },
     "execution_count": 18,
     "metadata": {},
     "output_type": "execute_result"
    }
   ],
   "source": [
    "list(enumerate(original_prices))"
   ]
  },
  {
   "cell_type": "code",
   "execution_count": null,
   "metadata": {},
   "outputs": [],
   "source": [
    "logs = \"\"\"\n",
    "122.55.236.192 - - [09/Apr/2020:14:07:20 -0600] \"GET /ply/bookplug.gif HTTP/1.1\" 304 -\n",
    "74.6.19.236 - - [09/Apr/2020:14:07:20 -0600] \"GET /photos/u505/pages/IMG_1524.htm HTTP/1.0\" 404 133\n",
    "24.7.210.64 - - [09/Apr/2020:14:07:20 -0600] \"GET /dynamic/03ProgramStructure.pdf HTTP/1.1\" 304 -\n",
    "81.103.63.40 - - [09/Apr/2020:14:07:21 -0600] \"GET /photos/wind/pages/IMG_1262.htm HTTP/1.1\" 404 133\n",
    "189.144.107.121 - - [09/Apr/2020:14:07:21 -0600] \"GET /cgi-bin/wiki.pl?SwigFaqMakeCheckFails HTTP/1.1\" 200 2861\n",
    "139.82.24.80 - - [09/Apr/2020:14:07:22 -0600] \"GET /cgi-bin/wiki.pl?SwigFaqBuildErrorsRedHat HTTP/1.1\" 200 2099\n",
    "84.110.191.75 - - [09/Apr/2020:14:07:22 -0600] \"GET /papers/Py96/python96.html HTTP/1.0\" 200 22442\n",
    "74.6.24.228 - - [09/Apr/2020:14:07:23 -0600] \"GET /cgi-bin/wiki.pl?NameDirective HTTP/1.1\" 200 1785\n",
    "151.96.0.8 - - [09/Apr/2020:14:07:23 -0600] \"GET /dynamic/05ObjectModel.pdf HTTP/1.0\" 200 731143\n",
    "130.79.100.39 - - [09/Apr/2020:14:07:23 -0600] \"GET /ply/ply-1.8.tar.gz HTTP/1.1\" 200 12819\n",
    "59.103.3.200 - - [09/Apr/2020:14:07:24 -0600] \"GET /dynamic/assign2.html HTTP/1.1\" 304 -\n",
    "84.110.153.190 - - [09/Apr/2020:14:07:25 -0600] \"GET /swill/about.html HTTP/1.0\" 404 133\n",
    "151.200.90.2 - - [09/Apr/2020:14:07:25 -0600] \"GET /photos/u505/pages/IMG_1492.htm HTTP/1.0\" 404 133\n",
    "80.161.85.77 - - [09/Apr/2020:14:07:25 -0600] \"GET /dynamic HTTP/1.1\" 301 246\n",
    "76.68.215.63 - - [09/Apr/2020:14:07:26 -0600] \"GET /PLYTalk.pdf HTTP/1.1\" 404 133\n",
    "\"\"\""
   ]
  },
  {
   "cell_type": "code",
   "execution_count": null,
   "metadata": {},
   "outputs": [],
   "source": [
    "def extract_ips_from_server_logs(logs: str) -> list[str]:\n",
    "    pass"
   ]
  }
 ],
 "metadata": {
  "kernelspec": {
   "display_name": "Python 3",
   "language": "python",
   "name": "python3"
  },
  "language_info": {
   "codemirror_mode": {
    "name": "ipython",
    "version": 3
   },
   "file_extension": ".py",
   "mimetype": "text/x-python",
   "name": "python",
   "nbconvert_exporter": "python",
   "pygments_lexer": "ipython3",
   "version": "3.12.0"
  }
 },
 "nbformat": 4,
 "nbformat_minor": 4
}
