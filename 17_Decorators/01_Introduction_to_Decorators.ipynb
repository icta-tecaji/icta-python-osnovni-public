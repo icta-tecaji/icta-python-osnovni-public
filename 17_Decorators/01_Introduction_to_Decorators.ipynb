{
 "cells": [
  {
   "cell_type": "markdown",
   "metadata": {},
   "source": [
    "# Python Decorators"
   ]
  },
  {
   "cell_type": "markdown",
   "metadata": {},
   "source": [
    "Viri:\n",
    "- [Primer on Python Decorators](https://realpython.com/primer-on-python-decorators/)\n",
    "- [Decorators in Python](https://www.datacamp.com/community/tutorials/decorators-python)\n",
    "- [Reuven M. Lerner - Practical decorators - PyCon 2019](https://www.youtube.com/watch?v=MjHpMCIvwsY)"
   ]
  },
  {
   "cell_type": "markdown",
   "metadata": {},
   "source": [
    "Decorators provide a simple syntax for calling higher-order functions."
   ]
  },
  {
   "cell_type": "markdown",
   "metadata": {},
   "source": [
    "By definition, a decorator is a function that takes another function and extends the behavior of the latter function without explicitly modifying it."
   ]
  },
  {
   "cell_type": "markdown",
   "metadata": {},
   "source": [
    "## Functions"
   ]
  },
  {
   "cell_type": "markdown",
   "metadata": {},
   "source": [
    "### First-Class Objects"
   ]
  },
  {
   "cell_type": "markdown",
   "metadata": {},
   "source": [
    "In Python, functions are first-class objects. This means that functions can be passed around and used as arguments, just like any other object (string, int, float, list, and so on). Consider the following three functions:"
   ]
  },
  {
   "cell_type": "code",
   "execution_count": 1,
   "metadata": {},
   "outputs": [],
   "source": [
    "def say_hello(name):\n",
    "    return f\"Hello {name}\"\n",
    "\n",
    "def be_awesome(name):\n",
    "    return f\"Yo {name}, together we are the awesomest!\"\n",
    "\n",
    "def greet_bob(greeter_func):\n",
    "    return greeter_func(\"Bob\")"
   ]
  },
  {
   "cell_type": "markdown",
   "metadata": {},
   "source": [
    "Here, say_hello() and be_awesome() are regular functions that expect a name given as a string. The greet_bob() function however, expects a function as its argument. We can, for instance, pass it the say_hello() or the be_awesome() function:"
   ]
  },
  {
   "cell_type": "code",
   "execution_count": 2,
   "metadata": {},
   "outputs": [
    {
     "data": {
      "text/plain": [
       "'Hello Bob'"
      ]
     },
     "execution_count": 2,
     "metadata": {},
     "output_type": "execute_result"
    }
   ],
   "source": [
    "greet_bob(say_hello)"
   ]
  },
  {
   "cell_type": "code",
   "execution_count": 3,
   "metadata": {},
   "outputs": [
    {
     "data": {
      "text/plain": [
       "'Yo Bob, together we are the awesomest!'"
      ]
     },
     "execution_count": 3,
     "metadata": {},
     "output_type": "execute_result"
    }
   ],
   "source": [
    "greet_bob(be_awesome)"
   ]
  },
  {
   "cell_type": "markdown",
   "metadata": {},
   "source": [
    "Note that greet_bob(say_hello) refers to two functions, but in different ways: greet_bob() and say_hello. The say_hello function is named without parentheses. This means that only a reference to the function is passed. The function is not executed. The greet_bob() function, on the other hand, is written with parentheses, so it will be called as usual."
   ]
  },
  {
   "cell_type": "markdown",
   "metadata": {},
   "source": [
    "### Inner Functions"
   ]
  },
  {
   "cell_type": "markdown",
   "metadata": {},
   "source": [
    "It’s possible to define functions inside other functions. Such functions are called inner functions. Here’s an example of a function with two inner functions:"
   ]
  },
  {
   "cell_type": "code",
   "execution_count": 4,
   "metadata": {},
   "outputs": [],
   "source": [
    "def parent():\n",
    "    print(\"Printing from the parent() function\")\n",
    "\n",
    "    def first_child():\n",
    "        print(\"Printing from the first_child() function\")\n",
    "\n",
    "    def second_child():\n",
    "        print(\"Printing from the second_child() function\")\n",
    "\n",
    "    second_child()\n",
    "    first_child()"
   ]
  },
  {
   "cell_type": "markdown",
   "metadata": {},
   "source": [
    "What happens when you call the parent() function? Think about this for a minute. The output will be as follows:"
   ]
  },
  {
   "cell_type": "code",
   "execution_count": 5,
   "metadata": {},
   "outputs": [
    {
     "name": "stdout",
     "output_type": "stream",
     "text": [
      "Printing from the parent() function\n",
      "Printing from the second_child() function\n",
      "Printing from the first_child() function\n"
     ]
    }
   ],
   "source": [
    "parent()"
   ]
  },
  {
   "cell_type": "markdown",
   "metadata": {},
   "source": [
    "Note that the order in which the inner functions are defined does not matter. Like with any other functions, the printing only happens when the inner functions are executed.\n",
    "\n",
    "Furthermore, the inner functions are not defined until the parent function is called. They are locally scoped to parent(): they only exist inside the parent() function as local variables. Try calling first_child(). You should get an error:"
   ]
  },
  {
   "cell_type": "code",
   "execution_count": 6,
   "metadata": {},
   "outputs": [
    {
     "ename": "NameError",
     "evalue": "name 'first_child' is not defined",
     "output_type": "error",
     "traceback": [
      "\u001b[0;31m---------------------------------------------------------------------------\u001b[0m",
      "\u001b[0;31mNameError\u001b[0m                                 Traceback (most recent call last)",
      "\u001b[0;32m<ipython-input-6-decf6400bee7>\u001b[0m in \u001b[0;36m<module>\u001b[0;34m\u001b[0m\n\u001b[0;32m----> 1\u001b[0;31m \u001b[0mfirst_child\u001b[0m\u001b[0;34m(\u001b[0m\u001b[0;34m)\u001b[0m\u001b[0;34m\u001b[0m\u001b[0;34m\u001b[0m\u001b[0m\n\u001b[0m",
      "\u001b[0;31mNameError\u001b[0m: name 'first_child' is not defined"
     ]
    }
   ],
   "source": [
    "first_child()"
   ]
  },
  {
   "cell_type": "markdown",
   "metadata": {},
   "source": [
    "Whenever you call parent(), the inner functions first_child() and second_child() are also called. But because of their local scope, they aren’t available outside of the parent() function."
   ]
  },
  {
   "cell_type": "markdown",
   "metadata": {},
   "source": [
    "### Returning Functions From Functions"
   ]
  },
  {
   "cell_type": "markdown",
   "metadata": {},
   "source": [
    "Python also allows you to use functions as return values. The following example returns one of the inner functions from the outer parent() function:"
   ]
  },
  {
   "cell_type": "code",
   "execution_count": 7,
   "metadata": {},
   "outputs": [],
   "source": [
    "def parent(num):\n",
    "    def first_child():\n",
    "        return \"Hi, I am Emma\"\n",
    "\n",
    "    def second_child():\n",
    "        return \"Call me Liam\"\n",
    "\n",
    "    if num == 1:\n",
    "        return first_child\n",
    "    else:\n",
    "        return second_child"
   ]
  },
  {
   "cell_type": "markdown",
   "metadata": {},
   "source": [
    "Note that you are returning first_child without the parentheses. Recall that this means that you are returning a reference to the function first_child. In contrast first_child() with parentheses refers to the result of evaluating the function. This can be seen in the following example:"
   ]
  },
  {
   "cell_type": "code",
   "execution_count": 8,
   "metadata": {},
   "outputs": [],
   "source": [
    "first = parent(1)"
   ]
  },
  {
   "cell_type": "code",
   "execution_count": 9,
   "metadata": {},
   "outputs": [
    {
     "data": {
      "text/plain": [
       "<function __main__.parent.<locals>.first_child()>"
      ]
     },
     "execution_count": 9,
     "metadata": {},
     "output_type": "execute_result"
    }
   ],
   "source": [
    "first"
   ]
  },
  {
   "cell_type": "code",
   "execution_count": 10,
   "metadata": {},
   "outputs": [],
   "source": [
    "second = parent(2)"
   ]
  },
  {
   "cell_type": "code",
   "execution_count": 11,
   "metadata": {},
   "outputs": [
    {
     "data": {
      "text/plain": [
       "<function __main__.parent.<locals>.second_child()>"
      ]
     },
     "execution_count": 11,
     "metadata": {},
     "output_type": "execute_result"
    }
   ],
   "source": [
    "second"
   ]
  },
  {
   "cell_type": "markdown",
   "metadata": {},
   "source": [
    "The somewhat cryptic output simply means that the first variable refers to the local first_child() function inside of parent(), while second points to second_child().\n",
    "\n",
    "You can now use first and second as if they are regular functions, even though the functions they point to can’t be accessed directly:"
   ]
  },
  {
   "cell_type": "code",
   "execution_count": 12,
   "metadata": {},
   "outputs": [
    {
     "data": {
      "text/plain": [
       "'Hi, I am Emma'"
      ]
     },
     "execution_count": 12,
     "metadata": {},
     "output_type": "execute_result"
    }
   ],
   "source": [
    "first()"
   ]
  },
  {
   "cell_type": "code",
   "execution_count": 13,
   "metadata": {},
   "outputs": [
    {
     "data": {
      "text/plain": [
       "'Call me Liam'"
      ]
     },
     "execution_count": 13,
     "metadata": {},
     "output_type": "execute_result"
    }
   ],
   "source": [
    "second()"
   ]
  },
  {
   "cell_type": "markdown",
   "metadata": {},
   "source": [
    "Finally, note that in the earlier example you executed the inner functions within the parent function, for instance first_child(). However, in this last example, you did not add parentheses to the inner functions—first_child—upon returning. That way, you got a reference to each function that you could call in the future. Make sense?"
   ]
  },
  {
   "cell_type": "markdown",
   "metadata": {},
   "source": [
    "## Simple Decorators"
   ]
  },
  {
   "cell_type": "markdown",
   "metadata": {},
   "source": [
    "Now that you’ve seen that functions are just like any other object in Python, you’re ready to move on and see the magical beast that is the Python decorator. Let’s start with an example:"
   ]
  },
  {
   "cell_type": "code",
   "execution_count": 14,
   "metadata": {},
   "outputs": [],
   "source": [
    "def my_decorator(func):\n",
    "    def wrapper():\n",
    "        print(\"Something is happening before the function is called.\")\n",
    "        func()\n",
    "        print(\"Something is happening after the function is called.\")\n",
    "    return wrapper"
   ]
  },
  {
   "cell_type": "code",
   "execution_count": 15,
   "metadata": {},
   "outputs": [],
   "source": [
    "def say_whee():\n",
    "    print(\"Whee!\")"
   ]
  },
  {
   "cell_type": "code",
   "execution_count": 16,
   "metadata": {},
   "outputs": [],
   "source": [
    "say_whee = my_decorator(say_whee)"
   ]
  },
  {
   "cell_type": "markdown",
   "metadata": {},
   "source": [
    "Can you guess what happens when you call say_whee()? Try it:"
   ]
  },
  {
   "cell_type": "code",
   "execution_count": 17,
   "metadata": {},
   "outputs": [
    {
     "name": "stdout",
     "output_type": "stream",
     "text": [
      "Something is happening before the function is called.\n",
      "Whee!\n",
      "Something is happening after the function is called.\n"
     ]
    }
   ],
   "source": [
    "say_whee()"
   ]
  },
  {
   "cell_type": "markdown",
   "metadata": {},
   "source": [
    "To understand what’s going on here, look back at the previous examples. We are literally just applying everything you have learned so far.\n",
    "\n",
    "The so-called decoration happens at the following line:"
   ]
  },
  {
   "cell_type": "code",
   "execution_count": 18,
   "metadata": {},
   "outputs": [],
   "source": [
    "say_whee = my_decorator(say_whee)"
   ]
  },
  {
   "cell_type": "markdown",
   "metadata": {},
   "source": [
    "In effect, the name say_whee now points to the wrapper() inner function. Remember that you return wrapper as a function when you call my_decorator(say_whee):"
   ]
  },
  {
   "cell_type": "code",
   "execution_count": 19,
   "metadata": {},
   "outputs": [
    {
     "data": {
      "text/plain": [
       "<function __main__.my_decorator.<locals>.wrapper()>"
      ]
     },
     "execution_count": 19,
     "metadata": {},
     "output_type": "execute_result"
    }
   ],
   "source": [
    "say_whee"
   ]
  },
  {
   "cell_type": "markdown",
   "metadata": {},
   "source": [
    "However, wrapper() has a reference to the original say_whee() as func, and calls that function between the two calls to print().\n",
    "\n",
    "Put simply: decorators wrap a function, modifying its behavior.\n",
    "\n",
    "Before moving on, let’s have a look at a second example. Because wrapper() is a regular Python function, the way a decorator modifies a function can change dynamically. So as not to disturb your neighbors, the following example will only run the decorated code during the day:"
   ]
  },
  {
   "cell_type": "code",
   "execution_count": 20,
   "metadata": {},
   "outputs": [],
   "source": [
    "from datetime import datetime\n",
    "\n",
    "def not_during_the_night(func):\n",
    "    def wrapper():\n",
    "        if 7 <= datetime.now().hour < 22:\n",
    "            func()\n",
    "        else:\n",
    "            pass  # Hush, the neighbors are asleep\n",
    "    return wrapper"
   ]
  },
  {
   "cell_type": "code",
   "execution_count": 21,
   "metadata": {},
   "outputs": [],
   "source": [
    "def say_whee():\n",
    "    print(\"Whee!\")"
   ]
  },
  {
   "cell_type": "code",
   "execution_count": 22,
   "metadata": {},
   "outputs": [],
   "source": [
    "say_whee = not_during_the_night(say_whee)"
   ]
  },
  {
   "cell_type": "markdown",
   "metadata": {},
   "source": [
    "If you try to call say_whee() after bedtime, nothing will happen:"
   ]
  },
  {
   "cell_type": "code",
   "execution_count": 23,
   "metadata": {},
   "outputs": [
    {
     "name": "stdout",
     "output_type": "stream",
     "text": [
      "Whee!\n"
     ]
    }
   ],
   "source": [
    "say_whee()"
   ]
  },
  {
   "cell_type": "markdown",
   "metadata": {},
   "source": [
    "### Syntactic Sugar\n",
    "\n",
    "\n",
    "The way you decorated say_whee() above is a little clunky. First of all, you end up typing the name say_whee three times. In addition, the decoration gets a bit hidden away below the definition of the function.\n",
    "\n",
    "Instead, Python allows you to use decorators in a simpler way with the @ symbol, sometimes called the “pie” syntax. The following example does the exact same thing as the first decorator example:"
   ]
  },
  {
   "cell_type": "code",
   "execution_count": 1,
   "metadata": {},
   "outputs": [],
   "source": [
    "def my_decorator(func):\n",
    "    def wrapper():\n",
    "        print(\"Something is happening before the function is called.\")\n",
    "        func()\n",
    "        print(\"Something is happening after the function is called.\")\n",
    "    return wrapper"
   ]
  },
  {
   "cell_type": "code",
   "execution_count": 2,
   "metadata": {},
   "outputs": [],
   "source": [
    "@my_decorator\n",
    "def say_whee():\n",
    "    print(\"Whee!\")"
   ]
  },
  {
   "cell_type": "code",
   "execution_count": 3,
   "metadata": {},
   "outputs": [
    {
     "name": "stdout",
     "output_type": "stream",
     "text": [
      "Something is happening before the function is called.\n",
      "Whee!\n",
      "Something is happening after the function is called.\n"
     ]
    }
   ],
   "source": [
    "say_whee()"
   ]
  },
  {
   "cell_type": "code",
   "execution_count": 5,
   "metadata": {},
   "outputs": [],
   "source": [
    "def say_whee():\n",
    "    print(\"Whee!\")"
   ]
  },
  {
   "cell_type": "code",
   "execution_count": 6,
   "metadata": {},
   "outputs": [
    {
     "name": "stdout",
     "output_type": "stream",
     "text": [
      "Whee!\n"
     ]
    }
   ],
   "source": [
    "say_whee()"
   ]
  },
  {
   "cell_type": "markdown",
   "metadata": {},
   "source": [
    "So, @my_decorator is just an easier way of saying say_whee = my_decorator(say_whee). It’s how you apply a decorator to a function."
   ]
  },
  {
   "cell_type": "markdown",
   "metadata": {},
   "source": [
    "### Reusing Decorators"
   ]
  },
  {
   "cell_type": "markdown",
   "metadata": {},
   "source": [
    "Recall that a decorator is just a regular Python function. All the usual tools for easy reusability are available. Let’s move the decorator to its own module that can be used in many other functions.\n",
    "\n",
    "Create a file called decorators.py with the following content:"
   ]
  },
  {
   "cell_type": "code",
   "execution_count": 7,
   "metadata": {},
   "outputs": [],
   "source": [
    "def do_twice(func):\n",
    "    def wrapper_do_twice():\n",
    "        func()\n",
    "        func()\n",
    "    return wrapper_do_twice"
   ]
  },
  {
   "cell_type": "markdown",
   "metadata": {},
   "source": [
    "> Note: You can name your inner function whatever you want, and a generic name like wrapper() is usually okay. You’ll see a lot of decorators in this article. To keep them apart, we’ll name the inner function with the same name as the decorator but with a wrapper_ prefix."
   ]
  },
  {
   "cell_type": "code",
   "execution_count": null,
   "metadata": {},
   "outputs": [],
   "source": [
    "from decorators import do_twice\n",
    "\n",
    "@do_twice\n",
    "def say_whee():\n",
    "    print(\"Whee!\")"
   ]
  },
  {
   "cell_type": "markdown",
   "metadata": {},
   "source": [
    "When you run this example, you should see that the original say_whee() is executed twice:\n",
    "\n"
   ]
  },
  {
   "cell_type": "code",
   "execution_count": null,
   "metadata": {},
   "outputs": [],
   "source": [
    "say_whee()"
   ]
  },
  {
   "cell_type": "markdown",
   "metadata": {},
   "source": [
    "### Decorating Functions With Arguments"
   ]
  },
  {
   "cell_type": "markdown",
   "metadata": {},
   "source": [
    "Say that you have a function that accepts some arguments. Can you still decorate it? Let’s try:\n",
    "\n"
   ]
  },
  {
   "cell_type": "code",
   "execution_count": null,
   "metadata": {},
   "outputs": [],
   "source": [
    "from decorators import do_twice\n",
    "\n",
    "@do_twice\n",
    "def greet(name):\n",
    "    print(f\"Hello {name}\")"
   ]
  },
  {
   "cell_type": "markdown",
   "metadata": {},
   "source": [
    "Unfortunately, running this code raises an error:"
   ]
  },
  {
   "cell_type": "code",
   "execution_count": null,
   "metadata": {},
   "outputs": [],
   "source": [
    " greet(\"World\")"
   ]
  },
  {
   "cell_type": "markdown",
   "metadata": {},
   "source": [
    "The problem is that the inner function wrapper_do_twice() does not take any arguments, but name=\"World\" was passed to it. You could fix this by letting wrapper_do_twice() accept one argument, but then it would not work for the say_whee() function you created earlier.\n",
    "\n",
    "The solution is to use `*args` and ` **kwargs`  in the inner wrapper function. Then it will accept an arbitrary number of positional and keyword arguments. Rewrite decorators.py as follows:"
   ]
  },
  {
   "cell_type": "code",
   "execution_count": null,
   "metadata": {},
   "outputs": [],
   "source": [
    "def do_twice(func):\n",
    "    def wrapper_do_twice(*args, **kwargs):\n",
    "        func(*args, **kwargs)\n",
    "        func(*args, **kwargs)\n",
    "    return wrapper_do_twice"
   ]
  },
  {
   "cell_type": "markdown",
   "metadata": {},
   "source": [
    "The wrapper_do_twice() inner function now accepts any number of arguments and passes them on to the function it decorates. Now both your say_whee() and greet() examples works:"
   ]
  },
  {
   "cell_type": "markdown",
   "metadata": {},
   "source": [
    "### Returning Values From Decorated Functions"
   ]
  },
  {
   "cell_type": "markdown",
   "metadata": {},
   "source": [
    "What happens to the return value of decorated functions? Well, that’s up to the decorator to decide. Let’s say you decorate a simple function as follows:"
   ]
  },
  {
   "cell_type": "code",
   "execution_count": null,
   "metadata": {},
   "outputs": [],
   "source": [
    "@do_twice\n",
    "def return_greeting(name):\n",
    "    print(\"Creating greeting\")\n",
    "    return f\"Hi {name}"
   ]
  },
  {
   "cell_type": "code",
   "execution_count": null,
   "metadata": {},
   "outputs": [],
   "source": [
    "hi_adam = return_greeting(\"Adam\")"
   ]
  },
  {
   "cell_type": "code",
   "execution_count": null,
   "metadata": {},
   "outputs": [],
   "source": [
    "print(hi_adam)"
   ]
  },
  {
   "cell_type": "markdown",
   "metadata": {},
   "source": [
    "Oops, your decorator ate the return value from the function.\n",
    "\n",
    "Because the do_twice_wrapper() doesn’t explicitly return a value, the call return_greeting(\"Adam\") ended up returning None.\n",
    "\n",
    "To fix this, you need to make sure the wrapper function returns the return value of the decorated function. Change your decorators.py file:"
   ]
  },
  {
   "cell_type": "code",
   "execution_count": null,
   "metadata": {},
   "outputs": [],
   "source": [
    "def do_twice(func):\n",
    "    def wrapper_do_twice(*args, **kwargs):\n",
    "        func(*args, **kwargs)\n",
    "        return func(*args, **kwargs)\n",
    "    return wrapper_do_twice"
   ]
  },
  {
   "cell_type": "markdown",
   "metadata": {},
   "source": [
    "The return value from the last execution of the function is returned:"
   ]
  },
  {
   "cell_type": "code",
   "execution_count": null,
   "metadata": {},
   "outputs": [],
   "source": [
    "return_greeting(\"Adam\")"
   ]
  },
  {
   "cell_type": "markdown",
   "metadata": {},
   "source": [
    "### Who Are You, Really?"
   ]
  },
  {
   "cell_type": "markdown",
   "metadata": {},
   "source": [
    "A great convenience when working with Python, especially in the interactive shell, is its powerful introspection ability. Introspection is the ability of an object to know about its own attributes at runtime. For instance, a function knows its own name and documentation:"
   ]
  },
  {
   "cell_type": "code",
   "execution_count": 27,
   "metadata": {},
   "outputs": [
    {
     "data": {
      "text/plain": [
       "<function print>"
      ]
     },
     "execution_count": 27,
     "metadata": {},
     "output_type": "execute_result"
    }
   ],
   "source": [
    "print"
   ]
  },
  {
   "cell_type": "code",
   "execution_count": 28,
   "metadata": {},
   "outputs": [
    {
     "data": {
      "text/plain": [
       "'print'"
      ]
     },
     "execution_count": 28,
     "metadata": {},
     "output_type": "execute_result"
    }
   ],
   "source": [
    "print.__name__"
   ]
  },
  {
   "cell_type": "code",
   "execution_count": 29,
   "metadata": {},
   "outputs": [
    {
     "name": "stdout",
     "output_type": "stream",
     "text": [
      "Help on built-in function print in module builtins:\n",
      "\n",
      "print(...)\n",
      "    print(value, ..., sep=' ', end='\\n', file=sys.stdout, flush=False)\n",
      "    \n",
      "    Prints the values to a stream, or to sys.stdout by default.\n",
      "    Optional keyword arguments:\n",
      "    file:  a file-like object (stream); defaults to the current sys.stdout.\n",
      "    sep:   string inserted between values, default a space.\n",
      "    end:   string appended after the last value, default a newline.\n",
      "    flush: whether to forcibly flush the stream.\n",
      "\n"
     ]
    }
   ],
   "source": [
    "help(print)"
   ]
  },
  {
   "cell_type": "markdown",
   "metadata": {},
   "source": [
    "The introspection works for functions you define yourself as well:\n",
    "\n"
   ]
  },
  {
   "cell_type": "code",
   "execution_count": 30,
   "metadata": {},
   "outputs": [
    {
     "data": {
      "text/plain": [
       "<function __main__.my_decorator.<locals>.wrapper()>"
      ]
     },
     "execution_count": 30,
     "metadata": {},
     "output_type": "execute_result"
    }
   ],
   "source": [
    "say_whee"
   ]
  },
  {
   "cell_type": "code",
   "execution_count": 31,
   "metadata": {},
   "outputs": [
    {
     "data": {
      "text/plain": [
       "'wrapper'"
      ]
     },
     "execution_count": 31,
     "metadata": {},
     "output_type": "execute_result"
    }
   ],
   "source": [
    "say_whee.__name__"
   ]
  },
  {
   "cell_type": "code",
   "execution_count": 32,
   "metadata": {},
   "outputs": [
    {
     "name": "stdout",
     "output_type": "stream",
     "text": [
      "Help on function wrapper in module __main__:\n",
      "\n",
      "wrapper()\n",
      "\n"
     ]
    }
   ],
   "source": [
    "help(say_whee)"
   ]
  },
  {
   "cell_type": "markdown",
   "metadata": {},
   "source": [
    "However, after being decorated, say_whee() has gotten very confused about its identity. It now reports being the wrapper_do_twice() inner function inside the do_twice() decorator. Although technically true, this is not very useful information.\n",
    "\n",
    "To fix this, decorators should use the @functools.wraps decorator, which will preserve information about the original function. Update decorators.py again:"
   ]
  },
  {
   "cell_type": "code",
   "execution_count": 33,
   "metadata": {},
   "outputs": [],
   "source": [
    "import functools\n",
    "\n",
    "def do_twice(func):\n",
    "    @functools.wraps(func)\n",
    "    def wrapper_do_twice(*args, **kwargs):\n",
    "        func(*args, **kwargs)\n",
    "        return func(*args, **kwargs)\n",
    "    return wrapper_do_twice"
   ]
  },
  {
   "cell_type": "markdown",
   "metadata": {},
   "source": [
    "You do not need to change anything about the decorated say_whee() function:"
   ]
  },
  {
   "cell_type": "code",
   "execution_count": 37,
   "metadata": {},
   "outputs": [],
   "source": [
    "@do_twice\n",
    "def say_whee():\n",
    "    print(\"Whee!\")"
   ]
  },
  {
   "cell_type": "code",
   "execution_count": 38,
   "metadata": {},
   "outputs": [
    {
     "data": {
      "text/plain": [
       "<function __main__.say_whee()>"
      ]
     },
     "execution_count": 38,
     "metadata": {},
     "output_type": "execute_result"
    }
   ],
   "source": [
    "say_whee"
   ]
  },
  {
   "cell_type": "code",
   "execution_count": 39,
   "metadata": {},
   "outputs": [
    {
     "data": {
      "text/plain": [
       "'say_whee'"
      ]
     },
     "execution_count": 39,
     "metadata": {},
     "output_type": "execute_result"
    }
   ],
   "source": [
    "say_whee.__name__"
   ]
  },
  {
   "cell_type": "code",
   "execution_count": 40,
   "metadata": {},
   "outputs": [
    {
     "name": "stdout",
     "output_type": "stream",
     "text": [
      "Help on function say_whee in module __main__:\n",
      "\n",
      "say_whee()\n",
      "\n"
     ]
    }
   ],
   "source": [
    "help(say_whee)"
   ]
  },
  {
   "cell_type": "markdown",
   "metadata": {},
   "source": [
    "Much better! Now say_whee() is still itself after decoration."
   ]
  },
  {
   "cell_type": "markdown",
   "metadata": {},
   "source": [
    "> Technical Detail: The @functools.wraps decorator uses the function functools.update_wrapper() to update special attributes like __name__ and __doc__ that are used in the introspection."
   ]
  },
  {
   "cell_type": "markdown",
   "metadata": {},
   "source": [
    "## A Few Real World Examples"
   ]
  },
  {
   "cell_type": "markdown",
   "metadata": {},
   "source": [
    "### Primer 1: Timing"
   ]
  },
  {
   "cell_type": "code",
   "execution_count": 25,
   "metadata": {},
   "outputs": [],
   "source": [
    "# povemo da bomo to pogleali pri benchmarkingu\n",
    "import functools\n",
    "import time\n",
    "\n",
    "def logtime(func):\n",
    "    @functools.wraps(func)\n",
    "    def wrapper(*args, **kwargs):\n",
    "        start_time = time.time() \n",
    "        result = func(*args, **kwargs)\n",
    "        total_time = time.time() - start_time\n",
    "        \n",
    "        with open('timelog.txt', 'a') as outfile:\n",
    "            outfile.write(f'[{time.time()}]\\t{func.__name__}\\t{total_time}\\n')\n",
    "            \n",
    "        return result\n",
    "    return wrapper\n",
    "\n",
    "@logtime\n",
    "def waste_some_time(num_times):\n",
    "    for _ in range(num_times):\n",
    "        sum([i**2 for i in range(10000)])"
   ]
  },
  {
   "cell_type": "code",
   "execution_count": 26,
   "metadata": {},
   "outputs": [],
   "source": [
    "waste_some_time(10)"
   ]
  },
  {
   "cell_type": "code",
   "execution_count": 27,
   "metadata": {},
   "outputs": [
    {
     "name": "stdout",
     "output_type": "stream",
     "text": [
      "[1586514172.133054]\twaste_some_time\t0.06323385238647461\r\n",
      "[1586514184.569715]\twaste_some_time\t0.06529951095581055\r\n"
     ]
    }
   ],
   "source": [
    "!cat timelog.txt"
   ]
  },
  {
   "cell_type": "code",
   "execution_count": 56,
   "metadata": {},
   "outputs": [
    {
     "name": "stdout",
     "output_type": "stream",
     "text": [
      "rm: cannot remove 'timelog.txt': No such file or directory\r\n"
     ]
    }
   ],
   "source": [
    "!rm timelog.txt"
   ]
  },
  {
   "cell_type": "markdown",
   "metadata": {},
   "source": [
    "### Primer 2: Runs once per minute"
   ]
  },
  {
   "cell_type": "code",
   "execution_count": 31,
   "metadata": {},
   "outputs": [],
   "source": [
    "import functools\n",
    "import time\n",
    "\n",
    "class CalledTooOftenError(Exception):\n",
    "    pass\n",
    "\n",
    "def once_per_minute(func):\n",
    "    last_invoked = 0\n",
    "    @functools.wraps(func)\n",
    "    def wrapper(*args, **kwargs):\n",
    "        nonlocal last_invoked\n",
    "        elapsed_time = time.time() - last_invoked\n",
    "        if elapsed_time < 60:\n",
    "            raise CalledTooOftenError(f'Only {elapsed_time} has passed')\n",
    "        last_invoked = time.time()\n",
    "        return func(*args, **kwargs)\n",
    "    return wrapper"
   ]
  },
  {
   "cell_type": "code",
   "execution_count": 32,
   "metadata": {},
   "outputs": [],
   "source": [
    "@once_per_minute\n",
    "def add(a,b):\n",
    "    return a+ b"
   ]
  },
  {
   "cell_type": "code",
   "execution_count": 33,
   "metadata": {},
   "outputs": [
    {
     "name": "stdout",
     "output_type": "stream",
     "text": [
      "4\n"
     ]
    }
   ],
   "source": [
    "print(add(2,2))"
   ]
  },
  {
   "cell_type": "code",
   "execution_count": 34,
   "metadata": {},
   "outputs": [
    {
     "ename": "CalledTooOftenError",
     "evalue": "Only 5.383094310760498 has passed",
     "output_type": "error",
     "traceback": [
      "\u001b[0;31m---------------------------------------------------------------------------\u001b[0m",
      "\u001b[0;31mCalledTooOftenError\u001b[0m                       Traceback (most recent call last)",
      "\u001b[0;32m<ipython-input-34-b4b66caaf8b6>\u001b[0m in \u001b[0;36m<module>\u001b[0;34m\u001b[0m\n\u001b[0;32m----> 1\u001b[0;31m \u001b[0mprint\u001b[0m\u001b[0;34m(\u001b[0m\u001b[0madd\u001b[0m\u001b[0;34m(\u001b[0m\u001b[0;36m2\u001b[0m\u001b[0;34m,\u001b[0m\u001b[0;36m3\u001b[0m\u001b[0;34m)\u001b[0m\u001b[0;34m)\u001b[0m\u001b[0;34m\u001b[0m\u001b[0;34m\u001b[0m\u001b[0m\n\u001b[0m",
      "\u001b[0;32m<ipython-input-31-9cbb371889d4>\u001b[0m in \u001b[0;36mwrapper\u001b[0;34m(*args, **kwargs)\u001b[0m\n\u001b[1;32m     13\u001b[0m         \u001b[0melapsed_time\u001b[0m \u001b[0;34m=\u001b[0m \u001b[0mtime\u001b[0m\u001b[0;34m.\u001b[0m\u001b[0mtime\u001b[0m\u001b[0;34m(\u001b[0m\u001b[0;34m)\u001b[0m \u001b[0;34m-\u001b[0m \u001b[0mlast_invoked\u001b[0m\u001b[0;34m\u001b[0m\u001b[0;34m\u001b[0m\u001b[0m\n\u001b[1;32m     14\u001b[0m         \u001b[0;32mif\u001b[0m \u001b[0melapsed_time\u001b[0m \u001b[0;34m<\u001b[0m \u001b[0;36m60\u001b[0m\u001b[0;34m:\u001b[0m\u001b[0;34m\u001b[0m\u001b[0;34m\u001b[0m\u001b[0m\n\u001b[0;32m---> 15\u001b[0;31m             \u001b[0;32mraise\u001b[0m \u001b[0mCalledTooOftenError\u001b[0m\u001b[0;34m(\u001b[0m\u001b[0;34mf'Only {elapsed_time} has passed'\u001b[0m\u001b[0;34m)\u001b[0m\u001b[0;34m\u001b[0m\u001b[0;34m\u001b[0m\u001b[0m\n\u001b[0m\u001b[1;32m     16\u001b[0m         \u001b[0mlast_invoked\u001b[0m \u001b[0;34m=\u001b[0m \u001b[0mtime\u001b[0m\u001b[0;34m.\u001b[0m\u001b[0mtime\u001b[0m\u001b[0;34m(\u001b[0m\u001b[0;34m)\u001b[0m\u001b[0;34m\u001b[0m\u001b[0;34m\u001b[0m\u001b[0m\n\u001b[1;32m     17\u001b[0m         \u001b[0;32mreturn\u001b[0m \u001b[0mfunc\u001b[0m\u001b[0;34m(\u001b[0m\u001b[0;34m*\u001b[0m\u001b[0margs\u001b[0m\u001b[0;34m,\u001b[0m \u001b[0;34m**\u001b[0m\u001b[0mkwargs\u001b[0m\u001b[0;34m)\u001b[0m\u001b[0;34m\u001b[0m\u001b[0;34m\u001b[0m\u001b[0m\n",
      "\u001b[0;31mCalledTooOftenError\u001b[0m: Only 5.383094310760498 has passed"
     ]
    }
   ],
   "source": [
    "print(add(2,3))"
   ]
  },
  {
   "cell_type": "markdown",
   "metadata": {},
   "source": [
    "### Primer 3: Runs once per n seconds"
   ]
  },
  {
   "cell_type": "code",
   "execution_count": 35,
   "metadata": {},
   "outputs": [],
   "source": [
    "import functools\n",
    "import time\n",
    "\n",
    "class CalledTooOftenError(Exception):\n",
    "    pass\n",
    "\n",
    "def once_per_n(n): # excetute once when we get an argument\n",
    "    def middle(func):\n",
    "        last_invoked = 0\n",
    "        @functools.wraps(func)\n",
    "        def wrapper(*args, **kwargs):\n",
    "            nonlocal last_invoked\n",
    "            elapsed_time = time.time() - last_invoked\n",
    "            if elapsed_time < n:\n",
    "                raise CalledTooOftenError(f'Only {elapsed_time} has passed')\n",
    "            last_invoked = time.time()\n",
    "            return func(*args, **kwargs)\n",
    "        return wrapper\n",
    "    return middle"
   ]
  },
  {
   "cell_type": "code",
   "execution_count": 36,
   "metadata": {},
   "outputs": [],
   "source": [
    "@once_per_n(5)\n",
    "def add(a,b):\n",
    "    return a+ b"
   ]
  },
  {
   "cell_type": "code",
   "execution_count": 40,
   "metadata": {},
   "outputs": [
    {
     "name": "stdout",
     "output_type": "stream",
     "text": [
      "4\n"
     ]
    }
   ],
   "source": [
    "print(add(2,2))"
   ]
  },
  {
   "cell_type": "code",
   "execution_count": 42,
   "metadata": {},
   "outputs": [
    {
     "name": "stdout",
     "output_type": "stream",
     "text": [
      "5\n"
     ]
    }
   ],
   "source": [
    "print(add(2,3))"
   ]
  },
  {
   "cell_type": "markdown",
   "metadata": {},
   "source": [
    "### Primer 4: Memoization"
   ]
  },
  {
   "cell_type": "code",
   "execution_count": 50,
   "metadata": {},
   "outputs": [],
   "source": [
    "import functools\n",
    "import pickle\n",
    "\n",
    "def memoize(func): \n",
    "    cache = {} #zažene se ko dekoriramo funkcijo\n",
    "    @functools.wraps(func)\n",
    "    def wrapper(*args, **kwargs): # zažene se vsakič ko je dekororana funkcija zagnana\n",
    "        t = (pickle.dumps(args), pickle.dumps(kwargs))\n",
    "        if t not in cache:\n",
    "            print(f'Caching NEW value for {func.__name__}{args}')\n",
    "            cache[t] = func(*args, **kwargs)\n",
    "        else:\n",
    "            print(f'Using OLD value for {func.__name__}{args}')\n",
    "        return cache[t]\n",
    "    return wrapper"
   ]
  },
  {
   "cell_type": "code",
   "execution_count": 51,
   "metadata": {},
   "outputs": [],
   "source": [
    "@memoize\n",
    "def add(a,b):\n",
    "    print(f'funkcija add zagnana')\n",
    "    return a+ b"
   ]
  },
  {
   "cell_type": "code",
   "execution_count": 52,
   "metadata": {},
   "outputs": [
    {
     "name": "stdout",
     "output_type": "stream",
     "text": [
      "Caching NEW value for add(2, 2)\n",
      "4\n"
     ]
    }
   ],
   "source": [
    "print(add(2,2))"
   ]
  },
  {
   "cell_type": "code",
   "execution_count": 53,
   "metadata": {},
   "outputs": [
    {
     "name": "stdout",
     "output_type": "stream",
     "text": [
      "Using OLD value for add(2, 2)\n",
      "4\n"
     ]
    }
   ],
   "source": [
    "print(add(2,2))"
   ]
  },
  {
   "cell_type": "code",
   "execution_count": 54,
   "metadata": {},
   "outputs": [
    {
     "name": "stdout",
     "output_type": "stream",
     "text": [
      "Caching NEW value for add(2, 3)\n",
      "5\n"
     ]
    }
   ],
   "source": [
    "print(add(2,3))"
   ]
  },
  {
   "cell_type": "code",
   "execution_count": 55,
   "metadata": {},
   "outputs": [
    {
     "name": "stdout",
     "output_type": "stream",
     "text": [
      "Using OLD value for add(2, 2)\n",
      "4\n"
     ]
    }
   ],
   "source": [
    "print(add(2,2))"
   ]
  },
  {
   "cell_type": "markdown",
   "metadata": {},
   "source": [
    "### Primer 5: Debugging Code"
   ]
  },
  {
   "cell_type": "markdown",
   "metadata": {},
   "source": [
    "The following @debug decorator will print the arguments a function is called with as well as its return value every time the function is called:"
   ]
  },
  {
   "cell_type": "code",
   "execution_count": 44,
   "metadata": {},
   "outputs": [],
   "source": [
    "import functools\n",
    "\n",
    "def debug(func):\n",
    "    \"\"\"Print the function signature and return value\"\"\"\n",
    "    @functools.wraps(func)\n",
    "    def wrapper_debug(*args, **kwargs):\n",
    "        args_repr = [repr(a) for a in args]                      # 1\n",
    "        kwargs_repr = [f\"{k}={v!r}\" for k, v in kwargs.items()]  # 2\n",
    "        signature = \", \".join(args_repr + kwargs_repr)           # 3\n",
    "        print(f\"Calling {func.__name__}({signature})\")\n",
    "        value = func(*args, **kwargs)\n",
    "        print(f\"{func.__name__!r} returned {value!r}\")           # 4\n",
    "        return value\n",
    "    return wrapper_debug"
   ]
  },
  {
   "cell_type": "markdown",
   "metadata": {},
   "source": [
    "The signature is created by joining the string representations of all the arguments. The numbers in the following list correspond to the numbered comments in the code:\n",
    "- Create a list of the positional arguments. Use repr() to get a nice string representing each argument.\n",
    "- Create a list of the keyword arguments. The f-string formats each argument as key=value where the !r specifier means that repr() is used to represent the value.\n",
    "- The lists of positional and keyword arguments is joined together to one signature string with each argument separated by a comma.\n",
    "- The return value is printed after the function is executed.\n",
    "\n",
    "Let’s see how the decorator works in practice by applying it to a simple function with one position and one keyword argument:"
   ]
  },
  {
   "cell_type": "markdown",
   "metadata": {},
   "source": [
    "The following example calculates an approximation to the mathematical constant e:\n",
    "\n"
   ]
  },
  {
   "cell_type": "code",
   "execution_count": 48,
   "metadata": {},
   "outputs": [],
   "source": [
    "import math\n",
    "\n",
    "# Apply a decorator to a standard library function\n",
    "math.factorial = debug(math.factorial)"
   ]
  },
  {
   "cell_type": "code",
   "execution_count": 49,
   "metadata": {},
   "outputs": [],
   "source": [
    "def approximate_e(terms=18):\n",
    "    return sum(1 / math.factorial(n) for n in range(terms))"
   ]
  },
  {
   "cell_type": "markdown",
   "metadata": {},
   "source": [
    "This example also shows how you can apply a decorator to a function that has already been defined. "
   ]
  },
  {
   "cell_type": "markdown",
   "metadata": {},
   "source": [
    "When calling the approximate_e() function, you can see the @debug decorator at work:"
   ]
  },
  {
   "cell_type": "code",
   "execution_count": 50,
   "metadata": {},
   "outputs": [
    {
     "name": "stdout",
     "output_type": "stream",
     "text": [
      "Calling factorial(0)\n",
      "'factorial' returned 1\n",
      "Calling factorial(1)\n",
      "'factorial' returned 1\n",
      "Calling factorial(2)\n",
      "'factorial' returned 2\n",
      "Calling factorial(3)\n",
      "'factorial' returned 6\n",
      "Calling factorial(4)\n",
      "'factorial' returned 24\n"
     ]
    },
    {
     "data": {
      "text/plain": [
       "2.708333333333333"
      ]
     },
     "execution_count": 50,
     "metadata": {},
     "output_type": "execute_result"
    }
   ],
   "source": [
    "approximate_e(5)"
   ]
  },
  {
   "cell_type": "markdown",
   "metadata": {},
   "source": [
    "In this example, you get a decent approximation to the true value e = 2.718281828, adding only 5 terms."
   ]
  },
  {
   "cell_type": "markdown",
   "metadata": {},
   "source": [
    "### Primer 6: Attributes"
   ]
  },
  {
   "cell_type": "markdown",
   "metadata": {},
   "source": [
    "Give many objects the same attributes, but without using inheritance."
   ]
  },
  {
   "cell_type": "markdown",
   "metadata": {},
   "source": [
    "The classes aren't related so no inheritance."
   ]
  },
  {
   "cell_type": "markdown",
   "metadata": {},
   "source": [
    "Let's improve `__repr__`"
   ]
  },
  {
   "cell_type": "code",
   "execution_count": 57,
   "metadata": {},
   "outputs": [],
   "source": [
    "def fancy_repr(self):\n",
    "    return f\"I'm a {type(self)}, with vars {vars(self)}\""
   ]
  },
  {
   "cell_type": "code",
   "execution_count": 63,
   "metadata": {},
   "outputs": [],
   "source": [
    "def better_repr(c): # decorator class\n",
    "    c.__repr__ = fancy_repr\n",
    "    @functools.wraps(c)\n",
    "    def wrapper(*args, **kwargs):\n",
    "        o = c(*args, **kwargs)\n",
    "        o._created_at = time.time()\n",
    "        return o\n",
    "    return wrapper"
   ]
  },
  {
   "cell_type": "code",
   "execution_count": 64,
   "metadata": {},
   "outputs": [
    {
     "name": "stdout",
     "output_type": "stream",
     "text": [
      "I'm a <class '__main__.Foo'>, with vars {'x': 10, 'y': [10, 20, 30], '_created_at': 1586533757.899802}\n"
     ]
    }
   ],
   "source": [
    "@better_repr\n",
    "class Foo():\n",
    "    def __init__(self, x, y):\n",
    "        self.x = x\n",
    "        self.y = y\n",
    "        \n",
    "f = Foo(10, [10,20,30])\n",
    "print(f)"
   ]
  },
  {
   "cell_type": "code",
   "execution_count": 65,
   "metadata": {},
   "outputs": [
    {
     "data": {
      "text/plain": [
       "1586533757.899802"
      ]
     },
     "execution_count": 65,
     "metadata": {},
     "output_type": "execute_result"
    }
   ],
   "source": [
    "f._created_at"
   ]
  },
  {
   "cell_type": "markdown",
   "metadata": {},
   "source": [
    "[Primeri decoratorjev](https://wiki.python.org/moin/PythonDecoratorLibrary)"
   ]
  },
  {
   "cell_type": "markdown",
   "metadata": {},
   "source": [
    "## Vaje"
   ]
  },
  {
   "cell_type": "markdown",
   "metadata": {},
   "source": [
    "### Vaja 1"
   ]
  },
  {
   "cell_type": "code",
   "execution_count": 97,
   "metadata": {},
   "outputs": [],
   "source": [
    "# brez dekoratorja\n",
    "def read_logs(path):\n",
    "    with open(path, 'r') as f:\n",
    "        file = f.readlines()\n",
    "    return file"
   ]
  },
  {
   "cell_type": "code",
   "execution_count": 98,
   "metadata": {},
   "outputs": [],
   "source": [
    "logs = read_logs('data/decorators_text.txt')"
   ]
  },
  {
   "cell_type": "code",
   "execution_count": 99,
   "metadata": {},
   "outputs": [
    {
     "data": {
      "text/plain": [
       "['2006-09-19 03:26:26 DROP UDP 172.20.73.241 239.255.255.250 2250 1900 315 - - - - - - - RECEIVE\\n',\n",
       " '2006-09-19 03:26:26 DROP UDP 172.20.73.241 239.255.255.250 2250 1900 305 - - - - - - - RECEIVE\\n',\n",
       " '2006-09-19 03:27:05 CLOSE UDP 192.168.72.12 10.20.72.186 3682 88 - - - - - - - - -\\n',\n",
       " '2006-09-19 03:27:05 CLOSE UDP 192.168.72.12 10.20.72.186 3683 88 - - - - - - - - -\\n',\n",
       " '2006-09-19 03:27:53 CLOSE TCP 192.168.72.12 10.20.72.186 3680 445 - - - - - - - - -\\n',\n",
       " '2006-09-19 03:29:24 DROP UDP 172.20.73.241 239.255.255.250 2250 1900 250 - - - - - - - RECEIVE\\n',\n",
       " '2006-09-19 03:29:24 DROP UDP 172.20.73.241 239.255.255.250 2250 1900 315 - - - - - - - RECEIVE\\n',\n",
       " '2006-09-19 03:29:24 DROP UDP 172.20.73.241 239.255.255.250 2250 1900 263 - - - - - - - RECEIVE\\n',\n",
       " '2006-09-19 03:29:24 DROP UDP 172.20.73.241 239.255.255.250 2250 1900 315 - - - - - - - RECEIVE\\n',\n",
       " '2006-09-19 03:29:24 DROP UDP 172.20.73.241 239.255.255.250 2250 1900 305 - - - - - - - RECEIVE\\n',\n",
       " '2006-09-19 03:31:15 DROP UDP 192.168.183.114 239.255.255.250 65173 1900 310 - - - - - - - RECEIVE\\n',\n",
       " '2006-09-19 03:31:15 DROP UDP 192.168.183.114 239.255.255.250 65173 1900 310 - - - - - - - RECEIVE\\n',\n",
       " '2006-09-19 03:31:15 DROP UDP 192.168.183.114 239.255.255.250 65172 1900 319 - - - - - - - RECEIVE\\n',\n",
       " '2006-09-19 03:31:15 DROP UDP 192.168.183.114 239.255.255.250 65172 1900 319 - - - - - - - RECEIVE\\n',\n",
       " '2006-09-19 03:32:17 DROP UDP 192.168.99.165 239.255.255.250 1900 1900 367 - - - - - - - RECEIVE\\n',\n",
       " '2006-09-19 03:32:17 DROP UDP 192.168.99.165 239.255.255.250 1900 1900 367 - - - - - - - RECEIVE\\n',\n",
       " '2006-09-19 03:32:17 DROP UDP 192.168.99.165 239.255.255.250 1900 1900 355 - - - - - - - RECEIVE\\n',\n",
       " '2006-09-19 03:32:17 DROP UDP 192.168.99.165 239.255.255.250 1900 1900 355 - - - - - - - RECEIVE\\n',\n",
       " '2006-09-19 03:32:17 DROP UDP 192.168.99.165 239.255.255.250 1900 1900 312 - - - - - - - RECEIVE\\n',\n",
       " '2006-09-19 03:32:17 DROP UDP 192.168.99.165 239.255.255.250 1900 1900 303 - - - - - - - RECEIVE\\n',\n",
       " '2006-09-19 03:32:17 DROP UDP 192.168.99.165 239.255.255.250 1900 1900 369 - - - - - - - RECEIVE\\n',\n",
       " '2006-09-19 03:32:21 DROP UDP 172.20.73.241 239.255.255.250 2250 1900 250 - - - - - - - RECEIVE\\n',\n",
       " '2006-09-19 03:32:21 DROP UDP 172.20.73.241 239.255.255.250 2250 1900 315 - - - - - - - RECEIVE\\n',\n",
       " '2006-09-19 03:32:21 DROP UDP 172.20.73.241 239.255.255.250 2250 1900 263 - - - - - - - RECEIVE\\n',\n",
       " '2006-09-19 03:32:21 DROP UDP 172.20.73.241 239.255.255.250 2250 1900 315 - - - - - - - RECEIVE\\n',\n",
       " '2006-09-19 03:32:21 DROP UDP 172.20.73.241 239.255.255.250 2250 1900 305 - - - - - - - RECEIVE\\n',\n",
       " '2006-09-19 03:32:24 DROP UDP 192.168.99.165 239.255.255.250 1900 1900 312 - - - - - - - RECEIVE\\n',\n",
       " '2006-09-19 03:32:24 DROP UDP 192.168.99.165 239.255.255.250 1900 1900 303 - - - - - - - RECEIVE\\n',\n",
       " '2006-09-19 03:32:24 DROP UDP 192.168.99.165 239.255.255.250 1900 1900 369 - - - - - - - RECEIVE']"
      ]
     },
     "execution_count": 99,
     "metadata": {},
     "output_type": "execute_result"
    }
   ],
   "source": [
    "logs"
   ]
  },
  {
   "cell_type": "code",
   "execution_count": 93,
   "metadata": {},
   "outputs": [],
   "source": [
    "def remove_public_ips(func):\n",
    "    @functools.wraps(func)\n",
    "    def wrapper_remove_public_ips(*args, **kwargs):\n",
    "        text = func(*args, **kwargs)\n",
    "        clean_text = []\n",
    "        for line in text:\n",
    "            line_splited = line.split()\n",
    "            src_ip = line_splited[5]\n",
    "            if not (src_ip.startswith('192.168') or src_ip.startswith('10.')):\n",
    "                line_splited[5] = 'XXX.XXX.XXX.XXX'\n",
    "                clean_line = ' '.join(line_splited)\n",
    "                clean_text.append(clean_line)\n",
    "            else:\n",
    "                clean_text.append(line)\n",
    "        return clean_text\n",
    "    return wrapper_remove_public_ips"
   ]
  },
  {
   "cell_type": "code",
   "execution_count": 94,
   "metadata": {},
   "outputs": [],
   "source": [
    "@remove_public_ips\n",
    "def read_logs(path):\n",
    "    with open(path, 'r') as f:\n",
    "        file = f.readlines()\n",
    "    return file"
   ]
  },
  {
   "cell_type": "code",
   "execution_count": 95,
   "metadata": {},
   "outputs": [],
   "source": [
    "logs = read_logs('data/decorators_text.txt')"
   ]
  },
  {
   "cell_type": "code",
   "execution_count": 96,
   "metadata": {},
   "outputs": [
    {
     "data": {
      "text/plain": [
       "['2006-09-19 03:26:26 DROP UDP 172.20.73.241 XXX.XXX.XXX.XXX 2250 1900 315 - - - - - - - RECEIVE',\n",
       " '2006-09-19 03:26:26 DROP UDP 172.20.73.241 XXX.XXX.XXX.XXX 2250 1900 305 - - - - - - - RECEIVE',\n",
       " '2006-09-19 03:27:05 CLOSE UDP 192.168.72.12 10.20.72.186 3682 88 - - - - - - - - -\\n',\n",
       " '2006-09-19 03:27:05 CLOSE UDP 192.168.72.12 10.20.72.186 3683 88 - - - - - - - - -\\n',\n",
       " '2006-09-19 03:27:53 CLOSE TCP 192.168.72.12 10.20.72.186 3680 445 - - - - - - - - -\\n',\n",
       " '2006-09-19 03:29:24 DROP UDP 172.20.73.241 XXX.XXX.XXX.XXX 2250 1900 250 - - - - - - - RECEIVE',\n",
       " '2006-09-19 03:29:24 DROP UDP 172.20.73.241 XXX.XXX.XXX.XXX 2250 1900 315 - - - - - - - RECEIVE',\n",
       " '2006-09-19 03:29:24 DROP UDP 172.20.73.241 XXX.XXX.XXX.XXX 2250 1900 263 - - - - - - - RECEIVE',\n",
       " '2006-09-19 03:29:24 DROP UDP 172.20.73.241 XXX.XXX.XXX.XXX 2250 1900 315 - - - - - - - RECEIVE',\n",
       " '2006-09-19 03:29:24 DROP UDP 172.20.73.241 XXX.XXX.XXX.XXX 2250 1900 305 - - - - - - - RECEIVE',\n",
       " '2006-09-19 03:31:15 DROP UDP 192.168.183.114 XXX.XXX.XXX.XXX 65173 1900 310 - - - - - - - RECEIVE',\n",
       " '2006-09-19 03:31:15 DROP UDP 192.168.183.114 XXX.XXX.XXX.XXX 65173 1900 310 - - - - - - - RECEIVE',\n",
       " '2006-09-19 03:31:15 DROP UDP 192.168.183.114 XXX.XXX.XXX.XXX 65172 1900 319 - - - - - - - RECEIVE',\n",
       " '2006-09-19 03:31:15 DROP UDP 192.168.183.114 XXX.XXX.XXX.XXX 65172 1900 319 - - - - - - - RECEIVE',\n",
       " '2006-09-19 03:32:17 DROP UDP 192.168.99.165 XXX.XXX.XXX.XXX 1900 1900 367 - - - - - - - RECEIVE',\n",
       " '2006-09-19 03:32:17 DROP UDP 192.168.99.165 XXX.XXX.XXX.XXX 1900 1900 367 - - - - - - - RECEIVE',\n",
       " '2006-09-19 03:32:17 DROP UDP 192.168.99.165 XXX.XXX.XXX.XXX 1900 1900 355 - - - - - - - RECEIVE',\n",
       " '2006-09-19 03:32:17 DROP UDP 192.168.99.165 XXX.XXX.XXX.XXX 1900 1900 355 - - - - - - - RECEIVE',\n",
       " '2006-09-19 03:32:17 DROP UDP 192.168.99.165 XXX.XXX.XXX.XXX 1900 1900 312 - - - - - - - RECEIVE',\n",
       " '2006-09-19 03:32:17 DROP UDP 192.168.99.165 XXX.XXX.XXX.XXX 1900 1900 303 - - - - - - - RECEIVE',\n",
       " '2006-09-19 03:32:17 DROP UDP 192.168.99.165 XXX.XXX.XXX.XXX 1900 1900 369 - - - - - - - RECEIVE',\n",
       " '2006-09-19 03:32:21 DROP UDP 172.20.73.241 XXX.XXX.XXX.XXX 2250 1900 250 - - - - - - - RECEIVE',\n",
       " '2006-09-19 03:32:21 DROP UDP 172.20.73.241 XXX.XXX.XXX.XXX 2250 1900 315 - - - - - - - RECEIVE',\n",
       " '2006-09-19 03:32:21 DROP UDP 172.20.73.241 XXX.XXX.XXX.XXX 2250 1900 263 - - - - - - - RECEIVE',\n",
       " '2006-09-19 03:32:21 DROP UDP 172.20.73.241 XXX.XXX.XXX.XXX 2250 1900 315 - - - - - - - RECEIVE',\n",
       " '2006-09-19 03:32:21 DROP UDP 172.20.73.241 XXX.XXX.XXX.XXX 2250 1900 305 - - - - - - - RECEIVE',\n",
       " '2006-09-19 03:32:24 DROP UDP 192.168.99.165 XXX.XXX.XXX.XXX 1900 1900 312 - - - - - - - RECEIVE',\n",
       " '2006-09-19 03:32:24 DROP UDP 192.168.99.165 XXX.XXX.XXX.XXX 1900 1900 303 - - - - - - - RECEIVE',\n",
       " '2006-09-19 03:32:24 DROP UDP 192.168.99.165 XXX.XXX.XXX.XXX 1900 1900 369 - - - - - - - RECEIVE']"
      ]
     },
     "execution_count": 96,
     "metadata": {},
     "output_type": "execute_result"
    }
   ],
   "source": [
    "logs"
   ]
  }
 ],
 "metadata": {
  "kernelspec": {
   "display_name": "Python 3",
   "language": "python",
   "name": "python3"
  },
  "language_info": {
   "codemirror_mode": {
    "name": "ipython",
    "version": 3
   },
   "file_extension": ".py",
   "mimetype": "text/x-python",
   "name": "python",
   "nbconvert_exporter": "python",
   "pygments_lexer": "ipython3",
   "version": "3.8.6"
  }
 },
 "nbformat": 4,
 "nbformat_minor": 2
}
