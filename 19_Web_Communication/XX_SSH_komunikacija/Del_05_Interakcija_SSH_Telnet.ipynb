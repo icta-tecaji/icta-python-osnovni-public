{
 "cells": [
  {
   "cell_type": "markdown",
   "metadata": {},
   "source": [
    "# Interakcija SSH/Telnet"
   ]
  },
  {
   "cell_type": "markdown",
   "metadata": {},
   "source": [
    "## SSH"
   ]
  },
  {
   "cell_type": "markdown",
   "metadata": {},
   "source": [
    "### Installation"
   ]
  },
  {
   "cell_type": "markdown",
   "metadata": {},
   "source": [
    "    pip3 install paramiko scp"
   ]
  },
  {
   "cell_type": "markdown",
   "metadata": {},
   "source": [
    "### Making a connection"
   ]
  },
  {
   "cell_type": "code",
   "execution_count": null,
   "metadata": {},
   "outputs": [],
   "source": [
    "import paramiko\n",
    "\n",
    "ssh_client=paramiko.SSHClient()\n",
    "ssh_client.connect(hostname='212.101.137.47', port=22, username='sshtest', password='')\n",
    "#paramiko.ssh_exception.SSHException: Server '[192.168.56.101]:2022' not found in known_hosts "
   ]
  },
  {
   "cell_type": "code",
   "execution_count": null,
   "metadata": {},
   "outputs": [],
   "source": [
    "import paramiko\n",
    "ssh_client =paramiko.SSHClient()\n",
    "ssh_client.set_missing_host_key_policy(paramiko.AutoAddPolicy())\n",
    "# bolj varna opcija - https://docs.paramiko.org/en/stable/api/client.html#paramiko.client.SSHClient.get_host_keys\n",
    "#ssh_client.load_system_host_keys()\n",
    "ssh_client.connect(hostname='212.101.137.47', port=22, username='sshtest', password='')\n",
    "# neki delamo \n",
    "print('Working')\n",
    "ssh_client.close()"
   ]
  },
  {
   "cell_type": "markdown",
   "metadata": {},
   "source": [
    "#### Setting up SSH Keys"
   ]
  },
  {
   "cell_type": "markdown",
   "metadata": {},
   "source": [
    "    ssh-keygen -t rsa"
   ]
  },
  {
   "cell_type": "markdown",
   "metadata": {},
   "source": [
    "    ssh-copy-id -i ~/.ssh/id_rsa.pub testuser@ssh-telnet-test"
   ]
  },
  {
   "cell_type": "code",
   "execution_count": null,
   "metadata": {},
   "outputs": [],
   "source": [
    "import paramiko\n",
    "ssh_client =paramiko.SSHClient()\n",
    "#ssh_client.set_missing_host_key_policy(paramiko.AutoAddPolicy())\n",
    "# bolj varna opcija - https://docs.paramiko.org/en/stable/api/client.html#paramiko.client.SSHClient.get_host_keys\n",
    "ssh_client.load_system_host_keys()\n",
    "ssh_client.connect(hostname='212.101.137.47', port=22, username='sshtest', passphrase='leons')\n",
    "# neki delamo \n",
    "print('Working')\n",
    "ssh_client.close()"
   ]
  },
  {
   "cell_type": "markdown",
   "metadata": {},
   "source": [
    "### Running commands on the remote machine"
   ]
  },
  {
   "cell_type": "markdown",
   "metadata": {},
   "source": [
    "    stdin,stdout,stderr=ssh_client.exec_command(“ls”)"
   ]
  },
  {
   "cell_type": "markdown",
   "metadata": {},
   "source": [
    "    # branje vrednosti\n",
    "    print(stdout.readlines())\n",
    "    print(stderr.readlines())"
   ]
  },
  {
   "cell_type": "code",
   "execution_count": null,
   "metadata": {},
   "outputs": [],
   "source": [
    "import paramiko\n",
    "\n",
    "def execute_command(client, command):\n",
    "    \"\"\"Execute command in succession.\"\"\"\n",
    "    stdin, stdout, stderr = client.exec_command(command)\n",
    "    status = stdout.channel.recv_exit_status()\n",
    "    if status != 0:\n",
    "        print(f'Status: {status}, message: {stderr.readlines()}')\n",
    "    response = stdout.readlines()\n",
    "    client.close()\n",
    "    print(response)\n",
    "\n",
    "ssh_client = paramiko.SSHClient()\n",
    "ssh_client.set_missing_host_key_policy(paramiko.AutoAddPolicy())\n",
    "ssh_client.connect(hostname='ssh-telnet-test', port=22, username='testuser', password='test')\n",
    "command = \"uname -a\"\n",
    "\n",
    "execute_command(ssh_client, command)"
   ]
  },
  {
   "cell_type": "markdown",
   "metadata": {},
   "source": [
    "#### COMMANDS REQUIRING INPUT"
   ]
  },
  {
   "cell_type": "code",
   "execution_count": null,
   "metadata": {},
   "outputs": [],
   "source": [
    "ssh_client.load_system_host_keys()\n",
    "ssh_client.connect(hostname='212.101.137.47', port=22, username='sshtest', passphrase='leons')\n",
    "\n",
    "stdin, stdout, stderr = ssh_client.exec_command(\"sudo ls -la\")\n",
    "stdin.write(\"EnoVelikoDrevoCesenj12!\")\n",
    "stdin.write(\"\\n\")\n",
    "stdin.flush()\n",
    "print(stdout.readlines())\n",
    "print(stderr.readlines())\n",
    "\n",
    "print('Working')\n",
    "ssh_client.close()"
   ]
  },
  {
   "cell_type": "markdown",
   "metadata": {},
   "source": [
    "## Primer: Create a SSH/SCP program"
   ]
  },
  {
   "cell_type": "markdown",
   "metadata": {},
   "source": [
    "### Starting our Script"
   ]
  },
  {
   "cell_type": "code",
   "execution_count": null,
   "metadata": {},
   "outputs": [],
   "source": [
    "# config.py\n",
    "\"\"\"Configuration module.\"\"\"\n",
    "from os import environ\n",
    "\n",
    "host = environ.get('REMOTE_HOST')\n",
    "user = environ.get('REMOTE_USERNAME')\n",
    "password = environ.get('REMOTE_PASSWORD')\n",
    "\n",
    "remote_path = environ.get('REMOTE_PATH')\n",
    "local_path = '/home/plume/data'"
   ]
  },
  {
   "cell_type": "markdown",
   "metadata": {},
   "source": [
    "### Creating an SSH Client"
   ]
  },
  {
   "cell_type": "code",
   "execution_count": null,
   "metadata": {},
   "outputs": [],
   "source": [
    "# client.py\n",
    "class RemoteClient:\n",
    "    \"\"\"Client to interact with a remote host via SSH & SCP.\"\"\"\n",
    "\n",
    "    def __init__(self, host, user, password, remote_path):\n",
    "        self.host = host\n",
    "        self.user = user\n",
    "        self.password = password\n",
    "        self.remote_path = remote_path\n",
    "        self.client = None\n",
    "        self.scp = None"
   ]
  },
  {
   "cell_type": "code",
   "execution_count": null,
   "metadata": {},
   "outputs": [],
   "source": [
    "# client.py\n",
    "\"\"\"Remote host object to handle connections and actions.\"\"\"\n",
    "from paramiko import SSHClient, AutoAddPolicy, RSAKey\n",
    "from paramiko.auth_handler import AuthenticationException, SSHException\n",
    "\n",
    "\n",
    "class RemoteClient:\n",
    "    \"\"\"Client to interact with a remote host via SSH & SCP.\"\"\"\n",
    "\n",
    "    def __init__(self, host, user, password, remote_path):\n",
    "        self.host = host\n",
    "        self.user = user\n",
    "        self.password = password\n",
    "        self.remote_path = remote_path\n",
    "        self.client = None\n",
    "        self.scp = None\n"
   ]
  },
  {
   "cell_type": "markdown",
   "metadata": {},
   "source": [
    "### Uploading SSH Keys to a Remote Host"
   ]
  },
  {
   "cell_type": "code",
   "execution_count": null,
   "metadata": {},
   "outputs": [],
   "source": [
    "\"\"\"Remote host object to handle connections and actions.\"\"\"\n",
    "import sys\n",
    "from loguru import logger\n",
    "from os import system\n",
    "from paramiko import SSHClient, AutoAddPolicy\n",
    "from scp import SCPClient, SCPException\n",
    "\n",
    "\n",
    "logger.add(sys.stderr,\n",
    "           format=\"{time} {message}\",\n",
    "           filter=\"client\",\n",
    "           level=\"INFO\")\n",
    "logger.add('logs/log_{time:YYYY-MM-DD}.log',\n",
    "           format=\"{time} {level} {message}\",\n",
    "           filter=\"client\",\n",
    "           level=\"ERROR\")\n",
    "\n",
    "\n",
    "class RemoteClient:\n",
    "    \"\"\"Client to interact with a remote host via SSH & SCP.\"\"\"\n",
    "    def __init__(self, host, user, password=None, passphrase=None, remote_path='~/', port=22):\n",
    "        self.host = host\n",
    "        self.user = user\n",
    "        self.password = password\n",
    "        self.passphrase = passphrase\n",
    "        self.remote_path = remote_path\n",
    "        self.port = port\n",
    "        self.client = None\n",
    "        self.scp = None"
   ]
  },
  {
   "cell_type": "markdown",
   "metadata": {},
   "source": [
    "    RSAKey.from_private_key_file(self.ssh_key_filepath)"
   ]
  },
  {
   "cell_type": "markdown",
   "metadata": {},
   "source": [
    "    ssh-copy-id -i ~/.ssh/mykey user@host"
   ]
  },
  {
   "cell_type": "markdown",
   "metadata": {},
   "source": [
    "    system(f'ssh-copy-id -i {self.ssh_key_filepath} {self.user}@{self.host}>/dev/null 2>&1')"
   ]
  },
  {
   "cell_type": "markdown",
   "metadata": {},
   "source": [
    "> \\> is for redirect /dev/null is a black hole where any data sent, will be discarded. 2 is the file descriptor for Standard Error. > is for redirect. & is the symbol for file descriptor (without it, the following 1 would be considered a filename). 1 is the file descriptor for Standard O."
   ]
  },
  {
   "cell_type": "markdown",
   "metadata": {},
   "source": [
    "### Connecting to our Client"
   ]
  },
  {
   "cell_type": "code",
   "execution_count": null,
   "metadata": {},
   "outputs": [],
   "source": [
    "class RemoteClient:\n",
    "    \"\"\"Client to interact with a remote host via SSH & SCP.\"\"\"\n",
    "\n",
    "    #...\n",
    "    def __connect(self):\n",
    "        \"\"\"Open connection to remote host.\"\"\"\n",
    "        self.client = SSHClient()\n",
    "        self.client.set_missing_host_key_policy(AutoAddPolicy())\n",
    "        self.client.load_system_host_keys()\n",
    "        self.client.connect(self.host,\n",
    "                            username=self.user,\n",
    "                            timeout=5000,\n",
    "                            port=self.port,\n",
    "                            passphrase=self.passphrase,\n",
    "                            password=self.password\n",
    "                            )\n",
    "        self.scp = SCPClient(self.client.get_transport())\n",
    "        return self.client"
   ]
  },
  {
   "cell_type": "markdown",
   "metadata": {},
   "source": [
    "### Disconnecting"
   ]
  },
  {
   "cell_type": "code",
   "execution_count": null,
   "metadata": {},
   "outputs": [],
   "source": [
    "class RemoteClient:\n",
    "    #...\n",
    "\n",
    "    def disconnect(self):\n",
    "        \"\"\"Close ssh connection.\"\"\"\n",
    "        self.client.close()\n",
    "        self.scp.close()\n"
   ]
  },
  {
   "cell_type": "markdown",
   "metadata": {},
   "source": [
    "### Executing Unix Commands"
   ]
  },
  {
   "cell_type": "code",
   "execution_count": null,
   "metadata": {},
   "outputs": [],
   "source": [
    "class RemoteClient:\n",
    "    #...\n",
    "\n",
    "    def execute_commands(self, commands):\n",
    "        \"\"\"Execute multiple commands in succession.\"\"\"\n",
    "        if self.client is None:\n",
    "            self.client = self.__connect()\n",
    "        for cmd in commands:\n",
    "            stdin, stdout, stderr = self.client.exec_command(cmd)\n",
    "            stdout.channel.recv_exit_status()\n",
    "            response = stdout.readlines()\n",
    "            for line in response:\n",
    "                logger.info(f'INPUT: {cmd} | OUTPUT: {line}')"
   ]
  },
  {
   "cell_type": "markdown",
   "metadata": {},
   "source": [
    "    remote.execute_commands(['cd /var/www/ && ls',\n",
    "                            'tail /var/log/nginx/access.log',\n",
    "                            'ps aux | grep node'])"
   ]
  },
  {
   "cell_type": "markdown",
   "metadata": {},
   "source": [
    "### Uploading (and Downloading) Files via SCP"
   ]
  },
  {
   "cell_type": "markdown",
   "metadata": {},
   "source": [
    "    self.scp = SCPClient(self.client.get_transport())"
   ]
  },
  {
   "cell_type": "code",
   "execution_count": null,
   "metadata": {},
   "outputs": [],
   "source": [
    "class RemoteClient:\n",
    "    #...\n",
    "\n",
    "    def bulk_upload(self, files):\n",
    "        \"\"\"Upload multiple files to a remote directory.\"\"\"\n",
    "        if self.client is None:\n",
    "            self.client = self.__connect()\n",
    "        uploads = [self.__upload_single_file(file) for file in files]\n",
    "        logger.info(f'Finished uploading {len(uploads)} files to {self.remote_path} on {self.host}')\n",
    "\n",
    "    def __upload_single_file(self, file):\n",
    "        \"\"\"Upload a single file to a remote directory.\"\"\"\n",
    "        try:\n",
    "            self.scp.put(file,\n",
    "                         recursive=True,\n",
    "                         remote_path=self.remote_path)\n",
    "        except SCPException as error:\n",
    "            logger.error(error)\n",
    "            raise error\n",
    "        finally:\n",
    "            logger.info(f'Uploaded {file} to {self.remote_path}')"
   ]
  },
  {
   "cell_type": "code",
   "execution_count": null,
   "metadata": {},
   "outputs": [],
   "source": [
    "class RemoteClient:\n",
    "\n",
    "    #...\n",
    "\n",
    "    def download_file(self, file):\n",
    "        \"\"\"Download file from remote host.\"\"\"\n",
    "        if self.client is None:\n",
    "            self.client = self.__connect()\n",
    "        self.scp.get(file)"
   ]
  },
  {
   "cell_type": "markdown",
   "metadata": {},
   "source": [
    "### Run the script"
   ]
  },
  {
   "cell_type": "markdown",
   "metadata": {},
   "source": [
    "> npr.:  `export REMOTE_HOST=ssh-telnet-test`"
   ]
  },
  {
   "cell_type": "code",
   "execution_count": null,
   "metadata": {},
   "outputs": [],
   "source": [
    "\"\"\"Perform tasks against a remote host.\"\"\"\n",
    "from client import RemoteClient\n",
    "from files import fetch_local_files\n",
    "\n",
    "host = 'ssh-telnet-test'\n",
    "port = 22\n",
    "# credentials\n",
    "user='testuser'\n",
    "password='test'\n",
    "passphrase='plume'\n",
    "# file upload\n",
    "local_file_directory='/home/plume/vsebina/osnovni_tecaj/11_Interakcija_SSH_Telnet/skripte/ssh_scp_module/data'\n",
    "remote_path='/home/testuser/data'\n",
    "\n",
    "def remote = RemoteClient(host, user, passphrase=passphrase, password=password, remote_path=remote_path, port=22)():\n",
    "    \"\"\"Initialize remote host client and execute actions.\"\"\"\n",
    "    remote = RemoteClient(host, user, passphrase=passphrase, password=password, remote_path=remote_path, port=22)\n",
    "    #execute_command_on_remote(remote)\n",
    "    download_file_from_remote(remote)\n",
    "    #upload_files_to_remote(remote)\n",
    "    remote.disconnect()\n",
    "    \n",
    "def upload_files_to_remote(remote):\n",
    "    \"\"\"Upload files to remote via SCP.\"\"\"\n",
    "    files = fetch_local_files(local_file_directory)\n",
    "    remote.bulk_upload(files)\n",
    "\n",
    "def download_file_from_remote(remote):\n",
    "    remote.download_file('/home/testuser/some.txt')\n",
    "\n",
    "\n",
    "def execute_command_on_remote(remote):\n",
    "    \"\"\"Execute UNIX command on the remote host.\"\"\"\n",
    "    remote.execute_commands(['uname -a'])\n",
    "\n",
    "main()"
   ]
  },
  {
   "cell_type": "markdown",
   "metadata": {},
   "source": [
    "## Telnet"
   ]
  },
  {
   "cell_type": "markdown",
   "metadata": {},
   "source": [
    "`class telnetlib.Telnet(host=None, port=0[, timeout])`"
   ]
  },
  {
   "cell_type": "code",
   "execution_count": null,
   "metadata": {},
   "outputs": [],
   "source": [
    "from telnetlib import Telnet\n",
    "\n",
    "with Telnet('localhost', 23) as tn:\n",
    "    tn.interact()"
   ]
  },
  {
   "cell_type": "markdown",
   "metadata": {},
   "source": [
    "`Telnet.read_until(expected, timeout=None)`"
   ]
  },
  {
   "cell_type": "markdown",
   "metadata": {},
   "source": [
    "`Telnet.write(buffer)`"
   ]
  },
  {
   "cell_type": "markdown",
   "metadata": {},
   "source": [
    "`Telnet.read_all()`"
   ]
  },
  {
   "cell_type": "markdown",
   "metadata": {},
   "source": [
    "`getpass.getpass(prompt='Password: ', stream=None)`"
   ]
  },
  {
   "cell_type": "markdown",
   "metadata": {},
   "source": [
    "[getpass — Portable password input](https://docs.python.org/3.8/library/getpass.html)"
   ]
  },
  {
   "cell_type": "code",
   "execution_count": null,
   "metadata": {},
   "outputs": [],
   "source": [
    "import getpass\n",
    "import telnetlib\n",
    "\n",
    "HOST = \"ssh-telnet-test\"\n",
    "\n",
    "user = 'testuser' \n",
    "#user = input(\"Enter your remote account: \")\n",
    "\n",
    "password = 'test' \n",
    "#password = getpass.getpass()\n",
    "\n",
    "\n",
    "with telnetlib.Telnet(HOST) as tn:\n",
    "    tn.read_until(b\"login: \")\n",
    "    tn.write(user.encode('ascii') + b\"\\n\")\n",
    "\n",
    "    if password:\n",
    "        tn.read_until(b\"Password: \")\n",
    "        tn.write(password.encode('ascii') + b\"\\n\")\n",
    "\n",
    "    tn.write(b\"ls\\n\")\n",
    "    tn.write(b\"mkdir /home/testuser/telnet-test \\n\")\n",
    "\n",
    "    tn.write(b\"exit\\n\")\n",
    "\n",
    "    print(tn.read_all().decode('ascii'))"
   ]
  },
  {
   "cell_type": "markdown",
   "metadata": {},
   "source": [
    "### Primer uporabe: Telnet"
   ]
  },
  {
   "cell_type": "code",
   "execution_count": null,
   "metadata": {},
   "outputs": [],
   "source": [
    "import getpass\n",
    "import telnetlib\n",
    "\n",
    "def create_dirs(dir_list, path, host, user, password, port=23):\n",
    "    with telnetlib.Telnet(host, port) as tn:\n",
    "        print(f\"--> connected to host: {host} on port: {port}\")\n",
    "        \n",
    "        tn.read_until(b\"login: \")\n",
    "        tn.write(user.encode('ascii') + b\"\\n\")\n",
    "\n",
    "        if password:\n",
    "            tn.read_until(b\"Password: \")\n",
    "            tn.write(password.encode('ascii') + b\"\\n\")\n",
    "        \n",
    "        print(f\"--> succsessful login for user: {user}\")\n",
    "            \n",
    "        for dir_name in dir_list:\n",
    "            path_name = f'{path}/{dir_name}'\n",
    "            command = f'mkdir -v {path_name}\\n'\n",
    "            tn.write(command.encode('ascii'))\n",
    "            succsess_mesage = f\"mkdir: created directory '{path_name}'\".encode('ascii')\n",
    "            res = tn.read_until(succsess_mesage, timeout=2)\n",
    "            if succsess_mesage in res:\n",
    "                print(f'--> {dir_name} created successfully')\n",
    "            else:\n",
    "                print(f'--> {dir_name} creation failed')\n",
    "\n",
    "        tn.write(b\"exit\\n\")\n",
    "        print(tn.read_all().decode('ascii'))\n",
    "\n",
    "\n",
    "create_dirs(['dir1', 'dir2', 'dir3'], path='/home/testuser/telnet-test', \n",
    "                    host='ssh-telnet-test',\n",
    "                    user='testuser',\n",
    "                    password='test')"
   ]
  }
 ],
 "metadata": {
  "kernelspec": {
   "display_name": "Python 3 (ipykernel)",
   "language": "python",
   "name": "python3"
  },
  "language_info": {
   "codemirror_mode": {
    "name": "ipython",
    "version": 3
   },
   "file_extension": ".py",
   "mimetype": "text/x-python",
   "name": "python",
   "nbconvert_exporter": "python",
   "pygments_lexer": "ipython3",
   "version": "3.9.2"
  }
 },
 "nbformat": 4,
 "nbformat_minor": 2
}
