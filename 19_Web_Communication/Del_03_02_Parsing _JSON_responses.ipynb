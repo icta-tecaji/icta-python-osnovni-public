{
 "cells": [
  {
   "cell_type": "markdown",
   "metadata": {},
   "source": [
    "# Del 03: Web Communication and Web Scraping"
   ]
  },
  {
   "cell_type": "markdown",
   "metadata": {},
   "source": [
    "# Parsing JSON responses"
   ]
  },
  {
   "cell_type": "markdown",
   "metadata": {},
   "source": [
    "For your introductory example, you’ll use JSONPlaceholder, a great source of fake JSON data for practice purposes."
   ]
  },
  {
   "cell_type": "markdown",
   "metadata": {},
   "source": [
    "You’ll need to make an API request to the JSONPlaceholder service, so just use the requests package to do the heavy lifting. Add these imports at the top of your file:"
   ]
  },
  {
   "cell_type": "code",
   "execution_count": 1,
   "metadata": {},
   "outputs": [],
   "source": [
    "import json\n",
    "import requests"
   ]
  },
  {
   "cell_type": "markdown",
   "metadata": {},
   "source": [
    "Go ahead and make a request to the JSONPlaceholder API for the /todos endpoint. If you’re unfamiliar with requests, there’s actually a handy json() method that will do all of the work for you, but you can practice using the json library to deserialize the text attribute of the response object. It should look something like this:"
   ]
  },
  {
   "cell_type": "code",
   "execution_count": 2,
   "metadata": {},
   "outputs": [],
   "source": [
    "response = requests.get(\"https://jsonplaceholder.typicode.com/todos\")\n",
    "todos = json.loads(response.text)"
   ]
  },
  {
   "cell_type": "markdown",
   "metadata": {},
   "source": [
    "You don’t believe this works? Fine, run the file in interactive mode and test it for yourself. While you’re at it, check the type of todos. If you’re feeling adventurous, take a peek at the first 10 or so items in the list.\n",
    "\n"
   ]
  },
  {
   "cell_type": "code",
   "execution_count": 4,
   "metadata": {},
   "outputs": [
    {
     "data": {
      "text/plain": [
       "True"
      ]
     },
     "execution_count": 4,
     "metadata": {},
     "output_type": "execute_result"
    }
   ],
   "source": [
    "todos == response.json()"
   ]
  },
  {
   "cell_type": "code",
   "execution_count": 5,
   "metadata": {},
   "outputs": [
    {
     "data": {
      "text/plain": [
       "list"
      ]
     },
     "execution_count": 5,
     "metadata": {},
     "output_type": "execute_result"
    }
   ],
   "source": [
    "type(todos)"
   ]
  },
  {
   "cell_type": "code",
   "execution_count": 7,
   "metadata": {},
   "outputs": [
    {
     "data": {
      "text/plain": [
       "[{'userId': 1, 'id': 1, 'title': 'delectus aut autem', 'completed': False},\n",
       " {'userId': 1,\n",
       "  'id': 2,\n",
       "  'title': 'quis ut nam facilis et officia qui',\n",
       "  'completed': False},\n",
       " {'userId': 1, 'id': 3, 'title': 'fugiat veniam minus', 'completed': False},\n",
       " {'userId': 1, 'id': 4, 'title': 'et porro tempora', 'completed': True},\n",
       " {'userId': 1,\n",
       "  'id': 5,\n",
       "  'title': 'laboriosam mollitia et enim quasi adipisci quia provident illum',\n",
       "  'completed': False}]"
      ]
     },
     "execution_count": 7,
     "metadata": {},
     "output_type": "execute_result"
    }
   ],
   "source": [
    "todos[:5]"
   ]
  },
  {
   "cell_type": "markdown",
   "metadata": {},
   "source": [
    "There are multiple users, each with a unique userId, and each task has a Boolean completed property. Can you determine which users have completed the most tasks?"
   ]
  },
  {
   "cell_type": "code",
   "execution_count": 8,
   "metadata": {},
   "outputs": [],
   "source": [
    "# Map of userId to number of complete TODOs for that user\n",
    "todos_by_user = {}"
   ]
  },
  {
   "cell_type": "code",
   "execution_count": 9,
   "metadata": {},
   "outputs": [],
   "source": [
    "# Increment complete TODOs count for each user.\n",
    "for todo in todos:\n",
    "    if todo[\"completed\"]:\n",
    "        try:\n",
    "            # Increment the existing user's count.\n",
    "            todos_by_user[todo[\"userId\"]] += 1\n",
    "        except KeyError:\n",
    "            # This user has not been seen. Set their count to 1.\n",
    "            todos_by_user[todo[\"userId\"]] = 1"
   ]
  },
  {
   "cell_type": "code",
   "execution_count": 12,
   "metadata": {},
   "outputs": [
    {
     "data": {
      "text/plain": [
       "{1: 11, 2: 8, 3: 7, 4: 6, 5: 12, 6: 6, 7: 9, 8: 11, 9: 8, 10: 12}"
      ]
     },
     "execution_count": 12,
     "metadata": {},
     "output_type": "execute_result"
    }
   ],
   "source": [
    "todos_by_user"
   ]
  },
  {
   "cell_type": "code",
   "execution_count": 10,
   "metadata": {},
   "outputs": [],
   "source": [
    "# Create a sorted list of (userId, num_complete) pairs.\n",
    "top_users = sorted(todos_by_user.items(), key=lambda x: x[1], reverse=True)"
   ]
  },
  {
   "cell_type": "code",
   "execution_count": 11,
   "metadata": {},
   "outputs": [
    {
     "data": {
      "text/plain": [
       "[(5, 12),\n",
       " (10, 12),\n",
       " (1, 11),\n",
       " (8, 11),\n",
       " (7, 9),\n",
       " (2, 8),\n",
       " (9, 8),\n",
       " (3, 7),\n",
       " (4, 6),\n",
       " (6, 6)]"
      ]
     },
     "execution_count": 11,
     "metadata": {},
     "output_type": "execute_result"
    }
   ],
   "source": [
    "top_users"
   ]
  },
  {
   "cell_type": "code",
   "execution_count": 13,
   "metadata": {},
   "outputs": [],
   "source": [
    "# Get the maximum number of complete TODOs.\n",
    "max_complete = top_users[0][1]"
   ]
  },
  {
   "cell_type": "code",
   "execution_count": 16,
   "metadata": {},
   "outputs": [
    {
     "data": {
      "text/plain": [
       "['5', '10']"
      ]
     },
     "execution_count": 16,
     "metadata": {},
     "output_type": "execute_result"
    }
   ],
   "source": [
    "# Create a list of all users who have completed\n",
    "# the maximum number of TODOs.\n",
    "users = []\n",
    "for user, num_complete in top_users:\n",
    "    if num_complete < max_complete:\n",
    "        break\n",
    "    users.append(str(user))\n",
    "\n",
    "users"
   ]
  },
  {
   "cell_type": "markdown",
   "metadata": {},
   "source": [
    "## Vaja: Parsing user data"
   ]
  },
  {
   "cell_type": "code",
   "execution_count": 46,
   "metadata": {},
   "outputs": [],
   "source": [
    "class LoadUserApi():\n",
    "    def __init__(self):\n",
    "        self.url = 'https://jsonplaceholder.typicode.com/users'\n",
    "        self.users_list = self._get_user_data()\n",
    "        self.__dict__ = self._transfrom_json_list_to_dict()\n",
    "        \n",
    "    def _get_user_data(self):\n",
    "        response = requests.get(self.url)\n",
    "        all_users = response.json()\n",
    "        return all_users\n",
    "    \n",
    "    def _transfrom_json_list_to_dict(self):\n",
    "        users_dict = {}\n",
    "        for user in self.users_list:\n",
    "            users_dict[user['username']] = user\n",
    "        return users_dict"
   ]
  },
  {
   "cell_type": "code",
   "execution_count": 47,
   "metadata": {},
   "outputs": [],
   "source": [
    "users = LoadUserApi()"
   ]
  },
  {
   "cell_type": "code",
   "execution_count": 52,
   "metadata": {},
   "outputs": [
    {
     "data": {
      "text/plain": [
       "{'id': 8,\n",
       " 'name': 'Nicholas Runolfsdottir V',\n",
       " 'username': 'Maxime_Nienow',\n",
       " 'email': 'Sherwood@rosamond.me',\n",
       " 'address': {'street': 'Ellsworth Summit',\n",
       "  'suite': 'Suite 729',\n",
       "  'city': 'Aliyaview',\n",
       "  'zipcode': '45169',\n",
       "  'geo': {'lat': '-14.3990', 'lng': '-120.7677'}},\n",
       " 'phone': '586.493.6943 x140',\n",
       " 'website': 'jacynthe.com',\n",
       " 'company': {'name': 'Abernathy Group',\n",
       "  'catchPhrase': 'Implemented secondary concept',\n",
       "  'bs': 'e-enable extensible e-tailers'}}"
      ]
     },
     "execution_count": 52,
     "metadata": {},
     "output_type": "execute_result"
    }
   ],
   "source": [
    "users.Maxime_Nienow"
   ]
  }
 ],
 "metadata": {
  "kernelspec": {
   "display_name": "Python 3",
   "language": "python",
   "name": "python3"
  },
  "language_info": {
   "codemirror_mode": {
    "name": "ipython",
    "version": 3
   },
   "file_extension": ".py",
   "mimetype": "text/x-python",
   "name": "python",
   "nbconvert_exporter": "python",
   "pygments_lexer": "ipython3",
   "version": "3.8.6"
  }
 },
 "nbformat": 4,
 "nbformat_minor": 4
}
