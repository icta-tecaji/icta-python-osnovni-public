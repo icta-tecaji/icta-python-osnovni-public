{
 "cells": [
  {
   "cell_type": "markdown",
   "metadata": {},
   "source": [
    "# Interakcija SSH/Telnet"
   ]
  },
  {
   "cell_type": "markdown",
   "metadata": {},
   "source": [
    "Viri:\n",
    "- [Welcome to Paramiko!](http://www.paramiko.org/)\n",
    "- [SSH & SCP in Python with Paramiko](https://hackersandslackers.com/automate-ssh-scp-python-paramiko/)\n",
    "- http://www.fabfile.org/ -> dodaj"
   ]
  },
  {
   "cell_type": "markdown",
   "metadata": {},
   "source": [
    "## SSH"
   ]
  },
  {
   "cell_type": "markdown",
   "metadata": {},
   "source": [
    "Cloud providers have made a killing from neatly-packaged managed services for years. Whether it be databases or message brokers, developers like ourselves don't seem to have a problem paying a bit extra to have things taken care of. But wait, aren't we typically the last people to opt for less optimization and less control? Why is this the time we decide otherwise? If I had to make a guess, I'd wager it's because server-side DevOps kind of sucks.\n",
    "\n",
    "As a developer, configuring or debugging a VPS is usually work which is unaccounted for, and it isn't particularly rewarding. At best, your application will probably end up running the same as your local environment. How could we make this inevitable part of our jobs better? Well, we could automate  it.\n",
    "\n",
    "paramiko and scp are two Python libraries we can use together to automate tasks we'd want to run on a remote host such as restarting services, making updates, or grabbing log files. We're going to take a look at what scripting with these libraries looks like. Fair warning: there's a sizable amount of code in this tutorial, which tends to make me excited enough to coerce others into my manic code-tutorial episodes. If you ever begin to feel lost, the full repo can be found here: https://github.com/hackersandslackers/paramiko-tutorial/tree/master/paramiko_tutorial"
   ]
  },
  {
   "cell_type": "markdown",
   "metadata": {},
   "source": [
    "> Paramiko is a Python (2.7, 3.4+) implementation of the SSHv2 protocol, providing both client and server functionality. While it leverages a Python C extension for low level cryptography (Cryptography), Paramiko itself is a pure Python interface around SSH networking concepts."
   ]
  },
  {
   "cell_type": "markdown",
   "metadata": {},
   "source": [
    "> [Pure python scp module](https://github.com/jbardin/scp.py) he scp.py module uses a paramiko transport to send and recieve files via the scp1 protocol. This is the protocol as referenced from the openssh scp program, and has only been tested with this implementation."
   ]
  },
  {
   "cell_type": "markdown",
   "metadata": {},
   "source": [
    "### Installation"
   ]
  },
  {
   "cell_type": "markdown",
   "metadata": {},
   "source": [
    "Let's install our libraries. Fire up whichever virtual environment you prefer and let em rip:"
   ]
  },
  {
   "cell_type": "markdown",
   "metadata": {},
   "source": [
    "    pip3 install paramiko scp"
   ]
  },
  {
   "cell_type": "markdown",
   "metadata": {},
   "source": [
    "### Making a connection"
   ]
  },
  {
   "cell_type": "markdown",
   "metadata": {},
   "source": [
    "The primary client of Paramiko as documented in the API, is Paramiko.SSHClient. An instance of the Paramiko.SSHClient can be used to make connections to the remote server and transfer files."
   ]
  },
  {
   "cell_type": "code",
   "execution_count": 2,
   "metadata": {},
   "outputs": [
    {
     "ename": "SSHException",
     "evalue": "Server '212.101.137.47' not found in known_hosts",
     "output_type": "error",
     "traceback": [
      "\u001b[0;31m---------------------------------------------------------------------------\u001b[0m",
      "\u001b[0;31mSSHException\u001b[0m                              Traceback (most recent call last)",
      "\u001b[0;32m<ipython-input-2-c06daa971a9e>\u001b[0m in \u001b[0;36m<module>\u001b[0;34m\u001b[0m\n\u001b[1;32m      2\u001b[0m \u001b[0;34m\u001b[0m\u001b[0m\n\u001b[1;32m      3\u001b[0m \u001b[0mssh_client\u001b[0m\u001b[0;34m=\u001b[0m\u001b[0mparamiko\u001b[0m\u001b[0;34m.\u001b[0m\u001b[0mSSHClient\u001b[0m\u001b[0;34m(\u001b[0m\u001b[0;34m)\u001b[0m\u001b[0;34m\u001b[0m\u001b[0;34m\u001b[0m\u001b[0m\n\u001b[0;32m----> 4\u001b[0;31m \u001b[0mssh_client\u001b[0m\u001b[0;34m.\u001b[0m\u001b[0mconnect\u001b[0m\u001b[0;34m(\u001b[0m\u001b[0mhostname\u001b[0m\u001b[0;34m=\u001b[0m\u001b[0;34m'212.101.137.47'\u001b[0m\u001b[0;34m,\u001b[0m \u001b[0mport\u001b[0m\u001b[0;34m=\u001b[0m\u001b[0;36m22\u001b[0m\u001b[0;34m,\u001b[0m \u001b[0musername\u001b[0m\u001b[0;34m=\u001b[0m\u001b[0;34m'sshtest'\u001b[0m\u001b[0;34m,\u001b[0m \u001b[0mpassword\u001b[0m\u001b[0;34m=\u001b[0m\u001b[0;34m'EnoVelikoDrevoCesenj12!'\u001b[0m\u001b[0;34m)\u001b[0m\u001b[0;34m\u001b[0m\u001b[0;34m\u001b[0m\u001b[0m\n\u001b[0m\u001b[1;32m      5\u001b[0m \u001b[0;31m#paramiko.ssh_exception.SSHException: Server '[192.168.56.101]:2022' not found in known_hosts\u001b[0m\u001b[0;34m\u001b[0m\u001b[0;34m\u001b[0m\u001b[0;34m\u001b[0m\u001b[0m\n",
      "\u001b[0;32m~/python-napredni/.venv/lib/python3.9/site-packages/paramiko/client.py\u001b[0m in \u001b[0;36mconnect\u001b[0;34m(self, hostname, port, username, password, pkey, key_filename, timeout, allow_agent, look_for_keys, compress, sock, gss_auth, gss_kex, gss_deleg_creds, gss_host, banner_timeout, auth_timeout, gss_trust_dns, passphrase, disabled_algorithms)\u001b[0m\n\u001b[1;32m    413\u001b[0m             \u001b[0;32mif\u001b[0m \u001b[0mour_server_keys\u001b[0m \u001b[0;32mis\u001b[0m \u001b[0;32mNone\u001b[0m\u001b[0;34m:\u001b[0m\u001b[0;34m\u001b[0m\u001b[0;34m\u001b[0m\u001b[0m\n\u001b[1;32m    414\u001b[0m                 \u001b[0;31m# will raise exception if the key is rejected\u001b[0m\u001b[0;34m\u001b[0m\u001b[0;34m\u001b[0m\u001b[0;34m\u001b[0m\u001b[0m\n\u001b[0;32m--> 415\u001b[0;31m                 self._policy.missing_host_key(\n\u001b[0m\u001b[1;32m    416\u001b[0m                     \u001b[0mself\u001b[0m\u001b[0;34m,\u001b[0m \u001b[0mserver_hostkey_name\u001b[0m\u001b[0;34m,\u001b[0m \u001b[0mserver_key\u001b[0m\u001b[0;34m\u001b[0m\u001b[0;34m\u001b[0m\u001b[0m\n\u001b[1;32m    417\u001b[0m                 )\n",
      "\u001b[0;32m~/python-napredni/.venv/lib/python3.9/site-packages/paramiko/client.py\u001b[0m in \u001b[0;36mmissing_host_key\u001b[0;34m(self, client, hostname, key)\u001b[0m\n\u001b[1;32m    821\u001b[0m             ),\n\u001b[1;32m    822\u001b[0m         )\n\u001b[0;32m--> 823\u001b[0;31m         raise SSHException(\n\u001b[0m\u001b[1;32m    824\u001b[0m             \u001b[0;34m\"Server {!r} not found in known_hosts\"\u001b[0m\u001b[0;34m.\u001b[0m\u001b[0mformat\u001b[0m\u001b[0;34m(\u001b[0m\u001b[0mhostname\u001b[0m\u001b[0;34m)\u001b[0m\u001b[0;34m\u001b[0m\u001b[0;34m\u001b[0m\u001b[0m\n\u001b[1;32m    825\u001b[0m         )\n",
      "\u001b[0;31mSSHException\u001b[0m: Server '212.101.137.47' not found in known_hosts"
     ]
    }
   ],
   "source": [
    "import paramiko\n",
    "\n",
    "ssh_client=paramiko.SSHClient()\n",
    "ssh_client.connect(hostname='212.101.137.47', port=22, username='sshtest', password='EnoVelikoDrevoCesenj12!')\n",
    "#paramiko.ssh_exception.SSHException: Server '[192.168.56.101]:2022' not found in known_hosts "
   ]
  },
  {
   "cell_type": "markdown",
   "metadata": {},
   "source": [
    "Connect to an SSH server and authenticate to it. The server’s host key is checked against the system host keys (see load_system_host_keys) and any local host keys (load_host_keys). If the server’s hostname is not found in either set of host keys, the missing host key policy is used (see set_missing_host_key_policy). The default policy is to reject the key and raise an SSHException.\n",
    "\n",
    "Authentication is attempted in the following order of priority:\n",
    "- The pkey or key_filename passed in (if any)\n",
    "    - key_filename may contain OpenSSH public certificate paths as well as regular private-key paths; when files ending in -cert.pub are found, they are assumed to match a private key, and both components will be loaded. (The private key itself does not need to be listed in key_filename for this to occur - just the certificate.)\n",
    "- Any key we can find through an SSH agent\n",
    "- Any “id_rsa”, “id_dsa” or “id_ecdsa” key discoverable in ~/.ssh/\n",
    "    - When OpenSSH-style public certificates exist that match an existing such private key (so e.g. one has id_rsa and id_rsa-cert.pub) the certificate will be loaded alongside the private key and used for authentication.\n",
    "- Plain username/password auth, if a password was given\n",
    "\n",
    "If a private key requires a password to unlock it, and a password is passed in, that password will be used to attempt to unlock the key."
   ]
  },
  {
   "cell_type": "markdown",
   "metadata": {},
   "source": [
    "When you try this, you get the following error:\n",
    "missing_host_key raise SSHException(‘Server %r not found in known_hosts’ % hostname) paramiko.ssh_exception.SSHException: Server ‘hostname’ not found in known_hosts"
   ]
  },
  {
   "cell_type": "markdown",
   "metadata": {},
   "source": [
    "You see this error because you have not informed your machine that the remote server you “trust” the server you are trying to access. If you go onto you command line or terminal and try to connect to a server for the first time, You will get a message similar to this:\n",
    "\n",
    "The authenticity of host ‘hostname’ can’t be established.RSA key fingerprint is ‘key’. Are you sure you want to continue connecting (yes/no)?\n",
    "\n",
    "When you select yes here, you let your machine know that it can trust the machine and you can now access it without the prompt until the key for that machine changes.\n",
    "Paramiko similarly requires that you validate your trust with the machine. This validation is handled by calling set_missing_host_key_policy() on the SSHClient an passing the policy you want implemented when accessing a new remote machine. By default, the paramiko.SSHclient sets the policy to the RejectPolicy. The policy rejects connection without validating as we saw above. Paramiko does however give you a way to sort of “Trust all” key policy, the AutoAddPolicy. Parsing an instance of the AutoAddPolicy to set_missing_host_key_policy() changes it to allow any host."
   ]
  },
  {
   "cell_type": "markdown",
   "metadata": {},
   "source": [
    "> Obligatory warning: Do not use AutoAddPolicy, unless you do not care about security. You are losing a protection against MITM attacks this way. more info: https://stackoverflow.com/questions/10670217/paramiko-unknown-server#43093883"
   ]
  },
  {
   "cell_type": "code",
   "execution_count": 3,
   "metadata": {},
   "outputs": [
    {
     "name": "stdout",
     "output_type": "stream",
     "text": [
      "Working\n"
     ]
    }
   ],
   "source": [
    "import paramiko\n",
    "ssh_client =paramiko.SSHClient()\n",
    "ssh_client.set_missing_host_key_policy(paramiko.AutoAddPolicy())\n",
    "# bolj varna opcija - https://docs.paramiko.org/en/stable/api/client.html#paramiko.client.SSHClient.get_host_keys\n",
    "#ssh_client.load_system_host_keys()\n",
    "ssh_client.connect(hostname='212.101.137.47', port=22, username='sshtest', password='EnoVelikoDrevoCesenj12!')\n",
    "# neki delamo \n",
    "print('Working')\n",
    "ssh_client.close()"
   ]
  },
  {
   "cell_type": "markdown",
   "metadata": {},
   "source": [
    "> `close() - Close this SSHClient and its underlying Transport.`: Failure to do this may, in some situations, cause your Python interpreter to hang at shutdown (often due to race conditions). It’s good practice to close your client objects anytime you’re done using them, instead of relying on garbage collection."
   ]
  },
  {
   "cell_type": "markdown",
   "metadata": {},
   "source": [
    "#### Setting up SSH Keys"
   ]
  },
  {
   "cell_type": "markdown",
   "metadata": {},
   "source": [
    "> Na napravi na kateri izvajamo skripte"
   ]
  },
  {
   "cell_type": "markdown",
   "metadata": {},
   "source": [
    "To authenticate an SSH connection, we need to set up a private RSA SSH key (not to be confused with OpenSSH). We can generate a key using the following command:"
   ]
  },
  {
   "cell_type": "markdown",
   "metadata": {},
   "source": [
    "    ssh-keygen -t rsa"
   ]
  },
  {
   "cell_type": "markdown",
   "metadata": {},
   "source": [
    "This will prompt us to provide a name for our key. Name it whatever you like:"
   ]
  },
  {
   "cell_type": "markdown",
   "metadata": {},
   "source": [
    "Next, you'll be prompted to provide a password (feel free to leave this blank). -> plume\n",
    "\n",
    "Now that we have our key, we need to copy this to our remote host. The easiest way to do this is by using ssh-copy-id:"
   ]
  },
  {
   "cell_type": "markdown",
   "metadata": {},
   "source": [
    "    ssh-copy-id -i ~/.ssh/id_rsa.pub testuser@ssh-telnet-test"
   ]
  },
  {
   "cell_type": "markdown",
   "metadata": {},
   "source": [
    "> preverimo ali povezava deluje"
   ]
  },
  {
   "cell_type": "code",
   "execution_count": 6,
   "metadata": {},
   "outputs": [
    {
     "name": "stdout",
     "output_type": "stream",
     "text": [
      "Working\n"
     ]
    }
   ],
   "source": [
    "import paramiko\n",
    "ssh_client =paramiko.SSHClient()\n",
    "#ssh_client.set_missing_host_key_policy(paramiko.AutoAddPolicy())\n",
    "# bolj varna opcija - https://docs.paramiko.org/en/stable/api/client.html#paramiko.client.SSHClient.get_host_keys\n",
    "ssh_client.load_system_host_keys()\n",
    "ssh_client.connect(hostname='212.101.137.47', port=22, username='sshtest', passphrase='leons')\n",
    "# neki delamo \n",
    "print('Working')\n",
    "ssh_client.close()"
   ]
  },
  {
   "cell_type": "markdown",
   "metadata": {},
   "source": [
    "### Running commands on the remote machine"
   ]
  },
  {
   "cell_type": "markdown",
   "metadata": {},
   "source": [
    "> `exec_command(command, bufsize=-1, timeout=None, get_pty=False, environment=None)` Execute a command on the SSH server. A new Channel is opened and the requested command is executed. The command’s input and output streams are returned as Python file-like objects representing stdin, stdout, and stderr."
   ]
  },
  {
   "cell_type": "markdown",
   "metadata": {},
   "source": [
    "**Parameters**:\n",
    "- command (str) – the command to execute\n",
    "- bufsize (int) – interpreted the same way as by the built-in file() function in Python\n",
    "- timeout (int) – set command’s channel timeout. See Channel.settimeout\n",
    "- get_pty (bool) – Request a pseudo-terminal from the server (default False). See Channel.get_pty\n",
    "- environment (dict) – a dict of shell environment variables, to be merged into the default environment that the remote command executes within.\n",
    "\n",
    "**Returns**:\n",
    "- the stdin, stdout, and stderr of the executing command, as a 3-tuple\n",
    "\n",
    "**Raises**:\n",
    "- SSHException – if the server fails to execute the command\n",
    "\n"
   ]
  },
  {
   "cell_type": "markdown",
   "metadata": {},
   "source": [
    "To run a command exec_command is called on the SSHClient with the command passed. The response is returned as a tuple (stdin,stdout,stderr)\n",
    "For example to list all the files in a directory:"
   ]
  },
  {
   "cell_type": "markdown",
   "metadata": {},
   "source": [
    "    stdin,stdout,stderr=ssh_client.exec_command(“ls”)"
   ]
  },
  {
   "cell_type": "markdown",
   "metadata": {},
   "source": [
    "Getting the type for each of the returned,\n",
    "type(stdin) and type(stdout) is ‘paramiko.channel.ChannelFile’\n",
    "type(stderr) is class ‘paramiko.channel.ChannelStderrFile’\n",
    "\n",
    "According to paramiko.org they are all python file like objects.\n",
    "\n",
    "The stdin is a write-only file which can be used for commands requiring input\n",
    "The stdout file give the output of the command\n",
    "The stderr gives the errors returned on executing the command. Will be empty if there is no error"
   ]
  },
  {
   "cell_type": "markdown",
   "metadata": {},
   "source": [
    "    # branje vrednosti\n",
    "    print(stdout.readlines())\n",
    "    print(stderr.readlines())"
   ]
  },
  {
   "cell_type": "markdown",
   "metadata": {},
   "source": [
    "> Return the exit status from the process on the server. This is mostly useful for retrieving the results of an exec_command. If the command hasn’t finished yet, this method will wait until it does, or until the channel is closed. If no exit status is provided by the server, -1 is returned."
   ]
  },
  {
   "cell_type": "code",
   "execution_count": null,
   "metadata": {},
   "outputs": [],
   "source": [
    "import paramiko\n",
    "\n",
    "def execute_command(client, command):\n",
    "    \"\"\"Execute command in succession.\"\"\"\n",
    "    stdin, stdout, stderr = client.exec_command(command)\n",
    "    status = stdout.channel.recv_exit_status()\n",
    "    if status != 0:\n",
    "        print(f'Status: {status}, message: {stderr.readlines()}')\n",
    "    response = stdout.readlines()\n",
    "    client.close()\n",
    "    print(response)\n",
    "\n",
    "ssh_client = paramiko.SSHClient()\n",
    "ssh_client.set_missing_host_key_policy(paramiko.AutoAddPolicy())\n",
    "ssh_client.connect(hostname='ssh-telnet-test', port=22, username='testuser', password='test')\n",
    "command = \"uname -a\"\n",
    "\n",
    "execute_command(ssh_client, command)"
   ]
  },
  {
   "cell_type": "markdown",
   "metadata": {},
   "source": [
    "#### COMMANDS REQUIRING INPUT"
   ]
  },
  {
   "cell_type": "markdown",
   "metadata": {},
   "source": [
    "Sometimes you need to provide a password or extra input to run a command. This is what stdin is used for. Let’s run the same command above with sudo."
   ]
  },
  {
   "cell_type": "code",
   "execution_count": 11,
   "metadata": {},
   "outputs": [
    {
     "name": "stdout",
     "output_type": "stream",
     "text": [
      "[]\n",
      "['sudo: a terminal is required to read the password; either use the -S option to read from standard input or configure an askpass helper\\n']\n",
      "Working\n"
     ]
    }
   ],
   "source": [
    "ssh_client.load_system_host_keys()\n",
    "ssh_client.connect(hostname='212.101.137.47', port=22, username='sshtest', passphrase='leons')\n",
    "\n",
    "stdin, stdout, stderr = ssh_client.exec_command(\"sudo ls -la\")\n",
    "stdin.write(\"EnoVelikoDrevoCesenj12!\")\n",
    "stdin.write(\"\\n\")\n",
    "stdin.flush()\n",
    "print(stdout.readlines())\n",
    "print(stderr.readlines())\n",
    "\n",
    "print('Working')\n",
    "ssh_client.close()"
   ]
  },
  {
   "cell_type": "markdown",
   "metadata": {},
   "source": [
    "Should return list of files and folders as above."
   ]
  },
  {
   "cell_type": "markdown",
   "metadata": {},
   "source": [
    "## Primer: Create a SSH/SCP program"
   ]
  },
  {
   "cell_type": "markdown",
   "metadata": {},
   "source": [
    "### Starting our Script"
   ]
  },
  {
   "cell_type": "markdown",
   "metadata": {},
   "source": [
    "Just one more thing before we write some meaningful Python code! Create a config file to hold the variables we'll need to connect to our host. Here are the barebones of what we need to get into our server:\n",
    "- Host: The IP address or URL of the remote host we're trying to access.\n",
    "- Username: This is the username you use to SSH into your server.\n",
    "- Passphrase (optional): If you specified a passphrase when you created your ssh key, specify that here. Remember that your SSH key passphrase is not the same as your user's password.\n",
    "- SSH Key: The file path of the key we created earlier. On OSX, these live in your system's ~/.ssh folder. SSH key we're targeting must have an accompanying key with a .pub file extension. This is our public key; if you were following along earlier, this should have already been generated for you.\n",
    "\n",
    "If you're trying to upload or download files from your remote host, you'll need to include two more variables:\n",
    "- Remote Path: The path to the remote directory we're looking to target for file transfers. We can either upload things to this folder or download the contents of it.\n",
    "- Local Path: Same idea as above, but the reverse. For our convenience, the local path we'll be using is simply /data, and contains pictures of cute fox gifs.\n",
    "\n",
    "Now we have everything we need to make a respectable config.py file:"
   ]
  },
  {
   "cell_type": "code",
   "execution_count": null,
   "metadata": {},
   "outputs": [],
   "source": [
    "# config.py\n",
    "\"\"\"Configuration module.\"\"\"\n",
    "from os import environ\n",
    "\n",
    "host = environ.get('REMOTE_HOST')\n",
    "user = environ.get('REMOTE_USERNAME')\n",
    "password = environ.get('REMOTE_PASSWORD')\n",
    "\n",
    "remote_path = environ.get('REMOTE_PATH')\n",
    "local_path = '/home/plume/data'"
   ]
  },
  {
   "cell_type": "markdown",
   "metadata": {},
   "source": [
    "### Creating an SSH Client"
   ]
  },
  {
   "cell_type": "markdown",
   "metadata": {},
   "source": [
    "We're going to create a class called RemoteClient to handle the interactions we'll be having with our remote host. Before we get too fancy, let's just start things off by instantiating the RemoteClient class with the variables we created in config.py:"
   ]
  },
  {
   "cell_type": "code",
   "execution_count": null,
   "metadata": {},
   "outputs": [],
   "source": [
    "# client.py\n",
    "class RemoteClient:\n",
    "    \"\"\"Client to interact with a remote host via SSH & SCP.\"\"\"\n",
    "\n",
    "    def __init__(self, host, user, password, remote_path):\n",
    "        self.host = host\n",
    "        self.user = user\n",
    "        self.password = password\n",
    "        self.remote_path = remote_path\n",
    "        self.client = None\n",
    "        self.scp = None"
   ]
  },
  {
   "cell_type": "markdown",
   "metadata": {},
   "source": [
    "Nothing impressive so far: we've just set some variables and passed them into a useless class. Let's kick things up a notch without leaving our constructor:"
   ]
  },
  {
   "cell_type": "code",
   "execution_count": null,
   "metadata": {},
   "outputs": [],
   "source": [
    "# client.py\n",
    "\"\"\"Remote host object to handle connections and actions.\"\"\"\n",
    "from paramiko import SSHClient, AutoAddPolicy, RSAKey\n",
    "from paramiko.auth_handler import AuthenticationException, SSHException\n",
    "\n",
    "\n",
    "class RemoteClient:\n",
    "    \"\"\"Client to interact with a remote host via SSH & SCP.\"\"\"\n",
    "\n",
    "    def __init__(self, host, user, password, remote_path):\n",
    "        self.host = host\n",
    "        self.user = user\n",
    "        self.password = password\n",
    "        self.remote_path = remote_path\n",
    "        self.client = None\n",
    "        self.scp = None\n"
   ]
  },
  {
   "cell_type": "markdown",
   "metadata": {},
   "source": [
    "We've added three new things to be instantiated with our class:\n",
    "- self.client = None: self.client will ultimately serve as the connection objection in our class, similar to how you have dealt with terminology like conn in database libraries. Our connection will be None until we explicitly connect to our remote host.\n",
    "- self.scp = None Similar to self.client, but exclusively handles connections for transferring files.\n",
    "- `self.__upload_ssh_key()` isn't a variable, but rather a function to be run automatically whenever our client is instantiated. Calling `__upload_ssh_key()` is telling our RemoteClient object to check for local ssh keys immediately upon creation so that we can try to pass them to our remote host. Otherwise, we wouldn't be able to establish a connection at all."
   ]
  },
  {
   "cell_type": "markdown",
   "metadata": {},
   "source": [
    "### Uploading SSH Keys to a Remote Host"
   ]
  },
  {
   "cell_type": "markdown",
   "metadata": {},
   "source": [
    "We've reached the section of this exercise where we need to knock out some devastatingly inglorious boilerplate code. This is typically where emotionally inferior individuals succumb to the sheer dull obscurity of understanding SSH keys and maintaining connections. Make no mistake: authenticating and managing connections to anything programmatically is overwhelmingly dull... unless your tour guide happens to be an enchanting wordsmith, serving as your loving protector through perilous obscurity. Some people call this post a tutorial. I intend to call it art.\n",
    "\n",
    "RemoteClient will start with two private methods: __get_ssh_key()  and __upload_ssh_key(). The former will fetch a locally stored public key, and if successful, the latter will deliver this public key to our remote host as an olive branch of access. Once a locally created public key exists on a remote machine, that machine will then forever trust us our requests to connect to it: no passwords required. We'll be including proper logging along the way, just in case we run into any trouble:"
   ]
  },
  {
   "cell_type": "code",
   "execution_count": null,
   "metadata": {},
   "outputs": [],
   "source": [
    "\"\"\"Remote host object to handle connections and actions.\"\"\"\n",
    "import sys\n",
    "from loguru import logger\n",
    "from os import system\n",
    "from paramiko import SSHClient, AutoAddPolicy\n",
    "from scp import SCPClient, SCPException\n",
    "\n",
    "\n",
    "logger.add(sys.stderr,\n",
    "           format=\"{time} {message}\",\n",
    "           filter=\"client\",\n",
    "           level=\"INFO\")\n",
    "logger.add('logs/log_{time:YYYY-MM-DD}.log',\n",
    "           format=\"{time} {level} {message}\",\n",
    "           filter=\"client\",\n",
    "           level=\"ERROR\")\n",
    "\n",
    "\n",
    "class RemoteClient:\n",
    "    \"\"\"Client to interact with a remote host via SSH & SCP.\"\"\"\n",
    "    def __init__(self, host, user, password=None, passphrase=None, remote_path='~/', port=22):\n",
    "        self.host = host\n",
    "        self.user = user\n",
    "        self.password = password\n",
    "        self.passphrase = passphrase\n",
    "        self.remote_path = remote_path\n",
    "        self.port = port\n",
    "        self.client = None\n",
    "        self.scp = None"
   ]
  },
  {
   "cell_type": "markdown",
   "metadata": {},
   "source": [
    "__get_ssh_key() is quite simple: it verifies that an SSH key exists at the path we specified in our config to be used for connecting to our host. If the file does in fact exist, we happily set our self.ssh_key variable, so this key can be uploaded and used by our client from here forward. Paramiko provides us with a submodule called RSAKey to easily handle all things RSA key related, like parsing a private key file into a usable connection authentication. That's what we get here:"
   ]
  },
  {
   "cell_type": "markdown",
   "metadata": {},
   "source": [
    "    RSAKey.from_private_key_file(self.ssh_key_filepath)"
   ]
  },
  {
   "cell_type": "markdown",
   "metadata": {},
   "source": [
    "If our RSA key were incomprehensible nonsense instead of a real key, Paramiko's SSHException would have caught this and raised an exception early on explaining just that. Properly utilizing a library's error handling takes a lot of the guesswork out of \"what went wrong,\" especially in cases like where there's potential for numerous unknowns in a niche space neither of us mess with often.\n",
    "\n",
    "__upload_ssh_key() is where we get to jam our SSH key down the throat of our remote server while shouting, \"LOOK! YOU CAN TRUST ME FOREVER NOW!\" To accomplish this, I go a bit \"old school\" by passing bash commands via Python's os.system. Unless somebody makes me aware of a cleaner approach in the comments, I'll assume this is the most badass way to handle passing keys to a remote server.\n",
    "\n",
    "The standard non-Python way of passing keys to a host looks like this:"
   ]
  },
  {
   "cell_type": "markdown",
   "metadata": {},
   "source": [
    "    ssh-copy-id -i ~/.ssh/mykey user@host"
   ]
  },
  {
   "cell_type": "markdown",
   "metadata": {},
   "source": [
    "This is precisely what we accomplish in our function in Python, which looks like this:"
   ]
  },
  {
   "cell_type": "markdown",
   "metadata": {},
   "source": [
    "    system(f'ssh-copy-id -i {self.ssh_key_filepath} {self.user}@{self.host}>/dev/null 2>&1')"
   ]
  },
  {
   "cell_type": "markdown",
   "metadata": {},
   "source": [
    "I suppose you won't let me slip that /dev/null 2>&1 bit by you? Fine. If you must know, here's some guy on StackOverflow explaining it better than I can:"
   ]
  },
  {
   "cell_type": "markdown",
   "metadata": {},
   "source": [
    "> \\> is for redirect /dev/null is a black hole where any data sent, will be discarded. 2 is the file descriptor for Standard Error. > is for redirect. & is the symbol for file descriptor (without it, the following 1 would be considered a filename). 1 is the file descriptor for Standard O."
   ]
  },
  {
   "cell_type": "markdown",
   "metadata": {},
   "source": [
    "So we're basically telling our remote server we're giving it something, and it's all like \"where do I put this thing,\" to which we reply \"nowhere in physical in space, as this is not an object, but rather an eternal symbol of our friendship.  Our remote host is then flooded with gratitude and emotion, because yes, computers do have emotions, but we can't be bothered by that right now."
   ]
  },
  {
   "cell_type": "markdown",
   "metadata": {},
   "source": [
    "### Connecting to our Client"
   ]
  },
  {
   "cell_type": "markdown",
   "metadata": {},
   "source": [
    "We'll add a method to our client called connect() to handle connecting to our host:"
   ]
  },
  {
   "cell_type": "code",
   "execution_count": null,
   "metadata": {},
   "outputs": [],
   "source": [
    "class RemoteClient:\n",
    "    \"\"\"Client to interact with a remote host via SSH & SCP.\"\"\"\n",
    "\n",
    "    #...\n",
    "    def __connect(self):\n",
    "        \"\"\"Open connection to remote host.\"\"\"\n",
    "        self.client = SSHClient()\n",
    "        self.client.set_missing_host_key_policy(AutoAddPolicy())\n",
    "        self.client.load_system_host_keys()\n",
    "        self.client.connect(self.host,\n",
    "                            username=self.user,\n",
    "                            timeout=5000,\n",
    "                            port=self.port,\n",
    "                            passphrase=self.passphrase,\n",
    "                            password=self.password\n",
    "                            )\n",
    "        self.scp = SCPClient(self.client.get_transport())\n",
    "        return self.client"
   ]
  },
  {
   "cell_type": "markdown",
   "metadata": {},
   "source": [
    "Let's break this down:\n",
    "- client = SSHClient() sets the stage for creating an object representing our SSH client. The following lines will configure this object to make it more useful.\n",
    "- load_system_host_keys() instructs our client to look for all the hosts we've connected to in the past by looking at our system's known_hosts file and finding the SSH keys our host is expecting. We've never connected to our host in the past, so we need to specify our SSH key explicitly.\n",
    "- set_missing_host_key_policy() tells Paramiko what to do in the event of an unknown key pair. This is expecting a \"policy\" built-in to Paramiko, to which we're going to specific AutoAddPolicy(). Setting our policy to \"auto-add\" means that if we attempt to connect to an unrecognized host, Paramiko will automatically add the missing key locally.\n",
    "- connect() is SSHClient's most important method (as you might imagine). We're finally able to pass our host, user, and SSH key to achieve what we've all been waiting for: a glorious SSH connection into our server! The connect() method allows for a ton of flexibility via a vast array of optional keyword arguments too. I happen to pass a few here: setting look_for_keys to True gives Paramiko permission to look around in our ~/.ssh folder to discover SSH keys on its own, and setting timeout will automatically close connections we'll probably forget to close. We could even pass variables for things like port and password, if we had elected to connect to our host this way."
   ]
  },
  {
   "cell_type": "markdown",
   "metadata": {},
   "source": [
    "### Disconnecting"
   ]
  },
  {
   "cell_type": "markdown",
   "metadata": {},
   "source": [
    "We should close connections to our remote host whenever we're done using them. Failing to do so might not necessarily be disastrous, but I've had a few instances where enough hanging connections would eventually max out inbound traffic on port 22. Regardless of whether your use case might consider a reboot to be a disaster or mild inconvenience, let's just close our damn connections like adults as though we were wiping our butts after pooping. No matter your connection hygiene, I advocate for setting a timeout variable (as we saw earlier). Anyway. voila:"
   ]
  },
  {
   "cell_type": "code",
   "execution_count": null,
   "metadata": {},
   "outputs": [],
   "source": [
    "class RemoteClient:\n",
    "    #...\n",
    "\n",
    "    def disconnect(self):\n",
    "        \"\"\"Close ssh connection.\"\"\"\n",
    "        self.client.close()\n",
    "        self.scp.close()\n"
   ]
  },
  {
   "cell_type": "markdown",
   "metadata": {},
   "source": [
    "Fun fact: setting self.client.close() actually sets self.client to equal None, which is useful in cases where you might want to check if a connection is already open."
   ]
  },
  {
   "cell_type": "markdown",
   "metadata": {},
   "source": [
    "### Executing Unix Commands"
   ]
  },
  {
   "cell_type": "markdown",
   "metadata": {},
   "source": [
    "We now have a wonderful Python class that can find RSA keys, connect, and disconnect. It does lack the ability to do, well, anything useful.\n",
    "\n",
    "We can fix this and finally begin doing \"stuff\" with a brand new method to execute commands, which I'll aptly dub execute_commands() (that's correct, \"commands\" as in potentially-more-than-one, we'll touch on that in a moment). The legwork of all this is done by the Paramiko client's built-in exec_command() method, which accepts a single string as a command and executes it:"
   ]
  },
  {
   "cell_type": "code",
   "execution_count": null,
   "metadata": {},
   "outputs": [],
   "source": [
    "class RemoteClient:\n",
    "    #...\n",
    "\n",
    "    def execute_commands(self, commands):\n",
    "        \"\"\"Execute multiple commands in succession.\"\"\"\n",
    "        if self.client is None:\n",
    "            self.client = self.__connect()\n",
    "        for cmd in commands:\n",
    "            stdin, stdout, stderr = self.client.exec_command(cmd)\n",
    "            stdout.channel.recv_exit_status()\n",
    "            response = stdout.readlines()\n",
    "            for line in response:\n",
    "                logger.info(f'INPUT: {cmd} | OUTPUT: {line}')"
   ]
  },
  {
   "cell_type": "markdown",
   "metadata": {},
   "source": [
    "The function we just created execute_commands() expects a list of strings to execute as commands. That's partially for convenience, but it's also because Paramiko won't run any \"state\" changes (like changing directories) between commands, so each command we pass to Paramiko should assume we're working out of our server's root. I took the liberty of passing three such commands like so:"
   ]
  },
  {
   "cell_type": "markdown",
   "metadata": {},
   "source": [
    "    remote.execute_commands(['cd /var/www/ && ls',\n",
    "                            'tail /var/log/nginx/access.log',\n",
    "                            'ps aux | grep node'])"
   ]
  },
  {
   "cell_type": "markdown",
   "metadata": {},
   "source": [
    "I can view the contents of a directory by chaining cd path/to/dir && ls, but running cd path/to/dir followed by ls would result in nothingness because ls the second time returns the list of files in our server's root.\n",
    "\n",
    "You'll notice client.exec_command(cmd) returns three values as opposed to one: this can be useful to see which input produced which output. For example, here are the full logs for the example I provided where I passed three commands to remote.execute_commands():"
   ]
  },
  {
   "cell_type": "markdown",
   "metadata": {},
   "source": [
    "Some beautiful stuff here. Now you can see which sites are on my server, which bots are spamming me, and how many node processes I'm running.\n",
    "\n",
    "I don't want to waste much more time on the art of executing commands, but it's worth mentioning the presence of why we call stdout.channel.recv_exit_status() after each command. Waiting for recv_exit_status() to come back after running client.exec_command() forces our commands to be run synchronously, otherwise there's a likely chance our remote machine won't be about to decipher commands as fast as we pass them along."
   ]
  },
  {
   "cell_type": "markdown",
   "metadata": {},
   "source": [
    "### Uploading (and Downloading) Files via SCP"
   ]
  },
  {
   "cell_type": "markdown",
   "metadata": {},
   "source": [
    "SCP refers to both the protocol for copying files to remote machines (secure copy protocol) as well as the Python library, which utilizes this. We've already installed the SCP library, so import that shit.\n",
    "\n",
    "The SCP and Paramiko libraries complement one another to make uploading via SCP super easy. SCPClient() creates an object which expects  \"transport\" from Paramiko, which we provide with self.conn.get_transport(). Creating an SCP connection piggybacks off of our SSH client in terms of syntax, but these connections are separate. It's possible to close an SSH connection and leave an SCP connection open, so don't do that. Open an SCP connection like this:"
   ]
  },
  {
   "cell_type": "markdown",
   "metadata": {},
   "source": [
    "    self.scp = SCPClient(self.client.get_transport())"
   ]
  },
  {
   "cell_type": "markdown",
   "metadata": {},
   "source": [
    "Uploading a single file is boring, so let's upload an entire directory of files instead. bulk_upload() accepts a list of file paths, and then calls __upload_single_file()"
   ]
  },
  {
   "cell_type": "code",
   "execution_count": null,
   "metadata": {},
   "outputs": [],
   "source": [
    "class RemoteClient:\n",
    "    #...\n",
    "\n",
    "    def bulk_upload(self, files):\n",
    "        \"\"\"Upload multiple files to a remote directory.\"\"\"\n",
    "        if self.client is None:\n",
    "            self.client = self.__connect()\n",
    "        uploads = [self.__upload_single_file(file) for file in files]\n",
    "        logger.info(f'Finished uploading {len(uploads)} files to {self.remote_path} on {self.host}')\n",
    "\n",
    "    def __upload_single_file(self, file):\n",
    "        \"\"\"Upload a single file to a remote directory.\"\"\"\n",
    "        try:\n",
    "            self.scp.put(file,\n",
    "                         recursive=True,\n",
    "                         remote_path=self.remote_path)\n",
    "        except SCPException as error:\n",
    "            logger.error(error)\n",
    "            raise error\n",
    "        finally:\n",
    "            logger.info(f'Uploaded {file} to {self.remote_path}')"
   ]
  },
  {
   "cell_type": "markdown",
   "metadata": {},
   "source": [
    "Our method is expecting to receive two strings: the first being the local path to our file, and the second being the path of the remote directory we'd like to upload to.\n",
    "\n",
    "SCP's put() method will upload a local file to our remote host. This will replace existing files with the same name if they happen to exist at the destination we specify. That's all it takes!"
   ]
  },
  {
   "cell_type": "markdown",
   "metadata": {},
   "source": [
    "The counterpart to SCP's put() is the get() method:"
   ]
  },
  {
   "cell_type": "code",
   "execution_count": null,
   "metadata": {},
   "outputs": [],
   "source": [
    "class RemoteClient:\n",
    "\n",
    "    #...\n",
    "\n",
    "    def download_file(self, file):\n",
    "        \"\"\"Download file from remote host.\"\"\"\n",
    "        if self.client is None:\n",
    "            self.client = self.__connect()\n",
    "        self.scp.get(file)"
   ]
  },
  {
   "cell_type": "markdown",
   "metadata": {},
   "source": [
    "### Run the script"
   ]
  },
  {
   "cell_type": "markdown",
   "metadata": {},
   "source": [
    "We now have a sick Python class to handle SSH and SCP with a remote host... let's put it to work! The following snippet is a quick way to test what we've built so far. In short, this script looks for a local folder filled with files (in my case, I filled the folder with fox gifs 🦊).\n",
    "\n",
    "Check out how easy it is to create a main.py that handles complex tasks on remote machines thanks to our RemoteClient class:"
   ]
  },
  {
   "cell_type": "markdown",
   "metadata": {},
   "source": [
    "> npr.:  `export REMOTE_HOST=ssh-telnet-test`"
   ]
  },
  {
   "cell_type": "code",
   "execution_count": null,
   "metadata": {},
   "outputs": [],
   "source": [
    "\"\"\"Perform tasks against a remote host.\"\"\"\n",
    "from client import RemoteClient\n",
    "from files import fetch_local_files\n",
    "\n",
    "host = 'ssh-telnet-test'\n",
    "port = 22\n",
    "# credentials\n",
    "user='testuser'\n",
    "password='test'\n",
    "passphrase='plume'\n",
    "# file upload\n",
    "local_file_directory='/home/plume/vsebina/osnovni_tecaj/11_Interakcija_SSH_Telnet/skripte/ssh_scp_module/data'\n",
    "remote_path='/home/testuser/data'\n",
    "\n",
    "def remote = RemoteClient(host, user, passphrase=passphrase, password=password, remote_path=remote_path, port=22)():\n",
    "    \"\"\"Initialize remote host client and execute actions.\"\"\"\n",
    "    remote = RemoteClient(host, user, passphrase=passphrase, password=password, remote_path=remote_path, port=22)\n",
    "    #execute_command_on_remote(remote)\n",
    "    download_file_from_remote(remote)\n",
    "    #upload_files_to_remote(remote)\n",
    "    remote.disconnect()\n",
    "    \n",
    "def upload_files_to_remote(remote):\n",
    "    \"\"\"Upload files to remote via SCP.\"\"\"\n",
    "    files = fetch_local_files(local_file_directory)\n",
    "    remote.bulk_upload(files)\n",
    "\n",
    "def download_file_from_remote(remote):\n",
    "    remote.download_file('/home/testuser/some.txt')\n",
    "\n",
    "\n",
    "def execute_command_on_remote(remote):\n",
    "    \"\"\"Execute UNIX command on the remote host.\"\"\"\n",
    "    remote.execute_commands(['uname -a'])\n",
    "\n",
    "main()"
   ]
  },
  {
   "cell_type": "markdown",
   "metadata": {},
   "source": [
    "## Telnet"
   ]
  },
  {
   "cell_type": "markdown",
   "metadata": {},
   "source": [
    "The [telnetlib module](https://docs.python.org/3/library/telnetlib.html) provides a Telnet class that implements the Telnet protocol. See RFC 854 for details about the protocol. In addition, it provides symbolic constants for the protocol characters (see below), and for the telnet options."
   ]
  },
  {
   "cell_type": "markdown",
   "metadata": {},
   "source": [
    "`class telnetlib.Telnet(host=None, port=0[, timeout])`"
   ]
  },
  {
   "cell_type": "markdown",
   "metadata": {},
   "source": [
    "Telnet represents a connection to a Telnet server. The instance is initially not connected by default; the open() method must be used to establish a connection. Alternatively, the host name and optional port number can be passed to the constructor too, in which case the connection to the server will be established before the constructor returns. The optional timeout parameter specifies a timeout in seconds for blocking operations like the connection attempt (if not specified, the global default timeout setting will be used).\n",
    "\n",
    "Do not reopen an already connected instance.\n",
    "\n",
    "This class has many read_*() methods. Note that some of them raise EOFError when the end of the connection is read, because they can return an empty string for other reasons. See the individual descriptions below.\n",
    "\n",
    "A Telnet object is a context manager and can be used in a with statement. When the with block ends, the close() method is called:"
   ]
  },
  {
   "cell_type": "code",
   "execution_count": null,
   "metadata": {},
   "outputs": [],
   "source": [
    "from telnetlib import Telnet\n",
    "\n",
    "with Telnet('localhost', 23) as tn:\n",
    "    tn.interact()"
   ]
  },
  {
   "cell_type": "markdown",
   "metadata": {},
   "source": [
    "`Telnet.read_until(expected, timeout=None)`"
   ]
  },
  {
   "cell_type": "markdown",
   "metadata": {},
   "source": [
    "Read until a given byte string, expected, is encountered or until timeout seconds have passed.\n",
    "\n",
    "When no match is found, return whatever is available instead, possibly empty bytes. Raise EOFError if the connection is closed and no cooked data is available."
   ]
  },
  {
   "cell_type": "markdown",
   "metadata": {},
   "source": [
    "`Telnet.write(buffer)`"
   ]
  },
  {
   "cell_type": "markdown",
   "metadata": {},
   "source": [
    "Write a byte string to the socket, doubling any IAC characters. This can block if the connection is blocked. May raise OSError if the connection is closed.\n",
    "\n",
    "Raises an auditing event telnetlib.Telnet.write with arguments self, buffer."
   ]
  },
  {
   "cell_type": "markdown",
   "metadata": {},
   "source": [
    "`Telnet.read_all()`"
   ]
  },
  {
   "cell_type": "markdown",
   "metadata": {},
   "source": [
    "Read all data until EOF as bytes; block until connection closed."
   ]
  },
  {
   "cell_type": "markdown",
   "metadata": {},
   "source": [
    "`getpass.getpass(prompt='Password: ', stream=None)`"
   ]
  },
  {
   "cell_type": "markdown",
   "metadata": {},
   "source": [
    "[getpass — Portable password input](https://docs.python.org/3.8/library/getpass.html)"
   ]
  },
  {
   "cell_type": "markdown",
   "metadata": {},
   "source": [
    "Prompt the user for a password without echoing. The user is prompted using the string prompt, which defaults to 'Password: '. On Unix, the prompt is written to the file-like object stream using the replace error handler if needed. stream defaults to the controlling terminal (/dev/tty) or if that is unavailable to sys.stderr (this argument is ignored on Windows).\n",
    "\n",
    "If echo free input is unavailable getpass() falls back to printing a warning message to stream and reading from sys.stdin and issuing a GetPassWarning."
   ]
  },
  {
   "cell_type": "markdown",
   "metadata": {},
   "source": [
    "A simple example illustrating typical use:"
   ]
  },
  {
   "cell_type": "code",
   "execution_count": null,
   "metadata": {},
   "outputs": [],
   "source": [
    "import getpass\n",
    "import telnetlib\n",
    "\n",
    "HOST = \"ssh-telnet-test\"\n",
    "\n",
    "user = 'testuser' \n",
    "#user = input(\"Enter your remote account: \")\n",
    "\n",
    "password = 'test' \n",
    "#password = getpass.getpass()\n",
    "\n",
    "\n",
    "with telnetlib.Telnet(HOST) as tn:\n",
    "    tn.read_until(b\"login: \")\n",
    "    tn.write(user.encode('ascii') + b\"\\n\")\n",
    "\n",
    "    if password:\n",
    "        tn.read_until(b\"Password: \")\n",
    "        tn.write(password.encode('ascii') + b\"\\n\")\n",
    "\n",
    "    tn.write(b\"ls\\n\")\n",
    "    tn.write(b\"mkdir /home/testuser/telnet-test \\n\")\n",
    "\n",
    "    tn.write(b\"exit\\n\")\n",
    "\n",
    "    print(tn.read_all().decode('ascii'))"
   ]
  },
  {
   "cell_type": "markdown",
   "metadata": {},
   "source": [
    "### Primer uporabe: Telnet"
   ]
  },
  {
   "cell_type": "code",
   "execution_count": null,
   "metadata": {},
   "outputs": [],
   "source": [
    "import getpass\n",
    "import telnetlib\n",
    "\n",
    "def create_dirs(dir_list, path, host, user, password, port=23):\n",
    "    with telnetlib.Telnet(host, port) as tn:\n",
    "        print(f\"--> connected to host: {host} on port: {port}\")\n",
    "        \n",
    "        tn.read_until(b\"login: \")\n",
    "        tn.write(user.encode('ascii') + b\"\\n\")\n",
    "\n",
    "        if password:\n",
    "            tn.read_until(b\"Password: \")\n",
    "            tn.write(password.encode('ascii') + b\"\\n\")\n",
    "        \n",
    "        print(f\"--> succsessful login for user: {user}\")\n",
    "            \n",
    "        for dir_name in dir_list:\n",
    "            path_name = f'{path}/{dir_name}'\n",
    "            command = f'mkdir -v {path_name}\\n'\n",
    "            tn.write(command.encode('ascii'))\n",
    "            succsess_mesage = f\"mkdir: created directory '{path_name}'\".encode('ascii')\n",
    "            res = tn.read_until(succsess_mesage, timeout=2)\n",
    "            if succsess_mesage in res:\n",
    "                print(f'--> {dir_name} created successfully')\n",
    "            else:\n",
    "                print(f'--> {dir_name} creation failed')\n",
    "\n",
    "        tn.write(b\"exit\\n\")\n",
    "        print(tn.read_all().decode('ascii'))\n",
    "\n",
    "\n",
    "create_dirs(['dir1', 'dir2', 'dir3'], path='/home/testuser/telnet-test', \n",
    "                    host='ssh-telnet-test',\n",
    "                    user='testuser',\n",
    "                    password='test')"
   ]
  }
 ],
 "metadata": {
  "kernelspec": {
   "display_name": "Python 3",
   "language": "python",
   "name": "python3"
  },
  "language_info": {
   "codemirror_mode": {
    "name": "ipython",
    "version": 3
   },
   "file_extension": ".py",
   "mimetype": "text/x-python",
   "name": "python",
   "nbconvert_exporter": "python",
   "pygments_lexer": "ipython3",
   "version": "3.9.5"
  }
 },
 "nbformat": 4,
 "nbformat_minor": 2
}
