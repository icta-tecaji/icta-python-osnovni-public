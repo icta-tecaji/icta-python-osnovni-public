{
 "cells": [
  {
   "cell_type": "markdown",
   "metadata": {},
   "source": [
    "# Context Managers"
   ]
  },
  {
   "cell_type": "markdown",
   "metadata": {},
   "source": [
    "Viri:\n",
    "- [Python Context Managers](https://mattgathu.github.io/python-context-managers/)\n",
    "- [Python with Context Managers](https://jeffknupp.com/blog/2016/03/07/python-with-context-managers/)\n",
    "- [Context Managers](http://archive.oreilly.com/oreillyschool/courses/Python4/Python4-14.html)\n",
    "- [Redirecting all kinds of stdout in Python](https://eli.thegreenplace.net/2015/redirecting-all-kinds-of-stdout-in-python/)"
   ]
  },
  {
   "cell_type": "markdown",
   "metadata": {},
   "source": [
    "## Intro & Overview"
   ]
  },
  {
   "cell_type": "markdown",
   "metadata": {},
   "source": [
    "A context manager, in Python, is a resource acquisition and release mechanism that prevents resource leak and ensures startup and cleanup (exit) actions are always done.\n",
    "\n",
    "A resource is basically a computing component with limited availability e.g. files, network sockets etc. The act of refusing to release a resource when a process has finished using it is known as a resource leak. An example would be leaving a file open after writing into it, thereby making it impossible for other processes to acquire it."
   ]
  },
  {
   "cell_type": "markdown",
   "metadata": {},
   "source": [
    "The main motivation behind context managers is to ease resource management by providing support for resource acquisition and release. This introduces to several advantages:\n",
    "- eliminates the need of repeating resource acquisition/release code fragments: the DRY principle.\n",
    "- prevent errors arounds resource management.\n",
    "- eases code refactoring: this is a consequence of DRY principle.\n",
    "- makes resource cleanup easier: by guarranteeing startup (entry) and cleanup (exit) actions."
   ]
  },
  {
   "cell_type": "markdown",
   "metadata": {},
   "source": [
    "So what’s the with statement good for? It helps simplify some common\n",
    "resource management patterns by abstracting their functionality\n",
    "and allowing them to be factored out and reused."
   ]
  },
  {
   "cell_type": "markdown",
   "metadata": {},
   "source": [
    "    with something_that_returns_a_context_manager() as my_resource:\n",
    "        do_something(my_resource)\n",
    "        ...\n",
    "        print('done using my_resource')"
   ]
  },
  {
   "cell_type": "markdown",
   "metadata": {},
   "source": [
    "## Context Manager Example (Opening Files)"
   ]
  },
  {
   "cell_type": "markdown",
   "metadata": {},
   "source": [
    "A good way to see this feature used effectively is by looking at examples\n",
    "in the Python standard library. The built-in open() function provides\n",
    "us with an excellent use case:"
   ]
  },
  {
   "cell_type": "code",
   "execution_count": 1,
   "metadata": {},
   "outputs": [],
   "source": [
    "with open('data/hello.txt', 'w') as f:\n",
    "    f.write('hello, world!')"
   ]
  },
  {
   "cell_type": "code",
   "execution_count": 2,
   "metadata": {},
   "outputs": [
    {
     "data": {
      "text/plain": [
       "<_io.TextIOWrapper name='data/hello.txt' mode='w' encoding='UTF-8'>"
      ]
     },
     "execution_count": 2,
     "metadata": {},
     "output_type": "execute_result"
    }
   ],
   "source": [
    "f"
   ]
  },
  {
   "cell_type": "code",
   "execution_count": 3,
   "metadata": {},
   "outputs": [
    {
     "data": {
      "text/plain": [
       "True"
      ]
     },
     "execution_count": 3,
     "metadata": {},
     "output_type": "execute_result"
    }
   ],
   "source": [
    "f.closed"
   ]
  },
  {
   "cell_type": "code",
   "execution_count": 4,
   "metadata": {},
   "outputs": [
    {
     "data": {
      "text/plain": [
       "'UTF-8'"
      ]
     },
     "execution_count": 4,
     "metadata": {},
     "output_type": "execute_result"
    }
   ],
   "source": [
    "f.encoding"
   ]
  },
  {
   "cell_type": "code",
   "execution_count": 5,
   "metadata": {},
   "outputs": [
    {
     "ename": "ValueError",
     "evalue": "I/O operation on closed file.",
     "output_type": "error",
     "traceback": [
      "\u001b[0;31m---------------------------------------------------------------------------\u001b[0m",
      "\u001b[0;31mValueError\u001b[0m                                Traceback (most recent call last)",
      "\u001b[0;32m<ipython-input-5-64014f166b00>\u001b[0m in \u001b[0;36m<module>\u001b[0;34m\u001b[0m\n\u001b[0;32m----> 1\u001b[0;31m \u001b[0mf\u001b[0m\u001b[0;34m.\u001b[0m\u001b[0mwrite\u001b[0m\u001b[0;34m(\u001b[0m\u001b[0;34m'test'\u001b[0m\u001b[0;34m)\u001b[0m\u001b[0;34m\u001b[0m\u001b[0;34m\u001b[0m\u001b[0m\n\u001b[0m\u001b[1;32m      2\u001b[0m \u001b[0;31m# But you can’t perform I/O with fp because at the end of the with block, the\u001b[0m\u001b[0;34m\u001b[0m\u001b[0;34m\u001b[0m\u001b[0;34m\u001b[0m\u001b[0m\n\u001b[1;32m      3\u001b[0m \u001b[0;31m#TextIOWrapper.__exit__ method is called and closes the file.\u001b[0m\u001b[0;34m\u001b[0m\u001b[0;34m\u001b[0m\u001b[0;34m\u001b[0m\u001b[0m\n",
      "\u001b[0;31mValueError\u001b[0m: I/O operation on closed file."
     ]
    }
   ],
   "source": [
    "f.write('test')\n",
    "# But you can’t perform I/O with fp because at the end of the with block, the\n",
    "#TextIOWrapper.__exit__ method is called and closes the file."
   ]
  },
  {
   "cell_type": "markdown",
   "metadata": {},
   "source": [
    "Crucially, the variable only exists within the indented block below the with statement. Think of with as creating a mini-function: we can use the variable freely in the indented portion, but once that block ends, the variable goes out of scope. When the variable goes out of scope, it automatically calls a special method that contains the code to clean up the resource."
   ]
  },
  {
   "cell_type": "markdown",
   "metadata": {},
   "source": [
    "> Perhaps the most common (and important) use of context managers is to properly manage resources. In fact, that's the reason we use a context manager when reading from a file. The act of opening a file consumes a resource (called a file descriptor), and this resource is limited by your OS. That is to say, there are a maximum number of files a process can have open at one time. Joking aside, what is a \"file descriptor\" and what does it mean to \"leak\" one? Well, when you open a file, the operating system assigns an integer to the open file, allowing it to essentially give you a handle to the open file rather than direct access to the underlying file itself. This is beneficial for a variety of reasons, including being able to pass references to files between processes and to maintain a certain level of security enforced by the kernel."
   ]
  },
  {
   "cell_type": "markdown",
   "metadata": {},
   "source": [
    "Opening files using the with statement is generally recommended because\n",
    "it ensures that open file descriptors are closed automatically after\n",
    "program execution leaves the context of the with statement. Internally,\n",
    "the above code sample translates to something like this:"
   ]
  },
  {
   "cell_type": "code",
   "execution_count": 2,
   "metadata": {},
   "outputs": [],
   "source": [
    "f = open('hello.txt', 'w')\n",
    "try:\n",
    "    f.write('hello, world')\n",
    "finally:\n",
    "    f.close()"
   ]
  },
  {
   "cell_type": "markdown",
   "metadata": {},
   "source": [
    "> In other languages, developers are forced to use try...except...finally every time they work with a file (or any other type of resource that needs to be closed, like sockets or database connections). Luckily, Python loves us and gives us a simple way to make sure all resources we use are properly cleaned up, regardless of if the code returns or an exception is thrown: context managers."
   ]
  },
  {
   "cell_type": "markdown",
   "metadata": {},
   "source": [
    "You can already tell that this is quite a bit more verbose. Note that\n",
    "the try...finally statement is significant. It wouldn’t be enough to\n",
    "just write something like this:"
   ]
  },
  {
   "cell_type": "code",
   "execution_count": 3,
   "metadata": {},
   "outputs": [],
   "source": [
    "f = open('hello.txt', 'w')\n",
    "f.write('hello, world')\n",
    "f.close()"
   ]
  },
  {
   "cell_type": "markdown",
   "metadata": {},
   "source": [
    "This implementation won’t guarantee the file is closed if there’s an exception\n",
    "during the f.write() call—and therefore our program might\n",
    "leak a file descriptor. That’s why the with statement is so useful. It\n",
    "makes properly acquiring and releasing resources a breeze."
   ]
  },
  {
   "cell_type": "markdown",
   "metadata": {},
   "source": [
    "Given that context managers are so helpful, they were added to the Standard Library in a number of places. Lock objects in threading are context managers, as are zipfile.ZipFiles. subprocess.Popen, tarfile.TarFile, telnetlib.Telnet, pathlib.Path... the list goes on and on. Essentially, any object that needs to have close called on it after use is (or should be) a context manager."
   ]
  },
  {
   "cell_type": "markdown",
   "metadata": {},
   "source": [
    "## Creating a Context Manager class"
   ]
  },
  {
   "cell_type": "markdown",
   "metadata": {},
   "source": [
    "Now, there’s nothing special or magical about the open() function or\n",
    "the threading.Lock class and the fact that they can be used with a\n",
    "with statement. You can provide the same functionality in your own\n",
    "classes and functions by implementing so-called context managers.\n",
    "\n",
    "What’s a context manager? It’s a simple “protocol” (or interface) that\n",
    "your object needs to follow in order to support the with statement.\n",
    "Basically, all you need to do is add `__enter__` and `__exit__` methods\n",
    "to an object if you want it to function as a context manager. Python\n",
    "will call these two methods at the appropriate times in the resource\n",
    "management cycle.\n",
    "\n",
    "Let’s take a look at what this would look like in practical terms. Here’s\n",
    "what a simple implementation of the open() context manager might\n",
    "look like:"
   ]
  },
  {
   "cell_type": "code",
   "execution_count": 6,
   "metadata": {},
   "outputs": [],
   "source": [
    "class ManagedFile:\n",
    "    def __init__(self, name):\n",
    "        self.name = name\n",
    "    def __enter__(self):\n",
    "        self.file = open(self.name, 'w')\n",
    "        return self.file\n",
    "    def __exit__(self, exc_type, exc_val, exc_tb):\n",
    "        if self.file:\n",
    "            self.file.close()"
   ]
  },
  {
   "cell_type": "markdown",
   "metadata": {},
   "source": [
    "The interpreter calls the `__enter__` method with no arguments—beyond the implicit\n",
    "self. The three arguments passed to `__exit__` are:\n",
    "- exc_type\n",
    "    - The exception class (e.g., ZeroDivisionError).\n",
    "- exc_value\n",
    "    - The exception instance. Sometimes, parameters passed to the exception constructor such as the error message—can be found in exc_value.args.\n",
    "- traceback\n",
    "    - A traceback object."
   ]
  },
  {
   "cell_type": "markdown",
   "metadata": {},
   "source": [
    "Our ManagedFile class follows the context manager protocol and now\n",
    "supports the with statement, just like the original open() example\n",
    "did:"
   ]
  },
  {
   "cell_type": "code",
   "execution_count": 7,
   "metadata": {},
   "outputs": [],
   "source": [
    "with ManagedFile('data/hello_managed.txt') as f:\n",
    "    f.write('hello, world!')\n",
    "    f.write('bye now')"
   ]
  },
  {
   "cell_type": "markdown",
   "metadata": {},
   "source": [
    "Python calls `__enter__` when execution enters the context of the\n",
    "with statement and it’s time to acquire the resource. When execution\n",
    "leaves the context again, Python calls `__exit__` to free up the\n",
    "resource."
   ]
  },
  {
   "cell_type": "markdown",
   "metadata": {},
   "source": [
    "## Understanding a Context Manager class"
   ]
  },
  {
   "cell_type": "markdown",
   "metadata": {},
   "source": [
    "The with statement sets up a temporary context and reliably tears it down, under the\n",
    "control of a context manager object. This prevents errors and reduces boilerplate code,\n",
    "making APIs at the same time safer and easier to use. Python programmers are finding\n",
    "lots of uses for with blocks beyond automatic file closing"
   ]
  },
  {
   "cell_type": "markdown",
   "metadata": {},
   "source": [
    "Context manager objects exist to control a with statement, just like iterators exist to\n",
    "control a for statement."
   ]
  },
  {
   "cell_type": "markdown",
   "metadata": {},
   "source": [
    "The with statement was designed to simplify the try/finally pattern, which guarantees\n",
    "that some operation is performed after a block of code, even if the block is aborted\n",
    "because of an exception, a return or sys.exit() call. The code in the finally clause\n",
    "usually releases a critical resource or restores some previous state that was temporarily\n",
    "changed."
   ]
  },
  {
   "cell_type": "markdown",
   "metadata": {},
   "source": [
    "The context manager protocol consists of the `__enter__` and `__exit__` methods. At the\n",
    "start of the with,` __enter__` is invoked on the context manager object. The role of the\n",
    "finally clause is played by a call to `__exit__` on the context manager object at the end\n",
    "of the with block."
   ]
  },
  {
   "cell_type": "markdown",
   "metadata": {},
   "source": [
    "The context manager object is the result of evaluating the expression after with, but the value bound to the\n",
    "target variable (in the as clause) is the result of calling `__enter__` on the context manager\n",
    "object."
   ]
  },
  {
   "cell_type": "markdown",
   "metadata": {},
   "source": [
    "But the `__enter__` method may also return some other object instead of the context manager.\n",
    "\n",
    "When control flow exits the with block in any way, the `__exit__` method is invoked on\n",
    "the context manager object, not on whatever is returned by `__enter__`.\n",
    "\n",
    "The as clause of the with statement is optional. In the case of open, you’ll always need\n",
    "it to get a reference to the file, but some context managers return None because they\n",
    "have no useful object to give back to the user."
   ]
  },
  {
   "cell_type": "markdown",
   "metadata": {},
   "source": [
    "Example shows the operation of a perfectly frivolous context manager designed to\n",
    "highlight the distinction between the context manager and the object returned by its\n",
    "`__enter__` method."
   ]
  },
  {
   "cell_type": "code",
   "execution_count": 10,
   "metadata": {},
   "outputs": [
    {
     "name": "stdout",
     "output_type": "stream",
     "text": [
      ".nad pel ej senaD\n",
      "YKCOWREBBAJ\n"
     ]
    }
   ],
   "source": [
    "from skripte.mirror import LookingGlass\n",
    "\n",
    "with LookingGlass() as what: #1\n",
    "    print('Danes je lep dan.') #2,3 \n",
    "    print(what)"
   ]
  },
  {
   "cell_type": "code",
   "execution_count": 11,
   "metadata": {},
   "outputs": [
    {
     "data": {
      "text/plain": [
       "'JABBERWOCKY'"
      ]
     },
     "execution_count": 11,
     "metadata": {},
     "output_type": "execute_result"
    }
   ],
   "source": [
    "what #4"
   ]
  },
  {
   "cell_type": "code",
   "execution_count": 12,
   "metadata": {},
   "outputs": [
    {
     "name": "stdout",
     "output_type": "stream",
     "text": [
      "Danes je lep dan.\n"
     ]
    }
   ],
   "source": [
    "print('Danes je lep dan.') #5"
   ]
  },
  {
   "cell_type": "markdown",
   "metadata": {},
   "source": [
    "1. The context manager is an instance of LookingGlass; Python calls `__enter__` on the context manager and the result is bound to what.\n",
    "2. Print a str, then the value of the target variable what.\n",
    "3. The output of each print comes out backward.\n",
    "4. Now the with block is over. We can see that the value returned by `__enter__`, held in what, is the string 'JABBERWOCKY'.\n",
    "5. Program output is no longer backward."
   ]
  },
  {
   "cell_type": "markdown",
   "metadata": {},
   "source": [
    "Implementation of LookingGlass:"
   ]
  },
  {
   "cell_type": "code",
   "execution_count": 1,
   "metadata": {},
   "outputs": [],
   "source": [
    "#mirror.py\n",
    "class LookingGlass:\n",
    "    def __enter__(self): #1\n",
    "        import sys\n",
    "        self.original_write = sys.stdout.write #2\n",
    "        sys.stdout.write = self.reverse_write #3\n",
    "        return 'JABBERWOCKY' #4\n",
    "\n",
    "    def reverse_write(self, text): #5\n",
    "        self.original_write(text[::-1])\n",
    "    \n",
    "    def __exit__(self, exc_type, exc_value, traceback): #6\n",
    "        import sys #7\n",
    "        sys.stdout.write = self.original_write #8\n",
    "        if exc_type is ZeroDivisionError: #9\n",
    "            print('Please DO NOT divide by zero!')\n",
    "            return True #10\n",
    "        #11"
   ]
  },
  {
   "cell_type": "markdown",
   "metadata": {},
   "source": [
    "1. Python invokes `__enter__` with no arguments besides self.\n",
    "2. Hold the original sys.stdout.write method in an instance attribute for later use.\n",
    "3. Monkey-patch sys.stdout.write, replacing it with our own method.\n",
    "4. Return the 'JABBERWOCKY' string just so we have something to put in the target variable what.\n",
    "5. Our replacement to sys.stdout.write reverses the text argument and calls the original implementation.\n",
    "6. Python calls `__exit__` with None, None, None if all went well; if an exception is raised, the three arguments get the exception data, as described next.\n",
    "7. It’s cheap to import modules again because Python caches them.\n",
    "8. Restore the original method to sys.stdout.write.\n",
    "9. If the exception is not None and its type is ZeroDivisionError, print a message…\n",
    "10. …and return True to tell the interpreter that the exception was handled.\n",
    "11. If `__exit__` returns None or anything but True, any exception raised in the with block will be propagated."
   ]
  },
  {
   "cell_type": "markdown",
   "metadata": {},
   "source": [
    "> When real applications take over standard output, they often want\n",
    "to replace sys.stdout with another file-like object for a while, then\n",
    "switch back to the original. The contextlib.redirect_stdout\n",
    "context manager does exactly that: just pass it the file-like object\n",
    "that will stand in for sys.stdout."
   ]
  },
  {
   "cell_type": "markdown",
   "metadata": {},
   "source": [
    "The interpreter calls the `__enter__` method with no arguments—beyond the implicit self. The three arguments passed to `__exit__` are:\n",
    "- `exc_type`: The exception class (e.g., ZeroDivisionError).\n",
    "- `exc_value`: The exception instance. Sometimes, parameters passed to the exception constructor—such as the error message—can be found in exc_value.args.\n",
    "- `traceback`: A traceback object."
   ]
  },
  {
   "cell_type": "code",
   "execution_count": 26,
   "metadata": {},
   "outputs": [],
   "source": [
    "#mirror.py\n",
    "class LookingGlass2:\n",
    "    def __enter__(self): #1\n",
    "        import sys\n",
    "        self.original_write = sys.stdout.write #2\n",
    "        sys.stdout.write = self.reverse_write #3\n",
    "        return 'JABBERWOCKY' #4\n",
    "\n",
    "    def reverse_write(self, text): #5\n",
    "        self.original_write(text[::-1])\n",
    "    \n",
    "    def __exit__(self, exc_type, exc_value, traceback): #6\n",
    "        import sys #7\n",
    "        sys.stdout.write = self.original_write #8\n",
    "        print('exc_type: ', exc_type)\n",
    "        print('exc_value: ', exc_value)\n",
    "        print('traceback: ', traceback)\n",
    "        if exc_type is ZeroDivisionError: #9\n",
    "            print('Please DO NOT divide by zero!')\n",
    "            return True #10\n",
    "        #11"
   ]
  },
  {
   "cell_type": "code",
   "execution_count": 27,
   "metadata": {},
   "outputs": [
    {
     "name": "stdout",
     "output_type": "stream",
     "text": [
      ".nad pel ej senaD\n",
      "exc_type:  None\n",
      "exc_value:  None\n",
      "traceback:  None\n"
     ]
    }
   ],
   "source": [
    "with LookingGlass2() as what:\n",
    "    print('Danes je lep dan.')"
   ]
  },
  {
   "cell_type": "code",
   "execution_count": 28,
   "metadata": {},
   "outputs": [
    {
     "name": "stdout",
     "output_type": "stream",
     "text": [
      ".nad pel ej senaD\n",
      "exc_type:  <class 'ZeroDivisionError'>\n",
      "exc_value:  division by zero\n",
      "traceback:  <traceback object at 0x7f11e9fe6748>\n",
      "Please DO NOT divide by zero!\n"
     ]
    }
   ],
   "source": [
    "with LookingGlass2() as what:\n",
    "    print('Danes je lep dan.')\n",
    "    print(8/0)"
   ]
  },
  {
   "cell_type": "code",
   "execution_count": 30,
   "metadata": {},
   "outputs": [
    {
     "name": "stdout",
     "output_type": "stream",
     "text": [
      ".nad pel ej senaD\n",
      "exc_type:  <class 'KeyError'>\n",
      "exc_value:  2\n",
      "traceback:  <traceback object at 0x7f11e9fe6448>\n"
     ]
    },
    {
     "ename": "KeyError",
     "evalue": "2",
     "output_type": "error",
     "traceback": [
      "\u001b[0;31m---------------------------------------------------------------------------\u001b[0m",
      "\u001b[0;31mKeyError\u001b[0m                                  Traceback (most recent call last)",
      "\u001b[0;32m<ipython-input-30-cf0c06a00d3e>\u001b[0m in \u001b[0;36m<module>\u001b[0;34m\u001b[0m\n\u001b[1;32m      3\u001b[0m \u001b[0;32mwith\u001b[0m \u001b[0mLookingGlass2\u001b[0m\u001b[0;34m(\u001b[0m\u001b[0;34m)\u001b[0m \u001b[0;32mas\u001b[0m \u001b[0mwhat\u001b[0m\u001b[0;34m:\u001b[0m\u001b[0;34m\u001b[0m\u001b[0;34m\u001b[0m\u001b[0m\n\u001b[1;32m      4\u001b[0m     \u001b[0mprint\u001b[0m\u001b[0;34m(\u001b[0m\u001b[0;34m'Danes je lep dan.'\u001b[0m\u001b[0;34m)\u001b[0m\u001b[0;34m\u001b[0m\u001b[0;34m\u001b[0m\u001b[0m\n\u001b[0;32m----> 5\u001b[0;31m     \u001b[0mprint\u001b[0m\u001b[0;34m(\u001b[0m\u001b[0ma\u001b[0m\u001b[0;34m[\u001b[0m\u001b[0;36m2\u001b[0m\u001b[0;34m]\u001b[0m\u001b[0;34m)\u001b[0m\u001b[0;34m\u001b[0m\u001b[0;34m\u001b[0m\u001b[0m\n\u001b[0m",
      "\u001b[0;31mKeyError\u001b[0m: 2"
     ]
    }
   ],
   "source": [
    "a = {1: 'asas'}\n",
    "\n",
    "with LookingGlass2() as what:\n",
    "    print('Danes je lep dan.')\n",
    "    print(a[2])"
   ]
  },
  {
   "cell_type": "markdown",
   "metadata": {},
   "source": [
    "For a detailed look at how a context manager works, see next Example, where Looking\n",
    "Glass is used outside of a with block, so we can manually call its `__enter__` and\n",
    "`__exit__` methods."
   ]
  },
  {
   "cell_type": "code",
   "execution_count": 43,
   "metadata": {},
   "outputs": [],
   "source": [
    "from skripte.mirror import LookingGlass\n",
    "manager = LookingGlass() #1"
   ]
  },
  {
   "cell_type": "code",
   "execution_count": 44,
   "metadata": {},
   "outputs": [
    {
     "data": {
      "text/plain": [
       "<skripte.mirror.LookingGlass at 0x7f11e9edb6d8>"
      ]
     },
     "execution_count": 44,
     "metadata": {},
     "output_type": "execute_result"
    }
   ],
   "source": [
    "manager"
   ]
  },
  {
   "cell_type": "code",
   "execution_count": 45,
   "metadata": {},
   "outputs": [],
   "source": [
    "monster = manager.__enter__() #2"
   ]
  },
  {
   "cell_type": "code",
   "execution_count": 46,
   "metadata": {},
   "outputs": [
    {
     "name": "stdout",
     "output_type": "stream",
     "text": [
      "eurT\n"
     ]
    }
   ],
   "source": [
    "print(monster == 'JABBERWOCKY') #3"
   ]
  },
  {
   "cell_type": "code",
   "execution_count": 47,
   "metadata": {},
   "outputs": [
    {
     "name": "stdout",
     "output_type": "stream",
     "text": [
      "YKCOWREBBAJ\n"
     ]
    }
   ],
   "source": [
    "print(monster)"
   ]
  },
  {
   "cell_type": "code",
   "execution_count": 48,
   "metadata": {},
   "outputs": [
    {
     "name": "stdout",
     "output_type": "stream",
     "text": [
      ">8d6bde9e11f7x0 ta tcejbo ssalGgnikooL.rorrim.etpirks<\n"
     ]
    }
   ],
   "source": [
    "print(manager)"
   ]
  },
  {
   "cell_type": "code",
   "execution_count": 49,
   "metadata": {},
   "outputs": [],
   "source": [
    "manager.__exit__(None, None, None) #4"
   ]
  },
  {
   "cell_type": "code",
   "execution_count": 50,
   "metadata": {},
   "outputs": [
    {
     "name": "stdout",
     "output_type": "stream",
     "text": [
      "JABBERWOCKY\n"
     ]
    }
   ],
   "source": [
    "print(monster)"
   ]
  },
  {
   "cell_type": "markdown",
   "metadata": {},
   "source": [
    "1. Instantiate and inspect the manager instance.\n",
    "2. Call the context manager `__enter__()` method and store result in monster.\n",
    "3. Monster is the string 'JABBERWOCKY'. The True identifier appears reversed because all output via stdout goes through the write method we patched in `__enter__`.\n",
    "4. Call `manager.__exit__` to restore previous stdout.write."
   ]
  },
  {
   "cell_type": "markdown",
   "metadata": {},
   "source": [
    "Context managers are a fairly novel feature and slowly but surely the Python community\n",
    "is finding new, creative uses for them. Some examples from the standard library are:\n",
    "-  Managing transactions in the sqlite3 module; see “12.6.7.3. Using the connection\n",
    "as a context manager”.\n",
    "- Holding locks, conditions, and semaphores in threading code; see “17.1.10. Using\n",
    "locks, conditions, and semaphores in the with statement”.\n",
    "- Setting up environments for arithmetic operations with Decimal objects; see the\n",
    "decimal.localcontext documentation.\n",
    "- Applying temporary patches to objects for testing; see the unittest.mock.patch\n",
    "function."
   ]
  },
  {
   "cell_type": "markdown",
   "metadata": {},
   "source": [
    "## The contextlib Utilities"
   ]
  },
  {
   "cell_type": "markdown",
   "metadata": {},
   "source": [
    "[contextlib — Utilities for with-statement contexts](https://docs.python.org/3/library/contextlib.html)"
   ]
  },
  {
   "cell_type": "markdown",
   "metadata": {},
   "source": [
    "Before rolling your own context manager classes, take a look at “29.6 contextlib —\n",
    "Utilities for with-statement contexts” in The Python Standard Library. Besides the already\n",
    "mentioned redirect_stdout, the contextlib module includes classes and other\n",
    "functions that are more widely applicable:\n",
    "    \n",
    "- `closing`: A function to build context managers out of objects that provide a close() method but don’t implement the `__enter__/__exit__` protocol.\n",
    "- `suppress`: A context manager to temporarily ignore specified exceptions.\n",
    "- `@contextmanager`:  A decorator that lets you build a context manager from a simple generator function, instead of creating a class and implementing the protocol. \n",
    "- `ContextDecorator`: A base class for defining class-based context managers that can also be used as function decorators, running the entire function within a managed context.\n",
    "- `ExitStack`:  A context manager that lets you enter a variable number of context managers. When the with block ends, ExitStack calls the stacked context managers’ `__exit__` methods in LIFO order (last entered, first exited). Use this class when you don’t know beforehand how many context managers you need to enter in your with block; for example, when opening all files from an arbitrary list of files at the same time."
   ]
  },
  {
   "cell_type": "markdown",
   "metadata": {},
   "source": [
    "The most widely used of these utilities is surely the @contextmanager decorator, so it\n",
    "deserves more attention. That decorator is also intriguing because it shows a use for the\n",
    "yield statement unrelated to iteration. This paves the way to the concept of a coroutine,\n",
    "the theme of the next chapter."
   ]
  },
  {
   "cell_type": "markdown",
   "metadata": {},
   "source": [
    "## Using @contextmanager"
   ]
  },
  {
   "cell_type": "markdown",
   "metadata": {},
   "source": [
    "The @contextmanager decorator reduces the boilerplate of creating a context manager:\n",
    "instead of writing a whole class with `__enter__/__exit__` methods, you just implement\n",
    "a generator with a single yield that should produce whatever you want the `__enter__` method to return.\n",
    "\n",
    "In a generator decorated with @contextmanager, yield is used to split the body of the\n",
    "function in two parts: everything before the yield will be executed at the beginning of\n",
    "the while block when the interpreter calls `__enter__`; the code after yield will run\n",
    "when `__exit__` is called at the end of the block.\n",
    "\n",
    "Here is an example. Example replaces the LookingGlass class with a generator function."
   ]
  },
  {
   "cell_type": "code",
   "execution_count": 1,
   "metadata": {},
   "outputs": [],
   "source": [
    "import contextlib\n",
    "\n",
    "@contextlib.contextmanager #1\n",
    "def looking_glass():\n",
    "    import sys\n",
    "    original_write = sys.stdout.write #2\n",
    "\n",
    "    def reverse_write(text): #3\n",
    "        original_write(text[::-1])\n",
    "\n",
    "    sys.stdout.write = reverse_write #4\n",
    "    yield 'JABBERWOCKY' #5\n",
    "    sys.stdout.write = original_write #6"
   ]
  },
  {
   "cell_type": "markdown",
   "metadata": {},
   "source": [
    "1. Apply the contextmanager decorator.\n",
    "2. Preserve original sys.stdout.write method.\n",
    "3. Define custom reverse_write function; original_write will be available in the closure.\n",
    "4. Replace sys.stdout.write with reverse_write.\n",
    "5. Yield the value that will be bound to the target variable in the as clause of the with statement. This function pauses at this point while the body of the with executes.\n",
    "6. When control exits the with block in any way, execution continues after the yield; here the original sys.stdout.write is restored."
   ]
  },
  {
   "cell_type": "code",
   "execution_count": 2,
   "metadata": {},
   "outputs": [
    {
     "name": "stdout",
     "output_type": "stream",
     "text": [
      "pordwonS dna yttiK ,ecilA\n",
      "YKCOWREBBAJ\n"
     ]
    }
   ],
   "source": [
    "with looking_glass() as what:\n",
    "    print('Alice, Kitty and Snowdrop')\n",
    "    print(what)"
   ]
  },
  {
   "cell_type": "code",
   "execution_count": 53,
   "metadata": {},
   "outputs": [
    {
     "data": {
      "text/plain": [
       "'JABBERWOCKY'"
      ]
     },
     "execution_count": 53,
     "metadata": {},
     "output_type": "execute_result"
    }
   ],
   "source": [
    "what"
   ]
  },
  {
   "cell_type": "markdown",
   "metadata": {},
   "source": [
    "Essentially the contextlib.contextmanager decorator wraps the function in a class\n",
    "that implements the `__enter__` and `__exit__` methods.\n",
    "The `__enter__` method of that class:\n",
    "1. Invokes the generator function and holds on to the generator object—let’s call it gen.\n",
    "2. Calls next(gen) to make it run to the yield keyword.\n",
    "3. Returns the value yielded by next(gen), so it can be bound to a target variable in\n",
    "the with/as form.\n",
    "\n",
    "When the with block terminates, the `__exit__` method:\n",
    "1. Checks an exception was passed as exc_type; if so, gen.throw(exception) is invoked,\n",
    "causing the exception to be raised in the yield line inside the generator\n",
    "function body.\n",
    "2. Otherwise, next(gen) is called, resuming the execution of the generator function\n",
    "body after the yield."
   ]
  },
  {
   "cell_type": "markdown",
   "metadata": {},
   "source": [
    "Our example has a serious flaw: if an exception is raised in the body of the with block,\n",
    "the Python interpreter will catch it and raise it again in the yield expression inside\n",
    "looking_glass. But there is no error handling there, so the looking_glass function will \n",
    "abort without ever restoring the original sys.stdout.write method, leaving the\n",
    "system in an invalid state."
   ]
  },
  {
   "cell_type": "markdown",
   "metadata": {},
   "source": [
    "Next example adds special handling of the ZeroDivisionError exception, making it functionally equivalent to the class-based Example."
   ]
  },
  {
   "cell_type": "code",
   "execution_count": 54,
   "metadata": {},
   "outputs": [],
   "source": [
    "import contextlib\n",
    "@contextlib.contextmanager\n",
    "def looking_glass():\n",
    "    import sys\n",
    "    original_write = sys.stdout.write\n",
    "    \n",
    "    def reverse_write(text):\n",
    "        original_write(text[::-1])\n",
    "        \n",
    "    sys.stdout.write = reverse_write\n",
    "    msg = '' #1\n",
    "    try:\n",
    "        yield 'JABBERWOCKY'\n",
    "    except ZeroDivisionError: #2 \n",
    "        msg = 'Please DO NOT divide by zero!'\n",
    "    finally:\n",
    "        sys.stdout.write = original_write #3\n",
    "        if msg:\n",
    "            print(msg) #4"
   ]
  },
  {
   "cell_type": "markdown",
   "metadata": {},
   "source": [
    "1. Create a variable for a possible error message; this is the first change in relation to Example 15-5.\n",
    "2. Handle ZeroDivisionError by setting an error message.\n",
    "3. Undo monkey-patching of sys.stdout.write.\n",
    "4. Display error message, if it was set."
   ]
  },
  {
   "cell_type": "markdown",
   "metadata": {},
   "source": [
    "Recall that the `__exit__` method tells the interpreter that it has handled the exception\n",
    "by returning True; in that case, the interpreter suppresses the exception. On the other\n",
    "hand, if `__exit__` does not explicitly return a value, the interpreter gets the usual\n",
    "None, and propagates the exception. With @contextmanager, the default behavior is\n",
    "inverted: the `__exit__` method provided by the decorator assumes any exception sent\n",
    "into the generator is handled and should be suppressed. You must explicitly re-raise an\n",
    "exception in the decorated function if you don’t want @contextmanager to suppress it."
   ]
  },
  {
   "cell_type": "markdown",
   "metadata": {},
   "source": [
    "> Having a try/finally (or a with block) around the yield is an\n",
    "unavoidable price of using @contextmanager, because you never\n",
    "know what the users of your context manager are going to do inside\n",
    "their with block."
   ]
  },
  {
   "cell_type": "code",
   "execution_count": 81,
   "metadata": {},
   "outputs": [
    {
     "name": "stdout",
     "output_type": "stream",
     "text": [
      "Closing file\n"
     ]
    }
   ],
   "source": [
    "# primer open funkcija\n",
    "from contextlib import contextmanager\n",
    "\n",
    "@contextmanager\n",
    "def file_open(path):\n",
    "    try:\n",
    "        f_obj = open(path, 'w')\n",
    "        yield f_obj\n",
    "    except OSError:\n",
    "        print(\"We had an error!\")\n",
    "    finally:\n",
    "        print('Closing file')\n",
    "        f_obj.close()\n",
    "\n",
    "if __name__ == '__main__':\n",
    "    with file_open('data/test.txt') as fobj:\n",
    "        fobj.write('Testing context managers')"
   ]
  },
  {
   "cell_type": "markdown",
   "metadata": {},
   "source": [
    "An interesting real-life example of @contextmanager outside of the standard library is\n",
    "[Martijn Pieters’ in-place file rewriting context manager](https://www.zopatista.com/python/2013/11/26/inplace-file-rewriting/)."
   ]
  },
  {
   "cell_type": "markdown",
   "metadata": {},
   "source": [
    "## contextlib.redirect_stdout / redirect_stderr"
   ]
  },
  {
   "cell_type": "markdown",
   "metadata": {},
   "source": [
    "A common task in Python (especially while testing or debugging) is to redirect sys.stdout to a stream or a file while executing some piece of code."
   ]
  },
  {
   "cell_type": "markdown",
   "metadata": {},
   "source": [
    "The simplest case arises when the underlying Python code writes to stdout, whether by calling print, sys.stdout.write or some equivalent method. If the code you have does all its printing from Python, redirection is very easy. With Python 3.4 we even have a built-in tool in the standard library for this purpose - contextlib.redirect_stdout. Here's how to use it:"
   ]
  },
  {
   "cell_type": "code",
   "execution_count": 58,
   "metadata": {},
   "outputs": [],
   "source": [
    "import io\n",
    "from contextlib import redirect_stdout\n",
    "\n",
    "f = io.StringIO()\n",
    "\n",
    "with redirect_stdout(f):\n",
    "    print('foobar')\n",
    "    print(12)"
   ]
  },
  {
   "cell_type": "code",
   "execution_count": 60,
   "metadata": {},
   "outputs": [
    {
     "data": {
      "text/plain": [
       "'foobar\\n12\\n'"
      ]
     },
     "execution_count": 60,
     "metadata": {},
     "output_type": "execute_result"
    }
   ],
   "source": [
    "f.getvalue()"
   ]
  },
  {
   "cell_type": "code",
   "execution_count": 65,
   "metadata": {},
   "outputs": [
    {
     "name": "stdout",
     "output_type": "stream",
     "text": [
      "foobar\n",
      "12\n",
      "\n"
     ]
    }
   ],
   "source": [
    "f.seek(0)\n",
    "print(f.read())"
   ]
  },
  {
   "cell_type": "markdown",
   "metadata": {},
   "source": [
    "When this code runs, the actual print calls within the with block don't emit anything to the screen, and you'll see their output captured by in the stream f. Incidentally, note how perfect the with statement is for this goal - everything within the block gets redirected; once the block is done, things are cleaned up for you and redirection stops."
   ]
  },
  {
   "cell_type": "markdown",
   "metadata": {},
   "source": [
    "Redirect_stdout is really easy to implement on your own. I'll change its name slightly to avoid confusion:"
   ]
  },
  {
   "cell_type": "code",
   "execution_count": 68,
   "metadata": {},
   "outputs": [],
   "source": [
    "from contextlib import contextmanager\n",
    "import sys\n",
    "\n",
    "@contextmanager\n",
    "def stdout_redirector(stream):\n",
    "    old_stdout = sys.stdout\n",
    "    sys.stdout = stream\n",
    "    try:\n",
    "        yield\n",
    "    finally:\n",
    "        sys.stdout = old_stdout"
   ]
  },
  {
   "cell_type": "code",
   "execution_count": 72,
   "metadata": {},
   "outputs": [],
   "source": [
    "f = io.StringIO()\n",
    "with stdout_redirector(f):\n",
    "    print('test123')\n",
    "    print(1245)"
   ]
  },
  {
   "cell_type": "code",
   "execution_count": 73,
   "metadata": {},
   "outputs": [
    {
     "name": "stdout",
     "output_type": "stream",
     "text": [
      "test123\n",
      "1245\n",
      "\n"
     ]
    }
   ],
   "source": [
    "f.seek(0)\n",
    "print(f.read())"
   ]
  },
  {
   "cell_type": "markdown",
   "metadata": {},
   "source": [
    "## Primer: SQLite context maneger"
   ]
  },
  {
   "cell_type": "markdown",
   "metadata": {},
   "source": [
    "Rather than rewrite Python’s open method here, we’ll create a context manager that can create a SQLite database connection and close it when it’s done. Here’s a simple example:"
   ]
  },
  {
   "cell_type": "code",
   "execution_count": 79,
   "metadata": {},
   "outputs": [
    {
     "name": "stdout",
     "output_type": "stream",
     "text": [
      "[('2006-01-05', 'BUY', 'RHAT', 100.0, 35.14)]\n"
     ]
    }
   ],
   "source": [
    "import sqlite3\n",
    "\n",
    "\n",
    "class DataConn:\n",
    "    \"\"\"\"\"\"\n",
    "    def __init__(self, db_name):\n",
    "        \"\"\"Constructor\"\"\"\n",
    "        self.db_name = db_name\n",
    "\n",
    "    def __enter__(self):\n",
    "        \"\"\"\n",
    "        Open the database connection\n",
    "        \"\"\"\n",
    "        self.conn = sqlite3.connect(self.db_name)\n",
    "        return self.conn\n",
    "\n",
    "    def __exit__(self, exc_type, exc_val, exc_tb):\n",
    "        \"\"\"\n",
    "        Close the connection\n",
    "        \"\"\"\n",
    "        self.conn.close()\n",
    "        if exc_val:\n",
    "            raise\n",
    "\n",
    "if __name__ == '__main__':\n",
    "    db = 'data/test.db'\n",
    "    with DataConn(db) as conn:\n",
    "        cursor = conn.cursor()\n",
    "        # Create table\n",
    "        cursor.execute('''CREATE TABLE stocks\n",
    "                     (date text, trans text, symbol text, qty real, price real)''')\n",
    "        # Insert a row of data\n",
    "        cursor.execute(\"INSERT INTO stocks VALUES ('2006-01-05','BUY','RHAT',100,35.14)\")\n",
    "        # Save (commit) the changes\n",
    "        conn.commit()\n",
    "        cursor.execute(\"select * from stocks\")\n",
    "        print(cursor.fetchall())"
   ]
  },
  {
   "cell_type": "markdown",
   "metadata": {},
   "source": [
    "In the code above, we created a class that takes a path to a SQLite database file. The `__enter__` method executes automatically where it creates and returns the database connection object. Now that we have that, we can create a cursor and write to the database or query it. When we exit the with statement, it causes the `__exit__` method to execute and that closes the connection."
   ]
  }
 ],
 "metadata": {
  "kernelspec": {
   "display_name": "Python 3 (ipykernel)",
   "language": "python",
   "name": "python3"
  },
  "language_info": {
   "codemirror_mode": {
    "name": "ipython",
    "version": 3
   },
   "file_extension": ".py",
   "mimetype": "text/x-python",
   "name": "python",
   "nbconvert_exporter": "python",
   "pygments_lexer": "ipython3",
   "version": "3.9.12"
  }
 },
 "nbformat": 4,
 "nbformat_minor": 2
}
