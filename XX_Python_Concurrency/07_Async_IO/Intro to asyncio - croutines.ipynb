{
 "cells": [
  {
   "cell_type": "markdown",
   "id": "0d2647b3",
   "metadata": {},
   "source": [
    "# Intro to asyncio - croutines"
   ]
  },
  {
   "cell_type": "markdown",
   "id": "ddf4d2ae",
   "metadata": {},
   "source": [
    "## yield from"
   ]
  },
  {
   "cell_type": "code",
   "execution_count": 1,
   "id": "070ee566",
   "metadata": {},
   "outputs": [],
   "source": [
    "def sub_gen():\n",
    "    yield 1.1\n",
    "    yield 1.2"
   ]
  },
  {
   "cell_type": "code",
   "execution_count": 2,
   "id": "81b28b98",
   "metadata": {},
   "outputs": [],
   "source": [
    "def gen():\n",
    "    yield 1\n",
    "    for i in sub_gen():\n",
    "        yield i\n",
    "    yield 2"
   ]
  },
  {
   "cell_type": "code",
   "execution_count": 3,
   "id": "3b935008",
   "metadata": {},
   "outputs": [
    {
     "name": "stdout",
     "output_type": "stream",
     "text": [
      "1\n",
      "1.1\n",
      "1.2\n",
      "2\n"
     ]
    }
   ],
   "source": [
    "for x in gen():\n",
    "    print(x)"
   ]
  },
  {
   "cell_type": "markdown",
   "id": "13917c42",
   "metadata": {},
   "source": [
    "Isto s pomočjo yield form:"
   ]
  },
  {
   "cell_type": "code",
   "execution_count": 4,
   "id": "1c85a411",
   "metadata": {},
   "outputs": [
    {
     "name": "stdout",
     "output_type": "stream",
     "text": [
      "1\n",
      "1.1\n",
      "1.2\n",
      "2\n"
     ]
    }
   ],
   "source": [
    "def sub_gen():\n",
    "    yield 1.1\n",
    "    yield 1.2\n",
    "    \n",
    "def gen():\n",
    "    yield 1\n",
    "    yield from sub_gen()\n",
    "    yield 2\n",
    "    \n",
    "for x in gen():\n",
    "    print(x)"
   ]
  },
  {
   "cell_type": "code",
   "execution_count": 5,
   "id": "1634c3e1",
   "metadata": {},
   "outputs": [
    {
     "name": "stdout",
     "output_type": "stream",
     "text": [
      "1\n",
      "1.1\n",
      "1.2\n",
      "<-- Done!\n",
      "2\n"
     ]
    }
   ],
   "source": [
    "def sub_gen():\n",
    "    yield 1.1\n",
    "    yield 1.2\n",
    "    return \"Done!\"\n",
    "    \n",
    "def gen():\n",
    "    yield 1\n",
    "    result = yield from sub_gen()\n",
    "    print(\"<--\", result)\n",
    "    yield 2\n",
    "    \n",
    "for x in gen():\n",
    "    print(x)"
   ]
  },
  {
   "cell_type": "markdown",
   "id": "f80863f6",
   "metadata": {},
   "source": [
    "## Example chain"
   ]
  },
  {
   "cell_type": "code",
   "execution_count": 6,
   "id": "13a7e14d",
   "metadata": {},
   "outputs": [],
   "source": [
    "from itertools import chain"
   ]
  },
  {
   "cell_type": "code",
   "execution_count": 8,
   "id": "565fe02a",
   "metadata": {},
   "outputs": [
    {
     "data": {
      "text/plain": [
       "['A', 'B', 'C', 0, 1, 2, 6, 7, 8]"
      ]
     },
     "execution_count": 8,
     "metadata": {},
     "output_type": "execute_result"
    }
   ],
   "source": [
    "list(chain(\"ABC\", range(3), [6,7,8]))"
   ]
  },
  {
   "cell_type": "code",
   "execution_count": null,
   "id": "76d0ab5b",
   "metadata": {},
   "outputs": [],
   "source": []
  },
  {
   "cell_type": "code",
   "execution_count": 11,
   "id": "8ba94d8e",
   "metadata": {},
   "outputs": [],
   "source": [
    "def chain(*iterables):\n",
    "    print(iterables)\n",
    "    for it in iterables:\n",
    "        for i in it:\n",
    "            yield i"
   ]
  },
  {
   "cell_type": "code",
   "execution_count": 12,
   "id": "83c635b7",
   "metadata": {},
   "outputs": [
    {
     "name": "stdout",
     "output_type": "stream",
     "text": [
      "('ABC', range(0, 3), [6, 7, 8])\n"
     ]
    },
    {
     "data": {
      "text/plain": [
       "['A', 'B', 'C', 0, 1, 2, 6, 7, 8]"
      ]
     },
     "execution_count": 12,
     "metadata": {},
     "output_type": "execute_result"
    }
   ],
   "source": [
    "list(chain(\"ABC\", range(3), [6,7,8]))"
   ]
  },
  {
   "cell_type": "code",
   "execution_count": 15,
   "id": "d8034b1c",
   "metadata": {},
   "outputs": [],
   "source": [
    "def chain(*iterables):\n",
    "    print(iterables)\n",
    "    for it in iterables:\n",
    "        yield from it"
   ]
  },
  {
   "cell_type": "code",
   "execution_count": 16,
   "id": "136d4d92",
   "metadata": {},
   "outputs": [
    {
     "name": "stdout",
     "output_type": "stream",
     "text": [
      "('ABC', range(0, 3), [6, 7, 8])\n"
     ]
    },
    {
     "data": {
      "text/plain": [
       "['A', 'B', 'C', 0, 1, 2, 6, 7, 8]"
      ]
     },
     "execution_count": 16,
     "metadata": {},
     "output_type": "execute_result"
    }
   ],
   "source": [
    "list(chain(\"ABC\", range(3), [6,7,8]))"
   ]
  },
  {
   "cell_type": "markdown",
   "id": "6c0a11ba",
   "metadata": {},
   "source": [
    "## Classic coroutines"
   ]
  },
  {
   "cell_type": "code",
   "execution_count": 18,
   "id": "96166235",
   "metadata": {},
   "outputs": [],
   "source": [
    "def simple_coroutine():\n",
    "    print(\"start\")\n",
    "    y = yield\n",
    "    print(f\"data: {y}\")"
   ]
  },
  {
   "cell_type": "code",
   "execution_count": 19,
   "id": "e0d2970e",
   "metadata": {},
   "outputs": [],
   "source": [
    "my_coro = simple_coroutine()"
   ]
  },
  {
   "cell_type": "code",
   "execution_count": 20,
   "id": "c254597f",
   "metadata": {},
   "outputs": [
    {
     "data": {
      "text/plain": [
       "<generator object simple_coroutine at 0x7f7cf31ba9e0>"
      ]
     },
     "execution_count": 20,
     "metadata": {},
     "output_type": "execute_result"
    }
   ],
   "source": [
    "my_coro"
   ]
  },
  {
   "cell_type": "code",
   "execution_count": 21,
   "id": "fff9dc75",
   "metadata": {},
   "outputs": [
    {
     "name": "stdout",
     "output_type": "stream",
     "text": [
      "start\n"
     ]
    }
   ],
   "source": [
    "next(my_coro)"
   ]
  },
  {
   "cell_type": "code",
   "execution_count": 22,
   "id": "cbfd922b",
   "metadata": {},
   "outputs": [
    {
     "name": "stdout",
     "output_type": "stream",
     "text": [
      "data: 42\n"
     ]
    },
    {
     "ename": "StopIteration",
     "evalue": "",
     "output_type": "error",
     "traceback": [
      "\u001b[0;31m---------------------------------------------------------------------------\u001b[0m",
      "\u001b[0;31mStopIteration\u001b[0m                             Traceback (most recent call last)",
      "Input \u001b[0;32mIn [22]\u001b[0m, in \u001b[0;36m<cell line: 1>\u001b[0;34m()\u001b[0m\n\u001b[0;32m----> 1\u001b[0m \u001b[43mmy_coro\u001b[49m\u001b[38;5;241;43m.\u001b[39;49m\u001b[43msend\u001b[49m\u001b[43m(\u001b[49m\u001b[38;5;241;43m42\u001b[39;49m\u001b[43m)\u001b[49m\n",
      "\u001b[0;31mStopIteration\u001b[0m: "
     ]
    }
   ],
   "source": [
    "my_coro.send(42)"
   ]
  },
  {
   "cell_type": "code",
   "execution_count": 23,
   "id": "695693e5",
   "metadata": {},
   "outputs": [],
   "source": [
    "def simple_coroutine(a):\n",
    "    print(\"start a =\", a)\n",
    "    b = yield a\n",
    "    print(f\"rec: b={b}\")\n",
    "    c = yield a + b\n",
    "    print(f\"rec: c={c}\")"
   ]
  },
  {
   "cell_type": "code",
   "execution_count": 24,
   "id": "b11182e6",
   "metadata": {},
   "outputs": [],
   "source": [
    "my_coro2 = simple_coroutine(14)"
   ]
  },
  {
   "cell_type": "code",
   "execution_count": 25,
   "id": "e2307f8b",
   "metadata": {},
   "outputs": [],
   "source": [
    "from inspect import getgeneratorstate"
   ]
  },
  {
   "cell_type": "code",
   "execution_count": 26,
   "id": "64a46ebe",
   "metadata": {},
   "outputs": [
    {
     "data": {
      "text/plain": [
       "'GEN_CREATED'"
      ]
     },
     "execution_count": 26,
     "metadata": {},
     "output_type": "execute_result"
    }
   ],
   "source": [
    "getgeneratorstate(my_coro2)"
   ]
  },
  {
   "cell_type": "code",
   "execution_count": 27,
   "id": "0e624c69",
   "metadata": {},
   "outputs": [
    {
     "name": "stdout",
     "output_type": "stream",
     "text": [
      "start a = 14\n"
     ]
    },
    {
     "data": {
      "text/plain": [
       "14"
      ]
     },
     "execution_count": 27,
     "metadata": {},
     "output_type": "execute_result"
    }
   ],
   "source": [
    "next(my_coro2)"
   ]
  },
  {
   "cell_type": "code",
   "execution_count": 28,
   "id": "428b3818",
   "metadata": {},
   "outputs": [
    {
     "data": {
      "text/plain": [
       "'GEN_SUSPENDED'"
      ]
     },
     "execution_count": 28,
     "metadata": {},
     "output_type": "execute_result"
    }
   ],
   "source": [
    "getgeneratorstate(my_coro2)"
   ]
  },
  {
   "cell_type": "code",
   "execution_count": 29,
   "id": "169e509f",
   "metadata": {},
   "outputs": [
    {
     "name": "stdout",
     "output_type": "stream",
     "text": [
      "rec: b=28\n"
     ]
    },
    {
     "data": {
      "text/plain": [
       "42"
      ]
     },
     "execution_count": 29,
     "metadata": {},
     "output_type": "execute_result"
    }
   ],
   "source": [
    "my_coro2.send(28)"
   ]
  },
  {
   "cell_type": "code",
   "execution_count": 30,
   "id": "6b745910",
   "metadata": {},
   "outputs": [
    {
     "data": {
      "text/plain": [
       "'GEN_SUSPENDED'"
      ]
     },
     "execution_count": 30,
     "metadata": {},
     "output_type": "execute_result"
    }
   ],
   "source": [
    "getgeneratorstate(my_coro2)"
   ]
  },
  {
   "cell_type": "code",
   "execution_count": 31,
   "id": "057413ef",
   "metadata": {},
   "outputs": [
    {
     "name": "stdout",
     "output_type": "stream",
     "text": [
      "rec: c=99\n"
     ]
    },
    {
     "ename": "StopIteration",
     "evalue": "",
     "output_type": "error",
     "traceback": [
      "\u001b[0;31m---------------------------------------------------------------------------\u001b[0m",
      "\u001b[0;31mStopIteration\u001b[0m                             Traceback (most recent call last)",
      "Input \u001b[0;32mIn [31]\u001b[0m, in \u001b[0;36m<cell line: 1>\u001b[0;34m()\u001b[0m\n\u001b[0;32m----> 1\u001b[0m \u001b[43mmy_coro2\u001b[49m\u001b[38;5;241;43m.\u001b[39;49m\u001b[43msend\u001b[49m\u001b[43m(\u001b[49m\u001b[38;5;241;43m99\u001b[39;49m\u001b[43m)\u001b[49m\n",
      "\u001b[0;31mStopIteration\u001b[0m: "
     ]
    }
   ],
   "source": [
    "my_coro2.send(99)"
   ]
  },
  {
   "cell_type": "code",
   "execution_count": 32,
   "id": "6537aab8",
   "metadata": {},
   "outputs": [
    {
     "data": {
      "text/plain": [
       "'GEN_CLOSED'"
      ]
     },
     "execution_count": 32,
     "metadata": {},
     "output_type": "execute_result"
    }
   ],
   "source": [
    "getgeneratorstate(my_coro2)"
   ]
  },
  {
   "cell_type": "markdown",
   "id": "a395c611",
   "metadata": {},
   "source": [
    "### Running average"
   ]
  },
  {
   "cell_type": "code",
   "execution_count": 33,
   "id": "f8c50840",
   "metadata": {},
   "outputs": [],
   "source": [
    "def povprecje():\n",
    "    total = 0.0\n",
    "    count = 0\n",
    "    avg = 0.0\n",
    "    while True:\n",
    "        term = yield avg\n",
    "        total += term\n",
    "        count += 1\n",
    "        avg = total/count"
   ]
  },
  {
   "cell_type": "code",
   "execution_count": 34,
   "id": "baeb1481",
   "metadata": {},
   "outputs": [],
   "source": [
    "coro_avg = povprecje()"
   ]
  },
  {
   "cell_type": "code",
   "execution_count": 35,
   "id": "5c2a1733",
   "metadata": {},
   "outputs": [
    {
     "data": {
      "text/plain": [
       "0.0"
      ]
     },
     "execution_count": 35,
     "metadata": {},
     "output_type": "execute_result"
    }
   ],
   "source": [
    "next(coro_avg)"
   ]
  },
  {
   "cell_type": "code",
   "execution_count": 36,
   "id": "db27e97d",
   "metadata": {},
   "outputs": [
    {
     "data": {
      "text/plain": [
       "10.0"
      ]
     },
     "execution_count": 36,
     "metadata": {},
     "output_type": "execute_result"
    }
   ],
   "source": [
    "coro_avg.send(10)"
   ]
  },
  {
   "cell_type": "code",
   "execution_count": 37,
   "id": "a3f6395d",
   "metadata": {},
   "outputs": [
    {
     "data": {
      "text/plain": [
       "20.0"
      ]
     },
     "execution_count": 37,
     "metadata": {},
     "output_type": "execute_result"
    }
   ],
   "source": [
    "coro_avg.send(30)"
   ]
  },
  {
   "cell_type": "code",
   "execution_count": 38,
   "id": "0dc8659b",
   "metadata": {},
   "outputs": [
    {
     "data": {
      "text/plain": [
       "15.0"
      ]
     },
     "execution_count": 38,
     "metadata": {},
     "output_type": "execute_result"
    }
   ],
   "source": [
    "coro_avg.send(5)"
   ]
  },
  {
   "cell_type": "code",
   "execution_count": 39,
   "id": "2bbbeec2",
   "metadata": {},
   "outputs": [],
   "source": [
    "coro_avg.close()"
   ]
  },
  {
   "cell_type": "code",
   "execution_count": 40,
   "id": "5b25b091",
   "metadata": {},
   "outputs": [],
   "source": [
    "coro_avg.close()"
   ]
  },
  {
   "cell_type": "code",
   "execution_count": 41,
   "id": "d1a1ea44",
   "metadata": {},
   "outputs": [
    {
     "ename": "StopIteration",
     "evalue": "",
     "output_type": "error",
     "traceback": [
      "\u001b[0;31m---------------------------------------------------------------------------\u001b[0m",
      "\u001b[0;31mStopIteration\u001b[0m                             Traceback (most recent call last)",
      "Input \u001b[0;32mIn [41]\u001b[0m, in \u001b[0;36m<cell line: 1>\u001b[0;34m()\u001b[0m\n\u001b[0;32m----> 1\u001b[0m \u001b[43mcoro_avg\u001b[49m\u001b[38;5;241;43m.\u001b[39;49m\u001b[43msend\u001b[49m\u001b[43m(\u001b[49m\u001b[38;5;241;43m5\u001b[39;49m\u001b[43m)\u001b[49m\n",
      "\u001b[0;31mStopIteration\u001b[0m: "
     ]
    }
   ],
   "source": [
    "coro_avg.send(5)"
   ]
  },
  {
   "cell_type": "markdown",
   "id": "47a57d98",
   "metadata": {},
   "source": [
    "### Vračanje vrednosti iz corotiun"
   ]
  },
  {
   "cell_type": "code",
   "execution_count": 42,
   "id": "76742694",
   "metadata": {},
   "outputs": [],
   "source": [
    "from typing import NamedTuple\n",
    "\n",
    "class Result(NamedTuple):\n",
    "    count: int\n",
    "    average: float\n",
    "        \n",
    "class Sentinel:\n",
    "    def __repr__(self):\n",
    "        return f\"<Sentinel>\"\n",
    "    \n",
    "STOP = Sentinel()\n",
    "\n",
    "def povprecje():\n",
    "    total = 0.0\n",
    "    count = 0\n",
    "    avg = 0.0\n",
    "    while True:\n",
    "        term = yield\n",
    "        print(\"rec: \", term)\n",
    "        if isinstance(term, Sentinel):\n",
    "            break\n",
    "        total += term\n",
    "        count += 1\n",
    "        avg = total/count\n",
    "    return Result(count, avg)"
   ]
  },
  {
   "cell_type": "code",
   "execution_count": 43,
   "id": "f6cba9fc",
   "metadata": {},
   "outputs": [],
   "source": [
    "coro_avg = povprecje()"
   ]
  },
  {
   "cell_type": "code",
   "execution_count": 44,
   "id": "910b29bc",
   "metadata": {},
   "outputs": [],
   "source": [
    "next(coro_avg)"
   ]
  },
  {
   "cell_type": "code",
   "execution_count": 45,
   "id": "2082a55b",
   "metadata": {},
   "outputs": [
    {
     "name": "stdout",
     "output_type": "stream",
     "text": [
      "rec:  10\n"
     ]
    }
   ],
   "source": [
    "coro_avg.send(10)"
   ]
  },
  {
   "cell_type": "code",
   "execution_count": 46,
   "id": "b26ed27c",
   "metadata": {},
   "outputs": [
    {
     "name": "stdout",
     "output_type": "stream",
     "text": [
      "rec:  30\n"
     ]
    }
   ],
   "source": [
    "coro_avg.send(30)"
   ]
  },
  {
   "cell_type": "code",
   "execution_count": 47,
   "id": "1ad841f9",
   "metadata": {},
   "outputs": [
    {
     "name": "stdout",
     "output_type": "stream",
     "text": [
      "rec:  20\n"
     ]
    }
   ],
   "source": [
    "coro_avg.send(20)"
   ]
  },
  {
   "cell_type": "code",
   "execution_count": 48,
   "id": "706577ba",
   "metadata": {},
   "outputs": [
    {
     "name": "stdout",
     "output_type": "stream",
     "text": [
      "rec:  10\n"
     ]
    }
   ],
   "source": [
    "coro_avg.send(10)"
   ]
  },
  {
   "cell_type": "code",
   "execution_count": 49,
   "id": "78b2c87f",
   "metadata": {},
   "outputs": [],
   "source": [
    "coro_avg.close()"
   ]
  },
  {
   "cell_type": "code",
   "execution_count": null,
   "id": "5049cc61",
   "metadata": {},
   "outputs": [],
   "source": []
  },
  {
   "cell_type": "code",
   "execution_count": 50,
   "id": "8d413476",
   "metadata": {},
   "outputs": [
    {
     "name": "stdout",
     "output_type": "stream",
     "text": [
      "rec:  30\n",
      "rec:  20\n",
      "rec:  10\n",
      "rec:  <Sentinel>\n",
      "Result(count=3, average=20.0)\n"
     ]
    }
   ],
   "source": [
    "coro_avg = povprecje()\n",
    "next(coro_avg)\n",
    "coro_avg.send(30)\n",
    "coro_avg.send(20)\n",
    "coro_avg.send(10)\n",
    "\n",
    "try:\n",
    "    coro_avg.send(STOP)\n",
    "except StopIteration as exc:\n",
    "    result = exc.value\n",
    "\n",
    "print(result)"
   ]
  },
  {
   "cell_type": "code",
   "execution_count": 51,
   "id": "b9924eb4",
   "metadata": {},
   "outputs": [],
   "source": [
    "def compute():\n",
    "    res = yield from povprecje()\n",
    "    print(f\"res = {res}\")\n",
    "    return res"
   ]
  },
  {
   "cell_type": "code",
   "execution_count": 52,
   "id": "2d329549",
   "metadata": {},
   "outputs": [],
   "source": [
    "com = compute()"
   ]
  },
  {
   "cell_type": "code",
   "execution_count": 53,
   "id": "b8266200",
   "metadata": {},
   "outputs": [
    {
     "name": "stdout",
     "output_type": "stream",
     "text": [
      "rec:  10\n",
      "rec:  20\n",
      "rec:  30\n",
      "rec:  <Sentinel>\n",
      "res = Result(count=3, average=20.0)\n",
      "Result(count=3, average=20.0)\n"
     ]
    }
   ],
   "source": [
    "for v in [None, 10, 20, 30, STOP]:\n",
    "    try:\n",
    "        com.send(v)\n",
    "    except StopIteration as exc:\n",
    "        result = exc.value\n",
    "\n",
    "print(result)"
   ]
  }
 ],
 "metadata": {
  "kernelspec": {
   "display_name": "Python 3 (ipykernel)",
   "language": "python",
   "name": "python3"
  },
  "language_info": {
   "codemirror_mode": {
    "name": "ipython",
    "version": 3
   },
   "file_extension": ".py",
   "mimetype": "text/x-python",
   "name": "python",
   "nbconvert_exporter": "python",
   "pygments_lexer": "ipython3",
   "version": "3.9.0"
  }
 },
 "nbformat": 4,
 "nbformat_minor": 5
}
