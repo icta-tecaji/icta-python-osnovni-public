{
 "cells": [
  {
   "cell_type": "markdown",
   "id": "ec02a745",
   "metadata": {},
   "source": [
    "# Building a Concurrent Web Scraper with Python and Selenium"
   ]
  },
  {
   "cell_type": "markdown",
   "id": "b7c858c8",
   "metadata": {},
   "source": [
    "https://testdriven.io/blog/building-a-concurrent-web-scraper-with-python-and-selenium/"
   ]
  },
  {
   "cell_type": "markdown",
   "id": "f2ef584a",
   "metadata": {},
   "source": [
    "This article looks at how to speed up a Python web scraping and crawling script with multithreading via the concurrent.futures module. We'll also break down the script itself and show how to test the parsing functionality with pytest."
   ]
  },
  {
   "cell_type": "markdown",
   "id": "19f1a12a",
   "metadata": {},
   "source": [
    "Install ChromeDriver globally."
   ]
  },
  {
   "cell_type": "markdown",
   "id": "6afc911f",
   "metadata": {},
   "source": [
    "https://sites.google.com/chromium.org/driver/"
   ]
  },
  {
   "cell_type": "markdown",
   "id": "84b85730",
   "metadata": {},
   "source": [
    "https://chromedriver.storage.googleapis.com/index.html?path=101.0.4951.41/"
   ]
  },
  {
   "cell_type": "markdown",
   "id": "7624e68f",
   "metadata": {},
   "source": [
    "    curl https://chromedriver.storage.googleapis.com/101.0.4951.41/chromedriver_linux64.zip\n",
    "    unzip chromedriver_linux64.zip\n"
   ]
  },
  {
   "cell_type": "markdown",
   "id": "935d3427",
   "metadata": {},
   "source": [
    "- Install Chrome\n"
   ]
  },
  {
   "cell_type": "markdown",
   "id": "071a9458",
   "metadata": {},
   "source": [
    "## Script Overview"
   ]
  },
  {
   "cell_type": "markdown",
   "id": "6bffe57d",
   "metadata": {},
   "source": [
    "The script makes 20 requests to Wikipedia:Random -- https://en.wikipedia.org/wiki/Special:Random -- for information about each article using Selenium to automate interaction with the site and Beautiful Soup to parse the HTML."
   ]
  },
  {
   "cell_type": "code",
   "execution_count": null,
   "id": "69ae5b39",
   "metadata": {},
   "outputs": [],
   "source": []
  },
  {
   "cell_type": "code",
   "execution_count": null,
   "id": "7e5503ab",
   "metadata": {},
   "outputs": [],
   "source": []
  },
  {
   "cell_type": "code",
   "execution_count": null,
   "id": "edf40445",
   "metadata": {},
   "outputs": [],
   "source": []
  },
  {
   "cell_type": "code",
   "execution_count": null,
   "id": "e516ffc7",
   "metadata": {},
   "outputs": [],
   "source": []
  },
  {
   "cell_type": "code",
   "execution_count": null,
   "id": "e6262db2",
   "metadata": {},
   "outputs": [],
   "source": []
  },
  {
   "cell_type": "code",
   "execution_count": null,
   "id": "891c0ac2",
   "metadata": {},
   "outputs": [],
   "source": []
  },
  {
   "cell_type": "code",
   "execution_count": null,
   "id": "92ebb983",
   "metadata": {},
   "outputs": [],
   "source": []
  }
 ],
 "metadata": {
  "kernelspec": {
   "display_name": "Python 3 (ipykernel)",
   "language": "python",
   "name": "python3"
  },
  "language_info": {
   "codemirror_mode": {
    "name": "ipython",
    "version": 3
   },
   "file_extension": ".py",
   "mimetype": "text/x-python",
   "name": "python",
   "nbconvert_exporter": "python",
   "pygments_lexer": "ipython3",
   "version": "3.9.0"
  }
 },
 "nbformat": 4,
 "nbformat_minor": 5
}
