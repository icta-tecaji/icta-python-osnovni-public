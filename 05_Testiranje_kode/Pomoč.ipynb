{
 "cells": [
  {
   "cell_type": "markdown",
   "id": "c617b2e0",
   "metadata": {},
   "source": [
    "# args in kwargs"
   ]
  },
  {
   "cell_type": "code",
   "execution_count": 13,
   "id": "6ad5bbc6",
   "metadata": {},
   "outputs": [],
   "source": [
    "def moj_seštevalnik(*args, **kwargs):\n",
    "    print(args)\n",
    "    print(kwargs)"
   ]
  },
  {
   "cell_type": "code",
   "execution_count": 16,
   "id": "422b1f90",
   "metadata": {},
   "outputs": [
    {
     "name": "stdout",
     "output_type": "stream",
     "text": [
      "(1, 2, 3, 45, 6, 77, 8)\n",
      "{'test': True, 'haha': 'smeh'}\n"
     ]
    }
   ],
   "source": [
    "moj_seštevalnik(1,2,3,45,6,77,8, test=True, haha=\"smeh\")"
   ]
  },
  {
   "cell_type": "code",
   "execution_count": 17,
   "id": "67b3f090",
   "metadata": {},
   "outputs": [
    {
     "name": "stdout",
     "output_type": "stream",
     "text": [
      "(1, 2, 3, 4)\n",
      "{}\n"
     ]
    }
   ],
   "source": [
    "moj_seštevalnik(1,2,3,4)"
   ]
  },
  {
   "cell_type": "code",
   "execution_count": null,
   "id": "3936f5c9",
   "metadata": {},
   "outputs": [],
   "source": []
  },
  {
   "cell_type": "code",
   "execution_count": null,
   "id": "5b985e4a",
   "metadata": {},
   "outputs": [],
   "source": []
  },
  {
   "cell_type": "code",
   "execution_count": null,
   "id": "d70b3231",
   "metadata": {},
   "outputs": [],
   "source": []
  }
 ],
 "metadata": {
  "kernelspec": {
   "display_name": "Python 3 (ipykernel)",
   "language": "python",
   "name": "python3"
  },
  "language_info": {
   "codemirror_mode": {
    "name": "ipython",
    "version": 3
   },
   "file_extension": ".py",
   "mimetype": "text/x-python",
   "name": "python",
   "nbconvert_exporter": "python",
   "pygments_lexer": "ipython3",
   "version": "3.9.0"
  }
 },
 "nbformat": 4,
 "nbformat_minor": 5
}
