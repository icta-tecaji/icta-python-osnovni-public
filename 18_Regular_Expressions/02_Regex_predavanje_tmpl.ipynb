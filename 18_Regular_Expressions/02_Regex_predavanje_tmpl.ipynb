{
 "cells": [
  {
   "cell_type": "markdown",
   "metadata": {},
   "source": [
    "# Regex"
   ]
  },
  {
   "cell_type": "code",
   "execution_count": 4,
   "metadata": {},
   "outputs": [
    {
     "data": {
      "text/plain": [
       "True"
      ]
     },
     "execution_count": 4,
     "metadata": {},
     "output_type": "execute_result"
    }
   ],
   "source": [
    "s = \"trl 456 alala23674dfcd234\"\n",
    "\"234\" in s\n"
   ]
  },
  {
   "cell_type": "code",
   "execution_count": 14,
   "metadata": {},
   "outputs": [],
   "source": [
    "import re\n",
    "\n",
    "# re.search(<regex>, <string>)\n",
    "s = \"trl 456 alala23674dfcd234\"\n",
    "# res = re.search(r\"\\d\", s)\n",
    "# find only the combintions of three numbers together in the string, if are more skip them\n",
    "for res in re.finditer(r\"/^ \\d{3}$/\", s):\n",
    "    print(res)"
   ]
  },
  {
   "cell_type": "code",
   "execution_count": null,
   "metadata": {},
   "outputs": [],
   "source": [
    "emails = ['n.john.smith@gmail.com', '87victory@hotmail.com', '!#mary-=@msca.net', 'mary-=@msca-net']\n",
    "\n",
    "# samo male crke, številke in ., -\n",
    "# črke, številke, in ., -, more se končat da je zadeva domena\n",
    "\n",
    "\n",
    "\n",
    "\n"
   ]
  },
  {
   "cell_type": "markdown",
   "metadata": {},
   "source": [
    "### Struct to dict"
   ]
  },
  {
   "cell_type": "code",
   "execution_count": 50,
   "metadata": {},
   "outputs": [
    {
     "data": {
      "text/plain": [
       "{'wt_common_version_param_t': {'wt_major': '0',\n",
       "  'wt_minor': '4',\n",
       "  'wt_build': '6'},\n",
       " 'wt_common_pu_version_param_t': {'pu_major': '2',\n",
       "  'pu_minor': '0',\n",
       "  'pu_build': '3'},\n",
       " 'wt_common_pu_version_compatibility_param_t': {'min_major': '2',\n",
       "  'min_minor': '0',\n",
       "  'min_build': '3',\n",
       "  'max_major': '255',\n",
       "  'max_minor': '255',\n",
       "  'max_build': '255'},\n",
       " 'wt_common_mu_version_compatibility_param_t': {'min_major': '2',\n",
       "  'min_minor': '4',\n",
       "  'min_build': '39',\n",
       "  'max_major': '3',\n",
       "  'max_minor': '4',\n",
       "  'max_build': '255'},\n",
       " 'wt_common_ui_version_compatibility_param_t': {'min_major': '2',\n",
       "  'min_minor': '0',\n",
       "  'min_build': '3',\n",
       "  'max_major': '2',\n",
       "  'max_minor': '255',\n",
       "  'max_build': '255'},\n",
       " 'wt_common_debug_param_t': {'number_of_program_repeats': '0',\n",
       "  'pause_between_programs_in_sec': '10'},\n",
       " 'wt_trace_config_param_t': {'port': '5', 'disable': '0'},\n",
       " 'wt_common_dams_param_t': {'drum_type': 'WT_DRUM_TYPE_68L_10kg',\n",
       "  'max_spin': 'WT_SPIN_1600',\n",
       "  'motor': 'WT_MOTOR_KING3',\n",
       "  'mu_config': 'WT_MU_MACHINE_TYPE_1_838535',\n",
       "  'zero_inertia_low': '0.008182636',\n",
       "  'zero_inertia_high': '0.010502395',\n",
       "  'zero_inertia_high_4_turns': '0.01068',\n",
       "  'zero_unbalance_low': '0.004399234',\n",
       "  'zero_unbalance_high': '0.005140646',\n",
       "  'mwc_inter_x0': '0',\n",
       "  'mwc_inter_x1': '0.00283',\n",
       "  'mwc_inter_x2': '0.00442',\n",
       "  'mwc_inter_x3': '0.00586',\n",
       "  'mwc_inter_x4': '0.00841',\n",
       "  'mwc_inter_y0': '0',\n",
       "  'mwc_inter_y1': '2000',\n",
       "  'mwc_inter_y2': '4000',\n",
       "  'mwc_inter_y3': '6000',\n",
       "  'mwc_inter_y4': '10000',\n",
       "  'production_test_number': '33',\n",
       "  'AuBallLimitLow': '0.1',\n",
       "  'AuBallLimitHigh': '0.1'},\n",
       " 'wt_common_tte_time_limit_param_t': {'total_percent': '20',\n",
       "  'additional_time': '120'},\n",
       " 'wt_common_foam_detection_param_t': {'enable': '1',\n",
       "  'detect_time': '60',\n",
       "  'detect_level': '30'},\n",
       " 'wt_common_antifoam_intermediate_param_t': {'trial_counter': '2',\n",
       "  'wait_time': '10',\n",
       "  'fill_time': '60',\n",
       "  'drain_time': '60'},\n",
       " 'wt_common_antifoam_final_param_t': {'drain_time': '60',\n",
       "  'trial_max': '7',\n",
       "  'recirculation_time': '10',\n",
       "  'repeated_spin_max': '3',\n",
       "  'unremoved_foam_counter_max': '1',\n",
       "  'second_drain_time': '240'},\n",
       " 'wt_common_steril_tub_alert_param_t': {'max_cycles': '40', 'max_alert': '6'},\n",
       " 'wt_common_door_lock_param_t': {'lock_t1': '2500',\n",
       "  'lock_t2': '5000',\n",
       "  'unlock_t1': '500',\n",
       "  'unlock_t2': '5000',\n",
       "  'unlock_t3': '6500'}}"
      ]
     },
     "execution_count": 50,
     "metadata": {},
     "output_type": "execute_result"
    }
   ],
   "source": [
    "from pathlib import Path\n",
    "import re\n",
    "\n",
    "path = Path(\"data/wt_common.h\")\n",
    "with path.open() as f:\n",
    "    data = f.read()\n",
    "\n",
    "\n",
    "STRUCT_EXTRACTOR_REGEX = re.compile(r\"\\{(.*)\\}\\s?([\\d\\w_]+);.*\\#define.+\\{(.+)\\}.+\")\n",
    "final_structs = {}\n",
    "\n",
    "for struct_data in data.split(\"typedef struct\")[1:]:\n",
    "    struct_data = \"\".join([char for char in struct_data if char not in \"\\n\\t\"])\n",
    "    res_struct = STRUCT_EXTRACTOR_REGEX.search(struct_data)\n",
    "    if res_struct:\n",
    "        variables = [\n",
    "            var.split()[1].strip()\n",
    "            for var in res_struct.group(1).split(\";\")\n",
    "            if var != \"\"\n",
    "        ]\n",
    "        values = [\n",
    "            val.strip()\n",
    "            for val in res_struct.group(3).replace(\"\\\\\", \"\").split(\"}\")[0].split(\",\")\n",
    "        ]\n",
    "        struct_name = res_struct.group(2)\n",
    "        final_structs[struct_name] = dict(zip(variables, values))\n",
    "    else:\n",
    "        print(\"WARNING: No match found\")\n",
    "\n",
    "final_structs"
   ]
  },
  {
   "cell_type": "code",
   "execution_count": null,
   "metadata": {},
   "outputs": [],
   "source": []
  }
 ],
 "metadata": {
  "kernelspec": {
   "display_name": ".venv",
   "language": "python",
   "name": "python3"
  },
  "language_info": {
   "codemirror_mode": {
    "name": "ipython",
    "version": 3
   },
   "file_extension": ".py",
   "mimetype": "text/x-python",
   "name": "python",
   "nbconvert_exporter": "python",
   "pygments_lexer": "ipython3",
   "version": "3.12.0"
  }
 },
 "nbformat": 4,
 "nbformat_minor": 2
}
