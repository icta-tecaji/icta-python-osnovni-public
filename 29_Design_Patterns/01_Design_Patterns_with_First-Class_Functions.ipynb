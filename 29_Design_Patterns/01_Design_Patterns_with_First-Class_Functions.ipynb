{
 "cells": [
  {
   "cell_type": "markdown",
   "id": "1681f573",
   "metadata": {},
   "source": [
    "# Design Patterns with First-Class Functions"
   ]
  },
  {
   "cell_type": "markdown",
   "id": "6298569f",
   "metadata": {},
   "source": [
    "**In software engineering, a design pattern is a general recipe for solving a common design problem.**"
   ]
  },
  {
   "cell_type": "markdown",
   "id": "ff86f8c5",
   "metadata": {},
   "source": [
    "The use of design patterns in programming was popularized by the landmark book Design Patterns: Elements of Reusable Object-Oriented Software (Addison-Wesley) by Erich Gamma, Richard Helm, Ralph Johnson, and John Vlissides—a.k.a. “the Gang of Four.” The book is a catalog of 23 patterns consisting of arrangements of classes exemplified with code in C++, but assumed to be useful in other object-oriented languages as well."
   ]
  },
  {
   "cell_type": "markdown",
   "id": "cd09908f",
   "metadata": {},
   "source": [
    "**Although design patterns are language independent, that does not mean every pattern applies to every language.**"
   ]
  },
  {
   "cell_type": "markdown",
   "id": "3b2b79ad",
   "metadata": {},
   "source": [
    "The authors of Design Patterns acknowledge in their introduction that the implementation language determines which patterns are relevant:"
   ]
  },
  {
   "cell_type": "markdown",
   "id": "1b931c50",
   "metadata": {},
   "source": [
    "> The choice of programming language is important because it influences one’s point of view. Our patterns assume Smalltalk/C++-level language features, and that choice determines what can and cannot be implemented easily. If we assumed procedural languages, we might have included design patterns called “Inheritance,” “Encapsulation,” and “Polymorphism.” Similarly, some of our patterns are supported directly by the less common object-oriented languages. CLOS has multi-methods, for example, which lessen the need for a pattern such as Visitor."
   ]
  },
  {
   "cell_type": "markdown",
   "id": "3bc955bc",
   "metadata": {},
   "source": [
    "In his 1996 presentation, “Design Patterns in Dynamic Languages”, Peter Norvig states that 16 out of the 23 patterns in the original Design Patterns book become either “invisible or simpler” in a dynamic language (slide 9). He’s talking about the Lisp and Dylan languages, but many of the relevant dynamic features are also present in Python. In particular, in the context of languages with first-class functions, Norvig suggests rethinking the classic patterns known as Strategy, Command, Template Method, and Visitor."
   ]
  },
  {
   "cell_type": "markdown",
   "id": "01b6d13e",
   "metadata": {},
   "source": [
    "**In some cases functions can do the same work as classes, with code that is more readable and concise.**"
   ]
  },
  {
   "cell_type": "markdown",
   "id": "65620def",
   "metadata": {},
   "source": [
    "## Case Study: Refactoring Strategy"
   ]
  },
  {
   "cell_type": "markdown",
   "id": "0e4aa328",
   "metadata": {},
   "source": [
    "Strategy is a good example of a design pattern that can be simpler in Python if you leverage functions as first-class objects. In the following section, we describe and implement Strategy using the “classic” structure described in Design Patterns. If you are familiar with the classic pattern, you can skip to “Function-Oriented Strategy” where we refactor the code using functions, significantly reducing the line count."
   ]
  },
  {
   "cell_type": "markdown",
   "id": "f7beb78d",
   "metadata": {},
   "source": [
    "### Classic Strategy"
   ]
  },
  {
   "cell_type": "markdown",
   "id": "a7f37b22",
   "metadata": {},
   "source": [
    "The Strategy pattern is summarized like this in Design Patterns:\n",
    "- **Define a family of algorithms, encapsulate each one, and make them interchangeable. Strategy lets the algorithm vary independently from clients that use it.**"
   ]
  },
  {
   "cell_type": "markdown",
   "id": "a9c19f28",
   "metadata": {},
   "source": [
    "A clear example of Strategy applied in the ecommerce domain is computing discounts to orders according to the attributes of the customer or inspection of the ordered items.\n",
    "\n",
    "Consider an online store with these discount rules:\n",
    "- Customers with 1,000 or more fidelity points get a global 5% discount per order.\n",
    "- A 10% discount is applied to each line item with 20 or more units in the same order.\n",
    "- Orders with at least 10 distinct items get a 7% global discount.\n",
    "\n",
    "For brevity, let’s assume that only one discount may be applied to an order."
   ]
  },
  {
   "cell_type": "markdown",
   "id": "580f5e01",
   "metadata": {},
   "source": [
    "The UML class diagram for the Strategy pattern is depicted in Figure 10-1. Its participants are:"
   ]
  },
  {
   "cell_type": "markdown",
   "id": "9b031fef",
   "metadata": {},
   "source": [
    "<img src=\"images/img1.png\" height=\"100\"/>"
   ]
  },
  {
   "cell_type": "markdown",
   "id": "73d75ec0",
   "metadata": {},
   "source": [
    "- **Context**: Provides a service by delegating some computation to interchangeable components that implement alternative algorithms. In the ecommerce example, the context is an Order, which is configured to apply a promotional discount according to one of several algorithms.\n",
    "- **Strategy**: The interface common to the components that implement the different algorithms. In our example, this role is played by an abstract class called Promotion.\n",
    "- **Concrete strategy**: One of the concrete subclasses of Strategy. FidelityPromo, BulkPromo, and LargeOrderPromo are the three concrete strategies implemented."
   ]
  },
  {
   "cell_type": "markdown",
   "id": "5ba82660",
   "metadata": {},
   "source": [
    "The code in Example 10-1 follows the blueprint in Figure 10-1. As described in Design Patterns, the concrete strategy is chosen by the client of the context class. In our example, before instantiating an order, the system would somehow select a promotional discount strategy and pass it to the Order constructor. The selection of the strategy is outside the scope of the pattern."
   ]
  },
  {
   "cell_type": "code",
   "execution_count": 1,
   "id": "0a8eb91e",
   "metadata": {},
   "outputs": [],
   "source": [
    "# 01_primer.py\n",
    "from abc import ABC, abstractmethod\n",
    "from collections.abc import Sequence\n",
    "from decimal import Decimal\n",
    "from typing import NamedTuple, Optional\n",
    "\n",
    "\n",
    "class Customer(NamedTuple):\n",
    "    name: str\n",
    "    fidelity: int\n",
    "\n",
    "\n",
    "class LineItem(NamedTuple):\n",
    "    product: str\n",
    "    quantity: int\n",
    "    price: Decimal\n",
    "        \n",
    "    def total(self) -> Decimal:\n",
    "        return self.price * self.quantity\n",
    "    \n",
    "class Order(NamedTuple):  # the Context\n",
    "    customer: Customer\n",
    "    cart: Sequence[LineItem]\n",
    "    promotion: Optional['Promotion'] = None\n",
    "\n",
    "    def total(self) -> Decimal:\n",
    "        totals = (item.total() for item in self.cart)\n",
    "        return sum(totals, start=Decimal(0))\n",
    "\n",
    "    def due(self) -> Decimal:\n",
    "        if self.promotion is None:\n",
    "            discount = Decimal(0)\n",
    "        else:\n",
    "            discount = self.promotion.discount(self)\n",
    "        return self.total() - discount\n",
    "\n",
    "    def __repr__(self):\n",
    "        return f'<Order total: {self.total():.2f} due: {self.due():.2f}>'\n",
    "\n",
    "\n",
    "class Promotion(ABC):  # the Strategy: an abstract base class\n",
    "    @abstractmethod\n",
    "    def discount(self, order: Order) -> Decimal:\n",
    "        \"\"\"Return discount as a positive dollar amount\"\"\"\n",
    "\n",
    "\n",
    "class FidelityPromo(Promotion):  # first Concrete Strategy\n",
    "    \"\"\"5% discount for customers with 1000 or more fidelity points\"\"\"\n",
    "\n",
    "    def discount(self, order: Order) -> Decimal:\n",
    "        rate = Decimal('0.05')\n",
    "        if order.customer.fidelity >= 1000:\n",
    "            return order.total() * rate\n",
    "        return Decimal(0)\n",
    "\n",
    "\n",
    "class BulkItemPromo(Promotion):  # second Concrete Strategy\n",
    "    \"\"\"10% discount for each LineItem with 20 or more units\"\"\"\n",
    "\n",
    "    def discount(self, order: Order) -> Decimal:\n",
    "        discount = Decimal(0)\n",
    "        for item in order.cart:\n",
    "            if item.quantity >= 20:\n",
    "                discount += item.total() * Decimal('0.1')\n",
    "        return discount\n",
    "\n",
    "\n",
    "class LargeOrderPromo(Promotion):  # third Concrete Strategy\n",
    "    \"\"\"7% discount for orders with 10 or more distinct items\"\"\"\n",
    "\n",
    "    def discount(self, order: Order) -> Decimal:\n",
    "        distinct_items = {item.product for item in order.cart}\n",
    "        if len(distinct_items) >= 10:\n",
    "            return order.total() * Decimal('0.07')\n",
    "        return Decimal(0)"
   ]
  },
  {
   "cell_type": "markdown",
   "id": "7823245e",
   "metadata": {},
   "source": [
    "Note that in Example 10-1, I coded Promotion as an abstract base class (ABC) to use the @abstractmethod decorator and make the pattern more explicit."
   ]
  },
  {
   "cell_type": "markdown",
   "id": "cfa93ac7",
   "metadata": {},
   "source": [
    "Shows doctests used to demonstrate and verify the operation of a module implementing the rules described earlier."
   ]
  },
  {
   "cell_type": "code",
   "execution_count": 2,
   "id": "110246b3",
   "metadata": {},
   "outputs": [],
   "source": [
    "joe = Customer('John Doe', 0)"
   ]
  },
  {
   "cell_type": "code",
   "execution_count": 3,
   "id": "f6660f4a",
   "metadata": {},
   "outputs": [],
   "source": [
    "ann = Customer('Ann Smith', 1100)\n",
    "# Two customers: joe has 0 fidelity points, ann has 1,100"
   ]
  },
  {
   "cell_type": "code",
   "execution_count": 4,
   "id": "2b8c1631",
   "metadata": {},
   "outputs": [],
   "source": [
    "# One shopping cart with three line items\n",
    "cart = (LineItem('banana', 4, Decimal('.5')),  \n",
    "        LineItem('apple', 10, Decimal('1.5')),\n",
    "        LineItem('watermelon', 5, Decimal(5)))"
   ]
  },
  {
   "cell_type": "code",
   "execution_count": 5,
   "id": "498e9a9c",
   "metadata": {},
   "outputs": [
    {
     "data": {
      "text/plain": [
       "<Order total: 42.00 due: 42.00>"
      ]
     },
     "execution_count": 5,
     "metadata": {},
     "output_type": "execute_result"
    }
   ],
   "source": [
    "# The FidelityPromo promotion gives no discount to joe.\n",
    "Order(joe, cart, FidelityPromo())"
   ]
  },
  {
   "cell_type": "code",
   "execution_count": 7,
   "id": "24d91687",
   "metadata": {},
   "outputs": [
    {
     "data": {
      "text/plain": [
       "<Order total: 42.00 due: 39.90>"
      ]
     },
     "execution_count": 7,
     "metadata": {},
     "output_type": "execute_result"
    }
   ],
   "source": [
    "# ann gets a 5% discount because she has at least 1,000 points\n",
    "Order(ann, cart, FidelityPromo())"
   ]
  },
  {
   "cell_type": "code",
   "execution_count": 8,
   "id": "07fab924",
   "metadata": {},
   "outputs": [],
   "source": [
    "# The banana_cart has 30 units of the \"banana\" product and 10 apples.\n",
    "banana_cart = (LineItem('banana', 30, Decimal('.5')),  \n",
    "               LineItem('apple', 10, Decimal('1.5')))"
   ]
  },
  {
   "cell_type": "code",
   "execution_count": 9,
   "id": "8a9b8f02",
   "metadata": {},
   "outputs": [
    {
     "data": {
      "text/plain": [
       "<Order total: 30.00 due: 28.50>"
      ]
     },
     "execution_count": 9,
     "metadata": {},
     "output_type": "execute_result"
    }
   ],
   "source": [
    "# Thanks to the BulkItemPromo, joe gets a $1.50 discount on the bananas.\n",
    "Order(joe, banana_cart, BulkItemPromo())"
   ]
  },
  {
   "cell_type": "code",
   "execution_count": 11,
   "id": "54b24e34",
   "metadata": {},
   "outputs": [],
   "source": [
    "# long_cart has 10 different items at $1.00 each\n",
    "long_cart = tuple(LineItem(str(sku), 1, Decimal(1)) for sku in range(10))"
   ]
  },
  {
   "cell_type": "code",
   "execution_count": 12,
   "id": "70e15d89",
   "metadata": {},
   "outputs": [
    {
     "data": {
      "text/plain": [
       "<Order total: 10.00 due: 9.30>"
      ]
     },
     "execution_count": 12,
     "metadata": {},
     "output_type": "execute_result"
    }
   ],
   "source": [
    "# joe gets a 7% discount on the whole order because of LargerOrderPromo.\n",
    "Order(joe, long_cart, LargeOrderPromo())"
   ]
  },
  {
   "cell_type": "code",
   "execution_count": 13,
   "id": "e0260b3e",
   "metadata": {},
   "outputs": [
    {
     "data": {
      "text/plain": [
       "<Order total: 42.00 due: 42.00>"
      ]
     },
     "execution_count": 13,
     "metadata": {},
     "output_type": "execute_result"
    }
   ],
   "source": [
    "Order(joe, cart, LargeOrderPromo())"
   ]
  },
  {
   "cell_type": "markdown",
   "id": "9ad4e623",
   "metadata": {},
   "source": [
    "Example 10-1 works perfectly well, but the same functionality can be implemented with less code in Python by using functions as objects. The next section shows how."
   ]
  },
  {
   "cell_type": "markdown",
   "id": "6a35e860",
   "metadata": {},
   "source": [
    "### Function-Oriented Strategy"
   ]
  },
  {
   "cell_type": "markdown",
   "id": "9c734827",
   "metadata": {},
   "source": [
    "Each concrete strategy in Example 10-1 is a class with a single method, discount. Furthermore, **the strategy instances have no state (no instance attributes). You could say they look a lot like plain functions, and you would be right**. Example 10-3 is a refactoring of Example 10-1, replacing the concrete strategies with simple functions and removing the Promo abstract class. Only small adjustments are needed in the Order class."
   ]
  },
  {
   "cell_type": "code",
   "execution_count": 16,
   "id": "858c83ce",
   "metadata": {},
   "outputs": [],
   "source": [
    "from collections.abc import Sequence\n",
    "from dataclasses import dataclass\n",
    "from decimal import Decimal\n",
    "from typing import Optional, Callable, NamedTuple\n",
    "\n",
    "\n",
    "class Customer(NamedTuple):\n",
    "    name: str\n",
    "    fidelity: int\n",
    "\n",
    "\n",
    "class LineItem(NamedTuple):\n",
    "    product: str\n",
    "    quantity: int\n",
    "    price: Decimal\n",
    "\n",
    "    def total(self):\n",
    "        return self.price * self.quantity\n",
    "\n",
    "\n",
    "@dataclass(frozen=True)\n",
    "class Order:  # the Context\n",
    "    customer: Customer\n",
    "    cart: Sequence[LineItem]\n",
    "    # This type hint says: promotion may be None, or it may be a callable \n",
    "    # that takes an Order argument and returns a Decimal.\n",
    "    promotion: Optional[Callable[[\"Order\"], Decimal]] = None\n",
    "\n",
    "    def total(self) -> Decimal:\n",
    "        totals = (item.total() for item in self.cart)\n",
    "        return sum(totals, start=Decimal(0))\n",
    "\n",
    "    def due(self) -> Decimal:\n",
    "        if self.promotion is None:\n",
    "            discount = Decimal(0)\n",
    "        else:\n",
    "            # To compute a discount, call the self.promotion callable, passing self as \n",
    "            # an argument. See the following tip for the reason.\n",
    "            discount = self.promotion(self)\n",
    "        return self.total() - discount\n",
    "\n",
    "    def __repr__(self):\n",
    "        return f\"<Order total: {self.total():.2f} due: {self.due():.2f}>\"\n",
    "\n",
    "\n",
    "def fidelity_promo(order: Order) -> Decimal: # Each strategy is a function\n",
    "    \"\"\"5% discount for customers with 1000 or more fidelity points\"\"\"\n",
    "    if order.customer.fidelity >= 1000:\n",
    "        return order.total() * Decimal(\"0.05\")\n",
    "    return Decimal(0)\n",
    "\n",
    "\n",
    "def bulk_item_promo(order: Order) -> Decimal:\n",
    "    \"\"\"10% discount for each LineItem with 20 or more units\"\"\"\n",
    "    discount = Decimal(0)\n",
    "    for item in order.cart:\n",
    "        if item.quantity >= 20:\n",
    "            discount += item.total() * Decimal(\"0.1\")\n",
    "    return discount\n",
    "\n",
    "\n",
    "def large_order_promo(order: Order) -> Decimal:\n",
    "    \"\"\"7% discount for orders with 10 or more distinct items\"\"\"\n",
    "    distinct_items = {item.product for item in order.cart}\n",
    "    if len(distinct_items) >= 10:\n",
    "        return order.total() * Decimal(\"0.07\")\n",
    "    return Decimal(0)\n"
   ]
  },
  {
   "cell_type": "markdown",
   "id": "456fd112",
   "metadata": {},
   "source": [
    "In the Order class, promotion is not a method. It’s an instance attribute that happens to be callable. So the first part of the expression, `self.promotion`, retrieves that callable. To invoke it, we must provide an instance of Order, which in this case is `self`. That’s why self appears twice in that expression.\n"
   ]
  },
  {
   "cell_type": "markdown",
   "id": "c16dcaab",
   "metadata": {},
   "source": [
    "The code in Example 10-3 is shorter than Example 10-1. Using the new Order is also a bit simpler, as shown in the Example 10-4 doctests."
   ]
  },
  {
   "cell_type": "code",
   "execution_count": 17,
   "id": "e52bd443",
   "metadata": {},
   "outputs": [],
   "source": [
    "joe = Customer('John Doe', 0)  \n",
    "ann = Customer('Ann Smith', 1100)\n",
    "\n",
    "cart = [LineItem('banana', 4, Decimal('.5')),\n",
    "        LineItem('apple', 10, Decimal('1.5')),\n",
    "        LineItem('watermelon', 5, Decimal(5))]"
   ]
  },
  {
   "cell_type": "code",
   "execution_count": 18,
   "id": "966650ec",
   "metadata": {},
   "outputs": [
    {
     "data": {
      "text/plain": [
       "<Order total: 42.00 due: 42.00>"
      ]
     },
     "execution_count": 18,
     "metadata": {},
     "output_type": "execute_result"
    }
   ],
   "source": [
    "# To apply a discount strategy to an Order, just pass the promotion function as an argument\n",
    "Order(joe, cart, fidelity_promo)  "
   ]
  },
  {
   "cell_type": "code",
   "execution_count": 19,
   "id": "3e4e5762",
   "metadata": {},
   "outputs": [
    {
     "data": {
      "text/plain": [
       "<Order total: 42.00 due: 39.90>"
      ]
     },
     "execution_count": 19,
     "metadata": {},
     "output_type": "execute_result"
    }
   ],
   "source": [
    "Order(ann, cart, fidelity_promo)"
   ]
  },
  {
   "cell_type": "code",
   "execution_count": 20,
   "id": "a1a6fc71",
   "metadata": {},
   "outputs": [],
   "source": [
    "banana_cart = [LineItem('banana', 30, Decimal('.5')),\n",
    "              LineItem('apple', 10, Decimal('1.5'))]"
   ]
  },
  {
   "cell_type": "code",
   "execution_count": 21,
   "id": "c1d28e91",
   "metadata": {},
   "outputs": [
    {
     "data": {
      "text/plain": [
       "<Order total: 30.00 due: 28.50>"
      ]
     },
     "execution_count": 21,
     "metadata": {},
     "output_type": "execute_result"
    }
   ],
   "source": [
    "# A different promotion function is used here and in the next test.\n",
    "Order(joe, banana_cart, bulk_item_promo)"
   ]
  },
  {
   "cell_type": "code",
   "execution_count": 22,
   "id": "a3f9aa7f",
   "metadata": {},
   "outputs": [],
   "source": [
    "long_cart = [LineItem(str(item_code), 1, Decimal(1)) for item_code in range(10)]"
   ]
  },
  {
   "cell_type": "code",
   "execution_count": 23,
   "id": "72e786c5",
   "metadata": {},
   "outputs": [
    {
     "data": {
      "text/plain": [
       "<Order total: 10.00 due: 9.30>"
      ]
     },
     "execution_count": 23,
     "metadata": {},
     "output_type": "execute_result"
    }
   ],
   "source": [
    "Order(joe, long_cart, large_order_promo)"
   ]
  },
  {
   "cell_type": "code",
   "execution_count": 24,
   "id": "59e859b4",
   "metadata": {},
   "outputs": [
    {
     "data": {
      "text/plain": [
       "<Order total: 42.00 due: 42.00>"
      ]
     },
     "execution_count": 24,
     "metadata": {},
     "output_type": "execute_result"
    }
   ],
   "source": [
    "Order(joe, cart, large_order_promo)"
   ]
  },
  {
   "cell_type": "markdown",
   "id": "90653846",
   "metadata": {},
   "source": [
    "Note the callouts in Example 10-4—there is no need to instantiate a new promotion object with each new order: the functions are ready to use.\n",
    "\n",
    "It is interesting to note that in Design Patterns, the authors suggest: “Strategy objects often make good flyweights.” A definition of the Flyweight pattern in another part of that work states: “A flyweight is a shared object that can be used in multiple contexts simultaneously.” The sharing is recommended to reduce the cost of creating a new concrete strategy object when the same strategy is applied over and over again with every new context—with every new Order instance, in our example. So, to overcome a drawback of the Strategy pattern—its runtime cost—the authors recommend applying yet another pattern. Meanwhile, the line count and maintenance cost of your code are piling up.\n",
    "\n",
    "A thornier use case, with complex concrete strategies holding internal state, may require all the pieces of the Strategy and Flyweight design patterns combined. But often concrete strategies have no internal state; they only deal with data from the context. If that is the case, then by all means use plain old functions instead of coding single-method classes implementing a single-method interface declared in yet another class. **A function is more lightweight than an instance of a user-defined class**, and there is no need for Flyweight because **each strategy function is created just once per Python process when it loads the module**. A plain function is also “a shared object that can be used in multiple contexts simultaneously.”\n",
    "\n",
    "Now that we have implemented the Strategy pattern with functions, other possibilities emerge. Suppose you want to create a “metastrategy” that selects the best available discount for a given Order. In the following sections we study additional refactorings that implement this requirement using a variety of approaches that leverage functions and modules as objects."
   ]
  },
  {
   "cell_type": "markdown",
   "id": "4579200b",
   "metadata": {},
   "source": [
    "### Choosing the Best Strategy: Simple Approach\n"
   ]
  },
  {
   "cell_type": "code",
   "execution_count": null,
   "id": "bac18bc4",
   "metadata": {},
   "outputs": [],
   "source": []
  },
  {
   "cell_type": "code",
   "execution_count": null,
   "id": "6503ad7f",
   "metadata": {},
   "outputs": [],
   "source": []
  },
  {
   "cell_type": "code",
   "execution_count": null,
   "id": "ae9c4bcd",
   "metadata": {},
   "outputs": [],
   "source": []
  },
  {
   "cell_type": "code",
   "execution_count": null,
   "id": "154e81e8",
   "metadata": {},
   "outputs": [],
   "source": []
  },
  {
   "cell_type": "code",
   "execution_count": null,
   "id": "6e909f0d",
   "metadata": {},
   "outputs": [],
   "source": []
  },
  {
   "cell_type": "code",
   "execution_count": null,
   "id": "84f45933",
   "metadata": {},
   "outputs": [],
   "source": []
  },
  {
   "cell_type": "code",
   "execution_count": null,
   "id": "866d92ff",
   "metadata": {},
   "outputs": [],
   "source": []
  },
  {
   "cell_type": "code",
   "execution_count": null,
   "id": "d5b0e123",
   "metadata": {},
   "outputs": [],
   "source": []
  },
  {
   "cell_type": "code",
   "execution_count": null,
   "id": "bb1eb728",
   "metadata": {},
   "outputs": [],
   "source": []
  }
 ],
 "metadata": {
  "kernelspec": {
   "display_name": "Python 3 (ipykernel)",
   "language": "python",
   "name": "python3"
  },
  "language_info": {
   "codemirror_mode": {
    "name": "ipython",
    "version": 3
   },
   "file_extension": ".py",
   "mimetype": "text/x-python",
   "name": "python",
   "nbconvert_exporter": "python",
   "pygments_lexer": "ipython3",
   "version": "3.9.0"
  }
 },
 "nbformat": 4,
 "nbformat_minor": 5
}
