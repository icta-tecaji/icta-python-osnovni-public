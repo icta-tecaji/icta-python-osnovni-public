{
 "cells": [
  {
   "cell_type": "markdown",
   "metadata": {},
   "source": [
    "# Code quality and styling"
   ]
  },
  {
   "cell_type": "markdown",
   "metadata": {},
   "source": [
    "Viri:\n",
    "- [Python Code Quality: Tools & Best Practices](https://realpython.com/python-code-quality/)\n",
    "- [How to Write Beautiful Python Code With PEP 8](https://realpython.com/python-pep8/)\n",
    "- [PEP 8 — the Style Guide for Python Code](https://pep8.org/)\n",
    "- [Python Code Quality](https://testdriven.io/blog/python-code-quality/)"
   ]
  },
  {
   "cell_type": "markdown",
   "metadata": {},
   "source": [
    "## What is Code Quality?"
   ]
  },
  {
   "cell_type": "markdown",
   "metadata": {},
   "source": [
    "Code quality generally refers to how functional and maintainable your code is. Code is considered to be of high quality when:\n",
    "\n",
    "- It serves its purpose\n",
    "- It's behavior can be tested\n",
    "- It follows a consistent style\n",
    "- It's understandable\n",
    "- It doesn't contain security vulnerabilities\n",
    "- It's documented well\n",
    "- It's easy to maintain"
   ]
  },
  {
   "cell_type": "markdown",
   "metadata": {},
   "source": [
    "## How to Improve Python Code Quality"
   ]
  },
  {
   "cell_type": "markdown",
   "metadata": {},
   "source": [
    "### Style Guides - PEP 8/PEP 257"
   ]
  },
  {
   "cell_type": "markdown",
   "metadata": {},
   "source": [
    "[PEP 8 -- Style Guide for Python Code](https://www.python.org/dev/peps/pep-0008/)"
   ]
  },
  {
   "cell_type": "markdown",
   "metadata": {},
   "source": [
    "[PEP 257 -- Docstring Conventions](https://www.python.org/dev/peps/pep-0257/)"
   ]
  },
  {
   "cell_type": "markdown",
   "metadata": {},
   "source": [
    "**Style guides serve to help facilitate the goal of making code easy to read, maintain, and extend.**\n",
    "\n",
    "As far as Python goes, there is a well-accepted standard. It was written, in part, by the author of the Python programming language itself.\n",
    "\n",
    "**PEP** stands for **Python Enhancement Proposal**, and there are several of them. A PEP is a document that describes new features proposed for Python and documents aspects of Python, like design and style, for the community.\n",
    "\n",
    "PEP 8, sometimes spelled PEP8 or **PEP-8**, is a document that provides guidelines and **best practices on how to write Python code**. It was written in 2001 by Guido van Rossum, Barry Warsaw, and Nick Coghlan. The primary focus of PEP 8 is to improve the readability and consistency of Python code.\n",
    "\n",
    "A sister Python Enhancement Proposal, **PEP 257** describes **conventions for Python’s docstrings**, which are strings intended to document modules, classes, functions, and methods. As an added bonus, if docstrings are consistent, there are **tools capable of generating documentation directly from the code**."
   ]
  },
  {
   "cell_type": "markdown",
   "metadata": {},
   "source": [
    "#### Why We Need PEP 8"
   ]
  },
  {
   "cell_type": "markdown",
   "metadata": {},
   "source": [
    "> “Readability counts.” — The Zen of Python"
   ]
  },
  {
   "cell_type": "markdown",
   "metadata": {},
   "source": [
    "PEP 8 exists to improve the readability of Python code. But why is readability so important? Why is writing readable code one of the guiding principles of the Python language?\n",
    "\n",
    "As Guido van Rossum said, “**Code is read much more often than it is written**.” You may spend a few minutes, or a whole day, writing a piece of code to process user authentication. Once you’ve written it, you’re never going to write it again. But you’ll definitely have to read it again. That piece of code might remain part of a project you’re working on. Every time you go back to that file, you’ll have to remember what that code does and why you wrote it, so readability matters.\n",
    "\n",
    "If you’re new to Python, it can be difficult to remember what a piece of code does a few days, or weeks, after you wrote it. If you follow PEP 8, you can be sure that you’ve named your variables well. You’ll know that you’ve added enough whitespace so it’s easier to follow logical steps in your code. You’ll also have commented your code well. All this will mean your **code is more readable and easier to come back to**. As a beginner, following the rules of PEP 8 can make learning Python a much more pleasant task.\n",
    "\n",
    "Following PEP 8 is particularly important if you’re looking for a development job. Writing clear, readable code shows professionalism. It’ll tell an employer that you understand how to structure your code well.\n",
    "\n",
    "If you have more experience writing Python code, then you may need to collaborate with others. Writing readable code here is crucial. Other people, who may have never met you or seen your coding style before, will have to read and understand your code. **Having guidelines that you follow and recognize will make it easier for others to read your code**."
   ]
  },
  {
   "cell_type": "markdown",
   "metadata": {},
   "source": [
    "#### Naming Conventions"
   ]
  },
  {
   "cell_type": "markdown",
   "metadata": {},
   "source": [
    "> “Explicit is better than implicit.” — The Zen of Python"
   ]
  },
  {
   "cell_type": "markdown",
   "metadata": {},
   "source": [
    "When you write Python code, you have to name a lot of things: variables, functions, classes, packages, and so on. Choosing sensible names will save you time and energy later. You’ll be able to figure out, from the name, what a certain variable, function, or class represents. You’ll also avoid using inappropriate names that might result in errors that are difficult to debug."
   ]
  },
  {
   "cell_type": "markdown",
   "metadata": {},
   "source": [
    "> Note: Never use l, O, or I single letter names as these can be mistaken for 1 and 0, depending on typeface:"
   ]
  },
  {
   "cell_type": "code",
   "execution_count": 1,
   "metadata": {},
   "outputs": [],
   "source": [
    "O = 2  # This may look like you're trying to reassign 2 to zero"
   ]
  },
  {
   "cell_type": "markdown",
   "metadata": {},
   "source": [
    "`Naming Styles`"
   ]
  },
  {
   "cell_type": "markdown",
   "metadata": {},
   "source": [
    "The table below outlines some of the common naming styles in Python code and when you should use them:"
   ]
  },
  {
   "cell_type": "markdown",
   "metadata": {},
   "source": [
    "<table class=\"table table-hover\">\n",
    "<thead>\n",
    "<tr>\n",
    "<th>Type</th>\n",
    "<th>Naming Convention</th>\n",
    "<th>Examples</th>\n",
    "</tr>\n",
    "</thead>\n",
    "<tbody>\n",
    "<tr>\n",
    "<td>Function</td>\n",
    "<td>Use a lowercase word or words. Separate words by underscores to improve readability.</td>\n",
    "<td><code>function</code>, <code>my_function</code></td>\n",
    "</tr>\n",
    "<tr>\n",
    "<td>Variable</td>\n",
    "<td>Use a lowercase single letter, word, or words. Separate words with underscores to improve readability.</td>\n",
    "<td><code>x</code>, <code>var</code>, <code>my_variable</code></td>\n",
    "</tr>\n",
    "<tr>\n",
    "<td>Class</td>\n",
    "<td>Start each word with a capital letter. Do not separate words with underscores. This style is called camel case.</td>\n",
    "<td><code>Model</code>, <code>MyClass</code></td>\n",
    "</tr>\n",
    "<tr>\n",
    "<td>Method</td>\n",
    "<td>Use a lowercase word or words. Separate words with underscores to improve readability.</td>\n",
    "<td><code>class_method</code>, <code>method</code></td>\n",
    "</tr>\n",
    "<tr>\n",
    "<td>Constant</td>\n",
    "<td>Use an uppercase single letter, word, or words. Separate words with underscores to improve readability.</td>\n",
    "<td><code>CONSTANT</code>, <code>MY_CONSTANT</code>, <code>MY_LONG_CONSTANT</code></td>\n",
    "</tr>\n",
    "<tr>\n",
    "<td>Module</td>\n",
    "<td>Use a short, lowercase word or words. Separate words with underscores to improve readability.</td>\n",
    "<td><code>module.py</code>, <code>my_module.py</code></td>\n",
    "</tr>\n",
    "<tr>\n",
    "<td>Package</td>\n",
    "<td>Use a short, lowercase word or words. Do not separate words with underscores.</td>\n",
    "<td><code>package</code>, <code>mypackage</code></td>\n",
    "</tr>\n",
    "</tbody>\n",
    "</table>"
   ]
  },
  {
   "cell_type": "markdown",
   "metadata": {},
   "source": [
    "Choosing names for your variables, functions, classes, and so forth can be challenging. You should put a fair amount of thought into your naming choices when writing code as it will make your code more readable. The best way to name your objects in Python is to use descriptive names to make it clear what the object represents.\n",
    "\n",
    "When naming variables, you may be tempted to choose simple, single-letter lowercase names, like x. But, unless you’re using x as the argument of a mathematical function, it’s not clear what x represents. Imagine you are storing a person’s name as a string, and you want to use string slicing to format their name differently. You could end up with something like this:"
   ]
  },
  {
   "cell_type": "code",
   "execution_count": 2,
   "metadata": {},
   "outputs": [
    {
     "name": "stdout",
     "output_type": "stream",
     "text": [
      "Smith, John\n"
     ]
    }
   ],
   "source": [
    "# Not recommended\n",
    "x = 'John Smith'\n",
    "y, z = x.split()\n",
    "print(z, y, sep=', ')"
   ]
  },
  {
   "cell_type": "markdown",
   "metadata": {},
   "source": [
    "This will work, but you’ll have to keep track of what x, y, and z represent. It may also be confusing for collaborators. A much clearer choice of names would be something like this:"
   ]
  },
  {
   "cell_type": "code",
   "execution_count": 3,
   "metadata": {},
   "outputs": [
    {
     "name": "stdout",
     "output_type": "stream",
     "text": [
      "Smith, John\n"
     ]
    }
   ],
   "source": [
    "# Recommended\n",
    "name = 'John Smith'\n",
    "first_name, last_name = name.split()\n",
    "print(last_name, first_name, sep=', ')"
   ]
  },
  {
   "cell_type": "markdown",
   "metadata": {},
   "source": [
    "Similarly, to reduce the amount of typing you do, it can be tempting to use abbreviations when choosing names. In the example below, I have defined a function db() that takes a single argument x and doubles it:"
   ]
  },
  {
   "cell_type": "code",
   "execution_count": 4,
   "metadata": {},
   "outputs": [],
   "source": [
    "# Not recommended\n",
    "def db(x):\n",
    "    return x * 2"
   ]
  },
  {
   "cell_type": "markdown",
   "metadata": {},
   "source": [
    "At first glance, this could seem like a sensible choice. db() could easily be an abbreviation for double. But imagine coming back to this code in a few days. You may have forgotten what you were trying to achieve with this function, and that would make guessing how you abbreviated it difficult.\n",
    "\n",
    "The following example is much clearer. If you come back to this code a couple of days after writing it, you’ll still be able to read and understand the purpose of this function:"
   ]
  },
  {
   "cell_type": "code",
   "execution_count": 5,
   "metadata": {},
   "outputs": [],
   "source": [
    "# Recommended\n",
    "def multiply_by_two(x):\n",
    "    return x * 2"
   ]
  },
  {
   "cell_type": "markdown",
   "metadata": {},
   "source": [
    "The same philosophy applies to all other data types and objects in Python. Always try to use the most concise but descriptive names possible."
   ]
  },
  {
   "cell_type": "markdown",
   "metadata": {},
   "source": [
    "#### Code Layout"
   ]
  },
  {
   "cell_type": "markdown",
   "metadata": {},
   "source": [
    "> “Beautiful is better than ugly.” — The Zen of Python"
   ]
  },
  {
   "cell_type": "markdown",
   "metadata": {},
   "source": [
    "How you lay out your code has a huge role in how readable it is. In this section, you’ll learn how to add vertical whitespace to improve the readability of your code. You’ll also learn how to handle the 79 character line limit recommended in PEP 8."
   ]
  },
  {
   "cell_type": "markdown",
   "metadata": {},
   "source": [
    "`Blank Lines` "
   ]
  },
  {
   "cell_type": "markdown",
   "metadata": {},
   "source": [
    "Vertical whitespace, or blank lines, can greatly improve the readability of your code. Code that’s bunched up together can be overwhelming and hard to read. Similarly, too many blank lines in your code makes it look very sparse, and the reader might need to scroll more than necessary. Below are three key guidelines on how to use vertical whitespace."
   ]
  },
  {
   "cell_type": "markdown",
   "metadata": {},
   "source": [
    "**Surround top-level functions and classes with two blank lines.** Top-level functions and classes should be fairly self-contained and handle separate functionality. It makes sense to put extra vertical space around them, so that it’s clear they are separate:"
   ]
  },
  {
   "cell_type": "code",
   "execution_count": 6,
   "metadata": {},
   "outputs": [],
   "source": [
    "class MyFirstClass:\n",
    "    pass\n",
    "\n",
    "\n",
    "class MySecondClass:\n",
    "    pass\n",
    "\n",
    "\n",
    "def top_level_function():\n",
    "    return None"
   ]
  },
  {
   "cell_type": "markdown",
   "metadata": {},
   "source": [
    "**Surround method definitions inside classes with a single blank line.** Inside a class, functions are all related to one another. It’s good practice to leave only a single line between them:"
   ]
  },
  {
   "cell_type": "code",
   "execution_count": 7,
   "metadata": {},
   "outputs": [],
   "source": [
    "class MyClass:\n",
    "    def first_method(self):\n",
    "        return None\n",
    "\n",
    "    def second_method(self):\n",
    "        return None"
   ]
  },
  {
   "cell_type": "markdown",
   "metadata": {},
   "source": [
    "**Use blank lines sparingly inside functions to show clear steps.** Sometimes, a complicated function has to complete several steps before the return statement. To help the reader understand the logic inside the function, it can be helpful to leave a blank line between each step.\n",
    "\n",
    "In the example below, there is a function to calculate the variance of a list. This is two-step problem, so I have indicated each step by leaving a blank line between them. There is also a blank line before the return statement. This helps the reader clearly see what’s returned:"
   ]
  },
  {
   "cell_type": "code",
   "execution_count": 8,
   "metadata": {},
   "outputs": [],
   "source": [
    "def calculate_variance(number_list):\n",
    "    sum_list = 0\n",
    "    for number in number_list:\n",
    "        sum_list = sum_list + number\n",
    "    mean = sum_list / len(number_list)\n",
    "\n",
    "    sum_squares = 0\n",
    "    for number in number_list:\n",
    "        sum_squares = sum_squares + number**2\n",
    "    mean_squares = sum_squares / len(number_list)\n",
    "\n",
    "    return mean_squares - mean**2"
   ]
  },
  {
   "cell_type": "markdown",
   "metadata": {},
   "source": [
    "If you use vertical whitespace carefully, it can greatly improved the readability of your code. It helps the reader visually understand how your code splits up into sections, and how those sections relate to one another."
   ]
  },
  {
   "cell_type": "markdown",
   "metadata": {},
   "source": [
    "`Maximum Line Length and Line Breaking`"
   ]
  },
  {
   "cell_type": "markdown",
   "metadata": {},
   "source": [
    "PEP 8 suggests lines should be limited to 79 characters. This is because it allows you to have multiple files open next to one another, while also avoiding line wrapping.\n",
    "\n",
    "Of course, keeping statements to 79 characters or less is not always possible. PEP 8 outlines ways to allow statements to run over several lines.\n"
   ]
  },
  {
   "cell_type": "markdown",
   "metadata": {},
   "source": [
    "#### Indentation"
   ]
  },
  {
   "cell_type": "markdown",
   "metadata": {},
   "source": [
    "> “There should be one—and preferably only one—obvious way to do it.” — The Zen of Python"
   ]
  },
  {
   "cell_type": "markdown",
   "metadata": {},
   "source": [
    "Indentation, or leading whitespace, is extremely important in Python. The indentation level of lines of code in Python determines how statements are grouped together.\n",
    "\n",
    "Consider the following example:"
   ]
  },
  {
   "cell_type": "code",
   "execution_count": 13,
   "metadata": {},
   "outputs": [],
   "source": [
    "x = 3\n",
    "if x > 5:\n",
    "    print('x is larger than 5')"
   ]
  },
  {
   "cell_type": "markdown",
   "metadata": {},
   "source": [
    "The indented print statement lets Python know that it should only be executed if the if statement returns True. The same indentation applies to tell Python what code to execute when a function is called or what code belongs to a given class.\n",
    "\n",
    "The key indentation rules laid out by PEP 8 are the following:\n",
    "- Use 4 consecutive spaces to indicate indentation.\n",
    "- Prefer spaces over tabs."
   ]
  },
  {
   "cell_type": "markdown",
   "metadata": {},
   "source": [
    "#### Comments"
   ]
  },
  {
   "cell_type": "markdown",
   "metadata": {},
   "source": [
    "> “If the implementation is hard to explain, it’s a bad idea.” — The Zen of Python"
   ]
  },
  {
   "cell_type": "markdown",
   "metadata": {},
   "source": [
    "You should use comments to document code as it’s written. It is important to document your code so that you, and any collaborators, can understand it. When you or someone else reads a comment, they should be able to easily understand the code the comment applies to and how it fits in with the rest of your code.\n",
    "\n",
    "Here are some key points to remember when adding comments to your code:\n",
    "\n",
    "Limit the line length of comments and docstrings to 72 characters.\n",
    "Use complete sentences, starting with a capital letter.\n",
    "Make sure to update comments if you change your code."
   ]
  },
  {
   "cell_type": "markdown",
   "metadata": {},
   "source": [
    "`Block Comments`"
   ]
  },
  {
   "cell_type": "markdown",
   "metadata": {},
   "source": [
    "Use block comments to document a small section of code. They are useful when you have to write several lines of code to perform a single action, such as importing data from a file or updating a database entry. They are important as they help others understand the purpose and functionality of a given code block.\n",
    "\n",
    "PEP 8 provides the following rules for writing block comments:\n",
    "- Indent block comments to the same level as the code they describe.\n",
    "- Start each line with a # followed by a single space.\n",
    "- Separate paragraphs by a line containing a single #.\n",
    "\n",
    "Here is a block comment explaining the function of a for loop. Note that the sentence wraps to a new line to preserve the 79 character line limit:"
   ]
  },
  {
   "cell_type": "code",
   "execution_count": null,
   "metadata": {},
   "outputs": [],
   "source": [
    "for i in range(0, 10):\n",
    "    # Loop over i ten times and print out the value of i, followed by a\n",
    "    # new line character\n",
    "    print(i, '\\n')"
   ]
  },
  {
   "cell_type": "markdown",
   "metadata": {},
   "source": [
    "Sometimes, if the code is very technical, then it is necessary to use more than one paragraph in a block comment:"
   ]
  },
  {
   "cell_type": "code",
   "execution_count": null,
   "metadata": {},
   "outputs": [],
   "source": [
    "def quadratic(a, b, c, x):\n",
    "    # Calculate the solution to a quadratic equation using the quadratic\n",
    "    # formula.\n",
    "    #\n",
    "    # There are always two solutions to a quadratic equation, x_1 and x_2.\n",
    "    x_1 = (- b+(b**2-4*a*c)**(1/2)) / (2*a)\n",
    "    x_2 = (- b-(b**2-4*a*c)**(1/2)) / (2*a)\n",
    "    return x_1, x_2"
   ]
  },
  {
   "cell_type": "markdown",
   "metadata": {},
   "source": [
    "If you’re ever in doubt as to what comment type is suitable, then block comments are often the way to go. Use them as much as possible throughout your code, but make sure to update them if you make changes to your code!"
   ]
  },
  {
   "cell_type": "markdown",
   "metadata": {},
   "source": [
    "`Inline Comments`"
   ]
  },
  {
   "cell_type": "markdown",
   "metadata": {},
   "source": [
    "Inline comments explain a single statement in a piece of code. They are useful to remind you, or explain to others, why a certain line of code is necessary. Here’s what PEP 8 has to say about them:\n",
    "\n",
    "- Use inline comments sparingly.\n",
    "- Write inline comments on the same line as the statement they refer to.\n",
    "- Separate inline comments by two or more spaces from the statement.\n",
    "- Start inline comments with a # and a single space, like block comments.\n",
    "- Don’t use them to explain the obvious.\n",
    "\n",
    "Below is an example of an inline comment:"
   ]
  },
  {
   "cell_type": "code",
   "execution_count": 18,
   "metadata": {},
   "outputs": [],
   "source": [
    "x = 5  # This is an inline comment"
   ]
  },
  {
   "cell_type": "markdown",
   "metadata": {},
   "source": [
    "Sometimes, inline comments can seem necessary, but you can use better naming conventions instead. Here’s an example:"
   ]
  },
  {
   "cell_type": "code",
   "execution_count": null,
   "metadata": {},
   "outputs": [],
   "source": [
    "x = 'John Smith'  # Student Name"
   ]
  },
  {
   "cell_type": "markdown",
   "metadata": {},
   "source": [
    "Here, the inline comment does give extra information. However using x as a variable name for a person’s name is bad practice. There’s no need for the inline comment if you rename your variable:"
   ]
  },
  {
   "cell_type": "code",
   "execution_count": 19,
   "metadata": {},
   "outputs": [],
   "source": [
    "student_name = 'John Smith'"
   ]
  },
  {
   "cell_type": "markdown",
   "metadata": {},
   "source": [
    "Finally, inline comments such as these are bad practice as they state the obvious and clutter code:"
   ]
  },
  {
   "cell_type": "code",
   "execution_count": null,
   "metadata": {},
   "outputs": [],
   "source": [
    "empty_list = []  # Initialize empty list\n",
    "\n",
    "x = 5\n",
    "x = x * 5  # Multiply x by 5"
   ]
  },
  {
   "cell_type": "markdown",
   "metadata": {},
   "source": [
    "Inline comments are more specific than block comments, and it’s easy to add them when they’re not necessary, which leads to clutter. You could get away with only using block comments so, unless you are sure you need an inline comment, your code is more likely to be PEP 8 compliant if you stick to block comments."
   ]
  },
  {
   "cell_type": "markdown",
   "metadata": {},
   "source": [
    "`Documentation Strings`"
   ]
  },
  {
   "cell_type": "markdown",
   "metadata": {},
   "source": [
    "Documentation strings, or docstrings, are strings enclosed in double (\"\"\") or single (''') quotation marks that appear on the first line of any function, class, method, or module. You can use them to explain and document a specific block of code. There is an entire PEP, PEP 257, that covers docstrings, but you’ll get a summary in this section.\n",
    "\n",
    "The most important rules applying to docstrings are the following:\n",
    "- Surround docstrings with three double quotes on either side, as in \"\"\"This is a docstring\"\"\".\n",
    "- Write them for all public modules, functions, classes, and methods.\n",
    "- Put the \"\"\" that ends a multiline docstring on a line by itself:"
   ]
  },
  {
   "cell_type": "code",
   "execution_count": null,
   "metadata": {},
   "outputs": [],
   "source": [
    "def quadratic(a, b, c, x):\n",
    "    \"\"\"Solve quadratic equation via the quadratic formula.\n",
    "\n",
    "    A quadratic equation has the following form:\n",
    "    ax**2 + bx + c = 0\n",
    "\n",
    "    There always two solutions to a quadratic equation: x_1 & x_2.\n",
    "    \"\"\"\n",
    "    x_1 = (- b+(b**2-4*a*c)**(1/2)) / (2*a)\n",
    "    x_2 = (- b-(b**2-4*a*c)**(1/2)) / (2*a)\n",
    "\n",
    "    return x_1, x_2"
   ]
  },
  {
   "cell_type": "markdown",
   "metadata": {},
   "source": [
    "- For one-line docstrings, keep the \"\"\" on the same line:\n",
    "\n"
   ]
  },
  {
   "cell_type": "code",
   "execution_count": null,
   "metadata": {},
   "outputs": [],
   "source": [
    "def quadratic(a, b, c, x):\n",
    "    \"\"\"Use the quadratic formula\"\"\"\n",
    "    x_1 = (- b+(b**2-4*a*c)**(1/2)) / (2*a)\n",
    "    x_2 = (- b-(b**2-4*a*c)**(1/2)) / (2*a)\n",
    "\n",
    "    return x_1, x_2"
   ]
  },
  {
   "cell_type": "markdown",
   "metadata": {},
   "source": [
    "<p>For a more detailed article on documenting Python code, see <a href=\"https://realpython.com/documenting-python-code/#docstrings-background\">Documenting Python Code: A Complete Guide</a> by James Mertz.</p>"
   ]
  },
  {
   "cell_type": "markdown",
   "metadata": {},
   "source": [
    "### Programming Recommendations"
   ]
  },
  {
   "cell_type": "markdown",
   "metadata": {},
   "source": [
    "> “Simple is better than complex.” — The Zen of Python"
   ]
  },
  {
   "cell_type": "markdown",
   "metadata": {},
   "source": [
    "You will often find that there are several ways to perform a similar action in Python (and any other programming language for that matter). In this section, you’ll see some of the suggestions PEP 8 provides to remove that ambiguity and preserve consistency."
   ]
  },
  {
   "cell_type": "markdown",
   "metadata": {},
   "source": [
    "`Don’t compare boolean values to True or False using the equivalence operator.` You’ll often need to check if a boolean value is True or False. When doing so, it is intuitive to do this with a statement like the one below:"
   ]
  },
  {
   "cell_type": "code",
   "execution_count": null,
   "metadata": {},
   "outputs": [],
   "source": [
    "# Not recommended\n",
    "my_bool = 6 > 5\n",
    "if my_bool == True:\n",
    "    return '6 is bigger than 5'"
   ]
  },
  {
   "cell_type": "markdown",
   "metadata": {},
   "source": [
    "The use of the equivalence operator, ==, is unnecessary here. bool can only take values True or False. It is enough to write the following:"
   ]
  },
  {
   "cell_type": "code",
   "execution_count": null,
   "metadata": {},
   "outputs": [],
   "source": [
    "# Recommended\n",
    "if my_bool:\n",
    "    return '6 is bigger than 5'"
   ]
  },
  {
   "cell_type": "markdown",
   "metadata": {},
   "source": [
    "This way of performing an if statement with a boolean requires less code and is simpler, so PEP 8 encourages it.\n",
    "\n",
    "`Use the fact that empty sequences are falsy in if statements.` If you want to check whether a list is empty, you might be tempted to check the length of the list. If the list is empty, it’s length is 0 which is equivalent to False when used in an if statement. Here’s an example:"
   ]
  },
  {
   "cell_type": "code",
   "execution_count": null,
   "metadata": {},
   "outputs": [],
   "source": [
    "# Not recommended\n",
    "my_list = []\n",
    "if not len(my_list):\n",
    "    print('List is empty!')"
   ]
  },
  {
   "cell_type": "markdown",
   "metadata": {},
   "source": [
    "However, in Python any empty list, string, or tuple is falsy. We can therefore come up with a simpler alternative to the above:\n",
    "\n"
   ]
  },
  {
   "cell_type": "code",
   "execution_count": null,
   "metadata": {},
   "outputs": [],
   "source": [
    "# Recommended\n",
    "my_list = []\n",
    "if not my_list:\n",
    "    print('List is empty!')"
   ]
  },
  {
   "cell_type": "markdown",
   "metadata": {},
   "source": [
    "While both examples will print out List is empty!, the second option is simpler, so PEP 8 encourages it.\n",
    "\n",
    "`Use is not rather than not ... is in if statements.` If you are trying to check whether a variable has a defined value, there are two options. The first is to evaluate an if statement with x is not None, as in the example below:"
   ]
  },
  {
   "cell_type": "code",
   "execution_count": null,
   "metadata": {},
   "outputs": [],
   "source": [
    "# Recommended\n",
    "if x is not None:\n",
    "    return 'x exists!'"
   ]
  },
  {
   "cell_type": "markdown",
   "metadata": {},
   "source": [
    "A second option would be to evaluate x is None and then have an if statement based on not the outcome:"
   ]
  },
  {
   "cell_type": "code",
   "execution_count": null,
   "metadata": {},
   "outputs": [],
   "source": [
    "# Not recommended\n",
    "if not x is None:\n",
    "    return 'x exists!'"
   ]
  },
  {
   "cell_type": "markdown",
   "metadata": {},
   "source": [
    "While both options will be evaluated correctly, the first is simpler, so PEP 8 encourages it.\n",
    "\n",
    "`Don’t use if x: when you mean if x is not None:.` Sometimes, you may have a function with arguments that are None by default. A common mistake when checking if such an argument, arg, has been given a different value is to use the following:\n",
    "\n"
   ]
  },
  {
   "cell_type": "code",
   "execution_count": null,
   "metadata": {},
   "outputs": [],
   "source": [
    "# Not Recommended\n",
    "if arg:\n",
    "    # Do something with arg..."
   ]
  },
  {
   "cell_type": "markdown",
   "metadata": {},
   "source": [
    "This code checks that arg is truthy. Instead, you want to check that arg is not None, so it would be better to use the following:"
   ]
  },
  {
   "cell_type": "code",
   "execution_count": null,
   "metadata": {},
   "outputs": [],
   "source": [
    "# Recommended\n",
    "if arg is not None:\n",
    "    # Do something with arg..."
   ]
  },
  {
   "cell_type": "markdown",
   "metadata": {},
   "source": [
    "The mistake being made here is assuming that not None and truthy are equivalent. You could have set arg = []. As we saw above, empty lists are evaluated as falsy in Python. So, even though the argument arg has been assigned, the condition is not met, and so the code in the body of the if statement will not be executed."
   ]
  },
  {
   "cell_type": "markdown",
   "metadata": {},
   "source": [
    "`Use .startswith() and .endswith() instead of slicing.` If you were trying to check if a string word was prefixed, or suffixed, with the word cat, it might seem sensible to use list slicing. However, list slicing is prone to error, and you have to hardcode the number of characters in the prefix or suffix. It is also not clear to someone less familiar with Python list slicing what you are trying to achieve:"
   ]
  },
  {
   "cell_type": "code",
   "execution_count": null,
   "metadata": {},
   "outputs": [],
   "source": [
    "# Not recommended\n",
    "if word[:3] == 'cat':\n",
    "    print('The word starts with \"cat\"')"
   ]
  },
  {
   "cell_type": "markdown",
   "metadata": {},
   "source": [
    "However, this is not as readable as using .startswith():"
   ]
  },
  {
   "cell_type": "code",
   "execution_count": null,
   "metadata": {},
   "outputs": [],
   "source": [
    "# Recommended\n",
    "if word.startswith('cat'):\n",
    "    print('The word starts with \"cat\"')"
   ]
  },
  {
   "cell_type": "markdown",
   "metadata": {},
   "source": [
    "Similarly, the same principle applies when you’re checking for suffixes. The example below outlines how you might check whether a string ends in jpg:"
   ]
  },
  {
   "cell_type": "code",
   "execution_count": null,
   "metadata": {},
   "outputs": [],
   "source": [
    "# Not recommended\n",
    "if file_name[-3:] == 'jpg':\n",
    "    print('The file is a JPEG')"
   ]
  },
  {
   "cell_type": "markdown",
   "metadata": {},
   "source": [
    "While the outcome is correct, the notation is a bit clunky and hard to read. Instead, you could use .endswith() as in the example below:"
   ]
  },
  {
   "cell_type": "code",
   "execution_count": null,
   "metadata": {},
   "outputs": [],
   "source": [
    "# Recommended\n",
    "if file_name.endswith('jpg'):\n",
    "    print('The file is a JPEG')"
   ]
  },
  {
   "cell_type": "markdown",
   "metadata": {},
   "source": [
    "As with most of these programming recommendations, the goal is readability and simplicity. In Python, there are many different ways to perform the same action, so guidelines on which methods to chose are helpful."
   ]
  },
  {
   "cell_type": "markdown",
   "metadata": {},
   "source": [
    "### When to Ignore PEP 8"
   ]
  },
  {
   "cell_type": "markdown",
   "metadata": {},
   "source": [
    "The short answer to this question is never. If you follow PEP 8 to the letter, you can guarantee that you’ll have clean, professional, and readable code. This will benefit you as well as collaborators and potential employers.\n",
    "\n",
    "However, some guidelines in PEP 8 are inconvenient in the following instances:\n",
    "- If complying with PEP 8 would break compatibility with existing software\n",
    "- If code surrounding what you’re working on is inconsistent with PEP 8\n",
    "- If code needs to remain compatible with older versions of Python"
   ]
  },
  {
   "cell_type": "markdown",
   "metadata": {},
   "source": [
    "## Linters"
   ]
  },
  {
   "cell_type": "markdown",
   "metadata": {},
   "source": [
    "Linters flag programming errors, bugs, stylistic errors, and suspicious constructs through source code analysis. Linting tools are easy to set up, provide sane defaults, and improve the overall developer experience by removing friction between developers who have differing opinions on style."
   ]
  },
  {
   "cell_type": "markdown",
   "metadata": {},
   "source": [
    "Linters analyze code to detect various categories of lint. Those categories can be broadly defined as the following:\n",
    "\n",
    "- Logical Lint\n",
    "    - Code errors\n",
    "    - Code with potentially unintended results\n",
    "    - Dangerous code patterns\n",
    "- Stylistic Lint\n",
    "    - Code not conforming to defined conventions"
   ]
  },
  {
   "cell_type": "markdown",
   "metadata": {},
   "source": [
    "Let's look at a quick example.\n"
   ]
  },
  {
   "cell_type": "code",
   "execution_count": null,
   "metadata": {},
   "outputs": [],
   "source": [
    "# 01_example.py\n",
    "\n",
    "def option1():\n",
    "    numbers = []\n",
    "\n",
    "    while True:\n",
    "        answer = input('Enter a number: ')\n",
    "        if answer != 'quit':\n",
    "            numbers.append(answer)\n",
    "        else:\n",
    "            break\n",
    "\n",
    "    print('Numbers: %s' % numbers)\n",
    "    \n",
    "def option2():\n",
    "    numbers = []\n",
    "\n",
    "    # https://realpython.com/python-walrus-operator/\n",
    "    while (answer := input(\"Enter a number: \")) != \"quit\":\n",
    "        numbers.append(answer)\n",
    "\n",
    "    print(f\"Numbers: {numbers}\")\n",
    "\n",
    "def option3():\n",
    "    numbers = []\n",
    "\n",
    "    while True:\n",
    "        answer = input(\"Enter a number: \")\n",
    "        if answer == \"quit\":\n",
    "            break\n",
    "        numbers.append(answer)\n",
    "\n",
    "    print(f\"Numbers: {numbers}\")"
   ]
  },
  {
   "cell_type": "markdown",
   "metadata": {},
   "source": [
    "Which one is better?\n",
    "\n",
    "In terms of functionality they are the same.\n",
    "\n",
    "Which one do you prefer? Which one is preferred by your project's collaborators?\n",
    "\n",
    "As a software developer you're very likely working in a team. And, in a team setting, it's very important that all developers follow the same coding standards. Otherwise, it's much harder to read someone else's code. The focus of code reviews should be on higher level issues rather than mundane syntactical formatting issues.\n"
   ]
  },
  {
   "cell_type": "markdown",
   "metadata": {},
   "source": [
    "In terms of linting tools, while there are a number of them out there, for the most part each look for errors in either code logic or enforce code standards:\n",
    "- **code logic** - these check for programming errors, enforce code standards, search for code smells, and check code complexity. `Pyflakes` and `McCabe` (complexity checker) are the most popular tools for linting code logic.\n",
    "- **code style** - these just enforce code standards (based on PEP-8). `pycodestyle` falls into this category."
   ]
  },
  {
   "cell_type": "markdown",
   "metadata": {},
   "source": [
    "Here are some stand-alone linters categorized with brief descriptions:"
   ]
  },
  {
   "cell_type": "markdown",
   "metadata": {},
   "source": [
    "<table class=\"table table-hover\">\n",
    "<thead>\n",
    "<tr>\n",
    "<th>Linter</th>\n",
    "<th>Category</th>\n",
    "<th>Description</th>\n",
    "</tr>\n",
    "</thead>\n",
    "<tbody>\n",
    "<tr>\n",
    "<td><a href=\"https://www.pylint.org/\">Pylint</a></td>\n",
    "<td>Logical &amp; Stylistic</td>\n",
    "<td>Checks for errors, tries to enforce a coding standard, looks for code smells</td>\n",
    "</tr>\n",
    "<tr>\n",
    "<td><a href=\"https://github.com/PyCQA/pyflakes\">PyFlakes</a></td>\n",
    "<td>Logical</td>\n",
    "<td>Analyzes programs and detects various errors</td>\n",
    "</tr>\n",
    "<tr>\n",
    "<td><a href=\"https://github.com/PyCQA/pycodestyle\">pycodestyle</a></td>\n",
    "<td>Stylistic</td>\n",
    "<td>Checks against some of the style conventions in PEP 8</td>\n",
    "</tr>\n",
    "<tr>\n",
    "<td><a href=\"https://github.com/PyCQA/pydocstyle\">pydocstyle</a></td>\n",
    "<td>Stylistic</td>\n",
    "<td>Checks compliance with Python docstring conventions</td>\n",
    "</tr>\n",
    "<tr>\n",
    "<td><a href=\"https://github.com/PyCQA/bandit\">Bandit</a></td>\n",
    "<td>Logical</td>\n",
    "<td>Analyzes code to find common security issues</td>\n",
    "</tr>\n",
    "<tr>\n",
    "<td><a href=\"http://mypy-lang.org/\">MyPy</a></td>\n",
    "<td>Logical</td>\n",
    "<td>Checks for optionally-enforced static types</td>\n",
    "</tr>\n",
    "</tbody>\n",
    "</table>"
   ]
  },
  {
   "cell_type": "markdown",
   "metadata": {},
   "source": [
    "And here are some code analysis and formatting tools:"
   ]
  },
  {
   "cell_type": "markdown",
   "metadata": {},
   "source": [
    "<table class=\"table table-hover\">\n",
    "<thead>\n",
    "<tr>\n",
    "<th>Tool</th>\n",
    "<th>Category</th>\n",
    "<th>Description</th>\n",
    "</tr>\n",
    "</thead>\n",
    "<tbody>\n",
    "<tr>\n",
    "<td><a href=\"https://github.com/PyCQA/mccabe\">Mccabe</a></td>\n",
    "<td>Analytical</td>\n",
    "<td>Checks <a href=\"https://en.wikipedia.org/wiki/Cyclomatic_complexity\">McCabe complexity</a></td>\n",
    "</tr>\n",
    "<tr>\n",
    "<td><a href=\"http://radon.readthedocs.io/en/latest/\">Radon</a></td>\n",
    "<td>Analytical</td>\n",
    "<td>Analyzes code for various metrics (lines of code, complexity, and so on)</td>\n",
    "</tr>\n",
    "<tr>\n",
    "<td><a href=\"https://github.com/ambv/black\">Black</a></td>\n",
    "<td>Formatter</td>\n",
    "<td>Formats Python code without compromise</td>\n",
    "</tr>\n",
    "<tr>\n",
    "<td><a href=\"https://github.com/timothycrosley/isort\">Isort</a></td>\n",
    "<td>Formatter</td>\n",
    "<td>Formats imports by sorting alphabetically and separating into sections</td>\n",
    "</tr>\n",
    "</tbody>\n",
    "</table>"
   ]
  },
  {
   "cell_type": "markdown",
   "metadata": {},
   "source": [
    "### Linter Options For Python"
   ]
  },
  {
   "cell_type": "markdown",
   "metadata": {},
   "source": [
    "Before delving into your options, it’s important to recognize that some “linters” are just multiple linters packaged nicely together. Some popular examples of those combo-linters are the following:"
   ]
  },
  {
   "cell_type": "markdown",
   "metadata": {},
   "source": [
    "Flake8: Capable of detecting both logical and stylistic lint. It adds the style and complexity checks of pycodestyle to the logical lint detection of PyFlakes. It combines the following linters:\n",
    "- PyFlakes\n",
    "- pycodestyle (formerly pep8)\n",
    "- Mccabe"
   ]
  },
  {
   "cell_type": "markdown",
   "metadata": {},
   "source": [
    "Pylama: A code audit tool composed of a large number of linters and other tools for analyzing code. It combines the following:\n",
    "- pycodestyle (formerly pep8)\n",
    "- pydocstyle (formerly pep257)\n",
    "- PyFlakes\n",
    "- Mccabe\n",
    "- Pylint\n",
    "- Radon\n",
    "- gjslint"
   ]
  },
  {
   "cell_type": "markdown",
   "metadata": {},
   "source": [
    "### Flake8"
   ]
  },
  {
   "cell_type": "markdown",
   "metadata": {},
   "source": [
    "http://flake8.pycqa.org/en/latest/index.html#"
   ]
  },
  {
   "cell_type": "markdown",
   "metadata": {},
   "source": [
    "Flake8 is a wrapper around Pyflakes, pycodestyle, and McCabe.\n",
    "\n",
    "It can be installed like any other PyPI package:"
   ]
  },
  {
   "cell_type": "markdown",
   "metadata": {},
   "source": [
    "    pip install flake8"
   ]
  },
  {
   "cell_type": "markdown",
   "metadata": {},
   "source": [
    "To configure flake8, add a `setup.cfg` file to the project root:"
   ]
  },
  {
   "cell_type": "markdown",
   "metadata": {},
   "source": [
    "    [flake8]\n",
    "    max-line-length = 119\n",
    "\n",
    "This sets the maximum allowed line length to 119."
   ]
  },
  {
   "cell_type": "markdown",
   "metadata": {},
   "source": [
    "Say you have the following code saved to a file called my_module.py:"
   ]
  },
  {
   "cell_type": "code",
   "execution_count": null,
   "metadata": {},
   "outputs": [],
   "source": [
    "from requests import *\n",
    "\n",
    "def get_error_message(error_type):\n",
    "    if error_type == 404:\n",
    "        return 'red'\n",
    "    elif error_type == 403:\n",
    "        return 'orange'\n",
    "    elif error_type == 401:\n",
    "        return 'yellow'\n",
    "    else:\n",
    "        return 'blue'\n",
    "\n",
    "\n",
    "def main():\n",
    "    res = get('https://api.github.com/events')\n",
    "    STATUS = res.status_code\n",
    "    if res.ok:\n",
    "        print(f'{STATUS}')\n",
    "    else:\n",
    "        print(get_error_message(STATUS))\n",
    "\n",
    "\n",
    "\n",
    "if __name__ == '__main__':\n",
    "    main()"
   ]
  },
  {
   "cell_type": "markdown",
   "metadata": {},
   "source": [
    "To lint this file, you can simply run:"
   ]
  },
  {
   "cell_type": "markdown",
   "metadata": {},
   "source": [
    "    python -m flake8 my_module.py"
   ]
  },
  {
   "cell_type": "markdown",
   "metadata": {},
   "source": [
    "For every violation a line is printed that contains the following data:\n",
    "- file path (relative to the directory where Flake8 ran from)\n",
    "- line number\n",
    "- column number\n",
    "- ID of violated rule\n",
    "- description of rule\n",
    "\n",
    "The violations that start with F are errors from Pyflakes while violations that start with E are from pycodestyle.\n",
    "\n",
    "After correcting the violations, you should have:"
   ]
  },
  {
   "cell_type": "markdown",
   "metadata": {},
   "source": [
    "    from requests import get\n",
    "    "
   ]
  },
  {
   "cell_type": "markdown",
   "metadata": {},
   "source": [
    "Along with PyFlakes and pycodestyle, you can use Flake8 to check for cyclomatic complexity as well.\n",
    "\n",
    "For example, the get_error_message function has a complexity of four, since there are four possible branches (or code paths):"
   ]
  },
  {
   "cell_type": "markdown",
   "metadata": {},
   "source": [
    "To enforce a max complexity of 3 or lower, run:"
   ]
  },
  {
   "cell_type": "markdown",
   "metadata": {},
   "source": [
    "    python -m flake8 --max-complexity 3 my_module.py"
   ]
  },
  {
   "cell_type": "markdown",
   "metadata": {},
   "source": [
    "> Najboljše je nekje do 10 za maksimalno kompleksnost."
   ]
  },
  {
   "cell_type": "markdown",
   "metadata": {},
   "source": [
    "Refactor the code like so:"
   ]
  },
  {
   "cell_type": "code",
   "execution_count": null,
   "metadata": {},
   "outputs": [],
   "source": [
    "def get_error_message(error_type):\n",
    "    colors = {\n",
    "        404: 'red',\n",
    "        403: 'orange',\n",
    "        401: 'yellow',\n",
    "    }\n",
    "    return colors[error_type] if error_type in colors else 'blue'"
   ]
  },
  {
   "cell_type": "markdown",
   "metadata": {},
   "source": [
    "Flake8 should now pass:"
   ]
  },
  {
   "cell_type": "markdown",
   "metadata": {},
   "source": [
    "    python -m flake8 --max-complexity 3 my_module.py"
   ]
  },
  {
   "cell_type": "markdown",
   "metadata": {},
   "source": [
    "You can add additional checks to Flake8 via its powerful plugin system. For example, to enforce PEP-8 naming conventions, install pep8-naming:"
   ]
  },
  {
   "cell_type": "markdown",
   "metadata": {},
   "source": [
    "    pip install pep8-naming"
   ]
  },
  {
   "cell_type": "markdown",
   "metadata": {},
   "source": [
    "    python -m flake8 my_module.py"
   ]
  },
  {
   "cell_type": "markdown",
   "metadata": {},
   "source": [
    "Fix:"
   ]
  },
  {
   "cell_type": "code",
   "execution_count": null,
   "metadata": {},
   "outputs": [],
   "source": [
    "def main():\n",
    "    res = get('https://api.github.com/events')\n",
    "    status = res.status_code\n",
    "    if res.ok:\n",
    "        print(f'{status}')\n",
    "    else:\n",
    "        print(get_error_message(status))"
   ]
  },
  {
   "cell_type": "markdown",
   "metadata": {},
   "source": [
    "Check out Awesome Flake8 Extensions for a list of the most popular extensions."
   ]
  },
  {
   "cell_type": "markdown",
   "metadata": {},
   "source": [
    "https://github.com/DmytroLitvinov/awesome-flake8-extensions"
   ]
  },
  {
   "cell_type": "markdown",
   "metadata": {},
   "source": [
    "## Code Formatters"
   ]
  },
  {
   "cell_type": "markdown",
   "metadata": {},
   "source": [
    "While linters just check for issues in your code, code formatters actually reformat your code based on a set of standards.\n",
    "\n",
    "Keeping your code in a proper format is a necessary yet dull job that should be performed by a computer.\n",
    "\n",
    "Why is it necessary?\n",
    "\n",
    "Well-formatted code that follows a style guide for consistency is easier to read, which makes it easier to find bugs and onboard new developers. It also reduces merge conflicts."
   ]
  },
  {
   "cell_type": "markdown",
   "metadata": {},
   "source": [
    "Again, since this is a dull job that developers are often opinionated about (tabs vs spaces, single vs double quotes, etc.), use a code formatting tool to automatically reformat your code in place based on a set of standards."
   ]
  },
  {
   "cell_type": "markdown",
   "metadata": {},
   "source": [
    "### isort\n",
    "\n",
    "https://pycqa.github.io/isort/"
   ]
  },
  {
   "cell_type": "markdown",
   "metadata": {},
   "source": [
    "isort is used to automatically separate imports in your code into the following groups:\n",
    "- standard library\n",
    "- third-party\n",
    "- local\n",
    "\n",
    "The imports in groups are then individually alphabetized."
   ]
  },
  {
   "cell_type": "code",
   "execution_count": null,
   "metadata": {},
   "outputs": [],
   "source": [
    "import os\n",
    "import datetime\n",
    "from your_module import some_method\n",
    "from flask.cli import AppGroup\n",
    "import requests\n",
    "from flask import Flask"
   ]
  },
  {
   "cell_type": "markdown",
   "metadata": {},
   "source": [
    "Install:\n",
    "\n",
    "    pip install isort"
   ]
  },
  {
   "cell_type": "markdown",
   "metadata": {},
   "source": [
    "To run it against the files in the current directory and sub directories:"
   ]
  },
  {
   "cell_type": "markdown",
   "metadata": {},
   "source": [
    "    python -m isort ."
   ]
  },
  {
   "cell_type": "markdown",
   "metadata": {},
   "source": [
    "To run it against a single file:"
   ]
  },
  {
   "cell_type": "markdown",
   "metadata": {},
   "source": [
    "    python -m isort 02_example.py"
   ]
  },
  {
   "cell_type": "markdown",
   "metadata": {},
   "source": [
    "To check if your imports are correctly sorted and ordered without making changes, use the `--check-only` flag:"
   ]
  },
  {
   "cell_type": "markdown",
   "metadata": {},
   "source": [
    "    python -m isort 02_example.py --check-only"
   ]
  },
  {
   "cell_type": "markdown",
   "metadata": {},
   "source": [
    "To see the changes, without applying them use the `--diff` flag:"
   ]
  },
  {
   "cell_type": "markdown",
   "metadata": {},
   "source": [
    "    python -m isort 02_example.py --diff"
   ]
  },
  {
   "cell_type": "markdown",
   "metadata": {},
   "source": [
    "You should use the --profile black option when using isort with Black to avoid code style collisions:"
   ]
  },
  {
   "cell_type": "markdown",
   "metadata": {},
   "source": [
    "    python -m isort --profile black ."
   ]
  },
  {
   "cell_type": "markdown",
   "metadata": {},
   "source": [
    "### Black"
   ]
  },
  {
   "cell_type": "markdown",
   "metadata": {},
   "source": [
    "Black is a Python code formatter that's used to reformat your code based on the Black's code style guide, which is pretty close to PEP-8."
   ]
  },
  {
   "cell_type": "markdown",
   "metadata": {},
   "source": [
    "    pip install black"
   ]
  },
  {
   "cell_type": "markdown",
   "metadata": {},
   "source": [
    "To edit your files recursively inside the current directory:"
   ]
  },
  {
   "cell_type": "markdown",
   "metadata": {},
   "source": [
    "    python -m black ."
   ]
  },
  {
   "cell_type": "markdown",
   "metadata": {},
   "source": [
    "It can also be ran against a single file:"
   ]
  },
  {
   "cell_type": "markdown",
   "metadata": {},
   "source": [
    "    python -m black my_module.py"
   ]
  },
  {
   "cell_type": "markdown",
   "metadata": {},
   "source": [
    "Before:"
   ]
  },
  {
   "cell_type": "code",
   "execution_count": null,
   "metadata": {},
   "outputs": [],
   "source": [
    "import pytest\n",
    "\n",
    "@pytest.fixture(scope=\"module\")\n",
    "def authenticated_client(app):\n",
    "    client = app.test_client()\n",
    "    client.post(\"/login\", data=dict(email=\"dummy@email.ai\", password=\"notreal\"), follow_redirects=True)\n",
    "    return client"
   ]
  },
  {
   "cell_type": "markdown",
   "metadata": {},
   "source": [
    "    python -m black 03_example.py"
   ]
  },
  {
   "cell_type": "markdown",
   "metadata": {},
   "source": [
    "If you just want to check if your code follows the Black code style standards, you can use the `--check` flag:"
   ]
  },
  {
   "cell_type": "markdown",
   "metadata": {},
   "source": [
    "    python -m black 03_example.py --check"
   ]
  },
  {
   "cell_type": "markdown",
   "metadata": {},
   "source": [
    "The `--diff` flag, meanwhile, shows the diff between your current code and the reformatted code:"
   ]
  },
  {
   "cell_type": "markdown",
   "metadata": {},
   "source": [
    "    python -m black 03_example.py --diff"
   ]
  },
  {
   "cell_type": "markdown",
   "metadata": {},
   "source": [
    "## Security Vulnerability Scanners"
   ]
  },
  {
   "cell_type": "markdown",
   "metadata": {},
   "source": [
    "Security vulnerabilities are arguably the most important aspect of code quality, and yet they are often ignored. Your code is only as secure as its weakest link. Thankfully, there are a number of tools that can help detect possible vulnerabilities in our code. Let's take a look at two of them."
   ]
  },
  {
   "cell_type": "markdown",
   "metadata": {},
   "source": [
    "### Bandit"
   ]
  },
  {
   "cell_type": "markdown",
   "metadata": {},
   "source": [
    "https://github.com/PyCQA/bandit"
   ]
  },
  {
   "cell_type": "markdown",
   "metadata": {},
   "source": [
    "Bandit is a tool designed to find common security issues in Python code such as hardcoded password strings, deserializing untrusted code, using pass in except blocks, to name a few."
   ]
  },
  {
   "cell_type": "markdown",
   "metadata": {},
   "source": [
    "    pip install bandit"
   ]
  },
  {
   "cell_type": "markdown",
   "metadata": {},
   "source": [
    "Run it like so:"
   ]
  },
  {
   "cell_type": "markdown",
   "metadata": {},
   "source": [
    "    bandit my_module.py"
   ]
  },
  {
   "cell_type": "markdown",
   "metadata": {},
   "source": [
    "You should see the following warning:"
   ]
  },
  {
   "cell_type": "markdown",
   "metadata": {},
   "source": [
    "    bandit 04_example.py"
   ]
  },
  {
   "cell_type": "markdown",
   "metadata": {},
   "source": [
    "### Safety"
   ]
  },
  {
   "cell_type": "markdown",
   "metadata": {},
   "source": [
    "https://github.com/pyupio/safety"
   ]
  },
  {
   "cell_type": "markdown",
   "metadata": {},
   "source": [
    "Safety is another tool that comes in handy for keeping your code free of security issues.\n",
    "\n",
    "It's used to check your installed dependencies for known security vulnerabilities against Safety DB, which is a database of known security vulnerabilities in Python packages."
   ]
  },
  {
   "cell_type": "markdown",
   "metadata": {},
   "source": [
    "    pip install safety"
   ]
  },
  {
   "cell_type": "markdown",
   "metadata": {},
   "source": [
    "With your virtual environment activated, you run it like so:"
   ]
  },
  {
   "cell_type": "markdown",
   "metadata": {},
   "source": [
    "    safety check"
   ]
  },
  {
   "cell_type": "markdown",
   "metadata": {},
   "source": [
    "## Running Code Quality Tools"
   ]
  },
  {
   "cell_type": "markdown",
   "metadata": {},
   "source": [
    "Now that you know the tools, the next question is: When should they be used?\n",
    "\n",
    "Typically, the tools are run:\n",
    "\n",
    "1. While coding (inside your IDE or code editor)\n",
    "2. At commit time (with pre-commit hooks)\n",
    "3. When code is checked in to source control (via a CI pipeline)"
   ]
  },
  {
   "cell_type": "markdown",
   "metadata": {},
   "source": [
    "### Inside Your IDE or Code Editor"
   ]
  },
  {
   "cell_type": "markdown",
   "metadata": {},
   "source": [
    "It's best to check for issues that could have a negative impact on quality early and often. Therefore, it's strongly recommended to lint and format your code during development. Many of the popular IDEs have linters and formatters built-in. You'll be able to find a plugin for your code editor for most of the aforementioned tools. Such plugins warn you in real-time about code style violations and potential programming errors."
   ]
  },
  {
   "cell_type": "markdown",
   "metadata": {},
   "source": [
    "### Pre-commit Hooks"
   ]
  },
  {
   "cell_type": "markdown",
   "metadata": {},
   "source": [
    "Since you'll inevitably miss a warning here and there as you're coding, it's a good practice to check for quality issues at commit time with pre-commit git hooks. You can first format your code before you lint it. This way you can avoid committing code that won't pass code quality checks inside your CI pipeline."
   ]
  },
  {
   "cell_type": "markdown",
   "metadata": {},
   "source": [
    "https://pre-commit.com/"
   ]
  },
  {
   "cell_type": "markdown",
   "metadata": {},
   "source": [
    "### CI Pipeline"
   ]
  },
  {
   "cell_type": "markdown",
   "metadata": {},
   "source": [
    "Although you may be using code quality tools inside your code editor and pre-commit hook, you can't always count on your teammates and other collaborators to do the same. So, you should run code quality checks inside your CI pipeline. At this point, you should run linters and security vulnerabilities detectors and ensure that the code follows a particular code style. You can run such checks in parallel with your tests."
   ]
  }
 ],
 "metadata": {
  "kernelspec": {
   "display_name": "Python 3 (ipykernel)",
   "language": "python",
   "name": "python3"
  },
  "language_info": {
   "codemirror_mode": {
    "name": "ipython",
    "version": 3
   },
   "file_extension": ".py",
   "mimetype": "text/x-python",
   "name": "python",
   "nbconvert_exporter": "python",
   "pygments_lexer": "ipython3",
   "version": "3.9.0"
  }
 },
 "nbformat": 4,
 "nbformat_minor": 2
}
