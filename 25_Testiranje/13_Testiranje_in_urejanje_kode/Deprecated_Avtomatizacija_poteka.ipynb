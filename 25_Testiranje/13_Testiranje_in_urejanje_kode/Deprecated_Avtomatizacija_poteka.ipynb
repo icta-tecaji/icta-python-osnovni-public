{
 "cells": [
  {
   "cell_type": "markdown",
   "metadata": {},
   "source": [
    "# Avtomatizacija poteka"
   ]
  },
  {
   "cell_type": "markdown",
   "metadata": {},
   "source": [
    "## Primer: reader paket"
   ]
  },
  {
   "cell_type": "markdown",
   "metadata": {},
   "source": [
    "### Dodamo teste"
   ]
  },
  {
   "cell_type": "markdown",
   "metadata": {},
   "source": [
    "Ustvarimo mapo tests, dodamo `__init__.py`"
   ]
  },
  {
   "cell_type": "code",
   "execution_count": null,
   "metadata": {},
   "outputs": [],
   "source": [
    "# test_feed.py \n",
    "  \n",
    "\"\"\"Tests for the reader.feed module\"\"\"\n",
    "# Standard library imports\n",
    "import os.path\n",
    "\n",
    "# Third party imports\n",
    "import pytest\n",
    "\n",
    "# Reader imports\n",
    "from reader import feed\n",
    "\n",
    "# Current directory\n",
    "HERE = os.path.dirname(__file__)\n",
    "\n",
    "\n",
    "@pytest.fixture\n",
    "def local_feed():\n",
    "    \"\"\"Use local file instead of downloading feed from web\"\"\"\n",
    "    return os.path.join(HERE, \"realpython_20180919.xml\")\n",
    "\n",
    "\n",
    "@pytest.fixture\n",
    "def local_summary_feed():\n",
    "    \"\"\"Use local file instead of downloading feed from web\"\"\"\n",
    "    return os.path.join(HERE, \"realpython_descriptions_20180919.xml\")\n",
    "\n",
    "\n",
    "#\n",
    "# Tests\n",
    "#\n",
    "def test_site(local_feed):\n",
    "    \"\"\"Test that we can read the site title and link\"\"\"\n",
    "    expected = \"Real Python (https://realpython.com/)\"\n",
    "    assert feed.get_site(url=local_feed) == expected\n",
    "\n",
    "\n",
    "def test_article_title(local_feed):\n",
    "    \"\"\"Test that title is added at top of article\"\"\"\n",
    "    article_id = 0\n",
    "    title = feed.get_titles(url=local_feed)[article_id]\n",
    "    article = feed.get_article(article_id, url=local_feed)\n",
    "\n",
    "    assert article.strip(\"# \").startswith(title)\n",
    "\n",
    "\n",
    "def test_article(local_feed):\n",
    "    \"\"\"Test that article is returned\"\"\"\n",
    "    article_id = 2\n",
    "    article_phrases = [\n",
    "        \"logging.info('This is an info message')\",\n",
    "        \"By using the `level` parameter\",\n",
    "        \"  * `level`: The root logger\",\n",
    "    ]\n",
    "    article = feed.get_article(article_id, url=local_feed)\n",
    "\n",
    "    for phrase in article_phrases:\n",
    "        assert phrase in article\n",
    "\n",
    "\n",
    "def test_titles(local_feed):\n",
    "    \"\"\"Test that titles are found\"\"\"\n",
    "    titles = feed.get_titles(url=local_feed)\n",
    "\n",
    "    assert len(titles) == 20\n",
    "    assert titles[0] == \"Absolute vs Relative Imports in Python\"\n",
    "    assert titles[9] == \"Primer on Python Decorators\"\n",
    "\n",
    "\n",
    "def test_invalid_article_id(local_feed):\n",
    "    \"\"\"Test that invalid article ids are handled gracefully\"\"\"\n",
    "    article_id = \"wrong\"\n",
    "    with pytest.raises(ValueError):\n",
    "        feed.get_article(article_id, url=local_feed)"
   ]
  },
  {
   "cell_type": "code",
   "execution_count": null,
   "metadata": {},
   "outputs": [],
   "source": [
    "# test_viewer.py\n",
    "\"\"\"Tests for the reader.viewer module\"\"\"\n",
    "\n",
    "# Third party imports\n",
    "import pytest\n",
    "\n",
    "# Reader imports\n",
    "from reader import viewer\n",
    "\n",
    "\n",
    "#\n",
    "# Tests\n",
    "#\n",
    "def test_show(capsys):\n",
    "    \"\"\"Test that show adds information to stdout\"\"\"\n",
    "    text = \"Lorem ipsum dolor sit amet\"\n",
    "    viewer.show(text)\n",
    "    stdout, stderr = capsys.readouterr()\n",
    "    assert stderr == \"\"\n",
    "\n",
    "    # It's ok if the viewer adds some information\n",
    "    assert text in stdout\n",
    "\n",
    "\n",
    "def test_show_list(capsys):\n",
    "    \"\"\"Test that show_list shows a list of items with an ID\"\"\"\n",
    "    site = \"Real Python\"\n",
    "    things = [\"pathlib\", \"data classes\", \"python 3.7\", \"decorators\"]\n",
    "    viewer.show_list(site, things)\n",
    "    stdout, stderr = capsys.readouterr()\n",
    "    assert stderr == \"\"\n",
    "\n",
    "    # Site name is shown in header\n",
    "    lines = stdout.split(\"\\n\")\n",
    "    assert site in lines[0]\n",
    "\n",
    "    # Each thing is listed preceded by a number\n",
    "    for thing, line in zip(things, lines[1:]):\n",
    "        line_parts = line.split()\n",
    "        assert line_parts[0].isnumeric()\n",
    "        assert thing in line"
   ]
  },
  {
   "cell_type": "markdown",
   "metadata": {},
   "source": [
    "> Dodamo še dve datoteke s podatki iz mape Test/data"
   ]
  },
  {
   "cell_type": "markdown",
   "metadata": {},
   "source": [
    "V requirements_dev.txt dodamo naslednje:"
   ]
  },
  {
   "cell_type": "markdown",
   "metadata": {},
   "source": [
    "    pytest\n",
    "    memory_profiler\n",
    "    coverage\n",
    "    pytest-cov\n",
    "    pylint"
   ]
  },
  {
   "cell_type": "markdown",
   "metadata": {},
   "source": [
    "### Running Your Tests From Visual Studio Code"
   ]
  },
  {
   "cell_type": "markdown",
   "metadata": {},
   "source": [
    "If you’re using the Microsoft Visual Studio Code IDE, support for unittest, nose, and pytest execution is built into the Python plugin.\n",
    "\n",
    "If you have the Python plugin installed, you can set up the configuration of your tests by opening the Command Palette with `Ctrl+Shift+P` and typing “Python test”. You will see a range of options:\n",
    "    \n",
    "Choose `Debug All Unit Tests`, and VSCode will then raise a prompt to configure the test framework. Click on the cog to select the test runner (unittest) and the home directory (.).\n",
    "\n",
    "Once this is set up, you will see the status of your tests at the bottom of the window, and you can quickly access the test logs and run the tests again by clicking on these icons:"
   ]
  },
  {
   "cell_type": "markdown",
   "metadata": {},
   "source": [
    "### Ustvarimo Makefile"
   ]
  },
  {
   "cell_type": "markdown",
   "metadata": {},
   "source": [
    "Konfiguracija pylinta:\n",
    "\n",
    "    # izdelamo config file\n",
    "    pylint --generate-rcfile > .pylintrc"
   ]
  },
  {
   "cell_type": "markdown",
   "metadata": {},
   "source": [
    "V configu spremenimo: \n",
    "\n",
    "    [MESSAGES CONTROL] disable=missing-docstring\n",
    "    [BASIC] good-names=f"
   ]
  },
  {
   "cell_type": "markdown",
   "metadata": {},
   "source": [
    "Makefile: \n",
    "    \n",
    "    TO_CHECK = ./reader/ \n",
    "\n",
    "    flake8:\n",
    "        ### FLAKE8 ###\n",
    "        flake8 $(TO_CHECK) --count --select=E9,F63,F7,F82 --show-source --statistics --exclude .git,__pycache__,.venv\n",
    "        flake8 $(TO_CHECK) --count --exit-zero --max-complexity=10 --max-line-length=127 --statistics --exclude .git,__pycache__,.venv\n",
    "\n",
    "    pylint:\n",
    "        ### PYLINT ###\n",
    "        pylint --rcfile .pylintrc $(TO_CHECK)\n",
    "\n",
    "    test:\n",
    "        ### Pytest ###\n",
    "        pytest\n",
    "\n",
    "\n",
    "    check_all: flake8 pylint test"
   ]
  },
  {
   "cell_type": "markdown",
   "metadata": {},
   "source": [
    "### Add code to Github repository"
   ]
  },
  {
   "cell_type": "markdown",
   "metadata": {},
   "source": [
    "- Ustvarimo repositoriji\n",
    "- dodamo ssh public key v repozitorij\n",
    "- dodamo .gitignore\n",
    "- dodmao kodo na github"
   ]
  },
  {
   "cell_type": "markdown",
   "metadata": {},
   "source": [
    "https://github.com/github/gitignore/blob/master/Python.gitignore"
   ]
  },
  {
   "cell_type": "markdown",
   "metadata": {},
   "source": [
    "    git init\n",
    "    git remote add origin git@github.com:leon11s/reader.git\n",
    "    git add . \n",
    "    git commit -m \"first commit\"\n",
    "    git branch -M main\n",
    "    git push -u origin main"
   ]
  },
  {
   "cell_type": "markdown",
   "metadata": {},
   "source": [
    "### Github actions"
   ]
  },
  {
   "cell_type": "markdown",
   "metadata": {},
   "source": [
    "https://docs.github.com/en/free-pro-team@latest/actions/guides/building-and-testing-python"
   ]
  },
  {
   "cell_type": "markdown",
   "metadata": {},
   "source": [
    "This guide shows you how to build, test, and publish a Python package.\n",
    "\n",
    "GitHub-hosted runners have a tools cache with pre-installed software, which includes Python and PyPy. You don't have to install anything! For a full list of up-to-date software and the pre-installed versions of Python and PyPy, see \"Specifications for GitHub-hosted runners\"."
   ]
  },
  {
   "cell_type": "markdown",
   "metadata": {},
   "source": [
    "#### Starting with the Python workflow template"
   ]
  },
  {
   "cell_type": "markdown",
   "metadata": {},
   "source": [
    "GitHub provides a Python workflow template that should work for most Python projects. This guide includes examples that you can use to customize the template. For more information, see the Python workflow template.\n",
    "\n",
    "To get started quickly, add the template to the .github/workflows directory of your repository."
   ]
  },
  {
   "cell_type": "markdown",
   "metadata": {},
   "source": [
    "To get started quickly, add the template to the `.github/workflows/upload_workflow.yml` directory of your repository."
   ]
  },
  {
   "cell_type": "markdown",
   "metadata": {},
   "source": [
    "    name: Python package\n",
    "\n",
    "    on: [push]\n",
    "\n",
    "    jobs:\n",
    "      build:\n",
    "        runs-on: ubuntu-latest\n",
    "        steps:\n",
    "        - uses: actions/checkout@v2\n",
    "        - name: Set up Python 3.8\n",
    "          uses: actions/setup-python@v2\n",
    "          with:\n",
    "            # Semantic version range syntax or exact version of a Python version\n",
    "            python-version: '3.8'\n",
    "            # Optional - x64 or x86 architecture, defaults to x64\n",
    "            architecture: 'x64'\n",
    "        # You can test your matrix by printing the current Python version\n",
    "        - name: Display Python version\n",
    "          run: python -c \"import sys; print(sys.version)\"\n",
    "        - name: Install dependencies\n",
    "          run: |\n",
    "            python -m pip install --upgrade pip\n",
    "            pip install flake8 pytest\n",
    "            if [ -f requirements.txt ]; then pip install -r requirements.txt; fi\n",
    "        - name: Lint with flake8\n",
    "          run: |\n",
    "            # stop the build if there are Python syntax errors or undefined names\n",
    "            flake8 ./reader/ --count --select=E9,F63,F7,F82 --show-source --statistics\n",
    "            # exit-zero treats all errors as warnings. The GitHub editor is 127 chars wide\n",
    "            flake8 ./reader/ --count --exit-zero --max-complexity=10 --max-line-length=127 --statistics\n",
    "        - name: Test with pytest\n",
    "          run: |\n",
    "            pytest\n"
   ]
  },
  {
   "cell_type": "markdown",
   "metadata": {},
   "source": [
    "To use a pre-installed version of Python or PyPy on a GitHub-hosted runner, use the setup-python action. This action finds a specific version of Python or PyPy from the tools cache on each runner and adds the necessary binaries to PATH, which persists for the rest of the job. If a specific version of Python is not pre-installed in the tools cache, the setup-python action will download and set up the appropriate version from the python-versions repository.\n",
    "\n",
    "Using the setup-python action is the recommended way of using Python with GitHub Actions because it ensures consistent behavior across different runners and different versions of Python. If you are using a self-hosted runner, you must install Python and add it to PATH. For more information, see the setup-python action."
   ]
  }
 ],
 "metadata": {
  "kernelspec": {
   "display_name": "Python 3 (ipykernel)",
   "language": "python",
   "name": "python3"
  },
  "language_info": {
   "codemirror_mode": {
    "name": "ipython",
    "version": 3
   },
   "file_extension": ".py",
   "mimetype": "text/x-python",
   "name": "python",
   "nbconvert_exporter": "python",
   "pygments_lexer": "ipython3",
   "version": "3.9.0"
  }
 },
 "nbformat": 4,
 "nbformat_minor": 4
}
