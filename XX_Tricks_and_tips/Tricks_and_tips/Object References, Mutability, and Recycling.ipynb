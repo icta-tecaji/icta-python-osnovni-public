{
 "cells": [
  {
   "cell_type": "markdown",
   "id": "864ca56d",
   "metadata": {},
   "source": [
    "# Object References, Mutability, and Recycling"
   ]
  },
  {
   "cell_type": "markdown",
   "id": "f1ac15ec",
   "metadata": {},
   "source": [
    "## Variables Are Not Boxes"
   ]
  },
  {
   "cell_type": "markdown",
   "id": "1abd2362",
   "metadata": {},
   "source": [
    "In 1997, I took a summer course on Java at MIT. The professor, Lynn Stein,1 made the point that the usual “variables as boxes” metaphor actually hinders the understanding of reference variables in object-oriented languages. Python variables are like reference variables in Java; a **better metaphor is to think of variables as labels with names attached to objects**. The next example and figure will help you understand why.\n",
    "\n",
    "Example 6-1 is a simple interaction that the “variables as boxes” idea cannot explain. Figure 6-1 illustrates why the box metaphor is wrong for Python, while sticky notes provide a helpful picture of how variables actually work."
   ]
  },
  {
   "cell_type": "code",
   "execution_count": 3,
   "id": "7d1ad03c",
   "metadata": {},
   "outputs": [
    {
     "name": "stdout",
     "output_type": "stream",
     "text": [
      "[1, 2, 3, 4]\n"
     ]
    }
   ],
   "source": [
    "a = [1, 2, 3]  # Create a list [1, 2, 3] and bind the variable a to it\n",
    "b = a          # Bind the variable b to the same value that a is referencing.\n",
    "a.append(4)    # Modify the list referenced by a, by appending another item.\n",
    "\n",
    "print(b)       # You can see the effect via the b variable. If we think of b as a box \n",
    "               # that stored a copy of the [1, 2, 3] from the a box, this behavior makes no sense."
   ]
  },
  {
   "cell_type": "markdown",
   "id": "a99947ed",
   "metadata": {},
   "source": [
    "Therefore, the b = a statement does not copy the contents of box a into box b. **It attaches the label b to the object that already has the label a.**\n",
    "\n",
    "Prof. Stein also spoke about assignment in a very deliberate way. For example, when talking about a seesaw object in a simulation, she would say: “Variable s is assigned to the seesaw,” but never “The seesaw is assigned to variable s.” "
   ]
  },
  {
   "cell_type": "markdown",
   "id": "e785b497",
   "metadata": {},
   "source": [
    "With **reference variables**, it makes much more sense to say that **the variable is assigned to an object**, and not the other way around. After all, the object is created before the assignment. Example 6-2 proves that the righthand side of an assignment happens first.\n",
    "\n",
    "Since the verb “to assign” is used in contradictory ways, a useful alternative is “to bind”: Python’s assignment statement `x = …` binds the x name to the object created or referenced on the righthand side. And the object must exist before a name can be bound to it, as Example 6-2 proves."
   ]
  },
  {
   "cell_type": "code",
   "execution_count": 4,
   "id": "3f1af151",
   "metadata": {},
   "outputs": [],
   "source": [
    "class Gizmo:\n",
    "    def __init__(self):\n",
    "        print(f'Gizmo id: {id(self)}')"
   ]
  },
  {
   "cell_type": "code",
   "execution_count": 5,
   "id": "74dd0338",
   "metadata": {},
   "outputs": [
    {
     "name": "stdout",
     "output_type": "stream",
     "text": [
      "Gizmo id: 140334639386576\n"
     ]
    }
   ],
   "source": [
    "x = Gizmo() # The output Gizmo id: … is a side effect of creating a Gizmo instance"
   ]
  },
  {
   "cell_type": "code",
   "execution_count": 6,
   "id": "a2fc57e0",
   "metadata": {},
   "outputs": [
    {
     "name": "stdout",
     "output_type": "stream",
     "text": [
      "Gizmo id: 140334639384560\n"
     ]
    },
    {
     "ename": "TypeError",
     "evalue": "unsupported operand type(s) for *: 'Gizmo' and 'int'",
     "output_type": "error",
     "traceback": [
      "\u001b[0;31m---------------------------------------------------------------------------\u001b[0m",
      "\u001b[0;31mTypeError\u001b[0m                                 Traceback (most recent call last)",
      "Input \u001b[0;32mIn [6]\u001b[0m, in \u001b[0;36m<cell line: 1>\u001b[0;34m()\u001b[0m\n\u001b[0;32m----> 1\u001b[0m y \u001b[38;5;241m=\u001b[39m \u001b[43mGizmo\u001b[49m\u001b[43m(\u001b[49m\u001b[43m)\u001b[49m\u001b[43m \u001b[49m\u001b[38;5;241;43m*\u001b[39;49m\u001b[43m \u001b[49m\u001b[38;5;241;43m10\u001b[39;49m\n",
      "\u001b[0;31mTypeError\u001b[0m: unsupported operand type(s) for *: 'Gizmo' and 'int'"
     ]
    }
   ],
   "source": [
    "y = Gizmo() * 10 # Multiplying a Gizmo instance will raise an exception\n",
    "# Here is proof that a second Gizmo was actually instantiated before the multiplication was attempted."
   ]
  },
  {
   "cell_type": "code",
   "execution_count": 9,
   "id": "266bf848",
   "metadata": {},
   "outputs": [
    {
     "name": "stdout",
     "output_type": "stream",
     "text": [
      "['Gizmo', 'In', 'Out', '_', '_1', '_7', '__', '___', '__builtin__', '__builtins__', '__doc__', '__loader__', '__name__', '__package__', '__spec__', '_dh', '_i', '_i1', '_i2', '_i3', '_i4', '_i5', '_i6', '_i7', '_i8', '_i9', '_ih', '_ii', '_iii', '_oh', 'a', 'b', 'exit', 'get_ipython', 'quit', 'x']\n"
     ]
    }
   ],
   "source": [
    "print(dir())\n",
    "# But variable y was never created, because the exception happened while the \n",
    "# righthand side of the assignment was being evaluated."
   ]
  },
  {
   "cell_type": "markdown",
   "id": "747ab4f8",
   "metadata": {},
   "source": [
    "> To understand an assignment in Python, read the righthand side first: that’s where the object is created or retrieved. After that, the variable on the left is bound to the object, like a label stuck to it. Just forget about the boxes."
   ]
  },
  {
   "cell_type": "markdown",
   "id": "06eb2f5a",
   "metadata": {},
   "source": [
    "Because variables are mere labels, nothing prevents an object from having several labels assigned to it. When that happens, you have aliasing, our next topic."
   ]
  },
  {
   "cell_type": "markdown",
   "id": "5b5d51f2",
   "metadata": {},
   "source": [
    "## Identity, Equality, and Aliases"
   ]
  },
  {
   "cell_type": "markdown",
   "id": "9d6ff9c7",
   "metadata": {},
   "source": [
    "Lewis Carroll is the pen name of Prof. Charles Lutwidge Dodgson. Mr. Carroll is not only equal to Prof. Dodgson, they are one and the same. Example 6-3 expresses this idea in Python."
   ]
  },
  {
   "cell_type": "code",
   "execution_count": 10,
   "id": "2be41f86",
   "metadata": {},
   "outputs": [],
   "source": [
    "charles = {'name': 'Charles L. Dodgson', 'born': 1832}"
   ]
  },
  {
   "cell_type": "code",
   "execution_count": 11,
   "id": "3a5264ac",
   "metadata": {},
   "outputs": [],
   "source": [
    "lewis = charles # lewis is an alias for charles"
   ]
  },
  {
   "cell_type": "code",
   "execution_count": 12,
   "id": "30499177",
   "metadata": {},
   "outputs": [
    {
     "data": {
      "text/plain": [
       "True"
      ]
     },
     "execution_count": 12,
     "metadata": {},
     "output_type": "execute_result"
    }
   ],
   "source": [
    "lewis is charles"
   ]
  },
  {
   "cell_type": "code",
   "execution_count": 13,
   "id": "f87b92d8",
   "metadata": {},
   "outputs": [
    {
     "data": {
      "text/plain": [
       "(140334502055040, 140334502055040)"
      ]
     },
     "execution_count": 13,
     "metadata": {},
     "output_type": "execute_result"
    }
   ],
   "source": [
    "id(charles), id(lewis) # The is operator and the id function confirm it."
   ]
  },
  {
   "cell_type": "code",
   "execution_count": 14,
   "id": "a413256b",
   "metadata": {},
   "outputs": [],
   "source": [
    "lewis['balance'] = 950 # Adding an item to lewis is the same as adding an item to charles"
   ]
  },
  {
   "cell_type": "code",
   "execution_count": 15,
   "id": "7378fbe7",
   "metadata": {},
   "outputs": [
    {
     "data": {
      "text/plain": [
       "{'name': 'Charles L. Dodgson', 'born': 1832, 'balance': 950}"
      ]
     },
     "execution_count": 15,
     "metadata": {},
     "output_type": "execute_result"
    }
   ],
   "source": [
    "charles"
   ]
  },
  {
   "cell_type": "markdown",
   "id": "dbfee9b4",
   "metadata": {},
   "source": [
    "However, suppose an impostor—let’s call him Dr. Alexander Pedachenko—claims he is Charles L. Dodgson, born in 1832. His credentials may be the same, but Dr. Pedachenko is not Prof. Dodgson. Figure 6-2 illustrates this scenario"
   ]
  },
  {
   "cell_type": "code",
   "execution_count": 16,
   "id": "847ae657",
   "metadata": {},
   "outputs": [],
   "source": [
    "alex = {'name': 'Charles L. Dodgson', 'born': 1832, 'balance': 950}\n",
    "# alex refers to an object that is a replica of the object assigned to charles"
   ]
  },
  {
   "cell_type": "code",
   "execution_count": 17,
   "id": "d104359b",
   "metadata": {},
   "outputs": [
    {
     "data": {
      "text/plain": [
       "True"
      ]
     },
     "execution_count": 17,
     "metadata": {},
     "output_type": "execute_result"
    }
   ],
   "source": [
    "alex == charles\n",
    "# The objects compare equal because of the __eq__ implementation in the dict class."
   ]
  },
  {
   "cell_type": "code",
   "execution_count": 18,
   "id": "ef46e53e",
   "metadata": {},
   "outputs": [
    {
     "data": {
      "text/plain": [
       "True"
      ]
     },
     "execution_count": 18,
     "metadata": {},
     "output_type": "execute_result"
    }
   ],
   "source": [
    "alex is not charles\n",
    "# But they are distinct objects. This is the Pythonic way of writing the negative identity comparison: a is not b."
   ]
  },
  {
   "cell_type": "markdown",
   "id": "c2cfc624",
   "metadata": {},
   "source": [
    "Example 6-3 is an example of **aliasing**. In that code, lewis and charles are aliases: two variables bound to the same object. On the other hand, alex is not an alias for charles: these variables are bound to distinct objects. The objects bound to alex and charles have the **same value—that’s what == compares—but they have different identities**."
   ]
  },
  {
   "cell_type": "markdown",
   "id": "fea28b2e",
   "metadata": {},
   "source": [
    "> An object’s identity never changes once it has been created; you may think of it as the object’s address in memory. The is operator compares the identity of two objects; the id() function returns an integer representing its identity."
   ]
  },
  {
   "cell_type": "markdown",
   "id": "ac2d9c94",
   "metadata": {},
   "source": [
    "The real meaning of an object’s ID is implementation dependent. In CPython, `id()` returns the **memory address of the object**, but it may be something else in another Python interpreter. The **key point is that the ID is guaranteed to be a unique integer label, and it will never change during the life of the object**.\n",
    "\n",
    "In practice, we rarely use the `id()` function while programming. Identity checks are most often done with the is operator, which compares the object IDs, so our code doesn’t need to call `id()` explicitly."
   ]
  },
  {
   "cell_type": "markdown",
   "id": "cdac31e3",
   "metadata": {},
   "source": [
    "### Choosing Between == and is"
   ]
  },
  {
   "cell_type": "markdown",
   "id": "e184d362",
   "metadata": {},
   "source": [
    "The `==` operator compares the values of objects (the data they hold), while `is` compares their identities.\n",
    "\n",
    "While programming, we often care more about values than object identities, so == appears more frequently than is in Python code.\n",
    "\n",
    "However, if you are comparing a variable to a singleton, then it makes sense to use is. By far, the most common case is checking whether a variable is bound to None. This is the recommended way to do it:"
   ]
  },
  {
   "cell_type": "code",
   "execution_count": 20,
   "id": "24c38c0b",
   "metadata": {},
   "outputs": [],
   "source": [
    "x = 10"
   ]
  },
  {
   "cell_type": "code",
   "execution_count": 21,
   "id": "53cb36cf",
   "metadata": {},
   "outputs": [
    {
     "data": {
      "text/plain": [
       "False"
      ]
     },
     "execution_count": 21,
     "metadata": {},
     "output_type": "execute_result"
    }
   ],
   "source": [
    "x is None"
   ]
  },
  {
   "cell_type": "markdown",
   "id": "07ff38cf",
   "metadata": {},
   "source": [
    "And the proper way to write its negation is:"
   ]
  },
  {
   "cell_type": "code",
   "execution_count": 22,
   "id": "996891b0",
   "metadata": {},
   "outputs": [
    {
     "data": {
      "text/plain": [
       "True"
      ]
     },
     "execution_count": 22,
     "metadata": {},
     "output_type": "execute_result"
    }
   ],
   "source": [
    "x is not None"
   ]
  },
  {
   "cell_type": "markdown",
   "id": "550df42b",
   "metadata": {},
   "source": [
    "None is the most common singleton we test with is. Sentinel objects are another example of singletons we test with is. Here is one way to create and test a sentinel object:"
   ]
  },
  {
   "cell_type": "code",
   "execution_count": null,
   "id": "6aa8236e",
   "metadata": {},
   "outputs": [],
   "source": [
    "END_OF_DATA = object()\n",
    "# ... many lines\n",
    "def traverse(...):\n",
    "    # ... more lines\n",
    "    if node is END_OF_DATA:\n",
    "        return\n",
    "    # etc."
   ]
  },
  {
   "cell_type": "markdown",
   "id": "d207bf7d",
   "metadata": {},
   "source": [
    "The **`is` operator is faster than `==`**, because it cannot be overloaded, so Python does not have to find and invoke special methods to evaluate it, and computing is as simple as comparing two integer IDs. In contrast, a == b is syntactic sugar for `a.__eq__(b)`. The `__eq__` method inherited from object compares object IDs, so it produces the same result as is. But most built-in types override `__eq__` with more meaningful implementations that actually take into account the values of the object attributes. **Equality may involve a lot of processing—for example, when comparing large collections or deeply nested structures.**\n"
   ]
  },
  {
   "cell_type": "markdown",
   "id": "5c4db827",
   "metadata": {},
   "source": [
    "> Usually we are more interested in object equality than identity. Checking for None is the only common use case for the is operator. Most other uses I see while reviewing code are wrong. If you are not sure, use ==. It’s usually what you want, and also works with None—albeit not as fast."
   ]
  },
  {
   "cell_type": "markdown",
   "id": "974c11d8",
   "metadata": {},
   "source": [
    "### The Relative Immutability of Tuples"
   ]
  },
  {
   "cell_type": "markdown",
   "id": "0102f3de",
   "metadata": {},
   "source": [
    "Tuples, like most Python collections—lists, dicts, sets, etc.—are containers: they hold references to objects. If the referenced items are mutable, they may change even if the tuple itself does not. In other words, **the immutability of tuples really refers to the physical contents of the tuple data structure (i.e., the references it holds), and does not extend to the referenced objects.**\n",
    "\n",
    "Example 6-5 illustrates the situation in which the value of a tuple changes as a result of changes to a mutable object referenced in it. What can never change in a tuple is the identity of the items it contains."
   ]
  },
  {
   "cell_type": "code",
   "execution_count": 24,
   "id": "e7a9d186",
   "metadata": {},
   "outputs": [],
   "source": [
    "t1 = (1, 2, [30, 40]) # t1 is immutable, but t1[-1] is mutable\n",
    "t2 = (1, 2, [30, 40]) # Build a tuple t2 whose items are equal to those of t1"
   ]
  },
  {
   "cell_type": "code",
   "execution_count": 25,
   "id": "7251fea4",
   "metadata": {},
   "outputs": [
    {
     "data": {
      "text/plain": [
       "True"
      ]
     },
     "execution_count": 25,
     "metadata": {},
     "output_type": "execute_result"
    }
   ],
   "source": [
    "t1 == t2 # Although distinct objects, t1 and t2 compare equal, as expected."
   ]
  },
  {
   "cell_type": "code",
   "execution_count": 26,
   "id": "c3adeaf9",
   "metadata": {},
   "outputs": [
    {
     "data": {
      "text/plain": [
       "140334502067584"
      ]
     },
     "execution_count": 26,
     "metadata": {},
     "output_type": "execute_result"
    }
   ],
   "source": [
    "id(t1[-1]) # Inspect the identity of the list at t1[-1]"
   ]
  },
  {
   "cell_type": "code",
   "execution_count": 27,
   "id": "c783d745",
   "metadata": {},
   "outputs": [],
   "source": [
    "t1[-1].append(99) # Modify the t1[-1] list in place."
   ]
  },
  {
   "cell_type": "code",
   "execution_count": 28,
   "id": "c60f149e",
   "metadata": {},
   "outputs": [
    {
     "data": {
      "text/plain": [
       "(1, 2, [30, 40, 99])"
      ]
     },
     "execution_count": 28,
     "metadata": {},
     "output_type": "execute_result"
    }
   ],
   "source": [
    "t1"
   ]
  },
  {
   "cell_type": "code",
   "execution_count": 29,
   "id": "9b9e0fba",
   "metadata": {},
   "outputs": [
    {
     "data": {
      "text/plain": [
       "140334502067584"
      ]
     },
     "execution_count": 29,
     "metadata": {},
     "output_type": "execute_result"
    }
   ],
   "source": [
    "id(t1[-1]) # The identity of t1[-1] has not changed, only its value"
   ]
  },
  {
   "cell_type": "code",
   "execution_count": 30,
   "id": "65829dba",
   "metadata": {},
   "outputs": [
    {
     "data": {
      "text/plain": [
       "False"
      ]
     },
     "execution_count": 30,
     "metadata": {},
     "output_type": "execute_result"
    }
   ],
   "source": [
    "t1 == t2 # t1 and t2 are now different."
   ]
  },
  {
   "cell_type": "markdown",
   "id": "d34a1e28",
   "metadata": {},
   "source": [
    "This relative immutability of tuples is behind the riddle “A += Assignment Puzzler”. It’s also the reason why some tuples are unhashable, as we’ve seen in “What Is Hashable”.\n"
   ]
  },
  {
   "cell_type": "markdown",
   "id": "48959ad1",
   "metadata": {},
   "source": [
    "## Copies Are Shallow by Default"
   ]
  },
  {
   "cell_type": "markdown",
   "id": "574091d4",
   "metadata": {},
   "source": [
    "The easiest way to copy a list (or most built-in mutable collections) is to use the built-in constructor for the type itself. For example:"
   ]
  },
  {
   "cell_type": "code",
   "execution_count": 31,
   "id": "36052959",
   "metadata": {},
   "outputs": [],
   "source": [
    "l1 = [3, [55, 44], (7, 8, 9)]"
   ]
  },
  {
   "cell_type": "code",
   "execution_count": 32,
   "id": "02dc10cb",
   "metadata": {},
   "outputs": [],
   "source": [
    "l2 = list(l1) # list(l1) creates a copy of l1."
   ]
  },
  {
   "cell_type": "code",
   "execution_count": 33,
   "id": "e3a74330",
   "metadata": {},
   "outputs": [
    {
     "data": {
      "text/plain": [
       "[3, [55, 44], (7, 8, 9)]"
      ]
     },
     "execution_count": 33,
     "metadata": {},
     "output_type": "execute_result"
    }
   ],
   "source": [
    "l2"
   ]
  },
  {
   "cell_type": "code",
   "execution_count": 34,
   "id": "3cbc9193",
   "metadata": {},
   "outputs": [
    {
     "data": {
      "text/plain": [
       "True"
      ]
     },
     "execution_count": 34,
     "metadata": {},
     "output_type": "execute_result"
    }
   ],
   "source": [
    "l2 == l1 # The copies are equal…"
   ]
  },
  {
   "cell_type": "code",
   "execution_count": 35,
   "id": "bfd9ccab",
   "metadata": {},
   "outputs": [
    {
     "data": {
      "text/plain": [
       "False"
      ]
     },
     "execution_count": 35,
     "metadata": {},
     "output_type": "execute_result"
    }
   ],
   "source": [
    "l2 is l1 # …but refer to two different objects"
   ]
  },
  {
   "cell_type": "markdown",
   "id": "50e06809",
   "metadata": {},
   "source": [
    "For lists and other mutable sequences, the shortcut `l2 = l1[:]` also makes a copy.\n",
    "\n",
    "However, using the constructor or [:] **produces a shallow copy** (i.e., **the outermost container is duplicated**, but the copy is filled with references to the same items held by the original container). This saves memory and **causes no problems if all the items are immutable**. But if there are mutable items, this may lead to unpleasant surprises.\n",
    "\n",
    "In Example 6-6, we create a shallow copy of a list containing another list and a tuple, and then make changes to see how they affect the referenced objects."
   ]
  },
  {
   "cell_type": "code",
   "execution_count": 39,
   "id": "5edb149e",
   "metadata": {},
   "outputs": [],
   "source": [
    "l1 = [3, [66, 55, 44], (7, 8, 9)]\n",
    "l2 = list(l1) # l2 is a shallow copy of l1."
   ]
  },
  {
   "cell_type": "code",
   "execution_count": 40,
   "id": "9c81e50e",
   "metadata": {},
   "outputs": [
    {
     "name": "stdout",
     "output_type": "stream",
     "text": [
      "l1: [3, [66, 44], (7, 8, 9), 100]\n",
      "l2: [3, [66, 44], (7, 8, 9)]\n"
     ]
    }
   ],
   "source": [
    "l1.append(100) # Appending 100 to l1 has no effect on l2.   \n",
    "l1[1].remove(55) # Here we remove 55 from the inner list l1[1]. This affects l2 because l2[1] \n",
    "                 # is bound to the same list as l1[1].\n",
    "\n",
    "print('l1:', l1)\n",
    "print('l2:', l2)"
   ]
  },
  {
   "cell_type": "code",
   "execution_count": 41,
   "id": "b4d1c0df",
   "metadata": {},
   "outputs": [
    {
     "name": "stdout",
     "output_type": "stream",
     "text": [
      "l1: [3, [66, 44, 33, 22], (7, 8, 9), 100]\n",
      "l2: [3, [66, 44, 33, 22], (7, 8, 9, 10, 11)]\n"
     ]
    }
   ],
   "source": [
    "l2[1] += [33, 22]  # For a mutable object like the list referred by l2[1], the operator += changes the \n",
    "                   # list in place. This change is visible at l1[1], which is an alias for l2[1].\n",
    "    \n",
    "l2[2] += (10, 11)  # += on a tuple creates a new tuple and rebinds the variable l2[2] here. This is the same \n",
    "                   # as doing l2[2] = l2[2] + (10, 11). Now the tuples in the last position of l1 and l2 are \n",
    "                   # no longer the same object\n",
    "\n",
    "print('l1:', l1)\n",
    "print('l2:', l2)"
   ]
  },
  {
   "cell_type": "markdown",
   "id": "9e712c29",
   "metadata": {},
   "source": [
    "It should be clear now that shallow copies are easy to make, but they may or may not be what you want. How to make deep copies is our next topic."
   ]
  },
  {
   "cell_type": "markdown",
   "id": "bc9cd4b0",
   "metadata": {},
   "source": [
    "### Deep and Shallow Copies of Arbitrary Objects"
   ]
  },
  {
   "cell_type": "markdown",
   "id": "447e14ed",
   "metadata": {},
   "source": [
    "Working with shallow copies is not always a problem, but sometimes you need to make deep copies (i.e., duplicates that do not share references of embedded objects). The copy module provides the `deepcopy` and `copy` functions that return deep and shallow copies of arbitrary objects.\n",
    "\n",
    "To illustrate the use of `copy()` and `deepcopy()`, Example 6-8 defines a simple class, Bus, representing a school bus that is loaded with passengers and then picks up or drops off passengers on its route."
   ]
  },
  {
   "cell_type": "code",
   "execution_count": 42,
   "id": "b8b36db9",
   "metadata": {},
   "outputs": [],
   "source": [
    "class Bus:\n",
    "    def __init__(self, passengers=None):\n",
    "        if passengers is None:\n",
    "            self.passengers = []\n",
    "        else:\n",
    "            self.passengers = list(passengers)\n",
    "\n",
    "    def pick(self, name):\n",
    "        self.passengers.append(name)\n",
    "\n",
    "    def drop(self, name):\n",
    "        self.passengers.remove(name)"
   ]
  },
  {
   "cell_type": "markdown",
   "id": "8674a3ea",
   "metadata": {},
   "source": [
    "Now, in the interactive Example 6-9, we will create a bus object (bus1) and two clones—a shallow copy (bus2) and a deep copy (bus3)—to observe what happens as bus1 drops off a student."
   ]
  },
  {
   "cell_type": "code",
   "execution_count": 43,
   "id": "8fda0dca",
   "metadata": {},
   "outputs": [
    {
     "data": {
      "text/plain": [
       "(140334636661536, 140334638570800, 140334638535296)"
      ]
     },
     "execution_count": 43,
     "metadata": {},
     "output_type": "execute_result"
    }
   ],
   "source": [
    "import copy\n",
    "\n",
    "bus1 = Bus(['Alice', 'Bill', 'Claire', 'David'])\n",
    "bus2 = copy.copy(bus1)\n",
    "bus3 = copy.deepcopy(bus1)\n",
    "id(bus1), id(bus2), id(bus3) # Using copy and deepcopy, we create three distinct Bus instances."
   ]
  },
  {
   "cell_type": "code",
   "execution_count": 44,
   "id": "84bb3b0f",
   "metadata": {},
   "outputs": [],
   "source": [
    "bus1.drop('Bill')"
   ]
  },
  {
   "cell_type": "code",
   "execution_count": 45,
   "id": "ec2fd740",
   "metadata": {},
   "outputs": [
    {
     "data": {
      "text/plain": [
       "['Alice', 'Claire', 'David']"
      ]
     },
     "execution_count": 45,
     "metadata": {},
     "output_type": "execute_result"
    }
   ],
   "source": [
    "bus2.passengers # After bus1 drops 'Bill', he is also missing from bus2."
   ]
  },
  {
   "cell_type": "code",
   "execution_count": 46,
   "id": "f7e27162",
   "metadata": {},
   "outputs": [
    {
     "data": {
      "text/plain": [
       "(140334501494848, 140334501494848, 140334501741376)"
      ]
     },
     "execution_count": 46,
     "metadata": {},
     "output_type": "execute_result"
    }
   ],
   "source": [
    "id(bus1.passengers), id(bus2.passengers), id(bus3.passengers)\n",
    "# Inspection of the passengers attributes shows that bus1 and bus2 share the same \n",
    "# list object, because bus2 is a shallow copy of bus1"
   ]
  },
  {
   "cell_type": "code",
   "execution_count": 47,
   "id": "3c35ec03",
   "metadata": {},
   "outputs": [
    {
     "data": {
      "text/plain": [
       "['Alice', 'Bill', 'Claire', 'David']"
      ]
     },
     "execution_count": 47,
     "metadata": {},
     "output_type": "execute_result"
    }
   ],
   "source": [
    "bus3.passengers\n",
    "# bus3 is a deep copy of bus1, so its passengers attribute refers to another list."
   ]
  },
  {
   "cell_type": "markdown",
   "id": "32d7f691",
   "metadata": {},
   "source": [
    "Note that making deep copies is not a simple matter in the general case. Objects may have cyclic references that would cause a naïve algorithm to enter an infinite loop. The deepcopy function remembers the objects already copied to handle cyclic references gracefully. This is demonstrated in Example 6-10."
   ]
  },
  {
   "cell_type": "code",
   "execution_count": 48,
   "id": "bfe93bb7",
   "metadata": {},
   "outputs": [],
   "source": [
    "a = [10, 20]\n",
    "b = [a, 30]"
   ]
  },
  {
   "cell_type": "code",
   "execution_count": 49,
   "id": "0413f41d",
   "metadata": {},
   "outputs": [
    {
     "data": {
      "text/plain": [
       "[[10, 20], 30]"
      ]
     },
     "execution_count": 49,
     "metadata": {},
     "output_type": "execute_result"
    }
   ],
   "source": [
    "b"
   ]
  },
  {
   "cell_type": "code",
   "execution_count": 50,
   "id": "da82e0a5",
   "metadata": {},
   "outputs": [],
   "source": [
    "a.append(b)"
   ]
  },
  {
   "cell_type": "code",
   "execution_count": 51,
   "id": "02891f06",
   "metadata": {},
   "outputs": [
    {
     "data": {
      "text/plain": [
       "[10, 20, [[...], 30]]"
      ]
     },
     "execution_count": 51,
     "metadata": {},
     "output_type": "execute_result"
    }
   ],
   "source": [
    "a"
   ]
  },
  {
   "cell_type": "code",
   "execution_count": 52,
   "id": "cee0f155",
   "metadata": {},
   "outputs": [],
   "source": [
    "from copy import deepcopy"
   ]
  },
  {
   "cell_type": "code",
   "execution_count": 53,
   "id": "6364e6ef",
   "metadata": {},
   "outputs": [],
   "source": [
    "c = deepcopy(a)"
   ]
  },
  {
   "cell_type": "code",
   "execution_count": 54,
   "id": "867e6487",
   "metadata": {},
   "outputs": [
    {
     "data": {
      "text/plain": [
       "[10, 20, [[...], 30]]"
      ]
     },
     "execution_count": 54,
     "metadata": {},
     "output_type": "execute_result"
    }
   ],
   "source": [
    "c"
   ]
  },
  {
   "cell_type": "markdown",
   "id": "67ef7a8b",
   "metadata": {},
   "source": [
    "Also, a deep copy may be too deep in some cases. For example, objects may refer to external resources or singletons that should not be copied. You can control the behavior of both copy and deepcopy by implementing the `__copy__()` and `__deepcopy__()` special methods, as described in the copy module documentation.\n"
   ]
  },
  {
   "cell_type": "markdown",
   "id": "32a16e99",
   "metadata": {},
   "source": [
    "## Function Parameters as References"
   ]
  },
  {
   "cell_type": "markdown",
   "id": "970e007a",
   "metadata": {},
   "source": [
    "The only mode of parameter passing in Python is call by sharing. That is the same mode used in most object-oriented languages, including JavaScript, Ruby, and Java (this applies to Java reference types; primitive types use call by value). Call by sharing means that each formal parameter of the function gets a copy of each reference in the arguments. In other words, the **parameters inside the function become aliases of the actual arguments**.\n",
    "\n",
    "The result of this scheme is that **a function may change any mutable object passed as a parameter, but it cannot change the identity of those objects** (i.e., it cannot altogether replace an object with another). Example 6-11 shows a simple function using += on one of its parameters. As we pass numbers, lists, and tuples to the function, the actual arguments passed are affected in different ways."
   ]
  },
  {
   "cell_type": "code",
   "execution_count": 55,
   "id": "254441ca",
   "metadata": {},
   "outputs": [],
   "source": [
    "def f(a, b):\n",
    "    a += b\n",
    "    return a"
   ]
  },
  {
   "cell_type": "code",
   "execution_count": 56,
   "id": "7ed31887",
   "metadata": {},
   "outputs": [
    {
     "data": {
      "text/plain": [
       "3"
      ]
     },
     "execution_count": 56,
     "metadata": {},
     "output_type": "execute_result"
    }
   ],
   "source": [
    "x = 1\n",
    "y = 2\n",
    "\n",
    "f(x, y)"
   ]
  },
  {
   "cell_type": "code",
   "execution_count": 57,
   "id": "50987bd9",
   "metadata": {},
   "outputs": [
    {
     "data": {
      "text/plain": [
       "(1, 2)"
      ]
     },
     "execution_count": 57,
     "metadata": {},
     "output_type": "execute_result"
    }
   ],
   "source": [
    "x, y # The number x is unchanged."
   ]
  },
  {
   "cell_type": "code",
   "execution_count": 58,
   "id": "43e719dc",
   "metadata": {},
   "outputs": [
    {
     "data": {
      "text/plain": [
       "[1, 2, 3, 4]"
      ]
     },
     "execution_count": 58,
     "metadata": {},
     "output_type": "execute_result"
    }
   ],
   "source": [
    "a = [1, 2]\n",
    "b = [3, 4]\n",
    "f(a, b)"
   ]
  },
  {
   "cell_type": "code",
   "execution_count": 59,
   "id": "83c1311b",
   "metadata": {},
   "outputs": [
    {
     "data": {
      "text/plain": [
       "([1, 2, 3, 4], [3, 4])"
      ]
     },
     "execution_count": 59,
     "metadata": {},
     "output_type": "execute_result"
    }
   ],
   "source": [
    "a, b # The list a is changed"
   ]
  },
  {
   "cell_type": "code",
   "execution_count": 60,
   "id": "81b5dc42",
   "metadata": {},
   "outputs": [
    {
     "data": {
      "text/plain": [
       "(10, 20, 30, 40)"
      ]
     },
     "execution_count": 60,
     "metadata": {},
     "output_type": "execute_result"
    }
   ],
   "source": [
    "t = (10, 20)\n",
    "u = (30, 40)\n",
    "f(t, u)  "
   ]
  },
  {
   "cell_type": "code",
   "execution_count": 61,
   "id": "deae111f",
   "metadata": {},
   "outputs": [
    {
     "data": {
      "text/plain": [
       "((10, 20), (30, 40))"
      ]
     },
     "execution_count": 61,
     "metadata": {},
     "output_type": "execute_result"
    }
   ],
   "source": [
    "t, u # The tuple t is unchanged."
   ]
  },
  {
   "cell_type": "markdown",
   "id": "fe62f719",
   "metadata": {},
   "source": [
    "Another issue related to function parameters is the use of mutable values for defaults, as discussed next."
   ]
  },
  {
   "cell_type": "markdown",
   "id": "b10a4f06",
   "metadata": {},
   "source": [
    "### Mutable Types as Parameter Defaults: Bad Idea"
   ]
  },
  {
   "cell_type": "markdown",
   "id": "4365a8da",
   "metadata": {},
   "source": [
    "Optional parameters with default values are a great feature of Python function definitions, allowing our APIs to evolve while remaining backward compatible. However, **you should avoid mutable objects as default values for parameters**.\n",
    "\n",
    "To illustrate this point, in Example 6-12, we take the Bus class from Example 6-8 and change its `__init__` method to create HauntedBus. Here we tried to be clever, and instead of having a default value of passengers=None, we have passengers=[], thus avoiding the if in the previous `__init__`. This “cleverness” gets us into trouble."
   ]
  },
  {
   "cell_type": "code",
   "execution_count": 64,
   "id": "6a30733f",
   "metadata": {},
   "outputs": [],
   "source": [
    "class HauntedBus:\n",
    "    \"\"\"A bus model haunted by ghost passengers\"\"\"\n",
    "\n",
    "    def __init__(self, passengers=[]):  # When the passengers argument is not passed, this parameter is bound to the \n",
    "                                        # default list object, which is initially empty.\n",
    "        self.passengers = passengers  # This assignment makes self.passengers an alias for passengers, which is itself \n",
    "                                      # an alias for the default list, when no passengers argument is given.\n",
    "\n",
    "    def pick(self, name):\n",
    "        self.passengers.append(name)   # When the methods .remove() and .append() are used with self.passengers, \n",
    "                                       # we are actually mutating the default list, which is an attribute of the \n",
    "                                       # function object.\n",
    "\n",
    "    def drop(self, name):\n",
    "        self.passengers.remove(name)"
   ]
  },
  {
   "cell_type": "code",
   "execution_count": 65,
   "id": "43c59655",
   "metadata": {},
   "outputs": [
    {
     "data": {
      "text/plain": [
       "['Alice', 'Bill']"
      ]
     },
     "execution_count": 65,
     "metadata": {},
     "output_type": "execute_result"
    }
   ],
   "source": [
    "bus1 = HauntedBus(['Alice', 'Bill'])  # bus1 starts with a two-passenger list.\n",
    "bus1.passengers "
   ]
  },
  {
   "cell_type": "code",
   "execution_count": 66,
   "id": "e3d6f800",
   "metadata": {},
   "outputs": [
    {
     "data": {
      "text/plain": [
       "['Bill', 'Charlie']"
      ]
     },
     "execution_count": 66,
     "metadata": {},
     "output_type": "execute_result"
    }
   ],
   "source": [
    "bus1.pick('Charlie')\n",
    "bus1.drop('Alice')\n",
    "bus1.passengers # So far, so good: no surprises with bus1."
   ]
  },
  {
   "cell_type": "code",
   "execution_count": 67,
   "id": "8ab69682",
   "metadata": {},
   "outputs": [
    {
     "data": {
      "text/plain": [
       "['Carrie']"
      ]
     },
     "execution_count": 67,
     "metadata": {},
     "output_type": "execute_result"
    }
   ],
   "source": [
    "bus2 = HauntedBus()  # bus2 starts empty, so the default empty list is assigned to self.passengers\n",
    "bus2.pick('Carrie')\n",
    "bus2.passengers"
   ]
  },
  {
   "cell_type": "code",
   "execution_count": 68,
   "id": "c9922b98",
   "metadata": {},
   "outputs": [
    {
     "data": {
      "text/plain": [
       "['Carrie']"
      ]
     },
     "execution_count": 68,
     "metadata": {},
     "output_type": "execute_result"
    }
   ],
   "source": [
    "bus3 = HauntedBus()  # bus3 also starts empty, again the default list is assigned.\n",
    "bus3.passengers # The default is no longer empty!"
   ]
  },
  {
   "cell_type": "code",
   "execution_count": 69,
   "id": "21124731",
   "metadata": {},
   "outputs": [
    {
     "data": {
      "text/plain": [
       "['Carrie', 'Dave']"
      ]
     },
     "execution_count": 69,
     "metadata": {},
     "output_type": "execute_result"
    }
   ],
   "source": [
    "bus3.pick('Dave')\n",
    "bus2.passengers # Now Dave, picked by bus3, appears in bus2"
   ]
  },
  {
   "cell_type": "code",
   "execution_count": 70,
   "id": "2949531d",
   "metadata": {},
   "outputs": [
    {
     "data": {
      "text/plain": [
       "True"
      ]
     },
     "execution_count": 70,
     "metadata": {},
     "output_type": "execute_result"
    }
   ],
   "source": [
    "bus2.passengers is bus3.passengers \n",
    "# The problem: bus2.passengers and bus3.passengers refer to the same list"
   ]
  },
  {
   "cell_type": "code",
   "execution_count": 71,
   "id": "6a44a8bf",
   "metadata": {},
   "outputs": [
    {
     "data": {
      "text/plain": [
       "['Bill', 'Charlie']"
      ]
     },
     "execution_count": 71,
     "metadata": {},
     "output_type": "execute_result"
    }
   ],
   "source": [
    "bus1.passengers # But bus1.passengers is a distinct list."
   ]
  },
  {
   "cell_type": "markdown",
   "id": "aa26f086",
   "metadata": {},
   "source": [
    "The problem is that HauntedBus instances that don’t get an initial passenger list end up sharing the same passenger list among themselves.\n",
    "\n",
    "Such bugs may be subtle. As Example 6-13 demonstrates, when a HauntedBus is instantiated with passengers, it works as expected. Strange things happen only when a HauntedBus starts empty, because then self.passengers becomes an alias for the default value of the passengers parameter. The problem is that each default value is evaluated when the function is defined—i.e., usually when the module is loaded—and the default values become attributes of the function object. So if a default value is a mutable object, and you change it, the change will affect every future call of the function."
   ]
  },
  {
   "cell_type": "markdown",
   "id": "470b3344",
   "metadata": {},
   "source": [
    "After running the lines in Example 6-13, you can inspect the `HauntedBus.__init__` object and see the ghost students haunting its `__defaults__` attribute:"
   ]
  },
  {
   "cell_type": "code",
   "execution_count": 73,
   "id": "39b2e4a9",
   "metadata": {},
   "outputs": [
    {
     "name": "stdout",
     "output_type": "stream",
     "text": [
      "['__annotations__', '__call__', '__class__', '__closure__', '__code__', '__defaults__', '__delattr__', '__dict__', '__dir__', '__doc__', '__eq__', '__format__', '__ge__', '__get__', '__getattribute__', '__globals__', '__gt__', '__hash__', '__init__', '__init_subclass__', '__kwdefaults__', '__le__', '__lt__', '__module__', '__name__', '__ne__', '__new__', '__qualname__', '__reduce__', '__reduce_ex__', '__repr__', '__setattr__', '__sizeof__', '__str__', '__subclasshook__']\n"
     ]
    }
   ],
   "source": [
    "print(dir(HauntedBus.__init__))"
   ]
  },
  {
   "cell_type": "code",
   "execution_count": 74,
   "id": "4a6bf898",
   "metadata": {},
   "outputs": [
    {
     "data": {
      "text/plain": [
       "(['Carrie', 'Dave'],)"
      ]
     },
     "execution_count": 74,
     "metadata": {},
     "output_type": "execute_result"
    }
   ],
   "source": [
    "HauntedBus.__init__.__defaults__"
   ]
  },
  {
   "cell_type": "markdown",
   "id": "c106bc68",
   "metadata": {},
   "source": [
    "Finally, we can verify that `bus2.passengers` is an alias bound to the first element of the `HauntedBus.__init__.__defaults__` attribute:"
   ]
  },
  {
   "cell_type": "code",
   "execution_count": 75,
   "id": "32f7eea5",
   "metadata": {},
   "outputs": [
    {
     "data": {
      "text/plain": [
       "True"
      ]
     },
     "execution_count": 75,
     "metadata": {},
     "output_type": "execute_result"
    }
   ],
   "source": [
    "HauntedBus.__init__.__defaults__[0] is bus2.passengers"
   ]
  },
  {
   "cell_type": "markdown",
   "id": "774684c0",
   "metadata": {},
   "source": [
    "The issue with mutable defaults explains why None is commonly used as the default value for parameters that may receive mutable values. In Example 6-8, `__init__` checks whether the passengers argument is None. If it is, self.passengers is bound to a new empty list. If passengers is not None, the correct implementation binds a copy of that argument to self.passengers. The next section explains why copying the argument is a good practice."
   ]
  },
  {
   "cell_type": "markdown",
   "id": "54357ccd",
   "metadata": {},
   "source": [
    "### Defensive Programming with Mutable Parameters"
   ]
  },
  {
   "cell_type": "markdown",
   "id": "24a931e0",
   "metadata": {},
   "source": [
    "When you are coding a function that receives a mutable parameter, you **should carefully consider whether the caller expects the argument passed to be changed.**\n",
    "\n",
    "For example, if your function receives a dict and needs to modify it while processing it, should this side effect be visible outside of the function or not? Actually it depends on the context. It’s really a matter of aligning the expectation of the coder of the function and that of the caller.\n",
    "\n",
    "The last bus example in this chapter shows how a TwilightBus breaks expectations by sharing its passenger list with its clients. Before studying the implementation, see in Example 6-14 how the TwilightBus class works from the perspective of a client of the class."
   ]
  },
  {
   "cell_type": "code",
   "execution_count": 77,
   "id": "86bd433b",
   "metadata": {},
   "outputs": [],
   "source": [
    "class TwilightBus:\n",
    "    \"\"\"A bus model that makes passengers vanish\"\"\"\n",
    "\n",
    "    def __init__(self, passengers=None):\n",
    "        if passengers is None:\n",
    "            self.passengers = []  # Here we are careful to create a new empty list when passengers is None.\n",
    "        else:\n",
    "            self.passengers = passengers  \n",
    "            # However, this assignment makes self.passengers an alias for passengers, which is itself an \n",
    "            # alias for the actual argument passed to __init__\n",
    "\n",
    "    def pick(self, name):\n",
    "        self.passengers.append(name)\n",
    "\n",
    "    def drop(self, name):\n",
    "        self.passengers.remove(name)\n",
    "        # When the methods .remove() and .append() are used with self.passengers, we are actually \n",
    "        # mutating the original list received as an argument to the constructor"
   ]
  },
  {
   "cell_type": "code",
   "execution_count": 79,
   "id": "5eca4eaa",
   "metadata": {},
   "outputs": [
    {
     "data": {
      "text/plain": [
       "['Sue', 'Maya', 'Diana']"
      ]
     },
     "execution_count": 79,
     "metadata": {},
     "output_type": "execute_result"
    }
   ],
   "source": [
    "basketball_team = ['Sue', 'Tina', 'Maya', 'Diana', 'Pat']  # basketball_team holds five student names\n",
    "bus = TwilightBus(basketball_team)  # A TwilightBus is loaded with the team.\n",
    "bus.drop('Tina')  \n",
    "bus.drop('Pat') # The bus drops one student, then another\n",
    "\n",
    "basketball_team # The dropped passengers vanished from the basketball team!"
   ]
  },
  {
   "cell_type": "markdown",
   "id": "d26ce947",
   "metadata": {},
   "source": [
    "TwilightBus violates the “Principle of least astonishment,” a best practice of interface design. It surely is astonishing that when the bus drops a student, their name is removed from the basketball team roster."
   ]
  },
  {
   "cell_type": "markdown",
   "id": "e3ccc89f",
   "metadata": {},
   "source": [
    "The problem here is that the bus is aliasing the list that is passed to the constructor. Instead, it should keep its own passenger list. The fix is simple: in `__init__`, when the passengers parameter is provided, self.passengers should be initialized with a copy of it, as we did correctly in Example 6-8:"
   ]
  },
  {
   "cell_type": "code",
   "execution_count": null,
   "id": "831fb2e3",
   "metadata": {},
   "outputs": [],
   "source": [
    "def __init__(self, passengers=None):\n",
    "        if passengers is None:\n",
    "            self.passengers = []\n",
    "        else:\n",
    "            self.passengers = list(passengers) # Make a copy of the passengers list, or convert it to a list if it’s not one."
   ]
  },
  {
   "cell_type": "markdown",
   "id": "ec4172f4",
   "metadata": {},
   "source": [
    "Now our internal handling of the passenger list will not affect the argument used to initialize the bus. As a bonus, this solution is more flexible: now the argument passed to the passengers parameter may be a tuple or any other iterable, like a set or even database results, because the list constructor accepts any iterable. As we create our own list to manage, we ensure that it supports the necessary `.remove()` and `.append()` operations we use in the `.pick()` and `.drop()` methods."
   ]
  },
  {
   "cell_type": "markdown",
   "id": "989c08b4",
   "metadata": {},
   "source": [
    "> Unless a method is explicitly intended to mutate an object received as an argument, you should think twice before aliasing the argument object by simply assigning it to an instance variable in your class. If in doubt, make a copy. Your clients will be happier. Of course, making a copy is not free: there is a cost in CPU and memory. However, an API that causes subtle bugs is usually a bigger problem than one that is a little slower or uses more resources."
   ]
  },
  {
   "cell_type": "markdown",
   "id": "d18cf7ca",
   "metadata": {},
   "source": [
    "## del and Garbage Collection"
   ]
  },
  {
   "cell_type": "markdown",
   "id": "a9ca31ce",
   "metadata": {},
   "source": [
    "> Objects are never explicitly destroyed; however, when they become unreachable they may be garbage-collected."
   ]
  },
  {
   "cell_type": "markdown",
   "id": "86b4a0f9",
   "metadata": {},
   "source": [
    "The first strange fact about del is that it’s not a function, it’s a statement. We write del x and not del(x) — although the latter also works, but only because the expressions x and (x) usually mean the same thing in Python."
   ]
  },
  {
   "cell_type": "markdown",
   "id": "7abb07bd",
   "metadata": {},
   "source": [
    "The second surprising fact is that **del deletes references, not objects**. **Python’s garbage collector may discard an object from memory as an indirect result of del, if the deleted variable was the last reference to the object**. Rebinding a variable may also cause the number of references to an object to reach zero, causing its destruction."
   ]
  },
  {
   "cell_type": "code",
   "execution_count": 80,
   "id": "ec5f0b1c",
   "metadata": {},
   "outputs": [],
   "source": [
    "a = [1, 2] # Create object [1, 2] and bind a to it."
   ]
  },
  {
   "cell_type": "code",
   "execution_count": 81,
   "id": "5cad0f96",
   "metadata": {},
   "outputs": [],
   "source": [
    "b = a # Bind b to the same [1, 2] object."
   ]
  },
  {
   "cell_type": "code",
   "execution_count": 82,
   "id": "8f8d3295",
   "metadata": {},
   "outputs": [],
   "source": [
    "del a  # Delete reference a."
   ]
  },
  {
   "cell_type": "code",
   "execution_count": 83,
   "id": "c0db2b97",
   "metadata": {},
   "outputs": [
    {
     "data": {
      "text/plain": [
       "[1, 2]"
      ]
     },
     "execution_count": 83,
     "metadata": {},
     "output_type": "execute_result"
    }
   ],
   "source": [
    "b # [1, 2] was not affected, because b still points to it."
   ]
  },
  {
   "cell_type": "code",
   "execution_count": 84,
   "id": "51f86d2c",
   "metadata": {},
   "outputs": [],
   "source": [
    "b = [3] # Rebinding b to a different object removes the last \n",
    "        # remaining reference to [1, 2]. Now the garbage collector can discard that object."
   ]
  },
  {
   "cell_type": "markdown",
   "id": "0e31372c",
   "metadata": {},
   "source": [
    "> There is a `__del__` special method, but it does not cause the disposal of the instance, and should not be called by your code. `__del__` is invoked by the Python interpreter when the instance is about to be destroyed to give it a chance to release external resources. You will seldom need to implement `__del__` in your own code, yet some Python programmers spend time coding it for no good reason. The proper use of `__del__` is rather tricky. See the `__del__` special method documentation in the “Data Model” chapter of The Python Language Reference."
   ]
  },
  {
   "cell_type": "markdown",
   "id": "ee7f929b",
   "metadata": {},
   "source": [
    "In CPython, the **primary algorithm for garbage collection is reference counting**. Essentially, each object keeps count of how many references point to it. As soon as that refcount reaches zero, the object is immediately destroyed: CPython calls the `__del__` method on the object (if defined) and then frees the memory allocated to the object. In CPython 2.0, a generational garbage collection algorithm was added to detect groups of objects involved in reference cycles—which may be unreachable even with outstanding references to them, when all the mutual references are contained within the group. Other implementations of Python have more sophisticated garbage collectors that do not rely on reference counting, which means the `__del__` method may not be called immediately when there are no more references to the object. See “PyPy, Garbage Collection, and a Deadlock” by A. Jesse Jiryu Davis for discussion of improper and proper use of `__del__`.\n",
    "\n",
    "To demonstrate the end of an object’s life, Example 6-16 uses `weakref.finalize` to register a callback function to be called when an object is destroyed."
   ]
  },
  {
   "cell_type": "code",
   "execution_count": 85,
   "id": "82018816",
   "metadata": {},
   "outputs": [],
   "source": [
    "import weakref\n",
    "\n",
    "s1 = {1, 2, 3}\n",
    "s2 = s1        # s1 and s2 are aliases referring to the same set, {1, 2, 3}.\n",
    "\n",
    "# This function must not be a bound method of the object about to be destroyed or otherwise hold a reference to it.\n",
    "def bye():      \n",
    "    print('...like tears in the rain.')"
   ]
  },
  {
   "cell_type": "code",
   "execution_count": 86,
   "id": "88f16c77",
   "metadata": {},
   "outputs": [],
   "source": [
    "# Register the bye callback on the object referred by s1.\n",
    "ender = weakref.finalize(s1, bye)"
   ]
  },
  {
   "cell_type": "code",
   "execution_count": 87,
   "id": "976f4a7b",
   "metadata": {},
   "outputs": [
    {
     "data": {
      "text/plain": [
       "True"
      ]
     },
     "execution_count": 87,
     "metadata": {},
     "output_type": "execute_result"
    }
   ],
   "source": [
    "ender.alive  # The .alive attribute is True before the finalize object is called."
   ]
  },
  {
   "cell_type": "code",
   "execution_count": 88,
   "id": "f5604676",
   "metadata": {},
   "outputs": [],
   "source": [
    "del s1 "
   ]
  },
  {
   "cell_type": "code",
   "execution_count": 89,
   "id": "0e7bb1e4",
   "metadata": {},
   "outputs": [
    {
     "data": {
      "text/plain": [
       "True"
      ]
     },
     "execution_count": 89,
     "metadata": {},
     "output_type": "execute_result"
    }
   ],
   "source": [
    "ender.alive # As discussed, del did not delete the object, just the s1 reference to it."
   ]
  },
  {
   "cell_type": "code",
   "execution_count": 90,
   "id": "337e15eb",
   "metadata": {},
   "outputs": [
    {
     "name": "stdout",
     "output_type": "stream",
     "text": [
      "...like tears in the rain.\n"
     ]
    }
   ],
   "source": [
    "s2 = 'spam'  # Rebinding the last reference, s2, makes {1, 2, 3} unreachable. \n",
    "# It is destroyed, the bye callback is invoked, and ender.alive becomes False."
   ]
  },
  {
   "cell_type": "code",
   "execution_count": 91,
   "id": "75b230a2",
   "metadata": {},
   "outputs": [
    {
     "data": {
      "text/plain": [
       "False"
      ]
     },
     "execution_count": 91,
     "metadata": {},
     "output_type": "execute_result"
    }
   ],
   "source": [
    "ender.alive"
   ]
  },
  {
   "cell_type": "markdown",
   "id": "0e1a3566",
   "metadata": {},
   "source": [
    "The point of Example 6-16 is to make explicit that del does not delete objects, but objects may be deleted as a consequence of being unreachable after del is used.\n",
    "\n",
    "You may be wondering why the {1, 2, 3} object was destroyed in Example 6-16. After all, the s1 reference was passed to the finalize function, which must have held on to it in order to monitor the object and invoke the callback. This works because finalize holds a weak reference to {1, 2, 3}. Weak references to an object do not increase its reference count. Therefore, a weak reference does not prevent the target object from being garbage collected. Weak references are useful in caching applications because you don’t want the cached objects to be kept alive just because they are referenced by the cache."
   ]
  },
  {
   "cell_type": "markdown",
   "id": "cd6b010f",
   "metadata": {},
   "source": [
    "## Tricks Python Plays with Immutables"
   ]
  },
  {
   "cell_type": "markdown",
   "id": "bc224b73",
   "metadata": {},
   "source": [
    "> This optional section discusses some Python details that are not really important for users of Python, and that may not apply to other Python implementations or even future versions of CPython. Nevertheless, I’ve seen people stumble upon these corner cases and then start using the is operator incorrectly, so I felt they were worth mentioning."
   ]
  },
  {
   "cell_type": "markdown",
   "id": "4c7596d3",
   "metadata": {},
   "source": [
    "I was surprised to learn that, for a tuple t, t[:] does not make a copy, but returns a reference to the same object. You also get a reference to the same tuple if you write tuple(t). Example 6-17 proves it."
   ]
  },
  {
   "cell_type": "code",
   "execution_count": 92,
   "id": "5fae0c0e",
   "metadata": {},
   "outputs": [],
   "source": [
    "t1 = (1, 2, 3)\n",
    "t2 = tuple(t1)"
   ]
  },
  {
   "cell_type": "code",
   "execution_count": 93,
   "id": "ed6501aa",
   "metadata": {},
   "outputs": [
    {
     "data": {
      "text/plain": [
       "True"
      ]
     },
     "execution_count": 93,
     "metadata": {},
     "output_type": "execute_result"
    }
   ],
   "source": [
    "t2 is t1 # t1 and t2 are bound to the same object"
   ]
  },
  {
   "cell_type": "code",
   "execution_count": 94,
   "id": "0787fe15",
   "metadata": {},
   "outputs": [],
   "source": [
    "t3 = t1[:]"
   ]
  },
  {
   "cell_type": "code",
   "execution_count": 95,
   "id": "ef7c0d72",
   "metadata": {},
   "outputs": [
    {
     "data": {
      "text/plain": [
       "True"
      ]
     },
     "execution_count": 95,
     "metadata": {},
     "output_type": "execute_result"
    }
   ],
   "source": [
    "t3 is t1"
   ]
  },
  {
   "cell_type": "markdown",
   "id": "a15751e7",
   "metadata": {},
   "source": [
    "The same behavior can be observed with instances of str, bytes, and frozenset. Note that a frozenset is not a sequence, so fs[:] does not work if fs is a frozenset. But fs.copy() has the same effect: it cheats and returns a reference to the same object, and not a copy at all, as Example 6-18 shows."
   ]
  },
  {
   "cell_type": "code",
   "execution_count": 96,
   "id": "50fb314f",
   "metadata": {},
   "outputs": [
    {
     "data": {
      "text/plain": [
       "False"
      ]
     },
     "execution_count": 96,
     "metadata": {},
     "output_type": "execute_result"
    }
   ],
   "source": [
    "t1 = (1, 2, 3)\n",
    "t3 = (1, 2, 3)   # Creating a new tuple from scratch.\n",
    "t3 is t1  # t1 and t3 are equal, but not the same object. "
   ]
  },
  {
   "cell_type": "code",
   "execution_count": 97,
   "id": "3be010e8",
   "metadata": {},
   "outputs": [
    {
     "data": {
      "text/plain": [
       "True"
      ]
     },
     "execution_count": 97,
     "metadata": {},
     "output_type": "execute_result"
    }
   ],
   "source": [
    "s1 = 'ABC'\n",
    "s2 = 'ABC'  # Creating a second str from scratch.\n",
    "s2 is s1 # Surprise: a and b refer to the same str!"
   ]
  },
  {
   "cell_type": "markdown",
   "id": "3d856b5c",
   "metadata": {},
   "source": [
    "**The sharing of string literals is an optimization technique called interning**. CPython uses a similar technique with small integers to avoid unnecessary duplication of numbers that appear frequently in programs like 0, 1, –1, etc. Note that CPython does not intern all strings or integers, and the criteria it uses to do so is an undocumented implementation detail."
   ]
  },
  {
   "cell_type": "markdown",
   "id": "6a5af2ac",
   "metadata": {},
   "source": [
    "> Never depend on str or int interning! Always use == instead of is to compare strings or integers for equality. Interning is an optimization for internal use of the Python interpreter."
   ]
  },
  {
   "cell_type": "markdown",
   "id": "77b0cbb8",
   "metadata": {},
   "source": [
    "The tricks discussed in this section, including the behavior of frozenset.copy(), are harmless “lies” that save memory and make the interpreter faster. Do not worry about them, they should not give you any trouble because they only apply to immutable types. Probably the best use of these bits of trivia is to win bets with fellow Pythonistas."
   ]
  }
 ],
 "metadata": {
  "kernelspec": {
   "display_name": "Python 3 (ipykernel)",
   "language": "python",
   "name": "python3"
  },
  "language_info": {
   "codemirror_mode": {
    "name": "ipython",
    "version": 3
   },
   "file_extension": ".py",
   "mimetype": "text/x-python",
   "name": "python",
   "nbconvert_exporter": "python",
   "pygments_lexer": "ipython3",
   "version": "3.9.0"
  }
 },
 "nbformat": 4,
 "nbformat_minor": 5
}
