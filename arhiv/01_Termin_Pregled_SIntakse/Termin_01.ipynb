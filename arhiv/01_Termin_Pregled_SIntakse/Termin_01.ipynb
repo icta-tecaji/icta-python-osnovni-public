{
 "cells": [
  {
   "cell_type": "markdown",
   "id": "e0342dff",
   "metadata": {},
   "source": [
    "# Pregled sintakse"
   ]
  },
  {
   "cell_type": "code",
   "execution_count": null,
   "id": "1b189a84",
   "metadata": {},
   "outputs": [],
   "source": []
  },
  {
   "cell_type": "markdown",
   "id": "b8bb95d8",
   "metadata": {},
   "source": [
    "## Spremenljivke"
   ]
  },
  {
   "cell_type": "code",
   "execution_count": 1,
   "id": "546852b7",
   "metadata": {},
   "outputs": [],
   "source": [
    "ime_spremenljivke = 123"
   ]
  },
  {
   "cell_type": "code",
   "execution_count": 3,
   "id": "30de7fea",
   "metadata": {},
   "outputs": [
    {
     "name": "stdout",
     "output_type": "stream",
     "text": [
      "12\n",
      "34\n"
     ]
    }
   ],
   "source": [
    "x = 12\n",
    "print(x)\n",
    "X = 34\n",
    "print(X)"
   ]
  },
  {
   "cell_type": "code",
   "execution_count": 4,
   "id": "93de7f08",
   "metadata": {},
   "outputs": [
    {
     "ename": "SyntaxError",
     "evalue": "cannot assign to False (3634007298.py, line 1)",
     "output_type": "error",
     "traceback": [
      "\u001b[0;36m  Input \u001b[0;32mIn [4]\u001b[0;36m\u001b[0m\n\u001b[0;31m    False = 12\u001b[0m\n\u001b[0m    ^\u001b[0m\n\u001b[0;31mSyntaxError\u001b[0m\u001b[0;31m:\u001b[0m cannot assign to False\n"
     ]
    }
   ],
   "source": [
    "False = 12"
   ]
  },
  {
   "cell_type": "code",
   "execution_count": 10,
   "id": "22379c5c",
   "metadata": {},
   "outputs": [
    {
     "name": "stdout",
     "output_type": "stream",
     "text": [
      "<class 'int'>\n",
      "<class 'str'>\n"
     ]
    }
   ],
   "source": [
    "x = 12\n",
    "print(type(x))\n",
    "\n",
    "x = \"string\"\n",
    "print(type(x))"
   ]
  },
  {
   "cell_type": "markdown",
   "id": "e6dbc03f",
   "metadata": {},
   "source": [
    "## Integer"
   ]
  },
  {
   "cell_type": "code",
   "execution_count": 11,
   "id": "7c55b6e4",
   "metadata": {},
   "outputs": [
    {
     "name": "stdout",
     "output_type": "stream",
     "text": [
      "1267650600228229401496703205376\n",
      "<class 'int'>\n"
     ]
    }
   ],
   "source": [
    "x = 2**100\n",
    "print(x)\n",
    "print(type(x))"
   ]
  },
  {
   "cell_type": "markdown",
   "id": "f74bc6fa",
   "metadata": {},
   "source": [
    "## Float"
   ]
  },
  {
   "cell_type": "code",
   "execution_count": 13,
   "id": "fd664ce4",
   "metadata": {},
   "outputs": [
    {
     "name": "stdout",
     "output_type": "stream",
     "text": [
      "<class 'float'>\n",
      "3.0\n"
     ]
    }
   ],
   "source": [
    "x = 3.0\n",
    "print(type(x))\n",
    "print(x)"
   ]
  },
  {
   "cell_type": "markdown",
   "id": "94522ddc",
   "metadata": {},
   "source": [
    "## Complex"
   ]
  },
  {
   "cell_type": "code",
   "execution_count": 14,
   "id": "b650fe02",
   "metadata": {},
   "outputs": [
    {
     "name": "stdout",
     "output_type": "stream",
     "text": [
      "<class 'complex'>\n",
      "(12+324j)\n"
     ]
    }
   ],
   "source": [
    "x = 12 + 324j\n",
    "print(type(x))\n",
    "print(x)"
   ]
  },
  {
   "cell_type": "code",
   "execution_count": 15,
   "id": "3a390546",
   "metadata": {},
   "outputs": [
    {
     "name": "stdout",
     "output_type": "stream",
     "text": [
      "(6-1j)\n"
     ]
    }
   ],
   "source": [
    "x = 1 + 2j\n",
    "y = 5 - 3j\n",
    "\n",
    "print(x + y)"
   ]
  },
  {
   "cell_type": "markdown",
   "id": "fb2e5687",
   "metadata": {},
   "source": [
    "## Booleans"
   ]
  },
  {
   "cell_type": "code",
   "execution_count": 18,
   "id": "5ca17a3d",
   "metadata": {},
   "outputs": [
    {
     "name": "stdout",
     "output_type": "stream",
     "text": [
      "<class 'bool'>\n",
      "False\n"
     ]
    }
   ],
   "source": [
    "x = False#True\n",
    "print(type(x))\n",
    "print(x)"
   ]
  },
  {
   "cell_type": "code",
   "execution_count": null,
   "id": "ddcafe6d",
   "metadata": {},
   "outputs": [],
   "source": []
  },
  {
   "cell_type": "code",
   "execution_count": 25,
   "id": "5da6e1ea",
   "metadata": {},
   "outputs": [
    {
     "name": "stdout",
     "output_type": "stream",
     "text": [
      "<class 'bool'>\n",
      "False\n"
     ]
    }
   ],
   "source": [
    "x = ()\n",
    "y = bool(x)\n",
    "print(type(y))\n",
    "print(y)"
   ]
  },
  {
   "cell_type": "code",
   "execution_count": null,
   "id": "e02aae1c",
   "metadata": {},
   "outputs": [],
   "source": []
  },
  {
   "cell_type": "code",
   "execution_count": 28,
   "id": "d13c1e2d",
   "metadata": {},
   "outputs": [
    {
     "name": "stdout",
     "output_type": "stream",
     "text": [
      "<class 'int'>\n",
      "<class 'complex'>\n",
      "(123+0j)\n"
     ]
    }
   ],
   "source": [
    "x = 123\n",
    "print(type(x))\n",
    "y = complex(x)\n",
    "print(type(y))\n",
    "print(y)"
   ]
  },
  {
   "cell_type": "code",
   "execution_count": null,
   "id": "0c247667",
   "metadata": {},
   "outputs": [],
   "source": []
  },
  {
   "cell_type": "markdown",
   "id": "d2cc2996",
   "metadata": {},
   "source": [
    "## Strings"
   ]
  },
  {
   "cell_type": "code",
   "execution_count": 29,
   "id": "f9d02c98",
   "metadata": {},
   "outputs": [
    {
     "name": "stdout",
     "output_type": "stream",
     "text": [
      "<class 'str'>\n",
      "moj string\n"
     ]
    }
   ],
   "source": [
    "x = \"moj string\"\n",
    "print(type(x))\n",
    "print(x)"
   ]
  },
  {
   "cell_type": "code",
   "execution_count": 30,
   "id": "0c50c5de",
   "metadata": {},
   "outputs": [
    {
     "name": "stdout",
     "output_type": "stream",
     "text": [
      "<class 'str'>\n",
      "moj string\n"
     ]
    }
   ],
   "source": [
    "x = 'moj string'\n",
    "print(type(x))\n",
    "print(x)"
   ]
  },
  {
   "cell_type": "code",
   "execution_count": 31,
   "id": "1ef08524",
   "metadata": {},
   "outputs": [
    {
     "ename": "SyntaxError",
     "evalue": "unterminated string literal (detected at line 1) (4050864860.py, line 1)",
     "output_type": "error",
     "traceback": [
      "\u001b[0;36m  Input \u001b[0;32mIn [31]\u001b[0;36m\u001b[0m\n\u001b[0;31m    x = \"moj string'\u001b[0m\n\u001b[0m        ^\u001b[0m\n\u001b[0;31mSyntaxError\u001b[0m\u001b[0;31m:\u001b[0m unterminated string literal (detected at line 1)\n"
     ]
    }
   ],
   "source": [
    "x = \"moj string'\n",
    "print(x)"
   ]
  },
  {
   "cell_type": "code",
   "execution_count": 32,
   "id": "4b03e0a3",
   "metadata": {},
   "outputs": [
    {
     "name": "stdout",
     "output_type": "stream",
     "text": [
      "Don't do that\n"
     ]
    }
   ],
   "source": [
    "x = \"Don't do that\"\n",
    "print(x)"
   ]
  },
  {
   "cell_type": "code",
   "execution_count": 33,
   "id": "655d81a5",
   "metadata": {},
   "outputs": [
    {
     "name": "stdout",
     "output_type": "stream",
     "text": [
      "Don\"t do that\n"
     ]
    }
   ],
   "source": [
    "x = 'Don\"t do that'\n",
    "print(x)"
   ]
  },
  {
   "cell_type": "code",
   "execution_count": 34,
   "id": "897b9972",
   "metadata": {},
   "outputs": [
    {
     "name": "stdout",
     "output_type": "stream",
     "text": [
      "<class 'str'>\n",
      "\n"
     ]
    }
   ],
   "source": [
    "x = \"\"\n",
    "print(type(x))\n",
    "print(x)"
   ]
  },
  {
   "cell_type": "code",
   "execution_count": 37,
   "id": "6136bc66",
   "metadata": {},
   "outputs": [
    {
     "name": "stdout",
     "output_type": "stream",
     "text": [
      "Prvo linija \n",
      " Druga linja\n"
     ]
    }
   ],
   "source": [
    "x = \"Prvo linija \\n Druga linja\"\n",
    "print(x)"
   ]
  },
  {
   "cell_type": "code",
   "execution_count": 43,
   "id": "36165ed1",
   "metadata": {},
   "outputs": [
    {
     "name": "stdout",
     "output_type": "stream",
     "text": [
      "X:\t123\b\n"
     ]
    }
   ],
   "source": [
    "x = \"X:\\t123\\b\"\n",
    "print(x)"
   ]
  },
  {
   "cell_type": "code",
   "execution_count": 44,
   "id": "a4f94962",
   "metadata": {},
   "outputs": [
    {
     "name": "stdout",
     "output_type": "stream",
     "text": [
      "Don't do that\n",
      "<class 'str'>\n"
     ]
    }
   ],
   "source": [
    "x = 'Don\\'t do that'\n",
    "print(x)\n",
    "print(type(x))"
   ]
  },
  {
   "cell_type": "code",
   "execution_count": 45,
   "id": "02fbb5f5",
   "metadata": {},
   "outputs": [
    {
     "name": "stdout",
     "output_type": "stream",
     "text": [
      "<class 'str'>\n",
      "prva vrstica\n",
      "druga vrstica\n",
      "tretja vrstica\n",
      "\n"
     ]
    }
   ],
   "source": [
    "x = '''prva vrstica\n",
    "druga vrstica\n",
    "tretja vrstica\n",
    "'''\n",
    "\n",
    "print(type(x))\n",
    "print(x)"
   ]
  },
  {
   "cell_type": "markdown",
   "id": "7e9c67de",
   "metadata": {},
   "source": [
    "### String formatting"
   ]
  },
  {
   "cell_type": "code",
   "execution_count": 47,
   "id": "19eb3f3b",
   "metadata": {},
   "outputs": [
    {
     "name": "stdout",
     "output_type": "stream",
     "text": [
      "Gregor je star 26\n",
      "<class 'str'>\n"
     ]
    }
   ],
   "source": [
    "ime = \"Gregor\"\n",
    "age = 26\n",
    "izpis = f\"{ime} je star {age}\"\n",
    "print(izpis)\n",
    "print(type(izpis))"
   ]
  },
  {
   "cell_type": "code",
   "execution_count": 53,
   "id": "cf93507c",
   "metadata": {},
   "outputs": [
    {
     "name": "stdout",
     "output_type": "stream",
     "text": [
      "--Gregor-- je star 2.600000e+01\n",
      "<class 'str'>\n"
     ]
    }
   ],
   "source": [
    "ime = \"Gregor\"\n",
    "age = 26\n",
    "izpis = f\"{ime:-^10} je star {age:e}\"\n",
    "print(izpis)\n",
    "print(type(izpis))"
   ]
  },
  {
   "cell_type": "code",
   "execution_count": 54,
   "id": "e250f675",
   "metadata": {},
   "outputs": [
    {
     "name": "stdout",
     "output_type": "stream",
     "text": [
      "Gregor je star 26\n",
      "<class 'str'>\n"
     ]
    }
   ],
   "source": [
    "ime = \"Gregor\"\n",
    "age = 26\n",
    "izpis = \"{} je star {}\".format(ime, age)\n",
    "print(izpis)\n",
    "print(type(izpis))"
   ]
  },
  {
   "cell_type": "code",
   "execution_count": 56,
   "id": "7295eff7",
   "metadata": {},
   "outputs": [
    {
     "name": "stdout",
     "output_type": "stream",
     "text": [
      "Gregor je star 26\n",
      "<class 'str'>\n"
     ]
    }
   ],
   "source": [
    "ime = \"Gregor\"\n",
    "age = 26\n",
    "izpis = \"%s je star %d\" % (ime, age)\n",
    "print(izpis)\n",
    "print(type(izpis))"
   ]
  },
  {
   "cell_type": "code",
   "execution_count": null,
   "id": "a580102c",
   "metadata": {},
   "outputs": [],
   "source": []
  },
  {
   "cell_type": "markdown",
   "id": "7d65a107",
   "metadata": {},
   "source": [
    "# Input function"
   ]
  },
  {
   "cell_type": "code",
   "execution_count": 63,
   "id": "6257a86d",
   "metadata": {},
   "outputs": [
    {
     "name": "stdout",
     "output_type": "stream",
     "text": [
      "Vnesi starost: 24\n",
      "24\n",
      "<class 'int'>\n",
      "Star si 288 mesecev.\n"
     ]
    }
   ],
   "source": [
    "x = int(input(\"Vnesi starost: \"))\n",
    "print(x)\n",
    "print(type(x))\n",
    "\n",
    "print(f\"Star si {x*12} mesecev.\")"
   ]
  },
  {
   "cell_type": "code",
   "execution_count": null,
   "id": "a53bd763",
   "metadata": {},
   "outputs": [],
   "source": []
  },
  {
   "cell_type": "markdown",
   "id": "73be207c",
   "metadata": {},
   "source": [
    "## String operations"
   ]
  },
  {
   "cell_type": "code",
   "execution_count": 64,
   "id": "5ae64632",
   "metadata": {},
   "outputs": [
    {
     "name": "stdout",
     "output_type": "stream",
     "text": [
      "ŽIVJO ANŽE. STAR SI 10 LET.\n"
     ]
    }
   ],
   "source": [
    "my_str = \"Živjo Anže. Star si 10 let.\"\n",
    "print(my_str.upper())"
   ]
  },
  {
   "cell_type": "code",
   "execution_count": 65,
   "id": "3bb95829",
   "metadata": {},
   "outputs": [
    {
     "name": "stdout",
     "output_type": "stream",
     "text": [
      "živjo anže. star si 10 let.\n"
     ]
    }
   ],
   "source": [
    "print(my_str.lower())"
   ]
  },
  {
   "cell_type": "code",
   "execution_count": 69,
   "id": "a03ee817",
   "metadata": {},
   "outputs": [
    {
     "name": "stdout",
     "output_type": "stream",
     "text": [
      "True\n",
      "True\n"
     ]
    }
   ],
   "source": [
    "print(my_str.startswith(\"Živjo\"))\n",
    "print(my_str.endswith(\"let.\"))"
   ]
  },
  {
   "cell_type": "code",
   "execution_count": 72,
   "id": "d568948a",
   "metadata": {},
   "outputs": [
    {
     "name": "stdout",
     "output_type": "stream",
     "text": [
      "Živjo Anže. Star si 10 let\n"
     ]
    }
   ],
   "source": [
    "print(my_str.strip(\".\"))"
   ]
  },
  {
   "cell_type": "code",
   "execution_count": 84,
   "id": "6986e918",
   "metadata": {},
   "outputs": [
    {
     "name": "stdout",
     "output_type": "stream",
     "text": [
      "Prva        linija\n"
     ]
    }
   ],
   "source": [
    "moj_str = \"      Prva        linija    \"\n",
    "print(moj_str.strip())"
   ]
  },
  {
   "cell_type": "code",
   "execution_count": 87,
   "id": "63ee2f40",
   "metadata": {},
   "outputs": [
    {
     "name": "stdout",
     "output_type": "stream",
     "text": [
      "Prvalinija\n"
     ]
    }
   ],
   "source": [
    "moj_str = \"      Prva        linija    \"\n",
    "print(moj_str.replace(\" \", \"\"))"
   ]
  },
  {
   "cell_type": "code",
   "execution_count": 89,
   "id": "d2c19f93",
   "metadata": {},
   "outputs": [
    {
     "name": "stdout",
     "output_type": "stream",
     "text": [
      "HalloHallo\n"
     ]
    }
   ],
   "source": [
    "moj_str = \"Hallo\"\n",
    "print(moj_str + moj_str)"
   ]
  },
  {
   "cell_type": "code",
   "execution_count": null,
   "id": "807dff6d",
   "metadata": {},
   "outputs": [],
   "source": []
  },
  {
   "cell_type": "markdown",
   "id": "d6bc7102",
   "metadata": {},
   "source": [
    "# Matematične operacije"
   ]
  },
  {
   "cell_type": "code",
   "execution_count": 90,
   "id": "61a2cfa7",
   "metadata": {},
   "outputs": [],
   "source": [
    "x = 9\n",
    "y = 4"
   ]
  },
  {
   "cell_type": "code",
   "execution_count": 91,
   "id": "7db921e0",
   "metadata": {},
   "outputs": [
    {
     "data": {
      "text/plain": [
       "13"
      ]
     },
     "execution_count": 91,
     "metadata": {},
     "output_type": "execute_result"
    }
   ],
   "source": [
    "x + y"
   ]
  },
  {
   "cell_type": "code",
   "execution_count": 92,
   "id": "560cf64c",
   "metadata": {},
   "outputs": [
    {
     "data": {
      "text/plain": [
       "5"
      ]
     },
     "execution_count": 92,
     "metadata": {},
     "output_type": "execute_result"
    }
   ],
   "source": [
    "x - y"
   ]
  },
  {
   "cell_type": "code",
   "execution_count": 93,
   "id": "41e1ce7f",
   "metadata": {},
   "outputs": [
    {
     "data": {
      "text/plain": [
       "2.25"
      ]
     },
     "execution_count": 93,
     "metadata": {},
     "output_type": "execute_result"
    }
   ],
   "source": [
    "x / y"
   ]
  },
  {
   "cell_type": "code",
   "execution_count": 94,
   "id": "217e0fa7",
   "metadata": {},
   "outputs": [
    {
     "data": {
      "text/plain": [
       "4.0"
      ]
     },
     "execution_count": 94,
     "metadata": {},
     "output_type": "execute_result"
    }
   ],
   "source": [
    "8 / 2"
   ]
  },
  {
   "cell_type": "code",
   "execution_count": 95,
   "id": "1a3e4170",
   "metadata": {},
   "outputs": [
    {
     "data": {
      "text/plain": [
       "36"
      ]
     },
     "execution_count": 95,
     "metadata": {},
     "output_type": "execute_result"
    }
   ],
   "source": [
    "x * y"
   ]
  },
  {
   "cell_type": "code",
   "execution_count": 96,
   "id": "51f41fef",
   "metadata": {},
   "outputs": [
    {
     "data": {
      "text/plain": [
       "6561"
      ]
     },
     "execution_count": 96,
     "metadata": {},
     "output_type": "execute_result"
    }
   ],
   "source": [
    "x**y"
   ]
  },
  {
   "cell_type": "code",
   "execution_count": 97,
   "id": "a7d3ef9a",
   "metadata": {},
   "outputs": [
    {
     "data": {
      "text/plain": [
       "1"
      ]
     },
     "execution_count": 97,
     "metadata": {},
     "output_type": "execute_result"
    }
   ],
   "source": [
    "x%y"
   ]
  },
  {
   "cell_type": "code",
   "execution_count": 98,
   "id": "3201bc21",
   "metadata": {},
   "outputs": [
    {
     "data": {
      "text/plain": [
       "2"
      ]
     },
     "execution_count": 98,
     "metadata": {},
     "output_type": "execute_result"
    }
   ],
   "source": [
    "x//y"
   ]
  },
  {
   "cell_type": "code",
   "execution_count": 103,
   "id": "52d5499d",
   "metadata": {},
   "outputs": [
    {
     "name": "stdout",
     "output_type": "stream",
     "text": [
      "10\n",
      "11\n",
      "22\n"
     ]
    }
   ],
   "source": [
    "counter = 10\n",
    "print(counter)\n",
    "\n",
    "counter = counter + 1\n",
    "print(counter)\n",
    "\n",
    "counter *= 2\n",
    "print(counter)"
   ]
  },
  {
   "cell_type": "markdown",
   "id": "1aab330c",
   "metadata": {},
   "source": [
    "### Potek operacij"
   ]
  },
  {
   "cell_type": "markdown",
   "id": "a1d78222",
   "metadata": {},
   "source": [
    "|             Operacije            |                       Opis                       |\n",
    "|:--------------------------------:|:------------------------------------------------:|\n",
    "| **                               | exponentiation                                   |\n",
    "| +x, -x, ~x                       | unary positive, unary negation, bitwise negation |\n",
    "| \\*, /, //, %                     | multiplication, division, floor division, modulo |\n",
    "| +, -                             | addition, subtraction                            |\n",
    "| <<, >>                           | bit shifts                                       |\n",
    "| &                                | bitwise AND                                      |\n",
    "| ^                                | bitwise XOR                                      |\n",
    "| \\|                               | bitwise OR                                       |\n",
    "| ==, !=, <, <=, >, >=, is, is not | comparisons, identity                            |\n",
    "| not                              | Boolean NOT                                      |\n",
    "| and                              | Boolean AND                                      |\n",
    "| or                               | Boolean OR                                       |"
   ]
  },
  {
   "cell_type": "code",
   "execution_count": 104,
   "id": "3ee4c92d",
   "metadata": {},
   "outputs": [
    {
     "name": "stdout",
     "output_type": "stream",
     "text": [
      "60\n"
     ]
    }
   ],
   "source": [
    "x = 20 + 4 * 10\n",
    "print(x)"
   ]
  },
  {
   "cell_type": "code",
   "execution_count": 105,
   "id": "d9f13fde",
   "metadata": {},
   "outputs": [
    {
     "name": "stdout",
     "output_type": "stream",
     "text": [
      "240\n"
     ]
    }
   ],
   "source": [
    "x = (20 + 4) * 10\n",
    "print(x)"
   ]
  },
  {
   "cell_type": "code",
   "execution_count": null,
   "id": "0e311f68",
   "metadata": {},
   "outputs": [],
   "source": []
  },
  {
   "cell_type": "markdown",
   "id": "63a48291",
   "metadata": {},
   "source": [
    "## Primerjalne operacije"
   ]
  },
  {
   "cell_type": "code",
   "execution_count": 106,
   "id": "426f64bf",
   "metadata": {},
   "outputs": [
    {
     "data": {
      "text/plain": [
       "True"
      ]
     },
     "execution_count": 106,
     "metadata": {},
     "output_type": "execute_result"
    }
   ],
   "source": [
    "5 < 10"
   ]
  },
  {
   "cell_type": "code",
   "execution_count": 107,
   "id": "668bb7e6",
   "metadata": {},
   "outputs": [
    {
     "data": {
      "text/plain": [
       "False"
      ]
     },
     "execution_count": 107,
     "metadata": {},
     "output_type": "execute_result"
    }
   ],
   "source": [
    "5 > 10"
   ]
  },
  {
   "cell_type": "code",
   "execution_count": 108,
   "id": "4ced6e40",
   "metadata": {},
   "outputs": [
    {
     "data": {
      "text/plain": [
       "True"
      ]
     },
     "execution_count": 108,
     "metadata": {},
     "output_type": "execute_result"
    }
   ],
   "source": [
    "5 <= 5"
   ]
  },
  {
   "cell_type": "code",
   "execution_count": 109,
   "id": "d072b20a",
   "metadata": {},
   "outputs": [
    {
     "data": {
      "text/plain": [
       "False"
      ]
     },
     "execution_count": 109,
     "metadata": {},
     "output_type": "execute_result"
    }
   ],
   "source": [
    "4 >= 5"
   ]
  },
  {
   "cell_type": "code",
   "execution_count": 110,
   "id": "b5ed4851",
   "metadata": {},
   "outputs": [
    {
     "data": {
      "text/plain": [
       "True"
      ]
     },
     "execution_count": 110,
     "metadata": {},
     "output_type": "execute_result"
    }
   ],
   "source": [
    "5 == 5"
   ]
  },
  {
   "cell_type": "code",
   "execution_count": 111,
   "id": "bb558ec1",
   "metadata": {},
   "outputs": [
    {
     "data": {
      "text/plain": [
       "True"
      ]
     },
     "execution_count": 111,
     "metadata": {},
     "output_type": "execute_result"
    }
   ],
   "source": [
    "3 != 4"
   ]
  },
  {
   "cell_type": "code",
   "execution_count": null,
   "id": "3cd897b1",
   "metadata": {},
   "outputs": [],
   "source": []
  },
  {
   "cell_type": "markdown",
   "id": "fd0f565f",
   "metadata": {},
   "source": [
    "# Logične operacije"
   ]
  },
  {
   "cell_type": "code",
   "execution_count": 113,
   "id": "5a3957e4",
   "metadata": {},
   "outputs": [
    {
     "data": {
      "text/plain": [
       "False"
      ]
     },
     "execution_count": 113,
     "metadata": {},
     "output_type": "execute_result"
    }
   ],
   "source": [
    "x = True\n",
    "not x"
   ]
  },
  {
   "cell_type": "code",
   "execution_count": 114,
   "id": "48b9d9ce",
   "metadata": {},
   "outputs": [
    {
     "data": {
      "text/plain": [
       "True"
      ]
     },
     "execution_count": 114,
     "metadata": {},
     "output_type": "execute_result"
    }
   ],
   "source": [
    "x = True\n",
    "y = False\n",
    "x or y"
   ]
  },
  {
   "cell_type": "code",
   "execution_count": 116,
   "id": "de6358dc",
   "metadata": {},
   "outputs": [
    {
     "data": {
      "text/plain": [
       "True"
      ]
     },
     "execution_count": 116,
     "metadata": {},
     "output_type": "execute_result"
    }
   ],
   "source": [
    "x = True\n",
    "y = True\n",
    "x and y"
   ]
  },
  {
   "cell_type": "code",
   "execution_count": 118,
   "id": "a00f124c",
   "metadata": {},
   "outputs": [
    {
     "data": {
      "text/plain": [
       "True"
      ]
     },
     "execution_count": 118,
     "metadata": {},
     "output_type": "execute_result"
    }
   ],
   "source": [
    "\"a\" in \"abeceda\""
   ]
  },
  {
   "cell_type": "code",
   "execution_count": 120,
   "id": "6c6ffc1e",
   "metadata": {},
   "outputs": [
    {
     "data": {
      "text/plain": [
       "False"
      ]
     },
     "execution_count": 120,
     "metadata": {},
     "output_type": "execute_result"
    }
   ],
   "source": [
    "4 in [1,2,3,5,7,11,13]"
   ]
  },
  {
   "cell_type": "code",
   "execution_count": 121,
   "id": "4644abba",
   "metadata": {},
   "outputs": [
    {
     "data": {
      "text/plain": [
       "True"
      ]
     },
     "execution_count": 121,
     "metadata": {},
     "output_type": "execute_result"
    }
   ],
   "source": [
    "5 == 5"
   ]
  },
  {
   "cell_type": "code",
   "execution_count": 126,
   "id": "5ba840f4",
   "metadata": {},
   "outputs": [
    {
     "name": "stdout",
     "output_type": "stream",
     "text": [
      "[100, 2, 3]\n",
      "[100, 2, 3]\n",
      "140102302353728\n",
      "140102302323200\n",
      "140102302353728\n"
     ]
    }
   ],
   "source": [
    "a = [1,2,3]\n",
    "b = [1,2,3]\n",
    "c = a\n",
    "\n",
    "a[0] = 100\n",
    "print(a)\n",
    "print(c)\n",
    "\n",
    "print(id(a))\n",
    "print(id(b))\n",
    "print(id(c))"
   ]
  },
  {
   "cell_type": "code",
   "execution_count": null,
   "id": "7713b8ad",
   "metadata": {},
   "outputs": [],
   "source": []
  },
  {
   "cell_type": "markdown",
   "id": "56815a05",
   "metadata": {},
   "source": [
    "# List"
   ]
  },
  {
   "cell_type": "code",
   "execution_count": 130,
   "id": "feef66c4",
   "metadata": {},
   "outputs": [
    {
     "name": "stdout",
     "output_type": "stream",
     "text": [
      "<class 'list'>\n",
      "['pingvin', 'medved', 'volk', 'los']\n"
     ]
    }
   ],
   "source": [
    "živali = [\"pingvin\", \"medved\", \"volk\", \"los\"]\n",
    "print(type(živali))\n",
    "print(živali)\n"
   ]
  },
  {
   "cell_type": "code",
   "execution_count": 131,
   "id": "f3141299",
   "metadata": {},
   "outputs": [
    {
     "name": "stdout",
     "output_type": "stream",
     "text": [
      "False\n"
     ]
    }
   ],
   "source": [
    "a = [\"pingvin\", \"medved\", \"volk\", \"los\"]\n",
    "b = [\"medved\", \"pingvin\", \"volk\", \"los\"]\n",
    "\n",
    "print(a == b)"
   ]
  },
  {
   "cell_type": "code",
   "execution_count": null,
   "id": "3cec5b5d",
   "metadata": {},
   "outputs": [],
   "source": []
  },
  {
   "cell_type": "code",
   "execution_count": 132,
   "id": "888d96aa",
   "metadata": {},
   "outputs": [
    {
     "name": "stdout",
     "output_type": "stream",
     "text": [
      "<class 'list'>\n",
      "[12, 12.3, (1+2j), 'string', False]\n"
     ]
    }
   ],
   "source": [
    "a = [12, 12.3, 1+2j, \"string\", False]\n",
    "print(type(a))\n",
    "print(a)"
   ]
  },
  {
   "cell_type": "code",
   "execution_count": null,
   "id": "4fb91698",
   "metadata": {},
   "outputs": [],
   "source": []
  },
  {
   "cell_type": "code",
   "execution_count": 140,
   "id": "3148f679",
   "metadata": {},
   "outputs": [
    {
     "name": "stdout",
     "output_type": "stream",
     "text": [
      "foo\n",
      "corge\n",
      "corge\n",
      "quux\n"
     ]
    }
   ],
   "source": [
    "a = [\"foo\", \"bar\", \"baz\", \"qux\", \"quux\", \"corge\"]\n",
    "print(a[0])\n",
    "print(a[5])\n",
    "print(a[-1])\n",
    "print(a[-2])"
   ]
  },
  {
   "cell_type": "code",
   "execution_count": 143,
   "id": "2c316755",
   "metadata": {},
   "outputs": [
    {
     "name": "stdout",
     "output_type": "stream",
     "text": [
      "['baz', 'qux', 'quux']\n",
      "['bar', 'baz', 'qux']\n"
     ]
    }
   ],
   "source": [
    "print(a[2:5])\n",
    "print(a[-5:-2])"
   ]
  },
  {
   "cell_type": "code",
   "execution_count": 144,
   "id": "a115aaae",
   "metadata": {},
   "outputs": [
    {
     "data": {
      "text/plain": [
       "['foo', 'bar', 'baz', 'qux']"
      ]
     },
     "execution_count": 144,
     "metadata": {},
     "output_type": "execute_result"
    }
   ],
   "source": [
    "a[:-2]"
   ]
  },
  {
   "cell_type": "code",
   "execution_count": 145,
   "id": "73b51891",
   "metadata": {},
   "outputs": [
    {
     "data": {
      "text/plain": [
       "['baz', 'qux', 'quux', 'corge']"
      ]
     },
     "execution_count": 145,
     "metadata": {},
     "output_type": "execute_result"
    }
   ],
   "source": [
    "a[2:]"
   ]
  },
  {
   "cell_type": "code",
   "execution_count": 146,
   "id": "608725e4",
   "metadata": {},
   "outputs": [
    {
     "data": {
      "text/plain": [
       "['foo', 'bar', 'baz', 'qux', 'quux', 'corge']"
      ]
     },
     "execution_count": 146,
     "metadata": {},
     "output_type": "execute_result"
    }
   ],
   "source": [
    "a[:]"
   ]
  },
  {
   "cell_type": "code",
   "execution_count": 147,
   "id": "a5ee4837",
   "metadata": {},
   "outputs": [
    {
     "data": {
      "text/plain": [
       "[2, 4, 6]"
      ]
     },
     "execution_count": 147,
     "metadata": {},
     "output_type": "execute_result"
    }
   ],
   "source": [
    "a = [1,2,3,4,5,6,7,8,9]\n",
    "a[1:-2:2]"
   ]
  },
  {
   "cell_type": "code",
   "execution_count": 148,
   "id": "980fbba2",
   "metadata": {},
   "outputs": [
    {
     "data": {
      "text/plain": [
       "[9, 8, 7, 6, 5, 4, 3, 2, 1]"
      ]
     },
     "execution_count": 148,
     "metadata": {},
     "output_type": "execute_result"
    }
   ],
   "source": [
    "a[::-1]"
   ]
  },
  {
   "cell_type": "code",
   "execution_count": null,
   "id": "76d9b195",
   "metadata": {},
   "outputs": [],
   "source": []
  },
  {
   "cell_type": "code",
   "execution_count": 149,
   "id": "6b765b0e",
   "metadata": {},
   "outputs": [
    {
     "name": "stdout",
     "output_type": "stream",
     "text": [
      "[[1, 2, 3], [4, 5, 6], [7, 8, 9]]\n"
     ]
    }
   ],
   "source": [
    "l = [[1,2,3],\n",
    "     [4,5,6],\n",
    "     [7,8,9]]\n",
    "\n",
    "print(l)"
   ]
  },
  {
   "cell_type": "code",
   "execution_count": 151,
   "id": "674170fb",
   "metadata": {},
   "outputs": [
    {
     "name": "stdout",
     "output_type": "stream",
     "text": [
      "3\n"
     ]
    }
   ],
   "source": [
    "print(l[0][-1])"
   ]
  },
  {
   "cell_type": "code",
   "execution_count": 155,
   "id": "01c97298",
   "metadata": {},
   "outputs": [
    {
     "name": "stdout",
     "output_type": "stream",
     "text": [
      "ccc\n"
     ]
    }
   ],
   "source": [
    "x = [\"a\", [\"bb\", [\"ccc\", \"ddd\"], \"ee\", \"ff\", ], \"g\"]\n",
    "print(x[1][1][0])"
   ]
  },
  {
   "cell_type": "code",
   "execution_count": null,
   "id": "2cab4305",
   "metadata": {},
   "outputs": [],
   "source": []
  },
  {
   "cell_type": "code",
   "execution_count": 172,
   "id": "96ad0aa6",
   "metadata": {},
   "outputs": [
    {
     "name": "stdout",
     "output_type": "stream",
     "text": [
      "['pingvin', 'medved', 'koza', 'volk']\n",
      "['pingvin', 'medved', 'koza']\n",
      "['pingvin', 'medved', 'koza', 'macka']\n",
      "['pingvin', 'medved', 'koza', 'macka', 1, 2, 3]\n",
      "['pingvin', 'riba', 'medved', 'koza', 'macka', 1, 2, 3]\n",
      "['pingvin', 'medved', 'koza', 'macka', 1, 2, 3]\n",
      "koza\n",
      "['pingvin', 'medved', 'macka', 1, 2, 3]\n",
      "['pingvin', 'macka', 'medved', 1, 2, 3]\n"
     ]
    },
    {
     "data": {
      "text/plain": [
       "['los', 'volk', 'pingvin', 'medved']"
      ]
     },
     "execution_count": 172,
     "metadata": {},
     "output_type": "execute_result"
    }
   ],
   "source": [
    "a = [\"pingvin\", \"medved\", \"los\", \"volk\"]\n",
    "\n",
    "a[2] = \"koza\"\n",
    "print(a)\n",
    "\n",
    "del a[-1]\n",
    "print(a)\n",
    "\n",
    "a.append(\"macka\")\n",
    "print(a)\n",
    "\n",
    "a.extend([1,2,3])\n",
    "print(a)\n",
    "\n",
    "a.insert(1, \"riba\")\n",
    "print(a)\n",
    "\n",
    "a.remove(\"riba\")\n",
    "print(a)\n",
    "\n",
    "x = a.pop(2)\n",
    "print(x)\n",
    "print(a)\n",
    "\n",
    "a[1], a[2] = a[2], a[1]\n",
    "print(a)\n",
    "\n",
    "\n",
    "a = [\"pingvin\", \"medved\", \"los\", \"volk\"]\n",
    "sorted(a, reverse=True, key=lambda x: x[1])"
   ]
  },
  {
   "cell_type": "code",
   "execution_count": null,
   "id": "b409bbd4",
   "metadata": {},
   "outputs": [],
   "source": []
  },
  {
   "cell_type": "markdown",
   "id": "496dfccd",
   "metadata": {},
   "source": [
    "## Tupels"
   ]
  },
  {
   "cell_type": "code",
   "execution_count": 173,
   "id": "4ebde45d",
   "metadata": {},
   "outputs": [
    {
     "name": "stdout",
     "output_type": "stream",
     "text": [
      "<class 'tuple'>\n",
      "('pingvin', 'medved', 'los', 'volk')\n"
     ]
    }
   ],
   "source": [
    "t = (\"pingvin\", \"medved\", \"los\", \"volk\")\n",
    "print(type(t))\n",
    "print(t)"
   ]
  },
  {
   "cell_type": "code",
   "execution_count": 174,
   "id": "572fa19d",
   "metadata": {},
   "outputs": [
    {
     "data": {
      "text/plain": [
       "False"
      ]
     },
     "execution_count": 174,
     "metadata": {},
     "output_type": "execute_result"
    }
   ],
   "source": [
    "t = (\"pingvin\", \"medved\", \"los\", \"volk\")\n",
    "t2 = (\"pingvin\", \"medved\", \"volk\", \"los\")\n",
    "\n",
    "t == t2"
   ]
  },
  {
   "cell_type": "code",
   "execution_count": 175,
   "id": "41cfa6f0",
   "metadata": {},
   "outputs": [
    {
     "name": "stdout",
     "output_type": "stream",
     "text": [
      "<class 'tuple'>\n",
      "(12, 12.3, True, 'string')\n"
     ]
    }
   ],
   "source": [
    "t = (12, 12.3, True, \"string\")\n",
    "print(type(t))\n",
    "print(t)"
   ]
  },
  {
   "cell_type": "code",
   "execution_count": 178,
   "id": "e02f1946",
   "metadata": {},
   "outputs": [
    {
     "name": "stdout",
     "output_type": "stream",
     "text": [
      "los\n",
      "pingvin\n",
      "('medved', 'volk')\n"
     ]
    }
   ],
   "source": [
    "t = (\"pingvin\", \"medved\", \"volk\", \"los\")\n",
    "print(t[-1])\n",
    "print(t[0])\n",
    "print(t[1:-1])"
   ]
  },
  {
   "cell_type": "code",
   "execution_count": 180,
   "id": "feb41ec3",
   "metadata": {},
   "outputs": [
    {
     "name": "stdout",
     "output_type": "stream",
     "text": [
      "bb\n"
     ]
    }
   ],
   "source": [
    "t = ((\"aa\", \"bb\"), \"c\", \"d\")\n",
    "print(t[0][-1])"
   ]
  },
  {
   "cell_type": "code",
   "execution_count": 183,
   "id": "3db37b9d",
   "metadata": {},
   "outputs": [
    {
     "ename": "TypeError",
     "evalue": "'tuple' object doesn't support item deletion",
     "output_type": "error",
     "traceback": [
      "\u001b[0;31m---------------------------------------------------------------------------\u001b[0m",
      "\u001b[0;31mTypeError\u001b[0m                                 Traceback (most recent call last)",
      "Input \u001b[0;32mIn [183]\u001b[0m, in \u001b[0;36m<cell line: 3>\u001b[0;34m()\u001b[0m\n\u001b[1;32m      1\u001b[0m t \u001b[38;5;241m=\u001b[39m (\u001b[38;5;241m1\u001b[39m,\u001b[38;5;241m2\u001b[39m,\u001b[38;5;241m3\u001b[39m,\u001b[38;5;241m4\u001b[39m,\u001b[38;5;241m5\u001b[39m,\u001b[38;5;241m6\u001b[39m)\n\u001b[1;32m      2\u001b[0m \u001b[38;5;66;03m#t[-1] = 100\u001b[39;00m\n\u001b[0;32m----> 3\u001b[0m \u001b[38;5;28;01mdel\u001b[39;00m t[\u001b[38;5;241m0\u001b[39m]\n",
      "\u001b[0;31mTypeError\u001b[0m: 'tuple' object doesn't support item deletion"
     ]
    }
   ],
   "source": [
    "t = (1,2,3,4,5,6)\n",
    "#t[-1] = 100\n",
    "del t[0]"
   ]
  },
  {
   "cell_type": "code",
   "execution_count": 184,
   "id": "a47ed31f",
   "metadata": {},
   "outputs": [
    {
     "name": "stdout",
     "output_type": "stream",
     "text": [
      "<class 'list'>\n",
      "[]\n"
     ]
    }
   ],
   "source": [
    "l = []\n",
    "print(type(l))\n",
    "print(l)"
   ]
  },
  {
   "cell_type": "code",
   "execution_count": 185,
   "id": "b34409c8",
   "metadata": {},
   "outputs": [
    {
     "name": "stdout",
     "output_type": "stream",
     "text": [
      "<class 'tuple'>\n",
      "()\n"
     ]
    }
   ],
   "source": [
    "t = ()\n",
    "print(type(t))\n",
    "print(t)"
   ]
  },
  {
   "cell_type": "code",
   "execution_count": 187,
   "id": "cc8c7023",
   "metadata": {},
   "outputs": [
    {
     "name": "stdout",
     "output_type": "stream",
     "text": [
      "<class 'tuple'>\n",
      "(12,)\n"
     ]
    }
   ],
   "source": [
    "#t = (12)\n",
    "t = (12,)\n",
    "print(type(t))\n",
    "print(t)"
   ]
  },
  {
   "cell_type": "code",
   "execution_count": null,
   "id": "5d94cf7d",
   "metadata": {},
   "outputs": [],
   "source": []
  },
  {
   "cell_type": "markdown",
   "id": "f0b81f7e",
   "metadata": {},
   "source": [
    "# Dictionaries"
   ]
  },
  {
   "cell_type": "code",
   "execution_count": 188,
   "id": "fc6d051f",
   "metadata": {},
   "outputs": [
    {
     "name": "stdout",
     "output_type": "stream",
     "text": [
      "<class 'dict'>\n",
      "{'macek': 'Silvester', 'pes': 'Fido', 'papagaj': 'Kakadu'}\n"
     ]
    }
   ],
   "source": [
    "d = {\"macek\": \"Silvester\",\n",
    "    \"pes\": \"Fido\",\n",
    "    \"papagaj\": \"Kakadu\"}\n",
    "print(type(d))\n",
    "print(d)"
   ]
  },
  {
   "cell_type": "code",
   "execution_count": 190,
   "id": "98ab2892",
   "metadata": {},
   "outputs": [
    {
     "name": "stdout",
     "output_type": "stream",
     "text": [
      "<class 'dict'>\n",
      "{'macek': 1, 'pes': 'Fido', 'papagaj': {1: 100, 2: 200, 3: 300}}\n"
     ]
    }
   ],
   "source": [
    "d = {\"macek\": 1,\n",
    "    \"pes\": \"Fido\",\n",
    "    \"papagaj\": {\n",
    "        1: 100,\n",
    "        2: 200,\n",
    "        3: 300}\n",
    "    }\n",
    "print(type(d))\n",
    "print(d)"
   ]
  },
  {
   "cell_type": "code",
   "execution_count": 195,
   "id": "30797a10",
   "metadata": {},
   "outputs": [
    {
     "name": "stdout",
     "output_type": "stream",
     "text": [
      "{'macek': 'Silvester', 'pes': 'Fido', 'papagaj': 'Kakadu', 'koza': 'Micka'}\n",
      "{'macek': 'Silvester', 'pes': 'Rex', 'papagaj': 'Kakadu', 'koza': 'Micka'}\n",
      "{'macek': 'Silvester', 'papagaj': 'Kakadu', 'koza': 'Micka'}\n"
     ]
    }
   ],
   "source": [
    "d = {\"macek\": \"Silvester\",\n",
    "    \"pes\": \"Fido\",\n",
    "    \"papagaj\": \"Kakadu\"}\n",
    "\n",
    "d[\"koza\"] = \"Micka\"\n",
    "print(d)\n",
    "\n",
    "d[\"pes\"] = \"Rex\"\n",
    "print(d)\n",
    "\n",
    "del d[\"pes\"]\n",
    "print(d)"
   ]
  },
  {
   "cell_type": "code",
   "execution_count": 203,
   "id": "2227e879",
   "metadata": {},
   "outputs": [
    {
     "ename": "TypeError",
     "evalue": "unhashable type: 'list'",
     "output_type": "error",
     "traceback": [
      "\u001b[0;31m---------------------------------------------------------------------------\u001b[0m",
      "\u001b[0;31mTypeError\u001b[0m                                 Traceback (most recent call last)",
      "Input \u001b[0;32mIn [203]\u001b[0m, in \u001b[0;36m<cell line: 1>\u001b[0;34m()\u001b[0m\n\u001b[0;32m----> 1\u001b[0m d \u001b[38;5;241m=\u001b[39m {\u001b[38;5;241m1\u001b[39m: \u001b[38;5;124m\"\u001b[39m\u001b[38;5;124mSilvester\u001b[39m\u001b[38;5;124m\"\u001b[39m,\n\u001b[1;32m      2\u001b[0m     \u001b[38;5;241m2.3\u001b[39m: \u001b[38;5;124m\"\u001b[39m\u001b[38;5;124mFido\u001b[39m\u001b[38;5;124m\"\u001b[39m,\n\u001b[1;32m      3\u001b[0m     (\u001b[38;5;124m\"\u001b[39m\u001b[38;5;124ma\u001b[39m\u001b[38;5;124m\"\u001b[39m, \u001b[38;5;124m\"\u001b[39m\u001b[38;5;124mb\u001b[39m\u001b[38;5;124m\"\u001b[39m): \u001b[38;5;124m\"\u001b[39m\u001b[38;5;124mKakadu\u001b[39m\u001b[38;5;124m\"\u001b[39m,\n\u001b[1;32m      4\u001b[0m     \u001b[38;5;28;01mTrue\u001b[39;00m: \u001b[38;5;124m\"\u001b[39m\u001b[38;5;124mmoj string\u001b[39m\u001b[38;5;124m\"\u001b[39m,\n\u001b[1;32m      5\u001b[0m     \u001b[38;5;124m\"\u001b[39m\u001b[38;5;124mstring\u001b[39m\u001b[38;5;124m\"\u001b[39m: \u001b[38;5;124m\"\u001b[39m\u001b[38;5;124mše en string\u001b[39m\u001b[38;5;124m\"\u001b[39m,\n\u001b[1;32m      6\u001b[0m     \u001b[38;5;28;01mNone\u001b[39;00m: \u001b[38;5;124m\"\u001b[39m\u001b[38;5;124mnone\u001b[39m\u001b[38;5;124m\"\u001b[39m,\n\u001b[1;32m      7\u001b[0m     [\u001b[38;5;241m1\u001b[39m,\u001b[38;5;241m2\u001b[39m,\u001b[38;5;241m3\u001b[39m]: \u001b[38;5;124m\"\u001b[39m\u001b[38;5;124m123\u001b[39m\u001b[38;5;124m\"\u001b[39m}\n\u001b[1;32m      9\u001b[0m d[(\u001b[38;5;124m\"\u001b[39m\u001b[38;5;124ma\u001b[39m\u001b[38;5;124m\"\u001b[39m, \u001b[38;5;124m\"\u001b[39m\u001b[38;5;124mb\u001b[39m\u001b[38;5;124m\"\u001b[39m)]\n\u001b[1;32m     10\u001b[0m d[\u001b[38;5;124m\"\u001b[39m\u001b[38;5;124mstring\u001b[39m\u001b[38;5;124m\"\u001b[39m]\n",
      "\u001b[0;31mTypeError\u001b[0m: unhashable type: 'list'"
     ]
    }
   ],
   "source": [
    "d = {1: \"Silvester\",\n",
    "    2.3: \"Fido\",\n",
    "    (\"a\", \"b\"): \"Kakadu\",\n",
    "    True: \"moj string\",\n",
    "    \"string\": \"še en string\",\n",
    "    None: \"none\",\n",
    "#[1,2,3]: \"123\"\n",
    "    }\n",
    "\n",
    "d[(\"a\", \"b\")]\n",
    "d[\"string\"]\n",
    "d[None]\n",
    "\n",
    "d[True]"
   ]
  },
  {
   "cell_type": "code",
   "execution_count": 204,
   "id": "a9d1cd68",
   "metadata": {},
   "outputs": [
    {
     "name": "stdout",
     "output_type": "stream",
     "text": [
      "{'macek': 'Amadeus', 'pes': 'Fido', 'papagaj': 'Kakadu'}\n"
     ]
    }
   ],
   "source": [
    "d = {\"macek\": \"Silvester\",\n",
    "    \"pes\": \"Fido\",\n",
    "    \"papagaj\": \"Kakadu\",\n",
    "    \"macek\": \"Amadeus\"}\n",
    "\n",
    "print(d)"
   ]
  },
  {
   "cell_type": "code",
   "execution_count": 206,
   "id": "14beae7c",
   "metadata": {},
   "outputs": [
    {
     "name": "stdout",
     "output_type": "stream",
     "text": [
      "<class 'dict'>\n",
      "{}\n"
     ]
    }
   ],
   "source": [
    "d = {}\n",
    "print(type(d))\n",
    "print(d)"
   ]
  },
  {
   "cell_type": "code",
   "execution_count": 205,
   "id": "5c28daf6",
   "metadata": {},
   "outputs": [
    {
     "name": "stdout",
     "output_type": "stream",
     "text": [
      "{}\n"
     ]
    }
   ],
   "source": [
    "d.clear()\n",
    "print(d)"
   ]
  },
  {
   "cell_type": "code",
   "execution_count": 209,
   "id": "dd9cf5b8",
   "metadata": {},
   "outputs": [
    {
     "name": "stdout",
     "output_type": "stream",
     "text": [
      "False\n"
     ]
    }
   ],
   "source": [
    "d = {\"macek\": \"Silvester\",\n",
    "    \"pes\": \"Fido\",\n",
    "    \"papagaj\": \"Kakadu\"}\n",
    "\n",
    "x = d.get(\"koza\", False)\n",
    "print(x)"
   ]
  },
  {
   "cell_type": "code",
   "execution_count": 210,
   "id": "74d8296c",
   "metadata": {},
   "outputs": [
    {
     "data": {
      "text/plain": [
       "dict_items([('macek', 'Silvester'), ('pes', 'Fido'), ('papagaj', 'Kakadu')])"
      ]
     },
     "execution_count": 210,
     "metadata": {},
     "output_type": "execute_result"
    }
   ],
   "source": [
    "d = {\"macek\": \"Silvester\",\n",
    "    \"pes\": \"Fido\",\n",
    "    \"papagaj\": \"Kakadu\"}\n",
    "\n",
    "d.items()"
   ]
  },
  {
   "cell_type": "code",
   "execution_count": 211,
   "id": "dcf61bab",
   "metadata": {},
   "outputs": [
    {
     "data": {
      "text/plain": [
       "dict_keys(['macek', 'pes', 'papagaj'])"
      ]
     },
     "execution_count": 211,
     "metadata": {},
     "output_type": "execute_result"
    }
   ],
   "source": [
    "d = {\"macek\": \"Silvester\",\n",
    "    \"pes\": \"Fido\",\n",
    "    \"papagaj\": \"Kakadu\"}\n",
    "\n",
    "d.keys()"
   ]
  },
  {
   "cell_type": "code",
   "execution_count": 212,
   "id": "631accf3",
   "metadata": {},
   "outputs": [
    {
     "data": {
      "text/plain": [
       "dict_values(['Silvester', 'Fido', 'Kakadu'])"
      ]
     },
     "execution_count": 212,
     "metadata": {},
     "output_type": "execute_result"
    }
   ],
   "source": [
    "d = {\"macek\": \"Silvester\",\n",
    "    \"pes\": \"Fido\",\n",
    "    \"papagaj\": \"Kakadu\"}\n",
    "\n",
    "d.values()"
   ]
  },
  {
   "cell_type": "code",
   "execution_count": 213,
   "id": "4088acd9",
   "metadata": {},
   "outputs": [
    {
     "name": "stdout",
     "output_type": "stream",
     "text": [
      "Fido\n",
      "{'macek': 'Silvester', 'papagaj': 'Kakadu'}\n"
     ]
    }
   ],
   "source": [
    "d = {\"macek\": \"Silvester\",\n",
    "    \"pes\": \"Fido\",\n",
    "    \"papagaj\": \"Kakadu\"}\n",
    "\n",
    "x = d.pop(\"pes\")\n",
    "print(x)\n",
    "print(d)"
   ]
  },
  {
   "cell_type": "code",
   "execution_count": null,
   "id": "2cc39480",
   "metadata": {},
   "outputs": [],
   "source": []
  },
  {
   "cell_type": "markdown",
   "id": "b0bf819d",
   "metadata": {},
   "source": [
    "# Sets"
   ]
  },
  {
   "cell_type": "code",
   "execution_count": 215,
   "id": "bb6b1b41",
   "metadata": {},
   "outputs": [
    {
     "name": "stdout",
     "output_type": "stream",
     "text": [
      "<class 'set'>\n",
      "{1, 2, 3, 4, 5, 6}\n"
     ]
    }
   ],
   "source": [
    "x = {1, 2, 3, 4, 5, 6, 1, 2, 1, 2}\n",
    "\n",
    "print(type(x))\n",
    "print(x)"
   ]
  },
  {
   "cell_type": "code",
   "execution_count": 216,
   "id": "7dd7c010",
   "metadata": {},
   "outputs": [
    {
     "name": "stdout",
     "output_type": "stream",
     "text": [
      "{1, 2, 3, 4, 5, 6, 7}\n"
     ]
    }
   ],
   "source": [
    "x1 = {1, 2, 3, 4}\n",
    "x2 = {4, 5, 6, 7}\n",
    "\n",
    "print(x1.union(x2))"
   ]
  },
  {
   "cell_type": "code",
   "execution_count": 217,
   "id": "8cbd97c2",
   "metadata": {},
   "outputs": [
    {
     "name": "stdout",
     "output_type": "stream",
     "text": [
      "{4}\n"
     ]
    }
   ],
   "source": [
    "x1 = {1, 2, 3, 4}\n",
    "x2 = {4, 5, 6, 7}\n",
    "\n",
    "print(x1.intersection(x2))"
   ]
  },
  {
   "cell_type": "code",
   "execution_count": 218,
   "id": "e30276f8",
   "metadata": {},
   "outputs": [
    {
     "name": "stdout",
     "output_type": "stream",
     "text": [
      "{1, 2, 3}\n"
     ]
    }
   ],
   "source": [
    "x1 = {1, 2, 3, 4}\n",
    "x2 = {4, 5, 6, 7}\n",
    "\n",
    "print(x1.difference(x2))"
   ]
  },
  {
   "cell_type": "code",
   "execution_count": 220,
   "id": "443d1965",
   "metadata": {},
   "outputs": [
    {
     "name": "stdout",
     "output_type": "stream",
     "text": [
      "{1, 2, 3, 5, 6, 7}\n"
     ]
    }
   ],
   "source": [
    "x1 = {1, 2, 3, 4}\n",
    "x2 = {4, 5, 6, 7}\n",
    "\n",
    "print(x1.symmetric_difference(x2))"
   ]
  },
  {
   "cell_type": "code",
   "execution_count": 223,
   "id": "dc33b623",
   "metadata": {},
   "outputs": [
    {
     "name": "stdout",
     "output_type": "stream",
     "text": [
      "<class 'set'>\n",
      "{1, 12.3, ('a', 'b'), 'string'}\n"
     ]
    }
   ],
   "source": [
    "s = {1, 12.3, \"string\", (\"a\", \"b\")}\n",
    "print(type(s))\n",
    "print(s)"
   ]
  },
  {
   "cell_type": "code",
   "execution_count": 225,
   "id": "76595446",
   "metadata": {},
   "outputs": [
    {
     "name": "stdout",
     "output_type": "stream",
     "text": [
      "<class 'set'>\n",
      "set()\n"
     ]
    }
   ],
   "source": [
    "s = set()\n",
    "print(type(s))\n",
    "print(s)"
   ]
  },
  {
   "cell_type": "code",
   "execution_count": 226,
   "id": "12b0b4eb",
   "metadata": {},
   "outputs": [
    {
     "name": "stdout",
     "output_type": "stream",
     "text": [
      "{1, 2, 3, 4, 5}\n"
     ]
    }
   ],
   "source": [
    "x = {1,2,3,4}\n",
    "x.add(5)\n",
    "print(x)"
   ]
  },
  {
   "cell_type": "code",
   "execution_count": 227,
   "id": "e2350b32",
   "metadata": {},
   "outputs": [
    {
     "name": "stdout",
     "output_type": "stream",
     "text": [
      "{1, 3, 4, 5}\n"
     ]
    }
   ],
   "source": [
    "x.remove(2)\n",
    "print(x)"
   ]
  },
  {
   "cell_type": "code",
   "execution_count": 229,
   "id": "93b55b33",
   "metadata": {},
   "outputs": [
    {
     "name": "stdout",
     "output_type": "stream",
     "text": [
      "set()\n"
     ]
    }
   ],
   "source": [
    "x.clear()\n",
    "print(x)"
   ]
  },
  {
   "cell_type": "markdown",
   "id": "55cfaf4b",
   "metadata": {},
   "source": [
    "## Frozensets"
   ]
  },
  {
   "cell_type": "code",
   "execution_count": 230,
   "id": "e7fcbd20",
   "metadata": {},
   "outputs": [
    {
     "name": "stdout",
     "output_type": "stream",
     "text": [
      "<class 'frozenset'>\n",
      "frozenset({1, 2, 3, 4, 5})\n"
     ]
    }
   ],
   "source": [
    "x = frozenset([1, 2, 3, 4, 5])\n",
    "print(type(x))\n",
    "print(x)"
   ]
  },
  {
   "cell_type": "code",
   "execution_count": 231,
   "id": "3672cb0a",
   "metadata": {},
   "outputs": [
    {
     "ename": "AttributeError",
     "evalue": "'frozenset' object has no attribute 'add'",
     "output_type": "error",
     "traceback": [
      "\u001b[0;31m---------------------------------------------------------------------------\u001b[0m",
      "\u001b[0;31mAttributeError\u001b[0m                            Traceback (most recent call last)",
      "Input \u001b[0;32mIn [231]\u001b[0m, in \u001b[0;36m<cell line: 1>\u001b[0;34m()\u001b[0m\n\u001b[0;32m----> 1\u001b[0m \u001b[43mx\u001b[49m\u001b[38;5;241;43m.\u001b[39;49m\u001b[43madd\u001b[49m(\u001b[38;5;241m5\u001b[39m)\n",
      "\u001b[0;31mAttributeError\u001b[0m: 'frozenset' object has no attribute 'add'"
     ]
    }
   ],
   "source": [
    "x.add(5)"
   ]
  },
  {
   "cell_type": "code",
   "execution_count": null,
   "id": "29216af3",
   "metadata": {},
   "outputs": [],
   "source": []
  },
  {
   "cell_type": "markdown",
   "id": "279929b3",
   "metadata": {},
   "source": [
    "# Flow control statements"
   ]
  },
  {
   "cell_type": "markdown",
   "id": "ac188032",
   "metadata": {},
   "source": [
    "## IF\n",
    "\n",
    "```python\n",
    "if <expr>:\n",
    "    <statement>\n",
    "    \n",
    "<next statement>\n",
    "```"
   ]
  },
  {
   "cell_type": "code",
   "execution_count": 239,
   "id": "85b536d0",
   "metadata": {},
   "outputs": [
    {
     "name": "stdout",
     "output_type": "stream",
     "text": [
      "Smo znotraj if\n",
      "Nadaljevanje\n",
      "Nadaljevanje programa\n"
     ]
    }
   ],
   "source": [
    "x = 0\n",
    "y = 5\n",
    "\n",
    "if x < y:\n",
    "    print(\"Smo znotraj if\")\n",
    "    print(\"Nadaljevanje\")\n",
    "    \n",
    "print(\"Nadaljevanje programa\")"
   ]
  },
  {
   "cell_type": "markdown",
   "id": "dc032179",
   "metadata": {},
   "source": [
    "## ELSE"
   ]
  },
  {
   "cell_type": "code",
   "execution_count": 241,
   "id": "3f6a88c5",
   "metadata": {},
   "outputs": [
    {
     "name": "stdout",
     "output_type": "stream",
     "text": [
      "else del kode\n",
      "Nadaljevanje programa\n"
     ]
    }
   ],
   "source": [
    "x = 100\n",
    "\n",
    "if x > 1000:\n",
    "    print(\"IF block kode\")\n",
    "else:\n",
    "    print(\"else del kode\")\n",
    "    \n",
    "print(\"Nadaljevanje programa\")"
   ]
  },
  {
   "cell_type": "markdown",
   "id": "54ff6d69",
   "metadata": {},
   "source": [
    "## ELIF"
   ]
  },
  {
   "cell_type": "code",
   "execution_count": 242,
   "id": "df204a49",
   "metadata": {},
   "outputs": [
    {
     "name": "stdout",
     "output_type": "stream",
     "text": [
      "else\n",
      "nadaljevanje programa\n"
     ]
    }
   ],
   "source": [
    "x = 20\n",
    "\n",
    "if x > 100:\n",
    "    print(\"x večji od 100\")\n",
    "elif x > 50:\n",
    "    print(\"x večji od 50\")\n",
    "elif x >20:\n",
    "    print(\"x večji od 20\")\n",
    "else:\n",
    "    print(\"else\")\n",
    "    \n",
    "print(\"nadaljevanje programa\")"
   ]
  },
  {
   "cell_type": "code",
   "execution_count": 246,
   "id": "91ec0d44",
   "metadata": {},
   "outputs": [],
   "source": [
    "if x < 0 and x > 100:\n",
    "    print(\"znotraj if\")"
   ]
  },
  {
   "cell_type": "code",
   "execution_count": null,
   "id": "5c0b8159",
   "metadata": {},
   "outputs": [],
   "source": []
  },
  {
   "cell_type": "markdown",
   "id": "41850799",
   "metadata": {},
   "source": [
    "```python\n",
    "z = "
   ]
  },
  {
   "cell_type": "code",
   "execution_count": 248,
   "id": "edf6c499",
   "metadata": {},
   "outputs": [
    {
     "name": "stdout",
     "output_type": "stream",
     "text": [
      "801\n"
     ]
    }
   ],
   "source": [
    "x = 800\n",
    "z = 1+x if x > 50 else x**2\n",
    "print(z)"
   ]
  },
  {
   "cell_type": "code",
   "execution_count": null,
   "id": "746175b5",
   "metadata": {},
   "outputs": [],
   "source": []
  },
  {
   "cell_type": "code",
   "execution_count": 251,
   "id": "3dcc4826",
   "metadata": {},
   "outputs": [
    {
     "name": "stdout",
     "output_type": "stream",
     "text": [
      "\n"
     ]
    }
   ],
   "source": [
    "# nek komentar\n",
    "\n",
    "'''\n",
    "še en komentar\n",
    "'''\n",
    "\n",
    "\n",
    "print()"
   ]
  },
  {
   "cell_type": "markdown",
   "id": "53c67940",
   "metadata": {},
   "source": [
    "## Pass"
   ]
  },
  {
   "cell_type": "code",
   "execution_count": 252,
   "id": "d6c00e48",
   "metadata": {},
   "outputs": [],
   "source": [
    "if True:\n",
    "    # dodaj zadevo\n",
    "    pass\n",
    "\n",
    "\n",
    "if False:\n",
    "    print(\"neki druzga\")"
   ]
  },
  {
   "cell_type": "code",
   "execution_count": null,
   "id": "5e9c244a",
   "metadata": {},
   "outputs": [],
   "source": []
  },
  {
   "cell_type": "markdown",
   "id": "910be6ca",
   "metadata": {},
   "source": [
    "# While"
   ]
  },
  {
   "cell_type": "code",
   "execution_count": 255,
   "id": "4733ed6f",
   "metadata": {},
   "outputs": [
    {
     "name": "stdout",
     "output_type": "stream",
     "text": [
      "Vreme je lepo\n",
      "Nadaljevanje programa\n"
     ]
    }
   ],
   "source": [
    "lepo_vreme = True\n",
    "\n",
    "while lepo_vreme:\n",
    "    print(\"Vreme je lepo\")\n",
    "    lepo_vreme = False\n",
    "    \n",
    "print(\"Nadaljevanje programa\")"
   ]
  },
  {
   "cell_type": "code",
   "execution_count": 256,
   "id": "d7a96d7f",
   "metadata": {},
   "outputs": [
    {
     "name": "stdout",
     "output_type": "stream",
     "text": [
      "SMo na koraku:  0\n",
      "SMo na koraku:  1\n",
      "SMo na koraku:  2\n",
      "SMo na koraku:  3\n",
      "SMo na koraku:  4\n",
      "SMo na koraku:  5\n",
      "SMo na koraku:  6\n",
      "SMo na koraku:  7\n",
      "SMo na koraku:  8\n",
      "SMo na koraku:  9\n",
      "Nadaljevanje program\n"
     ]
    }
   ],
   "source": [
    "i = 0\n",
    "\n",
    "while i < 10:\n",
    "    print(\"SMo na koraku: \", i)\n",
    "    i += 1\n",
    "    \n",
    "print(\"Nadaljevanje program\")"
   ]
  },
  {
   "cell_type": "code",
   "execution_count": 257,
   "id": "276f66e2",
   "metadata": {},
   "outputs": [
    {
     "name": "stdout",
     "output_type": "stream",
     "text": [
      "Heating..\n",
      "Heating..\n",
      "Heating..\n",
      "Heating..\n",
      "Heating..\n",
      "Heating..\n",
      "Heating..\n",
      "Heating..\n",
      "Heating..\n"
     ]
    }
   ],
   "source": [
    "temperatura = 15\n",
    "\n",
    "while temperatura < 24:\n",
    "    print(\"Heating..\")\n",
    "    temperatura += 1"
   ]
  },
  {
   "cell_type": "code",
   "execution_count": null,
   "id": "92592dbf",
   "metadata": {},
   "outputs": [],
   "source": []
  },
  {
   "cell_type": "markdown",
   "id": "d42f0300",
   "metadata": {},
   "source": [
    "## For loop"
   ]
  },
  {
   "cell_type": "code",
   "execution_count": 258,
   "id": "e0da2877",
   "metadata": {},
   "outputs": [
    {
     "name": "stdout",
     "output_type": "stream",
     "text": [
      "2\n",
      "3\n",
      "5\n",
      "7\n",
      "11\n",
      "13\n",
      "Nadaljevanje programa\n"
     ]
    }
   ],
   "source": [
    "primes = [2, 3, 5, 7, 11, 13]\n",
    "\n",
    "for prime in primes:\n",
    "    print(prime)\n",
    "    \n",
    "print(\"Nadaljevanje programa\")"
   ]
  },
  {
   "cell_type": "code",
   "execution_count": 259,
   "id": "14c26c75",
   "metadata": {},
   "outputs": [
    {
     "name": "stdout",
     "output_type": "stream",
     "text": [
      "[0, 1, 2, 3, 4, 5, 6, 7, 8, 9]\n"
     ]
    }
   ],
   "source": [
    "a = list(range(10))\n",
    "print(a)"
   ]
  },
  {
   "cell_type": "code",
   "execution_count": 262,
   "id": "e265f6b1",
   "metadata": {},
   "outputs": [
    {
     "name": "stdout",
     "output_type": "stream",
     "text": [
      "SMo na koraku:  4\n",
      "SMo na koraku:  7\n",
      "SMo na koraku:  10\n",
      "SMo na koraku:  13\n",
      "SMo na koraku:  16\n",
      "SMo na koraku:  19\n"
     ]
    }
   ],
   "source": [
    "for i in range(4, 20, 3):\n",
    "    print(\"SMo na koraku: \", i)"
   ]
  },
  {
   "cell_type": "code",
   "execution_count": null,
   "id": "5d3c9407",
   "metadata": {},
   "outputs": [],
   "source": []
  },
  {
   "cell_type": "code",
   "execution_count": 274,
   "id": "b2e50128",
   "metadata": {},
   "outputs": [
    {
     "name": "stdout",
     "output_type": "stream",
     "text": [
      "1\n"
     ]
    }
   ],
   "source": [
    "a, b, c = 1, 2, 3\n",
    "print(a)"
   ]
  },
  {
   "cell_type": "code",
   "execution_count": 275,
   "id": "4e660a3f",
   "metadata": {},
   "outputs": [
    {
     "name": "stdout",
     "output_type": "stream",
     "text": [
      "2\n",
      "1\n"
     ]
    }
   ],
   "source": [
    "a = 1\n",
    "b = 2\n",
    "\n",
    "a, b = b, a\n",
    "print(a)\n",
    "print(b)"
   ]
  },
  {
   "cell_type": "code",
   "execution_count": 276,
   "id": "3089cc36",
   "metadata": {},
   "outputs": [
    {
     "name": "stdout",
     "output_type": "stream",
     "text": [
      "1 2\n"
     ]
    }
   ],
   "source": [
    "a, b = (1,2)\n",
    "print(a, b)"
   ]
  },
  {
   "cell_type": "code",
   "execution_count": 273,
   "id": "af5663f7",
   "metadata": {},
   "outputs": [
    {
     "name": "stdout",
     "output_type": "stream",
     "text": [
      "dict_items([('macka', 'Silvester'), ('pes', 'Fido'), ('papagaj', 'Kakadu')])\n",
      "macka Silvester\n",
      "pes Fido\n",
      "papagaj Kakadu\n"
     ]
    }
   ],
   "source": [
    "d = {\n",
    "    \"macka\": \"Silvester\",\n",
    "    \"pes\": \"Fido\",\n",
    "    \"papagaj\": \"Kakadu\"\n",
    "}\n",
    "\n",
    "print(d.items())\n",
    "for key, value in d.items():\n",
    "    print(key, value)"
   ]
  },
  {
   "cell_type": "code",
   "execution_count": 279,
   "id": "70cd2fbc",
   "metadata": {},
   "outputs": [
    {
     "name": "stdout",
     "output_type": "stream",
     "text": [
      "0 a\n",
      "1 b\n",
      "2 c\n",
      "3 d\n",
      "4 e\n"
     ]
    }
   ],
   "source": [
    "l = [\"a\", \"b\", \"c\", \"d\", \"e\"]\n",
    "\n",
    "for index, char in enumerate(l):\n",
    "    print(index, char)"
   ]
  },
  {
   "cell_type": "markdown",
   "id": "5b50e7a6",
   "metadata": {},
   "source": [
    "## Break"
   ]
  },
  {
   "cell_type": "code",
   "execution_count": 283,
   "id": "e0e30137",
   "metadata": {},
   "outputs": [
    {
     "name": "stdout",
     "output_type": "stream",
     "text": [
      "Avto je ok\n",
      "Avto je ok\n",
      "Avto je ok\n",
      "Avto je zanič\n",
      "Nadaljevanje programa\n"
     ]
    }
   ],
   "source": [
    "avti = [\"ok\", \"ok\", \"ok\", \"slab\", \"slab\", \"ok\"]\n",
    "\n",
    "for avto in avti:\n",
    "    if avto == \"slab\":\n",
    "        print(\"Avto je zanič\")\n",
    "        break\n",
    "    else:\n",
    "        print(\"Avto je ok\")\n",
    "        \n",
    "print(\"Nadaljevanje programa\")"
   ]
  },
  {
   "cell_type": "markdown",
   "id": "978d30e3",
   "metadata": {},
   "source": [
    "## Continue"
   ]
  },
  {
   "cell_type": "code",
   "execution_count": 286,
   "id": "3b3a18f8",
   "metadata": {},
   "outputs": [
    {
     "name": "stdout",
     "output_type": "stream",
     "text": [
      "Avto je ok\n",
      "Naslednji krak zanke\n",
      "Avto je zanič\n",
      "Avto je zanič\n",
      "Avto je ok\n",
      "Naslednji krak zanke\n",
      "Avto je ok\n",
      "Naslednji krak zanke\n",
      "Avto je ok\n",
      "Naslednji krak zanke\n",
      "Nadaljevanje programa\n"
     ]
    }
   ],
   "source": [
    "avti = [\"ok\", \"ok\", \"ok\", \"slab\", \"slab\", \"ok\"]\n",
    "\n",
    "for avto in avti[::-1]:\n",
    "    if avto == \"slab\":\n",
    "        print(\"Avto je zanič\")\n",
    "        continue\n",
    "    print(\"Avto je ok\")\n",
    "    print(\"Naslednji krak zanke\")\n",
    "        \n",
    "print(\"Nadaljevanje programa\")"
   ]
  },
  {
   "cell_type": "code",
   "execution_count": null,
   "id": "4d3bb172",
   "metadata": {},
   "outputs": [],
   "source": []
  },
  {
   "cell_type": "markdown",
   "id": "114212b9",
   "metadata": {},
   "source": [
    "## Switch"
   ]
  },
  {
   "cell_type": "code",
   "execution_count": 290,
   "id": "64c3d0e7",
   "metadata": {},
   "outputs": [
    {
     "name": "stdout",
     "output_type": "stream",
     "text": [
      "default\n"
     ]
    }
   ],
   "source": [
    "response_code = 303\n",
    "match response_code:\n",
    "    case 200:\n",
    "        print(\"we all good\")\n",
    "    case 203:\n",
    "        print(\"we good. no data\")\n",
    "    case 404:\n",
    "        print(\"error 404\")\n",
    "    case _:\n",
    "        print(\"default\")\n"
   ]
  },
  {
   "cell_type": "code",
   "execution_count": null,
   "id": "b4b1f953",
   "metadata": {},
   "outputs": [],
   "source": []
  },
  {
   "cell_type": "markdown",
   "id": "e7c90a14",
   "metadata": {},
   "source": [
    "# Funkcije"
   ]
  },
  {
   "cell_type": "code",
   "execution_count": 291,
   "id": "2eef98b7",
   "metadata": {},
   "outputs": [
    {
     "name": "stdout",
     "output_type": "stream",
     "text": [
      "Hello World\n"
     ]
    }
   ],
   "source": [
    "def ime_funkcije():\n",
    "    print(\"Hello World\")\n",
    "    \n",
    "ime_funkcije()"
   ]
  },
  {
   "cell_type": "code",
   "execution_count": 293,
   "id": "3e7fd7fd",
   "metadata": {},
   "outputs": [
    {
     "ename": "NameError",
     "evalue": "name 'hello2' is not defined",
     "output_type": "error",
     "traceback": [
      "\u001b[0;31m---------------------------------------------------------------------------\u001b[0m",
      "\u001b[0;31mNameError\u001b[0m                                 Traceback (most recent call last)",
      "Input \u001b[0;32mIn [293]\u001b[0m, in \u001b[0;36m<cell line: 1>\u001b[0;34m()\u001b[0m\n\u001b[0;32m----> 1\u001b[0m \u001b[43mhello2\u001b[49m()\n\u001b[1;32m      3\u001b[0m \u001b[38;5;28;01mdef\u001b[39;00m \u001b[38;5;21mhello2\u001b[39m():\n\u001b[1;32m      4\u001b[0m     \u001b[38;5;28mprint\u001b[39m(\u001b[38;5;124m\"\u001b[39m\u001b[38;5;124mHello world 2\u001b[39m\u001b[38;5;124m\"\u001b[39m)\n",
      "\u001b[0;31mNameError\u001b[0m: name 'hello2' is not defined"
     ]
    }
   ],
   "source": [
    "hello2()\n",
    "\n",
    "def hello2():\n",
    "    print(\"Hello world 2\")"
   ]
  },
  {
   "cell_type": "code",
   "execution_count": 297,
   "id": "2f71dfcc",
   "metadata": {},
   "outputs": [
    {
     "name": "stdout",
     "output_type": "stream",
     "text": [
      "Vrednost x: 1\n",
      "Vrednost y: 2\n",
      "Vrednost z: 3\n",
      "Vrednost x: 3\n",
      "Vrednost y: 2\n",
      "Vrednost z: 1\n"
     ]
    }
   ],
   "source": [
    "def funkcija_1(x, y, z):\n",
    "    print(f\"Vrednost x: {x}\")\n",
    "    print(f\"Vrednost y: {y}\")\n",
    "    print(f\"Vrednost z: {z}\")\n",
    "    \n",
    "funkcija_1(1, 2, 3)\n",
    "funkcija_1(3, 2, 1)"
   ]
  },
  {
   "cell_type": "code",
   "execution_count": 298,
   "id": "b3a14fd1",
   "metadata": {},
   "outputs": [
    {
     "ename": "TypeError",
     "evalue": "funkcija_1() missing 1 required positional argument: 'z'",
     "output_type": "error",
     "traceback": [
      "\u001b[0;31m---------------------------------------------------------------------------\u001b[0m",
      "\u001b[0;31mTypeError\u001b[0m                                 Traceback (most recent call last)",
      "Input \u001b[0;32mIn [298]\u001b[0m, in \u001b[0;36m<cell line: 1>\u001b[0;34m()\u001b[0m\n\u001b[0;32m----> 1\u001b[0m \u001b[43mfunkcija_1\u001b[49m\u001b[43m(\u001b[49m\u001b[38;5;241;43m1\u001b[39;49m\u001b[43m,\u001b[49m\u001b[43m \u001b[49m\u001b[38;5;241;43m2\u001b[39;49m\u001b[43m)\u001b[49m\n",
      "\u001b[0;31mTypeError\u001b[0m: funkcija_1() missing 1 required positional argument: 'z'"
     ]
    }
   ],
   "source": [
    "funkcija_1(1, 2)"
   ]
  },
  {
   "cell_type": "code",
   "execution_count": 299,
   "id": "5326c7a1",
   "metadata": {},
   "outputs": [
    {
     "ename": "TypeError",
     "evalue": "funkcija_1() takes 3 positional arguments but 4 were given",
     "output_type": "error",
     "traceback": [
      "\u001b[0;31m---------------------------------------------------------------------------\u001b[0m",
      "\u001b[0;31mTypeError\u001b[0m                                 Traceback (most recent call last)",
      "Input \u001b[0;32mIn [299]\u001b[0m, in \u001b[0;36m<cell line: 1>\u001b[0;34m()\u001b[0m\n\u001b[0;32m----> 1\u001b[0m \u001b[43mfunkcija_1\u001b[49m\u001b[43m(\u001b[49m\u001b[38;5;241;43m1\u001b[39;49m\u001b[43m,\u001b[49m\u001b[43m \u001b[49m\u001b[38;5;241;43m2\u001b[39;49m\u001b[43m,\u001b[49m\u001b[43m \u001b[49m\u001b[38;5;241;43m3\u001b[39;49m\u001b[43m,\u001b[49m\u001b[43m \u001b[49m\u001b[38;5;241;43m4\u001b[39;49m\u001b[43m)\u001b[49m\n",
      "\u001b[0;31mTypeError\u001b[0m: funkcija_1() takes 3 positional arguments but 4 were given"
     ]
    }
   ],
   "source": [
    "funkcija_1(1, 2, 3, 4)"
   ]
  },
  {
   "cell_type": "code",
   "execution_count": null,
   "id": "6b5491ad",
   "metadata": {},
   "outputs": [],
   "source": []
  },
  {
   "cell_type": "code",
   "execution_count": 301,
   "id": "98b49b66",
   "metadata": {},
   "outputs": [
    {
     "name": "stdout",
     "output_type": "stream",
     "text": [
      "Pozdravljen G. Gregor Balkovec.\n"
     ]
    }
   ],
   "source": [
    "def pozdrav(naslavljanje, ime, priimek):\n",
    "    print(f\"Pozdravljen {naslavljanje} {ime} {priimek}.\")\n",
    "    \n",
    "pozdrav(ime=\"Gregor\", naslavljanje=\"G.\", priimek=\"Balkovec\")"
   ]
  },
  {
   "cell_type": "code",
   "execution_count": 303,
   "id": "8baccb4f",
   "metadata": {},
   "outputs": [
    {
     "ename": "TypeError",
     "evalue": "pozdrav() got an unexpected keyword argument 'zadnje_ime'",
     "output_type": "error",
     "traceback": [
      "\u001b[0;31m---------------------------------------------------------------------------\u001b[0m",
      "\u001b[0;31mTypeError\u001b[0m                                 Traceback (most recent call last)",
      "Input \u001b[0;32mIn [303]\u001b[0m, in \u001b[0;36m<cell line: 1>\u001b[0;34m()\u001b[0m\n\u001b[0;32m----> 1\u001b[0m \u001b[43mpozdrav\u001b[49m\u001b[43m(\u001b[49m\u001b[43mzadnje_ime\u001b[49m\u001b[43m \u001b[49m\u001b[38;5;241;43m=\u001b[39;49m\u001b[43m \u001b[49m\u001b[38;5;124;43m\"\u001b[39;49m\u001b[38;5;124;43mBalkovec\u001b[39;49m\u001b[38;5;124;43m\"\u001b[39;49m\u001b[43m,\u001b[49m\u001b[43m \u001b[49m\u001b[43mime\u001b[49m\u001b[38;5;241;43m=\u001b[39;49m\u001b[38;5;124;43m\"\u001b[39;49m\u001b[38;5;124;43mGregor\u001b[39;49m\u001b[38;5;124;43m\"\u001b[39;49m\u001b[43m,\u001b[49m\u001b[43m \u001b[49m\u001b[43mnaslavljanje\u001b[49m\u001b[38;5;241;43m=\u001b[39;49m\u001b[38;5;124;43m\"\u001b[39;49m\u001b[38;5;124;43mG.\u001b[39;49m\u001b[38;5;124;43m\"\u001b[39;49m\u001b[43m)\u001b[49m\n",
      "\u001b[0;31mTypeError\u001b[0m: pozdrav() got an unexpected keyword argument 'zadnje_ime'"
     ]
    }
   ],
   "source": [
    "pozdrav(zadnje_ime = \"Balkovec\", ime=\"Gregor\", naslavljanje=\"G.\")"
   ]
  },
  {
   "cell_type": "code",
   "execution_count": 304,
   "id": "78b6de11",
   "metadata": {},
   "outputs": [
    {
     "name": "stdout",
     "output_type": "stream",
     "text": [
      "Pozdravljen G. Gregor Balkovec.\n"
     ]
    }
   ],
   "source": [
    "pozdrav(\"G.\", priimek=\"Balkovec\", ime=\"Gregor\")"
   ]
  },
  {
   "cell_type": "code",
   "execution_count": 305,
   "id": "5d64c08d",
   "metadata": {},
   "outputs": [
    {
     "ename": "SyntaxError",
     "evalue": "positional argument follows keyword argument (507490022.py, line 1)",
     "output_type": "error",
     "traceback": [
      "\u001b[0;36m  Input \u001b[0;32mIn [305]\u001b[0;36m\u001b[0m\n\u001b[0;31m    pozdrav(ime=\"Gregor\", \"G.\", priimek=\"Balkovec\")\u001b[0m\n\u001b[0m                                                  ^\u001b[0m\n\u001b[0;31mSyntaxError\u001b[0m\u001b[0;31m:\u001b[0m positional argument follows keyword argument\n"
     ]
    }
   ],
   "source": [
    "pozdrav(ime=\"Gregor\", \"G.\", priimek=\"Balkovec\")"
   ]
  },
  {
   "cell_type": "code",
   "execution_count": 310,
   "id": "cdb3d2dd",
   "metadata": {},
   "outputs": [
    {
     "name": "stdout",
     "output_type": "stream",
     "text": [
      "Pozdravljeni gospod Gregor Novak.\n"
     ]
    }
   ],
   "source": [
    "def pozdrav(naslavljanje=\"gospod\", ime=\"Miha\", priimek=\"Novak\"):\n",
    "    print(f\"Pozdravljeni {naslavljanje} {ime} {priimek}.\")\n",
    "\n",
    "pozdrav(ime=\"Gregor\")"
   ]
  },
  {
   "cell_type": "code",
   "execution_count": 312,
   "id": "3d67ed42",
   "metadata": {},
   "outputs": [
    {
     "ename": "SyntaxError",
     "evalue": "non-default argument follows default argument (3094324801.py, line 1)",
     "output_type": "error",
     "traceback": [
      "\u001b[0;36m  Input \u001b[0;32mIn [312]\u001b[0;36m\u001b[0m\n\u001b[0;31m    def funkcija(x, y=0, z):\u001b[0m\n\u001b[0m                         ^\u001b[0m\n\u001b[0;31mSyntaxError\u001b[0m\u001b[0;31m:\u001b[0m non-default argument follows default argument\n"
     ]
    }
   ],
   "source": [
    "def funkcija(x, y=0, z):\n",
    "    print(x+y+z)\n",
    "    \n",
    "funkcija(1, 2, 3)"
   ]
  },
  {
   "cell_type": "code",
   "execution_count": null,
   "id": "be94a1ab",
   "metadata": {},
   "outputs": [],
   "source": []
  },
  {
   "cell_type": "markdown",
   "id": "cd321300",
   "metadata": {},
   "source": [
    "### \\*args and \\*\\*kwargs"
   ]
  },
  {
   "cell_type": "code",
   "execution_count": 317,
   "id": "4f857cab",
   "metadata": {},
   "outputs": [
    {
     "name": "stdout",
     "output_type": "stream",
     "text": [
      "1\n",
      "2\n",
      "3\n",
      "(4, 5, 6, 7, 8)\n"
     ]
    }
   ],
   "source": [
    "def test_args(a, b, c, *args):\n",
    "    print(a)\n",
    "    print(b)\n",
    "    print(c)\n",
    "    print(args)\n",
    "    \n",
    "test_args(1, 2, 3, 4, 5, 6, 7, 8)"
   ]
  },
  {
   "cell_type": "code",
   "execution_count": 321,
   "id": "6fa1f9e2",
   "metadata": {},
   "outputs": [
    {
     "name": "stdout",
     "output_type": "stream",
     "text": [
      "1\n",
      "2\n",
      "3\n",
      "{'d': 4, 'e': 5, 'f': 6}\n"
     ]
    }
   ],
   "source": [
    "def test_kwargs(a, b, c, **kwargs):\n",
    "    print(a)\n",
    "    print(b)\n",
    "    print(c)\n",
    "    print(kwargs)\n",
    "    \n",
    "test_kwargs(a=1, b=2, c=3, d=4, e=5, f=6)"
   ]
  },
  {
   "cell_type": "code",
   "execution_count": null,
   "id": "8c8bc0c9",
   "metadata": {},
   "outputs": [],
   "source": []
  },
  {
   "cell_type": "code",
   "execution_count": 324,
   "id": "f1c315f8",
   "metadata": {},
   "outputs": [
    {
     "name": "stdout",
     "output_type": "stream",
     "text": [
      "Barva grafa je:  rdeča\n"
     ]
    }
   ],
   "source": [
    "def moja_funkcija(podatki, barva_grafa=\"črna\"):\n",
    "    print(\"Barva grafa je: \", barva_grafa)\n",
    "    \n",
    "moja_funkcija([1,2,3,4], barva_grafa=\"rdeča\")"
   ]
  },
  {
   "cell_type": "code",
   "execution_count": 326,
   "id": "49027c90",
   "metadata": {},
   "outputs": [
    {
     "name": "stdout",
     "output_type": "stream",
     "text": [
      "Barva grafa je:  rdeča\n"
     ]
    }
   ],
   "source": [
    "def moja_funkcija(podatki, barva=\"črna\", **kwargs):\n",
    "    if \"barva_grafa\" in kwargs.keys():\n",
    "        print(\"Barva grafa je: \", kwargs[\"barva_grafa\"])\n",
    "    else:\n",
    "        print(\"Barva grafa je: \", barva)\n",
    "    \n",
    "moja_funkcija([1,2,3,4], barva_grafa=\"rdeča\")"
   ]
  },
  {
   "cell_type": "code",
   "execution_count": null,
   "id": "6381de7e",
   "metadata": {},
   "outputs": [],
   "source": []
  },
  {
   "cell_type": "markdown",
   "id": "b459f07a",
   "metadata": {},
   "source": [
    "## Returning value"
   ]
  },
  {
   "cell_type": "code",
   "execution_count": 329,
   "id": "98b8b080",
   "metadata": {},
   "outputs": [
    {
     "name": "stdout",
     "output_type": "stream",
     "text": [
      "3\n"
     ]
    }
   ],
   "source": [
    "def sestevalnik(a, b):\n",
    "    return a+b\n",
    "    print(\"Hello world\")\n",
    "\n",
    "x = sestevalnik(1, 2)\n",
    "print(x)"
   ]
  },
  {
   "cell_type": "code",
   "execution_count": 330,
   "id": "6db11fa7",
   "metadata": {},
   "outputs": [
    {
     "name": "stdout",
     "output_type": "stream",
     "text": [
      "Hello world\n",
      "None\n"
     ]
    }
   ],
   "source": [
    "def pozdrav():\n",
    "    print(\"Hello world\")\n",
    "    \n",
    "x = pozdrav()\n",
    "print(x)"
   ]
  },
  {
   "cell_type": "code",
   "execution_count": 332,
   "id": "c7bcf157",
   "metadata": {},
   "outputs": [
    {
     "name": "stdout",
     "output_type": "stream",
     "text": [
      "False\n"
     ]
    }
   ],
   "source": [
    "def vecje_od_5(x):\n",
    "    if x > 5:\n",
    "        return True\n",
    "    else:\n",
    "        return False\n",
    "    \n",
    "y = vecje_od_5(1)\n",
    "print(y)"
   ]
  },
  {
   "cell_type": "code",
   "execution_count": null,
   "id": "bd9f2109",
   "metadata": {},
   "outputs": [],
   "source": []
  },
  {
   "cell_type": "code",
   "execution_count": 334,
   "id": "33e5d46a",
   "metadata": {},
   "outputs": [
    {
     "name": "stdout",
     "output_type": "stream",
     "text": [
      "(3, 4, 5)\n"
     ]
    }
   ],
   "source": [
    "def add_numbers(a, b, c):\n",
    "    x = a+b\n",
    "    y = a+c\n",
    "    z = b+c\n",
    "    return x, y, z\n",
    "\n",
    "data = add_numbers(1, 2, 3)\n",
    "print(data)"
   ]
  },
  {
   "cell_type": "code",
   "execution_count": null,
   "id": "8361e1d2",
   "metadata": {},
   "outputs": [],
   "source": []
  },
  {
   "cell_type": "code",
   "execution_count": 337,
   "id": "79ed8a0a",
   "metadata": {},
   "outputs": [
    {
     "name": "stdout",
     "output_type": "stream",
     "text": [
      "Hello  Fido\n"
     ]
    }
   ],
   "source": [
    "def hello(ime):\n",
    "    print(\"Hello \", ime)\n",
    "    \n",
    "l = [hello, 2, 3, \"Gregor\"]\n",
    "l[0](\"Fido\")"
   ]
  },
  {
   "cell_type": "code",
   "execution_count": null,
   "id": "7d2754e8",
   "metadata": {},
   "outputs": [],
   "source": []
  },
  {
   "cell_type": "markdown",
   "id": "409745d4",
   "metadata": {},
   "source": [
    "# Lambda Funkcije"
   ]
  },
  {
   "cell_type": "code",
   "execution_count": 339,
   "id": "26b4f70b",
   "metadata": {},
   "outputs": [
    {
     "data": {
      "text/plain": [
       "9"
      ]
     },
     "execution_count": 339,
     "metadata": {},
     "output_type": "execute_result"
    }
   ],
   "source": [
    "(lambda x,y: x+y)(4, 5)"
   ]
  },
  {
   "cell_type": "code",
   "execution_count": 343,
   "id": "5909aba7",
   "metadata": {},
   "outputs": [
    {
     "data": {
      "text/plain": [
       "[{'id': 'bitcoin',\n",
       "  'symbol': 'btc',\n",
       "  'name': 'Bitcoin',\n",
       "  'image': 'https://assets.coingecko.com/coins/images/1/large/bitcoin.png?1547033579',\n",
       "  'current_price': 47553,\n",
       "  'market_cap': 901453728232,\n",
       "  'total_volume': 47427138554,\n",
       "  'high_24h': 51131,\n",
       "  'low_24h': 48056},\n",
       " {'id': 'ethereum',\n",
       "  'symbol': 'eth',\n",
       "  'name': 'Ethereum',\n",
       "  'image': 'https://assets.coingecko.com/coins/images/279/large/ethereum.png?1595348880',\n",
       "  'current_price': 1479.97,\n",
       "  'market_cap': 172447578072,\n",
       "  'total_volume': 24709055087,\n",
       "  'high_24h': 1597.13,\n",
       "  'low_24h': 1493},\n",
       " {'id': 'binancecoin',\n",
       "  'symbol': 'bnb',\n",
       "  'name': 'Binance Coin',\n",
       "  'image': 'https://assets.coingecko.com/coins/images/825/large/binance-coin-logo.png?1547034615',\n",
       "  'current_price': 212.03,\n",
       "  'market_cap': 33015186690,\n",
       "  'total_volume': 2490184836,\n",
       "  'high_24h': 230.59,\n",
       "  'low_24h': 210.87},\n",
       " {'id': 'litecoin',\n",
       "  'symbol': 'ltc',\n",
       "  'name': 'Litecoin',\n",
       "  'image': 'https://assets.coingecko.com/coins/images/2/large/litecoin.png?1547033580',\n",
       "  'current_price': 171.49,\n",
       "  'market_cap': 11561005268,\n",
       "  'total_volume': 4950077782,\n",
       "  'high_24h': 187.34,\n",
       "  'low_24h': 172.45},\n",
       " {'id': 'polkadot',\n",
       "  'symbol': 'dot',\n",
       "  'name': 'Polkadot',\n",
       "  'image': 'https://assets.coingecko.com/coins/images/12171/large/aJGBjJFU_400x400.jpg?1597804776',\n",
       "  'current_price': 29.28,\n",
       "  'market_cap': 28856989783,\n",
       "  'total_volume': 1266769267,\n",
       "  'high_24h': 32.2,\n",
       "  'low_24h': 29.54},\n",
       " {'id': 'uniswap',\n",
       "  'symbol': 'uni',\n",
       "  'name': 'Uniswap',\n",
       "  'image': 'https://assets.coingecko.com/coins/images/12504/large/uniswap-uni.png?1600306604',\n",
       "  'current_price': 24.94,\n",
       "  'market_cap': 13099199643,\n",
       "  'total_volume': 939432128,\n",
       "  'high_24h': 27.92,\n",
       "  'low_24h': 24.78},\n",
       " {'id': 'cardano',\n",
       "  'symbol': 'ada',\n",
       "  'name': 'Cardano',\n",
       "  'image': 'https://assets.coingecko.com/coins/images/975/large/cardano.png?1547034860',\n",
       "  'current_price': 0.84514,\n",
       "  'market_cap': 27210647217,\n",
       "  'total_volume': 3204270671,\n",
       "  'high_24h': 0.919055,\n",
       "  'low_24h': 0.843236},\n",
       " {'id': 'tether',\n",
       "  'symbol': 'usdt',\n",
       "  'name': 'Tether',\n",
       "  'image': 'https://assets.coingecko.com/coins/images/325/large/Tether-logo.png?1598003707',\n",
       "  'current_price': 0.83869,\n",
       "  'market_cap': 32307660438,\n",
       "  'total_volume': 82854947322,\n",
       "  'high_24h': 0.843104,\n",
       "  'low_24h': 0.832594},\n",
       " {'id': 'ripple',\n",
       "  'symbol': 'xrp',\n",
       "  'name': 'XRP',\n",
       "  'image': 'https://assets.coingecko.com/coins/images/44/large/xrp-symbol-white-128.png?1605778731',\n",
       "  'current_price': 0.360658,\n",
       "  'market_cap': 16580549437,\n",
       "  'total_volume': 2357746464,\n",
       "  'high_24h': 0.381072,\n",
       "  'low_24h': 0.358941}]"
      ]
     },
     "execution_count": 343,
     "metadata": {},
     "output_type": "execute_result"
    }
   ],
   "source": [
    "data = [\n",
    "  {\n",
    "    \"id\": \"binancecoin\",\n",
    "    \"symbol\": \"bnb\",\n",
    "    \"name\": \"Binance Coin\",\n",
    "    \"image\": \"https://assets.coingecko.com/coins/images/825/large/binance-coin-logo.png?1547034615\",\n",
    "    \"current_price\": 212.03,\n",
    "    \"market_cap\": 33015186690,\n",
    "    \"total_volume\": 2490184836,\n",
    "    \"high_24h\": 230.59,\n",
    "    \"low_24h\": 210.87,\n",
    "  },\n",
    "  {\n",
    "    \"id\": \"bitcoin\",\n",
    "    \"symbol\": \"btc\",\n",
    "    \"name\": \"Bitcoin\",\n",
    "    \"image\": \"https://assets.coingecko.com/coins/images/1/large/bitcoin.png?1547033579\",\n",
    "    \"current_price\": 47553,\n",
    "    \"market_cap\": 901453728232,\n",
    "    \"total_volume\": 47427138554,\n",
    "    \"high_24h\": 51131,\n",
    "    \"low_24h\": 48056,\n",
    "  },\n",
    "  {\n",
    "    \"id\": \"cardano\",\n",
    "    \"symbol\": \"ada\",\n",
    "    \"name\": \"Cardano\",\n",
    "    \"image\": \"https://assets.coingecko.com/coins/images/975/large/cardano.png?1547034860\",\n",
    "    \"current_price\": 0.84514,\n",
    "    \"market_cap\": 27210647217,\n",
    "    \"total_volume\": 3204270671,\n",
    "    \"high_24h\": 0.919055,\n",
    "    \"low_24h\": 0.843236,\n",
    "  },\n",
    "  {\n",
    "    \"id\": \"ethereum\",\n",
    "    \"symbol\": \"eth\",\n",
    "    \"name\": \"Ethereum\",\n",
    "    \"image\": \"https://assets.coingecko.com/coins/images/279/large/ethereum.png?1595348880\",\n",
    "    \"current_price\": 1479.97,\n",
    "    \"market_cap\": 172447578072,\n",
    "    \"total_volume\": 24709055087,\n",
    "    \"high_24h\": 1597.13,\n",
    "    \"low_24h\": 1493,\n",
    "  },\n",
    "  {\n",
    "    \"id\": \"litecoin\",\n",
    "    \"symbol\": \"ltc\",\n",
    "    \"name\": \"Litecoin\",\n",
    "    \"image\": \"https://assets.coingecko.com/coins/images/2/large/litecoin.png?1547033580\",\n",
    "    \"current_price\": 171.49,\n",
    "    \"market_cap\": 11561005268,\n",
    "    \"total_volume\": 4950077782,\n",
    "    \"high_24h\": 187.34,\n",
    "    \"low_24h\": 172.45,\n",
    "  },\n",
    "  {\n",
    "    \"id\": \"polkadot\",\n",
    "    \"symbol\": \"dot\",\n",
    "    \"name\": \"Polkadot\",\n",
    "    \"image\": \"https://assets.coingecko.com/coins/images/12171/large/aJGBjJFU_400x400.jpg?1597804776\",\n",
    "    \"current_price\": 29.28,\n",
    "    \"market_cap\": 28856989783,\n",
    "    \"total_volume\": 1266769267,\n",
    "    \"high_24h\": 32.2,\n",
    "    \"low_24h\": 29.54,\n",
    "  },\n",
    "  {\n",
    "    \"id\": \"ripple\",\n",
    "    \"symbol\": \"xrp\",\n",
    "    \"name\": \"XRP\",\n",
    "    \"image\": \"https://assets.coingecko.com/coins/images/44/large/xrp-symbol-white-128.png?1605778731\",\n",
    "    \"current_price\": 0.360658,\n",
    "    \"market_cap\": 16580549437,\n",
    "    \"total_volume\": 2357746464,\n",
    "    \"high_24h\": 0.381072,\n",
    "    \"low_24h\": 0.358941,\n",
    "  },\n",
    "  {\n",
    "    \"id\": \"tether\",\n",
    "    \"symbol\": \"usdt\",\n",
    "    \"name\": \"Tether\",\n",
    "    \"image\": \"https://assets.coingecko.com/coins/images/325/large/Tether-logo.png?1598003707\",\n",
    "    \"current_price\": 0.83869,\n",
    "    \"market_cap\": 32307660438,\n",
    "    \"total_volume\": 82854947322,\n",
    "    \"high_24h\": 0.843104,\n",
    "    \"low_24h\": 0.832594,\n",
    "  },\n",
    "  {\n",
    "    \"id\": \"uniswap\",\n",
    "    \"symbol\": \"uni\",\n",
    "    \"name\": \"Uniswap\",\n",
    "    \"image\": \"https://assets.coingecko.com/coins/images/12504/large/uniswap-uni.png?1600306604\",\n",
    "    \"current_price\": 24.94,\n",
    "    \"market_cap\": 13099199643,\n",
    "    \"total_volume\": 939432128,\n",
    "    \"high_24h\": 27.92,\n",
    "    \"low_24h\": 24.78,\n",
    "  }\n",
    "]\n",
    "\n",
    "\n",
    "\n",
    "sorted(data, key=lambda x: x[\"current_price\"], reverse=True)"
   ]
  },
  {
   "cell_type": "code",
   "execution_count": null,
   "id": "8bc8ee7c",
   "metadata": {},
   "outputs": [],
   "source": []
  },
  {
   "cell_type": "code",
   "execution_count": null,
   "id": "7f7ecd56",
   "metadata": {},
   "outputs": [],
   "source": []
  },
  {
   "cell_type": "markdown",
   "id": "bdaa92b3",
   "metadata": {},
   "source": [
    "# Variable scope"
   ]
  },
  {
   "cell_type": "code",
   "execution_count": 347,
   "id": "be6559c8",
   "metadata": {},
   "outputs": [
    {
     "name": "stdout",
     "output_type": "stream",
     "text": [
      "Spr1:  10\n",
      "Spr2:  20\n"
     ]
    },
    {
     "ename": "NameError",
     "evalue": "name 'spr1' is not defined",
     "output_type": "error",
     "traceback": [
      "\u001b[0;31m---------------------------------------------------------------------------\u001b[0m",
      "\u001b[0;31mNameError\u001b[0m                                 Traceback (most recent call last)",
      "Input \u001b[0;32mIn [347]\u001b[0m, in \u001b[0;36m<cell line: 7>\u001b[0;34m()\u001b[0m\n\u001b[1;32m      4\u001b[0m     \u001b[38;5;28mprint\u001b[39m(\u001b[38;5;124m\"\u001b[39m\u001b[38;5;124mSpr2: \u001b[39m\u001b[38;5;124m\"\u001b[39m, spr2)\n\u001b[1;32m      6\u001b[0m funkcija(\u001b[38;5;241m10\u001b[39m)\n\u001b[0;32m----> 7\u001b[0m \u001b[38;5;28mprint\u001b[39m(\u001b[38;5;124m\"\u001b[39m\u001b[38;5;124mSpr1\u001b[39m\u001b[38;5;124m\"\u001b[39m, \u001b[43mspr1\u001b[49m)\n\u001b[1;32m      8\u001b[0m \u001b[38;5;28mprint\u001b[39m(\u001b[38;5;124m\"\u001b[39m\u001b[38;5;124mSpr2: \u001b[39m\u001b[38;5;124m\"\u001b[39m, spr2)\n",
      "\u001b[0;31mNameError\u001b[0m: name 'spr1' is not defined"
     ]
    }
   ],
   "source": [
    "def funkcija(spr1):\n",
    "    spr2 = 20\n",
    "    print(\"Spr1: \", spr1)\n",
    "    print(\"Spr2: \", spr2)\n",
    "    \n",
    "funkcija(10)\n",
    "print(\"Spr1\", spr1)\n",
    "print(\"Spr2: \", spr2)"
   ]
  },
  {
   "cell_type": "code",
   "execution_count": 348,
   "id": "075b249a",
   "metadata": {},
   "outputs": [
    {
     "name": "stdout",
     "output_type": "stream",
     "text": [
      "Spr1:  10\n",
      "Spr2:  20\n",
      "Spr1:  10\n",
      "Spr2:  20\n",
      "Spr3:  30\n",
      "\n",
      "Spr1:  10\n",
      "Spr2:  20\n"
     ]
    }
   ],
   "source": [
    "spr1 = 10\n",
    "print(\"Spr1: \", spr1)\n",
    "\n",
    "if True:\n",
    "    spr2 = 20\n",
    "print(\"Spr2: \", spr2)\n",
    "\n",
    "def funkcija():\n",
    "    spr3 = 30\n",
    "    print(\"Spr1: \", spr1)\n",
    "    print(\"Spr2: \", spr2)\n",
    "    print(\"Spr3: \", spr3)\n",
    "    \n",
    "funkcija()\n",
    "print()\n",
    "\n",
    "print(\"Spr1: \", spr1)\n",
    "print(\"Spr2: \", spr2)"
   ]
  },
  {
   "cell_type": "code",
   "execution_count": 353,
   "id": "cd2ac0b3",
   "metadata": {},
   "outputs": [
    {
     "name": "stdout",
     "output_type": "stream",
     "text": [
      "Spr1:  10\n",
      "SPr1:  200\n",
      "Spr1:  10\n"
     ]
    }
   ],
   "source": [
    "spr1 = 10\n",
    "print(\"Spr1: \", spr1)\n",
    "\n",
    "def funckija():\n",
    "    spr1 = 200\n",
    "    print(\"SPr1: \", spr1)\n",
    "    \n",
    "funckija()\n",
    "print(\"Spr1: \", spr1)"
   ]
  },
  {
   "cell_type": "code",
   "execution_count": 354,
   "id": "5e0e10c0",
   "metadata": {},
   "outputs": [
    {
     "name": "stdout",
     "output_type": "stream",
     "text": [
      "Spr1:  10\n",
      "SPr1:  200\n",
      "Spr1:  200\n"
     ]
    }
   ],
   "source": [
    "spr1 = 10\n",
    "print(\"Spr1: \", spr1)\n",
    "\n",
    "def funckija():\n",
    "    global spr1\n",
    "    spr1 = 200\n",
    "    print(\"SPr1: \", spr1)\n",
    "    \n",
    "funckija()\n",
    "print(\"Spr1: \", spr1)"
   ]
  },
  {
   "cell_type": "code",
   "execution_count": 356,
   "id": "cdc2fdec",
   "metadata": {},
   "outputs": [
    {
     "name": "stdout",
     "output_type": "stream",
     "text": [
      "X:  100\n",
      "100\n"
     ]
    }
   ],
   "source": [
    "def funkcija():\n",
    "    global x \n",
    "    x = 100\n",
    "    print(\"X: \", x)\n",
    "    \n",
    "funkcija()\n",
    "print(x)"
   ]
  },
  {
   "cell_type": "code",
   "execution_count": null,
   "id": "7747e94a",
   "metadata": {},
   "outputs": [],
   "source": []
  },
  {
   "cell_type": "markdown",
   "id": "128b4e22",
   "metadata": {},
   "source": [
    "# Errors"
   ]
  },
  {
   "cell_type": "code",
   "execution_count": 357,
   "id": "892fd393",
   "metadata": {},
   "outputs": [
    {
     "ename": "SyntaxError",
     "evalue": "expected ':' (3874381818.py, line 1)",
     "output_type": "error",
     "traceback": [
      "\u001b[0;36m  Input \u001b[0;32mIn [357]\u001b[0;36m\u001b[0m\n\u001b[0;31m    if True\u001b[0m\n\u001b[0m           ^\u001b[0m\n\u001b[0;31mSyntaxError\u001b[0m\u001b[0;31m:\u001b[0m expected ':'\n"
     ]
    }
   ],
   "source": [
    "if True\n",
    "    print(\"neki neki\")"
   ]
  },
  {
   "cell_type": "code",
   "execution_count": 358,
   "id": "342d01ac",
   "metadata": {},
   "outputs": [
    {
     "ename": "IndentationError",
     "evalue": "expected an indented block after 'if' statement on line 1 (1975472246.py, line 2)",
     "output_type": "error",
     "traceback": [
      "\u001b[0;36m  Input \u001b[0;32mIn [358]\u001b[0;36m\u001b[0m\n\u001b[0;31m    print(\"Neki\")\u001b[0m\n\u001b[0m    ^\u001b[0m\n\u001b[0;31mIndentationError\u001b[0m\u001b[0;31m:\u001b[0m expected an indented block after 'if' statement on line 1\n"
     ]
    }
   ],
   "source": [
    "if True:\n",
    "print(\"Neki\")"
   ]
  },
  {
   "cell_type": "code",
   "execution_count": 359,
   "id": "5462680a",
   "metadata": {},
   "outputs": [
    {
     "ename": "SyntaxError",
     "evalue": "invalid syntax (1733826241.py, line 1)",
     "output_type": "error",
     "traceback": [
      "\u001b[0;36m  Input \u001b[0;32mIn [359]\u001b[0;36m\u001b[0m\n\u001b[0;31m    myfunction():\u001b[0m\n\u001b[0m                ^\u001b[0m\n\u001b[0;31mSyntaxError\u001b[0m\u001b[0;31m:\u001b[0m invalid syntax\n"
     ]
    }
   ],
   "source": [
    "myfunction():\n",
    "    print(\"hello\")"
   ]
  },
  {
   "cell_type": "code",
   "execution_count": null,
   "id": "64ce2fcc",
   "metadata": {},
   "outputs": [],
   "source": []
  },
  {
   "cell_type": "code",
   "execution_count": 360,
   "id": "9bc053ae",
   "metadata": {},
   "outputs": [
    {
     "ename": "ZeroDivisionError",
     "evalue": "division by zero",
     "output_type": "error",
     "traceback": [
      "\u001b[0;31m---------------------------------------------------------------------------\u001b[0m",
      "\u001b[0;31mZeroDivisionError\u001b[0m                         Traceback (most recent call last)",
      "Input \u001b[0;32mIn [360]\u001b[0m, in \u001b[0;36m<cell line: 1>\u001b[0;34m()\u001b[0m\n\u001b[0;32m----> 1\u001b[0m \u001b[38;5;241;43m1\u001b[39;49m\u001b[38;5;241;43m/\u001b[39;49m\u001b[38;5;241;43m0\u001b[39;49m\n",
      "\u001b[0;31mZeroDivisionError\u001b[0m: division by zero"
     ]
    }
   ],
   "source": [
    "1/0"
   ]
  },
  {
   "cell_type": "code",
   "execution_count": 361,
   "id": "c08cec89",
   "metadata": {},
   "outputs": [
    {
     "ename": "IndexError",
     "evalue": "list index out of range",
     "output_type": "error",
     "traceback": [
      "\u001b[0;31m---------------------------------------------------------------------------\u001b[0m",
      "\u001b[0;31mIndexError\u001b[0m                                Traceback (most recent call last)",
      "Input \u001b[0;32mIn [361]\u001b[0m, in \u001b[0;36m<cell line: 2>\u001b[0;34m()\u001b[0m\n\u001b[1;32m      1\u001b[0m a \u001b[38;5;241m=\u001b[39m [\u001b[38;5;241m1\u001b[39m,\u001b[38;5;241m2\u001b[39m,\u001b[38;5;241m3\u001b[39m,\u001b[38;5;241m4\u001b[39m,\u001b[38;5;241m5\u001b[39m,\u001b[38;5;241m6\u001b[39m]\n\u001b[0;32m----> 2\u001b[0m \u001b[43ma\u001b[49m\u001b[43m[\u001b[49m\u001b[38;5;241;43m100\u001b[39;49m\u001b[43m]\u001b[49m\n",
      "\u001b[0;31mIndexError\u001b[0m: list index out of range"
     ]
    }
   ],
   "source": [
    "a = [1,2,3,4,5,6]\n",
    "a[100]"
   ]
  },
  {
   "cell_type": "code",
   "execution_count": 362,
   "id": "0d77ac08",
   "metadata": {},
   "outputs": [
    {
     "ename": "TypeError",
     "evalue": "'>' not supported between instances of 'int' and 'str'",
     "output_type": "error",
     "traceback": [
      "\u001b[0;31m---------------------------------------------------------------------------\u001b[0m",
      "\u001b[0;31mTypeError\u001b[0m                                 Traceback (most recent call last)",
      "Input \u001b[0;32mIn [362]\u001b[0m, in \u001b[0;36m<cell line: 1>\u001b[0;34m()\u001b[0m\n\u001b[0;32m----> 1\u001b[0m \u001b[38;5;241;43m12\u001b[39;49m\u001b[43m \u001b[49m\u001b[38;5;241;43m>\u001b[39;49m\u001b[43m \u001b[49m\u001b[38;5;124;43m\"\u001b[39;49m\u001b[38;5;124;43mnekin\u001b[39;49m\u001b[38;5;124;43m\"\u001b[39;49m\n",
      "\u001b[0;31mTypeError\u001b[0m: '>' not supported between instances of 'int' and 'str'"
     ]
    }
   ],
   "source": [
    "12 > \"nekin\""
   ]
  },
  {
   "cell_type": "code",
   "execution_count": null,
   "id": "2943bd94",
   "metadata": {},
   "outputs": [],
   "source": []
  },
  {
   "cell_type": "code",
   "execution_count": null,
   "id": "2aaf290b",
   "metadata": {},
   "outputs": [],
   "source": []
  },
  {
   "cell_type": "markdown",
   "id": "d0428e51",
   "metadata": {},
   "source": [
    "## Try-except statement"
   ]
  },
  {
   "cell_type": "code",
   "execution_count": 366,
   "id": "c61c5192",
   "metadata": {},
   "outputs": [
    {
     "name": "stdout",
     "output_type": "stream",
     "text": [
      "Vnesi prvo številko: asf\n",
      "Prišlo je do napake\n",
      "\n",
      "Vnesi prvo številko: 1\n",
      "Vnesi drugo številko: 2\n",
      "0.5\n",
      "\n",
      "Vnesi prvo številko: 3\n",
      "Vnesi drugo številko: 2\n",
      "1.5\n",
      "\n"
     ]
    }
   ],
   "source": [
    "for _ in range(3):\n",
    "    try:\n",
    "        x = int(input(\"Vnesi prvo številko: \"))\n",
    "        y = int(input(\"Vnesi drugo številko: \"))\n",
    "        rezultat = x / y\n",
    "        print(rezultat)\n",
    "    except:\n",
    "        print(\"Prišlo je do napake\")\n",
    "    print()"
   ]
  },
  {
   "cell_type": "code",
   "execution_count": 368,
   "id": "b019c9f4",
   "metadata": {},
   "outputs": [
    {
     "name": "stdout",
     "output_type": "stream",
     "text": [
      "Vnesi prvo številko: 1\n",
      "Vnesi drugo številko: 0\n",
      "Prišlo je do napake\n",
      "\n",
      "Vnesi prvo številko: as\n",
      "Prišlo je do napake\n",
      "\n",
      "Vnesi prvo številko: 1\n",
      "Vnesi drugo številko: 2\n",
      "0.5\n",
      "\n"
     ]
    }
   ],
   "source": [
    "def delilnik():\n",
    "    try:\n",
    "        x = int(input(\"Vnesi prvo številko: \"))\n",
    "        y = int(input(\"Vnesi drugo številko: \"))\n",
    "        rezultat = x / y\n",
    "        print(rezultat)\n",
    "    except:\n",
    "        print(\"Prišlo je do napake\")\n",
    "    \n",
    "for _ in range(3):\n",
    "    delilnik()\n",
    "    print()"
   ]
  },
  {
   "cell_type": "code",
   "execution_count": 370,
   "id": "798ce533",
   "metadata": {},
   "outputs": [
    {
     "name": "stdout",
     "output_type": "stream",
     "text": [
      "Vnesi prvo številko: ass\n",
      "Prišlo je do napake\n",
      "<class 'ValueError'>\n",
      "invalid literal for int() with base 10: 'ass'\n",
      "\n",
      "Vnesi prvo številko: 1\n",
      "Vnesi drugo številko: 0\n",
      "Prišlo je do napake\n",
      "<class 'ZeroDivisionError'>\n",
      "division by zero\n",
      "\n",
      "Vnesi prvo številko: 1\n",
      "Vnesi drugo številko: 2\n",
      "0.5\n",
      "\n"
     ]
    }
   ],
   "source": [
    "def delilnik():\n",
    "    x = int(input(\"Vnesi prvo številko: \"))\n",
    "    y = int(input(\"Vnesi drugo številko: \"))\n",
    "    rezultat = x / y\n",
    "    print(rezultat)\n",
    "    \n",
    "for _ in range(3):\n",
    "    try:\n",
    "        delilnik()\n",
    "    except Exception as e:\n",
    "        print(\"Prišlo je do napake\")\n",
    "        print(type(e))\n",
    "        print(e)\n",
    "    print()"
   ]
  },
  {
   "cell_type": "code",
   "execution_count": 373,
   "id": "b431f0a5",
   "metadata": {},
   "outputs": [
    {
     "name": "stdout",
     "output_type": "stream",
     "text": [
      "Vnesi prvo številko: a\n",
      "Zmerja prestreže\n",
      "<class 'ValueError'>\n",
      "invalid literal for int() with base 10: 'a'\n",
      "\n",
      "Vnesi prvo številko: 1\n",
      "Vnesi drugo številko: 0\n",
      "Zmerja prestreže\n",
      "<class 'ZeroDivisionError'>\n",
      "division by zero\n",
      "\n",
      "Vnesi prvo številko: 1\n",
      "Vnesi drugo številko: 2\n",
      "0.5\n",
      "\n"
     ]
    }
   ],
   "source": [
    "def delilnik():\n",
    "    x = int(input(\"Vnesi prvo številko: \"))\n",
    "    y = int(input(\"Vnesi drugo številko: \"))\n",
    "    rezultat = x / y\n",
    "    print(rezultat)\n",
    "    \n",
    "for _ in range(3):\n",
    "    try:\n",
    "        delilnik()\n",
    "    except ValueError as e:\n",
    "        print(\"Vnos mora biti številka!\")\n",
    "        print(type(e))\n",
    "        print(e)\n",
    "    except ArithmeticError as e:\n",
    "        print(\"Druga številka ne sme biti 0!\")\n",
    "        print(type(e))\n",
    "        print(e)\n",
    "    except Exception as e:\n",
    "        print(\"Zmerja prestreže\")\n",
    "        print(type(e))\n",
    "        print(e)\n",
    "    print()"
   ]
  },
  {
   "cell_type": "code",
   "execution_count": 377,
   "id": "cf4b156d",
   "metadata": {},
   "outputs": [
    {
     "name": "stdout",
     "output_type": "stream",
     "text": [
      "Vnesi pozitivno številko: -2\n",
      "Value Error\n",
      "Številka mora biti pozitivna!\n"
     ]
    }
   ],
   "source": [
    "try:\n",
    "    x = int(input(\"Vnesi pozitivno številko: \"))\n",
    "    if x < 0:\n",
    "        raise ValueError(\"Številka mora biti pozitivna!\")\n",
    "except ValueError as e:\n",
    "    print(\"Value Error\")\n",
    "    print(e)"
   ]
  },
  {
   "cell_type": "code",
   "execution_count": null,
   "id": "200d72a6",
   "metadata": {},
   "outputs": [],
   "source": []
  },
  {
   "cell_type": "code",
   "execution_count": 379,
   "id": "8bb4c96a",
   "metadata": {},
   "outputs": [
    {
     "name": "stdout",
     "output_type": "stream",
     "text": [
      "Vnesi številko: add\n",
      "Prišlo je do napake\n",
      "Nadaljevanje programa\n"
     ]
    }
   ],
   "source": [
    "try:\n",
    "    x = int(input(\"Vnesi številko: \"))\n",
    "except:\n",
    "    print(\"Prišlo je do napake\")\n",
    "else:\n",
    "    print(\"else statement\")\n",
    "print(\"Nadaljevanje programa\")"
   ]
  },
  {
   "cell_type": "code",
   "execution_count": 382,
   "id": "6543982a",
   "metadata": {},
   "outputs": [
    {
     "name": "stdout",
     "output_type": "stream",
     "text": [
      "Vnesi številko: 0\n",
      "Finally!\n"
     ]
    },
    {
     "ename": "ZeroDivisionError",
     "evalue": "division by zero",
     "output_type": "error",
     "traceback": [
      "\u001b[0;31m---------------------------------------------------------------------------\u001b[0m",
      "\u001b[0;31mZeroDivisionError\u001b[0m                         Traceback (most recent call last)",
      "Input \u001b[0;32mIn [382]\u001b[0m, in \u001b[0;36m<cell line: 1>\u001b[0;34m()\u001b[0m\n\u001b[1;32m      1\u001b[0m \u001b[38;5;28;01mtry\u001b[39;00m:\n\u001b[1;32m      2\u001b[0m     x \u001b[38;5;241m=\u001b[39m \u001b[38;5;28mint\u001b[39m(\u001b[38;5;28minput\u001b[39m(\u001b[38;5;124m\"\u001b[39m\u001b[38;5;124mVnesi številko: \u001b[39m\u001b[38;5;124m\"\u001b[39m))\n\u001b[0;32m----> 3\u001b[0m     \u001b[38;5;241;43m1\u001b[39;49m\u001b[43m \u001b[49m\u001b[38;5;241;43m/\u001b[39;49m\u001b[43m \u001b[49m\u001b[43mx\u001b[49m\n\u001b[1;32m      4\u001b[0m \u001b[38;5;28;01mexcept\u001b[39;00m \u001b[38;5;167;01mValueError\u001b[39;00m:\n\u001b[1;32m      5\u001b[0m     \u001b[38;5;28mprint\u001b[39m(\u001b[38;5;124m\"\u001b[39m\u001b[38;5;124mPrišlo je do napake\u001b[39m\u001b[38;5;124m\"\u001b[39m)\n",
      "\u001b[0;31mZeroDivisionError\u001b[0m: division by zero"
     ]
    }
   ],
   "source": [
    "try:\n",
    "    x = int(input(\"Vnesi številko: \"))\n",
    "    1 / x\n",
    "except ValueError:\n",
    "    print(\"Prišlo je do napake\")\n",
    "else:\n",
    "    print(\"Ni prišlo do napake\")\n",
    "finally:\n",
    "    print(\"Finally!\")\n",
    "    \n",
    "print(\"Nadaljevanje programa\")"
   ]
  },
  {
   "cell_type": "code",
   "execution_count": null,
   "id": "9a8b667c",
   "metadata": {},
   "outputs": [],
   "source": []
  },
  {
   "cell_type": "code",
   "execution_count": null,
   "id": "2c2fb951",
   "metadata": {},
   "outputs": [],
   "source": []
  },
  {
   "cell_type": "code",
   "execution_count": null,
   "id": "b6bd3f40",
   "metadata": {},
   "outputs": [],
   "source": []
  }
 ],
 "metadata": {
  "kernelspec": {
   "display_name": "Python 3 (ipykernel)",
   "language": "python",
   "name": "python3"
  },
  "language_info": {
   "codemirror_mode": {
    "name": "ipython",
    "version": 3
   },
   "file_extension": ".py",
   "mimetype": "text/x-python",
   "name": "python",
   "nbconvert_exporter": "python",
   "pygments_lexer": "ipython3",
   "version": "3.10.4"
  }
 },
 "nbformat": 4,
 "nbformat_minor": 5
}
