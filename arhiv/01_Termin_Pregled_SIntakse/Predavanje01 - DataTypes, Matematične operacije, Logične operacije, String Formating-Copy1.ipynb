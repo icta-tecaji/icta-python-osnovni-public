{
 "cells": [
  {
   "cell_type": "markdown",
   "metadata": {},
   "source": [
    "# Programiranje\n"
   ]
  },
  {
   "cell_type": "markdown",
   "metadata": {},
   "source": [
    "<div class=\"alert alert-block alert-info\">\n",
    "<b>Naloga: </b> \n",
    "5x zapored izpiši neko številko\n",
    "</div>"
   ]
  },
  {
   "cell_type": "markdown",
   "metadata": {},
   "source": [
    "Za izpis nečesa se uporablja beseda \n",
    "```python \n",
    "print() \n",
    "```"
   ]
  },
  {
   "cell_type": "code",
   "execution_count": 1,
   "metadata": {},
   "outputs": [
    {
     "name": "stdout",
     "output_type": "stream",
     "text": [
      "10\n"
     ]
    }
   ],
   "source": [
    "print(10)"
   ]
  },
  {
   "cell_type": "markdown",
   "metadata": {},
   "source": [
    "Če je naprimer naša naloga 5x izpisati številko 1.\n",
    "\n",
    "To bi lahko napisal na sledeč način:"
   ]
  },
  {
   "cell_type": "code",
   "execution_count": 2,
   "metadata": {},
   "outputs": [
    {
     "name": "stdout",
     "output_type": "stream",
     "text": [
      "1\n",
      "1\n",
      "1\n",
      "1\n",
      "1\n"
     ]
    }
   ],
   "source": [
    "print(1)\n",
    "print(1)\n",
    "print(1)\n",
    "print(1)\n",
    "print(1)"
   ]
  },
  {
   "cell_type": "markdown",
   "metadata": {},
   "source": [
    "Tekom programiranja se odločmo, da hočmo namesto številke 1 izpisat številko 3.\n",
    "\n",
    "In zdej gremo v vsako vrstico in zamenjamo 1 z 3."
   ]
  },
  {
   "cell_type": "code",
   "execution_count": 3,
   "metadata": {},
   "outputs": [
    {
     "name": "stdout",
     "output_type": "stream",
     "text": [
      "3\n",
      "3\n",
      "3\n",
      "3\n",
      "3\n"
     ]
    }
   ],
   "source": [
    "print(3)\n",
    "print(3)\n",
    "print(3)\n",
    "print(3)\n",
    "print(3)"
   ]
  },
  {
   "cell_type": "markdown",
   "metadata": {},
   "source": [
    "Če bi bil naš program, da moramo neko številko izpisat 1000x bi potem na roke moral popravljat vsako 1ko v 3ko. Kar pa je zamudno in lahko povzroči veliko število človeških napak (ponesreč izpustimo 1 vrstico, itd..)"
   ]
  },
  {
   "cell_type": "markdown",
   "metadata": {},
   "source": [
    "Dosti lažje bi bilo, če bi mi lahko na začetku računalniko povedal, naj si shrani številko katero hočemo izpisat. Potem pa jo računalnik izpiše 100x.\n",
    "\n",
    "To lahko dosežemo s pomočjo spremeljivk."
   ]
  },
  {
   "cell_type": "code",
   "execution_count": null,
   "metadata": {},
   "outputs": [],
   "source": []
  },
  {
   "cell_type": "markdown",
   "metadata": {},
   "source": [
    "# Spremenljivke\n",
    "\n",
    "Spremenljivka je kot neka beseda v katero shranimo vrednost in do te vrednosti dostopamo kasneje v kodi.\n",
    "\n",
    "```python\n",
    "x = 2\n",
    "```\n",
    "Beri: **Vrednost 2 shrani v spremenljivko z imenom x.**\n",
    "\n",
    "Oziroma bolj natančno: **Ovrednoti kar je na desni strani enačaja in to shrani v levo stran enačaja**\n",
    "\n",
    "Spremenljivke nam omogočajo shranjevanje vrednosti in lepšo kontrolo nad kodo."
   ]
  },
  {
   "cell_type": "markdown",
   "metadata": {},
   "source": [
    "Napišimo naš primer z uporabo spremenljivke."
   ]
  },
  {
   "cell_type": "code",
   "execution_count": 5,
   "metadata": {},
   "outputs": [
    {
     "name": "stdout",
     "output_type": "stream",
     "text": [
      "3\n",
      "3\n",
      "3\n",
      "3\n",
      "3\n"
     ]
    }
   ],
   "source": [
    "x = 3 # definiramo našo spremenljivko in vanjo shranimo našo vrednost, katero želimo izpisati 5x\n",
    "print(x)\n",
    "print(x)\n",
    "print(x)\n",
    "print(x)\n",
    "print(x)"
   ]
  },
  {
   "cell_type": "markdown",
   "metadata": {},
   "source": [
    "Če sedaj hočemo, da se namesto številke 3 izpiše številka 12 lahko enostavno popravimo 1 vrstico."
   ]
  },
  {
   "cell_type": "code",
   "execution_count": 6,
   "metadata": {},
   "outputs": [
    {
     "name": "stdout",
     "output_type": "stream",
     "text": [
      "12\n",
      "12\n",
      "12\n",
      "12\n",
      "12\n"
     ]
    }
   ],
   "source": [
    "x = 12\n",
    "print(x)\n",
    "print(x)\n",
    "print(x)\n",
    "print(x)\n",
    "print(x)"
   ]
  },
  {
   "cell_type": "markdown",
   "metadata": {},
   "source": [
    "Da je koda lažje berljiva, tudi po tem, ko nekdo drug bere za tabo, obstaja nek skupek priporočil kako naj bo koda zapisana ([PEP8](https://www.python.org/dev/peps/pep-0008/?)).\n",
    "Not recmo piše, da nej se spremenljivke poimenuje z uporabo snake_case (vse je z malimi začetnicai, besede ločimo z podčrtajem)\n",
    "\n",
    "Pri imenu spremenljivk je tudi treba paziti, saj so case-sensitive."
   ]
  },
  {
   "cell_type": "code",
   "execution_count": 7,
   "metadata": {},
   "outputs": [
    {
     "name": "stdout",
     "output_type": "stream",
     "text": [
      "1\n",
      "2\n"
     ]
    }
   ],
   "source": [
    "x = 1\n",
    "X = 2\n",
    "print(x)\n",
    "print(X)"
   ]
  },
  {
   "cell_type": "markdown",
   "metadata": {},
   "source": [
    "Prav tako spremenljivk ne moremo poimenovati s posebnimi imeni (\"keywords\") katere Python že uporablja (False, None,...)."
   ]
  },
  {
   "cell_type": "code",
   "execution_count": 8,
   "metadata": {},
   "outputs": [
    {
     "ename": "SyntaxError",
     "evalue": "can't assign to keyword (<ipython-input-8-1950c547d36b>, line 1)",
     "output_type": "error",
     "traceback": [
      "\u001b[1;36m  File \u001b[1;32m\"<ipython-input-8-1950c547d36b>\"\u001b[1;36m, line \u001b[1;32m1\u001b[0m\n\u001b[1;33m    False = 1\u001b[0m\n\u001b[1;37m             ^\u001b[0m\n\u001b[1;31mSyntaxError\u001b[0m\u001b[1;31m:\u001b[0m can't assign to keyword\n"
     ]
    }
   ],
   "source": [
    "False = 1"
   ]
  },
  {
   "cell_type": "markdown",
   "metadata": {},
   "source": [
    "V Pythonu so spremenljivke **dinamične**. To pomeni, da nam ni potrebno izrecno povedati računalniku kakšnega tipa je spremenljivka.\n",
    "\n",
    "Da vidimo kakšnega tipa je spremenljivka, uporabimo besedo:\n",
    "```python\n",
    "type()\n",
    "```"
   ]
  },
  {
   "cell_type": "code",
   "execution_count": null,
   "metadata": {},
   "outputs": [],
   "source": []
  },
  {
   "cell_type": "code",
   "execution_count": null,
   "metadata": {},
   "outputs": [],
   "source": [
    "x = 1\n",
    "y = 2\n",
    "rezultat = x + y\n",
    "print(\"Sešteli smo \", x, \"in \", y)\n",
    "print(\"Rezultat je: \", rezultat)"
   ]
  },
  {
   "cell_type": "code",
   "execution_count": null,
   "metadata": {},
   "outputs": [],
   "source": []
  },
  {
   "cell_type": "code",
   "execution_count": null,
   "metadata": {},
   "outputs": [],
   "source": []
  },
  {
   "cell_type": "code",
   "execution_count": 1,
   "metadata": {},
   "outputs": [
    {
     "name": "stdout",
     "output_type": "stream",
     "text": [
      "1\n",
      "<class 'int'>\n",
      "------------\n",
      "1.2\n",
      "<class 'float'>\n"
     ]
    }
   ],
   "source": [
    "x = 1\n",
    "print(x)\n",
    "print(type(x)) # type(x) nam pove kakšnega tipa je spremenljivka x\n",
    "\n",
    "print(\"------------\")\n",
    "\n",
    "x = 1.2\n",
    "print(x)\n",
    "print(type(x))"
   ]
  },
  {
   "cell_type": "markdown",
   "metadata": {},
   "source": [
    "Poznamo več različnih tipov spremenljivk, različnih vrednosti katere lahko shranimo:\n"
   ]
  },
  {
   "cell_type": "markdown",
   "metadata": {},
   "source": [
    "\n",
    "# Integer (celo število) - int\n",
    "\n",
    "V Python3 ni maximalne velikosti integerja. Številka je lahko velika kolikor želimo. Omejeni smo samo z našim pomnilnikom."
   ]
  },
  {
   "cell_type": "code",
   "execution_count": 3,
   "metadata": {},
   "outputs": [
    {
     "name": "stdout",
     "output_type": "stream",
     "text": [
      "5\n",
      "<class 'int'>\n"
     ]
    }
   ],
   "source": [
    "x = 5\n",
    "print(x)\n",
    "print(type(x))"
   ]
  },
  {
   "cell_type": "code",
   "execution_count": 4,
   "metadata": {},
   "outputs": [
    {
     "name": "stdout",
     "output_type": "stream",
     "text": [
      "1267650600228229401496703205376\n",
      "<class 'int'>\n"
     ]
    }
   ],
   "source": [
    "x = 1267650600228229401496703205376 # Tole je 2^100 , v Javi je omejitev men se zdi da 2^31 -1 \n",
    "print(x)\n",
    "print(type(x))"
   ]
  },
  {
   "cell_type": "markdown",
   "metadata": {},
   "source": [
    "# Floating-point (decimalno število) - float\n",
    "\n",
    "Float predstavlja decimalno ševilo (število s plavajočo vecijo).\n",
    "\n",
    "Treba je pazit saj te številke niso popolnoma natančne ampak le aproksimacije (te aproksimacije se vidjo šele pri n-ti decimalki).\n",
    "\n",
    "> Almost all platforms represent Python float values as 64-bit “double-precision” values, according to the IEEE 754 standard. In that case, the maximum value a floating-point number can have is approximately 1.8 ⨉ 10^^308.\n",
    "\n",
    "> The closest a nonzero number can be to zero is approximately 5.0 ⨉ 10-324. Anything closer to zero than that is effectively zero:\n",
    "\n",
    "> Floating point numbers are represented internally as binary (base-2) fractions. Most decimal fractions cannot be represented exactly as binary fractions, so in most cases the internal representation of a floating-point number is an approximation of the actual value. In practice, the difference between the actual value and the represented value is very small and should not usually cause significant problems."
   ]
  },
  {
   "cell_type": "code",
   "execution_count": 5,
   "metadata": {},
   "outputs": [
    {
     "name": "stdout",
     "output_type": "stream",
     "text": [
      "5.43\n",
      "<class 'float'>\n"
     ]
    }
   ],
   "source": [
    "x = 5.43\n",
    "print(x)\n",
    "print(type(x))"
   ]
  },
  {
   "cell_type": "markdown",
   "metadata": {},
   "source": [
    "# Complex numbers (kompleksna števila) - complex\n",
    "\n",
    "Nam predstavlja kompleksna števila. Števila, ki so sestavljena iz realnega in imaginarnega dela."
   ]
  },
  {
   "cell_type": "code",
   "execution_count": 6,
   "metadata": {},
   "outputs": [
    {
     "name": "stdout",
     "output_type": "stream",
     "text": [
      "(2+3j)\n",
      "<class 'complex'>\n"
     ]
    }
   ],
   "source": [
    "x = 2 + 3j\n",
    "print(x)\n",
    "print(type(x))"
   ]
  },
  {
   "cell_type": "markdown",
   "metadata": {},
   "source": [
    "# Boolean (True or False) - bool\n",
    "\n",
    "Boolean spremenljivka lahko zavzeme samo 2 vrednosti. Ali True ali False."
   ]
  },
  {
   "cell_type": "code",
   "execution_count": 8,
   "metadata": {},
   "outputs": [
    {
     "name": "stdout",
     "output_type": "stream",
     "text": [
      "True\n",
      "<class 'bool'>\n",
      "-------\n",
      "False\n",
      "<class 'bool'>\n"
     ]
    }
   ],
   "source": [
    "x = True\n",
    "print(x)\n",
    "print(type(x))\n",
    "\n",
    "print(\"-------\")\n",
    "\n",
    "x = False\n",
    "print(x)\n",
    "print(type(x))"
   ]
  },
  {
   "cell_type": "markdown",
   "metadata": {},
   "source": [
    "Tudi, če spremenljivka sama po sebi ni True ali False, se jo še vedno lahko pretvorivmo v tip bool.\n",
    "Tako lahko vidimo, da so naslednje vrednosti False:\n",
    "* Boolean False\n",
    "* numerična vrednost 0 (0, 0.0, 0+0j...)\n",
    "* Empty string\n",
    "* Keyword None\n",
    "* Empty object (kot je prazen list, prazna terka...)\n",
    "\n",
    "Vse ostalo je True."
   ]
  },
  {
   "cell_type": "markdown",
   "metadata": {},
   "source": [
    "Da pretvorivmo neko spremenljivko v boolean tip, uporabimo besedo:\n",
    "```python\n",
    "bool(spemenljivka)\n",
    "```"
   ]
  },
  {
   "cell_type": "code",
   "execution_count": 40,
   "metadata": {},
   "outputs": [
    {
     "name": "stdout",
     "output_type": "stream",
     "text": [
      "False\n",
      "False\n",
      "False\n",
      "False\n",
      "False\n",
      "********\n",
      "True\n",
      "True\n",
      "True\n",
      "True\n"
     ]
    }
   ],
   "source": [
    "print(bool(False)) # bool(x) pretvor vrednost x v boolean (al true al false)\n",
    "print(bool(0))\n",
    "print(bool(\"\"))\n",
    "print(bool(None))\n",
    "print(bool([]))\n",
    "print(\"********\")\n",
    "print(bool(True))\n",
    "print(bool(1))\n",
    "print(bool(\"abc\"))\n",
    "print(bool([1,2]))"
   ]
  },
  {
   "cell_type": "markdown",
   "metadata": {},
   "source": [
    "Na podoben način lahko spreminjamo spremenljivke v ostale tipe:\n",
    "```python\n",
    "int(spremenljivka),\n",
    "str(spremenljivka),\n",
    "complex(spremenljivka)\n",
    "```"
   ]
  },
  {
   "cell_type": "markdown",
   "metadata": {},
   "source": [
    "# String (stavek) - str\n",
    "\n",
    "Stringi so zaporedja črk.\n",
    "Začnejo in končajo se z dvojnim (\") ali enojnim (') narekovajem.\n",
    "\n",
    "Vsebuje lahko neomejeno število črk. Edina omejitev je naš pomnilnik.\n",
    "\n",
    "Lahko je tudi prazen stavek."
   ]
  },
  {
   "cell_type": "code",
   "execution_count": 13,
   "metadata": {},
   "outputs": [
    {
     "name": "stdout",
     "output_type": "stream",
     "text": [
      "Stavek\n",
      "<class 'str'>\n"
     ]
    }
   ],
   "source": [
    "x = \"Stavek\" # navaden string z dvojnim narekovajem \"\"\n",
    "print(x)\n",
    "print(type(x))"
   ]
  },
  {
   "cell_type": "code",
   "execution_count": 15,
   "metadata": {},
   "outputs": [
    {
     "name": "stdout",
     "output_type": "stream",
     "text": [
      "String\n",
      "<class 'str'>\n"
     ]
    }
   ],
   "source": [
    "x = 'String' # navaden string z enojnim narekovajem ''\n",
    "print(x)\n",
    "print(type(x))"
   ]
  },
  {
   "cell_type": "code",
   "execution_count": 16,
   "metadata": {},
   "outputs": [
    {
     "name": "stdout",
     "output_type": "stream",
     "text": [
      "\n",
      "<class 'str'>\n"
     ]
    }
   ],
   "source": [
    "x = \"\" # prazen string\n",
    "print(x)\n",
    "print(type(x))"
   ]
  },
  {
   "cell_type": "markdown",
   "metadata": {},
   "source": [
    "Če želimo v našem stringu uporabiti narekovaje naredimo to tako:"
   ]
  },
  {
   "cell_type": "code",
   "execution_count": 17,
   "metadata": {},
   "outputs": [
    {
     "name": "stdout",
     "output_type": "stream",
     "text": [
      "String with (')\n",
      "String with (\")\n"
     ]
    }
   ],
   "source": [
    "x = \"String with (')\"\n",
    "y = 'String with (\")'\n",
    "print(x)\n",
    "print(y)"
   ]
  },
  {
   "cell_type": "markdown",
   "metadata": {},
   "source": [
    "Večina črk ima samo 1, primarni pomen. In to je dejanska črka. **A** pomeni **A**, **e** pomeni **e**, itd.\n",
    "\n",
    "Določene črke pa imajo tudi sekundarni pomen. Če pred črko vstavimo *backslash* ( \\\\ ) s tem povemo Pythonu, naj uporabi njen sekundarni pomen.\n",
    "* **n** primarni pomen je črka n. Njen sekundarni pomen ( **\\\\n** ) pomeni \"premik v novo vrstico\".\n",
    "* **t** primarni pomen je črka t. Njen sekundarni pomen ( **\\\\t** ) pomeni \"tabulator\".\n",
    "* **\\\\** primerni pomen je sporočilo Pythonu naj uporabi sekundarni pomen črke. Njen sekundarni pomen ( **\\\\\\\\** ) pomeni črka \\\\ (backslash)"
   ]
  },
  {
   "cell_type": "code",
   "execution_count": 19,
   "metadata": {},
   "outputs": [
    {
     "name": "stdout",
     "output_type": "stream",
     "text": [
      "String with (\")\n",
      "----------\n",
      "String \n",
      "String\n"
     ]
    }
   ],
   "source": [
    "x = \"String with (\\\")\"\n",
    "print(x) # ponavadi bi python prebral drugi \" kot konec stringa\n",
    "\n",
    "print(\"----------\")\n",
    "\n",
    "x = \"String \\nString\"\n",
    "print(x) # ponavadi bi python prebral n kot n. Ampak z \\ ga ne prebere tko kot ponavadi ampak vzeme njegov drug pomen"
   ]
  },
  {
   "cell_type": "markdown",
   "metadata": {},
   "source": [
    "Obstaja tudi možnost večvrstičnega izpisa."
   ]
  },
  {
   "cell_type": "code",
   "execution_count": 20,
   "metadata": {},
   "outputs": [
    {
     "name": "stdout",
     "output_type": "stream",
     "text": [
      "\n",
      "To je primer večvrstičnega izpisa.\n",
      "Vrstica 1\n",
      "Vrstica 2 \n"
     ]
    }
   ],
   "source": [
    "print('''\n",
    "To je primer večvrstičnega izpisa.\n",
    "Vrstica 1\n",
    "Vrstica 2 ''')"
   ]
  },
  {
   "cell_type": "markdown",
   "metadata": {},
   "source": [
    "# Input() funkcija\n",
    "\n",
    "S pomočjo te funkcije lahko uporabnika vprašamo za nek input."
   ]
  },
  {
   "cell_type": "code",
   "execution_count": 54,
   "metadata": {},
   "outputs": [
    {
     "name": "stdout",
     "output_type": "stream",
     "text": [
      "Enter your age: 12\n",
      "You have lived for 12 years.\n"
     ]
    }
   ],
   "source": [
    "#Calculating months\n",
    "age = input('Enter your age: ')  # Enter 3\n",
    "print('You have lived for', age, \"years.\")"
   ]
  },
  {
   "cell_type": "markdown",
   "metadata": {},
   "source": [
    "Potrebno je paziti, ker nam input vrne vrednost datatipa **string**."
   ]
  },
  {
   "cell_type": "code",
   "execution_count": 55,
   "metadata": {},
   "outputs": [
    {
     "name": "stdout",
     "output_type": "stream",
     "text": [
      "Enter your age: 12\n",
      "<class 'str'>\n",
      "12\n"
     ]
    }
   ],
   "source": [
    "age = input(\"Enter your age: \")\n",
    "print(type(age))\n",
    "print(age)"
   ]
  },
  {
   "cell_type": "markdown",
   "metadata": {},
   "source": [
    "# Vaje"
   ]
  },
  {
   "cell_type": "markdown",
   "metadata": {},
   "source": [
    "## Vaja 01\n",
    "\n",
    "<div class=\"alert alert-block alert-info\">\n",
    "<b>Naloga: </b> \n",
    "S funkcijo print() in type() izpišite po eno spremenljivko tipa boolean, integer, float, complex in string.\n",
    "</div>"
   ]
  },
  {
   "cell_type": "code",
   "execution_count": 56,
   "metadata": {},
   "outputs": [
    {
     "name": "stdout",
     "output_type": "stream",
     "text": [
      "<class 'bool'>\n",
      "True\n",
      "\n",
      "<class 'int'>\n",
      "2\n",
      "\n",
      "<class 'float'>\n",
      "3.4\n",
      "\n",
      "<class 'complex'>\n",
      "(1+9j)\n",
      "\n",
      "<class 'str'>\n",
      "neki\n",
      "\n"
     ]
    }
   ],
   "source": [
    "a = True\n",
    "b = 2\n",
    "c = 3.4\n",
    "d = 1 +9j\n",
    "e = \"neki\"\n",
    "\n",
    "print(type(a))\n",
    "print(a)\n",
    "print()\n",
    "\n",
    "print(type(b))\n",
    "print(b)\n",
    "print()\n",
    "\n",
    "print(type(c))\n",
    "print(c)\n",
    "print()\n",
    "\n",
    "print(type(d))\n",
    "print(d)\n",
    "print()\n",
    "\n",
    "print(type(e))\n",
    "print(e)\n",
    "print()"
   ]
  },
  {
   "cell_type": "markdown",
   "metadata": {},
   "source": [
    "## Vaja 02\n",
    "\n",
    "\n",
    "<div class=\"alert alert-block alert-info\">\n",
    "<b>Naloga: </b> \n",
    "V neko spremenljivko shranite poljubno float vrednost. Izpišite spremenljivko in njen tip.\n",
    "\n",
    "To spremenljivko pretvorite v boolan vrednost in to vrednost shranite v novo spremenljivko. Izpišite novo spremenljivko in njen tip.\n",
    "</div>"
   ]
  },
  {
   "cell_type": "code",
   "execution_count": 21,
   "metadata": {},
   "outputs": [
    {
     "name": "stdout",
     "output_type": "stream",
     "text": [
      "<class 'float'>\n",
      "1.2\n",
      "\n",
      "<class 'bool'>\n",
      "True\n",
      "\n"
     ]
    }
   ],
   "source": [
    "x = 1.2\n",
    "print(type(x))\n",
    "print(x)\n",
    "print()\n",
    "\n",
    "y = bool(y)\n",
    "print(type(y))\n",
    "print(y)\n",
    "print()"
   ]
  },
  {
   "cell_type": "markdown",
   "metadata": {},
   "source": [
    "## Vaja 03\n",
    "\n",
    "\n",
    "<div class=\"alert alert-block alert-info\">\n",
    "<b>Naloga: </b> \n",
    "Uporabnika zaprosite naj vnese neko celo število.\n",
    "\n",
    "To vrednost shranite v spremenljivko z imenom **n** in jo izpišite in izpišite njen tip.\n",
    "\n",
    "Nato to vrednost pretvorite v float vrednost. Dobljeno float vrednost shranite v spremenljivko **n**. Nato **n** izpišite in izpišite njen tip.\n",
    "</div>\n"
   ]
  },
  {
   "cell_type": "code",
   "execution_count": 22,
   "metadata": {},
   "outputs": [
    {
     "name": "stdout",
     "output_type": "stream",
     "text": [
      "Vnesite celo število: 3\n",
      "<class 'str'>\n",
      "3\n",
      "\n",
      "<class 'float'>\n",
      "3.0\n"
     ]
    }
   ],
   "source": [
    "n = input(\"Vnesite celo število: \")\n",
    "\n",
    "print(type(n))\n",
    "print(n)\n",
    "print()\n",
    "\n",
    "\n",
    "n = float(n)\n",
    "print(type(n))\n",
    "print(n)"
   ]
  },
  {
   "cell_type": "markdown",
   "metadata": {},
   "source": [
    "## Izpisovanje in formating\n"
   ]
  },
  {
   "cell_type": "code",
   "execution_count": 60,
   "metadata": {},
   "outputs": [
    {
     "name": "stdout",
     "output_type": "stream",
     "text": [
      "Hello World\n"
     ]
    }
   ],
   "source": [
    "print(\"Hello World\")"
   ]
  },
  {
   "cell_type": "markdown",
   "metadata": {},
   "source": [
    "S prihodom Python3.6 verzije se stringe izpisuje s pomočjo f-string\n",
    "\n",
    "```python\n",
    "f'Besedilo {spremenljivka1:format1}, besedilo naprej{spremenljivka2:format2}, besedilo naprej....'\n",
    "```\n",
    "\n",
    "[Dokumentacija f-string](https://docs.python.org/3.6/library/string.html#formatspec)"
   ]
  },
  {
   "cell_type": "code",
   "execution_count": 61,
   "metadata": {},
   "outputs": [
    {
     "name": "stdout",
     "output_type": "stream",
     "text": [
      "Anže je 10 let star\n"
     ]
    }
   ],
   "source": [
    "ime = \"Anže\"\n",
    "starost = 10\n",
    "print(f'{ime} je {starost} let star')"
   ]
  },
  {
   "cell_type": "markdown",
   "metadata": {},
   "source": [
    "Še primer kako lahko oblikujemo naš format izpisa."
   ]
  },
  {
   "cell_type": "code",
   "execution_count": 62,
   "metadata": {},
   "outputs": [
    {
     "name": "stdout",
     "output_type": "stream",
     "text": [
      "---Anže--- je ****10.000 let star, oziroma 1.200000e+02 mesecev.\n"
     ]
    }
   ],
   "source": [
    "ime = \"Anže\"\n",
    "starost = 10\n",
    "print(f'{ime:-^10} je {starost:*>10.3f} let star, oziroma {starost*12:e} mesecev.')\n",
    "# {ime:-^10} ime -> spremenljivka, \"-\" -> znak s katerim zapolni mesta, \"^\" -> naj bo sredinska poravnava, 10 -> 10 znakov\n",
    "# {starost:*>10.3f} starost -> ime spremenljivke, \"*\" -> znak s katerim zapolni mesta, \">\" -> poravnava desno, \"10\" -> 10 znakov za zapis, \".3\" -> naj ima 3 decimalna mesta, \"f\" -> naj bo to float \n",
    "# {starost*12:e} starost*12 -> spremenljivka ki jo želimo izpisat, \"e\" -> naj bo stvar izpisana kot eksponenet (100 -> 1.00e2 ->)"
   ]
  },
  {
   "cell_type": "markdown",
   "metadata": {},
   "source": [
    "Pred tem, s prihdom Python2.6, se je uporabljalo\n",
    "```python\n",
    "str.format()\n",
    "```"
   ]
  },
  {
   "cell_type": "code",
   "execution_count": 63,
   "metadata": {},
   "outputs": [
    {
     "name": "stdout",
     "output_type": "stream",
     "text": [
      "Živjo Anže. Star si 10 let.\n"
     ]
    }
   ],
   "source": [
    "ime = \"Anže\"\n",
    "starost = 10\n",
    "print(\"Živjo {}. Star si {} let.\".format(ime, starost))"
   ]
  },
  {
   "cell_type": "markdown",
   "metadata": {},
   "source": [
    ".format() je počasnejši od f' ' stavka"
   ]
  },
  {
   "cell_type": "markdown",
   "metadata": {},
   "source": [
    "Še pred tem se je uporabljalo\n",
    "```python\n",
    "%-formating\n",
    "```"
   ]
  },
  {
   "cell_type": "code",
   "execution_count": 1,
   "metadata": {},
   "outputs": [
    {
     "name": "stdout",
     "output_type": "stream",
     "text": [
      "Živjo Anže. Star si 10 let.\n"
     ]
    }
   ],
   "source": [
    "name = \"Anže\"\n",
    "age = 10\n",
    "print(\"Živjo %s. Star si %s let.\" % (name, age))"
   ]
  },
  {
   "cell_type": "markdown",
   "metadata": {},
   "source": [
    "Ta način je najpočasnejši. Pri veliki količini spremenljivk hitro postane nepregleden. Lahko vodi do napak, kot so nepravilno prikazovanje touples in dictionaries."
   ]
  },
  {
   "cell_type": "markdown",
   "metadata": {},
   "source": [
    "## String operacije"
   ]
  },
  {
   "cell_type": "markdown",
   "metadata": {},
   "source": [
    "Nad string-i lahko izvajamo tudi različne operacije."
   ]
  },
  {
   "cell_type": "markdown",
   "metadata": {},
   "source": [
    "Vse črke stringa lahko pretvorimo v male črke, oziroma velike črke."
   ]
  },
  {
   "cell_type": "code",
   "execution_count": 2,
   "metadata": {},
   "outputs": [
    {
     "name": "stdout",
     "output_type": "stream",
     "text": [
      "Živjo Anže. Star si 10 let.\n",
      "živjo anže. star si 10 let.\n"
     ]
    }
   ],
   "source": [
    "my_str = \"Živjo Anže. Star si 10 let.\"\n",
    "print(my_str) # not modified\n",
    "\n",
    "print(my_str.lower())"
   ]
  },
  {
   "cell_type": "code",
   "execution_count": 3,
   "metadata": {},
   "outputs": [
    {
     "name": "stdout",
     "output_type": "stream",
     "text": [
      "Živjo Anže. Star si 10 let.\n",
      "ŽIVJO ANŽE. STAR SI 10 LET.\n"
     ]
    }
   ],
   "source": [
    "my_str = \"Živjo Anže. Star si 10 let.\"\n",
    "print(my_str) # not modified\n",
    "\n",
    "print(my_str.upper())"
   ]
  },
  {
   "cell_type": "markdown",
   "metadata": {},
   "source": [
    "Preverimo lahko ali se naš string začne oziroma konča s poljubnim sub-string-om."
   ]
  },
  {
   "cell_type": "code",
   "execution_count": 4,
   "metadata": {},
   "outputs": [
    {
     "name": "stdout",
     "output_type": "stream",
     "text": [
      "Živjo Anže. Star si 10 let.\n",
      "True\n",
      "False\n",
      "True\n"
     ]
    }
   ],
   "source": [
    "my_str = \"Živjo Anže. Star si 10 let.\"\n",
    "print(my_str) # not modified\n",
    "\n",
    "print(my_str.startswith(\"Živjo\"))\n",
    "print(my_str.startswith(\"Zdravo\"))\n",
    "print(my_str.startswith(\"Živ\"))"
   ]
  },
  {
   "cell_type": "code",
   "execution_count": 5,
   "metadata": {},
   "outputs": [
    {
     "name": "stdout",
     "output_type": "stream",
     "text": [
      "Živjo Anže. Star si 10 let.\n",
      "False\n",
      "False\n",
      "True\n"
     ]
    }
   ],
   "source": [
    "my_str = \"Živjo Anže. Star si 10 let.\"\n",
    "print(my_str) # not modified\n",
    "\n",
    "print(my_str.endswith(\"Živjo\"))\n",
    "print(my_str.endswith(\"let\"))\n",
    "print(my_str.endswith(\"let.\"))"
   ]
  },
  {
   "cell_type": "markdown",
   "metadata": {},
   "source": [
    "Iz začetka oziroma konca našega stringa lahko odstranimo znake."
   ]
  },
  {
   "cell_type": "code",
   "execution_count": 6,
   "metadata": {},
   "outputs": [
    {
     "name": "stdout",
     "output_type": "stream",
     "text": [
      "Živjo Anže. Star si 10 let.\n",
      "Živjo Anže. Star si 10 let\n",
      " Anže. Star si 10 let.\n"
     ]
    }
   ],
   "source": [
    "my_string = \"Živjo Anže. Star si 10 let.\"\n",
    "print(my_str)\n",
    "\n",
    "print(my_str.strip(\".\"))\n",
    "print(my_str.strip(\"Živjo\"))"
   ]
  },
  {
   "cell_type": "markdown",
   "metadata": {},
   "source": [
    "Znake v stringu lahko nadomestimo s pooljubnimi znaki."
   ]
  },
  {
   "cell_type": "code",
   "execution_count": 7,
   "metadata": {},
   "outputs": [
    {
     "name": "stdout",
     "output_type": "stream",
     "text": [
      "Živjo Anže. Star si 10 let.\n",
      "Živjo-Anže.-Star-si-10-let.\n",
      "Zdravo Anže. Star si 10 let.\n"
     ]
    }
   ],
   "source": [
    "my_string = \"Živjo Anže. Star si 10 let.\"\n",
    "print(my_string)\n",
    "\n",
    "print(my_string.replace(\" \", \"-\"))\n",
    "print(my_string.replace(\"Živjo\", \"Zdravo\"))"
   ]
  },
  {
   "cell_type": "markdown",
   "metadata": {},
   "source": [
    "Različne stringe lahko med seboj združujemo (concate)"
   ]
  },
  {
   "cell_type": "code",
   "execution_count": 8,
   "metadata": {},
   "outputs": [
    {
     "name": "stdout",
     "output_type": "stream",
     "text": [
      "ŽivjoAnže\n",
      "Živjo Anže\n"
     ]
    }
   ],
   "source": [
    "str1 = \"Živjo\"\n",
    "str2 = \"Anže\"\n",
    "\n",
    "print(str1 + str2)\n",
    "print(str1 + \" \" + str2)"
   ]
  },
  {
   "cell_type": "code",
   "execution_count": null,
   "metadata": {},
   "outputs": [],
   "source": []
  },
  {
   "cell_type": "markdown",
   "metadata": {
    "collapsed": true
   },
   "source": [
    "# Matematične operacije"
   ]
  },
  {
   "cell_type": "markdown",
   "metadata": {
    "collapsed": true
   },
   "source": [
    "* \\+ seštevanje\n",
    "* \\- odštevanje\n",
    "* \\* množenje\n",
    "* / deljenje\n",
    "* // celoštevilsko deljenje\n",
    "* \\*\\* eksponent\n",
    "* % ostanek pri deljenju"
   ]
  },
  {
   "cell_type": "code",
   "execution_count": 24,
   "metadata": {},
   "outputs": [],
   "source": [
    "x = 9\n",
    "y = 4"
   ]
  },
  {
   "cell_type": "code",
   "execution_count": 25,
   "metadata": {},
   "outputs": [
    {
     "data": {
      "text/plain": [
       "13"
      ]
     },
     "execution_count": 25,
     "metadata": {},
     "output_type": "execute_result"
    }
   ],
   "source": [
    "x + y"
   ]
  },
  {
   "cell_type": "code",
   "execution_count": 26,
   "metadata": {},
   "outputs": [],
   "source": [
    "# še drugačen način seštevanja\n",
    "# x += y\n",
    "# x"
   ]
  },
  {
   "cell_type": "code",
   "execution_count": 27,
   "metadata": {},
   "outputs": [
    {
     "data": {
      "text/plain": [
       "5"
      ]
     },
     "execution_count": 27,
     "metadata": {},
     "output_type": "execute_result"
    }
   ],
   "source": [
    "x - y"
   ]
  },
  {
   "cell_type": "code",
   "execution_count": 28,
   "metadata": {},
   "outputs": [
    {
     "data": {
      "text/plain": [
       "36"
      ]
     },
     "execution_count": 28,
     "metadata": {},
     "output_type": "execute_result"
    }
   ],
   "source": [
    "x * y"
   ]
  },
  {
   "cell_type": "code",
   "execution_count": 29,
   "metadata": {},
   "outputs": [
    {
     "data": {
      "text/plain": [
       "2.25"
      ]
     },
     "execution_count": 29,
     "metadata": {},
     "output_type": "execute_result"
    }
   ],
   "source": [
    "x / y"
   ]
  },
  {
   "cell_type": "code",
   "execution_count": 30,
   "metadata": {},
   "outputs": [
    {
     "data": {
      "text/plain": [
       "2.0"
      ]
     },
     "execution_count": 30,
     "metadata": {},
     "output_type": "execute_result"
    }
   ],
   "source": [
    "a = 6\n",
    "b = 3\n",
    "a / b # Pri navadnem deljenju je rezultat vedno float. Tud če je delenje brez ostanka."
   ]
  },
  {
   "cell_type": "code",
   "execution_count": 31,
   "metadata": {},
   "outputs": [
    {
     "data": {
      "text/plain": [
       "2"
      ]
     },
     "execution_count": 31,
     "metadata": {},
     "output_type": "execute_result"
    }
   ],
   "source": [
    "x // y # 9 / 4 = 2*4 + ostanek (ta dvojka se izpiše)"
   ]
  },
  {
   "cell_type": "code",
   "execution_count": 32,
   "metadata": {},
   "outputs": [
    {
     "data": {
      "text/plain": [
       "1"
      ]
     },
     "execution_count": 32,
     "metadata": {},
     "output_type": "execute_result"
    }
   ],
   "source": [
    "x % y # ostanek pri deljenju"
   ]
  },
  {
   "cell_type": "code",
   "execution_count": 33,
   "metadata": {},
   "outputs": [
    {
     "data": {
      "text/plain": [
       "6561"
      ]
     },
     "execution_count": 33,
     "metadata": {},
     "output_type": "execute_result"
    }
   ],
   "source": [
    "x ** y # na potenco"
   ]
  },
  {
   "cell_type": "markdown",
   "metadata": {},
   "source": [
    "## Potek operacij\n",
    "\n",
    "> Operational precedence"
   ]
  },
  {
   "cell_type": "code",
   "execution_count": 75,
   "metadata": {},
   "outputs": [
    {
     "data": {
      "text/plain": [
       "60"
      ]
     },
     "execution_count": 75,
     "metadata": {},
     "output_type": "execute_result"
    }
   ],
   "source": [
    "x = 20 + 4 * 10\n",
    "x # kaj se bo izpisal? 60 al 240"
   ]
  },
  {
   "cell_type": "markdown",
   "metadata": {},
   "source": [
    "Vsaka operacija ima določeno pomembnost.\n",
    "\n",
    "V izrazu se prvo izvedejo operacije z najvišjo pomembnostjo. Ko pridobimo te rezultate, se nato izvedejo naslednje najpomembnejše operacije in tako do konca.\n",
    "\n",
    "V primeru operacij z enako pomembnostjo se le te izvajajo od leve-proti-desni.\n",
    "\n",
    "Tabela (od najpomembnejše do najmanj)\n",
    "\n",
    "|             Operacije            |                       Opis                       |\n",
    "|:--------------------------------:|:------------------------------------------------:|\n",
    "| **                               | exponentiation                                   |\n",
    "| +x, -x, ~x                       | unary positive, unary negation, bitwise negation |\n",
    "| \\*, /, //, %                     | multiplication, division, floor division, modulo |\n",
    "| +, -                             | addition, subtraction                            |\n",
    "| <<, >>                           | bit shifts                                       |\n",
    "| &                                | bitwise AND                                      |\n",
    "| ^                                | bitwise XOR                                      |\n",
    "| \\|                               | bitwise OR                                       |\n",
    "| ==, !=, <, <=, >, >=, is, is not | comparisons, identity                            |\n",
    "| not                              | Boolean NOT                                      |\n",
    "| and                              | Boolean AND                                      |\n",
    "| or                               | Boolean OR                                       |"
   ]
  },
  {
   "cell_type": "markdown",
   "metadata": {},
   "source": [
    "Potek operacij se lahko spremeni z uporabo oklepajev ().\n",
    "\n",
    "Izrazi v okepajih se izvedejo pred izrazi, ki niso v oklepajih.\n",
    "\n",
    "Nič ni narobe s pretirano uporabo oklepajev tudi, če niso potrebni. Uporaba oklepajev velja za dobro prakso, saj izboljša berljivost kode."
   ]
  },
  {
   "cell_type": "code",
   "execution_count": 76,
   "metadata": {},
   "outputs": [
    {
     "name": "stdout",
     "output_type": "stream",
     "text": [
      "60\n",
      "240\n"
     ]
    }
   ],
   "source": [
    "x = 20 + (4 * 10) # prvo se izvede oklepaj in dobimo 20 + 40 = 60\n",
    "y = (20 + 4) * 10 # prvo se izvede oklepaj in dobimo 24 * 10 = 240\n",
    "print(x)\n",
    "print(y)"
   ]
  },
  {
   "cell_type": "markdown",
   "metadata": {},
   "source": [
    "# Primerjalne operacije"
   ]
  },
  {
   "cell_type": "markdown",
   "metadata": {},
   "source": [
    "* < manjši\n",
    "* \\> večji\n",
    "* <= manjše ali enako\n",
    "* \\>= večje ali enako\n",
    "* == enako\n",
    "* != neenako"
   ]
  },
  {
   "cell_type": "code",
   "execution_count": 77,
   "metadata": {},
   "outputs": [
    {
     "data": {
      "text/plain": [
       "True"
      ]
     },
     "execution_count": 77,
     "metadata": {},
     "output_type": "execute_result"
    }
   ],
   "source": [
    "5 < 10"
   ]
  },
  {
   "cell_type": "code",
   "execution_count": 78,
   "metadata": {},
   "outputs": [
    {
     "data": {
      "text/plain": [
       "True"
      ]
     },
     "execution_count": 78,
     "metadata": {},
     "output_type": "execute_result"
    }
   ],
   "source": [
    "10 > 5"
   ]
  },
  {
   "cell_type": "code",
   "execution_count": 79,
   "metadata": {},
   "outputs": [
    {
     "data": {
      "text/plain": [
       "False"
      ]
     },
     "execution_count": 79,
     "metadata": {},
     "output_type": "execute_result"
    }
   ],
   "source": [
    "3 <= 2"
   ]
  },
  {
   "cell_type": "code",
   "execution_count": 80,
   "metadata": {},
   "outputs": [
    {
     "data": {
      "text/plain": [
       "True"
      ]
     },
     "execution_count": 80,
     "metadata": {},
     "output_type": "execute_result"
    }
   ],
   "source": [
    "5 >= 5"
   ]
  },
  {
   "cell_type": "markdown",
   "metadata": {},
   "source": [
    "Ko primerjamo dve spremenljivki z uporabo == , primerjamo njuni vrednosti.\n"
   ]
  },
  {
   "cell_type": "code",
   "execution_count": 81,
   "metadata": {},
   "outputs": [
    {
     "data": {
      "text/plain": [
       "False"
      ]
     },
     "execution_count": 81,
     "metadata": {},
     "output_type": "execute_result"
    }
   ],
   "source": [
    "5 == 4"
   ]
  },
  {
   "cell_type": "code",
   "execution_count": 82,
   "metadata": {},
   "outputs": [
    {
     "name": "stdout",
     "output_type": "stream",
     "text": [
      "False\n",
      " x: 3.3000000000000002664535259100375697016716003417969 \n",
      " y: 3.2999999999999998223643160599749535322189331054688\n"
     ]
    }
   ],
   "source": [
    "# treba pazit pri primerjanju float vrednosti, ker na prvi decimalki je stvar še enaka, sam kaj pa na naslednjih decimalkah?\n",
    "x = 1.1000 + 2.2000\n",
    "y = 3.3000\n",
    "print(x == y)\n",
    "print(f' x: {x:.50} \\n y: {y:.50}')"
   ]
  },
  {
   "cell_type": "code",
   "execution_count": 83,
   "metadata": {},
   "outputs": [
    {
     "data": {
      "text/plain": [
       "False"
      ]
     },
     "execution_count": 83,
     "metadata": {},
     "output_type": "execute_result"
    }
   ],
   "source": [
    "4 != 4"
   ]
  },
  {
   "cell_type": "markdown",
   "metadata": {},
   "source": [
    "Primer večih primerjav v eni vrstici:"
   ]
  },
  {
   "cell_type": "code",
   "execution_count": 86,
   "metadata": {},
   "outputs": [
    {
     "data": {
      "text/plain": [
       "False"
      ]
     },
     "execution_count": 86,
     "metadata": {},
     "output_type": "execute_result"
    }
   ],
   "source": [
    "1 < 4 > 6 < 10\n",
    "# same as (1 < 4) and (4 > 6) and (6 < 10)"
   ]
  },
  {
   "cell_type": "markdown",
   "metadata": {},
   "source": [
    "# Logične operacije"
   ]
  },
  {
   "cell_type": "markdown",
   "metadata": {},
   "source": [
    "* not\n",
    "* or\n",
    "* and\n",
    "* is > Primerja identiteto\n",
    "* in > Preverja, če je vrednost znotraj primerjalne vrednosti"
   ]
  },
  {
   "cell_type": "markdown",
   "metadata": {},
   "source": [
    "**NOT**\n",
    "\n",
    "| A     \t| NOT   \t|\n",
    "|-------\t|-------\t|\n",
    "| False \t| True  \t|\n",
    "| True  \t| False \t|"
   ]
  },
  {
   "cell_type": "code",
   "execution_count": 87,
   "metadata": {},
   "outputs": [
    {
     "data": {
      "text/plain": [
       "True"
      ]
     },
     "execution_count": 87,
     "metadata": {},
     "output_type": "execute_result"
    }
   ],
   "source": [
    "x = False\n",
    "not x # obrne vrednost. Če je vrednost True jo obrne v False, če je False jo obrne v True"
   ]
  },
  {
   "cell_type": "markdown",
   "metadata": {},
   "source": [
    "**OR**\n",
    "\n",
    "| A     \t| B     \t| OR   \t|\n",
    "|-------\t|-------\t|-------\t|\n",
    "| False \t| False \t| False \t|\n",
    "| False \t| True  \t| True  \t|\n",
    "| True  \t| False \t| True  \t|\n",
    "| True  \t| True  \t| True  \t|"
   ]
  },
  {
   "cell_type": "code",
   "execution_count": 88,
   "metadata": {},
   "outputs": [
    {
     "data": {
      "text/plain": [
       "True"
      ]
     },
     "execution_count": 88,
     "metadata": {},
     "output_type": "execute_result"
    }
   ],
   "source": [
    "x = True\n",
    "y = False\n",
    "x or y # če je ena izmed vrednosti True, bo izraz True"
   ]
  },
  {
   "cell_type": "markdown",
   "metadata": {},
   "source": [
    "**AND**\n",
    "\n",
    "| A     \t| B     \t| AND   \t|\n",
    "|-------\t|-------\t|-------\t|\n",
    "| False \t| False \t| False \t|\n",
    "| False \t| True  \t| False \t|\n",
    "| True  \t| False \t| Fasle \t|\n",
    "| True  \t| True  \t| True  \t|"
   ]
  },
  {
   "cell_type": "code",
   "execution_count": 89,
   "metadata": {},
   "outputs": [
    {
     "data": {
      "text/plain": [
       "False"
      ]
     },
     "execution_count": 89,
     "metadata": {},
     "output_type": "execute_result"
    }
   ],
   "source": [
    "x = True\n",
    "y = False\n",
    "x and y # če je ena izmed vrednosti False, bo izraz False"
   ]
  },
  {
   "cell_type": "markdown",
   "metadata": {},
   "source": [
    "**IS**"
   ]
  },
  {
   "cell_type": "code",
   "execution_count": 40,
   "metadata": {},
   "outputs": [
    {
     "name": "stdout",
     "output_type": "stream",
     "text": [
      "a == b\n",
      "True\n",
      "\n",
      "a is b\n",
      "False\n",
      "******************************\n",
      "a == c\n",
      "True\n",
      "\n",
      "a is c\n",
      "True\n",
      "------------------------------\n",
      "a id:  2684900183488\n",
      "b id:  2684900126528\n",
      "c id:  2684900183488\n",
      "\n"
     ]
    }
   ],
   "source": [
    "# Kle ne morš met primera: x=1, y=1 x is y   -> ker pride True, sam to je zarad posebnosti Pythona\n",
    "\n",
    "a = [1,2,3]\n",
    "b = [1,2,3]\n",
    "c = a\n",
    "\n",
    "print(\"a == b\")\n",
    "print(a == b)\n",
    "print()\n",
    "print(\"a is b\")\n",
    "print(a is b)\n",
    "\n",
    "print(30*\"*\")\n",
    "\n",
    "print(\"a == c\")\n",
    "print(a == c)\n",
    "print()\n",
    "print(\"a is c\")\n",
    "print(a is c)\n",
    "\n",
    "print(30*\"-\")\n",
    "print(\"a id: \", id(a))\n",
    "print(\"b id: \", id(b))\n",
    "print(\"c id: \", id(c)) # c in a imasta isto identiteto. To tud pomen, da če spremeniš vrednost enega spremeniš vrednosti drugega\n",
    "\n",
    "print()"
   ]
  },
  {
   "cell_type": "code",
   "execution_count": 92,
   "metadata": {},
   "outputs": [
    {
     "name": "stdout",
     "output_type": "stream",
     "text": [
      "Vrednost a: -7, identiteta: 2027528172656\n",
      "Vrednost b: -7, identiteta: 2027528172144\n",
      "a and b have the same value.\n",
      "******************************\n",
      "Vrednost a: -6, identiteta: 2027528171696\n",
      "Vrednost b: -6, identiteta: 2027528172656\n",
      "a and b have the same value.\n",
      "******************************\n",
      "Vrednost a: -5, identiteta: 140707435483776\n",
      "Vrednost b: -5, identiteta: 140707435483776\n",
      "a and b have the same value.\n",
      "a and b are the same.\n",
      "******************************\n",
      "Vrednost a: -4, identiteta: 140707435483808\n",
      "Vrednost b: -4, identiteta: 140707435483808\n",
      "a and b have the same value.\n",
      "a and b are the same.\n",
      "******************************\n",
      "Vrednost a: -3, identiteta: 140707435483840\n",
      "Vrednost b: -3, identiteta: 140707435483840\n",
      "a and b have the same value.\n",
      "a and b are the same.\n",
      "******************************\n",
      "Vrednost a: -2, identiteta: 140707435483872\n",
      "Vrednost b: -2, identiteta: 140707435483872\n",
      "a and b have the same value.\n",
      "a and b are the same.\n",
      "******************************\n",
      "Vrednost a: -1, identiteta: 140707435483904\n",
      "Vrednost b: -1, identiteta: 140707435483904\n",
      "a and b have the same value.\n",
      "a and b are the same.\n",
      "******************************\n",
      "Vrednost a: 0, identiteta: 140707435483936\n",
      "Vrednost b: 0, identiteta: 140707435483936\n",
      "a and b have the same value.\n",
      "a and b are the same.\n",
      "******************************\n",
      "Vrednost a: 1, identiteta: 140707435483968\n",
      "Vrednost b: 1, identiteta: 140707435483968\n",
      "a and b have the same value.\n",
      "a and b are the same.\n",
      "******************************\n",
      "Vrednost a: 2, identiteta: 140707435484000\n",
      "Vrednost b: 2, identiteta: 140707435484000\n",
      "a and b have the same value.\n",
      "a and b are the same.\n",
      "******************************\n",
      "Vrednost a: 3, identiteta: 140707435484032\n",
      "Vrednost b: 3, identiteta: 140707435484032\n",
      "a and b have the same value.\n",
      "a and b are the same.\n",
      "******************************\n",
      "Vrednost a: 4, identiteta: 140707435484064\n",
      "Vrednost b: 4, identiteta: 140707435484064\n",
      "a and b have the same value.\n",
      "a and b are the same.\n",
      "******************************\n",
      "Vrednost a: 5, identiteta: 140707435484096\n",
      "Vrednost b: 5, identiteta: 140707435484096\n",
      "a and b have the same value.\n",
      "a and b are the same.\n",
      "******************************\n",
      "Vrednost a: 6, identiteta: 140707435484128\n",
      "Vrednost b: 6, identiteta: 140707435484128\n",
      "a and b have the same value.\n",
      "a and b are the same.\n",
      "******************************\n",
      "Vrednost a: 7, identiteta: 140707435484160\n",
      "Vrednost b: 7, identiteta: 140707435484160\n",
      "a and b have the same value.\n",
      "a and b are the same.\n",
      "******************************\n",
      "Vrednost a: 8, identiteta: 140707435484192\n",
      "Vrednost b: 8, identiteta: 140707435484192\n",
      "a and b have the same value.\n",
      "a and b are the same.\n",
      "******************************\n",
      "Vrednost a: 9, identiteta: 140707435484224\n",
      "Vrednost b: 9, identiteta: 140707435484224\n",
      "a and b have the same value.\n",
      "a and b are the same.\n",
      "******************************\n",
      "Vrednost a: 10, identiteta: 140707435484256\n",
      "Vrednost b: 10, identiteta: 140707435484256\n",
      "a and b have the same value.\n",
      "a and b are the same.\n",
      "******************************\n",
      "Vrednost a: 11, identiteta: 140707435484288\n",
      "Vrednost b: 11, identiteta: 140707435484288\n",
      "a and b have the same value.\n",
      "a and b are the same.\n",
      "******************************\n",
      "Vrednost a: 12, identiteta: 140707435484320\n",
      "Vrednost b: 12, identiteta: 140707435484320\n",
      "a and b have the same value.\n",
      "a and b are the same.\n",
      "******************************\n",
      "Vrednost a: 13, identiteta: 140707435484352\n",
      "Vrednost b: 13, identiteta: 140707435484352\n",
      "a and b have the same value.\n",
      "a and b are the same.\n",
      "******************************\n",
      "Vrednost a: 14, identiteta: 140707435484384\n",
      "Vrednost b: 14, identiteta: 140707435484384\n",
      "a and b have the same value.\n",
      "a and b are the same.\n",
      "******************************\n",
      "Vrednost a: 15, identiteta: 140707435484416\n",
      "Vrednost b: 15, identiteta: 140707435484416\n",
      "a and b have the same value.\n",
      "a and b are the same.\n",
      "******************************\n",
      "Vrednost a: 16, identiteta: 140707435484448\n",
      "Vrednost b: 16, identiteta: 140707435484448\n",
      "a and b have the same value.\n",
      "a and b are the same.\n",
      "******************************\n",
      "Vrednost a: 17, identiteta: 140707435484480\n",
      "Vrednost b: 17, identiteta: 140707435484480\n",
      "a and b have the same value.\n",
      "a and b are the same.\n",
      "******************************\n",
      "Vrednost a: 18, identiteta: 140707435484512\n",
      "Vrednost b: 18, identiteta: 140707435484512\n",
      "a and b have the same value.\n",
      "a and b are the same.\n",
      "******************************\n",
      "Vrednost a: 19, identiteta: 140707435484544\n",
      "Vrednost b: 19, identiteta: 140707435484544\n",
      "a and b have the same value.\n",
      "a and b are the same.\n",
      "******************************\n",
      "Vrednost a: 20, identiteta: 140707435484576\n",
      "Vrednost b: 20, identiteta: 140707435484576\n",
      "a and b have the same value.\n",
      "a and b are the same.\n",
      "******************************\n",
      "Vrednost a: 21, identiteta: 140707435484608\n",
      "Vrednost b: 21, identiteta: 140707435484608\n",
      "a and b have the same value.\n",
      "a and b are the same.\n",
      "******************************\n",
      "Vrednost a: 22, identiteta: 140707435484640\n",
      "Vrednost b: 22, identiteta: 140707435484640\n",
      "a and b have the same value.\n",
      "a and b are the same.\n",
      "******************************\n",
      "Vrednost a: 23, identiteta: 140707435484672\n",
      "Vrednost b: 23, identiteta: 140707435484672\n",
      "a and b have the same value.\n",
      "a and b are the same.\n",
      "******************************\n",
      "Vrednost a: 24, identiteta: 140707435484704\n",
      "Vrednost b: 24, identiteta: 140707435484704\n",
      "a and b have the same value.\n",
      "a and b are the same.\n",
      "******************************\n",
      "Vrednost a: 25, identiteta: 140707435484736\n",
      "Vrednost b: 25, identiteta: 140707435484736\n",
      "a and b have the same value.\n",
      "a and b are the same.\n",
      "******************************\n",
      "Vrednost a: 26, identiteta: 140707435484768\n",
      "Vrednost b: 26, identiteta: 140707435484768\n",
      "a and b have the same value.\n",
      "a and b are the same.\n",
      "******************************\n",
      "Vrednost a: 27, identiteta: 140707435484800\n",
      "Vrednost b: 27, identiteta: 140707435484800\n",
      "a and b have the same value.\n",
      "a and b are the same.\n",
      "******************************\n",
      "Vrednost a: 28, identiteta: 140707435484832\n",
      "Vrednost b: 28, identiteta: 140707435484832\n",
      "a and b have the same value.\n",
      "a and b are the same.\n",
      "******************************\n",
      "Vrednost a: 29, identiteta: 140707435484864\n",
      "Vrednost b: 29, identiteta: 140707435484864\n",
      "a and b have the same value.\n",
      "a and b are the same.\n",
      "******************************\n",
      "Vrednost a: 30, identiteta: 140707435484896\n",
      "Vrednost b: 30, identiteta: 140707435484896\n",
      "a and b have the same value.\n",
      "a and b are the same.\n",
      "******************************\n",
      "Vrednost a: 31, identiteta: 140707435484928\n",
      "Vrednost b: 31, identiteta: 140707435484928\n",
      "a and b have the same value.\n",
      "a and b are the same.\n",
      "******************************\n",
      "Vrednost a: 32, identiteta: 140707435484960\n",
      "Vrednost b: 32, identiteta: 140707435484960\n",
      "a and b have the same value.\n",
      "a and b are the same.\n",
      "******************************\n",
      "Vrednost a: 33, identiteta: 140707435484992\n",
      "Vrednost b: 33, identiteta: 140707435484992\n",
      "a and b have the same value.\n",
      "a and b are the same.\n",
      "******************************\n",
      "Vrednost a: 34, identiteta: 140707435485024\n",
      "Vrednost b: 34, identiteta: 140707435485024\n",
      "a and b have the same value.\n",
      "a and b are the same.\n",
      "******************************\n",
      "Vrednost a: 35, identiteta: 140707435485056\n",
      "Vrednost b: 35, identiteta: 140707435485056\n",
      "a and b have the same value.\n",
      "a and b are the same.\n",
      "******************************\n",
      "Vrednost a: 36, identiteta: 140707435485088\n",
      "Vrednost b: 36, identiteta: 140707435485088\n",
      "a and b have the same value.\n",
      "a and b are the same.\n",
      "******************************\n",
      "Vrednost a: 37, identiteta: 140707435485120\n",
      "Vrednost b: 37, identiteta: 140707435485120\n",
      "a and b have the same value.\n",
      "a and b are the same.\n",
      "******************************\n",
      "Vrednost a: 38, identiteta: 140707435485152\n",
      "Vrednost b: 38, identiteta: 140707435485152\n",
      "a and b have the same value.\n",
      "a and b are the same.\n",
      "******************************\n",
      "Vrednost a: 39, identiteta: 140707435485184\n",
      "Vrednost b: 39, identiteta: 140707435485184\n",
      "a and b have the same value.\n",
      "a and b are the same.\n",
      "******************************\n",
      "Vrednost a: 40, identiteta: 140707435485216\n",
      "Vrednost b: 40, identiteta: 140707435485216\n",
      "a and b have the same value.\n",
      "a and b are the same.\n",
      "******************************\n",
      "Vrednost a: 41, identiteta: 140707435485248\n",
      "Vrednost b: 41, identiteta: 140707435485248\n",
      "a and b have the same value.\n",
      "a and b are the same.\n",
      "******************************\n",
      "Vrednost a: 42, identiteta: 140707435485280\n",
      "Vrednost b: 42, identiteta: 140707435485280\n",
      "a and b have the same value.\n",
      "a and b are the same.\n",
      "******************************\n",
      "Vrednost a: 43, identiteta: 140707435485312\n",
      "Vrednost b: 43, identiteta: 140707435485312\n",
      "a and b have the same value.\n",
      "a and b are the same.\n",
      "******************************\n",
      "Vrednost a: 44, identiteta: 140707435485344\n",
      "Vrednost b: 44, identiteta: 140707435485344\n",
      "a and b have the same value.\n",
      "a and b are the same.\n",
      "******************************\n",
      "Vrednost a: 45, identiteta: 140707435485376\n",
      "Vrednost b: 45, identiteta: 140707435485376\n",
      "a and b have the same value.\n",
      "a and b are the same.\n",
      "******************************\n",
      "Vrednost a: 46, identiteta: 140707435485408\n",
      "Vrednost b: 46, identiteta: 140707435485408\n",
      "a and b have the same value.\n",
      "a and b are the same.\n",
      "******************************\n",
      "Vrednost a: 47, identiteta: 140707435485440\n",
      "Vrednost b: 47, identiteta: 140707435485440\n",
      "a and b have the same value.\n",
      "a and b are the same.\n",
      "******************************\n",
      "Vrednost a: 48, identiteta: 140707435485472\n",
      "Vrednost b: 48, identiteta: 140707435485472\n",
      "a and b have the same value.\n",
      "a and b are the same.\n",
      "******************************\n",
      "Vrednost a: 49, identiteta: 140707435485504\n",
      "Vrednost b: 49, identiteta: 140707435485504\n",
      "a and b have the same value.\n",
      "a and b are the same.\n",
      "******************************\n",
      "Vrednost a: 50, identiteta: 140707435485536\n",
      "Vrednost b: 50, identiteta: 140707435485536\n",
      "a and b have the same value.\n",
      "a and b are the same.\n",
      "******************************\n",
      "Vrednost a: 51, identiteta: 140707435485568\n",
      "Vrednost b: 51, identiteta: 140707435485568\n",
      "a and b have the same value.\n",
      "a and b are the same.\n",
      "******************************\n",
      "Vrednost a: 52, identiteta: 140707435485600\n",
      "Vrednost b: 52, identiteta: 140707435485600\n",
      "a and b have the same value.\n",
      "a and b are the same.\n",
      "******************************\n",
      "Vrednost a: 53, identiteta: 140707435485632\n",
      "Vrednost b: 53, identiteta: 140707435485632\n",
      "a and b have the same value.\n",
      "a and b are the same.\n",
      "******************************\n",
      "Vrednost a: 54, identiteta: 140707435485664\n",
      "Vrednost b: 54, identiteta: 140707435485664\n",
      "a and b have the same value.\n",
      "a and b are the same.\n",
      "******************************\n",
      "Vrednost a: 55, identiteta: 140707435485696\n",
      "Vrednost b: 55, identiteta: 140707435485696\n",
      "a and b have the same value.\n",
      "a and b are the same.\n",
      "******************************\n",
      "Vrednost a: 56, identiteta: 140707435485728\n",
      "Vrednost b: 56, identiteta: 140707435485728\n",
      "a and b have the same value.\n",
      "a and b are the same.\n",
      "******************************\n",
      "Vrednost a: 57, identiteta: 140707435485760\n",
      "Vrednost b: 57, identiteta: 140707435485760\n",
      "a and b have the same value.\n",
      "a and b are the same.\n",
      "******************************\n",
      "Vrednost a: 58, identiteta: 140707435485792\n",
      "Vrednost b: 58, identiteta: 140707435485792\n",
      "a and b have the same value.\n",
      "a and b are the same.\n",
      "******************************\n",
      "Vrednost a: 59, identiteta: 140707435485824\n",
      "Vrednost b: 59, identiteta: 140707435485824\n",
      "a and b have the same value.\n",
      "a and b are the same.\n",
      "******************************\n",
      "Vrednost a: 60, identiteta: 140707435485856\n",
      "Vrednost b: 60, identiteta: 140707435485856\n",
      "a and b have the same value.\n",
      "a and b are the same.\n",
      "******************************\n",
      "Vrednost a: 61, identiteta: 140707435485888\n",
      "Vrednost b: 61, identiteta: 140707435485888\n",
      "a and b have the same value.\n",
      "a and b are the same.\n",
      "******************************\n",
      "Vrednost a: 62, identiteta: 140707435485920\n",
      "Vrednost b: 62, identiteta: 140707435485920\n",
      "a and b have the same value.\n",
      "a and b are the same.\n",
      "******************************\n",
      "Vrednost a: 63, identiteta: 140707435485952\n",
      "Vrednost b: 63, identiteta: 140707435485952\n",
      "a and b have the same value.\n",
      "a and b are the same.\n",
      "******************************\n",
      "Vrednost a: 64, identiteta: 140707435485984\n",
      "Vrednost b: 64, identiteta: 140707435485984\n",
      "a and b have the same value.\n",
      "a and b are the same.\n",
      "******************************\n",
      "Vrednost a: 65, identiteta: 140707435486016\n",
      "Vrednost b: 65, identiteta: 140707435486016\n",
      "a and b have the same value.\n",
      "a and b are the same.\n",
      "******************************\n",
      "Vrednost a: 66, identiteta: 140707435486048\n",
      "Vrednost b: 66, identiteta: 140707435486048\n",
      "a and b have the same value.\n",
      "a and b are the same.\n",
      "******************************\n",
      "Vrednost a: 67, identiteta: 140707435486080\n",
      "Vrednost b: 67, identiteta: 140707435486080\n",
      "a and b have the same value.\n",
      "a and b are the same.\n",
      "******************************\n",
      "Vrednost a: 68, identiteta: 140707435486112\n",
      "Vrednost b: 68, identiteta: 140707435486112\n",
      "a and b have the same value.\n",
      "a and b are the same.\n",
      "******************************\n",
      "Vrednost a: 69, identiteta: 140707435486144\n",
      "Vrednost b: 69, identiteta: 140707435486144\n",
      "a and b have the same value.\n",
      "a and b are the same.\n",
      "******************************\n",
      "Vrednost a: 70, identiteta: 140707435486176\n",
      "Vrednost b: 70, identiteta: 140707435486176\n",
      "a and b have the same value.\n",
      "a and b are the same.\n",
      "******************************\n",
      "Vrednost a: 71, identiteta: 140707435486208\n",
      "Vrednost b: 71, identiteta: 140707435486208\n",
      "a and b have the same value.\n",
      "a and b are the same.\n",
      "******************************\n",
      "Vrednost a: 72, identiteta: 140707435486240\n",
      "Vrednost b: 72, identiteta: 140707435486240\n",
      "a and b have the same value.\n",
      "a and b are the same.\n",
      "******************************\n",
      "Vrednost a: 73, identiteta: 140707435486272\n",
      "Vrednost b: 73, identiteta: 140707435486272\n",
      "a and b have the same value.\n",
      "a and b are the same.\n",
      "******************************\n",
      "Vrednost a: 74, identiteta: 140707435486304\n",
      "Vrednost b: 74, identiteta: 140707435486304\n",
      "a and b have the same value.\n",
      "a and b are the same.\n",
      "******************************\n",
      "Vrednost a: 75, identiteta: 140707435486336\n",
      "Vrednost b: 75, identiteta: 140707435486336\n",
      "a and b have the same value.\n",
      "a and b are the same.\n",
      "******************************\n",
      "Vrednost a: 76, identiteta: 140707435486368\n",
      "Vrednost b: 76, identiteta: 140707435486368\n",
      "a and b have the same value.\n",
      "a and b are the same.\n",
      "******************************\n",
      "Vrednost a: 77, identiteta: 140707435486400\n",
      "Vrednost b: 77, identiteta: 140707435486400\n",
      "a and b have the same value.\n",
      "a and b are the same.\n",
      "******************************\n",
      "Vrednost a: 78, identiteta: 140707435486432\n",
      "Vrednost b: 78, identiteta: 140707435486432\n",
      "a and b have the same value.\n",
      "a and b are the same.\n",
      "******************************\n",
      "Vrednost a: 79, identiteta: 140707435486464\n",
      "Vrednost b: 79, identiteta: 140707435486464\n",
      "a and b have the same value.\n",
      "a and b are the same.\n",
      "******************************\n",
      "Vrednost a: 80, identiteta: 140707435486496\n",
      "Vrednost b: 80, identiteta: 140707435486496\n",
      "a and b have the same value.\n",
      "a and b are the same.\n",
      "******************************\n",
      "Vrednost a: 81, identiteta: 140707435486528\n",
      "Vrednost b: 81, identiteta: 140707435486528\n",
      "a and b have the same value.\n",
      "a and b are the same.\n",
      "******************************\n",
      "Vrednost a: 82, identiteta: 140707435486560\n",
      "Vrednost b: 82, identiteta: 140707435486560\n",
      "a and b have the same value.\n",
      "a and b are the same.\n",
      "******************************\n",
      "Vrednost a: 83, identiteta: 140707435486592\n",
      "Vrednost b: 83, identiteta: 140707435486592\n",
      "a and b have the same value.\n",
      "a and b are the same.\n",
      "******************************\n",
      "Vrednost a: 84, identiteta: 140707435486624\n",
      "Vrednost b: 84, identiteta: 140707435486624\n",
      "a and b have the same value.\n",
      "a and b are the same.\n",
      "******************************\n",
      "Vrednost a: 85, identiteta: 140707435486656\n",
      "Vrednost b: 85, identiteta: 140707435486656\n",
      "a and b have the same value.\n",
      "a and b are the same.\n",
      "******************************\n",
      "Vrednost a: 86, identiteta: 140707435486688\n",
      "Vrednost b: 86, identiteta: 140707435486688\n",
      "a and b have the same value.\n",
      "a and b are the same.\n",
      "******************************\n",
      "Vrednost a: 87, identiteta: 140707435486720\n",
      "Vrednost b: 87, identiteta: 140707435486720\n",
      "a and b have the same value.\n",
      "a and b are the same.\n",
      "******************************\n",
      "Vrednost a: 88, identiteta: 140707435486752\n",
      "Vrednost b: 88, identiteta: 140707435486752\n",
      "a and b have the same value.\n",
      "a and b are the same.\n",
      "******************************\n",
      "Vrednost a: 89, identiteta: 140707435486784\n",
      "Vrednost b: 89, identiteta: 140707435486784\n",
      "a and b have the same value.\n",
      "a and b are the same.\n",
      "******************************\n",
      "Vrednost a: 90, identiteta: 140707435486816\n",
      "Vrednost b: 90, identiteta: 140707435486816\n",
      "a and b have the same value.\n",
      "a and b are the same.\n",
      "******************************\n",
      "Vrednost a: 91, identiteta: 140707435486848\n",
      "Vrednost b: 91, identiteta: 140707435486848\n",
      "a and b have the same value.\n",
      "a and b are the same.\n",
      "******************************\n",
      "Vrednost a: 92, identiteta: 140707435486880\n",
      "Vrednost b: 92, identiteta: 140707435486880\n",
      "a and b have the same value.\n",
      "a and b are the same.\n",
      "******************************\n",
      "Vrednost a: 93, identiteta: 140707435486912\n",
      "Vrednost b: 93, identiteta: 140707435486912\n",
      "a and b have the same value.\n",
      "a and b are the same.\n",
      "******************************\n",
      "Vrednost a: 94, identiteta: 140707435486944\n",
      "Vrednost b: 94, identiteta: 140707435486944\n",
      "a and b have the same value.\n",
      "a and b are the same.\n",
      "******************************\n",
      "Vrednost a: 95, identiteta: 140707435486976\n",
      "Vrednost b: 95, identiteta: 140707435486976\n",
      "a and b have the same value.\n",
      "a and b are the same.\n",
      "******************************\n",
      "Vrednost a: 96, identiteta: 140707435487008\n",
      "Vrednost b: 96, identiteta: 140707435487008\n",
      "a and b have the same value.\n",
      "a and b are the same.\n",
      "******************************\n",
      "Vrednost a: 97, identiteta: 140707435487040\n",
      "Vrednost b: 97, identiteta: 140707435487040\n",
      "a and b have the same value.\n",
      "a and b are the same.\n",
      "******************************\n",
      "Vrednost a: 98, identiteta: 140707435487072\n",
      "Vrednost b: 98, identiteta: 140707435487072\n",
      "a and b have the same value.\n",
      "a and b are the same.\n",
      "******************************\n",
      "Vrednost a: 99, identiteta: 140707435487104\n",
      "Vrednost b: 99, identiteta: 140707435487104\n",
      "a and b have the same value.\n",
      "a and b are the same.\n",
      "******************************\n",
      "Vrednost a: 100, identiteta: 140707435487136\n",
      "Vrednost b: 100, identiteta: 140707435487136\n",
      "a and b have the same value.\n",
      "a and b are the same.\n",
      "******************************\n",
      "Vrednost a: 101, identiteta: 140707435487168\n",
      "Vrednost b: 101, identiteta: 140707435487168\n",
      "a and b have the same value.\n",
      "a and b are the same.\n",
      "******************************\n",
      "Vrednost a: 102, identiteta: 140707435487200\n",
      "Vrednost b: 102, identiteta: 140707435487200\n",
      "a and b have the same value.\n",
      "a and b are the same.\n",
      "******************************\n",
      "Vrednost a: 103, identiteta: 140707435487232\n",
      "Vrednost b: 103, identiteta: 140707435487232\n",
      "a and b have the same value.\n",
      "a and b are the same.\n",
      "******************************\n",
      "Vrednost a: 104, identiteta: 140707435487264\n",
      "Vrednost b: 104, identiteta: 140707435487264\n",
      "a and b have the same value.\n",
      "a and b are the same.\n",
      "******************************\n",
      "Vrednost a: 105, identiteta: 140707435487296\n",
      "Vrednost b: 105, identiteta: 140707435487296\n",
      "a and b have the same value.\n",
      "a and b are the same.\n",
      "******************************\n",
      "Vrednost a: 106, identiteta: 140707435487328\n",
      "Vrednost b: 106, identiteta: 140707435487328\n",
      "a and b have the same value.\n",
      "a and b are the same.\n",
      "******************************\n",
      "Vrednost a: 107, identiteta: 140707435487360\n",
      "Vrednost b: 107, identiteta: 140707435487360\n",
      "a and b have the same value.\n",
      "a and b are the same.\n",
      "******************************\n",
      "Vrednost a: 108, identiteta: 140707435487392\n",
      "Vrednost b: 108, identiteta: 140707435487392\n",
      "a and b have the same value.\n",
      "a and b are the same.\n",
      "******************************\n",
      "Vrednost a: 109, identiteta: 140707435487424\n",
      "Vrednost b: 109, identiteta: 140707435487424\n",
      "a and b have the same value.\n",
      "a and b are the same.\n",
      "******************************\n",
      "Vrednost a: 110, identiteta: 140707435487456\n",
      "Vrednost b: 110, identiteta: 140707435487456\n",
      "a and b have the same value.\n",
      "a and b are the same.\n",
      "******************************\n",
      "Vrednost a: 111, identiteta: 140707435487488\n",
      "Vrednost b: 111, identiteta: 140707435487488\n",
      "a and b have the same value.\n",
      "a and b are the same.\n",
      "******************************\n",
      "Vrednost a: 112, identiteta: 140707435487520\n",
      "Vrednost b: 112, identiteta: 140707435487520\n",
      "a and b have the same value.\n",
      "a and b are the same.\n",
      "******************************\n",
      "Vrednost a: 113, identiteta: 140707435487552\n",
      "Vrednost b: 113, identiteta: 140707435487552\n",
      "a and b have the same value.\n",
      "a and b are the same.\n",
      "******************************\n",
      "Vrednost a: 114, identiteta: 140707435487584\n",
      "Vrednost b: 114, identiteta: 140707435487584\n",
      "a and b have the same value.\n",
      "a and b are the same.\n",
      "******************************\n",
      "Vrednost a: 115, identiteta: 140707435487616\n",
      "Vrednost b: 115, identiteta: 140707435487616\n",
      "a and b have the same value.\n",
      "a and b are the same.\n",
      "******************************\n",
      "Vrednost a: 116, identiteta: 140707435487648\n",
      "Vrednost b: 116, identiteta: 140707435487648\n",
      "a and b have the same value.\n",
      "a and b are the same.\n",
      "******************************\n",
      "Vrednost a: 117, identiteta: 140707435487680\n",
      "Vrednost b: 117, identiteta: 140707435487680\n",
      "a and b have the same value.\n",
      "a and b are the same.\n",
      "******************************\n",
      "Vrednost a: 118, identiteta: 140707435487712\n",
      "Vrednost b: 118, identiteta: 140707435487712\n",
      "a and b have the same value.\n",
      "a and b are the same.\n",
      "******************************\n",
      "Vrednost a: 119, identiteta: 140707435487744\n",
      "Vrednost b: 119, identiteta: 140707435487744\n",
      "a and b have the same value.\n",
      "a and b are the same.\n",
      "******************************\n",
      "Vrednost a: 120, identiteta: 140707435487776\n",
      "Vrednost b: 120, identiteta: 140707435487776\n",
      "a and b have the same value.\n",
      "a and b are the same.\n",
      "******************************\n",
      "Vrednost a: 121, identiteta: 140707435487808\n",
      "Vrednost b: 121, identiteta: 140707435487808\n",
      "a and b have the same value.\n",
      "a and b are the same.\n",
      "******************************\n",
      "Vrednost a: 122, identiteta: 140707435487840\n",
      "Vrednost b: 122, identiteta: 140707435487840\n",
      "a and b have the same value.\n",
      "a and b are the same.\n",
      "******************************\n",
      "Vrednost a: 123, identiteta: 140707435487872\n",
      "Vrednost b: 123, identiteta: 140707435487872\n",
      "a and b have the same value.\n",
      "a and b are the same.\n",
      "******************************\n",
      "Vrednost a: 124, identiteta: 140707435487904\n",
      "Vrednost b: 124, identiteta: 140707435487904\n",
      "a and b have the same value.\n",
      "a and b are the same.\n",
      "******************************\n",
      "Vrednost a: 125, identiteta: 140707435487936\n",
      "Vrednost b: 125, identiteta: 140707435487936\n",
      "a and b have the same value.\n",
      "a and b are the same.\n",
      "******************************\n",
      "Vrednost a: 126, identiteta: 140707435487968\n",
      "Vrednost b: 126, identiteta: 140707435487968\n",
      "a and b have the same value.\n",
      "a and b are the same.\n",
      "******************************\n",
      "Vrednost a: 127, identiteta: 140707435488000\n",
      "Vrednost b: 127, identiteta: 140707435488000\n",
      "a and b have the same value.\n",
      "a and b are the same.\n",
      "******************************\n",
      "Vrednost a: 128, identiteta: 140707435488032\n",
      "Vrednost b: 128, identiteta: 140707435488032\n",
      "a and b have the same value.\n",
      "a and b are the same.\n",
      "******************************\n",
      "Vrednost a: 129, identiteta: 140707435488064\n",
      "Vrednost b: 129, identiteta: 140707435488064\n",
      "a and b have the same value.\n",
      "a and b are the same.\n",
      "******************************\n",
      "Vrednost a: 130, identiteta: 140707435488096\n",
      "Vrednost b: 130, identiteta: 140707435488096\n",
      "a and b have the same value.\n",
      "a and b are the same.\n",
      "******************************\n",
      "Vrednost a: 131, identiteta: 140707435488128\n",
      "Vrednost b: 131, identiteta: 140707435488128\n",
      "a and b have the same value.\n",
      "a and b are the same.\n",
      "******************************\n",
      "Vrednost a: 132, identiteta: 140707435488160\n",
      "Vrednost b: 132, identiteta: 140707435488160\n",
      "a and b have the same value.\n",
      "a and b are the same.\n",
      "******************************\n",
      "Vrednost a: 133, identiteta: 140707435488192\n",
      "Vrednost b: 133, identiteta: 140707435488192\n",
      "a and b have the same value.\n",
      "a and b are the same.\n",
      "******************************\n",
      "Vrednost a: 134, identiteta: 140707435488224\n",
      "Vrednost b: 134, identiteta: 140707435488224\n",
      "a and b have the same value.\n",
      "a and b are the same.\n",
      "******************************\n",
      "Vrednost a: 135, identiteta: 140707435488256\n",
      "Vrednost b: 135, identiteta: 140707435488256\n",
      "a and b have the same value.\n",
      "a and b are the same.\n",
      "******************************\n",
      "Vrednost a: 136, identiteta: 140707435488288\n",
      "Vrednost b: 136, identiteta: 140707435488288\n",
      "a and b have the same value.\n",
      "a and b are the same.\n",
      "******************************\n",
      "Vrednost a: 137, identiteta: 140707435488320\n",
      "Vrednost b: 137, identiteta: 140707435488320\n",
      "a and b have the same value.\n",
      "a and b are the same.\n",
      "******************************\n",
      "Vrednost a: 138, identiteta: 140707435488352\n",
      "Vrednost b: 138, identiteta: 140707435488352\n",
      "a and b have the same value.\n",
      "a and b are the same.\n",
      "******************************\n",
      "Vrednost a: 139, identiteta: 140707435488384\n",
      "Vrednost b: 139, identiteta: 140707435488384\n",
      "a and b have the same value.\n",
      "a and b are the same.\n",
      "******************************\n",
      "Vrednost a: 140, identiteta: 140707435488416\n",
      "Vrednost b: 140, identiteta: 140707435488416\n",
      "a and b have the same value.\n",
      "a and b are the same.\n",
      "******************************\n",
      "Vrednost a: 141, identiteta: 140707435488448\n",
      "Vrednost b: 141, identiteta: 140707435488448\n",
      "a and b have the same value.\n",
      "a and b are the same.\n",
      "******************************\n",
      "Vrednost a: 142, identiteta: 140707435488480\n",
      "Vrednost b: 142, identiteta: 140707435488480\n",
      "a and b have the same value.\n",
      "a and b are the same.\n",
      "******************************\n",
      "Vrednost a: 143, identiteta: 140707435488512\n",
      "Vrednost b: 143, identiteta: 140707435488512\n",
      "a and b have the same value.\n",
      "a and b are the same.\n",
      "******************************\n",
      "Vrednost a: 144, identiteta: 140707435488544\n",
      "Vrednost b: 144, identiteta: 140707435488544\n",
      "a and b have the same value.\n",
      "a and b are the same.\n",
      "******************************\n",
      "Vrednost a: 145, identiteta: 140707435488576\n",
      "Vrednost b: 145, identiteta: 140707435488576\n",
      "a and b have the same value.\n",
      "a and b are the same.\n",
      "******************************\n",
      "Vrednost a: 146, identiteta: 140707435488608\n",
      "Vrednost b: 146, identiteta: 140707435488608\n",
      "a and b have the same value.\n",
      "a and b are the same.\n",
      "******************************\n",
      "Vrednost a: 147, identiteta: 140707435488640\n",
      "Vrednost b: 147, identiteta: 140707435488640\n",
      "a and b have the same value.\n",
      "a and b are the same.\n",
      "******************************\n",
      "Vrednost a: 148, identiteta: 140707435488672\n",
      "Vrednost b: 148, identiteta: 140707435488672\n",
      "a and b have the same value.\n",
      "a and b are the same.\n",
      "******************************\n",
      "Vrednost a: 149, identiteta: 140707435488704\n",
      "Vrednost b: 149, identiteta: 140707435488704\n",
      "a and b have the same value.\n",
      "a and b are the same.\n",
      "******************************\n",
      "Vrednost a: 150, identiteta: 140707435488736\n",
      "Vrednost b: 150, identiteta: 140707435488736\n",
      "a and b have the same value.\n",
      "a and b are the same.\n",
      "******************************\n",
      "Vrednost a: 151, identiteta: 140707435488768\n",
      "Vrednost b: 151, identiteta: 140707435488768\n",
      "a and b have the same value.\n",
      "a and b are the same.\n",
      "******************************\n",
      "Vrednost a: 152, identiteta: 140707435488800\n",
      "Vrednost b: 152, identiteta: 140707435488800\n",
      "a and b have the same value.\n",
      "a and b are the same.\n",
      "******************************\n",
      "Vrednost a: 153, identiteta: 140707435488832\n",
      "Vrednost b: 153, identiteta: 140707435488832\n",
      "a and b have the same value.\n",
      "a and b are the same.\n",
      "******************************\n",
      "Vrednost a: 154, identiteta: 140707435488864\n",
      "Vrednost b: 154, identiteta: 140707435488864\n",
      "a and b have the same value.\n",
      "a and b are the same.\n",
      "******************************\n",
      "Vrednost a: 155, identiteta: 140707435488896\n",
      "Vrednost b: 155, identiteta: 140707435488896\n",
      "a and b have the same value.\n",
      "a and b are the same.\n",
      "******************************\n",
      "Vrednost a: 156, identiteta: 140707435488928\n",
      "Vrednost b: 156, identiteta: 140707435488928\n",
      "a and b have the same value.\n",
      "a and b are the same.\n",
      "******************************\n",
      "Vrednost a: 157, identiteta: 140707435488960\n",
      "Vrednost b: 157, identiteta: 140707435488960\n",
      "a and b have the same value.\n",
      "a and b are the same.\n",
      "******************************\n",
      "Vrednost a: 158, identiteta: 140707435488992\n",
      "Vrednost b: 158, identiteta: 140707435488992\n",
      "a and b have the same value.\n",
      "a and b are the same.\n",
      "******************************\n",
      "Vrednost a: 159, identiteta: 140707435489024\n",
      "Vrednost b: 159, identiteta: 140707435489024\n",
      "a and b have the same value.\n",
      "a and b are the same.\n",
      "******************************\n",
      "Vrednost a: 160, identiteta: 140707435489056\n",
      "Vrednost b: 160, identiteta: 140707435489056\n",
      "a and b have the same value.\n",
      "a and b are the same.\n",
      "******************************\n",
      "Vrednost a: 161, identiteta: 140707435489088\n",
      "Vrednost b: 161, identiteta: 140707435489088\n",
      "a and b have the same value.\n",
      "a and b are the same.\n",
      "******************************\n",
      "Vrednost a: 162, identiteta: 140707435489120\n",
      "Vrednost b: 162, identiteta: 140707435489120\n",
      "a and b have the same value.\n",
      "a and b are the same.\n",
      "******************************\n",
      "Vrednost a: 163, identiteta: 140707435489152\n",
      "Vrednost b: 163, identiteta: 140707435489152\n",
      "a and b have the same value.\n",
      "a and b are the same.\n",
      "******************************\n",
      "Vrednost a: 164, identiteta: 140707435489184\n",
      "Vrednost b: 164, identiteta: 140707435489184\n",
      "a and b have the same value.\n",
      "a and b are the same.\n",
      "******************************\n",
      "Vrednost a: 165, identiteta: 140707435489216\n",
      "Vrednost b: 165, identiteta: 140707435489216\n",
      "a and b have the same value.\n",
      "a and b are the same.\n",
      "******************************\n",
      "Vrednost a: 166, identiteta: 140707435489248\n",
      "Vrednost b: 166, identiteta: 140707435489248\n",
      "a and b have the same value.\n",
      "a and b are the same.\n",
      "******************************\n",
      "Vrednost a: 167, identiteta: 140707435489280\n",
      "Vrednost b: 167, identiteta: 140707435489280\n",
      "a and b have the same value.\n",
      "a and b are the same.\n",
      "******************************\n",
      "Vrednost a: 168, identiteta: 140707435489312\n",
      "Vrednost b: 168, identiteta: 140707435489312\n",
      "a and b have the same value.\n",
      "a and b are the same.\n",
      "******************************\n",
      "Vrednost a: 169, identiteta: 140707435489344\n",
      "Vrednost b: 169, identiteta: 140707435489344\n",
      "a and b have the same value.\n",
      "a and b are the same.\n",
      "******************************\n",
      "Vrednost a: 170, identiteta: 140707435489376\n",
      "Vrednost b: 170, identiteta: 140707435489376\n",
      "a and b have the same value.\n",
      "a and b are the same.\n",
      "******************************\n",
      "Vrednost a: 171, identiteta: 140707435489408\n",
      "Vrednost b: 171, identiteta: 140707435489408\n",
      "a and b have the same value.\n",
      "a and b are the same.\n",
      "******************************\n",
      "Vrednost a: 172, identiteta: 140707435489440\n",
      "Vrednost b: 172, identiteta: 140707435489440\n",
      "a and b have the same value.\n",
      "a and b are the same.\n",
      "******************************\n",
      "Vrednost a: 173, identiteta: 140707435489472\n",
      "Vrednost b: 173, identiteta: 140707435489472\n",
      "a and b have the same value.\n",
      "a and b are the same.\n",
      "******************************\n",
      "Vrednost a: 174, identiteta: 140707435489504\n",
      "Vrednost b: 174, identiteta: 140707435489504\n",
      "a and b have the same value.\n",
      "a and b are the same.\n",
      "******************************\n",
      "Vrednost a: 175, identiteta: 140707435489536\n",
      "Vrednost b: 175, identiteta: 140707435489536\n",
      "a and b have the same value.\n",
      "a and b are the same.\n",
      "******************************\n",
      "Vrednost a: 176, identiteta: 140707435489568\n",
      "Vrednost b: 176, identiteta: 140707435489568\n",
      "a and b have the same value.\n",
      "a and b are the same.\n",
      "******************************\n",
      "Vrednost a: 177, identiteta: 140707435489600\n",
      "Vrednost b: 177, identiteta: 140707435489600\n",
      "a and b have the same value.\n",
      "a and b are the same.\n",
      "******************************\n",
      "Vrednost a: 178, identiteta: 140707435489632\n",
      "Vrednost b: 178, identiteta: 140707435489632\n",
      "a and b have the same value.\n",
      "a and b are the same.\n",
      "******************************\n",
      "Vrednost a: 179, identiteta: 140707435489664\n",
      "Vrednost b: 179, identiteta: 140707435489664\n",
      "a and b have the same value.\n",
      "a and b are the same.\n",
      "******************************\n",
      "Vrednost a: 180, identiteta: 140707435489696\n",
      "Vrednost b: 180, identiteta: 140707435489696\n",
      "a and b have the same value.\n",
      "a and b are the same.\n",
      "******************************\n",
      "Vrednost a: 181, identiteta: 140707435489728\n",
      "Vrednost b: 181, identiteta: 140707435489728\n",
      "a and b have the same value.\n",
      "a and b are the same.\n",
      "******************************\n",
      "Vrednost a: 182, identiteta: 140707435489760\n",
      "Vrednost b: 182, identiteta: 140707435489760\n",
      "a and b have the same value.\n",
      "a and b are the same.\n",
      "******************************\n",
      "Vrednost a: 183, identiteta: 140707435489792\n",
      "Vrednost b: 183, identiteta: 140707435489792\n",
      "a and b have the same value.\n",
      "a and b are the same.\n",
      "******************************\n",
      "Vrednost a: 184, identiteta: 140707435489824\n",
      "Vrednost b: 184, identiteta: 140707435489824\n",
      "a and b have the same value.\n",
      "a and b are the same.\n",
      "******************************\n",
      "Vrednost a: 185, identiteta: 140707435489856\n",
      "Vrednost b: 185, identiteta: 140707435489856\n",
      "a and b have the same value.\n",
      "a and b are the same.\n",
      "******************************\n",
      "Vrednost a: 186, identiteta: 140707435489888\n",
      "Vrednost b: 186, identiteta: 140707435489888\n",
      "a and b have the same value.\n",
      "a and b are the same.\n",
      "******************************\n",
      "Vrednost a: 187, identiteta: 140707435489920\n",
      "Vrednost b: 187, identiteta: 140707435489920\n",
      "a and b have the same value.\n",
      "a and b are the same.\n",
      "******************************\n",
      "Vrednost a: 188, identiteta: 140707435489952\n",
      "Vrednost b: 188, identiteta: 140707435489952\n",
      "a and b have the same value.\n",
      "a and b are the same.\n",
      "******************************\n",
      "Vrednost a: 189, identiteta: 140707435489984\n",
      "Vrednost b: 189, identiteta: 140707435489984\n",
      "a and b have the same value.\n",
      "a and b are the same.\n",
      "******************************\n",
      "Vrednost a: 190, identiteta: 140707435490016\n",
      "Vrednost b: 190, identiteta: 140707435490016\n",
      "a and b have the same value.\n",
      "a and b are the same.\n",
      "******************************\n",
      "Vrednost a: 191, identiteta: 140707435490048\n",
      "Vrednost b: 191, identiteta: 140707435490048\n",
      "a and b have the same value.\n",
      "a and b are the same.\n",
      "******************************\n",
      "Vrednost a: 192, identiteta: 140707435490080\n",
      "Vrednost b: 192, identiteta: 140707435490080\n",
      "a and b have the same value.\n",
      "a and b are the same.\n",
      "******************************\n",
      "Vrednost a: 193, identiteta: 140707435490112\n",
      "Vrednost b: 193, identiteta: 140707435490112\n",
      "a and b have the same value.\n",
      "a and b are the same.\n",
      "******************************\n",
      "Vrednost a: 194, identiteta: 140707435490144\n",
      "Vrednost b: 194, identiteta: 140707435490144\n",
      "a and b have the same value.\n",
      "a and b are the same.\n",
      "******************************\n",
      "Vrednost a: 195, identiteta: 140707435490176\n",
      "Vrednost b: 195, identiteta: 140707435490176\n",
      "a and b have the same value.\n",
      "a and b are the same.\n",
      "******************************\n",
      "Vrednost a: 196, identiteta: 140707435490208\n",
      "Vrednost b: 196, identiteta: 140707435490208\n",
      "a and b have the same value.\n",
      "a and b are the same.\n",
      "******************************\n",
      "Vrednost a: 197, identiteta: 140707435490240\n",
      "Vrednost b: 197, identiteta: 140707435490240\n",
      "a and b have the same value.\n",
      "a and b are the same.\n",
      "******************************\n",
      "Vrednost a: 198, identiteta: 140707435490272\n",
      "Vrednost b: 198, identiteta: 140707435490272\n",
      "a and b have the same value.\n",
      "a and b are the same.\n",
      "******************************\n",
      "Vrednost a: 199, identiteta: 140707435490304\n",
      "Vrednost b: 199, identiteta: 140707435490304\n",
      "a and b have the same value.\n",
      "a and b are the same.\n",
      "******************************\n",
      "Vrednost a: 200, identiteta: 140707435490336\n",
      "Vrednost b: 200, identiteta: 140707435490336\n",
      "a and b have the same value.\n",
      "a and b are the same.\n",
      "******************************\n",
      "Vrednost a: 201, identiteta: 140707435490368\n",
      "Vrednost b: 201, identiteta: 140707435490368\n",
      "a and b have the same value.\n",
      "a and b are the same.\n",
      "******************************\n",
      "Vrednost a: 202, identiteta: 140707435490400\n",
      "Vrednost b: 202, identiteta: 140707435490400\n",
      "a and b have the same value.\n",
      "a and b are the same.\n",
      "******************************\n",
      "Vrednost a: 203, identiteta: 140707435490432\n",
      "Vrednost b: 203, identiteta: 140707435490432\n",
      "a and b have the same value.\n",
      "a and b are the same.\n",
      "******************************\n",
      "Vrednost a: 204, identiteta: 140707435490464\n",
      "Vrednost b: 204, identiteta: 140707435490464\n",
      "a and b have the same value.\n",
      "a and b are the same.\n",
      "******************************\n",
      "Vrednost a: 205, identiteta: 140707435490496\n",
      "Vrednost b: 205, identiteta: 140707435490496\n",
      "a and b have the same value.\n",
      "a and b are the same.\n",
      "******************************\n",
      "Vrednost a: 206, identiteta: 140707435490528\n",
      "Vrednost b: 206, identiteta: 140707435490528\n",
      "a and b have the same value.\n",
      "a and b are the same.\n",
      "******************************\n",
      "Vrednost a: 207, identiteta: 140707435490560\n",
      "Vrednost b: 207, identiteta: 140707435490560\n",
      "a and b have the same value.\n",
      "a and b are the same.\n",
      "******************************\n",
      "Vrednost a: 208, identiteta: 140707435490592\n",
      "Vrednost b: 208, identiteta: 140707435490592\n",
      "a and b have the same value.\n",
      "a and b are the same.\n",
      "******************************\n",
      "Vrednost a: 209, identiteta: 140707435490624\n",
      "Vrednost b: 209, identiteta: 140707435490624\n",
      "a and b have the same value.\n",
      "a and b are the same.\n",
      "******************************\n",
      "Vrednost a: 210, identiteta: 140707435490656\n",
      "Vrednost b: 210, identiteta: 140707435490656\n",
      "a and b have the same value.\n",
      "a and b are the same.\n",
      "******************************\n",
      "Vrednost a: 211, identiteta: 140707435490688\n",
      "Vrednost b: 211, identiteta: 140707435490688\n",
      "a and b have the same value.\n",
      "a and b are the same.\n",
      "******************************\n",
      "Vrednost a: 212, identiteta: 140707435490720\n",
      "Vrednost b: 212, identiteta: 140707435490720\n",
      "a and b have the same value.\n",
      "a and b are the same.\n",
      "******************************\n",
      "Vrednost a: 213, identiteta: 140707435490752\n",
      "Vrednost b: 213, identiteta: 140707435490752\n",
      "a and b have the same value.\n",
      "a and b are the same.\n",
      "******************************\n",
      "Vrednost a: 214, identiteta: 140707435490784\n",
      "Vrednost b: 214, identiteta: 140707435490784\n",
      "a and b have the same value.\n",
      "a and b are the same.\n",
      "******************************\n",
      "Vrednost a: 215, identiteta: 140707435490816\n",
      "Vrednost b: 215, identiteta: 140707435490816\n",
      "a and b have the same value.\n",
      "a and b are the same.\n",
      "******************************\n",
      "Vrednost a: 216, identiteta: 140707435490848\n",
      "Vrednost b: 216, identiteta: 140707435490848\n",
      "a and b have the same value.\n",
      "a and b are the same.\n",
      "******************************\n",
      "Vrednost a: 217, identiteta: 140707435490880\n",
      "Vrednost b: 217, identiteta: 140707435490880\n",
      "a and b have the same value.\n",
      "a and b are the same.\n",
      "******************************\n",
      "Vrednost a: 218, identiteta: 140707435490912\n",
      "Vrednost b: 218, identiteta: 140707435490912\n",
      "a and b have the same value.\n",
      "a and b are the same.\n",
      "******************************\n",
      "Vrednost a: 219, identiteta: 140707435490944\n",
      "Vrednost b: 219, identiteta: 140707435490944\n",
      "a and b have the same value.\n",
      "a and b are the same.\n",
      "******************************\n",
      "Vrednost a: 220, identiteta: 140707435490976\n",
      "Vrednost b: 220, identiteta: 140707435490976\n",
      "a and b have the same value.\n",
      "a and b are the same.\n",
      "******************************\n",
      "Vrednost a: 221, identiteta: 140707435491008\n",
      "Vrednost b: 221, identiteta: 140707435491008\n",
      "a and b have the same value.\n",
      "a and b are the same.\n",
      "******************************\n",
      "Vrednost a: 222, identiteta: 140707435491040\n",
      "Vrednost b: 222, identiteta: 140707435491040\n",
      "a and b have the same value.\n",
      "a and b are the same.\n",
      "******************************\n",
      "Vrednost a: 223, identiteta: 140707435491072\n",
      "Vrednost b: 223, identiteta: 140707435491072\n",
      "a and b have the same value.\n",
      "a and b are the same.\n",
      "******************************\n",
      "Vrednost a: 224, identiteta: 140707435491104\n",
      "Vrednost b: 224, identiteta: 140707435491104\n",
      "a and b have the same value.\n",
      "a and b are the same.\n",
      "******************************\n",
      "Vrednost a: 225, identiteta: 140707435491136\n",
      "Vrednost b: 225, identiteta: 140707435491136\n",
      "a and b have the same value.\n",
      "a and b are the same.\n",
      "******************************\n",
      "Vrednost a: 226, identiteta: 140707435491168\n",
      "Vrednost b: 226, identiteta: 140707435491168\n",
      "a and b have the same value.\n",
      "a and b are the same.\n",
      "******************************\n",
      "Vrednost a: 227, identiteta: 140707435491200\n",
      "Vrednost b: 227, identiteta: 140707435491200\n",
      "a and b have the same value.\n",
      "a and b are the same.\n",
      "******************************\n",
      "Vrednost a: 228, identiteta: 140707435491232\n",
      "Vrednost b: 228, identiteta: 140707435491232\n",
      "a and b have the same value.\n",
      "a and b are the same.\n",
      "******************************\n",
      "Vrednost a: 229, identiteta: 140707435491264\n",
      "Vrednost b: 229, identiteta: 140707435491264\n",
      "a and b have the same value.\n",
      "a and b are the same.\n",
      "******************************\n",
      "Vrednost a: 230, identiteta: 140707435491296\n",
      "Vrednost b: 230, identiteta: 140707435491296\n",
      "a and b have the same value.\n",
      "a and b are the same.\n",
      "******************************\n",
      "Vrednost a: 231, identiteta: 140707435491328\n",
      "Vrednost b: 231, identiteta: 140707435491328\n",
      "a and b have the same value.\n",
      "a and b are the same.\n",
      "******************************\n",
      "Vrednost a: 232, identiteta: 140707435491360\n",
      "Vrednost b: 232, identiteta: 140707435491360\n",
      "a and b have the same value.\n",
      "a and b are the same.\n",
      "******************************\n",
      "Vrednost a: 233, identiteta: 140707435491392\n",
      "Vrednost b: 233, identiteta: 140707435491392\n",
      "a and b have the same value.\n",
      "a and b are the same.\n",
      "******************************\n",
      "Vrednost a: 234, identiteta: 140707435491424\n",
      "Vrednost b: 234, identiteta: 140707435491424\n",
      "a and b have the same value.\n",
      "a and b are the same.\n",
      "******************************\n",
      "Vrednost a: 235, identiteta: 140707435491456\n",
      "Vrednost b: 235, identiteta: 140707435491456\n",
      "a and b have the same value.\n",
      "a and b are the same.\n",
      "******************************\n",
      "Vrednost a: 236, identiteta: 140707435491488\n",
      "Vrednost b: 236, identiteta: 140707435491488\n",
      "a and b have the same value.\n",
      "a and b are the same.\n",
      "******************************\n",
      "Vrednost a: 237, identiteta: 140707435491520\n",
      "Vrednost b: 237, identiteta: 140707435491520\n",
      "a and b have the same value.\n",
      "a and b are the same.\n",
      "******************************\n",
      "Vrednost a: 238, identiteta: 140707435491552\n",
      "Vrednost b: 238, identiteta: 140707435491552\n",
      "a and b have the same value.\n",
      "a and b are the same.\n",
      "******************************\n",
      "Vrednost a: 239, identiteta: 140707435491584\n",
      "Vrednost b: 239, identiteta: 140707435491584\n",
      "a and b have the same value.\n",
      "a and b are the same.\n",
      "******************************\n",
      "Vrednost a: 240, identiteta: 140707435491616\n",
      "Vrednost b: 240, identiteta: 140707435491616\n",
      "a and b have the same value.\n",
      "a and b are the same.\n",
      "******************************\n",
      "Vrednost a: 241, identiteta: 140707435491648\n",
      "Vrednost b: 241, identiteta: 140707435491648\n",
      "a and b have the same value.\n",
      "a and b are the same.\n",
      "******************************\n",
      "Vrednost a: 242, identiteta: 140707435491680\n",
      "Vrednost b: 242, identiteta: 140707435491680\n",
      "a and b have the same value.\n",
      "a and b are the same.\n",
      "******************************\n",
      "Vrednost a: 243, identiteta: 140707435491712\n",
      "Vrednost b: 243, identiteta: 140707435491712\n",
      "a and b have the same value.\n",
      "a and b are the same.\n",
      "******************************\n",
      "Vrednost a: 244, identiteta: 140707435491744\n",
      "Vrednost b: 244, identiteta: 140707435491744\n",
      "a and b have the same value.\n",
      "a and b are the same.\n",
      "******************************\n",
      "Vrednost a: 245, identiteta: 140707435491776\n",
      "Vrednost b: 245, identiteta: 140707435491776\n",
      "a and b have the same value.\n",
      "a and b are the same.\n",
      "******************************\n",
      "Vrednost a: 246, identiteta: 140707435491808\n",
      "Vrednost b: 246, identiteta: 140707435491808\n",
      "a and b have the same value.\n",
      "a and b are the same.\n",
      "******************************\n",
      "Vrednost a: 247, identiteta: 140707435491840\n",
      "Vrednost b: 247, identiteta: 140707435491840\n",
      "a and b have the same value.\n",
      "a and b are the same.\n",
      "******************************\n",
      "Vrednost a: 248, identiteta: 140707435491872\n",
      "Vrednost b: 248, identiteta: 140707435491872\n",
      "a and b have the same value.\n",
      "a and b are the same.\n",
      "******************************\n",
      "Vrednost a: 249, identiteta: 140707435491904\n",
      "Vrednost b: 249, identiteta: 140707435491904\n",
      "a and b have the same value.\n",
      "a and b are the same.\n",
      "******************************\n",
      "Vrednost a: 250, identiteta: 140707435491936\n",
      "Vrednost b: 250, identiteta: 140707435491936\n",
      "a and b have the same value.\n",
      "a and b are the same.\n",
      "******************************\n",
      "Vrednost a: 251, identiteta: 140707435491968\n",
      "Vrednost b: 251, identiteta: 140707435491968\n",
      "a and b have the same value.\n",
      "a and b are the same.\n",
      "******************************\n",
      "Vrednost a: 252, identiteta: 140707435492000\n",
      "Vrednost b: 252, identiteta: 140707435492000\n",
      "a and b have the same value.\n",
      "a and b are the same.\n",
      "******************************\n",
      "Vrednost a: 253, identiteta: 140707435492032\n",
      "Vrednost b: 253, identiteta: 140707435492032\n",
      "a and b have the same value.\n",
      "a and b are the same.\n",
      "******************************\n",
      "Vrednost a: 254, identiteta: 140707435492064\n",
      "Vrednost b: 254, identiteta: 140707435492064\n",
      "a and b have the same value.\n",
      "a and b are the same.\n",
      "******************************\n",
      "Vrednost a: 255, identiteta: 140707435492096\n",
      "Vrednost b: 255, identiteta: 140707435492096\n",
      "a and b have the same value.\n",
      "a and b are the same.\n",
      "******************************\n",
      "Vrednost a: 256, identiteta: 140707435492128\n",
      "Vrednost b: 256, identiteta: 140707435492128\n",
      "a and b have the same value.\n",
      "a and b are the same.\n",
      "******************************\n",
      "Vrednost a: 257, identiteta: 2027527142064\n",
      "Vrednost b: 257, identiteta: 2027527140720\n",
      "a and b have the same value.\n",
      "******************************\n",
      "Vrednost a: 258, identiteta: 2027527142544\n",
      "Vrednost b: 258, identiteta: 2027527142064\n",
      "a and b have the same value.\n",
      "******************************\n",
      "Vrednost a: 259, identiteta: 2027527141968\n",
      "Vrednost b: 259, identiteta: 2027527142544\n",
      "a and b have the same value.\n",
      "******************************\n"
     ]
    }
   ],
   "source": [
    "# poseben primer so številke od -5 do 256\n",
    "a = -7\n",
    "b = -7\n",
    "\n",
    "for _ in range(-7, 260):\n",
    "    print(f'Vrednost a: {a}, identiteta: {id(a)}')\n",
    "    print(f'Vrednost b: {b}, identiteta: {id(b)}')\n",
    "\n",
    "    if a == b:\n",
    "        print(\"a and b have the same value.\")\n",
    "\n",
    "    if a is b:\n",
    "        print(\"a and b are the same.\")\n",
    "    \n",
    "    print(30*\"*\")\n",
    "    a += 1\n",
    "    b += 1"
   ]
  },
  {
   "cell_type": "code",
   "execution_count": 93,
   "metadata": {},
   "outputs": [
    {
     "data": {
      "text/plain": [
       "True"
      ]
     },
     "execution_count": 93,
     "metadata": {},
     "output_type": "execute_result"
    }
   ],
   "source": [
    "x = \"b\"\n",
    "x in \"abc\" # primerja ali je x v stringu, listu, itd.."
   ]
  },
  {
   "cell_type": "markdown",
   "metadata": {},
   "source": [
    "## Vaja 01\n",
    "\n",
    "\n",
    "\n",
    "<div class=\"alert alert-block alert-info\">\n",
    "<b>Naloga: </b> \n",
    "Uporabnika vprašajte naj vnese svojo starost v letih.\n",
    "\n",
    "Vrednost pretvorite v mesece in to izpišite.\n",
    "</div>"
   ]
  },
  {
   "cell_type": "code",
   "execution_count": 94,
   "metadata": {
    "scrolled": true
   },
   "outputs": [
    {
     "name": "stdout",
     "output_type": "stream",
     "text": [
      "Vnesi koliko let si sat: 12\n",
      "Star si 144 mesecev.\n"
     ]
    }
   ],
   "source": [
    "age = int(input(\"Vnesi koliko let si sat: \"))\n",
    "\n",
    "months = age*12\n",
    "print(f\"Star si {months} mesecev.\")"
   ]
  },
  {
   "cell_type": "markdown",
   "metadata": {},
   "source": [
    "## Vaja 02\n",
    "\n",
    "\n",
    "<div class=\"alert alert-block alert-info\">\n",
    "<b>Naloga: </b> \n",
    "Uporabnika vprašajte za dve decimalni vrednosti.\n",
    "\n",
    "Preverite, če je prva vrednost večja ali enaka od druge.\n",
    "</div>"
   ]
  },
  {
   "cell_type": "code",
   "execution_count": 99,
   "metadata": {
    "scrolled": false
   },
   "outputs": [
    {
     "name": "stdout",
     "output_type": "stream",
     "text": [
      "first: 12.4\n",
      "second: 12.6\n",
      "<class 'float'>\n",
      "12.4\n",
      "\n",
      "<class 'float'>\n",
      "12.6\n"
     ]
    },
    {
     "data": {
      "text/plain": [
       "False"
      ]
     },
     "execution_count": 99,
     "metadata": {},
     "output_type": "execute_result"
    }
   ],
   "source": [
    "x = float(input(\"first: \"))\n",
    "y = float(input(\"second: \"))\n",
    "\n",
    "print(type(x))\n",
    "print(x)\n",
    "print()\n",
    "\n",
    "print(type(y))\n",
    "print(y)\n",
    "x >= y"
   ]
  },
  {
   "cell_type": "markdown",
   "metadata": {},
   "source": [
    "## Vaje 03\n",
    "\n",
    "<div class=\"alert alert-block alert-info\">\n",
    "<b>Naloga: </b> \n",
    "Uporabnika vprašajte za 3 celoštevilske vrednosti in jih izpišite s pomočjo print() in type().\n",
    "\n",
    "V eni vrstici preverite ali je druga vrednost enaka prvi in ali je tretja vrednost manjša ali enaka prvi.\n",
    "</div>"
   ]
  },
  {
   "cell_type": "code",
   "execution_count": 105,
   "metadata": {},
   "outputs": [
    {
     "name": "stdout",
     "output_type": "stream",
     "text": [
      "1: 1\n",
      "2: 1\n",
      "3: 2\n",
      "Tip: <class 'int'>, Vrednost: 1\n",
      "Tip: <class 'int'>, Vrednost: 1\n",
      "Tip: <class 'int'>, Vrednost: 2\n",
      "False\n"
     ]
    }
   ],
   "source": [
    "a = int(input(\"1: \"))\n",
    "b = int(input(\"2: \"))\n",
    "c = int(input(\"3: \"))\n",
    "\n",
    "print(f\"Tip: {type(a)}, Vrednost: {a}\")\n",
    "print(f\"Tip: {type(b)}, Vrednost: {b}\")\n",
    "print(f\"Tip: {type(c)}, Vrednost: {c}\")\n",
    "\n",
    "print((b == a) and (c <= a))"
   ]
  },
  {
   "cell_type": "markdown",
   "metadata": {},
   "source": [
    "## List\n",
    "\n",
    "List je zbirka elementov. (V drugih programskih jezikih je znan kot \"array\")\n",
    "\n",
    "V Pythonu je list definiran z oglatimi oklepaji [], elementi v listu pa so ločeni z vejico ,"
   ]
  },
  {
   "cell_type": "code",
   "execution_count": 9,
   "metadata": {},
   "outputs": [
    {
     "name": "stdout",
     "output_type": "stream",
     "text": [
      "['pingvin', 'medved', 'los', 'volk']\n"
     ]
    }
   ],
   "source": [
    "živali  = [\"pingvin\", \"medved\", \"los\", \"volk\"]\n",
    "print(živali)"
   ]
  },
  {
   "cell_type": "markdown",
   "metadata": {
    "collapsed": true
   },
   "source": [
    "Glavne karakteristike list-ov so:\n",
    "* Lists are ordered\n",
    "* Lists can contain any arbitrary objects.\n",
    "* List elements can be accessed by index.\n",
    "* Lists can be nested to arbitrary depth.\n",
    "* Lists are mutable.\n",
    "* Lists are dynamic."
   ]
  },
  {
   "cell_type": "markdown",
   "metadata": {},
   "source": [
    "### Lists are ordered\n",
    "\n",
    "To pomeni, da so podatki shranjenji v list v določenem zaporedju in ostanejo v tem zaporedju."
   ]
  },
  {
   "cell_type": "code",
   "execution_count": 10,
   "metadata": {},
   "outputs": [
    {
     "data": {
      "text/plain": [
       "False"
      ]
     },
     "execution_count": 10,
     "metadata": {},
     "output_type": "execute_result"
    }
   ],
   "source": [
    "a  = [\"pingvin\", \"medved\", \"los\", \"volk\"]\n",
    "b  = [\"los\", \"medved\", \"pingvin\", \"volk\"]\n",
    "a == b # čeprov mata list a in v enake elemente, niso v istem zaporedju zato nista enaka"
   ]
  },
  {
   "cell_type": "markdown",
   "metadata": {},
   "source": [
    "### Lists Can Contain Arbitrary Objects\n",
    "\n",
    "Za podatke v list-u ni potrebno, da so istega tipa (data type)."
   ]
  },
  {
   "cell_type": "code",
   "execution_count": 11,
   "metadata": {},
   "outputs": [
    {
     "data": {
      "text/plain": [
       "[21.42, 'medved', 3, 4, 'volk', False, 3.14159]"
      ]
     },
     "execution_count": 11,
     "metadata": {},
     "output_type": "execute_result"
    }
   ],
   "source": [
    "a = [21.42, \"medved\", 3, 4, \"volk\", False, 3.14159]\n",
    "a"
   ]
  },
  {
   "cell_type": "markdown",
   "metadata": {},
   "source": [
    "Podatki v list-u se lahko podvajajo."
   ]
  },
  {
   "cell_type": "code",
   "execution_count": 12,
   "metadata": {},
   "outputs": [
    {
     "data": {
      "text/plain": [
       "['pingvin', 'medved', 'los', 'volk', 'medved']"
      ]
     },
     "execution_count": 12,
     "metadata": {},
     "output_type": "execute_result"
    }
   ],
   "source": [
    "a  = [\"pingvin\", \"medved\", \"los\", \"volk\", \"medved\"]\n",
    "a"
   ]
  },
  {
   "cell_type": "markdown",
   "metadata": {},
   "source": [
    "### List Elements Can Be Accessed by Index"
   ]
  },
  {
   "cell_type": "code",
   "execution_count": 41,
   "metadata": {},
   "outputs": [],
   "source": [
    "a = ['foo', 'bar', 'baz', 'qux', 'quux', 'corge']"
   ]
  },
  {
   "attachments": {
    "image.png": {
     "image/png": "[encoded data removed]"
    }
   },
   "cell_type": "markdown",
   "metadata": {
    "collapsed": true
   },
   "source": [
    "Do elementov v list-u lahko dostopamo, če vemo njegov index (na kateri poziciji je).\n",
    "![image.png](attachment:image.png)\n",
    "\n",
    "V Pythonu se indexiranje začne z 0."
   ]
  },
  {
   "cell_type": "code",
   "execution_count": 42,
   "metadata": {},
   "outputs": [
    {
     "name": "stdout",
     "output_type": "stream",
     "text": [
      "foo\n",
      "baz\n",
      "qux\n"
     ]
    }
   ],
   "source": [
    "print(a[0])\n",
    "print(a[2])\n",
    "print(a[3])"
   ]
  },
  {
   "attachments": {
    "image.png": {
     "image/png": "[encoded data removed]"
    }
   },
   "cell_type": "markdown",
   "metadata": {},
   "source": [
    "Indexiramo lahko tudi z negativnimi vrednostmi:\n",
    "![image.png](attachment:image.png)"
   ]
  },
  {
   "cell_type": "code",
   "execution_count": 43,
   "metadata": {},
   "outputs": [
    {
     "name": "stdout",
     "output_type": "stream",
     "text": [
      "foo\n",
      "corge\n"
     ]
    }
   ],
   "source": [
    "print(a[-6])\n",
    "print(a[-1])"
   ]
  },
  {
   "cell_type": "markdown",
   "metadata": {},
   "source": [
    "#### Slicing\n",
    "\n",
    "To nam pomaga pridobiti določene pod-liste iz že narejene list-e."
   ]
  },
  {
   "cell_type": "code",
   "execution_count": 44,
   "metadata": {},
   "outputs": [
    {
     "name": "stdout",
     "output_type": "stream",
     "text": [
      "['baz', 'qux', 'quux']\n"
     ]
    }
   ],
   "source": [
    "print(a[2:5])\n",
    "# a[m:n] nam vrne list vrednosti, ki se nahajajo v a od vključno indexa m do izvzeto indexa n\n",
    "# a[2:5] nam vrne elemente v listu a od vključno 2 do ne vključno 5"
   ]
  },
  {
   "cell_type": "code",
   "execution_count": 45,
   "metadata": {},
   "outputs": [
    {
     "name": "stdout",
     "output_type": "stream",
     "text": [
      "['bar', 'baz', 'qux']\n"
     ]
    }
   ],
   "source": [
    "print(a[-5:-2]) # isto deluje z negativnimi indexi"
   ]
  },
  {
   "cell_type": "code",
   "execution_count": 46,
   "metadata": {},
   "outputs": [
    {
     "name": "stdout",
     "output_type": "stream",
     "text": [
      "['foo', 'bar', 'baz', 'qux']\n"
     ]
    }
   ],
   "source": [
    "print(a[:4]) # če izvzamemo začetni index nam začne pri indexu 0"
   ]
  },
  {
   "cell_type": "code",
   "execution_count": 47,
   "metadata": {},
   "outputs": [
    {
     "name": "stdout",
     "output_type": "stream",
     "text": [
      "['baz', 'qux', 'quux', 'corge']\n"
     ]
    }
   ],
   "source": [
    "print(a[2:]) # če izvzamemo zadnji index se sprehodi do konca seznama"
   ]
  },
  {
   "cell_type": "markdown",
   "metadata": {},
   "source": [
    "Specificeramo lahko tudi korak, za koliko naj se premakne."
   ]
  },
  {
   "cell_type": "code",
   "execution_count": 48,
   "metadata": {},
   "outputs": [
    {
     "name": "stdout",
     "output_type": "stream",
     "text": [
      "['foo', 'baz', 'quux']\n"
     ]
    }
   ],
   "source": [
    "print(a[::2]) # začne pri indexu 0, do konca, vsako drugo vrednost"
   ]
  },
  {
   "cell_type": "code",
   "execution_count": 49,
   "metadata": {},
   "outputs": [
    {
     "name": "stdout",
     "output_type": "stream",
     "text": [
      "['bar', 'qux']\n",
      "['corge', 'qux', 'bar']\n",
      "['corge', 'quux', 'qux', 'baz', 'bar', 'foo']\n"
     ]
    }
   ],
   "source": [
    "print(a[1:5:2])\n",
    "print(a[6:0:-2]) # korak je lahko tudi negativen\n",
    "print(a[::-1]) # sintaksa za sprehajanje po listu v obratnem vrstnem redu"
   ]
  },
  {
   "cell_type": "markdown",
   "metadata": {},
   "source": [
    "**Use the * operator to represent the “rest” of a list**\n",
    "\n",
    "Often times, especially when dealing with the arguments to functions, it’s useful\n",
    "to extract a few elements at the beginning (or end) of a list while keeping the\n",
    "“rest” for use later. Python 2 has no easy way to accomplish this aside from using\n",
    "slices as shown below. Python 3 allows you to use the * operator on the left\n",
    "hand side of an assignment to represent the rest of a sequence."
   ]
  },
  {
   "cell_type": "code",
   "execution_count": 56,
   "metadata": {},
   "outputs": [
    {
     "name": "stdout",
     "output_type": "stream",
     "text": [
      "['c', 'd', 'e']\n",
      "['b', 'c', 'd']\n",
      "['a', 'b', 'c']\n"
     ]
    }
   ],
   "source": [
    "some_list = ['a', 'b', 'c', 'd', 'e']\n",
    "(first, second, *rest) = some_list\n",
    "print(rest)\n",
    "(first, *middle, last) = some_list\n",
    "print(middle)\n",
    "(*head, second_last, last) = some_list\n",
    "print(head)"
   ]
  },
  {
   "cell_type": "markdown",
   "metadata": {},
   "source": [
    "### Lists can be nested to arbitrary depth\n",
    "\n",
    "Elementi v listu so lahko poljubnega data type.\n",
    "\n",
    "Lahko je tudi še en list. Tako lahko dodajamo dimenzije našemu list-u"
   ]
  },
  {
   "cell_type": "code",
   "execution_count": 120,
   "metadata": {},
   "outputs": [
    {
     "name": "stdout",
     "output_type": "stream",
     "text": [
      "['a', ['bb', ['ccc', 'ddd'], 'ee', 'ff'], 'g', ['hh', 'ii'], 'j']\n"
     ]
    }
   ],
   "source": [
    "x = ['a', ['bb', ['ccc', 'ddd'], 'ee', 'ff'], 'g', ['hh', 'ii'], 'j']\n",
    "print(x)"
   ]
  },
  {
   "attachments": {
    "image.png": {
     "image/png": "[encoded data removed]"
    }
   },
   "cell_type": "markdown",
   "metadata": {},
   "source": [
    "![image.png](attachment:image.png)"
   ]
  },
  {
   "cell_type": "code",
   "execution_count": 121,
   "metadata": {},
   "outputs": [
    {
     "name": "stdout",
     "output_type": "stream",
     "text": [
      "g\n"
     ]
    }
   ],
   "source": [
    "print(x[2]) # element na indexu 2 je preprosti string dolžine 1 črke"
   ]
  },
  {
   "cell_type": "code",
   "execution_count": 122,
   "metadata": {},
   "outputs": [
    {
     "name": "stdout",
     "output_type": "stream",
     "text": [
      "['bb', ['ccc', 'ddd'], 'ee', 'ff']\n"
     ]
    }
   ],
   "source": [
    "print(x[1]) # 1 element je nov list z 4 elementi"
   ]
  },
  {
   "cell_type": "code",
   "execution_count": 123,
   "metadata": {},
   "outputs": [
    {
     "name": "stdout",
     "output_type": "stream",
     "text": [
      "bb\n"
     ]
    }
   ],
   "source": [
    "print(x[1][0]) # da pridemo do njihovih elementov preprosto dodamo nov []"
   ]
  },
  {
   "cell_type": "code",
   "execution_count": 124,
   "metadata": {},
   "outputs": [
    {
     "name": "stdout",
     "output_type": "stream",
     "text": [
      "['ccc', 'ddd']\n",
      "ccc\n"
     ]
    }
   ],
   "source": [
    "print(x[1][1])\n",
    "print(x[1][1][0])"
   ]
  },
  {
   "cell_type": "markdown",
   "metadata": {},
   "source": [
    "### Lists Are Mutable\n",
    "\n",
    "To pomeni, da jih lahko spreminjamo. Lahko dodajamo elemente, jih brišemo, premikamo vrstni red, itd..\n",
    "\n",
    "> Most of the data types you have encountered so far have been atomic types. Integer or float objects, for example, are primitive units that can’t be further broken down. These types are immutable, meaning that they can’t be changed once they have been assigned. It doesn’t make much sense to think of changing the value of an integer. If you want a different integer, you just assign a different one.\n",
    "\n",
    "> By contrast, the string type is a composite type. Strings are reducible to smaller parts—the component characters. It might make sense to think of changing the characters in a string. But you can’t. In Python, strings are also immutable."
   ]
  },
  {
   "cell_type": "markdown",
   "metadata": {},
   "source": [
    "Spreminjanje vrednosti elementa."
   ]
  },
  {
   "cell_type": "code",
   "execution_count": 125,
   "metadata": {},
   "outputs": [
    {
     "name": "stdout",
     "output_type": "stream",
     "text": [
      "['pingvin', 'medved', 'los', 'volk']\n",
      "['pingvin', 'medved', 'koza', 'volk']\n"
     ]
    }
   ],
   "source": [
    "a  = [\"pingvin\", \"medved\", \"los\", \"volk\"]\n",
    "print(a)\n",
    "\n",
    "a[2] = \"koza\"\n",
    "print(a)"
   ]
  },
  {
   "cell_type": "markdown",
   "metadata": {},
   "source": [
    "Brisanje elementa."
   ]
  },
  {
   "cell_type": "code",
   "execution_count": 126,
   "metadata": {},
   "outputs": [
    {
     "name": "stdout",
     "output_type": "stream",
     "text": [
      "['pingvin', 'medved', 'los']\n"
     ]
    }
   ],
   "source": [
    "a  = [\"pingvin\", \"medved\", \"los\", \"volk\"]\n",
    "del a[3]\n",
    "print(a)"
   ]
  },
  {
   "cell_type": "markdown",
   "metadata": {},
   "source": [
    "Spreminjanje večih elementov naenkrat.\n",
    "\n",
    "Velikost dodanih elementov ni potrebno, da je ista kot velikost zamenjanih elementov. Python bo povečal oziroma zmanjšal list po potrebi."
   ]
  },
  {
   "cell_type": "code",
   "execution_count": 127,
   "metadata": {},
   "outputs": [
    {
     "name": "stdout",
     "output_type": "stream",
     "text": [
      "['pingvin', 'medved', 'los', 'volk']\n",
      "['pingvin', 1.1, 2.2, 3.3, 4.4, 5.5, 'volk']\n",
      "['pingvin', 'krava']\n",
      "['pingvin', 'volk']\n"
     ]
    }
   ],
   "source": [
    "a  = [\"pingvin\", \"medved\", \"los\", \"volk\"]\n",
    "print(a)\n",
    "\n",
    "a  = [\"pingvin\", \"medved\", \"los\", \"volk\"]\n",
    "a[1:3] = [1.1, 2.2, 3.3, 4.4, 5.5] \n",
    "print(a)\n",
    "\n",
    "a  = [\"pingvin\", \"medved\", \"los\", \"volk\"]\n",
    "a[1:4] = ['krava']\n",
    "print(a)\n",
    "\n",
    "a  = [\"pingvin\", \"medved\", \"los\", \"volk\"]\n",
    "a[1:3] = [] # slicane elemente zamenjamo z praznim listom -> jih izbrišemo\n",
    "print(a)"
   ]
  },
  {
   "cell_type": "markdown",
   "metadata": {},
   "source": [
    "Dodajanje elementov.\n",
    "\n",
    "Lahko dodajamo vrednosti s pomočjo .append() funkcije"
   ]
  },
  {
   "cell_type": "code",
   "execution_count": 128,
   "metadata": {},
   "outputs": [
    {
     "name": "stdout",
     "output_type": "stream",
     "text": [
      "['pingvin', 'medved', 'los', 'volk', 123]\n"
     ]
    }
   ],
   "source": [
    "a  = [\"pingvin\", \"medved\", \"los\", \"volk\"]\n",
    "a.append(123)\n",
    "print(a)"
   ]
  },
  {
   "cell_type": "markdown",
   "metadata": {},
   "source": [
    ".append() doda celotno vrednost na konec lista."
   ]
  },
  {
   "cell_type": "code",
   "execution_count": 129,
   "metadata": {},
   "outputs": [
    {
     "name": "stdout",
     "output_type": "stream",
     "text": [
      "['pingvin', 'medved', 'los', 'volk', [1, 2, 3]]\n"
     ]
    }
   ],
   "source": [
    "a  = [\"pingvin\", \"medved\", \"los\", \"volk\"]\n",
    "a.append([1, 2, 3])\n",
    "print(a)"
   ]
  },
  {
   "cell_type": "markdown",
   "metadata": {},
   "source": [
    "Če želimo dodati vsako vrednost posebej lahko uporabimo .extend()"
   ]
  },
  {
   "cell_type": "code",
   "execution_count": 130,
   "metadata": {},
   "outputs": [
    {
     "name": "stdout",
     "output_type": "stream",
     "text": [
      "['pingvin', 'medved', 'los', 'volk', 1, 2, 3]\n"
     ]
    }
   ],
   "source": [
    "a  = [\"pingvin\", \"medved\", \"los\", \"volk\"]\n",
    "a.extend([1, 2, 3])\n",
    "print(a)"
   ]
  },
  {
   "cell_type": "markdown",
   "metadata": {},
   "source": [
    "Dodajanje elementa na specifično mesto\n",
    "\n",
    "```python\n",
    "a.insert(<index>, <obj>)\n",
    "```\n",
    "Element na mestu index zamenjamo z object."
   ]
  },
  {
   "cell_type": "code",
   "execution_count": 131,
   "metadata": {},
   "outputs": [
    {
     "name": "stdout",
     "output_type": "stream",
     "text": [
      "['pingvin', 'medved', 'los', 3.14159, 'volk']\n"
     ]
    }
   ],
   "source": [
    "a  = [\"pingvin\", \"medved\", \"los\", \"volk\"]\n",
    "a.insert(3, 3.14159)\n",
    "print(a)"
   ]
  },
  {
   "cell_type": "markdown",
   "metadata": {},
   "source": [
    "```python\n",
    "a.remove(<obj>)\n",
    "```\n",
    "Odstranimo object iz liste."
   ]
  },
  {
   "cell_type": "code",
   "execution_count": 132,
   "metadata": {},
   "outputs": [
    {
     "name": "stdout",
     "output_type": "stream",
     "text": [
      "['pingvin', 'medved', 'volk']\n"
     ]
    }
   ],
   "source": [
    "a  = [\"pingvin\", \"medved\", \"los\", \"volk\"]\n",
    "a.remove(\"los\")\n",
    "print(a)"
   ]
  },
  {
   "cell_type": "markdown",
   "metadata": {},
   "source": [
    "```python\n",
    "a.pop(index=-1)\n",
    "```\n",
    "Odstranimo element z indexa.\n",
    "Metoda nam vrne izbrisani element.\n",
    "Default pop je zadnji element."
   ]
  },
  {
   "cell_type": "code",
   "execution_count": 133,
   "metadata": {},
   "outputs": [
    {
     "name": "stdout",
     "output_type": "stream",
     "text": [
      "['pingvin', 'los']\n",
      "volk\n",
      "medved\n"
     ]
    }
   ],
   "source": [
    "a  = [\"pingvin\", \"medved\", \"los\", \"volk\"]\n",
    "default_pop = a.pop()\n",
    "naslednji_pop = a.pop(1)\n",
    "\n",
    "print(a)\n",
    "print(default_pop)\n",
    "print(naslednji_pop)"
   ]
  },
  {
   "cell_type": "markdown",
   "metadata": {},
   "source": [
    "### Lists Are Dynamic\n",
    "\n",
    "Dynamic pove, da ni treba na začetku definirat, da bo to list."
   ]
  },
  {
   "cell_type": "code",
   "execution_count": 134,
   "metadata": {},
   "outputs": [
    {
     "name": "stdout",
     "output_type": "stream",
     "text": [
      "['pingvin', 'medved', 'los', 'volk']\n",
      "<class 'list'>\n",
      "1\n",
      "<class 'int'>\n"
     ]
    }
   ],
   "source": [
    "a  = [\"pingvin\", \"medved\", \"los\", \"volk\"]\n",
    "print(a)\n",
    "print(type(a))\n",
    "\n",
    "a = 1\n",
    "print(a)\n",
    "print(type(a))"
   ]
  },
  {
   "cell_type": "code",
   "execution_count": null,
   "metadata": {},
   "outputs": [],
   "source": []
  },
  {
   "cell_type": "code",
   "execution_count": null,
   "metadata": {},
   "outputs": [],
   "source": []
  },
  {
   "cell_type": "markdown",
   "metadata": {},
   "source": [
    "## Vaja 01\n",
    "\n",
    "\n",
    "\n",
    "<div class=\"alert alert-block alert-info\">\n",
    "<b>Naloga: </b> \n",
    "Iz sledečega list-a pridobite vrednost **ffff**\n",
    "</div>\n",
    "\n",
    "```python\n",
    "our_list = [\"a\", [\"bb\", \"cc\"], \"d\", [[\"eee\"], [\"ffff\"], \"ggg\"]]\n",
    "```"
   ]
  },
  {
   "cell_type": "code",
   "execution_count": 192,
   "metadata": {
    "scrolled": false
   },
   "outputs": [
    {
     "name": "stdout",
     "output_type": "stream",
     "text": [
      "['a', ['bb', 'cc'], 'd', [['eee'], ['ffff'], 'ggg']]\n",
      "[['eee'], ['ffff'], 'ggg']\n",
      "['ffff']\n",
      "ffff\n"
     ]
    }
   ],
   "source": [
    "our_list = [\"a\", [\"bb\", \"cc\"], \"d\", [[\"eee\"], [\"ffff\"], \"ggg\"]]\n",
    "\n",
    "print(our_list)\n",
    "print(our_list[3])\n",
    "print(our_list[3][1])\n",
    "print(our_list[3][1][0])"
   ]
  },
  {
   "cell_type": "markdown",
   "metadata": {},
   "source": [
    "## Vaja 02\n",
    "\n",
    "<div class=\"alert alert-block alert-info\">\n",
    "<b>Naloga: </b> \n",
    "Pri sledečem list-u začnite z vrednostjo 4 in vzemite vsako 3 vrednost.\n",
    "</div>\n",
    "\n",
    "```python\n",
    "our_list = [1,2,3,4,5,6,7,8,9,10,11,12,13,14,15,16,17,18,19,20]\n",
    "\n",
    "Rešitev:\n",
    "[4, 7, 10, 13, 16, 19]\n",
    "```\n"
   ]
  },
  {
   "cell_type": "code",
   "execution_count": 13,
   "metadata": {},
   "outputs": [
    {
     "name": "stdout",
     "output_type": "stream",
     "text": [
      "[4, 7, 10, 13, 16, 19]\n"
     ]
    }
   ],
   "source": [
    "our_list = [1,2,3,4,5,6,7,8,9,10,11,12,13,14,15,16,17,18,19,20]\n",
    "\n",
    "our_sublist = (our_list[3::3])\n",
    "print(our_sublist)"
   ]
  },
  {
   "cell_type": "code",
   "execution_count": null,
   "metadata": {},
   "outputs": [],
   "source": []
  },
  {
   "cell_type": "code",
   "execution_count": null,
   "metadata": {},
   "outputs": [],
   "source": []
  },
  {
   "cell_type": "markdown",
   "metadata": {},
   "source": [
    "# Tuples\n",
    "\n",
    "Imajo enake lastnosti kot list, vendar so \"immutable\" - Njihovih vrednosti ne moremo spreminjati.\n",
    "\n",
    "Definira se jih z navadnimi oklepaji ()"
   ]
  },
  {
   "cell_type": "code",
   "execution_count": 135,
   "metadata": {},
   "outputs": [
    {
     "name": "stdout",
     "output_type": "stream",
     "text": [
      "('pingvin', 'medved', 'los', 'volk')\n"
     ]
    }
   ],
   "source": [
    "t  = (\"pingvin\", \"medved\", \"los\", \"volk\")\n",
    "print(t)"
   ]
  },
  {
   "cell_type": "code",
   "execution_count": 136,
   "metadata": {},
   "outputs": [
    {
     "name": "stdout",
     "output_type": "stream",
     "text": [
      "Touples ARE ordered\n"
     ]
    }
   ],
   "source": [
    "# Primer: Touples are ordered\n",
    "t  = (\"pingvin\", \"medved\", \"los\", \"volk\")\n",
    "t2  = (\"pingvin\", \"volk\", \"medved\", \"los\")\n",
    "\n",
    "if t == t2:\n",
    "    print(\"Touples are NOT ordered\")\n",
    "else:\n",
    "    print(\"Touples ARE ordered\")"
   ]
  },
  {
   "cell_type": "code",
   "execution_count": 137,
   "metadata": {},
   "outputs": [
    {
     "name": "stdout",
     "output_type": "stream",
     "text": [
      "('pingvin', 'medved', 'los', 'volk', 1.23, True)\n"
     ]
    }
   ],
   "source": [
    "# Primer: Touples can contain any arbitrary object\n",
    "t  = (\"pingvin\", \"medved\", \"los\", \"volk\", 1.23, True)\n",
    "print(t)"
   ]
  },
  {
   "cell_type": "code",
   "execution_count": 138,
   "metadata": {},
   "outputs": [
    {
     "name": "stdout",
     "output_type": "stream",
     "text": [
      "('pingvin', 'medved', 'los', 'volk')\n",
      "los\n",
      "('medved', 'los')\n"
     ]
    }
   ],
   "source": [
    "# Primer: Touples are indexed\n",
    "t  = (\"pingvin\", \"medved\", \"los\", \"volk\")\n",
    "print(t)\n",
    "\n",
    "print(t[2]) # primer, da so elementi indexirani\n",
    "\n",
    "print(t[1:3]) # slicing primer"
   ]
  },
  {
   "cell_type": "code",
   "execution_count": 139,
   "metadata": {},
   "outputs": [
    {
     "name": "stdout",
     "output_type": "stream",
     "text": [
      "('pingvin', 'medved', 'los', 'volk', ('lisica', 'krava'))\n"
     ]
    }
   ],
   "source": [
    "# Primer: Touples can be nested\n",
    "t  = (\"pingvin\", \"medved\", \"los\", \"volk\", (\"lisica\", \"krava\"))\n",
    "print(t)"
   ]
  },
  {
   "cell_type": "code",
   "execution_count": 140,
   "metadata": {},
   "outputs": [
    {
     "ename": "TypeError",
     "evalue": "'tuple' object does not support item assignment",
     "output_type": "error",
     "traceback": [
      "\u001b[1;31m---------------------------------------------------------------------------\u001b[0m",
      "\u001b[1;31mTypeError\u001b[0m                                 Traceback (most recent call last)",
      "\u001b[1;32m<ipython-input-140-1f7dd710d595>\u001b[0m in \u001b[0;36m<module>\u001b[1;34m\u001b[0m\n\u001b[0;32m      1\u001b[0m \u001b[1;31m# Primer: Touples are IMMUTABLE\u001b[0m\u001b[1;33m\u001b[0m\u001b[1;33m\u001b[0m\u001b[1;33m\u001b[0m\u001b[0m\n\u001b[0;32m      2\u001b[0m \u001b[0mt\u001b[0m \u001b[1;33m=\u001b[0m \u001b[1;33m(\u001b[0m\u001b[1;34m\"pingvin\"\u001b[0m\u001b[1;33m,\u001b[0m \u001b[1;34m\"medved\"\u001b[0m\u001b[1;33m,\u001b[0m \u001b[1;34m\"los\"\u001b[0m\u001b[1;33m,\u001b[0m \u001b[1;34m\"volk\"\u001b[0m\u001b[1;33m)\u001b[0m\u001b[1;33m\u001b[0m\u001b[1;33m\u001b[0m\u001b[0m\n\u001b[1;32m----> 3\u001b[1;33m \u001b[0mt\u001b[0m\u001b[1;33m[\u001b[0m\u001b[1;36m1\u001b[0m\u001b[1;33m]\u001b[0m \u001b[1;33m=\u001b[0m \u001b[1;34m\"Bork!\"\u001b[0m\u001b[1;33m\u001b[0m\u001b[1;33m\u001b[0m\u001b[0m\n\u001b[0m",
      "\u001b[1;31mTypeError\u001b[0m: 'tuple' object does not support item assignment"
     ]
    }
   ],
   "source": [
    "# Primer: Touples are IMMUTABLE\n",
    "t = (\"pingvin\", \"medved\", \"los\", \"volk\")\n",
    "t[1] = \"Bork!\""
   ]
  },
  {
   "cell_type": "code",
   "execution_count": 141,
   "metadata": {},
   "outputs": [
    {
     "name": "stdout",
     "output_type": "stream",
     "text": [
      "('pingvin', 'medved', 'los', 'volk')\n",
      "<class 'tuple'>\n",
      "2\n",
      "<class 'int'>\n"
     ]
    }
   ],
   "source": [
    "# Primer: da je dinamična\n",
    "t  = (\"pingvin\", \"medved\", \"los\", \"volk\")\n",
    "print(t)\n",
    "print(type(t))\n",
    "\n",
    "t = 2\n",
    "print(t)\n",
    "print(type(t))"
   ]
  },
  {
   "cell_type": "markdown",
   "metadata": {},
   "source": [
    "Zakaj bi uporabljali touple namesto list?\n",
    "\n",
    "* Program je hitrejši, če manipulira z touple kot pa z list\n",
    "* Če ne želimo spreminjati elementov"
   ]
  },
  {
   "cell_type": "markdown",
   "metadata": {},
   "source": [
    "**TECHNICAL**\n",
    "\n",
    "Treba pazit kadar inicializiramo touple samo z eno vrednostjo."
   ]
  },
  {
   "cell_type": "code",
   "execution_count": 142,
   "metadata": {},
   "outputs": [
    {
     "name": "stdout",
     "output_type": "stream",
     "text": [
      "(1, 2, 3, 4)\n",
      "<class 'tuple'>\n",
      "\n",
      "()\n",
      "<class 'tuple'>\n",
      "\n",
      "2\n",
      "<class 'int'>\n",
      "\n",
      "(2,)\n",
      "<class 'tuple'>\n"
     ]
    }
   ],
   "source": [
    "t = (1,2,3,4) # nebi smel bit problem\n",
    "print(t)\n",
    "print(type(t))\n",
    "print()\n",
    "\n",
    "t = () # nebi smel bit problem. Prazen touple\n",
    "print(t)\n",
    "print(type(t))\n",
    "print()\n",
    "\n",
    "t = (2) # kle nastane problem\n",
    "print(t)\n",
    "print(type(t))\n",
    "print()\n",
    "'''\n",
    "Since parentheses are also used to define operator precedence in expressions, Python evaluates \n",
    "the expression (2) as simply the integer 2 and creates an int object. To tell Python that you really want \n",
    "to define a singleton tuple, include a trailing comma (,) just before the closing parenthesis.\n",
    "'''\n",
    "\n",
    "t = (2,)\n",
    "print(t)\n",
    "print(type(t))"
   ]
  },
  {
   "cell_type": "markdown",
   "metadata": {},
   "source": [
    "# Dictionaries\n",
    "\n",
    "Njihove lastnosti so sledeče:\n",
    "* Are insertion ordered (vrstni red elementov je odvisen od vrstega reda dodajanja) (to velja od python 3.6+)\n",
    "* Element accession (do elementov se dostopa preko ključev, ne preko indexov)\n",
    "* Can be nested (kot element ima lahko še en dictionary, list, touple, ....)\n",
    "* Are mutable (vrednosti elementov se lahko spreminjajo)\n",
    "* Are dynamic (sej to velja za vse pr pythonu)\n",
    "\n",
    "Dictionary je sestavljen iz parov ključa in vrednosti.\n",
    "Vsak Ključ ima svojo vrednost."
   ]
  },
  {
   "cell_type": "code",
   "execution_count": 96,
   "metadata": {},
   "outputs": [
    {
     "name": "stdout",
     "output_type": "stream",
     "text": [
      "{'macek': 'Silvestre', 'pes': 'Fido', 'papagaj': 'Kakadu'}\n",
      "<class 'dict'>\n"
     ]
    }
   ],
   "source": [
    "d = {\n",
    "'macek' : 'Silvestre',\n",
    "'pes'   : 'Fido',\n",
    "'papagaj': 'Kakadu'\n",
    "}\n",
    "print(d)\n",
    "print(type(d))"
   ]
  },
  {
   "cell_type": "code",
   "execution_count": 97,
   "metadata": {},
   "outputs": [
    {
     "name": "stdout",
     "output_type": "stream",
     "text": [
      "{'macek': 1, 'pes': 'Fido', 'papagaj': False}\n"
     ]
    }
   ],
   "source": [
    "# Primer: Can contain any arbitrary objects\n",
    "d = {\n",
    "'macek' : 1,\n",
    "'pes'   : 'Fido',\n",
    "'papagaj': False\n",
    "}\n",
    "print(d)"
   ]
  },
  {
   "cell_type": "markdown",
   "metadata": {},
   "source": [
    "### Accessing dictionary value\n",
    "\n",
    "Vrednosti najdemo preko ključev."
   ]
  },
  {
   "cell_type": "code",
   "execution_count": 145,
   "metadata": {},
   "outputs": [
    {
     "name": "stdout",
     "output_type": "stream",
     "text": [
      "Kakadu\n"
     ]
    }
   ],
   "source": [
    "d = {\n",
    "'macek' : 'Silvestre',\n",
    "'pes'   : 'Fido',\n",
    "'papagaj': 'Kakadu'\n",
    "}\n",
    "print(d['papagaj'])"
   ]
  },
  {
   "cell_type": "markdown",
   "metadata": {},
   "source": [
    "Če vpišemo ključ, ki ne obstaja python vrne napako."
   ]
  },
  {
   "cell_type": "code",
   "execution_count": 146,
   "metadata": {},
   "outputs": [
    {
     "ename": "KeyError",
     "evalue": "'koza'",
     "output_type": "error",
     "traceback": [
      "\u001b[1;31m---------------------------------------------------------------------------\u001b[0m",
      "\u001b[1;31mKeyError\u001b[0m                                  Traceback (most recent call last)",
      "\u001b[1;32m<ipython-input-146-91bc34ee01c4>\u001b[0m in \u001b[0;36m<module>\u001b[1;34m\u001b[0m\n\u001b[0;32m      4\u001b[0m \u001b[1;34m'papagaj'\u001b[0m\u001b[1;33m:\u001b[0m \u001b[1;34m'Kakadu'\u001b[0m\u001b[1;33m\u001b[0m\u001b[1;33m\u001b[0m\u001b[0m\n\u001b[0;32m      5\u001b[0m }\n\u001b[1;32m----> 6\u001b[1;33m \u001b[0md\u001b[0m\u001b[1;33m[\u001b[0m\u001b[1;34m'koza'\u001b[0m\u001b[1;33m]\u001b[0m \u001b[1;31m# should give KeyError\u001b[0m\u001b[1;33m\u001b[0m\u001b[1;33m\u001b[0m\u001b[0m\n\u001b[0m",
      "\u001b[1;31mKeyError\u001b[0m: 'koza'"
     ]
    }
   ],
   "source": [
    "d = {\n",
    "'macek' : 'Silvestre',\n",
    "'pes'   : 'Fido',\n",
    "'papagaj': 'Kakadu'\n",
    "}\n",
    "d['koza'] # should give KeyError"
   ]
  },
  {
   "cell_type": "markdown",
   "metadata": {},
   "source": [
    "Dodajanje novih vrednosti"
   ]
  },
  {
   "cell_type": "code",
   "execution_count": 149,
   "metadata": {},
   "outputs": [
    {
     "name": "stdout",
     "output_type": "stream",
     "text": [
      "{'macek': 'Silvestre', 'pes': 'Fido', 'papagaj': 'Kakadu', 'koza': 'Micka'}\n"
     ]
    }
   ],
   "source": [
    "d = {\n",
    "'macek' : 'Silvestre',\n",
    "'pes'   : 'Fido',\n",
    "'papagaj': 'Kakadu'\n",
    "}\n",
    "d['koza'] = \"Micka\"\n",
    "print(d)"
   ]
  },
  {
   "cell_type": "markdown",
   "metadata": {},
   "source": [
    "Posodabljanje vrednosti."
   ]
  },
  {
   "cell_type": "code",
   "execution_count": 150,
   "metadata": {},
   "outputs": [
    {
     "name": "stdout",
     "output_type": "stream",
     "text": [
      "{'macek': 'Silvestre', 'pes': 'Fido', 'papagaj': 'Kakadu', 'koza': 'Helga'}\n"
     ]
    }
   ],
   "source": [
    "d['koza'] = 'Helga'\n",
    "print(d)"
   ]
  },
  {
   "cell_type": "markdown",
   "metadata": {},
   "source": [
    "Brisanje elementa."
   ]
  },
  {
   "cell_type": "code",
   "execution_count": 151,
   "metadata": {},
   "outputs": [
    {
     "name": "stdout",
     "output_type": "stream",
     "text": [
      "{'macek': 'Silvestre', 'pes': 'Fido', 'papagaj': 'Kakadu'}\n"
     ]
    }
   ],
   "source": [
    "del d['koza']\n",
    "print(d)"
   ]
  },
  {
   "cell_type": "markdown",
   "metadata": {},
   "source": [
    "# Restrictions on dictionary keys"
   ]
  },
  {
   "cell_type": "markdown",
   "metadata": {},
   "source": [
    "Kot Ključ lahko uporabimo poljubne vrednosti, dokler so \"immutable\". Sm spadajo integer, float, string, boolean, touple.\n",
    "\n",
    "Touple je lahko ključ le, če so elementi znotraj njega tudi \"immutable\" (strings, integers, floats,...)."
   ]
  },
  {
   "cell_type": "code",
   "execution_count": 100,
   "metadata": {},
   "outputs": [
    {
     "name": "stdout",
     "output_type": "stream",
     "text": [
      "{1: 'a', 2.3: 'b', 'string': 'c', None: 'd', (1, 'touple'): 'e'}\n",
      "b\n",
      "d\n",
      "e\n"
     ]
    }
   ],
   "source": [
    "d = {1: 'a', \n",
    "     2.3: 'b', \n",
    "     \"string\": 'c', \n",
    "     None: 'd', \n",
    "     (1,\"touple\"):'e',\n",
    "    }\n",
    "print(d)\n",
    "print(d[2.3])\n",
    "print(d[None])\n",
    "print(d[(1, \"touple\")])\n",
    "# PAZI: Če daš True namest None bo narobe deloval. Pomojm tretira 1 kt True pa se mu zmeša mal. \n",
    "# Sej keywords dajat sm je nesmiselno"
   ]
  },
  {
   "cell_type": "code",
   "execution_count": 103,
   "metadata": {},
   "outputs": [
    {
     "ename": "TypeError",
     "evalue": "unhashable type: 'list'",
     "output_type": "error",
     "traceback": [
      "\u001b[1;31m---------------------------------------------------------------------------\u001b[0m",
      "\u001b[1;31mTypeError\u001b[0m                                 Traceback (most recent call last)",
      "\u001b[1;32m<ipython-input-103-f98311767e81>\u001b[0m in \u001b[0;36m<module>\u001b[1;34m\u001b[0m\n\u001b[0;32m      1\u001b[0m \u001b[1;31m# Primer: Vrže error, ker hočemo kot ključ uporabiti list, ki pa je mutable\u001b[0m\u001b[1;33m\u001b[0m\u001b[1;33m\u001b[0m\u001b[1;33m\u001b[0m\u001b[0m\n\u001b[1;32m----> 2\u001b[1;33m \u001b[0md\u001b[0m \u001b[1;33m=\u001b[0m \u001b[1;33m{\u001b[0m\u001b[1;33m[\u001b[0m\u001b[1;36m1\u001b[0m\u001b[1;33m,\u001b[0m\u001b[1;36m1\u001b[0m\u001b[1;33m]\u001b[0m\u001b[1;33m:\u001b[0m \u001b[1;34m'a'\u001b[0m\u001b[1;33m,\u001b[0m \u001b[1;33m[\u001b[0m\u001b[1;36m1\u001b[0m\u001b[1;33m,\u001b[0m\u001b[1;36m2\u001b[0m\u001b[1;33m]\u001b[0m\u001b[1;33m:\u001b[0m \u001b[1;34m'b'\u001b[0m\u001b[1;33m}\u001b[0m\u001b[1;33m\u001b[0m\u001b[1;33m\u001b[0m\u001b[0m\n\u001b[0m\u001b[0;32m      3\u001b[0m \u001b[0md\u001b[0m \u001b[1;33m=\u001b[0m \u001b[1;33m{\u001b[0m\u001b[1;33m(\u001b[0m\u001b[1;36m1\u001b[0m\u001b[1;33m,\u001b[0m\u001b[1;36m2\u001b[0m\u001b[1;33m,\u001b[0m\u001b[1;33m[\u001b[0m\u001b[1;36m1\u001b[0m\u001b[1;33m,\u001b[0m\u001b[1;36m2\u001b[0m\u001b[1;33m]\u001b[0m\u001b[1;33m)\u001b[0m\u001b[1;33m:\u001b[0m \u001b[1;34m\"f\"\u001b[0m\u001b[1;33m,\u001b[0m\u001b[1;33m}\u001b[0m\u001b[1;33m\u001b[0m\u001b[1;33m\u001b[0m\u001b[0m\n",
      "\u001b[1;31mTypeError\u001b[0m: unhashable type: 'list'"
     ]
    }
   ],
   "source": [
    "# Primer: Vrže error, ker hočemo kot ključ uporabiti list, ki pa je mutable\n",
    "d = {[1,1]: 'a', [1,2]: 'b'}\n",
    "d = {(1,2,[1,2]): \"f\",}"
   ]
  },
  {
   "cell_type": "markdown",
   "metadata": {},
   "source": [
    "# **Technical Note**: \n",
    "Why does the error message say “unhashable” rather than “mutable”? Python uses hash values internally to implement dictionary keys, so an object must be hashable to be used as a key.\n",
    "\n",
    "https://docs.python.org/3/glossary.html#term-hashable\n",
    "\n",
    "> An object is hashable if it has a hash value which never changes during its lifetime (it needs a __hash__() method), and can be compared to other objects (it needs an __eq__() method). Hashable objects which compare equal must have the same hash value.\n",
    "\n",
    "> Hashability makes an object usable as a dictionary key and a set member, because these data structures use the hash value internally.\n",
    "\n",
    "> All of Python’s immutable built-in objects are hashable; mutable containers (such as lists or dictionaries) are not. Objects which are instances of user-defined classes are hashable by default. They all compare unequal (except with themselves), and their hash value is derived from their id()."
   ]
  },
  {
   "cell_type": "markdown",
   "metadata": {},
   "source": [
    "AMPAK\n",
    "\n",
    "Ključ more bit edinstven (se ne sme ponovit):"
   ]
  },
  {
   "cell_type": "code",
   "execution_count": 104,
   "metadata": {},
   "outputs": [
    {
     "name": "stdout",
     "output_type": "stream",
     "text": [
      "{'macek': 'Amadeus', 'pes': 'Fido', 'papagaj': 'Kakadu'}\n"
     ]
    }
   ],
   "source": [
    "d = {\n",
    "'macek' : 'Silvestre',\n",
    "'pes'   : 'Fido',\n",
    "'papagaj': 'Kakadu',\n",
    "'macek' : 'Amadeus'\n",
    "}\n",
    "print(d)"
   ]
  },
  {
   "cell_type": "markdown",
   "metadata": {},
   "source": [
    "# Built-in Dictionary Methods\n",
    "\n",
    "Še nekaj ostalih metod.\n",
    "\n",
    "> A rabm to vse kazat? Pomojm se velk lah preskoč, če ni časa. Če ne pa na hitr 1 primer pokaže."
   ]
  },
  {
   "cell_type": "markdown",
   "metadata": {},
   "source": [
    "```python\n",
    "d.clear()\n",
    "```\n",
    "d.clear() empties dictionary d of all key-value pairs:"
   ]
  },
  {
   "cell_type": "code",
   "execution_count": 155,
   "metadata": {},
   "outputs": [
    {
     "name": "stdout",
     "output_type": "stream",
     "text": [
      "{'a': 10, 'b': 20, 'c': 30}\n",
      "{}\n"
     ]
    }
   ],
   "source": [
    "d = {'a': 10, 'b': 20, 'c': 30}\n",
    "print(d)\n",
    "\n",
    "d.clear()\n",
    "print(d)"
   ]
  },
  {
   "cell_type": "markdown",
   "metadata": {},
   "source": [
    "``` python\n",
    "d.get(<key>[, <default>])\n",
    "```\n",
    "get() metoda nam nudi preprost način kako dobimo vrednost ključa brez, da preverimo, če ključ sploh obstaja.\n",
    "\n",
    "Če ključ ne obstaja dobimo None"
   ]
  },
  {
   "cell_type": "code",
   "execution_count": 156,
   "metadata": {},
   "outputs": [
    {
     "name": "stdout",
     "output_type": "stream",
     "text": [
      "20\n",
      "None\n"
     ]
    }
   ],
   "source": [
    "d = {'a': 10, 'b': 20, 'c': 30}\n",
    "print(d.get('b'))\n",
    "print(d.get('z'))"
   ]
  },
  {
   "cell_type": "markdown",
   "metadata": {},
   "source": [
    "Če ključ ni najden in smo specificirali dodaten argument nam vrne le tega namesto None."
   ]
  },
  {
   "cell_type": "code",
   "execution_count": 157,
   "metadata": {},
   "outputs": [
    {
     "name": "stdout",
     "output_type": "stream",
     "text": [
      "-5\n"
     ]
    }
   ],
   "source": [
    "d = {'a': 10, 'b': 20, 'c': 30}\n",
    "print(d.get('z', -5))"
   ]
  },
  {
   "cell_type": "markdown",
   "metadata": {},
   "source": [
    "```python\n",
    "d.items()\n",
    "```\n",
    "\n",
    "Vrne nam list sestavljen iz touple, ki so sestavljeni iz ključ-vrednost parov. Prvi element toupla je ključ, drugi je vrednost."
   ]
  },
  {
   "cell_type": "code",
   "execution_count": 158,
   "metadata": {},
   "outputs": [
    {
     "name": "stdout",
     "output_type": "stream",
     "text": [
      "[('a', 10), ('b', 20), ('c', 30)]\n",
      "('b', 20)\n",
      "20\n"
     ]
    }
   ],
   "source": [
    "d = {'a': 10, 'b': 20, 'c': 30}\n",
    "print(list(d.items()))\n",
    "print(list(d.items())[1])\n",
    "print(list(d.items())[1][1])"
   ]
  },
  {
   "cell_type": "markdown",
   "metadata": {},
   "source": [
    "```python\n",
    "d.keys()\n",
    "```\n",
    "Vrne nam list ključev."
   ]
  },
  {
   "cell_type": "code",
   "execution_count": 159,
   "metadata": {},
   "outputs": [
    {
     "name": "stdout",
     "output_type": "stream",
     "text": [
      "['a', 'b', 'c']\n"
     ]
    }
   ],
   "source": [
    "d = {'a': 10, 'b': 20, 'c': 30}\n",
    "print(list(d.keys()))"
   ]
  },
  {
   "cell_type": "markdown",
   "metadata": {},
   "source": [
    "```python\n",
    "d.values()\n",
    "```\n",
    "Vrne nam list vrednosti."
   ]
  },
  {
   "cell_type": "code",
   "execution_count": 160,
   "metadata": {},
   "outputs": [
    {
     "name": "stdout",
     "output_type": "stream",
     "text": [
      "[10, 10, 10]\n"
     ]
    }
   ],
   "source": [
    "d = {'a': 10, 'b': 10, 'c': 10}\n",
    "print(list(d.values()))"
   ]
  },
  {
   "cell_type": "markdown",
   "metadata": {},
   "source": [
    "```python\n",
    "d.pop(<key>[, <default>])\n",
    "```\n",
    "Če ključ obstaja v dictionary ga odstrani skupaj z njegovo vrednostjo."
   ]
  },
  {
   "cell_type": "code",
   "execution_count": 161,
   "metadata": {},
   "outputs": [
    {
     "name": "stdout",
     "output_type": "stream",
     "text": [
      "20\n",
      "{'a': 10, 'c': 30}\n"
     ]
    }
   ],
   "source": [
    "d = {'a': 10, 'b': 20, 'c': 30}\n",
    "print(d.pop('b'))\n",
    "print(d)"
   ]
  },
  {
   "cell_type": "markdown",
   "metadata": {},
   "source": [
    "Če ne najde ključa nam vrne napako."
   ]
  },
  {
   "cell_type": "code",
   "execution_count": 162,
   "metadata": {},
   "outputs": [
    {
     "ename": "KeyError",
     "evalue": "'z'",
     "output_type": "error",
     "traceback": [
      "\u001b[1;31m---------------------------------------------------------------------------\u001b[0m",
      "\u001b[1;31mKeyError\u001b[0m                                  Traceback (most recent call last)",
      "\u001b[1;32m<ipython-input-162-f36d736a326b>\u001b[0m in \u001b[0;36m<module>\u001b[1;34m\u001b[0m\n\u001b[0;32m      1\u001b[0m \u001b[0md\u001b[0m \u001b[1;33m=\u001b[0m \u001b[1;33m{\u001b[0m\u001b[1;34m'a'\u001b[0m\u001b[1;33m:\u001b[0m \u001b[1;36m10\u001b[0m\u001b[1;33m,\u001b[0m \u001b[1;34m'b'\u001b[0m\u001b[1;33m:\u001b[0m \u001b[1;36m20\u001b[0m\u001b[1;33m,\u001b[0m \u001b[1;34m'c'\u001b[0m\u001b[1;33m:\u001b[0m \u001b[1;36m30\u001b[0m\u001b[1;33m}\u001b[0m\u001b[1;33m\u001b[0m\u001b[1;33m\u001b[0m\u001b[0m\n\u001b[1;32m----> 2\u001b[1;33m \u001b[0mprint\u001b[0m\u001b[1;33m(\u001b[0m\u001b[0md\u001b[0m\u001b[1;33m.\u001b[0m\u001b[0mpop\u001b[0m\u001b[1;33m(\u001b[0m\u001b[1;34m'z'\u001b[0m\u001b[1;33m)\u001b[0m\u001b[1;33m)\u001b[0m\u001b[1;33m\u001b[0m\u001b[1;33m\u001b[0m\u001b[0m\n\u001b[0m",
      "\u001b[1;31mKeyError\u001b[0m: 'z'"
     ]
    }
   ],
   "source": [
    "d = {'a': 10, 'b': 20, 'c': 30}\n",
    "print(d.pop('z'))"
   ]
  },
  {
   "cell_type": "markdown",
   "metadata": {},
   "source": [
    "Če ključ ni najden, smo pa dodatno specificirali default argument, potem nam vrne vrednost default argumenta in ne dvigne nobene napake."
   ]
  },
  {
   "cell_type": "code",
   "execution_count": 163,
   "metadata": {},
   "outputs": [
    {
     "name": "stdout",
     "output_type": "stream",
     "text": [
      "Ni našlo ključa\n"
     ]
    }
   ],
   "source": [
    "d = {'a': 10, 'b': 20, 'c': 30}\n",
    "print(d.pop('z', \"Ni našlo ključa\"))"
   ]
  },
  {
   "cell_type": "markdown",
   "metadata": {},
   "source": [
    "```python\n",
    "d.popitem()\n",
    "```\n",
    "Odstrani random, arbitrarni ključ-vrednost par in nam ga vrne kot touple.\n",
    ">popitem() is useful to destructively iterate over a dictionary, as often used in set algorithms"
   ]
  },
  {
   "cell_type": "code",
   "execution_count": 164,
   "metadata": {},
   "outputs": [
    {
     "name": "stdout",
     "output_type": "stream",
     "text": [
      "('g', 70)\n",
      "{'a': 10, 'b': 20, 'c': 30, 'd': 40, 'e': 50, 'f': 60}\n"
     ]
    }
   ],
   "source": [
    "d = {'a': 10, 'b': 20, 'c': 30, 'd': 40, 'e': 50, 'f': 60, 'g': 70}\n",
    "print(d.popitem())\n",
    "print(d)"
   ]
  },
  {
   "cell_type": "markdown",
   "metadata": {},
   "source": [
    "Če je dictionary prazen dobimo KeyError error."
   ]
  },
  {
   "cell_type": "code",
   "execution_count": 165,
   "metadata": {},
   "outputs": [
    {
     "ename": "KeyError",
     "evalue": "'popitem(): dictionary is empty'",
     "output_type": "error",
     "traceback": [
      "\u001b[1;31m---------------------------------------------------------------------------\u001b[0m",
      "\u001b[1;31mKeyError\u001b[0m                                  Traceback (most recent call last)",
      "\u001b[1;32m<ipython-input-165-3d5a99fd0340>\u001b[0m in \u001b[0;36m<module>\u001b[1;34m\u001b[0m\n\u001b[0;32m      1\u001b[0m \u001b[0md\u001b[0m \u001b[1;33m=\u001b[0m \u001b[1;33m{\u001b[0m\u001b[1;33m}\u001b[0m\u001b[1;33m\u001b[0m\u001b[1;33m\u001b[0m\u001b[0m\n\u001b[1;32m----> 2\u001b[1;33m \u001b[0md\u001b[0m\u001b[1;33m.\u001b[0m\u001b[0mpopitem\u001b[0m\u001b[1;33m(\u001b[0m\u001b[1;33m)\u001b[0m\u001b[1;33m\u001b[0m\u001b[1;33m\u001b[0m\u001b[0m\n\u001b[0m",
      "\u001b[1;31mKeyError\u001b[0m: 'popitem(): dictionary is empty'"
     ]
    }
   ],
   "source": [
    "d = {}\n",
    "d.popitem()"
   ]
  },
  {
   "cell_type": "code",
   "execution_count": 166,
   "metadata": {},
   "outputs": [
    {
     "name": "stdout",
     "output_type": "stream",
     "text": [
      "{'a': 10, 'b': 20, 'c': 30, 'd': 40, 'e': 50, 'f': 60, 'g': 70}\n",
      "<class 'dict'>\n",
      "1.2\n",
      "<class 'float'>\n"
     ]
    }
   ],
   "source": [
    "# Primer: Da je dictionary dinamičen\n",
    "d = {'a': 10, 'b': 20, 'c': 30, 'd': 40, 'e': 50, 'f': 60, 'g': 70}\n",
    "print(d)\n",
    "print(type(d))\n",
    "\n",
    "d = 1.2\n",
    "print(d)\n",
    "print(type(d))"
   ]
  },
  {
   "cell_type": "code",
   "execution_count": null,
   "metadata": {},
   "outputs": [],
   "source": []
  },
  {
   "cell_type": "code",
   "execution_count": null,
   "metadata": {},
   "outputs": [],
   "source": [
    "dict_ = {\n",
    "    \"a\": 1,\n",
    "    \"b\": 2,\n",
    "    \"c\": 3,\n",
    "    \"d\": 4\n",
    "}\n"
   ]
  },
  {
   "cell_type": "markdown",
   "metadata": {},
   "source": [
    "## Vaja 03\n",
    "\n",
    "<div class=\"alert alert-block alert-info\">\n",
    "<b>Naloga: </b> \n",
    "    Sledečemu dictionary zamenjanjte vrednost pod ključem <b>b</b> v vrednost 12 in odstranite vrednost pod ključem <b>d</b>.\n",
    "</div>\n",
    "\n",
    "```python\n",
    "our_dict = {\n",
    "    \"a\": 10,\n",
    "    \"b\": 9,\n",
    "    \"c\": 8,\n",
    "    \"d\": 7,\n",
    "    \"e\": 3\n",
    "}\n",
    "```\n",
    "\n"
   ]
  },
  {
   "cell_type": "code",
   "execution_count": 17,
   "metadata": {},
   "outputs": [
    {
     "name": "stdout",
     "output_type": "stream",
     "text": [
      "{'a': 10, 'b': 12, 'c': 8, 'e': 3}\n"
     ]
    }
   ],
   "source": [
    "our_dict = {\n",
    "    \"a\": 10,\n",
    "    \"b\": 9,\n",
    "    \"c\": 8,\n",
    "    \"d\": 7,\n",
    "    \"e\": 3\n",
    "}\n",
    "\n",
    "our_dict[\"b\"] = 12\n",
    "del our_dict[\"d\"]\n",
    "\n",
    "print(our_dict)"
   ]
  },
  {
   "cell_type": "markdown",
   "metadata": {},
   "source": [
    "## Vaja 04\n",
    "\n",
    "<div class=\"alert alert-block alert-info\">\n",
    "<b>Naloga: </b> \n",
    "    Iz sledečega dictionary pridobite vrednost <b>fff</b>.\n",
    "</div>\n",
    "\n",
    "```python\n",
    "\n",
    "d = {\n",
    "    \"a\": \"a\",\n",
    "    \"b\": \"b\",\n",
    "    \"c\": {\n",
    "        1: 11,\n",
    "        2: 22,\n",
    "        3: 33,\n",
    "        4: {\n",
    "            5: \"ccc\",\n",
    "            6: \"ddd\",\n",
    "            \"7\": \"fff\"\n",
    "        }\n",
    "    }\n",
    "}\n",
    "\n",
    "```"
   ]
  },
  {
   "cell_type": "code",
   "execution_count": 16,
   "metadata": {},
   "outputs": [
    {
     "name": "stdout",
     "output_type": "stream",
     "text": [
      "fff\n"
     ]
    }
   ],
   "source": [
    "d = {\n",
    "    \"a\": \"a\",\n",
    "    \"b\": \"b\",\n",
    "    \"c\": {\n",
    "        1: 11,\n",
    "        2: 22,\n",
    "        3: 33,\n",
    "        4: {\n",
    "            5: \"ccc\",\n",
    "            6: \"ddd\",\n",
    "            \"7\": \"fff\"\n",
    "        }\n",
    "    }\n",
    "}\n",
    "\n",
    "print(d[\"c\"][4][\"7\"])"
   ]
  },
  {
   "cell_type": "markdown",
   "metadata": {},
   "source": [
    "# Sets\n",
    "(Množice)\n",
    "\n",
    "Ta data-tip je prav tako kolekcija elementov, ampak nad set-i se da izvajati posebne operacije.\n",
    "\n",
    "Lastnosti\n",
    "* Sets are unordered\n",
    "* Set elements are unique. Duplicate elements are not allowed\n",
    "* A set itself may be modified, but the elements must be of type immutable.\n",
    "\n",
    "* Sets do not support indexing, slicing, or other sequence-like behavior. (Če hočš pridt do specifičnega elementa lahko uporabiš for _ in set: )"
   ]
  },
  {
   "cell_type": "code",
   "execution_count": 113,
   "metadata": {},
   "outputs": [
    {
     "name": "stdout",
     "output_type": "stream",
     "text": [
      "{'volk', 'slon', 'zajec', 'medved'}\n",
      "<class 'set'>\n"
     ]
    }
   ],
   "source": [
    "s = {\"medved\", \"zajec\", \"volk\", \"slon\", \"zajec\"} # zajec se ne ponovi ampak je samo 1x izpisan!\n",
    "print(s)\n",
    "print(type(s))"
   ]
  },
  {
   "cell_type": "markdown",
   "metadata": {},
   "source": [
    "Set je lahko prazen ampak Python bo {} prebral kot prazen dictionary.\n",
    "\n",
    "Edini način, da ustvarimo prazen set je z set()."
   ]
  },
  {
   "cell_type": "code",
   "execution_count": 168,
   "metadata": {},
   "outputs": [
    {
     "name": "stdout",
     "output_type": "stream",
     "text": [
      "<class 'dict'>\n",
      "<class 'set'>\n"
     ]
    }
   ],
   "source": [
    "s = {}\n",
    "print(type(s))\n",
    "\n",
    "s = set()\n",
    "print(type(s))"
   ]
  },
  {
   "cell_type": "markdown",
   "metadata": {},
   "source": [
    "Elementi so lahko poljubni ampak morajo biti \"immutable.\""
   ]
  },
  {
   "cell_type": "code",
   "execution_count": 114,
   "metadata": {},
   "outputs": [
    {
     "name": "stdout",
     "output_type": "stream",
     "text": [
      "{3.14159, 42, 'eee', (1, 2, 3)}\n"
     ]
    }
   ],
   "source": [
    "s = {42, 'eee', (1, 2, 3), 3.14159} # touple je lahko element, ker je immutable\n",
    "print(s)"
   ]
  },
  {
   "cell_type": "code",
   "execution_count": 115,
   "metadata": {},
   "outputs": [
    {
     "ename": "TypeError",
     "evalue": "unhashable type: 'list'",
     "output_type": "error",
     "traceback": [
      "\u001b[1;31m---------------------------------------------------------------------------\u001b[0m",
      "\u001b[1;31mTypeError\u001b[0m                                 Traceback (most recent call last)",
      "\u001b[1;32m<ipython-input-115-d32f290234c5>\u001b[0m in \u001b[0;36m<module>\u001b[1;34m\u001b[0m\n\u001b[1;32m----> 1\u001b[1;33m \u001b[0ms\u001b[0m \u001b[1;33m=\u001b[0m \u001b[1;33m{\u001b[0m\u001b[1;36m11\u001b[0m\u001b[1;33m,\u001b[0m \u001b[1;33m[\u001b[0m\u001b[1;36m1\u001b[0m\u001b[1;33m,\u001b[0m \u001b[1;36m2\u001b[0m\u001b[1;33m,\u001b[0m \u001b[1;36m3\u001b[0m\u001b[1;33m]\u001b[0m\u001b[1;33m,\u001b[0m \u001b[1;34m'eeee'\u001b[0m\u001b[1;33m}\u001b[0m \u001b[1;31m# list ne more bit element, ker je mutable\u001b[0m\u001b[1;33m\u001b[0m\u001b[1;33m\u001b[0m\u001b[0m\n\u001b[0m\u001b[0;32m      2\u001b[0m \u001b[0mprint\u001b[0m\u001b[1;33m(\u001b[0m\u001b[0mx\u001b[0m\u001b[1;33m)\u001b[0m\u001b[1;33m\u001b[0m\u001b[1;33m\u001b[0m\u001b[0m\n",
      "\u001b[1;31mTypeError\u001b[0m: unhashable type: 'list'"
     ]
    }
   ],
   "source": [
    "s = {11, [1, 2, 3], 'eeee'} # list ne more bit element, ker je mutable\n",
    "print(x)"
   ]
  },
  {
   "cell_type": "code",
   "execution_count": 170,
   "metadata": {},
   "outputs": [
    {
     "name": "stdout",
     "output_type": "stream",
     "text": [
      "{42, 3.14159, (1, 2, (4, 5, 6)), 'eee'}\n"
     ]
    }
   ],
   "source": [
    "# Primer: Can be nested\n",
    "s = {42, 'eee', (1, 2, (4, 5, 6)), 3.14159} \n",
    "print(s)"
   ]
  },
  {
   "cell_type": "markdown",
   "metadata": {},
   "source": [
    "## Operating on a Set\n",
    "\n",
    "Nad set-i je možno izvajanje posebnih operacij.\n",
    "\n",
    "Večina jih je lahko zapisana na dva načina: z metodo ali z operatorjem."
   ]
  },
  {
   "cell_type": "markdown",
   "metadata": {},
   "source": [
    "Union\n",
    "\n",
    "Vsebuje elemente iz obeh set-ov."
   ]
  },
  {
   "cell_type": "code",
   "execution_count": 171,
   "metadata": {},
   "outputs": [
    {
     "name": "stdout",
     "output_type": "stream",
     "text": [
      "{1, 2, 3, 4, 5, 6, 7}\n",
      "{1, 2, 3, 4, 5, 6, 7}\n"
     ]
    }
   ],
   "source": [
    "x1 = {1, 2, 3, 4}\n",
    "x2 = {4, 5, 6, 7}\n",
    "print(x1 | x2) # operator\n",
    "print(x1.union(x2)) # metoda\n",
    "# Element 4 je samo enkrat, ker se elementi v set-ih ne ponavljajo"
   ]
  },
  {
   "cell_type": "markdown",
   "metadata": {},
   "source": [
    "Razlika med operatorjem in metodo je, da operator zahteva, da sta obe spremenljivki set, medtem ko metoda uzeme kot argument poljuben \"iterable\"."
   ]
  },
  {
   "cell_type": "code",
   "execution_count": 172,
   "metadata": {},
   "outputs": [
    {
     "name": "stdout",
     "output_type": "stream",
     "text": [
      "{1, 2, 3, 4, 5, 6, 7}\n"
     ]
    },
    {
     "ename": "TypeError",
     "evalue": "unsupported operand type(s) for |: 'set' and 'list'",
     "output_type": "error",
     "traceback": [
      "\u001b[1;31m---------------------------------------------------------------------------\u001b[0m",
      "\u001b[1;31mTypeError\u001b[0m                                 Traceback (most recent call last)",
      "\u001b[1;32m<ipython-input-172-ea3a52617f77>\u001b[0m in \u001b[0;36m<module>\u001b[1;34m\u001b[0m\n\u001b[0;32m      1\u001b[0m \u001b[0mprint\u001b[0m\u001b[1;33m(\u001b[0m\u001b[0mx1\u001b[0m\u001b[1;33m.\u001b[0m\u001b[0munion\u001b[0m\u001b[1;33m(\u001b[0m\u001b[0mlist\u001b[0m\u001b[1;33m(\u001b[0m\u001b[0mx2\u001b[0m\u001b[1;33m)\u001b[0m\u001b[1;33m)\u001b[0m\u001b[1;33m)\u001b[0m\u001b[1;33m\u001b[0m\u001b[1;33m\u001b[0m\u001b[0m\n\u001b[1;32m----> 2\u001b[1;33m \u001b[0mprint\u001b[0m\u001b[1;33m(\u001b[0m\u001b[0mx1\u001b[0m \u001b[1;33m|\u001b[0m \u001b[0mlist\u001b[0m\u001b[1;33m(\u001b[0m\u001b[0mx2\u001b[0m\u001b[1;33m)\u001b[0m\u001b[1;33m)\u001b[0m \u001b[1;31m# this one should throw error\u001b[0m\u001b[1;33m\u001b[0m\u001b[1;33m\u001b[0m\u001b[0m\n\u001b[0m",
      "\u001b[1;31mTypeError\u001b[0m: unsupported operand type(s) for |: 'set' and 'list'"
     ]
    }
   ],
   "source": [
    "print(x1.union(list(x2)))\n",
    "print(x1 | list(x2)) # this one should throw error"
   ]
  },
  {
   "cell_type": "markdown",
   "metadata": {},
   "source": [
    "Ali z operatorjem ali z metodo lahko specificiramo večje število set-ov."
   ]
  },
  {
   "cell_type": "code",
   "execution_count": 173,
   "metadata": {},
   "outputs": [
    {
     "name": "stdout",
     "output_type": "stream",
     "text": [
      "{1, 2, 3, 4, 5, 6, 9, 10}\n",
      "{1, 2, 3, 4, 5, 6, 9, 10}\n"
     ]
    }
   ],
   "source": [
    "x1 = {1, 2, 3, 4}\n",
    "x2 = {4, 5}\n",
    "x3 = {5, 6}\n",
    "x4 = {9, 10}\n",
    "\n",
    "print(x1.union(x2, x3, x4))\n",
    "\n",
    "print(x1 | x2 | x3 | x4)"
   ]
  },
  {
   "cell_type": "markdown",
   "metadata": {},
   "source": [
    "Intersection\n",
    "\n",
    "Vrne set z elementi skupni obema set-oma."
   ]
  },
  {
   "cell_type": "code",
   "execution_count": 174,
   "metadata": {},
   "outputs": [
    {
     "name": "stdout",
     "output_type": "stream",
     "text": [
      "{4}\n",
      "{4}\n"
     ]
    }
   ],
   "source": [
    "x1 = {1, 2, 3, 4}\n",
    "x2 = {4, 5, 6, 7}\n",
    "\n",
    "print(x1.intersection(x2))\n",
    "print(x1 & x2)"
   ]
  },
  {
   "cell_type": "markdown",
   "metadata": {},
   "source": [
    "Difference\n",
    "\n",
    "Vrne set z elementi, ki so v x1 in ne v x2."
   ]
  },
  {
   "cell_type": "code",
   "execution_count": 175,
   "metadata": {},
   "outputs": [
    {
     "name": "stdout",
     "output_type": "stream",
     "text": [
      "{1, 2, 3}\n",
      "{1, 2, 3}\n"
     ]
    }
   ],
   "source": [
    "x1 = {1, 2, 3, 4}\n",
    "x2 = {4, 5, 6, 7}\n",
    "\n",
    "print(x1.difference(x2))\n",
    "print(x1 - x2)"
   ]
  },
  {
   "cell_type": "markdown",
   "metadata": {},
   "source": [
    "Symetric Difference\n",
    "\n",
    "Vrne set z elementi, ki so ali v prvem ali v drugem set-u, vendar ne v obeh."
   ]
  },
  {
   "cell_type": "code",
   "execution_count": 176,
   "metadata": {},
   "outputs": [
    {
     "name": "stdout",
     "output_type": "stream",
     "text": [
      "{1, 2, 3, 5, 6, 7}\n",
      "{1, 2, 3, 5, 6, 7}\n"
     ]
    }
   ],
   "source": [
    "x1 = {1, 2, 3, 4}\n",
    "x2 = {4, 5, 6, 7}\n",
    "\n",
    "print(x1.symmetric_difference(x2))\n",
    "print(x1 ^ x2)"
   ]
  },
  {
   "cell_type": "markdown",
   "metadata": {},
   "source": [
    "# Modifying Sets\n",
    "\n",
    "Set-e lahko tudi spreminjamo."
   ]
  },
  {
   "cell_type": "markdown",
   "metadata": {},
   "source": [
    "```python\n",
    "x.add(<elem>) adds <elem>, which must be a single immutable object, to x:\n",
    "```"
   ]
  },
  {
   "cell_type": "code",
   "execution_count": 177,
   "metadata": {},
   "outputs": [
    {
     "name": "stdout",
     "output_type": "stream",
     "text": [
      "{1, 2, 3, 4, 'string'}\n"
     ]
    }
   ],
   "source": [
    "x = {1, 2, 3, 4}\n",
    "x.add(\"string\")\n",
    "print(x)"
   ]
  },
  {
   "cell_type": "markdown",
   "metadata": {},
   "source": [
    "```python\n",
    "x.remove(<elem>) removes <elem> from x. Python raises an exception if <elem> is not in x:\n",
    "```"
   ]
  },
  {
   "cell_type": "code",
   "execution_count": 178,
   "metadata": {},
   "outputs": [
    {
     "name": "stdout",
     "output_type": "stream",
     "text": [
      "None\n",
      "{1, 2, 4}\n"
     ]
    }
   ],
   "source": [
    "x = {1, 2, 3, 4}\n",
    "print(x.remove(3))\n",
    "print(x)"
   ]
  },
  {
   "cell_type": "code",
   "execution_count": 179,
   "metadata": {},
   "outputs": [
    {
     "ename": "KeyError",
     "evalue": "6",
     "output_type": "error",
     "traceback": [
      "\u001b[1;31m---------------------------------------------------------------------------\u001b[0m",
      "\u001b[1;31mKeyError\u001b[0m                                  Traceback (most recent call last)",
      "\u001b[1;32m<ipython-input-179-4f450e54381b>\u001b[0m in \u001b[0;36m<module>\u001b[1;34m\u001b[0m\n\u001b[0;32m      1\u001b[0m \u001b[0mx\u001b[0m \u001b[1;33m=\u001b[0m \u001b[1;33m{\u001b[0m\u001b[1;36m1\u001b[0m\u001b[1;33m,\u001b[0m \u001b[1;36m2\u001b[0m\u001b[1;33m,\u001b[0m \u001b[1;36m3\u001b[0m\u001b[1;33m,\u001b[0m \u001b[1;36m4\u001b[0m\u001b[1;33m}\u001b[0m\u001b[1;33m\u001b[0m\u001b[1;33m\u001b[0m\u001b[0m\n\u001b[1;32m----> 2\u001b[1;33m \u001b[0mx\u001b[0m\u001b[1;33m.\u001b[0m\u001b[0mremove\u001b[0m\u001b[1;33m(\u001b[0m\u001b[1;36m6\u001b[0m\u001b[1;33m)\u001b[0m \u001b[1;31m# gives error\u001b[0m\u001b[1;33m\u001b[0m\u001b[1;33m\u001b[0m\u001b[0m\n\u001b[0m",
      "\u001b[1;31mKeyError\u001b[0m: 6"
     ]
    }
   ],
   "source": [
    "x = {1, 2, 3, 4}\n",
    "x.remove(6) # gives error"
   ]
  },
  {
   "cell_type": "markdown",
   "metadata": {},
   "source": [
    "```python\n",
    "x.discard(<elem>) also removes <elem> from x. However, if <elem> is not in x, this method quietly does nothing instead of raising an exception:\n",
    "```"
   ]
  },
  {
   "cell_type": "code",
   "execution_count": 180,
   "metadata": {},
   "outputs": [
    {
     "name": "stdout",
     "output_type": "stream",
     "text": [
      "None\n",
      "{1, 3, 4}\n"
     ]
    }
   ],
   "source": [
    "x = {1, 2, 3, 4}\n",
    "print(x.discard(2))\n",
    "print(x)"
   ]
  },
  {
   "cell_type": "code",
   "execution_count": 181,
   "metadata": {},
   "outputs": [
    {
     "name": "stdout",
     "output_type": "stream",
     "text": [
      "{1, 2, 3, 4}\n"
     ]
    }
   ],
   "source": [
    "x = {1, 2, 3, 4}\n",
    "x.discard(6) # doesnt give error\n",
    "print(x)"
   ]
  },
  {
   "cell_type": "markdown",
   "metadata": {},
   "source": [
    "```python\n",
    "x.pop() removes and returns an arbitrarily chosen element from x. If x is empty, x.pop() raises an exception:\n",
    "    ```"
   ]
  },
  {
   "cell_type": "code",
   "execution_count": 182,
   "metadata": {},
   "outputs": [
    {
     "name": "stdout",
     "output_type": "stream",
     "text": [
      "First pop:  1\n",
      "{2, 3, 4}\n",
      "Second pop:  2\n",
      "{3, 4}\n",
      "Third pop:  3\n",
      "{4}\n",
      "Fourth pop:  4\n",
      "set()\n"
     ]
    },
    {
     "ename": "KeyError",
     "evalue": "'pop from an empty set'",
     "output_type": "error",
     "traceback": [
      "\u001b[1;31m---------------------------------------------------------------------------\u001b[0m",
      "\u001b[1;31mKeyError\u001b[0m                                  Traceback (most recent call last)",
      "\u001b[1;32m<ipython-input-182-594f9b06ae7d>\u001b[0m in \u001b[0;36m<module>\u001b[1;34m\u001b[0m\n\u001b[0;32m     12\u001b[0m \u001b[0mprint\u001b[0m\u001b[1;33m(\u001b[0m\u001b[0mx\u001b[0m\u001b[1;33m)\u001b[0m\u001b[1;33m\u001b[0m\u001b[1;33m\u001b[0m\u001b[0m\n\u001b[0;32m     13\u001b[0m \u001b[1;33m\u001b[0m\u001b[0m\n\u001b[1;32m---> 14\u001b[1;33m \u001b[0mprint\u001b[0m\u001b[1;33m(\u001b[0m\u001b[1;34m\"Fourth pop: \"\u001b[0m\u001b[1;33m,\u001b[0m\u001b[0mx\u001b[0m\u001b[1;33m.\u001b[0m\u001b[0mpop\u001b[0m\u001b[1;33m(\u001b[0m\u001b[1;33m)\u001b[0m\u001b[1;33m)\u001b[0m \u001b[1;31m#this one should give error\u001b[0m\u001b[1;33m\u001b[0m\u001b[1;33m\u001b[0m\u001b[0m\n\u001b[0m\u001b[0;32m     15\u001b[0m \u001b[0mprint\u001b[0m\u001b[1;33m(\u001b[0m\u001b[0mx\u001b[0m\u001b[1;33m)\u001b[0m\u001b[1;33m\u001b[0m\u001b[1;33m\u001b[0m\u001b[0m\n",
      "\u001b[1;31mKeyError\u001b[0m: 'pop from an empty set'"
     ]
    }
   ],
   "source": [
    "x = {1, 2, 3, 4}\n",
    "print(\"First pop: \", x.pop())\n",
    "print(x)\n",
    "\n",
    "print(\"Second pop: \",x.pop())\n",
    "print(x)\n",
    "\n",
    "print(\"Third pop: \", x.pop())\n",
    "print(x)\n",
    "\n",
    "print(\"Fourth pop: \",x.pop())\n",
    "print(x)\n",
    "\n",
    "print(\"Fourth pop: \",x.pop()) #this one should give error\n",
    "print(x)"
   ]
  },
  {
   "cell_type": "markdown",
   "metadata": {},
   "source": [
    "```python\n",
    "x.clear() removes all elements from x\n",
    "```"
   ]
  },
  {
   "cell_type": "code",
   "execution_count": 183,
   "metadata": {},
   "outputs": [
    {
     "name": "stdout",
     "output_type": "stream",
     "text": [
      "{1, 2, 3, 4}\n",
      "set()\n"
     ]
    }
   ],
   "source": [
    "x = {1, 2, 3, 4}\n",
    "print(x)\n",
    "x.clear()\n",
    "print(x)"
   ]
  },
  {
   "cell_type": "markdown",
   "metadata": {},
   "source": [
    "## Frozen sets\n",
    "\n",
    "Python ima tudi frozenset, ki se obnaša isto kot set, le da je frozenset immutable."
   ]
  },
  {
   "cell_type": "code",
   "execution_count": 184,
   "metadata": {},
   "outputs": [
    {
     "name": "stdout",
     "output_type": "stream",
     "text": [
      "frozenset({1, 2, 3, 4, 7, 8, 9})\n"
     ]
    },
    {
     "ename": "AttributeError",
     "evalue": "'frozenset' object has no attribute 'add'",
     "output_type": "error",
     "traceback": [
      "\u001b[1;31m---------------------------------------------------------------------------\u001b[0m",
      "\u001b[1;31mAttributeError\u001b[0m                            Traceback (most recent call last)",
      "\u001b[1;32m<ipython-input-184-769f87059d2e>\u001b[0m in \u001b[0;36m<module>\u001b[1;34m\u001b[0m\n\u001b[0;32m      1\u001b[0m \u001b[0mx\u001b[0m \u001b[1;33m=\u001b[0m \u001b[0mfrozenset\u001b[0m\u001b[1;33m(\u001b[0m\u001b[1;33m[\u001b[0m\u001b[1;36m1\u001b[0m\u001b[1;33m,\u001b[0m \u001b[1;36m2\u001b[0m\u001b[1;33m,\u001b[0m \u001b[1;36m3\u001b[0m\u001b[1;33m,\u001b[0m \u001b[1;36m4\u001b[0m\u001b[1;33m]\u001b[0m\u001b[1;33m)\u001b[0m\u001b[1;33m\u001b[0m\u001b[1;33m\u001b[0m\u001b[0m\n\u001b[0;32m      2\u001b[0m \u001b[0mprint\u001b[0m\u001b[1;33m(\u001b[0m\u001b[0mx\u001b[0m \u001b[1;33m|\u001b[0m \u001b[1;33m{\u001b[0m\u001b[1;36m9\u001b[0m\u001b[1;33m,\u001b[0m \u001b[1;36m8\u001b[0m\u001b[1;33m,\u001b[0m \u001b[1;36m7\u001b[0m\u001b[1;33m}\u001b[0m\u001b[1;33m)\u001b[0m \u001b[1;31m# you can perform non-modifying operations on frozensets\u001b[0m\u001b[1;33m\u001b[0m\u001b[1;33m\u001b[0m\u001b[0m\n\u001b[1;32m----> 3\u001b[1;33m \u001b[0mx\u001b[0m\u001b[1;33m.\u001b[0m\u001b[0madd\u001b[0m\u001b[1;33m(\u001b[0m\u001b[1;36m100\u001b[0m\u001b[1;33m)\u001b[0m \u001b[1;31m# should give error, because frozenset is immutable\u001b[0m\u001b[1;33m\u001b[0m\u001b[1;33m\u001b[0m\u001b[0m\n\u001b[0m",
      "\u001b[1;31mAttributeError\u001b[0m: 'frozenset' object has no attribute 'add'"
     ]
    }
   ],
   "source": [
    "x = frozenset([1, 2, 3, 4])\n",
    "print(x | {9, 8, 7}) # you can perform non-modifying operations on frozensets\n",
    "x.add(100) # should give error, because frozenset is immutable"
   ]
  },
  {
   "cell_type": "markdown",
   "metadata": {},
   "source": [
    "## Vaja 05\n",
    "\n",
    "<div class=\"alert alert-block alert-info\">\n",
    "<b>Naloga: </b> \n",
    "    Iz sledečega lista odstranite vrednost, ki se nahaja na indexu 4. Vrednost dodajte v dictionary pod ključ <b>d</b>.\n",
    "\n",
    "Nato iz dictionary pridobite vse vrednosti. Te vrednosti shranite v nov set in novonastali set primerjajte ali je enak podanemu set-u.\n",
    "\n",
    "</div>\n",
    "\n",
    "\n",
    "```python\n",
    "our_list = [1,2,3,4,5,6,7]\n",
    "our_dict = {\n",
    "    \"a\": 2,\n",
    "    \"b\": 5,\n",
    "    \"c\": 8,\n",
    "    \"d\": 12,\n",
    "    \"e\": 357,\n",
    "    \"f\": 12\n",
    "}\n",
    "our_set = {357, 12, 12, 8, 5, 2, 2}\n",
    "\n",
    "```"
   ]
  },
  {
   "cell_type": "code",
   "execution_count": 207,
   "metadata": {},
   "outputs": [
    {
     "name": "stdout",
     "output_type": "stream",
     "text": [
      "5\n",
      "{'a': 2, 'b': 5, 'c': 8, 'd': 5, 'e': 357, 'f': 12}\n",
      "dict_values([2, 5, 8, 5, 357, 12])\n"
     ]
    },
    {
     "data": {
      "text/plain": [
       "True"
      ]
     },
     "execution_count": 207,
     "metadata": {},
     "output_type": "execute_result"
    }
   ],
   "source": [
    "our_list = [1,2,3,4,5,6,7]\n",
    "our_dict = {\n",
    "    \"a\": 2,\n",
    "    \"b\": 5,\n",
    "    \"c\": 8,\n",
    "    \"d\": 12,\n",
    "    \"e\": 357,\n",
    "    \"f\": 12\n",
    "}\n",
    "our_set = {357, 12, 12, 8, 5, 2, 2}\n",
    "\n",
    "\n",
    "x = our_list.pop(4)\n",
    "print(x)\n",
    "\n",
    "our_dict[\"d\"] = x\n",
    "print(our_dict)\n",
    "print(our_dict.values())\n",
    "\n",
    "x_set = set(our_dict.values())\n",
    "x_set == our_set"
   ]
  },
  {
   "cell_type": "code",
   "execution_count": null,
   "metadata": {},
   "outputs": [],
   "source": []
  },
  {
   "cell_type": "markdown",
   "metadata": {},
   "source": [
    "## Vaja 06\n",
    "\n",
    "<div class=\"alert alert-block alert-info\">\n",
    "<b>Naloga: </b> \n",
    "Izpišite vse skupne črke sledečih dveh stringov.\n",
    "</div>\n",
    "\n",
    "\n",
    "```python\n",
    "str1 = \"Danes je lep dan\"\n",
    "str2 = \"Jutri bo deževalo\"\n",
    "\n",
    "OUTPUT:\n",
    "{' ', 'a', 'd', 'e', 'l'}\n",
    "```"
   ]
  },
  {
   "cell_type": "code",
   "execution_count": 3,
   "metadata": {},
   "outputs": [
    {
     "data": {
      "text/plain": [
       "{' ', 'a', 'd', 'e', 'l'}"
      ]
     },
     "execution_count": 3,
     "metadata": {},
     "output_type": "execute_result"
    }
   ],
   "source": [
    "str1 = \"Danes je lep dan\"\n",
    "str2 = \"Jutri bo deževalo\"\n",
    "\n",
    "set1 = set(str1)\n",
    "set2 = set(str2)\n",
    "\n",
    "\n",
    "set1.intersection(set2)\n",
    "\n"
   ]
  },
  {
   "cell_type": "code",
   "execution_count": null,
   "metadata": {},
   "outputs": [],
   "source": []
  },
  {
   "cell_type": "code",
   "execution_count": null,
   "metadata": {},
   "outputs": [],
   "source": []
  },
  {
   "cell_type": "code",
   "execution_count": null,
   "metadata": {},
   "outputs": [],
   "source": []
  },
  {
   "cell_type": "code",
   "execution_count": null,
   "metadata": {},
   "outputs": [],
   "source": []
  },
  {
   "cell_type": "code",
   "execution_count": null,
   "metadata": {},
   "outputs": [],
   "source": []
  }
 ],
 "metadata": {
  "kernelspec": {
   "display_name": "Python 3 (ipykernel)",
   "language": "python",
   "name": "python3"
  },
  "language_info": {
   "codemirror_mode": {
    "name": "ipython",
    "version": 3
   },
   "file_extension": ".py",
   "mimetype": "text/x-python",
   "name": "python",
   "nbconvert_exporter": "python",
   "pygments_lexer": "ipython3",
   "version": "3.10.4"
  },
  "toc": {
   "base_numbering": 1,
   "nav_menu": {},
   "number_sections": true,
   "sideBar": true,
   "skip_h1_title": false,
   "title_cell": "Table of Contents",
   "title_sidebar": "Contents",
   "toc_cell": false,
   "toc_position": {},
   "toc_section_display": true,
   "toc_window_display": false
  }
 },
 "nbformat": 4,
 "nbformat_minor": 2
}
