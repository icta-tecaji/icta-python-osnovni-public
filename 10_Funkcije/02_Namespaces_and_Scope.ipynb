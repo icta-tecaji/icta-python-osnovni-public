{
 "cells": [
  {
   "cell_type": "markdown",
   "id": "d9f28600-67a8-419c-8080-66cf5f2218b5",
   "metadata": {},
   "source": [
    "# Namespaces and Scope"
   ]
  },
  {
   "cell_type": "markdown",
   "metadata": {},
   "source": [
    "Spremenljivke se razlikujejo tudi po tem koliko dolgo obstajajo (variable lifetime) in od kje lahko dostopamo do njih (variable scope)."
   ]
  },
  {
   "cell_type": "markdown",
   "metadata": {},
   "source": [
    "Spremenljivka definirana znotraj funkcije (kot parameter ali navadno) obstaja samo znotraj funkcije.\n",
    "\n",
    "Ko se izvajanje funkcije konča, spremenljivka neha obstajati."
   ]
  },
  {
   "cell_type": "code",
   "execution_count": null,
   "metadata": {},
   "outputs": [
    {
     "name": "stdout",
     "output_type": "stream",
     "text": [
      "Spr1: 5\n",
      "Spr2: 10\n"
     ]
    },
    {
     "ename": "NameError",
     "evalue": "name 'spr1' is not defined",
     "output_type": "error",
     "traceback": [
      "\u001b[1;31m---------------------------------------------------------------------------\u001b[0m\n",
      "\u001b[1;31mNameError\u001b[0m                                 Traceback (most recent call last)\n",
      "\u001b[1;32m<ipython-input-72-d9649ca9516e>\u001b[0m in \u001b[0;36m<module>\u001b[1;34m\u001b[0m\n",
      "\u001b[0;32m      6\u001b[0m \u001b[1;33m\u001b[0m\u001b[0m\n",
      "\u001b[0;32m      7\u001b[0m \u001b[0mfunkcija\u001b[0m\u001b[1;33m(\u001b[0m\u001b[1;36m5\u001b[0m\u001b[1;33m)\u001b[0m\u001b[1;33m\u001b[0m\u001b[1;33m\u001b[0m\u001b[0m\n",
      "\u001b[1;32m----> 8\u001b[1;33m \u001b[0mprint\u001b[0m\u001b[1;33m(\u001b[0m\u001b[1;34mf\"Spr1: {spr1}\"\u001b[0m\u001b[1;33m)\u001b[0m\u001b[1;33m\u001b[0m\u001b[1;33m\u001b[0m\u001b[0m\n",
      "\u001b[0m\u001b[0;32m      9\u001b[0m \u001b[0mprint\u001b[0m\u001b[1;33m(\u001b[0m\u001b[1;34mf\"Spr2: {spr2}\"\u001b[0m\u001b[1;33m)\u001b[0m\u001b[1;33m\u001b[0m\u001b[1;33m\u001b[0m\u001b[0m\n",
      "\n",
      "\u001b[1;31mNameError\u001b[0m: name 'spr1' is not defined"
     ]
    }
   ],
   "source": [
    "def funkcija(spr1):\n",
    "    spr2 = 10\n",
    "    print(f\"Spr1: {spr1}\")\n",
    "    print(f\"Spr2: {spr2}\")\n",
    "    \n",
    "    \n",
    "funkcija(5)\n",
    "print(f\"Spr1: {spr1}\")\n",
    "print(f\"Spr2: {spr2}\")"
   ]
  },
  {
   "cell_type": "markdown",
   "metadata": {},
   "source": [
    "Spremenljivka definirana znotraj naše glavne kode (zunaj naših funkcij) je **globalna spremenljivka** in je dostopna skozi našo celotno kodo."
   ]
  },
  {
   "cell_type": "code",
   "execution_count": null,
   "metadata": {},
   "outputs": [
    {
     "name": "stdout",
     "output_type": "stream",
     "text": [
      "Spr1: 5\n",
      "Spremenljivka2: 10\n",
      "\n",
      "Spr1: 5\n",
      "Spr2: 10\n",
      "Spr3: 200\n",
      "\n",
      "Spr1: 5\n",
      "Spr2: 10\n"
     ]
    }
   ],
   "source": [
    "spr1 = 5\n",
    "print(f\"Spr1: {spr1}\")\n",
    "\n",
    "if spr1 == 5:\n",
    "    spr2 = 10\n",
    "print(f\"Spremenljivka2: {spr2}\")\n",
    "print()\n",
    "\n",
    "def funkcija():\n",
    "    spr3 = 200\n",
    "    print(f\"Spr1: {spr1}\")\n",
    "    print(f\"Spr2: {spr2}\")\n",
    "    print(f\"Spr3: {spr3}\")\n",
    "    \n",
    "funkcija()\n",
    "print()\n",
    "\n",
    "print(f\"Spr1: {spr1}\")\n",
    "print(f\"Spr2: {spr2}\")"
   ]
  },
  {
   "cell_type": "markdown",
   "metadata": {},
   "source": [
    "Problem se lahko pojavi, če znotraj funkcije definiramo spremenljivko z enakim imenom, ki že obstaja kot globalna spremenljivka.\n",
    "\n",
    "V tem primeru bo python spremenljivki označil kot dve različni spremenljivki. Ena dostopna znotraj funkcije, druga dostopna zunaj funkcije."
   ]
  },
  {
   "cell_type": "code",
   "execution_count": null,
   "metadata": {},
   "outputs": [
    {
     "name": "stdout",
     "output_type": "stream",
     "text": [
      "Spr1: 5\n",
      "Spr1: 100\n",
      "Spr1: 5\n"
     ]
    }
   ],
   "source": [
    "spr1 = 5\n",
    "print(f\"Spr1: {spr1}\")\n",
    "\n",
    "def funkcija():\n",
    "    spr1 = 100\n",
    "    print(f\"Spr1: {spr1}\")\n",
    "    \n",
    "funkcija()\n",
    "print(f\"Spr1: {spr1}\")"
   ]
  },
  {
   "cell_type": "markdown",
   "metadata": {},
   "source": [
    "Parameter se obnaša kot lokalna spremenljivka."
   ]
  },
  {
   "cell_type": "code",
   "execution_count": null,
   "metadata": {},
   "outputs": [
    {
     "name": "stdout",
     "output_type": "stream",
     "text": [
      "Spr1: 5\n",
      "Spr1: 100\n",
      "Spr1: 5\n"
     ]
    }
   ],
   "source": [
    "spr1 = 5\n",
    "print(f\"Spr1: {spr1}\")\n",
    "\n",
    "def funkcija(spr1):\n",
    "    print(f\"Spr1: {spr1}\")\n",
    "    \n",
    "funkcija(100)\n",
    "print(f\"Spr1: {spr1}\")"
   ]
  },
  {
   "cell_type": "markdown",
   "metadata": {},
   "source": [
    "Paziti je potrebno, ko posredujemo list ali dictionary kot argument."
   ]
  },
  {
   "cell_type": "code",
   "execution_count": null,
   "metadata": {},
   "outputs": [
    {
     "name": "stdout",
     "output_type": "stream",
     "text": [
      "[3, 7, 13]\n",
      "[100, 7, 13]\n"
     ]
    }
   ],
   "source": [
    "def funkcija(l):\n",
    "    print(l)\n",
    "    l[0] = 100\n",
    "\n",
    "seznam = [3, 7, 13]\n",
    "funkcija(seznam)\n",
    "print(seznam)"
   ]
  },
  {
   "cell_type": "code",
   "execution_count": null,
   "metadata": {},
   "outputs": [
    {
     "name": "stdout",
     "output_type": "stream",
     "text": [
      "{'a': 5, 'b': 6, 'c': 7}\n",
      "{'a': 100, 'b': 6, 'c': 7}\n"
     ]
    }
   ],
   "source": [
    "def funkcija(d):\n",
    "    print(d)\n",
    "    d[\"a\"] = 100\n",
    "\n",
    "dict_ = {\"a\": 5, \"b\": 6, \"c\": 7}\n",
    "funkcija(dict_)\n",
    "print(dict_)"
   ]
  },
  {
   "cell_type": "code",
   "execution_count": null,
   "metadata": {},
   "outputs": [],
   "source": []
  },
  {
   "cell_type": "markdown",
   "metadata": {},
   "source": [
    "Če želimo spreminjati globalno spremenljivko znotraj funkcije (znotraj local scope) moramo uporabiti besedo **global**."
   ]
  },
  {
   "cell_type": "code",
   "execution_count": null,
   "metadata": {},
   "outputs": [
    {
     "name": "stdout",
     "output_type": "stream",
     "text": [
      "Spr1: 5\n",
      "Spr1: 100\n",
      "Spr1: 100\n"
     ]
    }
   ],
   "source": [
    "spr1 = 5\n",
    "print(f\"Spr1: {spr1}\")\n",
    "\n",
    "def funkcija():\n",
    "    global spr1\n",
    "    spr1 = 100\n",
    "    print(f\"Spr1: {spr1}\")\n",
    "    \n",
    "funkcija()\n",
    "print(f\"Spr1: {spr1}\")"
   ]
  },
  {
   "cell_type": "markdown",
   "metadata": {},
   "source": [
    "S to besedo lahko tudi ustvarimo novo globalno spremenljivko, znotraj localnega scopa."
   ]
  },
  {
   "cell_type": "code",
   "execution_count": null,
   "metadata": {},
   "outputs": [
    {
     "name": "stdout",
     "output_type": "stream",
     "text": [
      "Spr1: 5\n",
      "Spr1: 5\n"
     ]
    }
   ],
   "source": [
    "def funkcija():\n",
    "    global spr1\n",
    "    spr1 = 5\n",
    "    print(f\"Spr1: {spr1}\")\n",
    "    \n",
    "funkcija()\n",
    "print(f\"Spr1: {spr1}\")"
   ]
  },
  {
   "cell_type": "markdown",
   "id": "e72c0b92-30fa-4dde-a123-ba27c8b4e649",
   "metadata": {},
   "source": [
    "# Razlaga"
   ]
  },
  {
   "cell_type": "code",
   "execution_count": null,
   "id": "5ba6d896-c94b-43fd-9ba7-55b1df7fd1e8",
   "metadata": {},
   "outputs": [],
   "source": []
  },
  {
   "cell_type": "code",
   "execution_count": null,
   "id": "9e09535f-f847-4259-9305-1bb70feb8326",
   "metadata": {},
   "outputs": [],
   "source": []
  },
  {
   "cell_type": "code",
   "execution_count": null,
   "id": "778aa815-e714-4649-9ab8-dbdefa37fc6b",
   "metadata": {},
   "outputs": [],
   "source": []
  },
  {
   "cell_type": "code",
   "execution_count": null,
   "id": "83cad602-1113-41ed-ae2a-7ba125d74e73",
   "metadata": {},
   "outputs": [],
   "source": []
  },
  {
   "cell_type": "code",
   "execution_count": null,
   "id": "9d4d2ef8-db0d-44e0-955b-bc1fdf29066e",
   "metadata": {},
   "outputs": [],
   "source": [
    "\n"
   ]
  }
 ],
 "metadata": {
  "kernelspec": {
   "display_name": "Python 3 (ipykernel)",
   "language": "python",
   "name": "python3"
  },
  "language_info": {
   "codemirror_mode": {
    "name": "ipython",
    "version": 3
   },
   "file_extension": ".py",
   "mimetype": "text/x-python",
   "name": "python",
   "nbconvert_exporter": "python",
   "pygments_lexer": "ipython3",
   "version": "3.12.0"
  }
 },
 "nbformat": 4,
 "nbformat_minor": 5
}
