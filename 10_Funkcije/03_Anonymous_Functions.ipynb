{
 "cells": [
  {
   "cell_type": "markdown",
   "id": "4f1b7b95-5692-48a2-a513-9a6035176c5c",
   "metadata": {},
   "source": [
    "# Anonymous Functions"
   ]
  },
  {
   "cell_type": "markdown",
   "metadata": {},
   "source": [
    "\n",
    "Lambda funkcije so anonimne funkcije, kar pomeni, da nimajo imena (niso vezane na spremenljivko).\n",
    "\n",
    "> Anonimna funkcija - anonymous function is a function that is defined without a name.\n",
    "\n",
    ">We have already seen that when we want to use a number or a string in our program we can either write it as a literal in the place where we want to use it or use a variable that we have already defined in our code. For example, print(\"Hello!\") prints the literal string \"Hello!\", which we haven’t stored in a variable anywhere, but print(message) prints whatever string is stored in the variable message.\n",
    "\n",
    ">We have also seen that we can store a function in a variable, just like any other object, by referring to it by its name (but not calling it). Is there such a thing as a function literal? Can we define a function on the fly when we want to pass it as a parameter or assign it to a variable, just like we did with the string \"Hello!\"?\n",
    "\n",
    ">A lambda function may only contain a single expression, and the result of evaluating this expression is implicitly returned from the function (we don’t use the return keyword)"
   ]
  },
  {
   "cell_type": "markdown",
   "metadata": {},
   "source": [
    "```python\n",
    "lambda x,y : x +y\n",
    "```\n",
    "\n",
    "Sestavljene so iz:\n",
    "* lambda - keyword\n",
    "* parametri so napisani med lambda in :\n",
    "* \"single expression\" (1 vrstica kode). Rezultat / vrednost tega \"single expression\" se vrne kot vrednost funkcije"
   ]
  },
  {
   "cell_type": "code",
   "execution_count": null,
   "metadata": {},
   "outputs": [
    {
     "data": {
      "text/plain": [
       "5"
      ]
     },
     "metadata": {},
     "output_type": "display_data"
    }
   ],
   "source": [
    "(lambda x, y: x+y)(2, 3)"
   ]
  },
  {
   "cell_type": "code",
   "execution_count": null,
   "metadata": {},
   "outputs": [
    {
     "name": "stdout",
     "output_type": "stream",
     "text": [
      "<function <lambda> at 0x000001D590FDDE50>\n",
      "<class 'function'>\n"
     ]
    }
   ],
   "source": [
    "add = lambda x, y: x + y\n",
    "print(add)\n",
    "print(type(add))"
   ]
  },
  {
   "cell_type": "code",
   "execution_count": null,
   "metadata": {},
   "outputs": [
    {
     "data": {
      "text/plain": [
       "8"
      ]
     },
     "metadata": {},
     "output_type": "display_data"
    }
   ],
   "source": [
    "add(5,3)"
   ]
  },
  {
   "cell_type": "markdown",
   "metadata": {},
   "source": [
    "Primer, če bi zgornjo lambda funkcijo napisalo kot navadno funkcijo."
   ]
  },
  {
   "cell_type": "code",
   "execution_count": null,
   "metadata": {},
   "outputs": [],
   "source": [
    "def add(x, y):\n",
    "    return x + y"
   ]
  },
  {
   "cell_type": "code",
   "execution_count": null,
   "metadata": {},
   "outputs": [],
   "source": []
  },
  {
   "cell_type": "markdown",
   "metadata": {},
   "source": [
    "Lambda funkcije pridejo najbolj do izraza, kjer je treba kot argument posredovati funkcijo. Namesto dejanske funkcije lahko posredujemo lambda funkcijo."
   ]
  },
  {
   "cell_type": "markdown",
   "metadata": {},
   "source": [
    "Za primer vzemimo funkcijo `sorted()`.\n",
    "\n",
    "https://docs.python.org/3/library/functions.html#sorted\n",
    "\n",
    "Naša naloga je sortirati sledeče vrednosti glede na **market_cap** vrednost, od največje do najmanjše."
   ]
  },
  {
   "cell_type": "code",
   "execution_count": null,
   "metadata": {},
   "outputs": [],
   "source": [
    "data = [\n",
    "  {\n",
    "    \"id\": \"binancecoin\",\n",
    "    \"symbol\": \"bnb\",\n",
    "    \"name\": \"Binance Coin\",\n",
    "    \"image\": \"https://assets.coingecko.com/coins/images/825/large/binance-coin-logo.png?1547034615\",\n",
    "    \"current_price\": 212.03,\n",
    "    \"market_cap\": 33015186690,\n",
    "    \"total_volume\": 2490184836,\n",
    "    \"high_24h\": 230.59,\n",
    "    \"low_24h\": 210.87,\n",
    "  },\n",
    "  {\n",
    "    \"id\": \"bitcoin\",\n",
    "    \"symbol\": \"btc\",\n",
    "    \"name\": \"Bitcoin\",\n",
    "    \"image\": \"https://assets.coingecko.com/coins/images/1/large/bitcoin.png?1547033579\",\n",
    "    \"current_price\": 47553,\n",
    "    \"market_cap\": 901453728232,\n",
    "    \"total_volume\": 47427138554,\n",
    "    \"high_24h\": 51131,\n",
    "    \"low_24h\": 48056,\n",
    "  },\n",
    "  {\n",
    "    \"id\": \"cardano\",\n",
    "    \"symbol\": \"ada\",\n",
    "    \"name\": \"Cardano\",\n",
    "    \"image\": \"https://assets.coingecko.com/coins/images/975/large/cardano.png?1547034860\",\n",
    "    \"current_price\": 0.84514,\n",
    "    \"market_cap\": 27210647217,\n",
    "    \"total_volume\": 3204270671,\n",
    "    \"high_24h\": 0.919055,\n",
    "    \"low_24h\": 0.843236,\n",
    "  },\n",
    "  {\n",
    "    \"id\": \"ethereum\",\n",
    "    \"symbol\": \"eth\",\n",
    "    \"name\": \"Ethereum\",\n",
    "    \"image\": \"https://assets.coingecko.com/coins/images/279/large/ethereum.png?1595348880\",\n",
    "    \"current_price\": 1479.97,\n",
    "    \"market_cap\": 172447578072,\n",
    "    \"total_volume\": 24709055087,\n",
    "    \"high_24h\": 1597.13,\n",
    "    \"low_24h\": 1493,\n",
    "  },\n",
    "  {\n",
    "    \"id\": \"litecoin\",\n",
    "    \"symbol\": \"ltc\",\n",
    "    \"name\": \"Litecoin\",\n",
    "    \"image\": \"https://assets.coingecko.com/coins/images/2/large/litecoin.png?1547033580\",\n",
    "    \"current_price\": 171.49,\n",
    "    \"market_cap\": 11561005268,\n",
    "    \"total_volume\": 4950077782,\n",
    "    \"high_24h\": 187.34,\n",
    "    \"low_24h\": 172.45,\n",
    "  },\n",
    "  {\n",
    "    \"id\": \"polkadot\",\n",
    "    \"symbol\": \"dot\",\n",
    "    \"name\": \"Polkadot\",\n",
    "    \"image\": \"https://assets.coingecko.com/coins/images/12171/large/aJGBjJFU_400x400.jpg?1597804776\",\n",
    "    \"current_price\": 29.28,\n",
    "    \"market_cap\": 28856989783,\n",
    "    \"total_volume\": 1266769267,\n",
    "    \"high_24h\": 32.2,\n",
    "    \"low_24h\": 29.54,\n",
    "  },\n",
    "  {\n",
    "    \"id\": \"ripple\",\n",
    "    \"symbol\": \"xrp\",\n",
    "    \"name\": \"XRP\",\n",
    "    \"image\": \"https://assets.coingecko.com/coins/images/44/large/xrp-symbol-white-128.png?1605778731\",\n",
    "    \"current_price\": 0.360658,\n",
    "    \"market_cap\": 16580549437,\n",
    "    \"total_volume\": 2357746464,\n",
    "    \"high_24h\": 0.381072,\n",
    "    \"low_24h\": 0.358941,\n",
    "  },\n",
    "  {\n",
    "    \"id\": \"tether\",\n",
    "    \"symbol\": \"usdt\",\n",
    "    \"name\": \"Tether\",\n",
    "    \"image\": \"https://assets.coingecko.com/coins/images/325/large/Tether-logo.png?1598003707\",\n",
    "    \"current_price\": 0.83869,\n",
    "    \"market_cap\": 32307660438,\n",
    "    \"total_volume\": 82854947322,\n",
    "    \"high_24h\": 0.843104,\n",
    "    \"low_24h\": 0.832594,\n",
    "  },\n",
    "  {\n",
    "    \"id\": \"uniswap\",\n",
    "    \"symbol\": \"uni\",\n",
    "    \"name\": \"Uniswap\",\n",
    "    \"image\": \"https://assets.coingecko.com/coins/images/12504/large/uniswap-uni.png?1600306604\",\n",
    "    \"current_price\": 24.94,\n",
    "    \"market_cap\": 13099199643,\n",
    "    \"total_volume\": 939432128,\n",
    "    \"high_24h\": 27.92,\n",
    "    \"low_24h\": 24.78,\n",
    "  }\n",
    "]"
   ]
  },
  {
   "cell_type": "markdown",
   "metadata": {},
   "source": [
    "https://docs.python.org/3/library/functions.html#sorted\n",
    "```python\n",
    "sorted(iterable, *, key=None, reverse=False)\n",
    "```\n",
    "\n",
    "V dokumentaciji vidimo, da lahko kontroliramo katere vrednosti primerjamo z uporabo **key** parametra.\n",
    "\n",
    "Kot **key** lahko podamo našo funkcijo, ki sprejme 1 argument in vrne vrednost po kateri primerjamo."
   ]
  },
  {
   "cell_type": "code",
   "execution_count": null,
   "metadata": {},
   "outputs": [
    {
     "name": "stdout",
     "output_type": "stream",
     "text": [
      "binancecoin    \t 33015186690\n",
      "bitcoin    \t 901453728232\n",
      "cardano    \t 27210647217\n",
      "ethereum    \t 172447578072\n",
      "litecoin    \t 11561005268\n",
      "polkadot    \t 28856989783\n",
      "ripple    \t 16580549437\n",
      "tether    \t 32307660438\n",
      "uniswap    \t 13099199643\n"
     ]
    },
    {
     "data": {
      "text/plain": [
       "[{'id': 'bitcoin',\n",
       "  'symbol': 'btc',\n",
       "  'name': 'Bitcoin',\n",
       "  'image': 'https://assets.coingecko.com/coins/images/1/large/bitcoin.png?1547033579',\n",
       "  'current_price': 47553,\n",
       "  'market_cap': 901453728232,\n",
       "  'total_volume': 47427138554,\n",
       "  'high_24h': 51131,\n",
       "  'low_24h': 48056},\n",
       " {'id': 'ethereum',\n",
       "  'symbol': 'eth',\n",
       "  'name': 'Ethereum',\n",
       "  'image': 'https://assets.coingecko.com/coins/images/279/large/ethereum.png?1595348880',\n",
       "  'current_price': 1479.97,\n",
       "  'market_cap': 172447578072,\n",
       "  'total_volume': 24709055087,\n",
       "  'high_24h': 1597.13,\n",
       "  'low_24h': 1493},\n",
       " {'id': 'binancecoin',\n",
       "  'symbol': 'bnb',\n",
       "  'name': 'Binance Coin',\n",
       "  'image': 'https://assets.coingecko.com/coins/images/825/large/binance-coin-logo.png?1547034615',\n",
       "  'current_price': 212.03,\n",
       "  'market_cap': 33015186690,\n",
       "  'total_volume': 2490184836,\n",
       "  'high_24h': 230.59,\n",
       "  'low_24h': 210.87},\n",
       " {'id': 'tether',\n",
       "  'symbol': 'usdt',\n",
       "  'name': 'Tether',\n",
       "  'image': 'https://assets.coingecko.com/coins/images/325/large/Tether-logo.png?1598003707',\n",
       "  'current_price': 0.83869,\n",
       "  'market_cap': 32307660438,\n",
       "  'total_volume': 82854947322,\n",
       "  'high_24h': 0.843104,\n",
       "  'low_24h': 0.832594},\n",
       " {'id': 'polkadot',\n",
       "  'symbol': 'dot',\n",
       "  'name': 'Polkadot',\n",
       "  'image': 'https://assets.coingecko.com/coins/images/12171/large/aJGBjJFU_400x400.jpg?1597804776',\n",
       "  'current_price': 29.28,\n",
       "  'market_cap': 28856989783,\n",
       "  'total_volume': 1266769267,\n",
       "  'high_24h': 32.2,\n",
       "  'low_24h': 29.54},\n",
       " {'id': 'cardano',\n",
       "  'symbol': 'ada',\n",
       "  'name': 'Cardano',\n",
       "  'image': 'https://assets.coingecko.com/coins/images/975/large/cardano.png?1547034860',\n",
       "  'current_price': 0.84514,\n",
       "  'market_cap': 27210647217,\n",
       "  'total_volume': 3204270671,\n",
       "  'high_24h': 0.919055,\n",
       "  'low_24h': 0.843236},\n",
       " {'id': 'ripple',\n",
       "  'symbol': 'xrp',\n",
       "  'name': 'XRP',\n",
       "  'image': 'https://assets.coingecko.com/coins/images/44/large/xrp-symbol-white-128.png?1605778731',\n",
       "  'current_price': 0.360658,\n",
       "  'market_cap': 16580549437,\n",
       "  'total_volume': 2357746464,\n",
       "  'high_24h': 0.381072,\n",
       "  'low_24h': 0.358941},\n",
       " {'id': 'uniswap',\n",
       "  'symbol': 'uni',\n",
       "  'name': 'Uniswap',\n",
       "  'image': 'https://assets.coingecko.com/coins/images/12504/large/uniswap-uni.png?1600306604',\n",
       "  'current_price': 24.94,\n",
       "  'market_cap': 13099199643,\n",
       "  'total_volume': 939432128,\n",
       "  'high_24h': 27.92,\n",
       "  'low_24h': 24.78},\n",
       " {'id': 'litecoin',\n",
       "  'symbol': 'ltc',\n",
       "  'name': 'Litecoin',\n",
       "  'image': 'https://assets.coingecko.com/coins/images/2/large/litecoin.png?1547033580',\n",
       "  'current_price': 171.49,\n",
       "  'market_cap': 11561005268,\n",
       "  'total_volume': 4950077782,\n",
       "  'high_24h': 187.34,\n",
       "  'low_24h': 172.45}]"
      ]
     },
     "metadata": {},
     "output_type": "display_data"
    }
   ],
   "source": [
    "def sort_funkcija(x):\n",
    "    print(f'{x[\"id\"]}    \\t {x[\"market_cap\"]}')\n",
    "    return x[\"market_cap\"]\n",
    "\n",
    "sorted(data, key=sort_funkcija, reverse=True)"
   ]
  },
  {
   "cell_type": "markdown",
   "metadata": {},
   "source": [
    "Isto sortiranje lahko dobimo z uporabo lambda funkcije."
   ]
  },
  {
   "cell_type": "code",
   "execution_count": null,
   "metadata": {},
   "outputs": [
    {
     "data": {
      "text/plain": [
       "[{'id': 'bitcoin',\n",
       "  'symbol': 'btc',\n",
       "  'name': 'Bitcoin',\n",
       "  'image': 'https://assets.coingecko.com/coins/images/1/large/bitcoin.png?1547033579',\n",
       "  'current_price': 47553,\n",
       "  'market_cap': 901453728232,\n",
       "  'total_volume': 47427138554,\n",
       "  'high_24h': 51131,\n",
       "  'low_24h': 48056},\n",
       " {'id': 'ethereum',\n",
       "  'symbol': 'eth',\n",
       "  'name': 'Ethereum',\n",
       "  'image': 'https://assets.coingecko.com/coins/images/279/large/ethereum.png?1595348880',\n",
       "  'current_price': 1479.97,\n",
       "  'market_cap': 172447578072,\n",
       "  'total_volume': 24709055087,\n",
       "  'high_24h': 1597.13,\n",
       "  'low_24h': 1493},\n",
       " {'id': 'binancecoin',\n",
       "  'symbol': 'bnb',\n",
       "  'name': 'Binance Coin',\n",
       "  'image': 'https://assets.coingecko.com/coins/images/825/large/binance-coin-logo.png?1547034615',\n",
       "  'current_price': 212.03,\n",
       "  'market_cap': 33015186690,\n",
       "  'total_volume': 2490184836,\n",
       "  'high_24h': 230.59,\n",
       "  'low_24h': 210.87},\n",
       " {'id': 'tether',\n",
       "  'symbol': 'usdt',\n",
       "  'name': 'Tether',\n",
       "  'image': 'https://assets.coingecko.com/coins/images/325/large/Tether-logo.png?1598003707',\n",
       "  'current_price': 0.83869,\n",
       "  'market_cap': 32307660438,\n",
       "  'total_volume': 82854947322,\n",
       "  'high_24h': 0.843104,\n",
       "  'low_24h': 0.832594},\n",
       " {'id': 'polkadot',\n",
       "  'symbol': 'dot',\n",
       "  'name': 'Polkadot',\n",
       "  'image': 'https://assets.coingecko.com/coins/images/12171/large/aJGBjJFU_400x400.jpg?1597804776',\n",
       "  'current_price': 29.28,\n",
       "  'market_cap': 28856989783,\n",
       "  'total_volume': 1266769267,\n",
       "  'high_24h': 32.2,\n",
       "  'low_24h': 29.54},\n",
       " {'id': 'cardano',\n",
       "  'symbol': 'ada',\n",
       "  'name': 'Cardano',\n",
       "  'image': 'https://assets.coingecko.com/coins/images/975/large/cardano.png?1547034860',\n",
       "  'current_price': 0.84514,\n",
       "  'market_cap': 27210647217,\n",
       "  'total_volume': 3204270671,\n",
       "  'high_24h': 0.919055,\n",
       "  'low_24h': 0.843236},\n",
       " {'id': 'ripple',\n",
       "  'symbol': 'xrp',\n",
       "  'name': 'XRP',\n",
       "  'image': 'https://assets.coingecko.com/coins/images/44/large/xrp-symbol-white-128.png?1605778731',\n",
       "  'current_price': 0.360658,\n",
       "  'market_cap': 16580549437,\n",
       "  'total_volume': 2357746464,\n",
       "  'high_24h': 0.381072,\n",
       "  'low_24h': 0.358941},\n",
       " {'id': 'uniswap',\n",
       "  'symbol': 'uni',\n",
       "  'name': 'Uniswap',\n",
       "  'image': 'https://assets.coingecko.com/coins/images/12504/large/uniswap-uni.png?1600306604',\n",
       "  'current_price': 24.94,\n",
       "  'market_cap': 13099199643,\n",
       "  'total_volume': 939432128,\n",
       "  'high_24h': 27.92,\n",
       "  'low_24h': 24.78},\n",
       " {'id': 'litecoin',\n",
       "  'symbol': 'ltc',\n",
       "  'name': 'Litecoin',\n",
       "  'image': 'https://assets.coingecko.com/coins/images/2/large/litecoin.png?1547033580',\n",
       "  'current_price': 171.49,\n",
       "  'market_cap': 11561005268,\n",
       "  'total_volume': 4950077782,\n",
       "  'high_24h': 187.34,\n",
       "  'low_24h': 172.45}]"
      ]
     },
     "metadata": {},
     "output_type": "display_data"
    }
   ],
   "source": [
    "sorted(data, key=lambda x: x[\"market_cap\"], reverse=True)"
   ]
  },
  {
   "cell_type": "markdown",
   "metadata": {},
   "source": [
    "<div class=\"alert alert-block alert-info\">\n",
    "<h1><b>Naloga: </b></h1>\n",
    "Imamo podatke o GDP Evropskih držav od leta 2010 do 2020.\n",
    "    \n",
    "Uporabite funkcijo <b>sorted()</b> in določite takšno <b>lambda funkcijo</b>, da razvrstimo države po GDP leta 2020 od največje do najmanjše.\n",
    "    \n",
    "Izpišite imena držav od največje do najmanjše.\n",
    "</div>\n",
    "\n",
    "Primeri:\n",
    "```python\n",
    "Input:\n",
    "data = [[\"Austria\", 392.623, 431.515, 409.652, 430.203, 442.698, 381.998, 394.215, 417.721, 456.166, 447.718, 432.894],\n",
    "[\"Belgium\", 484.450, 527.492,498.161, 521.090, 531.651, 456.067, 469.931, 495.953, 532.268, 517.609, 503.416],\n",
    "[\"Bosnia\", 17.164, 18.629, 17.207, 18.155, 18.522, 16.210, 16.910, 18.081, 20.162, 20.106, 18.893],\n",
    "[\"Bulgaria\", 50.611, 57.420, 53.901, 55.557, 56.815, 50.201, 53.236, 58.342, 65.197, 66.250, 67.917],\n",
    "[\"Croatia\", 59.866, 62.399, 56.549, 58.158, 57.683, 49.519, 51.623, 55.201, 60.805, 60.702, 56.768],\n",
    "[\"Cyprus\", 25.608, 27.454, 25.055, 24.094, 23.401, 19.691, 20.461, 22.189, 24.493, 24.280, 23.246],\n",
    "[\"Czech Republic\", 207.478, 227.948, 207.376, 209.402, 207.818, 186.830, 195.090, 215.914, 245.226, 246.953, 241.975],\n",
    "[\"Denmark\",321.995,344.003,327.149,343.584, 352.994,302.673,311.988,329.866,352.058,347.176,339.626],\n",
    "[\"Estonia\",19.536,23.191,23.057,25.145, 26.658, 22.916,23.994,26.850,30.761,31.038,30.468],\n",
    "[\"Finland\",248.262,273.925,256.849,270.065,273.042,232.582,239.150,252.867,274.210,269.654,267.856],\n",
    "[\"France\",2647.537,2864.030,2685.311,2811.957,2856.697,2439.435,2466.152,2591.775,2780.152,2707.074,2551.451],\n",
    "[\"Germany\",3423.466,3761.142,3545.946,3753.687,3904.921,3383.091,3496.606,3664.511,3951.340,3863.344,3780.553],\n",
    "[\"Greece\",299.919,288.062,245.807,239.937,237.406,196.690,195.303,203.493,218.230,214.012,194.376],\n",
    "[\"Hungary\",130.923,140.782,127.857,135.221,140.083,123.074,126.008, 139.844,161.182,170.407,149.939],\n",
    "[\"Iceland\",13.684,15.159,14.724,16.034, 17.758,17.389,20.618,24.457,25.965, 23.918,20.805],\n",
    "[\"Ireland\",222.533,238.088, 225.140,238.708,259.200,290.858,301.968,335.211,382.754,384.940,399.064],\n",
    "[\"Italy\",2129.021,2278.376,2073.971,2131.159,2155.151,1833.195,1869.973,1950.703,2075.856,2001.440,1848.222],\n",
    "[\"Latvia\",23.809,28.496,28.141,30.260,31.385,26.986,27.707,30.528,34.882,35.045,33.015],\n",
    "[\"Liechtenstein\",5.082,5.740,5.456,6.392,6.657,6.268,6.215],\n",
    "[\"Lithuania\",37.200,43.564, 42.887,46.423,48.632,41.538,42.991,47.645,53.302,53.641,55.064],\n",
    "[\"Luxembourg\",53.312,60.060,56.709,61.759,66.209,57.233,58.985,62.449,69.553,69.453,68.613],\n",
    "[\"Malta\",8.757,9.511,9.215,10.154,11.302,10.701,11.446,12.764,14.560,14.859,14.290],\n",
    "[\"Montenegro\",4.147,4.543,4.090,4.466,4.595,4.055,4.376,4.855,5.457,5.424,4.943],\n",
    "[\"Netherlands\",848.133,904.915,839.436, 877.198,892.397,765.650,783.852,833.575,914.519,902.355,886.339],\n",
    "[\"Norway\",429.131,498.832,510.229,523.502,499.338,386.663,371.345,398.394,434.167,417.627,366.386],\n",
    "[\"Poland\",479.161,528.571,500.846,524.399,545.284,477.568,471.843,526.749,585.816,565.854,580.894],\n",
    "[\"Portugal\",238.748,245.119,216.488,226.144,229.995,199.521,206.361,221.280,240.901,236.408,221.716],\n",
    "[\"Romania\",166.225, 183.443,171.196,190.948,199.628,177.895,188.495,211.407,239.552,243.698,248.624],\n",
    "[\"Serbia\",41.369,49.280,43.300, 48.394,47.062,39.629,40.630,44.120, 50.509,51.523,51.999],\n",
    "[\"Slovakia\",89.668, 98.271,93.466,98.509,101.109,87.814,89.885,95.821,106.573,106.552,101.892],\n",
    "[\"Slovenia\",48.103,51.338,46.378,48.131,49.969,43.124,44.660,48.545,54.059,54.154,51.802],\n",
    "[\"Spain\",1434.286,1489.431,1336.759,1362.280,1379.098,1199.688,1238.010, 1317.104,1427.533,1397.870,1247.464],\n",
    "[\"Sweden\",488.909,563.797,544.482,579.361,574.413,498.118,512.205,540.545,556.073,528.929,529.054],\n",
    "[\"Switzerland\",583.053, 699.670,667.890,688.747,709.496,679.721,670.247,680.029,705.546,715.360,707.868],\n",
    "[\"Turkey\",772.290,832.497,873.696,950.328,934.075,859.449,863.390,852.648,771.274,743.708,649.436],\n",
    "[\"United Kingdom\",2455.309,2635.799,2677.082,2755.356,3036.310,2897.060,2669.107,2640.067,2828.833,2743.586,2638.296]]\n",
    "\n",
    "\n",
    "\n",
    "Output:\n",
    "Germany\n",
    "United Kingdom\n",
    "France\n",
    "Italy\n",
    "Spain\n",
    "Netherlands\n",
    "Switzerland\n",
    "Turkey\n",
    "Poland\n",
    "Sweden\n",
    "Belgium\n",
    "Austria\n",
    "Ireland\n",
    "Norway\n",
    "Denmark\n",
    "Finland\n",
    "Romania\n",
    "Czech Republic\n",
    "Portugal\n",
    "Greece\n",
    "Hungary\n",
    "Slovakia\n",
    "Luxembourg\n",
    "Bulgaria\n",
    "Croatia\n",
    "Lithuania\n",
    "Serbia\n",
    "Slovenia\n",
    "Latvia\n",
    "Estonia\n",
    "Cyprus\n",
    "Iceland\n",
    "Bosnia\n",
    "Malta\n",
    "Liechtenstein\n",
    "Montenegro\n",
    "\n",
    "    \n",
    "```\n"
   ]
  },
  {
   "cell_type": "code",
   "execution_count": null,
   "metadata": {},
   "outputs": [],
   "source": [
    "data = [[\"Austria\", 392.623, 431.515, 409.652, 430.203, 442.698, 381.998, 394.215, 417.721, 456.166, 447.718, 432.894],\n",
    "[\"Belgium\", 484.450, 527.492,498.161, 521.090, 531.651, 456.067, 469.931, 495.953, 532.268, 517.609, 503.416],\n",
    "[\"Bosnia\", 17.164, 18.629, 17.207, 18.155, 18.522, 16.210, 16.910, 18.081, 20.162, 20.106, 18.893],\n",
    "[\"Bulgaria\", 50.611, 57.420, 53.901, 55.557, 56.815, 50.201, 53.236, 58.342, 65.197, 66.250, 67.917],\n",
    "[\"Croatia\", 59.866, 62.399, 56.549, 58.158, 57.683, 49.519, 51.623, 55.201, 60.805, 60.702, 56.768],\n",
    "[\"Cyprus\", 25.608, 27.454, 25.055, 24.094, 23.401, 19.691, 20.461, 22.189, 24.493, 24.280, 23.246],\n",
    "[\"Czech Republic\", 207.478, 227.948, 207.376, 209.402, 207.818, 186.830, 195.090, 215.914, 245.226, 246.953, 241.975],\n",
    "[\"Denmark\",321.995,344.003,327.149,343.584, 352.994,302.673,311.988,329.866,352.058,347.176,339.626],\n",
    "[\"Estonia\",19.536,23.191,23.057,25.145, 26.658, 22.916,23.994,26.850,30.761,31.038,30.468],\n",
    "[\"Finland\",248.262,273.925,256.849,270.065,273.042,232.582,239.150,252.867,274.210,269.654,267.856],\n",
    "[\"France\",2647.537,2864.030,2685.311,2811.957,2856.697,2439.435,2466.152,2591.775,2780.152,2707.074,2551.451],\n",
    "[\"Germany\",3423.466,3761.142,3545.946,3753.687,3904.921,3383.091,3496.606,3664.511,3951.340,3863.344,3780.553],\n",
    "[\"Greece\",299.919,288.062,245.807,239.937,237.406,196.690,195.303,203.493,218.230,214.012,194.376],\n",
    "[\"Hungary\",130.923,140.782,127.857,135.221,140.083,123.074,126.008, 139.844,161.182,170.407,149.939],\n",
    "[\"Iceland\",13.684,15.159,14.724,16.034, 17.758,17.389,20.618,24.457,25.965, 23.918,20.805],\n",
    "[\"Ireland\",222.533,238.088, 225.140,238.708,259.200,290.858,301.968,335.211,382.754,384.940,399.064],\n",
    "[\"Italy\",2129.021,2278.376,2073.971,2131.159,2155.151,1833.195,1869.973,1950.703,2075.856,2001.440,1848.222],\n",
    "[\"Latvia\",23.809,28.496,28.141,30.260,31.385,26.986,27.707,30.528,34.882,35.045,33.015],\n",
    "[\"Lithuania\",37.200,43.564, 42.887,46.423,48.632,41.538,42.991,47.645,53.302,53.641,55.064],\n",
    "[\"Luxembourg\",53.312,60.060,56.709,61.759,66.209,57.233,58.985,62.449,69.553,69.453,68.613],\n",
    "[\"Malta\",8.757,9.511,9.215,10.154,11.302,10.701,11.446,12.764,14.560,14.859,14.290],\n",
    "[\"Montenegro\",4.147,4.543,4.090,4.466,4.595,4.055,4.376,4.855,5.457,5.424,4.943],\n",
    "[\"Netherlands\",848.133,904.915,839.436, 877.198,892.397,765.650,783.852,833.575,914.519,902.355,886.339],\n",
    "[\"Norway\",429.131,498.832,510.229,523.502,499.338,386.663,371.345,398.394,434.167,417.627,366.386],\n",
    "[\"Poland\",479.161,528.571,500.846,524.399,545.284,477.568,471.843,526.749,585.816,565.854,580.894],\n",
    "[\"Portugal\",238.748,245.119,216.488,226.144,229.995,199.521,206.361,221.280,240.901,236.408,221.716],\n",
    "[\"Romania\",166.225, 183.443,171.196,190.948,199.628,177.895,188.495,211.407,239.552,243.698,248.624],\n",
    "[\"Serbia\",41.369,49.280,43.300, 48.394,47.062,39.629,40.630,44.120, 50.509,51.523,51.999],\n",
    "[\"Slovakia\",89.668, 98.271,93.466,98.509,101.109,87.814,89.885,95.821,106.573,106.552,101.892],\n",
    "[\"Slovenia\",48.103,51.338,46.378,48.131,49.969,43.124,44.660,48.545,54.059,54.154,51.802],\n",
    "[\"Spain\",1434.286,1489.431,1336.759,1362.280,1379.098,1199.688,1238.010, 1317.104,1427.533,1397.870,1247.464],\n",
    "[\"Sweden\",488.909,563.797,544.482,579.361,574.413,498.118,512.205,540.545,556.073,528.929,529.054],\n",
    "[\"Switzerland\",583.053, 699.670,667.890,688.747,709.496,679.721,670.247,680.029,705.546,715.360,707.868],\n",
    "[\"Turkey\",772.290,832.497,873.696,950.328,934.075,859.449,863.390,852.648,771.274,743.708,649.436],\n",
    "[\"United Kingdom\",2455.309,2635.799,2677.082,2755.356,3036.310,2897.060,2669.107,2640.067,2828.833,2743.586,2638.296]]"
   ]
  },
  {
   "cell_type": "code",
   "execution_count": null,
   "metadata": {},
   "outputs": [
    {
     "data": {
      "text/plain": [
       "['Germany',\n",
       " 'United Kingdom',\n",
       " 'France',\n",
       " 'Italy',\n",
       " 'Spain',\n",
       " 'Netherlands',\n",
       " 'Switzerland',\n",
       " 'Turkey',\n",
       " 'Poland',\n",
       " 'Sweden',\n",
       " 'Belgium',\n",
       " 'Austria',\n",
       " 'Ireland',\n",
       " 'Norway',\n",
       " 'Denmark',\n",
       " 'Finland',\n",
       " 'Romania',\n",
       " 'Czech Republic',\n",
       " 'Portugal',\n",
       " 'Greece',\n",
       " 'Hungary',\n",
       " 'Slovakia',\n",
       " 'Luxembourg',\n",
       " 'Bulgaria',\n",
       " 'Croatia',\n",
       " 'Lithuania',\n",
       " 'Serbia',\n",
       " 'Slovenia',\n",
       " 'Latvia',\n",
       " 'Estonia',\n",
       " 'Cyprus',\n",
       " 'Iceland',\n",
       " 'Bosnia',\n",
       " 'Malta',\n",
       " 'Montenegro']"
      ]
     },
     "metadata": {},
     "output_type": "display_data"
    }
   ],
   "source": [
    "[e[0] for e in sorted(data,key=lambda x : x[-1],reverse = True)]"
   ]
  },
  {
   "cell_type": "code",
   "execution_count": null,
   "metadata": {},
   "outputs": [
    {
     "name": "stdout",
     "output_type": "stream",
     "text": [
      "Germany\n",
      "United Kingdom\n",
      "France\n",
      "Italy\n",
      "Spain\n",
      "Netherlands\n",
      "Switzerland\n",
      "Turkey\n",
      "Poland\n",
      "Sweden\n",
      "Belgium\n",
      "Austria\n",
      "Ireland\n",
      "Norway\n",
      "Denmark\n",
      "Finland\n",
      "Romania\n",
      "Czech Republic\n",
      "Portugal\n",
      "Greece\n",
      "Hungary\n",
      "Slovakia\n",
      "Luxembourg\n",
      "Bulgaria\n",
      "Croatia\n",
      "Lithuania\n",
      "Serbia\n",
      "Slovenia\n",
      "Latvia\n",
      "Estonia\n",
      "Cyprus\n",
      "Iceland\n",
      "Bosnia\n",
      "Malta\n",
      "Montenegro\n"
     ]
    }
   ],
   "source": [
    "data_sorted = sorted(data, key=lambda x: x[-1], reverse=True)\n",
    "for i in data_sorted:\n",
    "    print(i[0])"
   ]
  },
  {
   "cell_type": "markdown",
   "id": "27a38e14-6cbc-4898-ba69-0fb67ee54350",
   "metadata": {},
   "source": [
    "# Razlaga"
   ]
  },
  {
   "cell_type": "code",
   "execution_count": null,
   "id": "920596e5-c7a9-4e33-b86c-fc3a9d563273",
   "metadata": {},
   "outputs": [],
   "source": []
  },
  {
   "cell_type": "code",
   "execution_count": null,
   "id": "00115b10-9793-444d-a2a9-e69e4c7c1682",
   "metadata": {},
   "outputs": [],
   "source": []
  },
  {
   "cell_type": "code",
   "execution_count": null,
   "id": "31a21400-6a90-45d6-9881-a64e7194d7d2",
   "metadata": {},
   "outputs": [],
   "source": []
  },
  {
   "cell_type": "code",
   "execution_count": null,
   "id": "26308afd-dbc8-4622-9e4b-4222332fb767",
   "metadata": {},
   "outputs": [],
   "source": []
  },
  {
   "cell_type": "code",
   "execution_count": null,
   "id": "6ac8fed4-9b62-49d0-bbb1-8db9c7e3ab43",
   "metadata": {},
   "outputs": [],
   "source": []
  }
 ],
 "metadata": {
  "kernelspec": {
   "display_name": "Python 3 (ipykernel)",
   "language": "python",
   "name": "python3"
  },
  "language_info": {
   "codemirror_mode": {
    "name": "ipython",
    "version": 3
   },
   "file_extension": ".py",
   "mimetype": "text/x-python",
   "name": "python",
   "nbconvert_exporter": "python",
   "pygments_lexer": "ipython3",
   "version": "3.12.0"
  }
 },
 "nbformat": 4,
 "nbformat_minor": 5
}
