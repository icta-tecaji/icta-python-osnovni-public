{
 "cells": [
  {
   "cell_type": "markdown",
   "id": "a491e486-5074-4c35-af9b-632e977653c4",
   "metadata": {},
   "source": [
    "# Defining Python Functions"
   ]
  },
  {
   "cell_type": "markdown",
   "metadata": {},
   "source": [
    "Funkcija je blok kode, ki izvede specifično operacijo in jo lahko večkrat uporabimo.\n",
    "> Za primer, če v programu večkrat uporabniku rečemo, naj vnese celo število med 1 in 20. Od njega zahtevamo vnos s pomočjo **input** in nato to spremenimo v celo število z uporabo **int**. Nato preverimo ali je število v pravilnem rangu. To zaporedje kode v programu večkrat ponovimo.\n",
    "\n",
    "> Če se sedaj odločimo, da naj uporabnik vnese celo število v rangu med 1 in 100, moramo popraviti vsako vrstico posebej, kar hitro lahko privede do napake.\n",
    "\n",
    "> Za lažje pisanje programa lahko to zaporedje kode shranimo v funkcijo. Če sedaj spremenimo rang, le-tega popravimo samo enkrat, znotraj naše funkcije.\n",
    "\n",
    "Funkcije nam omogočajo uporabo tuje kode brez globjega razumevanja kako le-ta deluje. Z njihovo pomočjo lahko zelo kompleksne probleme razbijemo na majhne in bolj obvladljive komponente."
   ]
  },
  {
   "cell_type": "markdown",
   "metadata": {},
   "source": [
    "#### Defining a Function\n",
    "\n",
    "Funkcijo definiramo z uporabo def keyword kateri sledi ime funkcije in navadni oklepaji (). Zaključi se jo z \" : \".\n",
    "\n",
    "Blok kode, katero želimo, da naša funkcija izvede zapišemo z ustreznim zamikom.\n",
    "\n",
    "```python\n",
    "def ime_funkcije():\n",
    "    # Naš blok kode katero želimo izvesti\n",
    "    x = input(\"...\")\n",
    "    y = int(x) + 5\n",
    "    ...\n",
    "```\n",
    "\n",
    "Po priporočilih se imena funkcije piše na snake_case način (vse male črke, med besedami podčrtaj _ )"
   ]
  },
  {
   "cell_type": "markdown",
   "metadata": {},
   "source": [
    "Funkcijo nato uporabimo tako, da jo pokličemo po imenu in dodamo zraven ().\n",
    "```python\n",
    "ime_funkcije() # Klic naše funkcije\n",
    "```"
   ]
  },
  {
   "cell_type": "code",
   "execution_count": null,
   "metadata": {},
   "outputs": [
    {
     "name": "stdout",
     "output_type": "stream",
     "text": [
      "Začetek programa\n",
      "Hello, World!\n",
      "Nadaljevanje programa\n"
     ]
    }
   ],
   "source": [
    "def hello():\n",
    "    print(\"Hello, World!\")\n",
    "\n",
    "print(\"Začetek programa\")\n",
    "hello()\n",
    "print(\"Nadaljevanje programa\")\n",
    "#pokažemo, da moremo funkcijo klicat po definiciji.\n",
    "#pazt, če to kažeš v jupyter notebooku, k tm se shranjo stvari v ozadju"
   ]
  },
  {
   "cell_type": "markdown",
   "metadata": {},
   "source": [
    "Funkcije je v kodi potrebno ustvariti, še predno jo kličemo."
   ]
  },
  {
   "cell_type": "code",
   "execution_count": null,
   "metadata": {},
   "outputs": [
    {
     "name": "stdout",
     "output_type": "stream",
     "text": [
      "Začetek programa\n"
     ]
    },
    {
     "ename": "NameError",
     "evalue": "name 'hello2' is not defined",
     "output_type": "error",
     "traceback": [
      "\u001b[1;31m---------------------------------------------------------------------------\u001b[0m\n",
      "\u001b[1;31mNameError\u001b[0m                                 Traceback (most recent call last)\n",
      "\u001b[1;32m<ipython-input-30-d0c6cd4e0154>\u001b[0m in \u001b[0;36m<module>\u001b[1;34m\u001b[0m\n",
      "\u001b[0;32m      1\u001b[0m \u001b[0mprint\u001b[0m\u001b[1;33m(\u001b[0m\u001b[1;34m\"Začetek programa\"\u001b[0m\u001b[1;33m)\u001b[0m\u001b[1;33m\u001b[0m\u001b[1;33m\u001b[0m\u001b[0m\n",
      "\u001b[1;32m----> 2\u001b[1;33m \u001b[0mhello2\u001b[0m\u001b[1;33m(\u001b[0m\u001b[1;33m)\u001b[0m\u001b[1;33m\u001b[0m\u001b[1;33m\u001b[0m\u001b[0m\n",
      "\u001b[0m\u001b[0;32m      3\u001b[0m \u001b[0mprint\u001b[0m\u001b[1;33m(\u001b[0m\u001b[1;34m\"Nadaljevanje programa\"\u001b[0m\u001b[1;33m)\u001b[0m\u001b[1;33m\u001b[0m\u001b[1;33m\u001b[0m\u001b[0m\n",
      "\u001b[0;32m      4\u001b[0m \u001b[1;33m\u001b[0m\u001b[0m\n",
      "\u001b[0;32m      5\u001b[0m \u001b[1;32mdef\u001b[0m \u001b[0mhello2\u001b[0m\u001b[1;33m(\u001b[0m\u001b[1;33m)\u001b[0m\u001b[1;33m:\u001b[0m\u001b[1;33m\u001b[0m\u001b[1;33m\u001b[0m\u001b[0m\n",
      "\n",
      "\u001b[1;31mNameError\u001b[0m: name 'hello2' is not defined"
     ]
    }
   ],
   "source": [
    "print(\"Začetek programa\")\n",
    "hello2()\n",
    "print(\"Nadaljevanje programa\")\n",
    "\n",
    "def hello2():\n",
    "    print(\"Hello, World!\")"
   ]
  },
  {
   "cell_type": "code",
   "execution_count": null,
   "metadata": {},
   "outputs": [],
   "source": []
  },
  {
   "cell_type": "markdown",
   "metadata": {},
   "source": [
    "<div class=\"alert alert-block alert-info\">\n",
    "<h1><b>Naloga: </b></h1>\n",
    "Napišite funkcijo, ki od uporabnika zahteva naj vnese svojo EMŠO število.\n",
    "    \n",
    "Funkcija naj nato izpiše koliko let je uporabnik star.\n",
    "\n",
    "EMŠO ima 14 številk XXXXyyyXXXXXXX. 5.,6.,7. številka predstavljajo letnico rojstva (999 -> 1999 leto rojstva). \n",
    "</div>\n",
    "\n",
    "Primeri:\n",
    "```python\n",
    "Input:\n",
    "Vnesi emšo: 0102999500111\n",
    "\n",
    "Output:\n",
    "Star si 22 let\n",
    "\n",
    "Input:\n",
    "Vnesi emšo: 0104986505555\n",
    "\n",
    "Output:\n",
    "Star si 35 let\n",
    "\n",
    "```"
   ]
  },
  {
   "cell_type": "code",
   "execution_count": null,
   "metadata": {},
   "outputs": [
    {
     "name": "stdout",
     "output_type": "stream",
     "text": [
      "Vnesi emšo: 0104986505555\n",
      "Star si 35 let\n"
     ]
    }
   ],
   "source": [
    "# Rešitev\n",
    "def fun():\n",
    "    emšo = input(\"Vnesi emšo: \")\n",
    "    \n",
    "    letnica = int(emšo[4:7]) + 1000\n",
    "    print(f\"Star si {2021-letnica} let\")\n",
    "\n",
    "fun()"
   ]
  },
  {
   "cell_type": "markdown",
   "metadata": {},
   "source": [
    "#### Working with Parameters\n",
    "\n",
    "Funkciji lahko pošljemo določene spremenljivke, katere želimo uporabiti v funkciji.\n",
    "> Primer: Če vemo ime uporabnika, ga lahko kličemo po imenu, kadar od njega zahtevamo input.\n",
    "\n",
    "Vrednost, ki jo pošljemo v funkcijo, se reče **argument**. To funkcija sprejme kot **parameter**.\n",
    "* Parameters are the name within the function definition.\n",
    "* Arguments are the values passed in when the function is called.\n",
    "\n",
    "\n",
    "Parametre funkcije definiramo znotraj njenih \"( )\".\n",
    "```python\n",
    "def funkcija_1(x, y, z): # x, y, z are parameters\n",
    "    pass\n",
    "\n",
    "funkcija_1(1, 2, 3) # 1, 2, 3 are arguments\n",
    "\n"
   ]
  },
  {
   "cell_type": "code",
   "execution_count": null,
   "metadata": {},
   "outputs": [
    {
     "name": "stdout",
     "output_type": "stream",
     "text": [
      "X vrednost: 1\n",
      "Y vrednost: 2\n",
      "Z vrednost: 3\n"
     ]
    }
   ],
   "source": [
    "def funkcija_1(x, y, z):\n",
    "    print(f\"X vrednost: {x}\")\n",
    "    print(f\"Y vrednost: {y}\")\n",
    "    print(f\"Z vrednost: {z}\")\n",
    "    \n",
    "funkcija_1(1,2,3)"
   ]
  },
  {
   "cell_type": "markdown",
   "metadata": {},
   "source": [
    "V zgornjem primeru se ob klicu funkcije:\n",
    "* vrednost 1 shrani v spremenljivko x\n",
    "* vrednost 2 shrani v spremenljivko y\n",
    "* vrednost 3 shrani v spremenljivko z\n",
    "\n",
    "Zato je vrstni red argumentov pomemben!"
   ]
  },
  {
   "cell_type": "code",
   "execution_count": null,
   "metadata": {},
   "outputs": [
    {
     "name": "stdout",
     "output_type": "stream",
     "text": [
      "X vrednost: 1\n",
      "Y vrednost: 2\n",
      "Z vrednost: 3\n",
      "Zamenjajmo vrstni red.\n",
      "X vrednost: 3\n",
      "Y vrednost: 2\n",
      "Z vrednost: 1\n"
     ]
    }
   ],
   "source": [
    "def funkcija_1(x, y, z):\n",
    "    print(f\"X vrednost: {x}\")\n",
    "    print(f\"Y vrednost: {y}\")\n",
    "    print(f\"Z vrednost: {z}\")\n",
    "    \n",
    "funkcija_1(1, 2, 3)\n",
    "print(\"Zamenjajmo vrstni red.\")\n",
    "funkcija_1(3, 2, 1)"
   ]
  },
  {
   "cell_type": "markdown",
   "metadata": {},
   "source": [
    "Pomembno je tudi, da podamo pravilno število argumentov!\n",
    "\n",
    "Če funkcija pričakuje 3 argumente, ji moramo podatki 3 argumente. Nič več. nič manj. V nasprotnem primeru dobimo napako."
   ]
  },
  {
   "cell_type": "code",
   "execution_count": null,
   "metadata": {},
   "outputs": [
    {
     "ename": "TypeError",
     "evalue": "funkcija_1() missing 1 required positional argument: 'z'",
     "output_type": "error",
     "traceback": [
      "\u001b[1;31m---------------------------------------------------------------------------\u001b[0m\n",
      "\u001b[1;31mTypeError\u001b[0m                                 Traceback (most recent call last)\n",
      "\u001b[1;32m<ipython-input-18-e9b6b54ff80a>\u001b[0m in \u001b[0;36m<module>\u001b[1;34m\u001b[0m\n",
      "\u001b[0;32m      4\u001b[0m     \u001b[0mprint\u001b[0m\u001b[1;33m(\u001b[0m\u001b[1;34mf\"Z vrednost: {z}\"\u001b[0m\u001b[1;33m)\u001b[0m\u001b[1;33m\u001b[0m\u001b[1;33m\u001b[0m\u001b[0m\n",
      "\u001b[0;32m      5\u001b[0m \u001b[1;33m\u001b[0m\u001b[0m\n",
      "\u001b[1;32m----> 6\u001b[1;33m \u001b[0mfunkcija_1\u001b[0m\u001b[1;33m(\u001b[0m\u001b[1;36m1\u001b[0m\u001b[1;33m,\u001b[0m \u001b[1;36m2\u001b[0m\u001b[1;33m)\u001b[0m\u001b[1;33m\u001b[0m\u001b[1;33m\u001b[0m\u001b[0m\n",
      "\u001b[0m\n",
      "\u001b[1;31mTypeError\u001b[0m: funkcija_1() missing 1 required positional argument: 'z'"
     ]
    }
   ],
   "source": [
    "# Primer, ko podamo premalo argumentov\n",
    "def funkcija_1(x, y, z):\n",
    "    print(f\"X vrednost: {x}\")\n",
    "    print(f\"Y vrednost: {y}\")\n",
    "    print(f\"Z vrednost: {z}\")\n",
    "    \n",
    "funkcija_1(1, 2)"
   ]
  },
  {
   "cell_type": "code",
   "execution_count": null,
   "metadata": {},
   "outputs": [
    {
     "ename": "TypeError",
     "evalue": "funkcija_1() takes 3 positional arguments but 4 were given",
     "output_type": "error",
     "traceback": [
      "\u001b[1;31m---------------------------------------------------------------------------\u001b[0m\n",
      "\u001b[1;31mTypeError\u001b[0m                                 Traceback (most recent call last)\n",
      "\u001b[1;32m<ipython-input-19-271e80339153>\u001b[0m in \u001b[0;36m<module>\u001b[1;34m\u001b[0m\n",
      "\u001b[0;32m      4\u001b[0m     \u001b[0mprint\u001b[0m\u001b[1;33m(\u001b[0m\u001b[1;34mf\"Z vrednost: {z}\"\u001b[0m\u001b[1;33m)\u001b[0m\u001b[1;33m\u001b[0m\u001b[1;33m\u001b[0m\u001b[0m\n",
      "\u001b[0;32m      5\u001b[0m \u001b[1;33m\u001b[0m\u001b[0m\n",
      "\u001b[1;32m----> 6\u001b[1;33m \u001b[0mfunkcija_1\u001b[0m\u001b[1;33m(\u001b[0m\u001b[1;36m1\u001b[0m\u001b[1;33m,\u001b[0m \u001b[1;36m2\u001b[0m\u001b[1;33m,\u001b[0m \u001b[1;36m3\u001b[0m\u001b[1;33m,\u001b[0m \u001b[1;36m4\u001b[0m\u001b[1;33m)\u001b[0m\u001b[1;33m\u001b[0m\u001b[1;33m\u001b[0m\u001b[0m\n",
      "\u001b[0m\n",
      "\u001b[1;31mTypeError\u001b[0m: funkcija_1() takes 3 positional arguments but 4 were given"
     ]
    }
   ],
   "source": [
    "# Primer, ko podamo preveč argumentov\n",
    "def funkcija_1(x, y, z):\n",
    "    print(f\"X vrednost: {x}\")\n",
    "    print(f\"Y vrednost: {y}\")\n",
    "    print(f\"Z vrednost: {z}\")\n",
    "    \n",
    "funkcija_1(1, 2, 3, 4)"
   ]
  },
  {
   "cell_type": "code",
   "execution_count": null,
   "metadata": {},
   "outputs": [],
   "source": []
  },
  {
   "cell_type": "markdown",
   "metadata": {},
   "source": [
    "<div class=\"alert alert-block alert-info\">\n",
    "<h1><b>Naloga: </b></h1>\n",
    "\n",
    "Napiši funkcijo, ki sprejme 3 argumente.\n",
    "\n",
    "Funkcija naj izpiše kateri ima največjo vrednost in koliko je ta vrednost.\n",
    "</div>\n",
    "\n",
    "Primeri:\n",
    "```python\n",
    "Input:\n",
    "fun_01(0,-5,6)\n",
    "\n",
    "Output:\n",
    "Tretji argument je največji. Vrednost: 6\n",
    "\n",
    "Input:\n",
    "fun_01(1, 50, -50)\n",
    "\n",
    "Output:\n",
    "Drugi argument je največji. Vrednost: 50\n",
    "\n",
    "```\n"
   ]
  },
  {
   "cell_type": "code",
   "execution_count": null,
   "metadata": {},
   "outputs": [
    {
     "name": "stdout",
     "output_type": "stream",
     "text": [
      "Tretji argument je največji. Vrednost: 6\n",
      "Drugi argument je največji. Vrednost: 50\n"
     ]
    }
   ],
   "source": [
    "# Rešitev\n",
    "def fun_01(a, b, c):\n",
    "    if a>=b and a>=c:\n",
    "        print(f\"Prvi argument je največji. Vrednost: {a}\")\n",
    "    if b>=a and b>=c:\n",
    "        print(f\"Drugi argument je največji. Vrednost: {b}\")\n",
    "    if c>=b and c>=b:\n",
    "        print(f\"Tretji argument je največji. Vrednost: {c}\")\n",
    "    \n",
    "    \n",
    "fun_01(0,-5,6)\n",
    "fun_01(1, 50, -50)"
   ]
  },
  {
   "cell_type": "markdown",
   "metadata": {},
   "source": [
    "#### Keyword Arguments\n",
    "\n",
    "Naše argumente lahko poimenujemo s pravilnim imenom parametra in tako, ko naslednjič kličemo funkcijo, ne potrebujemo argumente podati v pravilnem vrstnem redu.\n",
    "\n",
    "```python\n",
    "def pozdrav(naslavljanje, ime, priimek):\n",
    "    print(f\"Pozdravljeni {naslavljanje} {ime} {priimek}.\")\n",
    "    \n",
    "pozdrav(priimek=\"Novak\", naslavljanje=\"gospod\", ime=\"Miha\")\n",
    "```"
   ]
  },
  {
   "cell_type": "code",
   "execution_count": null,
   "metadata": {},
   "outputs": [
    {
     "name": "stdout",
     "output_type": "stream",
     "text": [
      "Pozdravljeni gospod Miha Novak.\n",
      "\n",
      "Uporaba Keyword arguments\n",
      "\n",
      "Pozdravljeni gospod Miha Novak.\n"
     ]
    }
   ],
   "source": [
    "def pozdrav(naslavljanje, ime, priimek):\n",
    "    print(f\"Pozdravljeni {naslavljanje} {ime} {priimek}.\")\n",
    "    \n",
    "pozdrav(\"gospod\", \"Miha\", \"Novak\")\n",
    "print(\"\\nUporaba Keyword arguments\\n\")\n",
    "pozdrav(priimek=\"Novak\", naslavljanje=\"gospod\", ime=\"Miha\")"
   ]
  },
  {
   "cell_type": "markdown",
   "metadata": {},
   "source": [
    "Če podamo napačno ime, dobimo napako."
   ]
  },
  {
   "cell_type": "code",
   "execution_count": null,
   "metadata": {},
   "outputs": [
    {
     "ename": "TypeError",
     "evalue": "pozdrav() got an unexpected keyword argument 'zadnje_ime'",
     "output_type": "error",
     "traceback": [
      "\u001b[1;31m---------------------------------------------------------------------------\u001b[0m\n",
      "\u001b[1;31mTypeError\u001b[0m                                 Traceback (most recent call last)\n",
      "\u001b[1;32m<ipython-input-47-89652f3d516a>\u001b[0m in \u001b[0;36m<module>\u001b[1;34m\u001b[0m\n",
      "\u001b[0;32m      2\u001b[0m     \u001b[0mprint\u001b[0m\u001b[1;33m(\u001b[0m\u001b[1;34mf\"Pozdravljeni {naslavljanje} {ime} {priimek}.\"\u001b[0m\u001b[1;33m)\u001b[0m\u001b[1;33m\u001b[0m\u001b[1;33m\u001b[0m\u001b[0m\n",
      "\u001b[0;32m      3\u001b[0m \u001b[1;33m\u001b[0m\u001b[0m\n",
      "\u001b[1;32m----> 4\u001b[1;33m \u001b[0mpozdrav\u001b[0m\u001b[1;33m(\u001b[0m\u001b[0mzadnje_ime\u001b[0m\u001b[1;33m=\u001b[0m\u001b[1;34m\"Novak\"\u001b[0m\u001b[1;33m,\u001b[0m \u001b[0mnaslavljanje\u001b[0m\u001b[1;33m=\u001b[0m\u001b[1;34m\"gospod\"\u001b[0m\u001b[1;33m,\u001b[0m \u001b[0mime\u001b[0m\u001b[1;33m=\u001b[0m\u001b[1;34m\"Miha\"\u001b[0m\u001b[1;33m)\u001b[0m\u001b[1;33m\u001b[0m\u001b[1;33m\u001b[0m\u001b[0m\n",
      "\u001b[0m\n",
      "\u001b[1;31mTypeError\u001b[0m: pozdrav() got an unexpected keyword argument 'zadnje_ime'"
     ]
    }
   ],
   "source": [
    "def pozdrav(naslavljanje, ime, priimek):\n",
    "    print(f\"Pozdravljeni {naslavljanje} {ime} {priimek}.\")\n",
    "\n",
    "pozdrav(zadnje_ime=\"Novak\", naslavljanje=\"gospod\", ime=\"Miha\")"
   ]
  },
  {
   "cell_type": "markdown",
   "metadata": {},
   "source": [
    "Pri klicanju funkcije lahko uporabimo oba načina podajanja argumentov. Vendar je pomemben vrstni red."
   ]
  },
  {
   "cell_type": "code",
   "execution_count": null,
   "metadata": {},
   "outputs": [
    {
     "name": "stdout",
     "output_type": "stream",
     "text": [
      "Pozdravljeni gospod Miha Novak.\n"
     ]
    }
   ],
   "source": [
    "def pozdrav(naslavljanje, ime, priimek):\n",
    "    print(f\"Pozdravljeni {naslavljanje} {ime} {priimek}.\")\n",
    "\n",
    "pozdrav(\"gospod\", \"Miha\", priimek=\"Novak\")"
   ]
  },
  {
   "cell_type": "code",
   "execution_count": null,
   "metadata": {},
   "outputs": [
    {
     "ename": "SyntaxError",
     "evalue": "positional argument follows keyword argument (<ipython-input-49-d1b39220fd0c>, line 4)",
     "output_type": "error",
     "traceback": [
      "\u001b[1;36m  File \u001b[1;32m\"<ipython-input-49-d1b39220fd0c>\"\u001b[1;36m, line \u001b[1;32m4\u001b[0m\n",
      "\u001b[1;33m    pozdrav(\"gospod\", priimek=\"Novak\", \"Miha\")\u001b[0m\n",
      "\u001b[1;37m                                       ^\u001b[0m\n",
      "\u001b[1;31mSyntaxError\u001b[0m\u001b[1;31m:\u001b[0m positional argument follows keyword argument\n"
     ]
    }
   ],
   "source": [
    "def pozdrav(naslavljanje, ime, priimek):\n",
    "    print(f\"Pozdravljeni {naslavljanje} {ime} {priimek}.\")\n",
    "\n",
    "pozdrav(\"gospod\", priimek=\"Novak\", \"Miha\")"
   ]
  },
  {
   "cell_type": "markdown",
   "metadata": {},
   "source": [
    "#### Default Argument Values\n",
    "\n",
    "Za naše parametre lahko določimo default vrednost, v primeru, da ob klicu funkcije argumenta ne podamo.\n",
    "\n",
    "```python\n",
    "def funkcija(x=1, y=2):\n",
    "    print(x + y)\n",
    "    \n",
    "funkcija() # Funkcijo kličemo brez argumentov\n",
    "\n",
    "Output: 3 # Privzeti vrednosti sta x=1 in y=2\n",
    "```"
   ]
  },
  {
   "cell_type": "code",
   "execution_count": null,
   "metadata": {},
   "outputs": [
    {
     "name": "stdout",
     "output_type": "stream",
     "text": [
      "Pozdravljeni gospod Miha Novak.\n",
      "Pozdravljeni g. Andrej Kovač.\n",
      "Pozdravljeni gospod Gregor Novak.\n"
     ]
    }
   ],
   "source": [
    "def pozdrav(naslavljanje=\"gospod\", ime=\"Miha\", priimek=\"Novak\"):\n",
    "    print(f\"Pozdravljeni {naslavljanje} {ime} {priimek}.\")\n",
    "\n",
    "pozdrav()\n",
    "    \n",
    "pozdrav(\"g.\", \"Andrej\", \"Kovač\")\n",
    "pozdrav(ime=\"Gregor\")"
   ]
  },
  {
   "cell_type": "markdown",
   "metadata": {},
   "source": [
    "Potrebno je paziti, da so parametri z default vrednostjo definirani za parametri brez default vrednosti."
   ]
  },
  {
   "cell_type": "code",
   "execution_count": null,
   "metadata": {},
   "outputs": [
    {
     "name": "stdout",
     "output_type": "stream",
     "text": [
      "3\n"
     ]
    }
   ],
   "source": [
    "def funkcija(x, y, z=0):\n",
    "    print(x + y + z)\n",
    "    \n",
    "funkcija(1, 2)"
   ]
  },
  {
   "cell_type": "code",
   "execution_count": null,
   "metadata": {},
   "outputs": [
    {
     "ename": "SyntaxError",
     "evalue": "non-default argument follows default argument (<ipython-input-62-d290ea3a79c4>, line 1)",
     "output_type": "error",
     "traceback": [
      "\u001b[1;36m  File \u001b[1;32m\"<ipython-input-62-d290ea3a79c4>\"\u001b[1;36m, line \u001b[1;32m1\u001b[0m\n",
      "\u001b[1;33m    def funkcija(x, y=0, z):\u001b[0m\n",
      "\u001b[1;37m                 ^\u001b[0m\n",
      "\u001b[1;31mSyntaxError\u001b[0m\u001b[1;31m:\u001b[0m non-default argument follows default argument\n"
     ]
    }
   ],
   "source": [
    "def funkcija(x, y=0, z):\n",
    "    print(x + y + z)\n",
    "    \n",
    "funkcija(1, 2, 3)"
   ]
  },
  {
   "cell_type": "code",
   "execution_count": null,
   "metadata": {},
   "outputs": [],
   "source": []
  },
  {
   "cell_type": "markdown",
   "metadata": {},
   "source": [
    "<div class=\"alert alert-block alert-info\">\n",
    "<h1><b>Naloga: </b></h1>\n",
    "Napišite funkcijo, ki izpiše prvih N največjih vrednosti v podanem listu.\n",
    "    \n",
    "Funkcija naj ima dva parametra. Prvi parameter je list, znotraj katerega bomo iskali največje vrednosti. Drugi parameter število, ki nam pove koliko prvih največjih števil naj izpišemo. Če vrednost ni podana, naj se izpiše prvih 5 največjih števil.\n",
    "</div>\n",
    "\n",
    "Primeri:\n",
    "```python\n",
    "Input:\n",
    "vaja([1,5,7,-2,3,8,2-5,12,-22])\n",
    "\n",
    "Output:\n",
    "12\n",
    "8\n",
    "7\n",
    "5\n",
    "3\n",
    "\n",
    "Input:\n",
    "vaja([1,5,7,-2,3,8,2-5,12,-22], 3)\n",
    "\n",
    "Output:\n",
    "12\n",
    "8\n",
    "7\n",
    "\n",
    "```\n"
   ]
  },
  {
   "cell_type": "code",
   "execution_count": null,
   "metadata": {},
   "outputs": [
    {
     "name": "stdout",
     "output_type": "stream",
     "text": [
      "12\n",
      "8\n",
      "7\n",
      "5\n",
      "3\n",
      "\n",
      "12\n",
      "8\n",
      "7\n"
     ]
    }
   ],
   "source": [
    "# Rešitev\n",
    "\n",
    "def vaja(l, n=5):\n",
    "    for _ in range(n):\n",
    "        max_ = max(l)\n",
    "        print(max_)\n",
    "        l.remove(max_)\n",
    "        \n",
    "        \n",
    "vaja([1,5,7,-2,3,8,2-5,12,-22])\n",
    "print()\n",
    "vaja([1,5,7,-2,3,8,2-5,12,-22], 3)\n"
   ]
  },
  {
   "cell_type": "markdown",
   "metadata": {},
   "source": [
    "### \\*args and \\*\\*kwargs\n",
    "\n",
    "Ta dva parametra nam omogočata, da funkciji pošljemo poljubno število argumentov.\n",
    "\n",
    "\\*args nam pove, da naj neznane argumente zapakira v touple imenovan args.\n",
    "\n",
    "\\*\\*kwargs nam pove, da naj neznane argumente zapakira v dictionary imenovan kwargs. \n",
    "\n",
    "> http://book.pythontips.com/en/latest/args_and_kwargs.html\n",
    "\n",
    "> The idiom is also useful when maintaining backwards compatibility in an API.\n",
    "If our function accepts arbitrary arguments, we are free to add new arguments in\n",
    "a new version while not breaking existing code using fewer arguments. As long as\n",
    "everything is properly documented, the “actual” parameters of a function are not\n",
    "of much consequence.\n",
    "\n",
    "> First of all let me tell you that it is not necessary to write \\*args or \\*\\*kwargs. Only the \\* (asterisk) is necessary. You could have also written \\*var and \\*\\*vars. Writing \\*args and  \\*\\*kwargs is just a convention."
   ]
  },
  {
   "cell_type": "code",
   "execution_count": null,
   "metadata": {},
   "outputs": [
    {
     "name": "stdout",
     "output_type": "stream",
     "text": [
      "a = \t 1\n",
      "b = \t 2\n",
      "c = \t 3\n",
      "args = \t (4, 5, 6, 7, 8, 9)\n"
     ]
    }
   ],
   "source": [
    "def test_args(a, b, c, *args):\n",
    "    print(f\"a = \\t {a}\")\n",
    "    print(f\"b = \\t {b}\")\n",
    "    print(f\"c = \\t {c}\")\n",
    "    print(f\"args = \\t {args}\")\n",
    "\n",
    "test_args(1, 2, 3, 4, 5, 6, 7, 8, 9)"
   ]
  },
  {
   "cell_type": "code",
   "execution_count": null,
   "metadata": {},
   "outputs": [
    {
     "name": "stdout",
     "output_type": "stream",
     "text": [
      "6\n",
      "45\n"
     ]
    }
   ],
   "source": [
    "# Primer *ARGS\n",
    "\n",
    "def sestevalnik(*args):\n",
    "    value = 0\n",
    "    for ele in args:\n",
    "        value += ele\n",
    "    print(value)\n",
    "    \n",
    "sestevalnik(1, 2, 3)\n",
    "\n",
    "sestevalnik(1, 2, 3, 4, 5, 6, 7, 8, 9)"
   ]
  },
  {
   "cell_type": "code",
   "execution_count": null,
   "metadata": {},
   "outputs": [],
   "source": []
  },
  {
   "cell_type": "code",
   "execution_count": null,
   "metadata": {},
   "outputs": [
    {
     "name": "stdout",
     "output_type": "stream",
     "text": [
      "a = \t 1\n",
      "b = \t 2\n",
      "c = \t 3\n",
      "kwargs = \t {'d': 4, 'e': 5, 'f': 6, 'g': 7, 'h': 8, 'i': 9}\n"
     ]
    }
   ],
   "source": [
    "def test_kwargs(a, b, c, **kwargs):\n",
    "    print(f\"a = \\t {a}\")\n",
    "    print(f\"b = \\t {b}\")\n",
    "    print(f\"c = \\t {c}\")\n",
    "    print(f\"kwargs = \\t {kwargs}\")\n",
    "\n",
    "\n",
    "test_kwargs(a=1, b=2, c=3, d=4, e=5, f=6, g=7, h=8, i=9)"
   ]
  },
  {
   "cell_type": "markdown",
   "metadata": {},
   "source": [
    "\\*\\*kwargs pridejo prav pri posodabljanju kode in ohranjanju podpore za starejše verzije kode.\n",
    "\n",
    "Primer: ustvarimo funkcijo **moja_funkcija**, ki ima parameter *barva_grafa*. Drugi programerij uporabijo mojo funkcijo.\n",
    "\n",
    "Kasneje se odločim posodobiti mojo funkcijo tako, da spremenim ime parametra v *barva*. Sedaj bi morali vsi drugi programerij, ki so uporabili mojo funkcijo prav tako posodobiti njihovo kodo. Z uporabo \\*\\*kwargs pa lahko še vedno zajamemo njihove argumente."
   ]
  },
  {
   "cell_type": "code",
   "execution_count": null,
   "metadata": {},
   "outputs": [
    {
     "name": "stdout",
     "output_type": "stream",
     "text": [
      "Barva grafa je rdeča.\n"
     ]
    }
   ],
   "source": [
    "def moja_funkcija(podatki, barva_grafa=\"črna\"):\n",
    "    print(f\"Barva grafa je {barva_grafa}.\")\n",
    "    \n",
    "moja_funkcija([1,2,3], barva_grafa=\"rdeča\")"
   ]
  },
  {
   "cell_type": "code",
   "execution_count": null,
   "metadata": {},
   "outputs": [
    {
     "ename": "TypeError",
     "evalue": "moja_funkcija() got an unexpected keyword argument 'barva_grafa'",
     "output_type": "error",
     "traceback": [
      "\u001b[1;31m---------------------------------------------------------------------------\u001b[0m\n",
      "\u001b[1;31mTypeError\u001b[0m                                 Traceback (most recent call last)\n",
      "\u001b[1;32m<ipython-input-87-8300209fd37d>\u001b[0m in \u001b[0;36m<module>\u001b[1;34m\u001b[0m\n",
      "\u001b[0;32m      3\u001b[0m     \u001b[0mprint\u001b[0m\u001b[1;33m(\u001b[0m\u001b[1;34mf\"Barva grafa je {barva_grafa}.\"\u001b[0m\u001b[1;33m)\u001b[0m\u001b[1;33m\u001b[0m\u001b[1;33m\u001b[0m\u001b[0m\n",
      "\u001b[0;32m      4\u001b[0m \u001b[1;33m\u001b[0m\u001b[0m\n",
      "\u001b[1;32m----> 5\u001b[1;33m \u001b[0mmoja_funkcija\u001b[0m\u001b[1;33m(\u001b[0m\u001b[1;33m[\u001b[0m\u001b[1;36m1\u001b[0m\u001b[1;33m,\u001b[0m\u001b[1;36m2\u001b[0m\u001b[1;33m,\u001b[0m\u001b[1;36m3\u001b[0m\u001b[1;33m]\u001b[0m\u001b[1;33m,\u001b[0m \u001b[0mbarva_grafa\u001b[0m\u001b[1;33m=\u001b[0m\u001b[1;34m\"rdeča\"\u001b[0m\u001b[1;33m)\u001b[0m\u001b[1;33m\u001b[0m\u001b[1;33m\u001b[0m\u001b[0m\n",
      "\u001b[0m\n",
      "\u001b[1;31mTypeError\u001b[0m: moja_funkcija() got an unexpected keyword argument 'barva_grafa'"
     ]
    }
   ],
   "source": [
    "# Želi se posodobit to funcijo\n",
    "def moja_funkcija(podatki, barva=\"črna\"):\n",
    "    print(f\"Barva grafa je {barva}.\")\n",
    "\n",
    "moja_funkcija([1,2,3], barva_grafa=\"rdeča\")"
   ]
  },
  {
   "cell_type": "code",
   "execution_count": null,
   "metadata": {},
   "outputs": [
    {
     "name": "stdout",
     "output_type": "stream",
     "text": [
      "Barva grafa je rdeča.\n"
     ]
    }
   ],
   "source": [
    "# Želi se posodobit to funcijo\n",
    "def moja_funkcija(podatki, barva=\"črna\", **kwargs):\n",
    "    if \"barva_grafa\" in kwargs.keys():\n",
    "        print(f\"Barva grafa je {kwargs['barva_grafa']}.\")\n",
    "    else:\n",
    "        print(f\"Barva grafa je {barva}.\")\n",
    "\n",
    "moja_funkcija([1,2,3], barva_grafa=\"rdeča\")"
   ]
  },
  {
   "cell_type": "code",
   "execution_count": null,
   "metadata": {},
   "outputs": [],
   "source": []
  },
  {
   "cell_type": "code",
   "execution_count": null,
   "metadata": {},
   "outputs": [],
   "source": []
  },
  {
   "cell_type": "markdown",
   "metadata": {},
   "source": [
    "#### Returning a Value\n",
    "\n",
    "Vsaka funkcija tudi vrne določeno vrednost.\n",
    "\n",
    "Če funkciji nismo eksplicitno določili katero vrednost naj vrne, vrne vrednost **None**."
   ]
  },
  {
   "cell_type": "code",
   "execution_count": null,
   "metadata": {},
   "outputs": [
    {
     "name": "stdout",
     "output_type": "stream",
     "text": [
      "Pozdrav\n",
      "None\n"
     ]
    }
   ],
   "source": [
    "def funkcija():\n",
    "    print(\"Pozdrav\")\n",
    "    \n",
    "x = funkcija()\n",
    "print(x)"
   ]
  },
  {
   "cell_type": "markdown",
   "metadata": {},
   "source": [
    "Da vrnemo specifično vrednost uporabimo besedo **return**.\n",
    "\n",
    "```python\n",
    "def sestevalnik(x, y):\n",
    "    vsota = x + y\n",
    "    return vsota\n",
    "\n",
    "x = sestevalnik(1, 2)\n",
    "print(x)\n",
    "\n",
    "Output: 3\n",
    "```"
   ]
  },
  {
   "cell_type": "code",
   "execution_count": null,
   "metadata": {},
   "outputs": [
    {
     "name": "stdout",
     "output_type": "stream",
     "text": [
      "Seštevam...\n",
      "3\n"
     ]
    }
   ],
   "source": [
    "def sestevalnik(x, y):\n",
    "    print(\"Seštevam...\")\n",
    "    vsota = x + y\n",
    "    return vsota\n",
    "\n",
    "x = sestevalnik(1, 2)\n",
    "print(x)"
   ]
  },
  {
   "cell_type": "markdown",
   "metadata": {},
   "source": [
    "Ko se izvede ukaz **return** se vrne vrednost in koda znotraj funkcije se neha izvajati."
   ]
  },
  {
   "cell_type": "code",
   "execution_count": null,
   "metadata": {},
   "outputs": [
    {
     "name": "stdout",
     "output_type": "stream",
     "text": [
      "Seštevam...\n",
      "3\n"
     ]
    }
   ],
   "source": [
    "def sestevalnik(x, y):\n",
    "    print(\"Seštevam...\")\n",
    "    vsota = x + y\n",
    "    return vsota\n",
    "    print(\"Končano\")\n",
    "\n",
    "x = sestevalnik(1, 2)\n",
    "print(x)"
   ]
  },
  {
   "cell_type": "markdown",
   "metadata": {},
   "source": [
    "Znotraj funkcije imamo lahko tudi več **return** statements, ki vrnejo različne vrednosti, glede na logiko funkcije."
   ]
  },
  {
   "cell_type": "code",
   "execution_count": null,
   "metadata": {},
   "outputs": [
    {
     "name": "stdout",
     "output_type": "stream",
     "text": [
      "False\n",
      "True\n"
     ]
    }
   ],
   "source": [
    "def vecje_od_5(x):\n",
    "    if x > 5:\n",
    "        return True\n",
    "    elif x <= 5:\n",
    "        return False\n",
    "    \n",
    "print(vecje_od_5(1))\n",
    "print(vecje_od_5(10))"
   ]
  },
  {
   "cell_type": "code",
   "execution_count": null,
   "metadata": {},
   "outputs": [],
   "source": []
  },
  {
   "cell_type": "markdown",
   "metadata": {},
   "source": [
    "**Returning Multiple Values** \n",
    "\n",
    "Funkcija lahko vrne le eno vrednost (bolje rečeno: le en objekt).\n",
    "\n",
    "Če želimo vrniti več vrednosti jih preprosto zapakiramo v list, touple, dictionary in posredujemo tega."
   ]
  },
  {
   "cell_type": "code",
   "execution_count": null,
   "metadata": {},
   "outputs": [
    {
     "name": "stdout",
     "output_type": "stream",
     "text": [
      "(3, 4, 5)\n",
      "<class 'tuple'>\n"
     ]
    }
   ],
   "source": [
    "def add_numbers(x, y, z):\n",
    "    a = x + y\n",
    "    b = x + z\n",
    "    c = y + z\n",
    "    return a, b, c # isto kot return (a, b, c)\n",
    "\n",
    "sums = add_numbers(1, 2, 3)\n",
    "print(sums)\n",
    "print(type(sums))"
   ]
  },
  {
   "cell_type": "code",
   "execution_count": null,
   "metadata": {},
   "outputs": [],
   "source": []
  },
  {
   "cell_type": "code",
   "execution_count": null,
   "metadata": {},
   "outputs": [],
   "source": []
  },
  {
   "cell_type": "markdown",
   "metadata": {},
   "source": [
    "<div class=\"alert alert-block alert-info\">\n",
    "<h1><b>Naloga: </b></h1>\n",
    "Napišite funkcijo, ki sprejme nabor podatkov v obliki dictionary in vrne največjo vrednost vsakega ključa.\n",
    "</div>\n",
    "\n",
    "Primeri:\n",
    "```python\n",
    "Input:\n",
    "data = {\"prices\": [41970, 40721, 41197, 41137, 43033],\n",
    "       \"volume\": [49135346712, 50768369805, 47472016405, 34809039137, 38700661463]}\n",
    "funkcija(data)\n",
    "\n",
    "Output:\n",
    "[43033, 50768369805]\n",
    "\n",
    "```\n"
   ]
  },
  {
   "cell_type": "code",
   "execution_count": null,
   "metadata": {},
   "outputs": [
    {
     "name": "stdout",
     "output_type": "stream",
     "text": [
      "[43033, 50768369805]\n"
     ]
    }
   ],
   "source": [
    "data = {\"prices\": [41970, 40721, 41197, 41137, 43033],\n",
    "       \"volume\": [49135346712, 50768369805, 47472016405, 34809039137, 38700661463]}\n",
    "\n",
    "def funkcija(data):\n",
    "    r = []\n",
    "    for key, value in data.items():\n",
    "        #print(key, value)\n",
    "        r.append(max(value))\n",
    "    return r\n",
    "\n",
    "print(funkcija(data))"
   ]
  },
  {
   "cell_type": "markdown",
   "metadata": {},
   "source": [
    "#### Zanimivosti\n",
    "\n",
    "Python funkcije so objekti. Lahko jih shranimo v spremenljivke, lahko jih posredujemo kot argumente ali vrnemo kot vrednost funkcije."
   ]
  },
  {
   "cell_type": "code",
   "execution_count": null,
   "metadata": {},
   "outputs": [],
   "source": [
    "def hello(name):\n",
    "    return f'My name is {name}'"
   ]
  },
  {
   "cell_type": "code",
   "execution_count": null,
   "metadata": {},
   "outputs": [
    {
     "name": "stdout",
     "output_type": "stream",
     "text": [
      "My name is Gregor\n"
     ]
    }
   ],
   "source": [
    "print(hello(\"Gregor\"))"
   ]
  },
  {
   "cell_type": "code",
   "execution_count": null,
   "metadata": {},
   "outputs": [
    {
     "name": "stdout",
     "output_type": "stream",
     "text": [
      "My name is Gregor\n",
      "<function hello at 0x0000015411EE6A60>\n",
      "<class 'function'>\n"
     ]
    }
   ],
   "source": [
    "funkcija = hello\n",
    "print(funkcija(\"Gregor\"))\n",
    "print(funkcija)\n",
    "print(type(funkcija))"
   ]
  },
  {
   "cell_type": "code",
   "execution_count": null,
   "metadata": {},
   "outputs": [
    {
     "name": "stdout",
     "output_type": "stream",
     "text": [
      "My name is Janez\n"
     ]
    }
   ],
   "source": [
    "func = [hello, 2 ,3, 'Janez']\n",
    "print(func[0](func[3]))"
   ]
  },
  {
   "cell_type": "code",
   "execution_count": null,
   "metadata": {},
   "outputs": [],
   "source": []
  },
  {
   "cell_type": "markdown",
   "metadata": {},
   "source": [
    "<div class=\"alert alert-block alert-info\">\n",
    "<h1><b>Naloga: </b></h1>\n",
    "\n",
    "Ustvarite funkcijo, ki kot parametra vzeme list številk in neko število <b>m</b>, ki predstavlja zgornjo mejo.\n",
    "    \n",
    "Funkcija naj se sprehodi skozi podan list in vsako število, ki je večje od m, spremeni v m.\n",
    "    \n",
    "Funkcija naj na koncu vrne spremenjen list.\n",
    "</div>\n",
    "\n",
    "Primeri:\n",
    "```python\n",
    "Input:\n",
    "funkcija([1,12,-3,54,12,-22,65,32], 33)\n",
    "\n",
    "Output:\n",
    "[1, 12, -3, 33, 12, -22, 33, 32]\n",
    "```\n"
   ]
  },
  {
   "cell_type": "code",
   "execution_count": null,
   "metadata": {},
   "outputs": [
    {
     "name": "stdout",
     "output_type": "stream",
     "text": [
      "[1, 12, -3, 33, 12, -22, 33, 32]\n"
     ]
    }
   ],
   "source": [
    "# Rešitev\n",
    "def funkcija(l, m):\n",
    "    new_l = []\n",
    "    for ele in l:\n",
    "        if ele > m:\n",
    "            new_l.append(m)\n",
    "        else:\n",
    "            new_l.append(ele)\n",
    "            \n",
    "    return new_l\n",
    "\n",
    "print(funkcija([1,12,-3,54,12,-22,65,32], 33))"
   ]
  },
  {
   "cell_type": "code",
   "execution_count": null,
   "metadata": {},
   "outputs": [],
   "source": []
  },
  {
   "cell_type": "markdown",
   "metadata": {},
   "source": [
    "<div class=\"alert alert-block alert-info\">\n",
    "<h1><b>Naloga: </b></h1>\n",
    "\n",
    "Ustvari funkcijo, ki uredi list po vrstnem redu. Sprejme naj list in ukaz **asc** (naraščajoči vrstni red) ali **desc** (padajoči vrstni red). List naj nato ustrezno uredi. V kolikor ukaz ni posredovan naj bo default vrednost **asc**.\n",
    "</div>\n",
    "\n",
    "Primeri:\n",
    "```python\n",
    "Input:\n",
    "fun_03([1,4,2,8,4,0], ukaz=\"desc\")\n",
    "\n",
    "Output:\n",
    "[8, 4, 4, 2, 1, 0]\n",
    "\n",
    "\n",
    "Input:\n",
    "fun_03([1,4,2,8,4,0], ukaz=\"asc\")\n",
    "\n",
    "Output:\n",
    "[0, 1, 2, 4, 4, 8]\n",
    "\n",
    "\n",
    "Input:\n",
    "fun_03([5,8,-2,13,6,-6])\n",
    "\n",
    "Output:\n",
    "[-6, -2, 5, 6, 8, 13]\n",
    "```\n"
   ]
  },
  {
   "cell_type": "code",
   "execution_count": null,
   "metadata": {},
   "outputs": [
    {
     "name": "stdout",
     "output_type": "stream",
     "text": [
      "[8, 4, 4, 2, 1, 0]\n",
      "[0, 1, 2, 4, 4, 8]\n",
      "[-6, -2, 5, 6, 8, 13]\n"
     ]
    }
   ],
   "source": [
    "def fun_03(old_list, ukaz=\"asc\"):\n",
    "    new_list = []\n",
    "    if ukaz == \"asc\":\n",
    "        while old_list:\n",
    "            minimum = old_list[0]\n",
    "            for i in old_list:\n",
    "                if i < minimum:\n",
    "                    minimum = i\n",
    "            new_list.append(minimum)\n",
    "            old_list.remove(minimum)\n",
    "    if ukaz == \"desc\":\n",
    "        while old_list:\n",
    "            maximum = old_list[0]\n",
    "            for i in old_list:\n",
    "                if i > maximum:\n",
    "                    maximum = i\n",
    "            new_list.append(maximum)\n",
    "            old_list.remove(maximum)\n",
    "    \n",
    "    return new_list\n",
    "\n",
    "print(fun_03([1,4,2,8,4,0], ukaz=\"desc\"))\n",
    "print(fun_03([1,4,2,8,4,0], ukaz=\"asc\"))\n",
    "print(fun_03([5,8,-2,13,6,-6]))"
   ]
  },
  {
   "cell_type": "markdown",
   "id": "b6491f7c-9c46-465b-a155-67d3c10bd1b9",
   "metadata": {},
   "source": [
    "# Razlaga"
   ]
  },
  {
   "cell_type": "code",
   "execution_count": 1,
   "id": "0a328099-2bd5-44ba-8eff-365691dd68cd",
   "metadata": {},
   "outputs": [
    {
     "name": "stdout",
     "output_type": "stream",
     "text": [
      "1920644785968\n"
     ]
    }
   ],
   "source": [
    "s = \"Hello, World!\"\n",
    "print(id(s))\n"
   ]
  },
  {
   "cell_type": "markdown",
   "id": "930b3834-fe2b-48d2-b994-7bb654940020",
   "metadata": {},
   "source": [
    "    def <function_name>([<parameters>]):\n",
    "        <statement(s)>"
   ]
  },
  {
   "cell_type": "code",
   "execution_count": 7,
   "id": "8360dcf8-3b98-4a15-8d7e-bbd86930d1f1",
   "metadata": {},
   "outputs": [
    {
     "name": "stdout",
     "output_type": "stream",
     "text": [
      "Pred klicem funkcije\n",
      "Hello, World! from function\n",
      "Po klicu funkcije\n"
     ]
    }
   ],
   "source": [
    "def moja_prva_funkcija():\n",
    "    print(\"Hello, World! from function\")\n",
    "\n",
    "\n",
    "print(\"Pred klicem funkcije\")\n",
    "moja_prva_funkcija()\n",
    "print(\"Po klicu funkcije\")"
   ]
  },
  {
   "cell_type": "markdown",
   "metadata": {},
   "source": [
    "Argument Passing - Positional Arguments"
   ]
  },
  {
   "cell_type": "code",
   "execution_count": 17,
   "metadata": {},
   "outputs": [],
   "source": [
    "def dodaj_davek(cena, davek):\n",
    "    print(f\"Cena brez davka: {cena} €\")\n",
    "    print(f\"Davek: {davek}%\")\n",
    "    cena_z_davkom = cena * (1 + davek / 100)\n",
    "    print(f\"Cena z davkom: {round(cena_z_davkom, 2)} €\")\n"
   ]
  },
  {
   "cell_type": "code",
   "execution_count": 18,
   "metadata": {},
   "outputs": [
    {
     "ename": "TypeError",
     "evalue": "dodaj_davek() missing 2 required positional arguments: 'cena' and 'davek'",
     "output_type": "error",
     "traceback": [
      "\u001b[1;31m---------------------------------------------------------------------------\u001b[0m",
      "\u001b[1;31mTypeError\u001b[0m                                 Traceback (most recent call last)",
      "\u001b[1;32mc:\\LEON\\ICTA\\Tečaji\\icta-python-osnovni-public\\10_Funkcije\\01_Defining_Python_Functions.ipynb Cell 79\u001b[0m line \u001b[0;36m1\n\u001b[1;32m----> <a href='vscode-notebook-cell:/c%3A/LEON/ICTA/Te%C4%8Daji/icta-python-osnovni-public/10_Funkcije/01_Defining_Python_Functions.ipynb#Y144sZmlsZQ%3D%3D?line=0'>1</a>\u001b[0m dodaj_davek()\n",
      "\u001b[1;31mTypeError\u001b[0m: dodaj_davek() missing 2 required positional arguments: 'cena' and 'davek'"
     ]
    }
   ],
   "source": [
    "dodaj_davek()"
   ]
  },
  {
   "cell_type": "code",
   "execution_count": 19,
   "metadata": {},
   "outputs": [
    {
     "name": "stdout",
     "output_type": "stream",
     "text": [
      "Cena brez davka: 86.45 €\n",
      "Davek: 22%\n",
      "Cena z davkom: 105.47 €\n"
     ]
    }
   ],
   "source": [
    "dodaj_davek(86.45, 22)"
   ]
  },
  {
   "cell_type": "code",
   "execution_count": 20,
   "metadata": {},
   "outputs": [
    {
     "name": "stdout",
     "output_type": "stream",
     "text": [
      "Cena brez davka: 4566.45 €\n",
      "Davek: 22%\n",
      "Cena z davkom: 5571.07 €\n"
     ]
    }
   ],
   "source": [
    "dodaj_davek(4566.45, 22)"
   ]
  },
  {
   "cell_type": "code",
   "execution_count": 21,
   "metadata": {},
   "outputs": [
    {
     "ename": "TypeError",
     "evalue": "dodaj_davek() takes 2 positional arguments but 3 were given",
     "output_type": "error",
     "traceback": [
      "\u001b[1;31m---------------------------------------------------------------------------\u001b[0m",
      "\u001b[1;31mTypeError\u001b[0m                                 Traceback (most recent call last)",
      "\u001b[1;32mc:\\LEON\\ICTA\\Tečaji\\icta-python-osnovni-public\\10_Funkcije\\01_Defining_Python_Functions.ipynb Cell 82\u001b[0m line \u001b[0;36m1\n\u001b[1;32m----> <a href='vscode-notebook-cell:/c%3A/LEON/ICTA/Te%C4%8Daji/icta-python-osnovni-public/10_Funkcije/01_Defining_Python_Functions.ipynb#Y150sZmlsZQ%3D%3D?line=0'>1</a>\u001b[0m dodaj_davek(\u001b[39m4566.45\u001b[39;49m, \u001b[39m22\u001b[39;49m, \u001b[39m5\u001b[39;49m)\n",
      "\u001b[1;31mTypeError\u001b[0m: dodaj_davek() takes 2 positional arguments but 3 were given"
     ]
    }
   ],
   "source": [
    "dodaj_davek(4566.45, 22, 5)"
   ]
  },
  {
   "cell_type": "code",
   "execution_count": 22,
   "metadata": {},
   "outputs": [],
   "source": [
    "# Keyword Arguments\n",
    "\n",
    "\n",
    "def dodaj_davek(cena, davek):\n",
    "    print(f\"Cena brez davka: {cena} €\")\n",
    "    print(f\"Davek: {davek}%\")\n",
    "    cena_z_davkom = cena * (1 + davek / 100)\n",
    "    print(f\"Cena z davkom: {round(cena_z_davkom, 2)} €\")"
   ]
  },
  {
   "cell_type": "code",
   "execution_count": 23,
   "metadata": {},
   "outputs": [
    {
     "name": "stdout",
     "output_type": "stream",
     "text": [
      "Cena brez davka: 86.45 €\n",
      "Davek: 22%\n",
      "Cena z davkom: 105.47 €\n"
     ]
    }
   ],
   "source": [
    "dodaj_davek(cena=86.45, davek=22)"
   ]
  },
  {
   "cell_type": "code",
   "execution_count": 25,
   "metadata": {},
   "outputs": [
    {
     "name": "stdout",
     "output_type": "stream",
     "text": [
      "Cena brez davka: 86.45 €\n",
      "Davek: 22%\n",
      "Cena z davkom: 105.47 €\n"
     ]
    }
   ],
   "source": [
    "dodaj_davek(davek=22, cena=86.45)"
   ]
  },
  {
   "cell_type": "code",
   "execution_count": 26,
   "metadata": {},
   "outputs": [
    {
     "name": "stdout",
     "output_type": "stream",
     "text": [
      "Cena brez davka: 86.45 €\n",
      "Davek: 22%\n",
      "Cena z davkom: 105.47 €\n"
     ]
    }
   ],
   "source": [
    "dodaj_davek(86.45, davek=22)"
   ]
  },
  {
   "cell_type": "code",
   "execution_count": 27,
   "metadata": {},
   "outputs": [
    {
     "ename": "SyntaxError",
     "evalue": "positional argument follows keyword argument (617755611.py, line 1)",
     "output_type": "error",
     "traceback": [
      "\u001b[1;36m  Cell \u001b[1;32mIn[27], line 1\u001b[1;36m\u001b[0m\n\u001b[1;33m    dodaj_davek(davek=22, 86.45)\u001b[0m\n\u001b[1;37m                               ^\u001b[0m\n\u001b[1;31mSyntaxError\u001b[0m\u001b[1;31m:\u001b[0m positional argument follows keyword argument\n"
     ]
    }
   ],
   "source": [
    "dodaj_davek(davek=22, 86.45)"
   ]
  },
  {
   "cell_type": "code",
   "execution_count": 32,
   "metadata": {},
   "outputs": [],
   "source": [
    "def dodaj_davek(cena, davek=0.22, popust=0):\n",
    "    print(f\"Cena brez davka: {cena} €\")\n",
    "    print(f\"Davek: {davek}%\")\n",
    "    cena_z_davkom = cena * (1 + davek / 100)\n",
    "    print(f\"Cena z davkom: {round(cena_z_davkom - popust, 2)} €\")"
   ]
  },
  {
   "cell_type": "code",
   "execution_count": 30,
   "metadata": {},
   "outputs": [
    {
     "name": "stdout",
     "output_type": "stream",
     "text": [
      "Cena brez davka: 467.66 €\n",
      "Davek: 0.22%\n",
      "Cena z davkom: 123.69 €\n"
     ]
    }
   ],
   "source": [
    "dodaj_davek(467.66, popust=345)"
   ]
  },
  {
   "cell_type": "markdown",
   "metadata": {},
   "source": [
    "Mutable Default Parameter Values"
   ]
  },
  {
   "cell_type": "code",
   "execution_count": null,
   "metadata": {},
   "outputs": [],
   "source": [
    "def dodaj_davek(cena, davek=0.22, popusti=[]):\n",
    "    print(f\"Cena brez davka: {cena} €\")\n",
    "    print(f\"Davek: {davek}%\")\n",
    "    popusti.append(10)\n",
    "    total_popust = sum(popusti)\n",
    "    cena_z_davkom = cena * (1 + davek / 100)\n",
    "    print(f\"Cena z davkom: {round(cena_z_davkom- total_popust - 2)} €\")\n"
   ]
  },
  {
   "cell_type": "code",
   "execution_count": null,
   "metadata": {},
   "outputs": [],
   "source": []
  }
 ],
 "metadata": {
  "kernelspec": {
   "display_name": "Python 3 (ipykernel)",
   "language": "python",
   "name": "python3"
  },
  "language_info": {
   "codemirror_mode": {
    "name": "ipython",
    "version": 3
   },
   "file_extension": ".py",
   "mimetype": "text/x-python",
   "name": "python",
   "nbconvert_exporter": "python",
   "pygments_lexer": "ipython3",
   "version": "3.12.0"
  }
 },
 "nbformat": 4,
 "nbformat_minor": 5
}
