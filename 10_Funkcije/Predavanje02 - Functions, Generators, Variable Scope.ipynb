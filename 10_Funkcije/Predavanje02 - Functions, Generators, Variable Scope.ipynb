{
 "cells": [
  {
   "cell_type": "markdown",
   "metadata": {},
   "source": [
    "## Funkcije\n",
    "\n",
    "Funkcija je blok kode, ki izvede specifično operacijo in jo lahko večkrat uporabimo.\n",
    "> Za primer, če v programu večkrat uporabniku rečemo, naj vnese celo število med 1 in 20. Od njega zahtevamo vnos s pomočjo **input** in nato to spremenimo v celo število z uporabo **int**. Nato preverimo ali je število v pravilnem rangu. To zaporedje kode v programu večkrat ponovimo.\n",
    "\n",
    "> Če se sedaj odločimo, da naj uporabnik vnese celo število v rangu med 1 in 100, moramo popraviti vsako vrstico posebej, kar hitro lahko privede do napake.\n",
    "\n",
    "> Za lažje pisanje programa lahko to zaporedje kode shranimo v funkcijo. Če sedaj spremenimo rang, le-tega popravimo samo enkrat, znotraj naše funkcije.\n",
    "\n",
    "Funkcije nam omogočajo uporabo tuje kode brez globjega razumevanja kako le-ta deluje. Z njihovo pomočjo lahko zelo kompleksne probleme razbijemo na majhne in bolj obvladljive komponente."
   ]
  },
  {
   "cell_type": "markdown",
   "metadata": {},
   "source": [
    "#### Defining a Function\n",
    "\n",
    "Funkcijo definiramo z uporabo def keyword kateri sledi ime funkcije in navadni oklepaji (). Zaključi se jo z \" : \".\n",
    "\n",
    "Blok kode, katero želimo, da naša funkcija izvede zapišemo z ustreznim zamikom.\n",
    "\n",
    "```python\n",
    "def ime_funkcije():\n",
    "    # Naš blok kode katero želimo izvesti\n",
    "    x = input(\"...\")\n",
    "    y = int(x) + 5\n",
    "    ...\n",
    "```\n",
    "\n",
    "Po priporočilih se imena funkcije piše na snake_case način (vse male črke, med besedami podčrtaj _ )"
   ]
  },
  {
   "cell_type": "markdown",
   "metadata": {},
   "source": [
    "Funkcijo nato uporabimo tako, da jo pokličemo po imenu in dodamo zraven ().\n",
    "```python\n",
    "ime_funkcije() # Klic naše funkcije\n",
    "```"
   ]
  },
  {
   "cell_type": "code",
   "execution_count": 28,
   "metadata": {},
   "outputs": [
    {
     "name": "stdout",
     "output_type": "stream",
     "text": [
      "Začetek programa\n",
      "Hello, World!\n",
      "Nadaljevanje programa\n"
     ]
    }
   ],
   "source": [
    "def hello():\n",
    "    print(\"Hello, World!\")\n",
    "\n",
    "print(\"Začetek programa\")\n",
    "hello()\n",
    "print(\"Nadaljevanje programa\")\n",
    "#pokažemo, da moremo funkcijo klicat po definiciji.\n",
    "#pazt, če to kažeš v jupyter notebooku, k tm se shranjo stvari v ozadju"
   ]
  },
  {
   "cell_type": "markdown",
   "metadata": {},
   "source": [
    "Funkcije je v kodi potrebno ustvariti, še predno jo kličemo."
   ]
  },
  {
   "cell_type": "code",
   "execution_count": 30,
   "metadata": {},
   "outputs": [
    {
     "name": "stdout",
     "output_type": "stream",
     "text": [
      "Začetek programa\n"
     ]
    },
    {
     "ename": "NameError",
     "evalue": "name 'hello2' is not defined",
     "output_type": "error",
     "traceback": [
      "\u001b[1;31m---------------------------------------------------------------------------\u001b[0m",
      "\u001b[1;31mNameError\u001b[0m                                 Traceback (most recent call last)",
      "\u001b[1;32m<ipython-input-30-d0c6cd4e0154>\u001b[0m in \u001b[0;36m<module>\u001b[1;34m\u001b[0m\n\u001b[0;32m      1\u001b[0m \u001b[0mprint\u001b[0m\u001b[1;33m(\u001b[0m\u001b[1;34m\"Začetek programa\"\u001b[0m\u001b[1;33m)\u001b[0m\u001b[1;33m\u001b[0m\u001b[1;33m\u001b[0m\u001b[0m\n\u001b[1;32m----> 2\u001b[1;33m \u001b[0mhello2\u001b[0m\u001b[1;33m(\u001b[0m\u001b[1;33m)\u001b[0m\u001b[1;33m\u001b[0m\u001b[1;33m\u001b[0m\u001b[0m\n\u001b[0m\u001b[0;32m      3\u001b[0m \u001b[0mprint\u001b[0m\u001b[1;33m(\u001b[0m\u001b[1;34m\"Nadaljevanje programa\"\u001b[0m\u001b[1;33m)\u001b[0m\u001b[1;33m\u001b[0m\u001b[1;33m\u001b[0m\u001b[0m\n\u001b[0;32m      4\u001b[0m \u001b[1;33m\u001b[0m\u001b[0m\n\u001b[0;32m      5\u001b[0m \u001b[1;32mdef\u001b[0m \u001b[0mhello2\u001b[0m\u001b[1;33m(\u001b[0m\u001b[1;33m)\u001b[0m\u001b[1;33m:\u001b[0m\u001b[1;33m\u001b[0m\u001b[1;33m\u001b[0m\u001b[0m\n",
      "\u001b[1;31mNameError\u001b[0m: name 'hello2' is not defined"
     ]
    }
   ],
   "source": [
    "print(\"Začetek programa\")\n",
    "hello2()\n",
    "print(\"Nadaljevanje programa\")\n",
    "\n",
    "def hello2():\n",
    "    print(\"Hello, World!\")"
   ]
  },
  {
   "cell_type": "code",
   "execution_count": null,
   "metadata": {},
   "outputs": [],
   "source": []
  },
  {
   "cell_type": "markdown",
   "metadata": {},
   "source": [
    "<div class=\"alert alert-block alert-info\">\n",
    "<h1><b>Naloga: </b></h1>\n",
    "Napišite funkcijo, ki od uporabnika zahteva naj vnese svojo EMŠO število.\n",
    "    \n",
    "Funkcija naj nato izpiše koliko let je uporabnik star.\n",
    "\n",
    "EMŠO ima 14 številk XXXXyyyXXXXXXX. 5.,6.,7. številka predstavljajo letnico rojstva (999 -> 1999 leto rojstva). \n",
    "</div>\n",
    "\n",
    "Primeri:\n",
    "```python\n",
    "Input:\n",
    "Vnesi emšo: 0102999500111\n",
    "\n",
    "Output:\n",
    "Star si 22 let\n",
    "\n",
    "Input:\n",
    "Vnesi emšo: 0104986505555\n",
    "\n",
    "Output:\n",
    "Star si 35 let\n",
    "\n",
    "```"
   ]
  },
  {
   "cell_type": "code",
   "execution_count": 6,
   "metadata": {},
   "outputs": [
    {
     "name": "stdout",
     "output_type": "stream",
     "text": [
      "Vnesi emšo: 0104986505555\n",
      "Star si 35 let\n"
     ]
    }
   ],
   "source": [
    "# Rešitev\n",
    "def fun():\n",
    "    emšo = input(\"Vnesi emšo: \")\n",
    "    \n",
    "    letnica = int(emšo[4:7]) + 1000\n",
    "    print(f\"Star si {2021-letnica} let\")\n",
    "\n",
    "fun()"
   ]
  },
  {
   "cell_type": "markdown",
   "metadata": {},
   "source": [
    "#### Working with Parameters\n",
    "\n",
    "Funkciji lahko pošljemo določene spremenljivke, katere želimo uporabiti v funkciji.\n",
    "> Primer: Če vemo ime uporabnika, ga lahko kličemo po imenu, kadar od njega zahtevamo input.\n",
    "\n",
    "Vrednost, ki jo pošljemo v funkcijo, se reče **argument**. To funkcija sprejme kot **parameter**.\n",
    "* Parameters are the name within the function definition.\n",
    "* Arguments are the values passed in when the function is called.\n",
    "\n",
    "\n",
    "Parametre funkcije definiramo znotraj njenih \"( )\".\n",
    "```python\n",
    "def funkcija_1(x, y, z): # x, y, z are parameters\n",
    "    pass\n",
    "\n",
    "funkcija_1(1, 2, 3) # 1, 2, 3 are arguments\n",
    "\n"
   ]
  },
  {
   "cell_type": "code",
   "execution_count": 9,
   "metadata": {},
   "outputs": [
    {
     "name": "stdout",
     "output_type": "stream",
     "text": [
      "X vrednost: 1\n",
      "Y vrednost: 2\n",
      "Z vrednost: 3\n"
     ]
    }
   ],
   "source": [
    "def funkcija_1(x, y, z):\n",
    "    print(f\"X vrednost: {x}\")\n",
    "    print(f\"Y vrednost: {y}\")\n",
    "    print(f\"Z vrednost: {z}\")\n",
    "    \n",
    "funkcija_1(1,2,3)"
   ]
  },
  {
   "cell_type": "markdown",
   "metadata": {},
   "source": [
    "V zgornjem primeru se ob klicu funkcije:\n",
    "* vrednost 1 shrani v spremenljivko x\n",
    "* vrednost 2 shrani v spremenljivko y\n",
    "* vrednost 3 shrani v spremenljivko z\n",
    "\n",
    "Zato je vrstni red argumentov pomemben!"
   ]
  },
  {
   "cell_type": "code",
   "execution_count": 10,
   "metadata": {},
   "outputs": [
    {
     "name": "stdout",
     "output_type": "stream",
     "text": [
      "X vrednost: 1\n",
      "Y vrednost: 2\n",
      "Z vrednost: 3\n",
      "Zamenjajmo vrstni red.\n",
      "X vrednost: 3\n",
      "Y vrednost: 2\n",
      "Z vrednost: 1\n"
     ]
    }
   ],
   "source": [
    "def funkcija_1(x, y, z):\n",
    "    print(f\"X vrednost: {x}\")\n",
    "    print(f\"Y vrednost: {y}\")\n",
    "    print(f\"Z vrednost: {z}\")\n",
    "    \n",
    "funkcija_1(1, 2, 3)\n",
    "print(\"Zamenjajmo vrstni red.\")\n",
    "funkcija_1(3, 2, 1)"
   ]
  },
  {
   "cell_type": "markdown",
   "metadata": {},
   "source": [
    "Pomembno je tudi, da podamo pravilno število argumentov!\n",
    "\n",
    "Če funkcija pričakuje 3 argumente, ji moramo podatki 3 argumente. Nič več. nič manj. V nasprotnem primeru dobimo napako."
   ]
  },
  {
   "cell_type": "code",
   "execution_count": 18,
   "metadata": {},
   "outputs": [
    {
     "ename": "TypeError",
     "evalue": "funkcija_1() missing 1 required positional argument: 'z'",
     "output_type": "error",
     "traceback": [
      "\u001b[1;31m---------------------------------------------------------------------------\u001b[0m",
      "\u001b[1;31mTypeError\u001b[0m                                 Traceback (most recent call last)",
      "\u001b[1;32m<ipython-input-18-e9b6b54ff80a>\u001b[0m in \u001b[0;36m<module>\u001b[1;34m\u001b[0m\n\u001b[0;32m      4\u001b[0m     \u001b[0mprint\u001b[0m\u001b[1;33m(\u001b[0m\u001b[1;34mf\"Z vrednost: {z}\"\u001b[0m\u001b[1;33m)\u001b[0m\u001b[1;33m\u001b[0m\u001b[1;33m\u001b[0m\u001b[0m\n\u001b[0;32m      5\u001b[0m \u001b[1;33m\u001b[0m\u001b[0m\n\u001b[1;32m----> 6\u001b[1;33m \u001b[0mfunkcija_1\u001b[0m\u001b[1;33m(\u001b[0m\u001b[1;36m1\u001b[0m\u001b[1;33m,\u001b[0m \u001b[1;36m2\u001b[0m\u001b[1;33m)\u001b[0m\u001b[1;33m\u001b[0m\u001b[1;33m\u001b[0m\u001b[0m\n\u001b[0m",
      "\u001b[1;31mTypeError\u001b[0m: funkcija_1() missing 1 required positional argument: 'z'"
     ]
    }
   ],
   "source": [
    "# Primer, ko podamo premalo argumentov\n",
    "def funkcija_1(x, y, z):\n",
    "    print(f\"X vrednost: {x}\")\n",
    "    print(f\"Y vrednost: {y}\")\n",
    "    print(f\"Z vrednost: {z}\")\n",
    "    \n",
    "funkcija_1(1, 2)"
   ]
  },
  {
   "cell_type": "code",
   "execution_count": 19,
   "metadata": {},
   "outputs": [
    {
     "ename": "TypeError",
     "evalue": "funkcija_1() takes 3 positional arguments but 4 were given",
     "output_type": "error",
     "traceback": [
      "\u001b[1;31m---------------------------------------------------------------------------\u001b[0m",
      "\u001b[1;31mTypeError\u001b[0m                                 Traceback (most recent call last)",
      "\u001b[1;32m<ipython-input-19-271e80339153>\u001b[0m in \u001b[0;36m<module>\u001b[1;34m\u001b[0m\n\u001b[0;32m      4\u001b[0m     \u001b[0mprint\u001b[0m\u001b[1;33m(\u001b[0m\u001b[1;34mf\"Z vrednost: {z}\"\u001b[0m\u001b[1;33m)\u001b[0m\u001b[1;33m\u001b[0m\u001b[1;33m\u001b[0m\u001b[0m\n\u001b[0;32m      5\u001b[0m \u001b[1;33m\u001b[0m\u001b[0m\n\u001b[1;32m----> 6\u001b[1;33m \u001b[0mfunkcija_1\u001b[0m\u001b[1;33m(\u001b[0m\u001b[1;36m1\u001b[0m\u001b[1;33m,\u001b[0m \u001b[1;36m2\u001b[0m\u001b[1;33m,\u001b[0m \u001b[1;36m3\u001b[0m\u001b[1;33m,\u001b[0m \u001b[1;36m4\u001b[0m\u001b[1;33m)\u001b[0m\u001b[1;33m\u001b[0m\u001b[1;33m\u001b[0m\u001b[0m\n\u001b[0m",
      "\u001b[1;31mTypeError\u001b[0m: funkcija_1() takes 3 positional arguments but 4 were given"
     ]
    }
   ],
   "source": [
    "# Primer, ko podamo preveč argumentov\n",
    "def funkcija_1(x, y, z):\n",
    "    print(f\"X vrednost: {x}\")\n",
    "    print(f\"Y vrednost: {y}\")\n",
    "    print(f\"Z vrednost: {z}\")\n",
    "    \n",
    "funkcija_1(1, 2, 3, 4)"
   ]
  },
  {
   "cell_type": "code",
   "execution_count": null,
   "metadata": {},
   "outputs": [],
   "source": []
  },
  {
   "cell_type": "markdown",
   "metadata": {},
   "source": [
    "<div class=\"alert alert-block alert-info\">\n",
    "<h1><b>Naloga: </b></h1>\n",
    "\n",
    "Napiši funkcijo, ki sprejme 3 argumente.\n",
    "\n",
    "Funkcija naj izpiše kateri ima največjo vrednost in koliko je ta vrednost.\n",
    "</div>\n",
    "\n",
    "Primeri:\n",
    "```python\n",
    "Input:\n",
    "fun_01(0,-5,6)\n",
    "\n",
    "Output:\n",
    "Tretji argument je največji. Vrednost: 6\n",
    "\n",
    "Input:\n",
    "fun_01(1, 50, -50)\n",
    "\n",
    "Output:\n",
    "Drugi argument je največji. Vrednost: 50\n",
    "\n",
    "```\n"
   ]
  },
  {
   "cell_type": "code",
   "execution_count": 12,
   "metadata": {},
   "outputs": [
    {
     "name": "stdout",
     "output_type": "stream",
     "text": [
      "Tretji argument je največji. Vrednost: 6\n",
      "Drugi argument je največji. Vrednost: 50\n"
     ]
    }
   ],
   "source": [
    "# Rešitev\n",
    "def fun_01(a, b, c):\n",
    "    if a>=b and a>=c:\n",
    "        print(f\"Prvi argument je največji. Vrednost: {a}\")\n",
    "    if b>=a and b>=c:\n",
    "        print(f\"Drugi argument je največji. Vrednost: {b}\")\n",
    "    if c>=b and c>=b:\n",
    "        print(f\"Tretji argument je največji. Vrednost: {c}\")\n",
    "    \n",
    "    \n",
    "fun_01(0,-5,6)\n",
    "fun_01(1, 50, -50)"
   ]
  },
  {
   "cell_type": "markdown",
   "metadata": {},
   "source": [
    "#### Keyword Arguments\n",
    "\n",
    "Naše argumente lahko poimenujemo s pravilnim imenom parametra in tako, ko naslednjič kličemo funkcijo, ne potrebujemo argumente podati v pravilnem vrstnem redu.\n",
    "\n",
    "```python\n",
    "def pozdrav(naslavljanje, ime, priimek):\n",
    "    print(f\"Pozdravljeni {naslavljanje} {ime} {priimek}.\")\n",
    "    \n",
    "pozdrav(priimek=\"Novak\", naslavljanje=\"gospod\", ime=\"Miha\")\n",
    "```"
   ]
  },
  {
   "cell_type": "code",
   "execution_count": 46,
   "metadata": {},
   "outputs": [
    {
     "name": "stdout",
     "output_type": "stream",
     "text": [
      "Pozdravljeni gospod Miha Novak.\n",
      "\n",
      "Uporaba Keyword arguments\n",
      "\n",
      "Pozdravljeni gospod Miha Novak.\n"
     ]
    }
   ],
   "source": [
    "def pozdrav(naslavljanje, ime, priimek):\n",
    "    print(f\"Pozdravljeni {naslavljanje} {ime} {priimek}.\")\n",
    "    \n",
    "pozdrav(\"gospod\", \"Miha\", \"Novak\")\n",
    "print(\"\\nUporaba Keyword arguments\\n\")\n",
    "pozdrav(priimek=\"Novak\", naslavljanje=\"gospod\", ime=\"Miha\")"
   ]
  },
  {
   "cell_type": "markdown",
   "metadata": {},
   "source": [
    "Če podamo napačno ime, dobimo napako."
   ]
  },
  {
   "cell_type": "code",
   "execution_count": 47,
   "metadata": {},
   "outputs": [
    {
     "ename": "TypeError",
     "evalue": "pozdrav() got an unexpected keyword argument 'zadnje_ime'",
     "output_type": "error",
     "traceback": [
      "\u001b[1;31m---------------------------------------------------------------------------\u001b[0m",
      "\u001b[1;31mTypeError\u001b[0m                                 Traceback (most recent call last)",
      "\u001b[1;32m<ipython-input-47-89652f3d516a>\u001b[0m in \u001b[0;36m<module>\u001b[1;34m\u001b[0m\n\u001b[0;32m      2\u001b[0m     \u001b[0mprint\u001b[0m\u001b[1;33m(\u001b[0m\u001b[1;34mf\"Pozdravljeni {naslavljanje} {ime} {priimek}.\"\u001b[0m\u001b[1;33m)\u001b[0m\u001b[1;33m\u001b[0m\u001b[1;33m\u001b[0m\u001b[0m\n\u001b[0;32m      3\u001b[0m \u001b[1;33m\u001b[0m\u001b[0m\n\u001b[1;32m----> 4\u001b[1;33m \u001b[0mpozdrav\u001b[0m\u001b[1;33m(\u001b[0m\u001b[0mzadnje_ime\u001b[0m\u001b[1;33m=\u001b[0m\u001b[1;34m\"Novak\"\u001b[0m\u001b[1;33m,\u001b[0m \u001b[0mnaslavljanje\u001b[0m\u001b[1;33m=\u001b[0m\u001b[1;34m\"gospod\"\u001b[0m\u001b[1;33m,\u001b[0m \u001b[0mime\u001b[0m\u001b[1;33m=\u001b[0m\u001b[1;34m\"Miha\"\u001b[0m\u001b[1;33m)\u001b[0m\u001b[1;33m\u001b[0m\u001b[1;33m\u001b[0m\u001b[0m\n\u001b[0m",
      "\u001b[1;31mTypeError\u001b[0m: pozdrav() got an unexpected keyword argument 'zadnje_ime'"
     ]
    }
   ],
   "source": [
    "def pozdrav(naslavljanje, ime, priimek):\n",
    "    print(f\"Pozdravljeni {naslavljanje} {ime} {priimek}.\")\n",
    "\n",
    "pozdrav(zadnje_ime=\"Novak\", naslavljanje=\"gospod\", ime=\"Miha\")"
   ]
  },
  {
   "cell_type": "markdown",
   "metadata": {},
   "source": [
    "Pri klicanju funkcije lahko uporabimo oba načina podajanja argumentov. Vendar je pomemben vrstni red."
   ]
  },
  {
   "cell_type": "code",
   "execution_count": 48,
   "metadata": {},
   "outputs": [
    {
     "name": "stdout",
     "output_type": "stream",
     "text": [
      "Pozdravljeni gospod Miha Novak.\n"
     ]
    }
   ],
   "source": [
    "def pozdrav(naslavljanje, ime, priimek):\n",
    "    print(f\"Pozdravljeni {naslavljanje} {ime} {priimek}.\")\n",
    "\n",
    "pozdrav(\"gospod\", \"Miha\", priimek=\"Novak\")"
   ]
  },
  {
   "cell_type": "code",
   "execution_count": 49,
   "metadata": {},
   "outputs": [
    {
     "ename": "SyntaxError",
     "evalue": "positional argument follows keyword argument (<ipython-input-49-d1b39220fd0c>, line 4)",
     "output_type": "error",
     "traceback": [
      "\u001b[1;36m  File \u001b[1;32m\"<ipython-input-49-d1b39220fd0c>\"\u001b[1;36m, line \u001b[1;32m4\u001b[0m\n\u001b[1;33m    pozdrav(\"gospod\", priimek=\"Novak\", \"Miha\")\u001b[0m\n\u001b[1;37m                                       ^\u001b[0m\n\u001b[1;31mSyntaxError\u001b[0m\u001b[1;31m:\u001b[0m positional argument follows keyword argument\n"
     ]
    }
   ],
   "source": [
    "def pozdrav(naslavljanje, ime, priimek):\n",
    "    print(f\"Pozdravljeni {naslavljanje} {ime} {priimek}.\")\n",
    "\n",
    "pozdrav(\"gospod\", priimek=\"Novak\", \"Miha\")"
   ]
  },
  {
   "cell_type": "markdown",
   "metadata": {},
   "source": [
    "#### Default Argument Values\n",
    "\n",
    "Za naše parametre lahko določimo default vrednost, v primeru, da ob klicu funkcije argumenta ne podamo.\n",
    "\n",
    "```python\n",
    "def funkcija(x=1, y=2):\n",
    "    print(x + y)\n",
    "    \n",
    "funkcija() # Funkcijo kličemo brez argumentov\n",
    "\n",
    "Output: 3 # Privzeti vrednosti sta x=1 in y=2\n",
    "```"
   ]
  },
  {
   "cell_type": "code",
   "execution_count": 56,
   "metadata": {},
   "outputs": [
    {
     "name": "stdout",
     "output_type": "stream",
     "text": [
      "Pozdravljeni gospod Miha Novak.\n",
      "Pozdravljeni g. Andrej Kovač.\n",
      "Pozdravljeni gospod Gregor Novak.\n"
     ]
    }
   ],
   "source": [
    "def pozdrav(naslavljanje=\"gospod\", ime=\"Miha\", priimek=\"Novak\"):\n",
    "    print(f\"Pozdravljeni {naslavljanje} {ime} {priimek}.\")\n",
    "\n",
    "pozdrav()\n",
    "    \n",
    "pozdrav(\"g.\", \"Andrej\", \"Kovač\")\n",
    "pozdrav(ime=\"Gregor\")"
   ]
  },
  {
   "cell_type": "markdown",
   "metadata": {},
   "source": [
    "Potrebno je paziti, da so parametri z default vrednostjo definirani za parametri brez default vrednosti."
   ]
  },
  {
   "cell_type": "code",
   "execution_count": 60,
   "metadata": {},
   "outputs": [
    {
     "name": "stdout",
     "output_type": "stream",
     "text": [
      "3\n"
     ]
    }
   ],
   "source": [
    "def funkcija(x, y, z=0):\n",
    "    print(x + y + z)\n",
    "    \n",
    "funkcija(1, 2)"
   ]
  },
  {
   "cell_type": "code",
   "execution_count": 62,
   "metadata": {},
   "outputs": [
    {
     "ename": "SyntaxError",
     "evalue": "non-default argument follows default argument (<ipython-input-62-d290ea3a79c4>, line 1)",
     "output_type": "error",
     "traceback": [
      "\u001b[1;36m  File \u001b[1;32m\"<ipython-input-62-d290ea3a79c4>\"\u001b[1;36m, line \u001b[1;32m1\u001b[0m\n\u001b[1;33m    def funkcija(x, y=0, z):\u001b[0m\n\u001b[1;37m                 ^\u001b[0m\n\u001b[1;31mSyntaxError\u001b[0m\u001b[1;31m:\u001b[0m non-default argument follows default argument\n"
     ]
    }
   ],
   "source": [
    "def funkcija(x, y=0, z):\n",
    "    print(x + y + z)\n",
    "    \n",
    "funkcija(1, 2, 3)"
   ]
  },
  {
   "cell_type": "code",
   "execution_count": null,
   "metadata": {},
   "outputs": [],
   "source": []
  },
  {
   "cell_type": "markdown",
   "metadata": {},
   "source": [
    "<div class=\"alert alert-block alert-info\">\n",
    "<h1><b>Naloga: </b></h1>\n",
    "Napišite funkcijo, ki izpiše prvih N največjih vrednosti v podanem listu.\n",
    "    \n",
    "Funkcija naj ima dva parametra. Prvi parameter je list, znotraj katerega bomo iskali največje vrednosti. Drugi parameter število, ki nam pove koliko prvih največjih števil naj izpišemo. Če vrednost ni podana, naj se izpiše prvih 5 največjih števil.\n",
    "</div>\n",
    "\n",
    "Primeri:\n",
    "```python\n",
    "Input:\n",
    "vaja([1,5,7,-2,3,8,2-5,12,-22])\n",
    "\n",
    "Output:\n",
    "12\n",
    "8\n",
    "7\n",
    "5\n",
    "3\n",
    "\n",
    "Input:\n",
    "vaja([1,5,7,-2,3,8,2-5,12,-22], 3)\n",
    "\n",
    "Output:\n",
    "12\n",
    "8\n",
    "7\n",
    "\n",
    "```\n"
   ]
  },
  {
   "cell_type": "code",
   "execution_count": 69,
   "metadata": {},
   "outputs": [
    {
     "name": "stdout",
     "output_type": "stream",
     "text": [
      "12\n",
      "8\n",
      "7\n",
      "5\n",
      "3\n",
      "\n",
      "12\n",
      "8\n",
      "7\n"
     ]
    }
   ],
   "source": [
    "# Rešitev\n",
    "\n",
    "def vaja(l, n=5):\n",
    "    for _ in range(n):\n",
    "        max_ = max(l)\n",
    "        print(max_)\n",
    "        l.remove(max_)\n",
    "        \n",
    "        \n",
    "vaja([1,5,7,-2,3,8,2-5,12,-22])\n",
    "print()\n",
    "vaja([1,5,7,-2,3,8,2-5,12,-22], 3)\n"
   ]
  },
  {
   "cell_type": "markdown",
   "metadata": {},
   "source": [
    "### \\*args and \\*\\*kwargs\n",
    "\n",
    "Ta dva parametra nam omogočata, da funkciji pošljemo poljubno število argumentov.\n",
    "\n",
    "\\*args nam pove, da naj neznane argumente zapakira v touple imenovan args.\n",
    "\n",
    "\\*\\*kwargs nam pove, da naj neznane argumente zapakira v dictionary imenovan kwargs. \n",
    "\n",
    "> http://book.pythontips.com/en/latest/args_and_kwargs.html\n",
    "\n",
    "> The idiom is also useful when maintaining backwards compatibility in an API.\n",
    "If our function accepts arbitrary arguments, we are free to add new arguments in\n",
    "a new version while not breaking existing code using fewer arguments. As long as\n",
    "everything is properly documented, the “actual” parameters of a function are not\n",
    "of much consequence.\n",
    "\n",
    "> First of all let me tell you that it is not necessary to write \\*args or \\*\\*kwargs. Only the \\* (asterisk) is necessary. You could have also written \\*var and \\*\\*vars. Writing \\*args and  \\*\\*kwargs is just a convention."
   ]
  },
  {
   "cell_type": "code",
   "execution_count": 77,
   "metadata": {},
   "outputs": [
    {
     "name": "stdout",
     "output_type": "stream",
     "text": [
      "a = \t 1\n",
      "b = \t 2\n",
      "c = \t 3\n",
      "args = \t (4, 5, 6, 7, 8, 9)\n"
     ]
    }
   ],
   "source": [
    "def test_args(a, b, c, *args):\n",
    "    print(f\"a = \\t {a}\")\n",
    "    print(f\"b = \\t {b}\")\n",
    "    print(f\"c = \\t {c}\")\n",
    "    print(f\"args = \\t {args}\")\n",
    "\n",
    "test_args(1, 2, 3, 4, 5, 6, 7, 8, 9)"
   ]
  },
  {
   "cell_type": "code",
   "execution_count": 75,
   "metadata": {},
   "outputs": [
    {
     "name": "stdout",
     "output_type": "stream",
     "text": [
      "6\n",
      "45\n"
     ]
    }
   ],
   "source": [
    "# Primer *ARGS\n",
    "\n",
    "def sestevalnik(*args):\n",
    "    value = 0\n",
    "    for ele in args:\n",
    "        value += ele\n",
    "    print(value)\n",
    "    \n",
    "sestevalnik(1, 2, 3)\n",
    "\n",
    "sestevalnik(1, 2, 3, 4, 5, 6, 7, 8, 9)"
   ]
  },
  {
   "cell_type": "code",
   "execution_count": null,
   "metadata": {},
   "outputs": [],
   "source": []
  },
  {
   "cell_type": "code",
   "execution_count": 78,
   "metadata": {},
   "outputs": [
    {
     "name": "stdout",
     "output_type": "stream",
     "text": [
      "a = \t 1\n",
      "b = \t 2\n",
      "c = \t 3\n",
      "kwargs = \t {'d': 4, 'e': 5, 'f': 6, 'g': 7, 'h': 8, 'i': 9}\n"
     ]
    }
   ],
   "source": [
    "def test_kwargs(a, b, c, **kwargs):\n",
    "    print(f\"a = \\t {a}\")\n",
    "    print(f\"b = \\t {b}\")\n",
    "    print(f\"c = \\t {c}\")\n",
    "    print(f\"kwargs = \\t {kwargs}\")\n",
    "\n",
    "\n",
    "test_kwargs(a=1, b=2, c=3, d=4, e=5, f=6, g=7, h=8, i=9)"
   ]
  },
  {
   "cell_type": "markdown",
   "metadata": {},
   "source": [
    "\\*\\*kwargs pridejo prav pri posodabljanju kode in ohranjanju podpore za starejše verzije kode.\n",
    "\n",
    "Primer: ustvarimo funkcijo **moja_funkcija**, ki ima parameter *barva_grafa*. Drugi programerij uporabijo mojo funkcijo.\n",
    "\n",
    "Kasneje se odločim posodobiti mojo funkcijo tako, da spremenim ime parametra v *barva*. Sedaj bi morali vsi drugi programerij, ki so uporabili mojo funkcijo prav tako posodobiti njihovo kodo. Z uporabo \\*\\*kwargs pa lahko še vedno zajamemo njihove argumente."
   ]
  },
  {
   "cell_type": "code",
   "execution_count": 86,
   "metadata": {},
   "outputs": [
    {
     "name": "stdout",
     "output_type": "stream",
     "text": [
      "Barva grafa je rdeča.\n"
     ]
    }
   ],
   "source": [
    "def moja_funkcija(podatki, barva_grafa=\"črna\"):\n",
    "    print(f\"Barva grafa je {barva_grafa}.\")\n",
    "    \n",
    "moja_funkcija([1,2,3], barva_grafa=\"rdeča\")"
   ]
  },
  {
   "cell_type": "code",
   "execution_count": 87,
   "metadata": {},
   "outputs": [
    {
     "ename": "TypeError",
     "evalue": "moja_funkcija() got an unexpected keyword argument 'barva_grafa'",
     "output_type": "error",
     "traceback": [
      "\u001b[1;31m---------------------------------------------------------------------------\u001b[0m",
      "\u001b[1;31mTypeError\u001b[0m                                 Traceback (most recent call last)",
      "\u001b[1;32m<ipython-input-87-8300209fd37d>\u001b[0m in \u001b[0;36m<module>\u001b[1;34m\u001b[0m\n\u001b[0;32m      3\u001b[0m     \u001b[0mprint\u001b[0m\u001b[1;33m(\u001b[0m\u001b[1;34mf\"Barva grafa je {barva_grafa}.\"\u001b[0m\u001b[1;33m)\u001b[0m\u001b[1;33m\u001b[0m\u001b[1;33m\u001b[0m\u001b[0m\n\u001b[0;32m      4\u001b[0m \u001b[1;33m\u001b[0m\u001b[0m\n\u001b[1;32m----> 5\u001b[1;33m \u001b[0mmoja_funkcija\u001b[0m\u001b[1;33m(\u001b[0m\u001b[1;33m[\u001b[0m\u001b[1;36m1\u001b[0m\u001b[1;33m,\u001b[0m\u001b[1;36m2\u001b[0m\u001b[1;33m,\u001b[0m\u001b[1;36m3\u001b[0m\u001b[1;33m]\u001b[0m\u001b[1;33m,\u001b[0m \u001b[0mbarva_grafa\u001b[0m\u001b[1;33m=\u001b[0m\u001b[1;34m\"rdeča\"\u001b[0m\u001b[1;33m)\u001b[0m\u001b[1;33m\u001b[0m\u001b[1;33m\u001b[0m\u001b[0m\n\u001b[0m",
      "\u001b[1;31mTypeError\u001b[0m: moja_funkcija() got an unexpected keyword argument 'barva_grafa'"
     ]
    }
   ],
   "source": [
    "# Želi se posodobit to funcijo\n",
    "def moja_funkcija(podatki, barva=\"črna\"):\n",
    "    print(f\"Barva grafa je {barva}.\")\n",
    "\n",
    "moja_funkcija([1,2,3], barva_grafa=\"rdeča\")"
   ]
  },
  {
   "cell_type": "code",
   "execution_count": 89,
   "metadata": {},
   "outputs": [
    {
     "name": "stdout",
     "output_type": "stream",
     "text": [
      "Barva grafa je rdeča.\n"
     ]
    }
   ],
   "source": [
    "# Želi se posodobit to funcijo\n",
    "def moja_funkcija(podatki, barva=\"črna\", **kwargs):\n",
    "    if \"barva_grafa\" in kwargs.keys():\n",
    "        print(f\"Barva grafa je {kwargs['barva_grafa']}.\")\n",
    "    else:\n",
    "        print(f\"Barva grafa je {barva}.\")\n",
    "\n",
    "moja_funkcija([1,2,3], barva_grafa=\"rdeča\")"
   ]
  },
  {
   "cell_type": "code",
   "execution_count": null,
   "metadata": {},
   "outputs": [],
   "source": []
  },
  {
   "cell_type": "code",
   "execution_count": null,
   "metadata": {},
   "outputs": [],
   "source": []
  },
  {
   "cell_type": "markdown",
   "metadata": {},
   "source": [
    "#### Returning a Value\n",
    "\n",
    "Vsaka funkcija tudi vrne določeno vrednost.\n",
    "\n",
    "Če funkciji nismo eksplicitno določili katero vrednost naj vrne, vrne vrednost **None**."
   ]
  },
  {
   "cell_type": "code",
   "execution_count": 90,
   "metadata": {},
   "outputs": [
    {
     "name": "stdout",
     "output_type": "stream",
     "text": [
      "Pozdrav\n",
      "None\n"
     ]
    }
   ],
   "source": [
    "def funkcija():\n",
    "    print(\"Pozdrav\")\n",
    "    \n",
    "x = funkcija()\n",
    "print(x)"
   ]
  },
  {
   "cell_type": "markdown",
   "metadata": {},
   "source": [
    "Da vrnemo specifično vrednost uporabimo besedo **return**.\n",
    "\n",
    "```python\n",
    "def sestevalnik(x, y):\n",
    "    vsota = x + y\n",
    "    return vsota\n",
    "\n",
    "x = sestevalnik(1, 2)\n",
    "print(x)\n",
    "\n",
    "Output: 3\n",
    "```"
   ]
  },
  {
   "cell_type": "code",
   "execution_count": 93,
   "metadata": {},
   "outputs": [
    {
     "name": "stdout",
     "output_type": "stream",
     "text": [
      "Seštevam...\n",
      "3\n"
     ]
    }
   ],
   "source": [
    "def sestevalnik(x, y):\n",
    "    print(\"Seštevam...\")\n",
    "    vsota = x + y\n",
    "    return vsota\n",
    "\n",
    "x = sestevalnik(1, 2)\n",
    "print(x)"
   ]
  },
  {
   "cell_type": "markdown",
   "metadata": {},
   "source": [
    "Ko se izvede ukaz **return** se vrne vrednost in koda znotraj funkcije se neha izvajati."
   ]
  },
  {
   "cell_type": "code",
   "execution_count": 94,
   "metadata": {},
   "outputs": [
    {
     "name": "stdout",
     "output_type": "stream",
     "text": [
      "Seštevam...\n",
      "3\n"
     ]
    }
   ],
   "source": [
    "def sestevalnik(x, y):\n",
    "    print(\"Seštevam...\")\n",
    "    vsota = x + y\n",
    "    return vsota\n",
    "    print(\"Končano\")\n",
    "\n",
    "x = sestevalnik(1, 2)\n",
    "print(x)"
   ]
  },
  {
   "cell_type": "markdown",
   "metadata": {},
   "source": [
    "Znotraj funkcije imamo lahko tudi več **return** statements, ki vrnejo različne vrednosti, glede na logiko funkcije."
   ]
  },
  {
   "cell_type": "code",
   "execution_count": 98,
   "metadata": {},
   "outputs": [
    {
     "name": "stdout",
     "output_type": "stream",
     "text": [
      "False\n",
      "True\n"
     ]
    }
   ],
   "source": [
    "def vecje_od_5(x):\n",
    "    if x > 5:\n",
    "        return True\n",
    "    elif x <= 5:\n",
    "        return False\n",
    "    \n",
    "print(vecje_od_5(1))\n",
    "print(vecje_od_5(10))"
   ]
  },
  {
   "cell_type": "code",
   "execution_count": null,
   "metadata": {},
   "outputs": [],
   "source": []
  },
  {
   "cell_type": "markdown",
   "metadata": {},
   "source": [
    "**Returning Multiple Values** \n",
    "\n",
    "Funkcija lahko vrne le eno vrednost (bolje rečeno: le en objekt).\n",
    "\n",
    "Če želimo vrniti več vrednosti jih preprosto zapakiramo v list, touple, dictionary in posredujemo tega."
   ]
  },
  {
   "cell_type": "code",
   "execution_count": 100,
   "metadata": {},
   "outputs": [
    {
     "name": "stdout",
     "output_type": "stream",
     "text": [
      "(3, 4, 5)\n",
      "<class 'tuple'>\n"
     ]
    }
   ],
   "source": [
    "def add_numbers(x, y, z):\n",
    "    a = x + y\n",
    "    b = x + z\n",
    "    c = y + z\n",
    "    return a, b, c # isto kot return (a, b, c)\n",
    "\n",
    "sums = add_numbers(1, 2, 3)\n",
    "print(sums)\n",
    "print(type(sums))"
   ]
  },
  {
   "cell_type": "code",
   "execution_count": null,
   "metadata": {},
   "outputs": [],
   "source": []
  },
  {
   "cell_type": "code",
   "execution_count": null,
   "metadata": {},
   "outputs": [],
   "source": []
  },
  {
   "cell_type": "markdown",
   "metadata": {},
   "source": [
    "<div class=\"alert alert-block alert-info\">\n",
    "<h1><b>Naloga: </b></h1>\n",
    "Napišite funkcijo, ki sprejme nabor podatkov v obliki dictionary in vrne največjo vrednost vsakega ključa.\n",
    "</div>\n",
    "\n",
    "Primeri:\n",
    "```python\n",
    "Input:\n",
    "data = {\"prices\": [41970, 40721, 41197, 41137, 43033],\n",
    "       \"volume\": [49135346712, 50768369805, 47472016405, 34809039137, 38700661463]}\n",
    "funkcija(data)\n",
    "\n",
    "Output:\n",
    "[43033, 50768369805]\n",
    "\n",
    "```\n"
   ]
  },
  {
   "cell_type": "code",
   "execution_count": 110,
   "metadata": {},
   "outputs": [
    {
     "name": "stdout",
     "output_type": "stream",
     "text": [
      "[43033, 50768369805]\n"
     ]
    }
   ],
   "source": [
    "data = {\"prices\": [41970, 40721, 41197, 41137, 43033],\n",
    "       \"volume\": [49135346712, 50768369805, 47472016405, 34809039137, 38700661463]}\n",
    "\n",
    "def funkcija(data):\n",
    "    r = []\n",
    "    for key, value in data.items():\n",
    "        #print(key, value)\n",
    "        r.append(max(value))\n",
    "    return r\n",
    "\n",
    "print(funkcija(data))"
   ]
  },
  {
   "cell_type": "markdown",
   "metadata": {},
   "source": [
    "#### Zanimivosti\n",
    "\n",
    "Python funkcije so objekti. Lahko jih shranimo v spremenljivke, lahko jih posredujemo kot argumente ali vrnemo kot vrednost funkcije."
   ]
  },
  {
   "cell_type": "code",
   "execution_count": 100,
   "metadata": {},
   "outputs": [],
   "source": [
    "def hello(name):\n",
    "    return f'My name is {name}'"
   ]
  },
  {
   "cell_type": "code",
   "execution_count": 101,
   "metadata": {},
   "outputs": [
    {
     "name": "stdout",
     "output_type": "stream",
     "text": [
      "My name is Gregor\n"
     ]
    }
   ],
   "source": [
    "print(hello(\"Gregor\"))"
   ]
  },
  {
   "cell_type": "code",
   "execution_count": 102,
   "metadata": {},
   "outputs": [
    {
     "name": "stdout",
     "output_type": "stream",
     "text": [
      "My name is Gregor\n",
      "<function hello at 0x0000015411EE6A60>\n",
      "<class 'function'>\n"
     ]
    }
   ],
   "source": [
    "funkcija = hello\n",
    "print(funkcija(\"Gregor\"))\n",
    "print(funkcija)\n",
    "print(type(funkcija))"
   ]
  },
  {
   "cell_type": "code",
   "execution_count": 103,
   "metadata": {},
   "outputs": [
    {
     "name": "stdout",
     "output_type": "stream",
     "text": [
      "My name is Janez\n"
     ]
    }
   ],
   "source": [
    "func = [hello, 2 ,3, 'Janez']\n",
    "print(func[0](func[3]))"
   ]
  },
  {
   "cell_type": "code",
   "execution_count": null,
   "metadata": {},
   "outputs": [],
   "source": []
  },
  {
   "cell_type": "markdown",
   "metadata": {},
   "source": [
    "<div class=\"alert alert-block alert-info\">\n",
    "<h1><b>Naloga: </b></h1>\n",
    "\n",
    "Ustvarite funkcijo, ki kot parametra vzeme list številk in neko število <b>m</b>, ki predstavlja zgornjo mejo.\n",
    "    \n",
    "Funkcija naj se sprehodi skozi podan list in vsako število, ki je večje od m, spremeni v m.\n",
    "    \n",
    "Funkcija naj na koncu vrne spremenjen list.\n",
    "</div>\n",
    "\n",
    "Primeri:\n",
    "```python\n",
    "Input:\n",
    "funkcija([1,12,-3,54,12,-22,65,32], 33)\n",
    "\n",
    "Output:\n",
    "[1, 12, -3, 33, 12, -22, 33, 32]\n",
    "```\n"
   ]
  },
  {
   "cell_type": "code",
   "execution_count": 117,
   "metadata": {
    "scrolled": true
   },
   "outputs": [
    {
     "name": "stdout",
     "output_type": "stream",
     "text": [
      "[1, 12, -3, 33, 12, -22, 33, 32]\n"
     ]
    }
   ],
   "source": [
    "# Rešitev\n",
    "def funkcija(l, m):\n",
    "    new_l = []\n",
    "    for ele in l:\n",
    "        if ele > m:\n",
    "            new_l.append(m)\n",
    "        else:\n",
    "            new_l.append(ele)\n",
    "            \n",
    "    return new_l\n",
    "\n",
    "print(funkcija([1,12,-3,54,12,-22,65,32], 33))"
   ]
  },
  {
   "cell_type": "code",
   "execution_count": null,
   "metadata": {},
   "outputs": [],
   "source": []
  },
  {
   "cell_type": "markdown",
   "metadata": {},
   "source": [
    "<div class=\"alert alert-block alert-info\">\n",
    "<h1><b>Naloga: </b></h1>\n",
    "\n",
    "Ustvari funkcijo, ki uredi list po vrstnem redu. Sprejme naj list in ukaz **asc** (naraščajoči vrstni red) ali **desc** (padajoči vrstni red). List naj nato ustrezno uredi. V kolikor ukaz ni posredovan naj bo default vrednost **asc**.\n",
    "</div>\n",
    "\n",
    "Primeri:\n",
    "```python\n",
    "Input:\n",
    "fun_03([1,4,2,8,4,0], ukaz=\"desc\")\n",
    "\n",
    "Output:\n",
    "[8, 4, 4, 2, 1, 0]\n",
    "\n",
    "\n",
    "Input:\n",
    "fun_03([1,4,2,8,4,0], ukaz=\"asc\")\n",
    "\n",
    "Output:\n",
    "[0, 1, 2, 4, 4, 8]\n",
    "\n",
    "\n",
    "Input:\n",
    "fun_03([5,8,-2,13,6,-6])\n",
    "\n",
    "Output:\n",
    "[-6, -2, 5, 6, 8, 13]\n",
    "```\n"
   ]
  },
  {
   "cell_type": "code",
   "execution_count": 115,
   "metadata": {},
   "outputs": [
    {
     "name": "stdout",
     "output_type": "stream",
     "text": [
      "[8, 4, 4, 2, 1, 0]\n",
      "[0, 1, 2, 4, 4, 8]\n",
      "[-6, -2, 5, 6, 8, 13]\n"
     ]
    }
   ],
   "source": [
    "def fun_03(old_list, ukaz=\"asc\"):\n",
    "    new_list = []\n",
    "    if ukaz == \"asc\":\n",
    "        while old_list:\n",
    "            minimum = old_list[0]\n",
    "            for i in old_list:\n",
    "                if i < minimum:\n",
    "                    minimum = i\n",
    "            new_list.append(minimum)\n",
    "            old_list.remove(minimum)\n",
    "    if ukaz == \"desc\":\n",
    "        while old_list:\n",
    "            maximum = old_list[0]\n",
    "            for i in old_list:\n",
    "                if i > maximum:\n",
    "                    maximum = i\n",
    "            new_list.append(maximum)\n",
    "            old_list.remove(maximum)\n",
    "    \n",
    "    return new_list\n",
    "\n",
    "print(fun_03([1,4,2,8,4,0], ukaz=\"desc\"))\n",
    "print(fun_03([1,4,2,8,4,0], ukaz=\"asc\"))\n",
    "print(fun_03([5,8,-2,13,6,-6]))"
   ]
  },
  {
   "cell_type": "code",
   "execution_count": null,
   "metadata": {},
   "outputs": [],
   "source": []
  },
  {
   "cell_type": "code",
   "execution_count": null,
   "metadata": {},
   "outputs": [],
   "source": []
  },
  {
   "cell_type": "code",
   "execution_count": null,
   "metadata": {},
   "outputs": [],
   "source": []
  },
  {
   "cell_type": "markdown",
   "metadata": {},
   "source": [
    "## Lambda funkcija\n",
    "\n",
    "Lambda funkcije so anonimne funkcije, kar pomeni, da nimajo imena (niso vezane na spremenljivko).\n",
    "\n",
    "> Anonimna funkcija - anonymous function is a function that is defined without a name.\n",
    "\n",
    ">We have already seen that when we want to use a number or a string in our program we can either write it as a literal in the place where we want to use it or use a variable that we have already defined in our code. For example, print(\"Hello!\") prints the literal string \"Hello!\", which we haven’t stored in a variable anywhere, but print(message) prints whatever string is stored in the variable message.\n",
    "\n",
    ">We have also seen that we can store a function in a variable, just like any other object, by referring to it by its name (but not calling it). Is there such a thing as a function literal? Can we define a function on the fly when we want to pass it as a parameter or assign it to a variable, just like we did with the string \"Hello!\"?\n",
    "\n",
    ">A lambda function may only contain a single expression, and the result of evaluating this expression is implicitly returned from the function (we don’t use the return keyword)"
   ]
  },
  {
   "cell_type": "markdown",
   "metadata": {},
   "source": [
    "```python\n",
    "lambda x,y : x +y\n",
    "```\n",
    "\n",
    "Sestavljene so iz:\n",
    "* lambda - keyword\n",
    "* parametri so napisani med lambda in :\n",
    "* \"single expression\" (1 vrstica kode). Rezultat / vrednost tega \"single expression\" se vrne kot vrednost funkcije"
   ]
  },
  {
   "cell_type": "code",
   "execution_count": 1,
   "metadata": {},
   "outputs": [
    {
     "data": {
      "text/plain": [
       "5"
      ]
     },
     "execution_count": 1,
     "metadata": {},
     "output_type": "execute_result"
    }
   ],
   "source": [
    "(lambda x, y: x+y)(2, 3)"
   ]
  },
  {
   "cell_type": "code",
   "execution_count": 2,
   "metadata": {},
   "outputs": [
    {
     "name": "stdout",
     "output_type": "stream",
     "text": [
      "<function <lambda> at 0x000001D590FDDE50>\n",
      "<class 'function'>\n"
     ]
    }
   ],
   "source": [
    "add = lambda x, y: x + y\n",
    "print(add)\n",
    "print(type(add))"
   ]
  },
  {
   "cell_type": "code",
   "execution_count": 5,
   "metadata": {},
   "outputs": [
    {
     "data": {
      "text/plain": [
       "8"
      ]
     },
     "execution_count": 5,
     "metadata": {},
     "output_type": "execute_result"
    }
   ],
   "source": [
    "add(5,3)"
   ]
  },
  {
   "cell_type": "markdown",
   "metadata": {},
   "source": [
    "Primer, če bi zgornjo lambda funkcijo napisalo kot navadno funkcijo."
   ]
  },
  {
   "cell_type": "code",
   "execution_count": 6,
   "metadata": {},
   "outputs": [],
   "source": [
    "def add(x, y):\n",
    "    return x + y"
   ]
  },
  {
   "cell_type": "code",
   "execution_count": null,
   "metadata": {},
   "outputs": [],
   "source": []
  },
  {
   "cell_type": "markdown",
   "metadata": {},
   "source": [
    "Lambda funkcije pridejo najbolj do izraza, kjer je treba kot argument posredovati funkcijo. Namesto dejanske funkcije lahko posredujemo lambda funkcijo."
   ]
  },
  {
   "cell_type": "markdown",
   "metadata": {},
   "source": [
    "Za primer vzemimo funkcijo `sorted()`.\n",
    "\n",
    "https://docs.python.org/3/library/functions.html#sorted\n",
    "\n",
    "Naša naloga je sortirati sledeče vrednosti glede na **market_cap** vrednost, od največje do najmanjše."
   ]
  },
  {
   "cell_type": "code",
   "execution_count": 13,
   "metadata": {},
   "outputs": [],
   "source": [
    "data = [\n",
    "  {\n",
    "    \"id\": \"binancecoin\",\n",
    "    \"symbol\": \"bnb\",\n",
    "    \"name\": \"Binance Coin\",\n",
    "    \"image\": \"https://assets.coingecko.com/coins/images/825/large/binance-coin-logo.png?1547034615\",\n",
    "    \"current_price\": 212.03,\n",
    "    \"market_cap\": 33015186690,\n",
    "    \"total_volume\": 2490184836,\n",
    "    \"high_24h\": 230.59,\n",
    "    \"low_24h\": 210.87,\n",
    "  },\n",
    "  {\n",
    "    \"id\": \"bitcoin\",\n",
    "    \"symbol\": \"btc\",\n",
    "    \"name\": \"Bitcoin\",\n",
    "    \"image\": \"https://assets.coingecko.com/coins/images/1/large/bitcoin.png?1547033579\",\n",
    "    \"current_price\": 47553,\n",
    "    \"market_cap\": 901453728232,\n",
    "    \"total_volume\": 47427138554,\n",
    "    \"high_24h\": 51131,\n",
    "    \"low_24h\": 48056,\n",
    "  },\n",
    "  {\n",
    "    \"id\": \"cardano\",\n",
    "    \"symbol\": \"ada\",\n",
    "    \"name\": \"Cardano\",\n",
    "    \"image\": \"https://assets.coingecko.com/coins/images/975/large/cardano.png?1547034860\",\n",
    "    \"current_price\": 0.84514,\n",
    "    \"market_cap\": 27210647217,\n",
    "    \"total_volume\": 3204270671,\n",
    "    \"high_24h\": 0.919055,\n",
    "    \"low_24h\": 0.843236,\n",
    "  },\n",
    "  {\n",
    "    \"id\": \"ethereum\",\n",
    "    \"symbol\": \"eth\",\n",
    "    \"name\": \"Ethereum\",\n",
    "    \"image\": \"https://assets.coingecko.com/coins/images/279/large/ethereum.png?1595348880\",\n",
    "    \"current_price\": 1479.97,\n",
    "    \"market_cap\": 172447578072,\n",
    "    \"total_volume\": 24709055087,\n",
    "    \"high_24h\": 1597.13,\n",
    "    \"low_24h\": 1493,\n",
    "  },\n",
    "  {\n",
    "    \"id\": \"litecoin\",\n",
    "    \"symbol\": \"ltc\",\n",
    "    \"name\": \"Litecoin\",\n",
    "    \"image\": \"https://assets.coingecko.com/coins/images/2/large/litecoin.png?1547033580\",\n",
    "    \"current_price\": 171.49,\n",
    "    \"market_cap\": 11561005268,\n",
    "    \"total_volume\": 4950077782,\n",
    "    \"high_24h\": 187.34,\n",
    "    \"low_24h\": 172.45,\n",
    "  },\n",
    "  {\n",
    "    \"id\": \"polkadot\",\n",
    "    \"symbol\": \"dot\",\n",
    "    \"name\": \"Polkadot\",\n",
    "    \"image\": \"https://assets.coingecko.com/coins/images/12171/large/aJGBjJFU_400x400.jpg?1597804776\",\n",
    "    \"current_price\": 29.28,\n",
    "    \"market_cap\": 28856989783,\n",
    "    \"total_volume\": 1266769267,\n",
    "    \"high_24h\": 32.2,\n",
    "    \"low_24h\": 29.54,\n",
    "  },\n",
    "  {\n",
    "    \"id\": \"ripple\",\n",
    "    \"symbol\": \"xrp\",\n",
    "    \"name\": \"XRP\",\n",
    "    \"image\": \"https://assets.coingecko.com/coins/images/44/large/xrp-symbol-white-128.png?1605778731\",\n",
    "    \"current_price\": 0.360658,\n",
    "    \"market_cap\": 16580549437,\n",
    "    \"total_volume\": 2357746464,\n",
    "    \"high_24h\": 0.381072,\n",
    "    \"low_24h\": 0.358941,\n",
    "  },\n",
    "  {\n",
    "    \"id\": \"tether\",\n",
    "    \"symbol\": \"usdt\",\n",
    "    \"name\": \"Tether\",\n",
    "    \"image\": \"https://assets.coingecko.com/coins/images/325/large/Tether-logo.png?1598003707\",\n",
    "    \"current_price\": 0.83869,\n",
    "    \"market_cap\": 32307660438,\n",
    "    \"total_volume\": 82854947322,\n",
    "    \"high_24h\": 0.843104,\n",
    "    \"low_24h\": 0.832594,\n",
    "  },\n",
    "  {\n",
    "    \"id\": \"uniswap\",\n",
    "    \"symbol\": \"uni\",\n",
    "    \"name\": \"Uniswap\",\n",
    "    \"image\": \"https://assets.coingecko.com/coins/images/12504/large/uniswap-uni.png?1600306604\",\n",
    "    \"current_price\": 24.94,\n",
    "    \"market_cap\": 13099199643,\n",
    "    \"total_volume\": 939432128,\n",
    "    \"high_24h\": 27.92,\n",
    "    \"low_24h\": 24.78,\n",
    "  }\n",
    "]"
   ]
  },
  {
   "cell_type": "markdown",
   "metadata": {},
   "source": [
    "https://docs.python.org/3/library/functions.html#sorted\n",
    "```python\n",
    "sorted(iterable, *, key=None, reverse=False)\n",
    "```\n",
    "\n",
    "V dokumentaciji vidimo, da lahko kontroliramo katere vrednosti primerjamo z uporabo **key** parametra.\n",
    "\n",
    "Kot **key** lahko podamo našo funkcijo, ki sprejme 1 argument in vrne vrednost po kateri primerjamo."
   ]
  },
  {
   "cell_type": "code",
   "execution_count": 22,
   "metadata": {},
   "outputs": [
    {
     "name": "stdout",
     "output_type": "stream",
     "text": [
      "binancecoin    \t 33015186690\n",
      "bitcoin    \t 901453728232\n",
      "cardano    \t 27210647217\n",
      "ethereum    \t 172447578072\n",
      "litecoin    \t 11561005268\n",
      "polkadot    \t 28856989783\n",
      "ripple    \t 16580549437\n",
      "tether    \t 32307660438\n",
      "uniswap    \t 13099199643\n"
     ]
    },
    {
     "data": {
      "text/plain": [
       "[{'id': 'bitcoin',\n",
       "  'symbol': 'btc',\n",
       "  'name': 'Bitcoin',\n",
       "  'image': 'https://assets.coingecko.com/coins/images/1/large/bitcoin.png?1547033579',\n",
       "  'current_price': 47553,\n",
       "  'market_cap': 901453728232,\n",
       "  'total_volume': 47427138554,\n",
       "  'high_24h': 51131,\n",
       "  'low_24h': 48056},\n",
       " {'id': 'ethereum',\n",
       "  'symbol': 'eth',\n",
       "  'name': 'Ethereum',\n",
       "  'image': 'https://assets.coingecko.com/coins/images/279/large/ethereum.png?1595348880',\n",
       "  'current_price': 1479.97,\n",
       "  'market_cap': 172447578072,\n",
       "  'total_volume': 24709055087,\n",
       "  'high_24h': 1597.13,\n",
       "  'low_24h': 1493},\n",
       " {'id': 'binancecoin',\n",
       "  'symbol': 'bnb',\n",
       "  'name': 'Binance Coin',\n",
       "  'image': 'https://assets.coingecko.com/coins/images/825/large/binance-coin-logo.png?1547034615',\n",
       "  'current_price': 212.03,\n",
       "  'market_cap': 33015186690,\n",
       "  'total_volume': 2490184836,\n",
       "  'high_24h': 230.59,\n",
       "  'low_24h': 210.87},\n",
       " {'id': 'tether',\n",
       "  'symbol': 'usdt',\n",
       "  'name': 'Tether',\n",
       "  'image': 'https://assets.coingecko.com/coins/images/325/large/Tether-logo.png?1598003707',\n",
       "  'current_price': 0.83869,\n",
       "  'market_cap': 32307660438,\n",
       "  'total_volume': 82854947322,\n",
       "  'high_24h': 0.843104,\n",
       "  'low_24h': 0.832594},\n",
       " {'id': 'polkadot',\n",
       "  'symbol': 'dot',\n",
       "  'name': 'Polkadot',\n",
       "  'image': 'https://assets.coingecko.com/coins/images/12171/large/aJGBjJFU_400x400.jpg?1597804776',\n",
       "  'current_price': 29.28,\n",
       "  'market_cap': 28856989783,\n",
       "  'total_volume': 1266769267,\n",
       "  'high_24h': 32.2,\n",
       "  'low_24h': 29.54},\n",
       " {'id': 'cardano',\n",
       "  'symbol': 'ada',\n",
       "  'name': 'Cardano',\n",
       "  'image': 'https://assets.coingecko.com/coins/images/975/large/cardano.png?1547034860',\n",
       "  'current_price': 0.84514,\n",
       "  'market_cap': 27210647217,\n",
       "  'total_volume': 3204270671,\n",
       "  'high_24h': 0.919055,\n",
       "  'low_24h': 0.843236},\n",
       " {'id': 'ripple',\n",
       "  'symbol': 'xrp',\n",
       "  'name': 'XRP',\n",
       "  'image': 'https://assets.coingecko.com/coins/images/44/large/xrp-symbol-white-128.png?1605778731',\n",
       "  'current_price': 0.360658,\n",
       "  'market_cap': 16580549437,\n",
       "  'total_volume': 2357746464,\n",
       "  'high_24h': 0.381072,\n",
       "  'low_24h': 0.358941},\n",
       " {'id': 'uniswap',\n",
       "  'symbol': 'uni',\n",
       "  'name': 'Uniswap',\n",
       "  'image': 'https://assets.coingecko.com/coins/images/12504/large/uniswap-uni.png?1600306604',\n",
       "  'current_price': 24.94,\n",
       "  'market_cap': 13099199643,\n",
       "  'total_volume': 939432128,\n",
       "  'high_24h': 27.92,\n",
       "  'low_24h': 24.78},\n",
       " {'id': 'litecoin',\n",
       "  'symbol': 'ltc',\n",
       "  'name': 'Litecoin',\n",
       "  'image': 'https://assets.coingecko.com/coins/images/2/large/litecoin.png?1547033580',\n",
       "  'current_price': 171.49,\n",
       "  'market_cap': 11561005268,\n",
       "  'total_volume': 4950077782,\n",
       "  'high_24h': 187.34,\n",
       "  'low_24h': 172.45}]"
      ]
     },
     "execution_count": 22,
     "metadata": {},
     "output_type": "execute_result"
    }
   ],
   "source": [
    "def sort_funkcija(x):\n",
    "    print(f'{x[\"id\"]}    \\t {x[\"market_cap\"]}')\n",
    "    return x[\"market_cap\"]\n",
    "\n",
    "sorted(data, key=sort_funkcija, reverse=True)"
   ]
  },
  {
   "cell_type": "markdown",
   "metadata": {},
   "source": [
    "Isto sortiranje lahko dobimo z uporabo lambda funkcije."
   ]
  },
  {
   "cell_type": "code",
   "execution_count": 23,
   "metadata": {},
   "outputs": [
    {
     "data": {
      "text/plain": [
       "[{'id': 'bitcoin',\n",
       "  'symbol': 'btc',\n",
       "  'name': 'Bitcoin',\n",
       "  'image': 'https://assets.coingecko.com/coins/images/1/large/bitcoin.png?1547033579',\n",
       "  'current_price': 47553,\n",
       "  'market_cap': 901453728232,\n",
       "  'total_volume': 47427138554,\n",
       "  'high_24h': 51131,\n",
       "  'low_24h': 48056},\n",
       " {'id': 'ethereum',\n",
       "  'symbol': 'eth',\n",
       "  'name': 'Ethereum',\n",
       "  'image': 'https://assets.coingecko.com/coins/images/279/large/ethereum.png?1595348880',\n",
       "  'current_price': 1479.97,\n",
       "  'market_cap': 172447578072,\n",
       "  'total_volume': 24709055087,\n",
       "  'high_24h': 1597.13,\n",
       "  'low_24h': 1493},\n",
       " {'id': 'binancecoin',\n",
       "  'symbol': 'bnb',\n",
       "  'name': 'Binance Coin',\n",
       "  'image': 'https://assets.coingecko.com/coins/images/825/large/binance-coin-logo.png?1547034615',\n",
       "  'current_price': 212.03,\n",
       "  'market_cap': 33015186690,\n",
       "  'total_volume': 2490184836,\n",
       "  'high_24h': 230.59,\n",
       "  'low_24h': 210.87},\n",
       " {'id': 'tether',\n",
       "  'symbol': 'usdt',\n",
       "  'name': 'Tether',\n",
       "  'image': 'https://assets.coingecko.com/coins/images/325/large/Tether-logo.png?1598003707',\n",
       "  'current_price': 0.83869,\n",
       "  'market_cap': 32307660438,\n",
       "  'total_volume': 82854947322,\n",
       "  'high_24h': 0.843104,\n",
       "  'low_24h': 0.832594},\n",
       " {'id': 'polkadot',\n",
       "  'symbol': 'dot',\n",
       "  'name': 'Polkadot',\n",
       "  'image': 'https://assets.coingecko.com/coins/images/12171/large/aJGBjJFU_400x400.jpg?1597804776',\n",
       "  'current_price': 29.28,\n",
       "  'market_cap': 28856989783,\n",
       "  'total_volume': 1266769267,\n",
       "  'high_24h': 32.2,\n",
       "  'low_24h': 29.54},\n",
       " {'id': 'cardano',\n",
       "  'symbol': 'ada',\n",
       "  'name': 'Cardano',\n",
       "  'image': 'https://assets.coingecko.com/coins/images/975/large/cardano.png?1547034860',\n",
       "  'current_price': 0.84514,\n",
       "  'market_cap': 27210647217,\n",
       "  'total_volume': 3204270671,\n",
       "  'high_24h': 0.919055,\n",
       "  'low_24h': 0.843236},\n",
       " {'id': 'ripple',\n",
       "  'symbol': 'xrp',\n",
       "  'name': 'XRP',\n",
       "  'image': 'https://assets.coingecko.com/coins/images/44/large/xrp-symbol-white-128.png?1605778731',\n",
       "  'current_price': 0.360658,\n",
       "  'market_cap': 16580549437,\n",
       "  'total_volume': 2357746464,\n",
       "  'high_24h': 0.381072,\n",
       "  'low_24h': 0.358941},\n",
       " {'id': 'uniswap',\n",
       "  'symbol': 'uni',\n",
       "  'name': 'Uniswap',\n",
       "  'image': 'https://assets.coingecko.com/coins/images/12504/large/uniswap-uni.png?1600306604',\n",
       "  'current_price': 24.94,\n",
       "  'market_cap': 13099199643,\n",
       "  'total_volume': 939432128,\n",
       "  'high_24h': 27.92,\n",
       "  'low_24h': 24.78},\n",
       " {'id': 'litecoin',\n",
       "  'symbol': 'ltc',\n",
       "  'name': 'Litecoin',\n",
       "  'image': 'https://assets.coingecko.com/coins/images/2/large/litecoin.png?1547033580',\n",
       "  'current_price': 171.49,\n",
       "  'market_cap': 11561005268,\n",
       "  'total_volume': 4950077782,\n",
       "  'high_24h': 187.34,\n",
       "  'low_24h': 172.45}]"
      ]
     },
     "execution_count": 23,
     "metadata": {},
     "output_type": "execute_result"
    }
   ],
   "source": [
    "sorted(data, key=lambda x: x[\"market_cap\"], reverse=True)"
   ]
  },
  {
   "cell_type": "markdown",
   "metadata": {},
   "source": [
    "<div class=\"alert alert-block alert-info\">\n",
    "<h1><b>Naloga: </b></h1>\n",
    "Imamo podatke o GDP Evropskih držav od leta 2010 do 2020.\n",
    "    \n",
    "Uporabite funkcijo <b>sorted()</b> in določite takšno <b>lambda funkcijo</b>, da razvrstimo države po GDP leta 2020 od največje do najmanjše.\n",
    "    \n",
    "Izpišite imena držav od največje do najmanjše.\n",
    "</div>\n",
    "\n",
    "Primeri:\n",
    "```python\n",
    "Input:\n",
    "data = [[\"Austria\", 392.623, 431.515, 409.652, 430.203, 442.698, 381.998, 394.215, 417.721, 456.166, 447.718, 432.894],\n",
    "[\"Belgium\", 484.450, 527.492,498.161, 521.090, 531.651, 456.067, 469.931, 495.953, 532.268, 517.609, 503.416],\n",
    "[\"Bosnia\", 17.164, 18.629, 17.207, 18.155, 18.522, 16.210, 16.910, 18.081, 20.162, 20.106, 18.893],\n",
    "[\"Bulgaria\", 50.611, 57.420, 53.901, 55.557, 56.815, 50.201, 53.236, 58.342, 65.197, 66.250, 67.917],\n",
    "[\"Croatia\", 59.866, 62.399, 56.549, 58.158, 57.683, 49.519, 51.623, 55.201, 60.805, 60.702, 56.768],\n",
    "[\"Cyprus\", 25.608, 27.454, 25.055, 24.094, 23.401, 19.691, 20.461, 22.189, 24.493, 24.280, 23.246],\n",
    "[\"Czech Republic\", 207.478, 227.948, 207.376, 209.402, 207.818, 186.830, 195.090, 215.914, 245.226, 246.953, 241.975],\n",
    "[\"Denmark\",321.995,344.003,327.149,343.584, 352.994,302.673,311.988,329.866,352.058,347.176,339.626],\n",
    "[\"Estonia\",19.536,23.191,23.057,25.145, 26.658, 22.916,23.994,26.850,30.761,31.038,30.468],\n",
    "[\"Finland\",248.262,273.925,256.849,270.065,273.042,232.582,239.150,252.867,274.210,269.654,267.856],\n",
    "[\"France\",2647.537,2864.030,2685.311,2811.957,2856.697,2439.435,2466.152,2591.775,2780.152,2707.074,2551.451],\n",
    "[\"Germany\",3423.466,3761.142,3545.946,3753.687,3904.921,3383.091,3496.606,3664.511,3951.340,3863.344,3780.553],\n",
    "[\"Greece\",299.919,288.062,245.807,239.937,237.406,196.690,195.303,203.493,218.230,214.012,194.376],\n",
    "[\"Hungary\",130.923,140.782,127.857,135.221,140.083,123.074,126.008, 139.844,161.182,170.407,149.939],\n",
    "[\"Iceland\",13.684,15.159,14.724,16.034, 17.758,17.389,20.618,24.457,25.965, 23.918,20.805],\n",
    "[\"Ireland\",222.533,238.088, 225.140,238.708,259.200,290.858,301.968,335.211,382.754,384.940,399.064],\n",
    "[\"Italy\",2129.021,2278.376,2073.971,2131.159,2155.151,1833.195,1869.973,1950.703,2075.856,2001.440,1848.222],\n",
    "[\"Latvia\",23.809,28.496,28.141,30.260,31.385,26.986,27.707,30.528,34.882,35.045,33.015],\n",
    "[\"Liechtenstein\",5.082,5.740,5.456,6.392,6.657,6.268,6.215],\n",
    "[\"Lithuania\",37.200,43.564, 42.887,46.423,48.632,41.538,42.991,47.645,53.302,53.641,55.064],\n",
    "[\"Luxembourg\",53.312,60.060,56.709,61.759,66.209,57.233,58.985,62.449,69.553,69.453,68.613],\n",
    "[\"Malta\",8.757,9.511,9.215,10.154,11.302,10.701,11.446,12.764,14.560,14.859,14.290],\n",
    "[\"Montenegro\",4.147,4.543,4.090,4.466,4.595,4.055,4.376,4.855,5.457,5.424,4.943],\n",
    "[\"Netherlands\",848.133,904.915,839.436, 877.198,892.397,765.650,783.852,833.575,914.519,902.355,886.339],\n",
    "[\"Norway\",429.131,498.832,510.229,523.502,499.338,386.663,371.345,398.394,434.167,417.627,366.386],\n",
    "[\"Poland\",479.161,528.571,500.846,524.399,545.284,477.568,471.843,526.749,585.816,565.854,580.894],\n",
    "[\"Portugal\",238.748,245.119,216.488,226.144,229.995,199.521,206.361,221.280,240.901,236.408,221.716],\n",
    "[\"Romania\",166.225, 183.443,171.196,190.948,199.628,177.895,188.495,211.407,239.552,243.698,248.624],\n",
    "[\"Serbia\",41.369,49.280,43.300, 48.394,47.062,39.629,40.630,44.120, 50.509,51.523,51.999],\n",
    "[\"Slovakia\",89.668, 98.271,93.466,98.509,101.109,87.814,89.885,95.821,106.573,106.552,101.892],\n",
    "[\"Slovenia\",48.103,51.338,46.378,48.131,49.969,43.124,44.660,48.545,54.059,54.154,51.802],\n",
    "[\"Spain\",1434.286,1489.431,1336.759,1362.280,1379.098,1199.688,1238.010, 1317.104,1427.533,1397.870,1247.464],\n",
    "[\"Sweden\",488.909,563.797,544.482,579.361,574.413,498.118,512.205,540.545,556.073,528.929,529.054],\n",
    "[\"Switzerland\",583.053, 699.670,667.890,688.747,709.496,679.721,670.247,680.029,705.546,715.360,707.868],\n",
    "[\"Turkey\",772.290,832.497,873.696,950.328,934.075,859.449,863.390,852.648,771.274,743.708,649.436],\n",
    "[\"United Kingdom\",2455.309,2635.799,2677.082,2755.356,3036.310,2897.060,2669.107,2640.067,2828.833,2743.586,2638.296]]\n",
    "\n",
    "\n",
    "\n",
    "Output:\n",
    "Germany\n",
    "United Kingdom\n",
    "France\n",
    "Italy\n",
    "Spain\n",
    "Netherlands\n",
    "Switzerland\n",
    "Turkey\n",
    "Poland\n",
    "Sweden\n",
    "Belgium\n",
    "Austria\n",
    "Ireland\n",
    "Norway\n",
    "Denmark\n",
    "Finland\n",
    "Romania\n",
    "Czech Republic\n",
    "Portugal\n",
    "Greece\n",
    "Hungary\n",
    "Slovakia\n",
    "Luxembourg\n",
    "Bulgaria\n",
    "Croatia\n",
    "Lithuania\n",
    "Serbia\n",
    "Slovenia\n",
    "Latvia\n",
    "Estonia\n",
    "Cyprus\n",
    "Iceland\n",
    "Bosnia\n",
    "Malta\n",
    "Liechtenstein\n",
    "Montenegro\n",
    "\n",
    "    \n",
    "```\n"
   ]
  },
  {
   "cell_type": "code",
   "execution_count": 96,
   "metadata": {},
   "outputs": [],
   "source": [
    "data = [[\"Austria\", 392.623, 431.515, 409.652, 430.203, 442.698, 381.998, 394.215, 417.721, 456.166, 447.718, 432.894],\n",
    "[\"Belgium\", 484.450, 527.492,498.161, 521.090, 531.651, 456.067, 469.931, 495.953, 532.268, 517.609, 503.416],\n",
    "[\"Bosnia\", 17.164, 18.629, 17.207, 18.155, 18.522, 16.210, 16.910, 18.081, 20.162, 20.106, 18.893],\n",
    "[\"Bulgaria\", 50.611, 57.420, 53.901, 55.557, 56.815, 50.201, 53.236, 58.342, 65.197, 66.250, 67.917],\n",
    "[\"Croatia\", 59.866, 62.399, 56.549, 58.158, 57.683, 49.519, 51.623, 55.201, 60.805, 60.702, 56.768],\n",
    "[\"Cyprus\", 25.608, 27.454, 25.055, 24.094, 23.401, 19.691, 20.461, 22.189, 24.493, 24.280, 23.246],\n",
    "[\"Czech Republic\", 207.478, 227.948, 207.376, 209.402, 207.818, 186.830, 195.090, 215.914, 245.226, 246.953, 241.975],\n",
    "[\"Denmark\",321.995,344.003,327.149,343.584, 352.994,302.673,311.988,329.866,352.058,347.176,339.626],\n",
    "[\"Estonia\",19.536,23.191,23.057,25.145, 26.658, 22.916,23.994,26.850,30.761,31.038,30.468],\n",
    "[\"Finland\",248.262,273.925,256.849,270.065,273.042,232.582,239.150,252.867,274.210,269.654,267.856],\n",
    "[\"France\",2647.537,2864.030,2685.311,2811.957,2856.697,2439.435,2466.152,2591.775,2780.152,2707.074,2551.451],\n",
    "[\"Germany\",3423.466,3761.142,3545.946,3753.687,3904.921,3383.091,3496.606,3664.511,3951.340,3863.344,3780.553],\n",
    "[\"Greece\",299.919,288.062,245.807,239.937,237.406,196.690,195.303,203.493,218.230,214.012,194.376],\n",
    "[\"Hungary\",130.923,140.782,127.857,135.221,140.083,123.074,126.008, 139.844,161.182,170.407,149.939],\n",
    "[\"Iceland\",13.684,15.159,14.724,16.034, 17.758,17.389,20.618,24.457,25.965, 23.918,20.805],\n",
    "[\"Ireland\",222.533,238.088, 225.140,238.708,259.200,290.858,301.968,335.211,382.754,384.940,399.064],\n",
    "[\"Italy\",2129.021,2278.376,2073.971,2131.159,2155.151,1833.195,1869.973,1950.703,2075.856,2001.440,1848.222],\n",
    "[\"Latvia\",23.809,28.496,28.141,30.260,31.385,26.986,27.707,30.528,34.882,35.045,33.015],\n",
    "[\"Lithuania\",37.200,43.564, 42.887,46.423,48.632,41.538,42.991,47.645,53.302,53.641,55.064],\n",
    "[\"Luxembourg\",53.312,60.060,56.709,61.759,66.209,57.233,58.985,62.449,69.553,69.453,68.613],\n",
    "[\"Malta\",8.757,9.511,9.215,10.154,11.302,10.701,11.446,12.764,14.560,14.859,14.290],\n",
    "[\"Montenegro\",4.147,4.543,4.090,4.466,4.595,4.055,4.376,4.855,5.457,5.424,4.943],\n",
    "[\"Netherlands\",848.133,904.915,839.436, 877.198,892.397,765.650,783.852,833.575,914.519,902.355,886.339],\n",
    "[\"Norway\",429.131,498.832,510.229,523.502,499.338,386.663,371.345,398.394,434.167,417.627,366.386],\n",
    "[\"Poland\",479.161,528.571,500.846,524.399,545.284,477.568,471.843,526.749,585.816,565.854,580.894],\n",
    "[\"Portugal\",238.748,245.119,216.488,226.144,229.995,199.521,206.361,221.280,240.901,236.408,221.716],\n",
    "[\"Romania\",166.225, 183.443,171.196,190.948,199.628,177.895,188.495,211.407,239.552,243.698,248.624],\n",
    "[\"Serbia\",41.369,49.280,43.300, 48.394,47.062,39.629,40.630,44.120, 50.509,51.523,51.999],\n",
    "[\"Slovakia\",89.668, 98.271,93.466,98.509,101.109,87.814,89.885,95.821,106.573,106.552,101.892],\n",
    "[\"Slovenia\",48.103,51.338,46.378,48.131,49.969,43.124,44.660,48.545,54.059,54.154,51.802],\n",
    "[\"Spain\",1434.286,1489.431,1336.759,1362.280,1379.098,1199.688,1238.010, 1317.104,1427.533,1397.870,1247.464],\n",
    "[\"Sweden\",488.909,563.797,544.482,579.361,574.413,498.118,512.205,540.545,556.073,528.929,529.054],\n",
    "[\"Switzerland\",583.053, 699.670,667.890,688.747,709.496,679.721,670.247,680.029,705.546,715.360,707.868],\n",
    "[\"Turkey\",772.290,832.497,873.696,950.328,934.075,859.449,863.390,852.648,771.274,743.708,649.436],\n",
    "[\"United Kingdom\",2455.309,2635.799,2677.082,2755.356,3036.310,2897.060,2669.107,2640.067,2828.833,2743.586,2638.296]]"
   ]
  },
  {
   "cell_type": "code",
   "execution_count": 97,
   "metadata": {},
   "outputs": [
    {
     "data": {
      "text/plain": [
       "['Germany',\n",
       " 'United Kingdom',\n",
       " 'France',\n",
       " 'Italy',\n",
       " 'Spain',\n",
       " 'Netherlands',\n",
       " 'Switzerland',\n",
       " 'Turkey',\n",
       " 'Poland',\n",
       " 'Sweden',\n",
       " 'Belgium',\n",
       " 'Austria',\n",
       " 'Ireland',\n",
       " 'Norway',\n",
       " 'Denmark',\n",
       " 'Finland',\n",
       " 'Romania',\n",
       " 'Czech Republic',\n",
       " 'Portugal',\n",
       " 'Greece',\n",
       " 'Hungary',\n",
       " 'Slovakia',\n",
       " 'Luxembourg',\n",
       " 'Bulgaria',\n",
       " 'Croatia',\n",
       " 'Lithuania',\n",
       " 'Serbia',\n",
       " 'Slovenia',\n",
       " 'Latvia',\n",
       " 'Estonia',\n",
       " 'Cyprus',\n",
       " 'Iceland',\n",
       " 'Bosnia',\n",
       " 'Malta',\n",
       " 'Montenegro']"
      ]
     },
     "execution_count": 97,
     "metadata": {},
     "output_type": "execute_result"
    }
   ],
   "source": [
    "[e[0] for e in sorted(data,key=lambda x : x[-1],reverse = True)]"
   ]
  },
  {
   "cell_type": "code",
   "execution_count": 40,
   "metadata": {},
   "outputs": [
    {
     "name": "stdout",
     "output_type": "stream",
     "text": [
      "Germany\n",
      "United Kingdom\n",
      "France\n",
      "Italy\n",
      "Spain\n",
      "Netherlands\n",
      "Switzerland\n",
      "Turkey\n",
      "Poland\n",
      "Sweden\n",
      "Belgium\n",
      "Austria\n",
      "Ireland\n",
      "Norway\n",
      "Denmark\n",
      "Finland\n",
      "Romania\n",
      "Czech Republic\n",
      "Portugal\n",
      "Greece\n",
      "Hungary\n",
      "Slovakia\n",
      "Luxembourg\n",
      "Bulgaria\n",
      "Croatia\n",
      "Lithuania\n",
      "Serbia\n",
      "Slovenia\n",
      "Latvia\n",
      "Estonia\n",
      "Cyprus\n",
      "Iceland\n",
      "Bosnia\n",
      "Malta\n",
      "Montenegro\n"
     ]
    }
   ],
   "source": [
    "data_sorted = sorted(data, key=lambda x: x[-1], reverse=True)\n",
    "for i in data_sorted:\n",
    "    print(i[0])"
   ]
  },
  {
   "cell_type": "code",
   "execution_count": null,
   "metadata": {},
   "outputs": [],
   "source": []
  },
  {
   "cell_type": "markdown",
   "metadata": {},
   "source": [
    "# Variable scope\n",
    "\n",
    "Spremenljivke se razlikujejo tudi po tem koliko dolgo obstajajo (variable lifetime) in od kje lahko dostopamo do njih (variable scope)."
   ]
  },
  {
   "cell_type": "markdown",
   "metadata": {},
   "source": [
    "Spremenljivka definirana znotraj funkcije (kot parameter ali navadno) obstaja samo znotraj funkcije.\n",
    "\n",
    "Ko se izvajanje funkcije konča, spremenljivka neha obstajati."
   ]
  },
  {
   "cell_type": "code",
   "execution_count": 72,
   "metadata": {},
   "outputs": [
    {
     "name": "stdout",
     "output_type": "stream",
     "text": [
      "Spr1: 5\n",
      "Spr2: 10\n"
     ]
    },
    {
     "ename": "NameError",
     "evalue": "name 'spr1' is not defined",
     "output_type": "error",
     "traceback": [
      "\u001b[1;31m---------------------------------------------------------------------------\u001b[0m",
      "\u001b[1;31mNameError\u001b[0m                                 Traceback (most recent call last)",
      "\u001b[1;32m<ipython-input-72-d9649ca9516e>\u001b[0m in \u001b[0;36m<module>\u001b[1;34m\u001b[0m\n\u001b[0;32m      6\u001b[0m \u001b[1;33m\u001b[0m\u001b[0m\n\u001b[0;32m      7\u001b[0m \u001b[0mfunkcija\u001b[0m\u001b[1;33m(\u001b[0m\u001b[1;36m5\u001b[0m\u001b[1;33m)\u001b[0m\u001b[1;33m\u001b[0m\u001b[1;33m\u001b[0m\u001b[0m\n\u001b[1;32m----> 8\u001b[1;33m \u001b[0mprint\u001b[0m\u001b[1;33m(\u001b[0m\u001b[1;34mf\"Spr1: {spr1}\"\u001b[0m\u001b[1;33m)\u001b[0m\u001b[1;33m\u001b[0m\u001b[1;33m\u001b[0m\u001b[0m\n\u001b[0m\u001b[0;32m      9\u001b[0m \u001b[0mprint\u001b[0m\u001b[1;33m(\u001b[0m\u001b[1;34mf\"Spr2: {spr2}\"\u001b[0m\u001b[1;33m)\u001b[0m\u001b[1;33m\u001b[0m\u001b[1;33m\u001b[0m\u001b[0m\n",
      "\u001b[1;31mNameError\u001b[0m: name 'spr1' is not defined"
     ]
    }
   ],
   "source": [
    "def funkcija(spr1):\n",
    "    spr2 = 10\n",
    "    print(f\"Spr1: {spr1}\")\n",
    "    print(f\"Spr2: {spr2}\")\n",
    "    \n",
    "    \n",
    "funkcija(5)\n",
    "print(f\"Spr1: {spr1}\")\n",
    "print(f\"Spr2: {spr2}\")"
   ]
  },
  {
   "cell_type": "markdown",
   "metadata": {},
   "source": [
    "Spremenljivka definirana znotraj naše glavne kode (zunaj naših funkcij) je **globalna spremenljivka** in je dostopna skozi našo celotno kodo."
   ]
  },
  {
   "cell_type": "code",
   "execution_count": 73,
   "metadata": {},
   "outputs": [
    {
     "name": "stdout",
     "output_type": "stream",
     "text": [
      "Spr1: 5\n",
      "Spremenljivka2: 10\n",
      "\n",
      "Spr1: 5\n",
      "Spr2: 10\n",
      "Spr3: 200\n",
      "\n",
      "Spr1: 5\n",
      "Spr2: 10\n"
     ]
    }
   ],
   "source": [
    "spr1 = 5\n",
    "print(f\"Spr1: {spr1}\")\n",
    "\n",
    "if spr1 == 5:\n",
    "    spr2 = 10\n",
    "print(f\"Spremenljivka2: {spr2}\")\n",
    "print()\n",
    "\n",
    "def funkcija():\n",
    "    spr3 = 200\n",
    "    print(f\"Spr1: {spr1}\")\n",
    "    print(f\"Spr2: {spr2}\")\n",
    "    print(f\"Spr3: {spr3}\")\n",
    "    \n",
    "funkcija()\n",
    "print()\n",
    "\n",
    "print(f\"Spr1: {spr1}\")\n",
    "print(f\"Spr2: {spr2}\")"
   ]
  },
  {
   "cell_type": "markdown",
   "metadata": {},
   "source": [
    "Problem se lahko pojavi, če znotraj funkcije definiramo spremenljivko z enakim imenom, ki že obstaja kot globalna spremenljivka.\n",
    "\n",
    "V tem primeru bo python spremenljivki označil kot dve različni spremenljivki. Ena dostopna znotraj funkcije, druga dostopna zunaj funkcije."
   ]
  },
  {
   "cell_type": "code",
   "execution_count": 164,
   "metadata": {},
   "outputs": [
    {
     "name": "stdout",
     "output_type": "stream",
     "text": [
      "Spr1: 5\n",
      "Spr1: 100\n",
      "Spr1: 5\n"
     ]
    }
   ],
   "source": [
    "spr1 = 5\n",
    "print(f\"Spr1: {spr1}\")\n",
    "\n",
    "def funkcija():\n",
    "    spr1 = 100\n",
    "    print(f\"Spr1: {spr1}\")\n",
    "    \n",
    "funkcija()\n",
    "print(f\"Spr1: {spr1}\")"
   ]
  },
  {
   "cell_type": "markdown",
   "metadata": {},
   "source": [
    "Parameter se obnaša kot lokalna spremenljivka."
   ]
  },
  {
   "cell_type": "code",
   "execution_count": 175,
   "metadata": {},
   "outputs": [
    {
     "name": "stdout",
     "output_type": "stream",
     "text": [
      "Spr1: 5\n",
      "Spr1: 100\n",
      "Spr1: 5\n"
     ]
    }
   ],
   "source": [
    "spr1 = 5\n",
    "print(f\"Spr1: {spr1}\")\n",
    "\n",
    "def funkcija(spr1):\n",
    "    print(f\"Spr1: {spr1}\")\n",
    "    \n",
    "funkcija(100)\n",
    "print(f\"Spr1: {spr1}\")"
   ]
  },
  {
   "cell_type": "markdown",
   "metadata": {},
   "source": [
    "Paziti je potrebno, ko posredujemo list ali dictionary kot argument."
   ]
  },
  {
   "cell_type": "code",
   "execution_count": 74,
   "metadata": {},
   "outputs": [
    {
     "name": "stdout",
     "output_type": "stream",
     "text": [
      "[3, 7, 13]\n",
      "[100, 7, 13]\n"
     ]
    }
   ],
   "source": [
    "def funkcija(l):\n",
    "    print(l)\n",
    "    l[0] = 100\n",
    "\n",
    "seznam = [3, 7, 13]\n",
    "funkcija(seznam)\n",
    "print(seznam)"
   ]
  },
  {
   "cell_type": "code",
   "execution_count": 75,
   "metadata": {},
   "outputs": [
    {
     "name": "stdout",
     "output_type": "stream",
     "text": [
      "{'a': 5, 'b': 6, 'c': 7}\n",
      "{'a': 100, 'b': 6, 'c': 7}\n"
     ]
    }
   ],
   "source": [
    "def funkcija(d):\n",
    "    print(d)\n",
    "    d[\"a\"] = 100\n",
    "\n",
    "dict_ = {\"a\": 5, \"b\": 6, \"c\": 7}\n",
    "funkcija(dict_)\n",
    "print(dict_)"
   ]
  },
  {
   "cell_type": "code",
   "execution_count": null,
   "metadata": {},
   "outputs": [],
   "source": []
  },
  {
   "cell_type": "markdown",
   "metadata": {},
   "source": [
    "Če želimo spreminjati globalno spremenljivko znotraj funkcije (znotraj local scope) moramo uporabiti besedo **global**."
   ]
  },
  {
   "cell_type": "code",
   "execution_count": 76,
   "metadata": {},
   "outputs": [
    {
     "name": "stdout",
     "output_type": "stream",
     "text": [
      "Spr1: 5\n",
      "Spr1: 100\n",
      "Spr1: 100\n"
     ]
    }
   ],
   "source": [
    "spr1 = 5\n",
    "print(f\"Spr1: {spr1}\")\n",
    "\n",
    "def funkcija():\n",
    "    global spr1\n",
    "    spr1 = 100\n",
    "    print(f\"Spr1: {spr1}\")\n",
    "    \n",
    "funkcija()\n",
    "print(f\"Spr1: {spr1}\")"
   ]
  },
  {
   "cell_type": "markdown",
   "metadata": {},
   "source": [
    "S to besedo lahko tudi ustvarimo novo globalno spremenljivko, znotraj localnega scopa."
   ]
  },
  {
   "cell_type": "code",
   "execution_count": 77,
   "metadata": {},
   "outputs": [
    {
     "name": "stdout",
     "output_type": "stream",
     "text": [
      "Spr1: 5\n",
      "Spr1: 5\n"
     ]
    }
   ],
   "source": [
    "def funkcija():\n",
    "    global spr1\n",
    "    spr1 = 5\n",
    "    print(f\"Spr1: {spr1}\")\n",
    "    \n",
    "funkcija()\n",
    "print(f\"Spr1: {spr1}\")"
   ]
  },
  {
   "cell_type": "code",
   "execution_count": null,
   "metadata": {},
   "outputs": [],
   "source": []
  },
  {
   "cell_type": "markdown",
   "metadata": {},
   "source": [
    "<div class=\"alert alert-block alert-info\">\n",
    "<h1><b>Naloga: </b></h1>\n",
    "\n",
    "Napišite funkcijo, kjer lahko igramo <b>vislice</b>.\n",
    "    \n",
    "Funkcija <b>vislice()</b> naj ima 2 parametra. Prvi je besedo katero se ugiba in drugi število možnih ugibov. Če števila ugibov ne podamo naj bo default vrednost 10.\n",
    "    \n",
    "Uporabnika konstantno sprašujte naj vnese črko.\n",
    "Nato izpišite iskano besedo. Črke katere je uporabnik uganil izpišite normalno, črke katere še ni uganil pa nadomestite z <b>_</b>.\n",
    "    \n",
    "Dodatno zraven prikazujte katere vse črke je uporabnik že preizkusil.\n",
    "    \n",
    "Če uporabnik besedo uspešno ugani v danih poizkusih naj funkcija vrne vrednost True. V nasprotnem primeru naj vrne vrednost False.\n",
    "</div>\n",
    "\n",
    "Primeri:\n",
    "```python\n",
    "Input:\n",
    "vislice(\"jabolko\")\n",
    "\n",
    "Output:\n",
    "Guesses so far []. \n",
    "What is your guess? a\n",
    "_ a_ _ _ _ _ \n",
    "\n",
    "Guesses so far ['a']. \n",
    "What is your guess? e\n",
    "_ a_ _ _ _ _ \n",
    "\n",
    "Guesses so far ['a', 'e']. \n",
    "What is your guess? o\n",
    "_ a_ o_ _ o\n",
    "\n",
    "Guesses so far ['a', 'e', 'o']. \n",
    "What is your guess? p\n",
    "_ a_ o_ _ o\n",
    "\n",
    "Guesses so far ['a', 'e', 'o', 'p']. \n",
    "What is your guess? r\n",
    "_ a_ o_ _ o\n",
    "\n",
    "Guesses so far ['a', 'e', 'o', 'p', 'r']. \n",
    "What is your guess? l\n",
    "_ a_ ol_ o\n",
    "\n",
    "Guesses so far ['a', 'e', 'o', 'p', 'r', 'l']. \n",
    "What is your guess? k\n",
    "_ a_ olko\n",
    "\n",
    "Guesses so far ['a', 'e', 'o', 'p', 'r', 'l', 'k']. \n",
    "What is your guess? j\n",
    "ja_ olko\n",
    "\n",
    "Guesses so far ['a', 'e', 'o', 'p', 'r', 'l', 'k', 'j']. \n",
    "What is your guess? b\n",
    "jabolko\n",
    "KONEC\n",
    "True\n",
    "\n",
    "```\n"
   ]
  },
  {
   "cell_type": "code",
   "execution_count": 207,
   "metadata": {},
   "outputs": [
    {
     "name": "stdout",
     "output_type": "stream",
     "text": [
      "\n",
      "Guesses so far []. \n",
      "What is your guess? a\n",
      "_ a_ _ _ _ _ \n",
      "\n",
      "Guesses so far ['a']. \n",
      "What is your guess? e\n",
      "_ a_ _ _ _ _ \n",
      "\n",
      "Guesses so far ['a', 'e']. \n",
      "What is your guess? o\n",
      "_ a_ o_ _ o\n",
      "\n",
      "Guesses so far ['a', 'e', 'o']. \n",
      "What is your guess? p\n",
      "_ a_ o_ _ o\n",
      "\n",
      "Guesses so far ['a', 'e', 'o', 'p']. \n",
      "What is your guess? r\n",
      "_ a_ o_ _ o\n",
      "\n",
      "Guesses so far ['a', 'e', 'o', 'p', 'r']. \n",
      "What is your guess? l\n",
      "_ a_ ol_ o\n",
      "\n",
      "Guesses so far ['a', 'e', 'o', 'p', 'r', 'l']. \n",
      "What is your guess? k\n",
      "_ a_ olko\n",
      "\n",
      "Guesses so far ['a', 'e', 'o', 'p', 'r', 'l', 'k']. \n",
      "What is your guess? j\n",
      "ja_ olko\n",
      "\n",
      "Guesses so far ['a', 'e', 'o', 'p', 'r', 'l', 'k', 'j']. \n",
      "What is your guess? b\n",
      "jabolko\n",
      "KONEC\n",
      "True\n"
     ]
    }
   ],
   "source": [
    "# Rešitev\n",
    "def vislice(beseda, n=10):\n",
    "    correct_guesses = []\n",
    "    all_guesses = []\n",
    "    \n",
    "    try_ = 0\n",
    "    while try_ < n:\n",
    "        print()\n",
    "        guess = input(f\"Guesses so far {all_guesses}. \\nWhat is your guess? \")\n",
    "        all_guesses.append(guess)\n",
    "        if guess in beseda:\n",
    "            correct_guesses.append(guess)\n",
    "\n",
    "        beseda_print = \"\"\n",
    "        for ch in beseda:\n",
    "            if ch in correct_guesses:\n",
    "                beseda_print += ch\n",
    "            else:\n",
    "                beseda_print += \"_ \"\n",
    "        print(beseda_print)\n",
    "        if len(set(correct_guesses)) == len(set(beseda)):\n",
    "            print(\"KONEC\")\n",
    "            return True\n",
    "\n",
    "        try_ += 1\n",
    "\n",
    "    return False\n",
    "\n",
    "\n",
    "print(vislice(\"jabolko\"))"
   ]
  },
  {
   "cell_type": "code",
   "execution_count": null,
   "metadata": {},
   "outputs": [],
   "source": []
  },
  {
   "cell_type": "markdown",
   "metadata": {},
   "source": [
    "<div class=\"alert alert-block alert-info\">\n",
    "<h1><b>Naloga: </b></h1>\n",
    "\n",
    "Ustvarite program <b>Križci in Krožci</b>\n",
    "    \n",
    "Igralno polje lahko predstavite kot liste znotraj lista, kjer *E* predstavlja prazno polje.\n",
    "    \n",
    "    board = [[\"X\", \"E\", \"E\"],\n",
    "             [\"O\", \"E\", \"E\"],\n",
    "             [\"E\", \"E\", \"E\"]]\n",
    "    \n",
    "Od igralcev nato izmenično zahtevajte polje v katerega želijo postaviti svoj znak. Privzememo lahko, da bodo igralci igrali pravično in vpisovali samo prazna polja.\n",
    "</div>\n",
    "\n",
    "Primeri:\n",
    "```python\n",
    "\n",
    "Output:\n",
    "['E', 'E', 'E']\n",
    "['E', 'E', 'E']\n",
    "['E', 'E', 'E']\n",
    "It's X's turn. Make a move (exp: 12): '00\n",
    "\n",
    "['X', 'E', 'E']\n",
    "['E', 'E', 'E']\n",
    "['E', 'E', 'E']\n",
    "It's O's turn. Make a move (exp: 12): '12\n",
    "\n",
    "['X', 'E', 'E']\n",
    "['E', 'E', 'O']\n",
    "['E', 'E', 'E']\n",
    "It's X's turn. Make a move (exp: 12): '10\n",
    "\n",
    "['X', 'E', 'E']\n",
    "['X', 'E', 'O']\n",
    "['E', 'E', 'E']\n",
    "It's O's turn. Make a move (exp: 12): '12\n",
    "\n",
    "['X', 'E', 'E']\n",
    "['X', 'E', 'O']\n",
    "['E', 'E', 'E']\n",
    "It's X's turn. Make a move (exp: 12): '20\n",
    "X je ZMAGOVALEC!\n",
    "\n",
    "```\n"
   ]
  },
  {
   "cell_type": "markdown",
   "metadata": {},
   "source": [
    "9:15 - 9:25 make move"
   ]
  },
  {
   "cell_type": "code",
   "execution_count": 92,
   "metadata": {},
   "outputs": [
    {
     "name": "stdout",
     "output_type": "stream",
     "text": [
      "['E', 'E', 'E']\n",
      "['E', 'E', 'E']\n",
      "['E', 'E', 'E']\n",
      "It's X's turn. Make a move (exp: 12): '00\n",
      "Changing players\n",
      "\n",
      "['X', 'E', 'E']\n",
      "['E', 'E', 'E']\n",
      "['E', 'E', 'E']\n",
      "It's O's turn. Make a move (exp: 12): '12\n",
      "Changing players\n",
      "\n",
      "['X', 'E', 'E']\n",
      "['E', 'E', 'O']\n",
      "['E', 'E', 'E']\n",
      "It's X's turn. Make a move (exp: 12): '10\n",
      "Changing players\n",
      "\n",
      "['X', 'E', 'E']\n",
      "['X', 'E', 'O']\n",
      "['E', 'E', 'E']\n",
      "It's O's turn. Make a move (exp: 12): '12\n",
      "Changing players\n",
      "\n",
      "['X', 'E', 'E']\n",
      "['X', 'E', 'O']\n",
      "['E', 'E', 'E']\n",
      "It's X's turn. Make a move (exp: 12): '20\n",
      "X je ZMAGOVALEC!\n"
     ]
    }
   ],
   "source": [
    "def display_board(board):\n",
    "    for row in board:\n",
    "        print(row)\n",
    "\n",
    "def make_move(on_turn, board):\n",
    "    move = input(f\"It's {on_turn}'s turn. Make a move (exp: 12): '\")\n",
    "    row = int(move[0])\n",
    "    col = int(move[1])\n",
    "    board[row][col] = on_turn\n",
    "\n",
    "def is_game_over(board):\n",
    "    # pregled po vrsticah\n",
    "    for row in board:\n",
    "        if row[0] != \"E\":\n",
    "            if row[0] == row[1] and row[0] == row[2]:\n",
    "                return True\n",
    "    # pregled po stolpcih\n",
    "    for i in range(3):\n",
    "        if board[0][i] != \"E\":\n",
    "            if board[0][i] == board[1][i] and board[0][i] == board[2][i]:\n",
    "                return True\n",
    "    # pregled ene diagonale\n",
    "    if board[0][0] != \"E\":\n",
    "        if board[0][0] == board[1][1] and board[0][0] == board[2][2]:\n",
    "            return True\n",
    "    # pregled druge diagonale\n",
    "    if board[0][2] != \"E\":\n",
    "        if board[0][2] == board[1][1] and board[0][2] == board[2][0]:\n",
    "            return True\n",
    "            \n",
    "    return False\n",
    "\n",
    "def play():\n",
    "    board = [[\"E\", \"E\", \"E\"],\n",
    "             [\"E\", \"E\", \"E\"],\n",
    "             [\"E\", \"E\", \"E\"]]\n",
    "    on_turn = \"X\"\n",
    "    while True:\n",
    "        display_board(board)\n",
    "        make_move(on_turn, board)\n",
    "        \n",
    "        game_over = is_game_over(board)\n",
    "        if game_over:\n",
    "            print(f\"{on_turn} je ZMAGOVALEC!\")\n",
    "            break\n",
    "        else:\n",
    "            if on_turn == \"X\":\n",
    "                on_turn = \"O\"\n",
    "            elif on_turn == \"O\":\n",
    "                on_turn = \"X\"       \n",
    "        print()\n",
    "\n",
    "\n",
    "play()"
   ]
  },
  {
   "cell_type": "code",
   "execution_count": null,
   "metadata": {},
   "outputs": [],
   "source": []
  },
  {
   "cell_type": "code",
   "execution_count": null,
   "metadata": {},
   "outputs": [],
   "source": []
  },
  {
   "cell_type": "code",
   "execution_count": null,
   "metadata": {},
   "outputs": [],
   "source": []
  }
 ],
 "metadata": {
  "anaconda-cloud": {},
  "kernelspec": {
   "display_name": "Python 3 (ipykernel)",
   "language": "python",
   "name": "python3"
  },
  "language_info": {
   "codemirror_mode": {
    "name": "ipython",
    "version": 3
   },
   "file_extension": ".py",
   "mimetype": "text/x-python",
   "name": "python",
   "nbconvert_exporter": "python",
   "pygments_lexer": "ipython3",
   "version": "3.12.0"
  },
  "toc": {
   "base_numbering": 1,
   "nav_menu": {},
   "number_sections": true,
   "sideBar": true,
   "skip_h1_title": false,
   "title_cell": "Table of Contents",
   "title_sidebar": "Contents",
   "toc_cell": false,
   "toc_position": {},
   "toc_section_display": true,
   "toc_window_display": false
  }
 },
 "nbformat": 4,
 "nbformat_minor": 4
}
