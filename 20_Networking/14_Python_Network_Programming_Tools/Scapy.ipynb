{
 "cells": [
  {
   "cell_type": "markdown",
   "id": "26c65e97",
   "metadata": {},
   "source": [
    "# Scapy"
   ]
  },
  {
   "cell_type": "markdown",
   "id": "67350dc8",
   "metadata": {},
   "source": [
    "Viri:\n",
    "- [Building Network Tools with Scapy](https://thepacketgeek.com/scapy/building-network-tools/)"
   ]
  },
  {
   "cell_type": "code",
   "execution_count": null,
   "id": "ace4de49",
   "metadata": {},
   "outputs": [],
   "source": []
  },
  {
   "cell_type": "markdown",
   "id": "7f144f82",
   "metadata": {},
   "source": [
    "## What is Scapy?"
   ]
  },
  {
   "cell_type": "markdown",
   "id": "f1648d36",
   "metadata": {},
   "source": [
    "Scapy is a powerful interactive packet manipulation program. It is able to forge or decode packets of a wide number of protocols, send them on the wire, capture them, match requests and replies, and much more. It can easily handle most classical tasks like scanning, tracerouting, probing, unit tests, attacks or network discovery\n",
    "\n",
    "It also performs very well at a lot of other specific tasks that most other tools can't handle, like sending invalid frames, injecting your own 802.11 frames, combining technics (VLAN hopping+ARP cache poisoning, VOIP decoding on WEP encrypted channel, ...), etc."
   ]
  },
  {
   "cell_type": "markdown",
   "id": "d24fffa3",
   "metadata": {},
   "source": [
    "https://pypi.org/project/scapy/"
   ]
  },
  {
   "cell_type": "markdown",
   "id": "59854804",
   "metadata": {},
   "source": [
    "https://scapy.net/"
   ]
  },
  {
   "cell_type": "markdown",
   "id": "a8f21e35",
   "metadata": {},
   "source": [
    "https://scapy.readthedocs.io/en/latest/index.html"
   ]
  },
  {
   "cell_type": "markdown",
   "id": "67041d8c",
   "metadata": {},
   "source": [
    "## First steps\n",
    "\n",
    "### Scapy and Network Interfaces"
   ]
  },
  {
   "cell_type": "markdown",
   "id": "a14afd16",
   "metadata": {},
   "source": [
    "If you have multiple network interfaces on your computer, you might have to double check which interface Scapy will use by default. Run `scapy` from the terminal and run the `conf` command. See what interface Scapy will use by default by looking at the `iface.name` value:"
   ]
  },
  {
   "cell_type": "markdown",
   "id": "f3018885",
   "metadata": {},
   "source": [
    "    >>> conf.iface.name\n",
    "    'ens18'"
   ]
  },
  {
   "cell_type": "markdown",
   "id": "1be7836f",
   "metadata": {},
   "source": [
    "If the default interface is not the one you will use, you can change the value like this:"
   ]
  },
  {
   "cell_type": "markdown",
   "id": "aa59665b",
   "metadata": {},
   "source": [
    "    >>> conf.iface=\"en3\""
   ]
  },
  {
   "cell_type": "markdown",
   "id": "54ac6975",
   "metadata": {},
   "source": [
    "### Root Permissions"
   ]
  },
  {
   "cell_type": "markdown",
   "id": "ca7c3bb1",
   "metadata": {},
   "source": [
    "For some of the Scapy functions dealing with sending traffic, you will need to be able to run Scapy as root. For example, on a Mac/Linux computer you can run interactive mode with root permissions by running sudo scapy from the CLI. Also, you can run the Python scripts with Scapy send functions as sudo like this:"
   ]
  },
  {
   "cell_type": "markdown",
   "id": "87f66fa1",
   "metadata": {},
   "source": [
    "    sudo python script.py"
   ]
  },
  {
   "cell_type": "markdown",
   "id": "1aec0513",
   "metadata": {},
   "source": [
    "If you ever receive a Python error about not having the correct permissions or something not be allowed, try running Scapy with root permissions."
   ]
  },
  {
   "cell_type": "markdown",
   "id": "7545d202",
   "metadata": {},
   "source": [
    "## Scapy Interactive Mode"
   ]
  },
  {
   "cell_type": "markdown",
   "id": "e3e03f2d",
   "metadata": {},
   "source": [
    "Scapy can be run in two different modes, interactively from a terminal window and programmatically from a Python script. Let's start getting familiar with Scapy using the interactive mode.\n",
    "\n",
    "Scapy comes with a short script to start interactive mode so from your terminal you can just type `sudo /home/icta/python-napredni/.venv/bin/python -m scapy`\n",
    "\n",
    "> Popravijo glede na njihov path."
   ]
  },
  {
   "cell_type": "markdown",
   "id": "ea1db155",
   "metadata": {},
   "source": [
    "To see a list of what commands Scapy has available, run the `lsc()` function:"
   ]
  },
  {
   "cell_type": "markdown",
   "id": "cb252aad",
   "metadata": {},
   "source": [
    "    >>> lsc()"
   ]
  },
  {
   "cell_type": "markdown",
   "id": "24cc226d",
   "metadata": {},
   "source": [
    "I'm going to sniff a single packet real quick and then we'll play around with that."
   ]
  },
  {
   "cell_type": "code",
   "execution_count": null,
   "id": "93f1caa9",
   "metadata": {},
   "outputs": [],
   "source": []
  },
  {
   "cell_type": "code",
   "execution_count": null,
   "id": "38db931c",
   "metadata": {},
   "outputs": [],
   "source": []
  },
  {
   "cell_type": "code",
   "execution_count": null,
   "id": "662a744a",
   "metadata": {},
   "outputs": [],
   "source": []
  },
  {
   "cell_type": "code",
   "execution_count": null,
   "id": "d42bcbb9",
   "metadata": {},
   "outputs": [],
   "source": []
  },
  {
   "cell_type": "code",
   "execution_count": null,
   "id": "c0568418",
   "metadata": {},
   "outputs": [],
   "source": []
  },
  {
   "cell_type": "markdown",
   "id": "40ee0c62",
   "metadata": {},
   "source": [
    "## Examples"
   ]
  },
  {
   "cell_type": "markdown",
   "id": "1db950e4",
   "metadata": {},
   "source": [
    "### DHCP Listener"
   ]
  },
  {
   "cell_type": "markdown",
   "id": "ff949572",
   "metadata": {},
   "source": [
    "https://www.putorius.net/dhcping-dhcp-server-troubleshooting.html"
   ]
  },
  {
   "cell_type": "code",
   "execution_count": null,
   "id": "ccb3d54a",
   "metadata": {},
   "outputs": [],
   "source": []
  },
  {
   "cell_type": "code",
   "execution_count": null,
   "id": "98387912",
   "metadata": {},
   "outputs": [],
   "source": []
  },
  {
   "cell_type": "markdown",
   "id": "3cd81a41",
   "metadata": {},
   "source": [
    "\n",
    "Run: `sudo /home/icta/python-napredni/.venv/bin/python dhcp_listener.py`"
   ]
  },
  {
   "cell_type": "code",
   "execution_count": null,
   "id": "35233e81",
   "metadata": {},
   "outputs": [],
   "source": []
  },
  {
   "cell_type": "code",
   "execution_count": null,
   "id": "52ae9a73",
   "metadata": {},
   "outputs": [],
   "source": []
  },
  {
   "cell_type": "markdown",
   "id": "4c390f21",
   "metadata": {},
   "source": [
    "### Network Scanner"
   ]
  },
  {
   "cell_type": "markdown",
   "id": "b5cafcce",
   "metadata": {},
   "source": [
    "https://www.thepythoncode.com/article/building-network-scanner-using-scapy"
   ]
  },
  {
   "cell_type": "code",
   "execution_count": null,
   "id": "8bac7c67",
   "metadata": {},
   "outputs": [],
   "source": []
  },
  {
   "cell_type": "code",
   "execution_count": null,
   "id": "7ab2fd1d",
   "metadata": {},
   "outputs": [],
   "source": []
  }
 ],
 "metadata": {
  "kernelspec": {
   "display_name": "Python 3 (ipykernel)",
   "language": "python",
   "name": "python3"
  },
  "language_info": {
   "codemirror_mode": {
    "name": "ipython",
    "version": 3
   },
   "file_extension": ".py",
   "mimetype": "text/x-python",
   "name": "python",
   "nbconvert_exporter": "python",
   "pygments_lexer": "ipython3",
   "version": "3.9.12"
  }
 },
 "nbformat": 4,
 "nbformat_minor": 5
}
