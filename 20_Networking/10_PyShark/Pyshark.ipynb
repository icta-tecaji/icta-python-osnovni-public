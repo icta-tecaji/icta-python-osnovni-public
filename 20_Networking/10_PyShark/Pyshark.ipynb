{
 "cells": [
  {
   "cell_type": "code",
   "execution_count": null,
   "id": "8e46f6fb",
   "metadata": {},
   "outputs": [],
   "source": []
  },
  {
   "cell_type": "markdown",
   "id": "e8039dad",
   "metadata": {},
   "source": [
    "# Links\n",
    "\n",
    "* Čist osnovn tutorial - https://linuxhint.com/building-your-own-network-monitor-with-pyshark/\n",
    "* Github projekta - https://github.com/KimiNewt/pyshark#reading-from-a-file-using-a-display-filter (pišejo osnovne zadeve glede metod pa kako delujejo)\n",
    "* Osnove - https://thepacketgeek.com/pyshark/"
   ]
  },
  {
   "cell_type": "code",
   "execution_count": null,
   "id": "1b46b3b9",
   "metadata": {},
   "outputs": [],
   "source": []
  },
  {
   "cell_type": "markdown",
   "id": "d63faa34",
   "metadata": {},
   "source": [
    "Zadeve ne morš poganjat v jupyter notebooku..."
   ]
  },
  {
   "cell_type": "markdown",
   "id": "55778ec4",
   "metadata": {},
   "source": [
    "Ampak še kr mam lah kle kodo pa vse napisan, sam kaze se v visual studio code."
   ]
  },
  {
   "cell_type": "code",
   "execution_count": null,
   "id": "933e7b6e",
   "metadata": {},
   "outputs": [],
   "source": []
  },
  {
   "cell_type": "markdown",
   "id": "72187d18",
   "metadata": {},
   "source": [
    "# PyShark"
   ]
  },
  {
   "cell_type": "markdown",
   "id": "90fca0f1",
   "metadata": {},
   "source": [
    "To je python knjižnjica, ki je wrapper za tshark (tshark je wireshark command line utility)."
   ]
  },
  {
   "cell_type": "markdown",
   "id": "f254a502",
   "metadata": {},
   "source": [
    "$ pip install pyshark"
   ]
  },
  {
   "cell_type": "markdown",
   "id": "a0a45e9a",
   "metadata": {},
   "source": [
    "Za delovanje potrebuješ tudi imeti inštaliran tshark: https://lindevs.com/install-tshark-on-ubuntu/"
   ]
  },
  {
   "cell_type": "markdown",
   "id": "f364aae2",
   "metadata": {},
   "source": [
    "Če dobimo error:\n",
    "\n",
    "PermissionError: [Errno 13] Permission denied: '/usr/bin/dumpcap'\n",
    "\n",
    "Solution:\n",
    "$ sudo chmod +x /usr/bin/dumpcap"
   ]
  },
  {
   "cell_type": "code",
   "execution_count": null,
   "id": "2b23304a",
   "metadata": {},
   "outputs": [],
   "source": []
  },
  {
   "cell_type": "markdown",
   "id": "7ef40be6",
   "metadata": {},
   "source": [
    "# Capturing packets"
   ]
  },
  {
   "cell_type": "markdown",
   "id": "6ac60139",
   "metadata": {},
   "source": [
    "Paketke lahko zajemamo z dvema načinoma. Branje iz datoteke oziroma zajemanje iz network interfaca."
   ]
  },
  {
   "cell_type": "markdown",
   "id": "f8da9abc",
   "metadata": {},
   "source": [
    "**Zajemanje iz CAP datoteke** "
   ]
  },
  {
   "cell_type": "markdown",
   "id": "ef38dcc3",
   "metadata": {},
   "source": [
    "*01_reading_from_file.py*"
   ]
  },
  {
   "cell_type": "code",
   "execution_count": 3,
   "id": "c760be90",
   "metadata": {
    "scrolled": true
   },
   "outputs": [
    {
     "name": "stdout",
     "output_type": "stream",
     "text": [
      "<FileCapture ./mycapture.cap>\n"
     ]
    },
    {
     "ename": "RuntimeError",
     "evalue": "This event loop is already running",
     "output_type": "error",
     "traceback": [
      "\u001b[0;31m---------------------------------------------------------------------------\u001b[0m",
      "\u001b[0;31mRuntimeError\u001b[0m                              Traceback (most recent call last)",
      "Input \u001b[0;32mIn [3]\u001b[0m, in \u001b[0;36m<cell line: 5>\u001b[0;34m()\u001b[0m\n\u001b[1;32m      3\u001b[0m \u001b[38;5;28mprint\u001b[39m(cap)\n\u001b[1;32m      4\u001b[0m \u001b[38;5;66;03m#print(cap[1])\u001b[39;00m\n\u001b[0;32m----> 5\u001b[0m \u001b[38;5;28;01mfor\u001b[39;00m packet \u001b[38;5;129;01min\u001b[39;00m cap:\n\u001b[1;32m      6\u001b[0m     \u001b[38;5;28mprint\u001b[39m(packet)\n\u001b[1;32m      7\u001b[0m     \u001b[38;5;28mprint\u001b[39m(\u001b[38;5;241m50\u001b[39m\u001b[38;5;241m*\u001b[39m\u001b[38;5;124m\"\u001b[39m\u001b[38;5;124m=\u001b[39m\u001b[38;5;124m\"\u001b[39m)\n",
      "File \u001b[0;32m~/.local/lib/python3.10/site-packages/pyshark/capture/capture.py:232\u001b[0m, in \u001b[0;36mCapture._packets_from_tshark_sync\u001b[0;34m(self, packet_count, existing_process)\u001b[0m\n\u001b[1;32m    224\u001b[0m \u001b[38;5;124;03m\"\"\"Returns a generator of packets.\u001b[39;00m\n\u001b[1;32m    225\u001b[0m \n\u001b[1;32m    226\u001b[0m \u001b[38;5;124;03mThis is the sync version of packets_from_tshark. It wait for the completion of each coroutine and\u001b[39;00m\n\u001b[0;32m   (...)\u001b[0m\n\u001b[1;32m    229\u001b[0m \u001b[38;5;124;03m:param packet_count: If given, stops after this amount of packets is captured.\u001b[39;00m\n\u001b[1;32m    230\u001b[0m \u001b[38;5;124;03m\"\"\"\u001b[39;00m\n\u001b[1;32m    231\u001b[0m \u001b[38;5;66;03m# NOTE: This has code duplication with the async version, think about how to solve this\u001b[39;00m\n\u001b[0;32m--> 232\u001b[0m tshark_process \u001b[38;5;241m=\u001b[39m existing_process \u001b[38;5;129;01mor\u001b[39;00m \u001b[38;5;28;43mself\u001b[39;49m\u001b[38;5;241;43m.\u001b[39;49m\u001b[43meventloop\u001b[49m\u001b[38;5;241;43m.\u001b[39;49m\u001b[43mrun_until_complete\u001b[49m\u001b[43m(\u001b[49m\u001b[38;5;28;43mself\u001b[39;49m\u001b[38;5;241;43m.\u001b[39;49m\u001b[43m_get_tshark_process\u001b[49m\u001b[43m(\u001b[49m\u001b[43m)\u001b[49m\u001b[43m)\u001b[49m\n\u001b[1;32m    233\u001b[0m psml_structure, data \u001b[38;5;241m=\u001b[39m \u001b[38;5;28mself\u001b[39m\u001b[38;5;241m.\u001b[39meventloop\u001b[38;5;241m.\u001b[39mrun_until_complete(\u001b[38;5;28mself\u001b[39m\u001b[38;5;241m.\u001b[39m_get_psml_struct(tshark_process\u001b[38;5;241m.\u001b[39mstdout))\n\u001b[1;32m    234\u001b[0m packets_captured \u001b[38;5;241m=\u001b[39m \u001b[38;5;241m0\u001b[39m\n",
      "File \u001b[0;32m/usr/lib/python3.10/asyncio/base_events.py:622\u001b[0m, in \u001b[0;36mBaseEventLoop.run_until_complete\u001b[0;34m(self, future)\u001b[0m\n\u001b[1;32m    611\u001b[0m \u001b[38;5;124;03m\"\"\"Run until the Future is done.\u001b[39;00m\n\u001b[1;32m    612\u001b[0m \n\u001b[1;32m    613\u001b[0m \u001b[38;5;124;03mIf the argument is a coroutine, it is wrapped in a Task.\u001b[39;00m\n\u001b[0;32m   (...)\u001b[0m\n\u001b[1;32m    619\u001b[0m \u001b[38;5;124;03mReturn the Future's result, or raise its exception.\u001b[39;00m\n\u001b[1;32m    620\u001b[0m \u001b[38;5;124;03m\"\"\"\u001b[39;00m\n\u001b[1;32m    621\u001b[0m \u001b[38;5;28mself\u001b[39m\u001b[38;5;241m.\u001b[39m_check_closed()\n\u001b[0;32m--> 622\u001b[0m \u001b[38;5;28;43mself\u001b[39;49m\u001b[38;5;241;43m.\u001b[39;49m\u001b[43m_check_running\u001b[49m\u001b[43m(\u001b[49m\u001b[43m)\u001b[49m\n\u001b[1;32m    624\u001b[0m new_task \u001b[38;5;241m=\u001b[39m \u001b[38;5;129;01mnot\u001b[39;00m futures\u001b[38;5;241m.\u001b[39misfuture(future)\n\u001b[1;32m    625\u001b[0m future \u001b[38;5;241m=\u001b[39m tasks\u001b[38;5;241m.\u001b[39mensure_future(future, loop\u001b[38;5;241m=\u001b[39m\u001b[38;5;28mself\u001b[39m)\n",
      "File \u001b[0;32m/usr/lib/python3.10/asyncio/base_events.py:582\u001b[0m, in \u001b[0;36mBaseEventLoop._check_running\u001b[0;34m(self)\u001b[0m\n\u001b[1;32m    580\u001b[0m \u001b[38;5;28;01mdef\u001b[39;00m \u001b[38;5;21m_check_running\u001b[39m(\u001b[38;5;28mself\u001b[39m):\n\u001b[1;32m    581\u001b[0m     \u001b[38;5;28;01mif\u001b[39;00m \u001b[38;5;28mself\u001b[39m\u001b[38;5;241m.\u001b[39mis_running():\n\u001b[0;32m--> 582\u001b[0m         \u001b[38;5;28;01mraise\u001b[39;00m \u001b[38;5;167;01mRuntimeError\u001b[39;00m(\u001b[38;5;124m'\u001b[39m\u001b[38;5;124mThis event loop is already running\u001b[39m\u001b[38;5;124m'\u001b[39m)\n\u001b[1;32m    583\u001b[0m     \u001b[38;5;28;01mif\u001b[39;00m events\u001b[38;5;241m.\u001b[39m_get_running_loop() \u001b[38;5;129;01mis\u001b[39;00m \u001b[38;5;129;01mnot\u001b[39;00m \u001b[38;5;28;01mNone\u001b[39;00m:\n\u001b[1;32m    584\u001b[0m         \u001b[38;5;28;01mraise\u001b[39;00m \u001b[38;5;167;01mRuntimeError\u001b[39;00m(\n\u001b[1;32m    585\u001b[0m             \u001b[38;5;124m'\u001b[39m\u001b[38;5;124mCannot run the event loop while another loop is running\u001b[39m\u001b[38;5;124m'\u001b[39m)\n",
      "\u001b[0;31mRuntimeError\u001b[0m: This event loop is already running"
     ]
    }
   ],
   "source": [
    "import pyshark\n",
    "cap = pyshark.FileCapture('./SSHv2.cap')\n",
    "\n",
    "for packet in cap:\n",
    "    print(packet)\n",
    "    print(50*\"=\")"
   ]
  },
  {
   "cell_type": "markdown",
   "id": "6dd59724",
   "metadata": {},
   "source": [
    "Preko `cap` spremenljivke lahko sedaj iteriramo in pridobimo vsak posamezen paketek."
   ]
  },
  {
   "cell_type": "markdown",
   "id": "308268f7",
   "metadata": {},
   "source": [
    "Če želimo hiter pregled lahko podamo parameter `only_summaries = True `"
   ]
  },
  {
   "cell_type": "markdown",
   "id": "6a2a63b4",
   "metadata": {},
   "source": [
    "*02_only_summaries.py*"
   ]
  },
  {
   "cell_type": "code",
   "execution_count": null,
   "id": "dd353cc6",
   "metadata": {},
   "outputs": [],
   "source": [
    "import pyshark\n",
    "cap = pyshark.FileCapture('./SSHv2.cap', only_summaries=True)\n",
    "\n",
    "for packet in cap:\n",
    "    print(packet)"
   ]
  },
  {
   "cell_type": "markdown",
   "id": "d4f19414",
   "metadata": {},
   "source": [
    "Za hitrejši pregled lahko tudi uporabimo Wireshark filter - `display_filter` parameter."
   ]
  },
  {
   "cell_type": "markdown",
   "id": "41138613",
   "metadata": {},
   "source": [
    "V parameter vpišemo display filter - dokumentacija https://www.wireshark.org/docs/man-pages/wireshark-filter.html"
   ]
  },
  {
   "cell_type": "markdown",
   "id": "5895686e",
   "metadata": {},
   "source": [
    "Lahko recimo obdržimo vse paketke, ki vsebujejo ssh polje."
   ]
  },
  {
   "cell_type": "markdown",
   "id": "8ca15a9e",
   "metadata": {},
   "source": [
    "*03_display_filter.py*"
   ]
  },
  {
   "cell_type": "code",
   "execution_count": null,
   "id": "50eeacf2",
   "metadata": {},
   "outputs": [],
   "source": [
    "import pyshark\n",
    "cap = pyshark.FileCapture('./SSHv2.cap', only_summaries=True, display_filter=\"ssh\")\n",
    "\n",
    "for packet in cap:\n",
    "    print(packet)"
   ]
  },
  {
   "cell_type": "markdown",
   "id": "baeaf173",
   "metadata": {},
   "source": [
    "---"
   ]
  },
  {
   "cell_type": "markdown",
   "id": "9fc46560",
   "metadata": {},
   "source": [
    "Če želimo paketke zajemati v živo lahko to storimo z `LiveCapture` metodo."
   ]
  },
  {
   "cell_type": "markdown",
   "id": "f8f555ae",
   "metadata": {},
   "source": [
    "*04_live_capture.py*"
   ]
  },
  {
   "cell_type": "code",
   "execution_count": null,
   "id": "64cdd3ec",
   "metadata": {},
   "outputs": [],
   "source": [
    "import pyshark\n",
    "\n",
    "capture = pyshark.LiveCapture(interface='wlp4s0') # Poglej da daš ta prav interface kle..\n",
    "'''\n",
    "$ ip r | grep default\n",
    "> default via 10.1.1.1 dev wlp4s0 proto dhcp metric 600 \n",
    "\n",
    "default interface je wlp4s0\n",
    "'''\n",
    "for packet in capture.sniff_continuously(packet_count=5):\n",
    "    print(packet)\n",
    "    print(50*\"=\")\n"
   ]
  },
  {
   "cell_type": "markdown",
   "id": "a368d5f1",
   "metadata": {},
   "source": [
    "Na začetku definiramo interface nato pa z metodo `sniff_continiously` začnemo z branjem paketkov. Lahko definiramo `packet_count`, kar pomeni, da bomo prebrali toliko paketkov in potem zaključili s sniffingom. Lahko pa ne definiramo in beremo paketne neprestano."
   ]
  },
  {
   "cell_type": "markdown",
   "id": "ee1c4ce5",
   "metadata": {},
   "source": [
    "> Next, the two methods sniff() and sniff_continuously() of the capture object collect the network packets. sniff() returns to the caller as soon as all the requested packets have been collected. In contrast, sniff_continuously() delivers a single packet to the caller as soon as it was collected. This allows a live stream of the network traffic."
   ]
  },
  {
   "cell_type": "markdown",
   "id": "d4335d80",
   "metadata": {},
   "source": [
    "*05_continuous_sniffing.py*"
   ]
  },
  {
   "cell_type": "code",
   "execution_count": null,
   "id": "ed70e45d",
   "metadata": {},
   "outputs": [],
   "source": [
    "import pyshark\n",
    "\n",
    "capture = pyshark.LiveCapture(interface='wlp4s0', only_summaries=True) # Poglej da daš ta prav interface kle..\n",
    "\n",
    "for packet in capture.sniff_continuously():\n",
    "    print(packet)"
   ]
  },
  {
   "cell_type": "markdown",
   "id": "620cc1d7",
   "metadata": {},
   "source": [
    "---"
   ]
  },
  {
   "cell_type": "markdown",
   "id": "fd101712",
   "metadata": {},
   "source": [
    "Znotraj paket objekta lahko najdemo vse njegove informacije. Za primer poglejmo skripto kjer filtriramo DNS query."
   ]
  },
  {
   "cell_type": "markdown",
   "id": "1c2b15e0",
   "metadata": {},
   "source": [
    "*06_dns_filtering.py*"
   ]
  },
  {
   "cell_type": "code",
   "execution_count": null,
   "id": "70962f41",
   "metadata": {},
   "outputs": [],
   "source": [
    "from struct import pack\n",
    "import pyshark\n",
    "\n",
    "capture = pyshark.LiveCapture(interface='wlp4s0') # Poglej da daš ta prav interface kle..\n",
    "\n",
    "for packet in capture.sniff_continuously():\n",
    "    #print(packet.layers)\n",
    "    if \"dns\" in packet:\n",
    "        if packet.dns.qry_name:\n",
    "            if \"ip\" in packet:\n",
    "                print('DNS Request from %s: %s' % (packet.ip.src, packet.dns.qry_name))\n",
    "            elif \"ipv6\" in packet:\n",
    "                print('DNS Request from %s: %s' % (packet.ipv6.src, packet.dns.qry_name))\n",
    "        elif packet.dns.resp_name:\n",
    "            if \"ip\" in packet:\n",
    "                print('DNS Response from %s: %s' % (packet.ip.src, packet.dns.resp_name))\n",
    "            elif \"ipv6\" in packet:\n",
    "                print('DNS Response from %s: %s' % (packet.ipv6.src, packet.dns.resp_name))\n",
    "\n",
    "\n",
    "        print(50*\"=\")"
   ]
  },
  {
   "cell_type": "markdown",
   "id": "e97735c2",
   "metadata": {},
   "source": [
    "Če želimo shraniti paketke v svojo datoteko lahko to naredimo sledeče:"
   ]
  },
  {
   "cell_type": "markdown",
   "id": "250d5f14",
   "metadata": {},
   "source": [
    "*07_saving_to_file.py*"
   ]
  },
  {
   "cell_type": "code",
   "execution_count": null,
   "id": "acff2029",
   "metadata": {},
   "outputs": [],
   "source": [
    "import pyshark\n",
    "\n",
    "capture = pyshark.LiveCapture(interface='wlp4s0', output_file=\"moj.cap\") # Poglej da daš ta prav interface kle..\n",
    "\n",
    "capture.sniff(packet_count=5)\n",
    "for packet in capture:\n",
    "    print(packet)\n",
    "    \n",
    "    \n",
    "cap = pyshark.FileCapture('./moj.cap')\n",
    "for packet in cap:\n",
    "    print(packet)\n",
    "    print(50*\"=\")"
   ]
  },
  {
   "cell_type": "markdown",
   "id": "1d04e6a0",
   "metadata": {},
   "source": [
    "---"
   ]
  },
  {
   "cell_type": "code",
   "execution_count": null,
   "id": "66e820d3",
   "metadata": {},
   "outputs": [],
   "source": []
  },
  {
   "cell_type": "code",
   "execution_count": null,
   "id": "e5aeffab",
   "metadata": {},
   "outputs": [],
   "source": []
  },
  {
   "cell_type": "code",
   "execution_count": null,
   "id": "b8f1e755",
   "metadata": {},
   "outputs": [],
   "source": []
  }
 ],
 "metadata": {
  "kernelspec": {
   "display_name": "Python 3 (ipykernel)",
   "language": "python",
   "name": "python3"
  },
  "language_info": {
   "codemirror_mode": {
    "name": "ipython",
    "version": 3
   },
   "file_extension": ".py",
   "mimetype": "text/x-python",
   "name": "python",
   "nbconvert_exporter": "python",
   "pygments_lexer": "ipython3",
   "version": "3.10.4"
  }
 },
 "nbformat": 4,
 "nbformat_minor": 5
}
