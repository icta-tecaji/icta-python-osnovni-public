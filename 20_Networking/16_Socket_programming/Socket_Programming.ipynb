{
 "cells": [
  {
   "cell_type": "markdown",
   "metadata": {},
   "source": [
    "# Socket Programming"
   ]
  },
  {
   "cell_type": "markdown",
   "metadata": {},
   "source": [
    "Viri:\n",
    "- [Socket Programming in Python (Guide)](https://realpython.com/python-sockets/) "
   ]
  },
  {
   "cell_type": "markdown",
   "metadata": {},
   "source": [
    "Sockets and the socket API are used to send messages across a network. They provide a form of inter-process communication (IPC). The network can be a logical, local network to the computer, or one that’s physically connected to an external network, with its own connections to other networks. The obvious example is the Internet, which you connect to via your ISP."
   ]
  },
  {
   "cell_type": "markdown",
   "metadata": {},
   "source": [
    "By the end of this tutorial, you’ll understand how to use the main functions and methods in Python’s socket module to write your own client-server applications. This includes showing you how to use a custom class to send messages and data between endpoints that you can build upon and utilize for your own applications.\n"
   ]
  },
  {
   "cell_type": "markdown",
   "metadata": {},
   "source": [
    "## Background"
   ]
  },
  {
   "cell_type": "markdown",
   "metadata": {},
   "source": [
    "Sockets have a long history. Their use originated with ARPANET in 1971 and later became an API in the Berkeley Software Distribution (BSD) operating system released in 1983 called Berkeley sockets.\n",
    "\n",
    "When the Internet took off in the 1990s with the World Wide Web, so did network programming. Web servers and browsers weren’t the only applications taking advantage of newly connected networks and using sockets. Client-server applications of all types and sizes came into widespread use.\n",
    "\n",
    "Today, although the underlying protocols used by the socket API have evolved over the years, and we’ve seen new ones, the low-level API has remained the same.\n",
    "\n",
    "The most common type of socket applications are client-server applications, where one side acts as the server and waits for connections from clients. This is the type of application that I’ll be covering in this tutorial. More specifically, we’ll look at the socket API for Internet sockets, sometimes called Berkeley or BSD sockets. There are also Unix domain sockets, which can only be used to communicate between processes on the same host."
   ]
  },
  {
   "cell_type": "markdown",
   "metadata": {},
   "source": [
    "## Socket API Overview"
   ]
  },
  {
   "cell_type": "markdown",
   "metadata": {},
   "source": [
    "Python’s socket module provides an interface to the Berkeley sockets API. This is the module that we’ll use and discuss in this tutorial.\n",
    "\n",
    "The primary socket API functions and methods in this module are:\n",
    "- socket()\n",
    "- bind()\n",
    "- listen()\n",
    "- accept()\n",
    "- connect()\n",
    "- connect_ex()\n",
    "- send()\n",
    "- recv()\n",
    "- close()"
   ]
  },
  {
   "cell_type": "markdown",
   "metadata": {},
   "source": [
    "Python provides a convenient and consistent API that maps directly to these system calls, their C counterparts. We’ll look at how these are used together in the next section."
   ]
  },
  {
   "cell_type": "markdown",
   "metadata": {},
   "source": [
    "<p>As part of its standard library, Python also has classes that make using these low-level socket functions easier. Although it’s not covered in this tutorial, see the <a href=\"https://docs.python.org/3/library/socketserver.html\">socketserver module</a>, a framework for network servers. There are also many modules available that implement higher-level Internet protocols like HTTP and SMTP. For an overview, see <a href=\"https://docs.python.org/3/library/internet.html\">Internet Protocols and Support</a>.</p>"
   ]
  },
  {
   "cell_type": "markdown",
   "metadata": {},
   "source": [
    "## TCP Sockets"
   ]
  },
  {
   "cell_type": "markdown",
   "metadata": {},
   "source": [
    "As you’ll see shortly, we’ll create a socket object using socket.socket() and specify the socket type as socket.SOCK_STREAM. When you do that, the default protocol that’s used is the Transmission Control Protocol (TCP). This is a good default and probably what you want."
   ]
  },
  {
   "cell_type": "markdown",
   "metadata": {},
   "source": [
    "Why should you use TCP? The Transmission Control Protocol (TCP):\n",
    "- Is reliable: packets dropped in the network are detected and retransmitted by the sender.\n",
    "- Has in-order data delivery: data is read by your application in the order it was written by the sender."
   ]
  },
  {
   "cell_type": "markdown",
   "metadata": {},
   "source": [
    "In contrast, User Datagram Protocol (UDP) sockets created with socket.SOCK_DGRAM aren’t reliable, and data read by the receiver can be out-of-order from the sender’s writes.\n",
    "\n",
    "Why is this important? Networks are a best-effort delivery system. There’s no guarantee that your data will reach its destination or that you’ll receive what’s been sent to you.\n",
    "\n",
    "Network devices (for example, routers and switches), have finite bandwidth available and their own inherent system limitations. They have CPUs, memory, buses, and interface packet buffers, just like our clients and servers. TCP relieves you from having to worry about packet loss, data arriving out-of-order, and many other things that invariably happen when you’re communicating across a network."
   ]
  },
  {
   "cell_type": "markdown",
   "metadata": {},
   "source": [
    "In the diagram below, let’s look at the sequence of socket API calls and data flow for TCP:"
   ]
  },
  {
   "cell_type": "markdown",
   "metadata": {},
   "source": [
    "<img loading=\"lazy\" class=\"img-fluid mx-auto d-block w-66\" src=\"https://files.realpython.com/media/sockets-tcp-flow.1da426797e37.jpg\" width=\"769\" height=\"866\" srcset=\"https://robocrop.realpython.net/?url=https%3A//files.realpython.com/media/sockets-tcp-flow.1da426797e37.jpg&amp;w=192&amp;sig=09c2a0657d15c3c7b6ad900fd200d3c09e37d6d7 192w, https://robocrop.realpython.net/?url=https%3A//files.realpython.com/media/sockets-tcp-flow.1da426797e37.jpg&amp;w=384&amp;sig=958fd2ae24d5d337efdff2fcaf7ed57038f65aa9 384w, https://files.realpython.com/media/sockets-tcp-flow.1da426797e37.jpg 769w\" sizes=\"75vw\" alt=\"TCP socket flow\">"
   ]
  },
  {
   "cell_type": "markdown",
   "metadata": {},
   "source": [
    "The left-hand column represents the server. On the right-hand side is the client.\n",
    "\n",
    "Starting in the top left-hand column, note the API calls the server makes to setup a “listening” socket:\n",
    "- socket()\n",
    "- bind()\n",
    "- listen()\n",
    "- accept()\n",
    "\n",
    "A listening socket does just what it sounds like. It listens for connections from clients. When a client connects, the server calls accept() to accept, or complete, the connection.\n",
    "\n",
    "The client calls connect() to establish a connection to the server and initiate the three-way handshake. The handshake step is important since it ensures that each side of the connection is reachable in the network, in other words that the client can reach the server and vice-versa. It may be that only one host, client or server, can reach the other.\n",
    "\n",
    "In the middle is the round-trip section, where data is exchanged between the client and server using calls to send() and recv().\n",
    "\n",
    "At the bottom, the client and server close() their respective sockets."
   ]
  },
  {
   "cell_type": "markdown",
   "metadata": {},
   "source": [
    "## Echo Client and Server"
   ]
  },
  {
   "cell_type": "markdown",
   "metadata": {},
   "source": [
    "Now that you’ve seen an overview of the socket API and how the client and server communicate, let’s create our first client and server. We’ll begin with a simple implementation. The server will simply echo whatever it receives back to the client."
   ]
  },
  {
   "cell_type": "markdown",
   "metadata": {},
   "source": [
    "### Echo Server"
   ]
  },
  {
   "cell_type": "markdown",
   "metadata": {},
   "source": [
    "Here’s the server, echo-server.py:\n",
    "\n"
   ]
  },
  {
   "cell_type": "code",
   "execution_count": null,
   "metadata": {},
   "outputs": [],
   "source": [
    "# echo-server.py\n",
    "\n",
    "import socket\n",
    "\n",
    "HOST = \"127.0.0.1\"  # Standard loopback interface address (localhost)\n",
    "PORT = 65432  # Port to listen on (non-privileged ports are > 1023)\n",
    "\n",
    "with socket.socket(socket.AF_INET, socket.SOCK_STREAM) as s:\n",
    "    s.bind((HOST, PORT))\n",
    "    s.listen()\n",
    "    conn, addr = s.accept()\n",
    "    with conn:\n",
    "        print(f\"Connected by {addr}\")\n",
    "        while True:\n",
    "            data = conn.recv(1024)\n",
    "            if not data:\n",
    "                break\n",
    "            conn.sendall(data)"
   ]
  },
  {
   "cell_type": "markdown",
   "metadata": {},
   "source": [
    "Let’s walk through each API call and see what’s happening.\n",
    "\n",
    "socket.socket() creates a socket object that supports the context manager type, so you can use it in a with statement. There’s no need to call s.close():"
   ]
  },
  {
   "cell_type": "code",
   "execution_count": null,
   "metadata": {},
   "outputs": [],
   "source": [
    "with socket.socket(socket.AF_INET, socket.SOCK_STREAM) as s:\n",
    "    pass  # Use the socket object without calling s.close()."
   ]
  },
  {
   "cell_type": "markdown",
   "metadata": {},
   "source": [
    "The arguments passed to socket() specify the address family and socket type. AF_INET is the Internet address family for IPv4. SOCK_STREAM is the socket type for TCP, the protocol that will be used to transport our messages in the network.\n",
    "\n",
    "bind() is used to associate the socket with a specific network interface and port number:"
   ]
  },
  {
   "cell_type": "code",
   "execution_count": null,
   "metadata": {},
   "outputs": [],
   "source": [
    "HOST = '127.0.0.1'  # Standard loopback interface address (localhost)\n",
    "PORT = 65432        # Port to listen on (non-privileged ports are > 1023)\n",
    "\n",
    "# ...\n",
    "\n",
    "s.bind((HOST, PORT))"
   ]
  },
  {
   "cell_type": "markdown",
   "metadata": {},
   "source": [
    "The values passed to bind() depend on the address family of the socket. In this example, we’re using socket.AF_INET (IPv4). So it expects a 2-tuple: (host, port).\n",
    "\n",
    "host can be a hostname, IP address, or empty string. If an IP address is used, host should be an IPv4-formatted address string. The IP address 127.0.0.1 is the standard IPv4 address for the loopback interface, so only processes on the host will be able to connect to the server. If you pass an empty string, the server will accept connections on all available IPv4 interfaces.\n",
    "\n",
    "port should be an integer from 1-65535 (0 is reserved). It’s the TCP port number to accept connections on from clients. Some systems may require superuser privileges if the port is < 1024."
   ]
  },
  {
   "cell_type": "markdown",
   "metadata": {},
   "source": [
    "Here’s a note on using hostnames with bind():"
   ]
  },
  {
   "cell_type": "markdown",
   "metadata": {},
   "source": [
    "> “If you use a hostname in the host portion of IPv4/v6 socket address, the program may show a non-deterministic behavior, as Python uses the first address returned from the DNS resolution. The socket address will be resolved differently into an actual IPv4/v6 address, depending on the results from DNS resolution and/or the host configuration. For deterministic behavior use a numeric address in host portion.”"
   ]
  },
  {
   "cell_type": "markdown",
   "metadata": {},
   "source": [
    "For now, just understand that when using a hostname, you could see different results depending on what’s returned from the name resolution process.\n",
    "\n",
    "It could be anything. The first time you run your application, it might be the address 10.1.2.3. The next time it’s a different address, 192.168.0.1. The third time, it could be 172.16.7.8, and so on.\n",
    "\n",
    "In the server example, `.listen()` enables a server to accept connections. It makes the server a “listening” socket:"
   ]
  },
  {
   "cell_type": "code",
   "execution_count": null,
   "metadata": {},
   "outputs": [],
   "source": [
    "# ...\n",
    "\n",
    "with socket.socket(socket.AF_INET, socket.SOCK_STREAM) as s:\n",
    "    s.bind((HOST, PORT))\n",
    "    s.listen()\n",
    "    conn, addr = s.accept()\n",
    "    # ..."
   ]
  },
  {
   "cell_type": "markdown",
   "metadata": {},
   "source": [
    "The `.listen()` method has a backlog parameter. It specifies the number of unaccepted connections that the system will allow before refusing new connections. Starting in Python 3.5, it’s optional. If not specified, a default backlog value is chosen.\n",
    "\n",
    "If your server receives a lot of connection requests simultaneously, increasing the backlog value may help by setting the maximum length of the queue for pending connections. The maximum value is system dependent. For example, on Linux, see `/proc/sys/net/core/somaxconn`."
   ]
  },
  {
   "cell_type": "markdown",
   "metadata": {},
   "source": [
    "The `.accept()` method blocks execution and waits for an incoming connection. When a client connects, it returns a new socket object representing the connection and a tuple holding the address of the client. The tuple will contain (host, port) for IPv4 connections or (host, port, flowinfo, scopeid) for IPv6. See Socket Address Families in the reference section for details on the tuple values.\n",
    "\n",
    "One thing that’s imperative to understand is that you now have a new socket object from `.accept()`. This is important because it’s the socket that you’ll use to communicate with the client. It’s distinct from the listening socket that the server is using to accept new connections:"
   ]
  },
  {
   "cell_type": "code",
   "execution_count": null,
   "metadata": {},
   "outputs": [],
   "source": [
    "    conn, addr = s.accept()\n",
    "    with conn:\n",
    "        print(f\"Connected by {addr}\")\n",
    "        while True:\n",
    "            data = conn.recv(1024)\n",
    "            if not data:\n",
    "                break\n",
    "            conn.sendall(data)"
   ]
  },
  {
   "cell_type": "markdown",
   "metadata": {},
   "source": [
    "After getting the client socket object conn from accept(), an infinite while loop is used to loop over blocking calls to conn.recv(). This reads whatever data the client sends and echoes it back using conn.sendall().\n",
    "\n",
    "If conn.recv() returns an empty bytes object, b'', then the client closed the connection and the loop is terminated. The with statement is used with conn to automatically close the socket at the end of the block."
   ]
  },
  {
   "cell_type": "markdown",
   "metadata": {},
   "source": [
    "### Echo Client"
   ]
  },
  {
   "cell_type": "markdown",
   "metadata": {},
   "source": [
    "Now let’s look at the client, echo-client.py:"
   ]
  },
  {
   "cell_type": "code",
   "execution_count": null,
   "metadata": {},
   "outputs": [],
   "source": [
    "# echo-client.py\n",
    "\n",
    "import socket\n",
    "\n",
    "HOST = \"127.0.0.1\"  # The server's hostname or IP address\n",
    "PORT = 65432  # The port used by the server\n",
    "\n",
    "with socket.socket(socket.AF_INET, socket.SOCK_STREAM) as s:\n",
    "    s.connect((HOST, PORT))\n",
    "    s.sendall(b\"Hello, world\")\n",
    "    data = s.recv(1024)\n",
    "\n",
    "print(f\"Received {data!r}\")"
   ]
  },
  {
   "cell_type": "markdown",
   "metadata": {},
   "source": [
    "In comparison to the server, the client is pretty simple. It creates a socket object, uses `.connect()` to connect to the server and calls `s.sendall()` to send its message. Lastly, it calls `s.recv()` to read the server’s reply and then prints it."
   ]
  },
  {
   "cell_type": "markdown",
   "metadata": {},
   "source": [
    "### Running the Echo Client and Server"
   ]
  },
  {
   "cell_type": "markdown",
   "metadata": {},
   "source": [
    "Let’s run the client and server to see how they behave and inspect what’s happening."
   ]
  },
  {
   "cell_type": "markdown",
   "metadata": {},
   "source": [
    "Open a terminal or command prompt, navigate to the directory that contains your scripts, ensure that you have Python 3.6 or above installed and on your path, then run the server:\n",
    "\n"
   ]
  },
  {
   "cell_type": "markdown",
   "metadata": {},
   "source": [
    "    python echo-server.py"
   ]
  },
  {
   "cell_type": "markdown",
   "metadata": {},
   "source": [
    "Your terminal will appear to hang. That’s because the server is blocked (suspended) in a call:"
   ]
  },
  {
   "cell_type": "code",
   "execution_count": null,
   "metadata": {},
   "outputs": [],
   "source": [
    "conn, addr = s.accept()"
   ]
  },
  {
   "cell_type": "markdown",
   "metadata": {},
   "source": [
    "Your terminal will appear to hang. That’s because the server is blocked, or suspended, on `.accept()`:"
   ]
  },
  {
   "cell_type": "code",
   "execution_count": null,
   "metadata": {},
   "outputs": [],
   "source": [
    "# ...\n",
    "\n",
    "with socket.socket(socket.AF_INET, socket.SOCK_STREAM) as s:\n",
    "    s.bind((HOST, PORT))\n",
    "    s.listen()\n",
    "    conn, addr = s.accept() # hang here\n",
    "    with conn:\n",
    "        print(f\"Connected by {addr}\")"
   ]
  },
  {
   "cell_type": "markdown",
   "metadata": {},
   "source": [
    "It’s waiting for a client connection. Now, open another terminal window or command prompt and run the client:"
   ]
  },
  {
   "cell_type": "markdown",
   "metadata": {},
   "source": [
    "    python echo-client.py "
   ]
  },
  {
   "cell_type": "markdown",
   "metadata": {},
   "source": [
    "In the server window, you should notice something like this:"
   ]
  },
  {
   "cell_type": "markdown",
   "metadata": {},
   "source": [
    "    Connected by ('127.0.0.1', 64623)"
   ]
  },
  {
   "cell_type": "markdown",
   "metadata": {},
   "source": [
    "In the output above, the server printed the addr tuple returned from s.accept(). This is the client’s IP address and TCP port number. The port number, 64623, will most likely be different when you run it on your machine."
   ]
  },
  {
   "cell_type": "markdown",
   "metadata": {},
   "source": [
    "### Viewing Socket State"
   ]
  },
  {
   "cell_type": "markdown",
   "metadata": {},
   "source": [
    "To see the current state of sockets on your host, use netstat. It’s available by default on macOS, Linux, and Windows.\n",
    "\n",
    "Here’s the netstat output after starting the server:"
   ]
  },
  {
   "cell_type": "markdown",
   "metadata": {},
   "source": [
    "    netstat -an | grep 65432"
   ]
  },
  {
   "cell_type": "markdown",
   "metadata": {},
   "source": [
    "Notice that Local Address is 127.0.0.1.65432. If echo-server.py had used HOST = \"\" instead of HOST = \"127.0.0.1\", netstat would show this:\n",
    "\n"
   ]
  },
  {
   "cell_type": "markdown",
   "metadata": {},
   "source": [
    "    netstat -an | grep 65432"
   ]
  },
  {
   "cell_type": "markdown",
   "metadata": {},
   "source": [
    "Local Address is `*.65432`, which means all available host interfaces that support the address family will be used to accept incoming connections. In this example, `socket.AF_INET` was used (IPv4) in the call to socket(). You can see this in the Proto column: tcp4.\n",
    "\n",
    "The output above is trimmed to show the echo server only. You’ll likely see much more output, depending on the system you’re running it on. The things to notice are the columns Proto, Local Address, and (state). In the last example above, netstat shows that the echo server is using an IPv4 TCP socket (tcp4), on port 65432 on all interfaces (*.65432), and it’s in the listening state (LISTEN).\n",
    "\n",
    "Another way to access this, along with additional helpful information, is to use lsof (list open files). It’s available by default on macOS and can be installed on Linux using your package manager, if it’s not already:"
   ]
  },
  {
   "cell_type": "markdown",
   "metadata": {},
   "source": [
    "    lsof -i -n"
   ]
  },
  {
   "cell_type": "markdown",
   "metadata": {},
   "source": [
    "lsof gives you the COMMAND, PID (process ID), and USER (user ID) of open Internet sockets when used with the -i option. Above is the echo server process.\n",
    "\n",
    "netstat and lsof have a lot of options available and differ depending on the OS that you’re running them on. Check the man page or documentation for both. They’re definitely worth spending a little time with and getting to know. You’ll be rewarded. On macOS and Linux, use man netstat and man lsof. For Windows, use netstat /?.\n",
    "\n",
    "Here’s a common error that you’ll encounter when a connection attempt is made to a port with no listening socket:"
   ]
  },
  {
   "cell_type": "markdown",
   "metadata": {},
   "source": [
    "    Traceback (most recent call last):\n",
    "      File \"./echo-client.py\", line 9, in <module>\n",
    "        s.connect((HOST, PORT))\n",
    "    ConnectionRefusedError: [Errno 61] Connection refuse"
   ]
  },
  {
   "cell_type": "markdown",
   "metadata": {},
   "source": [
    "Either the specified port number is wrong or the server isn’t running. Or maybe there’s a firewall in the path that’s blocking the connection, which can be easy to forget about. You may also see the error Connection timed out. Get a firewall rule added that allows the client to connect to the TCP port!"
   ]
  },
  {
   "cell_type": "markdown",
   "metadata": {},
   "source": [
    "## Communication Breakdown"
   ]
  },
  {
   "cell_type": "markdown",
   "metadata": {},
   "source": [
    "Now you’ll take a closer look at how the client and server communicated with each other:"
   ]
  },
  {
   "cell_type": "markdown",
   "metadata": {},
   "source": [
    "<img loading=\"lazy\" class=\"img-fluid mx-auto d-block w-66\" src=\"https://files.realpython.com/media/sockets-loopback-interface.44fa30c53c70.jpg\" width=\"500\" height=\"300\" srcset=\"https://robocrop.realpython.net/?url=https%3A//files.realpython.com/media/sockets-loopback-interface.44fa30c53c70.jpg&amp;w=283&amp;sig=be902b06322b7f4e6a54dc337bbe14462e742a2d 283w, https://robocrop.realpython.net/?url=https%3A//files.realpython.com/media/sockets-loopback-interface.44fa30c53c70.jpg&amp;w=567&amp;sig=44672ac33d89bbe1124a176fb0e49e26bea8ade3 567w, https://files.realpython.com/media/sockets-loopback-interface.44fa30c53c70.jpg 1134w\" sizes=\"75vw\" alt=\"Sockets loopback interface\" data-asset=\"491\">"
   ]
  },
  {
   "cell_type": "markdown",
   "metadata": {},
   "source": [
    "When using the loopback interface (IPv4 address 127.0.0.1 or IPv6 address ::1), data never leaves the host or touches the external network. In the diagram above, the loopback interface is contained inside the host. This represents the internal nature of the loopback interface and shows that connections and data that transit it are local to the host. This is why you’ll also hear the loopback interface and IP address 127.0.0.1 or ::1 referred to as “localhost.”\n",
    "\n",
    "Applications use the loopback interface to communicate with other processes running on the host and for security and isolation from the external network. Because it’s internal and accessible only from within the host, it’s not exposed.\n",
    "\n",
    "You can see this in action if you have an application server that uses its own private database. If it’s not a database used by other servers, it’s probably configured to listen for connections on the loopback interface only. If this is the case, other hosts on the network can’t connect to it.\n",
    "\n",
    "When you use an IP address other than 127.0.0.1 or ::1 in your applications, it’s probably bound to an Ethernet interface that’s connected to an external network. This is your gateway to other hosts outside of your “localhost” kingdom:\n",
    "\n"
   ]
  },
  {
   "cell_type": "markdown",
   "metadata": {},
   "source": [
    "<img loading=\"lazy\" class=\"img-fluid mx-auto d-block w-66\" src=\"https://files.realpython.com/media/sockets-ethernet-interface.aac312541af5.jpg\" width=\"500\" height=\"780\" srcset=\"https://robocrop.realpython.net/?url=https%3A//files.realpython.com/media/sockets-ethernet-interface.aac312541af5.jpg&amp;w=320&amp;sig=e1aabc4d558d8ad5bfca10ad9ae183e3653e13f8 320w, https://robocrop.realpython.net/?url=https%3A//files.realpython.com/media/sockets-ethernet-interface.aac312541af5.jpg&amp;w=640&amp;sig=2329fd241af53cf40a5dcffb6949184979f704b6 640w, https://files.realpython.com/media/sockets-ethernet-interface.aac312541af5.jpg 1280w\" sizes=\"75vw\" alt=\"Sockets ethernet interface\" data-asset=\"492\">"
   ]
  },
  {
   "cell_type": "markdown",
   "metadata": {},
   "source": [
    "Be careful out there. It’s a nasty, cruel world. Be sure to read the section Using Hostnames before venturing from the safe confines of “localhost.” There’s a security note that applies even if you’re not using hostnames but are using IP addresses only."
   ]
  },
  {
   "cell_type": "markdown",
   "metadata": {},
   "source": [
    "## Handling Multiple Connections"
   ]
  },
  {
   "cell_type": "markdown",
   "metadata": {},
   "source": [
    "The echo server definitely has its limitations. The biggest one is that it serves only one client and then exits. The echo client has this limitation too, but there’s an additional problem. When the client uses s.recv(), it’s possible that it will return only one byte, b'H' from b'Hello, world':\n",
    "\n"
   ]
  },
  {
   "cell_type": "code",
   "execution_count": null,
   "metadata": {},
   "outputs": [],
   "source": [
    "# echo-client.py\n",
    "\n",
    "# ...\n",
    "\n",
    "with socket.socket(socket.AF_INET, socket.SOCK_STREAM) as s:\n",
    "    s.connect((HOST, PORT))\n",
    "    s.sendall(b\"Hello, world\")\n",
    "    data = s.recv(1024)\n",
    "\n",
    "print(f\"Received {data!r}\")"
   ]
  },
  {
   "cell_type": "markdown",
   "metadata": {},
   "source": [
    "The bufsize argument of 1024 used above is the maximum amount of data to be received at once. It doesn’t mean that `.recv()` will return 1024 bytes."
   ]
  },
  {
   "cell_type": "markdown",
   "metadata": {},
   "source": [
    "The .send() method also behaves this way. It returns the number of bytes sent, which may be less than the size of the data passed in. You’re responsible for checking this and calling .send() as many times as needed to send all of the data:"
   ]
  },
  {
   "cell_type": "markdown",
   "metadata": {},
   "source": [
    "> “Applications are responsible for checking that all data has been sent; if only some of the data was transmitted, the application needs to attempt delivery of the remaining data.”"
   ]
  },
  {
   "cell_type": "markdown",
   "metadata": {},
   "source": [
    "In the example above, you avoided having to do this by using `.sendall()`:"
   ]
  },
  {
   "cell_type": "markdown",
   "metadata": {},
   "source": [
    "> “Unlike send(), this method continues to send data from bytes until either all data has been sent or an error occurs. None is returned on success.”"
   ]
  },
  {
   "cell_type": "markdown",
   "metadata": {},
   "source": [
    "You have two problems at this point:\n",
    "- How do you handle multiple connections concurrently?\n",
    "- You need to call .send() and .recv() until all data is sent or received."
   ]
  },
  {
   "cell_type": "markdown",
   "metadata": {},
   "source": [
    "What can you do? There are many approaches to concurrency. A popular approach is to use Asynchronous I/O. asyncio was introduced into the standard library in Python 3.4. The traditional choice is to use threads.\n",
    "\n",
    "The trouble with concurrency is it’s hard to get right. There are many subtleties to consider and guard against. All it takes is for one of these to manifest itself and your application may suddenly fail in not-so-subtle ways.\n",
    "\n",
    "This isn’t meant to scare you away from learning and using concurrent programming. If your application needs to scale, it’s a necessity if you want to use more than one processor or one core. However, for this tutorial, you’ll use something that’s even more traditional than threads and easier to reason about. You’re going to use the granddaddy of system calls: `.select()`.\n",
    "\n",
    "The `.select()` method allows you to check for I/O completion on more than one socket. So you can call .select() to see which sockets have I/O ready for reading and/or writing. But this is Python, so there’s more. You’re going to use the selectors module in the standard library so that the most efficient implementation is used, regardless of the operating system you happen to be running on:"
   ]
  },
  {
   "cell_type": "markdown",
   "metadata": {},
   "source": [
    "> “This module allows high-level and efficient I/O multiplexing, built upon the select module primitives. Users are encouraged to use this module instead, unless they want precise control over the OS-level primitives used.”"
   ]
  },
  {
   "cell_type": "markdown",
   "metadata": {},
   "source": [
    "Still, by using .select(), you’re not able to run concurrently. That said, depending on your workload, this approach may still be plenty fast. It depends on what your application needs to do when it services a request, and the number of clients it needs to support.\n",
    "\n",
    "asyncio uses single-threaded cooperative multitasking and an event loop to manage tasks. With .select(), you’ll be writing your own version of an event loop, albeit more simply and synchronously. When using multiple threads, even though you have concurrency, you currently have to use the GIL (Global Interpreter Lock) with CPython and PyPy. This effectively limits the amount of work you can do in parallel anyway.\n",
    "\n",
    "This is all to say that using .select() may be a perfectly fine choice. Don’t feel like you have to use asyncio, threads, or the latest asynchronous library. Typically, in a network application, your application is I/O bound anyway: it could be waiting on the local network, for endpoints on the other side of the network, for disk writes, and so forth.\n",
    "\n",
    "If you’re getting requests from clients that initiate CPU bound work, look at the concurrent.futures module. It contains the class ProcessPoolExecutor, which uses a pool of processes to execute calls asynchronously.\n",
    "\n",
    "If you use multiple processes, the operating system is able to schedule your Python code to run in parallel on multiple processors or cores, without the GIL. For ideas and inspiration, see the PyCon talk John Reese - Thinking Outside the GIL with AsyncIO and Multiprocessing - PyCon 2018.\n",
    "\n",
    "In the next section, you’ll look at examples of a server and client that address these problems. They use .select() to handle multiple connections simultaneously and call .send() and .recv() as many times as needed."
   ]
  },
  {
   "cell_type": "markdown",
   "metadata": {},
   "source": [
    "## Multi-Connection Client and Server"
   ]
  },
  {
   "cell_type": "markdown",
   "metadata": {},
   "source": [
    "In the next two sections, you’ll create a server and client that handles multiple connections using a selector object created from the selectors module."
   ]
  },
  {
   "cell_type": "markdown",
   "metadata": {},
   "source": [
    "### Multi-Connection Server"
   ]
  },
  {
   "cell_type": "markdown",
   "metadata": {},
   "source": [
    "First, turn your attention to the multi-connection server. The first part sets up the listening socket:"
   ]
  },
  {
   "cell_type": "code",
   "execution_count": null,
   "metadata": {},
   "outputs": [],
   "source": [
    "# multiconn-server.py\n",
    "\n",
    "import sys\n",
    "import socket\n",
    "import selectors\n",
    "import types\n",
    "\n",
    "sel = selectors.DefaultSelector()\n",
    "\n",
    "# ...\n",
    "\n",
    "host, port = sys.argv[1], int(sys.argv[2])\n",
    "lsock = socket.socket(socket.AF_INET, socket.SOCK_STREAM)\n",
    "lsock.bind((host, port))\n",
    "lsock.listen()\n",
    "print(f\"Listening on {(host, port)}\")\n",
    "lsock.setblocking(False)\n",
    "sel.register(lsock, selectors.EVENT_READ, data=None)"
   ]
  },
  {
   "cell_type": "markdown",
   "metadata": {},
   "source": [
    "The biggest difference between this server and the echo server is the call to `lsock.setblocking(False)` to configure the socket in non-blocking mode. Calls made to this socket will no longer block. When it’s used with sel.select(), as you’ll see below, you can wait for events on one or more sockets and then read and write data when it’s ready.\n",
    "\n",
    "`sel.register()` registers the socket to be monitored with `sel.select()` for the events that you’re interested in. For the listening socket, you want read events: `selectors.EVENT_READ`.\n",
    "\n",
    "To store whatever arbitrary data you’d like along with the socket, you’ll use data. It’s returned when .select() returns. You’ll use data to keep track of what’s been sent and received on the socket.\n",
    "\n",
    "Next is the event loop:"
   ]
  },
  {
   "cell_type": "code",
   "execution_count": null,
   "metadata": {},
   "outputs": [],
   "source": [
    "# multiconn-server.py\n",
    "\n",
    "# ...\n",
    "\n",
    "try:\n",
    "    while True:\n",
    "        events = sel.select(timeout=None)\n",
    "        for key, mask in events:\n",
    "            if key.data is None:\n",
    "                accept_wrapper(key.fileobj)\n",
    "            else:\n",
    "                service_connection(key, mask)\n",
    "except KeyboardInterrupt:\n",
    "    print(\"Caught keyboard interrupt, exiting\")\n",
    "finally:\n",
    "    sel.close()"
   ]
  },
  {
   "cell_type": "markdown",
   "metadata": {},
   "source": [
    "`sel.select(timeout=None)` blocks until there are sockets ready for I/O. It returns a list of tuples, one for each socket. Each tuple contains a key and a mask. The key is a SelectorKey namedtuple that contains a fileobj attribute. `key.fileobj` is the socket object, and mask is an event mask of the operations that are ready.\n",
    "\n",
    "If `key.data` is None, then you know it’s from the listening socket and you need to accept the connection. You’ll call your own `accept_wrapper()` function to get the new socket object and register it with the selector. You’ll look at that in a moment.\n",
    "\n",
    "If key.data is not None, then you know it’s a client socket that’s already been accepted, and you need to service it. `service_connection()` is then called with key and mask as arguments, and that’s everything you need to operate on the socket.\n",
    "\n",
    "Here’s what your accept_wrapper() function does:"
   ]
  },
  {
   "cell_type": "code",
   "execution_count": null,
   "metadata": {},
   "outputs": [],
   "source": [
    "# multiconn-server.py\n",
    "\n",
    "# ...\n",
    "\n",
    "def accept_wrapper(sock):\n",
    "    conn, addr = sock.accept()  # Should be ready to read\n",
    "    print(f\"Accepted connection from {addr}\")\n",
    "    conn.setblocking(False)\n",
    "    data = types.SimpleNamespace(addr=addr, inb=b\"\", outb=b\"\")\n",
    "    events = selectors.EVENT_READ | selectors.EVENT_WRITE\n",
    "    sel.register(conn, events, data=data)\n",
    "\n",
    "# ..."
   ]
  },
  {
   "cell_type": "markdown",
   "metadata": {},
   "source": [
    "Because the listening socket was registered for the event `selectors.EVENT_READ`, it should be ready to read. You call `sock.accept()` and then call `conn.setblocking(False)` to put the socket in non-blocking mode.\n",
    "\n",
    "Remember, this is the **main objective in this version of the server because you don’t want it to block. If it blocks, then the entire server is stalled until it returns**. That means other sockets are left waiting even though the server isn’t actively working. This is the dreaded “hang” state that you don’t want your server to be in.\n",
    "\n",
    "Next, you create an object to hold the data that you want included along with the socket using a `SimpleNamespace`. Because you want to know when the client connection is ready for reading and writing, both of those events are set with the bitwise OR operator:"
   ]
  },
  {
   "cell_type": "markdown",
   "metadata": {},
   "source": [
    "The events mask, socket, and data objects are then passed to `sel.register()`.\n",
    "\n",
    "Now take a look at `service_connection()` to see how a client connection is handled when it’s ready:"
   ]
  },
  {
   "cell_type": "code",
   "execution_count": null,
   "metadata": {},
   "outputs": [],
   "source": [
    "# multiconn-server.py\n",
    "\n",
    "# ...\n",
    "\n",
    "def service_connection(key, mask):\n",
    "    sock = key.fileobj\n",
    "    data = key.data\n",
    "    if mask & selectors.EVENT_READ:\n",
    "        recv_data = sock.recv(1024)  # Should be ready to read\n",
    "        if recv_data:\n",
    "            data.outb += recv_data\n",
    "        else:\n",
    "            print(f\"Closing connection to {data.addr}\")\n",
    "            sel.unregister(sock)\n",
    "            sock.close()\n",
    "    if mask & selectors.EVENT_WRITE:\n",
    "        if data.outb:\n",
    "            print(f\"Echoing {data.outb!r} to {data.addr}\")\n",
    "            sent = sock.send(data.outb)  # Should be ready to write\n",
    "            data.outb = data.outb[sent:]\n",
    "\n",
    "# ..."
   ]
  },
  {
   "cell_type": "markdown",
   "metadata": {},
   "source": [
    "This is the **heart of the simple multi-connection server**. key is the namedtuple returned from `.select()` that contains the socket object (fileobj) and data object. **`mask` contains the events that are ready**.\n",
    "\n",
    "If the socket is ready for reading, then `mask` & `selectors.EVENT_READ` will evaluate to True, so `sock.recv()` is called. Any data that’s read is appended to `data.outb` so that it can be sent later.\n",
    "\n",
    "Note the else: block to check if no data is received."
   ]
  },
  {
   "cell_type": "markdown",
   "metadata": {},
   "source": [
    "If no data is received, this means that the client has closed their socket, so the server should too. But don’t forget to call `sel.unregister()` before closing, so it’s no longer monitored by `.select()`.\n",
    "\n",
    "When the socket is ready for writing, which should always be the case for a healthy socket, any received data stored in `data.outb` is echoed to the client using `sock.send()`. The bytes sent are then removed from the send buffer:"
   ]
  },
  {
   "cell_type": "code",
   "execution_count": null,
   "metadata": {},
   "outputs": [],
   "source": [
    "# multiconn-server.py\n",
    "\n",
    "# ...\n",
    "\n",
    "def service_connection(key, mask):\n",
    "\n",
    "    # ...\n",
    "\n",
    "    if mask & selectors.EVENT_WRITE:\n",
    "        if data.outb:\n",
    "            print(f\"Echoing {data.outb!r} to {data.addr}\")\n",
    "            sent = sock.send(data.outb)  # Should be ready to write\n",
    "            data.outb = data.outb[sent:]\n",
    "\n",
    "# ..."
   ]
  },
  {
   "cell_type": "markdown",
   "metadata": {},
   "source": [
    "The `.send()` method returns the number of bytes sent. This number can then be used with slice notation on the `.outb` buffer to discard the bytes sent."
   ]
  },
  {
   "cell_type": "code",
   "execution_count": null,
   "metadata": {},
   "outputs": [],
   "source": [
    "# full code\n",
    "#!/usr/bin/env python3\n",
    "\n",
    "import sys\n",
    "import socket\n",
    "import selectors\n",
    "import types\n",
    "\n",
    "sel = selectors.DefaultSelector()\n",
    "\n",
    "\n",
    "def accept_wrapper(sock):\n",
    "    conn, addr = sock.accept()  # Should be ready to read\n",
    "    print(f\"Accepted connection from {addr}\")\n",
    "    conn.setblocking(False)\n",
    "    data = types.SimpleNamespace(addr=addr, inb=b\"\", outb=b\"\")\n",
    "    events = selectors.EVENT_READ | selectors.EVENT_WRITE\n",
    "    sel.register(conn, events, data=data)\n",
    "\n",
    "\n",
    "def service_connection(key, mask):\n",
    "    sock = key.fileobj\n",
    "    data = key.data\n",
    "    if mask & selectors.EVENT_READ:\n",
    "        recv_data = sock.recv(1024)  # Should be ready to read\n",
    "        if recv_data:\n",
    "            data.outb += recv_data\n",
    "        else:\n",
    "            print(f\"Closing connection to {data.addr}\")\n",
    "            sel.unregister(sock)\n",
    "            sock.close()\n",
    "    if mask & selectors.EVENT_WRITE:\n",
    "        if data.outb:\n",
    "            print(f\"Echoing {data.outb!r} to {data.addr}\")\n",
    "            sent = sock.send(data.outb)  # Should be ready to write\n",
    "            data.outb = data.outb[sent:]\n",
    "\n",
    "\n",
    "if len(sys.argv) != 3:\n",
    "    print(f\"Usage: {sys.argv[0]} <host> <port>\")\n",
    "    sys.exit(1)\n",
    "\n",
    "host, port = sys.argv[1], int(sys.argv[2])\n",
    "lsock = socket.socket(socket.AF_INET, socket.SOCK_STREAM)\n",
    "lsock.bind((host, port))\n",
    "lsock.listen()\n",
    "print(f\"Listening on {(host, port)}\")\n",
    "lsock.setblocking(False)\n",
    "sel.register(lsock, selectors.EVENT_READ, data=None)\n",
    "\n",
    "try:\n",
    "    while True:\n",
    "        events = sel.select(timeout=None)\n",
    "        for key, mask in events:\n",
    "            if key.data is None:\n",
    "                accept_wrapper(key.fileobj)\n",
    "            else:\n",
    "                service_connection(key, mask)\n",
    "except KeyboardInterrupt:\n",
    "    print(\"Caught keyboard interrupt, exiting\")\n",
    "finally:\n",
    "    sel.close()"
   ]
  },
  {
   "cell_type": "markdown",
   "metadata": {},
   "source": [
    "### Multi-Connection Client"
   ]
  },
  {
   "cell_type": "markdown",
   "metadata": {},
   "source": [
    "Now take a look at the multi-connection client, `multiconn-client.py`. It’s very similar to the server, but instead of listening for connections, it starts by initiating connections via `start_connections()`:"
   ]
  },
  {
   "cell_type": "code",
   "execution_count": null,
   "metadata": {},
   "outputs": [],
   "source": [
    "# multiconn-client.py\n",
    "\n",
    "import sys\n",
    "import socket\n",
    "import selectors\n",
    "import types\n",
    "\n",
    "sel = selectors.DefaultSelector()\n",
    "messages = [b\"Message 1 from client.\", b\"Message 2 from client.\"]\n",
    "\n",
    "def start_connections(host, port, num_conns):\n",
    "    server_addr = (host, port)\n",
    "    for i in range(0, num_conns):\n",
    "        connid = i + 1\n",
    "        print(f\"Starting connection {connid} to {server_addr}\")\n",
    "        sock = socket.socket(socket.AF_INET, socket.SOCK_STREAM)\n",
    "        sock.setblocking(False)\n",
    "        sock.connect_ex(server_addr)\n",
    "        events = selectors.EVENT_READ | selectors.EVENT_WRITE\n",
    "        data = types.SimpleNamespace(\n",
    "            connid=connid,\n",
    "            msg_total=sum(len(m) for m in messages),\n",
    "            recv_total=0,\n",
    "            messages=messages.copy(),\n",
    "            outb=b\"\",\n",
    "        )\n",
    "        sel.register(sock, events, data=data)\n",
    "\n",
    "# ..."
   ]
  },
  {
   "cell_type": "markdown",
   "metadata": {},
   "source": [
    "`num_conns` is read from the command-line and is the number of connections to create to the server. Just like the server, each socket is set to non-blocking mode.\n",
    "\n",
    "You use `.connect_ex()` instead of `.connect()` because `.connect()` would **immediately raise a BlockingIOError exception**. The `.connect_ex()` method initially returns an error indicator, `errno.EINPROGRESS`, instead of raising an exception that would interfere with the connection in progress. Once the connection is completed, the socket is ready for reading and writing and is returned by `.select()`.\n",
    "\n",
    "After the socket is set up, the data you want to store with the socket is created using SimpleNamespace. The messages that the client will send to the server are copied using `messages.copy()` because each connection will call `socket.send()` and modify the list. Everything needed to keep track of what the client needs to send, has sent, and has received, including the total number of bytes in the messages, is stored in the object data.\n",
    "\n",
    "Check out the changes made from the server’s `service_connection()` for the client’s version:"
   ]
  },
  {
   "cell_type": "code",
   "execution_count": null,
   "metadata": {},
   "outputs": [],
   "source": [
    "def service_connection(key, mask):\n",
    "    sock = key.fileobj\n",
    "    data = key.data\n",
    "    if mask & selectors.EVENT_READ:\n",
    "        recv_data = sock.recv(1024)  # Should be ready to read\n",
    "        if recv_data:\n",
    "            print(f\"Received {recv_data!r} from connection {data.connid}\")\n",
    "            data.recv_total += len(recv_data)\n",
    "        if not recv_data or data.recv_total == data.msg_total:\n",
    "            print(f\"Closing connection {data.connid}\")\n",
    "            sel.unregister(sock)\n",
    "            sock.close()\n",
    "    if mask & selectors.EVENT_WRITE:\n",
    "        if not data.outb and data.messages:\n",
    "            data.outb = data.messages.pop(0)\n",
    "        if data.outb:\n",
    "            print(f\"Sending {data.outb!r} to connection {data.connid}\")\n",
    "            sent = sock.send(data.outb)  # Should be ready to write\n",
    "            data.outb = data.outb[sent:]"
   ]
  },
  {
   "cell_type": "markdown",
   "metadata": {},
   "source": [
    "It’s fundamentally the same but for one important difference. The **client keeps track of the number of bytes it’s received from the server so that it can close its side of the connection**. When the server detects this, it closes its side of the connection too.\n",
    "\n",
    "Note that by doing this, the server depends on the client being well-behaved: the server expects the client to close its side of the connection when it’s done sending messages. If the client doesn’t close, the server will leave the connection open. In a real application, you may want to guard against this in your server by implementing a timeout to prevent client connections from accumulating if they don’t send a request after a certain amount of time."
   ]
  },
  {
   "cell_type": "code",
   "execution_count": null,
   "metadata": {},
   "outputs": [],
   "source": [
    "# full code\n",
    "import sys\n",
    "import socket\n",
    "import selectors\n",
    "import types\n",
    "\n",
    "sel = selectors.DefaultSelector()\n",
    "messages = [b\"Message 1 from client.\", b\"Message 2 from client.\"]\n",
    "\n",
    "\n",
    "def start_connections(host, port, num_conns):\n",
    "    server_addr = (host, port)\n",
    "    for i in range(0, num_conns):\n",
    "        connid = i + 1\n",
    "        print(f\"Starting connection {connid} to {server_addr}\")\n",
    "        sock = socket.socket(socket.AF_INET, socket.SOCK_STREAM)\n",
    "        sock.setblocking(False)\n",
    "        sock.connect_ex(server_addr)\n",
    "        events = selectors.EVENT_READ | selectors.EVENT_WRITE\n",
    "        data = types.SimpleNamespace(\n",
    "            connid=connid,\n",
    "            msg_total=sum(len(m) for m in messages),\n",
    "            recv_total=0,\n",
    "            messages=messages.copy(),\n",
    "            outb=b\"\",\n",
    "        )\n",
    "        sel.register(sock, events, data=data)\n",
    "\n",
    "\n",
    "def service_connection(key, mask):\n",
    "    sock = key.fileobj\n",
    "    data = key.data\n",
    "    if mask & selectors.EVENT_READ:\n",
    "        recv_data = sock.recv(1024)  # Should be ready to read\n",
    "        if recv_data:\n",
    "            print(f\"Received {recv_data!r} from connection {data.connid}\")\n",
    "            data.recv_total += len(recv_data)\n",
    "        if not recv_data or data.recv_total == data.msg_total:\n",
    "            print(f\"Closing connection {data.connid}\")\n",
    "            sel.unregister(sock)\n",
    "            sock.close()\n",
    "    if mask & selectors.EVENT_WRITE:\n",
    "        if not data.outb and data.messages:\n",
    "            data.outb = data.messages.pop(0)\n",
    "        if data.outb:\n",
    "            print(f\"Sending {data.outb!r} to connection {data.connid}\")\n",
    "            sent = sock.send(data.outb)  # Should be ready to write\n",
    "            data.outb = data.outb[sent:]\n",
    "\n",
    "\n",
    "if len(sys.argv) != 4:\n",
    "    print(f\"Usage: {sys.argv[0]} <host> <port> <num_connections>\")\n",
    "    sys.exit(1)\n",
    "\n",
    "host, port, num_conns = sys.argv[1:4]\n",
    "start_connections(host, int(port), int(num_conns))\n",
    "\n",
    "try:\n",
    "    while True:\n",
    "        events = sel.select(timeout=1)\n",
    "        if events:\n",
    "            for key, mask in events:\n",
    "                service_connection(key, mask)\n",
    "        # Check for a socket being monitored to continue.\n",
    "        if not sel.get_map():\n",
    "            break\n",
    "except KeyboardInterrupt:\n",
    "    print(\"Caught keyboard interrupt, exiting\")\n",
    "finally:\n",
    "    sel.close()"
   ]
  },
  {
   "cell_type": "markdown",
   "metadata": {},
   "source": [
    "### Running the Multi-Connection Client and Server"
   ]
  },
  {
   "cell_type": "markdown",
   "metadata": {},
   "source": [
    "Now it’s time to run multiconn-server.py and multiconn-client.py. They both use command-line arguments. You can run them without arguments to see the options.\n",
    "\n",
    "For the server, pass host and port numbers:"
   ]
  },
  {
   "cell_type": "markdown",
   "metadata": {},
   "source": [
    "    python multiconn-server.py"
   ]
  },
  {
   "cell_type": "markdown",
   "metadata": {},
   "source": [
    "For the client, also pass the number of connections to create to the server, num_connections:"
   ]
  },
  {
   "cell_type": "markdown",
   "metadata": {},
   "source": [
    "    python multiconn-client.py"
   ]
  },
  {
   "cell_type": "markdown",
   "metadata": {},
   "source": [
    "Below is the server output when listening on the loopback interface on port 65432:"
   ]
  },
  {
   "cell_type": "markdown",
   "metadata": {},
   "source": [
    "    python multiconn-server.py 127.0.0.1 65432"
   ]
  },
  {
   "cell_type": "markdown",
   "metadata": {},
   "source": [
    "Below is the client output when it creates two connections to the server above:\n",
    "\n"
   ]
  },
  {
   "cell_type": "markdown",
   "metadata": {},
   "source": [
    "    python multiconn-client.py 127.0.0.1 65432 2"
   ]
  },
  {
   "cell_type": "markdown",
   "metadata": {},
   "source": [
    "Great! Now you’ve run the multi-connection client and server. In the next section, you’ll take this example even further."
   ]
  },
  {
   "cell_type": "code",
   "execution_count": null,
   "metadata": {},
   "outputs": [],
   "source": []
  },
  {
   "cell_type": "code",
   "execution_count": null,
   "metadata": {},
   "outputs": [],
   "source": []
  },
  {
   "cell_type": "code",
   "execution_count": null,
   "metadata": {},
   "outputs": [],
   "source": []
  },
  {
   "cell_type": "code",
   "execution_count": null,
   "metadata": {},
   "outputs": [],
   "source": []
  },
  {
   "cell_type": "code",
   "execution_count": null,
   "metadata": {},
   "outputs": [],
   "source": []
  },
  {
   "cell_type": "code",
   "execution_count": null,
   "metadata": {},
   "outputs": [],
   "source": []
  },
  {
   "cell_type": "code",
   "execution_count": null,
   "metadata": {},
   "outputs": [],
   "source": []
  },
  {
   "cell_type": "code",
   "execution_count": null,
   "metadata": {},
   "outputs": [],
   "source": []
  },
  {
   "cell_type": "code",
   "execution_count": null,
   "metadata": {},
   "outputs": [],
   "source": []
  }
 ],
 "metadata": {
  "kernelspec": {
   "display_name": "Python 3 (ipykernel)",
   "language": "python",
   "name": "python3"
  },
  "language_info": {
   "codemirror_mode": {
    "name": "ipython",
    "version": 3
   },
   "file_extension": ".py",
   "mimetype": "text/x-python",
   "name": "python",
   "nbconvert_exporter": "python",
   "pygments_lexer": "ipython3",
   "version": "3.9.0"
  }
 },
 "nbformat": 4,
 "nbformat_minor": 2
}
