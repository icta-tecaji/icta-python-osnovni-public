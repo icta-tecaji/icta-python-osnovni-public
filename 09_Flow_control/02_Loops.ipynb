{
 "cells": [
  {
   "cell_type": "markdown",
   "id": "5f42f754-19c4-4f16-8464-42534b407cad",
   "metadata": {},
   "source": [
    "# Loops"
   ]
  },
  {
   "cell_type": "markdown",
   "metadata": {},
   "source": [
    "## While\n",
    "\n",
    "While zanka deluje na podoben princip kot if. While izvaja blok kode, dokler je \"expression\" True.\n",
    "\n",
    "``` python\n",
    "while <expr>:\n",
    "    <statement(s)>\n",
    "```"
   ]
  },
  {
   "cell_type": "code",
   "execution_count": null,
   "metadata": {},
   "outputs": [
    {
     "name": "stdout",
     "output_type": "stream",
     "text": [
      "Vreme je lepo.\n"
     ]
    }
   ],
   "source": [
    "lepo_vreme = True\n",
    "while lepo_vreme:\n",
    "  print('Vreme je lepo.')\n",
    "  lepo_vreme = False"
   ]
  },
  {
   "cell_type": "code",
   "execution_count": null,
   "metadata": {},
   "outputs": [],
   "source": [
    "#the body should be able to change the condition’s value, because if the condition is \n",
    "#True at the beginning, the body might run continuously to infinity\n",
    "#while True:\n",
    "#    print(\"Neskončna zanka. Se ne ustavim.\")\n",
    "\n",
    "#ustavimo v CTRL + C"
   ]
  },
  {
   "cell_type": "markdown",
   "metadata": {},
   "source": [
    "While zanko se lahko uporabi za ponovitev bloka kode določenega števila korakov."
   ]
  },
  {
   "cell_type": "code",
   "execution_count": null,
   "metadata": {},
   "outputs": [
    {
     "name": "stdout",
     "output_type": "stream",
     "text": [
      "Repeated 0 times\n",
      "Repeated 1 times\n",
      "Repeated 2 times\n",
      "Repeated 3 times\n",
      "Repeated 4 times\n",
      "Repeated 5 times\n",
      "Repeated 6 times\n",
      "Repeated 7 times\n",
      "Repeated 8 times\n",
      "Repeated 9 times\n"
     ]
    }
   ],
   "source": [
    "i = 0\n",
    "while i < 10:\n",
    "    print(f'Repeated {i} times')\n",
    "    i += 1"
   ]
  },
  {
   "cell_type": "code",
   "execution_count": null,
   "metadata": {},
   "outputs": [
    {
     "name": "stdout",
     "output_type": "stream",
     "text": [
      "Heating...\n",
      "Heating...\n",
      "Heating...\n",
      "Heating...\n",
      "Heating...\n"
     ]
    }
   ],
   "source": [
    "#A common use of the while loop is to do things like these:\n",
    "\n",
    "temperature = 15\n",
    "\n",
    "while temperature < 20:\n",
    "    print('Heating...')\n",
    "    temperature += 1\n",
    "\n",
    "#Only instead of the temperature increasing continuously, we would e.g. get it from a sensor.\n",
    "#Remember to always have a way of exiting the loop! Otherwise it will run endlessly!"
   ]
  },
  {
   "cell_type": "markdown",
   "metadata": {},
   "source": [
    "Obstaja tud while else.\n",
    "\n",
    "```python\n",
    "while <expr>:\n",
    "    <statement(s)>\n",
    "else:\n",
    "    <additional_statement(s)>\n",
    "    \n",
    "The <additional_statement(s)> specified in the else clause will be executed when the while loop terminates.\n",
    "About now, you may be thinking, “How is that useful?” You could accomplish the same thing by putting those statements immediately after the while loop, without the else:\n",
    "\n",
    "What’s the difference?\n",
    "\n",
    "In the latter case, without the else clause, <additional_statement(s)> will be executed after the while loop terminates, no matter what.\n",
    "\n",
    "When <additional_statement(s)> are placed in an else clause, they will be executed only if the loop terminates “by exhaustion”—that is, if the loop iterates until the controlling condition becomes false. If the loop is exited by a break statement, the else clause won’t be executed.\n",
    "\n",
    "```"
   ]
  },
  {
   "cell_type": "markdown",
   "metadata": {},
   "source": [
    "## Vaja 01\n",
    "\n",
    "Napišite program, ki izpiše prvih 10 sodih števil."
   ]
  },
  {
   "cell_type": "code",
   "execution_count": null,
   "metadata": {},
   "outputs": [
    {
     "name": "stdout",
     "output_type": "stream",
     "text": [
      "2\n",
      "4\n",
      "6\n",
      "8\n",
      "10\n",
      "12\n",
      "14\n",
      "16\n",
      "18\n",
      "20\n"
     ]
    }
   ],
   "source": [
    "counter = 0\n",
    "number = 1\n",
    "\n",
    "while counter<10:\n",
    "    if number%2 == 0:\n",
    "        print(number)\n",
    "        counter += 1\n",
    "    number += 1"
   ]
  },
  {
   "cell_type": "markdown",
   "metadata": {},
   "source": [
    "## Vaja 02\n",
    "\n",
    "Uporabnik naj vnese željeno dolžino Fibonaccijevega zaporedja. Program naj nato to zaporedje shrani v list in ga na koncu izpiše.\n",
    "\n",
    "```python\n",
    "Fibonacci sequence\n",
    "\n",
    "0, 1, 1, 2, 3, 5, 8, 13, 21, 34\n",
    "```"
   ]
  },
  {
   "cell_type": "code",
   "execution_count": null,
   "metadata": {},
   "outputs": [
    {
     "name": "stdout",
     "output_type": "stream",
     "text": [
      "Dolžina Fibonnacijevega zaporedja: 10\n",
      "[0, 1, 1, 2, 3, 5, 8, 13, 21, 34]\n"
     ]
    }
   ],
   "source": [
    "x = int(input(\"Dolžina Fibonnacijevega zaporedja: \"))\n",
    "fibonacci = [0, 1]\n",
    "counter = 2\n",
    "\n",
    "while counter < x: # while len(fibonacci) < x  bi tud šlo\n",
    "    fibonacci.append(fibonacci[-1] + fibonacci[-2])\n",
    "    counter += 1\n",
    "print(fibonacci)"
   ]
  },
  {
   "cell_type": "markdown",
   "metadata": {},
   "source": [
    "## For loop\n",
    "\n",
    "Uporablja se kadar hočemo izvesti blok kode za vnaprej določeno število ponovitev.\n",
    "\n",
    "Primer: kadar hočemo izvesti blok kode za vsak element v list-u.\n",
    "\n",
    "```python\n",
    "for <var> in <iterable>:\n",
    "    <statement(s)>\n",
    "```\n"
   ]
  },
  {
   "cell_type": "code",
   "execution_count": null,
   "metadata": {},
   "outputs": [
    {
     "name": "stdout",
     "output_type": "stream",
     "text": [
      "2 is  a prime number.\n",
      "3 is  a prime number.\n",
      "5 is  a prime number.\n",
      "7 is  a prime number.\n",
      "11 is  a prime number.\n"
     ]
    }
   ],
   "source": [
    "primes = [2, 3, 5, 7, 11] #itrable\n",
    "for prime in primes:\n",
    "    print(f'{prime} is  a prime number.')"
   ]
  },
  {
   "cell_type": "code",
   "execution_count": null,
   "metadata": {},
   "outputs": [
    {
     "name": "stdout",
     "output_type": "stream",
     "text": [
      "I have a 3 year old kid.\n",
      "I have a 7 year old kid.\n",
      "I have a 12 year old kid.\n"
     ]
    }
   ],
   "source": [
    "kid_ages = (3, 7, 12)\n",
    "for age in kid_ages: \n",
    "    print(f'I have a {age} year old kid.')"
   ]
  },
  {
   "cell_type": "markdown",
   "metadata": {},
   "source": [
    "Velikokrat se skupaj z for-loop uporablja funkcija range().\n",
    "\n",
    "```python\n",
    "range(start, stop, step)\n",
    "```\n",
    "* start - Optional. An integer number specifying at which position to start. Default is 0\n",
    "* stop  - An integer number specifying at which position to end, excluding this number.\n",
    "* step  - Optional. An integer number specifying the incrementation. Default is 1\n",
    "\n",
    "\n",
    "Funkcija range nam zgenerira list števil."
   ]
  },
  {
   "cell_type": "code",
   "execution_count": null,
   "metadata": {},
   "outputs": [
    {
     "name": "stdout",
     "output_type": "stream",
     "text": [
      "<class 'range'>\n",
      "[-5, -4, -3, -2, -1, 0, 1, 2, 3, 4, 5, 6, 7, 8, 9]\n"
     ]
    }
   ],
   "source": [
    "x = range(-5, 10, 1)\n",
    "print(type(x))\n",
    "print(list(x))"
   ]
  },
  {
   "cell_type": "code",
   "execution_count": null,
   "metadata": {},
   "outputs": [
    {
     "name": "stdout",
     "output_type": "stream",
     "text": [
      "macka je star/a 6 let.\n",
      "pes je star/a 12 let.\n",
      "krava je star/a 20 let.\n"
     ]
    }
   ],
   "source": [
    "# Primer: Iteracija čez dictionary\n",
    "pets = {\n",
    "    'macka': 6,\n",
    "    'pes': 12,\n",
    "    'krava': 20\n",
    "}\n",
    "\n",
    "for pet, years in pets.items():\n",
    "    print(f'{pet} je star/a {years} let.')"
   ]
  },
  {
   "cell_type": "markdown",
   "metadata": {},
   "source": [
    ">**Nasveti**\n",
    "- Use the enumerate function in loops instead of creating an “index” variable"
   ]
  },
  {
   "cell_type": "code",
   "execution_count": null,
   "metadata": {},
   "outputs": [],
   "source": []
  },
  {
   "cell_type": "markdown",
   "metadata": {},
   "source": [
    "Programmers coming from other languages are used to explicitly declaring a variable\n",
    "to track the index of a container in a loop. For example, in C++:\n",
    "\n",
    "```C++\n",
    "for (int i=0; i < container.size(); ++i)\n",
    "{\n",
    "// Do stuff\n",
    "}\n",
    "```\n",
    "In Python, the enumerate built-in function handles this role."
   ]
  },
  {
   "cell_type": "code",
   "execution_count": null,
   "metadata": {},
   "outputs": [
    {
     "name": "stdout",
     "output_type": "stream",
     "text": [
      "0 Anže\n",
      "1 Luka\n",
      "2 Mojca\n"
     ]
    }
   ],
   "source": [
    "moj_list = [\"Anže\", \"Luka\", \"Mojca\"]\n",
    "index = 0\n",
    "for element in moj_list:\n",
    "    print (f'{index} {element}')\n",
    "    index += 1"
   ]
  },
  {
   "cell_type": "code",
   "execution_count": null,
   "metadata": {},
   "outputs": [
    {
     "name": "stdout",
     "output_type": "stream",
     "text": [
      "0 Anže\n",
      "1 Luka\n",
      "2 Mojca\n"
     ]
    }
   ],
   "source": [
    "#Idiomatic\n",
    "moj_list = [\"Anže\", \"Luka\", \"Mojca\"]\n",
    "for index, element in enumerate(moj_list):\n",
    "    print (f'{index} {element}')"
   ]
  },
  {
   "cell_type": "markdown",
   "metadata": {},
   "source": [
    "### Break\n",
    "\n",
    "Break keyword terminira najbolj notranjo zanko v kateri se nahaja."
   ]
  },
  {
   "cell_type": "code",
   "execution_count": null,
   "metadata": {},
   "outputs": [
    {
     "name": "stdout",
     "output_type": "stream",
     "text": [
      "Avto je ok.\n",
      "Naslednji korak zanke\n",
      "Avto je ok.\n",
      "Naslednji korak zanke\n",
      "Avto je ok.\n",
      "Naslednji korak zanke\n",
      "Avto je zanič.\n",
      "End\n"
     ]
    }
   ],
   "source": [
    "avti = [\"ok\", \"ok\", \"ok\", \"slab\", \"ok\"]\n",
    "\n",
    "for avto in avti:\n",
    "    if avto == \"slab\":\n",
    "        print(\"Avto je zanič.\")\n",
    "        break\n",
    "    print(\"Avto je ok.\")\n",
    "    print(\"Naslednji korak zanke\")\n",
    "print(\"End\")"
   ]
  },
  {
   "cell_type": "markdown",
   "metadata": {},
   "source": [
    "### Continue\n",
    "\n",
    "Continue keyword izpusti kodo, ki se more še izvesti, in skoči na naslednjo iteracijo zanke ."
   ]
  },
  {
   "cell_type": "code",
   "execution_count": null,
   "metadata": {},
   "outputs": [
    {
     "name": "stdout",
     "output_type": "stream",
     "text": [
      "Avto je ok.\n",
      "Naslednji korak zanke\n",
      "Avto je ok.\n",
      "Naslednji korak zanke\n",
      "Avto je ok.\n",
      "Naslednji korak zanke\n",
      "Avto je zanič.\n",
      "Avto je ok.\n",
      "Naslednji korak zanke\n",
      "End\n"
     ]
    }
   ],
   "source": [
    "avti = [\"ok\", \"ok\", \"ok\", \"slab\", \"ok\"]\n",
    "\n",
    "for avto in avti:\n",
    "    if avto == \"slab\":\n",
    "        print(\"Avto je zanič.\")\n",
    "        continue #continue #lah pokažeš še primer k je stvar zakomentirana\n",
    "    print(\"Avto je ok.\")\n",
    "    print(\"Naslednji korak zanke\")\n",
    "print(\"End\")"
   ]
  },
  {
   "cell_type": "code",
   "execution_count": null,
   "metadata": {},
   "outputs": [],
   "source": []
  },
  {
   "cell_type": "markdown",
   "metadata": {},
   "source": [
    "## Vaja 01\n",
    "\n",
    "Iz danega dictionary izpišite vse ključe, katerih vrednost vsebuje črko **r**."
   ]
  },
  {
   "cell_type": "code",
   "execution_count": null,
   "metadata": {},
   "outputs": [
    {
     "name": "stdout",
     "output_type": "stream",
     "text": [
      "volk\n",
      "lev\n",
      "papagaj\n",
      "krokodil\n",
      "zajec\n"
     ]
    }
   ],
   "source": [
    "d = {\n",
    "    \"mačka\": \"Micka\",\n",
    "    \"pes\": \"Fido\",\n",
    "    \"volk\": \"Rex\",\n",
    "    \"medved\": \"Žan\",\n",
    "    \"slon\": \"Jan\",\n",
    "    \"žirafa\": \"Helga\",\n",
    "    \"lev\": \"Gašper\",\n",
    "    \"tiger\": \"Anže\",\n",
    "    \"papagaj\": \"Črt\",\n",
    "    \"ribica\": \"Elena\",\n",
    "    \"krokodil\": \"Kasper\",\n",
    "    \"zajec\": \"Lars\",\n",
    "    \"kamela\": \"Manca\" \n",
    "}\n",
    "\n",
    "\n",
    "for key,value in d.items():\n",
    "    if \"r\" in value or \"R\" in value:\n",
    "        print(f\"{key}\")"
   ]
  },
  {
   "cell_type": "code",
   "execution_count": null,
   "metadata": {},
   "outputs": [],
   "source": []
  },
  {
   "cell_type": "code",
   "execution_count": null,
   "metadata": {},
   "outputs": [],
   "source": []
  },
  {
   "cell_type": "markdown",
   "metadata": {},
   "source": [
    "## Vaja 02\n",
    "\n",
    "Poiščite vsa praštevila med 2 in 30."
   ]
  },
  {
   "cell_type": "code",
   "execution_count": null,
   "metadata": {},
   "outputs": [
    {
     "name": "stdout",
     "output_type": "stream",
     "text": [
      "2 JE praštevilo!\n",
      "3 JE praštevilo!\n",
      "5 JE praštevilo!\n",
      "7 JE praštevilo!\n",
      "11 JE praštevilo!\n",
      "13 JE praštevilo!\n",
      "17 JE praštevilo!\n",
      "19 JE praštevilo!\n",
      "23 JE praštevilo!\n",
      "29 JE praštevilo!\n"
     ]
    }
   ],
   "source": [
    "for num in range(2,31):\n",
    "    prime = True\n",
    "    for i in range(2,num):\n",
    "        #print(f\"{num} / {i}. Ostanek je {num%i}\")\n",
    "        if (num%i==0):\n",
    "            prime = False\n",
    "            break\n",
    "    if prime:\n",
    "        print(f\"{num} JE praštevilo!\")\n",
    "    #else:\n",
    "        #print(f\"{num} NI praštevilo.\")"
   ]
  },
  {
   "cell_type": "markdown",
   "id": "ecb1f8d8-a95f-4e23-888a-b1e8c4243483",
   "metadata": {},
   "source": [
    "# Razlaga"
   ]
  },
  {
   "cell_type": "markdown",
   "id": "e02516c8-20bc-479d-800c-cff4ccd1ae9d",
   "metadata": {},
   "source": [
    "Python \"while\" Loops (Indefinite Iteration)"
   ]
  },
  {
   "cell_type": "markdown",
   "id": "65967e47-3755-4f10-8c53-58362ef90fd8",
   "metadata": {},
   "source": [
    "    while <expr>:\n",
    "        <statement(s)>"
   ]
  },
  {
   "cell_type": "code",
   "execution_count": 4,
   "id": "ceb308af-d161-47f7-963b-51d5dea00815",
   "metadata": {},
   "outputs": [
    {
     "name": "stdout",
     "output_type": "stream",
     "text": [
      "5\n",
      "4\n",
      "3\n",
      "2\n",
      "1\n"
     ]
    }
   ],
   "source": [
    "n = 5\n",
    "\n",
    "while n > 0:\n",
    "    print(n)\n",
    "    n -= 1\n"
   ]
  },
  {
   "cell_type": "code",
   "execution_count": 8,
   "id": "382a4c1b-d7d2-48b4-9728-d474e7929709",
   "metadata": {},
   "outputs": [
    {
     "name": "stdout",
     "output_type": "stream",
     "text": [
      "php\n",
      "['python', 'java', 'c++', 'c', 'javascript', 'go']\n",
      "go\n",
      "['python', 'java', 'c++', 'c', 'javascript']\n",
      "javascript\n",
      "['python', 'java', 'c++', 'c']\n",
      "c\n",
      "['python', 'java', 'c++']\n",
      "c++\n",
      "['python', 'java']\n",
      "java\n",
      "['python']\n",
      "python\n",
      "[]\n"
     ]
    }
   ],
   "source": [
    "programski_jeziki = [\"python\", \"java\", \"c++\", \"c\", \"javascript\", \"go\", \"php\"]\n",
    "\n",
    "while programski_jeziki:\n",
    "    print(programski_jeziki.pop(-1))\n",
    "    print(programski_jeziki)"
   ]
  },
  {
   "cell_type": "markdown",
   "id": "9dc4a265-ce8e-4469-8471-8546de4cebe0",
   "metadata": {},
   "source": [
    "The Python break and continue Statements"
   ]
  },
  {
   "cell_type": "markdown",
   "metadata": {},
   "source": [
    "<img loading=\"lazy\" class=\"img-fluid mx-auto d-block w-50\" src=\"https://files.realpython.com/media/t.899f357dd948.png\" width=\"708\" height=\"798\" srcset=\"https://robocrop.realpython.net/?url=https%3A//files.realpython.com/media/t.899f357dd948.png&amp;w=177&amp;sig=4cd477f7c81adba8f9358ca57c9f07a2e48324ed 177w, https://robocrop.realpython.net/?url=https%3A//files.realpython.com/media/t.899f357dd948.png&amp;w=236&amp;sig=9a0fd97afc31e1b2a666f66af8eb6afc869d608d 236w, https://robocrop.realpython.net/?url=https%3A//files.realpython.com/media/t.899f357dd948.png&amp;w=354&amp;sig=d0cb3a50381612d673fe209cbbf60b60bf995860 354w, https://files.realpython.com/media/t.899f357dd948.png 708w\" sizes=\"(min-width: 1200px) 690px, (min-width: 780px) calc(-5vw + 669px), (min-width: 580px) 510px, calc(100vw - 30px)\" alt=\"Python while loops: break and continue statements\" data-asset=\"443\">"
   ]
  },
  {
   "cell_type": "code",
   "execution_count": 9,
   "metadata": {},
   "outputs": [
    {
     "name": "stdout",
     "output_type": "stream",
     "text": [
      "4\n",
      "3\n",
      "Zanka je končana.\n"
     ]
    }
   ],
   "source": [
    "n = 5\n",
    "\n",
    "while n > 0:\n",
    "    n -= 1\n",
    "    if n == 2:\n",
    "        break\n",
    "    print(n)\n",
    "\n",
    "print(\"Zanka je končana.\")"
   ]
  },
  {
   "cell_type": "code",
   "execution_count": 10,
   "metadata": {},
   "outputs": [
    {
     "name": "stdout",
     "output_type": "stream",
     "text": [
      "4\n",
      "3\n",
      "1\n",
      "0\n",
      "Zanka je končana.\n"
     ]
    }
   ],
   "source": [
    "n = 5\n",
    "\n",
    "while n > 0:\n",
    "    n -= 1\n",
    "    if n == 2:\n",
    "        continue\n",
    "    print(n)\n",
    "\n",
    "print(\"Zanka je končana.\")\n"
   ]
  },
  {
   "cell_type": "markdown",
   "metadata": {},
   "source": [
    "The else Clause"
   ]
  },
  {
   "cell_type": "markdown",
   "metadata": {},
   "source": [
    "    while <expr>:\n",
    "        <statement(s)>\n",
    "    else:\n",
    "        <additional_statement(s)>"
   ]
  },
  {
   "cell_type": "code",
   "execution_count": 13,
   "metadata": {},
   "outputs": [
    {
     "name": "stdout",
     "output_type": "stream",
     "text": [
      "4\n",
      "3\n",
      "2\n",
      "Zanka je končana.\n"
     ]
    }
   ],
   "source": [
    "n = 5\n",
    "while n > 0:\n",
    "    n -= 1\n",
    "    print(n)\n",
    "    if n == 2:\n",
    "        break\n",
    "else:\n",
    "    print(\"Loop done.\")\n",
    "\n",
    "print(\"Zanka je končana.\")\n"
   ]
  },
  {
   "cell_type": "code",
   "execution_count": 15,
   "metadata": {},
   "outputs": [
    {
     "name": "stdout",
     "output_type": "stream",
     "text": [
      "Jezik ni najden.\n",
      "Zanka je končana.\n"
     ]
    }
   ],
   "source": [
    "jeziki = [\"python\", \"java\", \"c++\", \"c\", \"javascript\", \"go\", \"php\"]\n",
    "iskani_jezik = \"c--\"\n",
    "\n",
    "i = 0\n",
    "while i < len(jeziki):\n",
    "    if jeziki[i] == iskani_jezik:\n",
    "        print(\"Jezik najden na indeksu\", i)\n",
    "        break\n",
    "    i += 1\n",
    "else:\n",
    "    print(\"Jezik ni najden.\")\n",
    "\n",
    "print(\"Zanka je končana.\")"
   ]
  },
  {
   "cell_type": "code",
   "execution_count": 16,
   "metadata": {},
   "outputs": [
    {
     "name": "stdout",
     "output_type": "stream",
     "text": [
      "To je neskončna zanka.\n"
     ]
    }
   ],
   "source": [
    "while True:\n",
    "    print(\"To je neskončna zanka.\")\n",
    "    break\n"
   ]
  },
  {
   "cell_type": "markdown",
   "metadata": {},
   "source": [
    "Python \"for\" Loops (Definite Iteration)"
   ]
  },
  {
   "cell_type": "markdown",
   "metadata": {},
   "source": [
    "    for (i = 1; i <= 10; i++)\n",
    "        <loop body>"
   ]
  },
  {
   "cell_type": "markdown",
   "metadata": {},
   "source": [
    "    for i in <collection>\n",
    "        <loop body>"
   ]
  },
  {
   "cell_type": "code",
   "execution_count": 17,
   "metadata": {},
   "outputs": [
    {
     "name": "stdout",
     "output_type": "stream",
     "text": [
      "PYTHON\n",
      "JAVA\n",
      "C++\n",
      "C\n",
      "JAVASCRIPT\n",
      "GO\n",
      "PHP\n"
     ]
    }
   ],
   "source": [
    "jeziki = [\"python\", \"java\", \"c++\", \"c\", \"javascript\", \"go\", \"php\"]\n",
    "\n",
    "for jezik in jeziki:\n",
    "    print(jezik.upper())\n"
   ]
  },
  {
   "cell_type": "code",
   "execution_count": 22,
   "metadata": {},
   "outputs": [
    {
     "name": "stdout",
     "output_type": "stream",
     "text": [
      "RED f00\n",
      "GREEN 0f0\n",
      "BLUE 00f\n"
     ]
    }
   ],
   "source": [
    "colors_hex = {\"red\": \"#f00\", \"green\": \"#0f0\", \"blue\": \"#00f\"}\n",
    "\n",
    "# loop through keys and transform color to rgb\n",
    "for color_name, hex_code in colors_hex.items():\n",
    "    rgb_code = hex_code[1:]\n",
    "    print(color_name.upper(), rgb_code)"
   ]
  },
  {
   "cell_type": "code",
   "execution_count": 25,
   "metadata": {},
   "outputs": [
    {
     "name": "stdout",
     "output_type": "stream",
     "text": [
      "0\n",
      "1\n",
      "2\n",
      "3\n",
      "4\n"
     ]
    }
   ],
   "source": [
    "for n in range(5):\n",
    "    print(n)\n"
   ]
  },
  {
   "cell_type": "code",
   "execution_count": 26,
   "metadata": {},
   "outputs": [
    {
     "name": "stdout",
     "output_type": "stream",
     "text": [
      "5\n",
      "6\n",
      "7\n",
      "8\n",
      "9\n",
      "10\n",
      "11\n",
      "12\n",
      "13\n",
      "14\n"
     ]
    }
   ],
   "source": [
    "for n in range(5, 15):\n",
    "    print(n)"
   ]
  },
  {
   "cell_type": "code",
   "execution_count": 27,
   "metadata": {},
   "outputs": [
    {
     "name": "stdout",
     "output_type": "stream",
     "text": [
      "5\n",
      "7\n",
      "9\n",
      "11\n",
      "13\n"
     ]
    }
   ],
   "source": [
    "for n in range(5, 15, 2):\n",
    "    print(n)\n"
   ]
  },
  {
   "cell_type": "code",
   "execution_count": 35,
   "metadata": {},
   "outputs": [
    {
     "name": "stdout",
     "output_type": "stream",
     "text": [
      "[('and', 11), ('python', 9), ('the', 7), ('to', 5), ('language', 4), ('for', 4), ('is', 3), ('an', 3), ('it', 3), ('in', 3), ('interpreter', 3), ('or', 3), ('programming', 2), ('data', 2), ('a', 2), ('but', 2), ('with', 2), ('many', 2), ('are', 2), ('freely', 2), ('all', 2), ('from', 2), ('site', 2), ('be', 2), ('also', 2), ('of', 2), ('c', 2), ('as', 2), ('tutorial', 2), ('easy', 1), ('learn', 1), ('powerful', 1), ('has', 1), ('efficient', 1), ('high-level', 1), ('structures', 1), ('simple', 1), ('effective', 1), ('approach', 1), ('object-oriented', 1), ('elegant', 1), ('syntax', 1), ('dynamic', 1), ('typing', 1), ('together', 1), ('its', 1), ('interpreted', 1), ('nature', 1), ('make', 1), ('ideal', 1), ('scripting', 1), ('rapid', 1), ('application', 1), ('development', 1), ('areas', 1), ('on', 1), ('most', 1), ('platformsthe', 1), ('extensive', 1), ('standard', 1), ('library', 1), ('available', 1), ('source', 1), ('binary', 1), ('form', 1), ('major', 1), ('platforms', 1), ('web', 1), ('https://wwwpythonorg/', 1), ('may', 1), ('distributed', 1), ('same', 1), ('contains', 1), ('distributions', 1), ('pointers', 1), ('free', 1), ('third', 1), ('party', 1), ('modules', 1), ('programs', 1), ('tools', 1), ('additional', 1), ('documentationthe', 1), ('easily', 1), ('extended', 1), ('new', 1), ('functions', 1), ('types', 1), ('implemented', 1), ('c++', 1), ('other', 1), ('languages', 1), ('callable', 1), ('suitable', 1), ('extension', 1), ('customizable', 1), ('applicationsthis', 1), ('introduces', 1), ('reader', 1), ('informally', 1), ('basic', 1), ('concepts', 1), ('features', 1), ('system', 1), ('helps', 1), ('have', 1), ('handy', 1), ('hands-on', 1), ('experience', 1), ('examples', 1), ('self-contained', 1), ('so', 1), ('can', 1), ('read', 1), ('off-line', 1), ('well', 1)]\n"
     ]
    }
   ],
   "source": [
    "text = \"\"\"Python is an easy to learn, powerful programming language. It has efficient high-level data \n",
    "structures and a simple but effective approach to object-oriented programming. Python’s elegant syntax \n",
    "and dynamic typing, together with its interpreted nature, make it an ideal language for scripting and rapid \n",
    "application development in many areas on most platforms.\n",
    "\n",
    "The Python interpreter and the extensive standard library are freely available in source or binary form for \n",
    "all major platforms from the Python web site, https://www.python.org/, and may be freely distributed. The same \n",
    "site also contains distributions of and pointers to many free third party Python modules, programs and tools, \n",
    "and additional documentation.\n",
    "\n",
    "The Python interpreter is easily extended with new functions and data types implemented in C or C++ (or other \n",
    "languages callable from C). Python is also suitable as an extension language for customizable applications.\n",
    "\n",
    "This tutorial introduces the reader informally to the basic concepts and features of the Python language and \n",
    "system. It helps to have a Python interpreter handy for hands-on experience, but all examples are self-contained, \n",
    "so the tutorial can be read off-line as well.\"\"\"\n",
    "\n",
    "special_characters = [\".\", \",\", \"(\", \")\", \"\\n\", \"’s\"]\n",
    "text = text.lower()\n",
    "for character in special_characters:\n",
    "    text = text.replace(character, \"\")\n",
    "\n",
    "frequency = {}\n",
    "for word in text.split():\n",
    "    if word in frequency:\n",
    "        frequency[word] += 1\n",
    "    else:\n",
    "        frequency[word] = 1\n",
    "\n",
    "\n",
    "frequency = sorted(frequency.items(), key=lambda x: x[1], reverse=True)\n",
    "print(frequency)"
   ]
  },
  {
   "cell_type": "code",
   "execution_count": 37,
   "metadata": {},
   "outputs": [
    {
     "name": "stdout",
     "output_type": "stream",
     "text": [
      "[('and', 11), ('python', 9), ('the', 7), ('to', 5), ('language', 4), ('for', 4), ('is', 3), ('an', 3), ('it', 3), ('in', 3), ('interpreter', 3), ('or', 3), ('programming', 2), ('data', 2), ('a', 2), ('but', 2), ('with', 2), ('many', 2), ('are', 2), ('freely', 2), ('all', 2), ('from', 2), ('site', 2), ('be', 2), ('also', 2), ('of', 2), ('c', 2), ('as', 2), ('tutorial', 2), ('easy', 1), ('learn', 1), ('powerful', 1), ('has', 1), ('efficient', 1), ('high-level', 1), ('structures', 1), ('simple', 1), ('effective', 1), ('approach', 1), ('object-oriented', 1), ('elegant', 1), ('syntax', 1), ('dynamic', 1), ('typing', 1), ('together', 1), ('its', 1), ('interpreted', 1), ('nature', 1), ('make', 1), ('ideal', 1), ('scripting', 1), ('rapid', 1), ('application', 1), ('development', 1), ('areas', 1), ('on', 1), ('most', 1), ('platformsthe', 1), ('extensive', 1), ('standard', 1), ('library', 1), ('available', 1), ('source', 1), ('binary', 1), ('form', 1), ('major', 1), ('platforms', 1), ('web', 1), ('https://wwwpythonorg/', 1), ('may', 1), ('distributed', 1), ('same', 1), ('contains', 1), ('distributions', 1), ('pointers', 1), ('free', 1), ('third', 1), ('party', 1), ('modules', 1), ('programs', 1), ('tools', 1), ('additional', 1), ('documentationthe', 1), ('easily', 1), ('extended', 1), ('new', 1), ('functions', 1), ('types', 1), ('implemented', 1), ('c++', 1), ('other', 1), ('languages', 1), ('callable', 1), ('suitable', 1), ('extension', 1), ('customizable', 1), ('applicationsthis', 1), ('introduces', 1), ('reader', 1), ('informally', 1), ('basic', 1), ('concepts', 1), ('features', 1), ('system', 1), ('helps', 1), ('have', 1), ('handy', 1), ('hands-on', 1), ('experience', 1), ('examples', 1), ('self-contained', 1), ('so', 1), ('can', 1), ('read', 1), ('off-line', 1), ('well', 1)]\n"
     ]
    }
   ],
   "source": [
    "from collections import Counter\n",
    "\n",
    "special_characters = [\".\", \",\", \"(\", \")\", \"\\n\", \"’s\"]\n",
    "text = text.lower()\n",
    "for character in special_characters:\n",
    "    text = text.replace(character, \"\")\n",
    "\n",
    "\n",
    "frequency = Counter(text.split()).most_common()\n",
    "print(frequency)\n"
   ]
  },
  {
   "cell_type": "code",
   "execution_count": null,
   "metadata": {},
   "outputs": [],
   "source": []
  }
 ],
 "metadata": {
  "kernelspec": {
   "display_name": "Python 3 (ipykernel)",
   "language": "python",
   "name": "python3"
  },
  "language_info": {
   "codemirror_mode": {
    "name": "ipython",
    "version": 3
   },
   "file_extension": ".py",
   "mimetype": "text/x-python",
   "name": "python",
   "nbconvert_exporter": "python",
   "pygments_lexer": "ipython3",
   "version": "3.12.0"
  }
 },
 "nbformat": 4,
 "nbformat_minor": 5
}
