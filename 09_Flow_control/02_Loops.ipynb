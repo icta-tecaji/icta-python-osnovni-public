{
 "cells": [
  {
   "cell_type": "markdown",
   "id": "5f42f754-19c4-4f16-8464-42534b407cad",
   "metadata": {},
   "source": [
    "# Loops"
   ]
  },
  {
   "cell_type": "markdown",
   "metadata": {},
   "source": [
    "## While\n",
    "\n",
    "While zanka deluje na podoben princip kot if. While izvaja blok kode, dokler je \"expression\" True.\n",
    "\n",
    "``` python\n",
    "while <expr>:\n",
    "    <statement(s)>\n",
    "```"
   ]
  },
  {
   "cell_type": "code",
   "execution_count": null,
   "metadata": {},
   "outputs": [
    {
     "name": "stdout",
     "output_type": "stream",
     "text": [
      "Vreme je lepo.\n"
     ]
    }
   ],
   "source": [
    "lepo_vreme = True\n",
    "while lepo_vreme:\n",
    "  print('Vreme je lepo.')\n",
    "  lepo_vreme = False"
   ]
  },
  {
   "cell_type": "code",
   "execution_count": null,
   "metadata": {},
   "outputs": [],
   "source": [
    "#the body should be able to change the condition’s value, because if the condition is \n",
    "#True at the beginning, the body might run continuously to infinity\n",
    "#while True:\n",
    "#    print(\"Neskončna zanka. Se ne ustavim.\")\n",
    "\n",
    "#ustavimo v CTRL + C"
   ]
  },
  {
   "cell_type": "markdown",
   "metadata": {},
   "source": [
    "While zanko se lahko uporabi za ponovitev bloka kode določenega števila korakov."
   ]
  },
  {
   "cell_type": "code",
   "execution_count": null,
   "metadata": {},
   "outputs": [
    {
     "name": "stdout",
     "output_type": "stream",
     "text": [
      "Repeated 0 times\n",
      "Repeated 1 times\n",
      "Repeated 2 times\n",
      "Repeated 3 times\n",
      "Repeated 4 times\n",
      "Repeated 5 times\n",
      "Repeated 6 times\n",
      "Repeated 7 times\n",
      "Repeated 8 times\n",
      "Repeated 9 times\n"
     ]
    }
   ],
   "source": [
    "i = 0\n",
    "while i < 10:\n",
    "    print(f'Repeated {i} times')\n",
    "    i += 1"
   ]
  },
  {
   "cell_type": "code",
   "execution_count": null,
   "metadata": {},
   "outputs": [
    {
     "name": "stdout",
     "output_type": "stream",
     "text": [
      "Heating...\n",
      "Heating...\n",
      "Heating...\n",
      "Heating...\n",
      "Heating...\n"
     ]
    }
   ],
   "source": [
    "#A common use of the while loop is to do things like these:\n",
    "\n",
    "temperature = 15\n",
    "\n",
    "while temperature < 20:\n",
    "    print('Heating...')\n",
    "    temperature += 1\n",
    "\n",
    "#Only instead of the temperature increasing continuously, we would e.g. get it from a sensor.\n",
    "#Remember to always have a way of exiting the loop! Otherwise it will run endlessly!"
   ]
  },
  {
   "cell_type": "markdown",
   "metadata": {},
   "source": [
    "Obstaja tud while else.\n",
    "\n",
    "```python\n",
    "while <expr>:\n",
    "    <statement(s)>\n",
    "else:\n",
    "    <additional_statement(s)>\n",
    "    \n",
    "The <additional_statement(s)> specified in the else clause will be executed when the while loop terminates.\n",
    "About now, you may be thinking, “How is that useful?” You could accomplish the same thing by putting those statements immediately after the while loop, without the else:\n",
    "\n",
    "What’s the difference?\n",
    "\n",
    "In the latter case, without the else clause, <additional_statement(s)> will be executed after the while loop terminates, no matter what.\n",
    "\n",
    "When <additional_statement(s)> are placed in an else clause, they will be executed only if the loop terminates “by exhaustion”—that is, if the loop iterates until the controlling condition becomes false. If the loop is exited by a break statement, the else clause won’t be executed.\n",
    "\n",
    "```"
   ]
  },
  {
   "cell_type": "markdown",
   "metadata": {},
   "source": [
    "## Vaja 01\n",
    "\n",
    "Napišite program, ki izpiše prvih 10 sodih števil."
   ]
  },
  {
   "cell_type": "code",
   "execution_count": null,
   "metadata": {},
   "outputs": [
    {
     "name": "stdout",
     "output_type": "stream",
     "text": [
      "2\n",
      "4\n",
      "6\n",
      "8\n",
      "10\n",
      "12\n",
      "14\n",
      "16\n",
      "18\n",
      "20\n"
     ]
    }
   ],
   "source": [
    "counter = 0\n",
    "number = 1\n",
    "\n",
    "while counter<10:\n",
    "    if number%2 == 0:\n",
    "        print(number)\n",
    "        counter += 1\n",
    "    number += 1"
   ]
  },
  {
   "cell_type": "markdown",
   "metadata": {},
   "source": [
    "## Vaja 02\n",
    "\n",
    "Uporabnik naj vnese željeno dolžino Fibonaccijevega zaporedja. Program naj nato to zaporedje shrani v list in ga na koncu izpiše.\n",
    "\n",
    "```python\n",
    "Fibonacci sequence\n",
    "\n",
    "0, 1, 1, 2, 3, 5, 8, 13, 21, 34\n",
    "```"
   ]
  },
  {
   "cell_type": "code",
   "execution_count": null,
   "metadata": {},
   "outputs": [
    {
     "name": "stdout",
     "output_type": "stream",
     "text": [
      "Dolžina Fibonnacijevega zaporedja: 10\n",
      "[0, 1, 1, 2, 3, 5, 8, 13, 21, 34]\n"
     ]
    }
   ],
   "source": [
    "x = int(input(\"Dolžina Fibonnacijevega zaporedja: \"))\n",
    "fibonacci = [0, 1]\n",
    "counter = 2\n",
    "\n",
    "while counter < x: # while len(fibonacci) < x  bi tud šlo\n",
    "    fibonacci.append(fibonacci[-1] + fibonacci[-2])\n",
    "    counter += 1\n",
    "print(fibonacci)"
   ]
  },
  {
   "cell_type": "markdown",
   "metadata": {},
   "source": [
    "## For loop\n",
    "\n",
    "Uporablja se kadar hočemo izvesti blok kode za vnaprej določeno število ponovitev.\n",
    "\n",
    "Primer: kadar hočemo izvesti blok kode za vsak element v list-u.\n",
    "\n",
    "```python\n",
    "for <var> in <iterable>:\n",
    "    <statement(s)>\n",
    "```\n"
   ]
  },
  {
   "cell_type": "code",
   "execution_count": null,
   "metadata": {},
   "outputs": [
    {
     "name": "stdout",
     "output_type": "stream",
     "text": [
      "2 is  a prime number.\n",
      "3 is  a prime number.\n",
      "5 is  a prime number.\n",
      "7 is  a prime number.\n",
      "11 is  a prime number.\n"
     ]
    }
   ],
   "source": [
    "primes = [2, 3, 5, 7, 11] #itrable\n",
    "for prime in primes:\n",
    "    print(f'{prime} is  a prime number.')"
   ]
  },
  {
   "cell_type": "code",
   "execution_count": null,
   "metadata": {},
   "outputs": [
    {
     "name": "stdout",
     "output_type": "stream",
     "text": [
      "I have a 3 year old kid.\n",
      "I have a 7 year old kid.\n",
      "I have a 12 year old kid.\n"
     ]
    }
   ],
   "source": [
    "kid_ages = (3, 7, 12)\n",
    "for age in kid_ages: \n",
    "    print(f'I have a {age} year old kid.')"
   ]
  },
  {
   "cell_type": "markdown",
   "metadata": {},
   "source": [
    "Velikokrat se skupaj z for-loop uporablja funkcija range().\n",
    "\n",
    "```python\n",
    "range(start, stop, step)\n",
    "```\n",
    "* start - Optional. An integer number specifying at which position to start. Default is 0\n",
    "* stop  - An integer number specifying at which position to end, excluding this number.\n",
    "* step  - Optional. An integer number specifying the incrementation. Default is 1\n",
    "\n",
    "\n",
    "Funkcija range nam zgenerira list števil."
   ]
  },
  {
   "cell_type": "code",
   "execution_count": null,
   "metadata": {},
   "outputs": [
    {
     "name": "stdout",
     "output_type": "stream",
     "text": [
      "<class 'range'>\n",
      "[-5, -4, -3, -2, -1, 0, 1, 2, 3, 4, 5, 6, 7, 8, 9]\n"
     ]
    }
   ],
   "source": [
    "x = range(-5, 10, 1)\n",
    "print(type(x))\n",
    "print(list(x))"
   ]
  },
  {
   "cell_type": "code",
   "execution_count": null,
   "metadata": {},
   "outputs": [
    {
     "name": "stdout",
     "output_type": "stream",
     "text": [
      "macka je star/a 6 let.\n",
      "pes je star/a 12 let.\n",
      "krava je star/a 20 let.\n"
     ]
    }
   ],
   "source": [
    "# Primer: Iteracija čez dictionary\n",
    "pets = {\n",
    "    'macka': 6,\n",
    "    'pes': 12,\n",
    "    'krava': 20\n",
    "}\n",
    "\n",
    "for pet, years in pets.items():\n",
    "    print(f'{pet} je star/a {years} let.')"
   ]
  },
  {
   "cell_type": "markdown",
   "metadata": {},
   "source": [
    ">**Nasveti**\n",
    "- Use the enumerate function in loops instead of creating an “index” variable"
   ]
  },
  {
   "cell_type": "code",
   "execution_count": null,
   "metadata": {},
   "outputs": [],
   "source": []
  },
  {
   "cell_type": "markdown",
   "metadata": {},
   "source": [
    "Programmers coming from other languages are used to explicitly declaring a variable\n",
    "to track the index of a container in a loop. For example, in C++:\n",
    "\n",
    "```C++\n",
    "for (int i=0; i < container.size(); ++i)\n",
    "{\n",
    "// Do stuff\n",
    "}\n",
    "```\n",
    "In Python, the enumerate built-in function handles this role."
   ]
  },
  {
   "cell_type": "code",
   "execution_count": null,
   "metadata": {},
   "outputs": [
    {
     "name": "stdout",
     "output_type": "stream",
     "text": [
      "0 Anže\n",
      "1 Luka\n",
      "2 Mojca\n"
     ]
    }
   ],
   "source": [
    "moj_list = [\"Anže\", \"Luka\", \"Mojca\"]\n",
    "index = 0\n",
    "for element in moj_list:\n",
    "    print (f'{index} {element}')\n",
    "    index += 1"
   ]
  },
  {
   "cell_type": "code",
   "execution_count": null,
   "metadata": {},
   "outputs": [
    {
     "name": "stdout",
     "output_type": "stream",
     "text": [
      "0 Anže\n",
      "1 Luka\n",
      "2 Mojca\n"
     ]
    }
   ],
   "source": [
    "#Idiomatic\n",
    "moj_list = [\"Anže\", \"Luka\", \"Mojca\"]\n",
    "for index, element in enumerate(moj_list):\n",
    "    print (f'{index} {element}')"
   ]
  },
  {
   "cell_type": "markdown",
   "metadata": {},
   "source": [
    "### Break\n",
    "\n",
    "Break keyword terminira najbolj notranjo zanko v kateri se nahaja."
   ]
  },
  {
   "cell_type": "code",
   "execution_count": null,
   "metadata": {},
   "outputs": [
    {
     "name": "stdout",
     "output_type": "stream",
     "text": [
      "Avto je ok.\n",
      "Naslednji korak zanke\n",
      "Avto je ok.\n",
      "Naslednji korak zanke\n",
      "Avto je ok.\n",
      "Naslednji korak zanke\n",
      "Avto je zanič.\n",
      "End\n"
     ]
    }
   ],
   "source": [
    "avti = [\"ok\", \"ok\", \"ok\", \"slab\", \"ok\"]\n",
    "\n",
    "for avto in avti:\n",
    "    if avto == \"slab\":\n",
    "        print(\"Avto je zanič.\")\n",
    "        break\n",
    "    print(\"Avto je ok.\")\n",
    "    print(\"Naslednji korak zanke\")\n",
    "print(\"End\")"
   ]
  },
  {
   "cell_type": "markdown",
   "metadata": {},
   "source": [
    "### Continue\n",
    "\n",
    "Continue keyword izpusti kodo, ki se more še izvesti, in skoči na naslednjo iteracijo zanke ."
   ]
  },
  {
   "cell_type": "code",
   "execution_count": null,
   "metadata": {},
   "outputs": [
    {
     "name": "stdout",
     "output_type": "stream",
     "text": [
      "Avto je ok.\n",
      "Naslednji korak zanke\n",
      "Avto je ok.\n",
      "Naslednji korak zanke\n",
      "Avto je ok.\n",
      "Naslednji korak zanke\n",
      "Avto je zanič.\n",
      "Avto je ok.\n",
      "Naslednji korak zanke\n",
      "End\n"
     ]
    }
   ],
   "source": [
    "avti = [\"ok\", \"ok\", \"ok\", \"slab\", \"ok\"]\n",
    "\n",
    "for avto in avti:\n",
    "    if avto == \"slab\":\n",
    "        print(\"Avto je zanič.\")\n",
    "        continue #continue #lah pokažeš še primer k je stvar zakomentirana\n",
    "    print(\"Avto je ok.\")\n",
    "    print(\"Naslednji korak zanke\")\n",
    "print(\"End\")"
   ]
  },
  {
   "cell_type": "code",
   "execution_count": null,
   "metadata": {},
   "outputs": [],
   "source": []
  },
  {
   "cell_type": "markdown",
   "metadata": {},
   "source": [
    "## Vaja 01\n",
    "\n",
    "Iz danega dictionary izpišite vse ključe, katerih vrednost vsebuje črko **r**."
   ]
  },
  {
   "cell_type": "code",
   "execution_count": null,
   "metadata": {},
   "outputs": [
    {
     "name": "stdout",
     "output_type": "stream",
     "text": [
      "volk\n",
      "lev\n",
      "papagaj\n",
      "krokodil\n",
      "zajec\n"
     ]
    }
   ],
   "source": [
    "d = {\n",
    "    \"mačka\": \"Micka\",\n",
    "    \"pes\": \"Fido\",\n",
    "    \"volk\": \"Rex\",\n",
    "    \"medved\": \"Žan\",\n",
    "    \"slon\": \"Jan\",\n",
    "    \"žirafa\": \"Helga\",\n",
    "    \"lev\": \"Gašper\",\n",
    "    \"tiger\": \"Anže\",\n",
    "    \"papagaj\": \"Črt\",\n",
    "    \"ribica\": \"Elena\",\n",
    "    \"krokodil\": \"Kasper\",\n",
    "    \"zajec\": \"Lars\",\n",
    "    \"kamela\": \"Manca\" \n",
    "}\n",
    "\n",
    "\n",
    "for key,value in d.items():\n",
    "    if \"r\" in value or \"R\" in value:\n",
    "        print(f\"{key}\")"
   ]
  },
  {
   "cell_type": "code",
   "execution_count": null,
   "metadata": {},
   "outputs": [],
   "source": []
  },
  {
   "cell_type": "code",
   "execution_count": null,
   "metadata": {},
   "outputs": [],
   "source": []
  },
  {
   "cell_type": "markdown",
   "metadata": {},
   "source": [
    "## Vaja 02\n",
    "\n",
    "Poiščite vsa praštevila med 2 in 30."
   ]
  },
  {
   "cell_type": "code",
   "execution_count": null,
   "metadata": {},
   "outputs": [
    {
     "name": "stdout",
     "output_type": "stream",
     "text": [
      "2 JE praštevilo!\n",
      "3 JE praštevilo!\n",
      "5 JE praštevilo!\n",
      "7 JE praštevilo!\n",
      "11 JE praštevilo!\n",
      "13 JE praštevilo!\n",
      "17 JE praštevilo!\n",
      "19 JE praštevilo!\n",
      "23 JE praštevilo!\n",
      "29 JE praštevilo!\n"
     ]
    }
   ],
   "source": [
    "for num in range(2,31):\n",
    "    prime = True\n",
    "    for i in range(2,num):\n",
    "        #print(f\"{num} / {i}. Ostanek je {num%i}\")\n",
    "        if (num%i==0):\n",
    "            prime = False\n",
    "            break\n",
    "    if prime:\n",
    "        print(f\"{num} JE praštevilo!\")\n",
    "    #else:\n",
    "        #print(f\"{num} NI praštevilo.\")"
   ]
  },
  {
   "cell_type": "markdown",
   "id": "ecb1f8d8-a95f-4e23-888a-b1e8c4243483",
   "metadata": {},
   "source": [
    "# Razlaga"
   ]
  },
  {
   "cell_type": "code",
   "execution_count": null,
   "id": "e02516c8-20bc-479d-800c-cff4ccd1ae9d",
   "metadata": {},
   "outputs": [],
   "source": []
  },
  {
   "cell_type": "code",
   "execution_count": null,
   "id": "fcde85c3-f938-4712-b055-bfa85f3f7ec3",
   "metadata": {},
   "outputs": [],
   "source": []
  },
  {
   "cell_type": "code",
   "execution_count": null,
   "id": "65967e47-3755-4f10-8c53-58362ef90fd8",
   "metadata": {},
   "outputs": [],
   "source": []
  },
  {
   "cell_type": "code",
   "execution_count": null,
   "id": "ceb308af-d161-47f7-963b-51d5dea00815",
   "metadata": {},
   "outputs": [],
   "source": []
  },
  {
   "cell_type": "code",
   "execution_count": null,
   "id": "382a4c1b-d7d2-48b4-9728-d474e7929709",
   "metadata": {},
   "outputs": [],
   "source": []
  },
  {
   "cell_type": "code",
   "execution_count": null,
   "id": "9dc4a265-ce8e-4469-8471-8546de4cebe0",
   "metadata": {},
   "outputs": [],
   "source": []
  }
 ],
 "metadata": {
  "kernelspec": {
   "display_name": "Python 3 (ipykernel)",
   "language": "python",
   "name": "python3"
  },
  "language_info": {
   "codemirror_mode": {
    "name": "ipython",
    "version": 3
   },
   "file_extension": ".py",
   "mimetype": "text/x-python",
   "name": "python",
   "nbconvert_exporter": "python",
   "pygments_lexer": "ipython3",
   "version": "3.12.0"
  }
 },
 "nbformat": 4,
 "nbformat_minor": 5
}
