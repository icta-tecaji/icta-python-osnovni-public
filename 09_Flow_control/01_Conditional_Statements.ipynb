{
 "cells": [
  {
   "cell_type": "markdown",
   "id": "5b15dc9a-5319-4c63-b409-dc8d24315af8",
   "metadata": {},
   "source": [
    "# Conditional Statements"
   ]
  },
  {
   "cell_type": "markdown",
   "metadata": {},
   "source": [
    "Omogočajo nam kontrolo sprememb in logike programa."
   ]
  },
  {
   "cell_type": "markdown",
   "metadata": {},
   "source": [
    "## If statement\n",
    "\n",
    "```python\n",
    "if <expr>:\n",
    "    <statement>\n",
    "    <statement>\n",
    "    ...\n",
    "    <statement>\n",
    "<following_statement>\n",
    "\n",
    "\n",
    "<expr> je izraz ovrednoten v Boolean kontekstu.\n",
    "<statement> je Python izraz (nadaljevanje naše kode), ki je pravilno zamaknjen.\n",
    "Če je <expr> True, potem se izvedejo <statement>. Če je <expr> False, potem se  <statement> preskoči in se ne izvede.\n",
    "Nato se program nadaljuje z <following_statement>\n",
    "```\n",
    "\n",
    "Indentation / Zamikanje\n",
    "\n",
    "> Pri Pythonu se zamikanje (indentation) uporablja za definiranje blokov kode. Vse vrstice z istim zamikom se smatrajo kot isti blok kode. \n",
    "\n",
    "> Bloke kode se lahko poljubno globoko \"nesta\".\n",
    "\n",
    "> Zamikanje je določeno z tabulatorjem ali presledki. Ni važno točno število, važno je, da je skozi kodo enako."
   ]
  },
  {
   "cell_type": "code",
   "execution_count": null,
   "metadata": {},
   "outputs": [
    {
     "name": "stdout",
     "output_type": "stream",
     "text": [
      "Smo znotraj if.\n",
      "End if\n",
      "End\n"
     ]
    }
   ],
   "source": [
    "x = 0\n",
    "y = 5\n",
    "\n",
    "if x < y:\n",
    "    print(\"Smo znotraj if.\")\n",
    "    print(\"End if\")\n",
    "print(\"End\")"
   ]
  },
  {
   "cell_type": "markdown",
   "metadata": {},
   "source": [
    "## Else\n",
    "\n",
    "Včasih želimo, da če je nekaj res se izvede določen blok kode, če stvar ni res pa naj se izvede drug del kode.\n",
    "\n",
    "To dosežemo z else.\n",
    "\n",
    "```python\n",
    "if <expr>:\n",
    "    <statement(s)>\n",
    "else:\n",
    "    <statement(s)>\n",
    "<following_statement>\n",
    "    \n",
    "Če je <expr> True se izvede blok direktno pod njem, če pa je <expr> False se ta blok kode preskoči in se izvede blok pod else.\n",
    "    ```"
   ]
  },
  {
   "cell_type": "code",
   "execution_count": null,
   "metadata": {},
   "outputs": [
    {
     "name": "stdout",
     "output_type": "stream",
     "text": [
      "(second block)\n",
      "x is large\n",
      "End\n"
     ]
    }
   ],
   "source": [
    "x = 100\n",
    "\n",
    "if x < 50:\n",
    "    print('(first block)')\n",
    "    print('x is small')\n",
    "else:\n",
    "    print('(second block)')\n",
    "    print('x is large')\n",
    "\n",
    "print(\"End\")"
   ]
  },
  {
   "cell_type": "markdown",
   "metadata": {},
   "source": [
    "## Elif \n",
    "\n",
    "```python\n",
    "Če želimo še večjo razvejanost naših možnosti lahko uporabimo elif (else if).\n",
    "\n",
    "if <expr>:\n",
    "    <statement(s)>\n",
    "elif <expr>:\n",
    "    <statement(s)>\n",
    "elif <expr>:\n",
    "    <statement(s)>\n",
    "else:\n",
    "    <statement(s)>\n",
    "<following_statement>\n",
    "    \n",
    "Python preveri vsak <expr> posebej. Pri ta prvem, ki bo True, bo izvedel njegov blok kode.\n",
    "Če ni nobeden True se bo izvedel else blok kode.\n",
    "    ```"
   ]
  },
  {
   "cell_type": "code",
   "execution_count": null,
   "metadata": {},
   "outputs": [
    {
     "name": "stdout",
     "output_type": "stream",
     "text": [
      "x večje od 10 in manjše od 30\n",
      "End\n"
     ]
    }
   ],
   "source": [
    "x = 20\n",
    "if x > 100:\n",
    "    print('x je večje od 100')\n",
    "elif x > 50:\n",
    "    print('x večje od 50 in manjše od 100')\n",
    "elif x > 30:\n",
    "    print('x večje od 30 in manjše od 50')\n",
    "elif x > 10:\n",
    "    print('x večje od 10 in manjše od 30')\n",
    "else:\n",
    "    print(\"x manjše od 10\")\n",
    "    \n",
    "print(\"End\")"
   ]
  },
  {
   "cell_type": "markdown",
   "metadata": {},
   "source": [
    "## One-line if statement\n",
    "\n",
    "Obstaja način zapisa if stavka v eni vrstici ampak se ta način odsvetuje, ker napravi kodo nepregledno.\n",
    "\n",
    "```python\n",
    "<expr1> if <conditional_expr> else <expr2>\n",
    "\n",
    "z = 1 + x if x > y else y + 2\n",
    "\n",
    "If <conditional_expr> is true, <expr1> is returned and <expr2> is not evaluated.\n",
    "If <conditional_expr> is false, <expr2> is returned and <expr1> is not evaluated.\n",
    "```"
   ]
  },
  {
   "cell_type": "code",
   "execution_count": null,
   "metadata": {},
   "outputs": [
    {
     "name": "stdout",
     "output_type": "stream",
     "text": [
      "64\n",
      "21\n"
     ]
    }
   ],
   "source": [
    "x = 8\n",
    "z = 1 + x if x > 10 else x**2\n",
    "print(z)\n",
    "\n",
    "x = 20\n",
    "z = 1 + x if x > 10 else x**2\n",
    "print(z)"
   ]
  },
  {
   "cell_type": "markdown",
   "metadata": {},
   "source": [
    "## The pass statements\n",
    "\n",
    "Uporablja se kot \"placeholder\", da nam interpreter ne meče napak."
   ]
  },
  {
   "cell_type": "code",
   "execution_count": null,
   "metadata": {},
   "outputs": [
    {
     "ename": "IndentationError",
     "evalue": "expected an indented block (<ipython-input-11-33a91c099307>, line 3)",
     "output_type": "error",
     "traceback": [
      "\u001b[1;36m  File \u001b[1;32m\"<ipython-input-11-33a91c099307>\"\u001b[1;36m, line \u001b[1;32m3\u001b[0m\n",
      "\u001b[1;33m    print(\"Hello\") # should give IndentationError\u001b[0m\n",
      "\u001b[1;37m        ^\u001b[0m\n",
      "\u001b[1;31mIndentationError\u001b[0m\u001b[1;31m:\u001b[0m expected an indented block\n"
     ]
    }
   ],
   "source": [
    "if True:\n",
    "    \n",
    "print(\"Hello\") # should give IndentationError"
   ]
  },
  {
   "cell_type": "code",
   "execution_count": null,
   "metadata": {},
   "outputs": [
    {
     "name": "stdout",
     "output_type": "stream",
     "text": [
      "Hello\n"
     ]
    }
   ],
   "source": [
    "if True:\n",
    "    pass\n",
    "print(\"Hello\") # should be fine now with the pass added"
   ]
  },
  {
   "cell_type": "markdown",
   "id": "637f6eb0-f43a-48cc-83f5-d932430e52c4",
   "metadata": {},
   "source": [
    "# Razlaga"
   ]
  },
  {
   "cell_type": "code",
   "execution_count": null,
   "id": "30b84ad3-37a3-4eb5-a3f5-d8bf93232f9d",
   "metadata": {},
   "outputs": [],
   "source": []
  },
  {
   "cell_type": "code",
   "execution_count": null,
   "id": "8b1678c7-3ceb-404c-9e75-12591b7f5d14",
   "metadata": {},
   "outputs": [],
   "source": []
  },
  {
   "cell_type": "code",
   "execution_count": null,
   "id": "e28556ad-41f2-41b6-8508-f6b478a0d9d3",
   "metadata": {},
   "outputs": [],
   "source": []
  },
  {
   "cell_type": "code",
   "execution_count": null,
   "id": "048f73a8-000e-4179-951a-146fb5e5225e",
   "metadata": {},
   "outputs": [],
   "source": []
  },
  {
   "cell_type": "code",
   "execution_count": null,
   "id": "a45011a4-75d4-4f64-99d8-0c601795f721",
   "metadata": {},
   "outputs": [],
   "source": []
  },
  {
   "cell_type": "code",
   "execution_count": null,
   "id": "3f073cd4-bee1-4fff-befb-dbd297547f57",
   "metadata": {},
   "outputs": [],
   "source": []
  },
  {
   "cell_type": "code",
   "execution_count": null,
   "id": "c035094c-0114-4c87-b35f-1e7504d6d8e6",
   "metadata": {},
   "outputs": [],
   "source": []
  }
 ],
 "metadata": {
  "kernelspec": {
   "display_name": "Python 3 (ipykernel)",
   "language": "python",
   "name": "python3"
  },
  "language_info": {
   "codemirror_mode": {
    "name": "ipython",
    "version": 3
   },
   "file_extension": ".py",
   "mimetype": "text/x-python",
   "name": "python",
   "nbconvert_exporter": "python",
   "pygments_lexer": "ipython3",
   "version": "3.12.0"
  }
 },
 "nbformat": 4,
 "nbformat_minor": 5
}
