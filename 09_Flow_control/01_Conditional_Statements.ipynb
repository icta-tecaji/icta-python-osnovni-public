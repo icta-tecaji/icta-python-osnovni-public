{
 "cells": [
  {
   "cell_type": "markdown",
   "id": "5b15dc9a-5319-4c63-b409-dc8d24315af8",
   "metadata": {},
   "source": [
    "# Conditional Statements"
   ]
  },
  {
   "cell_type": "markdown",
   "id": "6ecf50c1",
   "metadata": {},
   "source": [
    "Omogočajo nam kontrolo sprememb in logike programa."
   ]
  },
  {
   "cell_type": "markdown",
   "id": "75d4ce4d",
   "metadata": {},
   "source": [
    "## If statement\n",
    "\n",
    "```python\n",
    "if <expr>:\n",
    "    <statement>\n",
    "    <statement>\n",
    "    ...\n",
    "    <statement>\n",
    "<following_statement>\n",
    "\n",
    "\n",
    "<expr> je izraz ovrednoten v Boolean kontekstu.\n",
    "<statement> je Python izraz (nadaljevanje naše kode), ki je pravilno zamaknjen.\n",
    "Če je <expr> True, potem se izvedejo <statement>. Če je <expr> False, potem se  <statement> preskoči in se ne izvede.\n",
    "Nato se program nadaljuje z <following_statement>\n",
    "```\n",
    "\n",
    "Indentation / Zamikanje\n",
    "\n",
    "> Pri Pythonu se zamikanje (indentation) uporablja za definiranje blokov kode. Vse vrstice z istim zamikom se smatrajo kot isti blok kode. \n",
    "\n",
    "> Bloke kode se lahko poljubno globoko \"nesta\".\n",
    "\n",
    "> Zamikanje je določeno z tabulatorjem ali presledki. Ni važno točno število, važno je, da je skozi kodo enako."
   ]
  },
  {
   "cell_type": "code",
   "execution_count": null,
   "id": "adc62107",
   "metadata": {},
   "outputs": [
    {
     "name": "stdout",
     "output_type": "stream",
     "text": [
      "Smo znotraj if.\n",
      "End if\n",
      "End\n"
     ]
    }
   ],
   "source": [
    "x = 0\n",
    "y = 5\n",
    "\n",
    "if x < y:\n",
    "    print(\"Smo znotraj if.\")\n",
    "    print(\"End if\")\n",
    "print(\"End\")"
   ]
  },
  {
   "cell_type": "markdown",
   "id": "ddc29fdb",
   "metadata": {},
   "source": [
    "## Else\n",
    "\n",
    "Včasih želimo, da če je nekaj res se izvede določen blok kode, če stvar ni res pa naj se izvede drug del kode.\n",
    "\n",
    "To dosežemo z else.\n",
    "\n",
    "```python\n",
    "if <expr>:\n",
    "    <statement(s)>\n",
    "else:\n",
    "    <statement(s)>\n",
    "<following_statement>\n",
    "    \n",
    "Če je <expr> True se izvede blok direktno pod njem, če pa je <expr> False se ta blok kode preskoči in se izvede blok pod else.\n",
    "    ```"
   ]
  },
  {
   "cell_type": "code",
   "execution_count": null,
   "id": "3af189fd",
   "metadata": {},
   "outputs": [
    {
     "name": "stdout",
     "output_type": "stream",
     "text": [
      "(second block)\n",
      "x is large\n",
      "End\n"
     ]
    }
   ],
   "source": [
    "x = 100\n",
    "\n",
    "if x < 50:\n",
    "    print('(first block)')\n",
    "    print('x is small')\n",
    "else:\n",
    "    print('(second block)')\n",
    "    print('x is large')\n",
    "\n",
    "print(\"End\")"
   ]
  },
  {
   "cell_type": "markdown",
   "id": "f3467a59",
   "metadata": {},
   "source": [
    "## Elif \n",
    "\n",
    "```python\n",
    "Če želimo še večjo razvejanost naših možnosti lahko uporabimo elif (else if).\n",
    "\n",
    "if <expr>:\n",
    "    <statement(s)>\n",
    "elif <expr>:\n",
    "    <statement(s)>\n",
    "elif <expr>:\n",
    "    <statement(s)>\n",
    "else:\n",
    "    <statement(s)>\n",
    "<following_statement>\n",
    "    \n",
    "Python preveri vsak <expr> posebej. Pri ta prvem, ki bo True, bo izvedel njegov blok kode.\n",
    "Če ni nobeden True se bo izvedel else blok kode.\n",
    "    ```"
   ]
  },
  {
   "cell_type": "code",
   "execution_count": null,
   "id": "94098288",
   "metadata": {},
   "outputs": [
    {
     "name": "stdout",
     "output_type": "stream",
     "text": [
      "x večje od 10 in manjše od 30\n",
      "End\n"
     ]
    }
   ],
   "source": [
    "x = 20\n",
    "if x > 100:\n",
    "    print('x je večje od 100')\n",
    "elif x > 50:\n",
    "    print('x večje od 50 in manjše od 100')\n",
    "elif x > 30:\n",
    "    print('x večje od 30 in manjše od 50')\n",
    "elif x > 10:\n",
    "    print('x večje od 10 in manjše od 30')\n",
    "else:\n",
    "    print(\"x manjše od 10\")\n",
    "    \n",
    "print(\"End\")"
   ]
  },
  {
   "cell_type": "markdown",
   "id": "3838db77",
   "metadata": {},
   "source": [
    "## One-line if statement\n",
    "\n",
    "Obstaja način zapisa if stavka v eni vrstici ampak se ta način odsvetuje, ker napravi kodo nepregledno.\n",
    "\n",
    "```python\n",
    "<expr1> if <conditional_expr> else <expr2>\n",
    "\n",
    "z = 1 + x if x > y else y + 2\n",
    "\n",
    "If <conditional_expr> is true, <expr1> is returned and <expr2> is not evaluated.\n",
    "If <conditional_expr> is false, <expr2> is returned and <expr1> is not evaluated.\n",
    "```"
   ]
  },
  {
   "cell_type": "code",
   "execution_count": null,
   "id": "a5d55356",
   "metadata": {},
   "outputs": [
    {
     "name": "stdout",
     "output_type": "stream",
     "text": [
      "64\n",
      "21\n"
     ]
    }
   ],
   "source": [
    "x = 8\n",
    "z = 1 + x if x > 10 else x**2\n",
    "print(z)\n",
    "\n",
    "x = 20\n",
    "z = 1 + x if x > 10 else x**2\n",
    "print(z)"
   ]
  },
  {
   "cell_type": "markdown",
   "id": "9faeb214",
   "metadata": {},
   "source": [
    "## The Python pass Statement"
   ]
  },
  {
   "cell_type": "markdown",
   "id": "2abcc8a4-08c5-4317-b266-785593a456f0",
   "metadata": {},
   "source": [
    "Because Python uses indentation instead of delimiters, it is not possible to specify an empty block. If you introduce an if statement with if `<expr>`:, **something has to come after it**, either on the same line or indented on the following line."
   ]
  },
  {
   "cell_type": "code",
   "execution_count": 1,
   "id": "38686dc1-3088-4a67-9447-0677708a7752",
   "metadata": {},
   "outputs": [
    {
     "ename": "IndentationError",
     "evalue": "expected an indented block after 'if' statement on line 1 (4025656382.py, line 3)",
     "output_type": "error",
     "traceback": [
      "\u001b[1;36m  Cell \u001b[1;32mIn[1], line 3\u001b[1;36m\u001b[0m\n\u001b[1;33m    print('Hello')\u001b[0m\n\u001b[1;37m    ^\u001b[0m\n\u001b[1;31mIndentationError\u001b[0m\u001b[1;31m:\u001b[0m expected an indented block after 'if' statement on line 1\n"
     ]
    }
   ],
   "source": [
    "if True:\n",
    "\n",
    "print('Hello')"
   ]
  },
  {
   "cell_type": "markdown",
   "id": "a214d237-3bc9-4d8c-936b-76ef39a454df",
   "metadata": {},
   "source": [
    "The Python `pass` statement solves this problem. It doesn’t change program behavior at all. It is **used as a placeholder to keep the interpreter happy in any situation where a statement is syntactically required**, but you don’t really want to do anything:"
   ]
  },
  {
   "cell_type": "code",
   "execution_count": 3,
   "id": "32bbc731-bb79-40c1-b3be-5054c6d1ae7c",
   "metadata": {},
   "outputs": [
    {
     "name": "stdout",
     "output_type": "stream",
     "text": [
      "Hello\n"
     ]
    }
   ],
   "source": [
    "if True:\n",
    "    pass\n",
    "\n",
    "print('Hello')"
   ]
  },
  {
   "cell_type": "markdown",
   "id": "637f6eb0-f43a-48cc-83f5-d932430e52c4",
   "metadata": {},
   "source": [
    "# Razlaga"
   ]
  },
  {
   "cell_type": "markdown",
   "id": "30b84ad3-37a3-4eb5-a3f5-d8bf93232f9d",
   "metadata": {},
   "source": [
    "    if <expr>:\n",
    "        <statement>"
   ]
  },
  {
   "cell_type": "code",
   "execution_count": 7,
   "id": "8b1678c7-3ceb-404c-9e75-12591b7f5d14",
   "metadata": {},
   "outputs": [
    {
     "name": "stdout",
     "output_type": "stream",
     "text": [
      "Poznamo Python\n",
      "hello\n",
      "konec\n"
     ]
    }
   ],
   "source": [
    "programski_jezik = \"Python\"\n",
    "\n",
    "if programski_jezik == \"Python\":\n",
    "    print(\"Poznamo Python\")\n",
    "    print(\"hello\")\n",
    "\n",
    "print(\"konec\")"
   ]
  },
  {
   "cell_type": "code",
   "execution_count": 11,
   "id": "a45011a4-75d4-4f64-99d8-0c601795f721",
   "metadata": {},
   "outputs": [
    {
     "name": "stdout",
     "output_type": "stream",
     "text": [
      "Poznamo Python\n",
      "Major version 3\n",
      "konec\n"
     ]
    }
   ],
   "source": [
    "programski_jeziki = [\"Python\", \"C\", \"C++\", \"Java\", \"C#\"]\n",
    "verzija = \"3.7\"\n",
    "\n",
    "if \"Python\" in programski_jeziki:\n",
    "    print(\"Poznamo Python\")\n",
    "    if verzija[0] == \"3\":\n",
    "        print(\"Major version 3\")\n",
    "\n",
    "    if verzija[2] == \"8\":\n",
    "        print(\"Minor version 8\")\n",
    "\n",
    "\n",
    "print(\"konec\")"
   ]
  },
  {
   "cell_type": "markdown",
   "id": "3f073cd4-bee1-4fff-befb-dbd297547f57",
   "metadata": {},
   "source": [
    "The else and elif Clauses"
   ]
  },
  {
   "cell_type": "markdown",
   "id": "c035094c-0114-4c87-b35f-1e7504d6d8e6",
   "metadata": {},
   "source": [
    "    if <expr>:\n",
    "        <statement(s)>\n",
    "    else:\n",
    "        <statement(s)>"
   ]
  },
  {
   "cell_type": "code",
   "execution_count": 13,
   "metadata": {},
   "outputs": [
    {
     "name": "stdout",
     "output_type": "stream",
     "text": [
      "Ne poznamo Pythona\n",
      "konec\n"
     ]
    }
   ],
   "source": [
    "programski_jezik = \"C\"\n",
    "\n",
    "if programski_jezik == \"Python\":\n",
    "    print(\"Poznamo Python\")\n",
    "else:\n",
    "    print(\"Ne poznamo Pythona\")\n",
    "\n",
    "\n",
    "print(\"konec\")"
   ]
  },
  {
   "cell_type": "markdown",
   "metadata": {},
   "source": [
    "    if <expr>:\n",
    "        <statement(s)>\n",
    "    elif <expr>:\n",
    "        <statement(s)>\n",
    "    elif <expr>:\n",
    "        <statement(s)>\n",
    "        ...\n",
    "    else:\n",
    "        <statement(s)>"
   ]
  },
  {
   "cell_type": "code",
   "execution_count": 14,
   "metadata": {},
   "outputs": [
    {
     "name": "stdout",
     "output_type": "stream",
     "text": [
      "Poznamo C++\n",
      "konec\n"
     ]
    }
   ],
   "source": [
    "programski_jezik = \"C++\"\n",
    "\n",
    "if programski_jezik == \"Python\":\n",
    "    print(\"Poznamo Python\")\n",
    "elif programski_jezik == \"C\":\n",
    "    print(\"Poznamo C\")\n",
    "elif programski_jezik == \"C++\":\n",
    "    print(\"Poznamo C++\")\n",
    "else:\n",
    "    print(\"Ne poznamo Pythona\")\n",
    "\n",
    "print(\"konec\")\n"
   ]
  },
  {
   "cell_type": "markdown",
   "metadata": {},
   "source": [
    "One-Line if Statements"
   ]
  },
  {
   "cell_type": "code",
   "execution_count": 21,
   "metadata": {},
   "outputs": [
    {
     "name": "stdout",
     "output_type": "stream",
     "text": [
      "Ne poznamo Pythona\n",
      "Ne poznamo Pythona\n"
     ]
    }
   ],
   "source": [
    "programski_jezik = \"C\"\n",
    "\n",
    "if programski_jezik == \"Python\":\n",
    "    print(\"Poznamo Python\")\n",
    "else:\n",
    "    print(\"Ne poznamo Pythona\")\n",
    "\n",
    "\n",
    "# Conditional Expressions\n",
    "print(\"Poznamo Python\") if programski_jezik == \"Python\" else print(\"Ne poznamo Pythona\")\n"
   ]
  },
  {
   "cell_type": "markdown",
   "metadata": {},
   "source": [
    "pass"
   ]
  },
  {
   "cell_type": "code",
   "execution_count": 24,
   "metadata": {},
   "outputs": [
    {
     "name": "stdout",
     "output_type": "stream",
     "text": [
      "Ne poznamo Pythona\n"
     ]
    }
   ],
   "source": [
    "programski_jezik = \"C\"\n",
    "\n",
    "if programski_jezik == \"Python\":\n",
    "    pass\n",
    "else:\n",
    "    print(\"Ne poznamo Pythona\")\n"
   ]
  },
  {
   "cell_type": "markdown",
   "metadata": {},
   "source": [
    "\"\"\"Napišite program, ki bo pretvoril stopinje Celzija v Fahrenheit ali obratno.\n",
    "\n",
    "Uporabnik naj vnese številko. Nato naj vnese v katerih enotah nam je podal\n",
    "vrednost (**C** ali **F**). Glede na vnešeno črko naj vaš program\n",
    "uporabi pravilno formulo za pretvorbo.\n",
    "```\n",
    "T(°F) = T(°C) × 9/5 + 32\n",
    "\n",
    "T(°C) = (T(°F) - 32) x 5/9\n",
    "```\n",
    "Če uporabnik ni vnesel **C** ali **F** naj program izpiše\n",
    "*Prišlo je do napake.*\n",
    "\n",
    "Primer:\n",
    "```\n",
    "Vnesi vrednost: 12\n",
    "Vnesi enoto: C\n",
    "```\n",
    "Rešitev:\n",
    "```\n",
    "12 stopinj celzija je enako 53.6 fahrenheit.\n",
    "```\n",
    "\"\"\""
   ]
  },
  {
   "cell_type": "markdown",
   "metadata": {},
   "source": []
  }
 ],
 "metadata": {
  "kernelspec": {
   "display_name": "Python 3 (ipykernel)",
   "language": "python",
   "name": "python3"
  },
  "language_info": {
   "codemirror_mode": {
    "name": "ipython",
    "version": 3
   },
   "file_extension": ".py",
   "mimetype": "text/x-python",
   "name": "python",
   "nbconvert_exporter": "python",
   "pygments_lexer": "ipython3",
   "version": "3.12.0"
  }
 },
 "nbformat": 4,
 "nbformat_minor": 5
}
