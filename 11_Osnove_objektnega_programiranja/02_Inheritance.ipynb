{
 "cells": [
  {
   "cell_type": "markdown",
   "metadata": {},
   "source": [
    "# Inheritance"
   ]
  },
  {
   "cell_type": "markdown",
   "metadata": {},
   "source": []
  },
  {
   "cell_type": "markdown",
   "metadata": {},
   "source": []
  },
  {
   "cell_type": "markdown",
   "metadata": {},
   "source": []
  },
  {
   "cell_type": "markdown",
   "metadata": {},
   "source": []
  },
  {
   "cell_type": "markdown",
   "metadata": {},
   "source": [
    "# Razlaga"
   ]
  },
  {
   "cell_type": "code",
   "execution_count": 20,
   "metadata": {},
   "outputs": [],
   "source": [
    "class Colors:\n",
    "    def __init__(self, color: int, shade: int):\n",
    "        self.color = color\n",
    "        self.shade = shade\n",
    "\n",
    "    def __repr__(self):\n",
    "        return f\"Colors(color={self.color}, shade={self.shade})\"\n",
    "\n",
    "    def mix_colors(self, other):\n",
    "        return Colors(self.color + other.color, self.shade + other.shade)\n",
    "\n",
    "    def make_darker(self):\n",
    "        self.shade -= 10\n",
    "        return Colors(self.color, self.shade - 10)\n"
   ]
  },
  {
   "cell_type": "code",
   "execution_count": 21,
   "metadata": {},
   "outputs": [
    {
     "data": {
      "text/plain": [
       "Colors(color=100, shade=30)"
      ]
     },
     "execution_count": 21,
     "metadata": {},
     "output_type": "execute_result"
    }
   ],
   "source": [
    "barva1 = Colors(100, 50)\n",
    "barva1.make_darker()"
   ]
  },
  {
   "cell_type": "code",
   "execution_count": 22,
   "metadata": {},
   "outputs": [],
   "source": [
    "class Drawing(Colors):\n",
    "    def __init__(self, color, shade, shape):\n",
    "        super().__init__(color, shade)\n",
    "        self.shape = shape\n",
    "\n",
    "    def __repr__(self):\n",
    "        return f\"Drawing(color={self.color}, shade={self.shade}, shape={self.shape})\"\n",
    "\n",
    "    def draw_shape(self):\n",
    "        print(f\"Drawing a {self.shape} with color {self.color} and shade {self.shade}\")\n"
   ]
  },
  {
   "cell_type": "code",
   "execution_count": 23,
   "metadata": {},
   "outputs": [
    {
     "name": "stdout",
     "output_type": "stream",
     "text": [
      "100\n",
      "square\n",
      "Drawing a square with color 100 and shade 40\n"
     ]
    }
   ],
   "source": [
    "draw_square = Drawing(100, 50, \"square\")\n",
    "print(draw_square.color)\n",
    "print(draw_square.shape)\n",
    "draw_square.make_darker()\n",
    "draw_square.draw_shape()"
   ]
  },
  {
   "cell_type": "code",
   "execution_count": null,
   "metadata": {},
   "outputs": [],
   "source": []
  }
 ],
 "metadata": {
  "kernelspec": {
   "display_name": ".venv",
   "language": "python",
   "name": "python3"
  },
  "language_info": {
   "codemirror_mode": {
    "name": "ipython",
    "version": 3
   },
   "file_extension": ".py",
   "mimetype": "text/x-python",
   "name": "python",
   "nbconvert_exporter": "python",
   "pygments_lexer": "ipython3",
   "version": "3.12.0"
  }
 },
 "nbformat": 4,
 "nbformat_minor": 2
}
