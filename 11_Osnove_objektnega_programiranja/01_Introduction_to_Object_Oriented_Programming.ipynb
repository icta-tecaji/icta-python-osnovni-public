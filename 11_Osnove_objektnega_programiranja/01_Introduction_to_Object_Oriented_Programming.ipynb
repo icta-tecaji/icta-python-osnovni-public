{
 "cells": [
  {
   "cell_type": "markdown",
   "metadata": {},
   "source": [
    "# Introduction to Object-Oriented Programming"
   ]
  },
  {
   "cell_type": "markdown",
   "metadata": {},
   "source": [
    "## Objects in Python"
   ]
  },
  {
   "cell_type": "markdown",
   "metadata": {},
   "source": [
    "**Everything in Python is an object.** When we write literal values like \"Hello, world!\" or 42, we're actually creating instances of built-in classes."
   ]
  },
  {
   "cell_type": "code",
   "execution_count": 1,
   "metadata": {},
   "outputs": [
    {
     "data": {
      "text/plain": [
       "str"
      ]
     },
     "execution_count": 1,
     "metadata": {},
     "output_type": "execute_result"
    }
   ],
   "source": [
    "type(\"Hello, world!\")"
   ]
  },
  {
   "cell_type": "code",
   "execution_count": 2,
   "metadata": {},
   "outputs": [
    {
     "data": {
      "text/plain": [
       "int"
      ]
     },
     "execution_count": 2,
     "metadata": {},
     "output_type": "execute_result"
    }
   ],
   "source": [
    "type(42)"
   ]
  },
  {
   "cell_type": "markdown",
   "metadata": {},
   "source": [
    "The point of object-oriented programming is to solve a problem via the interactions of objects. Here are the first two core rules of how Python objects work:\n",
    "- Everything in Python is an object\n",
    "- Every object is defined by being an instance of at least one class"
   ]
  },
  {
   "cell_type": "markdown",
   "metadata": {},
   "source": [
    "# Razlaga"
   ]
  },
  {
   "cell_type": "code",
   "execution_count": 1,
   "metadata": {},
   "outputs": [],
   "source": [
    "class MojRazred:\n",
    "    pass\n"
   ]
  },
  {
   "cell_type": "code",
   "execution_count": 54,
   "metadata": {},
   "outputs": [],
   "source": [
    "from __future__ import annotations\n",
    "import math\n",
    "\n",
    "\n",
    "class Circle:\n",
    "    \"\"\"A class representing a circle.\"\"\"\n",
    "\n",
    "    def __init__(self: Circle, radius: float, color: str = \"red\") -> None:\n",
    "        \"\"\"Initialize a circle with a given radius.\"\"\"\n",
    "        self.radius = radius\n",
    "        self.color = color\n",
    "\n",
    "    def __str__(self: Circle) -> str:\n",
    "        \"\"\"Return a string representation of a circle.\"\"\"\n",
    "        return f\"Circle(radius={self.radius}, color={self.color})\"\n",
    "\n",
    "    def __repr__(self: Circle) -> str:\n",
    "        \"\"\"Return a string representation of a circle.\"\"\"\n",
    "        return f\"Circle(radius={self.radius}, color={self.color})\"\n",
    "\n",
    "    def __eq__(self: Circle, other: Circle) -> bool:\n",
    "        \"\"\"Check if two circles are equal.\"\"\"\n",
    "        return self.radius == other.radius and self.color == other.color\n",
    "\n",
    "    def calculate_area(self: Circle, *, output_unit: str = \"cm\") -> float | None:\n",
    "        \"\"\"Calculate the area of a circle.\"\"\"\n",
    "        radius_in_selected_unit = self.__convert_cm_to_selected_unit(\n",
    "            self.radius,\n",
    "            output_unit,\n",
    "        )\n",
    "        if radius_in_selected_unit is None:\n",
    "            return None\n",
    "        return round(math.pi * radius_in_selected_unit**2, 2)\n",
    "\n",
    "    def calculate_circumference(\n",
    "        self: Circle,\n",
    "        *,\n",
    "        output_unit: str = \"cm\",\n",
    "    ) -> float | None:\n",
    "        \"\"\"Calculate the circumference of a circle.\"\"\"\n",
    "        radius_in_selected_unit = self.__convert_cm_to_selected_unit(\n",
    "            self.radius,\n",
    "            output_unit,\n",
    "        )\n",
    "        if radius_in_selected_unit is None:\n",
    "            return None\n",
    "        return round(2 * math.pi * radius_in_selected_unit, 2)\n",
    "\n",
    "    def calculate_diameter(self: Circle, *, output_unit: str = \"cm\") -> float | None:\n",
    "        \"\"\"Calculate the diameter of a circle.\"\"\"\n",
    "        radius_in_selected_unit = self.__convert_cm_to_selected_unit(\n",
    "            self.radius,\n",
    "            output_unit,\n",
    "        )\n",
    "        if radius_in_selected_unit is None:\n",
    "            return None\n",
    "        return round(2 * radius_in_selected_unit, 2)\n",
    "\n",
    "    def __convert_cm_to_selected_unit(\n",
    "        self: Circle,\n",
    "        cm: float,\n",
    "        output_unit: str,\n",
    "    ) -> float | None:\n",
    "        \"\"\"Convert centimeters to a selected unit.\"\"\"\n",
    "        if output_unit == \"cm\":\n",
    "            return cm\n",
    "\n",
    "        if output_unit == \"m\":\n",
    "            return cm / 100\n",
    "\n",
    "        if output_unit == \"km\":\n",
    "            return cm / 100_000\n",
    "\n",
    "        if output_unit == \"in\":\n",
    "            return self.__convert_cm_to_in(cm)\n",
    "\n",
    "        return None\n",
    "\n",
    "    def __convert_cm_to_in(self: Circle, cm: float) -> float:\n",
    "        \"\"\"Convert centimeters to inches.\"\"\"\n",
    "        return cm / 2.54"
   ]
  },
  {
   "cell_type": "code",
   "execution_count": 52,
   "metadata": {},
   "outputs": [
    {
     "name": "stdout",
     "output_type": "stream",
     "text": [
      "Circle(radius=5, color=red) <class '__main__.Circle'>\n",
      "5\n",
      "10\n",
      "78.54\n",
      "314.16\n",
      "31.42\n",
      "red blue\n"
     ]
    }
   ],
   "source": [
    "krog1 = Circle(5)\n",
    "krog2 = Circle(10, \"blue\")\n",
    "\n",
    "print(krog1, type(krog1))\n",
    "print(krog1.radius)\n",
    "print(krog2.radius)\n",
    "print(krog1.calculate_area())\n",
    "print(krog2.calculate_area())\n",
    "print(krog1.calculate_circumference())\n",
    "print(krog1.color, krog2.color)\n"
   ]
  },
  {
   "cell_type": "code",
   "execution_count": 56,
   "metadata": {},
   "outputs": [
    {
     "name": "stdout",
     "output_type": "stream",
     "text": [
      "78.54\n"
     ]
    },
    {
     "data": {
      "text/plain": [
       "0.1"
      ]
     },
     "execution_count": 56,
     "metadata": {},
     "output_type": "execute_result"
    }
   ],
   "source": [
    "krog3 = Circle(5, \"red\")\n",
    "\n",
    "print(krog3.calculate_area())\n",
    "krog3.calculate_diameter(output_unit=\"m\")"
   ]
  },
  {
   "cell_type": "code",
   "execution_count": 55,
   "metadata": {},
   "outputs": [
    {
     "name": "stdout",
     "output_type": "stream",
     "text": [
      "78.54\n",
      "314.16\n"
     ]
    }
   ],
   "source": [
    "krog1 = Circle(5)\n",
    "print(krog1.calculate_area())\n",
    "krog1.radius = 10\n",
    "print(krog1.calculate_area())"
   ]
  },
  {
   "cell_type": "code",
   "execution_count": null,
   "metadata": {},
   "outputs": [],
   "source": []
  },
  {
   "cell_type": "code",
   "execution_count": null,
   "metadata": {},
   "outputs": [],
   "source": []
  }
 ],
 "metadata": {
  "kernelspec": {
   "display_name": ".venv",
   "language": "python",
   "name": "python3"
  },
  "language_info": {
   "codemirror_mode": {
    "name": "ipython",
    "version": 3
   },
   "file_extension": ".py",
   "mimetype": "text/x-python",
   "name": "python",
   "nbconvert_exporter": "python",
   "pygments_lexer": "ipython3",
   "version": "3.12.0"
  }
 },
 "nbformat": 4,
 "nbformat_minor": 2
}
