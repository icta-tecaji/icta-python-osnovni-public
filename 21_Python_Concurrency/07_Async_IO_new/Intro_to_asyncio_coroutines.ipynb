{
 "cells": [
  {
   "cell_type": "markdown",
   "id": "ca36da5a",
   "metadata": {},
   "source": [
    "# Intro to asyncio - croutines"
   ]
  },
  {
   "cell_type": "markdown",
   "id": "13d533e0",
   "metadata": {},
   "source": [
    "## Subgenerators with yield from"
   ]
  },
  {
   "cell_type": "markdown",
   "id": "1558b44e",
   "metadata": {},
   "source": [
    "The `yield from` expression syntax was introduced in Python 3.3 to allow a generator to delegate work to a subgenerator.\n",
    "\n",
    "Before `yield from` was introduced, we used a for loop when a generator needed to yield values produced from another generator:"
   ]
  },
  {
   "cell_type": "code",
   "execution_count": null,
   "id": "985fb780",
   "metadata": {},
   "outputs": [],
   "source": [
    "def sub_gen():\n",
    "    yield 1.1\n",
    "    yield 1.2"
   ]
  },
  {
   "cell_type": "code",
   "execution_count": null,
   "id": "8d1ed041",
   "metadata": {},
   "outputs": [],
   "source": [
    "def gen():\n",
    "    yield 1\n",
    "    for i in sub_gen():\n",
    "        yield i\n",
    "    yield 2"
   ]
  },
  {
   "cell_type": "code",
   "execution_count": null,
   "id": "6dbd9bc2",
   "metadata": {},
   "outputs": [],
   "source": [
    "for x in gen():\n",
    "    print(x)"
   ]
  },
  {
   "cell_type": "markdown",
   "id": "1dc684a4",
   "metadata": {},
   "source": [
    "We can get the same result using `yield from`:"
   ]
  },
  {
   "cell_type": "code",
   "execution_count": null,
   "id": "4739d6f3",
   "metadata": {},
   "outputs": [],
   "source": [
    "def sub_gen():\n",
    "    yield 1.1\n",
    "    yield 1.2\n",
    "\n",
    "def gen():\n",
    "    yield 1\n",
    "    yield from sub_gen()\n",
    "    yield 2\n",
    "    \n",
    "for x in gen():\n",
    "    print(x)"
   ]
  },
  {
   "cell_type": "markdown",
   "id": "47bcaea7",
   "metadata": {},
   "source": [
    "In Example, the for loop is the client code, gen is the delegating generator, and sub_gen is the subgenerator. Note that yield from **pauses gen**, and sub_gen takes over until it is exhausted. The **values yielded by `sub_gen` pass through gen directly to the client for loop**. Meanwhile, **gen is suspended and cannot see the values passing through it**. Only when sub_gen is done, gen resumes.\n",
    "\n",
    "When the subgenerator contains a `return` statement with a value, that **value can be captured in the delegating generator** by using yield from as part of an expression. Example 17-26 demonstrates."
   ]
  },
  {
   "cell_type": "code",
   "execution_count": null,
   "id": "5d158807",
   "metadata": {},
   "outputs": [],
   "source": [
    "def sub_gen():\n",
    "    yield 1.1\n",
    "    yield 1.2\n",
    "    return 'Done!'\n",
    "\n",
    "def gen():\n",
    "    yield 1\n",
    "    result = yield from sub_gen()\n",
    "    print('<--', result)\n",
    "    yield 2\n",
    "    \n",
    "for x in gen():\n",
    "    print(x)"
   ]
  },
  {
   "cell_type": "markdown",
   "id": "4dd3f60e",
   "metadata": {},
   "source": [
    "Now that we’ve seen the basics of yield from, let’s study a couple of simple but practical examples of its use."
   ]
  },
  {
   "cell_type": "markdown",
   "id": "afee6479",
   "metadata": {},
   "source": [
    "### Reinventing chain"
   ]
  },
  {
   "cell_type": "markdown",
   "id": "0c91071f",
   "metadata": {},
   "source": [
    "We saw in Table 17-3 that `itertools` provides a `chain` generator that yields items from several iterables, iterating over the first, then the second, and so on up to the last. This is a homemade implementation of chain with nested for loops in Python:"
   ]
  },
  {
   "cell_type": "code",
   "execution_count": null,
   "id": "17cda1ac",
   "metadata": {},
   "outputs": [],
   "source": [
    "def chain(*iterables):\n",
    "    for it in iterables:\n",
    "        for i in it:\n",
    "            yield i\n",
    "            \n",
    "s = 'ABC'\n",
    "r = range(3)\n",
    "list(chain(s, r))"
   ]
  },
  {
   "cell_type": "markdown",
   "id": "c3b50d44",
   "metadata": {},
   "source": [
    "The chain generator in the preceding code is delegating to each iterable it in turn, by driving each it in the inner for loop. That inner loop can be replaced with a yield from expression, as shown in the next console listing:"
   ]
  },
  {
   "cell_type": "code",
   "execution_count": null,
   "id": "0767115d",
   "metadata": {},
   "outputs": [],
   "source": [
    "def chain(*iterables):\n",
    "    for i in iterables:\n",
    "        yield from i"
   ]
  },
  {
   "cell_type": "code",
   "execution_count": null,
   "id": "f48e1d5e",
   "metadata": {},
   "outputs": [],
   "source": [
    "list(chain(s, r))"
   ]
  },
  {
   "cell_type": "markdown",
   "id": "a6306494",
   "metadata": {},
   "source": [
    "The use of yield from in this example is correct, and the code reads better, but it seems like syntactic sugar with little real gain. Now let’s develop a more interesting example."
   ]
  },
  {
   "cell_type": "markdown",
   "id": "fb69164e",
   "metadata": {},
   "source": [
    "### Traversing a Tree"
   ]
  },
  {
   "cell_type": "markdown",
   "id": "6de00a0f",
   "metadata": {},
   "source": [
    "In this section, we’ll see yield from in a script to traverse a tree structure. I will build it in baby steps.\n",
    "\n",
    "The tree structure for this example is Python’s exception hierarchy. But the pattern can be adapted to show a directory tree or any other tree structure.\n",
    "\n",
    "Starting from BaseException at level zero, the exception hierarchy is five levels deep as of Python 3.10. Our first baby step is to show level zero.\n",
    "\n",
    "Given a root class, the tree generator in Example 17-27 yields its name and stops."
   ]
  },
  {
   "cell_type": "code",
   "execution_count": null,
   "id": "08fc5ddf",
   "metadata": {},
   "outputs": [],
   "source": [
    "def tree(cls):\n",
    "    yield cls.__name__\n",
    "\n",
    "\n",
    "def display(cls):\n",
    "    for cls_name in tree(cls):\n",
    "        print(cls_name)\n",
    "\n",
    "if __name__ == '__main__':\n",
    "    display(BaseException)"
   ]
  },
  {
   "cell_type": "markdown",
   "id": "1127f836",
   "metadata": {},
   "source": [
    "The next baby step takes us to level 1. The tree generator will yield the name of the root class and the names of each direct subclass. The names of the subclasses are indented to reveal the hierarchy. This is the output we want:"
   ]
  },
  {
   "cell_type": "code",
   "execution_count": null,
   "id": "bb121a84",
   "metadata": {},
   "outputs": [],
   "source": [
    "def tree(cls):\n",
    "    yield cls.__name__, 0                  \n",
    "    for sub_cls in cls.__subclasses__():         \n",
    "        yield sub_cls.__name__, 1                \n",
    "\n",
    "\n",
    "def display(cls):\n",
    "    for cls_name, level in tree(cls):\n",
    "        indent = ' ' * 4 * level                 \n",
    "        print(f'{indent}{cls_name}')\n",
    "\n",
    "\n",
    "if __name__ == '__main__':\n",
    "    display(BaseException)"
   ]
  },
  {
   "cell_type": "markdown",
   "id": "075442be",
   "metadata": {},
   "source": [
    "- To support the indented output, yield the name of the class and its level in the hierarchy.\n",
    "- Use the `__subclasses__` special method to get a list of subclasses.\n",
    "- Yield name of subclass and level 1.\n",
    "- Build indentation string of 4 spaces times level. At level zero, this will be an empty string."
   ]
  },
  {
   "cell_type": "markdown",
   "id": "9ea0fe55",
   "metadata": {},
   "source": [
    "In Example 17-29, I refactor tree to separate the special case of the root class from the subclasses, which are now handled in the sub_tree generator. At yield from, the tree generator is suspended, and sub_tree takes over yielding values."
   ]
  },
  {
   "cell_type": "code",
   "execution_count": null,
   "id": "905a579c",
   "metadata": {},
   "outputs": [],
   "source": [
    "def tree(cls):\n",
    "    yield cls.__name__, 0\n",
    "    yield from sub_tree(cls)              \n",
    "\n",
    "\n",
    "def sub_tree(cls):\n",
    "    for sub_cls in cls.__subclasses__():\n",
    "        yield sub_cls.__name__, 1         \n",
    "\n",
    "\n",
    "def display(cls):\n",
    "    for cls_name, level in tree(cls):     \n",
    "        indent = ' ' * 4 * level\n",
    "        print(f'{indent}{cls_name}')\n",
    "\n",
    "\n",
    "if __name__ == '__main__':\n",
    "    display(BaseException)"
   ]
  },
  {
   "cell_type": "markdown",
   "id": "0642c05a",
   "metadata": {},
   "source": [
    "- Delegate to sub_tree to yield the names of the subclasses.\n",
    "- Yield the name of each subclass and level 1. Because of the yield from sub_tree(cls) inside tree, these values bypass the tree generator function completely… … and are received directly here."
   ]
  },
  {
   "cell_type": "markdown",
   "id": "5efac3ec",
   "metadata": {},
   "source": [
    "In keeping with the baby steps method, I’ll write the simplest code I can imagine to reach level 2. For depth-first tree traversal, after yielding each node in level 1, I want to yield the children of that node in level 2, before resuming level 1. A nested for loop takes care of that, as in Example 17-30."
   ]
  },
  {
   "cell_type": "code",
   "execution_count": null,
   "id": "bf30025f",
   "metadata": {},
   "outputs": [],
   "source": [
    "def tree(cls):\n",
    "    yield cls.__name__, 0\n",
    "    yield from sub_tree(cls)\n",
    "\n",
    "\n",
    "def sub_tree(cls):\n",
    "    for sub_cls in cls.__subclasses__():\n",
    "        yield sub_cls.__name__, 1\n",
    "        for sub_sub_cls in sub_cls.__subclasses__():\n",
    "            yield sub_sub_cls.__name__, 2\n",
    "\n",
    "\n",
    "def display(cls):\n",
    "    for cls_name, level in tree(cls):\n",
    "        indent = ' ' * 4 * level\n",
    "        print(f'{indent}{cls_name}')\n",
    "\n",
    "\n",
    "if __name__ == '__main__':\n",
    "    display(BaseException)"
   ]
  },
  {
   "cell_type": "markdown",
   "id": "fc8b1ebe",
   "metadata": {},
   "source": [
    "You may already know where this is going, but I will stick to baby steps one more time: let’s reach level 3 by adding yet another nested for loop. The rest of the program is unchanged, so Example 17-31 shows only the sub_tree generator."
   ]
  },
  {
   "cell_type": "code",
   "execution_count": null,
   "id": "ccbc4cb6",
   "metadata": {},
   "outputs": [],
   "source": [
    "def tree(cls):\n",
    "    yield cls.__name__, 0\n",
    "    yield from sub_tree(cls)\n",
    "\n",
    "\n",
    "def sub_tree(cls):\n",
    "    for sub_cls in cls.__subclasses__():\n",
    "        yield sub_cls.__name__, 1\n",
    "        for sub_sub_cls in sub_cls.__subclasses__():\n",
    "            yield sub_sub_cls.__name__, 2\n",
    "            for sub_sub_sub_cls in sub_sub_cls.__subclasses__():\n",
    "                yield sub_sub_sub_cls.__name__, 3\n",
    "\n",
    "\n",
    "def display(cls):\n",
    "    for cls_name, level in tree(cls):\n",
    "        indent = ' ' * 4 * level\n",
    "        print(f'{indent}{cls_name}')\n",
    "\n",
    "\n",
    "if __name__ == '__main__':\n",
    "    display(BaseException)"
   ]
  },
  {
   "cell_type": "markdown",
   "id": "85aa6e0a",
   "metadata": {},
   "source": [
    "There is a clear pattern in Example 17-31. We do a for loop to get the subclasses of level N. Each time around the loop, we yield a subclass of level N, then start another for loop to visit level N+1.\n",
    "\n",
    "In “Reinventing chain”, we saw how we can replace a nested for loop driving a generator with yield from on the same generator. We can apply that idea here, if we make sub_tree accept a level parameter, and yield from it recursively, passing the current subclass as the new root class with the next level number. See Example 17-32."
   ]
  },
  {
   "cell_type": "code",
   "execution_count": null,
   "id": "cf5df56d",
   "metadata": {},
   "outputs": [],
   "source": [
    "def tree(cls):\n",
    "    yield cls.__name__, 0\n",
    "    yield from sub_tree(cls, 1)\n",
    "\n",
    "\n",
    "def sub_tree(cls, level):\n",
    "    for sub_cls in cls.__subclasses__():\n",
    "        yield sub_cls.__name__, level\n",
    "        yield from sub_tree(sub_cls, level+1)\n",
    "\n",
    "\n",
    "def display(cls):\n",
    "    for cls_name, level in tree(cls):\n",
    "        indent = ' ' * 4 * level\n",
    "        print(f'{indent}{cls_name}')\n",
    "\n",
    "\n",
    "if __name__ == '__main__':\n",
    "    display(BaseException)"
   ]
  },
  {
   "cell_type": "markdown",
   "id": "78970d08",
   "metadata": {},
   "source": [
    "Example 17-32 can traverse trees of any depth, limited only by Python’s recursion limit. The default limit allows 1,000 pending functions.\n",
    "\n",
    "Any good tutorial about recursion will stress the importance of having a base case to avoid infinite recursion. A base case is a conditional branch that returns without making a recursive call. The base case is often implemented with an if statement. In Example 17-32, sub_tree has no if, but there is an implicit conditional in the for loop: `if cls.__subclasses__()` returns an empty list, the body of the loop is not executed, therefore no recursive call happens. The base case is when the cls class has no subclasses. In that case, sub_tree yields nothing. It just returns.\n",
    "\n",
    "Example 17-32 works as intended, but we can make it more concise by recalling the pattern we observed when we reached level 3 (Example 17-31): we yield a subclass with level N, then start a nested for loop to visit level N+1. In Example 17-32 we replaced that nested loop with yield from. Now we can merge tree and sub_tree into a single generator. Example 17-33 is the last step for this example.\n"
   ]
  },
  {
   "cell_type": "code",
   "execution_count": null,
   "id": "0d7028ec",
   "metadata": {},
   "outputs": [],
   "source": [
    "def tree(cls, level=0):\n",
    "    yield cls.__name__, level\n",
    "    for sub_cls in cls.__subclasses__():\n",
    "        yield from tree(sub_cls, level+1)\n",
    "\n",
    "\n",
    "def display(cls):\n",
    "    for cls_name, level in tree(cls):\n",
    "        indent = ' ' * 4 * level\n",
    "        print(f'{indent}{cls_name}')\n",
    "\n",
    "\n",
    "if __name__ == '__main__':\n",
    "    display(BaseException)"
   ]
  },
  {
   "cell_type": "markdown",
   "id": "e9b6ce06",
   "metadata": {},
   "source": [
    "At the start of “Subgenerators with yield from”, we saw how yield from connects the subgenerator directly to the client code, bypassing the delegating generator. That connection becomes really important when generators are used as coroutines and not only produce but also consume values from the client code, as we’ll see in “Classic Coroutines”."
   ]
  },
  {
   "cell_type": "markdown",
   "id": "508e1eb4",
   "metadata": {},
   "source": [
    "## Classic Coroutines"
   ]
  },
  {
   "cell_type": "markdown",
   "id": "52f778d7",
   "metadata": {},
   "source": [
    "Understanding classic coroutines in Python is confusing because they are **actually generators used in a different way**. So let’s step back and consider another feature of Python that can be used in two ways.\n",
    "\n"
   ]
  },
  {
   "cell_type": "markdown",
   "id": "9d2882e2",
   "metadata": {},
   "source": [
    "Generators are commonly used as iterators, but they can also be used as coroutines. A **coroutine is really a generator function, created with the yield keyword in its body**. And a coroutine object is physically a generator object. Despite sharing the same underlying implementation in C, the use cases of generators and coroutines in Python are different."
   ]
  },
  {
   "cell_type": "markdown",
   "id": "d271d464",
   "metadata": {},
   "source": [
    "David Beazley created some of the best talks and most comprehensive workshops about classic coroutines. In his PyCon 2009 course handout, he has a slide titled “Keeping It Straight,” which reads:\n",
    "- Generators produce data for iteration\n",
    "- Coroutines are consumers of data\n",
    "- To keep your brain from exploding, don’t mix the two concepts together\n",
    "- Coroutines are not related to iteration\n",
    "- Note: There is a use of having `yield` produce a value in a coroutine, but it’s not tied to iteration.\n",
    "\n",
    "Now let’s see how classic coroutines work."
   ]
  },
  {
   "cell_type": "markdown",
   "id": "4d570e19",
   "metadata": {},
   "source": [
    "### Basic Behavior of a Generator Used as a Coroutine"
   ]
  },
  {
   "cell_type": "markdown",
   "id": "ca6ee535",
   "metadata": {},
   "source": [
    "Simplest possible demonstration of coroutine in action:"
   ]
  },
  {
   "cell_type": "code",
   "execution_count": 18,
   "id": "a625acc6",
   "metadata": {},
   "outputs": [],
   "source": [
    "def simple_coroutine():  # (1)\n",
    "    print('-> coroutine started')\n",
    "    x = yield  # (2)\n",
    "    print('-> coroutine received:', x)"
   ]
  },
  {
   "cell_type": "code",
   "execution_count": 19,
   "id": "67a85908",
   "metadata": {},
   "outputs": [],
   "source": [
    "my_coro = simple_coroutine()"
   ]
  },
  {
   "cell_type": "code",
   "execution_count": 20,
   "id": "471e4e9c",
   "metadata": {},
   "outputs": [
    {
     "data": {
      "text/plain": [
       "<generator object simple_coroutine at 0x7f4985114c10>"
      ]
     },
     "execution_count": 20,
     "metadata": {},
     "output_type": "execute_result"
    }
   ],
   "source": [
    "my_coro"
   ]
  },
  {
   "cell_type": "code",
   "execution_count": 21,
   "id": "918e7906",
   "metadata": {},
   "outputs": [
    {
     "name": "stdout",
     "output_type": "stream",
     "text": [
      "-> coroutine started\n"
     ]
    }
   ],
   "source": [
    "next(my_coro)"
   ]
  },
  {
   "cell_type": "code",
   "execution_count": 22,
   "id": "42eb2836",
   "metadata": {},
   "outputs": [
    {
     "name": "stdout",
     "output_type": "stream",
     "text": [
      "-> coroutine received: 42\n"
     ]
    },
    {
     "ename": "StopIteration",
     "evalue": "",
     "output_type": "error",
     "traceback": [
      "\u001b[0;31m---------------------------------------------------------------------------\u001b[0m",
      "\u001b[0;31mStopIteration\u001b[0m                             Traceback (most recent call last)",
      "Input \u001b[0;32mIn [22]\u001b[0m, in \u001b[0;36m<cell line: 1>\u001b[0;34m()\u001b[0m\n\u001b[0;32m----> 1\u001b[0m \u001b[43mmy_coro\u001b[49m\u001b[38;5;241;43m.\u001b[39;49m\u001b[43msend\u001b[49m\u001b[43m(\u001b[49m\u001b[38;5;241;43m42\u001b[39;49m\u001b[43m)\u001b[49m\n",
      "\u001b[0;31mStopIteration\u001b[0m: "
     ]
    }
   ],
   "source": [
    "my_coro.send(42)"
   ]
  },
  {
   "cell_type": "markdown",
   "id": "0defe027",
   "metadata": {},
   "source": [
    "1. A coroutine is defined as a generator function: with yield in its body.\n",
    "2. yield is used in an expression; when the coroutine is designed just to receive data from the client it yields None—this is implicit because there is no expression to the right of the yield keyword.\n",
    "3. As usual with generators, you call the function to get a generator object back.\n",
    "4. The first call is next(…) because the generator hasn’t started so it’s not waiting in a yield and we can’t send it any data initially.\n",
    "5. This call makes the yield in the coroutine body evaluate to 42; now the coroutine resumes and runs until the next yield or termination.\n",
    "6. In this case, control flows off the end of the coroutine body, which prompts the generator machinery to raise StopIteration, as usual."
   ]
  },
  {
   "cell_type": "markdown",
   "id": "268fe889",
   "metadata": {},
   "source": [
    "A coroutine can be in one of four states. You can determine the current state using the `inspect.getgeneratorstate(…)` function, which returns one of these strings:\n",
    "- `GEN_CREATED` - Waiting to start execution.\n",
    "- `GEN_RUNNING` - Currently being executed by the interpreter\n",
    "- `GEN_SUSPENDED` - Currently suspended at a yield expression.\n",
    "- `GEN_CLOSED` - Execution has completed.\n",
    "\n",
    "Because the argument to the send method will become the value of the pending yield expression, it follows that you can only make a call like my_coro.send(42) if the coroutine is currently suspended. But that’s not the case if the coroutine has never been activated when its state is 'GEN_CREATED'. That’s why the first activation of a coroutine is always done with next(my_coro)—you can also call my_coro.send(None), and the effect is the same.\n",
    "\n",
    "If you create a coroutine object and immediately try to send it a value that is not None, this is what happens:"
   ]
  },
  {
   "cell_type": "code",
   "execution_count": 23,
   "id": "e9559321",
   "metadata": {},
   "outputs": [],
   "source": [
    "my_coro = simple_coroutine()"
   ]
  },
  {
   "cell_type": "code",
   "execution_count": 24,
   "id": "33461c13",
   "metadata": {},
   "outputs": [
    {
     "ename": "TypeError",
     "evalue": "can't send non-None value to a just-started generator",
     "output_type": "error",
     "traceback": [
      "\u001b[0;31m---------------------------------------------------------------------------\u001b[0m",
      "\u001b[0;31mTypeError\u001b[0m                                 Traceback (most recent call last)",
      "Input \u001b[0;32mIn [24]\u001b[0m, in \u001b[0;36m<cell line: 1>\u001b[0;34m()\u001b[0m\n\u001b[0;32m----> 1\u001b[0m \u001b[43mmy_coro\u001b[49m\u001b[38;5;241;43m.\u001b[39;49m\u001b[43msend\u001b[49m\u001b[43m(\u001b[49m\u001b[38;5;241;43m1729\u001b[39;49m\u001b[43m)\u001b[49m\n",
      "\u001b[0;31mTypeError\u001b[0m: can't send non-None value to a just-started generator"
     ]
    }
   ],
   "source": [
    "my_coro.send(1729)"
   ]
  },
  {
   "cell_type": "markdown",
   "id": "5a788780",
   "metadata": {},
   "source": [
    "Note the error message: it’s quite clear.\n",
    "\n",
    "The initial call next(my_coro) is often described as \"priming\" the coroutine (i.e., advancing it to the first yield to make it ready for use as a live coroutine).\n",
    "\n",
    "To get a better feel for the behavior of a coroutine, an example that yields more than once is useful."
   ]
  },
  {
   "cell_type": "code",
   "execution_count": 25,
   "id": "a467692d",
   "metadata": {},
   "outputs": [],
   "source": [
    "def simple_coro2(a):\n",
    "    print('-> Started: a =', a)\n",
    "    b = yield a\n",
    "    print('-> Received: b =', b)\n",
    "    c = yield a + b\n",
    "    print('-> Received: c =', c)"
   ]
  },
  {
   "cell_type": "code",
   "execution_count": 26,
   "id": "a555c975",
   "metadata": {},
   "outputs": [],
   "source": [
    "my_coro2 = simple_coro2(14)"
   ]
  },
  {
   "cell_type": "code",
   "execution_count": 27,
   "id": "284d34fd",
   "metadata": {},
   "outputs": [],
   "source": [
    "from inspect import getgeneratorstate"
   ]
  },
  {
   "cell_type": "code",
   "execution_count": 28,
   "id": "5024ba3b",
   "metadata": {},
   "outputs": [
    {
     "data": {
      "text/plain": [
       "'GEN_CREATED'"
      ]
     },
     "execution_count": 28,
     "metadata": {},
     "output_type": "execute_result"
    }
   ],
   "source": [
    "getgeneratorstate(my_coro2)"
   ]
  },
  {
   "cell_type": "code",
   "execution_count": 29,
   "id": "c913a892",
   "metadata": {},
   "outputs": [
    {
     "name": "stdout",
     "output_type": "stream",
     "text": [
      "-> Started: a = 14\n"
     ]
    },
    {
     "data": {
      "text/plain": [
       "14"
      ]
     },
     "execution_count": 29,
     "metadata": {},
     "output_type": "execute_result"
    }
   ],
   "source": [
    "next(my_coro2)"
   ]
  },
  {
   "cell_type": "code",
   "execution_count": 30,
   "id": "55486a0d",
   "metadata": {},
   "outputs": [
    {
     "data": {
      "text/plain": [
       "'GEN_SUSPENDED'"
      ]
     },
     "execution_count": 30,
     "metadata": {},
     "output_type": "execute_result"
    }
   ],
   "source": [
    "getgeneratorstate(my_coro2)"
   ]
  },
  {
   "cell_type": "code",
   "execution_count": 31,
   "id": "0b113b36",
   "metadata": {},
   "outputs": [
    {
     "name": "stdout",
     "output_type": "stream",
     "text": [
      "-> Received: b = 28\n"
     ]
    },
    {
     "data": {
      "text/plain": [
       "42"
      ]
     },
     "execution_count": 31,
     "metadata": {},
     "output_type": "execute_result"
    }
   ],
   "source": [
    "my_coro2.send(28)"
   ]
  },
  {
   "cell_type": "code",
   "execution_count": 32,
   "id": "84160c19",
   "metadata": {},
   "outputs": [
    {
     "name": "stdout",
     "output_type": "stream",
     "text": [
      "-> Received: c = 99\n"
     ]
    },
    {
     "ename": "StopIteration",
     "evalue": "",
     "output_type": "error",
     "traceback": [
      "\u001b[0;31m---------------------------------------------------------------------------\u001b[0m",
      "\u001b[0;31mStopIteration\u001b[0m                             Traceback (most recent call last)",
      "Input \u001b[0;32mIn [32]\u001b[0m, in \u001b[0;36m<cell line: 1>\u001b[0;34m()\u001b[0m\n\u001b[0;32m----> 1\u001b[0m \u001b[43mmy_coro2\u001b[49m\u001b[38;5;241;43m.\u001b[39;49m\u001b[43msend\u001b[49m\u001b[43m(\u001b[49m\u001b[38;5;241;43m99\u001b[39;49m\u001b[43m)\u001b[49m\n",
      "\u001b[0;31mStopIteration\u001b[0m: "
     ]
    }
   ],
   "source": [
    "my_coro2.send(99)"
   ]
  },
  {
   "cell_type": "code",
   "execution_count": 33,
   "id": "39d1e136",
   "metadata": {},
   "outputs": [
    {
     "data": {
      "text/plain": [
       "'GEN_CLOSED'"
      ]
     },
     "execution_count": 33,
     "metadata": {},
     "output_type": "execute_result"
    }
   ],
   "source": [
    "getgeneratorstate(my_coro2)"
   ]
  },
  {
   "cell_type": "markdown",
   "id": "b3571304",
   "metadata": {},
   "source": [
    "It’s crucial to understand that the execution of the coroutine is suspended exactly at the yield keyword. As mentioned before, in an **assignment statement, the code to the right of the = is evaluated before the actual assignment happens**. This means that in a line like b = yield a, the value of b will only be set when the coroutine is activated later by the client code. It takes some effort to get used to this fact, but understanding it is essential to make sense of the use of yield in asynchronous programming, as we’ll see later."
   ]
  },
  {
   "cell_type": "markdown",
   "id": "35d32162",
   "metadata": {},
   "source": [
    "### Example: Coroutine to Compute a Running Average"
   ]
  },
  {
   "cell_type": "markdown",
   "id": "3e7cf9b4",
   "metadata": {},
   "source": [
    "While discussing closures in Chapter 9, we studied objects to compute a running average. Example 9-7 shows a class and Example 9-13 presents a higher-order function returning a function that keeps the total and count variables across invocations in a closure. Example 17-37 shows how to do the same with a coroutine."
   ]
  },
  {
   "cell_type": "code",
   "execution_count": 3,
   "id": "50a36ce0",
   "metadata": {},
   "outputs": [],
   "source": [
    "from collections.abc import Generator\n",
    "\n",
    "def averager() -> Generator[float, float, None]:  \n",
    "    total = 0.0\n",
    "    count = 0\n",
    "    average = 0.0\n",
    "    while True:  \n",
    "        term = yield average  \n",
    "        total += term\n",
    "        count += 1\n",
    "        average = total/count"
   ]
  },
  {
   "cell_type": "markdown",
   "id": "50278cd5",
   "metadata": {},
   "source": [
    "- This function returns a generator that yields float values, accepts float values via .send(), and does not return a useful value.\n",
    "- This infinite loop means the coroutine will keep on yielding averages as long as the client code sends values.\n",
    "- The yield statement here suspends the coroutine, yields a result to the client, and—later—gets a value sent by the caller to the coroutine, starting another iteration of the infinite loop."
   ]
  },
  {
   "cell_type": "markdown",
   "id": "d9f987b3",
   "metadata": {},
   "source": [
    "In a coroutine, total and count can be local variables: no instance attributes or closures are needed to keep the context while the coroutine is suspended waiting for the next .send(). That’s why coroutines are attractive replacements for callbacks in asynchronous programming—they keep local state between activations.\n",
    "\n",
    "Example 17-38 runs doctests to show the averager coroutine in operation."
   ]
  },
  {
   "cell_type": "code",
   "execution_count": 22,
   "id": "d55a0d33",
   "metadata": {},
   "outputs": [],
   "source": [
    "coro_avg = averager()"
   ]
  },
  {
   "cell_type": "code",
   "execution_count": 24,
   "id": "207103eb",
   "metadata": {},
   "outputs": [
    {
     "data": {
      "text/plain": [
       "0.0"
      ]
     },
     "execution_count": 24,
     "metadata": {},
     "output_type": "execute_result"
    }
   ],
   "source": [
    "next(coro_avg)"
   ]
  },
  {
   "cell_type": "code",
   "execution_count": 25,
   "id": "4acb764f",
   "metadata": {},
   "outputs": [
    {
     "data": {
      "text/plain": [
       "10.0"
      ]
     },
     "execution_count": 25,
     "metadata": {},
     "output_type": "execute_result"
    }
   ],
   "source": [
    "coro_avg.send(10)"
   ]
  },
  {
   "cell_type": "code",
   "execution_count": 26,
   "id": "5bd23545",
   "metadata": {},
   "outputs": [
    {
     "data": {
      "text/plain": [
       "20.0"
      ]
     },
     "execution_count": 26,
     "metadata": {},
     "output_type": "execute_result"
    }
   ],
   "source": [
    "coro_avg.send(30)"
   ]
  },
  {
   "cell_type": "code",
   "execution_count": 27,
   "id": "0b5658a6",
   "metadata": {},
   "outputs": [
    {
     "data": {
      "text/plain": [
       "15.0"
      ]
     },
     "execution_count": 27,
     "metadata": {},
     "output_type": "execute_result"
    }
   ],
   "source": [
    "coro_avg.send(5)"
   ]
  },
  {
   "cell_type": "markdown",
   "id": "ff3ad6be",
   "metadata": {},
   "source": [
    "Create the coroutine object.\n",
    "\n",
    "Start the coroutine. This yields the initial value of average: 0.0.\n",
    "\n",
    "Now we are in business: each call to `.send()` yields the current average."
   ]
  },
  {
   "cell_type": "markdown",
   "id": "5aba3308",
   "metadata": {},
   "source": [
    "In Example 17-38, the call next(coro_avg) makes the coroutine advance to the yield, yielding the initial value for average. You can also start the coroutine by `calling coro_avg.send(None)` — this is actually what the next() built-in does. But you can’t send any value other than None, because the coroutine can only accept a sent value when it is suspended at a yield line. Calling `next()` or `.send(None)` to advance to the first yield is known as “**priming the coroutine**.”\n",
    "\n",
    "After each activation, the coroutine is suspended precisely at the yield keyword, waiting for a value to be sent. The line `coro_avg.send(10)` provides that value, causing the coroutine to activate. The yield expression resolves to the value 10, assigning it to the term variable. The rest of the loop updates the total, count, and average variables. The next iteration in the while loop yields the average, and the coroutine is again suspended at the yield keyword.\n",
    "\n",
    "The attentive reader may be anxious to know how the execution of an averager instance (e.g., coro_avg) may be terminated, because its body is an infinite loop. We don’t usually need to terminate a generator, because it is garbage collected as soon as there are no more valid references to it. If you need to explicitly terminate it, use the .close() method, as shown in Example 17-39."
   ]
  },
  {
   "cell_type": "code",
   "execution_count": 28,
   "id": "4c7057e0",
   "metadata": {},
   "outputs": [
    {
     "data": {
      "text/plain": [
       "16.25"
      ]
     },
     "execution_count": 28,
     "metadata": {},
     "output_type": "execute_result"
    }
   ],
   "source": [
    "coro_avg.send(20)"
   ]
  },
  {
   "cell_type": "code",
   "execution_count": 29,
   "id": "e05ea5fe",
   "metadata": {},
   "outputs": [],
   "source": [
    "coro_avg.close() "
   ]
  },
  {
   "cell_type": "code",
   "execution_count": 30,
   "id": "f82b3d76",
   "metadata": {},
   "outputs": [],
   "source": [
    "coro_avg.close() "
   ]
  },
  {
   "cell_type": "code",
   "execution_count": 31,
   "id": "e86fbb85",
   "metadata": {},
   "outputs": [
    {
     "ename": "StopIteration",
     "evalue": "",
     "output_type": "error",
     "traceback": [
      "\u001b[0;31m---------------------------------------------------------------------------\u001b[0m",
      "\u001b[0;31mStopIteration\u001b[0m                             Traceback (most recent call last)",
      "Input \u001b[0;32mIn [31]\u001b[0m, in \u001b[0;36m<cell line: 1>\u001b[0;34m()\u001b[0m\n\u001b[0;32m----> 1\u001b[0m \u001b[43mcoro_avg\u001b[49m\u001b[38;5;241;43m.\u001b[39;49m\u001b[43msend\u001b[49m\u001b[43m(\u001b[49m\u001b[38;5;241;43m5\u001b[39;49m\u001b[43m)\u001b[49m\n",
      "\u001b[0;31mStopIteration\u001b[0m: "
     ]
    }
   ],
   "source": [
    "coro_avg.send(5) "
   ]
  },
  {
   "cell_type": "markdown",
   "id": "1e3beb6d",
   "metadata": {},
   "source": [
    "- coro_avg is the instance created in Example 17-38.\n",
    "- The `.close()` method raises GeneratorExit at the suspended yield expression. If not handled in the coroutine function, the exception terminates it. GeneratorExit is caught by the generator object that wraps the coroutine—that’s why we don’t see it.\n",
    "- Calling `.close()` on a previously closed coroutine has no effect.\n",
    "- Trying `.send()` on a closed coroutine raises StopIteration."
   ]
  },
  {
   "cell_type": "markdown",
   "id": "ba062207",
   "metadata": {},
   "source": [
    "### Returning a Value from a Coroutine"
   ]
  },
  {
   "cell_type": "markdown",
   "id": "b058aefc",
   "metadata": {},
   "source": [
    "We’ll now study another coroutine to compute an average. This version will not yield partial results. Instead, it returns a tuple with the number of terms and the average. I’ve split the listing in two parts:"
   ]
  },
  {
   "cell_type": "markdown",
   "id": "97a18605",
   "metadata": {},
   "source": [
    "> Sentinel values are a special type of value. This value allows users to know when they are sending input. So this is a value that won’t be the part of the input to be processed. It is a value that is also useful to terminate the loop."
   ]
  },
  {
   "cell_type": "code",
   "execution_count": 5,
   "id": "89159b1b",
   "metadata": {},
   "outputs": [],
   "source": [
    "from collections.abc import Generator\n",
    "from typing import Union, NamedTuple\n",
    "\n",
    "class Result(NamedTuple):  \n",
    "    count: int  # type: ignore  \n",
    "    average: float\n",
    "\n",
    "class Sentinel:  \n",
    "    def __repr__(self):\n",
    "        return f'<Sentinel>'\n",
    "\n",
    "STOP = Sentinel()  \n",
    "\n",
    "SendType = Union[float, Sentinel]"
   ]
  },
  {
   "cell_type": "markdown",
   "id": "0ff18f29",
   "metadata": {},
   "source": [
    "- the averager2 coroutine in Example 17-41 will return an instance of Result.\n",
    "- The Result is actually a subclass of tuple, which has a .count() method that I don’t need. The # type: ignore comment prevents Mypy from complaining about having a count field\n",
    "- A class to make a sentinel value with a readable `__repr__`.\n",
    "- The sentinel value that I’ll use to make the coroutine stop collecting data and return a result.\n",
    "- I’ll use this type alias for the second type parameter of the coroutine Generator return type, the SendType parameter."
   ]
  },
  {
   "cell_type": "markdown",
   "id": "40db7c79",
   "metadata": {},
   "source": [
    "Now, let’s study the coroutine code itself:"
   ]
  },
  {
   "cell_type": "code",
   "execution_count": 6,
   "id": "daa408f4",
   "metadata": {},
   "outputs": [],
   "source": [
    "def averager2(verbose: bool = False) -> Generator[None, SendType, Result]:  \n",
    "    total = 0.0\n",
    "    count = 0\n",
    "    average = 0.0\n",
    "    while True:\n",
    "        term = yield  \n",
    "        if verbose:\n",
    "            print('received:', term)\n",
    "        if isinstance(term, Sentinel):  \n",
    "            break\n",
    "        total += term  \n",
    "        count += 1\n",
    "        average = total / count\n",
    "    return Result(count, average)"
   ]
  },
  {
   "cell_type": "markdown",
   "id": "5ef3b9c1",
   "metadata": {},
   "source": [
    "- For this coroutine, the yield type is None because it does not yield data. It receives data of the SendType and returns a Result tuple when done.\n",
    "- Using yield like this only makes sense in coroutines, which are designed to consume data. This yields None, but receives a term from .send(term).\n",
    "- If the term is a Sentinel, break from the loop. Thanks to this isinstance check…\n",
    "- …Mypy allows me to add term to the total without flagging an error that I can’t add a float to an object that may be a float or a Sentinel.\n",
    "- This line will be reached only if a Sentinel is sent to the coroutine.\n",
    "\n"
   ]
  },
  {
   "cell_type": "markdown",
   "id": "0df3c6cf",
   "metadata": {},
   "source": [
    "Now let’s see how we can use this coroutine, starting with a simple example that doesn’t actually produce a result:"
   ]
  },
  {
   "cell_type": "code",
   "execution_count": 7,
   "id": "32264ef0",
   "metadata": {},
   "outputs": [],
   "source": [
    "coro_avg = averager2()"
   ]
  },
  {
   "cell_type": "code",
   "execution_count": 8,
   "id": "5744e7ce",
   "metadata": {},
   "outputs": [],
   "source": [
    "next(coro_avg)"
   ]
  },
  {
   "cell_type": "code",
   "execution_count": 9,
   "id": "0eec4e46",
   "metadata": {},
   "outputs": [],
   "source": [
    "coro_avg.send(10)  "
   ]
  },
  {
   "cell_type": "code",
   "execution_count": 10,
   "id": "9aa08b30",
   "metadata": {},
   "outputs": [],
   "source": [
    "coro_avg.send(30)"
   ]
  },
  {
   "cell_type": "code",
   "execution_count": 11,
   "id": "6060c724",
   "metadata": {},
   "outputs": [],
   "source": [
    "coro_avg.send(6.5)"
   ]
  },
  {
   "cell_type": "code",
   "execution_count": 12,
   "id": "94795b17",
   "metadata": {},
   "outputs": [],
   "source": [
    "coro_avg.close()"
   ]
  },
  {
   "cell_type": "markdown",
   "id": "11b33922",
   "metadata": {},
   "source": [
    "- Recall that averager2 does not yield partial results. It yields None, which Python’s console omits.\n",
    "- Calling .close() in this coroutine makes it stop but does not return a result, because the GeneratorExit exception is raised at the yield line in the coroutine, so the return statement is never reached"
   ]
  },
  {
   "cell_type": "markdown",
   "id": "d406c99f",
   "metadata": {},
   "source": [
    "Now let’s make it work:"
   ]
  },
  {
   "cell_type": "code",
   "execution_count": 14,
   "id": "1e81338a",
   "metadata": {},
   "outputs": [],
   "source": [
    "coro_avg = averager2()\n",
    "next(coro_avg)\n",
    "coro_avg.send(10)\n",
    "coro_avg.send(30)\n",
    "coro_avg.send(6.5)"
   ]
  },
  {
   "cell_type": "code",
   "execution_count": null,
   "id": "11cb9422",
   "metadata": {},
   "outputs": [],
   "source": [
    "try:\n",
    "    coro_avg.send(STOP)  \n",
    "except StopIteration as exc:\n",
    "    result = exc.value  \n",
    "result "
   ]
  },
  {
   "cell_type": "markdown",
   "id": "8b908d52",
   "metadata": {},
   "source": [
    "- Sending the STOP sentinel makes the coroutine break from the loop and return a Result. The generator object that wraps the coroutine then raises StopIteration.\n",
    "- The StopIteration instance has a value attribute bound to the value of the return statement that terminated the coroutine.\n"
   ]
  },
  {
   "cell_type": "markdown",
   "id": "253fd82e",
   "metadata": {},
   "source": [
    "This idea of “smuggling” the return value out of the coroutine wrapped in a StopIteration exception is a bizarre hack. Nevertheless, this bizarre hack is part of PEP 342—Coroutines via Enhanced Generators, and is documented with the StopIteration exception, and in the “Yield expressions” section of Chapter 6 of The Python Language Reference."
   ]
  },
  {
   "cell_type": "markdown",
   "id": "5e81ecf3",
   "metadata": {},
   "source": [
    "A delegating generator can get the return value of a coroutine directly using the yield from syntax, as shown:"
   ]
  },
  {
   "cell_type": "code",
   "execution_count": 15,
   "id": "394cd90d",
   "metadata": {},
   "outputs": [],
   "source": [
    "def compute():\n",
    "    res = yield from averager2(True)  \n",
    "    print('computed:', res)  \n",
    "    return res  \n",
    "\n",
    "comp = compute()"
   ]
  },
  {
   "cell_type": "code",
   "execution_count": 16,
   "id": "695eeb28",
   "metadata": {},
   "outputs": [
    {
     "name": "stdout",
     "output_type": "stream",
     "text": [
      "received: 10\n",
      "received: 20\n",
      "received: 30\n",
      "received: <Sentinel>\n",
      "computed: Result(count=3, average=20.0)\n"
     ]
    }
   ],
   "source": [
    "for v in [None, 10, 20, 30, STOP]:  \n",
    "    try:\n",
    "        comp.send(v)  \n",
    "    except StopIteration as exc:  \n",
    "        result = exc.value"
   ]
  },
  {
   "cell_type": "code",
   "execution_count": 17,
   "id": "df22bdf8",
   "metadata": {},
   "outputs": [
    {
     "data": {
      "text/plain": [
       "Result(count=3, average=20.0)"
      ]
     },
     "execution_count": 17,
     "metadata": {},
     "output_type": "execute_result"
    }
   ],
   "source": [
    "result  "
   ]
  },
  {
   "cell_type": "markdown",
   "id": "85df50e1",
   "metadata": {},
   "source": [
    "- res will collect the return value of averager2; the yield from machinery retrieves the return value when it handles the StopIteration exception that marks the termination of the coroutine. When True, the verbose parameter makes the coroutine print the value received, to make its operation visible.\n",
    "- Keep an eye out for the output of this line when this generator runs.\n",
    "- Return the result. This will also be wrapped in StopIteration.\n",
    "- Create the delegating coroutine object.\n",
    "- This loop will drive the delegating coroutine.\n",
    "- First value sent is None, to prime the coroutine; last is the sentinel to stop it.\n",
    "- Catch StopIteration to fetch the return value of compute.\n",
    "- mAfter the lines output by averager2 and compute, we get the Result instance."
   ]
  },
  {
   "cell_type": "markdown",
   "id": "d5f38167",
   "metadata": {},
   "source": [
    "Even though the examples here don’t do much, the code is hard to follow. Driving the coroutine with .send() calls and retrieving results is complicated, except with yield from—but we can only use that syntax inside a delegating generator/coroutine, which must ultimately be driven by some nontrivial code, as shown in Example 17-44.\n",
    "\n",
    "The previous examples show that using coroutines directly is cumbersome and confusing. Add exception handling and the coroutine .throw() method, and examples become even more convoluted. I won’t cover .throw() in this book because—like .send()—it is only useful to drive coroutines “by hand,” but I don’t recommend doing that, unless you are creating a new coroutine-based framework from scratch."
   ]
  },
  {
   "cell_type": "markdown",
   "id": "cc5076a3",
   "metadata": {},
   "source": [
    "In practice, productive work with coroutines requires the support of a specialized framework. That is what asyncio provided for classic coroutines way back in Python 3.3. With the advent of native coroutines in Python 3.5, the Python core developers are gradually phasing out support for classic coroutines in asyncio. But the underlying mechanisms are very similar. The async def syntax makes native coroutines easier to spot in code, which is a great benefit. Inside, native coroutines use await instead of yield from to delegate to other coroutines. "
   ]
  }
 ],
 "metadata": {
  "kernelspec": {
   "display_name": "Python 3 (ipykernel)",
   "language": "python",
   "name": "python3"
  },
  "language_info": {
   "codemirror_mode": {
    "name": "ipython",
    "version": 3
   },
   "file_extension": ".py",
   "mimetype": "text/x-python",
   "name": "python",
   "nbconvert_exporter": "python",
   "pygments_lexer": "ipython3",
   "version": "3.9.0"
  }
 },
 "nbformat": 4,
 "nbformat_minor": 5
}
