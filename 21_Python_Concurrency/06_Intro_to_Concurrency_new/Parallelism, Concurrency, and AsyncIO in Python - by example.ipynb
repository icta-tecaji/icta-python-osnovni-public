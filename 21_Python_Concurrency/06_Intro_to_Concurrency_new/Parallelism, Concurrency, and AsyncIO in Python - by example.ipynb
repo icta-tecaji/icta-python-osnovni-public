{
 "cells": [
  {
   "cell_type": "markdown",
   "id": "b967a3ea",
   "metadata": {},
   "source": [
    "# Parallelism, Concurrency, and AsyncIO in Python - by example"
   ]
  },
  {
   "cell_type": "markdown",
   "id": "dddf2525",
   "metadata": {},
   "source": [
    "https://testdriven.io/blog/python-concurrency-parallelism/"
   ]
  },
  {
   "cell_type": "markdown",
   "id": "8defae9f",
   "metadata": {},
   "source": [
    "This post looks at how to speed up CPU-bound and IO-bound operations with multiprocessing, threading, and AsyncIO."
   ]
  },
  {
   "cell_type": "markdown",
   "id": "8d50ab4a",
   "metadata": {},
   "source": [
    "## Concurrency vs Parallelism"
   ]
  },
  {
   "cell_type": "markdown",
   "id": "f67f9dae",
   "metadata": {},
   "source": [
    "Concurrency and parallelism are similar terms, but they are not the same thing.\n",
    "\n",
    "Concurrency is the ability to run multiple tasks on the CPU at the same time. Tasks can start, run, and complete in overlapping time periods. In the case of a single CPU, multiple tasks are run with the help of context switching, where the state of a process is stored so that it can be called and executed later.\n",
    "\n",
    "Parallelism, meanwhile, is the ability to run multiple tasks at the same time across multiple CPU cores.\n",
    "\n",
    "Though they can increase the speed of your application, concurrency and parallelism should not be used everywhere. The use case depends on whether the task is CPU-bound or IO-bound.\n",
    "\n",
    "Tasks that are limited by the CPU are CPU-bound. For example, mathematical computations are CPU-bound since computational power increases as the number of computer processors increases. Parallelism is for CPU-bound tasks. In theory, If a task is divided into n-subtasks, each of these n-tasks can run in parallel to effectively reduce the time to 1/n of the original non-parallel task. Concurrency is preferred for IO-bound tasks, as you can do something else while the IO resources are being fetched.\n",
    "\n",
    "The best example of CPU-bound tasks is in data science. Data Scientists deal with huge chunks of data. For data preprocessing, they can split the data into multiple batches and run them in parallel, effectively decreasing the total time to process. Increasing the number of cores results in faster processing.\n",
    "\n",
    "Web scraping is IO-bound. Because the task has little effect on the CPU since most of the time is spent on reading from and writing to the network. Other common IO-bound tasks include database calls and reading and writing files to disk. Web applications, like Django and Flask, are IO-bound applications."
   ]
  },
  {
   "cell_type": "markdown",
   "id": "a5167ae3",
   "metadata": {},
   "source": [
    "## Scenario"
   ]
  },
  {
   "cell_type": "markdown",
   "id": "8139aad4",
   "metadata": {},
   "source": [
    "With that, let's take a look at how to speed up the following tasks:"
   ]
  },
  {
   "cell_type": "code",
   "execution_count": null,
   "id": "afbbd3d7",
   "metadata": {},
   "outputs": [],
   "source": [
    "# tasks.py\n",
    "\n",
    "import os\n",
    "from multiprocessing import current_process\n",
    "from threading import current_thread\n",
    "\n",
    "import requests\n",
    "\n",
    "\n",
    "def make_request(num):\n",
    "    # io-bound\n",
    "\n",
    "    pid = os.getpid()\n",
    "    thread_name = current_thread().name\n",
    "    process_name = current_process().name\n",
    "    print(f\"{pid} - {process_name} - {thread_name}\")\n",
    "\n",
    "    requests.get(\"https://httpbin.org/ip\")\n",
    "\n",
    "\n",
    "async def make_request_async(num, client):\n",
    "    # io-bound\n",
    "\n",
    "    pid = os.getpid()\n",
    "    thread_name = current_thread().name\n",
    "    process_name = current_process().name\n",
    "    print(f\"{pid} - {process_name} - {thread_name}\")\n",
    "\n",
    "    await client.get(\"https://httpbin.org/ip\")\n",
    "\n",
    "\n",
    "def get_prime_numbers(num):\n",
    "    # cpu-bound\n",
    "\n",
    "    pid = os.getpid()\n",
    "    thread_name = current_thread().name\n",
    "    process_name = current_process().name\n",
    "    print(f\"{pid} - {process_name} - {thread_name} - {num}\")\n",
    "\n",
    "    numbers = []\n",
    "\n",
    "    prime = [True for i in range(num + 1)]\n",
    "    p = 2\n",
    "\n",
    "    while p * p <= num:\n",
    "        if prime[p]:\n",
    "            for i in range(p * 2, num + 1, p):\n",
    "                prime[i] = False\n",
    "        p += 1\n",
    "\n",
    "    prime[0] = False\n",
    "    prime[1] = False\n",
    "\n",
    "    for p in range(num + 1):\n",
    "        if prime[p]:\n",
    "            numbers.append(p)\n",
    "\n",
    "    return numbers"
   ]
  },
  {
   "cell_type": "markdown",
   "id": "eca586b0",
   "metadata": {},
   "source": [
    "Notes:\n",
    "- make_request makes an HTTP request to https://httpbin.org/ip X number of times.\n",
    "- make_request_async makes the same HTTP request asynchronously with HTTPX.\n",
    "- get_prime_numbers calculates the prime numbers, via the Sieve of Eratosthenes method, from two to the provided limit.\n",
    "\n",
    "We'll be using the following libraries from the standard library to speed up the above tasks:\n",
    "- `threading` for running tasks concurrently\n",
    "- `multiprocessing` for running tasks in parallel\n",
    "- `concurrent.futures` for running tasks concurrently and in parallel from a single interface\n",
    "- `asyncio` for running tasks concurrency with coroutines managed by the Python interpreter"
   ]
  },
  {
   "cell_type": "markdown",
   "id": "42e3c9b0",
   "metadata": {},
   "source": [
    "<div class=\"table-responsive\"><table>\n",
    "<thead>\n",
    "<tr>\n",
    "<th>Library</th>\n",
    "<th>Class/Method</th>\n",
    "<th>Processing Type</th>\n",
    "</tr>\n",
    "</thead>\n",
    "<tbody>\n",
    "<tr>\n",
    "<td>threading</td>\n",
    "<td><a href=\"https://docs.python.org/3/library/threading.html#threading.Thread\">Thread</a></td>\n",
    "<td>concurrent</td>\n",
    "</tr>\n",
    "<tr>\n",
    "<td>concurrent.futures</td>\n",
    "<td><a href=\"https://docs.python.org/3/library/concurrent.futures.html#concurrent.futures.ThreadPoolExecutor\">ThreadPoolExecutor</a></td>\n",
    "<td>concurrent</td>\n",
    "</tr>\n",
    "<tr>\n",
    "<td>asyncio</td>\n",
    "<td><a href=\"https://docs.python.org/3/library/asyncio-task.html#asyncio.gather\">gather</a></td>\n",
    "<td>concurrent (via coroutines)</td>\n",
    "</tr>\n",
    "<tr>\n",
    "<td>multiprocessing</td>\n",
    "<td><a href=\"https://docs.python.org/3/library/multiprocessing.html#multiprocessing.pool.Pool\">Pool</a></td>\n",
    "<td>parallel</td>\n",
    "</tr>\n",
    "<tr>\n",
    "<td>concurrent.futures</td>\n",
    "<td><a href=\"https://docs.python.org/3/library/concurrent.futures.html#concurrent.futures.ProcessPoolExecutor\">ProcessPoolExecutor</a></td>\n",
    "<td>parallel</td>\n",
    "</tr>\n",
    "</tbody>\n",
    "</table></div>"
   ]
  },
  {
   "cell_type": "markdown",
   "id": "ccd47e8e",
   "metadata": {},
   "source": [
    "## IO-bound Operation"
   ]
  },
  {
   "cell_type": "markdown",
   "id": "9d520aa7",
   "metadata": {},
   "source": [
    "Again, IO-bound tasks spend more time on IO than on the CPU.\n",
    "\n",
    "Since web scraping is IO bound, we should use threading to speed up the processing as the retrieving of the HTML (IO) is slower than parsing it (CPU).\n",
    "\n",
    "Scenario: How to speed up a Python-based web scraping and crawling script?"
   ]
  },
  {
   "cell_type": "markdown",
   "id": "ba6d2b89",
   "metadata": {},
   "source": [
    "### Sync Example"
   ]
  },
  {
   "cell_type": "code",
   "execution_count": null,
   "id": "d8f4acbe",
   "metadata": {},
   "outputs": [],
   "source": [
    "# io-bound_sync.py\n",
    "\n",
    "import time\n",
    "\n",
    "from tasks import make_request\n",
    "\n",
    "\n",
    "def main():\n",
    "    for num in range(1, 101):\n",
    "        make_request(num)\n",
    "\n",
    "\n",
    "if __name__ == \"__main__\":\n",
    "    start_time = time.perf_counter()\n",
    "\n",
    "    main()\n",
    "\n",
    "    end_time = time.perf_counter()\n",
    "    print(f\"Elapsed run time: {end_time - start_time} seconds.\")"
   ]
  },
  {
   "cell_type": "markdown",
   "id": "748af3aa",
   "metadata": {},
   "source": [
    "Here, we made 100 HTTP requests using the make_request function. Since requests happen synchronously, each task is executed sequentially."
   ]
  },
  {
   "cell_type": "markdown",
   "id": "50e6786c",
   "metadata": {},
   "source": [
    "### Threading Example"
   ]
  },
  {
   "cell_type": "code",
   "execution_count": null,
   "id": "5cede223",
   "metadata": {},
   "outputs": [],
   "source": [
    "# io-bound_concurrent_1.py\n",
    "\n",
    "import threading\n",
    "import time\n",
    "\n",
    "from tasks import make_request\n",
    "\n",
    "\n",
    "def main():\n",
    "    tasks = []\n",
    "\n",
    "    for num in range(1, 101):\n",
    "        tasks.append(threading.Thread(target=make_request, args=(num,)))\n",
    "        tasks[-1].start()\n",
    "\n",
    "    for task in tasks:\n",
    "        task.join()\n",
    "\n",
    "\n",
    "if __name__ == \"__main__\":\n",
    "    start_time = time.perf_counter()\n",
    "\n",
    "    main()\n",
    "\n",
    "    end_time = time.perf_counter()\n",
    "    print(f\"Elapsed run time: {end_time - start_time} seconds.\")"
   ]
  },
  {
   "cell_type": "markdown",
   "id": "f19b5926",
   "metadata": {},
   "source": [
    "Here, the same make_request function is called 100 times. This time the threading library is used to create a thread for each request."
   ]
  },
  {
   "cell_type": "markdown",
   "id": "5359a192",
   "metadata": {},
   "source": [
    "Since we're using separate threads for each request, you might be wondering why the whole thing didn't take ~0.16s to finish. This extra time is the overhead for managing threads. The Global Interpreter Lock (GIL) in Python makes sure that only one thread uses the Python bytecode at a time."
   ]
  },
  {
   "cell_type": "markdown",
   "id": "48f93753",
   "metadata": {},
   "source": [
    "### concurrent.futures Example"
   ]
  },
  {
   "cell_type": "code",
   "execution_count": null,
   "id": "55358c7d",
   "metadata": {},
   "outputs": [],
   "source": [
    "# io-bound_concurrent_2.py\n",
    "\n",
    "import time\n",
    "from concurrent.futures import ThreadPoolExecutor, wait\n",
    "\n",
    "from tasks import make_request\n",
    "\n",
    "\n",
    "def main():\n",
    "    futures = []\n",
    "\n",
    "    with ThreadPoolExecutor() as executor:\n",
    "        for num in range(1, 101):\n",
    "            futures.append(executor.submit(make_request, num))\n",
    "\n",
    "    wait(futures)\n",
    "\n",
    "\n",
    "if __name__ == \"__main__\":\n",
    "    start_time = time.perf_counter()\n",
    "\n",
    "    main()\n",
    "\n",
    "    end_time = time.perf_counter()\n",
    "    print(f\"Elapsed run time: {end_time - start_time} seconds.\")"
   ]
  },
  {
   "cell_type": "markdown",
   "id": "c79f1025",
   "metadata": {},
   "source": [
    "Here we used concurrent.futures.ThreadPoolExecutor to achieve multithreading. After all the futures/promises are created, we used wait to wait for all of them to complete."
   ]
  },
  {
   "cell_type": "markdown",
   "id": "05ff7d66",
   "metadata": {},
   "source": [
    "concurrent.futures.ThreadPoolExecutor is actually an abstraction around the multithreading library, which makes it easier to use. In the previous example, we assigned each request to a thread and in total 100 threads were used. But ThreadPoolExecutor defaults the number of worker threads to min(32, os.cpu_count() + 4). ThreadPoolExecutor exists to ease the process of achieving multithreading. If you want more control over multithreading, use the multithreading library instead."
   ]
  },
  {
   "cell_type": "markdown",
   "id": "62ad9d0d",
   "metadata": {},
   "source": [
    "### AsyncIO Example"
   ]
  },
  {
   "cell_type": "code",
   "execution_count": null,
   "id": "c35b45e9",
   "metadata": {},
   "outputs": [],
   "source": [
    "# io-bound_concurrent_3.py\n",
    "\n",
    "import asyncio\n",
    "import time\n",
    "\n",
    "import httpx\n",
    "\n",
    "from tasks import make_request_async\n",
    "\n",
    "\n",
    "async def main():\n",
    "    async with httpx.AsyncClient() as client:\n",
    "        return await asyncio.gather(\n",
    "            *[make_request_async(num, client) for num in range(1, 101)]\n",
    "        )\n",
    "\n",
    "\n",
    "if __name__ == \"__main__\":\n",
    "    start_time = time.perf_counter()\n",
    "\n",
    "    loop = asyncio.get_event_loop()\n",
    "    loop.run_until_complete(main())\n",
    "\n",
    "    end_time = time.perf_counter()\n",
    "    elapsed_time = end_time - start_time\n",
    "    print(f\"Elapsed run time: {elapsed_time} seconds\")"
   ]
  },
  {
   "cell_type": "markdown",
   "id": "5ce77ecb",
   "metadata": {},
   "source": [
    "> httpx is used here since requests does not support async operations."
   ]
  },
  {
   "cell_type": "markdown",
   "id": "f104d187",
   "metadata": {},
   "source": [
    "Here, we used asyncio to achieve concurrency."
   ]
  },
  {
   "cell_type": "markdown",
   "id": "dace0874",
   "metadata": {},
   "source": [
    "asyncio is faster than the other methods, because threading makes use of OS (Operating System) threads. So the threads are managed by the OS, where thread switching is preempted by the OS. asyncio uses coroutines, which are defined by the Python interpreter. With coroutines, the program decides when to switch tasks in an optimal way. This is handled by the even_loop in asyncio."
   ]
  },
  {
   "cell_type": "markdown",
   "id": "88adc9ac",
   "metadata": {},
   "source": [
    "## CPU-bound Operation"
   ]
  },
  {
   "cell_type": "markdown",
   "id": "8dc9a5ce",
   "metadata": {},
   "source": [
    "Scenario: How to speed up a simple data processing script?"
   ]
  },
  {
   "cell_type": "markdown",
   "id": "a3dfba24",
   "metadata": {},
   "source": [
    "### Sync Example"
   ]
  },
  {
   "cell_type": "markdown",
   "id": "e770a0c2",
   "metadata": {},
   "source": [
    "Again, let's start with a benchmark."
   ]
  },
  {
   "cell_type": "code",
   "execution_count": null,
   "id": "1bd0feb5",
   "metadata": {},
   "outputs": [],
   "source": [
    "# cpu-bound_sync.py\n",
    "\n",
    "import time\n",
    "\n",
    "from tasks import get_prime_numbers\n",
    "\n",
    "\n",
    "def main():\n",
    "    for num in range(1000, 16000):\n",
    "        get_prime_numbers(num)\n",
    "\n",
    "\n",
    "if __name__ == \"__main__\":\n",
    "    start_time = time.perf_counter()\n",
    "\n",
    "    main()\n",
    "\n",
    "    end_time = time.perf_counter()\n",
    "    print(f\"Elapsed run time: {end_time - start_time} seconds.\")"
   ]
  },
  {
   "cell_type": "markdown",
   "id": "ea21a77d",
   "metadata": {},
   "source": [
    "Here, we executed the get_prime_numbers function for numbers from 1000 to 16000."
   ]
  },
  {
   "cell_type": "markdown",
   "id": "53cafa24",
   "metadata": {},
   "source": [
    "### Multiprocessing Example"
   ]
  },
  {
   "cell_type": "code",
   "execution_count": null,
   "id": "aaa1a418",
   "metadata": {},
   "outputs": [],
   "source": [
    "# cpu-bound_parallel_1.py\n",
    "\n",
    "import time\n",
    "from multiprocessing import Pool, cpu_count\n",
    "\n",
    "from tasks import get_prime_numbers\n",
    "\n",
    "\n",
    "def main():\n",
    "    with Pool(cpu_count() - 1) as p:\n",
    "        p.starmap(get_prime_numbers, zip(range(1000, 16000)))\n",
    "        p.close()\n",
    "        p.join()\n",
    "\n",
    "\n",
    "if __name__ == \"__main__\":\n",
    "    start_time = time.perf_counter()\n",
    "\n",
    "    main()\n",
    "\n",
    "    end_time = time.perf_counter()\n",
    "    print(f\"Elapsed run time: {end_time - start_time} seconds.\")"
   ]
  },
  {
   "cell_type": "markdown",
   "id": "190d28a4",
   "metadata": {},
   "source": [
    "Here, we used multiprocessing to calculate the prime numbers."
   ]
  },
  {
   "cell_type": "markdown",
   "id": "7e137ab5",
   "metadata": {},
   "source": [
    "### concurrent.futures Example"
   ]
  },
  {
   "cell_type": "code",
   "execution_count": null,
   "id": "78dd43e7",
   "metadata": {},
   "outputs": [],
   "source": [
    "# cpu-bound_parallel_2.py\n",
    "\n",
    "import time\n",
    "from concurrent.futures import ProcessPoolExecutor, wait\n",
    "from multiprocessing import cpu_count\n",
    "\n",
    "from tasks import get_prime_numbers\n",
    "\n",
    "\n",
    "def main():\n",
    "    futures = []\n",
    "\n",
    "    with ProcessPoolExecutor(cpu_count() - 1) as executor:\n",
    "        for num in range(1000, 16000):\n",
    "            futures.append(executor.submit(get_prime_numbers, num))\n",
    "\n",
    "    wait(futures)\n",
    "\n",
    "\n",
    "if __name__ == \"__main__\":\n",
    "    start_time = time.perf_counter()\n",
    "\n",
    "    main()\n",
    "\n",
    "    end_time = time.perf_counter()\n",
    "    print(f\"Elapsed run time: {end_time - start_time} seconds.\")"
   ]
  },
  {
   "cell_type": "markdown",
   "id": "8c0d48ed",
   "metadata": {},
   "source": [
    "Here, we achieved multiprocessing using concurrent.futures.ProcessPoolExecutor. Once the jobs are added to futures, wait(futures) waits for them to finish."
   ]
  },
  {
   "cell_type": "markdown",
   "id": "58e166e6",
   "metadata": {},
   "source": [
    "concurrent.futures.ProcessPoolExecutor is a wrapper around multiprocessing.Pool. It has the same limitations as the ThreadPoolExecutor. If you want more control over multiprocessing, use multiprocessing.Pool. concurrent.futures provides an abstraction over both multiprocessing and threading, making it easy to switch between the two."
   ]
  },
  {
   "cell_type": "markdown",
   "id": "e2e6200c",
   "metadata": {},
   "source": [
    "## Conclusion"
   ]
  },
  {
   "cell_type": "markdown",
   "id": "bfa71b84",
   "metadata": {},
   "source": [
    "It's worth noting that using multiprocessing to execute the make_request function will be much slower than the threading flavor since the processes will be need to wait for the IO. The multiprocessing approach will be faster then the sync approach, though.\n",
    "\n",
    "Similarly, using concurrency for CPU-bound tasks is not worth the effort when compared to parallelism.\n",
    "\n",
    "That being said, using concurrency or parallelism to execute your scripts adds complexity. Your code will generally be harder to read, test, and debug, so only use them when absolutely necessary for long-running scripts.\n",
    "\n",
    "concurrent.futures is where I generally start since-\n",
    "- It's easy to switch back and forth between concurrency and parallelism\n",
    "- The dependent libraries don't need to support asyncio (requests vs httpx)\n",
    "- It's cleaner and easier to read over the other approaches"
   ]
  }
 ],
 "metadata": {
  "kernelspec": {
   "display_name": "Python 3 (ipykernel)",
   "language": "python",
   "name": "python3"
  },
  "language_info": {
   "codemirror_mode": {
    "name": "ipython",
    "version": 3
   },
   "file_extension": ".py",
   "mimetype": "text/x-python",
   "name": "python",
   "nbconvert_exporter": "python",
   "pygments_lexer": "ipython3",
   "version": "3.9.12"
  }
 },
 "nbformat": 4,
 "nbformat_minor": 5
}
