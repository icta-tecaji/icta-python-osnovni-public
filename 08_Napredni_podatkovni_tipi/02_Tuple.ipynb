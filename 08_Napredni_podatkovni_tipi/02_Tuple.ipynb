{
 "cells": [
  {
   "cell_type": "markdown",
   "id": "fc8e99b4-2d06-45e4-ae40-55c1c9cce8f3",
   "metadata": {},
   "source": [
    "# Tuple"
   ]
  },
  {
   "cell_type": "markdown",
   "metadata": {},
   "source": [
    "Imajo enake lastnosti kot list, vendar so \"immutable\" - Njihovih vrednosti ne moremo spreminjati.\n",
    "\n",
    "Definira se jih z navadnimi oklepaji ()"
   ]
  },
  {
   "cell_type": "code",
   "execution_count": null,
   "metadata": {},
   "outputs": [
    {
     "name": "stdout",
     "output_type": "stream",
     "text": [
      "('pingvin', 'medved', 'los', 'volk')\n"
     ]
    }
   ],
   "source": [
    "t  = (\"pingvin\", \"medved\", \"los\", \"volk\")\n",
    "print(t)"
   ]
  },
  {
   "cell_type": "code",
   "execution_count": null,
   "metadata": {},
   "outputs": [
    {
     "name": "stdout",
     "output_type": "stream",
     "text": [
      "Touples ARE ordered\n"
     ]
    }
   ],
   "source": [
    "# Primer: Touples are ordered\n",
    "t  = (\"pingvin\", \"medved\", \"los\", \"volk\")\n",
    "t2  = (\"pingvin\", \"volk\", \"medved\", \"los\")\n",
    "\n",
    "if t == t2:\n",
    "    print(\"Touples are NOT ordered\")\n",
    "else:\n",
    "    print(\"Touples ARE ordered\")"
   ]
  },
  {
   "cell_type": "code",
   "execution_count": null,
   "metadata": {},
   "outputs": [
    {
     "name": "stdout",
     "output_type": "stream",
     "text": [
      "('pingvin', 'medved', 'los', 'volk', 1.23, True)\n"
     ]
    }
   ],
   "source": [
    "# Primer: Touples can contain any arbitrary object\n",
    "t  = (\"pingvin\", \"medved\", \"los\", \"volk\", 1.23, True)\n",
    "print(t)"
   ]
  },
  {
   "cell_type": "code",
   "execution_count": null,
   "metadata": {},
   "outputs": [
    {
     "name": "stdout",
     "output_type": "stream",
     "text": [
      "('pingvin', 'medved', 'los', 'volk')\n",
      "los\n",
      "('medved', 'los')\n"
     ]
    }
   ],
   "source": [
    "# Primer: Touples are indexed\n",
    "t  = (\"pingvin\", \"medved\", \"los\", \"volk\")\n",
    "print(t)\n",
    "\n",
    "print(t[2]) # primer, da so elementi indexirani\n",
    "\n",
    "print(t[1:3]) # slicing primer"
   ]
  },
  {
   "cell_type": "code",
   "execution_count": null,
   "metadata": {},
   "outputs": [
    {
     "name": "stdout",
     "output_type": "stream",
     "text": [
      "('pingvin', 'medved', 'los', 'volk', ('lisica', 'krava'))\n"
     ]
    }
   ],
   "source": [
    "# Primer: Touples can be nested\n",
    "t  = (\"pingvin\", \"medved\", \"los\", \"volk\", (\"lisica\", \"krava\"))\n",
    "print(t)"
   ]
  },
  {
   "cell_type": "code",
   "execution_count": null,
   "metadata": {},
   "outputs": [
    {
     "ename": "TypeError",
     "evalue": "'tuple' object does not support item assignment",
     "output_type": "error",
     "traceback": [
      "\u001b[1;31m---------------------------------------------------------------------------\u001b[0m\n",
      "\u001b[1;31mTypeError\u001b[0m                                 Traceback (most recent call last)\n",
      "\u001b[1;32m<ipython-input-140-1f7dd710d595>\u001b[0m in \u001b[0;36m<module>\u001b[1;34m\u001b[0m\n",
      "\u001b[0;32m      1\u001b[0m \u001b[1;31m# Primer: Touples are IMMUTABLE\u001b[0m\u001b[1;33m\u001b[0m\u001b[1;33m\u001b[0m\u001b[1;33m\u001b[0m\u001b[0m\n",
      "\u001b[0;32m      2\u001b[0m \u001b[0mt\u001b[0m \u001b[1;33m=\u001b[0m \u001b[1;33m(\u001b[0m\u001b[1;34m\"pingvin\"\u001b[0m\u001b[1;33m,\u001b[0m \u001b[1;34m\"medved\"\u001b[0m\u001b[1;33m,\u001b[0m \u001b[1;34m\"los\"\u001b[0m\u001b[1;33m,\u001b[0m \u001b[1;34m\"volk\"\u001b[0m\u001b[1;33m)\u001b[0m\u001b[1;33m\u001b[0m\u001b[1;33m\u001b[0m\u001b[0m\n",
      "\u001b[1;32m----> 3\u001b[1;33m \u001b[0mt\u001b[0m\u001b[1;33m[\u001b[0m\u001b[1;36m1\u001b[0m\u001b[1;33m]\u001b[0m \u001b[1;33m=\u001b[0m \u001b[1;34m\"Bork!\"\u001b[0m\u001b[1;33m\u001b[0m\u001b[1;33m\u001b[0m\u001b[0m\n",
      "\u001b[0m\n",
      "\u001b[1;31mTypeError\u001b[0m: 'tuple' object does not support item assignment"
     ]
    }
   ],
   "source": [
    "# Primer: Touples are IMMUTABLE\n",
    "t = (\"pingvin\", \"medved\", \"los\", \"volk\")\n",
    "t[1] = \"Bork!\""
   ]
  },
  {
   "cell_type": "code",
   "execution_count": null,
   "metadata": {},
   "outputs": [
    {
     "name": "stdout",
     "output_type": "stream",
     "text": [
      "('pingvin', 'medved', 'los', 'volk')\n",
      "<class 'tuple'>\n",
      "2\n",
      "<class 'int'>\n"
     ]
    }
   ],
   "source": [
    "# Primer: da je dinamična\n",
    "t  = (\"pingvin\", \"medved\", \"los\", \"volk\")\n",
    "print(t)\n",
    "print(type(t))\n",
    "\n",
    "t = 2\n",
    "print(t)\n",
    "print(type(t))"
   ]
  },
  {
   "cell_type": "markdown",
   "metadata": {},
   "source": [
    "Zakaj bi uporabljali touple namesto list?\n",
    "\n",
    "* Program je hitrejši, če manipulira z touple kot pa z list\n",
    "* Če ne želimo spreminjati elementov"
   ]
  },
  {
   "cell_type": "markdown",
   "metadata": {},
   "source": [
    "**TECHNICAL**\n",
    "\n",
    "Treba pazit kadar inicializiramo touple samo z eno vrednostjo."
   ]
  },
  {
   "cell_type": "code",
   "execution_count": null,
   "metadata": {},
   "outputs": [
    {
     "name": "stdout",
     "output_type": "stream",
     "text": [
      "(1, 2, 3, 4)\n",
      "<class 'tuple'>\n",
      "\n",
      "()\n",
      "<class 'tuple'>\n",
      "\n",
      "2\n",
      "<class 'int'>\n",
      "\n",
      "(2,)\n",
      "<class 'tuple'>\n"
     ]
    }
   ],
   "source": [
    "t = (1,2,3,4) # nebi smel bit problem\n",
    "print(t)\n",
    "print(type(t))\n",
    "print()\n",
    "\n",
    "t = () # nebi smel bit problem. Prazen touple\n",
    "print(t)\n",
    "print(type(t))\n",
    "print()\n",
    "\n",
    "t = (2) # kle nastane problem\n",
    "print(t)\n",
    "print(type(t))\n",
    "print()\n",
    "'''\n",
    "Since parentheses are also used to define operator precedence in expressions, Python evaluates \n",
    "the expression (2) as simply the integer 2 and creates an int object. To tell Python that you really want \n",
    "to define a singleton tuple, include a trailing comma (,) just before the closing parenthesis.\n",
    "'''\n",
    "\n",
    "t = (2,)\n",
    "print(t)\n",
    "print(type(t))"
   ]
  },
  {
   "cell_type": "markdown",
   "id": "51910171-999a-4356-9a34-64c26d41fb74",
   "metadata": {},
   "source": [
    "# Razlaga"
   ]
  },
  {
   "cell_type": "code",
   "execution_count": null,
   "id": "8f83bf4f-bd86-4ffd-bf77-46026422b2c9",
   "metadata": {},
   "outputs": [],
   "source": []
  },
  {
   "cell_type": "code",
   "execution_count": null,
   "id": "e05fe369-4411-49f7-87e2-5f955f40f329",
   "metadata": {},
   "outputs": [],
   "source": []
  },
  {
   "cell_type": "code",
   "execution_count": null,
   "id": "f0a51516-b568-453d-8e6d-4d3f88fe99b1",
   "metadata": {},
   "outputs": [],
   "source": []
  },
  {
   "cell_type": "code",
   "execution_count": null,
   "id": "ab6becec-8224-4f89-a9b1-175cdd38c75b",
   "metadata": {},
   "outputs": [],
   "source": []
  },
  {
   "cell_type": "code",
   "execution_count": null,
   "id": "02f7ded6-694c-45c7-8ece-70e3f8b5f28e",
   "metadata": {},
   "outputs": [],
   "source": []
  }
 ],
 "metadata": {
  "kernelspec": {
   "display_name": "Python 3 (ipykernel)",
   "language": "python",
   "name": "python3"
  },
  "language_info": {
   "codemirror_mode": {
    "name": "ipython",
    "version": 3
   },
   "file_extension": ".py",
   "mimetype": "text/x-python",
   "name": "python",
   "nbconvert_exporter": "python",
   "pygments_lexer": "ipython3",
   "version": "3.12.0"
  }
 },
 "nbformat": 4,
 "nbformat_minor": 5
}
