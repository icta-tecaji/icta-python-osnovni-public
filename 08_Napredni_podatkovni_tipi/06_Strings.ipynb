{
 "cells": [
  {
   "cell_type": "markdown",
   "id": "3ec3c42a-67fa-460a-bbb4-cc3050f226b6",
   "metadata": {},
   "source": [
    "# Strings"
   ]
  },
  {
   "cell_type": "markdown",
   "metadata": {},
   "source": [
    "## Izpisovanje in formating\n"
   ]
  },
  {
   "cell_type": "code",
   "execution_count": null,
   "metadata": {},
   "outputs": [
    {
     "name": "stdout",
     "output_type": "stream",
     "text": [
      "Hello World\n"
     ]
    }
   ],
   "source": [
    "print(\"Hello World\")"
   ]
  },
  {
   "cell_type": "markdown",
   "metadata": {},
   "source": [
    "S prihodom Python3.6 verzije se stringe izpisuje s pomočjo f-string\n",
    "\n",
    "```python\n",
    "f'Besedilo {spremenljivka1:format1}, besedilo naprej{spremenljivka2:format2}, besedilo naprej....'\n",
    "```\n",
    "\n",
    "[Dokumentacija f-string](https://docs.python.org/3.6/library/string.html#formatspec)"
   ]
  },
  {
   "cell_type": "code",
   "execution_count": null,
   "metadata": {},
   "outputs": [
    {
     "name": "stdout",
     "output_type": "stream",
     "text": [
      "Anže je 10 let star\n"
     ]
    }
   ],
   "source": [
    "ime = \"Anže\"\n",
    "starost = 10\n",
    "print(f'{ime} je {starost} let star')"
   ]
  },
  {
   "cell_type": "markdown",
   "metadata": {},
   "source": [
    "Še primer kako lahko oblikujemo naš format izpisa."
   ]
  },
  {
   "cell_type": "code",
   "execution_count": null,
   "metadata": {},
   "outputs": [
    {
     "name": "stdout",
     "output_type": "stream",
     "text": [
      "---Anže--- je ****10.000 let star, oziroma 1.200000e+02 mesecev.\n"
     ]
    }
   ],
   "source": [
    "ime = \"Anže\"\n",
    "starost = 10\n",
    "print(f'{ime:-^10} je {starost:*>10.3f} let star, oziroma {starost*12:e} mesecev.')\n",
    "# {ime:-^10} ime -> spremenljivka, \"-\" -> znak s katerim zapolni mesta, \"^\" -> naj bo sredinska poravnava, 10 -> 10 znakov\n",
    "# {starost:*>10.3f} starost -> ime spremenljivke, \"*\" -> znak s katerim zapolni mesta, \">\" -> poravnava desno, \"10\" -> 10 znakov za zapis, \".3\" -> naj ima 3 decimalna mesta, \"f\" -> naj bo to float \n",
    "# {starost*12:e} starost*12 -> spremenljivka ki jo želimo izpisat, \"e\" -> naj bo stvar izpisana kot eksponenet (100 -> 1.00e2 ->)"
   ]
  },
  {
   "cell_type": "markdown",
   "metadata": {},
   "source": [
    "Pred tem, s prihdom Python2.6, se je uporabljalo\n",
    "```python\n",
    "str.format()\n",
    "```"
   ]
  },
  {
   "cell_type": "code",
   "execution_count": null,
   "metadata": {},
   "outputs": [
    {
     "name": "stdout",
     "output_type": "stream",
     "text": [
      "Živjo Anže. Star si 10 let.\n"
     ]
    }
   ],
   "source": [
    "ime = \"Anže\"\n",
    "starost = 10\n",
    "print(\"Živjo {}. Star si {} let.\".format(ime, starost))"
   ]
  },
  {
   "cell_type": "markdown",
   "metadata": {},
   "source": [
    ".format() je počasnejši od f' ' stavka"
   ]
  },
  {
   "cell_type": "markdown",
   "metadata": {},
   "source": [
    "Še pred tem se je uporabljalo\n",
    "```python\n",
    "%-formating\n",
    "```"
   ]
  },
  {
   "cell_type": "code",
   "execution_count": null,
   "metadata": {},
   "outputs": [
    {
     "name": "stdout",
     "output_type": "stream",
     "text": [
      "Živjo Anže. Star si 10 let.\n"
     ]
    }
   ],
   "source": [
    "name = \"Anže\"\n",
    "age = 10\n",
    "print(\"Živjo %s. Star si %s let.\" % (name, age))"
   ]
  },
  {
   "cell_type": "markdown",
   "metadata": {},
   "source": [
    "Ta način je najpočasnejši. Pri veliki količini spremenljivk hitro postane nepregleden. Lahko vodi do napak, kot so nepravilno prikazovanje touples in dictionaries."
   ]
  },
  {
   "cell_type": "markdown",
   "metadata": {},
   "source": [
    "## String operacije"
   ]
  },
  {
   "cell_type": "markdown",
   "metadata": {},
   "source": [
    "Nad string-i lahko izvajamo tudi različne operacije."
   ]
  },
  {
   "cell_type": "markdown",
   "metadata": {},
   "source": [
    "Vse črke stringa lahko pretvorimo v male črke, oziroma velike črke."
   ]
  },
  {
   "cell_type": "code",
   "execution_count": null,
   "metadata": {},
   "outputs": [
    {
     "name": "stdout",
     "output_type": "stream",
     "text": [
      "Živjo Anže. Star si 10 let.\n",
      "živjo anže. star si 10 let.\n"
     ]
    }
   ],
   "source": [
    "my_str = \"Živjo Anže. Star si 10 let.\"\n",
    "print(my_str) # not modified\n",
    "\n",
    "print(my_str.lower())"
   ]
  },
  {
   "cell_type": "code",
   "execution_count": null,
   "metadata": {},
   "outputs": [
    {
     "name": "stdout",
     "output_type": "stream",
     "text": [
      "Živjo Anže. Star si 10 let.\n",
      "ŽIVJO ANŽE. STAR SI 10 LET.\n"
     ]
    }
   ],
   "source": [
    "my_str = \"Živjo Anže. Star si 10 let.\"\n",
    "print(my_str) # not modified\n",
    "\n",
    "print(my_str.upper())"
   ]
  },
  {
   "cell_type": "markdown",
   "metadata": {},
   "source": [
    "Preverimo lahko ali se naš string začne oziroma konča s poljubnim sub-string-om."
   ]
  },
  {
   "cell_type": "code",
   "execution_count": null,
   "metadata": {},
   "outputs": [
    {
     "name": "stdout",
     "output_type": "stream",
     "text": [
      "Živjo Anže. Star si 10 let.\n",
      "True\n",
      "False\n",
      "True\n"
     ]
    }
   ],
   "source": [
    "my_str = \"Živjo Anže. Star si 10 let.\"\n",
    "print(my_str) # not modified\n",
    "\n",
    "print(my_str.startswith(\"Živjo\"))\n",
    "print(my_str.startswith(\"Zdravo\"))\n",
    "print(my_str.startswith(\"Živ\"))"
   ]
  },
  {
   "cell_type": "code",
   "execution_count": null,
   "metadata": {},
   "outputs": [
    {
     "name": "stdout",
     "output_type": "stream",
     "text": [
      "Živjo Anže. Star si 10 let.\n",
      "False\n",
      "False\n",
      "True\n"
     ]
    }
   ],
   "source": [
    "my_str = \"Živjo Anže. Star si 10 let.\"\n",
    "print(my_str) # not modified\n",
    "\n",
    "print(my_str.endswith(\"Živjo\"))\n",
    "print(my_str.endswith(\"let\"))\n",
    "print(my_str.endswith(\"let.\"))"
   ]
  },
  {
   "cell_type": "markdown",
   "metadata": {},
   "source": [
    "Iz začetka oziroma konca našega stringa lahko odstranimo znake."
   ]
  },
  {
   "cell_type": "code",
   "execution_count": null,
   "metadata": {},
   "outputs": [
    {
     "name": "stdout",
     "output_type": "stream",
     "text": [
      "Živjo Anže. Star si 10 let.\n",
      "Živjo Anže. Star si 10 let\n",
      " Anže. Star si 10 let.\n"
     ]
    }
   ],
   "source": [
    "my_string = \"Živjo Anže. Star si 10 let.\"\n",
    "print(my_str)\n",
    "\n",
    "print(my_str.strip(\".\"))\n",
    "print(my_str.strip(\"Živjo\"))"
   ]
  },
  {
   "cell_type": "markdown",
   "metadata": {},
   "source": [
    "Znake v stringu lahko nadomestimo s pooljubnimi znaki."
   ]
  },
  {
   "cell_type": "code",
   "execution_count": null,
   "metadata": {},
   "outputs": [
    {
     "name": "stdout",
     "output_type": "stream",
     "text": [
      "Živjo Anže. Star si 10 let.\n",
      "Živjo-Anže.-Star-si-10-let.\n",
      "Zdravo Anže. Star si 10 let.\n"
     ]
    }
   ],
   "source": [
    "my_string = \"Živjo Anže. Star si 10 let.\"\n",
    "print(my_string)\n",
    "\n",
    "print(my_string.replace(\" \", \"-\"))\n",
    "print(my_string.replace(\"Živjo\", \"Zdravo\"))"
   ]
  },
  {
   "cell_type": "markdown",
   "metadata": {},
   "source": [
    "Različne stringe lahko med seboj združujemo (concate)"
   ]
  },
  {
   "cell_type": "code",
   "execution_count": null,
   "metadata": {},
   "outputs": [
    {
     "name": "stdout",
     "output_type": "stream",
     "text": [
      "ŽivjoAnže\n",
      "Živjo Anže\n"
     ]
    }
   ],
   "source": [
    "str1 = \"Živjo\"\n",
    "str2 = \"Anže\"\n",
    "\n",
    "print(str1 + str2)\n",
    "print(str1 + \" \" + str2)"
   ]
  },
  {
   "cell_type": "code",
   "execution_count": 1,
   "metadata": {},
   "outputs": [
    {
     "data": {
      "text/plain": [
       "'Test Test Test '"
      ]
     },
     "execution_count": 1,
     "metadata": {},
     "output_type": "execute_result"
    }
   ],
   "source": [
    "\"Test \" * 3\t"
   ]
  },
  {
   "cell_type": "markdown",
   "id": "6c2017df-a3d0-4747-a6ba-76b9ba4f6dd1",
   "metadata": {},
   "source": [
    "# Razlaga"
   ]
  },
  {
   "cell_type": "code",
   "execution_count": 1,
   "id": "bcfa4713-7b32-430b-8248-2acacb2dc023",
   "metadata": {},
   "outputs": [],
   "source": [
    "programski_jezik = \"Python\"\n",
    "verzija = \"3.11.4\"\n"
   ]
  },
  {
   "cell_type": "code",
   "execution_count": 2,
   "id": "3d9a2d0f-6093-469e-b92b-072d5cee3a21",
   "metadata": {},
   "outputs": [
    {
     "data": {
      "text/plain": [
       "'Python3.11.4'"
      ]
     },
     "execution_count": 2,
     "metadata": {},
     "output_type": "execute_result"
    }
   ],
   "source": [
    "programski_jezik + verzija"
   ]
  },
  {
   "cell_type": "code",
   "execution_count": 3,
   "id": "a444f333-c60b-4dc5-805b-491b0ddbfea4",
   "metadata": {},
   "outputs": [
    {
     "data": {
      "text/plain": [
       "'PythonPythonPythonPython'"
      ]
     },
     "execution_count": 3,
     "metadata": {},
     "output_type": "execute_result"
    }
   ],
   "source": [
    "programski_jezik * 4"
   ]
  },
  {
   "cell_type": "code",
   "execution_count": 4,
   "id": "a747c1b1-f840-4210-84b8-778334680a3e",
   "metadata": {},
   "outputs": [
    {
     "data": {
      "text/plain": [
       "'-------------------------'"
      ]
     },
     "execution_count": 4,
     "metadata": {},
     "output_type": "execute_result"
    }
   ],
   "source": [
    "\"-\" * 25"
   ]
  },
  {
   "cell_type": "code",
   "execution_count": 6,
   "id": "ab1e3555-5c10-4047-b51f-02c049f5191a",
   "metadata": {},
   "outputs": [
    {
     "data": {
      "text/plain": [
       "True"
      ]
     },
     "execution_count": 6,
     "metadata": {},
     "output_type": "execute_result"
    }
   ],
   "source": [
    "\".11.\" in verzija"
   ]
  },
  {
   "cell_type": "markdown",
   "metadata": {},
   "source": [
    "Built-in String Functions"
   ]
  },
  {
   "cell_type": "code",
   "execution_count": 7,
   "metadata": {},
   "outputs": [
    {
     "data": {
      "text/plain": [
       "6"
      ]
     },
     "execution_count": 7,
     "metadata": {},
     "output_type": "execute_result"
    }
   ],
   "source": [
    "len(programski_jezik)"
   ]
  },
  {
   "cell_type": "code",
   "execution_count": 13,
   "metadata": {},
   "outputs": [
    {
     "data": {
      "text/plain": [
       "2"
      ]
     },
     "execution_count": 13,
     "metadata": {},
     "output_type": "execute_result"
    }
   ],
   "source": [
    "len(\"ñ\")"
   ]
  },
  {
   "cell_type": "code",
   "execution_count": 16,
   "metadata": {},
   "outputs": [
    {
     "data": {
      "text/plain": [
       "'Pyt'"
      ]
     },
     "execution_count": 16,
     "metadata": {},
     "output_type": "execute_result"
    }
   ],
   "source": [
    "programski_jezik[:3]"
   ]
  },
  {
   "cell_type": "code",
   "execution_count": 18,
   "metadata": {},
   "outputs": [
    {
     "ename": "TypeError",
     "evalue": "'str' object does not support item assignment",
     "output_type": "error",
     "traceback": [
      "\u001b[1;31m---------------------------------------------------------------------------\u001b[0m",
      "\u001b[1;31mTypeError\u001b[0m                                 Traceback (most recent call last)",
      "\u001b[1;32mc:\\LEON\\ICTA\\Tečaji\\icta-python-osnovni-public\\08_Napredni_podatkovni_tipi\\06_Strings.ipynb Cell 39\u001b[0m line \u001b[0;36m1\n\u001b[1;32m----> <a href='vscode-notebook-cell:/c%3A/LEON/ICTA/Te%C4%8Daji/icta-python-osnovni-public/08_Napredni_podatkovni_tipi/06_Strings.ipynb#X55sZmlsZQ%3D%3D?line=0'>1</a>\u001b[0m programski_jezik[\u001b[39m0\u001b[39;49m] \u001b[39m=\u001b[39m \u001b[39m\"\u001b[39m\u001b[39mM\u001b[39m\u001b[39m\"\u001b[39m\n",
      "\u001b[1;31mTypeError\u001b[0m: 'str' object does not support item assignment"
     ]
    }
   ],
   "source": [
    "programski_jezik[0] = \"M\""
   ]
  },
  {
   "cell_type": "markdown",
   "metadata": {},
   "source": [
    "Formatiranje stringov"
   ]
  },
  {
   "cell_type": "markdown",
   "metadata": {},
   "source": [
    "    Uporabljam Python (verzija 3.11.4)"
   ]
  },
  {
   "cell_type": "markdown",
   "metadata": {},
   "source": [
    "programski_jezik = \"Python\"\n",
    "verzija = \"3.11.4\""
   ]
  }
 ],
 "metadata": {
  "kernelspec": {
   "display_name": "Python 3 (ipykernel)",
   "language": "python",
   "name": "python3"
  },
  "language_info": {
   "codemirror_mode": {
    "name": "ipython",
    "version": 3
   },
   "file_extension": ".py",
   "mimetype": "text/x-python",
   "name": "python",
   "nbconvert_exporter": "python",
   "pygments_lexer": "ipython3",
   "version": "3.12.0"
  }
 },
 "nbformat": 4,
 "nbformat_minor": 5
}
