{
 "cells": [
  {
   "cell_type": "markdown",
   "id": "b9d050da-6e1c-4f58-8b10-a7ce49a06999",
   "metadata": {},
   "source": [
    "# Mutable vs. immutable"
   ]
  },
  {
   "cell_type": "code",
   "execution_count": null,
   "id": "94039143-72a1-4dd5-9aec-2085d30c3120",
   "metadata": {},
   "outputs": [],
   "source": []
  },
  {
   "cell_type": "code",
   "execution_count": null,
   "id": "f5575ba7-eb0f-436e-87e9-2150fc4b560c",
   "metadata": {},
   "outputs": [],
   "source": []
  },
  {
   "cell_type": "code",
   "execution_count": null,
   "id": "86bca12f-93be-4e23-b64f-ae66893c8301",
   "metadata": {},
   "outputs": [],
   "source": []
  },
  {
   "cell_type": "code",
   "execution_count": null,
   "id": "16dfb033-ec94-41d9-a9c3-d1c8cb39a2af",
   "metadata": {},
   "outputs": [],
   "source": []
  },
  {
   "cell_type": "code",
   "execution_count": null,
   "id": "b3549e90-77fb-4b80-b587-ab6086482f88",
   "metadata": {},
   "outputs": [],
   "source": []
  },
  {
   "cell_type": "markdown",
   "id": "5655650f-9bc0-476c-b2a6-a4a3aacf2dd6",
   "metadata": {},
   "source": [
    "# Razlaga"
   ]
  },
  {
   "cell_type": "code",
   "execution_count": null,
   "id": "7452cf9f-8379-4725-9b0d-3fe1a4dc5ee3",
   "metadata": {},
   "outputs": [],
   "source": []
  },
  {
   "cell_type": "code",
   "execution_count": null,
   "id": "5e218f14-9d92-4990-9eee-78aed2872e88",
   "metadata": {},
   "outputs": [],
   "source": []
  },
  {
   "cell_type": "code",
   "execution_count": null,
   "id": "258bf4ed-aa16-4f8c-9bd3-744758bf2aea",
   "metadata": {},
   "outputs": [],
   "source": []
  },
  {
   "cell_type": "code",
   "execution_count": null,
   "id": "9eb27f99-5ef2-4d67-a4d8-d8b7e8534372",
   "metadata": {},
   "outputs": [],
   "source": []
  },
  {
   "cell_type": "code",
   "execution_count": null,
   "id": "8e6f6bc4-d13b-42c8-927d-cbd88e1e0d49",
   "metadata": {},
   "outputs": [],
   "source": []
  }
 ],
 "metadata": {
  "kernelspec": {
   "display_name": "Python 3 (ipykernel)",
   "language": "python",
   "name": "python3"
  },
  "language_info": {
   "codemirror_mode": {
    "name": "ipython",
    "version": 3
   },
   "file_extension": ".py",
   "mimetype": "text/x-python",
   "name": "python",
   "nbconvert_exporter": "python",
   "pygments_lexer": "ipython3",
   "version": "3.12.0"
  }
 },
 "nbformat": 4,
 "nbformat_minor": 5
}
