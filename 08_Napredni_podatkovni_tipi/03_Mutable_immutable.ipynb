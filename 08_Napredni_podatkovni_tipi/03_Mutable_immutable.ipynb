{
 "cells": [
  {
   "cell_type": "markdown",
   "id": "b9d050da-6e1c-4f58-8b10-a7ce49a06999",
   "metadata": {},
   "source": [
    "# Mutable vs. immutable\n"
   ]
  },
  {
   "cell_type": "markdown",
   "id": "94039143-72a1-4dd5-9aec-2085d30c3120",
   "metadata": {},
   "source": [
    "An object that allows you to change its values without changing its identity is a **mutable object**. The changes that you can perform on a mutable object’s value are known as mutations.\n",
    "\n",
    "- Lists, dictionaries, and sets are mutable objects.\n"
   ]
  },
  {
   "cell_type": "markdown",
   "id": "f5575ba7-eb0f-436e-87e9-2150fc4b560c",
   "metadata": {},
   "source": [
    "In contrast, an object that doesn’t allow changes in its value is an **immutable object**. You have no way to perform mutations on this kind of object. You just have the option of creating a new object of the same type but with a different value, which you can do through a new assignment.\n",
    "\n",
    "- Single-item data types, such as integers, floats, complex numbers, and Booleans, are always immutable.\n",
    "- Strings and tuples are immutable data types.\n",
    "- The built-in bytes type is also an immutable type in Python.\n"
   ]
  },
  {
   "cell_type": "markdown",
   "id": "5655650f-9bc0-476c-b2a6-a4a3aacf2dd6",
   "metadata": {},
   "source": [
    "# Razlaga\n"
   ]
  },
  {
   "cell_type": "code",
   "execution_count": null,
   "id": "7452cf9f-8379-4725-9b0d-3fe1a4dc5ee3",
   "metadata": {},
   "outputs": [],
   "source": [
    "from copy import deepcopy\n",
    "\n",
    "a = [1,2,3,4,5,6,7]\n",
    "\n",
    "podatki_analiza_a = [[1,2,3], [4,5,6], [7,8,9]] # numpy array, numpy matrix\n",
    "podatki_analiza_b = deepcopy(podatki_analiza_a)"
   ]
  },
  {
   "cell_type": "code",
   "execution_count": 2,
   "id": "5e218f14-9d92-4990-9eee-78aed2872e88",
   "metadata": {},
   "outputs": [
    {
     "name": "stdout",
     "output_type": "stream",
     "text": [
      "1841000191232\n",
      "1841000191232\n"
     ]
    }
   ],
   "source": [
    "# mutable\n",
    "a = [1,2,3]\n",
    "print(id(a))\n",
    "a.append(4)\n",
    "print(id(a))"
   ]
  },
  {
   "cell_type": "code",
   "execution_count": 3,
   "id": "258bf4ed-aa16-4f8c-9bd3-744758bf2aea",
   "metadata": {},
   "outputs": [
    {
     "name": "stdout",
     "output_type": "stream",
     "text": [
      "1841000090768\n",
      "1841000100272\n"
     ]
    }
   ],
   "source": [
    "# imutable\n",
    "a = \"Test\"\n",
    "print(id(a))\n",
    "a = a + \"1\"\n",
    "print(id(a))"
   ]
  }
 ],
 "metadata": {
  "kernelspec": {
   "display_name": "Python 3 (ipykernel)",
   "language": "python",
   "name": "python3"
  },
  "language_info": {
   "codemirror_mode": {
    "name": "ipython",
    "version": 3
   },
   "file_extension": ".py",
   "mimetype": "text/x-python",
   "name": "python",
   "nbconvert_exporter": "python",
   "pygments_lexer": "ipython3",
   "version": "3.12.0"
  }
 },
 "nbformat": 4,
 "nbformat_minor": 5
}
