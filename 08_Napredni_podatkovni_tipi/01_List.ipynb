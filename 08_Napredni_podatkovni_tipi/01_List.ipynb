{
 "cells": [
  {
   "cell_type": "markdown",
   "id": "8ee05407-3a96-4357-923c-97818127ec09",
   "metadata": {},
   "source": [
    "# List"
   ]
  },
  {
   "cell_type": "markdown",
   "metadata": {},
   "source": [
    "List je zbirka elementov. (V drugih programskih jezikih je znan kot \"array\")\n",
    "\n",
    "V Pythonu je list definiran z oglatimi oklepaji [], elementi v listu pa so ločeni z vejico ,"
   ]
  },
  {
   "cell_type": "code",
   "execution_count": null,
   "metadata": {},
   "outputs": [
    {
     "name": "stdout",
     "output_type": "stream",
     "text": [
      "['pingvin', 'medved', 'los', 'volk']\n"
     ]
    }
   ],
   "source": [
    "živali  = [\"pingvin\", \"medved\", \"los\", \"volk\"]\n",
    "print(živali)"
   ]
  },
  {
   "cell_type": "markdown",
   "metadata": {},
   "source": [
    "Glavne karakteristike list-ov so:\n",
    "* Lists are ordered\n",
    "* Lists can contain any arbitrary objects.\n",
    "* List elements can be accessed by index.\n",
    "* Lists can be nested to arbitrary depth.\n",
    "* Lists are mutable.\n",
    "* Lists are dynamic."
   ]
  },
  {
   "cell_type": "markdown",
   "metadata": {},
   "source": [
    "### Lists are ordered\n",
    "\n",
    "To pomeni, da so podatki shranjenji v list v določenem zaporedju in ostanejo v tem zaporedju."
   ]
  },
  {
   "cell_type": "code",
   "execution_count": null,
   "metadata": {},
   "outputs": [
    {
     "data": {
      "text/plain": [
       "False"
      ]
     },
     "metadata": {},
     "output_type": "display_data"
    }
   ],
   "source": [
    "a  = [\"pingvin\", \"medved\", \"los\", \"volk\"]\n",
    "b  = [\"los\", \"medved\", \"pingvin\", \"volk\"]\n",
    "a == b # čeprov mata list a in v enake elemente, niso v istem zaporedju zato nista enaka"
   ]
  },
  {
   "cell_type": "markdown",
   "metadata": {},
   "source": [
    "### Lists Can Contain Arbitrary Objects\n",
    "\n",
    "Za podatke v list-u ni potrebno, da so istega tipa (data type)."
   ]
  },
  {
   "cell_type": "code",
   "execution_count": null,
   "metadata": {},
   "outputs": [
    {
     "data": {
      "text/plain": [
       "[21.42, 'medved', 3, 4, 'volk', False, 3.14159]"
      ]
     },
     "metadata": {},
     "output_type": "display_data"
    }
   ],
   "source": [
    "a = [21.42, \"medved\", 3, 4, \"volk\", False, 3.14159]\n",
    "a"
   ]
  },
  {
   "cell_type": "markdown",
   "metadata": {},
   "source": [
    "Podatki v list-u se lahko podvajajo."
   ]
  },
  {
   "cell_type": "code",
   "execution_count": null,
   "metadata": {},
   "outputs": [
    {
     "data": {
      "text/plain": [
       "['pingvin', 'medved', 'los', 'volk', 'medved']"
      ]
     },
     "metadata": {},
     "output_type": "display_data"
    }
   ],
   "source": [
    "a  = [\"pingvin\", \"medved\", \"los\", \"volk\", \"medved\"]\n",
    "a"
   ]
  },
  {
   "cell_type": "markdown",
   "metadata": {},
   "source": [
    "### List Elements Can Be Accessed by Index"
   ]
  },
  {
   "cell_type": "code",
   "execution_count": null,
   "metadata": {},
   "outputs": [],
   "source": [
    "a = ['foo', 'bar', 'baz', 'qux', 'quux', 'corge']"
   ]
  },
  {
   "cell_type": "markdown",
   "metadata": {},
   "source": [
    "Do elementov v list-u lahko dostopamo, če vemo njegov index (na kateri poziciji je).\n",
    "![image.png](attachment:image.png)\n",
    "\n",
    "V Pythonu se indexiranje začne z 0."
   ]
  },
  {
   "cell_type": "code",
   "execution_count": null,
   "metadata": {},
   "outputs": [
    {
     "name": "stdout",
     "output_type": "stream",
     "text": [
      "foo\n",
      "baz\n",
      "qux\n"
     ]
    }
   ],
   "source": [
    "print(a[0])\n",
    "print(a[2])\n",
    "print(a[3])"
   ]
  },
  {
   "cell_type": "markdown",
   "metadata": {},
   "source": [
    "Indexiramo lahko tudi z negativnimi vrednostmi:\n",
    "![image.png](attachment:image.png)"
   ]
  },
  {
   "cell_type": "code",
   "execution_count": null,
   "metadata": {},
   "outputs": [
    {
     "name": "stdout",
     "output_type": "stream",
     "text": [
      "foo\n",
      "corge\n"
     ]
    }
   ],
   "source": [
    "print(a[-6])\n",
    "print(a[-1])"
   ]
  },
  {
   "cell_type": "markdown",
   "metadata": {},
   "source": [
    "#### Slicing\n",
    "\n",
    "To nam pomaga pridobiti določene pod-liste iz že narejene list-e."
   ]
  },
  {
   "cell_type": "code",
   "execution_count": null,
   "metadata": {},
   "outputs": [
    {
     "name": "stdout",
     "output_type": "stream",
     "text": [
      "['baz', 'qux', 'quux']\n"
     ]
    }
   ],
   "source": [
    "print(a[2:5])\n",
    "# a[m:n] nam vrne list vrednosti, ki se nahajajo v a od vključno indexa m do izvzeto indexa n\n",
    "# a[2:5] nam vrne elemente v listu a od vključno 2 do ne vključno 5"
   ]
  },
  {
   "cell_type": "code",
   "execution_count": null,
   "metadata": {},
   "outputs": [
    {
     "name": "stdout",
     "output_type": "stream",
     "text": [
      "['bar', 'baz', 'qux']\n"
     ]
    }
   ],
   "source": [
    "print(a[-5:-2]) # isto deluje z negativnimi indexi"
   ]
  },
  {
   "cell_type": "code",
   "execution_count": null,
   "metadata": {},
   "outputs": [
    {
     "name": "stdout",
     "output_type": "stream",
     "text": [
      "['foo', 'bar', 'baz', 'qux']\n"
     ]
    }
   ],
   "source": [
    "print(a[:4]) # če izvzamemo začetni index nam začne pri indexu 0"
   ]
  },
  {
   "cell_type": "code",
   "execution_count": null,
   "metadata": {},
   "outputs": [
    {
     "name": "stdout",
     "output_type": "stream",
     "text": [
      "['baz', 'qux', 'quux', 'corge']\n"
     ]
    }
   ],
   "source": [
    "print(a[2:]) # če izvzamemo zadnji index se sprehodi do konca seznama"
   ]
  },
  {
   "cell_type": "markdown",
   "metadata": {},
   "source": [
    "Specificeramo lahko tudi korak, za koliko naj se premakne."
   ]
  },
  {
   "cell_type": "code",
   "execution_count": null,
   "metadata": {},
   "outputs": [
    {
     "name": "stdout",
     "output_type": "stream",
     "text": [
      "['foo', 'baz', 'quux']\n"
     ]
    }
   ],
   "source": [
    "print(a[::2]) # začne pri indexu 0, do konca, vsako drugo vrednost"
   ]
  },
  {
   "cell_type": "code",
   "execution_count": null,
   "metadata": {},
   "outputs": [
    {
     "name": "stdout",
     "output_type": "stream",
     "text": [
      "['bar', 'qux']\n",
      "['corge', 'qux', 'bar']\n",
      "['corge', 'quux', 'qux', 'baz', 'bar', 'foo']\n"
     ]
    }
   ],
   "source": [
    "print(a[1:5:2])\n",
    "print(a[6:0:-2]) # korak je lahko tudi negativen\n",
    "print(a[::-1]) # sintaksa za sprehajanje po listu v obratnem vrstnem redu"
   ]
  },
  {
   "cell_type": "markdown",
   "metadata": {},
   "source": [
    "**Use the * operator to represent the “rest” of a list**\n",
    "\n",
    "Often times, especially when dealing with the arguments to functions, it’s useful\n",
    "to extract a few elements at the beginning (or end) of a list while keeping the\n",
    "“rest” for use later. Python 2 has no easy way to accomplish this aside from using\n",
    "slices as shown below. Python 3 allows you to use the * operator on the left\n",
    "hand side of an assignment to represent the rest of a sequence."
   ]
  },
  {
   "cell_type": "code",
   "execution_count": null,
   "metadata": {},
   "outputs": [
    {
     "name": "stdout",
     "output_type": "stream",
     "text": [
      "['c', 'd', 'e']\n",
      "['b', 'c', 'd']\n",
      "['a', 'b', 'c']\n"
     ]
    }
   ],
   "source": [
    "some_list = ['a', 'b', 'c', 'd', 'e']\n",
    "(first, second, *rest) = some_list\n",
    "print(rest)\n",
    "(first, *middle, last) = some_list\n",
    "print(middle)\n",
    "(*head, second_last, last) = some_list\n",
    "print(head)"
   ]
  },
  {
   "cell_type": "markdown",
   "metadata": {},
   "source": [
    "### Lists can be nested to arbitrary depth\n",
    "\n",
    "Elementi v listu so lahko poljubnega data type.\n",
    "\n",
    "Lahko je tudi še en list. Tako lahko dodajamo dimenzije našemu list-u"
   ]
  },
  {
   "cell_type": "code",
   "execution_count": null,
   "metadata": {},
   "outputs": [
    {
     "name": "stdout",
     "output_type": "stream",
     "text": [
      "['a', ['bb', ['ccc', 'ddd'], 'ee', 'ff'], 'g', ['hh', 'ii'], 'j']\n"
     ]
    }
   ],
   "source": [
    "x = ['a', ['bb', ['ccc', 'ddd'], 'ee', 'ff'], 'g', ['hh', 'ii'], 'j']\n",
    "print(x)"
   ]
  },
  {
   "cell_type": "markdown",
   "metadata": {},
   "source": [
    "![image.png](attachment:image.png)"
   ]
  },
  {
   "cell_type": "code",
   "execution_count": null,
   "metadata": {},
   "outputs": [
    {
     "name": "stdout",
     "output_type": "stream",
     "text": [
      "g\n"
     ]
    }
   ],
   "source": [
    "print(x[2]) # element na indexu 2 je preprosti string dolžine 1 črke"
   ]
  },
  {
   "cell_type": "code",
   "execution_count": null,
   "metadata": {},
   "outputs": [
    {
     "name": "stdout",
     "output_type": "stream",
     "text": [
      "['bb', ['ccc', 'ddd'], 'ee', 'ff']\n"
     ]
    }
   ],
   "source": [
    "print(x[1]) # 1 element je nov list z 4 elementi"
   ]
  },
  {
   "cell_type": "code",
   "execution_count": null,
   "metadata": {},
   "outputs": [
    {
     "name": "stdout",
     "output_type": "stream",
     "text": [
      "bb\n"
     ]
    }
   ],
   "source": [
    "print(x[1][0]) # da pridemo do njihovih elementov preprosto dodamo nov []"
   ]
  },
  {
   "cell_type": "code",
   "execution_count": null,
   "metadata": {},
   "outputs": [
    {
     "name": "stdout",
     "output_type": "stream",
     "text": [
      "['ccc', 'ddd']\n",
      "ccc\n"
     ]
    }
   ],
   "source": [
    "print(x[1][1])\n",
    "print(x[1][1][0])"
   ]
  },
  {
   "cell_type": "markdown",
   "metadata": {},
   "source": [
    "### Lists Are Mutable\n",
    "\n",
    "To pomeni, da jih lahko spreminjamo. Lahko dodajamo elemente, jih brišemo, premikamo vrstni red, itd..\n",
    "\n",
    "> Most of the data types you have encountered so far have been atomic types. Integer or float objects, for example, are primitive units that can’t be further broken down. These types are immutable, meaning that they can’t be changed once they have been assigned. It doesn’t make much sense to think of changing the value of an integer. If you want a different integer, you just assign a different one.\n",
    "\n",
    "> By contrast, the string type is a composite type. Strings are reducible to smaller parts—the component characters. It might make sense to think of changing the characters in a string. But you can’t. In Python, strings are also immutable."
   ]
  },
  {
   "cell_type": "markdown",
   "metadata": {},
   "source": [
    "Spreminjanje vrednosti elementa."
   ]
  },
  {
   "cell_type": "code",
   "execution_count": null,
   "metadata": {},
   "outputs": [
    {
     "name": "stdout",
     "output_type": "stream",
     "text": [
      "['pingvin', 'medved', 'los', 'volk']\n",
      "['pingvin', 'medved', 'koza', 'volk']\n"
     ]
    }
   ],
   "source": [
    "a  = [\"pingvin\", \"medved\", \"los\", \"volk\"]\n",
    "print(a)\n",
    "\n",
    "a[2] = \"koza\"\n",
    "print(a)"
   ]
  },
  {
   "cell_type": "markdown",
   "metadata": {},
   "source": [
    "Brisanje elementa."
   ]
  },
  {
   "cell_type": "code",
   "execution_count": null,
   "metadata": {},
   "outputs": [
    {
     "name": "stdout",
     "output_type": "stream",
     "text": [
      "['pingvin', 'medved', 'los']\n"
     ]
    }
   ],
   "source": [
    "a  = [\"pingvin\", \"medved\", \"los\", \"volk\"]\n",
    "del a[3]\n",
    "print(a)"
   ]
  },
  {
   "cell_type": "markdown",
   "metadata": {},
   "source": [
    "Spreminjanje večih elementov naenkrat.\n",
    "\n",
    "Velikost dodanih elementov ni potrebno, da je ista kot velikost zamenjanih elementov. Python bo povečal oziroma zmanjšal list po potrebi."
   ]
  },
  {
   "cell_type": "code",
   "execution_count": null,
   "metadata": {},
   "outputs": [
    {
     "name": "stdout",
     "output_type": "stream",
     "text": [
      "['pingvin', 'medved', 'los', 'volk']\n",
      "['pingvin', 1.1, 2.2, 3.3, 4.4, 5.5, 'volk']\n",
      "['pingvin', 'krava']\n",
      "['pingvin', 'volk']\n"
     ]
    }
   ],
   "source": [
    "a  = [\"pingvin\", \"medved\", \"los\", \"volk\"]\n",
    "print(a)\n",
    "\n",
    "a  = [\"pingvin\", \"medved\", \"los\", \"volk\"]\n",
    "a[1:3] = [1.1, 2.2, 3.3, 4.4, 5.5] \n",
    "print(a)\n",
    "\n",
    "a  = [\"pingvin\", \"medved\", \"los\", \"volk\"]\n",
    "a[1:4] = ['krava']\n",
    "print(a)\n",
    "\n",
    "a  = [\"pingvin\", \"medved\", \"los\", \"volk\"]\n",
    "a[1:3] = [] # slicane elemente zamenjamo z praznim listom -> jih izbrišemo\n",
    "print(a)"
   ]
  },
  {
   "cell_type": "markdown",
   "metadata": {},
   "source": [
    "Dodajanje elementov.\n",
    "\n",
    "Lahko dodajamo vrednosti s pomočjo .append() funkcije"
   ]
  },
  {
   "cell_type": "code",
   "execution_count": null,
   "metadata": {},
   "outputs": [
    {
     "name": "stdout",
     "output_type": "stream",
     "text": [
      "['pingvin', 'medved', 'los', 'volk', 123]\n"
     ]
    }
   ],
   "source": [
    "a  = [\"pingvin\", \"medved\", \"los\", \"volk\"]\n",
    "a.append(123)\n",
    "print(a)"
   ]
  },
  {
   "cell_type": "markdown",
   "metadata": {},
   "source": [
    ".append() doda celotno vrednost na konec lista."
   ]
  },
  {
   "cell_type": "code",
   "execution_count": null,
   "metadata": {},
   "outputs": [
    {
     "name": "stdout",
     "output_type": "stream",
     "text": [
      "['pingvin', 'medved', 'los', 'volk', [1, 2, 3]]\n"
     ]
    }
   ],
   "source": [
    "a  = [\"pingvin\", \"medved\", \"los\", \"volk\"]\n",
    "a.append([1, 2, 3])\n",
    "print(a)"
   ]
  },
  {
   "cell_type": "markdown",
   "metadata": {},
   "source": [
    "Če želimo dodati vsako vrednost posebej lahko uporabimo .extend()"
   ]
  },
  {
   "cell_type": "code",
   "execution_count": 1,
   "metadata": {},
   "outputs": [
    {
     "name": "stdout",
     "output_type": "stream",
     "text": [
      "['pingvin', 'medved', 'los', 'volk', 1, 2, 3]\n"
     ]
    }
   ],
   "source": [
    "a  = [\"pingvin\", \"medved\", \"los\", \"volk\"]\n",
    "a.extend([1, 2, 3])\n",
    "print(a)"
   ]
  },
  {
   "cell_type": "markdown",
   "metadata": {},
   "source": [
    "Dodajanje elementa na specifično mesto\n",
    "\n",
    "```python\n",
    "a.insert(<index>, <obj>)\n",
    "```\n",
    "Element na mestu index zamenjamo z object."
   ]
  },
  {
   "cell_type": "code",
   "execution_count": null,
   "metadata": {},
   "outputs": [
    {
     "name": "stdout",
     "output_type": "stream",
     "text": [
      "['pingvin', 'medved', 'los', 3.14159, 'volk']\n"
     ]
    }
   ],
   "source": [
    "a  = [\"pingvin\", \"medved\", \"los\", \"volk\"]\n",
    "a.insert(3, 3.14159)\n",
    "print(a)"
   ]
  },
  {
   "cell_type": "markdown",
   "metadata": {},
   "source": [
    "```python\n",
    "a.remove(<obj>)\n",
    "```\n",
    "Odstranimo object iz liste."
   ]
  },
  {
   "cell_type": "code",
   "execution_count": null,
   "metadata": {},
   "outputs": [
    {
     "name": "stdout",
     "output_type": "stream",
     "text": [
      "['pingvin', 'medved', 'volk']\n"
     ]
    }
   ],
   "source": [
    "a  = [\"pingvin\", \"medved\", \"los\", \"volk\"]\n",
    "a.remove(\"los\")\n",
    "print(a)"
   ]
  },
  {
   "cell_type": "markdown",
   "metadata": {},
   "source": [
    "```python\n",
    "a.pop(index=-1)\n",
    "```\n",
    "Odstranimo element z indexa.\n",
    "Metoda nam vrne izbrisani element.\n",
    "Default pop je zadnji element."
   ]
  },
  {
   "cell_type": "code",
   "execution_count": null,
   "metadata": {},
   "outputs": [
    {
     "name": "stdout",
     "output_type": "stream",
     "text": [
      "['pingvin', 'los']\n",
      "volk\n",
      "medved\n"
     ]
    }
   ],
   "source": [
    "a  = [\"pingvin\", \"medved\", \"los\", \"volk\"]\n",
    "default_pop = a.pop()\n",
    "naslednji_pop = a.pop(1)\n",
    "\n",
    "print(a)\n",
    "print(default_pop)\n",
    "print(naslednji_pop)"
   ]
  },
  {
   "cell_type": "markdown",
   "metadata": {},
   "source": [
    "### Lists Are Dynamic\n",
    "\n",
    "Dynamic pove, da ni treba na začetku definirat, da bo to list."
   ]
  },
  {
   "cell_type": "code",
   "execution_count": null,
   "metadata": {},
   "outputs": [
    {
     "name": "stdout",
     "output_type": "stream",
     "text": [
      "['pingvin', 'medved', 'los', 'volk']\n",
      "<class 'list'>\n",
      "1\n",
      "<class 'int'>\n"
     ]
    }
   ],
   "source": [
    "a  = [\"pingvin\", \"medved\", \"los\", \"volk\"]\n",
    "print(a)\n",
    "print(type(a))\n",
    "\n",
    "a = 1\n",
    "print(a)\n",
    "print(type(a))"
   ]
  },
  {
   "cell_type": "markdown",
   "id": "af158e8a-5e21-413d-9e89-88e1a6a36270",
   "metadata": {},
   "source": [
    "# Razlaga"
   ]
  },
  {
   "cell_type": "code",
   "execution_count": 2,
   "id": "35629bb6-7b64-4de9-a4b3-f2362abc857c",
   "metadata": {},
   "outputs": [
    {
     "name": "stdout",
     "output_type": "stream",
     "text": [
      "['red', 'orange', 'yellow', 'green', 'blue', 'indigo', 'violet']\n",
      "<class 'list'>\n"
     ]
    }
   ],
   "source": [
    "colors = ['red', 'orange', 'yellow', 'green', 'blue', 'indigo', 'violet']\n",
    "print(colors)\n",
    "print(type(colors))"
   ]
  },
  {
   "cell_type": "code",
   "execution_count": 3,
   "id": "3e3ec197-79d9-4318-8690-1b5a0ab2b69a",
   "metadata": {},
   "outputs": [
    {
     "data": {
      "text/plain": [
       "'red'"
      ]
     },
     "execution_count": 3,
     "metadata": {},
     "output_type": "execute_result"
    }
   ],
   "source": [
    "colors[0]"
   ]
  },
  {
   "cell_type": "code",
   "execution_count": 4,
   "id": "2c6fea62-3fc4-4a4f-8f91-bc950906ee3f",
   "metadata": {},
   "outputs": [
    {
     "data": {
      "text/plain": [
       "'blue'"
      ]
     },
     "execution_count": 4,
     "metadata": {},
     "output_type": "execute_result"
    }
   ],
   "source": [
    "colors[4]"
   ]
  },
  {
   "cell_type": "code",
   "execution_count": 5,
   "id": "9dda4faa-ead8-479a-b253-682459183b15",
   "metadata": {},
   "outputs": [],
   "source": [
    "radom_type_list = ['foo', 42, 'bar', 3.14159, 'baz', True, [34, \"efdef\"]]"
   ]
  },
  {
   "cell_type": "code",
   "execution_count": 7,
   "id": "6916c749-8437-44e7-93f3-40874a03c737",
   "metadata": {},
   "outputs": [
    {
     "ename": "IndexError",
     "evalue": "list index out of range",
     "output_type": "error",
     "traceback": [
      "\u001b[1;31m---------------------------------------------------------------------------\u001b[0m",
      "\u001b[1;31mIndexError\u001b[0m                                Traceback (most recent call last)",
      "\u001b[1;32mc:\\LEON\\ICTA\\Tečaji\\icta-python-osnovni-public\\08_Napredni_podatkovni_tipi\\01_List.ipynb Cell 60\u001b[0m line \u001b[0;36m2\n\u001b[0;32m      <a href='vscode-notebook-cell:/c%3A/LEON/ICTA/Te%C4%8Daji/icta-python-osnovni-public/08_Napredni_podatkovni_tipi/01_List.ipynb#Y113sZmlsZQ%3D%3D?line=0'>1</a>\u001b[0m \u001b[39mlen\u001b[39m(colors)\n\u001b[1;32m----> <a href='vscode-notebook-cell:/c%3A/LEON/ICTA/Te%C4%8Daji/icta-python-osnovni-public/08_Napredni_podatkovni_tipi/01_List.ipynb#Y113sZmlsZQ%3D%3D?line=1'>2</a>\u001b[0m colors[\u001b[39m7\u001b[39;49m]\n",
      "\u001b[1;31mIndexError\u001b[0m: list index out of range"
     ]
    }
   ],
   "source": [
    "len(colors)\n",
    "colors[7]"
   ]
  },
  {
   "cell_type": "code",
   "execution_count": 8,
   "metadata": {},
   "outputs": [
    {
     "data": {
      "text/plain": [
       "'violet'"
      ]
     },
     "execution_count": 8,
     "metadata": {},
     "output_type": "execute_result"
    }
   ],
   "source": [
    "colors[-1]"
   ]
  },
  {
   "cell_type": "code",
   "execution_count": 9,
   "metadata": {},
   "outputs": [
    {
     "data": {
      "text/plain": [
       "'blue'"
      ]
     },
     "execution_count": 9,
     "metadata": {},
     "output_type": "execute_result"
    }
   ],
   "source": [
    "colors[-3]"
   ]
  },
  {
   "cell_type": "code",
   "execution_count": 13,
   "metadata": {},
   "outputs": [
    {
     "name": "stdout",
     "output_type": "stream",
     "text": [
      "Sujan Patel is 33 years old and works in the HR department.\n"
     ]
    }
   ],
   "source": [
    "employees_info = [['John Mckee', 38, 'Sales'], ['Lisa Crawford', 29, 'Marketing'], ['Sujan Patel', 33, 'HR']]\n",
    "print(employees_info[2][0], \"is\", employees_info[2][1], \"years old and works in the\", employees_info[2][2], \"department.\")"
   ]
  },
  {
   "cell_type": "markdown",
   "metadata": {},
   "source": [
    "    list_object[start:stop:step]"
   ]
  },
  {
   "cell_type": "code",
   "execution_count": 15,
   "metadata": {},
   "outputs": [
    {
     "data": {
      "text/plain": [
       "['orange', 'yellow', 'green']"
      ]
     },
     "execution_count": 15,
     "metadata": {},
     "output_type": "execute_result"
    }
   ],
   "source": [
    "colors = ['red', 'orange', 'yellow', 'green', 'blue', 'indigo', 'violet']\n",
    "colors[1:4]"
   ]
  },
  {
   "cell_type": "code",
   "execution_count": 19,
   "metadata": {},
   "outputs": [
    {
     "data": {
      "text/plain": [
       "['red', 'yellow', 'blue', 'violet']"
      ]
     },
     "execution_count": 19,
     "metadata": {},
     "output_type": "execute_result"
    }
   ],
   "source": [
    "colors[::2]"
   ]
  },
  {
   "cell_type": "code",
   "execution_count": 20,
   "metadata": {},
   "outputs": [
    {
     "data": {
      "text/plain": [
       "['blue', 'indigo', 'violet']"
      ]
     },
     "execution_count": 20,
     "metadata": {},
     "output_type": "execute_result"
    }
   ],
   "source": [
    "colors[-3:]"
   ]
  },
  {
   "cell_type": "code",
   "execution_count": 21,
   "metadata": {},
   "outputs": [
    {
     "data": {
      "text/plain": [
       "['red', 'orange', 'yellow']"
      ]
     },
     "execution_count": 21,
     "metadata": {},
     "output_type": "execute_result"
    }
   ],
   "source": [
    "colors[:3]"
   ]
  },
  {
   "cell_type": "markdown",
   "metadata": {},
   "source": [
    "Creating Copies of a List"
   ]
  },
  {
   "cell_type": "markdown",
   "metadata": {},
   "source": [
    "mutable type"
   ]
  },
  {
   "cell_type": "code",
   "execution_count": 23,
   "metadata": {},
   "outputs": [
    {
     "name": "stdout",
     "output_type": "stream",
     "text": [
      "id(countries): 2649958020800\n",
      "id(nations): 2649958020800\n",
      "['Italia', 'Croatia', 'Serbia', 'Bosnia', 'Montenegro', 'Macedonia', 'Kosovo']\n",
      "['Italia', 'Croatia', 'Serbia', 'Bosnia', 'Montenegro', 'Macedonia', 'Kosovo']\n"
     ]
    }
   ],
   "source": [
    "countries = ['Slovenia', 'Croatia', 'Serbia', 'Bosnia', 'Montenegro', 'Macedonia', 'Kosovo']\n",
    "nations = countries\n",
    "print(\"id(countries):\", id(countries))\n",
    "print(\"id(nations):\", id(nations))\n",
    "countries[0] = \"Italia\"\n",
    "print(countries)\n",
    "print(nations)"
   ]
  },
  {
   "cell_type": "code",
   "execution_count": 25,
   "metadata": {},
   "outputs": [
    {
     "name": "stdout",
     "output_type": "stream",
     "text": [
      "id(countries): 2649958017664\n",
      "id(nations): 2649958002816\n",
      "['Italia', 'Croatia', 'Serbia', 'Bosnia', 'Montenegro', 'Macedonia', 'Kosovo']\n",
      "['Slovenia', 'Croatia', 'Serbia', 'Bosnia', 'Montenegro', 'Macedonia', 'Kosovo']\n"
     ]
    }
   ],
   "source": [
    "# želimo kopijo lista\n",
    "countries = ['Slovenia', 'Croatia', 'Serbia', 'Bosnia', 'Montenegro', 'Macedonia', 'Kosovo']\n",
    "#nations = countries[:]\n",
    "nations = countries.copy()\n",
    "print(\"id(countries):\", id(countries))\n",
    "print(\"id(nations):\", id(nations))\n",
    "countries[0] = \"Italia\"\n",
    "print(countries)\n",
    "print(nations)"
   ]
  },
  {
   "cell_type": "code",
   "execution_count": 28,
   "metadata": {},
   "outputs": [
    {
     "name": "stdout",
     "output_type": "stream",
     "text": [
      "id(countries): 2649958293504\n",
      "id(nations): 2649958004352\n",
      "[['Italia', 'Croatia'], ['Serbia', 'Bosnia', 'Montenegro'], ['Macedonia', 'Kosovo']]\n",
      "[['Slovenia', 'Croatia'], ['Serbia', 'Bosnia', 'Montenegro'], ['Macedonia', 'Kosovo']]\n"
     ]
    }
   ],
   "source": [
    "from copy import deepcopy\n",
    "\n",
    "# želimo deep copy lista\n",
    "countries = [['Slovenia', 'Croatia'], ['Serbia', 'Bosnia', 'Montenegro'], ['Macedonia', 'Kosovo']]\n",
    "#nations = countries[:]\n",
    "nations = deepcopy(countries)\n",
    "print(\"id(countries):\", id(countries))\n",
    "print(\"id(nations):\", id(nations))\n",
    "countries[0][0] = \"Italia\"\n",
    "print(countries)\n",
    "print(nations)"
   ]
  },
  {
   "cell_type": "markdown",
   "metadata": {},
   "source": [
    "Updating Items in Lists"
   ]
  },
  {
   "cell_type": "code",
   "execution_count": 56,
   "metadata": {},
   "outputs": [
    {
     "name": "stdout",
     "output_type": "stream",
     "text": [
      "[1, 2, 3, 22, 5, 6, 7, 8, 9, 10, 5]\n",
      "[1, 2, 3, 22, 55, 6, 7, 8, 9, 10, 5]\n",
      "[1, 2, 3, 33, 44, 55, 7, 8, 9, 10, 5]\n",
      "[1, 2, 3, 100, 7, 8, 9, 10, 5]\n",
      "[1, 2, 3, 100, 100, 100, 100, 100, 100, 9, 10, 5]\n"
     ]
    }
   ],
   "source": [
    "numbers = [1, 2, 3, 4, 5, 6,7, 8, 9, 10, 5]\n",
    "\n",
    "numbers[3] = 22\n",
    "print(numbers)\n",
    "numbers[numbers.index(5)] = 55\n",
    "print(numbers)\n",
    "numbers[3:6] = [33, 44, 55]\n",
    "print(numbers)\n",
    "numbers[3:6] = [100]\n",
    "print(numbers)\n",
    "numbers[3:6] = [100] * 6\n",
    "print(numbers)"
   ]
  },
  {
   "cell_type": "code",
   "execution_count": 57,
   "metadata": {},
   "outputs": [
    {
     "name": "stdout",
     "output_type": "stream",
     "text": [
      "[1, 2, 3]\n"
     ]
    }
   ],
   "source": [
    "data = []\n",
    "\n",
    "data.append(1)\n",
    "data.append(2)\n",
    "data.append(3)\n",
    "\n",
    "print(data)"
   ]
  },
  {
   "cell_type": "code",
   "execution_count": 58,
   "metadata": {},
   "outputs": [
    {
     "name": "stdout",
     "output_type": "stream",
     "text": [
      "[1, 2, 3, 4, 5, 6]\n",
      "[1, 2, 3, 4, 5, 6, 7, 8, 9]\n"
     ]
    }
   ],
   "source": [
    "data.extend([4, 5, 6])\n",
    "print(data)\n",
    "\n",
    "# isto\n",
    "\n",
    "data = data + [7, 8, 9]\n",
    "print(data)"
   ]
  },
  {
   "cell_type": "code",
   "execution_count": 59,
   "metadata": {},
   "outputs": [
    {
     "name": "stdout",
     "output_type": "stream",
     "text": [
      "[1, 2, 3, 6000, 4, 5, 6, 7, 8, 9]\n"
     ]
    }
   ],
   "source": [
    "data.insert(3, 6000)\n",
    "print(data)"
   ]
  },
  {
   "cell_type": "code",
   "execution_count": 60,
   "metadata": {},
   "outputs": [
    {
     "name": "stdout",
     "output_type": "stream",
     "text": [
      "[1, 2, 3, 4, 5, 6, 7, 8, 9]\n"
     ]
    }
   ],
   "source": [
    "data.remove(6000)\n",
    "print(data)"
   ]
  },
  {
   "cell_type": "code",
   "execution_count": 64,
   "metadata": {},
   "outputs": [
    {
     "name": "stdout",
     "output_type": "stream",
     "text": [
      "6\n",
      "[1, 2, 3, 4, 5]\n"
     ]
    }
   ],
   "source": [
    "removed_value = data.pop(-1)\n",
    "print(removed_value)\n",
    "print(data)"
   ]
  },
  {
   "cell_type": "code",
   "execution_count": 65,
   "metadata": {},
   "outputs": [
    {
     "name": "stdout",
     "output_type": "stream",
     "text": [
      "[1, 2, 5]\n"
     ]
    }
   ],
   "source": [
    "del data[2:4]\n",
    "print(data)"
   ]
  },
  {
   "cell_type": "code",
   "execution_count": 68,
   "metadata": {},
   "outputs": [
    {
     "name": "stdout",
     "output_type": "stream",
     "text": [
      "[9, 8, 7, 6, 5, 4, 3, 2, 1]\n"
     ]
    }
   ],
   "source": [
    "data = [1, 2, 3, 4, 5, 6, 7, 8, 9]\n",
    "reversed_data = list(reversed(data))\n",
    "print(reversed_data)"
   ]
  },
  {
   "cell_type": "code",
   "execution_count": 69,
   "metadata": {},
   "outputs": [
    {
     "data": {
      "text/plain": [
       "['t', 'e', 's', 't']"
      ]
     },
     "execution_count": 69,
     "metadata": {},
     "output_type": "execute_result"
    }
   ],
   "source": [
    "list(\"test\")"
   ]
  },
  {
   "cell_type": "code",
   "execution_count": 70,
   "metadata": {},
   "outputs": [
    {
     "name": "stdout",
     "output_type": "stream",
     "text": [
      "[1, 2, 3, 4, 5, 5, 5, 6, 7, 8, 9]\n",
      "[1, 2, 3, 4, 5, 6, 7, 8, 9]\n"
     ]
    }
   ],
   "source": [
    "# odstranimo duplikate iz lista\n",
    "list_with_duplication = [1, 2, 3, 4, 5, 5, 5, 6, 7, 8, 9]\n",
    "print(list_with_duplication)\n",
    "print(list(set(list_with_duplication)))"
   ]
  },
  {
   "cell_type": "code",
   "execution_count": 71,
   "metadata": {},
   "outputs": [
    {
     "name": "stdout",
     "output_type": "stream",
     "text": [
      "[6, 9, 3, 1, 8, 4, 7, 2, 5]\n",
      "[1, 2, 3, 4, 5, 6, 7, 8, 9]\n",
      "[9, 8, 7, 6, 5, 4, 3, 2, 1]\n"
     ]
    }
   ],
   "source": [
    "unsorted_numbers = [6, 9, 3, 1, 8, 4, 7, 2, 5]\n",
    "print(unsorted_numbers)\n",
    "print(sorted(unsorted_numbers))\n",
    "print(sorted(unsorted_numbers, reverse=True))"
   ]
  },
  {
   "cell_type": "code",
   "execution_count": null,
   "metadata": {},
   "outputs": [],
   "source": []
  }
 ],
 "metadata": {
  "kernelspec": {
   "display_name": "Python 3 (ipykernel)",
   "language": "python",
   "name": "python3"
  },
  "language_info": {
   "codemirror_mode": {
    "name": "ipython",
    "version": 3
   },
   "file_extension": ".py",
   "mimetype": "text/x-python",
   "name": "python",
   "nbconvert_exporter": "python",
   "pygments_lexer": "ipython3",
   "version": "3.12.0"
  }
 },
 "nbformat": 4,
 "nbformat_minor": 5
}
