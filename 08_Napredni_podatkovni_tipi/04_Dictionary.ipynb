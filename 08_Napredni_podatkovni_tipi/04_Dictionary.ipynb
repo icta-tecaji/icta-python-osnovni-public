{
 "cells": [
  {
   "cell_type": "markdown",
   "id": "63f1c887-95a0-4961-9c0a-42dc2f1347b5",
   "metadata": {},
   "source": [
    "# Dictionary\n"
   ]
  },
  {
   "cell_type": "markdown",
   "metadata": {},
   "source": [
    "Njihove lastnosti so sledeče:\n",
    "\n",
    "- Are insertion ordered (vrstni red elementov je odvisen od vrstega reda dodajanja) (to velja od python 3.6+)\n",
    "- Element accession (do elementov se dostopa preko ključev, ne preko indexov)\n",
    "- Can be nested (kot element ima lahko še en dictionary, list, touple, ....)\n",
    "- Are mutable (vrednosti elementov se lahko spreminjajo)\n",
    "- Are dynamic (sej to velja za vse pr pythonu)\n",
    "\n",
    "Dictionary je sestavljen iz parov ključa in vrednosti.\n",
    "Vsak Ključ ima svojo vrednost.\n"
   ]
  },
  {
   "cell_type": "code",
   "execution_count": null,
   "metadata": {},
   "outputs": [
    {
     "name": "stdout",
     "output_type": "stream",
     "text": [
      "{'macek': 'Silvestre', 'pes': 'Fido', 'papagaj': 'Kakadu'}\n",
      "<class 'dict'>\n"
     ]
    }
   ],
   "source": [
    "d = {\"macek\": \"Silvestre\", \"pes\": \"Fido\", \"papagaj\": \"Kakadu\"}\n",
    "print(d)\n",
    "print(type(d))"
   ]
  },
  {
   "cell_type": "code",
   "execution_count": null,
   "metadata": {},
   "outputs": [
    {
     "name": "stdout",
     "output_type": "stream",
     "text": [
      "{'macek': 1, 'pes': 'Fido', 'papagaj': False}\n"
     ]
    }
   ],
   "source": [
    "# Primer: Can contain any arbitrary objects\n",
    "d = {\"macek\": 1, \"pes\": \"Fido\", \"papagaj\": False}\n",
    "print(d)"
   ]
  },
  {
   "cell_type": "markdown",
   "metadata": {},
   "source": [
    "### Accessing dictionary value\n",
    "\n",
    "Vrednosti najdemo preko ključev.\n"
   ]
  },
  {
   "cell_type": "code",
   "execution_count": null,
   "metadata": {},
   "outputs": [
    {
     "name": "stdout",
     "output_type": "stream",
     "text": [
      "Kakadu\n"
     ]
    }
   ],
   "source": [
    "d = {\"macek\": \"Silvestre\", \"pes\": \"Fido\", \"papagaj\": \"Kakadu\"}\n",
    "print(d[\"papagaj\"])"
   ]
  },
  {
   "cell_type": "markdown",
   "metadata": {},
   "source": [
    "Če vpišemo ključ, ki ne obstaja python vrne napako.\n"
   ]
  },
  {
   "cell_type": "code",
   "execution_count": null,
   "metadata": {},
   "outputs": [
    {
     "ename": "KeyError",
     "evalue": "'koza'",
     "output_type": "error",
     "traceback": [
      "\u001b[1;31m---------------------------------------------------------------------------\u001b[0m\n",
      "\u001b[1;31mKeyError\u001b[0m                                  Traceback (most recent call last)\n",
      "\u001b[1;32m<ipython-input-146-91bc34ee01c4>\u001b[0m in \u001b[0;36m<module>\u001b[1;34m\u001b[0m\n",
      "\u001b[0;32m      4\u001b[0m \u001b[1;34m'papagaj'\u001b[0m\u001b[1;33m:\u001b[0m \u001b[1;34m'Kakadu'\u001b[0m\u001b[1;33m\u001b[0m\u001b[1;33m\u001b[0m\u001b[0m\n",
      "\u001b[0;32m      5\u001b[0m }\n",
      "\u001b[1;32m----> 6\u001b[1;33m \u001b[0md\u001b[0m\u001b[1;33m[\u001b[0m\u001b[1;34m'koza'\u001b[0m\u001b[1;33m]\u001b[0m \u001b[1;31m# should give KeyError\u001b[0m\u001b[1;33m\u001b[0m\u001b[1;33m\u001b[0m\u001b[0m\n",
      "\u001b[0m\n",
      "\u001b[1;31mKeyError\u001b[0m: 'koza'"
     ]
    }
   ],
   "source": [
    "d = {\"macek\": \"Silvestre\", \"pes\": \"Fido\", \"papagaj\": \"Kakadu\"}\n",
    "d[\"koza\"]  # should give KeyError"
   ]
  },
  {
   "cell_type": "markdown",
   "metadata": {},
   "source": [
    "Dodajanje novih vrednosti\n"
   ]
  },
  {
   "cell_type": "code",
   "execution_count": null,
   "metadata": {},
   "outputs": [
    {
     "name": "stdout",
     "output_type": "stream",
     "text": [
      "{'macek': 'Silvestre', 'pes': 'Fido', 'papagaj': 'Kakadu', 'koza': 'Micka'}\n"
     ]
    }
   ],
   "source": [
    "d = {\"macek\": \"Silvestre\", \"pes\": \"Fido\", \"papagaj\": \"Kakadu\"}\n",
    "d[\"koza\"] = \"Micka\"\n",
    "print(d)"
   ]
  },
  {
   "cell_type": "markdown",
   "metadata": {},
   "source": [
    "Posodabljanje vrednosti.\n"
   ]
  },
  {
   "cell_type": "code",
   "execution_count": null,
   "metadata": {},
   "outputs": [
    {
     "name": "stdout",
     "output_type": "stream",
     "text": [
      "{'macek': 'Silvestre', 'pes': 'Fido', 'papagaj': 'Kakadu', 'koza': 'Helga'}\n"
     ]
    }
   ],
   "source": [
    "d[\"koza\"] = \"Helga\"\n",
    "print(d)"
   ]
  },
  {
   "cell_type": "markdown",
   "metadata": {},
   "source": [
    "Brisanje elementa.\n"
   ]
  },
  {
   "cell_type": "code",
   "execution_count": null,
   "metadata": {},
   "outputs": [
    {
     "name": "stdout",
     "output_type": "stream",
     "text": [
      "{'macek': 'Silvestre', 'pes': 'Fido', 'papagaj': 'Kakadu'}\n"
     ]
    }
   ],
   "source": [
    "del d[\"koza\"]\n",
    "print(d)"
   ]
  },
  {
   "cell_type": "markdown",
   "metadata": {},
   "source": [
    "## Restrictions on dictionary keys\n"
   ]
  },
  {
   "cell_type": "markdown",
   "metadata": {},
   "source": [
    "Kot Ključ lahko uporabimo poljubne vrednosti, dokler so \"immutable\". Sm spadajo integer, float, string, boolean, touple.\n",
    "\n",
    "Touple je lahko ključ le, če so elementi znotraj njega tudi \"immutable\" (strings, integers, floats,...).\n"
   ]
  },
  {
   "cell_type": "code",
   "execution_count": null,
   "metadata": {},
   "outputs": [
    {
     "name": "stdout",
     "output_type": "stream",
     "text": [
      "{1: 'a', 2.3: 'b', 'string': 'c', None: 'd', (1, 'touple'): 'e'}\n",
      "b\n",
      "d\n",
      "e\n"
     ]
    }
   ],
   "source": [
    "d = {\n",
    "    1: \"a\",\n",
    "    2.3: \"b\",\n",
    "    \"string\": \"c\",\n",
    "    None: \"d\",\n",
    "    (1, \"touple\"): \"e\",\n",
    "}\n",
    "print(d)\n",
    "\n",
    "\n",
    "\n",
    "print(d[2.3])\n",
    "\n",
    "\n",
    "print(d[None])\n",
    "\n",
    "\n",
    "print(d[(1, \"touple\")])\n",
    "\n",
    "\n",
    "# PAZI: Če daš True namest None bo narobe deloval. Pomojm tretira 1 kt True pa se mu zmeša mal.\n",
    "\n",
    "\n",
    "# Sej keywords dajat sm je nesmiselno"
   ]
  },
  {
   "cell_type": "code",
   "execution_count": null,
   "metadata": {},
   "outputs": [
    {
     "ename": "TypeError",
     "evalue": "unhashable type: 'list'",
     "output_type": "error",
     "traceback": [
      "\u001b[1;31m---------------------------------------------------------------------------\u001b[0m\n",
      "\u001b[1;31mTypeError\u001b[0m                                 Traceback (most recent call last)\n",
      "\u001b[1;32m<ipython-input-103-f98311767e81>\u001b[0m in \u001b[0;36m<module>\u001b[1;34m\u001b[0m\n",
      "\u001b[0;32m      1\u001b[0m \u001b[1;31m# Primer: Vrže error, ker hočemo kot ključ uporabiti list, ki pa je mutable\u001b[0m\u001b[1;33m\u001b[0m\u001b[1;33m\u001b[0m\u001b[1;33m\u001b[0m\u001b[0m\n",
      "\u001b[1;32m----> 2\u001b[1;33m \u001b[0md\u001b[0m \u001b[1;33m=\u001b[0m \u001b[1;33m{\u001b[0m\u001b[1;33m[\u001b[0m\u001b[1;36m1\u001b[0m\u001b[1;33m,\u001b[0m\u001b[1;36m1\u001b[0m\u001b[1;33m]\u001b[0m\u001b[1;33m:\u001b[0m \u001b[1;34m'a'\u001b[0m\u001b[1;33m,\u001b[0m \u001b[1;33m[\u001b[0m\u001b[1;36m1\u001b[0m\u001b[1;33m,\u001b[0m\u001b[1;36m2\u001b[0m\u001b[1;33m]\u001b[0m\u001b[1;33m:\u001b[0m \u001b[1;34m'b'\u001b[0m\u001b[1;33m}\u001b[0m\u001b[1;33m\u001b[0m\u001b[1;33m\u001b[0m\u001b[0m\n",
      "\u001b[0m\u001b[0;32m      3\u001b[0m \u001b[0md\u001b[0m \u001b[1;33m=\u001b[0m \u001b[1;33m{\u001b[0m\u001b[1;33m(\u001b[0m\u001b[1;36m1\u001b[0m\u001b[1;33m,\u001b[0m\u001b[1;36m2\u001b[0m\u001b[1;33m,\u001b[0m\u001b[1;33m[\u001b[0m\u001b[1;36m1\u001b[0m\u001b[1;33m,\u001b[0m\u001b[1;36m2\u001b[0m\u001b[1;33m]\u001b[0m\u001b[1;33m)\u001b[0m\u001b[1;33m:\u001b[0m \u001b[1;34m\"f\"\u001b[0m\u001b[1;33m,\u001b[0m\u001b[1;33m}\u001b[0m\u001b[1;33m\u001b[0m\u001b[1;33m\u001b[0m\u001b[0m\n",
      "\n",
      "\u001b[1;31mTypeError\u001b[0m: unhashable type: 'list'"
     ]
    }
   ],
   "source": [
    "# Primer: Vrže error, ker hočemo kot ključ uporabiti list, ki pa je mutable\n",
    "d = {[1, 1]: \"a\", [1, 2]: \"b\"}\n",
    "d = {\n",
    "    (1, 2, [1, 2]): \"f\",\n",
    "}"
   ]
  },
  {
   "cell_type": "markdown",
   "metadata": {},
   "source": [
    "### Technical Note:\n",
    "\n",
    "Why does the error message say “unhashable” rather than “mutable”? Python uses hash values internally to implement dictionary keys, so an object must be hashable to be used as a key.\n",
    "\n",
    "https://docs.python.org/3/glossary.html#term-hashable\n",
    "\n",
    "> An object is hashable if it has a hash value which never changes during its lifetime (it needs a **hash**() method), and can be compared to other objects (it needs an **eq**() method). Hashable objects which compare equal must have the same hash value.\n",
    "\n",
    "> Hashability makes an object usable as a dictionary key and a set member, because these data structures use the hash value internally.\n",
    "\n",
    "> All of Python’s immutable built-in objects are hashable; mutable containers (such as lists or dictionaries) are not. Objects which are instances of user-defined classes are hashable by default. They all compare unequal (except with themselves), and their hash value is derived from their id().\n"
   ]
  },
  {
   "cell_type": "markdown",
   "metadata": {},
   "source": [
    "AMPAK\n",
    "\n",
    "Ključ more bit edinstven (se ne sme ponovit):\n"
   ]
  },
  {
   "cell_type": "code",
   "execution_count": null,
   "metadata": {},
   "outputs": [
    {
     "name": "stdout",
     "output_type": "stream",
     "text": [
      "{'macek': 'Amadeus', 'pes': 'Fido', 'papagaj': 'Kakadu'}\n"
     ]
    }
   ],
   "source": [
    "d = {\"macek\": \"Silvestre\", \"pes\": \"Fido\", \"papagaj\": \"Kakadu\", \"macek\": \"Amadeus\"}\n",
    "print(d)"
   ]
  },
  {
   "cell_type": "markdown",
   "metadata": {},
   "source": [
    "## Built-in Dictionary Methods\n",
    "\n",
    "Še nekaj ostalih metod.\n",
    "\n",
    "> A rabm to vse kazat? Pomojm se velk lah preskoč, če ni časa. Če ne pa na hitr 1 primer pokaže.\n"
   ]
  },
  {
   "cell_type": "markdown",
   "metadata": {},
   "source": [
    "```python\n",
    "d.clear()\n",
    "```\n",
    "\n",
    "d.clear() empties dictionary d of all key-value pairs:\n"
   ]
  },
  {
   "cell_type": "code",
   "execution_count": null,
   "metadata": {},
   "outputs": [
    {
     "name": "stdout",
     "output_type": "stream",
     "text": [
      "{'a': 10, 'b': 20, 'c': 30}\n",
      "{}\n"
     ]
    }
   ],
   "source": [
    "d = {\"a\": 10, \"b\": 20, \"c\": 30}\n",
    "print(d)\n",
    "\n",
    "d.clear()\n",
    "print(d)"
   ]
  },
  {
   "cell_type": "markdown",
   "metadata": {},
   "source": [
    "```python\n",
    "d.get(<key>[, <default>])\n",
    "```\n",
    "\n",
    "get() metoda nam nudi preprost način kako dobimo vrednost ključa brez, da preverimo, če ključ sploh obstaja.\n",
    "\n",
    "Če ključ ne obstaja dobimo None\n"
   ]
  },
  {
   "cell_type": "code",
   "execution_count": null,
   "metadata": {},
   "outputs": [
    {
     "name": "stdout",
     "output_type": "stream",
     "text": [
      "20\n",
      "None\n"
     ]
    }
   ],
   "source": [
    "d = {\"a\": 10, \"b\": 20, \"c\": 30}\n",
    "print(d.get(\"b\"))\n",
    "print(d.get(\"z\"))"
   ]
  },
  {
   "cell_type": "markdown",
   "metadata": {},
   "source": [
    "Če ključ ni najden in smo specificirali dodaten argument nam vrne le tega namesto None.\n"
   ]
  },
  {
   "cell_type": "code",
   "execution_count": null,
   "metadata": {},
   "outputs": [
    {
     "name": "stdout",
     "output_type": "stream",
     "text": [
      "-5\n"
     ]
    }
   ],
   "source": [
    "d = {\"a\": 10, \"b\": 20, \"c\": 30}\n",
    "print(d.get(\"z\", -5))"
   ]
  },
  {
   "cell_type": "markdown",
   "metadata": {},
   "source": [
    "```python\n",
    "d.items()\n",
    "```\n",
    "\n",
    "Vrne nam list sestavljen iz touple, ki so sestavljeni iz ključ-vrednost parov. Prvi element toupla je ključ, drugi je vrednost.\n"
   ]
  },
  {
   "cell_type": "code",
   "execution_count": null,
   "metadata": {},
   "outputs": [
    {
     "name": "stdout",
     "output_type": "stream",
     "text": [
      "[('a', 10), ('b', 20), ('c', 30)]\n",
      "('b', 20)\n",
      "20\n"
     ]
    }
   ],
   "source": [
    "d = {\"a\": 10, \"b\": 20, \"c\": 30}\n",
    "print(list(d.items()))\n",
    "print(list(d.items())[1])\n",
    "print(list(d.items())[1][1])"
   ]
  },
  {
   "cell_type": "markdown",
   "metadata": {},
   "source": [
    "```python\n",
    "d.keys()\n",
    "```\n",
    "\n",
    "Vrne nam list ključev.\n"
   ]
  },
  {
   "cell_type": "code",
   "execution_count": null,
   "metadata": {},
   "outputs": [
    {
     "name": "stdout",
     "output_type": "stream",
     "text": [
      "['a', 'b', 'c']\n"
     ]
    }
   ],
   "source": [
    "d = {\"a\": 10, \"b\": 20, \"c\": 30}\n",
    "print(list(d.keys()))"
   ]
  },
  {
   "cell_type": "markdown",
   "metadata": {},
   "source": [
    "```python\n",
    "d.values()\n",
    "```\n",
    "\n",
    "Vrne nam list vrednosti.\n"
   ]
  },
  {
   "cell_type": "code",
   "execution_count": null,
   "metadata": {},
   "outputs": [
    {
     "name": "stdout",
     "output_type": "stream",
     "text": [
      "[10, 10, 10]\n"
     ]
    }
   ],
   "source": [
    "d = {\"a\": 10, \"b\": 10, \"c\": 10}\n",
    "print(list(d.values()))"
   ]
  },
  {
   "cell_type": "markdown",
   "metadata": {},
   "source": [
    "```python\n",
    "d.pop(<key>[, <default>])\n",
    "```\n",
    "\n",
    "Če ključ obstaja v dictionary ga odstrani skupaj z njegovo vrednostjo.\n"
   ]
  },
  {
   "cell_type": "code",
   "execution_count": null,
   "metadata": {},
   "outputs": [
    {
     "name": "stdout",
     "output_type": "stream",
     "text": [
      "20\n",
      "{'a': 10, 'c': 30}\n"
     ]
    }
   ],
   "source": [
    "d = {\"a\": 10, \"b\": 20, \"c\": 30}\n",
    "print(d.pop(\"b\"))\n",
    "print(d)"
   ]
  },
  {
   "cell_type": "markdown",
   "metadata": {},
   "source": [
    "Če ne najde ključa nam vrne napako.\n"
   ]
  },
  {
   "cell_type": "code",
   "execution_count": null,
   "metadata": {},
   "outputs": [
    {
     "ename": "KeyError",
     "evalue": "'z'",
     "output_type": "error",
     "traceback": [
      "\u001b[1;31m---------------------------------------------------------------------------\u001b[0m\n",
      "\u001b[1;31mKeyError\u001b[0m                                  Traceback (most recent call last)\n",
      "\u001b[1;32m<ipython-input-162-f36d736a326b>\u001b[0m in \u001b[0;36m<module>\u001b[1;34m\u001b[0m\n",
      "\u001b[0;32m      1\u001b[0m \u001b[0md\u001b[0m \u001b[1;33m=\u001b[0m \u001b[1;33m{\u001b[0m\u001b[1;34m'a'\u001b[0m\u001b[1;33m:\u001b[0m \u001b[1;36m10\u001b[0m\u001b[1;33m,\u001b[0m \u001b[1;34m'b'\u001b[0m\u001b[1;33m:\u001b[0m \u001b[1;36m20\u001b[0m\u001b[1;33m,\u001b[0m \u001b[1;34m'c'\u001b[0m\u001b[1;33m:\u001b[0m \u001b[1;36m30\u001b[0m\u001b[1;33m}\u001b[0m\u001b[1;33m\u001b[0m\u001b[1;33m\u001b[0m\u001b[0m\n",
      "\u001b[1;32m----> 2\u001b[1;33m \u001b[0mprint\u001b[0m\u001b[1;33m(\u001b[0m\u001b[0md\u001b[0m\u001b[1;33m.\u001b[0m\u001b[0mpop\u001b[0m\u001b[1;33m(\u001b[0m\u001b[1;34m'z'\u001b[0m\u001b[1;33m)\u001b[0m\u001b[1;33m)\u001b[0m\u001b[1;33m\u001b[0m\u001b[1;33m\u001b[0m\u001b[0m\n",
      "\u001b[0m\n",
      "\u001b[1;31mKeyError\u001b[0m: 'z'"
     ]
    }
   ],
   "source": [
    "d = {\"a\": 10, \"b\": 20, \"c\": 30}\n",
    "print(d.pop(\"z\"))"
   ]
  },
  {
   "cell_type": "markdown",
   "metadata": {},
   "source": [
    "Če ključ ni najden, smo pa dodatno specificirali default argument, potem nam vrne vrednost default argumenta in ne dvigne nobene napake.\n"
   ]
  },
  {
   "cell_type": "code",
   "execution_count": null,
   "metadata": {},
   "outputs": [
    {
     "name": "stdout",
     "output_type": "stream",
     "text": [
      "Ni našlo ključa\n"
     ]
    }
   ],
   "source": [
    "d = {\"a\": 10, \"b\": 20, \"c\": 30}\n",
    "print(d.pop(\"z\", \"Ni našlo ključa\"))"
   ]
  },
  {
   "cell_type": "markdown",
   "metadata": {},
   "source": [
    "```python\n",
    "d.popitem()\n",
    "```\n",
    "\n",
    "Odstrani random, arbitrarni ključ-vrednost par in nam ga vrne kot touple.\n",
    "\n",
    "> popitem() is useful to destructively iterate over a dictionary, as often used in set algorithms\n"
   ]
  },
  {
   "cell_type": "code",
   "execution_count": null,
   "metadata": {},
   "outputs": [
    {
     "name": "stdout",
     "output_type": "stream",
     "text": [
      "('g', 70)\n",
      "{'a': 10, 'b': 20, 'c': 30, 'd': 40, 'e': 50, 'f': 60}\n"
     ]
    }
   ],
   "source": [
    "d = {\"a\": 10, \"b\": 20, \"c\": 30, \"d\": 40, \"e\": 50, \"f\": 60, \"g\": 70}\n",
    "print(d.popitem())\n",
    "print(d)"
   ]
  },
  {
   "cell_type": "markdown",
   "metadata": {},
   "source": [
    "Če je dictionary prazen dobimo KeyError error.\n"
   ]
  },
  {
   "cell_type": "code",
   "execution_count": null,
   "metadata": {},
   "outputs": [
    {
     "ename": "KeyError",
     "evalue": "'popitem(): dictionary is empty'",
     "output_type": "error",
     "traceback": [
      "\u001b[1;31m---------------------------------------------------------------------------\u001b[0m\n",
      "\u001b[1;31mKeyError\u001b[0m                                  Traceback (most recent call last)\n",
      "\u001b[1;32m<ipython-input-165-3d5a99fd0340>\u001b[0m in \u001b[0;36m<module>\u001b[1;34m\u001b[0m\n",
      "\u001b[0;32m      1\u001b[0m \u001b[0md\u001b[0m \u001b[1;33m=\u001b[0m \u001b[1;33m{\u001b[0m\u001b[1;33m}\u001b[0m\u001b[1;33m\u001b[0m\u001b[1;33m\u001b[0m\u001b[0m\n",
      "\u001b[1;32m----> 2\u001b[1;33m \u001b[0md\u001b[0m\u001b[1;33m.\u001b[0m\u001b[0mpopitem\u001b[0m\u001b[1;33m(\u001b[0m\u001b[1;33m)\u001b[0m\u001b[1;33m\u001b[0m\u001b[1;33m\u001b[0m\u001b[0m\n",
      "\u001b[0m\n",
      "\u001b[1;31mKeyError\u001b[0m: 'popitem(): dictionary is empty'"
     ]
    }
   ],
   "source": [
    "d = {}\n",
    "d.popitem()"
   ]
  },
  {
   "cell_type": "code",
   "execution_count": null,
   "metadata": {},
   "outputs": [
    {
     "name": "stdout",
     "output_type": "stream",
     "text": [
      "{'a': 10, 'b': 20, 'c': 30, 'd': 40, 'e': 50, 'f': 60, 'g': 70}\n",
      "<class 'dict'>\n",
      "1.2\n",
      "<class 'float'>\n"
     ]
    }
   ],
   "source": [
    "# Primer: Da je dictionary dinamičen\n",
    "d = {\"a\": 10, \"b\": 20, \"c\": 30, \"d\": 40, \"e\": 50, \"f\": 60, \"g\": 70}\n",
    "print(d)\n",
    "print(type(d))\n",
    "\n",
    "d = 1.2\n",
    "print(d)\n",
    "print(type(d))"
   ]
  },
  {
   "cell_type": "markdown",
   "id": "fdcb1195-9e3a-4438-9d42-dc715be870ab",
   "metadata": {},
   "source": [
    "# Razlaga\n"
   ]
  },
  {
   "cell_type": "markdown",
   "id": "3ae57a1d-4fb2-4a40-90bf-02343bf3dec8",
   "metadata": {},
   "source": [
    "```\n",
    "d = {\n",
    "    <key>: <value>,\n",
    "    <key>: <value>,\n",
    "      .\n",
    "      .\n",
    "      .\n",
    "    <key>: <value>\n",
    "}\n",
    "```\n"
   ]
  },
  {
   "cell_type": "code",
   "execution_count": 4,
   "id": "dd6ab490-09fc-405c-a4af-c9301c1da0a5",
   "metadata": {},
   "outputs": [],
   "source": [
    "color_hex = {\n",
    "    \"red\": \"#f00\",\n",
    "    \"green\": \"#0f0\",\n",
    "    \"blue\": \"#00f\",\n",
    "    \"white\": \"#fff\",\n",
    "    \"black\": \"#000\",\n",
    "}"
   ]
  },
  {
   "cell_type": "markdown",
   "id": "62b5c4c8-7499-46d9-a369-74b5227e065c",
   "metadata": {},
   "source": [
    "The presence of a trailing comma can reduce diff size when parameters or elements are added or removed from function calls, function definitions, literals, etc.\n"
   ]
  },
  {
   "cell_type": "code",
   "execution_count": 2,
   "id": "ec55e238-aa33-4241-b8e1-682f736f5e1b",
   "metadata": {},
   "outputs": [
    {
     "data": {
      "text/plain": [
       "dict"
      ]
     },
     "execution_count": 2,
     "metadata": {},
     "output_type": "execute_result"
    }
   ],
   "source": [
    "type(color_hex)"
   ]
  },
  {
   "cell_type": "code",
   "execution_count": 8,
   "id": "c882c027-72d0-4ec5-8ade-073b015e4ac2",
   "metadata": {},
   "outputs": [
    {
     "name": "stdout",
     "output_type": "stream",
     "text": [
      "{'red': '#f00', 'green': '#0f0', 'blue': '#00f', 'white': '#fff', 'black': '#000'}\n",
      "{'red': '#f00', 'green': '#0f0', 'blue': '#00f', 'white': '#fff', 'black': '#000'}\n"
     ]
    }
   ],
   "source": [
    "# opcija 1\n",
    "color_hex = dict(\n",
    "    [\n",
    "        (\"red\", \"#f00\"),\n",
    "        (\"green\", \"#0f0\"),\n",
    "        (\"blue\", \"#00f\"),\n",
    "        (\"white\", \"#fff\"),\n",
    "        (\"black\", \"#000\"),\n",
    "    ]\n",
    ")\n",
    "print(color_hex)\n",
    "\n",
    "# opcija 2\n",
    "color_hex = dict(\n",
    "    red=\"#f00\",\n",
    "    green=\"#0f0\",\n",
    "    blue=\"#00f\",\n",
    "    white=\"#fff\",\n",
    "    black=\"#000\",\n",
    ")\n",
    "print(color_hex)\n"
   ]
  },
  {
   "cell_type": "code",
   "execution_count": 9,
   "id": "56c10fa3-b1f1-481e-8f59-fd365af55e2a",
   "metadata": {},
   "outputs": [
    {
     "ename": "KeyError",
     "evalue": "0",
     "output_type": "error",
     "traceback": [
      "\u001b[1;31m---------------------------------------------------------------------------\u001b[0m",
      "\u001b[1;31mKeyError\u001b[0m                                  Traceback (most recent call last)",
      "\u001b[1;32mc:\\LEON\\ICTA\\Tečaji\\icta-python-osnovni-public\\08_Napredni_podatkovni_tipi\\04_Dictionary.ipynb Cell 52\u001b[0m line \u001b[0;36m1\n\u001b[1;32m----> <a href='vscode-notebook-cell:/c%3A/LEON/ICTA/Te%C4%8Daji/icta-python-osnovni-public/08_Napredni_podatkovni_tipi/04_Dictionary.ipynb#Y102sZmlsZQ%3D%3D?line=0'>1</a>\u001b[0m color_hex[\u001b[39m0\u001b[39;49m]\n",
      "\u001b[1;31mKeyError\u001b[0m: 0"
     ]
    }
   ],
   "source": [
    "color_hex[0]"
   ]
  },
  {
   "cell_type": "markdown",
   "metadata": {},
   "source": [
    "Accessing Dictionary Values\n"
   ]
  },
  {
   "cell_type": "code",
   "execution_count": 12,
   "metadata": {},
   "outputs": [
    {
     "data": {
      "text/plain": [
       "'#f00'"
      ]
     },
     "execution_count": 12,
     "metadata": {},
     "output_type": "execute_result"
    }
   ],
   "source": [
    "color_hex[\"red\"]"
   ]
  },
  {
   "cell_type": "code",
   "execution_count": 13,
   "metadata": {},
   "outputs": [
    {
     "data": {
      "text/plain": [
       "'#00f'"
      ]
     },
     "execution_count": 13,
     "metadata": {},
     "output_type": "execute_result"
    }
   ],
   "source": [
    "color_hex[\"blue\"]"
   ]
  },
  {
   "cell_type": "code",
   "execution_count": 14,
   "metadata": {},
   "outputs": [
    {
     "name": "stdout",
     "output_type": "stream",
     "text": [
      "{'red': '#f00', 'green': '#0f0', 'blue': '#00f', 'white': '#fff', 'black': '#000', 'yellow': '#ff0'}\n"
     ]
    }
   ],
   "source": [
    "# dodajanje elementa\n",
    "color_hex[\"yellow\"] = \"#ff0\"\n",
    "print(color_hex)"
   ]
  },
  {
   "cell_type": "code",
   "execution_count": 20,
   "metadata": {},
   "outputs": [
    {
     "name": "stdout",
     "output_type": "stream",
     "text": [
      "{'red': '#f00', 'green': '#0f0', 'blue': '#00f', 'white': '#fff', 'black': '#000', 'yellow': '#ff0', 'grey': '#ccc'}\n"
     ]
    }
   ],
   "source": [
    "color_hex[\"grey\"] = \"#ccc\"\n",
    "print(color_hex)\n"
   ]
  },
  {
   "cell_type": "code",
   "execution_count": 21,
   "metadata": {},
   "outputs": [
    {
     "name": "stdout",
     "output_type": "stream",
     "text": [
      "{'red': '#f00', 'green': '#0f0', 'blue': '#00f', 'white': '#fff', 'black': '#000', 'yellow': '#ff0', 'grey': 'ta_vrednost_ni_podrta'}\n"
     ]
    }
   ],
   "source": [
    "# posodabljanje elementa\n",
    "color_hex[\"grey\"] = \"ta_vrednost_ni_podrta\"\n",
    "print(color_hex)\n"
   ]
  },
  {
   "cell_type": "code",
   "execution_count": 22,
   "metadata": {},
   "outputs": [
    {
     "name": "stdout",
     "output_type": "stream",
     "text": [
      "{'red': '#f00', 'green': '#0f0', 'blue': '#00f', 'black': '#000', 'yellow': '#ff0', 'grey': 'ta_vrednost_ni_podrta'}\n"
     ]
    }
   ],
   "source": [
    "# brisanje elementa\n",
    "del color_hex[\"white\"]\n",
    "print(color_hex)\n"
   ]
  },
  {
   "cell_type": "code",
   "execution_count": 26,
   "metadata": {},
   "outputs": [
    {
     "name": "stdout",
     "output_type": "stream",
     "text": [
      "{1: 'nezadostno', 4: 'pravdobro', 2: 'zadostno', 3: 'dobro', 5: 'odlično'}\n"
     ]
    },
    {
     "data": {
      "text/plain": [
       "'dobro'"
      ]
     },
     "execution_count": 26,
     "metadata": {},
     "output_type": "execute_result"
    }
   ],
   "source": [
    "ocene = {1: \"nezadostno\", 4: \"pravdobro\", 2: \"zadostno\", 3: \"dobro\", 5: \"odlično\"}\n",
    "print(ocene)\n",
    "ocene[3]\n"
   ]
  },
  {
   "cell_type": "code",
   "execution_count": 27,
   "metadata": {},
   "outputs": [],
   "source": [
    "programski_jeziki = {\n",
    "    \"python\": {\n",
    "        \"avtor\": \"Guido van Rossum\",\n",
    "        \"leto\": 1991,\n",
    "        \"paradigma\": \"objektno\",\n",
    "        \"priljubljenost\": 4.6,\n",
    "        \"verzije\": [2, 3],\n",
    "    },\n",
    "    \"c\": {\n",
    "        \"avtor\": \"Dennis Ritchie\",\n",
    "        \"leto\": 1972,\n",
    "        \"paradigma\": \"proceduralno\",\n",
    "        \"priljubljenost\": 4.3,\n",
    "        \"verzije\": [1, 2, 3],\n",
    "    },\n",
    "    \"java\": {\n",
    "        \"avtor\": \"James Gosling\",\n",
    "        \"leto\": 1995,\n",
    "        \"paradigma\": \"objektno\",\n",
    "        \"priljubljenost\": 4.2,\n",
    "        \"verzije\": [1, 2, 3, 4, 5, 6, 7, 8, 9],\n",
    "    },\n",
    "    \"go\": {\n",
    "        \"avtor\": \"Robert Griesemer, Rob Pike, Ken Thompson\",\n",
    "        \"leto\": 2009,\n",
    "        \"paradigma\": \"proceduralno\",\n",
    "        \"priljubljenost\": 4.1,\n",
    "        \"verzije\": [1, 2],\n",
    "    },\n",
    "}\n"
   ]
  },
  {
   "cell_type": "code",
   "execution_count": 33,
   "metadata": {},
   "outputs": [
    {
     "name": "stdout",
     "output_type": "stream",
     "text": [
      "2\n",
      "James Gosling\n",
      "2\n",
      "1996\n",
      "{'python': {'avtor': 'Guido van Rossum', 'leto': 1991, 'paradigma': 'objektno', 'priljubljenost': 4.6, 'verzije': [2, 3]}, 'c': {'avtor': 'Dennis Ritchie', 'leto': 1996, 'paradigma': 'proceduralno', 'priljubljenost': 4.3, 'verzije': [1, 2, 3]}, 'java': {'avtor': 'James Gosling', 'leto': 1995, 'paradigma': 'objektno', 'priljubljenost': 4.2, 'verzije': [1, 2, 3, 4, 5, 6, 7, 8, 9]}, 'go': {'avtor': 'Robert Griesemer, Rob Pike, Ken Thompson', 'leto': 2009, 'paradigma': 'proceduralno', 'priljubljenost': 4.1, 'verzije': [1, 2]}}\n"
     ]
    }
   ],
   "source": [
    "print(programski_jeziki[\"python\"][\"verzije\"][0])\n",
    "# izberi avtorja jave\n",
    "print(programski_jeziki[\"java\"][\"avtor\"])\n",
    "\n",
    "# izberi zadnjo verzijo go\n",
    "print(programski_jeziki[\"go\"][\"verzije\"][-1])\n",
    "\n",
    "# leto v katerem je bil izdan c\n",
    "print(programski_jeziki[\"c\"][\"leto\"])\n",
    "\n",
    "programski_jeziki[\"c\"][\"leto\"] = 1996\n",
    "print(programski_jeziki)\n"
   ]
  },
  {
   "cell_type": "code",
   "execution_count": 35,
   "metadata": {},
   "outputs": [
    {
     "name": "stdout",
     "output_type": "stream",
     "text": [
      "{1: 'res', 3.4: 'rte', (34, 56): 'tudi_opcija'}\n"
     ]
    }
   ],
   "source": [
    "grd_primer = {1: \"ena\", 3.4: \"rte\", True: \"res\", (34, 56): \"tudi_opcija\"}\n",
    "print(grd_primer)"
   ]
  },
  {
   "cell_type": "code",
   "execution_count": 36,
   "metadata": {},
   "outputs": [
    {
     "ename": "TypeError",
     "evalue": "unhashable type: 'list'",
     "output_type": "error",
     "traceback": [
      "\u001b[1;31m---------------------------------------------------------------------------\u001b[0m",
      "\u001b[1;31mTypeError\u001b[0m                                 Traceback (most recent call last)",
      "\u001b[1;32mc:\\LEON\\ICTA\\Tečaji\\icta-python-osnovni-public\\08_Napredni_podatkovni_tipi\\04_Dictionary.ipynb Cell 64\u001b[0m line \u001b[0;36m1\n\u001b[1;32m----> <a href='vscode-notebook-cell:/c%3A/LEON/ICTA/Te%C4%8Daji/icta-python-osnovni-public/08_Napredni_podatkovni_tipi/04_Dictionary.ipynb#Y125sZmlsZQ%3D%3D?line=0'>1</a>\u001b[0m grd_primer \u001b[39m=\u001b[39m {[\u001b[39m1\u001b[39m, \u001b[39m2\u001b[39m, \u001b[39m3\u001b[39m]: \u001b[39m\"\u001b[39m\u001b[39mena\u001b[39m\u001b[39m\"\u001b[39m}\n",
      "\u001b[1;31mTypeError\u001b[0m: unhashable type: 'list'"
     ]
    }
   ],
   "source": [
    "grd_primer = {[1, 2, 3]: \"ena\"}"
   ]
  },
  {
   "cell_type": "code",
   "execution_count": 37,
   "metadata": {},
   "outputs": [
    {
     "data": {
      "text/plain": [
       "1"
      ]
     },
     "execution_count": 37,
     "metadata": {},
     "output_type": "execute_result"
    }
   ],
   "source": [
    "hash(1)"
   ]
  },
  {
   "cell_type": "code",
   "execution_count": 38,
   "metadata": {},
   "outputs": [
    {
     "data": {
      "text/plain": [
       "7687965782309259022"
      ]
     },
     "execution_count": 38,
     "metadata": {},
     "output_type": "execute_result"
    }
   ],
   "source": [
    "hash(\"tudi\")"
   ]
  },
  {
   "cell_type": "markdown",
   "metadata": {},
   "source": [
    "    bool -> int: True -> 1, False -> 0\n"
   ]
  },
  {
   "cell_type": "code",
   "execution_count": 43,
   "metadata": {},
   "outputs": [
    {
     "data": {
      "text/plain": [
       "True"
      ]
     },
     "execution_count": 43,
     "metadata": {},
     "output_type": "execute_result"
    }
   ],
   "source": [
    "1 == True"
   ]
  },
  {
   "cell_type": "code",
   "execution_count": 44,
   "metadata": {},
   "outputs": [
    {
     "data": {
      "text/plain": [
       "True"
      ]
     },
     "execution_count": 44,
     "metadata": {},
     "output_type": "execute_result"
    }
   ],
   "source": [
    "0 == False"
   ]
  },
  {
   "cell_type": "code",
   "execution_count": 46,
   "metadata": {},
   "outputs": [
    {
     "name": "stdout",
     "output_type": "stream",
     "text": [
      "True\n",
      "False\n"
     ]
    }
   ],
   "source": [
    "color_hex = {\n",
    "    \"red\": \"#f00\",\n",
    "    \"green\": \"#0f0\",\n",
    "    \"blue\": \"#00f\",\n",
    "    \"white\": \"#fff\",\n",
    "    \"black\": \"#000\",\n",
    "}\n",
    "\n",
    "print(\"red\" in color_hex)\n",
    "print(\"zelena\" in color_hex)"
   ]
  },
  {
   "cell_type": "markdown",
   "metadata": {},
   "source": [
    "Built-in Dictionary Methods\n"
   ]
  },
  {
   "cell_type": "code",
   "execution_count": 48,
   "metadata": {},
   "outputs": [],
   "source": [
    "color_hex = {\n",
    "    \"red\": \"#f00\",\n",
    "    \"green\": \"#0f0\",\n",
    "    \"blue\": \"#00f\",\n",
    "    \"white\": \"#fff\",\n",
    "    \"black\": \"#000\",\n",
    "}"
   ]
  },
  {
   "cell_type": "code",
   "execution_count": 60,
   "metadata": {},
   "outputs": [
    {
     "data": {
      "text/plain": [
       "'ni vrednsoti'"
      ]
     },
     "execution_count": 60,
     "metadata": {},
     "output_type": "execute_result"
    }
   ],
   "source": [
    "default_value = \"ni vrednsoti\"\n",
    "\n",
    "\n",
    "color_hex.get(\"rede\", default_value)\n"
   ]
  },
  {
   "cell_type": "code",
   "execution_count": 52,
   "metadata": {},
   "outputs": [
    {
     "name": "stdout",
     "output_type": "stream",
     "text": [
      "ni v slovarju\n"
     ]
    }
   ],
   "source": [
    "print(color_hex.get(\"zelena\", \"ni v slovarju\"))"
   ]
  },
  {
   "cell_type": "code",
   "execution_count": 55,
   "metadata": {},
   "outputs": [
    {
     "name": "stdout",
     "output_type": "stream",
     "text": [
      "[('red', '#f00'), ('green', '#0f0'), ('blue', '#00f'), ('white', '#fff'), ('black', '#000')]\n"
     ]
    }
   ],
   "source": [
    "print(list(color_hex.items()))"
   ]
  },
  {
   "cell_type": "code",
   "execution_count": 57,
   "metadata": {},
   "outputs": [
    {
     "name": "stdout",
     "output_type": "stream",
     "text": [
      "dict_keys(['red', 'green', 'blue', 'white', 'black'])\n",
      "dict_values(['#f00', '#0f0', '#00f', '#fff', '#000'])\n"
     ]
    }
   ],
   "source": [
    "print(color_hex.keys())\n",
    "print(color_hex.values())\n"
   ]
  },
  {
   "cell_type": "code",
   "execution_count": 58,
   "metadata": {},
   "outputs": [
    {
     "name": "stdout",
     "output_type": "stream",
     "text": [
      "{'red': '#f00', 'green': '#0f0', 'blue': '#00f', 'black': '#000'}\n"
     ]
    }
   ],
   "source": [
    "color_hex.pop(\"white\")  # isto kot del\n",
    "print(color_hex)\n"
   ]
  },
  {
   "cell_type": "code",
   "execution_count": null,
   "metadata": {},
   "outputs": [],
   "source": []
  },
  {
   "cell_type": "code",
   "execution_count": null,
   "metadata": {},
   "outputs": [],
   "source": []
  }
 ],
 "metadata": {
  "kernelspec": {
   "display_name": "Python 3 (ipykernel)",
   "language": "python",
   "name": "python3"
  },
  "language_info": {
   "codemirror_mode": {
    "name": "ipython",
    "version": 3
   },
   "file_extension": ".py",
   "mimetype": "text/x-python",
   "name": "python",
   "nbconvert_exporter": "python",
   "pygments_lexer": "ipython3",
   "version": "3.12.0"
  }
 },
 "nbformat": 4,
 "nbformat_minor": 5
}
