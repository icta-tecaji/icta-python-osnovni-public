{
 "cells": [
  {
   "cell_type": "markdown",
   "metadata": {},
   "source": [
    "# Del 08: Publish an Open-Source Python Package to PyPI"
   ]
  },
  {
   "cell_type": "markdown",
   "metadata": {},
   "source": [
    "https://realpython.com/pypi-publish-python-package/#publishing-to-pypi"
   ]
  },
  {
   "cell_type": "markdown",
   "metadata": {},
   "source": [
    "## A Small Python Package"
   ]
  },
  {
   "cell_type": "markdown",
   "metadata": {},
   "source": [
    "This section will describe a small Python package that we’ll use as an example that can be published to PyPI. If you already have a package that you want to publish, feel free to skim this section and join up again at the beginning of the next section."
   ]
  },
  {
   "cell_type": "markdown",
   "metadata": {},
   "source": [
    "<p>The package that we’ll use is called <code>reader</code> and is an application that can be used to download and read <em>Real Python</em> articles. If you want to follow along, you can get the full source code from <a href=\"https://github.com/realpython/reader\">our GitHub repository</a>.</p>"
   ]
  },
  {
   "cell_type": "markdown",
   "metadata": {},
   "source": [
    "First, have a look at the directory structure of reader. The package lives completely inside a directory that is also named reader:"
   ]
  },
  {
   "cell_type": "markdown",
   "metadata": {},
   "source": [
    "    reader/\n",
    "    │\n",
    "    ├── reader/\n",
    "    │   ├── config.txt\n",
    "    │   ├── feed.py\n",
    "    │   ├── __init__.py\n",
    "    │   ├── __main__.py\n",
    "    │   └── viewer.py\n",
    "    │\n",
    "    ├── tests/\n",
    "    │   ├── test_feed.py\n",
    "    │   └── test_viewer.py\n",
    "    │\n",
    "    ├── MANIFEST.in\n",
    "    ├── README.md\n",
    "    └── setup.py"
   ]
  },
  {
   "cell_type": "markdown",
   "metadata": {},
   "source": [
    "The source code of the package is in a reader subdirectory together with a configuration file. There are a few tests in a separate subdirectory. The tests will not be covered here, but you can find them in the GitHub repository. To learn more about testing, see Anthony Shaw’s great tutorial on Getting Started With Testing in Python.\n",
    "\n",
    "If you’re working with your own package, you may use a different structure or have other files in your package directory. Our Python Application Layouts reference discusses several different options. The instructions in this guide will work independently of the layout you use.\n",
    "\n",
    "In the rest of this section, you’ll see how the reader package works. In the next section, you’ll get a closer look at the special files, including setup.py, README.md, and MANIFEST.in, that are needed to publish your package."
   ]
  },
  {
   "cell_type": "markdown",
   "metadata": {},
   "source": [
    "## Preparing Your Package for Publication"
   ]
  },
  {
   "cell_type": "markdown",
   "metadata": {},
   "source": [
    "Which steps are necessary before you can upload the package to PyPI?\n",
    "\n"
   ]
  },
  {
   "cell_type": "markdown",
   "metadata": {},
   "source": [
    "### Naming Your Package"
   ]
  },
  {
   "cell_type": "markdown",
   "metadata": {},
   "source": [
    "The first—and possibly the hardest—step is to come up with a good name for your package. All packages on PyPI need to have unique names. With more than 150,000 packages already on PyPI, chances are that your favorite name is already taken."
   ]
  },
  {
   "cell_type": "markdown",
   "metadata": {},
   "source": [
    "You might need to brainstorm and do some research to find the perfect name. Use the PyPI search to check if a name is already taken. The name that you come up with will be visible on PyPI."
   ]
  },
  {
   "cell_type": "markdown",
   "metadata": {},
   "source": [
    "To make the reader package easier to find on PyPI, we give it a more descriptive name and call it `realpython-reader`. The same name will be used to install the package using pip:"
   ]
  },
  {
   "cell_type": "markdown",
   "metadata": {},
   "source": [
    "    pip install realpython-reader"
   ]
  },
  {
   "cell_type": "markdown",
   "metadata": {},
   "source": [
    "Even though we use realpython-reader as the PyPI name, the package is still called reader when it’s imported:"
   ]
  },
  {
   "cell_type": "code",
   "execution_count": null,
   "metadata": {},
   "outputs": [],
   "source": [
    "import reader"
   ]
  },
  {
   "cell_type": "markdown",
   "metadata": {},
   "source": [
    "As you see, you can use different names for your package on PyPI and when importing. However, if you use the same name or very similar names, then it will be easier for your users."
   ]
  },
  {
   "cell_type": "markdown",
   "metadata": {},
   "source": [
    "### Configuring Your Package"
   ]
  },
  {
   "cell_type": "markdown",
   "metadata": {},
   "source": [
    "In order for your package to be uploaded to PyPI, you need to provide some basic information about it. This information is typically provided in the form of a setup.py file. There are initiatives that try to simplify this collection of information. At the moment though, `setup.py` is the only fully supported way of providing information about your package.\n",
    "\n",
    "The `setup.py` file should be placed in the top folder of your package. A fairly minimal setup.py for reader looks like this:"
   ]
  },
  {
   "cell_type": "code",
   "execution_count": null,
   "metadata": {},
   "outputs": [],
   "source": [
    "import pathlib\n",
    "from setuptools import setup\n",
    "\n",
    "# The directory containing this file\n",
    "HERE = pathlib.Path(__file__).parent\n",
    "\n",
    "# The text of the README file\n",
    "README = (HERE / \"README.md\").read_text()\n",
    "\n",
    "# This call to setup() does all the work\n",
    "setup(\n",
    "    name=\"realpython-reader-leons123\",\n",
    "    version=\"1.0.0\",\n",
    "    description=\"Read the latest Real Python tutorials\",\n",
    "    long_description=README,\n",
    "    long_description_content_type=\"text/markdown\",\n",
    "    url=\"https://github.com/leon11s/reader\",\n",
    "    author=\"Leon\",\n",
    "    author_email=\"office@ltfe.org\",\n",
    "    license=\"MIT\",\n",
    "    classifiers=[\n",
    "        \"License :: OSI Approved :: MIT License\",\n",
    "        \"Programming Language :: Python :: 3\",\n",
    "        \"Programming Language :: Python :: 3.9\",\n",
    "    ],\n",
    "    packages=[\"reader\"],\n",
    "    include_package_data=True,\n",
    "    install_requires=[\"feedparser\", \"html2text\"],\n",
    "    entry_points={\n",
    "        \"console_scripts\": [\n",
    "            \"realpython=reader.__main__:main\",\n",
    "        ]\n",
    "    },\n",
    ")"
   ]
  },
  {
   "cell_type": "markdown",
   "metadata": {},
   "source": [
    "We will only cover some of the options available in setuptools here. The documentation does a good job of going into all the detail.\n",
    "\n",
    "The parameters that are 100% necessary in the call to setup() are the following:\n",
    "- **name**: the name of your package as it will appear on PyPI\n",
    "- **version**: the current version of your package\n",
    "- **packages**: the packages and subpackages containing your source code\n",
    "\n",
    "We will talk more about versions later. The packages parameter takes a list of packages. In our example, there is only one package: reader.\n",
    "\n",
    "You also need to specify any subpackages. In more complicated projects, there might be many packages to list. To simplify this job, setuptools includes `find_packages()`, which does a good job of discovering all your subpackages. You could have used find_packages() in the reader project as follows:"
   ]
  },
  {
   "cell_type": "markdown",
   "metadata": {},
   "source": [
    "    from setuptools import find_packages, setup\n",
    "\n",
    "    setup(\n",
    "        ...\n",
    "        packages=find_packages(exclude=(\"tests\",)),\n",
    "        ...\n",
    "    )"
   ]
  },
  {
   "cell_type": "markdown",
   "metadata": {},
   "source": [
    "While only name, version, and packages are required, your package becomes much easier to find on PyPI if you add some more information. Have a look at the realpython-reader page on PyPI and compare the information with setup.py above. All the information comes from setup.py and README.md."
   ]
  },
  {
   "cell_type": "markdown",
   "metadata": {},
   "source": [
    "The last two parameters to setup() deserve special mention:\n",
    "- `install_requires` is used to list any dependencies your package has to third party libraries. The reader depends on feedparser and html2text, so they should be listed here.\n",
    "- `entry_points` is used to create scripts that call a function within your package. In our example, we create a new script realpython that calls main() within the `reader/__main__.py` file."
   ]
  },
  {
   "cell_type": "markdown",
   "metadata": {},
   "source": [
    "> Dober primer: https://github.com/navdeep-G/setup.py"
   ]
  },
  {
   "cell_type": "markdown",
   "metadata": {},
   "source": [
    "### Documenting Your Package"
   ]
  },
  {
   "cell_type": "markdown",
   "metadata": {},
   "source": [
    "Before releasing your package to the world, you should **add some documentation**. Depending on your package, the documentation can be as small as a simple README file, or as big as a full web page with tutorials, example galleries, and an API reference.\n",
    "\n",
    "At a minimum, you should **nclude a README file** with your project. A good README should quickly describe your project, as well as tell your users how to install and use your package. Typically, **you want to include your README as the `long_description` argument to `setup()`. This will display your README on PyPI**.\n",
    "\n",
    "Traditionally, PyPI has used reStructuredText for package documentation. However, since March 2018 Markdown has also been supported.\n",
    "\n",
    "Outside of PyPI, Markdown is more widely supported than reStructuredText. If you don’t need any of the special features of reStructuredText, you’ll be better off keeping your README in Markdown. Note that you should use the setup() parameter `long_description_content_type` to tell PyPI which format you are using. Valid values are text/markdown, text/x-rst, and text/plain.\n",
    "\n",
    "For bigger projects, you might want to offer more documentation than can reasonably fit in a single file. In that case, you can use sites like GitHub or Read the Docs, and link to the documentation using the url parameter. In the setup.py example above, url is used to link to the reader GitHub repository."
   ]
  },
  {
   "cell_type": "markdown",
   "metadata": {},
   "source": [
    "> Dodamo README.md file"
   ]
  },
  {
   "cell_type": "markdown",
   "metadata": {},
   "source": [
    "    # Real Python Feed Reader\n",
    "\n",
    "    The Real Python Feed Reader is a basic [web feed](https://en.wikipedia.org/wiki/Web_feed) reader that can download the latest Real Python tutorials from the [Real Python feed](https://realpython.com/contact/#rss-atom-feed).\n",
    "\n",
    "    For more information see the tutorial [How to Publish an Open-Source Python Package to PyPI](https://realpython.com/pypi-publish-python-package/) on Real Python.\n",
    "\n",
    "    ## Installation\n",
    "\n",
    "    You can install the Real Python Feed Reader from [PyPI](https://pypi.org/project/realpython-reader/):\n",
    "\n",
    "        pip install realpython-reader\n",
    "\n",
    "    The reader is supported on Python 2.7, as well as Python 3.4 and above.\n",
    "\n",
    "    ## How to use\n",
    "\n",
    "    The Real Python Feed Reader is a command line application, named `realpython`. To see a list of the [latest Real Python tutorials](https://realpython.com/) simply call the program:\n",
    "\n",
    "        $ realpython\n",
    "\n",
    "    To read one particular tutorial, call the program with the numerical ID of the tutorial as a parameter:\n",
    "\n",
    "        $ realpython 0\n",
    "\n",
    "    You can also call the Real Python Feed Reader in your own Python code, by importing from the `reader` package:\n",
    "\n",
    "        >>> from reader import feed\n",
    "        >>> feed.get_titles()\n",
    "        ['How to Publish an Open-Source Python Package to PyPI', ...]\n"
   ]
  },
  {
   "cell_type": "markdown",
   "metadata": {},
   "source": [
    "### Versioning Your Package"
   ]
  },
  {
   "cell_type": "markdown",
   "metadata": {},
   "source": [
    "Your package needs to have a version, and PyPI will only let you do one upload of a particular version for a package. In other words, if you want to update your package on PyPI, you need to increase the version number first. This is a good thing, as it guarantees reproducibility: two systems with the same version of a package should behave the same.\n",
    "\n",
    "There are many different schemes that can be used for your version number. For Python projects, PEP 440 gives some recommendations. However, in order to be flexible, that PEP is complicated. For a simple project, stick with a simple versioning scheme.\n",
    "\n",
    "Semantic versioning is a good default scheme to use. The version number is given as three numerical components, for instance 0.1.2. The components are called MAJOR, MINOR, and PATCH, and there are simple rules about when to increment each component:"
   ]
  },
  {
   "cell_type": "markdown",
   "metadata": {},
   "source": [
    "- Increment the MAJOR version when you make incompatible API changes.\n",
    "- Increment the MINOR version when you add functionality in a backwards-compatible manner.\n",
    "- Increment the PATCH version when you make backwards-compatible bug fixes. (Source)"
   ]
  },
  {
   "cell_type": "markdown",
   "metadata": {},
   "source": [
    "### Adding Files to Your Package"
   ]
  },
  {
   "cell_type": "markdown",
   "metadata": {},
   "source": [
    "Sometimes, you’ll have files inside your package that are not source code files. Examples include data files, binaries, documentation, and—as we have in this project—configuration files.\n",
    "\n",
    "To tell setup() to include such files, you use a manifest file. For many projects, you don’t need to worry about the manifest, as setup() creates one that includes all code files as well as README files.\n",
    "\n",
    "If you need to change the manifest, you create a manifest template which must be named `MANIFEST.in`. This file specifies rules for what to include and exclude:"
   ]
  },
  {
   "cell_type": "markdown",
   "metadata": {},
   "source": [
    "    # MANIFEST.in\n",
    "    include reader/*.cfg"
   ]
  },
  {
   "cell_type": "markdown",
   "metadata": {},
   "source": [
    "This example will include all .txt files in the reader directory, which in effect is the configuration file. See the documentation for a list of available rules.\n",
    "\n",
    "In addition to creating MANIFEST.in, you also need to tell setup() to copy these non-code files. This is done by setting the `include_package_data` argument to True:"
   ]
  },
  {
   "cell_type": "markdown",
   "metadata": {},
   "source": [
    "The include_package_data argument controls whether non-code files are copied when your package is installed."
   ]
  },
  {
   "cell_type": "markdown",
   "metadata": {},
   "source": [
    "## Publishing to PyPI"
   ]
  },
  {
   "cell_type": "markdown",
   "metadata": {},
   "source": [
    "Your package is finally ready to meet the world outside your computer! In this section, you’ll see how to actually upload your package to PyPI.\n",
    "\n",
    "If you don’t already have an account on PyPI, now is the time to create one: register your account on PyPI. While you’re at it, you should also register an account on TestPyPI. TestPyPI is very useful, as you can try all the steps of publishing a package without any consequences if you mess up.\n",
    "\n",
    "To upload your package to PyPI, you’ll use a tool called **Twine**. You can install Twine using Pip as usual:"
   ]
  },
  {
   "cell_type": "markdown",
   "metadata": {},
   "source": [
    "    pip install twine"
   ]
  },
  {
   "cell_type": "markdown",
   "metadata": {},
   "source": [
    "Using Twine is quite simple, and you will soon see how to use it to check and publish your package."
   ]
  },
  {
   "cell_type": "markdown",
   "metadata": {},
   "source": [
    "> Dodamo `wheel` in `twine` v requirements_dev.txt"
   ]
  },
  {
   "cell_type": "markdown",
   "metadata": {},
   "source": [
    "### Building Your Package"
   ]
  },
  {
   "cell_type": "markdown",
   "metadata": {},
   "source": [
    "Packages on PyPI are not distributed as plain source code. Instead, they are wrapped into distribution packages. The most common formats for distribution packages are source archives and Python wheels."
   ]
  },
  {
   "cell_type": "markdown",
   "metadata": {},
   "source": [
    "A source archive consists of your source code and any supporting files wrapped into one tar file. Similarly, a wheel is essentially a zip archive containing your code. In contrast to the source archive, the wheel includes any extensions ready to use.\n",
    "\n",
    "To create a source archive and a wheel for your package, you can run the following command:"
   ]
  },
  {
   "cell_type": "markdown",
   "metadata": {},
   "source": [
    "    python setup.py sdist bdist_wheel"
   ]
  },
  {
   "cell_type": "markdown",
   "metadata": {},
   "source": [
    "This will create two files in a newly created dist directory, a source archive and a wheel:"
   ]
  },
  {
   "cell_type": "markdown",
   "metadata": {},
   "source": [
    "    reader/\n",
    "    │\n",
    "    └── dist/\n",
    "        ├── realpython_reader-1.0.0-py3-none-any.whl\n",
    "        └── realpython-reader-1.0.0.tar.gz"
   ]
  },
  {
   "cell_type": "markdown",
   "metadata": {},
   "source": [
    "You might wonder how setup.py knows what to do with the sdist and bdist_wheel arguments. If you look back to how setup.py was implemented, there is no mention of sdist, bdist_wheel, or any other command line arguments."
   ]
  },
  {
   "cell_type": "markdown",
   "metadata": {},
   "source": [
    "### Testing Your Package"
   ]
  },
  {
   "cell_type": "markdown",
   "metadata": {},
   "source": [
    "First, you should check that the newly built distribution packages contain the files you expect. On Linux and macOS, you should be able to list the contents of the tar source archive as follows:"
   ]
  },
  {
   "cell_type": "markdown",
   "metadata": {},
   "source": [
    "    tar tzf realpython-reader-leons123-1.0.0.tar.gz"
   ]
  },
  {
   "cell_type": "markdown",
   "metadata": {},
   "source": [
    "You should see all your source code listed, as well as a few new files that have been created containing information you provided in setup.py. In particular, make sure that all subpackages and supporting files are included.\n",
    "\n",
    "You can also have a look inside the wheel by unzipping it as if it were a zip file. However, if your source archive contains the files you expect, the wheel should be fine as well.\n",
    "\n",
    "Newer versions of Twine (1.12.0 and above) can also check that your package description will render properly on PyPI. You can run twine check on the files created in dist:"
   ]
  },
  {
   "cell_type": "markdown",
   "metadata": {},
   "source": [
    "    twine check dist/*"
   ]
  },
  {
   "cell_type": "markdown",
   "metadata": {},
   "source": [
    "While it won’t catch all problems you might run into, it will for instance let you know if you are using the wrong content type."
   ]
  },
  {
   "cell_type": "markdown",
   "metadata": {},
   "source": [
    "### Uploading Your Package"
   ]
  },
  {
   "cell_type": "markdown",
   "metadata": {},
   "source": [
    "> Ustvraimo račun na  https://test.pypi.org/"
   ]
  },
  {
   "cell_type": "markdown",
   "metadata": {},
   "source": [
    "Now you’re ready to actually upload your package to PyPI. For this, you’ll again use the Twine tool, telling it to upload the distribution packages you have built. First, you should upload to TestPyPI to make sure everything works as expected:\n",
    "\n"
   ]
  },
  {
   "cell_type": "markdown",
   "metadata": {},
   "source": [
    "    twine upload --repository-url https://test.pypi.org/legacy/ dist/*"
   ]
  },
  {
   "cell_type": "markdown",
   "metadata": {},
   "source": [
    "Twine will ask you for your username and password."
   ]
  },
  {
   "cell_type": "markdown",
   "metadata": {},
   "source": [
    "If the upload succeeds, you can quickly head over to TestPyPI, scroll down, and look at your project being proudly displayed among the new releases! Click on your package and make sure everything looks okay.\n",
    "\n",
    "If you have been following along using the reader package, the tutorial ends here! While you can play with TestPyPI as much as you want, you shouldn’t upload dummy packages to PyPI just for testing.\n",
    "\n",
    "However, if you have your own package to publish, then the moment has finally arrived! With all the preparations taken care of, this final step is short:"
   ]
  },
  {
   "cell_type": "markdown",
   "metadata": {},
   "source": [
    "    twine upload dist/*"
   ]
  },
  {
   "cell_type": "markdown",
   "metadata": {},
   "source": [
    "### pip install Your Package"
   ]
  },
  {
   "cell_type": "markdown",
   "metadata": {},
   "source": [
    "> Gremo v novo virtualno okolje."
   ]
  },
  {
   "cell_type": "markdown",
   "metadata": {},
   "source": [
    "Take a moment to bask in the blue glow of the PyPI web page and (of course) brag to your friends.\n",
    "\n",
    "Then open up a terminal again. There is one more great pay off!\n",
    "\n",
    "With your package uploaded to PyPI, you can install it with pip as well:"
   ]
  },
  {
   "cell_type": "markdown",
   "metadata": {},
   "source": [
    "    pip install -i https://test.pypi.org/simple/ realpython-reader-leons123"
   ]
  },
  {
   "cell_type": "markdown",
   "metadata": {},
   "source": [
    "Nardimo novo mapo in okolje:\n",
    "    \n",
    "    pyenv local 3.9.0\n",
    "    python -m venv .venv\n",
    "    source .venv/bin/activate\n",
    "    pip install html2text sgmllib3k"
   ]
  },
  {
   "cell_type": "markdown",
   "metadata": {},
   "source": [
    "    python -m reader"
   ]
  },
  {
   "cell_type": "markdown",
   "metadata": {},
   "source": [
    "### Publishing to package registries with Github Actions"
   ]
  },
  {
   "cell_type": "markdown",
   "metadata": {},
   "source": [
    "You can configure your workflow to publish your Python package to any package registry you'd like when your CI tests pass.\n",
    "\n",
    "You can store any access tokens or credentials needed to publish your package using repository secrets. The following example creates and publishes a package to PyPI using twine and dist. For more information, see \"Creating and using encrypted secrets.\""
   ]
  },
  {
   "cell_type": "markdown",
   "metadata": {},
   "source": [
    "https://docs.github.com/en/free-pro-team@latest/actions/reference/encrypted-secrets"
   ]
  },
  {
   "cell_type": "markdown",
   "metadata": {},
   "source": [
    "    name: Upload Python Package\n",
    "\n",
    "    on:\n",
    "      release:\n",
    "        types: [created]\n",
    "\n",
    "    jobs:\n",
    "      deploy:\n",
    "        runs-on: ubuntu-latest\n",
    "        steps:\n",
    "        - uses: actions/checkout@v2\n",
    "        - name: Set up Python\n",
    "          uses: actions/setup-python@v2\n",
    "          with:\n",
    "            python-version: '3.x'\n",
    "        - name: Install dependencies\n",
    "          run: |\n",
    "            python -m pip install --upgrade pip\n",
    "            pip install setuptools wheel twine\n",
    "        - name: Build and publish\n",
    "          env:\n",
    "            TWINE_USERNAME: ${{ secrets.PYPI_USERNAME }}\n",
    "            TWINE_PASSWORD: ${{ secrets.PYPI_PASSWORD }}\n",
    "          run: |\n",
    "            python setup.py sdist bdist_wheel\n",
    "            twine upload dist/*"
   ]
  },
  {
   "cell_type": "markdown",
   "metadata": {},
   "source": [
    "## Local pypi server"
   ]
  },
  {
   "cell_type": "markdown",
   "metadata": {},
   "source": [
    "> Install docker -> https://phoenixnap.com/kb/install-docker-on-ubuntu-20-04"
   ]
  },
  {
   "cell_type": "markdown",
   "metadata": {},
   "source": [
    "> Install docker-compose: https://docs.docker.com/compose/install/"
   ]
  },
  {
   "cell_type": "markdown",
   "metadata": {},
   "source": [
    "https://hub.docker.com/r/pypiserver/pypiserver"
   ]
  },
  {
   "cell_type": "markdown",
   "metadata": {},
   "source": [
    "https://github.com/pypiserver/pypiserver"
   ]
  },
  {
   "cell_type": "markdown",
   "metadata": {},
   "source": [
    "V isti mapi kot docker.compose:\n",
    "\n",
    "    mkdir auth\n",
    "    cd auth\n",
    "    sudo apt install apache2-utils\n",
    "    htpasswd -sc .htpasswd test"
   ]
  },
  {
   "cell_type": "markdown",
   "metadata": {},
   "source": [
    "Dodamo compose file:\n",
    "    \n",
    "    version: \"3.7\"\n",
    "    services:\n",
    "      pypiserver-authenticated:\n",
    "        image: pypiserver/pypiserver:latest\n",
    "        volumes:\n",
    "          - type: bind\n",
    "            source: ./auth\n",
    "            target: /data/auth\n",
    "        command: -P /data/auth/.htpasswd -a update,download,list /data/packages\n",
    "        ports:\n",
    "          - \"8081:8080\""
   ]
  },
  {
   "cell_type": "markdown",
   "metadata": {},
   "source": [
    "    sudo docker-compose up -d"
   ]
  },
  {
   "cell_type": "markdown",
   "metadata": {},
   "source": [
    "> Preko VS code forward na localhost"
   ]
  },
  {
   "cell_type": "markdown",
   "metadata": {},
   "source": [
    "    twine upload --verbose  --repository-url http://localhost:8081 dist/*"
   ]
  },
  {
   "cell_type": "markdown",
   "metadata": {},
   "source": [
    "Install:\n",
    "    \n",
    "     pip install --index-url http://localhost:8081/simple/ realpython_reader_leons123"
   ]
  }
 ],
 "metadata": {
  "kernelspec": {
   "display_name": "Python 3",
   "language": "python",
   "name": "python3"
  },
  "language_info": {
   "codemirror_mode": {
    "name": "ipython",
    "version": 3
   },
   "file_extension": ".py",
   "mimetype": "text/x-python",
   "name": "python",
   "nbconvert_exporter": "python",
   "pygments_lexer": "ipython3",
   "version": "3.8.6"
  }
 },
 "nbformat": 4,
 "nbformat_minor": 4
}
