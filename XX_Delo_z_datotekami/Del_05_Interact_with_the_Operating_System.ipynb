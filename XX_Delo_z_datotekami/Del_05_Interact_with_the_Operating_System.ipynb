{
 "cells": [
  {
   "cell_type": "markdown",
   "metadata": {},
   "source": [
    "# Interact with the Operating System"
   ]
  },
  {
   "cell_type": "markdown",
   "metadata": {},
   "source": [
    "## Command-line Interfaces"
   ]
  },
  {
   "cell_type": "markdown",
   "metadata": {},
   "source": [
    "### Handling command line arguments with Python"
   ]
  },
  {
   "cell_type": "markdown",
   "metadata": {},
   "source": [
    "#### The sys Module"
   ]
  },
  {
   "cell_type": "code",
   "execution_count": null,
   "metadata": {},
   "outputs": [],
   "source": [
    "# Osnovni primer delovanja\n",
    "import sys\n",
    "\n",
    "print(sys.argv)"
   ]
  },
  {
   "cell_type": "markdown",
   "metadata": {},
   "source": [
    "##### Example 1: Determine the name of the Python script"
   ]
  },
  {
   "cell_type": "code",
   "execution_count": 3,
   "metadata": {},
   "outputs": [
    {
     "name": "stdout",
     "output_type": "stream",
     "text": [
      "the script has the name /opt/conda/lib/python3.7/site-packages/ipykernel_launcher.py\n"
     ]
    }
   ],
   "source": [
    "import sys\n",
    "\n",
    "print (f\"the script has the name {sys.argv[0]}\")"
   ]
  },
  {
   "cell_type": "markdown",
   "metadata": {},
   "source": [
    "    $ python arguments-programname.py\n",
    "    the script has the name arguments-programname.py\n",
    "    \n",
    "    $ python /home/user/arguments-programname.py\n",
    "    the script has the name /home/user/arguments-programname.py"
   ]
  },
  {
   "cell_type": "markdown",
   "metadata": {},
   "source": [
    "##### Example 2: Count the arguments"
   ]
  },
  {
   "cell_type": "code",
   "execution_count": 2,
   "metadata": {},
   "outputs": [
    {
     "name": "stdout",
     "output_type": "stream",
     "text": [
      "the script is called with 2 arguments\n"
     ]
    }
   ],
   "source": [
    "import sys\n",
    "\n",
    "# count the arguments\n",
    "arguments = len(sys.argv) - 1\n",
    "print (f\"the script is called with {arguments} arguments\")"
   ]
  },
  {
   "cell_type": "markdown",
   "metadata": {},
   "source": [
    "    $ python arguments-count.py\n",
    "    the script is called with 0 arguments\n",
    "\n",
    "    $ python arguments-count.py --help me\n",
    "    the script is called with 2 arguments\n",
    "\n",
    "    $ python arguments-count.py --option \"long string\"\n",
    "    the script is called with 2 arguments"
   ]
  },
  {
   "cell_type": "markdown",
   "metadata": {},
   "source": [
    "##### Example 3: Output arguments"
   ]
  },
  {
   "cell_type": "code",
   "execution_count": 5,
   "metadata": {},
   "outputs": [
    {
     "name": "stdout",
     "output_type": "stream",
     "text": [
      "parameter 1: -f\n",
      "parameter 2: /home/jovyan/.local/share/jupyter/runtime/kernel-4afff967-7986-49dc-afb4-3e7b5e8e5c6c.json\n"
     ]
    }
   ],
   "source": [
    "import sys\n",
    "\n",
    "# count the arguments\n",
    "arguments = len(sys.argv) - 1\n",
    "\n",
    "# output argument-wise\n",
    "position = 1\n",
    "while (arguments >= position):\n",
    "    print (f\"parameter {position}: {sys.argv[position]}\")\n",
    "    position = position + 1"
   ]
  },
  {
   "cell_type": "markdown",
   "metadata": {},
   "source": [
    "    $ python arguments-output.py\n",
    "\n",
    "    $ python arguments-output.py --help me\n",
    "    parameter 1: --help\n",
    "    parameter 2: me\n",
    "\n",
    "    $ python arguments-output.py --option \"long string\"\n",
    "    parameter 1: --option\n",
    "    parameter 2: long string"
   ]
  },
  {
   "cell_type": "markdown",
   "metadata": {},
   "source": [
    "#### The argparse Library"
   ]
  },
  {
   "cell_type": "markdown",
   "metadata": {},
   "source": [
    "[argparse — Parser for command-line options, arguments and sub-commands](https://docs.python.org/3/library/argparse.html)"
   ]
  },
  {
   "cell_type": "code",
   "execution_count": null,
   "metadata": {},
   "outputs": [],
   "source": [
    "# myls.py\n",
    "import os\n",
    "import sys\n",
    "\n",
    "if len(sys.argv) > 2:\n",
    "    print('You have specified too many arguments')\n",
    "    sys.exit()\n",
    "\n",
    "if len(sys.argv) < 2:\n",
    "    print('You need to specify the path to be listed')\n",
    "    sys.exit()\n",
    "\n",
    "input_path = sys.argv[1]\n",
    "\n",
    "if not os.path.isdir(input_path):\n",
    "    print('The path specified does not exist')\n",
    "    sys.exit()\n",
    "\n",
    "print('\\n'.join(os.listdir(input_path)))"
   ]
  },
  {
   "cell_type": "code",
   "execution_count": null,
   "metadata": {},
   "outputs": [],
   "source": [
    "# myls_argp.py\n",
    "# Import the argparse library\n",
    "import argparse\n",
    "\n",
    "import os\n",
    "import sys\n",
    "\n",
    "# Create the parser\n",
    "# description: for the text that is shown before the help text\n",
    "my_parser = argparse.ArgumentParser(description='List the content of a folder')\n",
    "\n",
    "# Add the arguments\n",
    "my_parser.add_argument('Path',\n",
    "                       metavar='path',\n",
    "                       type=str,\n",
    "                       help='the path to list')\n",
    "\n",
    "# Execute the parse_args() method\n",
    "args = my_parser.parse_args()\n",
    "\n",
    "input_path = args.Path\n",
    "\n",
    "if not os.path.isdir(input_path):\n",
    "    print('The path specified does not exist')\n",
    "    sys.exit()\n",
    "\n",
    "print('\\n'.join(os.listdir(input_path)))"
   ]
  },
  {
   "cell_type": "markdown",
   "metadata": {},
   "source": [
    "    python myls_argp.py"
   ]
  },
  {
   "cell_type": "markdown",
   "metadata": {},
   "source": [
    "    python myls_argp.py -h"
   ]
  },
  {
   "cell_type": "markdown",
   "metadata": {},
   "source": [
    "##### Setting the Name of the Program"
   ]
  },
  {
   "cell_type": "code",
   "execution_count": null,
   "metadata": {},
   "outputs": [],
   "source": [
    "# Create the parser\n",
    "my_parser = argparse.ArgumentParser(prog='myls',\n",
    "                                    description='List the content of a folder')"
   ]
  },
  {
   "cell_type": "markdown",
   "metadata": {},
   "source": [
    "##### Setting the Name or Flags of the Arguments"
   ]
  },
  {
   "cell_type": "markdown",
   "metadata": {},
   "source": [
    "    cp [OPTION]... [-T] SOURCE DEST"
   ]
  },
  {
   "cell_type": "markdown",
   "metadata": {},
   "source": [
    "##### Name of the Attribute to Be Added to the Object Once Parsed"
   ]
  },
  {
   "cell_type": "markdown",
   "metadata": {},
   "source": [
    "    my_parser.add_argument('-v',\n",
    "                           '--verbosity',\n",
    "                           action='store',\n",
    "                           type=int,\n",
    "                           dest='my_verbosity_level')"
   ]
  },
  {
   "cell_type": "markdown",
   "metadata": {},
   "source": [
    "##### Setting the Argument Name in Usage Messages"
   ]
  },
  {
   "cell_type": "code",
   "execution_count": null,
   "metadata": {},
   "outputs": [],
   "source": [
    "# metavar_example.py\n",
    "import argparse\n",
    "\n",
    "my_parser = argparse.ArgumentParser()\n",
    "my_parser.add_argument('-v',\n",
    "                       '--verbosity',\n",
    "                       action='store',\n",
    "                       type=int,\n",
    "                       metavar='LEVEL')\n",
    "\n",
    "args = my_parser.parse_args()\n",
    "\n",
    "print(vars(args))"
   ]
  },
  {
   "cell_type": "markdown",
   "metadata": {},
   "source": [
    "##### [Defining Mutually Exclusive Groups](https://realpython.com/command-line-interfaces-python-argparse/#defining-mutually-exclusive-groups)"
   ]
  },
  {
   "cell_type": "markdown",
   "metadata": {},
   "source": [
    "##### Showing a Brief Description of What an Argument Does"
   ]
  },
  {
   "cell_type": "code",
   "execution_count": null,
   "metadata": {},
   "outputs": [],
   "source": [
    "import argparse\n",
    "\n",
    "my_parser = argparse.ArgumentParser()\n",
    "my_parser.add_argument('-a',\n",
    "                       action='store',\n",
    "                       choices=['head', 'tail'],\n",
    "                       help='set the user choice to head or tail')\n",
    "\n",
    "args = my_parser.parse_args()\n",
    "\n",
    "print(vars(args))"
   ]
  },
  {
   "cell_type": "markdown",
   "metadata": {},
   "source": [
    "##### Setting Whether the Argument Is Required"
   ]
  },
  {
   "cell_type": "code",
   "execution_count": null,
   "metadata": {},
   "outputs": [],
   "source": [
    "# required_example.py\n",
    "import argparse\n",
    "\n",
    "my_parser = argparse.ArgumentParser()\n",
    "my_parser.add_argument('-a',\n",
    "                       action='store',\n",
    "                       choices=['head', 'tail'],\n",
    "                       required=True)\n",
    "\n",
    "args = my_parser.parse_args()\n",
    "\n",
    "print(vars(args))"
   ]
  },
  {
   "cell_type": "markdown",
   "metadata": {},
   "source": [
    "##### Setting a Domain of Allowed Values for a Specific Argument"
   ]
  },
  {
   "cell_type": "code",
   "execution_count": null,
   "metadata": {},
   "outputs": [],
   "source": [
    "# choices_ex.py\n",
    "import argparse\n",
    "\n",
    "my_parser = argparse.ArgumentParser()\n",
    "my_parser.add_argument('-a', action='store', choices=['head', 'tail'])\n",
    "\n",
    "args = my_parser.parse_args()"
   ]
  },
  {
   "cell_type": "code",
   "execution_count": null,
   "metadata": {},
   "outputs": [],
   "source": [
    "# choices_ex.py\n",
    "import argparse\n",
    "\n",
    "my_parser = argparse.ArgumentParser()\n",
    "my_parser.add_argument('-a', action='store', type=int, choices=range(1, 5))\n",
    "\n",
    "args = my_parser.parse_args()\n",
    "\n",
    "print(vars(args))"
   ]
  },
  {
   "cell_type": "markdown",
   "metadata": {},
   "source": [
    "##### Setting the Type of the Argument"
   ]
  },
  {
   "cell_type": "code",
   "execution_count": null,
   "metadata": {},
   "outputs": [],
   "source": [
    "# type_example.py\n",
    "import argparse\n",
    "\n",
    "my_parser = argparse.ArgumentParser()\n",
    "my_parser.add_argument('-a', action='store', type=int)\n",
    "\n",
    "args = my_parser.parse_args()\n",
    "\n",
    "print(vars(args))"
   ]
  },
  {
   "cell_type": "markdown",
   "metadata": {},
   "source": [
    "    python type_example.py -a 42"
   ]
  },
  {
   "cell_type": "markdown",
   "metadata": {},
   "source": [
    "    python type_example.py -a \"that's a string\""
   ]
  },
  {
   "cell_type": "markdown",
   "metadata": {},
   "source": [
    "##### Setting a Default Value Produced if the Argument Is Missing"
   ]
  },
  {
   "cell_type": "code",
   "execution_count": null,
   "metadata": {},
   "outputs": [],
   "source": [
    "# default_example.py\n",
    "import argparse\n",
    "\n",
    "my_parser = argparse.ArgumentParser()\n",
    "my_parser.add_argument('-a', action='store', default='42')\n",
    "\n",
    "args = my_parser.parse_args()\n",
    "\n",
    "print(vars(args))"
   ]
  },
  {
   "cell_type": "markdown",
   "metadata": {},
   "source": [
    "    python default_example.py"
   ]
  },
  {
   "cell_type": "markdown",
   "metadata": {},
   "source": [
    "##### Setting the Action to Be Taken for an Argument"
   ]
  },
  {
   "cell_type": "code",
   "execution_count": null,
   "metadata": {},
   "outputs": [],
   "source": [
    "import argparse\n",
    "\n",
    "my_parser = argparse.ArgumentParser()\n",
    "my_parser.version = '1.0'\n",
    "my_parser.add_argument('-a', action='store')\n",
    "my_parser.add_argument('-b', action='store_const', const=42)\n",
    "my_parser.add_argument('-c', action='store_true')\n",
    "my_parser.add_argument('-d', action='store_false')\n",
    "\n",
    "args = my_parser.parse_args()\n",
    "\n",
    "print(vars(args))"
   ]
  },
  {
   "cell_type": "markdown",
   "metadata": {},
   "source": [
    "##### Primer: ls razširjen"
   ]
  },
  {
   "cell_type": "code",
   "execution_count": null,
   "metadata": {},
   "outputs": [],
   "source": [
    "# myls.py\n",
    "# Import the argparse library\n",
    "import argparse\n",
    "\n",
    "import os\n",
    "import sys\n",
    "\n",
    "# Create the parser\n",
    "my_parser = argparse.ArgumentParser(description='List the content of a folder')\n",
    "\n",
    "# Add the arguments\n",
    "my_parser.add_argument('Path',\n",
    "                       metavar='path',\n",
    "                       type=str,\n",
    "                       help='the path to list')\n",
    "my_parser.add_argument('-l',\n",
    "                       '--long',\n",
    "                       action='store_true',\n",
    "                       help='enable the long listing format')\n",
    "\n",
    "# Execute parse_args()\n",
    "args = my_parser.parse_args()\n",
    "\n",
    "input_path = args.Path\n",
    "\n",
    "if not os.path.isdir(input_path):\n",
    "    print('The path specified does not exist')\n",
    "    sys.exit()\n",
    "\n",
    "for line in os.listdir(input_path):\n",
    "    if args.long:  # Simplified long listing\n",
    "        size = os.stat(os.path.join(input_path, line)).st_size\n",
    "        line = f'{size:10d}  {line}'\n",
    "    print(line)"
   ]
  },
  {
   "cell_type": "markdown",
   "metadata": {},
   "source": [
    "### Primer: Write Python Command-line Interfaces"
   ]
  },
  {
   "cell_type": "code",
   "execution_count": 8,
   "metadata": {},
   "outputs": [
    {
     "name": "stdout",
     "output_type": "stream",
     "text": [
      "IP,Time,URL,Staus\r",
      "\r\n",
      "10.128.2.1,[29/Nov/2017:06:58:55,GET /login.php HTTP/1.1,200\r",
      "\r\n",
      "10.128.2.1,[29/Nov/2017:06:59:02,POST /process.php HTTP/1.1,302\r",
      "\r\n",
      "10.128.2.1,[29/Nov/2017:06:59:03,GET /home.php HTTP/1.1,200\r",
      "\r\n",
      "10.131.2.1,[29/Nov/2017:06:59:04,GET /js/vendor/moment.min.js HTTP/1.1,200\r",
      "\r\n",
      "10.130.2.1,[29/Nov/2017:06:59:06,GET /bootstrap-3.3.7/js/bootstrap.js HTTP/1.1,200\r",
      "\r\n",
      "10.130.2.1,[29/Nov/2017:06:59:19,GET /profile.php?user=bala HTTP/1.1,200\r",
      "\r\n",
      "10.128.2.1,[29/Nov/2017:06:59:19,GET /js/jquery.min.js HTTP/1.1,200\r",
      "\r\n",
      "10.131.2.1,[29/Nov/2017:06:59:19,GET /js/chart.min.js HTTP/1.1,200\r",
      "\r\n",
      "10.131.2.1,[29/Nov/2017:06:59:30,GET /edit.php?name=bala HTTP/1.1,200\r",
      "\r\n"
     ]
    }
   ],
   "source": [
    "!head ./data/weblog.csv"
   ]
  },
  {
   "cell_type": "code",
   "execution_count": 32,
   "metadata": {},
   "outputs": [],
   "source": [
    "import csv\n",
    "\n",
    "def parse_web_logs(input_file, mode='all', header=True):\n",
    "    ips = {}\n",
    "    statuses = {}\n",
    "    with open(input_file, 'r') as f:\n",
    "        csv_reader = csv.reader(f, delimiter=',')\n",
    "        line_count = 0\n",
    "        for row in csv_reader:\n",
    "            if header and line_count == 0:\n",
    "                line_count += 1\n",
    "            else:\n",
    "                if row[0].startswith('[') or row[0][0].isalpha():\n",
    "                    continue\n",
    "                ip = row[0]\n",
    "                status = int(row[3])\n",
    "                ips[ip] = ips.get(ip,0) + 1\n",
    "                statuses[status] = statuses.get(status,0) + 1\n",
    "                line_count += 1 \n",
    "    \n",
    "    if mode == 'all':\n",
    "        return {'ips': ips, 'statuses': statuses}\n",
    "    elif mode == 'ip':\n",
    "        return {'ips': ips}\n",
    "    elif mode == 'status':\n",
    "        return {'statuses': statuses}\n",
    "    else:\n",
    "        return None"
   ]
  },
  {
   "cell_type": "code",
   "execution_count": 33,
   "metadata": {},
   "outputs": [
    {
     "data": {
      "text/plain": [
       "{'ips': {'10.128.2.1': 4257,\n",
       "  '10.131.2.1': 1626,\n",
       "  '10.130.2.1': 4056,\n",
       "  '10.129.2.1': 1652,\n",
       "  '10.131.0.1': 4198},\n",
       " 'statuses': {200: 11330, 302: 3498, 304: 658, 206: 52, 404: 251}}"
      ]
     },
     "execution_count": 33,
     "metadata": {},
     "output_type": "execute_result"
    }
   ],
   "source": [
    "parse_web_logs('data/weblog.csv', header=True)"
   ]
  },
  {
   "cell_type": "markdown",
   "metadata": {},
   "source": [
    "Želimo imeti nekaj takega:\n",
    "\n",
    "    python3 parse_logs.py [-h] [-m MODE] [-no] path"
   ]
  },
  {
   "cell_type": "markdown",
   "metadata": {},
   "source": [
    "> https://docs.python.org/3.8/library/collections.html#collections.Counter"
   ]
  },
  {
   "cell_type": "markdown",
   "metadata": {},
   "source": [
    "The first thing our script needs to do is to get the values of command line arguments."
   ]
  },
  {
   "cell_type": "code",
   "execution_count": null,
   "metadata": {},
   "outputs": [],
   "source": [
    "import argparse\n",
    "import csv\n",
    "import sys\n",
    "import os\n",
    "\n",
    "def parse_web_logs(input_file, mode='all', header=True):\n",
    "    ips = {}\n",
    "    statuses = {}\n",
    "    with open(input_file, 'r') as f:\n",
    "        csv_reader = csv.reader(f, delimiter=',')\n",
    "        line_count = 0\n",
    "        for row in csv_reader:\n",
    "            if header and line_count == 0:\n",
    "                line_count += 1\n",
    "            else:\n",
    "                if row[0].startswith('[') or row[0][0].isalpha():\n",
    "                    continue\n",
    "                ip = row[0]\n",
    "                status = int(row[3])\n",
    "                ips[ip] = ips.get(ip,0) + 1\n",
    "                statuses[status] = statuses.get(status,0) + 1\n",
    "                line_count += 1 \n",
    "    \n",
    "    if mode == 'all':\n",
    "        print(f'IP: {ips}\\nStatus codes: {statuses}')\n",
    "    elif mode == 'ip':\n",
    "        print(f'IP: {ips}')\n",
    "    elif mode == 'status':\n",
    "        print(f'Status codes: {statuses}')\n",
    "    else:\n",
    "        return None\n",
    "\n",
    "def parse():\n",
    "    parser = argparse.ArgumentParser(prog='weblogpars',\n",
    "                                     description='Pars the logs from the web server and sums IPs and status codes.')\n",
    "    \n",
    "    parser.add_argument('path',\n",
    "                       metavar='FILE_PATH',\n",
    "                       type=str,\n",
    "                       help='the path to the file to parse')\n",
    "\n",
    "    parser.add_argument('-m', '--mode', \n",
    "                        dest='mode', \n",
    "                        metavar='MODE', \n",
    "                        action='store', \n",
    "                        default='all',  \n",
    "                        help=\"select the mode of the parser [all, ip, status]\", \n",
    "                        choices=['all', 'ip', 'status'])\n",
    "\n",
    "    parser.add_argument('-no', '--no-header', \n",
    "                        dest='no_header', \n",
    "                        action='store_false',\n",
    "                        help='add this if there is no header in log file')\n",
    "    \n",
    "    args = parser.parse_args()\n",
    "\n",
    "    file_path = args.path\n",
    "    mode = args.mode\n",
    "    header = args.no_header\n",
    "\n",
    "    \n",
    "    if os.path.exists(file_path):\n",
    "        parse_web_logs(file_path, mode=mode, header=header)\n",
    "    else:\n",
    "        print('The path specified does not exist!')\n",
    "        sys.exit()\n",
    "\n",
    "if __name__ == '__main__':\n",
    "    parse()"
   ]
  },
  {
   "cell_type": "markdown",
   "metadata": {},
   "source": [
    "### Druge knjižnice: Typer"
   ]
  },
  {
   "cell_type": "markdown",
   "metadata": {},
   "source": [
    "https://typer.tiangolo.com/"
   ]
  },
  {
   "cell_type": "markdown",
   "metadata": {},
   "source": [
    "    pip install typer"
   ]
  },
  {
   "cell_type": "markdown",
   "metadata": {},
   "source": [
    "https://typer.tiangolo.com/tutorial/first-steps/"
   ]
  },
  {
   "cell_type": "markdown",
   "metadata": {},
   "source": [
    "### Druge knjižnice: click"
   ]
  },
  {
   "cell_type": "markdown",
   "metadata": {},
   "source": [
    "> potrebna dodatna namestitev"
   ]
  },
  {
   "cell_type": "markdown",
   "metadata": {},
   "source": [
    "- [Click](https://click.palletsprojects.com/en/7.x/)\n",
    "- [Welcome to the Click Documentation](https://pocoo-click.readthedocs.io/en/latest/)"
   ]
  },
  {
   "cell_type": "code",
   "execution_count": 1,
   "metadata": {},
   "outputs": [
    {
     "name": "stderr",
     "output_type": "stream",
     "text": [
      "Usage: ipykernel_launcher.py [OPTIONS] FILE_PATH\n",
      "Try \"ipykernel_launcher.py --help\" for help.\n",
      "\n",
      "Error: no such option: -f\n"
     ]
    },
    {
     "ename": "SystemExit",
     "evalue": "2",
     "output_type": "error",
     "traceback": [
      "An exception has occurred, use %tb to see the full traceback.\n",
      "\u001b[0;31mSystemExit\u001b[0m\u001b[0;31m:\u001b[0m 2\n"
     ]
    },
    {
     "name": "stderr",
     "output_type": "stream",
     "text": [
      "/opt/conda/lib/python3.7/site-packages/IPython/core/interactiveshell.py:3327: UserWarning: To exit: use 'exit', 'quit', or Ctrl-D.\n",
      "  warn(\"To exit: use 'exit', 'quit', or Ctrl-D.\", stacklevel=1)\n"
     ]
    }
   ],
   "source": [
    "import click\n",
    "import csv\n",
    "import sys\n",
    "import os\n",
    "from tqdm import tqdm\n",
    "\n",
    "def parse_web_logs(input_file, mode='all', header=True):\n",
    "    ips = {}\n",
    "    statuses = {}\n",
    "    with open(input_file, 'r') as f:\n",
    "        csv_reader = csv.reader(f, delimiter=',')\n",
    "        line_count = 0\n",
    "        for key in tqdm(range(100)):\n",
    "            for row in csv_reader:\n",
    "                if header and line_count == 0:\n",
    "                    line_count += 1\n",
    "                else:\n",
    "                    if row[0].startswith('[') or row[0][0].isalpha():\n",
    "                        continue  \n",
    "                    ip = row[0]\n",
    "                    status = int(row[3])\n",
    "                    ips[ip] = ips.get(ip,0) + 1\n",
    "                    statuses[status] = statuses.get(status,0) + 1\n",
    "                    line_count += 1 \n",
    "    \n",
    "    if mode == 'all':\n",
    "        print(f'IP: {ips}\\nStatus codes: {statuses}')\n",
    "    elif mode == 'ip':\n",
    "        print(f'IP: {ips}')\n",
    "    elif mode == 'status':\n",
    "        print(f'Status codes: {statuses}')\n",
    "    else:\n",
    "        return None\n",
    "\n",
    "\n",
    "@click.command()\n",
    "@click.argument('file_path')\n",
    "@click.option('-m', '--mode', help=\"select the mode of the parser [all, ip, status]\", default='all',  metavar='MODE', type=click.Choice(['all', 'ip', 'status']))\n",
    "@click.option('--header/--no-header', help='add this if there is no header in log file', default=True)\n",
    "def parse(file_path, mode, header):\n",
    "    if os.path.exists(file_path):\n",
    "        parse_web_logs(file_path, mode=mode, header=header)\n",
    "    else:\n",
    "        click.echo('The path specified does not exist!')\n",
    "        sys.exit()\n",
    "        \n",
    "\n",
    "if __name__ == '__main__':\n",
    "    parse()"
   ]
  },
  {
   "cell_type": "markdown",
   "metadata": {},
   "source": [
    "## Input function to accept input from a user"
   ]
  },
  {
   "cell_type": "markdown",
   "metadata": {},
   "source": [
    "### Python example to accept input from a user"
   ]
  },
  {
   "cell_type": "code",
   "execution_count": 2,
   "metadata": {},
   "outputs": [
    {
     "name": "stdout",
     "output_type": "stream",
     "text": [
      "Enter Employee Name: Leon\n",
      "Leon\n"
     ]
    }
   ],
   "source": [
    "name = input(\"Enter Employee Name: \")\n",
    "print(name)"
   ]
  },
  {
   "cell_type": "markdown",
   "metadata": {},
   "source": [
    "Python input() function syntax: `input([prompt])` "
   ]
  },
  {
   "cell_type": "code",
   "execution_count": 3,
   "metadata": {},
   "outputs": [
    {
     "name": "stdout",
     "output_type": "stream",
     "text": [
      "Enter number45\n",
      "type of number <class 'str'>\n"
     ]
    }
   ],
   "source": [
    "number = input (\"Enter number\")\n",
    "print (\"type of number\", type(number))"
   ]
  },
  {
   "cell_type": "markdown",
   "metadata": {},
   "source": [
    "### Accept an Integer input from User"
   ]
  },
  {
   "cell_type": "code",
   "execution_count": 4,
   "metadata": {},
   "outputs": [
    {
     "name": "stdout",
     "output_type": "stream",
     "text": [
      "Enter first number14\n",
      "Enter second number45\n",
      "Addition of two number is:  59\n"
     ]
    }
   ],
   "source": [
    "# program to do aAddition of two input numbers\n",
    "\n",
    "first_number = int ( input (\"Enter first number\") )\n",
    "second_number = int ( input (\"Enter second number\") )\n",
    "\n",
    "sum = first_number + second_number\n",
    "\n",
    "print(\"Addition of two number is: \", sum)"
   ]
  },
  {
   "cell_type": "code",
   "execution_count": 10,
   "metadata": {},
   "outputs": [
    {
     "name": "stdout",
     "output_type": "stream",
     "text": [
      "Enter your number-9\n",
      "User number is negative \n"
     ]
    }
   ],
   "source": [
    "# Python Program to check user input is a Positive Number or Negative\n",
    "user_number = input (\"Enter your number\")\n",
    "try:\n",
    "    val = int(user_number)\n",
    "    if(val > 0):\n",
    "        print(\"User number is positive \")\n",
    "    else:\n",
    "        print(\"User number is negative \")\n",
    "except ValueError:\n",
    "    print(\"No.. input string is not a number. It's a string\")"
   ]
  },
  {
   "cell_type": "markdown",
   "metadata": {},
   "source": [
    "### Accept float input from User"
   ]
  },
  {
   "cell_type": "code",
   "execution_count": 11,
   "metadata": {},
   "outputs": [
    {
     "name": "stdout",
     "output_type": "stream",
     "text": [
      "Enter a float number8.45\n",
      "input float number is:  8.45\n",
      "type is: <class 'float'>\n"
     ]
    }
   ],
   "source": [
    "float_number = float (input(\"Enter a float number\") )\n",
    "print (\"input float number is: \", float_number )\n",
    "print (\"type is:\", type(float_number) )"
   ]
  },
  {
   "cell_type": "markdown",
   "metadata": {},
   "source": [
    "### Get multiple values from the user in one line"
   ]
  },
  {
   "cell_type": "code",
   "execution_count": 12,
   "metadata": {},
   "outputs": [
    {
     "name": "stdout",
     "output_type": "stream",
     "text": [
      "Enter your name, Age, Percentage separated by space: Leon, 25, 041596855\n",
      "User Details:  Leon, 25, 041596855\n"
     ]
    }
   ],
   "source": [
    "name, age, phone = input(\"Enter your name, Age, Percentage separated by space: \").split()\n",
    "print(\"User Details: \", name, age, phone)"
   ]
  },
  {
   "cell_type": "markdown",
   "metadata": {},
   "source": [
    "### Vaja: Get a list of numbers as input from the user"
   ]
  },
  {
   "cell_type": "code",
   "execution_count": 13,
   "metadata": {},
   "outputs": [
    {
     "name": "stdout",
     "output_type": "stream",
     "text": [
      "Enter a list numbers or elements separated by space: 1 2 5 89 65 8 5 4 5 2  \n",
      "user list is  ['1', '2', '5', '89', '65', '8', '5', '4', '5', '2']\n",
      "Calculating sum of element of input list\n",
      "Sum =  186\n"
     ]
    }
   ],
   "source": [
    "# možnost 1\n",
    "input_string = input(\"Enter a list numbers or elements separated by space: \")\n",
    "userList = input_string.split()\n",
    "print(\"user list is \", userList)\n",
    "\n",
    "print(\"Calculating sum of element of input list\")\n",
    "sum = 0\n",
    "for num in userList:\n",
    "    sum += int(num)\n",
    "print(\"Sum = \", sum)"
   ]
  },
  {
   "cell_type": "code",
   "execution_count": 14,
   "metadata": {},
   "outputs": [
    {
     "name": "stdout",
     "output_type": "stream",
     "text": [
      "Enter the list size : 5\n",
      "Enter number at location 0 :\n",
      "5\n",
      "Enter number at location 1 :\n",
      "4\n",
      "Enter number at location 2 :\n",
      "8\n",
      "Enter number at location 3 :\n",
      "8\n",
      "Enter number at location 4 :\n",
      "5\n",
      "User List is  [5, 4, 8, 8, 5]\n"
     ]
    }
   ],
   "source": [
    "# možnost 2\n",
    "numberList = []\n",
    "n = int(input(\"Enter the list size : \"))\n",
    "for i in range(0, n):\n",
    "    print(\"Enter number at location\", i, \":\")\n",
    "    item = int(input())\n",
    "    numberList.append(item)\n",
    "print(\"User List is \", numberList)"
   ]
  },
  {
   "cell_type": "code",
   "execution_count": 16,
   "metadata": {},
   "outputs": [
    {
     "name": "stdout",
     "output_type": "stream",
     "text": [
      "Enter the size of list : 7\n",
      "Enter the list numbers separated by space: 4 5 48 9 6 5 8 \n",
      "New List:  [4, 5, 48, 9, 6, 5, 8]\n"
     ]
    }
   ],
   "source": [
    "# možnost 3\n",
    "n = int(input(\"Enter the size of list : \"))\n",
    "numList = list(int(num) for num in input(\"Enter the list numbers separated by space: \").strip().split())[:n]\n",
    "print(\"New List: \", numList)"
   ]
  },
  {
   "cell_type": "markdown",
   "metadata": {},
   "source": [
    "## Managing Files and Directories"
   ]
  },
  {
   "cell_type": "markdown",
   "metadata": {},
   "source": [
    "[File and Directory Access](https://docs.python.org/3/library/filesys.html)"
   ]
  },
  {
   "cell_type": "markdown",
   "metadata": {},
   "source": [
    "Avtomatizacija taskov, kdaj se splača: [slika](https://xkcd.com/1205/)"
   ]
  },
  {
   "cell_type": "markdown",
   "metadata": {},
   "source": [
    "### General OS operations"
   ]
  },
  {
   "cell_type": "code",
   "execution_count": 15,
   "metadata": {},
   "outputs": [],
   "source": [
    "import os"
   ]
  },
  {
   "cell_type": "markdown",
   "metadata": {},
   "source": [
    "- `os.getcwd()`: Return a string representing the current working directory."
   ]
  },
  {
   "cell_type": "code",
   "execution_count": 24,
   "metadata": {},
   "outputs": [
    {
     "data": {
      "text/plain": [
       "'/home/jovyan/work/osnovni_tecaj/10_Interact_with_the_Operating_System'"
      ]
     },
     "execution_count": 24,
     "metadata": {},
     "output_type": "execute_result"
    }
   ],
   "source": [
    "os.getcwd()"
   ]
  },
  {
   "cell_type": "markdown",
   "metadata": {},
   "source": [
    "- `os.chdir(path)` Change the current working directory to path."
   ]
  },
  {
   "cell_type": "code",
   "execution_count": null,
   "metadata": {},
   "outputs": [],
   "source": [
    "os.chdir('./data')"
   ]
  },
  {
   "cell_type": "markdown",
   "metadata": {},
   "source": [
    "- `os.path.exists(path)`: Return True if path refers to an existing path or an open file descriptor. Returns False for broken symbolic links. On some platforms, this function may return False if permission is not granted to execute os.stat() on the requested file, even if the path physically exists."
   ]
  },
  {
   "cell_type": "code",
   "execution_count": 17,
   "metadata": {},
   "outputs": [
    {
     "data": {
      "text/plain": [
       "True"
      ]
     },
     "execution_count": 17,
     "metadata": {},
     "output_type": "execute_result"
    }
   ],
   "source": [
    "os.path.exists('data/')"
   ]
  },
  {
   "cell_type": "markdown",
   "metadata": {},
   "source": [
    "- `os.path.abspath(path)`: Return a normalized absolutized version of the pathname path. On most platforms, this is equivalent to calling the function normpath() as follows: normpath(join(os.getcwd(), path))."
   ]
  },
  {
   "cell_type": "code",
   "execution_count": 18,
   "metadata": {},
   "outputs": [
    {
     "data": {
      "text/plain": [
       "'/home/jovyan/work/osnovni_tecaj/10_Interact_with_the_Operating_System/data/example.txt'"
      ]
     },
     "execution_count": 18,
     "metadata": {},
     "output_type": "execute_result"
    }
   ],
   "source": [
    "os.path.abspath(\"data/example.txt\")"
   ]
  },
  {
   "cell_type": "markdown",
   "metadata": {},
   "source": [
    "- `os.path.getsize(path)`: Return the size, in bytes, of path. Raise OSError if the file does not exist or is inaccessible."
   ]
  },
  {
   "cell_type": "code",
   "execution_count": 23,
   "metadata": {},
   "outputs": [
    {
     "data": {
      "text/plain": [
       "1115343"
      ]
     },
     "execution_count": 23,
     "metadata": {},
     "output_type": "execute_result"
    }
   ],
   "source": [
    "os.path.getsize('data/weblog.csv')"
   ]
  },
  {
   "cell_type": "markdown",
   "metadata": {},
   "source": [
    "- `os.path.isdir(path)`: Return True if path is an existing directory. This follows symbolic links, so both islink() and isdir() can be true for the same path."
   ]
  },
  {
   "cell_type": "code",
   "execution_count": 27,
   "metadata": {},
   "outputs": [
    {
     "data": {
      "text/plain": [
       "True"
      ]
     },
     "execution_count": 27,
     "metadata": {},
     "output_type": "execute_result"
    }
   ],
   "source": [
    "os.path.isdir('data')"
   ]
  },
  {
   "cell_type": "markdown",
   "metadata": {},
   "source": [
    "- `os.path.isfile(path)`: Return True if path is an existing directory. This follows symbolic links, so both islink() and isdir() can be true for the same path."
   ]
  },
  {
   "cell_type": "code",
   "execution_count": 28,
   "metadata": {},
   "outputs": [
    {
     "data": {
      "text/plain": [
       "True"
      ]
     },
     "execution_count": 28,
     "metadata": {},
     "output_type": "execute_result"
    }
   ],
   "source": [
    "os.path.isfile('data/example3.txt')"
   ]
  },
  {
   "cell_type": "markdown",
   "metadata": {},
   "source": [
    "- `os.path.join(path, *paths)`: Join one or more path components intelligently. The return value is the concatenation of path and any members of *paths with exactly one directory separator (os.sep) following each non-empty part except the last, meaning that the result will only end in a separator if the last part is empty. If a component is an absolute path, all previous components are thrown away and joining continues from the absolute path component."
   ]
  },
  {
   "cell_type": "code",
   "execution_count": 31,
   "metadata": {},
   "outputs": [
    {
     "data": {
      "text/plain": [
       "'/data/examples/test.py'"
      ]
     },
     "execution_count": 31,
     "metadata": {},
     "output_type": "execute_result"
    }
   ],
   "source": [
    "os.path.join('/data', 'examples/test.py')"
   ]
  },
  {
   "cell_type": "markdown",
   "metadata": {},
   "source": [
    "- `os.path.getatime(path)`: Return the time of last access of path. The return value is a floating point number giving the number of seconds since the epoch (see the time module). Raise OSError if the file does not exist or is inaccessible.\n",
    "- `os.path.getmtime(path)`: Return the time of last modification of path. The return value is a floating point number giving the number of seconds since the epoch (see the time module). Raise OSError if the file does not exist or is inaccessible.\n",
    "- `os.path.getctime(path)`: Return the system’s ctime which, on some systems (like Unix) is the time of the last metadata change, and, on others (like Windows), is the creation time for path. The return value is a number giving the number of seconds since the epoch (see the time module). Raise OSError if the file does not exist or is inaccessible."
   ]
  },
  {
   "cell_type": "code",
   "execution_count": 32,
   "metadata": {},
   "outputs": [
    {
     "name": "stdout",
     "output_type": "stream",
     "text": [
      "1580161039.466197\n"
     ]
    }
   ],
   "source": [
    "timestamp = os.path.getmtime('data/example.txt')\n",
    "print(timestamp)"
   ]
  },
  {
   "cell_type": "code",
   "execution_count": 33,
   "metadata": {},
   "outputs": [],
   "source": [
    "# pretvorba v datetime\n",
    "from datetime import datetime\n",
    "\n",
    "def unix_to_str_time(unix_time, time_format='%Y-%m-%d %H:%M:%S'):\n",
    "    return datetime.utcfromtimestamp(unix_time).strftime(time_format)"
   ]
  },
  {
   "cell_type": "code",
   "execution_count": 34,
   "metadata": {},
   "outputs": [
    {
     "data": {
      "text/plain": [
       "'2020-01-27 21:37:19'"
      ]
     },
     "execution_count": 34,
     "metadata": {},
     "output_type": "execute_result"
    }
   ],
   "source": [
    "unix_to_str_time(timestamp)"
   ]
  },
  {
   "cell_type": "markdown",
   "metadata": {},
   "source": [
    "### Making Directories"
   ]
  },
  {
   "cell_type": "markdown",
   "metadata": {},
   "source": [
    "#### Creating a Single Directory"
   ]
  },
  {
   "cell_type": "code",
   "execution_count": 1,
   "metadata": {},
   "outputs": [],
   "source": [
    "import os\n",
    "\n",
    "os.mkdir('data/example_directory/')"
   ]
  },
  {
   "cell_type": "code",
   "execution_count": 2,
   "metadata": {},
   "outputs": [
    {
     "ename": "FileExistsError",
     "evalue": "[Errno 17] File exists: 'data/example_directory/'",
     "output_type": "error",
     "traceback": [
      "\u001b[0;31m---------------------------------------------------------------------------\u001b[0m",
      "\u001b[0;31mFileExistsError\u001b[0m                           Traceback (most recent call last)",
      "\u001b[0;32m<ipython-input-2-3eca3a9c3e67>\u001b[0m in \u001b[0;36m<module>\u001b[0;34m\u001b[0m\n\u001b[0;32m----> 1\u001b[0;31m \u001b[0mos\u001b[0m\u001b[0;34m.\u001b[0m\u001b[0mmkdir\u001b[0m\u001b[0;34m(\u001b[0m\u001b[0;34m'data/example_directory/'\u001b[0m\u001b[0;34m)\u001b[0m\u001b[0;34m\u001b[0m\u001b[0;34m\u001b[0m\u001b[0m\n\u001b[0m",
      "\u001b[0;31mFileExistsError\u001b[0m: [Errno 17] File exists: 'data/example_directory/'"
     ]
    }
   ],
   "source": [
    "os.mkdir('data/example_directory/')"
   ]
  },
  {
   "cell_type": "code",
   "execution_count": 3,
   "metadata": {},
   "outputs": [
    {
     "name": "stdout",
     "output_type": "stream",
     "text": [
      "[Errno 17] File exists: 'data/example_directory/'\n"
     ]
    }
   ],
   "source": [
    "try:\n",
    "    os.mkdir('data/example_directory/')\n",
    "except FileExistsError as exc:\n",
    "    print(exc)"
   ]
  },
  {
   "cell_type": "markdown",
   "metadata": {},
   "source": [
    "#### Creating Multiple Directories"
   ]
  },
  {
   "cell_type": "code",
   "execution_count": 5,
   "metadata": {},
   "outputs": [],
   "source": [
    "os.makedirs('data/leto/mesec/dan')"
   ]
  },
  {
   "cell_type": "code",
   "execution_count": 6,
   "metadata": {},
   "outputs": [],
   "source": [
    "os.makedirs('data/leto/2018/10/05', mode=0o770)"
   ]
  },
  {
   "cell_type": "markdown",
   "metadata": {},
   "source": [
    "[Premissions](https://danielmiessler.com/images/permissions.png)"
   ]
  },
  {
   "cell_type": "markdown",
   "metadata": {},
   "source": [
    "### Getting a Directory Listing"
   ]
  },
  {
   "cell_type": "markdown",
   "metadata": {},
   "source": [
    "- [os.listdir](https://docs.python.org/3/library/os.html#os.listdir)\n",
    "- [os.scandir](https://docs.python.org/3/library/os.html#os.scandir)\n",
    "    "
   ]
  },
  {
   "cell_type": "markdown",
   "metadata": {},
   "source": [
    "> The scandir() function returns directory entries along with file attribute information, giving better performance for many common use cases."
   ]
  },
  {
   "cell_type": "code",
   "execution_count": 17,
   "metadata": {},
   "outputs": [
    {
     "name": "stdout",
     "output_type": "stream",
     "text": [
      "['Command_line_with_python.ipynb', 'skripte', '.ipynb_checkpoints', 'data']\n"
     ]
    }
   ],
   "source": [
    "# Directory Listing in Legacy Python Versions\n",
    "import os\n",
    "entries = os.listdir('./')\n",
    "print(entries)"
   ]
  },
  {
   "cell_type": "code",
   "execution_count": 18,
   "metadata": {},
   "outputs": [
    {
     "name": "stdout",
     "output_type": "stream",
     "text": [
      "./data/newdir is a directory\n",
      "./data/example.txt is a file\n",
      "./data/.ipynb_checkpoints is a directory\n"
     ]
    }
   ],
   "source": [
    "# Primer: kako vidimo katero so mape katero datoteke\n",
    "directory = './data'\n",
    "\n",
    "for name in os.listdir(directory):\n",
    "    fullname = os.path.join(directory, name) #joinmao ne glede na sistem\n",
    "    if os.path.isdir(fullname):\n",
    "        print(f'{fullname} is a directory')\n",
    "    else:\n",
    "        print(f'{fullname} is a file')"
   ]
  },
  {
   "cell_type": "code",
   "execution_count": 19,
   "metadata": {},
   "outputs": [
    {
     "name": "stdout",
     "output_type": "stream",
     "text": [
      "<posix.ScandirIterator object at 0x7fb9039daa58>\n"
     ]
    }
   ],
   "source": [
    "# Directory Listing in Modern Python Versions\n",
    "import os\n",
    "entries = os.scandir('./')\n",
    "print(entries)"
   ]
  },
  {
   "cell_type": "code",
   "execution_count": 22,
   "metadata": {},
   "outputs": [
    {
     "name": "stdout",
     "output_type": "stream",
     "text": [
      "Command_line_with_python.ipynb\n",
      "skripte\n",
      ".ipynb_checkpoints\n",
      "data\n"
     ]
    }
   ],
   "source": [
    "import os\n",
    "\n",
    "with os.scandir('./') as entries:\n",
    "    for entry in entries:\n",
    "        print(entry.name)"
   ]
  },
  {
   "cell_type": "code",
   "execution_count": 24,
   "metadata": {},
   "outputs": [
    {
     "name": "stdout",
     "output_type": "stream",
     "text": [
      "Command_line_with_python.ipynb\n"
     ]
    }
   ],
   "source": [
    "# Primer\n",
    "with os.scandir('./') as it:\n",
    "    for entry in it:\n",
    "        if not entry.name.startswith('.') and entry.is_file():\n",
    "            print(entry.name)"
   ]
  },
  {
   "cell_type": "code",
   "execution_count": 25,
   "metadata": {},
   "outputs": [
    {
     "name": "stdout",
     "output_type": "stream",
     "text": [
      "skripte\n",
      ".ipynb_checkpoints\n",
      "data\n"
     ]
    }
   ],
   "source": [
    "# Listing Subdirectories\n",
    "# List all subdirectories using scandir()\n",
    "basepath = './'\n",
    "with os.scandir(basepath) as entries:\n",
    "    for entry in entries:\n",
    "        if entry.is_dir():\n",
    "            print(entry.name)"
   ]
  },
  {
   "cell_type": "markdown",
   "metadata": {},
   "source": [
    "### Getting File Attributes"
   ]
  },
  {
   "cell_type": "code",
   "execution_count": 41,
   "metadata": {},
   "outputs": [
    {
     "name": "stdout",
     "output_type": "stream",
     "text": [
      "Name: Command_line_with_python.ipynb, Time: 1580251977.5320895s\n",
      "Name: skripte, Time: 1580242340.9039881s\n",
      "Name: .ipynb_checkpoints, Time: 1579434568.7935946s\n",
      "Name: data, Time: 1580162510.3971303s\n"
     ]
    }
   ],
   "source": [
    "import os\n",
    "with os.scandir('./') as dir_contents:\n",
    "    for entry in dir_contents:\n",
    "        info = entry.stat()\n",
    "        #print(info)\n",
    "        print(f'Name: {entry.name}, Time: {info.st_mtime}s')"
   ]
  },
  {
   "cell_type": "markdown",
   "metadata": {},
   "source": [
    "[os.stat_result](https://docs.python.org/3/library/os.html#os.stat_result)"
   ]
  },
  {
   "cell_type": "code",
   "execution_count": 39,
   "metadata": {},
   "outputs": [
    {
     "name": "stdout",
     "output_type": "stream",
     "text": [
      "example04.py        \t Last Modified: 2020-01-19 16:26:12\n",
      "example00.py        \t Last Modified: 2020-01-19 14:46:31\n",
      "example03.py        \t Last Modified: 2020-01-19 14:50:58\n",
      "create_file.py      \t Last Modified: 2020-01-28 19:48:09\n",
      "host.py             \t Last Modified: 2020-01-28 21:20:55\n",
      "healthcheck_script.py\t Last Modified: 2020-01-27 20:41:51\n",
      "example01.py        \t Last Modified: 2020-01-19 14:43:19\n",
      "example05.py        \t Last Modified: 2020-01-25 23:07:59\n",
      "example02.py        \t Last Modified: 2020-01-19 14:43:03\n"
     ]
    }
   ],
   "source": [
    "from datetime import datetime\n",
    "from os import scandir\n",
    "\n",
    "def convert_date(timestamp):\n",
    "    d = datetime.utcfromtimestamp(timestamp)\n",
    "    formated_date = d.strftime('%Y-%m-%d %H:%M:%S')\n",
    "    return formated_date\n",
    "\n",
    "def get_files(dir_path):\n",
    "    dir_entries = scandir(dir_path)\n",
    "    for entry in dir_entries:\n",
    "        if entry.is_file():\n",
    "            info = entry.stat()\n",
    "            # The width specifier sets the width of the value. \n",
    "            print(f'{entry.name:20}\\t Last Modified: {convert_date(info.st_mtime)}')\n",
    "            \n",
    "get_files('./skripte')"
   ]
  },
  {
   "cell_type": "markdown",
   "metadata": {},
   "source": [
    "### Filename Pattern Matching"
   ]
  },
  {
   "cell_type": "markdown",
   "metadata": {},
   "source": [
    "    mkdir some_directory\n",
    "    cd some_directory/\n",
    "    mkdir sub_dir\n",
    "    touch sub_dir/file1.py sub_dir/file2.py\n",
    "    touch data_{01..03}.txt data_{01..03}_backup.txt admin.py tests.py"
   ]
  },
  {
   "cell_type": "markdown",
   "metadata": {},
   "source": [
    "#### Using String Methods"
   ]
  },
  {
   "cell_type": "code",
   "execution_count": 18,
   "metadata": {},
   "outputs": [],
   "source": [
    "import os\n",
    "\n",
    "# Get .txt files\n",
    "def search_file_by_extension(directory, extension):\n",
    "    for f_name in os.listdir(directory):\n",
    "        if f_name.endswith(extension):\n",
    "            print(f_name)"
   ]
  },
  {
   "cell_type": "code",
   "execution_count": 19,
   "metadata": {},
   "outputs": [
    {
     "name": "stdout",
     "output_type": "stream",
     "text": [
      "data_01_backup.txt\n",
      "data_02_backup.txt\n",
      "data_01.txt\n",
      "data_03_backup.txt\n",
      "data_03.txt\n",
      "data_02.txt\n"
     ]
    }
   ],
   "source": [
    "search_file_by_extension('data/some_directory/', '.txt')"
   ]
  },
  {
   "cell_type": "markdown",
   "metadata": {},
   "source": [
    "#### Filename Pattern Matching Using fnmatch"
   ]
  },
  {
   "cell_type": "markdown",
   "metadata": {},
   "source": [
    "> [fnmatch — Unix filename pattern matching](https://docs.python.org/3.8/library/fnmatch.html)"
   ]
  },
  {
   "cell_type": "code",
   "execution_count": 20,
   "metadata": {},
   "outputs": [
    {
     "name": "stdout",
     "output_type": "stream",
     "text": [
      "data_01_backup.txt\n",
      "data_02_backup.txt\n",
      "data_01.txt\n",
      "data_03_backup.txt\n",
      "data_03.txt\n",
      "data_02.txt\n"
     ]
    }
   ],
   "source": [
    "import os\n",
    "import fnmatch\n",
    "\n",
    "for file_name in os.listdir('data/some_directory/'):\n",
    "    if fnmatch.fnmatch(file_name, '*.txt'):\n",
    "        print(file_name)"
   ]
  },
  {
   "cell_type": "code",
   "execution_count": 22,
   "metadata": {},
   "outputs": [
    {
     "name": "stdout",
     "output_type": "stream",
     "text": [
      "data_01_backup.txt\n",
      "data_02_backup.txt\n",
      "data_03_backup.txt\n"
     ]
    }
   ],
   "source": [
    "for filename in os.listdir('data/some_directory/'):\n",
    "    if fnmatch.fnmatch(filename, 'data_*_backup.txt'):\n",
    "        print(filename)"
   ]
  },
  {
   "cell_type": "markdown",
   "metadata": {},
   "source": [
    "#### Filename Pattern Matching Using glob"
   ]
  },
  {
   "cell_type": "markdown",
   "metadata": {},
   "source": [
    "> [glob — Unix style pathname pattern expansion](https://docs.python.org/3.8/library/glob.html?highlight=glob#module-glob)"
   ]
  },
  {
   "cell_type": "code",
   "execution_count": 24,
   "metadata": {},
   "outputs": [
    {
     "data": {
      "text/plain": [
       "['data/some_directory/sub_dir/file1.py',\n",
       " 'data/some_directory/sub_dir/file2.py']"
      ]
     },
     "execution_count": 24,
     "metadata": {},
     "output_type": "execute_result"
    }
   ],
   "source": [
    "import glob\n",
    "glob.glob('data/some_directory/sub_dir/*.py')"
   ]
  },
  {
   "cell_type": "code",
   "execution_count": 26,
   "metadata": {},
   "outputs": [
    {
     "name": "stdout",
     "output_type": "stream",
     "text": [
      "data/some_directory/data_01_backup.txt\n",
      "data/some_directory/data_02_backup.txt\n",
      "data/some_directory/data_01.txt\n",
      "data/some_directory/data_03_backup.txt\n",
      "data/some_directory/data_03.txt\n",
      "data/some_directory/data_02.txt\n"
     ]
    }
   ],
   "source": [
    "import glob\n",
    "for name in glob.glob('data/some_directory/*[0-9]*.txt'):\n",
    "    print(name)"
   ]
  },
  {
   "cell_type": "code",
   "execution_count": 29,
   "metadata": {},
   "outputs": [
    {
     "name": "stdout",
     "output_type": "stream",
     "text": [
      "data/some_directory/tests.py\n",
      "data/some_directory/admin.py\n",
      "data/some_directory/sub_dir/file1.py\n",
      "data/some_directory/sub_dir/file2.py\n"
     ]
    }
   ],
   "source": [
    "import glob\n",
    "for file in glob.iglob('data/some_directory/**/*.py', recursive=True):\n",
    "    print(file)"
   ]
  },
  {
   "cell_type": "markdown",
   "metadata": {},
   "source": [
    "### Traversing Directories and Processing Files"
   ]
  },
  {
   "cell_type": "code",
   "execution_count": 30,
   "metadata": {},
   "outputs": [
    {
     "name": "stdout",
     "output_type": "stream",
     "text": [
      "Found directory: ./data/some_directory/\n",
      "tests.py\n",
      "data_01_backup.txt\n",
      "data_02_backup.txt\n",
      "admin.py\n",
      "data_01.txt\n",
      "data_03_backup.txt\n",
      "data_03.txt\n",
      "data_02.txt\n",
      "Found directory: ./data/some_directory/sub_dir\n",
      "file1.py\n",
      "file2.py\n"
     ]
    }
   ],
   "source": [
    "# Walking a directory tree and printing the names of the directories and files\n",
    "for dirpath, dirnames, files in os.walk('./data/some_directory/'):\n",
    "    print(f'Found directory: {dirpath}')\n",
    "    for file_name in files:\n",
    "        print(file_name)"
   ]
  },
  {
   "cell_type": "code",
   "execution_count": 31,
   "metadata": {},
   "outputs": [
    {
     "name": "stdout",
     "output_type": "stream",
     "text": [
      "Found directory: ./data/some_directory/\n",
      "Editing ./data/some_directory/tests.py...\n",
      "Editing ./data/some_directory/data_01_backup.txt...\n",
      "Editing ./data/some_directory/data_02_backup.txt...\n",
      "Editing ./data/some_directory/admin.py...\n",
      "Editing ./data/some_directory/data_01.txt...\n",
      "Editing ./data/some_directory/data_03_backup.txt...\n",
      "Editing ./data/some_directory/data_03.txt...\n",
      "Editing ./data/some_directory/data_02.txt...\n",
      "Found directory: ./data/some_directory/sub_dir\n",
      "Editing ./data/some_directory/sub_dir/file1.py...\n",
      "Editing ./data/some_directory/sub_dir/file2.py...\n"
     ]
    }
   ],
   "source": [
    "# vaja dodamo v vsak file neko vsebino\n",
    "for dirpath, dirnames, files in os.walk('./data/some_directory/'):\n",
    "    print(f'Found directory: {dirpath}')\n",
    "    for file_name in files:\n",
    "        fullname = os.path.join(dirpath, file_name)\n",
    "        print(f'Editing {fullname}...')\n",
    "        with open(fullname, 'w') as f:\n",
    "            f.write('Heloo')"
   ]
  },
  {
   "cell_type": "markdown",
   "metadata": {},
   "source": [
    "### Deleting Files and Directories"
   ]
  },
  {
   "cell_type": "markdown",
   "metadata": {},
   "source": [
    "#### Deleting Files in Python"
   ]
  },
  {
   "cell_type": "code",
   "execution_count": 2,
   "metadata": {},
   "outputs": [],
   "source": [
    "import os\n",
    "\n",
    "data_file = './data/delete.txt'\n",
    "os.remove(data_file)"
   ]
  },
  {
   "cell_type": "code",
   "execution_count": null,
   "metadata": {},
   "outputs": [],
   "source": [
    "import os\n",
    "\n",
    "data_file = './data/delete.txt'\n",
    "os.unlink(data_file)"
   ]
  },
  {
   "cell_type": "code",
   "execution_count": 3,
   "metadata": {},
   "outputs": [
    {
     "name": "stdout",
     "output_type": "stream",
     "text": [
      "Error: ./data/delete.txt not a valid filename\n"
     ]
    }
   ],
   "source": [
    "import os\n",
    "\n",
    "data_file = './data/delete.txt'\n",
    "\n",
    "# If the file exists, delete it\n",
    "if os.path.isfile(data_file):\n",
    "    os.remove(data_file)\n",
    "else:\n",
    "    print(f'Error: {data_file} not a valid filename')"
   ]
  },
  {
   "cell_type": "code",
   "execution_count": 4,
   "metadata": {},
   "outputs": [
    {
     "name": "stdout",
     "output_type": "stream",
     "text": [
      "Error: ./data/delete.txt : No such file or directory\n"
     ]
    }
   ],
   "source": [
    "import os\n",
    "\n",
    "data_file = './data/delete.txt'\n",
    "\n",
    "# Use exception handling\n",
    "try:\n",
    "    os.remove(data_file)\n",
    "except OSError as e:\n",
    "    print(f'Error: {data_file} : {e.strerror}')"
   ]
  },
  {
   "cell_type": "markdown",
   "metadata": {},
   "source": [
    "#### Deleting Directories"
   ]
  },
  {
   "cell_type": "code",
   "execution_count": 6,
   "metadata": {},
   "outputs": [],
   "source": [
    "import os\n",
    "\n",
    "trash_dir = './data/test'\n",
    "\n",
    "try:\n",
    "    os.rmdir(trash_dir)\n",
    "except OSError as e:\n",
    "    print(f'Error: {trash_dir} : {e.strerror}')"
   ]
  },
  {
   "cell_type": "markdown",
   "metadata": {},
   "source": [
    "Here, the trash_dir directory is deleted by passing its path to os.rmdir(). If the directory isn’t empty, an error message is printed to the screen:"
   ]
  },
  {
   "cell_type": "markdown",
   "metadata": {},
   "source": [
    "    Traceback (most recent call last):\n",
    "      File '<stdin>', line 1, in <module>\n",
    "    OSError: [Errno 39] Directory not empty: 'my_documents/bad_dir'"
   ]
  },
  {
   "cell_type": "markdown",
   "metadata": {},
   "source": [
    "#### Deleting Entire Directory Trees"
   ]
  },
  {
   "cell_type": "code",
   "execution_count": 7,
   "metadata": {},
   "outputs": [],
   "source": [
    "!mkdir ./data/test\n",
    "!touch ./data/test/lalal"
   ]
  },
  {
   "cell_type": "code",
   "execution_count": 8,
   "metadata": {},
   "outputs": [],
   "source": [
    "import shutil\n",
    "\n",
    "trash_dir = './data/test'\n",
    "\n",
    "try:\n",
    "    shutil.rmtree(trash_dir)\n",
    "except OSError as e:\n",
    "    print(f'Error: {trash_dir} : {e.strerror}')"
   ]
  },
  {
   "cell_type": "code",
   "execution_count": null,
   "metadata": {},
   "outputs": [],
   "source": [
    "import os\n",
    "\n",
    "for dirpath, dirnames, files in os.walk('.', topdown=False):\n",
    "    try:\n",
    "        os.rmdir(dirpath)\n",
    "    except OSError as ex:\n",
    "        pass"
   ]
  },
  {
   "cell_type": "markdown",
   "metadata": {},
   "source": [
    "<div class=\"table-responsive\">\n",
    "<table class=\"table table-hover\">\n",
    "<thead>\n",
    "<tr>\n",
    "<th>Function</th>\n",
    "<th>Description</th>\n",
    "</tr>\n",
    "</thead>\n",
    "<tbody>\n",
    "<tr>\n",
    "<td><code>os.remove()</code></td>\n",
    "<td>Deletes a file and does not delete directories</td>\n",
    "</tr>\n",
    "<tr>\n",
    "<td><code>os.unlink()</code></td>\n",
    "<td>Is identical to <code>os.remove()</code> and deletes a single file</td>\n",
    "</tr>\n",
    "<tr>\n",
    "<td><code>pathlib.Path.unlink()</code></td>\n",
    "<td>Deletes a file and cannot delete directories</td>\n",
    "</tr>\n",
    "<tr>\n",
    "<td><code>os.rmdir()</code></td>\n",
    "<td>Deletes an empty directory</td>\n",
    "</tr>\n",
    "<tr>\n",
    "<td><code>pathlib.Path.rmdir()</code></td>\n",
    "<td>Deletes an empty directory</td>\n",
    "</tr>\n",
    "<tr>\n",
    "<td><code>shutil.rmtree()</code></td>\n",
    "<td>Deletes entire directory tree and can be used to delete non-empty directories</td>\n",
    "</tr>\n",
    "</tbody>\n",
    "</table>\n",
    "</div>"
   ]
  },
  {
   "cell_type": "markdown",
   "metadata": {},
   "source": [
    "### Copying, Moving, and Renaming Files and Directories"
   ]
  },
  {
   "cell_type": "markdown",
   "metadata": {},
   "source": [
    "#### Copying Files in Python"
   ]
  },
  {
   "cell_type": "code",
   "execution_count": 9,
   "metadata": {},
   "outputs": [
    {
     "data": {
      "text/plain": [
       "'./data/example2.txt'"
      ]
     },
     "execution_count": 9,
     "metadata": {},
     "output_type": "execute_result"
    }
   ],
   "source": [
    "import shutil\n",
    "\n",
    "src = './data/example.txt'\n",
    "dst = './data/example2.txt'\n",
    "shutil.copy(src, dst)"
   ]
  },
  {
   "cell_type": "code",
   "execution_count": 11,
   "metadata": {},
   "outputs": [
    {
     "data": {
      "text/plain": [
       "'./data/example3.txt'"
      ]
     },
     "execution_count": 11,
     "metadata": {},
     "output_type": "execute_result"
    }
   ],
   "source": [
    "import shutil\n",
    "\n",
    "src = './data/example.txt'\n",
    "dst = './data/example3.txt'\n",
    "shutil.copy2(src, dst)"
   ]
  },
  {
   "cell_type": "markdown",
   "metadata": {},
   "source": [
    "#### Copying Directories"
   ]
  },
  {
   "cell_type": "code",
   "execution_count": null,
   "metadata": {},
   "outputs": [],
   "source": [
    "import shutil\n",
    "shutil.copytree('data_1', 'data1_backup')"
   ]
  },
  {
   "cell_type": "markdown",
   "metadata": {},
   "source": [
    "#### Moving Files and Directories"
   ]
  },
  {
   "cell_type": "code",
   "execution_count": null,
   "metadata": {},
   "outputs": [],
   "source": [
    "import shutil\n",
    "shutil.move('dir_1/', 'backup/')"
   ]
  },
  {
   "cell_type": "markdown",
   "metadata": {},
   "source": [
    "#### Renaming Files and Directories"
   ]
  },
  {
   "cell_type": "code",
   "execution_count": null,
   "metadata": {},
   "outputs": [],
   "source": [
    "os.rename('first.zip', 'first_01.zip')"
   ]
  },
  {
   "cell_type": "markdown",
   "metadata": {},
   "source": [
    "### Archiving"
   ]
  },
  {
   "cell_type": "markdown",
   "metadata": {},
   "source": [
    "#### ZIP Files"
   ]
  },
  {
   "cell_type": "markdown",
   "metadata": {},
   "source": [
    "[zipfile — Work with ZIP archives](https://docs.python.org/3/library/zipfile.html?highlight=zip#module-zipfile)"
   ]
  },
  {
   "cell_type": "markdown",
   "metadata": {},
   "source": [
    "#### TAR Archives"
   ]
  },
  {
   "cell_type": "markdown",
   "metadata": {},
   "source": [
    "[tarfile — Read and write tar archive files](https://docs.python.org/3/library/tarfile.html?highlight=tar#module-tarfile)"
   ]
  },
  {
   "cell_type": "markdown",
   "metadata": {},
   "source": [
    "#### An Easier Way of Creating Archives"
   ]
  },
  {
   "cell_type": "code",
   "execution_count": 13,
   "metadata": {},
   "outputs": [
    {
     "data": {
      "text/plain": [
       "'/home/jovyan/work/osnovni_tecaj/10_Interact_with_the_Operating_System/data/leto.tar'"
      ]
     },
     "execution_count": 13,
     "metadata": {},
     "output_type": "execute_result"
    }
   ],
   "source": [
    "import shutil\n",
    "\n",
    "# shutil.make_archive(base_name, format, root_dir)\n",
    "shutil.make_archive('./data/leto', 'tar', './data/leto')"
   ]
  },
  {
   "cell_type": "code",
   "execution_count": 14,
   "metadata": {},
   "outputs": [],
   "source": [
    "shutil.unpack_archive('./data/leto.tar', 'data/extract_dir/')"
   ]
  },
  {
   "cell_type": "markdown",
   "metadata": {},
   "source": [
    "## System monitoring"
   ]
  },
  {
   "cell_type": "markdown",
   "metadata": {},
   "source": [
    "[psutil documentation](https://psutil.readthedocs.io/en/latest/#)"
   ]
  },
  {
   "cell_type": "markdown",
   "metadata": {},
   "source": [
    "    pip install psutil"
   ]
  },
  {
   "cell_type": "code",
   "execution_count": 72,
   "metadata": {},
   "outputs": [],
   "source": [
    "import psutil"
   ]
  },
  {
   "cell_type": "code",
   "execution_count": 71,
   "metadata": {},
   "outputs": [
    {
     "data": {
      "text/plain": [
       "0.5"
      ]
     },
     "execution_count": 71,
     "metadata": {},
     "output_type": "execute_result"
    }
   ],
   "source": [
    "psutil.cpu_percent()"
   ]
  },
  {
   "cell_type": "code",
   "execution_count": 73,
   "metadata": {},
   "outputs": [],
   "source": [
    "import shutil\n",
    "du = shutil.disk_usage(\"/\")"
   ]
  },
  {
   "cell_type": "code",
   "execution_count": 74,
   "metadata": {},
   "outputs": [
    {
     "data": {
      "text/plain": [
       "usage(total=42004086784, used=15727157248, free=24112828416)"
      ]
     },
     "execution_count": 74,
     "metadata": {},
     "output_type": "execute_result"
    }
   ],
   "source": [
    "du"
   ]
  },
  {
   "cell_type": "code",
   "execution_count": 75,
   "metadata": {},
   "outputs": [
    {
     "data": {
      "text/plain": [
       "57.4059103819987"
      ]
     },
     "execution_count": 75,
     "metadata": {},
     "output_type": "execute_result"
    }
   ],
   "source": [
    "du.free /du.total *100"
   ]
  },
  {
   "cell_type": "markdown",
   "metadata": {},
   "source": [
    "Healthcheck script:"
   ]
  },
  {
   "cell_type": "code",
   "execution_count": 76,
   "metadata": {},
   "outputs": [
    {
     "name": "stdout",
     "output_type": "stream",
     "text": [
      "OK!\n"
     ]
    }
   ],
   "source": [
    "#!/usr/bin/env python3\n",
    "import shutil\n",
    "import psutil\n",
    "\n",
    "def check_disk_usage(disk):\n",
    "    du = shutil.disk_usage(disk)\n",
    "    free = du.free / du.total * 100\n",
    "    return free > 20\n",
    "\n",
    "def check_cpu_usage():\n",
    "    usage = psutil.cpu_percent(1)\n",
    "    return usage < 75\n",
    "\n",
    "if not check_disk_usage('/') or not check_cpu_usage():\n",
    "    print('ERROR!')\n",
    "else:\n",
    "    print('OK!')"
   ]
  },
  {
   "cell_type": "markdown",
   "metadata": {},
   "source": [
    "## Managing Processes"
   ]
  },
  {
   "cell_type": "markdown",
   "metadata": {},
   "source": [
    "### Environment Variables"
   ]
  },
  {
   "cell_type": "markdown",
   "metadata": {},
   "source": [
    "#### Use of os.environ to get access of environment variables"
   ]
  },
  {
   "cell_type": "code",
   "execution_count": 35,
   "metadata": {},
   "outputs": [
    {
     "data": {
      "text/plain": [
       "environ{'LC_ALL': 'en_US.UTF-8',\n",
       "        'LANG': 'en_US.UTF-8',\n",
       "        'HOSTNAME': '51ffdbd7dfe3',\n",
       "        'NB_UID': '1000',\n",
       "        'CONDA_DIR': '/opt/conda',\n",
       "        'CONDA_VERSION': '4.7.12',\n",
       "        'PWD': '/home/jovyan',\n",
       "        'HOME': '/home/jovyan',\n",
       "        'MINICONDA_MD5': '1c945f2b3335c7b2b15130b1b2dc5cf4',\n",
       "        'DEBIAN_FRONTEND': 'noninteractive',\n",
       "        'NB_USER': 'jovyan',\n",
       "        'SHELL': '/bin/bash',\n",
       "        'SHLVL': '0',\n",
       "        'LANGUAGE': 'en_US.UTF-8',\n",
       "        'XDG_CACHE_HOME': '/home/jovyan/.cache/',\n",
       "        'NB_GID': '100',\n",
       "        'PATH': '/opt/conda/bin:/usr/local/sbin:/usr/local/bin:/usr/sbin:/usr/bin:/sbin:/bin',\n",
       "        'MINICONDA_VERSION': '4.7.10',\n",
       "        'KERNEL_LAUNCH_TIMEOUT': '40',\n",
       "        'JPY_PARENT_PID': '6',\n",
       "        'TERM': 'xterm-color',\n",
       "        'CLICOLOR': '1',\n",
       "        'PAGER': 'cat',\n",
       "        'GIT_PAGER': 'cat',\n",
       "        'MPLBACKEND': 'module://ipykernel.pylab.backend_inline'}"
      ]
     },
     "execution_count": 35,
     "metadata": {},
     "output_type": "execute_result"
    }
   ],
   "source": [
    "os.environ"
   ]
  },
  {
   "cell_type": "markdown",
   "metadata": {},
   "source": [
    "#### Accessing a particular environment variable"
   ]
  },
  {
   "cell_type": "code",
   "execution_count": 36,
   "metadata": {},
   "outputs": [],
   "source": [
    "# Get the value of \n",
    "# 'HOME' environment variable \n",
    "home = os.environ['HOME'] "
   ]
  },
  {
   "cell_type": "code",
   "execution_count": 37,
   "metadata": {},
   "outputs": [
    {
     "data": {
      "text/plain": [
       "'/home/jovyan'"
      ]
     },
     "execution_count": 37,
     "metadata": {},
     "output_type": "execute_result"
    }
   ],
   "source": [
    "home"
   ]
  },
  {
   "cell_type": "code",
   "execution_count": 39,
   "metadata": {},
   "outputs": [
    {
     "data": {
      "text/plain": [
       "'/home/jovyan'"
      ]
     },
     "execution_count": 39,
     "metadata": {},
     "output_type": "execute_result"
    }
   ],
   "source": [
    "# Get the value of \n",
    "# 'HOME' environment variable \n",
    "# using get operation of dictionary \n",
    "os.environ.get('HOME') "
   ]
  },
  {
   "cell_type": "code",
   "execution_count": 42,
   "metadata": {},
   "outputs": [
    {
     "data": {
      "text/plain": [
       "'/home'"
      ]
     },
     "execution_count": 42,
     "metadata": {},
     "output_type": "execute_result"
    }
   ],
   "source": [
    "#  Handling error while Accessing a environment variable which does not exists\n",
    "os.environ.get('HOMEE', '/home') "
   ]
  },
  {
   "cell_type": "markdown",
   "metadata": {},
   "source": [
    "#### Modifying a environment variable"
   ]
  },
  {
   "cell_type": "code",
   "execution_count": 60,
   "metadata": {},
   "outputs": [],
   "source": [
    "os.environ['TEST'] = str('lala')"
   ]
  },
  {
   "cell_type": "code",
   "execution_count": 61,
   "metadata": {},
   "outputs": [
    {
     "data": {
      "text/plain": [
       "'lala'"
      ]
     },
     "execution_count": 61,
     "metadata": {},
     "output_type": "execute_result"
    }
   ],
   "source": [
    "os.environ.get('TEST', 'Not Set')"
   ]
  },
  {
   "cell_type": "code",
   "execution_count": 62,
   "metadata": {},
   "outputs": [
    {
     "name": "stdout",
     "output_type": "stream",
     "text": [
      "lala\r\n"
     ]
    }
   ],
   "source": [
    "!echo $TEST"
   ]
  },
  {
   "cell_type": "markdown",
   "metadata": {},
   "source": [
    "## Python Subprocesses (Executing External Commands)"
   ]
  },
  {
   "cell_type": "markdown",
   "metadata": {},
   "source": [
    "[subprocess — Subprocess management](https://docs.python.org/3/library/subprocess.html)"
   ]
  },
  {
   "cell_type": "markdown",
   "metadata": {},
   "source": [
    "### Running External Command"
   ]
  },
  {
   "cell_type": "code",
   "execution_count": 1,
   "metadata": {},
   "outputs": [
    {
     "name": "stdout",
     "output_type": "stream",
     "text": [
      "returncode: 0\n"
     ]
    }
   ],
   "source": [
    "#subprocess_os_system.py\n",
    "import subprocess\n",
    "completed = subprocess.run(['ls', '-l'])\n",
    "print('returncode:', completed.returncode)"
   ]
  },
  {
   "cell_type": "code",
   "execution_count": 2,
   "metadata": {},
   "outputs": [
    {
     "name": "stdout",
     "output_type": "stream",
     "text": [
      "returncode: 0\n"
     ]
    }
   ],
   "source": [
    "#subprocess_shell_variables.py\n",
    "import subprocess\n",
    "completed = subprocess.run('echo $HOME', shell=True)\n",
    "print('returncode:', completed.returncode)"
   ]
  },
  {
   "cell_type": "markdown",
   "metadata": {},
   "source": [
    "### Error Handling"
   ]
  },
  {
   "cell_type": "code",
   "execution_count": 2,
   "metadata": {},
   "outputs": [
    {
     "name": "stdout",
     "output_type": "stream",
     "text": [
      "ERROR: Command '['false']' returned non-zero exit status 1.\n"
     ]
    }
   ],
   "source": [
    "#subprocess_run_check.py\n",
    "import subprocess\n",
    "\n",
    "try:\n",
    "    subprocess.run(['false'], check=True)\n",
    "except subprocess.CalledProcessError as err:\n",
    "    print('ERROR:', err)"
   ]
  },
  {
   "cell_type": "markdown",
   "metadata": {},
   "source": [
    "### Capturing Output"
   ]
  },
  {
   "cell_type": "code",
   "execution_count": 3,
   "metadata": {},
   "outputs": [],
   "source": [
    "completed = subprocess.run(['ls', '-l'], capture_output=True)"
   ]
  },
  {
   "cell_type": "code",
   "execution_count": 4,
   "metadata": {},
   "outputs": [
    {
     "data": {
      "text/plain": [
       "CompletedProcess(args=['ls', '-l'], returncode=0, stdout=b'total 149\\n-rwxrwx---+ 1 leon1 leon1 79421 Dec 27 14:37 Del_05_Interact_with_the_Operating_System.ipynb\\n-rwxrwx---+ 1 leon1 leon1 51996 Dec  7 12:02 Del_05_Interakcija_SSH_Telnet.ipynb\\n-rwxrwx---+ 1 leon1 leon1  2197 Dec  7 12:02 Del_05_Paths_and_files.ipynb\\n-rwxrwx---+ 1 leon1 leon1    47 Dec 27 12:01 README.md\\ndrwxrwx---+ 1 leon1 leon1     0 Dec 27 12:08 data\\ndrwxrwx---+ 1 leon1 leon1     0 Dec 27 12:08 skripte\\ndrwxrwx---+ 1 leon1 leon1     0 Dec 27 14:34 skripte_ssh\\n', stderr=b'')"
      ]
     },
     "execution_count": 4,
     "metadata": {},
     "output_type": "execute_result"
    }
   ],
   "source": [
    "completed"
   ]
  },
  {
   "cell_type": "code",
   "execution_count": 5,
   "metadata": {},
   "outputs": [
    {
     "data": {
      "text/plain": [
       "0"
      ]
     },
     "execution_count": 5,
     "metadata": {},
     "output_type": "execute_result"
    }
   ],
   "source": [
    "completed.returncode"
   ]
  },
  {
   "cell_type": "code",
   "execution_count": 6,
   "metadata": {},
   "outputs": [
    {
     "data": {
      "text/plain": [
       "b'total 149\\n-rwxrwx---+ 1 leon1 leon1 79421 Dec 27 14:37 Del_05_Interact_with_the_Operating_System.ipynb\\n-rwxrwx---+ 1 leon1 leon1 51996 Dec  7 12:02 Del_05_Interakcija_SSH_Telnet.ipynb\\n-rwxrwx---+ 1 leon1 leon1  2197 Dec  7 12:02 Del_05_Paths_and_files.ipynb\\n-rwxrwx---+ 1 leon1 leon1    47 Dec 27 12:01 README.md\\ndrwxrwx---+ 1 leon1 leon1     0 Dec 27 12:08 data\\ndrwxrwx---+ 1 leon1 leon1     0 Dec 27 12:08 skripte\\ndrwxrwx---+ 1 leon1 leon1     0 Dec 27 14:34 skripte_ssh\\n'"
      ]
     },
     "execution_count": 6,
     "metadata": {},
     "output_type": "execute_result"
    }
   ],
   "source": [
    "completed.stdout"
   ]
  },
  {
   "cell_type": "code",
   "execution_count": 7,
   "metadata": {},
   "outputs": [],
   "source": [
    "out_text = completed.stdout.decode('utf-8')"
   ]
  },
  {
   "cell_type": "code",
   "execution_count": 8,
   "metadata": {},
   "outputs": [
    {
     "name": "stdout",
     "output_type": "stream",
     "text": [
      "total 149\n",
      "-rwxrwx---+ 1 leon1 leon1 79421 Dec 27 14:37 Del_05_Interact_with_the_Operating_System.ipynb\n",
      "-rwxrwx---+ 1 leon1 leon1 51996 Dec  7 12:02 Del_05_Interakcija_SSH_Telnet.ipynb\n",
      "-rwxrwx---+ 1 leon1 leon1  2197 Dec  7 12:02 Del_05_Paths_and_files.ipynb\n",
      "-rwxrwx---+ 1 leon1 leon1    47 Dec 27 12:01 README.md\n",
      "drwxrwx---+ 1 leon1 leon1     0 Dec 27 12:08 data\n",
      "drwxrwx---+ 1 leon1 leon1     0 Dec 27 12:08 skripte\n",
      "drwxrwx---+ 1 leon1 leon1     0 Dec 27 14:34 skripte_ssh\n",
      "\n"
     ]
    }
   ],
   "source": [
    "print(out_text)"
   ]
  },
  {
   "cell_type": "code",
   "execution_count": 9,
   "metadata": {},
   "outputs": [
    {
     "data": {
      "text/plain": [
       "b''"
      ]
     },
     "execution_count": 9,
     "metadata": {},
     "output_type": "execute_result"
    }
   ],
   "source": [
    "completed.stderr"
   ]
  },
  {
   "cell_type": "code",
   "execution_count": 10,
   "metadata": {},
   "outputs": [
    {
     "data": {
      "text/plain": [
       "CompletedProcess(args=['ls', '-l'], returncode=0, stdout='total 149\\n-rwxrwx---+ 1 leon1 leon1 79421 Dec 27 14:37 Del_05_Interact_with_the_Operating_System.ipynb\\n-rwxrwx---+ 1 leon1 leon1 51996 Dec  7 12:02 Del_05_Interakcija_SSH_Telnet.ipynb\\n-rwxrwx---+ 1 leon1 leon1  2197 Dec  7 12:02 Del_05_Paths_and_files.ipynb\\n-rwxrwx---+ 1 leon1 leon1    47 Dec 27 12:01 README.md\\ndrwxrwx---+ 1 leon1 leon1     0 Dec 27 12:08 data\\ndrwxrwx---+ 1 leon1 leon1     0 Dec 27 12:08 skripte\\ndrwxrwx---+ 1 leon1 leon1     0 Dec 27 14:34 skripte_ssh\\n', stderr='')"
      ]
     },
     "execution_count": 10,
     "metadata": {},
     "output_type": "execute_result"
    }
   ],
   "source": [
    "subprocess.run(['ls', '-l'], capture_output=True, text=True)"
   ]
  },
  {
   "cell_type": "markdown",
   "metadata": {},
   "source": [
    "### Timeouts"
   ]
  },
  {
   "cell_type": "code",
   "execution_count": 11,
   "metadata": {},
   "outputs": [],
   "source": [
    "try:\n",
    "    out_bytes = subprocess.run(['ls'], timeout=5)\n",
    "except subprocess.TimeoutExpired as e:\n",
    "    print('error', e)"
   ]
  },
  {
   "cell_type": "code",
   "execution_count": 12,
   "metadata": {},
   "outputs": [
    {
     "name": "stdout",
     "output_type": "stream",
     "text": [
      "error: Command '['sleep', '6']' timed out after 2.0 seconds\n"
     ]
    }
   ],
   "source": [
    "try:\n",
    "    out_bytes = subprocess.run(['sleep', '6'], timeout=2)\n",
    "except subprocess.TimeoutExpired as e:\n",
    "    print('error:', e)"
   ]
  },
  {
   "cell_type": "markdown",
   "metadata": {},
   "source": [
    "### Suppressing Output"
   ]
  },
  {
   "cell_type": "code",
   "execution_count": null,
   "metadata": {},
   "outputs": [],
   "source": [
    "completed = subprocess.run('cat example01.py', \n",
    "        shell=True,\n",
    "        stdout=subprocess.DEVNULL,\n",
    "        stderr=subprocess.DEVNULL,\n",
    "    )"
   ]
  },
  {
   "cell_type": "markdown",
   "metadata": {},
   "source": [
    "## Vaja 1"
   ]
  },
  {
   "cell_type": "code",
   "execution_count": 13,
   "metadata": {},
   "outputs": [],
   "source": [
    "import subprocess\n",
    "completed = subprocess.run(['ls', '-lah','/'], capture_output=True)"
   ]
  },
  {
   "cell_type": "code",
   "execution_count": 14,
   "metadata": {},
   "outputs": [],
   "source": [
    "text = completed.stdout.decode('utf-8')"
   ]
  },
  {
   "cell_type": "code",
   "execution_count": 15,
   "metadata": {},
   "outputs": [],
   "source": [
    "names = [line.split()[8] for line in text.splitlines()[1:] if not line.startswith('.')]"
   ]
  },
  {
   "cell_type": "code",
   "execution_count": 16,
   "metadata": {},
   "outputs": [],
   "source": [
    "final_names = [name for name in names if not name.startswith('.')]"
   ]
  },
  {
   "cell_type": "code",
   "execution_count": 17,
   "metadata": {},
   "outputs": [
    {
     "name": "stdout",
     "output_type": "stream",
     "text": [
      "['Cygwin-Terminal.ico', 'Cygwin.bat', 'Cygwin.ico', 'bin', 'cygdrive', 'dev', 'etc', 'home', 'lib', 'proc', 'sbin', 'tmp', 'usr', 'var']\n"
     ]
    }
   ],
   "source": [
    "print(final_names)"
   ]
  }
 ],
 "metadata": {
  "kernelspec": {
   "display_name": "Python 3 (ipykernel)",
   "language": "python",
   "name": "python3"
  },
  "language_info": {
   "codemirror_mode": {
    "name": "ipython",
    "version": 3
   },
   "file_extension": ".py",
   "mimetype": "text/x-python",
   "name": "python",
   "nbconvert_exporter": "python",
   "pygments_lexer": "ipython3",
   "version": "3.9.2"
  }
 },
 "nbformat": 4,
 "nbformat_minor": 2
}
