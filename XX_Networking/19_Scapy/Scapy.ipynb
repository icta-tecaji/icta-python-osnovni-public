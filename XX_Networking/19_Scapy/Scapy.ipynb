{
 "cells": [
  {
   "cell_type": "markdown",
   "id": "21f6cd11",
   "metadata": {},
   "source": [
    "# Scapy"
   ]
  },
  {
   "cell_type": "markdown",
   "id": "8879a6c5",
   "metadata": {},
   "source": [
    "Scapy je python program, ki omogoča sniff-ing, disekcijo, kreiranje in pošiljanje paketkov."
   ]
  },
  {
   "cell_type": "markdown",
   "id": "ffa21881",
   "metadata": {},
   "source": [
    "## Installing"
   ]
  },
  {
   "cell_type": "markdown",
   "id": "7973e054",
   "metadata": {},
   "source": [
    "https://scapy.readthedocs.io/en/latest/installation.html#installing-scapy-v2-x"
   ]
  },
  {
   "cell_type": "markdown",
   "id": "741811fc",
   "metadata": {},
   "source": [
    "$ pip install scapy"
   ]
  },
  {
   "cell_type": "markdown",
   "id": "4cacd8d1",
   "metadata": {},
   "source": [
    "Ko imamo inštaliran Scapy ga lahko uporabimo v python skriptah oziroma zaženemo v terminalu, kar nam odpre interaktivni terminal. Če želimo tudi pošiljati paketke moramo zagnati terminal z sudo privilegiji.\n",
    "\n",
    "$ scapy\n",
    "\n",
    "$ sudo scapy"
   ]
  },
  {
   "cell_type": "markdown",
   "id": "ab144cb2",
   "metadata": {},
   "source": [
    "---"
   ]
  },
  {
   "cell_type": "markdown",
   "id": "23bd84ca",
   "metadata": {},
   "source": [
    "Za začetek lahko preverimo kateri interface bo scapy po default uporabil:"
   ]
  },
  {
   "cell_type": "markdown",
   "id": "51bae109",
   "metadata": {},
   "source": [
    "```\n",
    ">>> $ conf.iface\n",
    "```"
   ]
  },
  {
   "cell_type": "markdown",
   "id": "81c7b4e6",
   "metadata": {},
   "source": [
    "Če želimo uporabiti drugega lahko to spremenimo z ukazom:\n",
    "```\n",
    ">>> conf.iface=\"en3\"\n",
    "```"
   ]
  },
  {
   "cell_type": "markdown",
   "id": "3662a9a7",
   "metadata": {},
   "source": [
    "---"
   ]
  },
  {
   "cell_type": "markdown",
   "id": "a030812f",
   "metadata": {},
   "source": [
    "**Permission error** oziroma **No module named 'scapy'**.\n",
    ">The PYTHON sys.path variable was different between regular and SUDO use (and SUDO is required for scapy module).\n",
    "There were a couple different approaches I found to solve it: This ended up solving it with the .bashrc suggestion. Essentially, the python module paths needed to be added to the sudo user or environment. Good luck to anybody else who has this issue!\n",
    "\n",
    "* https://askubuntu.com/questions/1243933/scapy-module-not-found-when-running-python-script-with-sudo\n",
    "* https://askubuntu.com/questions/57915/environment-variables-when-run-with-sudo/713137#713137\n",
    "* https://stackoverflow.com/questions/7969540/pythonpath-not-working-for-sudo-on-gnu-linux-works-for-root"
   ]
  },
  {
   "cell_type": "markdown",
   "id": "9e65853b",
   "metadata": {},
   "source": [
    "Kar je men začel delat je:\n",
    "```\n",
    "$ sudo -E env PATH=$PATH PYTHONPATH=$PYTHONPATH scapy\n",
    "```"
   ]
  },
  {
   "cell_type": "markdown",
   "id": "11451a59",
   "metadata": {},
   "source": [
    "## Sniffing - from terminal"
   ]
  },
  {
   "cell_type": "markdown",
   "id": "2b0b0f49",
   "metadata": {},
   "source": [
    "Začnimo s preprostim sniffingom. V terminalu to dosežemo s sledečimi ukazi:\n",
    "\n",
    "```\n",
    ">>> pkt = sniff(count=1)\n",
    "\n",
    ">>> type(pkt)\n",
    "\n",
    ">>> pkt\n",
    "\n",
    ">>> pkt[0].summary()\n",
    "\n",
    "```"
   ]
  },
  {
   "cell_type": "markdown",
   "id": "39b5f161",
   "metadata": {},
   "source": [
    "V našem primeru preprosto sniff-amo 1 paketek. Funkcija nam vrne list sniffanih paketkov in z **summary()** metodo dobimo okviren opis paketka."
   ]
  },
  {
   "cell_type": "markdown",
   "id": "e1dece18",
   "metadata": {},
   "source": [
    "Oziroma, če želimo zajeti več paketkov naenkrat in izpisati okvirne informacije:\n",
    "\n",
    "```\n",
    ">>> pkts = sniff(count=10)\n",
    ">>> pkts.summary()\n",
    "```"
   ]
  },
  {
   "cell_type": "code",
   "execution_count": null,
   "id": "3c4c26a2",
   "metadata": {},
   "outputs": [],
   "source": []
  },
  {
   "cell_type": "markdown",
   "id": "2857a56d",
   "metadata": {},
   "source": [
    "Scapy paketke prikazuje v nested dictionary strukturi, kjer je vsaka višja plast dictionary znotraj prejšnje plasti. Vsako polje, kot naprimer **IP dst**, je sestavljeno iz **key:value** para. Vrednosti so mutable kar pomeni, da jih lahko poljubno prepišemo."
   ]
  },
  {
   "cell_type": "markdown",
   "id": "2c58e442",
   "metadata": {},
   "source": [
    "---"
   ]
  },
  {
   "cell_type": "markdown",
   "id": "a8429a2a",
   "metadata": {},
   "source": [
    "Z metodo **sumary()** dobimo le okvirne informacije. Če želimo bolj natančen izpis paketka lahko uporabimo **show()** metodo:\n",
    "\n",
    "```\n",
    ">>> pkt[0].show()\n",
    "```"
   ]
  },
  {
   "cell_type": "markdown",
   "id": "51c0f85c",
   "metadata": {},
   "source": [
    "Premikanje po paketku je čisto preprosto:\n",
    "\n",
    "```\n",
    ">>> pkt[0][IPv6]\n",
    ">>> pkt[0][\"IPv6\"]\n",
    ">>> pkt[0][IPv6].summary()\n",
    ">>> pkt[0][IPv6].show()\n",
    "```"
   ]
  },
  {
   "cell_type": "markdown",
   "id": "d36d7589",
   "metadata": {},
   "source": [
    "Če želimo videti kako bi izgledala syntaxa, da ustvarimo ta specifični paketek, lahko uporabimo **command()** metodo.\n",
    "\n",
    "```\n",
    ">>> pkts[0].command()\n",
    "```"
   ]
  },
  {
   "cell_type": "markdown",
   "id": "038d4c4b",
   "metadata": {},
   "source": [
    "Da pridobimo specifično vrednost posameznega layerja:\n",
    "\n",
    "```\n",
    ">>> pkt[0][IPv6].src\n",
    "```"
   ]
  },
  {
   "cell_type": "markdown",
   "id": "5ff2de9b",
   "metadata": {},
   "source": [
    "---"
   ]
  },
  {
   "cell_type": "markdown",
   "id": "be3e55de",
   "metadata": {},
   "source": [
    "Znotraj scapy terminala lahko tudi pišemo python kodo:\n",
    "\n",
    "```\n",
    ">>> pkts = sniff(count=20)\n",
    ">>> for pkt in pkts:\n",
    "...:    if pkt.haslayer(IPv6):\n",
    "...:        print(pkt[IPv6].src)\n",
    "2a00:1a20:2900:140a:8abc:7bd8:2ee3:7910\n",
    "2600:1901:1:c36::\n",
    "2a00:1a20:2900:140a:8abc:7bd8:2ee3:7910\n",
    "2600:1901:1:c36::\n",
    "2a00:1a20:2900:140a:8abc:7bd8:2ee3:7910\n",
    "2600:1901:1:c36::\n",
    "2a00:1a20:2900:140a:8abc:7bd8:2ee3:7910\n",
    "2a00:1a20:2900:140a:8abc:7bd8:2ee3:7910\n",
    "2a00:1a20:2900:140a:8abc:7bd8:2ee3:7910\n",
    "2a03:2880:f007:1:face:b00c:0:1\n",
    "2a03:2880:f007:1:face:b00c:0:1\n",
    "2a00:1a20:2900:140a:8abc:7bd8:2ee3:7910\n",
    "2a03:2880:f007:1:face:b00c:0:1\n",
    "2a03:2880:f007:1:face:b00c:0:1\n",
    "2a00:1a20:2900:140a:8abc:7bd8:2ee3:7910\n",
    "2a03:2880:f007:1:face:b00c:0:1\n",
    "2a00:1a20:2900:140a:8abc:7bd8:2ee3:7910\n",
    "2a00:1a20:2900:140a:8abc:7bd8:2ee3:7910           \n",
    "```"
   ]
  },
  {
   "cell_type": "markdown",
   "id": "88719b70",
   "metadata": {},
   "source": [
    "Malo bolj natančno si poglejmo **sniff()** metodo.\n",
    "\n",
    "* **count** - povemo koliko paktekov naj zajeme. Če nastavimo vrednost 0 potem konstantno spremljamo promet\n",
    "* **iface** - pove kateri interface naj spremlja. Če tega ne nastavimo bo vzel privzeti interfrace\n",
    "* **prn** - funkcija katero naj izvede ob vsakem zajemu novega paketka. Primer: lambda x: x.summary()\n",
    "* **store** - nam pove ali naj prejete paketke shranimo ali ne. V kolikor jih ne želimo shraniti nastavimo na 0 \n",
    "* **timeout** - pove koliko sekund naj spremlja promet\n",
    "* **filter** - sprejme BPF Syntax s katero lahko filtriramo prejete paketke... https://biot.com/capstats/bpf.html\n"
   ]
  },
  {
   "cell_type": "code",
   "execution_count": null,
   "id": "ed628dd2",
   "metadata": {},
   "outputs": [],
   "source": []
  },
  {
   "cell_type": "markdown",
   "id": "719a4c6b",
   "metadata": {},
   "source": [
    "## Building a packet"
   ]
  },
  {
   "cell_type": "markdown",
   "id": "1a7521eb",
   "metadata": {},
   "source": [
    "Za primer vzemimo gradnjo ARP paketka \n",
    "* https://www.javatpoint.com/arp-packet-format\n",
    "* https://www.techtarget.com/searchnetworking/definition/Address-Resolution-Protocol-ARP\n",
    "> When a new computer joins a LAN, it is assigned a unique IP address to use for identification and communication. When an incoming packet destined for a host machine on a particular LAN arrives at a gateway, the gateway asks the ARP program to find a MAC address that matches the IP address. A table called the ARP cache maintains a record of each IP address and its corresponding MAC address.\n",
    "\n"
   ]
  },
  {
   "cell_type": "markdown",
   "id": "9a9d2bfb",
   "metadata": {},
   "source": [
    "Za pomoč preprosto prvo zajamimo ARP paketek in nato z metodo **command()** izpišimo kako zgleda izgradnja paketka."
   ]
  },
  {
   "cell_type": "markdown",
   "id": "3ce103dd",
   "metadata": {},
   "source": [
    "```\n",
    ">>> pkts = sniff(count=5, filter=\"arp\", prn=lambda x: x.summary())\n",
    "\n",
    "Ether / ARP who has 192.168.8.145 says 192.168.8.1\n",
    "Ether / ARP is at 80:30:49:e5:6d:c5 says 192.168.8.145\n",
    "Ether / ARP who has 192.168.8.147 says 192.168.8.1 / Padding\n",
    "Ether / ARP who has 192.168.8.145 says 192.168.8.1\n",
    "Ether / ARP is at 80:30:49:e5:6d:c5 says 192.168.8.145\n",
    "```"
   ]
  },
  {
   "cell_type": "markdown",
   "id": "be8a8e9f",
   "metadata": {},
   "source": [
    "S pomočjo **show()** komande vidimo kako je zgrajen paketek. S pomočjo **command()** metode vidimo, kako izgleda syntaxa, da zgradimo tak paketek."
   ]
  },
  {
   "cell_type": "markdown",
   "id": "08da088e",
   "metadata": {},
   "source": [
    "```\n",
    ">>> pkts[0].show()\n",
    "###[ Ethernet ]### \n",
    "  dst       = 80:30:49:e5:6d:c5\n",
    "  src       = ac:92:32:e8:33:f5\n",
    "  type      = ARP\n",
    "###[ ARP ]### \n",
    "     hwtype    = 0x1\n",
    "     ptype     = IPv4\n",
    "     hwlen     = 6\n",
    "     plen      = 4\n",
    "     op        = who-has\n",
    "     hwsrc     = ac:92:32:e8:33:f5\n",
    "     psrc      = 192.168.8.1\n",
    "     hwdst     = 00:00:00:00:00:00\n",
    "     pdst      = 192.168.8.145\n",
    "\n",
    ">>> pkts[0].command()\n",
    "\"Ether(dst='80:30:49:e5:6d:c5', src='ac:92:32:e8:33:f5', type=2054)/ARP(hwtype=1, ptype=2048, hwlen=6, plen=4, op=1, hwsrc='ac:92:32:e8:33:f5', psrc='192.168.8.1', hwdst='00:00:00:00:00:00', pdst='192.168.8.145')\"\n",
    "```"
   ]
  },
  {
   "cell_type": "markdown",
   "id": "dd109923",
   "metadata": {},
   "source": [
    "Kakor vidimo je ARP paketek sestavljen iz dveh plasti. S pomočjo funkcije **ls(LAYER)** lahko vidimo, katera polja potrebujemo izpolniti za kateri layer."
   ]
  },
  {
   "cell_type": "markdown",
   "id": "a4760ae3",
   "metadata": {},
   "source": [
    "```\n",
    ">>> ls(Ether)\n",
    "dst        : DestMACField                        = ('None')\n",
    "src        : SourceMACField                      = ('None')\n",
    "type       : XShortEnumField                     = ('36864')\n",
    ">>> ls(ARP)\n",
    "hwtype     : XShortField                         = ('1')\n",
    "ptype      : XShortEnumField                     = ('2048')\n",
    "hwlen      : FieldLenField                       = ('None')\n",
    "plen       : FieldLenField                       = ('None')\n",
    "op         : ShortEnumField                      = ('1')\n",
    "hwsrc      : MultipleTypeField (SourceMACField, StrFixedLenField) = ('None')\n",
    "psrc       : MultipleTypeField (SourceIPField, SourceIP6Field, StrFixedLenField) = ('None')\n",
    "hwdst      : MultipleTypeField (MACField, StrFixedLenField) = ('None')\n",
    "pdst       : MultipleTypeField (IPField, IP6Field, StrFixedLenField) = ('None')\n",
    "```"
   ]
  },
  {
   "cell_type": "markdown",
   "id": "7a87ee8f",
   "metadata": {},
   "source": [
    "Paket lahko sedaj sestavimo na sledeč način:\n",
    "\n",
    "```\n",
    ">>> arppkt = Ether()/ARP()\n",
    ">>> arppkt[ARP].hwsrc = \"ac:92:32:e8:33:f5\"\n",
    ">>> arppkt[ARP].pdst = \"192.168.8.145\"\n",
    ">>> arppkt[Ether].dst = \"80:30:49:e5:6d:c5\"\n",
    ">>> arppkt\n",
    "<Ether  dst=80:30:49:e5:6d:c5 type=ARP |<ARP  hwsrc=ac:92:32:e8:33:f5 pdst=192.168.8.145 |>>\n",
    "```"
   ]
  },
  {
   "cell_type": "markdown",
   "id": "d995ea35",
   "metadata": {},
   "source": [
    "Isto lahko dosežemo v eni vrstici, kjer vrednosti vsake plasti podamo kot argumente:\n",
    "\n",
    "```\n",
    ">>> arppkt = Ether(dst='80:30:49:e5:6d:c5')/ARP(hwsrc='ac:92:32:e8:33:f5', pdst='192.168.8.145')\n",
    ">>> arppkt\n",
    "<Ether  dst=80:30:49:e5:6d:c5 type=ARP |<ARP  hwsrc=ac:92:32:e8:33:f5 pdst=192.168.8.145 |>>\n",
    "```"
   ]
  },
  {
   "cell_type": "markdown",
   "id": "473220dd",
   "metadata": {},
   "source": [
    "Layer-s se gradi enega na drugemu z uporabo **/** operatorja. Če tekom grajenja paketka pozabimo na plast, jo lahko kasneje preprosto dodamo:\n",
    "\n",
    "```\n",
    ">>> tcppkt = Ether()/IP()\n",
    ">>> tcppkt\n",
    "<Ether  type=IPv4 |<IP  |>>\n",
    ">>> tcppkt = tcppkt/TCP()\n",
    ">>> tcppkt\n",
    "<Ether  type=IPv4 |<IP  frag=0 proto=tcp |<TCP  |>>>\n",
    "```"
   ]
  },
  {
   "cell_type": "markdown",
   "id": "3464959d",
   "metadata": {},
   "source": [
    "### Pošiljanje paketka"
   ]
  },
  {
   "cell_type": "markdown",
   "id": "3345f8da",
   "metadata": {},
   "source": [
    "Sedaj pošljimo naš zgrajen ARP paket. Ker je ARP L2 protokol bomo uporabili **sendp()** metodo. Za IP, IPv6 bi uporabili **send()** metodo."
   ]
  },
  {
   "cell_type": "markdown",
   "id": "bae89903",
   "metadata": {},
   "source": [
    "```\n",
    ">>> arppkt\n",
    "<Ether  dst=80:30:49:e5:6d:c5 type=ARP |<ARP  hwsrc=ac:92:32:e8:33:f5 pdst=192.168.8.145 |>>\n",
    ">>> sendp(arppkt)\n",
    ".\n",
    "Sent 1 packets.\n",
    ">>> \n",
    "```"
   ]
  },
  {
   "cell_type": "markdown",
   "id": "39e12ffa",
   "metadata": {},
   "source": [
    "Glavni parametri **send** in **sendp** metode so:\n",
    "* **iface** - interface iz katerega se paketki pošljejo\n",
    "* **inter** - koliko sekund naj mine med pošiljanjem dveh paketkov\n",
    "* **loop** - paketki se pošiljajo neskončno, če vrednost ni 0\n",
    "* **pkts** - lahko je en paketek, lahko je list večih paketkov"
   ]
  },
  {
   "cell_type": "markdown",
   "id": "46aa3e91",
   "metadata": {},
   "source": [
    "## Ping"
   ]
  },
  {
   "cell_type": "markdown",
   "id": "10f0d3be",
   "metadata": {},
   "source": [
    "Kadar pričakujemo odgovor se uporablja **sr()** oziroma **srp()** metoda (send/recieve). *P* ponovno pomeni, da pošiljamo na L2, če ne na L3. Dodatno imamo metodi **sr1()** in **srp1()**, ki končata s poslušanjem potem, ko prejmeta 1 response. Drugi metodu konstantno poslušata za reply."
   ]
  },
  {
   "cell_type": "markdown",
   "id": "71afef9e",
   "metadata": {},
   "source": [
    "V primeru ARP smo sami definirali dst in src, vendar pa lahko to prepustimo Scapy-ju. Zgradili bomo le IP in ICMP layer."
   ]
  },
  {
   "cell_type": "markdown",
   "id": "d1561f78",
   "metadata": {},
   "source": [
    "```\n",
    ">>> pingpkt = IP(dst=\"8.8.8.8\")/ICMP()\n",
    ">>> pingpkt.show()\n",
    "###[ IP ]### \n",
    "  version   = 4\n",
    "  ihl       = None\n",
    "  tos       = 0x0\n",
    "  len       = None\n",
    "  id        = 1\n",
    "  flags     = \n",
    "  frag      = 0\n",
    "  ttl       = 64\n",
    "  proto     = icmp\n",
    "  chksum    = None\n",
    "  src       = 192.168.8.145\n",
    "  dst       = 8.8.8.8\n",
    "  \\options   \\\n",
    "###[ ICMP ]### \n",
    "     type      = echo-request\n",
    "     code      = 0\n",
    "     chksum    = None\n",
    "     id        = 0x0\n",
    "     seq       = 0x0\n",
    "     unused    = ''\n",
    "\n",
    ">>> \n",
    "```"
   ]
  },
  {
   "cell_type": "markdown",
   "id": "dd62bfe9",
   "metadata": {},
   "source": [
    "Za začetek bomo vzeli metodo **sr1()** ker želimo le en reply."
   ]
  },
  {
   "cell_type": "markdown",
   "id": "82b5c11b",
   "metadata": {},
   "source": [
    "```\n",
    ">>> response = sr1(pingpkt)\n",
    "Begin emission:\n",
    "Finished sending 1 packets.\n",
    "..*\n",
    "Received 3 packets, got 1 answers, remaining 0 packets\n",
    ">>> response.show()\n",
    "###[ IP ]### \n",
    "  version   = 4\n",
    "  ihl       = 5\n",
    "  tos       = 0x0\n",
    "  len       = 28\n",
    "  id        = 0\n",
    "  flags     = \n",
    "  frag      = 0\n",
    "  ttl       = 112\n",
    "  proto     = icmp\n",
    "  chksum    = 0x7198\n",
    "  src       = 8.8.8.8\n",
    "  dst       = 192.168.8.145\n",
    "  \\options   \\\n",
    "###[ ICMP ]### \n",
    "     type      = echo-reply\n",
    "     code      = 0\n",
    "     chksum    = 0x0\n",
    "     id        = 0x0\n",
    "     seq       = 0x0\n",
    "     unused    = ''\n",
    "```"
   ]
  },
  {
   "cell_type": "markdown",
   "id": "f95b2440",
   "metadata": {},
   "source": [
    "*Recieved 3 packets, gor 1 answer,...* nam samo pove koliko paketko je prejel predno je dobil naš iskani odgovor."
   ]
  },
  {
   "cell_type": "markdown",
   "id": "63f3f2f0",
   "metadata": {},
   "source": [
    "Še dve funkciji povezani s pošiljanjem in prejemanjem paketkov sta **srloop()** in **srploop()**. Metoda pošlje paketek in ga ponovno pošlje vsakič, ko prejme response.\n",
    "\n",
    "Z **count** parametrom lahko definiramo kolikokrat naj se paket pošlje."
   ]
  },
  {
   "cell_type": "markdown",
   "id": "9061ce9d",
   "metadata": {},
   "source": [
    "```\n",
    ">>> responses = srloop(pingpkt, count=5)\n",
    "RECV 1: IP / ICMP 8.8.8.8 > 192.168.8.145 echo-reply 0\n",
    "RECV 1: IP / ICMP 8.8.8.8 > 192.168.8.145 echo-reply 0\n",
    "RECV 1: IP / ICMP 8.8.8.8 > 192.168.8.145 echo-reply 0\n",
    "RECV 1: IP / ICMP 8.8.8.8 > 192.168.8.145 echo-reply 0\n",
    "RECV 1: IP / ICMP 8.8.8.8 > 192.168.8.145 echo-reply 0\n",
    "        \n",
    "Sent 5 packets, received 5 packets. 100.0% hits.\n",
    ">>> responses\n",
    "(<Results: TCP:0 UDP:0 ICMP:5 Other:0>,\n",
    " <PacketList: TCP:0 UDP:0 ICMP:0 Other:0>)\n",
    "```"
   ]
  },
  {
   "cell_type": "code",
   "execution_count": null,
   "id": "8d7d8e5b",
   "metadata": {},
   "outputs": [],
   "source": []
  },
  {
   "cell_type": "markdown",
   "id": "4a8cca87",
   "metadata": {},
   "source": [
    "# Scapy in Python script"
   ]
  },
  {
   "cell_type": "markdown",
   "id": "d4b6a2ac",
   "metadata": {},
   "source": [
    "> Če so problemi glede permissions in \"NoModule scapy\"\n",
    "```\n",
    "$ sudo -E env PATH=$PATH PYTHONPATH=$PYTHONPATH python3 01.py\n",
    "```"
   ]
  },
  {
   "cell_type": "markdown",
   "id": "738ef7f6",
   "metadata": {},
   "source": [
    "Ponovimo naš zgornji PING primer:"
   ]
  },
  {
   "cell_type": "code",
   "execution_count": 1,
   "id": "67cf3c18",
   "metadata": {},
   "outputs": [
    {
     "name": "stderr",
     "output_type": "stream",
     "text": [
      "/home/balki/.local/lib/python3.10/site-packages/scapy/layers/ipsec.py:471: CryptographyDeprecationWarning: Blowfish has been deprecated\n",
      "  cipher=algorithms.Blowfish,\n",
      "/home/balki/.local/lib/python3.10/site-packages/scapy/layers/ipsec.py:485: CryptographyDeprecationWarning: CAST5 has been deprecated\n",
      "  cipher=algorithms.CAST5,\n"
     ]
    },
    {
     "ename": "PermissionError",
     "evalue": "[Errno 1] Operation not permitted",
     "output_type": "error",
     "traceback": [
      "\u001b[0;31m---------------------------------------------------------------------------\u001b[0m",
      "\u001b[0;31mPermissionError\u001b[0m                           Traceback (most recent call last)",
      "Input \u001b[0;32mIn [1]\u001b[0m, in \u001b[0;36m<cell line: 4>\u001b[0;34m()\u001b[0m\n\u001b[1;32m      1\u001b[0m \u001b[38;5;66;03m#from scapy.all import *\u001b[39;00m\n\u001b[1;32m      2\u001b[0m \u001b[38;5;28;01mfrom\u001b[39;00m \u001b[38;5;21;01mscapy\u001b[39;00m\u001b[38;5;21;01m.\u001b[39;00m\u001b[38;5;21;01mall\u001b[39;00m \u001b[38;5;28;01mimport\u001b[39;00m sr1, IP, ICMP\n\u001b[0;32m----> 4\u001b[0m \u001b[38;5;28mprint\u001b[39m(\u001b[43msr1\u001b[49m\u001b[43m(\u001b[49m\u001b[43mIP\u001b[49m\u001b[43m(\u001b[49m\u001b[43mdst\u001b[49m\u001b[38;5;241;43m=\u001b[39;49m\u001b[38;5;124;43m\"\u001b[39;49m\u001b[38;5;124;43m8.8.8.8\u001b[39;49m\u001b[38;5;124;43m\"\u001b[39;49m\u001b[43m)\u001b[49m\u001b[38;5;241;43m/\u001b[39;49m\u001b[43mICMP\u001b[49m\u001b[43m(\u001b[49m\u001b[43m)\u001b[49m\u001b[43m)\u001b[49m\u001b[38;5;241m.\u001b[39msummary())\n",
      "File \u001b[0;32m~/.local/lib/python3.10/site-packages/scapy/sendrecv.py:648\u001b[0m, in \u001b[0;36msr1\u001b[0;34m(x, promisc, filter, iface, nofilter, *args, **kargs)\u001b[0m\n\u001b[1;32m    644\u001b[0m \u001b[38;5;124;03m\"\"\"\u001b[39;00m\n\u001b[1;32m    645\u001b[0m \u001b[38;5;124;03mSend packets at layer 3 and return only the first answer\u001b[39;00m\n\u001b[1;32m    646\u001b[0m \u001b[38;5;124;03m\"\"\"\u001b[39;00m\n\u001b[1;32m    647\u001b[0m iface \u001b[38;5;241m=\u001b[39m _interface_selection(iface, x)\n\u001b[0;32m--> 648\u001b[0m s \u001b[38;5;241m=\u001b[39m \u001b[43mconf\u001b[49m\u001b[38;5;241;43m.\u001b[39;49m\u001b[43mL3socket\u001b[49m\u001b[43m(\u001b[49m\u001b[43mpromisc\u001b[49m\u001b[38;5;241;43m=\u001b[39;49m\u001b[43mpromisc\u001b[49m\u001b[43m,\u001b[49m\u001b[43m \u001b[49m\u001b[38;5;28;43mfilter\u001b[39;49m\u001b[38;5;241;43m=\u001b[39;49m\u001b[38;5;28;43mfilter\u001b[39;49m\u001b[43m,\u001b[49m\n\u001b[1;32m    649\u001b[0m \u001b[43m                  \u001b[49m\u001b[43mnofilter\u001b[49m\u001b[38;5;241;43m=\u001b[39;49m\u001b[43mnofilter\u001b[49m\u001b[43m,\u001b[49m\u001b[43m \u001b[49m\u001b[43miface\u001b[49m\u001b[38;5;241;43m=\u001b[39;49m\u001b[43miface\u001b[49m\u001b[43m)\u001b[49m\n\u001b[1;32m    650\u001b[0m ans, _ \u001b[38;5;241m=\u001b[39m sndrcv(s, x, \u001b[38;5;241m*\u001b[39margs, \u001b[38;5;241m*\u001b[39m\u001b[38;5;241m*\u001b[39mkargs)\n\u001b[1;32m    651\u001b[0m s\u001b[38;5;241m.\u001b[39mclose()\n",
      "File \u001b[0;32m~/.local/lib/python3.10/site-packages/scapy/arch/linux.py:486\u001b[0m, in \u001b[0;36mL2Socket.__init__\u001b[0;34m(self, iface, type, promisc, filter, nofilter, monitor)\u001b[0m\n\u001b[1;32m    482\u001b[0m \u001b[38;5;28;01mif\u001b[39;00m monitor \u001b[38;5;129;01mis\u001b[39;00m \u001b[38;5;129;01mnot\u001b[39;00m \u001b[38;5;28;01mNone\u001b[39;00m:\n\u001b[1;32m    483\u001b[0m     log_runtime\u001b[38;5;241m.\u001b[39minfo(\n\u001b[1;32m    484\u001b[0m         \u001b[38;5;124m\"\u001b[39m\u001b[38;5;124mThe \u001b[39m\u001b[38;5;124m'\u001b[39m\u001b[38;5;124mmonitor\u001b[39m\u001b[38;5;124m'\u001b[39m\u001b[38;5;124m argument has no effect on native linux sockets.\u001b[39m\u001b[38;5;124m\"\u001b[39m\n\u001b[1;32m    485\u001b[0m     )\n\u001b[0;32m--> 486\u001b[0m \u001b[38;5;28mself\u001b[39m\u001b[38;5;241m.\u001b[39mins \u001b[38;5;241m=\u001b[39m \u001b[43msocket\u001b[49m\u001b[38;5;241;43m.\u001b[39;49m\u001b[43msocket\u001b[49m\u001b[43m(\u001b[49m\n\u001b[1;32m    487\u001b[0m \u001b[43m    \u001b[49m\u001b[43msocket\u001b[49m\u001b[38;5;241;43m.\u001b[39;49m\u001b[43mAF_PACKET\u001b[49m\u001b[43m,\u001b[49m\u001b[43m \u001b[49m\u001b[43msocket\u001b[49m\u001b[38;5;241;43m.\u001b[39;49m\u001b[43mSOCK_RAW\u001b[49m\u001b[43m,\u001b[49m\u001b[43m \u001b[49m\u001b[43msocket\u001b[49m\u001b[38;5;241;43m.\u001b[39;49m\u001b[43mhtons\u001b[49m\u001b[43m(\u001b[49m\u001b[38;5;28;43mtype\u001b[39;49m\u001b[43m)\u001b[49m\u001b[43m)\u001b[49m\n\u001b[1;32m    488\u001b[0m \u001b[38;5;28mself\u001b[39m\u001b[38;5;241m.\u001b[39mins\u001b[38;5;241m.\u001b[39msetsockopt(socket\u001b[38;5;241m.\u001b[39mSOL_SOCKET, socket\u001b[38;5;241m.\u001b[39mSO_RCVBUF, \u001b[38;5;241m0\u001b[39m)\n\u001b[1;32m    489\u001b[0m \u001b[38;5;28;01mif\u001b[39;00m \u001b[38;5;129;01mnot\u001b[39;00m nofilter:\n",
      "File \u001b[0;32m/usr/lib/python3.10/socket.py:232\u001b[0m, in \u001b[0;36msocket.__init__\u001b[0;34m(self, family, type, proto, fileno)\u001b[0m\n\u001b[1;32m    230\u001b[0m     \u001b[38;5;28;01mif\u001b[39;00m proto \u001b[38;5;241m==\u001b[39m \u001b[38;5;241m-\u001b[39m\u001b[38;5;241m1\u001b[39m:\n\u001b[1;32m    231\u001b[0m         proto \u001b[38;5;241m=\u001b[39m \u001b[38;5;241m0\u001b[39m\n\u001b[0;32m--> 232\u001b[0m \u001b[43m_socket\u001b[49m\u001b[38;5;241;43m.\u001b[39;49m\u001b[43msocket\u001b[49m\u001b[38;5;241;43m.\u001b[39;49m\u001b[38;5;21;43m__init__\u001b[39;49m\u001b[43m(\u001b[49m\u001b[38;5;28;43mself\u001b[39;49m\u001b[43m,\u001b[49m\u001b[43m \u001b[49m\u001b[43mfamily\u001b[49m\u001b[43m,\u001b[49m\u001b[43m \u001b[49m\u001b[38;5;28;43mtype\u001b[39;49m\u001b[43m,\u001b[49m\u001b[43m \u001b[49m\u001b[43mproto\u001b[49m\u001b[43m,\u001b[49m\u001b[43m \u001b[49m\u001b[43mfileno\u001b[49m\u001b[43m)\u001b[49m\n\u001b[1;32m    233\u001b[0m \u001b[38;5;28mself\u001b[39m\u001b[38;5;241m.\u001b[39m_io_refs \u001b[38;5;241m=\u001b[39m \u001b[38;5;241m0\u001b[39m\n\u001b[1;32m    234\u001b[0m \u001b[38;5;28mself\u001b[39m\u001b[38;5;241m.\u001b[39m_closed \u001b[38;5;241m=\u001b[39m \u001b[38;5;28;01mFalse\u001b[39;00m\n",
      "\u001b[0;31mPermissionError\u001b[0m: [Errno 1] Operation not permitted"
     ]
    }
   ],
   "source": [
    "#from scapy.all import *\n",
    "from scapy.all import sr1, IP, ICMP\n",
    "\n",
    "print(sr1(IP(dst=\"8.8.8.8\")/ICMP()).summary())"
   ]
  },
  {
   "cell_type": "markdown",
   "id": "8c2abbd9",
   "metadata": {},
   "source": [
    "Napišimo sedaj skripto, ki nam izpisuje ARP promet."
   ]
  },
  {
   "cell_type": "code",
   "execution_count": null,
   "id": "3afb91ec",
   "metadata": {},
   "outputs": [],
   "source": [
    "from scapy.all import ARP, sniff\n",
    "\n",
    "def arp_display(pkt):\n",
    "    if pkt[ARP].op == 1:  # who-has (request)\n",
    "        return f\"Request: {pkt[ARP].psrc} is asking about {pkt[ARP].pdst}\"\n",
    "    if pkt[ARP].op == 2:  # is-at (response)\n",
    "        return f\"*Response: {pkt[ARP].hwsrc} has address {pkt[ARP].psrc}\"\n",
    "\n",
    "sniff(prn=arp_display, filter=\"arp\", store=0, count=10)"
   ]
  },
  {
   "cell_type": "code",
   "execution_count": null,
   "id": "bbd63849",
   "metadata": {},
   "outputs": [],
   "source": []
  },
  {
   "cell_type": "code",
   "execution_count": null,
   "id": "7ef90e49",
   "metadata": {},
   "outputs": [],
   "source": []
  },
  {
   "cell_type": "markdown",
   "id": "5928b2fc",
   "metadata": {},
   "source": [
    "# Network Scanner"
   ]
  },
  {
   "cell_type": "markdown",
   "id": "99de2da9",
   "metadata": {},
   "source": [
    "LINK - https://www.thepythoncode.com/article/building-network-scanner-using-scapy"
   ]
  },
  {
   "cell_type": "markdown",
   "id": "3be5fce6",
   "metadata": {},
   "source": [
    "Napisali bomo skripto, ki pregleda naprave povezane v naš network. Za naš network scanner bomo uporabili ARP request, ki bo vprašal *kdo je lastnik IP 192.168.1.10* in lastnik bo avtomatično odgovoril."
   ]
  },
  {
   "cell_type": "markdown",
   "id": "94349098",
   "metadata": {},
   "source": [
    "TARGET_IP najdeš na ubuntu pod Settings -> WiFi -> Settings od wifija na kerga si povezan."
   ]
  },
  {
   "cell_type": "code",
   "execution_count": 1,
   "id": "6de09f5c",
   "metadata": {},
   "outputs": [
    {
     "name": "stderr",
     "output_type": "stream",
     "text": [
      "/home/balki/.local/lib/python3.10/site-packages/scapy/layers/ipsec.py:471: CryptographyDeprecationWarning: Blowfish has been deprecated\n",
      "  cipher=algorithms.Blowfish,\n",
      "/home/balki/.local/lib/python3.10/site-packages/scapy/layers/ipsec.py:485: CryptographyDeprecationWarning: CAST5 has been deprecated\n",
      "  cipher=algorithms.CAST5,\n"
     ]
    },
    {
     "ename": "PermissionError",
     "evalue": "[Errno 1] Operation not permitted",
     "output_type": "error",
     "traceback": [
      "\u001b[0;31m---------------------------------------------------------------------------\u001b[0m",
      "\u001b[0;31mPermissionError\u001b[0m                           Traceback (most recent call last)",
      "Input \u001b[0;32mIn [1]\u001b[0m, in \u001b[0;36m<cell line: 10>\u001b[0;34m()\u001b[0m\n\u001b[1;32m      6\u001b[0m ether \u001b[38;5;241m=\u001b[39m Ether(dst\u001b[38;5;241m=\u001b[39m\u001b[38;5;124m\"\u001b[39m\u001b[38;5;124mff:ff:ff:ff:ff:ff\u001b[39m\u001b[38;5;124m\"\u001b[39m) \u001b[38;5;66;03m# ff:ff:ff:ff:ff:ff MAC address indicates broadcasting\u001b[39;00m\n\u001b[1;32m      8\u001b[0m packet \u001b[38;5;241m=\u001b[39m ether\u001b[38;5;241m/\u001b[39marp\n\u001b[0;32m---> 10\u001b[0m result \u001b[38;5;241m=\u001b[39m \u001b[43msrp\u001b[49m\u001b[43m(\u001b[49m\u001b[43mpacket\u001b[49m\u001b[43m,\u001b[49m\u001b[43m \u001b[49m\u001b[43mtimeout\u001b[49m\u001b[38;5;241;43m=\u001b[39;49m\u001b[38;5;241;43m3\u001b[39;49m\u001b[43m)\u001b[49m[\u001b[38;5;241m0\u001b[39m] \u001b[38;5;66;03m# index 0 are answeres, index 1 are unanswerd packets\u001b[39;00m\n\u001b[1;32m     12\u001b[0m \u001b[38;5;28mprint\u001b[39m(result)\n",
      "File \u001b[0;32m~/.local/lib/python3.10/site-packages/scapy/sendrecv.py:675\u001b[0m, in \u001b[0;36msrp\u001b[0;34m(x, promisc, iface, iface_hint, filter, nofilter, type, *args, **kargs)\u001b[0m\n\u001b[1;32m    673\u001b[0m     iface \u001b[38;5;241m=\u001b[39m conf\u001b[38;5;241m.\u001b[39mroute\u001b[38;5;241m.\u001b[39mroute(iface_hint)[\u001b[38;5;241m0\u001b[39m]\n\u001b[1;32m    674\u001b[0m iface \u001b[38;5;241m=\u001b[39m resolve_iface(iface \u001b[38;5;129;01mor\u001b[39;00m conf\u001b[38;5;241m.\u001b[39miface)\n\u001b[0;32m--> 675\u001b[0m s \u001b[38;5;241m=\u001b[39m \u001b[43miface\u001b[49m\u001b[38;5;241;43m.\u001b[39;49m\u001b[43ml2socket\u001b[49m\u001b[43m(\u001b[49m\u001b[43m)\u001b[49m\u001b[43m(\u001b[49m\u001b[43mpromisc\u001b[49m\u001b[38;5;241;43m=\u001b[39;49m\u001b[43mpromisc\u001b[49m\u001b[43m,\u001b[49m\u001b[43m \u001b[49m\u001b[43miface\u001b[49m\u001b[38;5;241;43m=\u001b[39;49m\u001b[43miface\u001b[49m\u001b[43m,\u001b[49m\n\u001b[1;32m    676\u001b[0m \u001b[43m                     \u001b[49m\u001b[38;5;28;43mfilter\u001b[39;49m\u001b[38;5;241;43m=\u001b[39;49m\u001b[38;5;28;43mfilter\u001b[39;49m\u001b[43m,\u001b[49m\u001b[43m \u001b[49m\u001b[43mnofilter\u001b[49m\u001b[38;5;241;43m=\u001b[39;49m\u001b[43mnofilter\u001b[49m\u001b[43m,\u001b[49m\u001b[43m \u001b[49m\u001b[38;5;28;43mtype\u001b[39;49m\u001b[38;5;241;43m=\u001b[39;49m\u001b[38;5;28;43mtype\u001b[39;49m\u001b[43m)\u001b[49m\n\u001b[1;32m    677\u001b[0m result \u001b[38;5;241m=\u001b[39m sndrcv(s, x, \u001b[38;5;241m*\u001b[39margs, \u001b[38;5;241m*\u001b[39m\u001b[38;5;241m*\u001b[39mkargs)\n\u001b[1;32m    678\u001b[0m s\u001b[38;5;241m.\u001b[39mclose()\n",
      "File \u001b[0;32m~/.local/lib/python3.10/site-packages/scapy/arch/linux.py:486\u001b[0m, in \u001b[0;36mL2Socket.__init__\u001b[0;34m(self, iface, type, promisc, filter, nofilter, monitor)\u001b[0m\n\u001b[1;32m    482\u001b[0m \u001b[38;5;28;01mif\u001b[39;00m monitor \u001b[38;5;129;01mis\u001b[39;00m \u001b[38;5;129;01mnot\u001b[39;00m \u001b[38;5;28;01mNone\u001b[39;00m:\n\u001b[1;32m    483\u001b[0m     log_runtime\u001b[38;5;241m.\u001b[39minfo(\n\u001b[1;32m    484\u001b[0m         \u001b[38;5;124m\"\u001b[39m\u001b[38;5;124mThe \u001b[39m\u001b[38;5;124m'\u001b[39m\u001b[38;5;124mmonitor\u001b[39m\u001b[38;5;124m'\u001b[39m\u001b[38;5;124m argument has no effect on native linux sockets.\u001b[39m\u001b[38;5;124m\"\u001b[39m\n\u001b[1;32m    485\u001b[0m     )\n\u001b[0;32m--> 486\u001b[0m \u001b[38;5;28mself\u001b[39m\u001b[38;5;241m.\u001b[39mins \u001b[38;5;241m=\u001b[39m \u001b[43msocket\u001b[49m\u001b[38;5;241;43m.\u001b[39;49m\u001b[43msocket\u001b[49m\u001b[43m(\u001b[49m\n\u001b[1;32m    487\u001b[0m \u001b[43m    \u001b[49m\u001b[43msocket\u001b[49m\u001b[38;5;241;43m.\u001b[39;49m\u001b[43mAF_PACKET\u001b[49m\u001b[43m,\u001b[49m\u001b[43m \u001b[49m\u001b[43msocket\u001b[49m\u001b[38;5;241;43m.\u001b[39;49m\u001b[43mSOCK_RAW\u001b[49m\u001b[43m,\u001b[49m\u001b[43m \u001b[49m\u001b[43msocket\u001b[49m\u001b[38;5;241;43m.\u001b[39;49m\u001b[43mhtons\u001b[49m\u001b[43m(\u001b[49m\u001b[38;5;28;43mtype\u001b[39;49m\u001b[43m)\u001b[49m\u001b[43m)\u001b[49m\n\u001b[1;32m    488\u001b[0m \u001b[38;5;28mself\u001b[39m\u001b[38;5;241m.\u001b[39mins\u001b[38;5;241m.\u001b[39msetsockopt(socket\u001b[38;5;241m.\u001b[39mSOL_SOCKET, socket\u001b[38;5;241m.\u001b[39mSO_RCVBUF, \u001b[38;5;241m0\u001b[39m)\n\u001b[1;32m    489\u001b[0m \u001b[38;5;28;01mif\u001b[39;00m \u001b[38;5;129;01mnot\u001b[39;00m nofilter:\n",
      "File \u001b[0;32m/usr/lib/python3.10/socket.py:232\u001b[0m, in \u001b[0;36msocket.__init__\u001b[0;34m(self, family, type, proto, fileno)\u001b[0m\n\u001b[1;32m    230\u001b[0m     \u001b[38;5;28;01mif\u001b[39;00m proto \u001b[38;5;241m==\u001b[39m \u001b[38;5;241m-\u001b[39m\u001b[38;5;241m1\u001b[39m:\n\u001b[1;32m    231\u001b[0m         proto \u001b[38;5;241m=\u001b[39m \u001b[38;5;241m0\u001b[39m\n\u001b[0;32m--> 232\u001b[0m \u001b[43m_socket\u001b[49m\u001b[38;5;241;43m.\u001b[39;49m\u001b[43msocket\u001b[49m\u001b[38;5;241;43m.\u001b[39;49m\u001b[38;5;21;43m__init__\u001b[39;49m\u001b[43m(\u001b[49m\u001b[38;5;28;43mself\u001b[39;49m\u001b[43m,\u001b[49m\u001b[43m \u001b[49m\u001b[43mfamily\u001b[49m\u001b[43m,\u001b[49m\u001b[43m \u001b[49m\u001b[38;5;28;43mtype\u001b[39;49m\u001b[43m,\u001b[49m\u001b[43m \u001b[49m\u001b[43mproto\u001b[49m\u001b[43m,\u001b[49m\u001b[43m \u001b[49m\u001b[43mfileno\u001b[49m\u001b[43m)\u001b[49m\n\u001b[1;32m    233\u001b[0m \u001b[38;5;28mself\u001b[39m\u001b[38;5;241m.\u001b[39m_io_refs \u001b[38;5;241m=\u001b[39m \u001b[38;5;241m0\u001b[39m\n\u001b[1;32m    234\u001b[0m \u001b[38;5;28mself\u001b[39m\u001b[38;5;241m.\u001b[39m_closed \u001b[38;5;241m=\u001b[39m \u001b[38;5;28;01mFalse\u001b[39;00m\n",
      "\u001b[0;31mPermissionError\u001b[0m: [Errno 1] Operation not permitted"
     ]
    }
   ],
   "source": [
    "from scapy.all import ARP, Ether, srp\n",
    "\n",
    "target_ip = \"10.1.8.1/24\" #\"192.168.8.1/24\"\n",
    "arp = ARP(pdst=target_ip)\n",
    "\n",
    "ether = Ether(dst=\"ff:ff:ff:ff:ff:ff\") # ff:ff:ff:ff:ff:ff MAC address indicates broadcasting\n",
    "\n",
    "packet = ether/arp\n",
    "\n",
    "result = srp(packet, timeout=3)[0] # index 0 are answeres, index 1 are unanswerd packets\n",
    "\n",
    "print(result)"
   ]
  },
  {
   "cell_type": "markdown",
   "id": "ae2af2e6",
   "metadata": {},
   "source": [
    "> In case you are not familiar with the notation \"/24\" or \"/16\" after the IP address, it is basically an IP range here, for example, \"192.168.1.1/24\" is a range from \"192.168.1.0\" to \"192.168.1.255\","
   ]
  },
  {
   "cell_type": "markdown",
   "id": "ba82b5fc",
   "metadata": {},
   "source": [
    "Rezultate imamo shranjene kot tuple `(sent_packet, received_packet)`. S for loopom bomo iteriral čez njih in izpisali relevantne informacije."
   ]
  },
  {
   "cell_type": "code",
   "execution_count": null,
   "id": "1fb1a856",
   "metadata": {},
   "outputs": [],
   "source": [
    "from scapy.all import ARP, Ether, srp\n",
    "\n",
    "target_ip = \"192.168.8.1/24\"\n",
    "arp = ARP(pdst=target_ip)\n",
    "\n",
    "ether = Ether(dst=\"ff:ff:ff:ff:ff:ff\") # ff:ff:ff:ff:ff:ff MAC address indicates broadcasting\n",
    "\n",
    "packet = ether/arp\n",
    "\n",
    "result = srp(packet, timeout=3)[0] # index 0 are answeres, index 1 are unanswerd packets\n",
    "\n",
    "print(result)\n",
    "\n",
    "print(\"Devices on the network:\")\n",
    "print(\"IP \\t\\t\\t\\t MAC\")\n",
    "for sent, received in result:\n",
    "    print(f\"{received.psrc} \\t\\t\\t {received.hwsrc}\")"
   ]
  },
  {
   "cell_type": "code",
   "execution_count": null,
   "id": "947f45e7",
   "metadata": {},
   "outputs": [],
   "source": []
  },
  {
   "cell_type": "markdown",
   "id": "11ac1de1",
   "metadata": {},
   "source": [
    "# Branje/Pisanje iz datoteke"
   ]
  },
  {
   "cell_type": "markdown",
   "id": "c5cbe7d4",
   "metadata": {},
   "source": [
    "Če želimo analizirati promet zapisan v datoteki lahko to naredimo na sledeč način:"
   ]
  },
  {
   "cell_type": "code",
   "execution_count": null,
   "id": "4cb1cbef",
   "metadata": {},
   "outputs": [],
   "source": [
    "from scapy.all import *\n",
    "\n",
    "# rdpcap comes from scapy and loads in our pcap file\n",
    "packets = rdpcap('mycapture.cap')\n",
    "\n",
    "# Let's iterate through every packet\n",
    "for packet in packets:\n",
    "    print(packet.summary())"
   ]
  },
  {
   "cell_type": "markdown",
   "id": "5d643270",
   "metadata": {},
   "source": [
    "Da zapišemo nekaj v datoteko:"
   ]
  },
  {
   "cell_type": "code",
   "execution_count": null,
   "id": "1c49ba02",
   "metadata": {},
   "outputs": [],
   "source": [
    "from scapy.all import *\n",
    "\n",
    "# rdpcap comes from scapy and loads in our pcap file\n",
    "packets = rdpcap('mycapture.cap')\n",
    "\n",
    "# Let's iterate through every packet\n",
    "for packet in packets:\n",
    "    print(packet.summary())\n",
    "\n",
    "    wrpcap(\"moj_capture.pcap\", packet, append=True)\n",
    "\n",
    "\n",
    "\n",
    "print(\"Pregled\")\n",
    "packets = rdpcap('moj_capture.pcap')\n",
    "\n",
    "# Let's iterate through every packet\n",
    "for packet in packets:\n",
    "    print(packet.summary())"
   ]
  },
  {
   "cell_type": "code",
   "execution_count": null,
   "id": "2073dd15",
   "metadata": {},
   "outputs": [],
   "source": []
  },
  {
   "cell_type": "code",
   "execution_count": null,
   "id": "4774e4f4",
   "metadata": {},
   "outputs": [],
   "source": []
  },
  {
   "cell_type": "code",
   "execution_count": null,
   "id": "3986d20f",
   "metadata": {},
   "outputs": [],
   "source": []
  }
 ],
 "metadata": {
  "kernelspec": {
   "display_name": "Python 3 (ipykernel)",
   "language": "python",
   "name": "python3"
  },
  "language_info": {
   "codemirror_mode": {
    "name": "ipython",
    "version": 3
   },
   "file_extension": ".py",
   "mimetype": "text/x-python",
   "name": "python",
   "nbconvert_exporter": "python",
   "pygments_lexer": "ipython3",
   "version": "3.10.4"
  }
 },
 "nbformat": 4,
 "nbformat_minor": 5
}
