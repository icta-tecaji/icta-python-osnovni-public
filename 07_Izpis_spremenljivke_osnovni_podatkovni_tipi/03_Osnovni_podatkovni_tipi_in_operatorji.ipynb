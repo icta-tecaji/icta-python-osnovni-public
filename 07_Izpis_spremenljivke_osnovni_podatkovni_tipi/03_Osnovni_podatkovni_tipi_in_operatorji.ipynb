{
 "cells": [
  {
   "cell_type": "markdown",
   "id": "ea8dbf22-20e1-4690-8ddb-4dd243e61262",
   "metadata": {},
   "source": [
    "# Osnovni podatkovni tipi in operatorji"
   ]
  },
  {
   "cell_type": "markdown",
   "id": "0b792d87-d3b6-4d6a-a81b-38c95638a0d3",
   "metadata": {},
   "source": [
    "Da vidimo kakšnega tipa je spremenljivka, uporabimo besedo:\n",
    "```python\n",
    "type()\n",
    "```"
   ]
  },
  {
   "cell_type": "code",
   "execution_count": null,
   "id": "31de2985-1ad5-46f1-ae94-a5c28b2a56b5",
   "metadata": {},
   "outputs": [],
   "source": [
    "x = 1\n",
    "print(x)\n",
    "print(type(x)) # type(x) nam pove kakšnega tipa je spremenljivka x"
   ]
  },
  {
   "cell_type": "markdown",
   "id": "2ff6ae8f-ba5b-450c-9816-6487cce1ac68",
   "metadata": {},
   "source": [
    "## Integer"
   ]
  },
  {
   "cell_type": "markdown",
   "id": "0d7c3bf3-571d-4b76-9c13-16a7e36b82ee",
   "metadata": {},
   "source": [
    "In Python 3, there is effectively no limit to how long an integer value can be. Of course, it is constrained by the amount of memory your system has, as are all things, but beyond that an integer can be as long as you need it to be:"
   ]
  },
  {
   "cell_type": "code",
   "execution_count": null,
   "id": "56be258f-b6a6-44cc-906d-1f89474e0dbc",
   "metadata": {},
   "outputs": [],
   "source": [
    "print(123123123123123123123123123123123123123123123123)"
   ]
  },
  {
   "cell_type": "markdown",
   "id": "399301d6-0d7f-4ee2-b95e-845ce1995df3",
   "metadata": {},
   "source": [
    "Python interprets a sequence of decimal digits without any prefix to be a decimal number:"
   ]
  },
  {
   "cell_type": "code",
   "execution_count": null,
   "id": "8b664deb-b996-4a52-a564-4b6883a891be",
   "metadata": {},
   "outputs": [],
   "source": [
    "print(10)"
   ]
  },
  {
   "cell_type": "markdown",
   "id": "bebac62a-d849-4ffb-9ae9-b7f174055dfc",
   "metadata": {},
   "source": [
    "The following strings can be prepended to an integer value to indicate a base other than 10:"
   ]
  },
  {
   "cell_type": "markdown",
   "id": "e88a260d-3466-4c50-8639-87c59d72b683",
   "metadata": {},
   "source": [
    "<div class=\"table-responsive\">\n",
    "<table class=\"table table-hover\">\n",
    "<thead>\n",
    "<tr>\n",
    "<th>Prefix</th>\n",
    "<th>Interpretation</th>\n",
    "<th>Base</th>\n",
    "</tr>\n",
    "</thead>\n",
    "<tbody>\n",
    "<tr>\n",
    "<td><code>0b</code> (zero + lowercase letter <code>'b'</code>)<br><code>0B</code> (zero + uppercase letter <code>'B'</code>)</td>\n",
    "<td>Binary</td>\n",
    "<td>2</td>\n",
    "</tr>\n",
    "<tr>\n",
    "<td><code>0o</code> (zero + lowercase letter <code>'o'</code>)<br><code>0O</code> (zero + uppercase letter <code>'O'</code>)</td>\n",
    "<td>Octal</td>\n",
    "<td>8</td>\n",
    "</tr>\n",
    "<tr>\n",
    "<td><code>0x</code> (zero + lowercase letter <code>'x'</code>)<br><code>0X</code> (zero + uppercase letter <code>'X'</code>)</td>\n",
    "<td>Hexadecimal</td>\n",
    "<td>16</td>\n",
    "</tr>\n",
    "</tbody>\n",
    "</table>\n",
    "</div>"
   ]
  },
  {
   "cell_type": "code",
   "execution_count": null,
   "id": "2ef0fc04-d0c4-49af-998f-5a9802164a7c",
   "metadata": {},
   "outputs": [],
   "source": [
    "print(0o10)"
   ]
  },
  {
   "cell_type": "code",
   "execution_count": null,
   "id": "70aed040-13c7-47e5-9c1c-8f81e5332090",
   "metadata": {},
   "outputs": [],
   "source": [
    "print(0x10)"
   ]
  },
  {
   "cell_type": "code",
   "execution_count": null,
   "id": "6f261eab-4c61-4302-928d-416f9ea4b49f",
   "metadata": {},
   "outputs": [],
   "source": [
    "print(0b0010)"
   ]
  },
  {
   "cell_type": "markdown",
   "id": "d718b383-f3f1-40f7-b220-5b719b1b4bd7",
   "metadata": {},
   "source": [
    "The underlying type of a Python integer, irrespective of the base used to specify it, is called `int`:"
   ]
  },
  {
   "cell_type": "code",
   "execution_count": null,
   "id": "7d56564c-d274-48e6-9fc1-2bf83aa3a745",
   "metadata": {},
   "outputs": [],
   "source": [
    "type(10)"
   ]
  },
  {
   "cell_type": "code",
   "execution_count": null,
   "id": "47b6059f-b23f-441a-ad9f-89bf7e93c42a",
   "metadata": {},
   "outputs": [],
   "source": [
    "type(0o10)"
   ]
  },
  {
   "cell_type": "code",
   "execution_count": null,
   "id": "99e6ed76-9f5d-4cc0-9c55-e68fc4d42276",
   "metadata": {},
   "outputs": [],
   "source": [
    "type(0x10)"
   ]
  },
  {
   "cell_type": "markdown",
   "id": "78102f6d-ae90-4027-9d73-ea9c67236891",
   "metadata": {},
   "source": [
    "If you want to display a value while in a REPL session, you don’t need to use the print() function. Just typing the value at the >>> prompt and hitting Enter will display it:"
   ]
  },
  {
   "cell_type": "code",
   "execution_count": null,
   "id": "f732594c-3bf7-4d36-9c3e-37b38858d331",
   "metadata": {},
   "outputs": [],
   "source": [
    "10"
   ]
  },
  {
   "cell_type": "markdown",
   "id": "1a8c3d2c-ca0a-41fb-a895-57ed72227257",
   "metadata": {},
   "source": [
    "> Note that this does not work inside a script file. A value appearing on a line by itself in a script file will not do anything."
   ]
  },
  {
   "cell_type": "markdown",
   "id": "ef59047c-8940-49fb-86ce-e5d72d8e3457",
   "metadata": {},
   "source": [
    "Use the `int()` buid-in function to convert to int: "
   ]
  },
  {
   "cell_type": "code",
   "execution_count": null,
   "id": "48cefca8-79ab-4f0d-b057-70eb0c7e677f",
   "metadata": {},
   "outputs": [],
   "source": [
    "a = \"2\"\n",
    "print(type(a))\n",
    "a = int(a)\n",
    "print(type(a), a)"
   ]
  },
  {
   "cell_type": "markdown",
   "id": "8027fbd2-cd92-4a77-86d6-874711db01bd",
   "metadata": {},
   "source": [
    "### Caching Small Integer Values"
   ]
  },
  {
   "cell_type": "markdown",
   "id": "65b138cd-c74c-4111-9a89-6306aaf1eddf",
   "metadata": {},
   "source": [
    "From what you now know about variable assignment and object references in Python, the following probably won’t surprise you:"
   ]
  },
  {
   "cell_type": "code",
   "execution_count": null,
   "id": "1b63e670-a19b-4983-a8d2-cdc75f5faba2",
   "metadata": {},
   "outputs": [],
   "source": [
    "m = 300\n",
    "n = 300\n",
    "print(\"m\", id(m))\n",
    "print(\"n\", id(n))"
   ]
  },
  {
   "cell_type": "markdown",
   "id": "0a8fec07-3125-443b-a530-ac4ab847900f",
   "metadata": {},
   "source": [
    "With the statement m = 300, Python creates an integer object with the value 300 and sets m as a reference to it. n is then similarly assigned to an integer object with value 300—but not the same object. Thus, they have different identities, which you can verify from the values returned by id()."
   ]
  },
  {
   "cell_type": "markdown",
   "id": "54e5e1af-c95a-42f0-8ade-ae113e629c9c",
   "metadata": {},
   "source": [
    "But consider this:"
   ]
  },
  {
   "cell_type": "code",
   "execution_count": null,
   "id": "6539fb29-2315-4ca5-92c9-59521410fc4d",
   "metadata": {},
   "outputs": [],
   "source": [
    "m = 30\n",
    "n = 30\n",
    "print(\"m\", id(m))\n",
    "print(\"n\", id(n))"
   ]
  },
  {
   "cell_type": "markdown",
   "id": "28ca5fcd-6661-4429-862f-3aac018c51b7",
   "metadata": {},
   "source": [
    "Here, m and n are separately assigned to integer objects having value 30. But in this case, id(m) and id(n) are identical!\n",
    "\n",
    "**For purposes of optimization, the interpreter creates objects for the integers in the range [-5, 256] at startup**, and then reuses them during program execution. Thus, when you assign separate variables to an integer value in this range, they will actually reference the same object."
   ]
  },
  {
   "cell_type": "markdown",
   "id": "e00243de-6d6a-46c5-8910-174c09d87e5a",
   "metadata": {},
   "source": [
    "## Floating-Point Numbers"
   ]
  },
  {
   "cell_type": "markdown",
   "id": "a500f6fc-1bdb-42ad-9edc-8f2287bd0b06",
   "metadata": {},
   "source": [
    "The float type in Python designates a floating-point number. float values are specified with a decimal point. Optionally, the character e or E followed by a positive or negative integer may be appended to specify scientific notation:"
   ]
  },
  {
   "cell_type": "code",
   "execution_count": null,
   "id": "70154101-ad42-439d-8a29-304d673911d0",
   "metadata": {},
   "outputs": [],
   "source": [
    "4.2"
   ]
  },
  {
   "cell_type": "code",
   "execution_count": null,
   "id": "92d75015-4e9a-416b-a9e8-7ae645d48380",
   "metadata": {},
   "outputs": [],
   "source": [
    "type(4.2)"
   ]
  },
  {
   "cell_type": "code",
   "execution_count": null,
   "id": "ba70205b-f1ad-4a27-9213-188c9992fcdd",
   "metadata": {},
   "outputs": [],
   "source": [
    "4."
   ]
  },
  {
   "cell_type": "code",
   "execution_count": null,
   "id": "22dfcfa7-2266-4a60-a448-0cf83fba4f32",
   "metadata": {},
   "outputs": [],
   "source": [
    ".2"
   ]
  },
  {
   "cell_type": "code",
   "execution_count": null,
   "id": "105e06b3-5c8c-4228-bccf-e01b60e3df61",
   "metadata": {},
   "outputs": [],
   "source": [
    "4e7"
   ]
  },
  {
   "cell_type": "code",
   "execution_count": null,
   "id": "27a4e706-1957-4053-a9a8-57b42294c93d",
   "metadata": {},
   "outputs": [],
   "source": [
    "type(4e7)"
   ]
  },
  {
   "cell_type": "code",
   "execution_count": null,
   "id": "5e802d8d-133a-4170-839a-bb79f66c805e",
   "metadata": {},
   "outputs": [],
   "source": [
    "4.2e-4"
   ]
  },
  {
   "cell_type": "markdown",
   "id": "9994854f-151d-4069-aece-7269571de200",
   "metadata": {},
   "source": [
    "Use the `float()` buid-in function to convert to float: "
   ]
  },
  {
   "cell_type": "code",
   "execution_count": null,
   "id": "8aa9a8e1-4247-4896-b43d-2c396e9c0575",
   "metadata": {},
   "outputs": [],
   "source": [
    "a = 2\n",
    "print(type(a))\n",
    "a = float(a)\n",
    "print(type(a), a)"
   ]
  },
  {
   "cell_type": "markdown",
   "id": "8c414f81-4a3a-482d-983d-923942dc8590",
   "metadata": {},
   "source": [
    "### Floating-Point Representation"
   ]
  },
  {
   "cell_type": "markdown",
   "id": "5f69dc33-d15a-4e04-ae47-297e5c20dc4f",
   "metadata": {},
   "source": [
    "Almost all platforms represent Python float values as 64-bit “double-precision” values, according to the IEEE 754 standard. In that case, the maximum value a floating-point number can have is approximately 1.8 ⨉ 10^308. Python will indicate a number greater than that by the string inf:"
   ]
  },
  {
   "cell_type": "code",
   "execution_count": null,
   "id": "bf76e400-cec2-46e6-9366-3b051a2cd062",
   "metadata": {},
   "outputs": [],
   "source": [
    "1.79e308"
   ]
  },
  {
   "cell_type": "code",
   "execution_count": null,
   "id": "cf38fc77-2658-431f-ad0f-ab177116d21d",
   "metadata": {},
   "outputs": [],
   "source": [
    "1.8e308"
   ]
  },
  {
   "cell_type": "markdown",
   "id": "a646800d-6b64-4b24-8847-70cc8839c482",
   "metadata": {},
   "source": [
    "The closest a nonzero number can be to zero is approximately 5.0 ⨉ 10^-324. Anything closer to zero than that is effectively zero:"
   ]
  },
  {
   "cell_type": "code",
   "execution_count": null,
   "id": "6e3b2ef3-c2bc-4321-950d-77a4aeffdd50",
   "metadata": {},
   "outputs": [],
   "source": [
    "5e-324"
   ]
  },
  {
   "cell_type": "code",
   "execution_count": null,
   "id": "de4b25a4-a898-4f41-ab91-d9843810437b",
   "metadata": {},
   "outputs": [],
   "source": [
    "1e-325"
   ]
  },
  {
   "cell_type": "markdown",
   "id": "911640bb-1f41-45c4-9209-432d416761c3",
   "metadata": {},
   "source": [
    "Floating point numbers are represented internally as binary (base-2) fractions. Most decimal fractions cannot be represented exactly as binary fractions, so in most cases the internal representation of a floating-point number is an approximation of the actual value. In practice, the difference between the actual value and the represented value is very small and should not usually cause significant problems."
   ]
  },
  {
   "cell_type": "markdown",
   "id": "e9fcc0bd-2066-4a73-964b-b777d20e21cd",
   "metadata": {},
   "source": [
    "## Complex Numbers"
   ]
  },
  {
   "cell_type": "markdown",
   "id": "ae3fedd0-af74-4f8b-9b07-9a65d11775e0",
   "metadata": {},
   "source": [
    "Complex numbers are specified as `<real part>+<imaginary part>j`. For example:"
   ]
  },
  {
   "cell_type": "code",
   "execution_count": null,
   "id": "32ba166c-523b-4bac-8e09-ddac34b6c8bf",
   "metadata": {},
   "outputs": [],
   "source": [
    "2+3j"
   ]
  },
  {
   "cell_type": "code",
   "execution_count": null,
   "id": "a2f1fed8-f982-40f2-b36f-783d02d86940",
   "metadata": {},
   "outputs": [],
   "source": [
    "type(2+3j)"
   ]
  },
  {
   "cell_type": "markdown",
   "id": "a131b048-e52d-46c7-aed0-61bd9f533d90",
   "metadata": {},
   "source": [
    "## Strings"
   ]
  },
  {
   "cell_type": "markdown",
   "id": "e5c06c85-df3e-4db8-b9c1-9e08ac6f9804",
   "metadata": {},
   "source": [
    "Strings are sequences of character data. The string type in Python is called str.\n",
    "\n",
    "String literals may be delimited **using either single or double quotes**. All the characters between the opening delimiter and matching closing delimiter are part of the string:"
   ]
  },
  {
   "cell_type": "code",
   "execution_count": null,
   "id": "84dc2dda-22cc-417e-b1b0-f8fe93e84429",
   "metadata": {},
   "outputs": [],
   "source": [
    "print(\"I am a string.\")\n",
    "type(\"I am a string.\")"
   ]
  },
  {
   "cell_type": "code",
   "execution_count": null,
   "id": "58f81a24-7b7e-436f-8da1-f7c9311bfb35",
   "metadata": {},
   "outputs": [],
   "source": [
    "print('I am too.')\n",
    "type('I am too.')"
   ]
  },
  {
   "cell_type": "markdown",
   "id": "33abf510-43ab-488b-bf57-b28ca72b8699",
   "metadata": {},
   "source": [
    "A string in Python **can contain as many characters as you wish**. The only limit is your machine’s memory resources. A string **can also be empty**:"
   ]
  },
  {
   "cell_type": "code",
   "execution_count": null,
   "id": "616d70a1-fd33-458b-91c2-929fff6a72c1",
   "metadata": {},
   "outputs": [],
   "source": [
    "''"
   ]
  },
  {
   "cell_type": "markdown",
   "id": "35bee841-5b6e-4d49-8f62-7c8f2561f59b",
   "metadata": {},
   "source": [
    "What if you want to include a quote character as part of the string itself? Your first impulse might be to try something like this:"
   ]
  },
  {
   "cell_type": "code",
   "execution_count": null,
   "id": "adde1cfe-9344-48cd-a916-25f6a489117b",
   "metadata": {},
   "outputs": [],
   "source": [
    "print('This string contains a single quote (') character.')"
   ]
  },
  {
   "cell_type": "markdown",
   "id": "d6fde7c3-2d93-42eb-b6d3-2aa3466780e7",
   "metadata": {},
   "source": [
    "If you want to include either type of quote character within the string, the simplest way is to delimit the string with the other type. If a string is to contain a single quote, delimit it with double quotes and vice versa:"
   ]
  },
  {
   "cell_type": "code",
   "execution_count": null,
   "id": "493946fb-2a5a-4321-aefe-b60178eec480",
   "metadata": {},
   "outputs": [],
   "source": [
    "print(\"This string contains a single quote (') character.\")"
   ]
  },
  {
   "cell_type": "code",
   "execution_count": null,
   "id": "28667cd5-6c42-4190-8658-c89e68f8ce03",
   "metadata": {},
   "outputs": [],
   "source": [
    "print('This string contains a double quote (\") character.')"
   ]
  },
  {
   "cell_type": "markdown",
   "id": "18365d5c-0d93-4266-91bc-b161446c4f9d",
   "metadata": {},
   "source": [
    "Use the `str()` buid-in function to convert to string: "
   ]
  },
  {
   "cell_type": "code",
   "execution_count": null,
   "id": "f1a6cd00-17c6-450e-a997-9748dfd9cdc2",
   "metadata": {},
   "outputs": [],
   "source": [
    "a = 2\n",
    "print(type(a))\n",
    "a = str(a)\n",
    "print(type(a), a)"
   ]
  },
  {
   "cell_type": "markdown",
   "id": "155704ee-4d13-4d45-996e-0f20230e8177",
   "metadata": {},
   "source": [
    "### Escape Sequences in Strings"
   ]
  },
  {
   "cell_type": "markdown",
   "id": "b56886d4-6c09-4ad4-be9e-8067cc3eaa51",
   "metadata": {},
   "source": [
    "Sometimes, you want Python to interpret a character or sequence of characters within a string differently. This may occur in one of two ways:\n",
    "- You may want to **suppress the special interpretation** that certain characters are usually given within a string.\n",
    "- You may want to **apply special interpretation to characters** in a string which would normally be taken literally."
   ]
  },
  {
   "cell_type": "markdown",
   "id": "01dd463c-b7eb-447f-aa42-29414c597079",
   "metadata": {},
   "source": [
    "You can accomplish this using a backslash (`\\`) character. A backslash character in a string indicates that one or more characters that follow it should be treated specially. (This is referred to as an escape sequence, because the backslash causes the subsequent character sequence to “escape” its usual meaning.)"
   ]
  },
  {
   "cell_type": "markdown",
   "id": "7fe267e1-71fa-41cd-a757-67109e82142e",
   "metadata": {},
   "source": [
    "You have already seen the problems you can come up against when you try to include quote characters in a string. If a string is delimited by single quotes, you can’t directly specify a single quote character as part of the string because, for that string, the single quote has special meaning—it terminates the string."
   ]
  },
  {
   "cell_type": "markdown",
   "id": "87e1de94-dba8-43ab-9af0-2bdc05d286c2",
   "metadata": {},
   "source": [
    "Specifying a backslash in front of the quote character in a string “escapes” it and causes Python to suppress its usual special meaning. It is then interpreted simply as a literal single quote character:"
   ]
  },
  {
   "cell_type": "code",
   "execution_count": null,
   "id": "d1ebfc9e-380f-4b3b-b71d-505f73746152",
   "metadata": {},
   "outputs": [],
   "source": [
    "print('This string contains a single quote (\\') character.')"
   ]
  },
  {
   "cell_type": "markdown",
   "id": "857f49f9-6969-42a0-a498-1deddedc65dc",
   "metadata": {},
   "source": [
    "To include a literal backslash in a string, escape it with a backslash:"
   ]
  },
  {
   "cell_type": "code",
   "execution_count": null,
   "id": "7b3b54b9-651c-4c17-911a-1e0c0e1739de",
   "metadata": {},
   "outputs": [],
   "source": [
    "print('foo\\\\bar')"
   ]
  },
  {
   "cell_type": "markdown",
   "id": "3c2118d5-a011-4146-a2fa-e040235d5570",
   "metadata": {},
   "source": [
    "To break up a string over more than one line, include a backslash before each newline, and the newlines will be ignored:"
   ]
  },
  {
   "cell_type": "code",
   "execution_count": null,
   "id": "3d83db76-6b81-478d-8873-c2eaac080fd8",
   "metadata": {},
   "outputs": [],
   "source": [
    "print('a\\\n",
    "b\\\n",
    "c')"
   ]
  },
  {
   "cell_type": "markdown",
   "id": "3497610c-d03d-4837-b8af-4b7a93ae7e6d",
   "metadata": {},
   "source": [
    "Next, suppose you need to create a string that contains a tab character in it. Some text editors may allow you to insert a tab character directly into your code. But many programmers consider that poor practice, for several reasons:"
   ]
  },
  {
   "cell_type": "markdown",
   "id": "70116ae3-24d6-4f75-bdca-16b97718a04a",
   "metadata": {},
   "source": [
    "- The computer can distinguish between a tab character and a sequence of space characters, but you can’t. To a human reading the code, tab and space characters are visually indistinguishable.\n",
    "- Some text editors are configured to automatically eliminate tab characters by expanding them to the appropriate number of spaces.\n",
    "- Some Python REPL environments will not insert tabs into code."
   ]
  },
  {
   "cell_type": "code",
   "execution_count": null,
   "id": "d5a2308a-48ad-453a-b1f1-56fa263a38dd",
   "metadata": {},
   "outputs": [],
   "source": [
    "# ASCII Horizontal Tab (TAB) character\n",
    "print(\"a\\tb\")"
   ]
  },
  {
   "cell_type": "code",
   "execution_count": null,
   "id": "ec5ad31b-1273-40df-9e23-f512c3809822",
   "metadata": {},
   "outputs": [],
   "source": [
    "# ASCII Linefeed (LF) character\n",
    "print(\"a\\nb\")"
   ]
  },
  {
   "cell_type": "code",
   "execution_count": null,
   "id": "1ff89281-604d-4d03-b9b5-e16fa8ef8294",
   "metadata": {},
   "outputs": [],
   "source": [
    "# ASCII Backspace (BS) character\n",
    "print(\"ab\\b\")"
   ]
  },
  {
   "cell_type": "markdown",
   "id": "89da6279-e870-40d1-8336-f13d5c7a4bde",
   "metadata": {},
   "source": [
    "### Raw Strings"
   ]
  },
  {
   "cell_type": "markdown",
   "id": "c1f5599a-c624-46d2-b63d-b9787203c024",
   "metadata": {},
   "source": [
    "A raw string literal is preceded by r or R, which specifies that escape sequences in the associated string are not translated. The backslash character is left in the string:"
   ]
  },
  {
   "cell_type": "code",
   "execution_count": null,
   "id": "a98e8f65-2df2-4f7b-99e4-ccbc91994892",
   "metadata": {},
   "outputs": [],
   "source": [
    "print('foo\\nbar')"
   ]
  },
  {
   "cell_type": "code",
   "execution_count": null,
   "id": "6217279f-6ef2-4c05-9a5e-07c73e4b8cd3",
   "metadata": {},
   "outputs": [],
   "source": [
    "print(r'foo\\nbar')"
   ]
  },
  {
   "cell_type": "code",
   "execution_count": null,
   "id": "8accfef2-c23b-4033-852d-dd92731c6718",
   "metadata": {},
   "outputs": [],
   "source": [
    "print(R'foo\\\\bar')"
   ]
  },
  {
   "cell_type": "markdown",
   "id": "85d40fda-4d61-46f3-a7d8-438706fb8309",
   "metadata": {},
   "source": [
    "### Triple-Quoted Strings"
   ]
  },
  {
   "cell_type": "markdown",
   "id": "fb21897c-7259-4c6c-ae6c-012d6a9c19aa",
   "metadata": {},
   "source": [
    "There is yet another way of delimiting strings in Python. Triple-quoted strings are delimited by matching groups of three single quotes or three double quotes. Escape sequences still work in triple-quoted strings, but single quotes, double quotes, and newlines can be included without escaping them. This provides a convenient way to create a string with both single and double quotes in it:"
   ]
  },
  {
   "cell_type": "code",
   "execution_count": null,
   "id": "62e8f4e8-67c2-4c31-a07a-5550293e4903",
   "metadata": {},
   "outputs": [],
   "source": [
    "print('''This string has a single (') and a double (\") quote.''')"
   ]
  },
  {
   "cell_type": "markdown",
   "id": "9c7fde50-6902-4387-bd20-17221beff0ef",
   "metadata": {},
   "source": [
    "Because newlines can be included without escaping them, this also allows for multiline strings:"
   ]
  },
  {
   "cell_type": "code",
   "execution_count": null,
   "id": "bd98d020-6781-4bb3-865d-9eb3639ab39c",
   "metadata": {},
   "outputs": [],
   "source": [
    "print(\"\"\"This is a\n",
    "string that spans\n",
    "across several lines\"\"\")"
   ]
  },
  {
   "cell_type": "markdown",
   "id": "901d2e03-3e28-46a6-8fe0-6f20884e0ff2",
   "metadata": {},
   "source": [
    "## Boolean Type"
   ]
  },
  {
   "cell_type": "markdown",
   "id": "1de2bb5e-04b3-4ec3-8061-bbe3501039b0",
   "metadata": {},
   "source": [
    "Python 3 provides a Boolean data type. Objects of Boolean type may have one of two values, True or False:"
   ]
  },
  {
   "cell_type": "code",
   "execution_count": null,
   "id": "c2f1a70c-1aa1-46a4-86ea-311551e31506",
   "metadata": {},
   "outputs": [],
   "source": [
    "type(True)"
   ]
  },
  {
   "cell_type": "code",
   "execution_count": null,
   "id": "d0f6a257-b011-4839-a3cd-9ba80674880e",
   "metadata": {},
   "outputs": [],
   "source": [
    "type(False)"
   ]
  },
  {
   "cell_type": "markdown",
   "id": "3920d478-bce0-4c26-a54f-33d92573aa44",
   "metadata": {},
   "source": [
    "As you will see in upcoming tutorials, expressions in Python are often evaluated in Boolean context, meaning they are interpreted to represent truth or falsehood. A value that is true in Boolean context is sometimes said to be “truthy,” and one that is false in Boolean context is said to be “falsy.” (You may also see “falsy” spelled “falsey.”)"
   ]
  },
  {
   "cell_type": "markdown",
   "id": "90c17667-7f17-46de-adb5-f2109d5cde71",
   "metadata": {},
   "source": [
    "The “truthiness” of an object of Boolean type is self-evident: Boolean objects that are equal to True are truthy (true), and those equal to False are falsy (false). But non-Boolean objects can be evaluated in Boolean context as well and determined to be true or false."
   ]
  },
  {
   "cell_type": "markdown",
   "id": "3024d5f3-3918-459f-a529-d6e1dbd7098f",
   "metadata": {},
   "source": [
    "Use the `bool()` buid-in function to convert to bool: "
   ]
  },
  {
   "cell_type": "code",
   "execution_count": null,
   "id": "18d2ac5b-649e-4fcc-8c72-909c821f3218",
   "metadata": {},
   "outputs": [],
   "source": [
    "a = 0\n",
    "print(type(a))\n",
    "a = bool(a)\n",
    "print(type(a), a)"
   ]
  },
  {
   "cell_type": "markdown",
   "id": "bbae47b3-eab8-4ff4-89a9-f4de2a9bfe0e",
   "metadata": {},
   "source": [
    "In Python, all objects have a specific truth value. So, you can use the logical operators with all types of operands."
   ]
  },
  {
   "cell_type": "markdown",
   "id": "c5513e73-b471-48be-9e7e-e2295a4bff78",
   "metadata": {},
   "source": [
    "Python has well-established rules to determine the truth value of an object when you use that object in a Boolean context or as an operand in an expression built with logical operators. Here’s what the documentation says about this topic:"
   ]
  },
  {
   "cell_type": "markdown",
   "id": "9d0c3161-a8e0-4b63-8ed3-1ad02026198e",
   "metadata": {},
   "source": [
    "By default, an object is considered true unless its class defines either a `__bool__()` method that returns False or a `__len__()` method that returns zero, when called with the object. Here are most of the built-in objects considered false:\n",
    "- constants defined to be false: None and False.\n",
    "- zero of any numeric type: 0, 0.0, 0j, Decimal(0), Fraction(0, 1)\n",
    "- empty sequences and collections: '', (), [], {}, set(), range(0)"
   ]
  },
  {
   "cell_type": "markdown",
   "id": "33ce50e8-cd8f-45c3-a8c9-b53f8c62c1aa",
   "metadata": {},
   "source": [
    "## Getting Started With Operators"
   ]
  },
  {
   "cell_type": "markdown",
   "id": "dff06772-b886-4b08-8e89-0c2e86ce6836",
   "metadata": {},
   "source": [
    "In programming, an **operator** is usually a symbol or combination of symbols that allows you to perform a specific operation. This operation can act on one or more **operands**. If the operation involves a single operand, then the operator is **unary**. If the operator involves two operands, then the operator is **binary**."
   ]
  },
  {
   "cell_type": "code",
   "execution_count": null,
   "id": "89c588d8-45d7-4f1e-aadc-a4fbbb9655c2",
   "metadata": {},
   "outputs": [],
   "source": [
    "-273.15 # unary"
   ]
  },
  {
   "cell_type": "code",
   "execution_count": null,
   "id": "d7a58de8-04f7-4341-ac32-547def9343d3",
   "metadata": {},
   "outputs": [],
   "source": [
    "5 - 2 # binary"
   ]
  },
  {
   "cell_type": "markdown",
   "id": "5d32dcd4-c3cc-450e-8077-6aaffaf3fcc5",
   "metadata": {},
   "source": [
    "Programming languages typically have operators built in as part of their syntax. In many languages, including Python, you can also create your own operator or modify the behavior of existing ones, which is a powerful and advanced feature to have."
   ]
  },
  {
   "cell_type": "markdown",
   "id": "790a04b4-8d46-4c43-8d50-f8a53bba4ec9",
   "metadata": {},
   "source": [
    "Operators by themselves don’t do much:"
   ]
  },
  {
   "cell_type": "code",
   "execution_count": null,
   "id": "9662c83d-aaa5-4197-95cf-1bedfc6ed706",
   "metadata": {},
   "outputs": [],
   "source": [
    "-"
   ]
  },
  {
   "cell_type": "markdown",
   "id": "99d24a91-98e9-4c26-87f3-2a6c8d3ef252",
   "metadata": {},
   "source": [
    "**An expression is a simple statement that produces and returns a value.**"
   ]
  },
  {
   "cell_type": "code",
   "execution_count": null,
   "id": "99e8a4f6-890e-421f-81e6-874c48e51af1",
   "metadata": {},
   "outputs": [],
   "source": [
    "7 + 5"
   ]
  },
  {
   "cell_type": "markdown",
   "id": "16c94a20-7b36-4918-bf3c-80de1c987d9a",
   "metadata": {},
   "source": [
    "## Assignment Operator"
   ]
  },
  {
   "cell_type": "markdown",
   "id": "4ed8ba56-eda9-441e-a7c3-4906c725576d",
   "metadata": {},
   "source": [
    "The assignment operator is one of the most frequently used operators in Python. The operator consists of a single equal sign (`=`), and it operates on two operands. The left-hand operand is typically a variable, while the right-hand operand is an expression."
   ]
  },
  {
   "cell_type": "markdown",
   "id": "85c65d9a-75ae-4897-ba01-5e5a3aea233f",
   "metadata": {},
   "source": [
    "The assignment operator allows you to assign values to variables. Strictly speaking, in Python, this operator makes variables or names refer to specific objects in your computer’s memory. In other words, an assignment creates a reference to a concrete object and attaches that reference to the target variable."
   ]
  },
  {
   "cell_type": "code",
   "execution_count": null,
   "id": "a0f3d03b-72fa-4050-9fe7-c261f0ed3250",
   "metadata": {},
   "outputs": [],
   "source": [
    "number = 42\n",
    "day = \"Friday\""
   ]
  },
  {
   "cell_type": "markdown",
   "id": "8bf20c69-1913-4ce8-9778-e6a9968bc721",
   "metadata": {},
   "source": [
    "## Arithmetic Operators"
   ]
  },
  {
   "cell_type": "markdown",
   "id": "4acbd6d9-41d7-446f-9d1d-be3e395cd5cd",
   "metadata": {},
   "source": [
    "Arithmetic operators are those operators that allow you to perform arithmetic operations on numeric values. Yes, they come from math, and in most cases, you’ll represent them with the usual math signs. The following table lists the arithmetic operators that Python currently supports:"
   ]
  },
  {
   "cell_type": "markdown",
   "id": "82536c2a-b5e3-45cf-81e4-b4c9bb8f5af5",
   "metadata": {},
   "source": [
    "<div class=\"table-responsive\">\n",
    "<table class=\"table table-hover\">\n",
    "<thead>\n",
    "<tr>\n",
    "<th class=\"text-center\">Operator</th>\n",
    "<th>Type</th>\n",
    "<th>Operation</th>\n",
    "<th class=\"text-center\">Sample Expression</th>\n",
    "<th>Result</th>\n",
    "</tr>\n",
    "</thead>\n",
    "<tbody>\n",
    "<tr>\n",
    "<td class=\"text-center\"><code>+</code></td>\n",
    "<td>Unary</td>\n",
    "<td>Positive</td>\n",
    "<td class=\"text-center\"><code>+a</code></td>\n",
    "<td><code>a</code> without any transformation since this is simply a complement to negation</td>\n",
    "</tr>\n",
    "<tr>\n",
    "<td class=\"text-center\"><code>+</code></td>\n",
    "<td>Binary</td>\n",
    "<td>Addition</td>\n",
    "<td class=\"text-center\"><code>a + b</code></td>\n",
    "<td>The arithmetic sum of <code>a</code> and <code>b</code></td>\n",
    "</tr>\n",
    "<tr>\n",
    "<td class=\"text-center\"><code>-</code></td>\n",
    "<td>Unary</td>\n",
    "<td>Negation</td>\n",
    "<td class=\"text-center\"><code>-a</code></td>\n",
    "<td>The value of <code>a</code> but with the opposite sign</td>\n",
    "</tr>\n",
    "<tr>\n",
    "<td class=\"text-center\"><code>-</code></td>\n",
    "<td>Binary</td>\n",
    "<td>Subtraction</td>\n",
    "<td class=\"text-center\"><code>a - b</code></td>\n",
    "<td><code>b</code> subtracted from <code>a</code></td>\n",
    "</tr>\n",
    "<tr>\n",
    "<td class=\"text-center\"><code>*</code></td>\n",
    "<td>Binary</td>\n",
    "<td>Multiplication</td>\n",
    "<td class=\"text-center\"><code>a * b</code></td>\n",
    "<td>The product of <code>a</code> and <code>b</code></td>\n",
    "</tr>\n",
    "<tr>\n",
    "<td class=\"text-center\"><code>/</code></td>\n",
    "<td>Binary</td>\n",
    "<td>Division</td>\n",
    "<td class=\"text-center\"><code>a / b</code></td>\n",
    "<td>The quotient of <code>a</code> divided by <code>b</code>, expressed as a float</td>\n",
    "</tr>\n",
    "<tr>\n",
    "<td class=\"text-center\"><code>%</code></td>\n",
    "<td>Binary</td>\n",
    "<td>Modulo</td>\n",
    "<td class=\"text-center\"><code>a % b</code></td>\n",
    "<td>The remainder of <code>a</code> divided by <code>b</code></td>\n",
    "</tr>\n",
    "<tr>\n",
    "<td class=\"text-center\"><code>//</code></td>\n",
    "<td>Binary</td>\n",
    "<td>Floor division or integer division</td>\n",
    "<td class=\"text-center\"><code>a // b</code></td>\n",
    "<td>The quotient of <code>a</code> divided by <code>b</code>, rounded to the next smallest whole number</td>\n",
    "</tr>\n",
    "<tr>\n",
    "<td class=\"text-center\"><code>**</code></td>\n",
    "<td>Binary</td>\n",
    "<td>Exponentiation</td>\n",
    "<td class=\"text-center\"><code>a**b</code></td>\n",
    "<td><code>a</code> raised to the power of <code>b</code></td>\n",
    "</tr>\n",
    "</tbody>\n",
    "</table>\n",
    "</div>"
   ]
  },
  {
   "cell_type": "code",
   "execution_count": null,
   "id": "34cdaff2-c0dc-4b99-8e2d-b53ab4b8c946",
   "metadata": {},
   "outputs": [],
   "source": [
    "a = 5\n",
    "b = 2"
   ]
  },
  {
   "cell_type": "code",
   "execution_count": null,
   "id": "a3a39daa-3149-4b43-8c6b-92e627954b90",
   "metadata": {},
   "outputs": [],
   "source": [
    "a + b"
   ]
  },
  {
   "cell_type": "code",
   "execution_count": null,
   "id": "b77a0b53-99a8-44ed-8a9f-ae6399c78fbf",
   "metadata": {},
   "outputs": [],
   "source": [
    "a / b"
   ]
  },
  {
   "cell_type": "code",
   "execution_count": null,
   "id": "8c81277e-7766-4a1e-94de-8b31c46f8fb0",
   "metadata": {},
   "outputs": [],
   "source": [
    "a % b"
   ]
  },
  {
   "cell_type": "code",
   "execution_count": null,
   "id": "2853aee7-b4b7-4167-82ad-7cb6bbeddfcb",
   "metadata": {},
   "outputs": [],
   "source": [
    "a // b # Floor division always rounds down. "
   ]
  },
  {
   "cell_type": "code",
   "execution_count": null,
   "id": "568ad9a7-6ee5-4b8d-a622-7cf73b493298",
   "metadata": {},
   "outputs": [],
   "source": [
    "a**b"
   ]
  },
  {
   "cell_type": "markdown",
   "id": "fca2b66f-1218-467b-849b-d2090a570610",
   "metadata": {},
   "source": [
    "Again, the standard division operator (/) always returns a floating-point number, even if the dividend is evenly divisible by the divisor:"
   ]
  },
  {
   "cell_type": "code",
   "execution_count": null,
   "id": "dfb56227-eec2-4390-9390-d7f0e4a9deea",
   "metadata": {},
   "outputs": [],
   "source": [
    "10 / 5"
   ]
  },
  {
   "cell_type": "markdown",
   "id": "5ebbce32-fd3e-4728-b593-d76303bf4d29",
   "metadata": {},
   "source": [
    "Python is srongly typed: It won’t let unsafe operations on incompatible types go unnoticed."
   ]
  },
  {
   "cell_type": "code",
   "execution_count": null,
   "id": "8679ac63-1328-49ef-894c-6cd10472eb51",
   "metadata": {},
   "outputs": [],
   "source": [
    "3 + \"3\""
   ]
  },
  {
   "cell_type": "markdown",
   "id": "8883593b-539b-432d-9796-b7e8f1908ebe",
   "metadata": {},
   "source": [
    "## Comparison Operators"
   ]
  },
  {
   "cell_type": "markdown",
   "id": "13b87d9e-de9c-4e0d-8b11-bc458a7a7842",
   "metadata": {},
   "source": [
    "The Python comparison operators allow you to compare numerical values and any other objects that support them. The table below lists all the currently available comparison operators in Python:"
   ]
  },
  {
   "cell_type": "markdown",
   "id": "c93b2557-e8d7-4fe7-a4ff-fac71cf4da1d",
   "metadata": {},
   "source": [
    "<div class=\"table-responsive\">\n",
    "<table class=\"table table-hover\">\n",
    "<thead>\n",
    "<tr>\n",
    "<th class=\"text-center\">Operator</th>\n",
    "<th>Operation</th>\n",
    "<th class=\"text-center\">Sample Expression</th>\n",
    "<th>Result</th>\n",
    "</tr>\n",
    "</thead>\n",
    "<tbody>\n",
    "<tr>\n",
    "<td class=\"text-center\"><code>==</code></td>\n",
    "<td>Equal to</td>\n",
    "<td class=\"text-center\"><code>a == b</code></td>\n",
    "<td>• <code>True</code> if the value of <code>a</code> is equal to the value of <code>b</code><br>• <code>False</code> otherwise</td>\n",
    "</tr>\n",
    "<tr>\n",
    "<td class=\"text-center\"><code>!=</code></td>\n",
    "<td>Not equal to</td>\n",
    "<td class=\"text-center\"><code>a != b</code></td>\n",
    "<td>• <code>True</code> if <code>a</code> isn’t equal to <code>b</code><br>• <code>False</code> otherwise</td>\n",
    "</tr>\n",
    "<tr>\n",
    "<td class=\"text-center\"><code>&lt;</code></td>\n",
    "<td>Less than</td>\n",
    "<td class=\"text-center\"><code>a &lt; b</code></td>\n",
    "<td>• <code>True</code> if <code>a</code> is less than <code>b</code><br>• <code>False</code> otherwise</td>\n",
    "</tr>\n",
    "<tr>\n",
    "<td class=\"text-center\"><code>&lt;=</code></td>\n",
    "<td>Less than or equal to</td>\n",
    "<td class=\"text-center\"><code>a &lt;= b</code></td>\n",
    "<td>• <code>True</code> if <code>a</code> is less than or equal to <code>b</code><br>• <code>False</code> otherwise</td>\n",
    "</tr>\n",
    "<tr>\n",
    "<td class=\"text-center\"><code>&gt;</code></td>\n",
    "<td>Greater than</td>\n",
    "<td class=\"text-center\"><code>a &gt; b</code></td>\n",
    "<td>• <code>True</code> if <code>a</code> is greater than <code>b</code><br>• <code>False</code> otherwise</td>\n",
    "</tr>\n",
    "<tr>\n",
    "<td class=\"text-center\"><code>&gt;=</code></td>\n",
    "<td>Greater than or equal to</td>\n",
    "<td class=\"text-center\"><code>a &gt;= b</code></td>\n",
    "<td>• <code>True</code> if <code>a</code> is greater than or equal to <code>b</code><br>• <code>False</code> otherwise</td>\n",
    "</tr>\n",
    "</tbody>\n",
    "</table>\n",
    "</div>"
   ]
  },
  {
   "cell_type": "markdown",
   "id": "89067c05-3f31-4d89-879e-7c0ca0f35f76",
   "metadata": {},
   "source": [
    "The comparison operators are all binary. This means that they require left and right operands. These operators **always return a Boolean value (True or False)** that depends on the truth value of the comparison at hand."
   ]
  },
  {
   "cell_type": "markdown",
   "id": "ff2ccf57-8dd8-44b7-a171-91a96f08aee8",
   "metadata": {},
   "source": [
    "Note that comparisons between objects of different data types often don’t make sense and sometimes aren’t allowed in Python. For example, you can compare a number and a string for equality with the == operator. However, you’ll get False as a result:"
   ]
  },
  {
   "cell_type": "code",
   "execution_count": null,
   "id": "998ac8e3-eb4b-407b-ab9a-7d871b5dcfe1",
   "metadata": {},
   "outputs": [],
   "source": [
    "2 == \"2\""
   ]
  },
  {
   "cell_type": "markdown",
   "id": "a8640b1c-c01e-4024-a077-f25ac43416e9",
   "metadata": {},
   "source": [
    "Non-equality comparisons between operands of different data types raise a TypeError exception:"
   ]
  },
  {
   "cell_type": "code",
   "execution_count": null,
   "id": "11db814d-6208-4b58-8b1c-03689e4f355d",
   "metadata": {},
   "outputs": [],
   "source": [
    "5 < \"7\""
   ]
  },
  {
   "cell_type": "markdown",
   "id": "4e5d7c01-b79b-4bb7-9dc4-765a94073c94",
   "metadata": {},
   "source": [
    "It’s important to note that in the context of comparisons, **integer and floating-point values are compatible, and you can compare them.**"
   ]
  },
  {
   "cell_type": "markdown",
   "id": "afc8d6aa-7b63-46e9-a291-141ae0303013",
   "metadata": {},
   "source": [
    "### Comparison of Integer Values"
   ]
  },
  {
   "cell_type": "markdown",
   "id": "bf0574c8-6c8c-4d14-8540-715edbaae769",
   "metadata": {},
   "source": [
    "Probably, the more straightforward comparisons in Python and in math are those involving integer numbers. "
   ]
  },
  {
   "cell_type": "markdown",
   "id": "51cadc5f-57d2-469f-bfa6-04b175b297f3",
   "metadata": {},
   "source": [
    "Consider the following examples that compare integer numbers:"
   ]
  },
  {
   "cell_type": "code",
   "execution_count": null,
   "id": "54216427-872f-4a1c-8e06-f3141f5ca501",
   "metadata": {},
   "outputs": [],
   "source": [
    "a = 10\n",
    "b = 20\n",
    "a == b"
   ]
  },
  {
   "cell_type": "code",
   "execution_count": null,
   "id": "387b3f16-77f2-4cfb-9458-41375abc1a16",
   "metadata": {},
   "outputs": [],
   "source": [
    "a < b"
   ]
  },
  {
   "cell_type": "markdown",
   "id": "1579bef0-ead8-4f18-9852-7fdd41141d3d",
   "metadata": {},
   "source": [
    "### Comparison of Floating-Point Values"
   ]
  },
  {
   "cell_type": "markdown",
   "id": "3acda085-ff6e-4fd3-a271-257bbd861ba5",
   "metadata": {},
   "source": [
    "Comparing floating-point numbers is a bit more complicated than comparing integers. The value stored in a float object may not be precisely what you’d think it would be. For that reason, **it’s bad practice to compare floating-point values for exact equality using the == operator**."
   ]
  },
  {
   "cell_type": "markdown",
   "id": "5b865b65-c4f0-48d1-a326-dae279ed1d5d",
   "metadata": {},
   "source": [
    "Consider the example below:"
   ]
  },
  {
   "cell_type": "code",
   "execution_count": null,
   "id": "9569e6c2-5fba-4c35-88ae-3a89558ac329",
   "metadata": {},
   "outputs": [],
   "source": [
    "x = 1.1 + 2.2\n",
    "print(x)"
   ]
  },
  {
   "cell_type": "code",
   "execution_count": null,
   "id": "a77f0005-1800-4ba7-b15c-1a44198fa557",
   "metadata": {},
   "outputs": [],
   "source": [
    "x == 3.3"
   ]
  },
  {
   "cell_type": "markdown",
   "id": "43acee95-a0dd-4460-a133-3cd89e8cbe93",
   "metadata": {},
   "source": [
    "To compare floating-point numbers for equality, you need to use a different approach. The preferred way to determine whether two floating-point values are equal is to determine whether they’re close to one another, given some tolerance."
   ]
  },
  {
   "cell_type": "markdown",
   "id": "e15a91a1-792e-45db-a53b-64863596ac1a",
   "metadata": {},
   "source": [
    "The math module from the standard library provides a function conveniently called `isclose()` that will help you with float comparison. The function takes two numbers and tests them for approximate equality:"
   ]
  },
  {
   "cell_type": "code",
   "execution_count": null,
   "id": "c636506c-9492-407e-9773-b9d9cdab2a25",
   "metadata": {},
   "outputs": [],
   "source": [
    "from math import isclose\n",
    "\n",
    "x = 1.1 + 2.2\n",
    "isclose(x, 3.3)"
   ]
  },
  {
   "cell_type": "markdown",
   "id": "54d5f015-4b37-4bcd-bea6-59841e729062",
   "metadata": {},
   "source": [
    "### Comparison of Strings"
   ]
  },
  {
   "cell_type": "markdown",
   "id": "ad77a2e2-fa53-427b-b210-159e4d204821",
   "metadata": {},
   "source": [
    "You can also use the comparison operators to compare Python strings in your code. In this context, you need to be aware of how Python internally compares string objects. In practice, Python compares strings character by character using each character’s Unicode code point. Unicode is Python’s default character set."
   ]
  },
  {
   "cell_type": "code",
   "execution_count": null,
   "id": "47538d3d-c0b3-48f8-9bd0-307e74340f3c",
   "metadata": {},
   "outputs": [],
   "source": [
    "\"A\" == \"a\""
   ]
  },
  {
   "cell_type": "code",
   "execution_count": null,
   "id": "8af5a54e-1360-4686-932d-0efb4a8d2745",
   "metadata": {},
   "outputs": [],
   "source": [
    "\"A\" > \"a\""
   ]
  },
  {
   "cell_type": "code",
   "execution_count": null,
   "id": "a3264f0f-b997-4d2b-bc9a-343ef642da40",
   "metadata": {},
   "outputs": [],
   "source": [
    "print(ord(\"A\"), ord(\"a\"))"
   ]
  },
  {
   "cell_type": "markdown",
   "id": "f335c0a2-cb4e-458a-a8ad-448af7876aed",
   "metadata": {},
   "source": [
    "The comparison uses lexicographical ordering, which means that Python compares the first item from each string. If their Unicode code points are different, this difference determines the comparison result. If the Unicode code points are equal, then Python compares the next two characters, and so on, until either string is exhausted:"
   ]
  },
  {
   "cell_type": "code",
   "execution_count": null,
   "id": "e9e8d52b-7b23-4780-898d-dbe0983ee533",
   "metadata": {},
   "outputs": [],
   "source": [
    "\"Hello\" > \"HellO\""
   ]
  },
  {
   "cell_type": "markdown",
   "id": "20892048-c0a1-405b-804c-d16e94ac5e7a",
   "metadata": {},
   "source": [
    "## Boolean Operators"
   ]
  },
  {
   "cell_type": "markdown",
   "id": "e200abec-7bad-46c1-8763-28bbc7e75f7e",
   "metadata": {},
   "source": [
    "Python has three Boolean or logical operators: `and`, `or`, and `not`. They define a set of operations denoted by the generic operators AND, OR, and NOT. With these operators, you can create compound conditions."
   ]
  },
  {
   "cell_type": "markdown",
   "id": "4c050eed-bcc6-4327-b6c7-0552ec0c3c33",
   "metadata": {},
   "source": [
    "<div class=\"table-responsive\">\n",
    "<table class=\"table table-hover\">\n",
    "<thead>\n",
    "<tr>\n",
    "<th>Operator</th>\n",
    "<th>Sample Expression</th>\n",
    "<th>Result</th>\n",
    "</tr>\n",
    "</thead>\n",
    "<tbody>\n",
    "<tr>\n",
    "<td><code>and</code></td>\n",
    "<td><code>x and y</code></td>\n",
    "<td>• <code>True</code> if both <code>x</code> and <code>y</code> are <code>True</code><br>• <code>False</code> otherwise</td>\n",
    "</tr>\n",
    "<tr>\n",
    "<td><code>or</code></td>\n",
    "<td><code>x or y</code></td>\n",
    "<td>• <code>True</code> if either <code>x</code> or <code>y</code> is <code>True</code><br>• <code>False</code> otherwise</td>\n",
    "</tr>\n",
    "<tr>\n",
    "<td><code>not</code></td>\n",
    "<td><code>not x</code></td>\n",
    "<td>• <code>True</code> if <code>x</code> is <code>False</code><br>• <code>False</code> if <code>x</code> is <code>True</code></td>\n",
    "</tr>\n",
    "</tbody>\n",
    "</table>\n",
    "</div>"
   ]
  },
  {
   "cell_type": "code",
   "execution_count": null,
   "id": "0ad8c85d-45c5-41f9-a563-bbe59928bdc7",
   "metadata": {},
   "outputs": [],
   "source": [
    "5 < 7 and 3 == 3"
   ]
  },
  {
   "cell_type": "code",
   "execution_count": null,
   "id": "6afff2f7-f5bc-4346-a9a2-5289d081d39b",
   "metadata": {},
   "outputs": [],
   "source": [
    "5 < 7 and 3 != 3"
   ]
  },
  {
   "cell_type": "code",
   "execution_count": null,
   "id": "5db865e0-d56b-4245-b05e-b757102ea9eb",
   "metadata": {},
   "outputs": [],
   "source": [
    "5 < 7 or 3 == 3"
   ]
  },
  {
   "cell_type": "code",
   "execution_count": null,
   "id": "43f78147-329a-469a-90dc-dd223bee2d44",
   "metadata": {},
   "outputs": [],
   "source": [
    "5 > 7 or 3 == 3"
   ]
  },
  {
   "cell_type": "code",
   "execution_count": null,
   "id": "e1e1bcce-8503-4df8-a3d6-ef4e0afb8f47",
   "metadata": {},
   "outputs": [],
   "source": [
    "not 5 < 7"
   ]
  },
  {
   "cell_type": "markdown",
   "id": "dafe60af-8948-4c88-b4f9-a196a9f9a403",
   "metadata": {},
   "source": [
    "Here are some code examples that use integer values. Remember that in Python, the zero value of numeric types is falsy. The rest of the values are truthy:"
   ]
  },
  {
   "cell_type": "code",
   "execution_count": null,
   "id": "cd1852d5-f704-4dec-abf1-60f96e87d07a",
   "metadata": {},
   "outputs": [],
   "source": [
    "3 and 4"
   ]
  },
  {
   "cell_type": "code",
   "execution_count": null,
   "id": "7240bdb4-dc79-44f9-a5b4-809d01db163e",
   "metadata": {},
   "outputs": [],
   "source": [
    "0 and 4"
   ]
  },
  {
   "cell_type": "code",
   "execution_count": null,
   "id": "8236ce4b-55a4-4e16-aa96-88503a0e742d",
   "metadata": {},
   "outputs": [],
   "source": [
    "3 and 0"
   ]
  },
  {
   "cell_type": "markdown",
   "id": "f54e8c8e-ac6c-404c-bbb4-85e6f16e07a3",
   "metadata": {},
   "source": [
    "## Identity Operators "
   ]
  },
  {
   "cell_type": "markdown",
   "id": "dbdd60d8-ef62-4d2b-b42f-8277fb2335ba",
   "metadata": {},
   "source": [
    "Python provides two operators, is and is not, that allow you to determine whether two operands have the same **identity**. In other words, they let you check if the operands refer to the same object. Note that identity isn’t the same thing as equality. The latter aims to check whether two operands contain the same data."
   ]
  },
  {
   "cell_type": "markdown",
   "id": "d70e731e-7294-4785-96c2-a57de3a1cfd2",
   "metadata": {},
   "source": [
    "<div class=\"table-responsive\">\n",
    "<table class=\"table table-hover\">\n",
    "<thead>\n",
    "<tr>\n",
    "<th>Operator</th>\n",
    "<th>Sample Expression</th>\n",
    "<th>Result</th>\n",
    "</tr>\n",
    "</thead>\n",
    "<tbody>\n",
    "<tr>\n",
    "<td><a href=\"https://docs.python.org/3/reference/expressions.html#is\"><code>is</code></a></td>\n",
    "<td><code>x is y</code></td>\n",
    "<td>• <code>True</code> if <code>x</code> and <code>y</code> hold a reference to the same in-memory object<br>• <code>False</code> otherwise</td>\n",
    "</tr>\n",
    "<tr>\n",
    "<td><a href=\"https://docs.python.org/3/reference/expressions.html#is-not\"><code>is not</code></a></td>\n",
    "<td><code>x is not y</code></td>\n",
    "<td>• <code>True</code> if <code>x</code> points to an object different from the object that <code>y</code> points to<br>• <code>False</code> otherwise</td>\n",
    "</tr>\n",
    "</tbody>\n",
    "</table>\n",
    "</div>"
   ]
  },
  {
   "cell_type": "code",
   "execution_count": null,
   "id": "0e9b53cb-241a-4cf9-8ffe-6c51f316fcec",
   "metadata": {},
   "outputs": [],
   "source": [
    "x = 1001\n",
    "y = 1001\n",
    "\n",
    "print(x == y)\n",
    "print(x is y)"
   ]
  },
  {
   "cell_type": "markdown",
   "id": "438173e0-2c1d-4013-8844-88fe51319a3d",
   "metadata": {},
   "source": [
    "In this example, x and y refer to objects whose value is 1001. So, they’re equal. However, they don’t reference the same object. That’s why the is operator returns False. You can check an object’s identity using the built-in id() function:"
   ]
  },
  {
   "cell_type": "code",
   "execution_count": null,
   "id": "828f911d-3a9d-4e01-bde8-9b2c54022b56",
   "metadata": {},
   "outputs": [],
   "source": [
    "id(x)"
   ]
  },
  {
   "cell_type": "code",
   "execution_count": null,
   "id": "d1a44c05-fb73-4050-916f-f0152bc22054",
   "metadata": {},
   "outputs": [],
   "source": [
    "id(y)"
   ]
  },
  {
   "cell_type": "markdown",
   "id": "1de51b06-8f43-4d83-b32f-00b38cbb9c79",
   "metadata": {},
   "source": [
    "As you can conclude from the id() output, x and y don’t have the same identity. So, they’re different objects, and because of that, the expression x is y returns False. In other words, you get False because you have two different instances of 1001 stored in your computer’s memory."
   ]
  },
  {
   "cell_type": "markdown",
   "id": "afa16c0b-acb8-4179-84ce-83ccaed92770",
   "metadata": {},
   "source": [
    "When you make an assignment like y = x, Python creates a second reference to the same object. Again, you can confirm that with the id() function or the is operator:"
   ]
  },
  {
   "cell_type": "code",
   "execution_count": null,
   "id": "def34aa0-e74d-4b58-a26d-6f3b421fb47d",
   "metadata": {},
   "outputs": [],
   "source": [
    "a = \"Hello, Pythonista!\"\n",
    "b = a\n",
    "\n",
    "print(id(a), id(b))"
   ]
  },
  {
   "cell_type": "code",
   "execution_count": null,
   "id": "831f6600-9458-45b6-8fa4-d3b051a6ba7b",
   "metadata": {},
   "outputs": [],
   "source": [
    "a is b"
   ]
  },
  {
   "cell_type": "markdown",
   "id": "3a66720a-af74-4d56-b7ac-267f359133b8",
   "metadata": {},
   "source": [
    "# Razlaga"
   ]
  },
  {
   "cell_type": "code",
   "execution_count": 1,
   "id": "65cca1bd-392b-4cdf-ab65-84db15fe1de2",
   "metadata": {},
   "outputs": [
    {
     "data": {
      "text/plain": [
       "int"
      ]
     },
     "execution_count": 1,
     "metadata": {},
     "output_type": "execute_result"
    }
   ],
   "source": [
    "type(1)"
   ]
  },
  {
   "cell_type": "code",
   "execution_count": 2,
   "id": "cc75178f-f5d4-458e-85b8-11c48e3e3cec",
   "metadata": {},
   "outputs": [
    {
     "name": "stdout",
     "output_type": "stream",
     "text": [
      "45888888888888888888888888888888884449309429455493245849953458\n"
     ]
    }
   ],
   "source": [
    "print(45888888888888888888888888888888884449309429455493245849953458)"
   ]
  },
  {
   "cell_type": "code",
   "execution_count": 6,
   "id": "c2ff9af5-c8be-435a-99ab-0dd610168d9b",
   "metadata": {},
   "outputs": [
    {
     "name": "stdout",
     "output_type": "stream",
     "text": [
      "224\n"
     ]
    }
   ],
   "source": [
    "x = 4\n",
    "# get size of x in bytes\n",
    "import sys\n",
    "print(sys.getsizeof(x) * 8)"
   ]
  },
  {
   "cell_type": "code",
   "execution_count": 7,
   "id": "9375f3b8-e412-4eaa-bcdd-703624733809",
   "metadata": {},
   "outputs": [
    {
     "name": "stdout",
     "output_type": "stream",
     "text": [
      "16\n"
     ]
    }
   ],
   "source": [
    "print(0x10) # Hexadecimal"
   ]
  },
  {
   "cell_type": "code",
   "execution_count": 9,
   "metadata": {},
   "outputs": [
    {
     "name": "stdout",
     "output_type": "stream",
     "text": [
      "2\n"
     ]
    }
   ],
   "source": [
    "print(0b0010) # Binary"
   ]
  },
  {
   "cell_type": "code",
   "execution_count": 10,
   "id": "471f8dce-3421-4373-8421-d8a5b77eb65d",
   "metadata": {},
   "outputs": [
    {
     "name": "stdout",
     "output_type": "stream",
     "text": [
      "8\n"
     ]
    }
   ],
   "source": [
    "print(0o10) # Octal"
   ]
  },
  {
   "cell_type": "code",
   "execution_count": 11,
   "metadata": {},
   "outputs": [
    {
     "data": {
      "text/plain": [
       "int"
      ]
     },
     "execution_count": 11,
     "metadata": {},
     "output_type": "execute_result"
    }
   ],
   "source": [
    "type(0x10)"
   ]
  },
  {
   "cell_type": "code",
   "execution_count": 17,
   "metadata": {},
   "outputs": [
    {
     "name": "stdout",
     "output_type": "stream",
     "text": [
      "<class 'float'> 454545.56\n",
      "<class 'int'> 454545\n"
     ]
    }
   ],
   "source": [
    "a = 454545.56\n",
    "print(type(a), a)\n",
    "a = int(a)\n",
    "print(type(a), a)"
   ]
  },
  {
   "cell_type": "markdown",
   "metadata": {},
   "source": [
    "Float"
   ]
  },
  {
   "cell_type": "code",
   "execution_count": 19,
   "metadata": {},
   "outputs": [
    {
     "data": {
      "text/plain": [
       "4.2"
      ]
     },
     "execution_count": 19,
     "metadata": {},
     "output_type": "execute_result"
    }
   ],
   "source": [
    "4.2"
   ]
  },
  {
   "cell_type": "code",
   "execution_count": 20,
   "metadata": {},
   "outputs": [
    {
     "data": {
      "text/plain": [
       "float"
      ]
     },
     "execution_count": 20,
     "metadata": {},
     "output_type": "execute_result"
    }
   ],
   "source": [
    "type(.043)"
   ]
  },
  {
   "cell_type": "code",
   "execution_count": 21,
   "metadata": {},
   "outputs": [
    {
     "data": {
      "text/plain": [
       "4.0"
      ]
     },
     "execution_count": 21,
     "metadata": {},
     "output_type": "execute_result"
    }
   ],
   "source": [
    "4."
   ]
  },
  {
   "cell_type": "code",
   "execution_count": 22,
   "metadata": {},
   "outputs": [
    {
     "data": {
      "text/plain": [
       "40000000.0"
      ]
     },
     "execution_count": 22,
     "metadata": {},
     "output_type": "execute_result"
    }
   ],
   "source": [
    "4e7"
   ]
  },
  {
   "cell_type": "code",
   "execution_count": 23,
   "metadata": {},
   "outputs": [
    {
     "data": {
      "text/plain": [
       "43434.0"
      ]
     },
     "execution_count": 23,
     "metadata": {},
     "output_type": "execute_result"
    }
   ],
   "source": [
    "float(43434)"
   ]
  },
  {
   "cell_type": "code",
   "execution_count": 24,
   "metadata": {},
   "outputs": [
    {
     "data": {
      "text/plain": [
       "1.79e+308"
      ]
     },
     "execution_count": 24,
     "metadata": {},
     "output_type": "execute_result"
    }
   ],
   "source": [
    "1.79e308"
   ]
  },
  {
   "cell_type": "code",
   "execution_count": 25,
   "metadata": {},
   "outputs": [
    {
     "data": {
      "text/plain": [
       "inf"
      ]
     },
     "execution_count": 25,
     "metadata": {},
     "output_type": "execute_result"
    }
   ],
   "source": [
    "1.8e308"
   ]
  },
  {
   "cell_type": "code",
   "execution_count": 26,
   "metadata": {},
   "outputs": [
    {
     "data": {
      "text/plain": [
       "5e-324"
      ]
     },
     "execution_count": 26,
     "metadata": {},
     "output_type": "execute_result"
    }
   ],
   "source": [
    "5e-324"
   ]
  },
  {
   "cell_type": "code",
   "execution_count": 27,
   "metadata": {},
   "outputs": [
    {
     "data": {
      "text/plain": [
       "0.0"
      ]
     },
     "execution_count": 27,
     "metadata": {},
     "output_type": "execute_result"
    }
   ],
   "source": [
    "1e-325"
   ]
  },
  {
   "cell_type": "markdown",
   "metadata": {},
   "source": [
    "Complex Numbers"
   ]
  },
  {
   "cell_type": "code",
   "execution_count": 28,
   "metadata": {},
   "outputs": [
    {
     "data": {
      "text/plain": [
       "(2+3j)"
      ]
     },
     "execution_count": 28,
     "metadata": {},
     "output_type": "execute_result"
    }
   ],
   "source": [
    "2+3j"
   ]
  },
  {
   "cell_type": "markdown",
   "metadata": {},
   "source": [
    "Strings"
   ]
  },
  {
   "cell_type": "code",
   "execution_count": 29,
   "metadata": {},
   "outputs": [
    {
     "name": "stdout",
     "output_type": "stream",
     "text": [
      "Besedilo je tako\n"
     ]
    }
   ],
   "source": [
    "print(\"Besedilo je tako\")"
   ]
  },
  {
   "cell_type": "code",
   "execution_count": 30,
   "metadata": {},
   "outputs": [
    {
     "name": "stdout",
     "output_type": "stream",
     "text": [
      "Besedilo je tako\n"
     ]
    }
   ],
   "source": [
    "print('Besedilo je tako')"
   ]
  },
  {
   "cell_type": "code",
   "execution_count": 31,
   "metadata": {},
   "outputs": [
    {
     "data": {
      "text/plain": [
       "str"
      ]
     },
     "execution_count": 31,
     "metadata": {},
     "output_type": "execute_result"
    }
   ],
   "source": [
    "type(\"Besedilo je tako\")"
   ]
  },
  {
   "cell_type": "code",
   "execution_count": 32,
   "metadata": {},
   "outputs": [
    {
     "data": {
      "text/plain": [
       "''"
      ]
     },
     "execution_count": 32,
     "metadata": {},
     "output_type": "execute_result"
    }
   ],
   "source": [
    "\"\""
   ]
  },
  {
   "cell_type": "code",
   "execution_count": 34,
   "metadata": {},
   "outputs": [
    {
     "name": "stdout",
     "output_type": "stream",
     "text": [
      "It's is a nice day today.\n"
     ]
    }
   ],
   "source": [
    "print(\"It's is a nice day today.\")"
   ]
  },
  {
   "cell_type": "code",
   "execution_count": 36,
   "metadata": {},
   "outputs": [
    {
     "data": {
      "text/plain": [
       "str"
      ]
     },
     "execution_count": 36,
     "metadata": {},
     "output_type": "execute_result"
    }
   ],
   "source": [
    "type(str(4))"
   ]
  },
  {
   "cell_type": "code",
   "execution_count": 37,
   "metadata": {},
   "outputs": [
    {
     "name": "stdout",
     "output_type": "stream",
     "text": [
      "It's is a nice day today.\n"
     ]
    }
   ],
   "source": [
    "print('It\\'s is a nice day today.')"
   ]
  },
  {
   "cell_type": "code",
   "execution_count": 39,
   "metadata": {},
   "outputs": [
    {
     "name": "stdout",
     "output_type": "stream",
     "text": [
      "c:\\Users\\janez\\Documents\\Python\n"
     ]
    }
   ],
   "source": [
    "print(\"c:\\\\Users\\\\janez\\\\Documents\\\\Python\")"
   ]
  },
  {
   "cell_type": "code",
   "execution_count": 40,
   "metadata": {},
   "outputs": [
    {
     "name": "stdout",
     "output_type": "stream",
     "text": [
      "c:Users\\janez\\Documents\\Python\n"
     ]
    }
   ],
   "source": [
    "import os\n",
    "\n",
    "a = os.path.join(\"c:\", \"Users\", \"janez\", \"Documents\", \"Python\")\n",
    "print(a)\n"
   ]
  },
  {
   "cell_type": "code",
   "execution_count": 44,
   "metadata": {},
   "outputs": [
    {
     "name": "stdout",
     "output_type": "stream",
     "text": [
      "neki je lepo\n"
     ]
    }
   ],
   "source": [
    "print(\"neki \\\n",
    "je \\\n",
    "lepo\")"
   ]
  },
  {
   "cell_type": "code",
   "execution_count": 45,
   "metadata": {},
   "outputs": [
    {
     "name": "stdout",
     "output_type": "stream",
     "text": [
      "Danes je\tlepo\n"
     ]
    }
   ],
   "source": [
    "print(\"Danes je\\tlepo\")"
   ]
  },
  {
   "cell_type": "code",
   "execution_count": 46,
   "metadata": {},
   "outputs": [
    {
     "name": "stdout",
     "output_type": "stream",
     "text": [
      "a\n",
      "b\n"
     ]
    }
   ],
   "source": [
    "# ASCII Linefeed (LF) character\n",
    "print(\"a\\nb\")"
   ]
  },
  {
   "cell_type": "code",
   "execution_count": 49,
   "metadata": {},
   "outputs": [
    {
     "name": "stdout",
     "output_type": "stream",
     "text": [
      "a\n"
     ]
    }
   ],
   "source": [
    "# ASCII Backspace (BS) character\n",
    "print(\"ab\\b\")"
   ]
  },
  {
   "cell_type": "code",
   "execution_count": 51,
   "metadata": {},
   "outputs": [
    {
     "name": "stdout",
     "output_type": "stream",
     "text": [
      "foo\\d+bar\n"
     ]
    }
   ],
   "source": [
    "print(r'foo\\d+bar')"
   ]
  },
  {
   "cell_type": "code",
   "execution_count": 54,
   "metadata": {},
   "outputs": [
    {
     "name": "stdout",
     "output_type": "stream",
     "text": [
      "This is a \n",
      "string that spans\" '\n",
      "across several lines\n"
     ]
    }
   ],
   "source": [
    "print(\"\"\"This is a \n",
    "string that spans\" '\n",
    "across several lines\"\"\")"
   ]
  },
  {
   "cell_type": "markdown",
   "metadata": {},
   "source": [
    "Bool"
   ]
  },
  {
   "cell_type": "code",
   "execution_count": 57,
   "metadata": {},
   "outputs": [
    {
     "data": {
      "text/plain": [
       "bool"
      ]
     },
     "execution_count": 57,
     "metadata": {},
     "output_type": "execute_result"
    }
   ],
   "source": [
    "type(True)"
   ]
  },
  {
   "cell_type": "code",
   "execution_count": 58,
   "metadata": {},
   "outputs": [
    {
     "data": {
      "text/plain": [
       "bool"
      ]
     },
     "execution_count": 58,
     "metadata": {},
     "output_type": "execute_result"
    }
   ],
   "source": [
    "type(False)"
   ]
  },
  {
   "cell_type": "code",
   "execution_count": 60,
   "metadata": {},
   "outputs": [
    {
     "data": {
      "text/plain": [
       "True"
      ]
     },
     "execution_count": 60,
     "metadata": {},
     "output_type": "execute_result"
    }
   ],
   "source": [
    "bool(0.4343)"
   ]
  },
  {
   "cell_type": "markdown",
   "metadata": {},
   "source": [
    "Operacije"
   ]
  },
  {
   "cell_type": "code",
   "execution_count": 62,
   "metadata": {},
   "outputs": [
    {
     "data": {
      "text/plain": [
       "3"
      ]
     },
     "execution_count": 62,
     "metadata": {},
     "output_type": "execute_result"
    }
   ],
   "source": [
    "5-2"
   ]
  },
  {
   "cell_type": "code",
   "execution_count": 64,
   "metadata": {},
   "outputs": [
    {
     "data": {
      "text/plain": [
       "-4"
      ]
     },
     "execution_count": 64,
     "metadata": {},
     "output_type": "execute_result"
    }
   ],
   "source": [
    "-4"
   ]
  },
  {
   "cell_type": "code",
   "execution_count": 65,
   "metadata": {},
   "outputs": [],
   "source": [
    "r = 3.14"
   ]
  },
  {
   "cell_type": "code",
   "execution_count": 75,
   "metadata": {},
   "outputs": [
    {
     "name": "stdout",
     "output_type": "stream",
     "text": [
      "a + b = 7\n",
      "a - b = 3\n",
      "a * b = 10\n",
      "a / b = 2.5\n",
      "a % b = 1\n",
      "a // b = 2\n",
      "a ** b = 25\n"
     ]
    }
   ],
   "source": [
    "a = 5\n",
    "b = 2\n",
    "print(\"a + b =\", a + b)\n",
    "print(\"a - b =\", a - b)\n",
    "print(\"a * b =\", a * b)\n",
    "print(\"a / b =\", a / b)\n",
    "print(\"a % b =\", a % b)\n",
    "print(\"a // b =\", a // b)\n",
    "print(\"a ** b =\", a ** b)"
   ]
  },
  {
   "cell_type": "code",
   "execution_count": 72,
   "metadata": {},
   "outputs": [
    {
     "data": {
      "text/plain": [
       "2.0"
      ]
     },
     "execution_count": 72,
     "metadata": {},
     "output_type": "execute_result"
    }
   ],
   "source": [
    "10/5"
   ]
  },
  {
   "cell_type": "code",
   "execution_count": 78,
   "metadata": {},
   "outputs": [
    {
     "ename": "TypeError",
     "evalue": "unsupported operand type(s) for +: 'int' and 'str'",
     "output_type": "error",
     "traceback": [
      "\u001b[1;31m---------------------------------------------------------------------------\u001b[0m",
      "\u001b[1;31mTypeError\u001b[0m                                 Traceback (most recent call last)",
      "\u001b[1;32mc:\\LEON\\ICTA\\Tečaji\\icta-python-osnovni-public\\07_Izpis_spremenljivke_osnovni_podatkovni_tipi\\03_Osnovni_podatkovni_tipi_in_operatorji.ipynb Cell 227\u001b[0m line \u001b[0;36m1\n\u001b[1;32m----> <a href='vscode-notebook-cell:/c%3A/LEON/ICTA/Te%C4%8Daji/icta-python-osnovni-public/07_Izpis_spremenljivke_osnovni_podatkovni_tipi/03_Osnovni_podatkovni_tipi_in_operatorji.ipynb#Y455sZmlsZQ%3D%3D?line=0'>1</a>\u001b[0m \u001b[39m3\u001b[39;49m \u001b[39m+\u001b[39;49m \u001b[39m\"\u001b[39;49m\u001b[39m3\u001b[39;49m\u001b[39m\"\u001b[39;49m\n",
      "\u001b[1;31mTypeError\u001b[0m: unsupported operand type(s) for +: 'int' and 'str'"
     ]
    }
   ],
   "source": [
    "3 + \"3\""
   ]
  },
  {
   "cell_type": "markdown",
   "metadata": {},
   "source": [
    "Comparison Operators"
   ]
  },
  {
   "cell_type": "code",
   "execution_count": 84,
   "metadata": {},
   "outputs": [
    {
     "name": "stdout",
     "output_type": "stream",
     "text": [
      "2 == 2 -> True\n",
      "2 == '2' -> False\n",
      "2 != 2 -> False\n",
      "2 < 3 -> True\n",
      "2 > 3 -> False\n",
      "2 <= 3 -> True\n",
      "2 >= 3 -> False\n"
     ]
    }
   ],
   "source": [
    "print(\"2 == 2 ->\", 2 == 2)\n",
    "print(\"2 == '2' ->\", 2 == '2')\n",
    "print(\"2 != 2 ->\", 2 != 2)\n",
    "print(\"2 < 3 ->\", 2 < 3)\n",
    "print(\"2 > 3 ->\", 2 > 3)\n",
    "print(\"2 <= 3 ->\", 2 <= 3)\n",
    "print(\"2 >= 3 ->\", 2 >= 3)"
   ]
  },
  {
   "cell_type": "code",
   "execution_count": 85,
   "metadata": {},
   "outputs": [
    {
     "name": "stdout",
     "output_type": "stream",
     "text": [
      "3.3000000000000003\n"
     ]
    },
    {
     "data": {
      "text/plain": [
       "False"
      ]
     },
     "execution_count": 85,
     "metadata": {},
     "output_type": "execute_result"
    }
   ],
   "source": [
    "x = 1.1 + 2.2\n",
    "print(x)\n",
    "x == 3.3"
   ]
  },
  {
   "cell_type": "code",
   "execution_count": 88,
   "metadata": {},
   "outputs": [
    {
     "data": {
      "text/plain": [
       "False"
      ]
     },
     "execution_count": 88,
     "metadata": {},
     "output_type": "execute_result"
    }
   ],
   "source": [
    "from math import isclose\n",
    "\n",
    "x = 1.1 + 2.2\n",
    "isclose(x, 3.3, rel_tol=1e-17)"
   ]
  },
  {
   "cell_type": "markdown",
   "metadata": {},
   "source": [
    "https://docs.python.org/3/library/decimal.html"
   ]
  },
  {
   "cell_type": "markdown",
   "metadata": {},
   "source": [
    "0.625 = 1/2 + 0/4 + 1/8"
   ]
  },
  {
   "cell_type": "code",
   "execution_count": 89,
   "metadata": {},
   "outputs": [
    {
     "data": {
      "text/plain": [
       "0.625"
      ]
     },
     "execution_count": 89,
     "metadata": {},
     "output_type": "execute_result"
    }
   ],
   "source": [
    "1/2 + 0/4 + 1/8"
   ]
  },
  {
   "cell_type": "code",
   "execution_count": 91,
   "metadata": {},
   "outputs": [
    {
     "data": {
      "text/plain": [
       "True"
      ]
     },
     "execution_count": 91,
     "metadata": {},
     "output_type": "execute_result"
    }
   ],
   "source": [
    "0.625 + 0.5 == 1.125"
   ]
  },
  {
   "cell_type": "code",
   "execution_count": 92,
   "metadata": {},
   "outputs": [
    {
     "data": {
      "text/plain": [
       "False"
      ]
     },
     "execution_count": 92,
     "metadata": {},
     "output_type": "execute_result"
    }
   ],
   "source": [
    "\"A\" == \"a\""
   ]
  },
  {
   "cell_type": "code",
   "execution_count": 93,
   "metadata": {},
   "outputs": [
    {
     "data": {
      "text/plain": [
       "65"
      ]
     },
     "execution_count": 93,
     "metadata": {},
     "output_type": "execute_result"
    }
   ],
   "source": [
    "ord(\"A\")"
   ]
  },
  {
   "cell_type": "code",
   "execution_count": 94,
   "metadata": {},
   "outputs": [
    {
     "data": {
      "text/plain": [
       "97"
      ]
     },
     "execution_count": 94,
     "metadata": {},
     "output_type": "execute_result"
    }
   ],
   "source": [
    "ord(\"a\")"
   ]
  },
  {
   "cell_type": "code",
   "execution_count": 96,
   "metadata": {},
   "outputs": [
    {
     "data": {
      "text/plain": [
       "True"
      ]
     },
     "execution_count": 96,
     "metadata": {},
     "output_type": "execute_result"
    }
   ],
   "source": [
    "\"abbb\" > \"Abbb\""
   ]
  },
  {
   "cell_type": "markdown",
   "metadata": {},
   "source": [
    "Boolean Operators"
   ]
  },
  {
   "cell_type": "markdown",
   "metadata": {},
   "source": [
    "and, or, and not"
   ]
  },
  {
   "cell_type": "markdown",
   "metadata": {},
   "source": [
    "     && | || !"
   ]
  },
  {
   "cell_type": "code",
   "execution_count": 97,
   "metadata": {},
   "outputs": [
    {
     "data": {
      "text/plain": [
       "False"
      ]
     },
     "execution_count": 97,
     "metadata": {},
     "output_type": "execute_result"
    }
   ],
   "source": [
    "5 > 7 and 7 > 5"
   ]
  },
  {
   "cell_type": "code",
   "execution_count": 100,
   "metadata": {},
   "outputs": [
    {
     "data": {
      "text/plain": [
       "True"
      ]
     },
     "execution_count": 100,
     "metadata": {},
     "output_type": "execute_result"
    }
   ],
   "source": [
    "a = True\n",
    "b = 4 > 2\n",
    "\n",
    "a or not b"
   ]
  },
  {
   "cell_type": "markdown",
   "metadata": {},
   "source": [
    "Identity Operators"
   ]
  },
  {
   "cell_type": "code",
   "execution_count": 108,
   "metadata": {},
   "outputs": [
    {
     "name": "stdout",
     "output_type": "stream",
     "text": [
      "True\n",
      "2612634681392 2612634681584\n",
      "False\n"
     ]
    }
   ],
   "source": [
    "e = 1000\n",
    "f = 1000\n",
    "\n",
    "print(e == f)\n",
    "print(id(e), id(f))\n",
    "print(e is f)"
   ]
  },
  {
   "cell_type": "code",
   "execution_count": 109,
   "metadata": {},
   "outputs": [
    {
     "name": "stdout",
     "output_type": "stream",
     "text": [
      "True\n",
      "140717565594328 140717565594328\n",
      "True\n",
      "False\n"
     ]
    }
   ],
   "source": [
    "# [-5, 256]\n",
    "e = 10\n",
    "f = 10\n",
    "\n",
    "print(e == f)\n",
    "print(id(e), id(f))\n",
    "print(e is f)\n",
    "print(e is not f)"
   ]
  },
  {
   "cell_type": "code",
   "execution_count": 105,
   "metadata": {},
   "outputs": [
    {
     "data": {
      "text/plain": [
       "True"
      ]
     },
     "execution_count": 105,
     "metadata": {},
     "output_type": "execute_result"
    }
   ],
   "source": [
    "True is True\n"
   ]
  },
  {
   "cell_type": "code",
   "execution_count": null,
   "metadata": {},
   "outputs": [],
   "source": []
  },
  {
   "cell_type": "code",
   "execution_count": null,
   "metadata": {},
   "outputs": [],
   "source": []
  }
 ],
 "metadata": {
  "kernelspec": {
   "display_name": "Python 3 (ipykernel)",
   "language": "python",
   "name": "python3"
  },
  "language_info": {
   "codemirror_mode": {
    "name": "ipython",
    "version": 3
   },
   "file_extension": ".py",
   "mimetype": "text/x-python",
   "name": "python",
   "nbconvert_exporter": "python",
   "pygments_lexer": "ipython3",
   "version": "3.12.0"
  }
 },
 "nbformat": 4,
 "nbformat_minor": 5
}
