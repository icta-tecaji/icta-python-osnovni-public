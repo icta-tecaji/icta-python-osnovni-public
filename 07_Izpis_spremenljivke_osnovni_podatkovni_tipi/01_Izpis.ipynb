{
 "cells": [
  {
   "cell_type": "markdown",
   "id": "575ad041-4b7f-42ff-952b-3acc63648453",
   "metadata": {},
   "source": [
    "# Izpis - print funkcija"
   ]
  },
  {
   "cell_type": "markdown",
   "id": "37ab0518-f482-4657-8ecf-37c190096940",
   "metadata": {},
   "source": [
    "## Calling print()"
   ]
  },
  {
   "cell_type": "markdown",
   "id": "6fff2370-fd29-4b50-bccc-be580614b70b",
   "metadata": {},
   "source": [
    "The simplest example of using Python print() requires just a few keystrokes:"
   ]
  },
  {
   "cell_type": "code",
   "execution_count": 1,
   "id": "3434e81c-fcae-4718-94f7-05646fd6ace2",
   "metadata": {},
   "outputs": [
    {
     "name": "stdout",
     "output_type": "stream",
     "text": [
      "\n"
     ]
    }
   ],
   "source": [
    "print()"
   ]
  },
  {
   "cell_type": "markdown",
   "id": "5d0a3658-6410-441a-9561-61cd5be43d09",
   "metadata": {},
   "source": [
    "You don’t pass any arguments, but you still need to put empty parentheses at the end, which tell Python to actually execute the function rather than just refer to it by name."
   ]
  },
  {
   "cell_type": "code",
   "execution_count": 2,
   "id": "b8ad65e2-3950-4ed0-90f4-dfb56ca2a70a",
   "metadata": {},
   "outputs": [
    {
     "data": {
      "text/plain": [
       "<function print(*args, sep=' ', end='\\n', file=None, flush=False)>"
      ]
     },
     "execution_count": 2,
     "metadata": {},
     "output_type": "execute_result"
    }
   ],
   "source": [
    "print"
   ]
  },
  {
   "cell_type": "markdown",
   "id": "6d7711f8-c97c-4407-910f-84590ab9a228",
   "metadata": {},
   "source": [
    "This will produce an invisible newline character, which in turn will cause a blank line to appear on your screen. You can call print() multiple times like this to add vertical space. It’s just as if you were hitting Enter on your keyboard in a word processor."
   ]
  },
  {
   "cell_type": "code",
   "execution_count": 3,
   "id": "d69ffb08-6807-48c4-9cab-3bd7524257d9",
   "metadata": {},
   "outputs": [
    {
     "name": "stdout",
     "output_type": "stream",
     "text": [
      "\n",
      "\n",
      "\n",
      "\n"
     ]
    }
   ],
   "source": [
    "print()\n",
    "print()\n",
    "print()\n",
    "print()"
   ]
  },
  {
   "cell_type": "markdown",
   "id": "15aafa0a-a196-4a97-85df-5bca642e9916",
   "metadata": {},
   "source": [
    "> A newline character is a special control character used to indicate the end of a line (EOL). It usually doesn’t have a visible representation on the screen, but some text editors can display such non-printable characters with little graphics."
   ]
  },
  {
   "cell_type": "markdown",
   "id": "f7d984ef-7de1-44a7-831f-5cf7e7594814",
   "metadata": {},
   "source": [
    "The word “character” is somewhat of a misnomer in this case, because a newline is often more than one character long. For example, the Windows operating system, as well as the HTTP protocol, represent newlines with a pair of characters. Sometimes you need to take those differences into account to design truly portable programs."
   ]
  },
  {
   "cell_type": "markdown",
   "id": "a8a39d6d-31b2-46ed-967d-3bddf4960fde",
   "metadata": {},
   "source": [
    "To find out what constitutes a newline in your operating system, use Python’s built-in os module."
   ]
  },
  {
   "cell_type": "code",
   "execution_count": 4,
   "id": "19dca9dd-8f72-41c0-8686-2ea143e578ef",
   "metadata": {},
   "outputs": [
    {
     "data": {
      "text/plain": [
       "'\\r\\n'"
      ]
     },
     "execution_count": 4,
     "metadata": {},
     "output_type": "execute_result"
    }
   ],
   "source": [
    "import os\n",
    "os.linesep"
   ]
  },
  {
   "cell_type": "markdown",
   "id": "c30a266b-efd6-4324-8dc7-5d4aae31dbd0",
   "metadata": {},
   "source": [
    "> On Unix, Linux, and recent versions of macOS, it’s a single `\\n` character"
   ]
  },
  {
   "cell_type": "markdown",
   "id": "a895b5ea-f45b-4631-84e3-b5d3e101d8af",
   "metadata": {},
   "source": [
    "As you just saw, calling print() without arguments results in a blank line, which is a line comprised solely of the newline character. Don’t confuse this with an empty line, which doesn’t contain any characters at all, not even the newline!"
   ]
  },
  {
   "cell_type": "markdown",
   "id": "6067ddd0-ec1e-4987-ba41-3cafb34bdc3b",
   "metadata": {},
   "source": [
    "In a more common scenario, you’d want to communicate some message to the end user. There are a few ways to achieve this."
   ]
  },
  {
   "cell_type": "code",
   "execution_count": 19,
   "id": "c9fa7839-9f12-48ff-aa37-a4889631894c",
   "metadata": {},
   "outputs": [
    {
     "name": "stdout",
     "output_type": "stream",
     "text": [
      "Please wait while the program is loading...\n",
      "Loaded\n"
     ]
    }
   ],
   "source": [
    "print('Please wait while the program is loading...')\n",
    "print('Loaded')"
   ]
  },
  {
   "cell_type": "markdown",
   "id": "595b6fda-db8e-416d-b033-d05d9d836cf7",
   "metadata": {},
   "source": [
    "Secondly, you could extract that message into its own variable with a meaningful name to enhance readability and promote code reuse:"
   ]
  },
  {
   "cell_type": "code",
   "execution_count": 6,
   "id": "b41c7d8f-635e-4657-86cf-c83fec4f073b",
   "metadata": {},
   "outputs": [
    {
     "name": "stdout",
     "output_type": "stream",
     "text": [
      "Please wait while the program is loading...\n"
     ]
    }
   ],
   "source": [
    "message = 'Please wait while the program is loading...'\n",
    "print(message)"
   ]
  },
  {
   "cell_type": "markdown",
   "id": "d7330fb4-a1c2-4501-9d26-6b5ba006bfe3",
   "metadata": {},
   "source": [
    "Lastly, you could pass an expression, like string concatenation, to be evaluated before printing the result:"
   ]
  },
  {
   "cell_type": "code",
   "execution_count": 12,
   "id": "64f0cc19-4a07-48a4-a930-4c0edeffdcf7",
   "metadata": {},
   "outputs": [
    {
     "name": "stdout",
     "output_type": "stream",
     "text": [
      "Hello, leon1! How are you?\n"
     ]
    }
   ],
   "source": [
    "import os\n",
    "print('Hello, ' + os.getlogin() + '! How are you?')"
   ]
  },
  {
   "cell_type": "markdown",
   "id": "a8d61610-b2e1-4e11-8696-fb1c51de62ff",
   "metadata": {},
   "source": [
    "As with any function, it doesn’t matter whether you pass a literal, a variable, or an expression. Unlike many other functions, however, print() will accept anything regardless of its type."
   ]
  },
  {
   "cell_type": "code",
   "execution_count": 9,
   "id": "9d7dc786-b674-4e54-9cc4-c669d7cce9d0",
   "metadata": {},
   "outputs": [
    {
     "name": "stdout",
     "output_type": "stream",
     "text": [
      "42\n"
     ]
    }
   ],
   "source": [
    "print(42)"
   ]
  },
  {
   "cell_type": "code",
   "execution_count": 10,
   "id": "c02b1973-0fdb-4712-8a1d-e66652f97daf",
   "metadata": {},
   "outputs": [
    {
     "name": "stdout",
     "output_type": "stream",
     "text": [
      "None\n"
     ]
    }
   ],
   "source": [
    "print(None)"
   ]
  },
  {
   "cell_type": "markdown",
   "id": "3607f447-a4d4-400d-bafe-9e18290ceed1",
   "metadata": {},
   "source": [
    "## Separating Multiple Arguments"
   ]
  },
  {
   "cell_type": "markdown",
   "id": "409d9771-4216-46fd-8557-a04e3bab9185",
   "metadata": {},
   "source": [
    "You saw print() called without any arguments to produce a blank line and then called with a single argument to display either a fixed or a formatted message.\n",
    "\n",
    "However, it turns out that this function can accept any number of positional arguments, including zero, one, or more arguments. That’s very handy in a common case of message formatting, where you’d want to join a few elements together."
   ]
  },
  {
   "cell_type": "code",
   "execution_count": 13,
   "id": "f1b2385d-96e9-4e51-ad1e-063d806c6f10",
   "metadata": {},
   "outputs": [
    {
     "name": "stdout",
     "output_type": "stream",
     "text": [
      "My name is leon1 and I am 42\n"
     ]
    }
   ],
   "source": [
    "print('My name is', os.getlogin(), 'and I am', 42)"
   ]
  },
  {
   "cell_type": "markdown",
   "id": "4749c0b5-cee5-4870-8e82-3689fbd19834",
   "metadata": {},
   "source": [
    "print() concatenated all four arguments passed to it, and it inserted a single space between them so that you didn’t end up with a squashed message."
   ]
  },
  {
   "cell_type": "markdown",
   "id": "6ba88beb-d175-4f49-8684-057e6074226f",
   "metadata": {},
   "source": [
    "Let’s focus on `sep` just for now. **It stands for separator and is assigned a single space (' ') by default.** It determines the value to join elements with."
   ]
  },
  {
   "cell_type": "code",
   "execution_count": 14,
   "id": "72109e3e-d0bb-4fee-a429-e4e83405a1aa",
   "metadata": {},
   "outputs": [
    {
     "name": "stdout",
     "output_type": "stream",
     "text": [
      "hello world\n"
     ]
    }
   ],
   "source": [
    "print('hello', 'world', sep=None)"
   ]
  },
  {
   "cell_type": "code",
   "execution_count": 15,
   "id": "7cc0aaf4-6397-4df3-bb10-409ab22a297a",
   "metadata": {},
   "outputs": [
    {
     "name": "stdout",
     "output_type": "stream",
     "text": [
      "hello world\n"
     ]
    }
   ],
   "source": [
    "print('hello', 'world', sep=' ')"
   ]
  },
  {
   "cell_type": "code",
   "execution_count": 16,
   "id": "1da3288f-e84a-444a-91cb-18913f5e34ae",
   "metadata": {},
   "outputs": [
    {
     "name": "stdout",
     "output_type": "stream",
     "text": [
      "hello world\n"
     ]
    }
   ],
   "source": [
    "print('hello', 'world')"
   ]
  },
  {
   "cell_type": "markdown",
   "id": "d43b269e-8dcf-4fd0-84f1-257ec045720a",
   "metadata": {},
   "source": [
    "If you wanted to suppress the separator completely, you’d have to pass an empty string ('') instead:"
   ]
  },
  {
   "cell_type": "code",
   "execution_count": 17,
   "id": "49465693-aa67-4812-82a0-b554d5513d1e",
   "metadata": {},
   "outputs": [
    {
     "name": "stdout",
     "output_type": "stream",
     "text": [
      "helloworld\n"
     ]
    }
   ],
   "source": [
    "print('hello', 'world', sep='')"
   ]
  },
  {
   "cell_type": "markdown",
   "id": "ddf12c96-cc5a-48e2-b12e-a0f922d07f4a",
   "metadata": {},
   "source": [
    "You may want print() to join its arguments as separate lines. In that case, simply pass the escaped newline character described earlier:"
   ]
  },
  {
   "cell_type": "code",
   "execution_count": 18,
   "id": "29b2cc61-f0ec-47a3-8349-63e10f4c285e",
   "metadata": {},
   "outputs": [
    {
     "name": "stdout",
     "output_type": "stream",
     "text": [
      "hello\n",
      "world\n"
     ]
    }
   ],
   "source": [
    "print('hello', 'world', sep='\\n')"
   ]
  },
  {
   "cell_type": "markdown",
   "id": "e85146f4-2cbf-4b07-af5a-a40899e56b55",
   "metadata": {},
   "source": [
    "> Well, you don’t have to worry about newline representation across different operating systems when printing, because print() will handle the conversion automatically. Just remember to always use the \\n escape sequence in string literals."
   ]
  },
  {
   "cell_type": "markdown",
   "id": "da25693e-a066-49dd-9300-98df01d3bf43",
   "metadata": {},
   "source": [
    "## Preventing Line Breaks"
   ]
  },
  {
   "cell_type": "markdown",
   "id": "4e40a4ac-6400-406f-a1c7-3df0f18e6a7d",
   "metadata": {},
   "source": [
    "Sometimes you don’t want to end your message with a trailing newline so that subsequent calls to print() will continue on the same line. Classic examples include updating the progress of a long-running operation or prompting the user for input. In the latter case, you want the user to type in the answer on the same line:"
   ]
  },
  {
   "cell_type": "markdown",
   "id": "cb7cb95d-909a-41bf-9d58-50889a04975a",
   "metadata": {},
   "source": [
    "    Are you sure you want to do this? [y/n] y"
   ]
  },
  {
   "cell_type": "markdown",
   "id": "5ffc8f0e-872c-483d-abb5-f5a7ff3219be",
   "metadata": {},
   "source": [
    "Python’s print() function **always adds `/n` without asking, because that’s what you want in most cases. To disable it, you can take advantage of yet another keyword argument, `end`, which dictates what to end the line with.**"
   ]
  },
  {
   "cell_type": "code",
   "execution_count": 20,
   "id": "638d79f2-b0de-4022-8ba3-f0ce7c941f2c",
   "metadata": {},
   "outputs": [
    {
     "name": "stdout",
     "output_type": "stream",
     "text": [
      "Checking file integrity...ok\n"
     ]
    }
   ],
   "source": [
    "print('Checking file integrity...', end='')\n",
    "print('ok')"
   ]
  },
  {
   "cell_type": "markdown",
   "id": "e3437fe4-14c8-4fc7-a21c-3bc61d0f1277",
   "metadata": {},
   "source": [
    "## Buffering print() Calls"
   ]
  },
  {
   "cell_type": "markdown",
   "id": "6d38e1ee-9354-4854-959e-cdef5fc51fd6",
   "metadata": {},
   "source": [
    "Some streams, however, buffer certain I/O operations to enhance performance, which can get in the way. "
   ]
  },
  {
   "cell_type": "code",
   "execution_count": null,
   "id": "64fb202e-5a40-494f-88f8-76dec93f9d0c",
   "metadata": {},
   "outputs": [],
   "source": [
    "https://realpython.com/python-print/#buffering-print-calls"
   ]
  },
  {
   "cell_type": "code",
   "execution_count": null,
   "id": "74862ebb-6cf4-4ea0-922f-cc9b879405cc",
   "metadata": {},
   "outputs": [],
   "source": []
  },
  {
   "cell_type": "code",
   "execution_count": null,
   "id": "76ee7c92-4be3-4eb4-91b4-0788a2b1c077",
   "metadata": {},
   "outputs": [],
   "source": []
  },
  {
   "cell_type": "code",
   "execution_count": null,
   "id": "32a62a8b-7bc9-4599-8b72-5cb9bb3361ee",
   "metadata": {},
   "outputs": [],
   "source": []
  },
  {
   "cell_type": "code",
   "execution_count": null,
   "id": "9733bd50-e422-4a1d-be0f-90463e70e0cf",
   "metadata": {},
   "outputs": [],
   "source": []
  },
  {
   "cell_type": "code",
   "execution_count": null,
   "id": "4311f379-b513-4026-95d1-8aa30d38c51c",
   "metadata": {},
   "outputs": [],
   "source": []
  },
  {
   "cell_type": "code",
   "execution_count": null,
   "id": "bc4143c1-021e-40f7-9bbe-52cc09115e04",
   "metadata": {},
   "outputs": [],
   "source": []
  },
  {
   "cell_type": "code",
   "execution_count": null,
   "id": "cc7a544d-b5c7-4b8a-9d04-7d0ceb94bcfc",
   "metadata": {},
   "outputs": [],
   "source": []
  },
  {
   "cell_type": "code",
   "execution_count": null,
   "id": "3af15730-ebc1-4a37-8ae5-1683aae2e509",
   "metadata": {},
   "outputs": [],
   "source": []
  },
  {
   "cell_type": "code",
   "execution_count": null,
   "id": "44f8dc02-5764-4854-86eb-df6167eb3e68",
   "metadata": {},
   "outputs": [],
   "source": []
  }
 ],
 "metadata": {
  "kernelspec": {
   "display_name": "Python 3 (ipykernel)",
   "language": "python",
   "name": "python3"
  },
  "language_info": {
   "codemirror_mode": {
    "name": "ipython",
    "version": 3
   },
   "file_extension": ".py",
   "mimetype": "text/x-python",
   "name": "python",
   "nbconvert_exporter": "python",
   "pygments_lexer": "ipython3",
   "version": "3.12.0"
  }
 },
 "nbformat": 4,
 "nbformat_minor": 5
}
