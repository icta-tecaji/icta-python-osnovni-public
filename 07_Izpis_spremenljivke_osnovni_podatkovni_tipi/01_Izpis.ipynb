{
 "cells": [
  {
   "cell_type": "markdown",
   "id": "575ad041-4b7f-42ff-952b-3acc63648453",
   "metadata": {},
   "source": [
    "# Izpis - print funkcija"
   ]
  },
  {
   "cell_type": "markdown",
   "id": "37ab0518-f482-4657-8ecf-37c190096940",
   "metadata": {},
   "source": [
    "## Calling print()"
   ]
  },
  {
   "cell_type": "markdown",
   "id": "6fff2370-fd29-4b50-bccc-be580614b70b",
   "metadata": {},
   "source": [
    "The simplest example of using Python print() requires just a few keystrokes:"
   ]
  },
  {
   "cell_type": "code",
   "execution_count": null,
   "id": "3434e81c-fcae-4718-94f7-05646fd6ace2",
   "metadata": {},
   "outputs": [],
   "source": [
    "print()"
   ]
  },
  {
   "cell_type": "markdown",
   "id": "5d0a3658-6410-441a-9561-61cd5be43d09",
   "metadata": {},
   "source": [
    "You don’t pass any arguments, but you still need to put empty parentheses at the end, which tell Python to actually execute the function rather than just refer to it by name."
   ]
  },
  {
   "cell_type": "code",
   "execution_count": null,
   "id": "b8ad65e2-3950-4ed0-90f4-dfb56ca2a70a",
   "metadata": {},
   "outputs": [],
   "source": [
    "print"
   ]
  },
  {
   "cell_type": "markdown",
   "id": "6d7711f8-c97c-4407-910f-84590ab9a228",
   "metadata": {},
   "source": [
    "This will produce an invisible newline character, which in turn will cause a blank line to appear on your screen. You can call print() multiple times like this to add vertical space. It’s just as if you were hitting Enter on your keyboard in a word processor."
   ]
  },
  {
   "cell_type": "code",
   "execution_count": null,
   "id": "d69ffb08-6807-48c4-9cab-3bd7524257d9",
   "metadata": {},
   "outputs": [],
   "source": [
    "print()\n",
    "print()\n",
    "print()\n",
    "print()"
   ]
  },
  {
   "cell_type": "markdown",
   "id": "15aafa0a-a196-4a97-85df-5bca642e9916",
   "metadata": {},
   "source": [
    "> A newline character is a special control character used to indicate the end of a line (EOL). It usually doesn’t have a visible representation on the screen, but some text editors can display such non-printable characters with little graphics."
   ]
  },
  {
   "cell_type": "markdown",
   "id": "f7d984ef-7de1-44a7-831f-5cf7e7594814",
   "metadata": {},
   "source": [
    "The word “character” is somewhat of a misnomer in this case, because a newline is often more than one character long. For example, the Windows operating system, as well as the HTTP protocol, represent newlines with a pair of characters. Sometimes you need to take those differences into account to design truly portable programs."
   ]
  },
  {
   "cell_type": "markdown",
   "id": "a8a39d6d-31b2-46ed-967d-3bddf4960fde",
   "metadata": {},
   "source": [
    "To find out what constitutes a newline in your operating system, use Python’s built-in os module."
   ]
  },
  {
   "cell_type": "code",
   "execution_count": null,
   "id": "19dca9dd-8f72-41c0-8686-2ea143e578ef",
   "metadata": {},
   "outputs": [],
   "source": [
    "import os\n",
    "os.linesep"
   ]
  },
  {
   "cell_type": "markdown",
   "id": "c30a266b-efd6-4324-8dc7-5d4aae31dbd0",
   "metadata": {},
   "source": [
    "> On Unix, Linux, and recent versions of macOS, it’s a single `\\n` character"
   ]
  },
  {
   "cell_type": "markdown",
   "id": "a895b5ea-f45b-4631-84e3-b5d3e101d8af",
   "metadata": {},
   "source": [
    "As you just saw, calling print() without arguments results in a blank line, which is a line comprised solely of the newline character. Don’t confuse this with an empty line, which doesn’t contain any characters at all, not even the newline!"
   ]
  },
  {
   "cell_type": "markdown",
   "id": "6067ddd0-ec1e-4987-ba41-3cafb34bdc3b",
   "metadata": {},
   "source": [
    "In a more common scenario, you’d want to communicate some message to the end user. There are a few ways to achieve this."
   ]
  },
  {
   "cell_type": "code",
   "execution_count": null,
   "id": "c9fa7839-9f12-48ff-aa37-a4889631894c",
   "metadata": {},
   "outputs": [],
   "source": [
    "print('Please wait while the program is loading...')\n",
    "print('Loaded')"
   ]
  },
  {
   "cell_type": "markdown",
   "id": "595b6fda-db8e-416d-b033-d05d9d836cf7",
   "metadata": {},
   "source": [
    "Secondly, you could extract that message into its own variable with a meaningful name to enhance readability and promote code reuse:"
   ]
  },
  {
   "cell_type": "code",
   "execution_count": null,
   "id": "b41c7d8f-635e-4657-86cf-c83fec4f073b",
   "metadata": {},
   "outputs": [],
   "source": [
    "message = 'Please wait while the program is loading...'\n",
    "print(message)"
   ]
  },
  {
   "cell_type": "markdown",
   "id": "d7330fb4-a1c2-4501-9d26-6b5ba006bfe3",
   "metadata": {},
   "source": [
    "Lastly, you could pass an expression, like string concatenation, to be evaluated before printing the result:"
   ]
  },
  {
   "cell_type": "code",
   "execution_count": null,
   "id": "64f0cc19-4a07-48a4-a930-4c0edeffdcf7",
   "metadata": {},
   "outputs": [],
   "source": [
    "import os\n",
    "print('Hello, ' + os.getlogin() + '! How are you?')"
   ]
  },
  {
   "cell_type": "markdown",
   "id": "a8d61610-b2e1-4e11-8696-fb1c51de62ff",
   "metadata": {},
   "source": [
    "As with any function, it doesn’t matter whether you pass a literal, a variable, or an expression. Unlike many other functions, however, print() will accept anything regardless of its type."
   ]
  },
  {
   "cell_type": "code",
   "execution_count": null,
   "id": "9d7dc786-b674-4e54-9cc4-c669d7cce9d0",
   "metadata": {},
   "outputs": [],
   "source": [
    "print(42)"
   ]
  },
  {
   "cell_type": "code",
   "execution_count": null,
   "id": "c02b1973-0fdb-4712-8a1d-e66652f97daf",
   "metadata": {},
   "outputs": [],
   "source": [
    "print(None)"
   ]
  },
  {
   "cell_type": "markdown",
   "id": "3607f447-a4d4-400d-bafe-9e18290ceed1",
   "metadata": {},
   "source": [
    "## Separating Multiple Arguments"
   ]
  },
  {
   "cell_type": "markdown",
   "id": "409d9771-4216-46fd-8557-a04e3bab9185",
   "metadata": {},
   "source": [
    "You saw print() called without any arguments to produce a blank line and then called with a single argument to display either a fixed or a formatted message.\n",
    "\n",
    "However, it turns out that this function can accept any number of positional arguments, including zero, one, or more arguments. That’s very handy in a common case of message formatting, where you’d want to join a few elements together."
   ]
  },
  {
   "cell_type": "code",
   "execution_count": null,
   "id": "f1b2385d-96e9-4e51-ad1e-063d806c6f10",
   "metadata": {},
   "outputs": [],
   "source": [
    "print('My name is', os.getlogin(), 'and I am', 42)"
   ]
  },
  {
   "cell_type": "markdown",
   "id": "4749c0b5-cee5-4870-8e82-3689fbd19834",
   "metadata": {},
   "source": [
    "print() concatenated all four arguments passed to it, and it inserted a single space between them so that you didn’t end up with a squashed message."
   ]
  },
  {
   "cell_type": "markdown",
   "id": "6ba88beb-d175-4f49-8684-057e6074226f",
   "metadata": {},
   "source": [
    "Let’s focus on `sep` just for now. **It stands for separator and is assigned a single space (' ') by default.** It determines the value to join elements with."
   ]
  },
  {
   "cell_type": "code",
   "execution_count": null,
   "id": "72109e3e-d0bb-4fee-a429-e4e83405a1aa",
   "metadata": {},
   "outputs": [],
   "source": [
    "print('hello', 'world', sep=None)"
   ]
  },
  {
   "cell_type": "code",
   "execution_count": null,
   "id": "7cc0aaf4-6397-4df3-bb10-409ab22a297a",
   "metadata": {},
   "outputs": [],
   "source": [
    "print('hello', 'world', sep=' ')"
   ]
  },
  {
   "cell_type": "code",
   "execution_count": null,
   "id": "1da3288f-e84a-444a-91cb-18913f5e34ae",
   "metadata": {},
   "outputs": [],
   "source": [
    "print('hello', 'world')"
   ]
  },
  {
   "cell_type": "markdown",
   "id": "d43b269e-8dcf-4fd0-84f1-257ec045720a",
   "metadata": {},
   "source": [
    "If you wanted to suppress the separator completely, you’d have to pass an empty string ('') instead:"
   ]
  },
  {
   "cell_type": "code",
   "execution_count": null,
   "id": "49465693-aa67-4812-82a0-b554d5513d1e",
   "metadata": {},
   "outputs": [],
   "source": [
    "print('hello', 'world', sep='')"
   ]
  },
  {
   "cell_type": "markdown",
   "id": "ddf12c96-cc5a-48e2-b12e-a0f922d07f4a",
   "metadata": {},
   "source": [
    "You may want print() to join its arguments as separate lines. In that case, simply pass the escaped newline character described earlier:"
   ]
  },
  {
   "cell_type": "code",
   "execution_count": null,
   "id": "29b2cc61-f0ec-47a3-8349-63e10f4c285e",
   "metadata": {},
   "outputs": [],
   "source": [
    "print('hello', 'world', sep='\\n')"
   ]
  },
  {
   "cell_type": "markdown",
   "id": "e85146f4-2cbf-4b07-af5a-a40899e56b55",
   "metadata": {},
   "source": [
    "> Well, you don’t have to worry about newline representation across different operating systems when printing, because print() will handle the conversion automatically. Just remember to always use the \\n escape sequence in string literals."
   ]
  },
  {
   "cell_type": "markdown",
   "id": "da25693e-a066-49dd-9300-98df01d3bf43",
   "metadata": {},
   "source": [
    "## Preventing Line Breaks"
   ]
  },
  {
   "cell_type": "markdown",
   "id": "4e40a4ac-6400-406f-a1c7-3df0f18e6a7d",
   "metadata": {},
   "source": [
    "Sometimes you don’t want to end your message with a trailing newline so that subsequent calls to print() will continue on the same line. Classic examples include updating the progress of a long-running operation or prompting the user for input. In the latter case, you want the user to type in the answer on the same line:"
   ]
  },
  {
   "cell_type": "markdown",
   "id": "cb7cb95d-909a-41bf-9d58-50889a04975a",
   "metadata": {},
   "source": [
    "    Are you sure you want to do this? [y/n] y"
   ]
  },
  {
   "cell_type": "markdown",
   "id": "5ffc8f0e-872c-483d-abb5-f5a7ff3219be",
   "metadata": {},
   "source": [
    "Python’s print() function **always adds `/n` without asking, because that’s what you want in most cases. To disable it, you can take advantage of yet another keyword argument, `end`, which dictates what to end the line with.**"
   ]
  },
  {
   "cell_type": "code",
   "execution_count": null,
   "id": "638d79f2-b0de-4022-8ba3-f0ce7c941f2c",
   "metadata": {},
   "outputs": [],
   "source": [
    "print('Checking file integrity...', end='')\n",
    "print('ok')"
   ]
  },
  {
   "cell_type": "markdown",
   "id": "e3437fe4-14c8-4fc7-a21c-3bc61d0f1277",
   "metadata": {},
   "source": [
    "## Buffering print() Calls"
   ]
  },
  {
   "cell_type": "markdown",
   "id": "6d38e1ee-9354-4854-959e-cdef5fc51fd6",
   "metadata": {},
   "source": [
    "Some streams, however, buffer certain I/O operations to enhance performance, which can get in the way. "
   ]
  },
  {
   "cell_type": "markdown",
   "id": "b6c2daca-8d84-41c0-806f-9538d8010288",
   "metadata": {},
   "source": [
    "Imagine you were writing a countdown timer, which should append the remaining time to the same line every second:"
   ]
  },
  {
   "cell_type": "markdown",
   "id": "c17668fe-1f68-4bc7-a65b-b4e7af845834",
   "metadata": {},
   "source": [
    "    3...2...1...Go!"
   ]
  },
  {
   "cell_type": "code",
   "execution_count": 10,
   "metadata": {},
   "outputs": [
    {
     "name": "stdout",
     "output_type": "stream",
     "text": [
      "3...2...1...Go!\n"
     ]
    }
   ],
   "source": [
    "# try in a file\n",
    "import time\n",
    "\n",
    "print(\"3\", end=\"...\")\n",
    "time.sleep(1)\n",
    "print(\"2\", end=\"...\")\n",
    "time.sleep(1)\n",
    "print(\"1\", end=\"...\")\n",
    "time.sleep(1)\n",
    "print(\"Go!\")"
   ]
  },
  {
   "cell_type": "markdown",
   "id": "40152bdf-978d-4b2e-8a82-821aed3f8f60",
   "metadata": {},
   "source": [
    "**The operating system buffers subsequent writes to the standard output.**"
   ]
  },
  {
   "cell_type": "markdown",
   "id": "57739067-a2a4-4315-af06-939941eab12c",
   "metadata": {},
   "source": [
    "You need to know that there are three kinds of streams with respect to buffering:\n",
    "- Unbuffered\n",
    "- Line-buffered\n",
    "- Block-buffered"
   ]
  },
  {
   "cell_type": "markdown",
   "id": "ed534a0c-21cc-4d62-a72e-99c623b8dcbf",
   "metadata": {},
   "source": [
    "Unbuffered is self-explanatory, that is, no buffering is taking place, and all writes have immediate effect. A line-buffered stream waits before firing any I/O calls until a line break appears somewhere in the buffer, whereas a block-buffered one simply allows the buffer to fill up to a certain size regardless of its content. **Standard output is both line-buffered and block-buffered, depending on which event comes first.**"
   ]
  },
  {
   "cell_type": "markdown",
   "id": "5858cc38-48b9-4d54-a50b-3833d8d7b7db",
   "metadata": {},
   "source": [
    "Buffering helps to reduce the number of expensive I/O calls. "
   ]
  },
  {
   "cell_type": "markdown",
   "id": "8a385479-5f91-4275-b208-2947624b27a9",
   "metadata": {},
   "source": [
    "To fix it, you can simply tell print() to forcefully flush the stream without waiting for a newline character in the buffer using its flush flag:"
   ]
  },
  {
   "cell_type": "code",
   "execution_count": 4,
   "id": "a19ea11c-0bce-42c2-8a88-20d87bd6f0dd",
   "metadata": {},
   "outputs": [
    {
     "name": "stdout",
     "output_type": "stream",
     "text": [
      "Testing..."
     ]
    }
   ],
   "source": [
    "print(\"Testing\", end='...', flush=True)"
   ]
  },
  {
   "cell_type": "code",
   "execution_count": 9,
   "metadata": {},
   "outputs": [
    {
     "name": "stdout",
     "output_type": "stream",
     "text": [
      "3...2...1...Go!\n"
     ]
    }
   ],
   "source": [
    "# try in a file\n",
    "import time\n",
    "\n",
    "print(\"3\", end='...', flush=True)\n",
    "time.sleep(1)\n",
    "print(\"2\", end='...', flush=True)\n",
    "time.sleep(1)\n",
    "print(\"1\", end='...', flush=True)\n",
    "time.sleep(1)\n",
    "print(\"Go!\", flush=True)"
   ]
  },
  {
   "cell_type": "markdown",
   "id": "da06c763-2b28-4275-b222-46f0b16ae65e",
   "metadata": {},
   "source": [
    "# Razlaga"
   ]
  },
  {
   "cell_type": "code",
   "execution_count": null,
   "id": "9733bd50-e422-4a1d-be0f-90463e70e0cf",
   "metadata": {},
   "outputs": [],
   "source": []
  },
  {
   "cell_type": "code",
   "execution_count": null,
   "id": "4311f379-b513-4026-95d1-8aa30d38c51c",
   "metadata": {},
   "outputs": [],
   "source": []
  },
  {
   "cell_type": "code",
   "execution_count": null,
   "id": "bc4143c1-021e-40f7-9bbe-52cc09115e04",
   "metadata": {},
   "outputs": [],
   "source": []
  },
  {
   "cell_type": "code",
   "execution_count": null,
   "id": "cc7a544d-b5c7-4b8a-9d04-7d0ceb94bcfc",
   "metadata": {},
   "outputs": [],
   "source": []
  },
  {
   "cell_type": "code",
   "execution_count": null,
   "id": "3af15730-ebc1-4a37-8ae5-1683aae2e509",
   "metadata": {},
   "outputs": [],
   "source": []
  },
  {
   "cell_type": "code",
   "execution_count": null,
   "id": "44f8dc02-5764-4854-86eb-df6167eb3e68",
   "metadata": {},
   "outputs": [],
   "source": []
  }
 ],
 "metadata": {
  "kernelspec": {
   "display_name": "Python 3 (ipykernel)",
   "language": "python",
   "name": "python3"
  },
  "language_info": {
   "codemirror_mode": {
    "name": "ipython",
    "version": 3
   },
   "file_extension": ".py",
   "mimetype": "text/x-python",
   "name": "python",
   "nbconvert_exporter": "python",
   "pygments_lexer": "ipython3",
   "version": "3.12.0"
  }
 },
 "nbformat": 4,
 "nbformat_minor": 5
}
