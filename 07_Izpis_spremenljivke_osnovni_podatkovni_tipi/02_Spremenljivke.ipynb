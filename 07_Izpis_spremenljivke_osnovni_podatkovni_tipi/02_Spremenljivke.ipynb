{
 "cells": [
  {
   "cell_type": "markdown",
   "id": "71fa2149-31a3-44ce-914b-7d93f992e43f",
   "metadata": {},
   "source": [
    "# Spremenljivke"
   ]
  },
  {
   "cell_type": "markdown",
   "id": "39c5e2eb-f903-4d05-b1fe-1e75fd1abe0f",
   "metadata": {},
   "source": [
    "## Komentarji"
   ]
  },
  {
   "cell_type": "markdown",
   "id": "c153fab7-bdcf-4d54-a59f-da65d92c2153",
   "metadata": {},
   "source": [
    "Comments are pieces of text that live in your code but are ignored by the Python interpreter as it executes the code. You can use comments to describe the code so that you and other developers can quickly understand what the code does or why the code is written in a given way. To write a comment in Python, just add a hash mark (#) before your comment text:"
   ]
  },
  {
   "cell_type": "code",
   "execution_count": null,
   "id": "0aa1d2bb-de93-40e8-bd5e-60985f925311",
   "metadata": {},
   "outputs": [],
   "source": [
    "# This is a comment on its own line"
   ]
  },
  {
   "cell_type": "markdown",
   "id": "e845d793-c280-4062-8c4f-ebe864504c5f",
   "metadata": {},
   "source": [
    "The Python interpreter ignores the text after the hash mark and up to the end of the line. You can also add **inline comments** to your code. In other words, you can combine a Python expression or statement with a comment in a single line, given that the comment occupies the final part of the line:"
   ]
  },
  {
   "cell_type": "code",
   "execution_count": null,
   "id": "da2ec58d-c22a-4f71-b1b7-432fcc46e945",
   "metadata": {},
   "outputs": [],
   "source": [
    "print(\"Hello, World!\")  # This is an inline comment"
   ]
  },
  {
   "cell_type": "markdown",
   "id": "38565f9e-023b-4d72-b729-9f2b9c885b1a",
   "metadata": {},
   "source": [
    "You should use inline comments sparingly to clear up pieces of code that aren’t obvious on their own. In general, your comments should be short and to the point. PEP 8 advises keeping comments at 72 characters or less. If your comment is approaching or exceeding that length, then you might want to spread it out over multiple lines:"
   ]
  },
  {
   "cell_type": "code",
   "execution_count": null,
   "id": "daa69982-4e6a-4717-91ec-d67063e12e4b",
   "metadata": {},
   "outputs": [],
   "source": [
    "# This is a long comment that requires\n",
    "# two lines to be complete."
   ]
  },
  {
   "cell_type": "markdown",
   "id": "1df8744a-54e7-4b25-91ad-5006f49644f9",
   "metadata": {},
   "source": [
    "If you need more room for a given comment, then you can use multiple lines with a hash mark on each. This way, you can keep your comments under 72 characters in length."
   ]
  },
  {
   "cell_type": "markdown",
   "id": "dd9fbfe0-2d31-4120-9ea6-d9bec8f85d40",
   "metadata": {},
   "source": [
    "## Get Help"
   ]
  },
  {
   "cell_type": "markdown",
   "id": "45e78b70-92e7-4837-93d6-777460d5240a",
   "metadata": {},
   "source": [
    "If you want to know how a specific function, method, class, or object works. In this case, you can just open an interactive session and call `help()`. "
   ]
  },
  {
   "cell_type": "code",
   "execution_count": null,
   "id": "af57cef5-f478-4e1f-9b5e-6c4795d21f2d",
   "metadata": {},
   "outputs": [],
   "source": [
    "help()"
   ]
  },
  {
   "cell_type": "markdown",
   "id": "ea38826e-9fb3-4375-bac3-71384eb4b824",
   "metadata": {},
   "source": [
    "When you type the name len at the help> prompt and hit Enter, you get help content related to that built-in function. To leave the content and get back to the help> prompt, you can press Q. To leave the help utility, you can type `quit` and hit `Enter`."
   ]
  },
  {
   "cell_type": "markdown",
   "id": "0bb6b862-5229-401f-8a25-9f0acd89e7cf",
   "metadata": {},
   "source": [
    "You can also use help() with the name of an object as an argument to get information about that object:"
   ]
  },
  {
   "cell_type": "code",
   "execution_count": null,
   "id": "6efb890a-b502-4377-b9ba-6a345e3af914",
   "metadata": {},
   "outputs": [],
   "source": [
    "help(print)"
   ]
  },
  {
   "cell_type": "markdown",
   "id": "ad19f205-ff21-409c-a897-e080caec8d3f",
   "metadata": {},
   "source": [
    "## Python Code Style"
   ]
  },
  {
   "cell_type": "markdown",
   "id": "c9047ddd-c2ae-4c62-8e22-de0606a0bf8e",
   "metadata": {},
   "source": [
    "[PEP 8](https://peps.python.org/pep-0008/) is the official style guide for Python code. Although it’s not required to write workable Python code, studying PEP 8 and applying it consistently in your Python code will make your programs more readable and maintainable. "
   ]
  },
  {
   "cell_type": "markdown",
   "id": "62533321-530b-43b7-92eb-4045b9447548",
   "metadata": {},
   "source": [
    "Most code editors and IDEs that support Python internally implement automatic checks to find and point out PEP 8 violations."
   ]
  },
  {
   "cell_type": "markdown",
   "id": "ae241d9c-57b0-4cfb-bb66-13464d21d918",
   "metadata": {},
   "source": [
    "## Uporabnost spremenljivk"
   ]
  },
  {
   "cell_type": "markdown",
   "id": "9df17791-9caf-4257-be0e-7b5b5f271a9a",
   "metadata": {},
   "source": [
    "Za izpis nečesa se uporablja beseda \n",
    "```python \n",
    "print() \n",
    "```"
   ]
  },
  {
   "cell_type": "code",
   "execution_count": null,
   "id": "d9358500-451c-4583-9d2b-d0d2dd553036",
   "metadata": {},
   "outputs": [],
   "source": [
    "print(10)"
   ]
  },
  {
   "cell_type": "markdown",
   "id": "f32648de-f314-4960-b308-a8d413f6182a",
   "metadata": {},
   "source": [
    "Če je naprimer naša naloga 5x izpisati številko 1.\n",
    "\n",
    "To bi lahko napisal na sledeč način:"
   ]
  },
  {
   "cell_type": "code",
   "execution_count": null,
   "id": "d457a2c0-f17c-4dea-b74e-76213b9748ce",
   "metadata": {},
   "outputs": [],
   "source": [
    "print(1)\n",
    "print(1)\n",
    "print(1)\n",
    "print(1)\n",
    "print(1)"
   ]
  },
  {
   "cell_type": "markdown",
   "id": "3150379b-a751-4d60-9a1a-5be9f90be78f",
   "metadata": {},
   "source": [
    "Tekom programiranja se odločmo, da hočmo namesto številke 1 izpisat številko 3.\n",
    "\n",
    "In zdej gremo v vsako vrstico in zamenjamo 1 z 3."
   ]
  },
  {
   "cell_type": "code",
   "execution_count": null,
   "id": "a78e9747-9c06-486b-b1cf-39be4adb2326",
   "metadata": {},
   "outputs": [],
   "source": [
    "print(3)\n",
    "print(3)\n",
    "print(3)\n",
    "print(3)\n",
    "print(3)"
   ]
  },
  {
   "cell_type": "markdown",
   "id": "64fe1638-d423-4bd2-bfb0-8f91c8090b7f",
   "metadata": {},
   "source": [
    "Če bi bil naš program, da moramo neko številko izpisat 1000x bi potem na roke moral popravljat vsako 1ko v 3ko. Kar pa je zamudno in lahko povzroči veliko število človeških napak (ponesreč izpustimo 1 vrstico, itd..)\n",
    "\n",
    "Dosti lažje bi bilo, če bi mi lahko na začetku računalniko povedal, naj si shrani številko katero hočemo izpisat. Potem pa jo računalnik izpiše 100x.\n",
    "\n",
    "To lahko dosežemo s pomočjo spremeljivk."
   ]
  },
  {
   "cell_type": "markdown",
   "id": "4071e5df-5b19-456e-8b1d-4540459d6291",
   "metadata": {},
   "source": [
    "## Variable Assignment"
   ]
  },
  {
   "cell_type": "markdown",
   "id": "088ebc72-ddd4-4bb6-8680-0115a1a787e2",
   "metadata": {},
   "source": [
    "Think of a variable as a name attached to a particular object. In Python, **variables need not be declared or defined in advance**, as is the case in many other programming languages. To create a variable, you just assign it a value and then start using it. Assignment is done with a single equals sign (=):"
   ]
  },
  {
   "cell_type": "code",
   "execution_count": null,
   "id": "a084465a-418d-46d2-9db1-f735bf439aba",
   "metadata": {},
   "outputs": [],
   "source": [
    "n = 300"
   ]
  },
  {
   "cell_type": "markdown",
   "id": "aaf9563d-55db-4761-ae6c-6cf4469d3338",
   "metadata": {},
   "source": [
    "This is read or interpreted as “n is assigned the value 300.” Once this is done, n can be used in a statement or expression, and its value will be substituted:"
   ]
  },
  {
   "cell_type": "code",
   "execution_count": null,
   "id": "16e0c664-b20c-4637-bab7-367a091846d6",
   "metadata": {},
   "outputs": [],
   "source": [
    "print(n)"
   ]
  },
  {
   "cell_type": "markdown",
   "id": "1b1290ef-b225-49d4-86fc-6880fe5ebd80",
   "metadata": {},
   "source": [
    "Just as a literal value can be displayed directly from the interpreter prompt in a REPL session without the need for print(), so can a variable:"
   ]
  },
  {
   "cell_type": "code",
   "execution_count": null,
   "id": "18d079c6-9033-47d3-9d4d-c70d5e9ce4c1",
   "metadata": {},
   "outputs": [],
   "source": [
    "n"
   ]
  },
  {
   "cell_type": "markdown",
   "id": "85bcad0f-6ca7-4689-9f1a-62b8e8424efc",
   "metadata": {},
   "source": [
    "Later, if you change the value of n and use it again, the new value will be substituted instead:"
   ]
  },
  {
   "cell_type": "code",
   "execution_count": null,
   "id": "7fbb444f-b27b-4a07-8e14-847d4676bc13",
   "metadata": {},
   "outputs": [],
   "source": [
    "n = 1000\n",
    "print(n)"
   ]
  },
  {
   "cell_type": "markdown",
   "id": "eab48ca6-6484-45fd-90ec-4e7532a5e15e",
   "metadata": {},
   "source": [
    "Python also allows chained assignment, which makes it possible to assign the same value to several variables simultaneously:"
   ]
  },
  {
   "cell_type": "code",
   "execution_count": null,
   "id": "7f9ada91-f580-4653-b579-e04a404c3f26",
   "metadata": {},
   "outputs": [],
   "source": [
    "a = b = c = 300\n",
    "print(a, b, c)"
   ]
  },
  {
   "cell_type": "markdown",
   "id": "5f6e47ac-2df3-40fd-8b73-41ad8f3c8f75",
   "metadata": {},
   "source": [
    "The chained assignment above assigns 300 to the variables a, b, and c simultaneously."
   ]
  },
  {
   "cell_type": "markdown",
   "id": "9b6dd98a-c4fd-4079-ab35-daeb23cdfd45",
   "metadata": {},
   "source": [
    "## Variable Types in Python"
   ]
  },
  {
   "cell_type": "markdown",
   "id": "58af372f-ab4c-4cae-8b8a-6db949e594e6",
   "metadata": {},
   "source": [
    "In many programming languages, variables are statically typed. That means a variable is initially declared to have a specific data type, and any value assigned to it during its lifetime must always have that type.\n",
    "\n",
    "Variables in Python are not subject to this restriction. In Python, a variable may be assigned a value of one type and then later re-assigned a value of a different type:"
   ]
  },
  {
   "cell_type": "code",
   "execution_count": null,
   "id": "d2ba6417-b69b-4a9f-8272-9b0079584981",
   "metadata": {},
   "outputs": [],
   "source": [
    "var = 23\n",
    "print(var)\n",
    "\n",
    "var = \"Now I'm a string\"\n",
    "print(var)"
   ]
  },
  {
   "cell_type": "markdown",
   "id": "364db018-afa2-4b71-b681-f50e53d60d58",
   "metadata": {},
   "source": [
    "## Object References"
   ]
  },
  {
   "cell_type": "markdown",
   "id": "0f24a712-2327-43d0-b262-9ff5dc839fd5",
   "metadata": {},
   "source": [
    "What is actually happening when you make a variable assignment? This is an important question in Python, because the answer differs somewhat from what you’d find in many other programming languages."
   ]
  },
  {
   "cell_type": "markdown",
   "id": "2099b800-d71f-4a44-8559-03032b43491c",
   "metadata": {},
   "source": [
    "**Python is a highly object-oriented language. In fact, virtually every item of data in a Python program is an object of a specific type or class.**"
   ]
  },
  {
   "cell_type": "markdown",
   "id": "7b8bb29e-5e6d-4f69-8bee-5d7664615bc9",
   "metadata": {},
   "source": [
    "Consider this code:"
   ]
  },
  {
   "cell_type": "code",
   "execution_count": null,
   "id": "e7d4346f-2181-4fd5-a454-c2a7c8afa7c0",
   "metadata": {},
   "outputs": [],
   "source": [
    "print(300)"
   ]
  },
  {
   "cell_type": "markdown",
   "id": "12ca4742-9e31-4515-b22a-a16cf07930a7",
   "metadata": {},
   "source": [
    "When presented with the statement print(300), the interpreter does the following:\n",
    "- Creates an integer object\n",
    "- Gives it the value 300\n",
    "- Displays it to the console"
   ]
  },
  {
   "cell_type": "markdown",
   "id": "a360f353-d5da-45cd-af3f-06c8864c6913",
   "metadata": {},
   "source": [
    "You can see that an integer object is created using the built-in `type()` function:"
   ]
  },
  {
   "cell_type": "code",
   "execution_count": null,
   "id": "c77bf70c-f92a-4828-84f8-b3c14b6900dd",
   "metadata": {},
   "outputs": [],
   "source": [
    "type(300)"
   ]
  },
  {
   "cell_type": "markdown",
   "id": "01dd5933-461f-40df-8a2c-446a5ddde754",
   "metadata": {},
   "source": [
    "A Python variable is a **symbolic name that is a reference or pointer to an object**. Once an object is assigned to a variable, you can refer to the object by that name. But the data itself is still contained within the object."
   ]
  },
  {
   "cell_type": "code",
   "execution_count": null,
   "id": "41aeceaa-efdb-404b-bd6e-5c4ae0d45d87",
   "metadata": {},
   "outputs": [],
   "source": [
    "n = 300"
   ]
  },
  {
   "cell_type": "markdown",
   "id": "463ed68f-ee0c-494c-8d41-b6f6d17c1524",
   "metadata": {},
   "source": [
    "This assignment creates an integer object with the value 300 and assigns the variable n to point to that object."
   ]
  },
  {
   "cell_type": "markdown",
   "id": "a98352f2-bcd7-4538-b918-3e154cfa56da",
   "metadata": {},
   "source": [
    "<img loading=\"lazy\" class=\"img-fluid mx-auto d-block w-50\" src=\"https://files.realpython.com/media/t.2d7bcb9afaaf.png\" width=\"636\" height=\"186\" srcset=\"https://robocrop.realpython.net/?url=https%3A//files.realpython.com/media/t.2d7bcb9afaaf.png&amp;w=159&amp;sig=79db7b03e52991a941b55a4b9db554fb9980ff12 159w, https://robocrop.realpython.net/?url=https%3A//files.realpython.com/media/t.2d7bcb9afaaf.png&amp;w=212&amp;sig=cb78849e7f7ca1e9d585dfcd131e7a742f365c4c 212w, https://robocrop.realpython.net/?url=https%3A//files.realpython.com/media/t.2d7bcb9afaaf.png&amp;w=318&amp;sig=b204820632797e3718b1474f671e9badfd6e088f 318w, https://files.realpython.com/media/t.2d7bcb9afaaf.png 636w\" sizes=\"(min-width: 1200px) 690px, (min-width: 780px) calc(-5vw + 669px), (min-width: 580px) 510px, calc(100vw - 30px)\" alt=\"Variable reference diagram\" data-asset=\"426\">"
   ]
  },
  {
   "cell_type": "markdown",
   "id": "18979971-2c04-40d6-8cbd-9824dd7d8bf6",
   "metadata": {},
   "source": [
    "The following code verifies that n points to an integer object:"
   ]
  },
  {
   "cell_type": "code",
   "execution_count": null,
   "id": "3cfab049-2c0a-43a2-b078-c335f6c45deb",
   "metadata": {},
   "outputs": [],
   "source": [
    "print(n)"
   ]
  },
  {
   "cell_type": "code",
   "execution_count": null,
   "id": "b284f25d-cf0f-44af-b6b5-3eed8e3cd240",
   "metadata": {},
   "outputs": [],
   "source": [
    "type(n)"
   ]
  },
  {
   "cell_type": "markdown",
   "id": "b2e1dae0-9c01-45a3-8f48-ad9f3d7aae29",
   "metadata": {},
   "source": [
    "Now consider the following statement:"
   ]
  },
  {
   "cell_type": "code",
   "execution_count": null,
   "id": "41017e96-6e3a-47d6-8a97-0df19d304e57",
   "metadata": {},
   "outputs": [],
   "source": [
    "m = n"
   ]
  },
  {
   "cell_type": "markdown",
   "id": "38f1bd4e-76bf-46ae-a6d7-d3ec99511d16",
   "metadata": {},
   "source": [
    "What happens when it is executed? Python does not create another object. It simply creates a new symbolic name or reference, m, which points to the same object that n points to.\n",
    "\n"
   ]
  },
  {
   "cell_type": "markdown",
   "id": "55a4b103-9038-4028-98ec-2450f5172f30",
   "metadata": {},
   "source": [
    "<img loading=\"lazy\" class=\"img-fluid mx-auto d-block w-50\" src=\"https://files.realpython.com/media/t.d368386b8423.png\" width=\"1083\" height=\"186\" srcset=\"https://robocrop.realpython.net/?url=https%3A//files.realpython.com/media/t.d368386b8423.png&amp;w=270&amp;sig=a5e5bbf30828cf7a1b14264a735c64fad0d174b0 270w, https://robocrop.realpython.net/?url=https%3A//files.realpython.com/media/t.d368386b8423.png&amp;w=361&amp;sig=27edd924b19e0a76bb5aa498e7c4c0f7120a003e 361w, https://robocrop.realpython.net/?url=https%3A//files.realpython.com/media/t.d368386b8423.png&amp;w=541&amp;sig=5855a26238a761cec3f14daa38e609a3765c8d56 541w, https://files.realpython.com/media/t.d368386b8423.png 1083w\" sizes=\"(min-width: 1200px) 690px, (min-width: 780px) calc(-5vw + 669px), (min-width: 580px) 510px, calc(100vw - 30px)\" alt=\"Python variable references to the same object (illustration)\" data-asset=\"427\">"
   ]
  },
  {
   "cell_type": "code",
   "execution_count": null,
   "id": "215c1570-3080-4f90-a4be-c9f0a5940571",
   "metadata": {},
   "outputs": [],
   "source": [
    "m = 400"
   ]
  },
  {
   "cell_type": "code",
   "execution_count": null,
   "id": "0a24fda4-54bf-4824-8c3c-76541e3d2ac2",
   "metadata": {},
   "outputs": [],
   "source": [
    "print(m)"
   ]
  },
  {
   "cell_type": "code",
   "execution_count": null,
   "id": "870ba541-bf34-4a03-8bd0-1c97dee9bc9c",
   "metadata": {},
   "outputs": [],
   "source": [
    "print(n)"
   ]
  },
  {
   "cell_type": "markdown",
   "id": "6e40cd54-20f8-4186-8797-ee744fdd3058",
   "metadata": {},
   "source": [
    "Now Python creates a new integer object with the value 400, and m becomes a reference to it."
   ]
  },
  {
   "cell_type": "markdown",
   "id": "c1c8e4fc-6fce-4c13-b782-e0861bf71684",
   "metadata": {},
   "source": [
    "<img loading=\"lazy\" class=\"img-fluid mx-auto d-block w-50\" src=\"https://files.realpython.com/media/t.d476d91592cd.png\" width=\"1083\" height=\"426\" srcset=\"https://robocrop.realpython.net/?url=https%3A//files.realpython.com/media/t.d476d91592cd.png&amp;w=270&amp;sig=71fe604b11ff846cd804ce928bff4031bcadd168 270w, https://robocrop.realpython.net/?url=https%3A//files.realpython.com/media/t.d476d91592cd.png&amp;w=361&amp;sig=8e1cd42f641dc97a5f8cffc663eb23b47ec162ec 361w, https://robocrop.realpython.net/?url=https%3A//files.realpython.com/media/t.d476d91592cd.png&amp;w=541&amp;sig=ca9b2d193955f682c29b1e6a4e9423953776197a 541w, https://files.realpython.com/media/t.d476d91592cd.png 1083w\" sizes=\"(min-width: 1200px) 690px, (min-width: 780px) calc(-5vw + 669px), (min-width: 580px) 510px, calc(100vw - 30px)\" alt=\"References to separate objects in Python (diagram)\" data-asset=\"428\">"
   ]
  },
  {
   "cell_type": "markdown",
   "id": "8a00f3ca-0d2b-47ad-9c7c-be8192c923f4",
   "metadata": {},
   "source": [
    "Lastly, suppose this statement is executed next:"
   ]
  },
  {
   "cell_type": "code",
   "execution_count": null,
   "id": "5d918aa4-b6e8-48f3-952a-b6df1b589783",
   "metadata": {},
   "outputs": [],
   "source": [
    "n = \"foo\""
   ]
  },
  {
   "cell_type": "markdown",
   "id": "150d2588-5831-4294-9e7f-26b0423a51e7",
   "metadata": {},
   "source": [
    "Now Python creates a string object with the value \"foo\" and makes n reference that."
   ]
  },
  {
   "cell_type": "markdown",
   "id": "b237e3e0-cdd2-4934-a4d3-c33c5c0e3889",
   "metadata": {},
   "source": [
    "<img loading=\"lazy\" class=\"img-fluid mx-auto d-block w-50\" src=\"https://files.realpython.com/media/t.344ab0b3aa8c.png\" width=\"1083\" height=\"666\" srcset=\"https://robocrop.realpython.net/?url=https%3A//files.realpython.com/media/t.344ab0b3aa8c.png&amp;w=270&amp;sig=a834fdbefdf072224d9daee94456ec13cf572567 270w, https://robocrop.realpython.net/?url=https%3A//files.realpython.com/media/t.344ab0b3aa8c.png&amp;w=361&amp;sig=a0998a32e55d17b56ce98888ec63af2507de6c7b 361w, https://robocrop.realpython.net/?url=https%3A//files.realpython.com/media/t.344ab0b3aa8c.png&amp;w=541&amp;sig=fe5a4d43d6f6d3ed2a19e0008098868b8f066726 541w, https://files.realpython.com/media/t.344ab0b3aa8c.png 1083w\" sizes=\"(min-width: 1200px) 690px, (min-width: 780px) calc(-5vw + 669px), (min-width: 580px) 510px, calc(100vw - 30px)\" alt=\"Python variable reference illustration\" data-asset=\"429\">"
   ]
  },
  {
   "cell_type": "markdown",
   "id": "a435ee67-a284-4499-a10f-afc5a7b89766",
   "metadata": {},
   "source": [
    "There is no longer any reference to the integer object 300. It is orphaned, and there is no way to access it."
   ]
  },
  {
   "cell_type": "markdown",
   "id": "b6046340-6741-4be1-91bf-79b68d84e18e",
   "metadata": {},
   "source": [
    "An object’s life begins when it is created, at which time at least one reference to it is created. During an object’s lifetime, additional references to it may be created, as you saw above, and references to it may be deleted as well. An object stays alive, as it were, so long as there is at least one reference to it."
   ]
  },
  {
   "cell_type": "markdown",
   "id": "94f85963-6f5b-49f4-9fdf-2a96c8c53f09",
   "metadata": {},
   "source": [
    "When the number of references to an object drops to zero, it is no longer accessible. At that point, its lifetime is over. Python will eventually notice that it is inaccessible and reclaim the allocated memory so it can be used for something else. In computer lingo, this process is referred to as **garbage collection**."
   ]
  },
  {
   "cell_type": "markdown",
   "id": "4be16c58-56f1-40ac-852f-7f585392e41a",
   "metadata": {},
   "source": [
    "## Object Identity"
   ]
  },
  {
   "cell_type": "markdown",
   "id": "dc1e4a7f-82c2-4c2e-af24-a84e15569b6c",
   "metadata": {},
   "source": [
    "In Python, **every object that is created is given a number that uniquely identifies it**. It is guaranteed that no two objects will have the same identifier during any period in which their lifetimes overlap. Once an object’s reference count drops to zero and it is garbage collected, as happened to the 300 object above, then its identifying number becomes available and may be used again."
   ]
  },
  {
   "cell_type": "markdown",
   "id": "82208ed3-c546-4601-a63c-286bca8843f6",
   "metadata": {},
   "source": [
    "The built-in Python function `id()` returns an object’s integer identifier. Using the `id()` function, you can verify that two variables indeed point to the same object:"
   ]
  },
  {
   "cell_type": "code",
   "execution_count": null,
   "id": "1818d8e6-49d8-4b23-a09e-bdd5500a7a40",
   "metadata": {},
   "outputs": [],
   "source": [
    "n = 300\n",
    "m = n\n",
    "id(n)"
   ]
  },
  {
   "cell_type": "code",
   "execution_count": null,
   "id": "09cc7b78-df11-481b-a2c1-7efb5228fca7",
   "metadata": {},
   "outputs": [],
   "source": [
    "id(m)"
   ]
  },
  {
   "cell_type": "code",
   "execution_count": null,
   "id": "52f903ec-5831-45d4-914f-a1731092e658",
   "metadata": {},
   "outputs": [],
   "source": [
    "m = 400\n",
    "id(m)"
   ]
  },
  {
   "cell_type": "markdown",
   "id": "9b0c706b-1ced-4f91-8690-263bd5a4ca64",
   "metadata": {},
   "source": [
    "After the assignment m = n, m and n both point to the same object, confirmed by the fact that id(m) and id(n) return the same number. Once m is reassigned to 400, m and n point to different objects with different identities."
   ]
  },
  {
   "cell_type": "markdown",
   "id": "dc096e4c-4602-4fd6-b797-6cee4be6eb4f",
   "metadata": {},
   "source": [
    "## Variable Names"
   ]
  },
  {
   "cell_type": "markdown",
   "id": "123451ea-e95b-476a-acc7-09b242cec58e",
   "metadata": {},
   "source": [
    "The examples you have seen so far have used short, terse variable names like m and n. But variable names can be more verbose. In fact, it is usually beneficial if they are because it makes the purpose of the variable more evident at first glance."
   ]
  },
  {
   "cell_type": "markdown",
   "id": "12175d56-6422-40b1-a8e3-3e1b930f7118",
   "metadata": {},
   "source": [
    "> You should use a **naming scheme that makes your variables intuitive and readable**. The variable name should provide some indication as to what the values assigned to it are."
   ]
  },
  {
   "cell_type": "markdown",
   "id": "92118a6f-8bab-4b3b-93c9-382052758a41",
   "metadata": {},
   "source": [
    "Officially, variable names in Python can be any length and can consist of **uppercase and lowercase letters (A-Z, a-z), digits (0-9), and the underscore character (_).** An additional restriction is that, although a variable name can contain digits, **the first character of a variable name cannot be a digit.**"
   ]
  },
  {
   "cell_type": "markdown",
   "id": "32bad564-de4c-4ad8-a6ae-6ed8c6c8dd57",
   "metadata": {},
   "source": [
    "> One of the additions to Python 3 was full Unicode support, which allows for Unicode characters in a variable name as well. You will learn about Unicode in greater depth in a future tutorial."
   ]
  },
  {
   "cell_type": "code",
   "execution_count": null,
   "id": "4c7eb35c-1607-45a5-8109-df94d3a6ec7d",
   "metadata": {},
   "outputs": [],
   "source": [
    "name = \"Bob\"\n",
    "Age = 54\n",
    "has_W2 = True\n",
    "print(name, Age, has_W2)"
   ]
  },
  {
   "cell_type": "markdown",
   "id": "4737d9d3-d6c2-4407-af48-0bec8fe01c64",
   "metadata": {},
   "source": [
    "But this one is not, because a variable name can’t begin with a digit:"
   ]
  },
  {
   "cell_type": "code",
   "execution_count": null,
   "id": "b5adc142-52e3-4c20-b3b1-c285478ca84f",
   "metadata": {},
   "outputs": [],
   "source": [
    "1099_filed = False"
   ]
  },
  {
   "cell_type": "markdown",
   "id": "c8c1e709-57b1-4a45-a4f6-486e24bb27f6",
   "metadata": {},
   "source": [
    "Note that **case is significant. Lowercase and uppercase letters are not the same.** Use of the underscore character is significant as well. Each of the following defines a different variable:"
   ]
  },
  {
   "cell_type": "code",
   "execution_count": null,
   "id": "2f3bf6ef-8cf4-4f0d-b3b4-445bc5e6ae67",
   "metadata": {},
   "outputs": [],
   "source": [
    "age = 1\n",
    "Age = 2\n",
    "aGe = 3\n",
    "AGE = 4\n",
    "a_g_e = 5\n",
    "_age = 6\n",
    "age_ = 7\n",
    "_AGE_ = 8\n",
    "\n",
    "print(age, Age, aGe, AGE, a_g_e, _age, age_, _AGE_)"
   ]
  },
  {
   "cell_type": "markdown",
   "id": "7f428050-31c3-4ac3-9cc7-d59664f2e74e",
   "metadata": {},
   "source": [
    "There is nothing stopping you from creating two different variables in the same program called age and Age, or for that matter agE. But it is probably ill-advised. It would certainly be likely to confuse anyone trying to read your code, and even you yourself, after you’d been away from it awhile."
   ]
  },
  {
   "cell_type": "markdown",
   "id": "cbafbae2-2129-41cb-82f7-7558b6be1d7a",
   "metadata": {},
   "source": [
    "It is worthwhile to **give a variable a name that is descriptive enough** to make clear what it is being used for. For example, suppose you are tallying the number of people who have graduated college. You could conceivably choose any of the following:"
   ]
  },
  {
   "cell_type": "code",
   "execution_count": null,
   "id": "b8d6a82b-d964-43e4-b711-385f2209696d",
   "metadata": {},
   "outputs": [],
   "source": [
    "numberofcollegegraduates = 2500\n",
    "NUMBEROFCOLLEGEGRADUATES = 2500\n",
    "numberOfCollegeGraduates = 2500\n",
    "NumberOfCollegeGraduates = 2500\n",
    "number_of_college_graduates = 2500\n",
    "\n",
    "print(numberofcollegegraduates, NUMBEROFCOLLEGEGRADUATES,\n",
    "numberOfCollegeGraduates, NumberOfCollegeGraduates,\n",
    "number_of_college_graduates)"
   ]
  },
  {
   "cell_type": "markdown",
   "id": "547e754f-f34b-4992-94cd-a6f8e8895312",
   "metadata": {},
   "source": [
    "On the other hand, they aren’t all necessarily equally legible. As with many things, it is a matter of personal preference, but most people would find the first two examples, where the letters are all shoved together, to be harder to read, particularly the one in all capital letters. The most commonly used methods of constructing a multi-word variable name are the last three examples:"
   ]
  },
  {
   "cell_type": "markdown",
   "id": "ed67a8bb-021b-4224-9973-ff6129b8f9fa",
   "metadata": {},
   "source": [
    "- **Camel Case**: Second and subsequent words are capitalized, to make word boundaries easier to see. (Presumably, it struck someone at some point that the capital letters strewn throughout the variable name vaguely resemble camel humps.)\n",
    "    - Example: `numberOfCollegeGraduates`\n",
    "- **Pascal Case**: Identical to Camel Case, except the first word is also capitalized.\n",
    "    - Example: `NumberOfCollegeGraduates`\n",
    "- **Snake Case**: Words are separated by underscores.\n",
    "    - Example: `number_of_college_graduates`"
   ]
  },
  {
   "cell_type": "markdown",
   "id": "922ce974-0ace-4a1b-9f87-7f2353a5d681",
   "metadata": {},
   "source": [
    "The Style Guide for Python Code, also known as PEP 8, contains Naming Conventions that list suggested standards for names of different object types. PEP 8 includes the following recommendations:\n",
    "- **Snake Case** should be used for functions and variable names. \n",
    "- **Pascal Case** should be used for class names. (PEP 8 refers to this as the “CapWords” convention.)"
   ]
  },
  {
   "cell_type": "markdown",
   "id": "e8f93952-5153-4e75-b5f7-41a375cdf291",
   "metadata": {},
   "source": [
    "## Reserved Words (Keywords)"
   ]
  },
  {
   "cell_type": "markdown",
   "id": "988a1764-319e-4f7b-bf37-aa5f0428b26b",
   "metadata": {},
   "source": [
    "There is one more restriction on identifier names. The Python language reserves a small set of keywords that designate special language functionality. No object can have the same name as a reserved word."
   ]
  },
  {
   "cell_type": "markdown",
   "id": "ae0a88ff-1d10-4bed-9cf7-f538da75be71",
   "metadata": {},
   "source": [
    "Like any other programming language, Python has a set of special words that are part of its syntax. These words are known as keywords. To get the complete list of keywords available in your current Python installation, you can run the following code in an interactive session:"
   ]
  },
  {
   "cell_type": "code",
   "execution_count": null,
   "id": "8515b326-19aa-4cca-8351-46cfc9f5dd0e",
   "metadata": {},
   "outputs": [],
   "source": [
    "help(\"keywords\")"
   ]
  },
  {
   "cell_type": "markdown",
   "id": "f1e70e2b-dbdc-4833-bfb7-3a1cdad8fd78",
   "metadata": {},
   "source": [
    "Each of these keywords plays a role in Python syntax. **They are reserved words that have specific meanings and purposes in the language, so you shouldn’t use them for anything but those specific purposes.** For example, you shouldn’t use them as variable names in your code."
   ]
  },
  {
   "cell_type": "markdown",
   "id": "8c26aa06-b660-4ea9-aca0-e64bd720c9c9",
   "metadata": {},
   "source": [
    "There’s another way of getting access to the whole list of Python keywords:"
   ]
  },
  {
   "cell_type": "code",
   "execution_count": null,
   "id": "69d919ee-a749-4817-934a-5980b99588cd",
   "metadata": {},
   "outputs": [],
   "source": [
    "import keyword\n",
    "print(keyword.kwlist)"
   ]
  },
  {
   "cell_type": "markdown",
   "id": "5fb059ea-def5-4413-a593-f6a0cb400e5b",
   "metadata": {},
   "source": [
    "keyword provides a set of functions that allow you to determine if a given string is a keyword. For example, keyword.kwlist holds a list of all the current keywords in Python. These are handy when you need to manipulate keywords programmatically in your Python programs."
   ]
  },
  {
   "cell_type": "markdown",
   "id": "02b9ea8e-4e1f-4ab9-8882-e4847a3e93a6",
   "metadata": {},
   "source": [
    "Trying to create a variable with the same name as any reserved word results in an error:"
   ]
  },
  {
   "cell_type": "code",
   "execution_count": null,
   "id": "2e30647f-5402-4bf9-a023-e0c35a8a67ce",
   "metadata": {},
   "outputs": [],
   "source": [
    "for = 3"
   ]
  },
  {
   "cell_type": "markdown",
   "id": "69de1983-6abb-4853-baf4-147532224131",
   "metadata": {},
   "source": [
    "# Razlaga"
   ]
  },
  {
   "cell_type": "markdown",
   "id": "07ee7430-d41d-4df2-9a10-616ce195c5eb",
   "metadata": {},
   "source": [
    "Komentarji"
   ]
  },
  {
   "cell_type": "code",
   "execution_count": 1,
   "id": "9fb00862-e8cb-4e93-b203-96299d2c4704",
   "metadata": {},
   "outputs": [],
   "source": [
    "# To je moj prvi komentar"
   ]
  },
  {
   "cell_type": "code",
   "execution_count": 2,
   "id": "82bb1290-10c3-4e5e-abe2-194ef6821654",
   "metadata": {},
   "outputs": [
    {
     "name": "stdout",
     "output_type": "stream",
     "text": [
      "Hello, World!\n"
     ]
    }
   ],
   "source": [
    "print(\"Hello, World!\") # To je moj drugi komentar"
   ]
  },
  {
   "cell_type": "code",
   "execution_count": 3,
   "id": "ed29cb22-88cd-4b3d-bebe-d773b8c2a357",
   "metadata": {},
   "outputs": [],
   "source": [
    "# To je en zelo dolg komentar\n",
    "# ki ga nadaljujem v drugi vrstici."
   ]
  },
  {
   "cell_type": "markdown",
   "metadata": {},
   "source": [
    "Help"
   ]
  },
  {
   "cell_type": "code",
   "execution_count": 5,
   "metadata": {},
   "outputs": [
    {
     "name": "stdout",
     "output_type": "stream",
     "text": [
      "\n",
      "Welcome to Python 3.12's help utility!\n",
      "\n",
      "If this is your first time using Python, you should definitely check out\n",
      "the tutorial on the internet at https://docs.python.org/3.12/tutorial/.\n",
      "\n",
      "Enter the name of any module, keyword, or topic to get help on writing\n",
      "Python programs and using Python modules.  To quit this help utility and\n",
      "return to the interpreter, just type \"quit\".\n",
      "\n",
      "To get a list of available modules, keywords, symbols, or topics, type\n",
      "\"modules\", \"keywords\", \"symbols\", or \"topics\".  Each module also comes\n",
      "with a one-line summary of what it does; to list the modules whose name\n",
      "or summary contain a given string such as \"spam\", type \"modules spam\".\n",
      "\n",
      "Help on built-in function print in module builtins:\n",
      "\n",
      "print(*args, sep=' ', end='\\n', file=None, flush=False)\n",
      "    Prints the values to a stream, or to sys.stdout by default.\n",
      "\n",
      "    sep\n",
      "      string inserted between values, default a space.\n",
      "    end\n",
      "      string appended after the last value, default a newline.\n",
      "    file\n",
      "      a file-like object (stream); defaults to the current sys.stdout.\n",
      "    flush\n",
      "      whether to forcibly flush the stream.\n",
      "\n",
      "\n",
      "You are now leaving help and returning to the Python interpreter.\n",
      "If you want to ask for help on a particular object directly from the\n",
      "interpreter, you can type \"help(object)\".  Executing \"help('string')\"\n",
      "has the same effect as typing a particular string at the help> prompt.\n"
     ]
    }
   ],
   "source": [
    "help()"
   ]
  },
  {
   "cell_type": "code",
   "execution_count": 6,
   "metadata": {},
   "outputs": [
    {
     "name": "stdout",
     "output_type": "stream",
     "text": [
      "Help on built-in function print in module builtins:\n",
      "\n",
      "print(*args, sep=' ', end='\\n', file=None, flush=False)\n",
      "    Prints the values to a stream, or to sys.stdout by default.\n",
      "\n",
      "    sep\n",
      "      string inserted between values, default a space.\n",
      "    end\n",
      "      string appended after the last value, default a newline.\n",
      "    file\n",
      "      a file-like object (stream); defaults to the current sys.stdout.\n",
      "    flush\n",
      "      whether to forcibly flush the stream.\n",
      "\n"
     ]
    }
   ],
   "source": [
    "help(print)"
   ]
  },
  {
   "cell_type": "markdown",
   "metadata": {},
   "source": [
    "https://peps.python.org/pep-0008/"
   ]
  },
  {
   "cell_type": "markdown",
   "metadata": {},
   "source": [
    "Spremenljivke"
   ]
  },
  {
   "cell_type": "code",
   "execution_count": 8,
   "metadata": {},
   "outputs": [
    {
     "name": "stdout",
     "output_type": "stream",
     "text": [
      "5\n",
      "5\n",
      "5\n",
      "5\n",
      "5\n"
     ]
    }
   ],
   "source": [
    "vrednsot = 5\n",
    "print(vrednsot)\n",
    "print(vrednsot)\n",
    "print(vrednsot)\n",
    "print(vrednsot)\n",
    "print(vrednsot)"
   ]
  },
  {
   "cell_type": "code",
   "execution_count": 10,
   "metadata": {},
   "outputs": [
    {
     "name": "stdout",
     "output_type": "stream",
     "text": [
      "300\n"
     ]
    }
   ],
   "source": [
    "n = 300\n",
    "print(n)"
   ]
  },
  {
   "cell_type": "code",
   "execution_count": 11,
   "metadata": {},
   "outputs": [
    {
     "data": {
      "text/plain": [
       "300"
      ]
     },
     "execution_count": 11,
     "metadata": {},
     "output_type": "execute_result"
    }
   ],
   "source": [
    "n"
   ]
  },
  {
   "cell_type": "code",
   "execution_count": 12,
   "metadata": {},
   "outputs": [],
   "source": [
    "n = 1000"
   ]
  },
  {
   "cell_type": "code",
   "execution_count": 13,
   "metadata": {},
   "outputs": [
    {
     "name": "stdout",
     "output_type": "stream",
     "text": [
      "1000\n"
     ]
    }
   ],
   "source": [
    "print(n)"
   ]
  },
  {
   "cell_type": "code",
   "execution_count": 14,
   "metadata": {},
   "outputs": [
    {
     "name": "stdout",
     "output_type": "stream",
     "text": [
      "300 300 300\n"
     ]
    }
   ],
   "source": [
    "a = b = c = 300\n",
    "print(a, b, c)"
   ]
  },
  {
   "cell_type": "code",
   "execution_count": 17,
   "metadata": {},
   "outputs": [
    {
     "name": "stdout",
     "output_type": "stream",
     "text": [
      "<class 'str'> test\n",
      "<class 'str'> besedilo\n"
     ]
    }
   ],
   "source": [
    "var: int = \"test\"\n",
    "print(type(var), var)\n",
    "var = \"besedilo\"\n",
    "print(type(var), var)"
   ]
  },
  {
   "cell_type": "code",
   "execution_count": 18,
   "metadata": {},
   "outputs": [],
   "source": [
    "# MyPy -> https://github.com/python/mypy\n",
    "\n",
    "# numpy, jit\n",
    "# array[]\n",
    "# https://numba.pydata.org/numba-doc/latest/user/5minguide.html\n",
    "\n",
    "from numba import jit, int32\n",
    "\n",
    "@jit(int32(int32, int32))\n",
    "def f(x, y):\n",
    "    # A somewhat trivial example\n",
    "    return x + y"
   ]
  },
  {
   "cell_type": "code",
   "execution_count": null,
   "metadata": {},
   "outputs": [],
   "source": [
    "n = 300"
   ]
  },
  {
   "cell_type": "code",
   "execution_count": 23,
   "metadata": {},
   "outputs": [
    {
     "name": "stdout",
     "output_type": "stream",
     "text": [
      "700\n"
     ]
    },
    {
     "ename": "TypeError",
     "evalue": "can only concatenate str (not \"int\") to str",
     "output_type": "error",
     "traceback": [
      "\u001b[1;31m---------------------------------------------------------------------------\u001b[0m",
      "\u001b[1;31mTypeError\u001b[0m                                 Traceback (most recent call last)",
      "\u001b[1;32mc:\\LEON\\ICTA\\Tečaji\\icta-python-osnovni-public\\07_Izpis_spremenljivke_osnovni_podatkovni_tipi\\02_Spremenljivke.ipynb Cell 125\u001b[0m line \u001b[0;36m6\n\u001b[0;32m      <a href='vscode-notebook-cell:/c%3A/LEON/ICTA/Te%C4%8Daji/icta-python-osnovni-public/07_Izpis_spremenljivke_osnovni_podatkovni_tipi/02_Spremenljivke.ipynb#Y242sZmlsZQ%3D%3D?line=2'>3</a>\u001b[0m \u001b[39mprint\u001b[39m(n \u001b[39m+\u001b[39m m)\n\u001b[0;32m      <a href='vscode-notebook-cell:/c%3A/LEON/ICTA/Te%C4%8Daji/icta-python-osnovni-public/07_Izpis_spremenljivke_osnovni_podatkovni_tipi/02_Spremenljivke.ipynb#Y242sZmlsZQ%3D%3D?line=4'>5</a>\u001b[0m n \u001b[39m=\u001b[39m \u001b[39m\"\u001b[39m\u001b[39mlalalal\u001b[39m\u001b[39m\"\u001b[39m\n\u001b[1;32m----> <a href='vscode-notebook-cell:/c%3A/LEON/ICTA/Te%C4%8Daji/icta-python-osnovni-public/07_Izpis_spremenljivke_osnovni_podatkovni_tipi/02_Spremenljivke.ipynb#Y242sZmlsZQ%3D%3D?line=5'>6</a>\u001b[0m \u001b[39mprint\u001b[39m(n \u001b[39m+\u001b[39;49m m)\n",
      "\u001b[1;31mTypeError\u001b[0m: can only concatenate str (not \"int\") to str"
     ]
    }
   ],
   "source": [
    "n = 300\n",
    "m = 400\n",
    "print(n + m)\n",
    "\n",
    "n = \"lalalal\"\n",
    "print(n + m)\n"
   ]
  },
  {
   "cell_type": "code",
   "execution_count": 25,
   "metadata": {},
   "outputs": [
    {
     "name": "stdout",
     "output_type": "stream",
     "text": [
      "300\n",
      "300 300\n",
      "300 400\n"
     ]
    }
   ],
   "source": [
    "n = 300\n",
    "print(n)\n",
    "m = n\n",
    "print(m, n)\n",
    "n = 400\n",
    "print(m, n)"
   ]
  },
  {
   "cell_type": "code",
   "execution_count": 30,
   "metadata": {},
   "outputs": [
    {
     "data": {
      "text/plain": [
       "140717565594648"
      ]
     },
     "execution_count": 30,
     "metadata": {},
     "output_type": "execute_result"
    }
   ],
   "source": [
    "n = 20\n",
    "id(n)"
   ]
  },
  {
   "cell_type": "code",
   "execution_count": 31,
   "metadata": {},
   "outputs": [
    {
     "data": {
      "text/plain": [
       "140717565594648"
      ]
     },
     "execution_count": 31,
     "metadata": {},
     "output_type": "execute_result"
    }
   ],
   "source": [
    "m = n\n",
    "id(m)"
   ]
  },
  {
   "cell_type": "code",
   "execution_count": 36,
   "metadata": {},
   "outputs": [
    {
     "data": {
      "text/plain": [
       "140717565594648"
      ]
     },
     "execution_count": 36,
     "metadata": {},
     "output_type": "execute_result"
    }
   ],
   "source": [
    "m = 20\n",
    "id(m)"
   ]
  },
  {
   "cell_type": "markdown",
   "metadata": {},
   "source": [
    "> [-5, 256] -> isti id, samo za int"
   ]
  },
  {
   "cell_type": "code",
   "execution_count": 38,
   "metadata": {},
   "outputs": [
    {
     "name": "stdout",
     "output_type": "stream",
     "text": [
      "2277179530992\n",
      "2277179525296 2277179530992\n"
     ]
    }
   ],
   "source": [
    "n = 300\n",
    "print(id(n))\n",
    "m = n\n",
    "m = 400\n",
    "print(id(m), id(n))"
   ]
  },
  {
   "cell_type": "markdown",
   "metadata": {},
   "source": [
    "- uppercase and lowercase letters (A-Z, a-z), digits (0-9), and the underscore character (_)"
   ]
  },
  {
   "cell_type": "code",
   "execution_count": 46,
   "metadata": {},
   "outputs": [
    {
     "ename": "SyntaxError",
     "evalue": "invalid decimal literal (3405594386.py, line 3)",
     "output_type": "error",
     "traceback": [
      "\u001b[1;36m  Cell \u001b[1;32mIn[46], line 3\u001b[1;36m\u001b[0m\n\u001b[1;33m    34_vrednost = 4 # ne moremo začet z cifro\u001b[0m\n\u001b[1;37m      ^\u001b[0m\n\u001b[1;31mSyntaxError\u001b[0m\u001b[1;31m:\u001b[0m invalid decimal literal\n"
     ]
    }
   ],
   "source": [
    "vrednost_30_39 = 35\n",
    "\n",
    "34_vrednost = 4 # ne moremo začet z cifro"
   ]
  },
  {
   "cell_type": "code",
   "execution_count": 47,
   "metadata": {},
   "outputs": [
    {
     "name": "stdout",
     "output_type": "stream",
     "text": [
      "2 3\n"
     ]
    }
   ],
   "source": [
    "age = 2\n",
    "Age = 3\n",
    "print(age, Age)"
   ]
  },
  {
   "cell_type": "code",
   "execution_count": 48,
   "metadata": {},
   "outputs": [],
   "source": [
    "number_of_cpu_cores = 4 # Snake Case - functions and variable names\n",
    "NumberOfCPuCores = 2 # PascalCase - class names\n",
    "numberOfCPuCores = 3 # CamelCase"
   ]
  },
  {
   "cell_type": "code",
   "execution_count": 49,
   "metadata": {},
   "outputs": [
    {
     "name": "stdout",
     "output_type": "stream",
     "text": [
      "\n",
      "Here is a list of the Python keywords.  Enter any keyword to get more help.\n",
      "\n",
      "False               class               from                or\n",
      "None                continue            global              pass\n",
      "True                def                 if                  raise\n",
      "and                 del                 import              return\n",
      "as                  elif                in                  try\n",
      "assert              else                is                  while\n",
      "async               except              lambda              with\n",
      "await               finally             nonlocal            yield\n",
      "break               for                 not                 \n",
      "\n"
     ]
    }
   ],
   "source": [
    "help(\"keywords\")"
   ]
  },
  {
   "cell_type": "code",
   "execution_count": null,
   "metadata": {},
   "outputs": [],
   "source": []
  },
  {
   "cell_type": "code",
   "execution_count": null,
   "metadata": {},
   "outputs": [],
   "source": []
  }
 ],
 "metadata": {
  "kernelspec": {
   "display_name": "Python 3 (ipykernel)",
   "language": "python",
   "name": "python3"
  },
  "language_info": {
   "codemirror_mode": {
    "name": "ipython",
    "version": 3
   },
   "file_extension": ".py",
   "mimetype": "text/x-python",
   "name": "python",
   "nbconvert_exporter": "python",
   "pygments_lexer": "ipython3",
   "version": "3.12.0"
  }
 },
 "nbformat": 4,
 "nbformat_minor": 5
}
