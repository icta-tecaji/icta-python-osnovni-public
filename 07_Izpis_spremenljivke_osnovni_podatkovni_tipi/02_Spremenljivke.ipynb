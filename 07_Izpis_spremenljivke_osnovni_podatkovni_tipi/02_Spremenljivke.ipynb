{
 "cells": [
  {
   "cell_type": "markdown",
   "id": "71fa2149-31a3-44ce-914b-7d93f992e43f",
   "metadata": {},
   "source": [
    "# Spremenljivke"
   ]
  },
  {
   "cell_type": "code",
   "execution_count": null,
   "id": "384f9175-0b2c-41ba-b9c3-9b9eb9a4bac9",
   "metadata": {},
   "outputs": [],
   "source": []
  },
  {
   "cell_type": "code",
   "execution_count": null,
   "id": "9d166921-5b73-4905-8ac8-3a8258e2f9c5",
   "metadata": {},
   "outputs": [],
   "source": []
  },
  {
   "cell_type": "code",
   "execution_count": null,
   "id": "dc52b7db-6ffb-41d1-92c7-d832e797dab1",
   "metadata": {},
   "outputs": [],
   "source": []
  },
  {
   "cell_type": "code",
   "execution_count": null,
   "id": "d9358500-451c-4583-9d2b-d0d2dd553036",
   "metadata": {},
   "outputs": [],
   "source": []
  },
  {
   "cell_type": "code",
   "execution_count": null,
   "id": "7cb81edf-7527-409f-835f-e1c77b52076f",
   "metadata": {},
   "outputs": [],
   "source": []
  },
  {
   "cell_type": "code",
   "execution_count": null,
   "id": "d457a2c0-f17c-4dea-b74e-76213b9748ce",
   "metadata": {},
   "outputs": [],
   "source": []
  },
  {
   "cell_type": "code",
   "execution_count": null,
   "id": "7b22e426-5e12-45f0-955d-de28dfa34d1c",
   "metadata": {},
   "outputs": [],
   "source": []
  },
  {
   "cell_type": "code",
   "execution_count": null,
   "id": "a78e9747-9c06-486b-b1cf-39be4adb2326",
   "metadata": {},
   "outputs": [],
   "source": []
  },
  {
   "cell_type": "code",
   "execution_count": null,
   "id": "ecc3e5c1-aaa7-4185-be2f-bb7e24f6d3ee",
   "metadata": {},
   "outputs": [],
   "source": []
  },
  {
   "cell_type": "code",
   "execution_count": null,
   "id": "2d9ce89e-6398-456d-b8d0-0abc71b63795",
   "metadata": {},
   "outputs": [],
   "source": []
  },
  {
   "cell_type": "code",
   "execution_count": null,
   "id": "7a1c18fd-905d-41f8-807c-b06244040da7",
   "metadata": {},
   "outputs": [],
   "source": []
  },
  {
   "cell_type": "code",
   "execution_count": null,
   "id": "317b38cf-0eef-4f71-85fb-639d024685e5",
   "metadata": {},
   "outputs": [],
   "source": []
  },
  {
   "cell_type": "code",
   "execution_count": null,
   "id": "d6caf725-94ae-4d13-b937-947dc084bc27",
   "metadata": {},
   "outputs": [],
   "source": []
  }
 ],
 "metadata": {
  "kernelspec": {
   "display_name": "Python 3 (ipykernel)",
   "language": "python",
   "name": "python3"
  },
  "language_info": {
   "codemirror_mode": {
    "name": "ipython",
    "version": 3
   },
   "file_extension": ".py",
   "mimetype": "text/x-python",
   "name": "python",
   "nbconvert_exporter": "python",
   "pygments_lexer": "ipython3",
   "version": "3.12.0"
  }
 },
 "nbformat": 4,
 "nbformat_minor": 5
}
