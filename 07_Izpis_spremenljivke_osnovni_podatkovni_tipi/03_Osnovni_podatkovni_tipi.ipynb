{
 "cells": [
  {
   "cell_type": "markdown",
   "id": "ea8dbf22-20e1-4690-8ddb-4dd243e61262",
   "metadata": {},
   "source": [
    "# Osnovni podatkovni tipi"
   ]
  },
  {
   "cell_type": "code",
   "execution_count": null,
   "id": "36f962b0-86c2-48f9-b53c-f2e32a7fcd9c",
   "metadata": {},
   "outputs": [],
   "source": [
    "Da vidimo kakšnega tipa je spremenljivka, uporabimo besedo:\n",
    "```python\n",
    "type()\n",
    "```"
   ]
  },
  {
   "cell_type": "code",
   "execution_count": null,
   "id": "31de2985-1ad5-46f1-ae94-a5c28b2a56b5",
   "metadata": {},
   "outputs": [],
   "source": [
    "x = 1\n",
    "print(x)\n",
    "print(type(x)) # type(x) nam pove kakšnega tipa je spremenljivka x"
   ]
  },
  {
   "cell_type": "code",
   "execution_count": null,
   "id": "927e3fb1-617f-4d28-a78e-463461b60510",
   "metadata": {},
   "outputs": [],
   "source": [
    "Strongly typed: It won’t let unsafe operations on incompatible types go unnoticed."
   ]
  },
  {
   "cell_type": "code",
   "execution_count": null,
   "id": "0ace0238-f457-4664-a7e1-911525096e84",
   "metadata": {},
   "outputs": [],
   "source": []
  },
  {
   "cell_type": "code",
   "execution_count": null,
   "id": "42fb0cb5-4b53-4a3b-80b8-e2575d897b40",
   "metadata": {},
   "outputs": [],
   "source": []
  },
  {
   "cell_type": "markdown",
   "id": "2ff6ae8f-ba5b-450c-9816-6487cce1ac68",
   "metadata": {},
   "source": [
    "## Integer"
   ]
  },
  {
   "cell_type": "code",
   "execution_count": null,
   "id": "71dcf78b-b830-43a1-aec7-04b6332439e3",
   "metadata": {},
   "outputs": [],
   "source": []
  },
  {
   "cell_type": "code",
   "execution_count": null,
   "id": "ce31f994-a6e3-4042-9297-1875a6264f50",
   "metadata": {},
   "outputs": [],
   "source": []
  },
  {
   "cell_type": "code",
   "execution_count": null,
   "id": "2566af8a-d53b-4d2b-9f94-2833dd243472",
   "metadata": {},
   "outputs": [],
   "source": []
  },
  {
   "cell_type": "markdown",
   "id": "8027fbd2-cd92-4a77-86d6-874711db01bd",
   "metadata": {},
   "source": [
    "### Caching Small Integer Values"
   ]
  },
  {
   "cell_type": "markdown",
   "id": "65b138cd-c74c-4111-9a89-6306aaf1eddf",
   "metadata": {},
   "source": [
    "From what you now know about variable assignment and object references in Python, the following probably won’t surprise you:"
   ]
  },
  {
   "cell_type": "code",
   "execution_count": 4,
   "id": "1b63e670-a19b-4983-a8d2-cdc75f5faba2",
   "metadata": {},
   "outputs": [
    {
     "name": "stdout",
     "output_type": "stream",
     "text": [
      "m 2499024030416\n",
      "n 2499024030192\n"
     ]
    }
   ],
   "source": [
    "m = 300\n",
    "n = 300\n",
    "print(\"m\", id(m))\n",
    "print(\"n\", id(n))"
   ]
  },
  {
   "cell_type": "markdown",
   "id": "0a8fec07-3125-443b-a530-ac4ab847900f",
   "metadata": {},
   "source": [
    "With the statement m = 300, Python creates an integer object with the value 300 and sets m as a reference to it. n is then similarly assigned to an integer object with value 300—but not the same object. Thus, they have different identities, which you can verify from the values returned by id()."
   ]
  },
  {
   "cell_type": "markdown",
   "id": "54e5e1af-c95a-42f0-8ade-ae113e629c9c",
   "metadata": {},
   "source": [
    "But consider this:"
   ]
  },
  {
   "cell_type": "code",
   "execution_count": 3,
   "id": "6539fb29-2315-4ca5-92c9-59521410fc4d",
   "metadata": {},
   "outputs": [
    {
     "name": "stdout",
     "output_type": "stream",
     "text": [
      "m 140716658969944\n",
      "n 140716658969944\n"
     ]
    }
   ],
   "source": [
    "m = 30\n",
    "n = 30\n",
    "print(\"m\", id(m))\n",
    "print(\"n\", id(n))"
   ]
  },
  {
   "cell_type": "markdown",
   "id": "28ca5fcd-6661-4429-862f-3aac018c51b7",
   "metadata": {},
   "source": [
    "Here, m and n are separately assigned to integer objects having value 30. But in this case, id(m) and id(n) are identical!\n",
    "\n",
    "**For purposes of optimization, the interpreter creates objects for the integers in the range [-5, 256] at startup**, and then reuses them during program execution. Thus, when you assign separate variables to an integer value in this range, they will actually reference the same object."
   ]
  },
  {
   "cell_type": "code",
   "execution_count": null,
   "id": "c445c311-d787-416b-a3df-b210691b9e60",
   "metadata": {},
   "outputs": [],
   "source": []
  },
  {
   "cell_type": "code",
   "execution_count": null,
   "id": "883d8825-7349-47f6-ba0e-0067c140af03",
   "metadata": {},
   "outputs": [],
   "source": []
  },
  {
   "cell_type": "code",
   "execution_count": null,
   "id": "4290a5af-85c6-4ccc-bff0-6b12d090e4fa",
   "metadata": {},
   "outputs": [],
   "source": []
  },
  {
   "cell_type": "code",
   "execution_count": null,
   "id": "839a09b6-b6aa-4e33-8894-683ecb348874",
   "metadata": {},
   "outputs": [],
   "source": []
  },
  {
   "cell_type": "code",
   "execution_count": null,
   "id": "568ad9a7-6ee5-4b8d-a622-7cf73b493298",
   "metadata": {},
   "outputs": [],
   "source": []
  }
 ],
 "metadata": {
  "kernelspec": {
   "display_name": "Python 3 (ipykernel)",
   "language": "python",
   "name": "python3"
  },
  "language_info": {
   "codemirror_mode": {
    "name": "ipython",
    "version": 3
   },
   "file_extension": ".py",
   "mimetype": "text/x-python",
   "name": "python",
   "nbconvert_exporter": "python",
   "pygments_lexer": "ipython3",
   "version": "3.12.0"
  }
 },
 "nbformat": 4,
 "nbformat_minor": 5
}
