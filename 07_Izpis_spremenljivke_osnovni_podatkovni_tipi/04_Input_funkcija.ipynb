{
 "cells": [
  {
   "cell_type": "markdown",
   "id": "1cea0d6e-dda2-410f-815f-137efddd9622",
   "metadata": {},
   "source": [
    "# Input funkcija"
   ]
  },
  {
   "cell_type": "markdown",
   "id": "287d6a0c-6217-4062-bec2-5328460afa02",
   "metadata": {},
   "source": [
    "Python comes with a built-in function for accepting input from the user, predictably called `input()`. It accepts data from the standard input stream, which is usually the keyboard:"
   ]
  },
  {
   "cell_type": "code",
   "execution_count": 1,
   "id": "d5c25111-e638-417c-a7e2-b83104f3d935",
   "metadata": {},
   "outputs": [
    {
     "name": "stdout",
     "output_type": "stream",
     "text": [
      "Enter your name:  test\n"
     ]
    },
    {
     "name": "stdout",
     "output_type": "stream",
     "text": [
      "test\n"
     ]
    }
   ],
   "source": [
    "name = input('Enter your name: ')\n",
    "print(name)"
   ]
  },
  {
   "cell_type": "markdown",
   "id": "81a320b5-6cb6-4bd7-a0c4-f807efdbcd56",
   "metadata": {},
   "source": [
    "The function always returns a string, so you might need to parse it accordingly:"
   ]
  },
  {
   "cell_type": "code",
   "execution_count": 2,
   "id": "1edf3d18-8da3-43cb-8555-02c042533d1b",
   "metadata": {},
   "outputs": [
    {
     "name": "stdout",
     "output_type": "stream",
     "text": [
      "How old are you?  34\n"
     ]
    },
    {
     "name": "stdout",
     "output_type": "stream",
     "text": [
      "<class 'str'>\n"
     ]
    }
   ],
   "source": [
    "age = input('How old are you? ')\n",
    "print(type(age))"
   ]
  },
  {
   "cell_type": "code",
   "execution_count": 3,
   "id": "43a00691-cc98-44e8-b88f-da82d1ad6522",
   "metadata": {},
   "outputs": [
    {
     "name": "stdout",
     "output_type": "stream",
     "text": [
      "How old are you?  44\n"
     ]
    },
    {
     "name": "stdout",
     "output_type": "stream",
     "text": [
      "<class 'int'>\n"
     ]
    }
   ],
   "source": [
    "age = int(input('How old are you? '))\n",
    "print(type(age))"
   ]
  },
  {
   "cell_type": "markdown",
   "id": "1efb29e7-67c1-415b-a80a-116617af0380",
   "metadata": {},
   "source": [
    "The prompt parameter is completely optional, so nothing will show if you skip it, but the function will still work:"
   ]
  },
  {
   "cell_type": "code",
   "execution_count": 5,
   "id": "f16517e2-1be8-47f7-975b-7904b29463d0",
   "metadata": {},
   "outputs": [
    {
     "name": "stdout",
     "output_type": "stream",
     "text": [
      " eef\n"
     ]
    },
    {
     "name": "stdout",
     "output_type": "stream",
     "text": [
      "eef\n"
     ]
    }
   ],
   "source": [
    "x = input()\n",
    "print(x)"
   ]
  },
  {
   "cell_type": "markdown",
   "id": "7471553a-9f51-4a4b-813a-f197f2094b0d",
   "metadata": {},
   "source": [
    "Asking the user for a password with input() is a bad idea because it’ll show up in plaintext as they’re typing it. In this case, you should be using the getpass() function instead, which masks typed characters. This function is defined in a module under the same name, which is also available in the standard library:"
   ]
  },
  {
   "cell_type": "code",
   "execution_count": 7,
   "id": "8e5c25dc-75d0-4e80-b246-74f170d1ad80",
   "metadata": {},
   "outputs": [
    {
     "name": "stdout",
     "output_type": "stream",
     "text": [
      " ········\n"
     ]
    },
    {
     "name": "stdout",
     "output_type": "stream",
     "text": [
      "45\n"
     ]
    }
   ],
   "source": [
    "from getpass import getpass\n",
    "\n",
    "password = getpass()\n",
    "print(password)"
   ]
  },
  {
   "cell_type": "markdown",
   "id": "a0f970ed-1118-4150-9f0b-bf3a5afe1856",
   "metadata": {},
   "source": [
    "Python’s built-in functions for handling the standard input are quite limited. At the same time, there are plenty of third-party packages, which offer much more sophisticated tools."
   ]
  },
  {
   "cell_type": "markdown",
   "id": "6f96e448-ec4d-4444-ba68-2d7f57b98692",
   "metadata": {},
   "source": [
    "## Third-Party packages"
   ]
  },
  {
   "cell_type": "markdown",
   "id": "e9c647ec-afde-467e-9849-8075fa65ea87",
   "metadata": {},
   "source": [
    "There are external Python packages out there that allow for building complex graphical interfaces specifically to collect data from the user. Some of their features include:\n",
    "- Advanced formatting and styling\n",
    "- Automated parsing, validation, and sanitization of user data\n",
    "- A declarative style of defining layouts\n",
    "- Interactive autocompletion\n",
    "- Mouse support\n",
    "- Predefined widgets such as checklists or menus\n",
    "- Searchable history of typed commands\n",
    "- Syntax highlighting"
   ]
  },
  {
   "cell_type": "markdown",
   "id": "500fc852-7d6b-47b9-9333-d5307bd5d2aa",
   "metadata": {},
   "source": [
    "Options:"
   ]
  },
  {
   "cell_type": "markdown",
   "id": "07b10ae3-a90d-42e0-9756-86519329d0c7",
   "metadata": {},
   "source": [
    "<ul>\n",
    "<li><a href=\"https://github.com/Mckinsey666/bullet\"><code>bullet</code></a></li>\n",
    "<li><a href=\"https://pypi.org/project/cooked-input/\"><code>cooked-input</code></a></li>\n",
    "<li><a href=\"https://pypi.org/project/prompt_toolkit/\"><code>prompt_toolkit</code></a></li>\n",
    "<li><a href=\"https://github.com/kylebebak/questionnaire\"><code>questionnaire</code></a></li>\n",
    "</ul>"
   ]
  },
  {
   "cell_type": "markdown",
   "id": "6f35e584-28b1-4d5f-ad24-17bdb017aba6",
   "metadata": {},
   "source": [
    "# Razlaga"
   ]
  },
  {
   "cell_type": "code",
   "execution_count": 1,
   "id": "cb2975c1-0f83-4c8d-afd9-5f77b173a655",
   "metadata": {},
   "outputs": [
    {
     "name": "stdout",
     "output_type": "stream",
     "text": [
      "Leon\n"
     ]
    }
   ],
   "source": [
    "name = input('Enter your name: ')\n",
    "print(name)"
   ]
  },
  {
   "cell_type": "code",
   "execution_count": 2,
   "id": "3068ac17-0dcd-48f6-a11a-5f3919a3b21e",
   "metadata": {},
   "outputs": [
    {
     "name": "stdout",
     "output_type": "stream",
     "text": [
      "<class 'str'>\n"
     ]
    }
   ],
   "source": [
    "age = input('How old are you? ')\n",
    "print(type(age))"
   ]
  },
  {
   "cell_type": "code",
   "execution_count": 5,
   "id": "2eb5672b-0168-4cee-a393-ca76fa331a69",
   "metadata": {},
   "outputs": [
    {
     "name": "stdout",
     "output_type": "stream",
     "text": [
      "<class 'int'>\n"
     ]
    }
   ],
   "source": [
    "age = int(input('How old are you? '))\n",
    "print(type(age))"
   ]
  },
  {
   "cell_type": "code",
   "execution_count": 6,
   "id": "a88863fc-99ab-43ac-a534-ab0c906a3bdd",
   "metadata": {},
   "outputs": [
    {
     "name": "stdout",
     "output_type": "stream",
     "text": [
      "dfdfdff\n"
     ]
    }
   ],
   "source": [
    "from getpass import getpass\n",
    "\n",
    "password = getpass()\n",
    "print(password)"
   ]
  },
  {
   "cell_type": "code",
   "execution_count": null,
   "id": "6bc00d0c-8fff-407c-b81b-e0303c8b6a1e",
   "metadata": {},
   "outputs": [],
   "source": []
  },
  {
   "cell_type": "code",
   "execution_count": null,
   "id": "ce37ee91-571f-478d-94ae-88bfd1163914",
   "metadata": {},
   "outputs": [],
   "source": []
  },
  {
   "cell_type": "code",
   "execution_count": null,
   "id": "bc05298f-a9ea-4ade-823a-806c1bd6a7a5",
   "metadata": {},
   "outputs": [],
   "source": []
  },
  {
   "cell_type": "code",
   "execution_count": null,
   "id": "e73a6469-67d1-432d-828a-9d3f1a5e358e",
   "metadata": {},
   "outputs": [],
   "source": []
  },
  {
   "cell_type": "code",
   "execution_count": null,
   "id": "72d0585f-8af2-4af5-a7b4-1c082063bf41",
   "metadata": {},
   "outputs": [],
   "source": []
  }
 ],
 "metadata": {
  "kernelspec": {
   "display_name": "Python 3 (ipykernel)",
   "language": "python",
   "name": "python3"
  },
  "language_info": {
   "codemirror_mode": {
    "name": "ipython",
    "version": 3
   },
   "file_extension": ".py",
   "mimetype": "text/x-python",
   "name": "python",
   "nbconvert_exporter": "python",
   "pygments_lexer": "ipython3",
   "version": "3.12.0"
  }
 },
 "nbformat": 4,
 "nbformat_minor": 5
}
