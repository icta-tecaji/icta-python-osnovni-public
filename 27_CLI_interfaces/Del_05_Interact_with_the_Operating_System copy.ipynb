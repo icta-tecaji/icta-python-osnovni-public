{
 "cells": [
  {
   "cell_type": "markdown",
   "metadata": {},
   "source": [
    "# Interact with the Operating System"
   ]
  },
  {
   "cell_type": "markdown",
   "metadata": {},
   "source": [
    "Viri:\n",
    "- [How to Build Command Line Interfaces in Python With argparse](https://realpython.com/command-line-interfaces-python-argparse/)\n",
    "- [Comparing Python Command-Line Parsing Libraries – Argparse, Docopt, and Click](https://realpython.com/comparing-python-command-line-parsing-libraries-argparse-docopt-click/)\n",
    "- [Command Line Arguments in Python](https://stackabuse.com/command-line-arguments-in-python/)\n",
    "- [Argparse Tutorial](https://docs.python.org/3/howto/argparse.html)\n",
    "- [Argument Parsing in Python](https://www.datacamp.com/community/tutorials/argument-parsing-in-python)\n",
    "- [How to Write Perfect Python Command-line Interfaces](https://www.sicara.ai/blog/2018-12-18-perfect-command-line-interfaces-python)\n",
    "- [Click](https://click.palletsprojects.com/en/7.x/)\n",
    "- [Google IT Automation with Python Professional Certificate](https://www.coursera.org/professional-certificates/google-it-automation)\n",
    "- [Working With Files in Python](https://realpython.com/working-with-files-in-python/)\n",
    "- [Python Input and Output to Handle User and File Input](https://pynative.com/python-input-function-get-user-input/)\n",
    "- [subprocess — Spawning Additional Processes](https://pymotw.com/3/subprocess/)"
   ]
  },
  {
   "cell_type": "markdown",
   "metadata": {},
   "source": [
    "## Command-line Interfaces"
   ]
  },
  {
   "cell_type": "markdown",
   "metadata": {},
   "source": [
    "Computer programs are written with a specific purpose in mind. Tools on UNIX/Linux systems follow the idea of specialization - one tool for one task, but to do it as perfect as possible, then. Nethertheless, as with other tools, this allows you to combine single programs, and to create powerful tool chains.\n",
    " \n",
    "With the help of command line arguments that are passed to programs, you can deal with much more specific use cases. Command line arguments allow you to enable programs to act in a certain way, for example to output additional information, or to read data from a specified source, and to interpret this data in a desired format."
   ]
  },
  {
   "cell_type": "markdown",
   "metadata": {},
   "source": [
    "In general, operating systems accept arguments in a certain notation, for example:\n",
    "- UNIX: \"-\" followed by a letter, like \"-h\"\n",
    "- GNU: \"--\" followed by a word, like \"--help\"\n",
    "- Microsoft Windows: \"/\" followed by either a letter, or word, like \"/help\""
   ]
  },
  {
   "cell_type": "markdown",
   "metadata": {},
   "source": [
    "These different approaches exist due to historical reasons. Many programs on UNIX-like systems support either the UNIX way, or the GNU way, or both. The UNIX notation is mostly used with single letter options while GNU presents a more readable options list particularly useful to document what is running.\n",
    "\n",
    "Keep in mind that both the name and the meaning of an argument are specific to a program - there is no general definition, but a few conventions like --help for further information on the usage of the tool. As the developer of a Python script you decide which arguments are valid, and what they stand for, actually. This requires proper evaluation. Read on how to do it using Python."
   ]
  },
  {
   "cell_type": "markdown",
   "metadata": {},
   "source": [
    "### Handling command line arguments with Python"
   ]
  },
  {
   "cell_type": "markdown",
   "metadata": {},
   "source": [
    "Python 3 supports four different ways of handling command line arguments. The oldest one is the sys module. In terms of names, and its usage, it relates directly to the C library (libc). The second way is the getopt module which handles both short, and long options, including the evaluation of the parameter values.\n",
    "\n",
    "Furthermore, two lesser-known ways exist. This is the argparse module which is derived from the optparse module available up to Python 2.7, formerly, and the docopt module is available from GitHub. All the modules are fully documented and worth reading."
   ]
  },
  {
   "cell_type": "markdown",
   "metadata": {},
   "source": [
    "#### The sys Module"
   ]
  },
  {
   "cell_type": "markdown",
   "metadata": {},
   "source": [
    "This is a basic module that was shipped with the Python distribution from the early days on. It has a quite similar approach as the C library using argc/argv to access the arguments. The sys module implements the command line arguments in a simple list structure named `sys.argv`."
   ]
  },
  {
   "cell_type": "markdown",
   "metadata": {},
   "source": [
    "Each list element represents a single argument. The first one -- sys.argv[0] -- is the name of the Python script. The other list elements -- sys.argv[1] to sys.argv[n] -- are the command line arguments 2 to n. As a delimiter between the arguments, a space is in use. Argument values that contain a space in it have to be quoted, accordingly.\n",
    "\n",
    "The equivalent of argc is just the number of elements in the list. To obtain this value use the Python len() operator. Example 2 will explain this in detail."
   ]
  },
  {
   "cell_type": "code",
   "execution_count": null,
   "metadata": {},
   "outputs": [],
   "source": [
    "# Osnovni primer delovanja\n",
    "import sys\n",
    "\n",
    "print(sys.argv)"
   ]
  },
  {
   "cell_type": "markdown",
   "metadata": {},
   "source": [
    "> Probamo poklicati z različnimi argumenti."
   ]
  },
  {
   "cell_type": "markdown",
   "metadata": {},
   "source": [
    "##### Example 1: Determine the name of the Python script"
   ]
  },
  {
   "cell_type": "markdown",
   "metadata": {},
   "source": [
    "In this first example, we determine the way we were called. This information is kept in the first command line argument, indexed with 0. Listing 1 displays how you obtain the name of your Python script."
   ]
  },
  {
   "cell_type": "code",
   "execution_count": 3,
   "metadata": {},
   "outputs": [
    {
     "name": "stdout",
     "output_type": "stream",
     "text": [
      "the script has the name /opt/conda/lib/python3.7/site-packages/ipykernel_launcher.py\n"
     ]
    }
   ],
   "source": [
    "import sys\n",
    "\n",
    "print (f\"the script has the name {sys.argv[0]}\")"
   ]
  },
  {
   "cell_type": "markdown",
   "metadata": {},
   "source": [
    "Save this code in a file named arguments-programname.py, and then call it as shown in Listing 1. The output is as follows and contains the file name, including its full path."
   ]
  },
  {
   "cell_type": "markdown",
   "metadata": {},
   "source": [
    "    $ python arguments-programname.py\n",
    "    the script has the name arguments-programname.py\n",
    "    \n",
    "    $ python /home/user/arguments-programname.py\n",
    "    the script has the name /home/user/arguments-programname.py"
   ]
  },
  {
   "cell_type": "markdown",
   "metadata": {},
   "source": [
    "##### Example 2: Count the arguments"
   ]
  },
  {
   "cell_type": "markdown",
   "metadata": {},
   "source": [
    "In the second example we simply count the number of command line arguments using the built-in len() method. sys.argv is the list that we have to examine. In Example 2, a value of 1 is subtracted to get the right index (argument list counters start from zero). As you may remember from Example 1, the first element contains the name of the Python script, which we skip here."
   ]
  },
  {
   "cell_type": "code",
   "execution_count": 2,
   "metadata": {},
   "outputs": [
    {
     "name": "stdout",
     "output_type": "stream",
     "text": [
      "the script is called with 2 arguments\n"
     ]
    }
   ],
   "source": [
    "import sys\n",
    "\n",
    "# count the arguments\n",
    "arguments = len(sys.argv) - 1\n",
    "print (f\"the script is called with {arguments} arguments\")"
   ]
  },
  {
   "cell_type": "markdown",
   "metadata": {},
   "source": [
    "Save and name this file arguments-count.py. The call is displayed in Listing 2. This includes three different scenarios: a) a call without any further command line arguments, b) a call with two arguments, and c) with two arguments where the second one is a quoted string (a string that contains a space)."
   ]
  },
  {
   "cell_type": "markdown",
   "metadata": {},
   "source": [
    "    $ python arguments-count.py\n",
    "    the script is called with 0 arguments\n",
    "\n",
    "    $ python arguments-count.py --help me\n",
    "    the script is called with 2 arguments\n",
    "\n",
    "    $ python arguments-count.py --option \"long string\"\n",
    "    the script is called with 2 arguments"
   ]
  },
  {
   "cell_type": "markdown",
   "metadata": {},
   "source": [
    "##### Example 3: Output arguments"
   ]
  },
  {
   "cell_type": "markdown",
   "metadata": {},
   "source": [
    "The third example outputs every single argument the Python script that is called with, except the program name itself. Therefore, we loop through the command line arguments starting with the second list element. As stated before, this element has index 1."
   ]
  },
  {
   "cell_type": "code",
   "execution_count": 5,
   "metadata": {},
   "outputs": [
    {
     "name": "stdout",
     "output_type": "stream",
     "text": [
      "parameter 1: -f\n",
      "parameter 2: /home/jovyan/.local/share/jupyter/runtime/kernel-4afff967-7986-49dc-afb4-3e7b5e8e5c6c.json\n"
     ]
    }
   ],
   "source": [
    "import sys\n",
    "\n",
    "# count the arguments\n",
    "arguments = len(sys.argv) - 1\n",
    "\n",
    "# output argument-wise\n",
    "position = 1\n",
    "while (arguments >= position):\n",
    "    print (f\"parameter {position}: {sys.argv[position]}\")\n",
    "    position = position + 1"
   ]
  },
  {
   "cell_type": "markdown",
   "metadata": {},
   "source": [
    "In Listing 3 the Python script is named arguments-output.py. As done in Listing 2, the output illustrates three different calls: a) without any arguments, b) with two arguments, and c) also with two arguments where the second argument is a quoted string that consists of two single words, separated by a space."
   ]
  },
  {
   "cell_type": "markdown",
   "metadata": {},
   "source": [
    "    $ python arguments-output.py\n",
    "\n",
    "    $ python arguments-output.py --help me\n",
    "    parameter 1: --help\n",
    "    parameter 2: me\n",
    "\n",
    "    $ python arguments-output.py --option \"long string\"\n",
    "    parameter 1: --option\n",
    "    parameter 2: long string"
   ]
  },
  {
   "cell_type": "markdown",
   "metadata": {},
   "source": [
    "#### The getopt Module"
   ]
  },
  {
   "cell_type": "markdown",
   "metadata": {},
   "source": [
    "> Note The getopt module is a parser for command line options whose API is designed to be familiar to users of the C getopt() function. Users who are unfamiliar with the C getopt() function or who would like to write less code and get better help and error messages should consider using the argparse module instead."
   ]
  },
  {
   "cell_type": "markdown",
   "metadata": {},
   "source": [
    "As you may have seen before the sys module splits the command line string into single facets only. The Python getopt module goes a bit further, and extends the separation of the input string by parameter validation. Based on the getopt C function, it allows both short, and long options including a value assignment.\n",
    "\n",
    "In practice it requires the sys module to process input data properly. To do so, both the sys module and the getopt module have to be loaded beforehand. Next, from the list of input parameters we remove the first list element (see Example 4.1), and store the remaining list of command line arguments in the variable called argumentList."
   ]
  },
  {
   "cell_type": "markdown",
   "metadata": {},
   "source": [
    "#### Example 4"
   ]
  },
  {
   "cell_type": "code",
   "execution_count": null,
   "metadata": {},
   "outputs": [],
   "source": [
    "# Preparing the input parameters\n",
    "# include standard modules\n",
    "import getopt, sys\n",
    "\n",
    "# read commandline arguments, first\n",
    "fullCmdArguments = sys.argv\n",
    "\n",
    "# - further arguments\n",
    "argumentList = fullCmdArguments[1:]\n",
    "\n",
    "print(argumentList)"
   ]
  },
  {
   "cell_type": "markdown",
   "metadata": {},
   "source": [
    "Now, argumentList can be parsed using the getopts() method. Before doing that, getopts() needs to know about the valid parameters. They are defined like this:"
   ]
  },
  {
   "cell_type": "code",
   "execution_count": null,
   "metadata": {},
   "outputs": [],
   "source": [
    "unixOptions = \"ho:v\"\n",
    "gnuOptions = [\"help\", \"output=\", \"verbose\"]"
   ]
  },
  {
   "cell_type": "markdown",
   "metadata": {},
   "source": [
    "This means that these arguments are seen as the valid ones, now:\n",
    "\n",
    "    ------------------------------------------\n",
    "    long argument   short argument  with value\n",
    "    ------------------------------------------\n",
    "    --help           -h              no\n",
    "    --output         -o              yes\n",
    "    --verbose        -v              no\n",
    "    ------------------------------------------\n",
    "    \n",
    "Next, this allows you to process the argument list. The getopt() method requires three parameters - the list of the remaining arguments, as well as both the valid UNIX, and GNU options (see table above)."
   ]
  },
  {
   "cell_type": "markdown",
   "metadata": {},
   "source": [
    "The method call itself is kept in a try-catch-statement to cover errors during the evaluation. An exception is raised if an argument is discovered that is not part of the list as defined before (see Example 4.2). The Python script will print the error message to the screen, and exit with error code 2."
   ]
  },
  {
   "cell_type": "code",
   "execution_count": null,
   "metadata": {},
   "outputs": [],
   "source": [
    "try:\n",
    "    arguments, values = getopt.getopt(argumentList, unixOptions, gnuOptions)\n",
    "except getopt.error as err:\n",
    "    # output error, and return with an error code\n",
    "    print(str(err))\n",
    "    sys.exit(2)"
   ]
  },
  {
   "cell_type": "markdown",
   "metadata": {},
   "source": [
    "Finally, the arguments with the corresponding values are stored in the two variables named arguments, and values. Now, you can evaluate these variables (see Example 4.4). The for-loop goes through the list of recognized arguments, one entry after the next."
   ]
  },
  {
   "cell_type": "code",
   "execution_count": null,
   "metadata": {},
   "outputs": [],
   "source": [
    "# evaluate given options\n",
    "for currentArgument, currentValue in arguments:\n",
    "    if currentArgument in (\"-v\", \"--verbose\"):\n",
    "        print(\"enabling verbose mode\")\n",
    "    elif currentArgument in (\"-h\", \"--help\"):\n",
    "        print(\"displaying help\")\n",
    "    elif currentArgument in (\"-o\", \"--output\"):\n",
    "        print(f\"enabling special output mode {currentValue}\")"
   ]
  },
  {
   "cell_type": "markdown",
   "metadata": {},
   "source": [
    "In Listing 4 you see the output of the program calls. These calls are displayed with both valid and invalid program arguments."
   ]
  },
  {
   "cell_type": "markdown",
   "metadata": {},
   "source": [
    "    $ python arguments-getopt.py -h\n",
    "    displaying help\n",
    "    \n",
    "    $ python arguments-getopt.py --help\n",
    "    displaying help\n",
    "    \n",
    "    $ python arguments-getopt.py --output=green --help -v\n",
    "    enabling special output mode (green)\n",
    "    displaying help\n",
    "    enabling verbose mode\n",
    "    \n",
    "    $ python arguments-getopt.py -verbose\n",
    "    option -e not recognized"
   ]
  },
  {
   "cell_type": "markdown",
   "metadata": {},
   "source": [
    "#### The argparse Library"
   ]
  },
  {
   "cell_type": "markdown",
   "metadata": {},
   "source": [
    "> The argparse module makes it easy to write user-friendly command-line interfaces. The program defines what arguments it requires, and argparse will figure out how to parse those out of sys.argv. The argparse module also automatically generates help and usage messages and issues errors when users give the program invalid arguments."
   ]
  },
  {
   "cell_type": "markdown",
   "metadata": {},
   "source": [
    "[argparse — Parser for command-line options, arguments and sub-commands](https://docs.python.org/3/library/argparse.html)"
   ]
  },
  {
   "cell_type": "markdown",
   "metadata": {},
   "source": [
    "One of the strengths of Python is that it comes with batteries included: it has a rich and versatile standard library that makes it one of the best programming languages for writing scripts for the command line. But, if you write scripts for the command line, then you also need to provide a good command line interface, which you can create with the Python argparse library."
   ]
  },
  {
   "cell_type": "markdown",
   "metadata": {},
   "source": [
    "The Python argparse library:\n",
    "- Allows the use of positional arguments\n",
    "- Allows the customization of the prefix chars\n",
    "- Supports variable numbers of parameters for a single option\n",
    "- Supports subcommands (A main command line parser can use other command line parsers depending on some arguments.)"
   ]
  },
  {
   "cell_type": "markdown",
   "metadata": {},
   "source": [
    "In order to familiarize yourself with this topic, you’re going to read a lot about arguments, options, and parameters, so let’s clarify the terminology right away:\n",
    "- An argument is a single part of a command line, delimited by blanks.\n",
    "- An option is a particular type of argument (or a part of an argument) that can modify the behavior of the command line.\n",
    "- A parameter is a particular type of argument that provides additional information to a single option or command."
   ]
  },
  {
   "cell_type": "markdown",
   "metadata": {},
   "source": [
    "Using the Python argparse library has four steps:\n",
    "- Import the Python argparse library\n",
    "- Create the parser\n",
    "- Add optional and positional arguments to the parser\n",
    "- Execute .parse_args()\n",
    "\n",
    "After you execute .parse_args(), what you get is a Namespace object that contains a simple property for each input argument received from the command line.\n",
    "\n",
    "In order to see these four steps in detail with an example, let’s pretend you’re creating a program named myls.py that lists the files contained in the current directory. Here’s a possible implementation of your command line interface without using the Python argparse library:"
   ]
  },
  {
   "cell_type": "code",
   "execution_count": null,
   "metadata": {},
   "outputs": [],
   "source": [
    "# myls.py\n",
    "import os\n",
    "import sys\n",
    "\n",
    "if len(sys.argv) > 2:\n",
    "    print('You have specified too many arguments')\n",
    "    sys.exit()\n",
    "\n",
    "if len(sys.argv) < 2:\n",
    "    print('You need to specify the path to be listed')\n",
    "    sys.exit()\n",
    "\n",
    "input_path = sys.argv[1]\n",
    "\n",
    "if not os.path.isdir(input_path):\n",
    "    print('The path specified does not exist')\n",
    "    sys.exit()\n",
    "\n",
    "print('\\n'.join(os.listdir(input_path)))"
   ]
  },
  {
   "cell_type": "markdown",
   "metadata": {},
   "source": [
    "This is a possible implementation of the command line interface for your program that doesn’t use the Python argparse library."
   ]
  },
  {
   "cell_type": "markdown",
   "metadata": {},
   "source": [
    "As you can see, the script does work, but the output is quite different from the output you’d expect from a standard built-in command.\n",
    "\n",
    "Now, let’s see how the Python argparse library can improve this code:"
   ]
  },
  {
   "cell_type": "code",
   "execution_count": null,
   "metadata": {},
   "outputs": [],
   "source": [
    "# myls_argp.py\n",
    "# Import the argparse library\n",
    "import argparse\n",
    "\n",
    "import os\n",
    "import sys\n",
    "\n",
    "# Create the parser\n",
    "# description: for the text that is shown before the help text\n",
    "my_parser = argparse.ArgumentParser(description='List the content of a folder')\n",
    "\n",
    "# Add the arguments\n",
    "my_parser.add_argument('Path',\n",
    "                       metavar='path',\n",
    "                       type=str,\n",
    "                       help='the path to list')\n",
    "\n",
    "# Execute the parse_args() method\n",
    "args = my_parser.parse_args()\n",
    "\n",
    "input_path = args.Path\n",
    "\n",
    "if not os.path.isdir(input_path):\n",
    "    print('The path specified does not exist')\n",
    "    sys.exit()\n",
    "\n",
    "print('\\n'.join(os.listdir(input_path)))"
   ]
  },
  {
   "cell_type": "markdown",
   "metadata": {},
   "source": [
    "The code has changed a lot with the introduction of the Python argparse library.\n",
    "\n",
    "The first big difference compared to the previous version is that the if statements to check the arguments provided by the user are gone because the library will check the presence of the arguments for us.\n",
    "\n",
    "We’ve imported the Python argparse library, created a simple parser with a brief description of the program’s goal, and defined the positional argument we want to get from the user. Lastly, we have executed .parse_args() to parse the input arguments and get a Namespace object that contains the user input."
   ]
  },
  {
   "cell_type": "markdown",
   "metadata": {},
   "source": [
    "    python myls_argp.py"
   ]
  },
  {
   "cell_type": "markdown",
   "metadata": {},
   "source": [
    "As you can see, the program has detected that you needed at least a positional argument (path), and so the execution of the program has been interrupted with a specific error message.\n",
    "\n",
    "You may also have noticed that now your program accepts an optional -h flag, like in the example below:"
   ]
  },
  {
   "cell_type": "markdown",
   "metadata": {},
   "source": [
    "    python myls_argp.py -h"
   ]
  },
  {
   "cell_type": "markdown",
   "metadata": {},
   "source": [
    "Good, now the program responds to the -h flag, displaying a help message that tells the user how to use the program. Isn’t that neat, considering that you didn’t even need to ask for that feature?\n",
    "\n",
    "Lastly, with just four lines of code, now the args variable is a Namespace object, which has a property for each argument that has been gathered from the command line."
   ]
  },
  {
   "cell_type": "markdown",
   "metadata": {},
   "source": [
    "##### Setting the Name of the Program"
   ]
  },
  {
   "cell_type": "markdown",
   "metadata": {},
   "source": [
    "By default, the library uses the value of the sys.argv[0] element to set the name of the program, which as you probably already know is the name of the Python script you have executed. However, you can specify the name of your program just by using the prog keyword:\n",
    "\n"
   ]
  },
  {
   "cell_type": "code",
   "execution_count": null,
   "metadata": {},
   "outputs": [],
   "source": [
    "# Create the parser\n",
    "my_parser = argparse.ArgumentParser(prog='myls',\n",
    "                                    description='List the content of a folder')"
   ]
  },
  {
   "cell_type": "markdown",
   "metadata": {},
   "source": [
    "As you can see, now the program name is just myls instead of myls.py."
   ]
  },
  {
   "cell_type": "markdown",
   "metadata": {},
   "source": [
    "##### Setting the Name or Flags of the Arguments"
   ]
  },
  {
   "cell_type": "markdown",
   "metadata": {},
   "source": [
    "There are basically two different types of arguments that you can add to your command line interface:\n",
    "\n",
    "Positional arguments\n",
    "- Optional arguments\n",
    "- Positional arguments are the ones your command needs to operate.\n",
    "\n",
    "In the previous example, the argument path was a positional argument, and our program couldn’t work without it. They are called positional because their position defines their function.\n",
    "\n",
    "For example, consider the cp command on Linux (or the copy command in Windows). Here’s the standard usage:"
   ]
  },
  {
   "cell_type": "markdown",
   "metadata": {},
   "source": [
    "    cp [OPTION]... [-T] SOURCE DEST"
   ]
  },
  {
   "cell_type": "markdown",
   "metadata": {},
   "source": [
    "The first positional argument after the cp command is the source of the file you’re going to copy. The second one is the destination where you want to copy it.\n",
    "\n",
    "Optional arguments are not mandatory, and when they are used they can modify the behavior of the command at runtime. In the cp example, an optional argument is, for example, the -r flag, which makes the command copy directories recursively.\n",
    "\n",
    "Syntactically, the difference between positional and optional arguments is that optional arguments start with - or --, while positional arguments don’t.\n",
    "\n",
    "To add an optional argument, you just need to call .add_argument() again and name the new argument with a starting -.\n"
   ]
  },
  {
   "cell_type": "markdown",
   "metadata": {},
   "source": [
    "##### Name of the Attribute to Be Added to the Object Once Parsed"
   ]
  },
  {
   "cell_type": "markdown",
   "metadata": {},
   "source": [
    "As you have already seen, when you add an argument to the parser, the value of this argument is stored in a property of the Namespace object. This property is named by default as the first argument passed to .add_argument() for the positional argument and as the long option string for optional arguments."
   ]
  },
  {
   "cell_type": "markdown",
   "metadata": {},
   "source": [
    "If an option uses dashes (as is fairly common), they will be converted to underscores in the property name:"
   ]
  },
  {
   "cell_type": "markdown",
   "metadata": {},
   "source": [
    "However, it’s possible to specify the name of this property just by using the keyword dest when you’re adding an argument to the parser:"
   ]
  },
  {
   "cell_type": "markdown",
   "metadata": {},
   "source": [
    "    my_parser.add_argument('-v',\n",
    "                           '--verbosity',\n",
    "                           action='store',\n",
    "                           type=int,\n",
    "                           dest='my_verbosity_level')"
   ]
  },
  {
   "cell_type": "markdown",
   "metadata": {},
   "source": [
    "By running this program, you’ll see that now the args variable contains a .my_verbosity_level property, even if by default the name of the property should have been .verbosity:"
   ]
  },
  {
   "cell_type": "markdown",
   "metadata": {},
   "source": [
    "The default name of this property would have been .verbosity, but since a different name has been specified by the dest keyword, .my_verbosity_level has been used."
   ]
  },
  {
   "cell_type": "markdown",
   "metadata": {},
   "source": [
    "> A verbose mode is an option available in many computer operating systems, including Microsoft Windows, macOS, and Linux. It provides additional details as to what the computer is doing and what drivers and software it is loading during startup. This level of detail can be very helpful for troubleshooting problems with hardware or software, if errors are occurring during startup or after the operating system has loaded. Below is an example of verbose output in a Windows command line screen."
   ]
  },
  {
   "cell_type": "markdown",
   "metadata": {},
   "source": [
    "##### Setting the Argument Name in Usage Messages"
   ]
  },
  {
   "cell_type": "markdown",
   "metadata": {},
   "source": [
    "If an argument accepts an input value, it can be useful to give this value a name that the parser can use to generate the help message, and this can be done by using the metavar keyword. In the following example, you can see how you can use the metavar keyword to specify a name for the value of the -v flag:"
   ]
  },
  {
   "cell_type": "code",
   "execution_count": null,
   "metadata": {},
   "outputs": [],
   "source": [
    "# metavar_example.py\n",
    "import argparse\n",
    "\n",
    "my_parser = argparse.ArgumentParser()\n",
    "my_parser.add_argument('-v',\n",
    "                       '--verbosity',\n",
    "                       action='store',\n",
    "                       type=int,\n",
    "                       metavar='LEVEL')\n",
    "\n",
    "args = my_parser.parse_args()\n",
    "\n",
    "print(vars(args))"
   ]
  },
  {
   "cell_type": "markdown",
   "metadata": {},
   "source": [
    "Now, if you run your program with the -h flag, the help text assigns the name LEVEL to the value of the -v flag:"
   ]
  },
  {
   "cell_type": "markdown",
   "metadata": {},
   "source": [
    "Please note that, in the help message, the value accepted for the -v flag is now named LEVEL."
   ]
  },
  {
   "cell_type": "markdown",
   "metadata": {},
   "source": [
    "##### [Defining Mutually Exclusive Groups](https://realpython.com/command-line-interfaces-python-argparse/#defining-mutually-exclusive-groups)"
   ]
  },
  {
   "cell_type": "markdown",
   "metadata": {},
   "source": [
    "##### Showing a Brief Description of What an Argument Does"
   ]
  },
  {
   "cell_type": "markdown",
   "metadata": {},
   "source": [
    "A great feature of the Python argparse library is that, by default, you have the ability to ask for help just by adding the -h flag to your command line.\n",
    "\n",
    "To make it even better, you can add help text to your arguments, so as to give the users even more help when they execute your program with the -h flag:"
   ]
  },
  {
   "cell_type": "code",
   "execution_count": null,
   "metadata": {},
   "outputs": [],
   "source": [
    "import argparse\n",
    "\n",
    "my_parser = argparse.ArgumentParser()\n",
    "my_parser.add_argument('-a',\n",
    "                       action='store',\n",
    "                       choices=['head', 'tail'],\n",
    "                       help='set the user choice to head or tail')\n",
    "\n",
    "args = my_parser.parse_args()\n",
    "\n",
    "print(vars(args))"
   ]
  },
  {
   "cell_type": "markdown",
   "metadata": {},
   "source": [
    "Defining a help text for all the arguments is a really good idea because it makes the usage of your program more clear to the user."
   ]
  },
  {
   "cell_type": "markdown",
   "metadata": {},
   "source": [
    "##### Setting Whether the Argument Is Required"
   ]
  },
  {
   "cell_type": "markdown",
   "metadata": {},
   "source": [
    "If you want to force your user to specify the value for an optional argument, then you can use the required keyword:"
   ]
  },
  {
   "cell_type": "code",
   "execution_count": null,
   "metadata": {},
   "outputs": [],
   "source": [
    "# required_example.py\n",
    "import argparse\n",
    "\n",
    "my_parser = argparse.ArgumentParser()\n",
    "my_parser.add_argument('-a',\n",
    "                       action='store',\n",
    "                       choices=['head', 'tail'],\n",
    "                       required=True)\n",
    "\n",
    "args = my_parser.parse_args()\n",
    "\n",
    "print(vars(args))"
   ]
  },
  {
   "cell_type": "markdown",
   "metadata": {},
   "source": [
    "If you use the required keyword set to True for an optional argument, then the user will be forced to set a value for that argument."
   ]
  },
  {
   "cell_type": "markdown",
   "metadata": {},
   "source": [
    "That said, please bear in mind that requiring an optional argument is usually considered bad practice since the user wouldn’t expect to have to set a value for an argument that should be optional."
   ]
  },
  {
   "cell_type": "markdown",
   "metadata": {},
   "source": [
    "##### Setting a Domain of Allowed Values for a Specific Argument"
   ]
  },
  {
   "cell_type": "markdown",
   "metadata": {},
   "source": [
    "Another interesting possibility with the Python argparse library creating a domain of allowed values for specific arguments. You can do this by providing a list of accepted values while adding the new option:"
   ]
  },
  {
   "cell_type": "code",
   "execution_count": null,
   "metadata": {},
   "outputs": [],
   "source": [
    "# choices_ex.py\n",
    "import argparse\n",
    "\n",
    "my_parser = argparse.ArgumentParser()\n",
    "my_parser.add_argument('-a', action='store', choices=['head', 'tail'])\n",
    "\n",
    "args = my_parser.parse_args()"
   ]
  },
  {
   "cell_type": "markdown",
   "metadata": {},
   "source": [
    "Please note that if you are accepting numeric values, then you can even use range() to specify a range of accepted values:"
   ]
  },
  {
   "cell_type": "code",
   "execution_count": null,
   "metadata": {},
   "outputs": [],
   "source": [
    "# choices_ex.py\n",
    "import argparse\n",
    "\n",
    "my_parser = argparse.ArgumentParser()\n",
    "my_parser.add_argument('-a', action='store', type=int, choices=range(1, 5))\n",
    "\n",
    "args = my_parser.parse_args()\n",
    "\n",
    "print(vars(args))"
   ]
  },
  {
   "cell_type": "markdown",
   "metadata": {},
   "source": [
    "In this case, the value provided on the command line will be automatically checked against the range defined. If the input number is outside the defined range, then you’ll get an error message."
   ]
  },
  {
   "cell_type": "markdown",
   "metadata": {},
   "source": [
    "##### Setting the Type of the Argument"
   ]
  },
  {
   "cell_type": "markdown",
   "metadata": {},
   "source": [
    "By default, all the input argument values are treated as if they were strings. However, it’s possible to define the type for the corresponding property of the Namespace object you get after .parse_args() is invoked just by defining it with the type keyword like this:\n",
    "\n"
   ]
  },
  {
   "cell_type": "code",
   "execution_count": null,
   "metadata": {},
   "outputs": [],
   "source": [
    "# type_example.py\n",
    "import argparse\n",
    "\n",
    "my_parser = argparse.ArgumentParser()\n",
    "my_parser.add_argument('-a', action='store', type=int)\n",
    "\n",
    "args = my_parser.parse_args()\n",
    "\n",
    "print(vars(args))"
   ]
  },
  {
   "cell_type": "markdown",
   "metadata": {},
   "source": [
    "Specifying the int value for the argument, you are telling argparse that the .a property of your Namespace object has to be an int (instead of a string):"
   ]
  },
  {
   "cell_type": "markdown",
   "metadata": {},
   "source": [
    "    python type_example.py -a 42"
   ]
  },
  {
   "cell_type": "markdown",
   "metadata": {},
   "source": [
    "Besides, now the value of the argument is checked at runtime, and if there’s a problem with the type of the value provided at the command line, then the execution is interrupted with a clear error message:"
   ]
  },
  {
   "cell_type": "markdown",
   "metadata": {},
   "source": [
    "    python type_example.py -a \"that's a string\""
   ]
  },
  {
   "cell_type": "markdown",
   "metadata": {},
   "source": [
    "In this case, the error message is very clear because it states that you were expected to pass an int instead of a string."
   ]
  },
  {
   "cell_type": "markdown",
   "metadata": {},
   "source": [
    "##### Setting a Default Value Produced if the Argument Is Missing"
   ]
  },
  {
   "cell_type": "markdown",
   "metadata": {},
   "source": [
    "You already know that the user can decide whether or not to specify optional arguments in the command line. When arguments are not specified, the corresponding value is generally set to None."
   ]
  },
  {
   "cell_type": "markdown",
   "metadata": {},
   "source": [
    "However, it is possible to define a default value for an argument when it’s not provided:\n",
    "\n"
   ]
  },
  {
   "cell_type": "code",
   "execution_count": null,
   "metadata": {},
   "outputs": [],
   "source": [
    "# default_example.py\n",
    "import argparse\n",
    "\n",
    "my_parser = argparse.ArgumentParser()\n",
    "my_parser.add_argument('-a', action='store', default='42')\n",
    "\n",
    "args = my_parser.parse_args()\n",
    "\n",
    "print(vars(args))"
   ]
  },
  {
   "cell_type": "markdown",
   "metadata": {},
   "source": [
    "    python default_example.py"
   ]
  },
  {
   "cell_type": "markdown",
   "metadata": {},
   "source": [
    "You can see that now the option -a is set to 42, even if you didn’t explicitly set the value on the command line."
   ]
  },
  {
   "cell_type": "markdown",
   "metadata": {},
   "source": [
    "##### Setting the Action to Be Taken for an Argument"
   ]
  },
  {
   "cell_type": "markdown",
   "metadata": {},
   "source": [
    "When you add an optional argument to your command line interface, you can also define what kind of action to take when the argument is specified. This means that you usually need to specify how to store the value to the Namespace object you will get when .parse_args() is executed."
   ]
  },
  {
   "cell_type": "markdown",
   "metadata": {},
   "source": [
    "There are several actions that are already defined and ready to be used. Let’s analyze them in detail:\n",
    "- store stores the input value to the Namespace object. (This is the default action.)\n",
    "- store_const stores a constant value when the corresponding optional arguments are specified.\n",
    "- store_true stores the Boolean value True when the corresponding optional argument is specified and stores a False elsewhere.\n",
    "- store_false stores the Boolean value False when the corresponding optional argument is specified and stores True elsewhere.\n",
    "- append stores a list, appending a value to the list each time the option is provided.\n",
    "- append_const stores a list appending a constant value to the list each time the option is provided.\n",
    "- count stores an int that is equal to the times the option has been provided.\n",
    "- help shows a help text and exits.\n",
    "- version shows the version of the program and exits."
   ]
  },
  {
   "cell_type": "code",
   "execution_count": null,
   "metadata": {},
   "outputs": [],
   "source": [
    "import argparse\n",
    "\n",
    "my_parser = argparse.ArgumentParser()\n",
    "my_parser.version = '1.0'\n",
    "my_parser.add_argument('-a', action='store')\n",
    "my_parser.add_argument('-b', action='store_const', const=42)\n",
    "my_parser.add_argument('-c', action='store_true')\n",
    "my_parser.add_argument('-d', action='store_false')\n",
    "\n",
    "args = my_parser.parse_args()\n",
    "\n",
    "print(vars(args))"
   ]
  },
  {
   "cell_type": "markdown",
   "metadata": {},
   "source": [
    "##### Primer: ls razširjen"
   ]
  },
  {
   "cell_type": "code",
   "execution_count": null,
   "metadata": {},
   "outputs": [],
   "source": [
    "# myls.py\n",
    "# Import the argparse library\n",
    "import argparse\n",
    "\n",
    "import os\n",
    "import sys\n",
    "\n",
    "# Create the parser\n",
    "my_parser = argparse.ArgumentParser(description='List the content of a folder')\n",
    "\n",
    "# Add the arguments\n",
    "my_parser.add_argument('Path',\n",
    "                       metavar='path',\n",
    "                       type=str,\n",
    "                       help='the path to list')\n",
    "my_parser.add_argument('-l',\n",
    "                       '--long',\n",
    "                       action='store_true',\n",
    "                       help='enable the long listing format')\n",
    "\n",
    "# Execute parse_args()\n",
    "args = my_parser.parse_args()\n",
    "\n",
    "input_path = args.Path\n",
    "\n",
    "if not os.path.isdir(input_path):\n",
    "    print('The path specified does not exist')\n",
    "    sys.exit()\n",
    "\n",
    "for line in os.listdir(input_path):\n",
    "    if args.long:  # Simplified long listing\n",
    "        size = os.stat(os.path.join(input_path, line)).st_size\n",
    "        line = f'{size:10d}  {line}'\n",
    "    print(line)"
   ]
  },
  {
   "cell_type": "markdown",
   "metadata": {},
   "source": [
    "### Primer: Write Python Command-line Interfaces"
   ]
  },
  {
   "cell_type": "markdown",
   "metadata": {},
   "source": [
    "**When to Use a Command Line Interface**\n",
    "\n",
    "Now that you know what a command line interface is, you may be wondering when it’s a good idea to implement one in your programs. The rule of thumb is that, if you want to provide a user-friendly approach to configuring your program, then you should consider a command line interface, and the standard way to do it is by using the Python argparse library.\n",
    "\n",
    "Even if you’re creating a complex command line program that needs a configuration file to work, if you want to let your user specify which configuration file to use, it’s a good idea to accept this value by creating a command line interface with the Python argparse library."
   ]
  },
  {
   "cell_type": "markdown",
   "metadata": {},
   "source": [
    "As Python developers, we always use and write command-line interfaces. On my Data Science projects, for example, I run several scripts from command-line to train my models and to compute the accuracy of my algorithms.\n",
    "\n",
    "This is why a good way to improve your productivity is to make your scripts as handy and straightforward as possible, especially when you are several developers working on the same project.\n",
    "\n",
    "In order to achieve that, I advise you to respect 4 guidelines:\n",
    "- You should provide default arguments values when possible\n",
    "- All error cases should be handled (ex: a missing argument, a wrong type, a file not found)\n",
    "- All arguments and options have to be documented\n",
    "- A progress bar should be printed for not instantaneous tasks"
   ]
  },
  {
   "cell_type": "code",
   "execution_count": 8,
   "metadata": {},
   "outputs": [
    {
     "name": "stdout",
     "output_type": "stream",
     "text": [
      "IP,Time,URL,Staus\r",
      "\r\n",
      "10.128.2.1,[29/Nov/2017:06:58:55,GET /login.php HTTP/1.1,200\r",
      "\r\n",
      "10.128.2.1,[29/Nov/2017:06:59:02,POST /process.php HTTP/1.1,302\r",
      "\r\n",
      "10.128.2.1,[29/Nov/2017:06:59:03,GET /home.php HTTP/1.1,200\r",
      "\r\n",
      "10.131.2.1,[29/Nov/2017:06:59:04,GET /js/vendor/moment.min.js HTTP/1.1,200\r",
      "\r\n",
      "10.130.2.1,[29/Nov/2017:06:59:06,GET /bootstrap-3.3.7/js/bootstrap.js HTTP/1.1,200\r",
      "\r\n",
      "10.130.2.1,[29/Nov/2017:06:59:19,GET /profile.php?user=bala HTTP/1.1,200\r",
      "\r\n",
      "10.128.2.1,[29/Nov/2017:06:59:19,GET /js/jquery.min.js HTTP/1.1,200\r",
      "\r\n",
      "10.131.2.1,[29/Nov/2017:06:59:19,GET /js/chart.min.js HTTP/1.1,200\r",
      "\r\n",
      "10.131.2.1,[29/Nov/2017:06:59:30,GET /edit.php?name=bala HTTP/1.1,200\r",
      "\r\n"
     ]
    }
   ],
   "source": [
    "!head ./data/weblog.csv"
   ]
  },
  {
   "cell_type": "code",
   "execution_count": 32,
   "metadata": {},
   "outputs": [],
   "source": [
    "import csv\n",
    "\n",
    "def parse_web_logs(input_file, mode='all', header=True):\n",
    "    ips = {}\n",
    "    statuses = {}\n",
    "    with open(input_file, 'r') as f:\n",
    "        csv_reader = csv.reader(f, delimiter=',')\n",
    "        line_count = 0\n",
    "        for row in csv_reader:\n",
    "            if header and line_count == 0:\n",
    "                line_count += 1\n",
    "            else:\n",
    "                if row[0].startswith('[') or row[0][0].isalpha():\n",
    "                    continue\n",
    "                ip = row[0]\n",
    "                status = int(row[3])\n",
    "                ips[ip] = ips.get(ip,0) + 1\n",
    "                statuses[status] = statuses.get(status,0) + 1\n",
    "                line_count += 1 \n",
    "    \n",
    "    if mode == 'all':\n",
    "        return {'ips': ips, 'statuses': statuses}\n",
    "    elif mode == 'ip':\n",
    "        return {'ips': ips}\n",
    "    elif mode == 'status':\n",
    "        return {'statuses': statuses}\n",
    "    else:\n",
    "        return None"
   ]
  },
  {
   "cell_type": "code",
   "execution_count": 33,
   "metadata": {},
   "outputs": [
    {
     "data": {
      "text/plain": [
       "{'ips': {'10.128.2.1': 4257,\n",
       "  '10.131.2.1': 1626,\n",
       "  '10.130.2.1': 4056,\n",
       "  '10.129.2.1': 1652,\n",
       "  '10.131.0.1': 4198},\n",
       " 'statuses': {200: 11330, 302: 3498, 304: 658, 206: 52, 404: 251}}"
      ]
     },
     "execution_count": 33,
     "metadata": {},
     "output_type": "execute_result"
    }
   ],
   "source": [
    "parse_web_logs('data/weblog.csv', header=True)"
   ]
  },
  {
   "cell_type": "markdown",
   "metadata": {},
   "source": [
    "Želimo imeti nekaj takega:\n",
    "\n",
    "    python3 parse_logs.py [-h] [-m MODE] [-no] path"
   ]
  },
  {
   "cell_type": "markdown",
   "metadata": {},
   "source": [
    "> https://docs.python.org/3.8/library/collections.html#collections.Counter"
   ]
  },
  {
   "cell_type": "markdown",
   "metadata": {},
   "source": [
    "The first thing our script needs to do is to get the values of command line arguments."
   ]
  },
  {
   "cell_type": "code",
   "execution_count": null,
   "metadata": {},
   "outputs": [],
   "source": [
    "import argparse\n",
    "import csv\n",
    "import sys\n",
    "import os\n",
    "\n",
    "def parse_web_logs(input_file, mode='all', header=True):\n",
    "    ips = {}\n",
    "    statuses = {}\n",
    "    with open(input_file, 'r') as f:\n",
    "        csv_reader = csv.reader(f, delimiter=',')\n",
    "        line_count = 0\n",
    "        for row in csv_reader:\n",
    "            if header and line_count == 0:\n",
    "                line_count += 1\n",
    "            else:\n",
    "                if row[0].startswith('[') or row[0][0].isalpha():\n",
    "                    continue\n",
    "                ip = row[0]\n",
    "                status = int(row[3])\n",
    "                ips[ip] = ips.get(ip,0) + 1\n",
    "                statuses[status] = statuses.get(status,0) + 1\n",
    "                line_count += 1 \n",
    "    \n",
    "    if mode == 'all':\n",
    "        print(f'IP: {ips}\\nStatus codes: {statuses}')\n",
    "    elif mode == 'ip':\n",
    "        print(f'IP: {ips}')\n",
    "    elif mode == 'status':\n",
    "        print(f'Status codes: {statuses}')\n",
    "    else:\n",
    "        return None\n",
    "\n",
    "def parse():\n",
    "    parser = argparse.ArgumentParser(prog='weblogpars',\n",
    "                                     description='Pars the logs from the web server and sums IPs and status codes.')\n",
    "    \n",
    "    parser.add_argument('path',\n",
    "                       metavar='FILE_PATH',\n",
    "                       type=str,\n",
    "                       help='the path to the file to parse')\n",
    "\n",
    "    parser.add_argument('-m', '--mode', \n",
    "                        dest='mode', \n",
    "                        metavar='MODE', \n",
    "                        action='store', \n",
    "                        default='all',  \n",
    "                        help=\"select the mode of the parser [all, ip, status]\", \n",
    "                        choices=['all', 'ip', 'status'])\n",
    "\n",
    "    parser.add_argument('-no', '--no-header', \n",
    "                        dest='no_header', \n",
    "                        action='store_false',\n",
    "                        help='add this if there is no header in log file')\n",
    "    \n",
    "    args = parser.parse_args()\n",
    "\n",
    "    file_path = args.path\n",
    "    mode = args.mode\n",
    "    header = args.no_header\n",
    "\n",
    "    \n",
    "    if os.path.exists(file_path):\n",
    "        parse_web_logs(file_path, mode=mode, header=header)\n",
    "    else:\n",
    "        print('The path specified does not exist!')\n",
    "        sys.exit()\n",
    "\n",
    "if __name__ == '__main__':\n",
    "    parse()"
   ]
  },
  {
   "cell_type": "markdown",
   "metadata": {},
   "source": [
    "### Druge knjižnice: Typer"
   ]
  },
  {
   "cell_type": "markdown",
   "metadata": {},
   "source": [
    "https://typer.tiangolo.com/"
   ]
  },
  {
   "cell_type": "markdown",
   "metadata": {},
   "source": [
    "    pip install typer"
   ]
  },
  {
   "cell_type": "markdown",
   "metadata": {},
   "source": [
    "https://typer.tiangolo.com/tutorial/first-steps/"
   ]
  },
  {
   "cell_type": "markdown",
   "metadata": {},
   "source": [
    "### Druge knjižnice: click"
   ]
  },
  {
   "cell_type": "markdown",
   "metadata": {},
   "source": [
    "> potrebna dodatna namestitev"
   ]
  },
  {
   "cell_type": "markdown",
   "metadata": {},
   "source": [
    "Click is a Python package for creating beautiful command line interfaces in a composable way with as little code as necessary. It’s the “Command Line Interface Creation Kit”. It’s highly configurable but comes with sensible defaults out of the box."
   ]
  },
  {
   "cell_type": "markdown",
   "metadata": {},
   "source": [
    "- [Click](https://click.palletsprojects.com/en/7.x/)\n",
    "- [Welcome to the Click Documentation](https://pocoo-click.readthedocs.io/en/latest/)"
   ]
  },
  {
   "cell_type": "code",
   "execution_count": 1,
   "metadata": {},
   "outputs": [
    {
     "name": "stderr",
     "output_type": "stream",
     "text": [
      "Usage: ipykernel_launcher.py [OPTIONS] FILE_PATH\n",
      "Try \"ipykernel_launcher.py --help\" for help.\n",
      "\n",
      "Error: no such option: -f\n"
     ]
    },
    {
     "ename": "SystemExit",
     "evalue": "2",
     "output_type": "error",
     "traceback": [
      "An exception has occurred, use %tb to see the full traceback.\n",
      "\u001b[0;31mSystemExit\u001b[0m\u001b[0;31m:\u001b[0m 2\n"
     ]
    },
    {
     "name": "stderr",
     "output_type": "stream",
     "text": [
      "/opt/conda/lib/python3.7/site-packages/IPython/core/interactiveshell.py:3327: UserWarning: To exit: use 'exit', 'quit', or Ctrl-D.\n",
      "  warn(\"To exit: use 'exit', 'quit', or Ctrl-D.\", stacklevel=1)\n"
     ]
    }
   ],
   "source": [
    "import click\n",
    "import csv\n",
    "import sys\n",
    "import os\n",
    "from tqdm import tqdm\n",
    "\n",
    "def parse_web_logs(input_file, mode='all', header=True):\n",
    "    ips = {}\n",
    "    statuses = {}\n",
    "    with open(input_file, 'r') as f:\n",
    "        csv_reader = csv.reader(f, delimiter=',')\n",
    "        line_count = 0\n",
    "        for key in tqdm(range(100)):\n",
    "            for row in csv_reader:\n",
    "                if header and line_count == 0:\n",
    "                    line_count += 1\n",
    "                else:\n",
    "                    if row[0].startswith('[') or row[0][0].isalpha():\n",
    "                        continue  \n",
    "                    ip = row[0]\n",
    "                    status = int(row[3])\n",
    "                    ips[ip] = ips.get(ip,0) + 1\n",
    "                    statuses[status] = statuses.get(status,0) + 1\n",
    "                    line_count += 1 \n",
    "    \n",
    "    if mode == 'all':\n",
    "        print(f'IP: {ips}\\nStatus codes: {statuses}')\n",
    "    elif mode == 'ip':\n",
    "        print(f'IP: {ips}')\n",
    "    elif mode == 'status':\n",
    "        print(f'Status codes: {statuses}')\n",
    "    else:\n",
    "        return None\n",
    "\n",
    "\n",
    "@click.command()\n",
    "@click.argument('file_path')\n",
    "@click.option('-m', '--mode', help=\"select the mode of the parser [all, ip, status]\", default='all',  metavar='MODE', type=click.Choice(['all', 'ip', 'status']))\n",
    "@click.option('--header/--no-header', help='add this if there is no header in log file', default=True)\n",
    "def parse(file_path, mode, header):\n",
    "    if os.path.exists(file_path):\n",
    "        parse_web_logs(file_path, mode=mode, header=header)\n",
    "    else:\n",
    "        click.echo('The path specified does not exist!')\n",
    "        sys.exit()\n",
    "        \n",
    "\n",
    "if __name__ == '__main__':\n",
    "    parse()"
   ]
  },
  {
   "cell_type": "markdown",
   "metadata": {},
   "source": [
    "## Input function to accept input from a user"
   ]
  },
  {
   "cell_type": "markdown",
   "metadata": {},
   "source": [
    "The input() function reads a line entered on a console by an input device such as a keyboard and convert it into a string and returns it. You can use this input string in your python code."
   ]
  },
  {
   "cell_type": "markdown",
   "metadata": {},
   "source": [
    "### Python example to accept input from a user"
   ]
  },
  {
   "cell_type": "markdown",
   "metadata": {},
   "source": [
    "Let see how to accept employee data from the user using the input function and displaying it using the print function."
   ]
  },
  {
   "cell_type": "code",
   "execution_count": 2,
   "metadata": {},
   "outputs": [
    {
     "name": "stdout",
     "output_type": "stream",
     "text": [
      "Enter Employee Name: Leon\n",
      "Leon\n"
     ]
    }
   ],
   "source": [
    "name = input(\"Enter Employee Name: \")\n",
    "print(name)"
   ]
  },
  {
   "cell_type": "markdown",
   "metadata": {},
   "source": [
    "Python input() function syntax: `input([prompt])` "
   ]
  },
  {
   "cell_type": "markdown",
   "metadata": {},
   "source": [
    "Here the prompt argument is optional if it is present, it displays to standard output without a trailing newline. i.e., its a message to the user. For example, the prompt is “Please enter a value.”\n",
    "- When input() function executes program flow stops until a user enters some value.\n",
    "- The text or message display on the output screen to ask a user to enter input value is optional, i.e. the prompt parameter is optional."
   ]
  },
  {
   "cell_type": "markdown",
   "metadata": {},
   "source": [
    "Whatever you enter as input, input function convert it into a string. If you enter an integer value still input() function convert it into a string. You need to do the explicit conversion into an integer in your code."
   ]
  },
  {
   "cell_type": "code",
   "execution_count": 3,
   "metadata": {},
   "outputs": [
    {
     "name": "stdout",
     "output_type": "stream",
     "text": [
      "Enter number45\n",
      "type of number <class 'str'>\n"
     ]
    }
   ],
   "source": [
    "number = input (\"Enter number\")\n",
    "print (\"type of number\", type(number))"
   ]
  },
  {
   "cell_type": "markdown",
   "metadata": {},
   "source": [
    "### Accept an Integer input from User"
   ]
  },
  {
   "cell_type": "markdown",
   "metadata": {},
   "source": [
    "As you know whatever you enter as input, the input() function always converts it into a string. If you enter an integer value, still input() function converts it into a string. So let’s see how to accept an integer value from a user in python.\n",
    "\n",
    "We need to convert an input value into an integer type explicitly. Let’s see the example to take integer input in python."
   ]
  },
  {
   "cell_type": "code",
   "execution_count": 4,
   "metadata": {},
   "outputs": [
    {
     "name": "stdout",
     "output_type": "stream",
     "text": [
      "Enter first number14\n",
      "Enter second number45\n",
      "Addition of two number is:  59\n"
     ]
    }
   ],
   "source": [
    "# program to do aAddition of two input numbers\n",
    "\n",
    "first_number = int ( input (\"Enter first number\") )\n",
    "second_number = int ( input (\"Enter second number\") )\n",
    "\n",
    "sum = first_number + second_number\n",
    "\n",
    "print(\"Addition of two number is: \", sum)"
   ]
  },
  {
   "cell_type": "code",
   "execution_count": 10,
   "metadata": {},
   "outputs": [
    {
     "name": "stdout",
     "output_type": "stream",
     "text": [
      "Enter your number-9\n",
      "User number is negative \n"
     ]
    }
   ],
   "source": [
    "# Python Program to check user input is a Positive Number or Negative\n",
    "user_number = input (\"Enter your number\")\n",
    "try:\n",
    "    val = int(user_number)\n",
    "    if(val > 0):\n",
    "        print(\"User number is positive \")\n",
    "    else:\n",
    "        print(\"User number is negative \")\n",
    "except ValueError:\n",
    "    print(\"No.. input string is not a number. It's a string\")"
   ]
  },
  {
   "cell_type": "markdown",
   "metadata": {},
   "source": [
    "### Accept float input from User"
   ]
  },
  {
   "cell_type": "markdown",
   "metadata": {},
   "source": [
    "Let’s see how to accept float value from a user in python. You need to convert user input to the float number as we did for the integer value. i.e., we explicitly added a cast of a float type to an input function, i.e., we converted an input value to the float type."
   ]
  },
  {
   "cell_type": "code",
   "execution_count": 11,
   "metadata": {},
   "outputs": [
    {
     "name": "stdout",
     "output_type": "stream",
     "text": [
      "Enter a float number8.45\n",
      "input float number is:  8.45\n",
      "type is: <class 'float'>\n"
     ]
    }
   ],
   "source": [
    "float_number = float (input(\"Enter a float number\") )\n",
    "print (\"input float number is: \", float_number )\n",
    "print (\"type is:\", type(float_number) )"
   ]
  },
  {
   "cell_type": "markdown",
   "metadata": {},
   "source": [
    "### Get multiple values from the user in one line"
   ]
  },
  {
   "cell_type": "markdown",
   "metadata": {},
   "source": [
    "In Python, It is possible to get multiple values from the user in one line. i.e., In Python, we can accept two or three values from the user in one input() call.\n",
    "\n",
    "For example, in a single call of the input() function, we can ask the user hi/her name, age, and phone number and store it in three different variables. Let’ see how to do this."
   ]
  },
  {
   "cell_type": "code",
   "execution_count": 12,
   "metadata": {},
   "outputs": [
    {
     "name": "stdout",
     "output_type": "stream",
     "text": [
      "Enter your name, Age, Percentage separated by space: Leon, 25, 041596855\n",
      "User Details:  Leon, 25, 041596855\n"
     ]
    }
   ],
   "source": [
    "name, age, phone = input(\"Enter your name, Age, Percentage separated by space: \").split()\n",
    "print(\"User Details: \", name, age, phone)"
   ]
  },
  {
   "cell_type": "markdown",
   "metadata": {},
   "source": [
    "### Vaja: Get a list of numbers as input from the user"
   ]
  },
  {
   "cell_type": "markdown",
   "metadata": {},
   "source": [
    "I have created two examples in python to accept a list of numbers from the user and calculate the sum of the list of numbers."
   ]
  },
  {
   "cell_type": "code",
   "execution_count": 13,
   "metadata": {},
   "outputs": [
    {
     "name": "stdout",
     "output_type": "stream",
     "text": [
      "Enter a list numbers or elements separated by space: 1 2 5 89 65 8 5 4 5 2  \n",
      "user list is  ['1', '2', '5', '89', '65', '8', '5', '4', '5', '2']\n",
      "Calculating sum of element of input list\n",
      "Sum =  186\n"
     ]
    }
   ],
   "source": [
    "# možnost 1\n",
    "input_string = input(\"Enter a list numbers or elements separated by space: \")\n",
    "userList = input_string.split()\n",
    "print(\"user list is \", userList)\n",
    "\n",
    "print(\"Calculating sum of element of input list\")\n",
    "sum = 0\n",
    "for num in userList:\n",
    "    sum += int(num)\n",
    "print(\"Sum = \", sum)"
   ]
  },
  {
   "cell_type": "code",
   "execution_count": 14,
   "metadata": {},
   "outputs": [
    {
     "name": "stdout",
     "output_type": "stream",
     "text": [
      "Enter the list size : 5\n",
      "Enter number at location 0 :\n",
      "5\n",
      "Enter number at location 1 :\n",
      "4\n",
      "Enter number at location 2 :\n",
      "8\n",
      "Enter number at location 3 :\n",
      "8\n",
      "Enter number at location 4 :\n",
      "5\n",
      "User List is  [5, 4, 8, 8, 5]\n"
     ]
    }
   ],
   "source": [
    "# možnost 2\n",
    "numberList = []\n",
    "n = int(input(\"Enter the list size : \"))\n",
    "for i in range(0, n):\n",
    "    print(\"Enter number at location\", i, \":\")\n",
    "    item = int(input())\n",
    "    numberList.append(item)\n",
    "print(\"User List is \", numberList)"
   ]
  },
  {
   "cell_type": "code",
   "execution_count": 16,
   "metadata": {},
   "outputs": [
    {
     "name": "stdout",
     "output_type": "stream",
     "text": [
      "Enter the size of list : 7\n",
      "Enter the list numbers separated by space: 4 5 48 9 6 5 8 \n",
      "New List:  [4, 5, 48, 9, 6, 5, 8]\n"
     ]
    }
   ],
   "source": [
    "# možnost 3\n",
    "n = int(input(\"Enter the size of list : \"))\n",
    "numList = list(int(num) for num in input(\"Enter the list numbers separated by space: \").strip().split())[:n]\n",
    "print(\"New List: \", numList)"
   ]
  },
  {
   "cell_type": "markdown",
   "metadata": {},
   "source": [
    "## Managing Files and Directories"
   ]
  },
  {
   "cell_type": "markdown",
   "metadata": {},
   "source": [
    "Python has several built-in modules and functions for handling files. These functions are spread out over several modules such as os, os.path, shutil, and pathlib, to name a few. This article gathers in one place many of the functions you need to know in order to perform the most common operations on files in Python."
   ]
  },
  {
   "cell_type": "markdown",
   "metadata": {},
   "source": [
    "[File and Directory Access](https://docs.python.org/3/library/filesys.html)"
   ]
  },
  {
   "cell_type": "markdown",
   "metadata": {},
   "source": [
    "os module provides a portable way of using operating system dependent functionality. If you just want to read or write a file see open(), if you want to manipulate paths, see the os.path module, and if you want to read all the lines in all the files on the command line see the fileinput module. For creating temporary files and directories see the tempfile module, and for high-level file and directory handling see the shutil module."
   ]
  },
  {
   "cell_type": "markdown",
   "metadata": {},
   "source": [
    "Avtomatizacija taskov, kdaj se splača: [slika](https://xkcd.com/1205/)"
   ]
  },
  {
   "cell_type": "markdown",
   "metadata": {},
   "source": [
    "### General OS operations"
   ]
  },
  {
   "cell_type": "code",
   "execution_count": 15,
   "metadata": {},
   "outputs": [],
   "source": [
    "import os"
   ]
  },
  {
   "cell_type": "markdown",
   "metadata": {},
   "source": [
    "- `os.getcwd()`: Return a string representing the current working directory."
   ]
  },
  {
   "cell_type": "code",
   "execution_count": 24,
   "metadata": {},
   "outputs": [
    {
     "data": {
      "text/plain": [
       "'/home/jovyan/work/osnovni_tecaj/10_Interact_with_the_Operating_System'"
      ]
     },
     "execution_count": 24,
     "metadata": {},
     "output_type": "execute_result"
    }
   ],
   "source": [
    "os.getcwd()"
   ]
  },
  {
   "cell_type": "markdown",
   "metadata": {},
   "source": [
    "- `os.chdir(path)` Change the current working directory to path."
   ]
  },
  {
   "cell_type": "code",
   "execution_count": null,
   "metadata": {},
   "outputs": [],
   "source": [
    "os.chdir('./data')"
   ]
  },
  {
   "cell_type": "markdown",
   "metadata": {},
   "source": [
    "- `os.path.exists(path)`: Return True if path refers to an existing path or an open file descriptor. Returns False for broken symbolic links. On some platforms, this function may return False if permission is not granted to execute os.stat() on the requested file, even if the path physically exists."
   ]
  },
  {
   "cell_type": "code",
   "execution_count": 17,
   "metadata": {},
   "outputs": [
    {
     "data": {
      "text/plain": [
       "True"
      ]
     },
     "execution_count": 17,
     "metadata": {},
     "output_type": "execute_result"
    }
   ],
   "source": [
    "os.path.exists('data/')"
   ]
  },
  {
   "cell_type": "markdown",
   "metadata": {},
   "source": [
    "- `os.path.abspath(path)`: Return a normalized absolutized version of the pathname path. On most platforms, this is equivalent to calling the function normpath() as follows: normpath(join(os.getcwd(), path))."
   ]
  },
  {
   "cell_type": "code",
   "execution_count": 18,
   "metadata": {},
   "outputs": [
    {
     "data": {
      "text/plain": [
       "'/home/jovyan/work/osnovni_tecaj/10_Interact_with_the_Operating_System/data/example.txt'"
      ]
     },
     "execution_count": 18,
     "metadata": {},
     "output_type": "execute_result"
    }
   ],
   "source": [
    "os.path.abspath(\"data/example.txt\")"
   ]
  },
  {
   "cell_type": "markdown",
   "metadata": {},
   "source": [
    "- `os.path.getsize(path)`: Return the size, in bytes, of path. Raise OSError if the file does not exist or is inaccessible."
   ]
  },
  {
   "cell_type": "code",
   "execution_count": 23,
   "metadata": {},
   "outputs": [
    {
     "data": {
      "text/plain": [
       "1115343"
      ]
     },
     "execution_count": 23,
     "metadata": {},
     "output_type": "execute_result"
    }
   ],
   "source": [
    "os.path.getsize('data/weblog.csv')"
   ]
  },
  {
   "cell_type": "markdown",
   "metadata": {},
   "source": [
    "- `os.path.isdir(path)`: Return True if path is an existing directory. This follows symbolic links, so both islink() and isdir() can be true for the same path."
   ]
  },
  {
   "cell_type": "code",
   "execution_count": 27,
   "metadata": {},
   "outputs": [
    {
     "data": {
      "text/plain": [
       "True"
      ]
     },
     "execution_count": 27,
     "metadata": {},
     "output_type": "execute_result"
    }
   ],
   "source": [
    "os.path.isdir('data')"
   ]
  },
  {
   "cell_type": "markdown",
   "metadata": {},
   "source": [
    "- `os.path.isfile(path)`: Return True if path is an existing directory. This follows symbolic links, so both islink() and isdir() can be true for the same path."
   ]
  },
  {
   "cell_type": "code",
   "execution_count": 28,
   "metadata": {},
   "outputs": [
    {
     "data": {
      "text/plain": [
       "True"
      ]
     },
     "execution_count": 28,
     "metadata": {},
     "output_type": "execute_result"
    }
   ],
   "source": [
    "os.path.isfile('data/example3.txt')"
   ]
  },
  {
   "cell_type": "markdown",
   "metadata": {},
   "source": [
    "- `os.path.join(path, *paths)`: Join one or more path components intelligently. The return value is the concatenation of path and any members of *paths with exactly one directory separator (os.sep) following each non-empty part except the last, meaning that the result will only end in a separator if the last part is empty. If a component is an absolute path, all previous components are thrown away and joining continues from the absolute path component."
   ]
  },
  {
   "cell_type": "code",
   "execution_count": 31,
   "metadata": {},
   "outputs": [
    {
     "data": {
      "text/plain": [
       "'/data/examples/test.py'"
      ]
     },
     "execution_count": 31,
     "metadata": {},
     "output_type": "execute_result"
    }
   ],
   "source": [
    "os.path.join('/data', 'examples/test.py')"
   ]
  },
  {
   "cell_type": "markdown",
   "metadata": {},
   "source": [
    "- `os.path.getatime(path)`: Return the time of last access of path. The return value is a floating point number giving the number of seconds since the epoch (see the time module). Raise OSError if the file does not exist or is inaccessible.\n",
    "- `os.path.getmtime(path)`: Return the time of last modification of path. The return value is a floating point number giving the number of seconds since the epoch (see the time module). Raise OSError if the file does not exist or is inaccessible.\n",
    "- `os.path.getctime(path)`: Return the system’s ctime which, on some systems (like Unix) is the time of the last metadata change, and, on others (like Windows), is the creation time for path. The return value is a number giving the number of seconds since the epoch (see the time module). Raise OSError if the file does not exist or is inaccessible."
   ]
  },
  {
   "cell_type": "code",
   "execution_count": 32,
   "metadata": {},
   "outputs": [
    {
     "name": "stdout",
     "output_type": "stream",
     "text": [
      "1580161039.466197\n"
     ]
    }
   ],
   "source": [
    "timestamp = os.path.getmtime('data/example.txt')\n",
    "print(timestamp)"
   ]
  },
  {
   "cell_type": "code",
   "execution_count": 33,
   "metadata": {},
   "outputs": [],
   "source": [
    "# pretvorba v datetime\n",
    "from datetime import datetime\n",
    "\n",
    "def unix_to_str_time(unix_time, time_format='%Y-%m-%d %H:%M:%S'):\n",
    "    return datetime.utcfromtimestamp(unix_time).strftime(time_format)"
   ]
  },
  {
   "cell_type": "code",
   "execution_count": 34,
   "metadata": {},
   "outputs": [
    {
     "data": {
      "text/plain": [
       "'2020-01-27 21:37:19'"
      ]
     },
     "execution_count": 34,
     "metadata": {},
     "output_type": "execute_result"
    }
   ],
   "source": [
    "unix_to_str_time(timestamp)"
   ]
  },
  {
   "cell_type": "markdown",
   "metadata": {},
   "source": [
    "### Making Directories"
   ]
  },
  {
   "cell_type": "markdown",
   "metadata": {},
   "source": [
    "Sooner or later, the programs you write will have to create directories in order to store data in them. os and pathlib include functions for creating directories. We’ll consider these:"
   ]
  },
  {
   "cell_type": "markdown",
   "metadata": {},
   "source": [
    "#### Creating a Single Directory"
   ]
  },
  {
   "cell_type": "markdown",
   "metadata": {},
   "source": [
    "To create a single directory, pass a path to the directory as a parameter to os.mkdir():"
   ]
  },
  {
   "cell_type": "code",
   "execution_count": 1,
   "metadata": {},
   "outputs": [],
   "source": [
    "import os\n",
    "\n",
    "os.mkdir('data/example_directory/')"
   ]
  },
  {
   "cell_type": "markdown",
   "metadata": {},
   "source": [
    "If a directory already exists, os.mkdir() raises FileExistsError"
   ]
  },
  {
   "cell_type": "code",
   "execution_count": 2,
   "metadata": {},
   "outputs": [
    {
     "ename": "FileExistsError",
     "evalue": "[Errno 17] File exists: 'data/example_directory/'",
     "output_type": "error",
     "traceback": [
      "\u001b[0;31m---------------------------------------------------------------------------\u001b[0m",
      "\u001b[0;31mFileExistsError\u001b[0m                           Traceback (most recent call last)",
      "\u001b[0;32m<ipython-input-2-3eca3a9c3e67>\u001b[0m in \u001b[0;36m<module>\u001b[0;34m\u001b[0m\n\u001b[0;32m----> 1\u001b[0;31m \u001b[0mos\u001b[0m\u001b[0;34m.\u001b[0m\u001b[0mmkdir\u001b[0m\u001b[0;34m(\u001b[0m\u001b[0;34m'data/example_directory/'\u001b[0m\u001b[0;34m)\u001b[0m\u001b[0;34m\u001b[0m\u001b[0;34m\u001b[0m\u001b[0m\n\u001b[0m",
      "\u001b[0;31mFileExistsError\u001b[0m: [Errno 17] File exists: 'data/example_directory/'"
     ]
    }
   ],
   "source": [
    "os.mkdir('data/example_directory/')"
   ]
  },
  {
   "cell_type": "markdown",
   "metadata": {},
   "source": [
    "To avoid errors like this, catch the error when it happens and let your user know:"
   ]
  },
  {
   "cell_type": "code",
   "execution_count": 3,
   "metadata": {},
   "outputs": [
    {
     "name": "stdout",
     "output_type": "stream",
     "text": [
      "[Errno 17] File exists: 'data/example_directory/'\n"
     ]
    }
   ],
   "source": [
    "try:\n",
    "    os.mkdir('data/example_directory/')\n",
    "except FileExistsError as exc:\n",
    "    print(exc)"
   ]
  },
  {
   "cell_type": "markdown",
   "metadata": {},
   "source": [
    "#### Creating Multiple Directories"
   ]
  },
  {
   "cell_type": "markdown",
   "metadata": {},
   "source": [
    "os.makedirs() is similar to os.mkdir(). The difference between the two is that not only can os.makedirs() create individual directories, it can also be used to create directory trees. In other words, it can create any necessary intermediate folders in order to ensure a full path exists.\n",
    "\n",
    "os.makedirs() is similar to running mkdir -p in Bash. For example, to create a group of directories like 2018/10/05, all you have to do is the following:\n",
    "\n"
   ]
  },
  {
   "cell_type": "markdown",
   "metadata": {},
   "source": [
    "> Recursive directory creation function. Like mkdir(), but makes all intermediate-level directories needed to contain the leaf directory."
   ]
  },
  {
   "cell_type": "code",
   "execution_count": 5,
   "metadata": {},
   "outputs": [],
   "source": [
    "os.makedirs('data/leto/mesec/dan')"
   ]
  },
  {
   "cell_type": "markdown",
   "metadata": {},
   "source": [
    ".makedirs() creates directories with default permissions. If you need to create directories with different permissions call .makedirs() and pass in the mode you would like the directories to be created in:"
   ]
  },
  {
   "cell_type": "code",
   "execution_count": 6,
   "metadata": {},
   "outputs": [],
   "source": [
    "os.makedirs('data/leto/2018/10/05', mode=0o770)"
   ]
  },
  {
   "cell_type": "markdown",
   "metadata": {},
   "source": [
    "This creates the 2018/10/05 directory structure and gives the owner and group users read, write, and execute permissions. The default mode is 0o777, and the file permission bits of existing parent directories are not changed. For more details on file permissions, and how the mode is applied, see the docs."
   ]
  },
  {
   "cell_type": "markdown",
   "metadata": {},
   "source": [
    "[Premissions](https://danielmiessler.com/images/permissions.png)"
   ]
  },
  {
   "cell_type": "markdown",
   "metadata": {},
   "source": [
    "### Getting a Directory Listing"
   ]
  },
  {
   "cell_type": "markdown",
   "metadata": {},
   "source": [
    "The built-in os module has a number of useful functions that can be used to list directory contents and filter the results. To get a list of all the files and folders in a particular directory in the filesystem, use os.listdir() in legacy versions of Python or os.scandir() in Python 3.x. os.scandir() is the preferred method to use if you also want to get file and directory properties such as file size and modification date."
   ]
  },
  {
   "cell_type": "markdown",
   "metadata": {},
   "source": [
    "- [os.listdir](https://docs.python.org/3/library/os.html#os.listdir)\n",
    "- [os.scandir](https://docs.python.org/3/library/os.html#os.scandir)\n",
    "    "
   ]
  },
  {
   "cell_type": "markdown",
   "metadata": {},
   "source": [
    "> The scandir() function returns directory entries along with file attribute information, giving better performance for many common use cases."
   ]
  },
  {
   "cell_type": "code",
   "execution_count": 17,
   "metadata": {},
   "outputs": [
    {
     "name": "stdout",
     "output_type": "stream",
     "text": [
      "['Command_line_with_python.ipynb', 'skripte', '.ipynb_checkpoints', 'data']\n"
     ]
    }
   ],
   "source": [
    "# Directory Listing in Legacy Python Versions\n",
    "import os\n",
    "entries = os.listdir('./')\n",
    "print(entries)"
   ]
  },
  {
   "cell_type": "code",
   "execution_count": 18,
   "metadata": {},
   "outputs": [
    {
     "name": "stdout",
     "output_type": "stream",
     "text": [
      "./data/newdir is a directory\n",
      "./data/example.txt is a file\n",
      "./data/.ipynb_checkpoints is a directory\n"
     ]
    }
   ],
   "source": [
    "# Primer: kako vidimo katero so mape katero datoteke\n",
    "directory = './data'\n",
    "\n",
    "for name in os.listdir(directory):\n",
    "    fullname = os.path.join(directory, name) #joinmao ne glede na sistem\n",
    "    if os.path.isdir(fullname):\n",
    "        print(f'{fullname} is a directory')\n",
    "    else:\n",
    "        print(f'{fullname} is a file')"
   ]
  },
  {
   "cell_type": "markdown",
   "metadata": {},
   "source": [
    "In modern versions of Python, an alternative to os.listdir() is to use os.scandir() and pathlib.Path().\n",
    "\n",
    "os.scandir() was introduced in Python 3.5 and is documented in PEP 471. os.scandir() returns an iterator as opposed to a list when called:"
   ]
  },
  {
   "cell_type": "code",
   "execution_count": 19,
   "metadata": {},
   "outputs": [
    {
     "name": "stdout",
     "output_type": "stream",
     "text": [
      "<posix.ScandirIterator object at 0x7fb9039daa58>\n"
     ]
    }
   ],
   "source": [
    "# Directory Listing in Modern Python Versions\n",
    "import os\n",
    "entries = os.scandir('./')\n",
    "print(entries)"
   ]
  },
  {
   "cell_type": "markdown",
   "metadata": {},
   "source": [
    "The ScandirIterator points to all the entries in the current directory. You can loop over the contents of the iterator and print out the filenames:"
   ]
  },
  {
   "cell_type": "code",
   "execution_count": 22,
   "metadata": {},
   "outputs": [
    {
     "name": "stdout",
     "output_type": "stream",
     "text": [
      "Command_line_with_python.ipynb\n",
      "skripte\n",
      ".ipynb_checkpoints\n",
      "data\n"
     ]
    }
   ],
   "source": [
    "import os\n",
    "\n",
    "with os.scandir('./') as entries:\n",
    "    for entry in entries:\n",
    "        print(entry.name)"
   ]
  },
  {
   "cell_type": "markdown",
   "metadata": {},
   "source": [
    "Here, os.scandir() is used in conjunction with the with statement because it supports the context manager protocol. Using a context manager closes the iterator and frees up acquired resources automatically after the iterator has been exhausted."
   ]
  },
  {
   "cell_type": "markdown",
   "metadata": {},
   "source": [
    "The following example shows a simple use of scandir() to display all the files (excluding directories) in the given path that don’t start with '.'. The entry.is_file() call will generally not make an additional system call:"
   ]
  },
  {
   "cell_type": "code",
   "execution_count": 24,
   "metadata": {},
   "outputs": [
    {
     "name": "stdout",
     "output_type": "stream",
     "text": [
      "Command_line_with_python.ipynb\n"
     ]
    }
   ],
   "source": [
    "# Primer\n",
    "with os.scandir('./') as it:\n",
    "    for entry in it:\n",
    "        if not entry.name.startswith('.') and entry.is_file():\n",
    "            print(entry.name)"
   ]
  },
  {
   "cell_type": "markdown",
   "metadata": {},
   "source": [
    " Calling entry.is_file() on each item in the ScandirIterator returns True if the object is a file. "
   ]
  },
  {
   "cell_type": "markdown",
   "metadata": {},
   "source": [
    "Using pathlib.Path() or os.scandir() instead of os.listdir() is the preferred way of getting a directory listing, especially when you’re working with code that needs the file type and file attribute information. pathlib.Path() offers much of the file and path handling functionality found in os and shutil, and it’s methods are more efficient than some found in these modules. We will discuss how to get file properties shortly."
   ]
  },
  {
   "cell_type": "code",
   "execution_count": 25,
   "metadata": {},
   "outputs": [
    {
     "name": "stdout",
     "output_type": "stream",
     "text": [
      "skripte\n",
      ".ipynb_checkpoints\n",
      "data\n"
     ]
    }
   ],
   "source": [
    "# Listing Subdirectories\n",
    "# List all subdirectories using scandir()\n",
    "basepath = './'\n",
    "with os.scandir(basepath) as entries:\n",
    "    for entry in entries:\n",
    "        if entry.is_dir():\n",
    "            print(entry.name)"
   ]
  },
  {
   "cell_type": "markdown",
   "metadata": {},
   "source": [
    "As in the file listing example, here you call .is_dir() on each entry returned by os.scandir(). If the entry is a directory, .is_dir() returns True, and the directory’s name is printed out. The output is the same as above:\n",
    "\n"
   ]
  },
  {
   "cell_type": "markdown",
   "metadata": {},
   "source": [
    "### Getting File Attributes"
   ]
  },
  {
   "cell_type": "markdown",
   "metadata": {},
   "source": [
    "Python makes retrieving file attributes such as file size and modified times easy. This is done through os.stat(), os.scandir(), or pathlib.Path().\n",
    "\n",
    "os.scandir() and pathlib.Path() retrieve a directory listing with file attributes combined. This can be potentially more efficient than using os.listdir() to list files and then getting file attribute information for each file.\n",
    "\n",
    "The examples below show how to get the time the files in my_directory/ were last modified. The output is in seconds:"
   ]
  },
  {
   "cell_type": "code",
   "execution_count": 41,
   "metadata": {},
   "outputs": [
    {
     "name": "stdout",
     "output_type": "stream",
     "text": [
      "Name: Command_line_with_python.ipynb, Time: 1580251977.5320895s\n",
      "Name: skripte, Time: 1580242340.9039881s\n",
      "Name: .ipynb_checkpoints, Time: 1579434568.7935946s\n",
      "Name: data, Time: 1580162510.3971303s\n"
     ]
    }
   ],
   "source": [
    "import os\n",
    "with os.scandir('./') as dir_contents:\n",
    "    for entry in dir_contents:\n",
    "        info = entry.stat()\n",
    "        #print(info)\n",
    "        print(f'Name: {entry.name}, Time: {info.st_mtime}s')"
   ]
  },
  {
   "cell_type": "markdown",
   "metadata": {},
   "source": [
    "[os.stat_result](https://docs.python.org/3/library/os.html#os.stat_result)"
   ]
  },
  {
   "cell_type": "markdown",
   "metadata": {},
   "source": [
    "os.scandir() returns a ScandirIterator object. Each entry in a ScandirIterator object has a .stat() method that retrieves information about the file or directory it points to. .stat() provides information such as file size and the time of last modification. In the example above, the code prints out the st_mtime attribute, which is the time the content of the file was last modified."
   ]
  },
  {
   "cell_type": "markdown",
   "metadata": {},
   "source": [
    "The st_mtime attribute returns a float value that represents seconds since the epoch. To convert the values returned by st_mtime for display purposes, you could write a helper function to convert the seconds into a datetime object:\n",
    "\n"
   ]
  },
  {
   "cell_type": "code",
   "execution_count": 39,
   "metadata": {},
   "outputs": [
    {
     "name": "stdout",
     "output_type": "stream",
     "text": [
      "example04.py        \t Last Modified: 2020-01-19 16:26:12\n",
      "example00.py        \t Last Modified: 2020-01-19 14:46:31\n",
      "example03.py        \t Last Modified: 2020-01-19 14:50:58\n",
      "create_file.py      \t Last Modified: 2020-01-28 19:48:09\n",
      "host.py             \t Last Modified: 2020-01-28 21:20:55\n",
      "healthcheck_script.py\t Last Modified: 2020-01-27 20:41:51\n",
      "example01.py        \t Last Modified: 2020-01-19 14:43:19\n",
      "example05.py        \t Last Modified: 2020-01-25 23:07:59\n",
      "example02.py        \t Last Modified: 2020-01-19 14:43:03\n"
     ]
    }
   ],
   "source": [
    "from datetime import datetime\n",
    "from os import scandir\n",
    "\n",
    "def convert_date(timestamp):\n",
    "    d = datetime.utcfromtimestamp(timestamp)\n",
    "    formated_date = d.strftime('%Y-%m-%d %H:%M:%S')\n",
    "    return formated_date\n",
    "\n",
    "def get_files(dir_path):\n",
    "    dir_entries = scandir(dir_path)\n",
    "    for entry in dir_entries:\n",
    "        if entry.is_file():\n",
    "            info = entry.stat()\n",
    "            # The width specifier sets the width of the value. \n",
    "            print(f'{entry.name:20}\\t Last Modified: {convert_date(info.st_mtime)}')\n",
    "            \n",
    "get_files('./skripte')"
   ]
  },
  {
   "cell_type": "markdown",
   "metadata": {},
   "source": [
    "This will first get a list of files in my_directory and their attributes and then call convert_date() to convert each file’s last modified time into a human readable form. convert_date() makes use of .strftime() to convert the time in seconds into a string."
   ]
  },
  {
   "cell_type": "markdown",
   "metadata": {},
   "source": [
    "### Filename Pattern Matching"
   ]
  },
  {
   "cell_type": "markdown",
   "metadata": {},
   "source": [
    "After getting a list of files in a directory using one of the methods above, you will most probably want to search for files that match a particular pattern.\n",
    "\n",
    "These are the methods and functions available to you:\n",
    "- endswith() and startswith() string methods\n",
    "- fnmatch.fnmatch()\n",
    "- glob.glob()\n",
    "- pathlib.Path.glob()\n",
    "\n",
    "Each of these is discussed below. The examples in this section will be performed on a directory called some_directory that has the following structure:"
   ]
  },
  {
   "cell_type": "markdown",
   "metadata": {},
   "source": [
    "Pripravimo datoteke"
   ]
  },
  {
   "cell_type": "markdown",
   "metadata": {},
   "source": [
    "    mkdir some_directory\n",
    "    cd some_directory/\n",
    "    mkdir sub_dir\n",
    "    touch sub_dir/file1.py sub_dir/file2.py\n",
    "    touch data_{01..03}.txt data_{01..03}_backup.txt admin.py tests.py"
   ]
  },
  {
   "cell_type": "markdown",
   "metadata": {},
   "source": [
    "#### Using String Methods"
   ]
  },
  {
   "cell_type": "markdown",
   "metadata": {},
   "source": [
    "Python has several built-in methods for modifying and manipulating strings. Two of these methods, .startswith() and .endswith(), are useful when you’re searching for patterns in filenames. To do this, first get a directory listing and then iterate over it:"
   ]
  },
  {
   "cell_type": "code",
   "execution_count": 18,
   "metadata": {},
   "outputs": [],
   "source": [
    "import os\n",
    "\n",
    "# Get .txt files\n",
    "def search_file_by_extension(directory, extension):\n",
    "    for f_name in os.listdir(directory):\n",
    "        if f_name.endswith(extension):\n",
    "            print(f_name)"
   ]
  },
  {
   "cell_type": "code",
   "execution_count": 19,
   "metadata": {},
   "outputs": [
    {
     "name": "stdout",
     "output_type": "stream",
     "text": [
      "data_01_backup.txt\n",
      "data_02_backup.txt\n",
      "data_01.txt\n",
      "data_03_backup.txt\n",
      "data_03.txt\n",
      "data_02.txt\n"
     ]
    }
   ],
   "source": [
    "search_file_by_extension('data/some_directory/', '.txt')"
   ]
  },
  {
   "cell_type": "markdown",
   "metadata": {},
   "source": [
    "#### Filename Pattern Matching Using fnmatch"
   ]
  },
  {
   "cell_type": "markdown",
   "metadata": {},
   "source": [
    "> [fnmatch — Unix filename pattern matching](https://docs.python.org/3.8/library/fnmatch.html)"
   ]
  },
  {
   "cell_type": "markdown",
   "metadata": {},
   "source": [
    "String methods are limited in their matching abilities. fnmatch has more advanced functions and methods for pattern matching. We will consider fnmatch.fnmatch(), a function that supports the use of wildcards such as * and ? to match filenames. For example, in order to find all .txt files in a directory using fnmatch, you would do the following:"
   ]
  },
  {
   "cell_type": "code",
   "execution_count": 20,
   "metadata": {},
   "outputs": [
    {
     "name": "stdout",
     "output_type": "stream",
     "text": [
      "data_01_backup.txt\n",
      "data_02_backup.txt\n",
      "data_01.txt\n",
      "data_03_backup.txt\n",
      "data_03.txt\n",
      "data_02.txt\n"
     ]
    }
   ],
   "source": [
    "import os\n",
    "import fnmatch\n",
    "\n",
    "for file_name in os.listdir('data/some_directory/'):\n",
    "    if fnmatch.fnmatch(file_name, '*.txt'):\n",
    "        print(file_name)"
   ]
  },
  {
   "cell_type": "markdown",
   "metadata": {},
   "source": [
    "This iterates over the list of files in some_directory and uses .fnmatch() to perform a wildcard search for files that have the .txt extension."
   ]
  },
  {
   "cell_type": "markdown",
   "metadata": {},
   "source": [
    "Let’s suppose you want to find .txt files that meet certain criteria. For example, you could be only interested in finding .txt files that contain the word data, a number between a set of underscores, and the word backup in their filename. Something similar to data_01_backup, data_02_backup, or data_03_backup."
   ]
  },
  {
   "cell_type": "markdown",
   "metadata": {},
   "source": [
    "Using fnmatch.fnmatch(), you could do it this way:"
   ]
  },
  {
   "cell_type": "code",
   "execution_count": 22,
   "metadata": {},
   "outputs": [
    {
     "name": "stdout",
     "output_type": "stream",
     "text": [
      "data_01_backup.txt\n",
      "data_02_backup.txt\n",
      "data_03_backup.txt\n"
     ]
    }
   ],
   "source": [
    "for filename in os.listdir('data/some_directory/'):\n",
    "    if fnmatch.fnmatch(filename, 'data_*_backup.txt'):\n",
    "        print(filename)"
   ]
  },
  {
   "cell_type": "markdown",
   "metadata": {},
   "source": [
    "Here, you print only the names of files that match the data_*_backup.txt pattern. The asterisk in the pattern will match any character, so running this will find all text files whose filenames start with the word data and end in backup.txt."
   ]
  },
  {
   "cell_type": "markdown",
   "metadata": {},
   "source": [
    "#### Filename Pattern Matching Using glob"
   ]
  },
  {
   "cell_type": "markdown",
   "metadata": {},
   "source": [
    "The glob module finds all the pathnames matching a specified pattern according to the rules used by the Unix shell, although results are returned in arbitrary order. No tilde expansion is done, but *, ?, and character ranges expressed with [] will be correctly matched. This is done by using the os.scandir() and fnmatch.fnmatch() functions in concert, and not by actually invoking a subshell. Note that unlike fnmatch.fnmatch(), glob treats filenames beginning with a dot (.) as special cases."
   ]
  },
  {
   "cell_type": "markdown",
   "metadata": {},
   "source": [
    "> [glob — Unix style pathname pattern expansion](https://docs.python.org/3.8/library/glob.html?highlight=glob#module-glob)"
   ]
  },
  {
   "cell_type": "markdown",
   "metadata": {},
   "source": [
    "Another useful module for pattern matching is glob.\n",
    "\n",
    ".glob() in the glob module works just like fnmatch.fnmatch(), but unlike fnmatch.fnmatch(), it treats files beginning with a period (.) as special.\n",
    "\n",
    "UNIX and related systems translate name patterns with wildcards like ? and * into a list of files. This is called globbing.\n",
    "\n",
    "For example, typing mv *.py python_files/ in a UNIX shell moves (mv) all files with the .py extension from the current directory to the directory python_files. The * character is a wildcard that means “any number of characters,” and *.py is the glob pattern. This shell capability is not available in the Windows Operating System. The glob module adds this capability in Python, which enables Windows programs to use this feature.\n",
    "\n",
    "Here’s an example of how to use glob to search for all Python (.py) source files in the current directory:"
   ]
  },
  {
   "cell_type": "code",
   "execution_count": 24,
   "metadata": {},
   "outputs": [
    {
     "data": {
      "text/plain": [
       "['data/some_directory/sub_dir/file1.py',\n",
       " 'data/some_directory/sub_dir/file2.py']"
      ]
     },
     "execution_count": 24,
     "metadata": {},
     "output_type": "execute_result"
    }
   ],
   "source": [
    "import glob\n",
    "glob.glob('data/some_directory/sub_dir/*.py')"
   ]
  },
  {
   "cell_type": "markdown",
   "metadata": {},
   "source": [
    "glob.glob('*.py') searches for all files that have the .py extension in the current directory and returns them as a list. glob also supports shell-style wildcards to match patterns:"
   ]
  },
  {
   "cell_type": "code",
   "execution_count": 26,
   "metadata": {},
   "outputs": [
    {
     "name": "stdout",
     "output_type": "stream",
     "text": [
      "data/some_directory/data_01_backup.txt\n",
      "data/some_directory/data_02_backup.txt\n",
      "data/some_directory/data_01.txt\n",
      "data/some_directory/data_03_backup.txt\n",
      "data/some_directory/data_03.txt\n",
      "data/some_directory/data_02.txt\n"
     ]
    }
   ],
   "source": [
    "import glob\n",
    "for name in glob.glob('data/some_directory/*[0-9]*.txt'):\n",
    "    print(name)"
   ]
  },
  {
   "cell_type": "markdown",
   "metadata": {},
   "source": [
    "glob makes it easy to search for files recursively in subdirectories too:"
   ]
  },
  {
   "cell_type": "code",
   "execution_count": 29,
   "metadata": {},
   "outputs": [
    {
     "name": "stdout",
     "output_type": "stream",
     "text": [
      "data/some_directory/tests.py\n",
      "data/some_directory/admin.py\n",
      "data/some_directory/sub_dir/file1.py\n",
      "data/some_directory/sub_dir/file2.py\n"
     ]
    }
   ],
   "source": [
    "import glob\n",
    "for file in glob.iglob('data/some_directory/**/*.py', recursive=True):\n",
    "    print(file)"
   ]
  },
  {
   "cell_type": "markdown",
   "metadata": {},
   "source": [
    "This example makes use of glob.iglob() to search for .py files in the current directory and subdirectories. Passing recursive=True as an argument to .iglob() makes it search for .py files in the current directory and any subdirectories. The difference between glob.iglob() and glob.glob() is that .iglob() returns an iterator instead of a list."
   ]
  },
  {
   "cell_type": "markdown",
   "metadata": {},
   "source": [
    "### Traversing Directories and Processing Files"
   ]
  },
  {
   "cell_type": "markdown",
   "metadata": {},
   "source": [
    "A common programming task is walking a directory tree and processing files in the tree. Let’s explore how the built-in Python function os.walk() can be used to do this. os.walk() is used to generate filename in a directory tree by walking the tree either top-down or bottom-up. For the purposes of this section, we’ll be manipulating the following directory tree:"
   ]
  },
  {
   "cell_type": "markdown",
   "metadata": {},
   "source": [
    "The following is an example that shows you how to list all files and directories in a directory tree using os.walk()."
   ]
  },
  {
   "cell_type": "markdown",
   "metadata": {},
   "source": [
    "os.walk() defaults to traversing directories in a top-down manner:"
   ]
  },
  {
   "cell_type": "code",
   "execution_count": 30,
   "metadata": {},
   "outputs": [
    {
     "name": "stdout",
     "output_type": "stream",
     "text": [
      "Found directory: ./data/some_directory/\n",
      "tests.py\n",
      "data_01_backup.txt\n",
      "data_02_backup.txt\n",
      "admin.py\n",
      "data_01.txt\n",
      "data_03_backup.txt\n",
      "data_03.txt\n",
      "data_02.txt\n",
      "Found directory: ./data/some_directory/sub_dir\n",
      "file1.py\n",
      "file2.py\n"
     ]
    }
   ],
   "source": [
    "# Walking a directory tree and printing the names of the directories and files\n",
    "for dirpath, dirnames, files in os.walk('./data/some_directory/'):\n",
    "    print(f'Found directory: {dirpath}')\n",
    "    for file_name in files:\n",
    "        print(file_name)"
   ]
  },
  {
   "cell_type": "markdown",
   "metadata": {},
   "source": [
    "os.walk() returns three values on each iteration of the loop:\n",
    "- The name of the current folder\n",
    "- A list of folders in the current folder\n",
    "- A list of files in the current folder\n",
    "\n",
    "On each iteration, it prints out the names of the subdirectories and files it finds:"
   ]
  },
  {
   "cell_type": "markdown",
   "metadata": {},
   "source": [
    "To traverse the directory tree in a bottom-up manner, pass in a topdown=False keyword argument to os.walk():"
   ]
  },
  {
   "cell_type": "markdown",
   "metadata": {},
   "source": [
    "Passing the topdown=False argument will make os.walk() print out the files it finds in the subdirectories first:"
   ]
  },
  {
   "cell_type": "markdown",
   "metadata": {},
   "source": [
    "As you can see, the program started by listing the contents of the subdirectories before listing the contents of the root directory. This is very useful in situations where you want to recursively delete files and directories. You will learn how to do this in the sections below. By default, os.walk does not walk down into symbolic links that resolve to directories. This behavior can be overridden by calling it with a followlinks=True argument."
   ]
  },
  {
   "cell_type": "code",
   "execution_count": 31,
   "metadata": {},
   "outputs": [
    {
     "name": "stdout",
     "output_type": "stream",
     "text": [
      "Found directory: ./data/some_directory/\n",
      "Editing ./data/some_directory/tests.py...\n",
      "Editing ./data/some_directory/data_01_backup.txt...\n",
      "Editing ./data/some_directory/data_02_backup.txt...\n",
      "Editing ./data/some_directory/admin.py...\n",
      "Editing ./data/some_directory/data_01.txt...\n",
      "Editing ./data/some_directory/data_03_backup.txt...\n",
      "Editing ./data/some_directory/data_03.txt...\n",
      "Editing ./data/some_directory/data_02.txt...\n",
      "Found directory: ./data/some_directory/sub_dir\n",
      "Editing ./data/some_directory/sub_dir/file1.py...\n",
      "Editing ./data/some_directory/sub_dir/file2.py...\n"
     ]
    }
   ],
   "source": [
    "# vaja dodamo v vsak file neko vsebino\n",
    "for dirpath, dirnames, files in os.walk('./data/some_directory/'):\n",
    "    print(f'Found directory: {dirpath}')\n",
    "    for file_name in files:\n",
    "        fullname = os.path.join(dirpath, file_name)\n",
    "        print(f'Editing {fullname}...')\n",
    "        with open(fullname, 'w') as f:\n",
    "            f.write('Heloo')"
   ]
  },
  {
   "cell_type": "markdown",
   "metadata": {},
   "source": [
    "### Deleting Files and Directories"
   ]
  },
  {
   "cell_type": "markdown",
   "metadata": {},
   "source": [
    "You can delete single files, directories, and entire directory trees using the methods found in the os, shutil, and pathlib modules. The following sections describe how to delete files and directories that you no longer need."
   ]
  },
  {
   "cell_type": "markdown",
   "metadata": {},
   "source": [
    "#### Deleting Files in Python"
   ]
  },
  {
   "cell_type": "markdown",
   "metadata": {},
   "source": [
    "To delete a single file, use pathlib.Path.unlink(), os.remove(). or os.unlink()."
   ]
  },
  {
   "cell_type": "markdown",
   "metadata": {},
   "source": [
    "os.remove() and os.unlink() are semantically identical. To delete a file using os.remove(), do the following:"
   ]
  },
  {
   "cell_type": "code",
   "execution_count": 1,
   "metadata": {},
   "outputs": [],
   "source": [
    "! touch ./data/delete.txt"
   ]
  },
  {
   "cell_type": "code",
   "execution_count": 2,
   "metadata": {},
   "outputs": [],
   "source": [
    "import os\n",
    "\n",
    "data_file = './data/delete.txt'\n",
    "os.remove(data_file)"
   ]
  },
  {
   "cell_type": "markdown",
   "metadata": {},
   "source": [
    "Deleting a file using os.unlink() is similar to how you do it using os.remove():"
   ]
  },
  {
   "cell_type": "code",
   "execution_count": null,
   "metadata": {},
   "outputs": [],
   "source": [
    "import os\n",
    "\n",
    "data_file = './data/delete.txt'\n",
    "os.unlink(data_file)"
   ]
  },
  {
   "cell_type": "markdown",
   "metadata": {},
   "source": [
    "Calling .unlink() or .remove() on a file deletes the file from the filesystem. These two functions will throw an OSError if the path passed to them points to a directory instead of a file. To avoid this, you can either check that what you’re trying to delete is actually a file and only delete it if it is, or you can use exception handling to handle the OSError:"
   ]
  },
  {
   "cell_type": "code",
   "execution_count": 3,
   "metadata": {},
   "outputs": [
    {
     "name": "stdout",
     "output_type": "stream",
     "text": [
      "Error: ./data/delete.txt not a valid filename\n"
     ]
    }
   ],
   "source": [
    "import os\n",
    "\n",
    "data_file = './data/delete.txt'\n",
    "\n",
    "# If the file exists, delete it\n",
    "if os.path.isfile(data_file):\n",
    "    os.remove(data_file)\n",
    "else:\n",
    "    print(f'Error: {data_file} not a valid filename')"
   ]
  },
  {
   "cell_type": "markdown",
   "metadata": {},
   "source": [
    "os.path.isfile() checks whether data_file is actually a file. If it is, it is deleted by the call to os.remove(). If data_file points to a folder, an error message is printed to the console.\n",
    "\n",
    "The following example shows how to use exception handling to handle errors when deleting files:"
   ]
  },
  {
   "cell_type": "code",
   "execution_count": 4,
   "metadata": {},
   "outputs": [
    {
     "name": "stdout",
     "output_type": "stream",
     "text": [
      "Error: ./data/delete.txt : No such file or directory\n"
     ]
    }
   ],
   "source": [
    "import os\n",
    "\n",
    "data_file = './data/delete.txt'\n",
    "\n",
    "# Use exception handling\n",
    "try:\n",
    "    os.remove(data_file)\n",
    "except OSError as e:\n",
    "    print(f'Error: {data_file} : {e.strerror}')"
   ]
  },
  {
   "cell_type": "markdown",
   "metadata": {},
   "source": [
    "The code above attempts to delete the file first before checking its type. If data_file isn’t actually a file, the OSError that is thrown is handled in the except clause, and an error message is printed to the console. The error message that gets printed out is formatted using Python f-strings."
   ]
  },
  {
   "cell_type": "markdown",
   "metadata": {},
   "source": [
    "#### Deleting Directories"
   ]
  },
  {
   "cell_type": "markdown",
   "metadata": {},
   "source": [
    "The standard library offers the following functions for deleting directories:\n",
    "- os.rmdir()\n",
    "- pathlib.Path.rmdir()\n",
    "- shutil.rmtree()\n",
    "\n",
    "To delete a single directory or folder, use os.rmdir() or pathlib.rmdir(). These two functions only work if the directory you’re trying to delete is empty. If the directory isn’t empty, an OSError is raised. Here is how to delete a folder:"
   ]
  },
  {
   "cell_type": "code",
   "execution_count": 5,
   "metadata": {},
   "outputs": [],
   "source": [
    "!mkdir ./data/test"
   ]
  },
  {
   "cell_type": "code",
   "execution_count": 6,
   "metadata": {},
   "outputs": [],
   "source": [
    "import os\n",
    "\n",
    "trash_dir = './data/test'\n",
    "\n",
    "try:\n",
    "    os.rmdir(trash_dir)\n",
    "except OSError as e:\n",
    "    print(f'Error: {trash_dir} : {e.strerror}')"
   ]
  },
  {
   "cell_type": "markdown",
   "metadata": {},
   "source": [
    "Here, the trash_dir directory is deleted by passing its path to os.rmdir(). If the directory isn’t empty, an error message is printed to the screen:"
   ]
  },
  {
   "cell_type": "markdown",
   "metadata": {},
   "source": [
    "    Traceback (most recent call last):\n",
    "      File '<stdin>', line 1, in <module>\n",
    "    OSError: [Errno 39] Directory not empty: 'my_documents/bad_dir'"
   ]
  },
  {
   "cell_type": "markdown",
   "metadata": {},
   "source": [
    "#### Deleting Entire Directory Trees"
   ]
  },
  {
   "cell_type": "markdown",
   "metadata": {},
   "source": [
    "To delete non-empty directories and entire directory trees, Python offers shutil.rmtree():"
   ]
  },
  {
   "cell_type": "code",
   "execution_count": 7,
   "metadata": {},
   "outputs": [],
   "source": [
    "!mkdir ./data/test\n",
    "!touch ./data/test/lalal"
   ]
  },
  {
   "cell_type": "code",
   "execution_count": 8,
   "metadata": {},
   "outputs": [],
   "source": [
    "import shutil\n",
    "\n",
    "trash_dir = './data/test'\n",
    "\n",
    "try:\n",
    "    shutil.rmtree(trash_dir)\n",
    "except OSError as e:\n",
    "    print(f'Error: {trash_dir} : {e.strerror}')"
   ]
  },
  {
   "cell_type": "markdown",
   "metadata": {},
   "source": [
    "Everything in trash_dir is deleted when shutil.rmtree() is called on it. There may be cases where you want to delete empty folders recursively. You can do this using one of the methods discussed above in conjunction with os.walk():"
   ]
  },
  {
   "cell_type": "code",
   "execution_count": null,
   "metadata": {},
   "outputs": [],
   "source": [
    "import os\n",
    "\n",
    "for dirpath, dirnames, files in os.walk('.', topdown=False):\n",
    "    try:\n",
    "        os.rmdir(dirpath)\n",
    "    except OSError as ex:\n",
    "        pass"
   ]
  },
  {
   "cell_type": "markdown",
   "metadata": {},
   "source": [
    "This walks down the directory tree and tries to delete each directory it finds. If the directory isn’t empty, an OSError is raised and that directory is skipped. The table below lists the functions covered in this section:"
   ]
  },
  {
   "cell_type": "markdown",
   "metadata": {},
   "source": [
    "<div class=\"table-responsive\">\n",
    "<table class=\"table table-hover\">\n",
    "<thead>\n",
    "<tr>\n",
    "<th>Function</th>\n",
    "<th>Description</th>\n",
    "</tr>\n",
    "</thead>\n",
    "<tbody>\n",
    "<tr>\n",
    "<td><code>os.remove()</code></td>\n",
    "<td>Deletes a file and does not delete directories</td>\n",
    "</tr>\n",
    "<tr>\n",
    "<td><code>os.unlink()</code></td>\n",
    "<td>Is identical to <code>os.remove()</code> and deletes a single file</td>\n",
    "</tr>\n",
    "<tr>\n",
    "<td><code>pathlib.Path.unlink()</code></td>\n",
    "<td>Deletes a file and cannot delete directories</td>\n",
    "</tr>\n",
    "<tr>\n",
    "<td><code>os.rmdir()</code></td>\n",
    "<td>Deletes an empty directory</td>\n",
    "</tr>\n",
    "<tr>\n",
    "<td><code>pathlib.Path.rmdir()</code></td>\n",
    "<td>Deletes an empty directory</td>\n",
    "</tr>\n",
    "<tr>\n",
    "<td><code>shutil.rmtree()</code></td>\n",
    "<td>Deletes entire directory tree and can be used to delete non-empty directories</td>\n",
    "</tr>\n",
    "</tbody>\n",
    "</table>\n",
    "</div>"
   ]
  },
  {
   "cell_type": "markdown",
   "metadata": {},
   "source": [
    "### Copying, Moving, and Renaming Files and Directories"
   ]
  },
  {
   "cell_type": "markdown",
   "metadata": {},
   "source": [
    "Python ships with the shutil module. shutil is short for shell utilities. It provides a number of high-level operations on files to support copying, archiving, and removal of files and directories. In this section, you’ll learn how to move and copy files and directories."
   ]
  },
  {
   "cell_type": "markdown",
   "metadata": {},
   "source": [
    "#### Copying Files in Python"
   ]
  },
  {
   "cell_type": "markdown",
   "metadata": {},
   "source": [
    "shutil offers a couple of functions for copying files. The most commonly used functions are shutil.copy() and shutil.copy2(). To copy a file from one location to another using shutil.copy(), do the following:"
   ]
  },
  {
   "cell_type": "code",
   "execution_count": 9,
   "metadata": {},
   "outputs": [
    {
     "data": {
      "text/plain": [
       "'./data/example2.txt'"
      ]
     },
     "execution_count": 9,
     "metadata": {},
     "output_type": "execute_result"
    }
   ],
   "source": [
    "import shutil\n",
    "\n",
    "src = './data/example.txt'\n",
    "dst = './data/example2.txt'\n",
    "shutil.copy(src, dst)"
   ]
  },
  {
   "cell_type": "markdown",
   "metadata": {},
   "source": [
    "shutil.copy() is comparable to the cp command in UNIX based systems. shutil.copy(src, dst) will copy the file src to the location specified in dst. If dst is a file, the contents of that file are replaced with the contents of src. If dst is a directory, then src will be copied into that directory. shutil.copy() only copies the file’s contents and the file’s permissions. Other metadata like the file’s creation and modification times are not preserved.\n",
    "\n",
    "To preserve all file metadata when copying, use shutil.copy2():"
   ]
  },
  {
   "cell_type": "code",
   "execution_count": 11,
   "metadata": {},
   "outputs": [
    {
     "data": {
      "text/plain": [
       "'./data/example3.txt'"
      ]
     },
     "execution_count": 11,
     "metadata": {},
     "output_type": "execute_result"
    }
   ],
   "source": [
    "import shutil\n",
    "\n",
    "src = './data/example.txt'\n",
    "dst = './data/example3.txt'\n",
    "shutil.copy2(src, dst)"
   ]
  },
  {
   "cell_type": "markdown",
   "metadata": {},
   "source": [
    "Using .copy2() preserves details about the file such as last access time, permission bits, last modification time, and flags."
   ]
  },
  {
   "cell_type": "markdown",
   "metadata": {},
   "source": [
    "> Warning: Even the higher-level file copying functions (shutil.copy(), shutil.copy2()) cannot copy all file metadata.\n",
    "On POSIX platforms, this means that file owner and group are lost as well as ACLs. On Mac OS, the resource fork and other metadata are not used. This means that resources will be lost and file type and creator codes will not be correct. On Windows, file owners, ACLs and alternate data streams are not copied."
   ]
  },
  {
   "cell_type": "markdown",
   "metadata": {},
   "source": [
    "#### Copying Directories"
   ]
  },
  {
   "cell_type": "markdown",
   "metadata": {},
   "source": [
    "While shutil.copy() only copies a single file, shutil.copytree() will copy an entire directory and everything contained in it. shutil.copytree(src, dest) takes two arguments: a source directory and the destination directory where files and folders will be copied to.\n",
    "\n",
    "Here’s an example of how to copy the contents of one folder to a different location:"
   ]
  },
  {
   "cell_type": "code",
   "execution_count": null,
   "metadata": {},
   "outputs": [],
   "source": [
    "import shutil\n",
    "shutil.copytree('data_1', 'data1_backup')"
   ]
  },
  {
   "cell_type": "markdown",
   "metadata": {},
   "source": [
    "In this example, .copytree() copies the contents of data_1 to a new location data1_backup and returns the destination directory. The destination directory must not already exist. It will be created as well as missing parent directories. shutil.copytree() is a good way to back up your files."
   ]
  },
  {
   "cell_type": "markdown",
   "metadata": {},
   "source": [
    "#### Moving Files and Directories"
   ]
  },
  {
   "cell_type": "markdown",
   "metadata": {},
   "source": [
    "To move a file or directory to another location, use shutil.move(src, dst).\n",
    "\n",
    "src is the file or directory to be moved and dst is the destination:"
   ]
  },
  {
   "cell_type": "code",
   "execution_count": null,
   "metadata": {},
   "outputs": [],
   "source": [
    "import shutil\n",
    "shutil.move('dir_1/', 'backup/')"
   ]
  },
  {
   "cell_type": "markdown",
   "metadata": {},
   "source": [
    "shutil.move('dir_1/', 'backup/') moves dir_1/ into backup/ if backup/ exists. If backup/ does not exist, dir_1/ will be renamed to backup"
   ]
  },
  {
   "cell_type": "markdown",
   "metadata": {},
   "source": [
    "#### Renaming Files and Directories"
   ]
  },
  {
   "cell_type": "markdown",
   "metadata": {},
   "source": [
    "Python includes os.rename(src, dst) for renaming files and directories:"
   ]
  },
  {
   "cell_type": "code",
   "execution_count": null,
   "metadata": {},
   "outputs": [],
   "source": [
    "os.rename('first.zip', 'first_01.zip')"
   ]
  },
  {
   "cell_type": "markdown",
   "metadata": {},
   "source": [
    "The line above will rename first.zip to first_01.zip. If the destination path points to a directory, it will raise an OSError."
   ]
  },
  {
   "cell_type": "markdown",
   "metadata": {},
   "source": [
    "### Archiving"
   ]
  },
  {
   "cell_type": "markdown",
   "metadata": {},
   "source": [
    "Archives are a convenient way to package several files into one. The two most common archive types are ZIP and TAR. The Python programs you write can create, read, and extract data from archives. You will learn how to read and write to both archive formats in this section."
   ]
  },
  {
   "cell_type": "markdown",
   "metadata": {},
   "source": [
    "Več [tukaj](https://realpython.com/working-with-files-in-python/#archiving)."
   ]
  },
  {
   "cell_type": "markdown",
   "metadata": {},
   "source": [
    "#### ZIP Files"
   ]
  },
  {
   "cell_type": "markdown",
   "metadata": {},
   "source": [
    "The zipfile module is a low level module that is part of the Python Standard Library. zipfile has functions that make it easy to open and extract ZIP files."
   ]
  },
  {
   "cell_type": "markdown",
   "metadata": {},
   "source": [
    "[zipfile — Work with ZIP archives](https://docs.python.org/3/library/zipfile.html?highlight=zip#module-zipfile)"
   ]
  },
  {
   "cell_type": "markdown",
   "metadata": {},
   "source": [
    "\n",
    "The ZIP file format is a common archive and compression standard. This module provides tools to create, read, write, append, and list a ZIP file. Any advanced use of this module will require an understanding of the format, as defined in PKZIP Application Note.\n",
    "\n",
    "This module does not currently handle multi-disk ZIP files. It can handle ZIP files that use the ZIP64 extensions (that is ZIP files that are more than 4 GiB in size). It supports decryption of encrypted files in ZIP archives, but it currently cannot create an encrypted file. Decryption is extremely slow as it is implemented in native Python rather than C."
   ]
  },
  {
   "cell_type": "markdown",
   "metadata": {},
   "source": [
    "#### TAR Archives"
   ]
  },
  {
   "cell_type": "markdown",
   "metadata": {},
   "source": [
    "TAR files are uncompressed file archives like ZIP. They can be compressed using gzip, bzip2, and lzma compression methods. The TarFile class allows reading and writing of TAR archives."
   ]
  },
  {
   "cell_type": "markdown",
   "metadata": {},
   "source": [
    "[tarfile — Read and write tar archive files](https://docs.python.org/3/library/tarfile.html?highlight=tar#module-tarfile)"
   ]
  },
  {
   "cell_type": "markdown",
   "metadata": {},
   "source": [
    "The tarfile module makes it possible to read and write tar archives, including those using gzip, bz2 and lzma compression. Use the zipfile module to read or write .zip files, or the higher-level functions in shutil."
   ]
  },
  {
   "cell_type": "markdown",
   "metadata": {},
   "source": [
    "#### An Easier Way of Creating Archives"
   ]
  },
  {
   "cell_type": "markdown",
   "metadata": {},
   "source": [
    "The Python Standard Library also supports creating TAR and ZIP archives using the high-level methods in the shutil module. The archiving utilities in shutil allow you to create, read, and extract ZIP and TAR archives. These utilities rely on the lower level tarfile and zipfile modules."
   ]
  },
  {
   "cell_type": "markdown",
   "metadata": {},
   "source": [
    "shutil.make_archive() takes at least two arguments: the name of the archive and an archive format.\n",
    "\n",
    "By default, it compresses all the files in the current directory into the archive format specified in the format argument. You can pass in an optional root_dir argument to compress files in a different directory. .make_archive() supports the zip, tar, bztar, and gztar archive formats.\n",
    "\n",
    "This is how to create a TAR archive using shutil:"
   ]
  },
  {
   "cell_type": "code",
   "execution_count": 13,
   "metadata": {},
   "outputs": [
    {
     "data": {
      "text/plain": [
       "'/home/jovyan/work/osnovni_tecaj/10_Interact_with_the_Operating_System/data/leto.tar'"
      ]
     },
     "execution_count": 13,
     "metadata": {},
     "output_type": "execute_result"
    }
   ],
   "source": [
    "import shutil\n",
    "\n",
    "# shutil.make_archive(base_name, format, root_dir)\n",
    "shutil.make_archive('./data/leto', 'tar', './data/leto')"
   ]
  },
  {
   "cell_type": "markdown",
   "metadata": {},
   "source": [
    "- base_name is the name of the file to create, including the path, minus any format-specific extension. format is the archive format: one of “zip” (if the zlib module is available), “tar”, “gztar” (if the zlib module is available), “bztar” (if the bz2 module is available), or “xztar” (if the lzma module is available).\n",
    "- root_dir is a directory that will be the root directory of the archive; for example, we typically chdir into root_dir before creating the archive."
   ]
  },
  {
   "cell_type": "markdown",
   "metadata": {},
   "source": [
    "This copies everything in data/ and creates an archive called backup.tar in the filesystem and returns its name. To extract the archive, call .unpack_archive():"
   ]
  },
  {
   "cell_type": "code",
   "execution_count": 14,
   "metadata": {},
   "outputs": [],
   "source": [
    "shutil.unpack_archive('./data/leto.tar', 'data/extract_dir/')"
   ]
  },
  {
   "cell_type": "markdown",
   "metadata": {},
   "source": [
    "Calling .unpack_archive() and passing in an archive name and destination directory extracts the contents of backup.tar into extract_dir/. ZIP archives can be created and extracted in the same way."
   ]
  },
  {
   "cell_type": "markdown",
   "metadata": {},
   "source": [
    "## System monitoring"
   ]
  },
  {
   "cell_type": "markdown",
   "metadata": {},
   "source": [
    "psutil (process and system utilities) is a cross-platform library for retrieving information on running processes and system utilization (CPU, memory, disks, network, sensors) in Python. It is useful mainly for system monitoring, profiling and limiting process resources and management of running processes. It implements many functionalities offered by classic UNIX command line tools such as ps, top, iotop, lsof, netstat, ifconfig, free and others. "
   ]
  },
  {
   "cell_type": "markdown",
   "metadata": {},
   "source": [
    "[psutil documentation](https://psutil.readthedocs.io/en/latest/#)"
   ]
  },
  {
   "cell_type": "markdown",
   "metadata": {},
   "source": [
    "    pip install psutil"
   ]
  },
  {
   "cell_type": "code",
   "execution_count": 72,
   "metadata": {},
   "outputs": [],
   "source": [
    "import psutil"
   ]
  },
  {
   "cell_type": "code",
   "execution_count": 71,
   "metadata": {},
   "outputs": [
    {
     "data": {
      "text/plain": [
       "0.5"
      ]
     },
     "execution_count": 71,
     "metadata": {},
     "output_type": "execute_result"
    }
   ],
   "source": [
    "psutil.cpu_percent()"
   ]
  },
  {
   "cell_type": "markdown",
   "metadata": {},
   "source": [
    "> Return a float representing the current system-wide CPU utilization as a percentage. When interval is > 0.0 compares system CPU times elapsed before and after the interval (blocking). When interval is 0.0 or None compares system CPU times elapsed since last call or module import, returning immediately. That means the first time this is called it will return a meaningless 0.0 value which you are supposed to ignore. In this case it is recommended for accuracy that this function be called with at least 0.1 seconds between calls. When percpu is True returns a list of floats representing the utilization as a percentage for each CPU. First element of the list refers to first CPU, second element to second CPU and so on. The order of the list is consistent across calls."
   ]
  },
  {
   "cell_type": "code",
   "execution_count": 73,
   "metadata": {},
   "outputs": [],
   "source": [
    "import shutil\n",
    "du = shutil.disk_usage(\"/\")"
   ]
  },
  {
   "cell_type": "code",
   "execution_count": 74,
   "metadata": {},
   "outputs": [
    {
     "data": {
      "text/plain": [
       "usage(total=42004086784, used=15727157248, free=24112828416)"
      ]
     },
     "execution_count": 74,
     "metadata": {},
     "output_type": "execute_result"
    }
   ],
   "source": [
    "du"
   ]
  },
  {
   "cell_type": "code",
   "execution_count": 75,
   "metadata": {},
   "outputs": [
    {
     "data": {
      "text/plain": [
       "57.4059103819987"
      ]
     },
     "execution_count": 75,
     "metadata": {},
     "output_type": "execute_result"
    }
   ],
   "source": [
    "du.free /du.total *100"
   ]
  },
  {
   "cell_type": "markdown",
   "metadata": {},
   "source": [
    "Healthcheck script:"
   ]
  },
  {
   "cell_type": "code",
   "execution_count": 76,
   "metadata": {},
   "outputs": [
    {
     "name": "stdout",
     "output_type": "stream",
     "text": [
      "OK!\n"
     ]
    }
   ],
   "source": [
    "#!/usr/bin/env python3\n",
    "import shutil\n",
    "import psutil\n",
    "\n",
    "def check_disk_usage(disk):\n",
    "    du = shutil.disk_usage(disk)\n",
    "    free = du.free / du.total * 100\n",
    "    return free > 20\n",
    "\n",
    "def check_cpu_usage():\n",
    "    usage = psutil.cpu_percent(1)\n",
    "    return usage < 75\n",
    "\n",
    "if not check_disk_usage('/') or not check_cpu_usage():\n",
    "    print('ERROR!')\n",
    "else:\n",
    "    print('OK!')"
   ]
  },
  {
   "cell_type": "markdown",
   "metadata": {},
   "source": [
    "## Managing Processes"
   ]
  },
  {
   "cell_type": "markdown",
   "metadata": {},
   "source": [
    "### Environment Variables"
   ]
  },
  {
   "cell_type": "markdown",
   "metadata": {},
   "source": [
    "os.environ behaves like a python dictionary, so all the common dictionary operations like get and set can be performed. We can also modify os.environ but any changes will be effective only for the current process where it was assigned and it will not change the value permanently."
   ]
  },
  {
   "cell_type": "markdown",
   "metadata": {},
   "source": [
    "os.environ in Python is a mapping object that represents the user’s environmental variables. It returns a dictionary having user’s environmental variable as key and their values as value."
   ]
  },
  {
   "cell_type": "markdown",
   "metadata": {},
   "source": [
    "#### Use of os.environ to get access of environment variables"
   ]
  },
  {
   "cell_type": "code",
   "execution_count": 35,
   "metadata": {},
   "outputs": [
    {
     "data": {
      "text/plain": [
       "environ{'LC_ALL': 'en_US.UTF-8',\n",
       "        'LANG': 'en_US.UTF-8',\n",
       "        'HOSTNAME': '51ffdbd7dfe3',\n",
       "        'NB_UID': '1000',\n",
       "        'CONDA_DIR': '/opt/conda',\n",
       "        'CONDA_VERSION': '4.7.12',\n",
       "        'PWD': '/home/jovyan',\n",
       "        'HOME': '/home/jovyan',\n",
       "        'MINICONDA_MD5': '1c945f2b3335c7b2b15130b1b2dc5cf4',\n",
       "        'DEBIAN_FRONTEND': 'noninteractive',\n",
       "        'NB_USER': 'jovyan',\n",
       "        'SHELL': '/bin/bash',\n",
       "        'SHLVL': '0',\n",
       "        'LANGUAGE': 'en_US.UTF-8',\n",
       "        'XDG_CACHE_HOME': '/home/jovyan/.cache/',\n",
       "        'NB_GID': '100',\n",
       "        'PATH': '/opt/conda/bin:/usr/local/sbin:/usr/local/bin:/usr/sbin:/usr/bin:/sbin:/bin',\n",
       "        'MINICONDA_VERSION': '4.7.10',\n",
       "        'KERNEL_LAUNCH_TIMEOUT': '40',\n",
       "        'JPY_PARENT_PID': '6',\n",
       "        'TERM': 'xterm-color',\n",
       "        'CLICOLOR': '1',\n",
       "        'PAGER': 'cat',\n",
       "        'GIT_PAGER': 'cat',\n",
       "        'MPLBACKEND': 'module://ipykernel.pylab.backend_inline'}"
      ]
     },
     "execution_count": 35,
     "metadata": {},
     "output_type": "execute_result"
    }
   ],
   "source": [
    "os.environ"
   ]
  },
  {
   "cell_type": "markdown",
   "metadata": {},
   "source": [
    "#### Accessing a particular environment variable"
   ]
  },
  {
   "cell_type": "code",
   "execution_count": 36,
   "metadata": {},
   "outputs": [],
   "source": [
    "# Get the value of \n",
    "# 'HOME' environment variable \n",
    "home = os.environ['HOME'] "
   ]
  },
  {
   "cell_type": "code",
   "execution_count": 37,
   "metadata": {},
   "outputs": [
    {
     "data": {
      "text/plain": [
       "'/home/jovyan'"
      ]
     },
     "execution_count": 37,
     "metadata": {},
     "output_type": "execute_result"
    }
   ],
   "source": [
    "home"
   ]
  },
  {
   "cell_type": "code",
   "execution_count": 39,
   "metadata": {},
   "outputs": [
    {
     "data": {
      "text/plain": [
       "'/home/jovyan'"
      ]
     },
     "execution_count": 39,
     "metadata": {},
     "output_type": "execute_result"
    }
   ],
   "source": [
    "# Get the value of \n",
    "# 'HOME' environment variable \n",
    "# using get operation of dictionary \n",
    "os.environ.get('HOME') "
   ]
  },
  {
   "cell_type": "code",
   "execution_count": 42,
   "metadata": {},
   "outputs": [
    {
     "data": {
      "text/plain": [
       "'/home'"
      ]
     },
     "execution_count": 42,
     "metadata": {},
     "output_type": "execute_result"
    }
   ],
   "source": [
    "#  Handling error while Accessing a environment variable which does not exists\n",
    "os.environ.get('HOMEE', '/home') "
   ]
  },
  {
   "cell_type": "markdown",
   "metadata": {},
   "source": [
    "#### Modifying a environment variable"
   ]
  },
  {
   "cell_type": "code",
   "execution_count": 60,
   "metadata": {},
   "outputs": [],
   "source": [
    "os.environ['TEST'] = str('lala')"
   ]
  },
  {
   "cell_type": "code",
   "execution_count": 61,
   "metadata": {},
   "outputs": [
    {
     "data": {
      "text/plain": [
       "'lala'"
      ]
     },
     "execution_count": 61,
     "metadata": {},
     "output_type": "execute_result"
    }
   ],
   "source": [
    "os.environ.get('TEST', 'Not Set')"
   ]
  },
  {
   "cell_type": "code",
   "execution_count": 62,
   "metadata": {},
   "outputs": [
    {
     "name": "stdout",
     "output_type": "stream",
     "text": [
      "lala\r\n"
     ]
    }
   ],
   "source": [
    "!echo $TEST"
   ]
  },
  {
   "cell_type": "markdown",
   "metadata": {},
   "source": [
    "## Python Subprocesses (Executing External Commands)"
   ]
  },
  {
   "cell_type": "markdown",
   "metadata": {},
   "source": [
    "[subprocess — Subprocess management](https://docs.python.org/3/library/subprocess.html)"
   ]
  },
  {
   "cell_type": "markdown",
   "metadata": {},
   "source": [
    "The subprocess module allows you to spawn new processes, connect to their input/output/error pipes, and obtain their return codes."
   ]
  },
  {
   "cell_type": "markdown",
   "metadata": {},
   "source": [
    "The recommended approach to invoking subprocesses is to use the run() function for all use cases it can handle. For more advanced use cases, the underlying Popen interface can be used directly.    "
   ]
  },
  {
   "cell_type": "markdown",
   "metadata": {},
   "source": [
    "The subprocess module supports three APIs for working with processes. The run() function, added in Python 3.5, is a high-level API for running a process and optionally collecting its output. The functions call(), check_call(), and check_output() are the former high-level API, carried over from Python 2. They are still supported and widely used in existing programs. The class Popen is a low-level API used to build the other APIs and useful for more complex process interactions. The constructor for Popen takes arguments to set up the new process so the parent can communicate with it via pipes. It provides all of the functionality of the other modules and functions it replaces, and more. The API is consistent for all uses, and many of the extra steps of overhead needed (such as closing extra file descriptors and ensuring the pipes are closed) are “built in” instead of being handled by the application code separately.\n",
    "\n",
    "The subprocess module is intended to replace functions such as os.system(), os.spawnv(), the variations of popen() in the os and popen2 modules, as well as the commands() module. To make it easier to compare subprocess with those other modules, many of the examples in this section re-create the ones used for os and popen2."
   ]
  },
  {
   "cell_type": "markdown",
   "metadata": {},
   "source": [
    "### Running External Command"
   ]
  },
  {
   "cell_type": "markdown",
   "metadata": {},
   "source": [
    "To run an external command without interacting with it in the same way as os.system(), use the run() function."
   ]
  },
  {
   "cell_type": "code",
   "execution_count": 78,
   "metadata": {},
   "outputs": [
    {
     "name": "stdout",
     "output_type": "stream",
     "text": [
      "returncode: 0\n"
     ]
    }
   ],
   "source": [
    "#subprocess_os_system.py\n",
    "import subprocess\n",
    "completed = subprocess.run(['ls', '-l'])\n",
    "print('returncode:', completed.returncode)"
   ]
  },
  {
   "cell_type": "markdown",
   "metadata": {},
   "source": [
    "The command line arguments are passed as a list of strings, which avoids the need for escaping quotes or other special characters that might be interpreted by the shell. run() returns a CompletedProcess instance, with information about the process like the exit code and output."
   ]
  },
  {
   "cell_type": "markdown",
   "metadata": {},
   "source": [
    "Setting the shell argument to a true value causes subprocess to spawn an intermediate shell process which then runs the command. The default is to run the command directly."
   ]
  },
  {
   "cell_type": "markdown",
   "metadata": {},
   "source": [
    "Normally, commands are executed without the assistance of an underlying shell (e.g., sh, bash, etc.). Instead, the list of strings supplied are given to a low-level system command, such as os.execve(). If you want the command to be interpreted by a shell, supply it using a simple string and give the shell=True argument. This is sometimes useful if you’re trying to get Python to execute a complicated shell command involving pipes, I/O redirection, and other features."
   ]
  },
  {
   "cell_type": "markdown",
   "metadata": {},
   "source": [
    "> If shell is True, the specified command will be executed through the shell. This can be useful if you are using Python primarily for the enhanced control flow it offers over most system shells and still want convenient access to other shell features such as shell pipes, filename wildcards, environment variable expansion, and expansion of ~ to a user’s home directory."
   ]
  },
  {
   "cell_type": "code",
   "execution_count": 79,
   "metadata": {},
   "outputs": [
    {
     "name": "stdout",
     "output_type": "stream",
     "text": [
      "returncode: 0\n"
     ]
    }
   ],
   "source": [
    "#subprocess_shell_variables.py\n",
    "import subprocess\n",
    "completed = subprocess.run('echo $HOME', shell=True)\n",
    "print('returncode:', completed.returncode)"
   ]
  },
  {
   "cell_type": "markdown",
   "metadata": {},
   "source": [
    "Using an intermediate shell means that variables, glob patterns, and other special shell features in the command string are processed before the command is run."
   ]
  },
  {
   "cell_type": "markdown",
   "metadata": {},
   "source": [
    "Be aware that executing commands under the shell is a potential security risk if arguments\n",
    "are derived from user input. The shlex.quote() function can be used to properly\n",
    "quote arguments for inclusion in shell commands in this case."
   ]
  },
  {
   "cell_type": "markdown",
   "metadata": {},
   "source": [
    "> Using run() without passing check=True is equivalent to using call(), which only returned the exit code from the process."
   ]
  },
  {
   "cell_type": "markdown",
   "metadata": {},
   "source": [
    "### Error Handling"
   ]
  },
  {
   "cell_type": "markdown",
   "metadata": {},
   "source": [
    "The returncode attribute of the CompletedProcess is the exit code of the program. The caller is responsible for interpreting it to detect errors. If the check argument to run() is True, the exit code is checked and if it indicates an error happened then a CalledProcessError exception is raised."
   ]
  },
  {
   "cell_type": "code",
   "execution_count": 80,
   "metadata": {},
   "outputs": [
    {
     "name": "stdout",
     "output_type": "stream",
     "text": [
      "ERROR: Command '['false']' returned non-zero exit status 1.\n"
     ]
    }
   ],
   "source": [
    "#subprocess_run_check.py\n",
    "import subprocess\n",
    "\n",
    "try:\n",
    "    subprocess.run(['false'], check=True)\n",
    "except subprocess.CalledProcessError as err:\n",
    "    print('ERROR:', err)"
   ]
  },
  {
   "cell_type": "markdown",
   "metadata": {},
   "source": [
    "The false command always exits with a non-zero status code, which run() interprets as an error."
   ]
  },
  {
   "cell_type": "markdown",
   "metadata": {},
   "source": [
    "> Passing check=True to run() makes it equivalent to using check_call()."
   ]
  },
  {
   "cell_type": "markdown",
   "metadata": {},
   "source": [
    "### Capturing Output"
   ]
  },
  {
   "cell_type": "markdown",
   "metadata": {},
   "source": [
    "You want to execute an external command and collect its output as a Python string."
   ]
  },
  {
   "cell_type": "markdown",
   "metadata": {},
   "source": [
    "If capture_output is true, stdout and stderr will be captured. When used, the internal Popen object is automatically created with stdout=PIPE and stderr=PIPE. The stdout and stderr arguments may not be supplied at the same time as capture_output. If you wish to capture and combine both streams into one, use stdout=PIPE and stderr=STDOUT instead of capture_output."
   ]
  },
  {
   "cell_type": "code",
   "execution_count": 81,
   "metadata": {},
   "outputs": [],
   "source": [
    "completed = subprocess.run(['ls', '-l'], capture_output=True)"
   ]
  },
  {
   "cell_type": "code",
   "execution_count": 84,
   "metadata": {},
   "outputs": [
    {
     "data": {
      "text/plain": [
       "CompletedProcess(args=['ls', '-l'], returncode=0, stdout=b'total 148\\n-rw-r--r-- 1 jovyan users 141049 Feb 11 22:38 Command_line_with_python.ipynb\\ndrwxr-xr-x 8 jovyan users   4096 Feb 11 19:54 data\\ndrwxrwxr-x 2 jovyan  1000   4096 Feb 11 22:17 skripte\\n', stderr=b'')"
      ]
     },
     "execution_count": 84,
     "metadata": {},
     "output_type": "execute_result"
    }
   ],
   "source": [
    "completed"
   ]
  },
  {
   "cell_type": "code",
   "execution_count": 85,
   "metadata": {},
   "outputs": [
    {
     "data": {
      "text/plain": [
       "0"
      ]
     },
     "execution_count": 85,
     "metadata": {},
     "output_type": "execute_result"
    }
   ],
   "source": [
    "completed.returncode"
   ]
  },
  {
   "cell_type": "markdown",
   "metadata": {},
   "source": [
    "This runs the specified command and returns its output as a byte string. If you need to\n",
    "interpret the resulting bytes as text, add a further decoding step. For example:"
   ]
  },
  {
   "cell_type": "code",
   "execution_count": 83,
   "metadata": {},
   "outputs": [
    {
     "data": {
      "text/plain": [
       "b'total 148\\n-rw-r--r-- 1 jovyan users 141049 Feb 11 22:38 Command_line_with_python.ipynb\\ndrwxr-xr-x 8 jovyan users   4096 Feb 11 19:54 data\\ndrwxrwxr-x 2 jovyan  1000   4096 Feb 11 22:17 skripte\\n'"
      ]
     },
     "execution_count": 83,
     "metadata": {},
     "output_type": "execute_result"
    }
   ],
   "source": [
    "completed.stdout"
   ]
  },
  {
   "cell_type": "code",
   "execution_count": 87,
   "metadata": {},
   "outputs": [],
   "source": [
    "out_text = completed.stdout.decode('utf-8')"
   ]
  },
  {
   "cell_type": "code",
   "execution_count": 89,
   "metadata": {},
   "outputs": [
    {
     "name": "stdout",
     "output_type": "stream",
     "text": [
      "total 148\n",
      "-rw-r--r-- 1 jovyan users 141049 Feb 11 22:38 Command_line_with_python.ipynb\n",
      "drwxr-xr-x 8 jovyan users   4096 Feb 11 19:54 data\n",
      "drwxrwxr-x 2 jovyan  1000   4096 Feb 11 22:17 skripte\n",
      "\n"
     ]
    }
   ],
   "source": [
    "print(out_text)"
   ]
  },
  {
   "cell_type": "code",
   "execution_count": 86,
   "metadata": {},
   "outputs": [
    {
     "data": {
      "text/plain": [
       "b''"
      ]
     },
     "execution_count": 86,
     "metadata": {},
     "output_type": "execute_result"
    }
   ],
   "source": [
    "completed.stderr"
   ]
  },
  {
   "cell_type": "markdown",
   "metadata": {},
   "source": [
    "If encoding or errors are specified, or text is true, file objects for stdin, stdout and stderr are opened in text mode using the specified encoding and errors or the io.TextIOWrapper default. The universal_newlines argument is equivalent to text and is provided for backwards compatibility. By default, file objects are opened in binary mode."
   ]
  },
  {
   "cell_type": "code",
   "execution_count": 96,
   "metadata": {},
   "outputs": [
    {
     "data": {
      "text/plain": [
       "CompletedProcess(args=['ls', '-l'], returncode=0, stdout='total 148\\n-rw-r--r-- 1 jovyan users 142601 Feb 11 22:54 Command_line_with_python.ipynb\\ndrwxr-xr-x 8 jovyan users   4096 Feb 11 19:54 data\\ndrwxrwxr-x 2 jovyan  1000   4096 Feb 11 22:17 skripte\\n', stderr='')"
      ]
     },
     "execution_count": 96,
     "metadata": {},
     "output_type": "execute_result"
    }
   ],
   "source": [
    "subprocess.run(['ls', '-l'], capture_output=True, text=True)"
   ]
  },
  {
   "cell_type": "markdown",
   "metadata": {},
   "source": [
    "### Timeouts"
   ]
  },
  {
   "cell_type": "markdown",
   "metadata": {},
   "source": [
    "The timeout argument is passed to Popen.communicate(). If the timeout expires, the child process will be killed and waited for. The TimeoutExpired exception will be re-raised after the child process has terminated."
   ]
  },
  {
   "cell_type": "markdown",
   "metadata": {},
   "source": [
    "If you need to execute a command with a timeout, use the timeout argument:"
   ]
  },
  {
   "cell_type": "code",
   "execution_count": 91,
   "metadata": {},
   "outputs": [],
   "source": [
    "try:\n",
    "    out_bytes = subprocess.run(['ls'], timeout=5)\n",
    "except subprocess.TimeoutExpired as e:\n",
    "    print('error', e)"
   ]
  },
  {
   "cell_type": "code",
   "execution_count": 95,
   "metadata": {},
   "outputs": [
    {
     "name": "stdout",
     "output_type": "stream",
     "text": [
      "error: Command '['sleep', '6']' timed out after 2 seconds\n"
     ]
    }
   ],
   "source": [
    "try:\n",
    "    out_bytes = subprocess.run(['sleep', '6'], timeout=2)\n",
    "except subprocess.TimeoutExpired as e:\n",
    "    print('error:', e)"
   ]
  },
  {
   "cell_type": "markdown",
   "metadata": {},
   "source": [
    "### Suppressing Output"
   ]
  },
  {
   "cell_type": "markdown",
   "metadata": {},
   "source": [
    "For cases where the output should not be shown or captured, use DEVNULL to suppress an output stream. This example suppresses both the standard output and error streams."
   ]
  },
  {
   "cell_type": "code",
   "execution_count": null,
   "metadata": {},
   "outputs": [],
   "source": [
    "completed = subprocess.run('cat example01.py', \n",
    "        shell=True,\n",
    "        stdout=subprocess.DEVNULL,\n",
    "        stderr=subprocess.DEVNULL,\n",
    "    )"
   ]
  },
  {
   "cell_type": "markdown",
   "metadata": {},
   "source": [
    "The name DEVNULL comes from the Unix special device file, /dev/null, which responds with end-of-file when opened for reading and receives but ignores any amount of input when writing."
   ]
  },
  {
   "cell_type": "markdown",
   "metadata": {},
   "source": [
    "## Vaja 1"
   ]
  },
  {
   "cell_type": "markdown",
   "metadata": {},
   "source": [
    "Zaženi `ls -lah /` in izpiši v list vsa imena map in datotek brez . spredaj."
   ]
  },
  {
   "cell_type": "code",
   "execution_count": 18,
   "metadata": {},
   "outputs": [],
   "source": [
    "import subprocess\n",
    "completed = subprocess.run(['ls', '-lah','/'], capture_output=True)"
   ]
  },
  {
   "cell_type": "code",
   "execution_count": 19,
   "metadata": {},
   "outputs": [],
   "source": [
    "text = completed.stdout.decode('utf-8')"
   ]
  },
  {
   "cell_type": "code",
   "execution_count": 46,
   "metadata": {},
   "outputs": [],
   "source": [
    "names = [line.split()[8] for line in text.splitlines()[1:] if not line.startswith('.')]"
   ]
  },
  {
   "cell_type": "code",
   "execution_count": 48,
   "metadata": {},
   "outputs": [],
   "source": [
    "final_names = [name for name in names if not name.startswith('.')]"
   ]
  },
  {
   "cell_type": "code",
   "execution_count": 50,
   "metadata": {},
   "outputs": [
    {
     "name": "stdout",
     "output_type": "stream",
     "text": [
      "['bin', 'boot', 'dev', 'etc', 'home', 'lib', 'lib64', 'media', 'mnt', 'opt', 'proc', 'root', 'run', 'sbin', 'srv', 'sys', 'tmp', 'usr', 'var']\n"
     ]
    }
   ],
   "source": [
    "print(final_names)"
   ]
  }
 ],
 "metadata": {
  "kernelspec": {
   "display_name": "Python 3",
   "language": "python",
   "name": "python3"
  },
  "language_info": {
   "codemirror_mode": {
    "name": "ipython",
    "version": 3
   },
   "file_extension": ".py",
   "mimetype": "text/x-python",
   "name": "python",
   "nbconvert_exporter": "python",
   "pygments_lexer": "ipython3",
   "version": "3.8.6"
  }
 },
 "nbformat": 4,
 "nbformat_minor": 2
}
