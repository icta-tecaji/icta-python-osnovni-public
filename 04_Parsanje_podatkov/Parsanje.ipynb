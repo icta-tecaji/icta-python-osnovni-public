{
 "cells": [
  {
   "cell_type": "markdown",
   "id": "7b4c407b",
   "metadata": {},
   "source": [
    "# Iteracija"
   ]
  },
  {
   "cell_type": "code",
   "execution_count": 1,
   "id": "317f0cd0",
   "metadata": {},
   "outputs": [],
   "source": [
    "a = [\"A\", \"b\", \"x\"]"
   ]
  },
  {
   "cell_type": "code",
   "execution_count": 3,
   "id": "519b17b0",
   "metadata": {},
   "outputs": [
    {
     "name": "stdout",
     "output_type": "stream",
     "text": [
      "A\n",
      "b\n",
      "x\n"
     ]
    }
   ],
   "source": [
    "for el in a:\n",
    "    print(el)"
   ]
  },
  {
   "cell_type": "code",
   "execution_count": 4,
   "id": "394506ba",
   "metadata": {},
   "outputs": [],
   "source": [
    "data = {\n",
    "    \"available\":\"8\",\n",
    "    \"ticket\":\"0\",\n",
    "    \"total\":\"20\",\n",
    "    \"free\":\"12\"\n",
    "}"
   ]
  },
  {
   "cell_type": "code",
   "execution_count": 11,
   "id": "53e1360b",
   "metadata": {},
   "outputs": [
    {
     "name": "stdout",
     "output_type": "stream",
     "text": [
      "available 8\n",
      "ticket 0\n",
      "total 20\n",
      "free 12\n"
     ]
    }
   ],
   "source": [
    "for key, vrednost in data.items():\n",
    "    print(key, vrednost)"
   ]
  },
  {
   "cell_type": "code",
   "execution_count": 13,
   "id": "267b5ddc",
   "metadata": {},
   "outputs": [
    {
     "data": {
      "text/plain": [
       "dict_items([('available', '8'), ('ticket', '0'), ('total', '20'), ('free', '12')])"
      ]
     },
     "execution_count": 13,
     "metadata": {},
     "output_type": "execute_result"
    }
   ],
   "source": [
    "data.items()"
   ]
  },
  {
   "cell_type": "code",
   "execution_count": 14,
   "id": "1f0307c8",
   "metadata": {},
   "outputs": [],
   "source": [
    "postaje = {1: {'ime_postaje': 'PREŠERNOV TRG-PETKOVŠKOVO NABREŽJE', 'prosta_kolesa': '12', 'prosta_mesta': '8', 'skupaj_mest': '20'}, \n",
    "           2: {'ime_postaje': 'POGAČARJEV TRG-TRŽNICA', 'prosta_kolesa': '3', 'prosta_mesta': '15', 'skupaj_mest': '18'}, \n",
    "           3: {'ime_postaje': 'KONGRESNI TRG-ŠUBIČEVA ULICA', 'prosta_kolesa': '19', 'prosta_mesta': '1', 'skupaj_mest': '20'}, \n",
    "           4: {'ime_postaje': 'CANKARJEVA UL.-NAMA', 'prosta_kolesa': '16', 'prosta_mesta': '10', 'skupaj_mest': '26'}, \n",
    "           5: {'ime_postaje': 'BREG', 'prosta_kolesa': '15', 'prosta_mesta': '5', 'skupaj_mest': '20'}}"
   ]
  },
  {
   "cell_type": "code",
   "execution_count": 17,
   "id": "53508b82",
   "metadata": {},
   "outputs": [
    {
     "name": "stdout",
     "output_type": "stream",
     "text": [
      "1 {'ime_postaje': 'PREŠERNOV TRG-PETKOVŠKOVO NABREŽJE', 'prosta_kolesa': '12', 'prosta_mesta': '8', 'skupaj_mest': '20'}\n",
      "2 {'ime_postaje': 'POGAČARJEV TRG-TRŽNICA', 'prosta_kolesa': '3', 'prosta_mesta': '15', 'skupaj_mest': '18'}\n",
      "3 {'ime_postaje': 'KONGRESNI TRG-ŠUBIČEVA ULICA', 'prosta_kolesa': '19', 'prosta_mesta': '1', 'skupaj_mest': '20'}\n",
      "4 {'ime_postaje': 'CANKARJEVA UL.-NAMA', 'prosta_kolesa': '16', 'prosta_mesta': '10', 'skupaj_mest': '26'}\n",
      "5 {'ime_postaje': 'BREG', 'prosta_kolesa': '15', 'prosta_mesta': '5', 'skupaj_mest': '20'}\n"
     ]
    }
   ],
   "source": [
    "for id_postaje, podatki in postaje.items():\n",
    "    print(id_postaje, podatki)"
   ]
  },
  {
   "cell_type": "code",
   "execution_count": 18,
   "id": "a9bbe871",
   "metadata": {},
   "outputs": [
    {
     "data": {
      "text/plain": [
       "'aaaaa'"
      ]
     },
     "execution_count": 18,
     "metadata": {},
     "output_type": "execute_result"
    }
   ],
   "source": [
    "\"a\" * 5"
   ]
  },
  {
   "cell_type": "markdown",
   "id": "f2228ece",
   "metadata": {},
   "source": [
    "# List Comprehensionm"
   ]
  },
  {
   "cell_type": "code",
   "execution_count": 21,
   "id": "27a9d968",
   "metadata": {},
   "outputs": [
    {
     "name": "stdout",
     "output_type": "stream",
     "text": [
      "[1, 4, 9, 16, 25, 36]\n"
     ]
    }
   ],
   "source": [
    "moje_stevilke = [1,2,3,4,5,6]\n",
    "kvadrati = []\n",
    "\n",
    "for stevilka in moje_stevilke:\n",
    "    kvadrati.append(stevilka**2)\n",
    "    \n",
    "print(kvadrati)"
   ]
  },
  {
   "cell_type": "code",
   "execution_count": 22,
   "id": "25e8c195",
   "metadata": {},
   "outputs": [
    {
     "name": "stdout",
     "output_type": "stream",
     "text": [
      "[1, 4, 9, 16, 25, 36]\n"
     ]
    }
   ],
   "source": [
    "moje_stevilke = [1,2,3,4,5,6]\n",
    "kvadrati = [stevilka**2 for stevilka in moje_stevilke]\n",
    "print(kvadrati)"
   ]
  },
  {
   "cell_type": "code",
   "execution_count": 31,
   "id": "aac820f5",
   "metadata": {},
   "outputs": [],
   "source": [
    "DAVEK = 0.22\n",
    "\n",
    "def dodaj_davek(cena):\n",
    "    return round(cena * (1 + DAVEK), 2)"
   ]
  },
  {
   "cell_type": "code",
   "execution_count": 32,
   "id": "b8168e5f",
   "metadata": {},
   "outputs": [
    {
     "name": "stdout",
     "output_type": "stream",
     "text": [
      "[2.85, 54.35, 81.37, 15.13]\n"
     ]
    }
   ],
   "source": [
    "# opcija 1\n",
    "cene = [2.34, 44.55, 66.7, 12.4]\n",
    "cene_z_ddv = []\n",
    "\n",
    "for cena in cene:\n",
    "    cene_z_ddv.append(dodaj_davek(cena))\n",
    "\n",
    "print(cene_z_ddv)"
   ]
  },
  {
   "cell_type": "code",
   "execution_count": 33,
   "id": "65ff84a9",
   "metadata": {},
   "outputs": [
    {
     "name": "stdout",
     "output_type": "stream",
     "text": [
      "[2.85, 54.35, 81.37, 15.13]\n"
     ]
    }
   ],
   "source": [
    "# opcija 2\n",
    "cene = [2.34, 44.55, 66.7, 12.4]\n",
    "cene_z_ddv = [dodaj_davek(cena) for cena in cene]\n",
    "print(cene_z_ddv)"
   ]
  },
  {
   "cell_type": "code",
   "execution_count": 36,
   "id": "91d641ac",
   "metadata": {},
   "outputs": [
    {
     "name": "stdout",
     "output_type": "stream",
     "text": [
      "[2.85, 54.35, 81.37, 15.13]\n"
     ]
    }
   ],
   "source": [
    "# opcija 3 - map\n",
    "cene = [2.34, 44.55, 66.7, 12.4]\n",
    "cene_z_ddv = list(map(dodaj_davek, cene))\n",
    "print(cene_z_ddv)"
   ]
  },
  {
   "cell_type": "markdown",
   "id": "4093942d",
   "metadata": {},
   "source": [
    "## Filter"
   ]
  },
  {
   "cell_type": "code",
   "execution_count": 37,
   "id": "2a817086",
   "metadata": {},
   "outputs": [
    {
     "name": "stdout",
     "output_type": "stream",
     "text": [
      "[54.35, 81.37]\n"
     ]
    }
   ],
   "source": [
    "# opcija 1\n",
    "cene = [2.34, 44.55, 66.7, 12.4]\n",
    "cene_z_ddv = []\n",
    "\n",
    "for cena in cene:\n",
    "    if cena > 42:\n",
    "        cene_z_ddv.append(dodaj_davek(cena))\n",
    "\n",
    "print(cene_z_ddv)"
   ]
  },
  {
   "cell_type": "code",
   "execution_count": 38,
   "id": "e41df7a1",
   "metadata": {},
   "outputs": [
    {
     "name": "stdout",
     "output_type": "stream",
     "text": [
      "[54.35, 81.37]\n"
     ]
    }
   ],
   "source": [
    "# opcija 2\n",
    "cene = [2.34, 44.55, 66.7, 12.4]\n",
    "cene_z_ddv = [dodaj_davek(cena) for cena in cene if cena > 42]\n",
    "print(cene_z_ddv)"
   ]
  },
  {
   "cell_type": "code",
   "execution_count": 42,
   "id": "6de7ee4a",
   "metadata": {},
   "outputs": [
    {
     "name": "stdout",
     "output_type": "stream",
     "text": [
      "[54.35, 81.37]\n"
     ]
    }
   ],
   "source": [
    "# opcija 3 - map\n",
    "cene = [2.34, 44.55, 66.7, 12.4]\n",
    "cene_z_ddv = list(map(dodaj_davek, filter(lambda cena: cena > 42, cene)))\n",
    "print(cene_z_ddv)"
   ]
  },
  {
   "cell_type": "code",
   "execution_count": 46,
   "id": "13269400",
   "metadata": {},
   "outputs": [
    {
     "name": "stdout",
     "output_type": "stream",
     "text": [
      "[44.55, 81.37]\n"
     ]
    }
   ],
   "source": [
    "# opcija - logika\n",
    "cene = [2.34, 44.55, 66.7, 12.4]\n",
    "cene_z_ddv = [dodaj_davek(cena) if cena > 60 else cena for cena in cene if cena > 42]\n",
    "print(cene_z_ddv)"
   ]
  },
  {
   "cell_type": "code",
   "execution_count": 57,
   "id": "c3978d43",
   "metadata": {},
   "outputs": [
    {
     "name": "stdout",
     "output_type": "stream",
     "text": [
      "{'z', 'n', 's', 'd', 'p', 'l', 'j'}\n"
     ]
    }
   ],
   "source": [
    "# set\n",
    "besedilo = \"Danes je zelo lep dan\"\n",
    "soglasniki = {crka.lower() for crka in besedilo if crka not in \"aeiou \"}\n",
    "print(soglasniki)"
   ]
  },
  {
   "cell_type": "code",
   "execution_count": 58,
   "id": "be71e5a4",
   "metadata": {},
   "outputs": [
    {
     "name": "stdout",
     "output_type": "stream",
     "text": [
      "[1, 2, 3, 4, 5]\n"
     ]
    }
   ],
   "source": [
    "# odstranjevanje podvojenih vrendnosti iz lista\n",
    "a = [1,2,3,3,3,2,4,5]\n",
    "a = list(set(a))\n",
    "print(a)"
   ]
  },
  {
   "cell_type": "markdown",
   "id": "3d621ec5",
   "metadata": {},
   "source": [
    "## Primerjava hitrosti"
   ]
  },
  {
   "cell_type": "code",
   "execution_count": 59,
   "id": "6ec87bfe",
   "metadata": {},
   "outputs": [],
   "source": [
    "import random\n",
    "import timeit\n",
    "\n",
    "TAX_RATE = .08\n",
    "txns = [random.randrange(100) for _ in range(100_000)]\n",
    "\n",
    "def get_price(txn):\n",
    "    return txn * (1 + TAX_RATE)\n",
    "\n",
    "def get_prices_with_map():\n",
    "    return list(map(get_price, txns))\n",
    "\n",
    "def get_prices_with_comprehension():\n",
    "    return [get_price(txn) for txn in txns]\n",
    "\n",
    "def get_prices_with_loop():\n",
    "    prices = []\n",
    "    for txn in txns:\n",
    "        prices.append(get_price(txn))\n",
    "    return prices"
   ]
  },
  {
   "cell_type": "code",
   "execution_count": 60,
   "id": "bf5d8ba8",
   "metadata": {},
   "outputs": [
    {
     "data": {
      "text/plain": [
       "3.2029461162164807"
      ]
     },
     "execution_count": 60,
     "metadata": {},
     "output_type": "execute_result"
    }
   ],
   "source": [
    "timeit.timeit(get_prices_with_map, number=100)"
   ]
  },
  {
   "cell_type": "code",
   "execution_count": 61,
   "id": "78dac1b6",
   "metadata": {},
   "outputs": [
    {
     "data": {
      "text/plain": [
       "3.6473421175032854"
      ]
     },
     "execution_count": 61,
     "metadata": {},
     "output_type": "execute_result"
    }
   ],
   "source": [
    "timeit.timeit(get_prices_with_comprehension, number=100)"
   ]
  },
  {
   "cell_type": "code",
   "execution_count": 62,
   "id": "c70566d7",
   "metadata": {},
   "outputs": [
    {
     "data": {
      "text/plain": [
       "4.400884688831866"
      ]
     },
     "execution_count": 62,
     "metadata": {},
     "output_type": "execute_result"
    }
   ],
   "source": [
    "timeit.timeit(get_prices_with_loop, number=100)"
   ]
  },
  {
   "cell_type": "markdown",
   "id": "1bcee8d1",
   "metadata": {},
   "source": [
    "## Primer: logs"
   ]
  },
  {
   "cell_type": "code",
   "execution_count": 70,
   "id": "54195358",
   "metadata": {},
   "outputs": [
    {
     "name": "stdout",
     "output_type": "stream",
     "text": [
      "['6.59.80.184', '67.0.6.53', '87.164.206.186', '97.151.64.195', '41.37.14.38', '41.99.45.177']\n"
     ]
    }
   ],
   "source": [
    "with open(\"data/logs_small.txt\", \"r\") as f:\n",
    "    lines = f.readlines()\n",
    "    ips = [line.split()[0] for line in lines]\n",
    "    filtered_ips = [ip for ip in ips if int(ip.split('.')[0]) <= 100]\n",
    "    print(filtered_ips)"
   ]
  },
  {
   "cell_type": "markdown",
   "id": "43d3a8e8",
   "metadata": {},
   "source": [
    "## Primer: pandas"
   ]
  },
  {
   "cell_type": "markdown",
   "id": "e448c7e3",
   "metadata": {},
   "source": [
    "https://pandas.pydata.org/"
   ]
  },
  {
   "cell_type": "code",
   "execution_count": 71,
   "id": "c8b979af",
   "metadata": {},
   "outputs": [],
   "source": [
    "import pandas as pd"
   ]
  },
  {
   "cell_type": "code",
   "execution_count": 83,
   "id": "dc6057bf",
   "metadata": {},
   "outputs": [
    {
     "data": {
      "text/html": [
       "<div>\n",
       "<style scoped>\n",
       "    .dataframe tbody tr th:only-of-type {\n",
       "        vertical-align: middle;\n",
       "    }\n",
       "\n",
       "    .dataframe tbody tr th {\n",
       "        vertical-align: top;\n",
       "    }\n",
       "\n",
       "    .dataframe thead th {\n",
       "        text-align: right;\n",
       "    }\n",
       "</style>\n",
       "<table border=\"1\" class=\"dataframe\">\n",
       "  <thead>\n",
       "    <tr style=\"text-align: right;\">\n",
       "      <th></th>\n",
       "      <th>ip</th>\n",
       "      <th>timestamp</th>\n",
       "      <th>url</th>\n",
       "      <th>status_code</th>\n",
       "      <th>bytes</th>\n",
       "      <th>method</th>\n",
       "    </tr>\n",
       "  </thead>\n",
       "  <tbody>\n",
       "    <tr>\n",
       "      <th>0</th>\n",
       "      <td>165.44.136.243</td>\n",
       "      <td>2017-11-30 11:59:55</td>\n",
       "      <td>/search</td>\n",
       "      <td>200</td>\n",
       "      <td>350</td>\n",
       "      <td>GET</td>\n",
       "    </tr>\n",
       "    <tr>\n",
       "      <th>1</th>\n",
       "      <td>6.59.80.184</td>\n",
       "      <td>2017-11-30 11:59:55</td>\n",
       "      <td>/tag/search</td>\n",
       "      <td>200</td>\n",
       "      <td>173</td>\n",
       "      <td>GET</td>\n",
       "    </tr>\n",
       "    <tr>\n",
       "      <th>2</th>\n",
       "      <td>122.148.241.192</td>\n",
       "      <td>2017-11-30 11:59:55</td>\n",
       "      <td>/search/wp-content</td>\n",
       "      <td>401</td>\n",
       "      <td>219</td>\n",
       "      <td>GET</td>\n",
       "    </tr>\n",
       "    <tr>\n",
       "      <th>3</th>\n",
       "      <td>190.186.24.174</td>\n",
       "      <td>2017-11-30 11:59:55</td>\n",
       "      <td>/tag/list/app</td>\n",
       "      <td>200</td>\n",
       "      <td>462</td>\n",
       "      <td>GET</td>\n",
       "    </tr>\n",
       "    <tr>\n",
       "      <th>4</th>\n",
       "      <td>67.0.6.53</td>\n",
       "      <td>2017-11-30 11:59:55</td>\n",
       "      <td>/search/explore/category</td>\n",
       "      <td>200</td>\n",
       "      <td>240</td>\n",
       "      <td>PUT</td>\n",
       "    </tr>\n",
       "    <tr>\n",
       "      <th>5</th>\n",
       "      <td>87.164.206.186</td>\n",
       "      <td>2017-11-30 11:59:55</td>\n",
       "      <td>/posts/wp-content</td>\n",
       "      <td>401</td>\n",
       "      <td>490</td>\n",
       "      <td>PUT</td>\n",
       "    </tr>\n",
       "    <tr>\n",
       "      <th>6</th>\n",
       "      <td>97.151.64.195</td>\n",
       "      <td>2017-11-30 11:59:55</td>\n",
       "      <td>/wp-content/explore/posts</td>\n",
       "      <td>401</td>\n",
       "      <td>354</td>\n",
       "      <td>PUT</td>\n",
       "    </tr>\n",
       "    <tr>\n",
       "      <th>7</th>\n",
       "      <td>199.74.100.136</td>\n",
       "      <td>2017-11-30 11:59:55</td>\n",
       "      <td>/explore/tag/app</td>\n",
       "      <td>404</td>\n",
       "      <td>546</td>\n",
       "      <td>PUT</td>\n",
       "    </tr>\n",
       "    <tr>\n",
       "      <th>8</th>\n",
       "      <td>41.37.14.38</td>\n",
       "      <td>2017-11-30 11:59:55</td>\n",
       "      <td>/wp-content/tags</td>\n",
       "      <td>401</td>\n",
       "      <td>304</td>\n",
       "      <td>GET</td>\n",
       "    </tr>\n",
       "    <tr>\n",
       "      <th>9</th>\n",
       "      <td>41.99.45.177</td>\n",
       "      <td>2017-11-30 11:59:55</td>\n",
       "      <td>/posts/search/main</td>\n",
       "      <td>404</td>\n",
       "      <td>608</td>\n",
       "      <td>GET</td>\n",
       "    </tr>\n",
       "  </tbody>\n",
       "</table>\n",
       "</div>"
      ],
      "text/plain": [
       "                ip           timestamp                        url  \\\n",
       "0   165.44.136.243 2017-11-30 11:59:55                    /search   \n",
       "1      6.59.80.184 2017-11-30 11:59:55                /tag/search   \n",
       "2  122.148.241.192 2017-11-30 11:59:55         /search/wp-content   \n",
       "3   190.186.24.174 2017-11-30 11:59:55              /tag/list/app   \n",
       "4        67.0.6.53 2017-11-30 11:59:55   /search/explore/category   \n",
       "5   87.164.206.186 2017-11-30 11:59:55          /posts/wp-content   \n",
       "6    97.151.64.195 2017-11-30 11:59:55  /wp-content/explore/posts   \n",
       "7   199.74.100.136 2017-11-30 11:59:55           /explore/tag/app   \n",
       "8      41.37.14.38 2017-11-30 11:59:55           /wp-content/tags   \n",
       "9     41.99.45.177 2017-11-30 11:59:55         /posts/search/main   \n",
       "\n",
       "   status_code  bytes method  \n",
       "0          200    350    GET  \n",
       "1          200    173    GET  \n",
       "2          401    219    GET  \n",
       "3          200    462    GET  \n",
       "4          200    240    PUT  \n",
       "5          401    490    PUT  \n",
       "6          401    354    PUT  \n",
       "7          404    546    PUT  \n",
       "8          401    304    GET  \n",
       "9          404    608    GET  "
      ]
     },
     "execution_count": 83,
     "metadata": {},
     "output_type": "execute_result"
    }
   ],
   "source": [
    "df = pd.read_csv(\"data/logs_small.txt\", sep=\" \", header=None)\n",
    "df.drop(columns=[1,2,4,8,9], inplace=True)\n",
    "df.columns = [\"ip\", \"timestamp\", \"url\", \"status_code\", \"bytes\"]\n",
    "df[\"timestamp\"] = pd.to_datetime(df[\"timestamp\"].str.replace(\"[\", \"\", regex=False), format=\"%d/%b/%Y:%H:%M:%S\")\n",
    "df[\"method\"] = df[\"url\"].str.split().str[0]\n",
    "df[\"url\"] = df[\"url\"].str.split().str[1]\n",
    "df"
   ]
  },
  {
   "cell_type": "code",
   "execution_count": 90,
   "id": "67599be8",
   "metadata": {},
   "outputs": [
    {
     "data": {
      "text/plain": [
       "<AxesSubplot:>"
      ]
     },
     "execution_count": 90,
     "metadata": {},
     "output_type": "execute_result"
    },
    {
     "data": {
      "image/png": "[encoded data removed]",
      "text/plain": [
       "<Figure size 432x288 with 1 Axes>"
      ]
     },
     "metadata": {
      "needs_background": "light"
     },
     "output_type": "display_data"
    }
   ],
   "source": [
    "df[\"status_code\"].value_counts().plot(kind=\"bar\")"
   ]
  }
 ],
 "metadata": {
  "kernelspec": {
   "display_name": "Python 3 (ipykernel)",
   "language": "python",
   "name": "python3"
  },
  "language_info": {
   "codemirror_mode": {
    "name": "ipython",
    "version": 3
   },
   "file_extension": ".py",
   "mimetype": "text/x-python",
   "name": "python",
   "nbconvert_exporter": "python",
   "pygments_lexer": "ipython3",
   "version": "3.9.0"
  }
 },
 "nbformat": 4,
 "nbformat_minor": 5
}
