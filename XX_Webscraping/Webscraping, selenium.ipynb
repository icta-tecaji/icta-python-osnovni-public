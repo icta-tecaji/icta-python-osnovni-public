{
 "cells": [
  {
   "cell_type": "markdown",
   "id": "7b16bdcc",
   "metadata": {},
   "source": [
    "# Web Scraping"
   ]
  },
  {
   "cell_type": "markdown",
   "id": "56f127fb",
   "metadata": {},
   "source": [
    "Web Scraping je proces pridobivanja informacij z interneta.\n",
    "\n",
    "S pomočjo web scrapinga lahko napišemo skripto, ki nas opozori, ko se nam približuje slabo vreme. Napišemo lahko skripto, ki nam pridobi vse tweete specifične osebe, pridobi trenutne informacije o stanju na cestah. Napišemo lahko skripto, ki se sprehodi čez članke na wikipediji in izpiše vse stavke, ki vsebujejo iskane besede, ipd."
   ]
  },
  {
   "cell_type": "markdown",
   "id": "a14dc61d",
   "metadata": {},
   "source": [
    "---"
   ]
  },
  {
   "cell_type": "markdown",
   "id": "bb89b891",
   "metadata": {},
   "source": [
    "Ponavadi ljudje uporabljamo internet preko **HTTP (HyperText Transfer Protocol)**.\n",
    "> (v grobem): V browser napišemo spletni naslov katerega želimo obiskati. Browser nato izvede klic za pridobitev te spletne strani. Če spletna stran obstaja je posredovana nazaj v browser in ta nam prikaže spletno stran."
   ]
  },
  {
   "cell_type": "markdown",
   "id": "43233a5d",
   "metadata": {},
   "source": [
    "Za uporabo HTTP v pythonu obstaja knjižnjica **requests**.\n",
    "> Dokumentacija: https://docs.python-requests.org/en/master/\n",
    "\n",
    "To je 3rd party knjižnjica, kar pomeni, da ne pride avtomatično z inštalacijo pythona. Zato jo moramo sami inštalirati."
   ]
  },
  {
   "cell_type": "markdown",
   "id": "76bfb882",
   "metadata": {},
   "source": [
    "Za inštalacijo 3rd party knjižnjic zapišemo ukaz **pip install <knjižnjica>** v terminal:\n",
    "\n",
    "```\n",
    "pip install requests\n",
    "```"
   ]
  },
  {
   "cell_type": "code",
   "execution_count": null,
   "id": "c66d7003",
   "metadata": {},
   "outputs": [],
   "source": [
    "import requests"
   ]
  },
  {
   "cell_type": "markdown",
   "id": "8c8333bc",
   "metadata": {},
   "source": [
    "Za začetek bomo ustvarili preprosti **GET** Request.\n",
    "\n",
    "S tem tem requestom želimo pridobiti podatke iz določenega vira.\n",
    "\n",
    "V našem primeru bomo pridobili podatke s sledečega URL: https://api.github.com"
   ]
  },
  {
   "cell_type": "code",
   "execution_count": null,
   "id": "3348dab5",
   "metadata": {},
   "outputs": [],
   "source": [
    "url = \"https://api.github.com\"\n",
    "response = requests.get(url)\n",
    "\n",
    "print(response)"
   ]
  },
  {
   "cell_type": "markdown",
   "id": "a0cef8a5",
   "metadata": {},
   "source": [
    "## Response object"
   ]
  },
  {
   "cell_type": "markdown",
   "id": "5e0fa204",
   "metadata": {},
   "source": [
    "Naš **get()** klic nam vrne *response object* znotraj katerega imamo informacije in podatke glede našega klica."
   ]
  },
  {
   "cell_type": "markdown",
   "id": "acdfd04a",
   "metadata": {},
   "source": [
    "---"
   ]
  },
  {
   "cell_type": "markdown",
   "id": "c830d9c0",
   "metadata": {},
   "source": [
    "**STATUS CODE**\n",
    "\n",
    "https://en.wikipedia.org/wiki/List_of_HTTP_status_codes\n",
    "\n",
    "Prva informacija našega klica, ki bi nas zanimala je **status code**.\n",
    "\n",
    "V osnovi se kode delijo na:\n",
    "* 1xx - informational response - request je biu prejet. Nadaljujemo s procesom\n",
    "* 2xx - successful - request je bil uspešno prejet, razumljen in sprejet\n",
    "* 3xx - redirection - dodatne akcije so potrebne za dokončanje requesta\n",
    "* 4xx - client error - request vsebuje slabo syntaxo oziroma ne more biti izpolnjen\n",
    "* 5xx - server error - request je bil pravilen vendar server ne more dokončati requesta"
   ]
  },
  {
   "cell_type": "code",
   "execution_count": null,
   "id": "39bb111b",
   "metadata": {},
   "outputs": [],
   "source": [
    "url = \"https://api.github.com\"\n",
    "response = requests.get(url)\n",
    "\n",
    "print(response.status_code)"
   ]
  },
  {
   "cell_type": "markdown",
   "id": "665982e8",
   "metadata": {},
   "source": [
    "Naš **get()** klic bi moral vrniti status kodo 200, kar pomeni da ni prišlo do napak in se je klic uspešno izvršil."
   ]
  },
  {
   "cell_type": "code",
   "execution_count": null,
   "id": "3544cc20",
   "metadata": {},
   "outputs": [],
   "source": [
    "url = \"https://api.github.com/ne_obstaja\"\n",
    "response = requests.get(url)\n",
    "\n",
    "print(response.status_code)"
   ]
  },
  {
   "cell_type": "markdown",
   "id": "bf1ea9dd",
   "metadata": {},
   "source": [
    "Če želimo prodibiti neke podatke, ki ne obstajajo, bomo dobili kodo **404 - Not Found**."
   ]
  },
  {
   "cell_type": "markdown",
   "id": "915a575f",
   "metadata": {},
   "source": [
    "S pomočjo response_code lahko nadzorujemo logiko našega programa:"
   ]
  },
  {
   "cell_type": "code",
   "execution_count": null,
   "id": "4581ddd6",
   "metadata": {},
   "outputs": [],
   "source": [
    "url = \"https://api.github.com\" # 200\n",
    "#url = \"https://api.github.com/ne_obstaja\" # 404\n",
    "response = requests.get(url)\n",
    "\n",
    "if response.status_code == 200:\n",
    "    print(\"Uspešen GET Request\")\n",
    "    print(\"Nadaljuj z obdelavo podatkov\")\n",
    "elif response.status_code == 404:\n",
    "    print(\"Error! Te podatki ne obstajajo.\")"
   ]
  },
  {
   "cell_type": "markdown",
   "id": "1586976c",
   "metadata": {},
   "source": [
    "Namest primerjanja status code lahko uporabimo kar response object. Response object ima vrednost True, če je response code med 200 in 400. V nasprotnem primeru ima vrednost False."
   ]
  },
  {
   "cell_type": "code",
   "execution_count": null,
   "id": "871f5756",
   "metadata": {},
   "outputs": [],
   "source": [
    "url = \"https://api.github.com\" # 200\n",
    "#url = \"https://api.github.com/ne_obstaja\" # 404\n",
    "response = requests.get(url)\n",
    "\n",
    "if response:\n",
    "    print(\"Uspešen GET Request\")\n",
    "else:\n",
    "    print(\"Error!\")"
   ]
  },
  {
   "cell_type": "markdown",
   "id": "ceb8eaa4",
   "metadata": {},
   "source": [
    "Tak način preverjanja naj se uporablja le, če želimo preveriti ali je bil request uspešno sprocesiran ali ne.\n",
    "\n",
    "204 je status koda, ki nam pove, da je bil request uspešno sprocesiran vendar ni nobenih podatkov za vrniti."
   ]
  },
  {
   "cell_type": "markdown",
   "id": "655107d6",
   "metadata": {},
   "source": [
    "---"
   ]
  },
  {
   "cell_type": "markdown",
   "id": "d16e14c4",
   "metadata": {},
   "source": [
    "**PODATKI**"
   ]
  },
  {
   "cell_type": "markdown",
   "id": "15e6c4ba",
   "metadata": {},
   "source": [
    "Podatke do katerih smo hoteli dostopati - **payload** - imamo shranjenje v telesu našega sporočila - **message body**."
   ]
  },
  {
   "cell_type": "markdown",
   "id": "94894a47",
   "metadata": {},
   "source": [
    "Do njih lahko dostopamo v različnih oblikah:"
   ]
  },
  {
   "cell_type": "markdown",
   "id": "e6003da2",
   "metadata": {},
   "source": [
    "*in bytes*:"
   ]
  },
  {
   "cell_type": "code",
   "execution_count": null,
   "id": "139acfee",
   "metadata": {},
   "outputs": [],
   "source": [
    "url = \"https://api.github.com\"\n",
    "response = requests.get(url)\n",
    "\n",
    "print(type(response.content))\n",
    "print(response.content)"
   ]
  },
  {
   "cell_type": "markdown",
   "id": "88e2411a",
   "metadata": {},
   "source": [
    "Podatke ponavadi hočemo v obliki **stringa**. Do njih lahko dostopamo na sledeč način:"
   ]
  },
  {
   "cell_type": "code",
   "execution_count": null,
   "id": "97225074",
   "metadata": {},
   "outputs": [],
   "source": [
    "url = \"https://api.github.com\"\n",
    "response = requests.get(url)\n",
    "\n",
    "print(type(response.text))\n",
    "print(response.text)"
   ]
  },
  {
   "cell_type": "markdown",
   "id": "c797d448",
   "metadata": {},
   "source": [
    "Za pretvorbo v tekst se potreuje **encoding scheme**. Requests knjižnjica poizkuša uganiti encoding shemo glede na response headerje. Lahko po encoding shemo podamo explicitno:"
   ]
  },
  {
   "cell_type": "code",
   "execution_count": null,
   "id": "60651ca1",
   "metadata": {},
   "outputs": [],
   "source": [
    "url = \"https://api.github.com\"\n",
    "response = requests.get(url)\n",
    "\n",
    "response.encoding = \"utf-8\"\n",
    "\n",
    "print(response.encoding)\n",
    "print(response.text)"
   ]
  },
  {
   "cell_type": "markdown",
   "id": "c008ee6f",
   "metadata": {},
   "source": [
    "Če si pogledamo naše pridobljene podatke vidimo, da so v obliki JSON. Da jih pridobimo v taki obliki imamo znotraj knjiznjice prirocno metodo:"
   ]
  },
  {
   "cell_type": "code",
   "execution_count": null,
   "id": "3a631a3e",
   "metadata": {},
   "outputs": [],
   "source": [
    "url = \"https://api.github.com\"\n",
    "response = requests.get(url)\n",
    "data = response.json()\n",
    "\n",
    "print(type(data))\n",
    "print(data)"
   ]
  },
  {
   "cell_type": "markdown",
   "id": "aa47f4cb",
   "metadata": {},
   "source": [
    "---"
   ]
  },
  {
   "cell_type": "markdown",
   "id": "9a7fc947",
   "metadata": {},
   "source": [
    "Če želimo izvedeti kaj več o informacij, kot so metapodatki našega odgovora, potrebujemo pogledati v **headers** odgovora."
   ]
  },
  {
   "cell_type": "markdown",
   "id": "225c5955",
   "metadata": {},
   "source": [
    "## Headers"
   ]
  },
  {
   "cell_type": "markdown",
   "id": "d68e8ecd",
   "metadata": {},
   "source": [
    "Headers držijo informacije kot so, content type naših podatkov ali kako dolgo naj imamo odgovor chached.\n",
    "\n",
    "Do headerjev dostopamo preko **.headers** atributa, ki nam vrne headers v dictionary obliki."
   ]
  },
  {
   "cell_type": "code",
   "execution_count": null,
   "id": "d6e230c1",
   "metadata": {},
   "outputs": [],
   "source": [
    "url = \"https://api.github.com\"\n",
    "response = requests.get(url)\n",
    "\n",
    "print(response.headers)"
   ]
  },
  {
   "cell_type": "markdown",
   "id": "4317014e",
   "metadata": {},
   "source": [
    "Če želimo videti kakšnega datatipa so vrnjeni podatki lahko dostopamo do **Content-Type** headerja.\n",
    "\n",
    "HTTP specifikacije določajo, da so headerji *case insensitive* kar pomeni, da velike črke ne vplivajo na klicanje naših headerjev."
   ]
  },
  {
   "cell_type": "code",
   "execution_count": null,
   "id": "9fb5e716",
   "metadata": {},
   "outputs": [],
   "source": [
    "url = \"https://api.github.com\"\n",
    "response = requests.get(url)\n",
    "\n",
    "print(response.headers[\"Content-Type\"])\n",
    "print(response.headers[\"content-type\"])"
   ]
  },
  {
   "cell_type": "code",
   "execution_count": null,
   "id": "c0e6cc7b",
   "metadata": {},
   "outputs": [],
   "source": []
  },
  {
   "cell_type": "markdown",
   "id": "ad7f54e0",
   "metadata": {},
   "source": [
    "Za bolj realen primer bomo pridobili podatke o praznikih in dela prostih dneh v Republiki Sloveniji.\n",
    "\n",
    "Informacije o podatkih lahko najdemo na sledeči spletni strani: https://podatki.gov.si/dataset/seznam-praznikov-in-dela-prostih-dni-v-republiki-sloveniji/resource/eb8b25ea-5c00-4817-a670-26e1023677c6\n",
    "\n",
    "Na spletni strani vidimo, da so podatki shranjeni v **csv** formatu.\n",
    "\n",
    "Imajo 8 stolpcev:\n",
    "* id\n",
    "* Datum\n",
    "* Ime praznika\n",
    "* Dan v tednu\n",
    "* Dela prost dan\n",
    "* Dan\n",
    "* Mesec\n",
    "* Leto"
   ]
  },
  {
   "cell_type": "markdown",
   "id": "1f829dd4",
   "metadata": {},
   "source": [
    "Dejanske podatke lahko pridobimo na URL: https://podatki.gov.si/dataset/ada88e06-14a2-49c4-8748-3311822e3585/resource/eb8b25ea-5c00-4817-a670-26e1023677c6/download/seznampraznikovindelaprostihdni20002030.csv"
   ]
  },
  {
   "cell_type": "code",
   "execution_count": null,
   "id": "2297b6dc",
   "metadata": {},
   "outputs": [],
   "source": [
    "import requests\n",
    "\n",
    "url = \"https://podatki.gov.si/dataset/ada88e06-14a2-49c4-8748-3311822e3585/resource/eb8b25ea-5c00-4817-a670-26e1023677c6/download/seznampraznikovindelaprostihdni20002030.csv\"\n",
    "\n",
    "response = requests.get(url)\n",
    "#print(r.encoding)\n",
    "response.encoding = \"utf-8\" # treba dodat, ker če ne maš ISO-8859-1 kar pa ne prepozna šumnikov\n",
    "\n",
    "data = response.text\n",
    "print(data)"
   ]
  },
  {
   "cell_type": "markdown",
   "id": "a2a32095",
   "metadata": {},
   "source": [
    "Naša naloga bi sedaj lahko bila, da preverimo koliko praznikov pade na določen dan v tednu, za leto 2022."
   ]
  },
  {
   "cell_type": "code",
   "execution_count": null,
   "id": "588c2b3e",
   "metadata": {},
   "outputs": [],
   "source": [
    "import requests\n",
    "\n",
    "url = \"https://podatki.gov.si/dataset/ada88e06-14a2-49c4-8748-3311822e3585/resource/eb8b25ea-5c00-4817-a670-26e1023677c6/download/seznampraznikovindelaprostihdni20002030.csv\"\n",
    "\n",
    "response = requests.get(url)\n",
    "#print(r.encoding)\n",
    "response.encoding = \"utf-8\" # treba dodat, ker če ne maš ISO-8859-1 kar pa ne prepozna šumnikov\n",
    "\n",
    "data = response.text\n",
    "\n",
    "rezultat = {}\n",
    "for vrstica in data.split(\"\\r\\n\"):\n",
    "    v_splitted = vrstica.split(\";\")\n",
    "    #print(v_splitted)\n",
    "    if v_splitted[-1] == \"2022\":\n",
    "        print(v_splitted)\n",
    "        dan = v_splitted[2]\n",
    "        if dan in rezultat.keys():\n",
    "            rezultat[dan] += 1\n",
    "        else:\n",
    "            rezultat[dan] = 1\n",
    "\n",
    "print(\"Število praznikov na specifični dan: \")\n",
    "print(rezultat)"
   ]
  },
  {
   "cell_type": "markdown",
   "id": "48b95ac6",
   "metadata": {},
   "source": [
    "---"
   ]
  },
  {
   "cell_type": "markdown",
   "id": "05929010",
   "metadata": {},
   "source": [
    "URL katerega smo uporabili predstavlja API portala OPSI."
   ]
  },
  {
   "cell_type": "markdown",
   "id": "706fa6e3",
   "metadata": {},
   "source": [
    "API (**Application Programming Interface**) predstavlja povezavo med dvema računalnikoma oziroma programoma.\n",
    "\n",
    "V našem primeru je naš program kontaktiral portal OPSI preko API in pridobil podatke."
   ]
  },
  {
   "cell_type": "markdown",
   "id": "0a57a10d",
   "metadata": {},
   "source": [
    "Veliko spletnih strani ima vzpostavljene API. Preko njihovih specifičnih URL-jev lahko tako dostopamo do njihovih urejenih podatkov. \n",
    "\n",
    "Formati takšnih podatkov so velikokrat standardni, kot so CSV, XML, JSON, itd..."
   ]
  },
  {
   "cell_type": "markdown",
   "id": "cc20549f",
   "metadata": {},
   "source": [
    "--------"
   ]
  },
  {
   "cell_type": "markdown",
   "id": "4652c36e",
   "metadata": {},
   "source": [
    "Za primer bolj naprednega API si poglejmo **coingecko.com**. To je spletna platforma za spremljanje trgovanja s kriptovalutami. Imajo informacije o trenutni ceni, volumnu, market cap, novicah, itd.\n",
    "> https://www.coingecko.com/en\n",
    "\n",
    "Dokumentacijo svojega API imajo lepo zapisano na:\n",
    "> https://www.coingecko.com/api/documentations/v3#/\n",
    "\n",
    "Vidimo, da so vse metode **GET** in okvirno kako so URL sestavljeni."
   ]
  },
  {
   "cell_type": "markdown",
   "id": "bdc59998",
   "metadata": {},
   "source": [
    "Za primer vzemimo nalogo, kjer moramo poiskati trenutno ceno Bitcoina v €.\n",
    "\n",
    "API kateri nam bi lahko rešil nalogo je **GET /simple/price**. Če ga odpremo vidimo, da lahko izberamo še dodatne parametre in, da nam spletna stran sama zgenerira URL in nam tudi nudi možnost testiranja tega URL."
   ]
  },
  {
   "cell_type": "markdown",
   "id": "396e3632",
   "metadata": {},
   "source": [
    "> https://api.coingecko.com/api/v3/simple/price?ids=bitcoin&vs_currencies=eur\n",
    "\n",
    "Podatke bomo dobili vrnjene v JSON formatu. JSON format je podoben python dictionary. "
   ]
  },
  {
   "cell_type": "markdown",
   "id": "dbb7d1f8",
   "metadata": {},
   "source": [
    "Če sedaj odpremo podani URL se nam v brskalniku izpišejo JSON podatki katere bi prejeli, če bi URL klicali s programom."
   ]
  },
  {
   "cell_type": "code",
   "execution_count": null,
   "id": "84c13215",
   "metadata": {},
   "outputs": [],
   "source": [
    "import requests\n",
    "\n",
    "url = \"https://api.coingecko.com/api/v3/simple/price?ids=bitcoin&vs_currencies=eur\"\n",
    "\n",
    "r = requests.get(url)\n",
    "data = r.json()\n",
    "print(data)\n",
    "print(\"Cena BTC v €: \", data[\"bitcoin\"][\"eur\"])"
   ]
  },
  {
   "cell_type": "markdown",
   "id": "eda82d2f",
   "metadata": {},
   "source": [
    "Če bi sedaj podatke želeli v $ namesto v €, bi morali spremeniti URL."
   ]
  },
  {
   "cell_type": "code",
   "execution_count": null,
   "id": "a3533db1",
   "metadata": {},
   "outputs": [],
   "source": [
    "import requests\n",
    "\n",
    "url = \"https://api.coingecko.com/api/v3/simple/price?ids=bitcoin&vs_currencies=usd\"\n",
    "\n",
    "r = requests.get(url)\n",
    "data = r.json()\n",
    "print(data)\n",
    "print(\"Cena BTC v $: \", data[\"bitcoin\"][\"usd\"])"
   ]
  },
  {
   "cell_type": "markdown",
   "id": "75a02e24",
   "metadata": {},
   "source": [
    "URL je v grobem sestavljen iz:\n",
    "* **Base URL**, ki predstavlja pot do spletne strani. `api.coingecko.com/api/v3/simple/price`\n",
    "* **Query parameters**, ki predstavljajo parametre katere lahko spreminjamo. Pričnejo se po `?`\n",
    "\n",
    "Query parameters so sestavljeni iz:\n",
    "* **imena parametra** - `id`\n",
    "* **=**, enačaja\n",
    "* **vrednosti parametra** - `bitcoin`\n",
    "\n",
    "Med seboj so parametri ločeni z `&`."
   ]
  },
  {
   "cell_type": "markdown",
   "id": "9ee32ae6",
   "metadata": {},
   "source": [
    "Recimo, da imamo naš portfolio sestavljen iz sledečih kriptovalit:\n",
    "\n",
    "```python\n",
    "[\"bitcoin\", \"ethereum\", \"cardano\", \"polkadot\", \"secret\"]\n",
    "```\n",
    "\n",
    "Ko zaženemo naš program bi radi, da nam izpiše trenutno ceno vsakega kovanca v našem portfoliju. To pomeni, da bomo morali URL-je dinamično kreirati."
   ]
  },
  {
   "cell_type": "code",
   "execution_count": null,
   "id": "c5bd58ef",
   "metadata": {
    "scrolled": true
   },
   "outputs": [],
   "source": [
    "import requests\n",
    "\n",
    "my_portfolio = [\"bitcoin\", \"ethereum\", \"cardano\", \"polkadot\", \"secret\"]\n",
    "\n",
    "for coin in my_portfolio:\n",
    "    url = f\"https://api.coingecko.com/api/v3/simple/price?ids={coin}&vs_currencies=eur\"\n",
    "\n",
    "    r = requests.get(url)\n",
    "    data = r.json()\n",
    "    print(f\"Cena {coin} v €: \", data[coin][\"eur\"])"
   ]
  },
  {
   "cell_type": "code",
   "execution_count": null,
   "id": "e8ec5109",
   "metadata": {},
   "outputs": [],
   "source": []
  },
  {
   "cell_type": "markdown",
   "id": "20e1573f",
   "metadata": {},
   "source": [
    "Oziroma, namesto, da dinamično spreminjamo URL lahko naše query parametre definiramo v get() metodi."
   ]
  },
  {
   "cell_type": "code",
   "execution_count": null,
   "id": "f2c63e60",
   "metadata": {},
   "outputs": [],
   "source": [
    "import requests\n",
    "\n",
    "my_portfolio = [\"bitcoin\", \"ethereum\", \"cardano\", \"polkadot\", \"secret\"]\n",
    "\n",
    "for coin in my_portfolio:\n",
    "    url = f\"https://api.coingecko.com/api/v3/simple/price\"\n",
    "\n",
    "    r = requests.get(url, params={\"ids\": coin, \"vs_currencies\":\"eur\"})\n",
    "    data = r.json()\n",
    "    print(f\"Cena {coin} v €: \", data[coin][\"eur\"])"
   ]
  },
  {
   "cell_type": "code",
   "execution_count": null,
   "id": "6699444e",
   "metadata": {},
   "outputs": [],
   "source": []
  },
  {
   "cell_type": "markdown",
   "id": "a0dfd47d",
   "metadata": {},
   "source": [
    "<div class=\"alert alert-block alert-info\">\n",
    "<h1><b>Naloga: </b></h1>\n",
    "Pridobite <b>daily</b> podatke o <b>ceni in market_cap</b> za do 3 dni nazaj za naš portfolijo. Podatki naj bodo v €.\n",
    "</div>\n",
    "\n",
    "```python\n",
    "[\"bitcoin\", \"ethereum\", \"cardano\", \"polkadot\", \"secret\"]\n",
    "\n",
    "OUTPUT\n",
    "\n",
    "bitcoin\n",
    "Price in €: 50120.35, \t MC: 946129966385.45\n",
    "Price in €: 51792.97, \t MC: 977748021681.97\n",
    "Price in €: 53231.48, \t MC: 1004952689342.15\n",
    "\n",
    "ethereum\n",
    "Price in €: 3512.04, \t MC: 415518933689.03\n",
    "Price in €: 3825.25, \t MC: 451060688164.44\n",
    "Price in €: 3930.32, \t MC: 464722167457.57\n",
    "\n",
    "cardano\n",
    "Price in €: 1.57, \t MC: 50210489214.95\n",
    "Price in €: 1.66, \t MC: 53018653910.54\n",
    "Price in €: 1.71, \t MC: 54707905428.96\n",
    "\n",
    "polkadot\n",
    "Price in €: 34.24, \t MC: 36178751146.04\n",
    "Price in €: 36.70, \t MC: 38654769090.58\n",
    "Price in €: 37.37, \t MC: 39428742405.97\n",
    "\n",
    "secret\n",
    "Price in €: 6.22, \t MC: 926683065.11\n",
    "Price in €: 6.46, \t MC: 961627834.47\n",
    "Price in €: 6.38, \t MC: 951412154.96:\n",
    "    \n",
    "```"
   ]
  },
  {
   "cell_type": "code",
   "execution_count": null,
   "id": "1babe5ba",
   "metadata": {
    "scrolled": false
   },
   "outputs": [],
   "source": [
    "import requests\n",
    "my_portfolio = [\"bitcoin\", \"ethereum\", \"cardano\", \"polkadot\", \"secret\"]\n",
    "\n",
    "for coin in my_portfolio:\n",
    "    url = f\"https://api.coingecko.com/api/v3/coins/{coin}/market_chart?vs_currency=eur&days=3&interval=daily\"\n",
    "\n",
    "    r = requests.get(url)\n",
    "\n",
    "    data = r.json()\n",
    "    print(coin)\n",
    "    for i in range(3):\n",
    "        print(f\"Price in €: {data['prices'][i][1]:.2f}, \\t MC: {data['market_caps'][i][1]:.2f}\")\n",
    "    print()"
   ]
  },
  {
   "cell_type": "code",
   "execution_count": null,
   "id": "5b1d0c24",
   "metadata": {},
   "outputs": [],
   "source": []
  },
  {
   "cell_type": "markdown",
   "id": "04f9a913",
   "metadata": {},
   "source": [
    "<div class=\"alert alert-block alert-info\">\n",
    "<h1><b>Naloga: </b></h1>\n",
    "S pomočjo webscrapinga preverite ali bi se lahko z Bicikelj odpeljali domov.\n",
    "\n",
    "Vaša začetna postaja je TRG MDB\n",
    "\n",
    "Vaša končna postaja je STARA CERKEV.\n",
    "    \n",
    "Preverite ali je na začetni postaji vsaj 1 prosto kolo in ali je na končni postaji vsaj 1 prosto parkirno mesto.\n",
    "\n",
    "Podatke lahko dobite na sledečem linku v JSON formatu. Podatki o prostih mestih in kolesih se nahaja v \"station\" delu.\n",
    "    \n",
    "    free nam pove koliko prostih mest je na postaji.\n",
    "    available nam pove koliko koles je prostih za izposojo.\n",
    "    \n",
    "https://opendata.si/promet/bicikelj/list/  \n",
    "</div>"
   ]
  },
  {
   "cell_type": "code",
   "execution_count": null,
   "id": "76680d3c",
   "metadata": {
    "scrolled": true
   },
   "outputs": [],
   "source": [
    "# Rešitev:\n",
    "\n",
    "import requests\n",
    "\n",
    "url = \"https://opendata.si/promet/bicikelj/list/\"\n",
    "\n",
    "r = requests.get(url)\n",
    "\n",
    "data = r.json()\n",
    "\n",
    "\n",
    "free_bike = False\n",
    "free_park = False\n",
    "for key, station in data[\"markers\"].items():\n",
    "    \n",
    "    if station[\"address\"] == \"TRG MDB\":\n",
    "        #print(station)\n",
    "        if int(station[\"station\"][\"available\"]) > 0:\n",
    "            free_bike = True\n",
    "        \n",
    "    if station[\"address\"] == \"STARA CERKEV\":\n",
    "        #print(station)\n",
    "        if int(station[\"station\"][\"free\"]) > 0:\n",
    "            free_park = True\n",
    "\n",
    "if free_bike and free_park:\n",
    "    print(\"Lahko greš z Bicikelj\")\n",
    "else:\n",
    "    print(\"Ne moreš se odpeljati\")"
   ]
  },
  {
   "cell_type": "markdown",
   "id": "dbca0142",
   "metadata": {},
   "source": [
    "---"
   ]
  },
  {
   "cell_type": "markdown",
   "id": "a0e8f6b3",
   "metadata": {},
   "source": [
    "## Request Headers"
   ]
  },
  {
   "cell_type": "markdown",
   "id": "20d006ab",
   "metadata": {},
   "source": [
    "Github Accept header - https://docs.github.com/en/rest/overview/media-types"
   ]
  },
  {
   "cell_type": "markdown",
   "id": "b99952c5",
   "metadata": {},
   "source": [
    "Če želimo lahko našemu klicu tudi definiramo headers."
   ]
  },
  {
   "cell_type": "markdown",
   "id": "462c5916",
   "metadata": {},
   "source": [
    "Za primer vzemimo, če na Githubu iščemo vse repositorije, ki vsebujejo besedo requests in so napisani v pythonu."
   ]
  },
  {
   "cell_type": "code",
   "execution_count": null,
   "id": "ad1349e3",
   "metadata": {},
   "outputs": [],
   "source": [
    "import requests\n",
    "\n",
    "response = requests.get('https://api.github.com/search/repositories',\n",
    "                        params=[('q', 'requests+language:python')],\n",
    "                       )\n",
    "\n",
    "data = response.json()\n",
    "print(data)\n",
    "print()\n",
    "print(data[\"items\"][0][\"name\"])\n",
    "print(data[\"items\"][0][\"description\"])"
   ]
  },
  {
   "cell_type": "markdown",
   "id": "82de8f4c",
   "metadata": {},
   "source": [
    "Prejšnji search klic lahko doplonemo tako, da specificiramo, da želimo prejeti kje vse v repositoriju smo našli naš iskani vzorec (*requests*). To definiramo s pomočjo headers."
   ]
  },
  {
   "cell_type": "code",
   "execution_count": null,
   "id": "cade2088",
   "metadata": {},
   "outputs": [],
   "source": [
    "import requests\n",
    "\n",
    "response = requests.get(\n",
    "    'https://api.github.com/search/repositories',\n",
    "    params={'q': 'requests+language:python'},\n",
    "    headers={'Accept': 'application/vnd.github.v3.text-match+json'},\n",
    ")\n",
    "\n",
    "# View the new `text-matches` array which provides information\n",
    "# about your search term within the results\n",
    "data = response.json()\n",
    "print(data)\n",
    "print()\n",
    "print(data[\"items\"][0][\"name\"])\n",
    "print(data[\"items\"][0][\"description\"])\n",
    "print(data[\"items\"][0][\"text_matches\"])"
   ]
  },
  {
   "cell_type": "markdown",
   "id": "a8d73c12",
   "metadata": {},
   "source": [
    "---"
   ]
  },
  {
   "cell_type": "markdown",
   "id": "f4296a52",
   "metadata": {},
   "source": [
    "## Other HTTP methods"
   ]
  },
  {
   "cell_type": "markdown",
   "id": "4aef4181",
   "metadata": {},
   "source": [
    "https://developer.mozilla.org/en-US/docs/Web/HTTP/Methods"
   ]
  },
  {
   "cell_type": "markdown",
   "id": "b2d32ae4",
   "metadata": {},
   "source": [
    "Poleg GET metode so v knjiznjici implementirane na podoben način še POST, PUT, DELETE, HEAD, PATCH, OPTIONS.\n",
    "\n",
    "* POST - metoda posreduje podatke serverju\n",
    "* PUT - metoda posodobi določene že obstoječe podatke (večkratno klicanje PUT ima vedno isti rezultat. Večkratno klicanje POST pa ima lahko dodatne posledice)\n",
    "* DELETE - metoda izbriše podatke\n",
    "* HEAD - metoda zaprosi naj bodo v odgovoru samo headerji, ki bi bili vrnjeni, če bi ta klic bil GET klic. Primer: Če bi z GET metodo hoteli pridobiti veliko datoteko, lahko prvo uporabimo HEAD in preverimo header **Content-Length**\n",
    "* PATCH - metoda ima določene inštrukcije, kako posodobiti podatke na serverju \n",
    "* OPTIONS - metoda pridobi informacijo, katere http metode server podpira\n"
   ]
  },
  {
   "cell_type": "code",
   "execution_count": null,
   "id": "74d413be",
   "metadata": {},
   "outputs": [],
   "source": [
    "requests.post('https://httpbin.org/post', data={'key':'value'})\n",
    "requests.put('https://httpbin.org/put', data={'key':'value'})\n",
    "requests.delete('https://httpbin.org/delete')\n",
    "requests.head('https://httpbin.org/get')\n",
    "requests.patch('https://httpbin.org/patch', data={'key':'value'})\n",
    "requests.options('https://httpbin.org/get')"
   ]
  },
  {
   "cell_type": "markdown",
   "id": "47af0e22",
   "metadata": {},
   "source": [
    "### Message Body"
   ]
  },
  {
   "cell_type": "markdown",
   "id": "e60edd0f",
   "metadata": {},
   "source": [
    "Po HTTP specifikacijah, POST, PUT in PATCH metode posredujejo podatke znotraj **message body** namest preko query parametrov."
   ]
  },
  {
   "cell_type": "markdown",
   "id": "4b07854d",
   "metadata": {},
   "source": [
    "V requests knjiznjici je to implementirano tako, da naše podatke posredujemo v **data** parameter v obliki dictionary, list of tuples, bytes ali pa file-like objekta."
   ]
  },
  {
   "cell_type": "markdown",
   "id": "d2f57907",
   "metadata": {},
   "source": [
    "httpbin.org/post sprejme POST request in nam vrne informacije katere, smo mi posredovali v klicu."
   ]
  },
  {
   "cell_type": "code",
   "execution_count": null,
   "id": "ebc628ac",
   "metadata": {},
   "outputs": [],
   "source": [
    "response = requests.post('https://httpbin.org/post', data={'podatek':'HelloWorld!', 1: 200})\n",
    "\n",
    "print(response.text)"
   ]
  },
  {
   "cell_type": "markdown",
   "id": "1ab8d332",
   "metadata": {},
   "source": [
    "Primer, če podatke posredujemo v obliki tuples in a list:"
   ]
  },
  {
   "cell_type": "code",
   "execution_count": null,
   "id": "4f442e9f",
   "metadata": {},
   "outputs": [],
   "source": [
    "response = requests.post('https://httpbin.org/post', data=[('podatek','HelloWorld!'),(1,200)])\n",
    "\n",
    "print(response.text)"
   ]
  },
  {
   "cell_type": "markdown",
   "id": "d2fb0181",
   "metadata": {},
   "source": [
    "Če server od nas zahteva podatke v obliki json jih preprosto podamo metodu kot parameter **json**. Metoda nato nase podatke serializira in doda pravilen Content-Type header."
   ]
  },
  {
   "cell_type": "code",
   "execution_count": null,
   "id": "fbe764f3",
   "metadata": {},
   "outputs": [],
   "source": [
    "response = requests.post('https://httpbin.org/post', json={'podatek':'HelloWorld!', 1: 200})\n",
    "\n",
    "print(response.text)"
   ]
  },
  {
   "cell_type": "markdown",
   "id": "d5015a1b",
   "metadata": {},
   "source": [
    "## Inspecting our request"
   ]
  },
  {
   "cell_type": "markdown",
   "id": "74fc5b1e",
   "metadata": {},
   "source": [
    "Request katerega knjiznjica dejansko naredi lahko pregledamo znotraj našega response objekta."
   ]
  },
  {
   "cell_type": "code",
   "execution_count": null,
   "id": "c4c1e1e4",
   "metadata": {},
   "outputs": [],
   "source": [
    "response = requests.post('https://httpbin.org/post', json={'podatek':'HelloWorld!', 1: 200})\n",
    "\n",
    "print(response.request)\n",
    "print(\"URL:\\t\", response.request.url)\n",
    "print(\"Headers:\\t\", response.request.headers)\n",
    "print(\"Body:\\t\", response.request.body)"
   ]
  },
  {
   "cell_type": "markdown",
   "id": "ae0301a3",
   "metadata": {},
   "source": [
    "---"
   ]
  },
  {
   "cell_type": "markdown",
   "id": "db0e2452",
   "metadata": {},
   "source": [
    "## Authentication"
   ]
  },
  {
   "cell_type": "markdown",
   "id": "e75ecab6",
   "metadata": {},
   "source": [
    "Zaenkrat smo samo klicali javne API kateri niso potrebovali avtentikacije.\n",
    "\n",
    "Vendar večina APIjev zahteva neke vrste avtentikacijo, da vedo s kom komunicirajo."
   ]
  },
  {
   "cell_type": "markdown",
   "id": "1f301c79",
   "metadata": {},
   "source": [
    "Ponavadi se za avtentikacijo posreduje določene credentials znotraj Authorization headerja oziroma headerja katerega specificira server."
   ]
  },
  {
   "cell_type": "markdown",
   "id": "0f63fd69",
   "metadata": {},
   "source": [
    "Znotraj knjiznice lahko nase credentials dodamo kot **auth** parameter."
   ]
  },
  {
   "cell_type": "markdown",
   "id": "c09a75b7",
   "metadata": {},
   "source": [
    "Primer:\n",
    "\n",
    "Če obiščemo sledeči link https://httpbin.org/basic-auth/user_1/12345678 nas povpraša za username in password, ki ju lahko kot človek vnesemo. (če ne vpraša za vnos username in password odpri link v private oknu)\n",
    "\n",
    "Če želimo do iste spletne strani dostopati z našo skripto, moramo username in password podati skupaj z našim klicem."
   ]
  },
  {
   "cell_type": "code",
   "execution_count": null,
   "id": "0c6fa82e",
   "metadata": {},
   "outputs": [],
   "source": [
    "response = requests.get('https://httpbin.org/basic-auth/user_1/12345678', auth=(\"user_1\", \"12345678\"))\n",
    "print(response)\n",
    "print(response.json())"
   ]
  },
  {
   "cell_type": "code",
   "execution_count": null,
   "id": "6236c0ff",
   "metadata": {},
   "outputs": [],
   "source": []
  },
  {
   "cell_type": "markdown",
   "id": "2e7b4ec1",
   "metadata": {},
   "source": [
    "# Sessions"
   ]
  },
  {
   "cell_type": "markdown",
   "id": "3e83aaa4",
   "metadata": {},
   "source": [
    "Session's omogočajo, da se določeni podatki ohranijo preko večih različnih klicev."
   ]
  },
  {
   "cell_type": "markdown",
   "id": "8994c9ca",
   "metadata": {},
   "source": [
    "Vzemimo primer, kjer bomo nastavili random cookie in ne bomo uporabili session-a. Klic na https://httpbin.org/cookies/set ustvari cookie in nato opravi klic na https://httpbin.org/cookies ."
   ]
  },
  {
   "cell_type": "code",
   "execution_count": null,
   "id": "7832f85e",
   "metadata": {},
   "outputs": [],
   "source": [
    "import requests\n",
    "\n",
    "response = requests.get('https://httpbin.org/cookies/set',\n",
    "                 params={\"moj_cookie\": \"hello world!\"})\n",
    "print(response.text)"
   ]
  },
  {
   "cell_type": "markdown",
   "id": "3168140e",
   "metadata": {},
   "source": [
    "Če nato sami ponovno opravimo klic na https://httpbin.org/cookies vidimo, da našega cooki-a ni več."
   ]
  },
  {
   "cell_type": "code",
   "execution_count": null,
   "id": "d8b13417",
   "metadata": {},
   "outputs": [],
   "source": [
    "response = requests.get('https://httpbin.org/cookies')\n",
    "\n",
    "print(response.text)"
   ]
  },
  {
   "cell_type": "markdown",
   "id": "e81b85a5",
   "metadata": {},
   "source": [
    "Uporabimo sedaj Session objekt."
   ]
  },
  {
   "cell_type": "code",
   "execution_count": null,
   "id": "720d0f27",
   "metadata": {},
   "outputs": [],
   "source": [
    "import requests\n",
    "\n",
    "session = requests.Session()\n",
    "\n",
    "response = session.get('https://httpbin.org/cookies/set',\n",
    "                         params={\"moj_cookie\": \"hello world!\"})\n",
    "print(response.text)"
   ]
  },
  {
   "cell_type": "markdown",
   "id": "935b1237",
   "metadata": {},
   "source": [
    "Ko opravimo ponoven klic vidimo, da je naš cookie še vedno shranjen."
   ]
  },
  {
   "cell_type": "code",
   "execution_count": null,
   "id": "1a299cb1",
   "metadata": {},
   "outputs": [],
   "source": [
    "response = session.get('https://httpbin.org/cookies')\n",
    "print(response.text)"
   ]
  },
  {
   "cell_type": "markdown",
   "id": "006c21c3",
   "metadata": {},
   "source": [
    "---"
   ]
  },
  {
   "cell_type": "markdown",
   "id": "19cc8ba6",
   "metadata": {},
   "source": [
    "Session objekt nam lahko prav pride, ko želimo ohraniti informacijo o naši avtentikaciji preko večih klicev:"
   ]
  },
  {
   "cell_type": "code",
   "execution_count": null,
   "id": "f23c5ee1",
   "metadata": {},
   "outputs": [],
   "source": [
    "import requests\n",
    "\n",
    "session = requests.Session()\n",
    "session.auth = (\"user_1\", \"12345678\")\n",
    "\n",
    "response = session.get('https://httpbin.org/basic-auth/user_1/12345678')\n",
    "print(response)\n",
    "print(response.json())"
   ]
  },
  {
   "cell_type": "markdown",
   "id": "2b16a4e5",
   "metadata": {},
   "source": [
    "---"
   ]
  },
  {
   "cell_type": "markdown",
   "id": "fb7369fc",
   "metadata": {},
   "source": [
    "## Web Scraping with Beautiful Soup"
   ]
  },
  {
   "cell_type": "markdown",
   "id": "7d4ccac8",
   "metadata": {},
   "source": [
    "Problem se nam pojavi, če spletne strani nimajo API.\n",
    "\n",
    "Za primer vzemimo nalogo, kjer želimo pridobiti informacije o episodah za prvi 2 seriji Game of Thrones - No.overall, No. in season, Title, Directed by, Written by, Original air date, U.S. viewers (millions).\n",
    "> https://en.wikipedia.org/wiki/List_of_Game_of_Thrones_episodes\n",
    "\n",
    "Spletna stran v naši nalogi je napisana v HTML (HyperText Markup Language). Ta zapis spletne strani je posredovan našemu browserju in ta ga spremeni v nam prijazno obliko (dizajn, itd.). Dejanski HTML zapis lahko vidimo s pomočjo \"developers tools\" - Ctrl+Shift+I (Chrome)."
   ]
  },
  {
   "cell_type": "markdown",
   "id": "0d6adbee",
   "metadata": {},
   "source": [
    "In celotno to kodo (HTML) dobimo, če uporabimo naš zgornji postopek in naredimo GET klic na naš URL."
   ]
  },
  {
   "cell_type": "code",
   "execution_count": null,
   "id": "dbf5a0ef",
   "metadata": {
    "scrolled": true
   },
   "outputs": [],
   "source": [
    "import requests\n",
    "\n",
    "url = \"https://en.wikipedia.org/wiki/List_of_Game_of_Thrones_episodes\"\n",
    "r = requests.get(url)\n",
    "\n",
    "print(r.text)"
   ]
  },
  {
   "cell_type": "code",
   "execution_count": null,
   "id": "3d9c4368",
   "metadata": {},
   "outputs": [],
   "source": []
  },
  {
   "cell_type": "markdown",
   "id": "d0431218",
   "metadata": {},
   "source": [
    "### HTML Quick Overview"
   ]
  },
  {
   "cell_type": "markdown",
   "id": "85f7a404",
   "metadata": {},
   "source": [
    "*uprašat kolk poznajo HTML. Najbrš ne rabm razlagat kako je sestavljen?*"
   ]
  },
  {
   "cell_type": "code",
   "execution_count": null,
   "id": "98ab74b2",
   "metadata": {},
   "outputs": [],
   "source": []
  },
  {
   "cell_type": "markdown",
   "id": "af83469a",
   "metadata": {},
   "source": [
    "Dodatna vsebina:\n",
    "\n",
    "https://www.w3schools.com/html/default.asp"
   ]
  },
  {
   "cell_type": "markdown",
   "id": "205fb6e0",
   "metadata": {},
   "source": [
    "HTML je sestavljena iz elementov imenovanih **tags**.\n",
    "\n",
    "Najbolj osnoven tag je `<html> </html>`. Ta tag nam pove, da je vse znotraj njega HTML koda."
   ]
  },
  {
   "cell_type": "markdown",
   "id": "52ea2205",
   "metadata": {},
   "source": [
    "Znotraj `<html>` obstajata dva taga:\n",
    "* `<head></head>` - vsebuje meta podatke o naši spletni strani \n",
    "* `<body></body>` - vsebuje spletno stran katero vidimo v browserju (naslovi, text, slike, itd.)\n",
    "\n",
    "\n",
    "```html\n",
    "<html>\n",
    "    <head>\n",
    "    </head>\n",
    "    \n",
    "    <body>\n",
    "    </body>\n",
    "</html>\n",
    "```"
   ]
  },
  {
   "cell_type": "markdown",
   "id": "de3b63ee",
   "metadata": {},
   "source": [
    "Tage lahko vstavljamo znotraj drugih tagov, kot sta vstavljena `<head>` in `<body>` znotraj `<html>`. Tagi imajo tako lahko:\n",
    "* **parent tag** - tag znotraj katerega se nahajajo\n",
    "* **child tag** - tag, ki se nahaja znotraj njih\n",
    "* **sibling tag** - tagi, ki se nahajajo v istem parent tag-u"
   ]
  },
  {
   "cell_type": "markdown",
   "id": "d748a763",
   "metadata": {},
   "source": [
    "Za dodajanje teksta se najbolj uporablja `<p> Text </p>` tag.\n",
    "\n",
    "**example_01.html**\n",
    "```html\n",
    "<html>\n",
    "    <head>\n",
    "    </head>\n",
    "    \n",
    "    <body>\n",
    "        <p>Webscraping je proces pridobivanja podatkov iz interneta.</p>\n",
    "    </body>\n",
    "</html>\n",
    "```"
   ]
  },
  {
   "cell_type": "markdown",
   "id": "5ae86559",
   "metadata": {},
   "source": [
    "Če sedaj ponovno odpremo developer's tools lahko točno vidimo naši HTML kodo."
   ]
  },
  {
   "cell_type": "markdown",
   "id": "ec62c5b8",
   "metadata": {},
   "source": [
    "---"
   ]
  },
  {
   "cell_type": "markdown",
   "id": "704b1c99",
   "metadata": {},
   "source": [
    "Tag-i imajo tudi določene lastnosti / atribute katere lahko spreminjamo.\n",
    "\n",
    "Za primer vzemimo tag `<a></a>`, ki deluje kot hiperpovezava / link na drugo spletno stran.\n",
    "\n",
    "```html\n",
    "<a href=\"https://www.google.com\">Link</a>\n",
    "```\n",
    "\n",
    "Tag a ima atribut **href** katerega vrednost je *google.com*, ki nam pove na katero spletno stran naj nas hiperpovezava preusmeri, ko kliknemo na tekst *Link*."
   ]
  },
  {
   "cell_type": "markdown",
   "id": "22a515e0",
   "metadata": {},
   "source": [
    "**example_02.html**\n",
    "```html\n",
    "<html>\n",
    "    <head>\n",
    "    </head>\n",
    "    \n",
    "    <body>\n",
    "        <p>Webscraping je proces pridobivanja podatkov iz interneta.</p>\n",
    "        <a href=\"https://www.google.com\">Google brskalnik</a>\n",
    "    </body>\n",
    "</html>\n",
    "```"
   ]
  },
  {
   "cell_type": "markdown",
   "id": "780849a5",
   "metadata": {},
   "source": [
    "Dodatno lahko spreminjamo lastnosti tag-ov s pomočjo **class** in **id** atributov. Z njimi lahko spreminjamo izgled naših elementov (barva, velikost, ...) oziroma prikazovanje (element lahko skrijemo, naredimo transparentnega, itd.).\n",
    "\n",
    "Isti **class** si lahko deli več tag-ov, medtem ko **id** naj bi bil specifičen samo za en tag."
   ]
  },
  {
   "cell_type": "markdown",
   "id": "fdc18573",
   "metadata": {},
   "source": [
    "\n",
    "**example_03.html**\n",
    "```html\n",
    "<html>\n",
    "    <head>\n",
    "        <style>\n",
    "            #first_text {\n",
    "                font-size: 20px;\n",
    "            }\n",
    "            \n",
    "            .red_text {\n",
    "                color: red;\n",
    "            }\n",
    "        </style>\n",
    "    </head>\n",
    "    \n",
    "    <body>\n",
    "        <p id=\"first_text\">Webscraping je proces pridobivanja podatkov iz interneta.</p>\n",
    "        <a href=\"https://www.google.com\">Google brskalnik</a>\n",
    "        <p class=\"red_text\"> Ta tekst naj bo obarvan rdeče.</p> \n",
    "    </body>\n",
    "</html>\n",
    "```"
   ]
  },
  {
   "cell_type": "markdown",
   "id": "0bda9488",
   "metadata": {},
   "source": [
    "----"
   ]
  },
  {
   "cell_type": "markdown",
   "id": "5776c639",
   "metadata": {},
   "source": [
    "Poglejmo si sedaj našo nalogo.\n",
    "\n",
    "S pomočjo developer's tools lahko vidimo, da se podatki za prvo sezono nahajao znotraj `<table>` tag-ov, ki imajo **class=\"wikitable plainrowheaders wikiepisodetable\"**."
   ]
  },
  {
   "cell_type": "markdown",
   "id": "47a878f1",
   "metadata": {},
   "source": [
    "```HTML\n",
    "<table class=\"wikitable plainrowheaders wikiepisodetable\" style=\"width:100%\">\n",
    "    <tbody ... \n",
    "</table>\n",
    "```"
   ]
  },
  {
   "cell_type": "code",
   "execution_count": null,
   "id": "9399a4e7",
   "metadata": {},
   "outputs": [],
   "source": [
    "import requests\n",
    "\n",
    "url = \"https://en.wikipedia.org/wiki/List_of_Game_of_Thrones_episodes\"\n",
    "r = requests.get(url)\n",
    "\n",
    "print(r.text)"
   ]
  },
  {
   "cell_type": "markdown",
   "id": "0eab68d3",
   "metadata": {},
   "source": [
    "Sedaj bi lahko sami poiskali vse tabele sezon in ročno našli željene podatke. Vendar je to preveč zakomplicirano.\n",
    "\n",
    "Za lažje navigiranje po HTML kodi obstaja knjižnjica **BeautifulSoup**.\n",
    "\n",
    "```\n",
    "pip install beautifulsoup4\n",
    "```"
   ]
  },
  {
   "cell_type": "code",
   "execution_count": null,
   "id": "25679578",
   "metadata": {},
   "outputs": [],
   "source": [
    "import requests\n",
    "from bs4 import BeautifulSoup\n",
    "\n",
    "url = \"https://en.wikipedia.org/wiki/List_of_Game_of_Thrones_episodes\"\n",
    "r = requests.get(url)\n",
    "\n",
    "soup = BeautifulSoup(r.text, \"html.parser\")\n",
    "print(soup.prettify())"
   ]
  },
  {
   "cell_type": "markdown",
   "id": "e30db6fa",
   "metadata": {},
   "source": [
    "Ko ustvarimo BeautifulSoup objekt vanj vnesemo naš tekst in izberemo kateri parser naj uporabi. V našem primeru je to **HTML** ampak obstajajo še drugi, kot je XML.\n",
    "\n",
    "Nato uporabimo `prettify()` finkcijo za lepši izpis HTML kode."
   ]
  },
  {
   "cell_type": "markdown",
   "id": "5ac2b28a",
   "metadata": {},
   "source": [
    "---"
   ]
  },
  {
   "cell_type": "markdown",
   "id": "8347831e",
   "metadata": {},
   "source": [
    "Za začetek lahko izberemo vse **child tags** naše spletne strani, kar nam bo vrnilo osnovno strukturo `<!DOCTYPE html>` in `<html>` tags."
   ]
  },
  {
   "cell_type": "code",
   "execution_count": null,
   "id": "06342a2c",
   "metadata": {},
   "outputs": [],
   "source": [
    "soup_children = list(soup.children)\n",
    "print(type(soup_children))\n",
    "print(len(soup_children))\n",
    "print(soup_children)"
   ]
  },
  {
   "cell_type": "markdown",
   "id": "ccb66fbd",
   "metadata": {},
   "source": [
    "Izberimo zadnji element, ki predstavlja našo **html** kodo.\n",
    "\n",
    "Če preverimo njegov tip vidimo, da je to `bs4.element.Tag` - to je beautiful soup objekt, ki predstavlja naš tag."
   ]
  },
  {
   "cell_type": "code",
   "execution_count": null,
   "id": "10417f29",
   "metadata": {},
   "outputs": [],
   "source": [
    "html = list(soup.children)[2] # equivalent to soup.html\n",
    "print(type(html))\n",
    "print(html)"
   ]
  },
  {
   "cell_type": "markdown",
   "id": "111f5c72",
   "metadata": {},
   "source": [
    "Da vidimo ime našega tag-a lahko uporabimo `tag.name`. Da vidimo njegove atribute lahko uporabimo `tag.attrs`"
   ]
  },
  {
   "cell_type": "code",
   "execution_count": null,
   "id": "294162b0",
   "metadata": {},
   "outputs": [],
   "source": [
    "print(html.name)\n",
    "print(html.attrs)"
   ]
  },
  {
   "cell_type": "markdown",
   "id": "ddcb68e0",
   "metadata": {},
   "source": [
    "* class - definira razrede tag-a\n",
    "* lang - definira jezik v katerem je vsebina tag-a\n",
    "* dir - specificira smer texta (ltr -> left to right) https://www.w3schools.com/tags/att_dir.asp"
   ]
  },
  {
   "cell_type": "markdown",
   "id": "b8a842a1",
   "metadata": {},
   "source": [
    "Da se premaknemo naprej do naše tabele izberemo *children* od našega *html* tag-a. Specifično želimo **body**."
   ]
  },
  {
   "cell_type": "code",
   "execution_count": null,
   "id": "6325b631",
   "metadata": {},
   "outputs": [],
   "source": [
    "html_children = html.children\n",
    "for c in html_children:\n",
    "    print(c.name)\n",
    "    #print(c)\n",
    "    \n"
   ]
  },
  {
   "cell_type": "code",
   "execution_count": null,
   "id": "c3160c3c",
   "metadata": {},
   "outputs": [],
   "source": [
    "body = list(html.children)[3]\n",
    "print(body.name)\n",
    "print(body.attrs)"
   ]
  },
  {
   "cell_type": "markdown",
   "id": "d746ed69",
   "metadata": {},
   "source": [
    "In tako bi lahko nadaljevali dokler ne bi našli naših tabel."
   ]
  },
  {
   "cell_type": "markdown",
   "id": "ab6859a5",
   "metadata": {},
   "source": [
    "Ampak če želimo najti specifičen tag lahko uporabimo `.find()` metodo. V njej lahko specificiramo ime tag-a katerega iščemo, z `class_` parametrov lahko specificiramo katere **class** vrednosti ima in z `id_` parametrom lahko specificiramo njegov **id** vrednost."
   ]
  },
  {
   "cell_type": "code",
   "execution_count": null,
   "id": "06111e83",
   "metadata": {
    "scrolled": true
   },
   "outputs": [],
   "source": [
    "table = body.find(\"table\", class_=\"wikitable plainrowheaders wikiepisodetable\")\n",
    "print(type(table))\n",
    "print(table.name)\n",
    "print(table)"
   ]
  },
  {
   "cell_type": "markdown",
   "id": "741a3d18",
   "metadata": {},
   "source": [
    "Če si pogledamo kako je tabela sestavljena vidimo, da tabela vsebuje 1 child tag **tbody**.\n",
    "\n",
    "tbody nato vsebuje **tr** tag-e, ki predstavljajo vrstice. tr tag vsebuje **th** oziroma **td** tage, ki predstavljajo stolpce in vsebujejo naše iskane vrednosti."
   ]
  },
  {
   "cell_type": "markdown",
   "id": "11e965dc",
   "metadata": {},
   "source": [
    "Izluščimo iz tabele prvi 2 vrstici:"
   ]
  },
  {
   "cell_type": "code",
   "execution_count": null,
   "id": "4019171b",
   "metadata": {},
   "outputs": [],
   "source": [
    "for i in table.children:\n",
    "    print(i.name)"
   ]
  },
  {
   "cell_type": "code",
   "execution_count": null,
   "id": "2bf3f684",
   "metadata": {},
   "outputs": [],
   "source": [
    "tbody = list(table.children)[0]\n",
    "\n",
    "for row in list(tbody.children)[:2]:\n",
    "    print(row.name)\n",
    "    print(row)\n",
    "    print()"
   ]
  },
  {
   "cell_type": "code",
   "execution_count": null,
   "id": "92f7e70e",
   "metadata": {},
   "outputs": [],
   "source": [
    "rows = list(tbody.children)[:2]\n",
    "\n",
    "for row in rows:\n",
    "    print(row.name)\n",
    "    for column in row.children:\n",
    "        print(column.name, column.text)\n",
    "    print()"
   ]
  },
  {
   "cell_type": "markdown",
   "id": "cc493b92",
   "metadata": {},
   "source": [
    "---"
   ]
  },
  {
   "cell_type": "markdown",
   "id": "87500f21",
   "metadata": {},
   "source": [
    "Da najdemo več kot en tag lahko uporabimo metodo `find_all()`."
   ]
  },
  {
   "cell_type": "code",
   "execution_count": null,
   "id": "3697c68f",
   "metadata": {},
   "outputs": [],
   "source": [
    "tables = soup.find_all(\"table\", class_=\"wikitable plainrowheaders wikiepisodetable\")\n",
    "print(\"Našli smo \",len(tables), \"tabel.\")\n",
    "print(tables)"
   ]
  },
  {
   "cell_type": "code",
   "execution_count": null,
   "id": "58764a81",
   "metadata": {},
   "outputs": [],
   "source": [
    "for table in tables[:2]:\n",
    "    #print(table)\n",
    "    rows = table.find_all(\"tr\")\n",
    "    #print(rows)\n",
    "    for row in rows[:]:\n",
    "        #print(row)\n",
    "        tds = row.find_all(\"td\")\n",
    "        for td in tds[:]:\n",
    "            print(td.text)\n",
    "            \n",
    "        print()\n",
    "    print()"
   ]
  },
  {
   "cell_type": "markdown",
   "id": "cf3fdd73",
   "metadata": {},
   "source": [
    "Dodatno lahko sedaj pridobimo link vsake episode in odpremo njeno wikipedia spletno stran in poiščemo čas trajanja episode."
   ]
  },
  {
   "cell_type": "markdown",
   "id": "8a83434c",
   "metadata": {},
   "source": [
    "Naslov wikipedie strani episode pridobimo v imenu episode, ki je tudi link. Link tag ima atribut **href** katerega vrednost je iskani naslov."
   ]
  },
  {
   "cell_type": "code",
   "execution_count": null,
   "id": "185a75b6",
   "metadata": {
    "scrolled": true
   },
   "outputs": [],
   "source": [
    "for table in tables[:2]:\n",
    "    #print(table)\n",
    "    rows = table.find_all(\"tr\")\n",
    "    #print(rows)\n",
    "    for row in rows[1:3]:\n",
    "        #print(row)\n",
    "        tds = row.find_all(\"td\")\n",
    "        for td in tds[:]:\n",
    "            #print(td.text)\n",
    "            pass\n",
    "        \n",
    "        title_td = tds[1]\n",
    "        a = title_td.find(\"a\")\n",
    "        href = a[\"href\"] #a.attrs[\"href\"]\n",
    "        print(href)\n",
    "        url2 = f\"https://en.wikipedia.org{href}\"\n",
    "        r2 = requests.get(url2)\n",
    "        soup2 = BeautifulSoup(r2.text, \"html.parser\")\n",
    "        print(soup2.prettify())\n",
    "\n",
    "        print()\n",
    "    print()"
   ]
  },
  {
   "cell_type": "markdown",
   "id": "c7f49012",
   "metadata": {},
   "source": [
    "Sedaj ko dostopamo do spletne strani episode tam poiščemo kje se nahaja informacija o dolžini episode."
   ]
  },
  {
   "cell_type": "code",
   "execution_count": null,
   "id": "bdd04469",
   "metadata": {},
   "outputs": [],
   "source": [
    "for table in tables[:2]:\n",
    "    #print(table)\n",
    "    rows = table.find_all(\"tr\")\n",
    "    #print(rows)\n",
    "    for row in rows[1:3]:\n",
    "        #print(row)\n",
    "        tds = row.find_all(\"td\")\n",
    "        for td in tds[:]:\n",
    "            print(td.text)\n",
    "                    \n",
    "        title_td = tds[1]\n",
    "        a = title_td.find(\"a\")\n",
    "        href = a[\"href\"] #a.attrs[\"href\"]\n",
    "        print(href)\n",
    "        url2 = f\"https://en.wikipedia.org{href}\"\n",
    "        r2 = requests.get(url2)\n",
    "        soup2 = BeautifulSoup(r2.text, \"html.parser\")\n",
    "        \n",
    "        infobox_table = soup2.find_all(class_=\"infobox\")[0]\n",
    "        trs = infobox_table.find_all(\"tr\")\n",
    "        for tr in trs:\n",
    "            th = tr.find(\"th\")\n",
    "            if th and th.text == \"Running time\":\n",
    "                td = tr.find(\"td\")\n",
    "                print(td.text)\n",
    "                \n",
    "        print()\n",
    "    print()"
   ]
  },
  {
   "cell_type": "markdown",
   "id": "ab981e75",
   "metadata": {},
   "source": [
    "Sedaj, ko imamo podatek o dolžini episode lahko izluščimo točno številko in grafično prikažemo kako se je dolžina episode spreminjala tekom serije."
   ]
  },
  {
   "cell_type": "code",
   "execution_count": null,
   "id": "2617c7fd",
   "metadata": {
    "scrolled": false
   },
   "outputs": [],
   "source": [
    "import re\n",
    "import matplotlib.pyplot as plt\n",
    "episode_len = []\n",
    "\n",
    "for table in tables[:2]:\n",
    "    #print(table)\n",
    "    rows = table.find_all(\"tr\")\n",
    "    #print(rows)\n",
    "    for row in rows[1:]:\n",
    "        #print(row)\n",
    "        tds = row.find_all(\"td\")\n",
    "        for td in tds[:2]:\n",
    "            #print(td.text)\n",
    "            pass\n",
    "                    \n",
    "        title_td = tds[1]\n",
    "        a = title_td.find(\"a\")\n",
    "        href = a[\"href\"] #a.attrs[\"href\"]\n",
    "        print(href)\n",
    "        url2 = f\"https://en.wikipedia.org{href}\"\n",
    "        r2 = requests.get(url2)\n",
    "        soup2 = BeautifulSoup(r2.text, \"html.parser\")\n",
    "        \n",
    "        infobox_table = soup2.find_all(class_=\"infobox\")[0]\n",
    "        trs = infobox_table.find_all(\"tr\")\n",
    "        for tr in trs:\n",
    "            th = tr.find(\"th\")\n",
    "            if th and th.text == \"Running time\":\n",
    "                td = tr.find(\"td\")\n",
    "                print(td.text)\n",
    "                match = re.search(\"\\d+\", td.text)\n",
    "                runtime = match[0]\n",
    "                print(runtime)\n",
    "                episode_len.append(int(runtime))\n",
    "                \n",
    "        print()\n",
    "    print()\n",
    "    \n",
    "plt.plot(range(len(episode_len)) , episode_len)\n",
    "plt.show()"
   ]
  },
  {
   "cell_type": "code",
   "execution_count": null,
   "id": "ea9ee4d8",
   "metadata": {},
   "outputs": [],
   "source": []
  },
  {
   "cell_type": "code",
   "execution_count": null,
   "id": "4e3b2e4c",
   "metadata": {},
   "outputs": [],
   "source": []
  },
  {
   "cell_type": "markdown",
   "id": "f2e0b2c6",
   "metadata": {},
   "source": [
    "<div class=\"alert alert-block alert-info\">\n",
    "<h1><b>Naloga: </b></h1>\n",
    "Ustvarite skripto, ki pridobi informacije o 250 najbolje ocenjenih filmih.\n",
    "    \n",
    "https://www.imdb.com/chart/top/?ref_=nv_mv_250\n",
    "    \n",
    "Skripta naj pridobi naslov filma, oceno filma in trajanje filma. Trajanje filma dobite, če odprete specifični film.\n",
    "</div>\n",
    "\n",
    "```python\n",
    "Output:\n",
    "Kaznilnica odrešitve\n",
    "9.2\n",
    "2h 22m\n",
    "\n",
    "Boter\n",
    "9.1\n",
    "2h 55m\n",
    "\n",
    "Boter, II. del\n",
    "9.0\n",
    "3h 22m\n",
    "\n",
    "Vitez teme\n",
    "9.0\n",
    "2h 32m\n",
    "\n",
    "...\n",
    "```"
   ]
  },
  {
   "cell_type": "code",
   "execution_count": null,
   "id": "8d8f15df",
   "metadata": {
    "scrolled": true
   },
   "outputs": [],
   "source": [
    "# Rešitev\n",
    "import requests\n",
    "from bs4 import BeautifulSoup\n",
    "url = \"https://www.imdb.com/chart/top/?ref_=nv_mv_250\"\n",
    "\n",
    "r = requests.get(url)\n",
    "soup = BeautifulSoup(r.content, \"html.parser\")\n",
    "\n",
    "table = soup.find_all(\"tbody\", class_=\"lister-list\")[0]\n",
    "\n",
    "trs = table.find_all(\"tr\")\n",
    "for tr in trs[:10]:\n",
    "    title_col = tr.find_all(class_=\"titleColumn\")[0]\n",
    "    a = title_col.find_all(\"a\")[0]\n",
    "    title = a.text\n",
    "    print(title)\n",
    "    \n",
    "    rating_col = tr.find_all(class_=\"ratingColumn imdbRating\")[0]\n",
    "    rating = rating_col.find_all(\"strong\")[0].text\n",
    "    print(rating)\n",
    "    \n",
    "    href = a[\"href\"]\n",
    "    #print(a.attrs[\"href\"])\n",
    "    url = f\"https://www.imdb.com{href}\"\n",
    "    #print(url)\n",
    "    \n",
    "    r2 = requests.get(url)\n",
    "    soup2 = BeautifulSoup(r2.content, \"html.parser\")\n",
    "    #print(soup2.html)\n",
    "    \n",
    "    ul = soup2.find_all(\"ul\", class_=\"ipc-inline-list\")\n",
    "    #print(len(ul))\n",
    "    #print(ul)\n",
    "    lis = ul[0].find_all(\"li\")\n",
    "    li = lis[-1]\n",
    "    print(li.text)\n",
    "    \n",
    "    print()"
   ]
  },
  {
   "cell_type": "code",
   "execution_count": null,
   "id": "00cfa1ef",
   "metadata": {},
   "outputs": [],
   "source": []
  },
  {
   "cell_type": "code",
   "execution_count": null,
   "id": "bd5a9a68",
   "metadata": {},
   "outputs": [],
   "source": []
  },
  {
   "cell_type": "markdown",
   "id": "7f4fea01",
   "metadata": {},
   "source": [
    "# Web Scraping with Selenium"
   ]
  },
  {
   "cell_type": "markdown",
   "id": "14cd9477",
   "metadata": {},
   "source": [
    "https://www.browserstack.com/guide/python-selenium-to-run-web-automation-test\n",
    "\n",
    "https://selenium-python.readthedocs.io/\n",
    "\n",
    "1. https://www.geeksforgeeks.org/selenium-python-tutorial/"
   ]
  },
  {
   "cell_type": "markdown",
   "id": "513d3d8d",
   "metadata": {},
   "source": [
    "Selenium je orodje, s katerim lahko naš program kontrolira browser (Chrome, Mozzila, ...). Selenium je napisan v večih jezikih (Java, C#, ...) med drugim tudi v Pythonu.\n",
    "\n",
    "Uporablja se za pisanje avtomatičnih testov za vaše aplikacije oziroma, če je potrebno pridobiti podatke iz bolj zaščitenih spletnih strani oziroma spletnih strani, ki uporabljajo veliko JavaScript-a."
   ]
  },
  {
   "cell_type": "markdown",
   "id": "56ce0c10",
   "metadata": {},
   "source": [
    "```python\n",
    "pip install selenium\n",
    "```"
   ]
  },
  {
   "cell_type": "markdown",
   "id": "7b5bd865",
   "metadata": {},
   "source": [
    "Za delovanje potrebujemo še browser driver:\n",
    "> https://selenium-python.readthedocs.io/installation.html\n",
    "\n",
    "**1.5. Drivers**\n",
    "\n",
    ">Selenium requires a driver to interface with the chosen browser. Firefox, for example, requires geckodriver, which needs to be installed before the below examples can be run. Make sure it’s in your PATH, e. g., place it in /usr/bin or /usr/local/bin.\n",
    "\n",
    ">Failure to observe this step will give you an error selenium.common.exceptions.WebDriverException: Message: ‘geckodriver’ executable needs to be in PATH.\n",
    "\n",
    ">Other supported browsers will have their own drivers available. Links to some of the more popular browser drivers follow.\n",
    "\n",
    "* Chrome:\thttps://sites.google.com/chromium.org/driver/\n",
    "* * To find chrome version go to -> RIght upper corner, \"About chrome\"\n",
    "* Edge:\thttps://developer.microsoft.com/en-us/microsoft-edge/tools/webdriver/\n",
    "* Firefox:\thttps://github.com/mozilla/geckodriver/releases\n",
    "* Safari:\thttps://webkit.org/blog/6900/webdriver-support-in-safari-10/\n",
    "\n",
    "For more information about driver installation, please refer the official documentation."
   ]
  },
  {
   "cell_type": "markdown",
   "id": "130e30c6",
   "metadata": {},
   "source": [
    "(Dela na Google Chrome). Če vrže napako, da maš samo **data;** v address bar-u pol lahko inštaliramo starejšo verzijo chrome:\n",
    "\n",
    "```sh\n",
    "$ wget -O /tmp/chrome.deb https://dl.google.com/linux/chrome/deb/pool/main/g/google-chrome-stable/google-chrome-stable_96.0.4664.45-1_amd64.deb\n",
    "```\n",
    "> 1. Zdownloada starejšo verzijo google chrome v /temp/chrome.deb\n",
    "\n",
    "```sh\n",
    "$ sudo apt install -y /tmp/chrome.deb\n",
    "```\n",
    "> 2. Inštalira chrome \n",
    "\n",
    "\n",
    "```sh\n",
    "$ rm /tmp/chrome.deb\n",
    "```\n",
    "> 3. Zbriše zdownloadano datoteko"
   ]
  },
  {
   "cell_type": "markdown",
   "id": "1eb24f6e",
   "metadata": {},
   "source": [
    "---"
   ]
  },
  {
   "cell_type": "markdown",
   "id": "df1f36e8",
   "metadata": {},
   "source": [
    "Uporabmo realni primer in sproti kažemo še druge možnosti (druge možnosti iskanja elementov, waits, itd...)"
   ]
  },
  {
   "cell_type": "code",
   "execution_count": null,
   "id": "46386e1f",
   "metadata": {},
   "outputs": [],
   "source": []
  },
  {
   "cell_type": "markdown",
   "id": "50a23e53",
   "metadata": {},
   "source": [
    "Tekom naše naloge bomo parsali podatke iz sledeče spletne strani - https://livetoken.co/listings/topshot\n",
    "\n",
    "Na tej spletni strani si lahko pogledamo market z NBA Top Shot Moments - na splošno povedano so izseki iz NBA tekem, katere lahko zbiralci kupujejo in prodajajo.\n",
    "\n",
    "Naš cilj je ustvariti skripto, ki preveri cene naših momentov.\n",
    "\n",
    "```python\n",
    "my_portfolio = [\n",
    "        {\"Name\": \"LUKA DONČIĆ\" ,\n",
    "         \"Type\": \"Assist\",\n",
    "         \"Date\": \"1/17/2021\",},        \n",
    "        \n",
    "        {\"Name\": \"JAMYCHAL GREEN\",\n",
    "         \"Type\": \"Dunk\",\n",
    "         \"Date\": \"1/3/2021\",},        \n",
    "        \n",
    "        {\"Name\": \"T.J. MCCONNELL\",\n",
    "         \"Type\": \"Assist\",\n",
    "         \"Date\": \"12/23/2020\",},\n",
    "        ]  \n",
    "```"
   ]
  },
  {
   "cell_type": "markdown",
   "id": "f3029e0e",
   "metadata": {},
   "source": [
    "Da dobimo ceno moramo:\n",
    "1. Obiskati stran - https://livetoken.co/listings/topshot\n",
    "2. V prvi drop down vpisati ime igralca\n",
    "3. V drugi dropdown vpisati datum in nato izbrati naš moment (ponavadi je en moment na datum)\n",
    "4. Sortirati od najcenejšega do najdražjega (v kolikor to ni default)\n",
    "5. Pridobiti ceno\n"
   ]
  },
  {
   "cell_type": "code",
   "execution_count": null,
   "id": "9ac12521",
   "metadata": {},
   "outputs": [],
   "source": []
  },
  {
   "cell_type": "markdown",
   "id": "585570ed",
   "metadata": {},
   "source": [
    "## 1. Obiskati spletno stran"
   ]
  },
  {
   "cell_type": "markdown",
   "id": "565691c7",
   "metadata": {},
   "source": [
    "Začeli bomo s tem, da zaženemo naš browser in odpremo spletno stran."
   ]
  },
  {
   "cell_type": "code",
   "execution_count": null,
   "id": "3b92cd9b",
   "metadata": {},
   "outputs": [],
   "source": [
    "import time\n",
    "\n",
    "from selenium import webdriver\n",
    "\n",
    "my_portfolio = [\n",
    "        {\"Name\": \"LUKA DONČIĆ\" ,\n",
    "         \"Type\": \"Assist\",\n",
    "         \"Date\": \"1/17/2021\",},        \n",
    "        \n",
    "        {\"Name\": \"JAMYCHAL GREEN\",\n",
    "         \"Type\": \"Dunk\",\n",
    "         \"Date\": \"1/3/2021\",},        \n",
    "        \n",
    "        {\"Name\": \"T.J. MCCONNELL\",\n",
    "         \"Type\": \"Assist\",\n",
    "         \"Date\": \"12/23/2020\",},\n",
    "]\n",
    "\n",
    "driver = webdriver.Chrome(\"./chromedriver_linux_96-0-4664-45\")\n",
    "driver.get(\"https://livetoken.co/listings/topshot\")\n",
    "time.sleep(5)\n",
    "driver.close()"
   ]
  },
  {
   "cell_type": "markdown",
   "id": "9235d876",
   "metadata": {},
   "source": [
    "S pomočjo `webdriver.Chrome()` metode definiramo kater browser bomo uporabljali in kje se nahaja naš driver.\n",
    "\n",
    "Nato s `driver.get()` izvedemo klic na določeno spletno stran. WeDriver bo počakal dokler strani ni naložen (dokler se ni sprožil **onload** event) in nato vrnil kontrolo naši python skripti. Tukaj je potrebno paziti, če stran uporablja veliko AJAX-a, ker naš webdriver ne bo znal določiti kdaj je stran dejansko popolnoma naložena.\n",
    "> **onload event** se sproži, ko se naložijo vse dependent zadeve, kot so slike, css, itd... https://developer.mozilla.org/en-US/docs/Web/API/Window/load_event\n",
    "\n",
    "Nato počakamo 5 sekund in ugasnemo naš driver."
   ]
  },
  {
   "cell_type": "markdown",
   "id": "be8bc334",
   "metadata": {},
   "source": [
    "Vidimo tudi, da smo dobili `DeprecationWarning`.\n",
    "> `DeprecationWarning: executable_path has been deprecated, please pass in a Service object`\n",
    "\n",
    "Z novejšo različico seleniuma je potek zagona driverja drugačen."
   ]
  },
  {
   "cell_type": "code",
   "execution_count": null,
   "id": "34e03055",
   "metadata": {},
   "outputs": [],
   "source": [
    "import time\n",
    "from selenium import webdriver\n",
    "from selenium.webdriver.chrome.service import Service\n",
    "\n",
    "my_portfolio = [\n",
    "        {\"Name\": \"LUKA DONČIĆ\" ,\n",
    "         \"Type\": \"Assist\",\n",
    "         \"Date\": \"1/17/2021\",},        \n",
    "        \n",
    "        {\"Name\": \"JAMYCHAL GREEN\",\n",
    "         \"Type\": \"Dunk\",\n",
    "         \"Date\": \"1/3/2021\",},        \n",
    "        \n",
    "        {\"Name\": \"T.J. MCCONNELL\",\n",
    "         \"Type\": \"Assist\",\n",
    "         \"Date\": \"12/23/2020\",},\n",
    "]\n",
    "\n",
    "s = Service(\"./chromedriver_linux_96-0-4664-45\")\n",
    "with webdriver.Chrome(service=s) as driver:\n",
    "    driver.get(\"https://livetoken.co/listings/topshot\")\n",
    "    time.sleep(5)"
   ]
  },
  {
   "cell_type": "markdown",
   "id": "fb3bc248",
   "metadata": {},
   "source": [
    "Sedaj prvo ustvarimo `Service()`objekt v katerem definiramo pot do našega driverja in nato ta objekt pošljemo  ` webdriver.Chrome()`.\n",
    "\n",
    "Dodatno smo naš driver odprli z `with` stavkom, tako da se po koncu naše skripte avtomatično ugasne."
   ]
  },
  {
   "cell_type": "markdown",
   "id": "da70898f",
   "metadata": {},
   "source": [
    "Za lepšo preglednost lahko naš browser odpremo v *maximised* načinu - čez cel ekran."
   ]
  },
  {
   "cell_type": "code",
   "execution_count": null,
   "id": "cfff4935",
   "metadata": {},
   "outputs": [],
   "source": [
    "import time\n",
    "from selenium import webdriver\n",
    "from selenium.webdriver.chrome.service import Service\n",
    "\n",
    "my_portfolio = [\n",
    "        {\"Name\": \"LUKA DONČIĆ\" ,\n",
    "         \"Type\": \"Assist\",\n",
    "         \"Date\": \"1/17/2021\",},        \n",
    "        \n",
    "        {\"Name\": \"JAMYCHAL GREEN\",\n",
    "         \"Type\": \"Dunk\",\n",
    "         \"Date\": \"1/3/2021\",},        \n",
    "        \n",
    "        {\"Name\": \"T.J. MCCONNELL\",\n",
    "         \"Type\": \"Assist\",\n",
    "         \"Date\": \"12/23/2020\",},\n",
    "]\n",
    "\n",
    "s = Service(\"./chromedriver_linux_96-0-4664-45\")\n",
    "with webdriver.Chrome(service=s) as driver:\n",
    "    driver.maximize_window()\n",
    "    driver.get(\"https://livetoken.co/listings/topshot\")\n",
    "    time.sleep(5)"
   ]
  },
  {
   "cell_type": "code",
   "execution_count": null,
   "id": "d4a8e3cc",
   "metadata": {},
   "outputs": [],
   "source": []
  },
  {
   "cell_type": "markdown",
   "id": "bfb81eec",
   "metadata": {},
   "source": [
    "## Vpisati ime v prvi dropdown"
   ]
  },
  {
   "cell_type": "markdown",
   "id": "8edd11da",
   "metadata": {},
   "source": [
    "Naslednji korak je izbrati prvi dropdown meni in vanj vpisati ime igralca."
   ]
  },
  {
   "cell_type": "markdown",
   "id": "d8ac8150",
   "metadata": {},
   "source": [
    "V seleniumu lahko do elementov dostopamo na različne načine. Nazaj bomo vedno dobili `WebElement` oziroma list `WebElement-ov`."
   ]
  },
  {
   "cell_type": "markdown",
   "id": "4d6a1586",
   "metadata": {},
   "source": [
    "Do njih dostopamo preko metode `find_element(by=BY, value=value)`, ki nam vrne prvi element, ki pade v naš kriterij. Oziroma preko metode `find_elements()`, ki nam vrne list elementov, ki padejo v naš kriterij.\n",
    "\n",
    "Naše kriterije iskanja določamo s pomočjo parametra **by** in **value**. Iščemo lahko preko **BY.ID**, **BY.CLASS_NAME**, **BY.CSS_SELECTOR**, **BY.TAG_NAME**, itd.\n",
    "\n",
    "V kolikor ne najdemo nobenega elementa dobimo `NoSuchElementException`."
   ]
  },
  {
   "cell_type": "markdown",
   "id": "a16576d9",
   "metadata": {},
   "source": [
    "> CSS SELECTORS: https://www.w3schools.com/cssref/css_selectors.asp"
   ]
  },
  {
   "cell_type": "markdown",
   "id": "423de279",
   "metadata": {},
   "source": [
    "Vse te vrednosti lahko najdemo s pomočjo **developers tools** - Chrome (F12 oziroma desni klik in *inspect*)."
   ]
  },
  {
   "cell_type": "markdown",
   "id": "dbadc804",
   "metadata": {},
   "source": [
    "Dodatno bomo še izpisali HTML kodo našega prejetega elementa."
   ]
  },
  {
   "cell_type": "code",
   "execution_count": null,
   "id": "ca00abd2",
   "metadata": {},
   "outputs": [],
   "source": [
    "import time\n",
    "from selenium import webdriver\n",
    "from selenium.webdriver.chrome.service import Service\n",
    "# vvvvv     HERE     vvvvv\n",
    "from selenium.webdriver.common.by import By\n",
    "# ^^^^^     HERE     ^^^^^\n",
    "\n",
    "my_portfolio = [\n",
    "        {\"Name\": \"LUKA DONČIĆ\" ,\n",
    "         \"Type\": \"Assist\",\n",
    "         \"Date\": \"1/17/2021\",},        \n",
    "        \n",
    "        {\"Name\": \"JAMYCHAL GREEN\",\n",
    "         \"Type\": \"Dunk\",\n",
    "         \"Date\": \"1/3/2021\",},        \n",
    "        \n",
    "        {\"Name\": \"T.J. MCCONNELL\",\n",
    "         \"Type\": \"Assist\",\n",
    "         \"Date\": \"12/23/2020\",},\n",
    "]\n",
    "\n",
    "s = Service(\"./chromedriver_linux_96-0-4664-45\")\n",
    "with webdriver.Chrome(service=s) as driver:\n",
    "    driver.maximize_window()\n",
    "    driver.get(\"https://livetoken.co/listings/topshot\")\n",
    "    \n",
    "    # vvvvv     HERE     vvvvv\n",
    "    el = driver.find_element(by=By.ID, value=\"title\")\n",
    "    el = driver.find_element(by=By.CLASS_NAME, value=\"navLinks\")\n",
    "    el = driver.find_element(by=By.TAG_NAME, value=\"li\")\n",
    "    el = driver.find_element(by=By.CSS_SELECTOR, value=\".navLinks:last-child\")\n",
    "    \n",
    "    print(el.get_attribute('outerHTML'))\n",
    "    # ^^^^^     HERE     ^^^^^\n",
    "    \n",
    "    time.sleep(5)"
   ]
  },
  {
   "cell_type": "markdown",
   "id": "9eb0123f",
   "metadata": {},
   "source": [
    "Da dobimo več element naenkrat lahko rečemo:"
   ]
  },
  {
   "cell_type": "code",
   "execution_count": null,
   "id": "c0fe4877",
   "metadata": {},
   "outputs": [],
   "source": [
    "import time\n",
    "from selenium import webdriver\n",
    "from selenium.webdriver.chrome.service import Service\n",
    "from selenium.webdriver.common.by import By\n",
    "\n",
    "my_portfolio = [\n",
    "        {\"Name\": \"LUKA DONČIĆ\" ,\n",
    "         \"Type\": \"Assist\",\n",
    "         \"Date\": \"1/17/2021\",},        \n",
    "        \n",
    "        {\"Name\": \"JAMYCHAL GREEN\",\n",
    "         \"Type\": \"Dunk\",\n",
    "         \"Date\": \"1/3/2021\",},        \n",
    "        \n",
    "        {\"Name\": \"T.J. MCCONNELL\",\n",
    "         \"Type\": \"Assist\",\n",
    "         \"Date\": \"12/23/2020\",},\n",
    "]\n",
    "\n",
    "s = Service(\"./chromedriver_linux_96-0-4664-45\")\n",
    "with webdriver.Chrome(service=s) as driver:\n",
    "    driver.maximize_window()\n",
    "    driver.get(\"https://livetoken.co/listings/topshot\")\n",
    "    \n",
    "    # vvvvv     HERE     vvvvv\n",
    "    elements = driver.find_elements(by=By.CLASS_NAME, value=\"navLinks\")\n",
    "    for el in elements:\n",
    "        print(el.get_attribute('outerHTML'))\n",
    "    # ^^^^^     HERE     ^^^^^\n",
    "    \n",
    "    time.sleep(5)"
   ]
  },
  {
   "cell_type": "markdown",
   "id": "a8f29bba",
   "metadata": {},
   "source": [
    "---"
   ]
  },
  {
   "cell_type": "markdown",
   "id": "5171c4b9",
   "metadata": {},
   "source": [
    "Če pogledamo HTML kodo našega dropdown menija je sledeča:\n",
    "```HTML\n",
    "<div class=\"vs__selected-options\">\n",
    "    <span class=\"vs__selected\">\n",
    "            All Players\n",
    "    <!----></span>\n",
    "    <input aria-autocomplete=\"list\" aria-labelledby=\"vs1__combobox\" aria-controls=\"vs1__listbox\" type=\"search\" autocomplete=\"off\" class=\"vs__search\">\n",
    "</div>\n",
    "```"
   ]
  },
  {
   "cell_type": "code",
   "execution_count": null,
   "id": "5666cd4a",
   "metadata": {},
   "outputs": [],
   "source": [
    "import time\n",
    "from selenium import webdriver\n",
    "from selenium.webdriver.chrome.service import Service\n",
    "from selenium.webdriver.common.by import By\n",
    "\n",
    "my_portfolio = [\n",
    "        {\"Name\": \"LUKA DONČIĆ\" ,\n",
    "         \"Type\": \"Assist\",\n",
    "         \"Date\": \"1/17/2021\",},        \n",
    "        \n",
    "        {\"Name\": \"JAMYCHAL GREEN\",\n",
    "         \"Type\": \"Dunk\",\n",
    "         \"Date\": \"1/3/2021\",},        \n",
    "        \n",
    "        {\"Name\": \"T.J. MCCONNELL\",\n",
    "         \"Type\": \"Assist\",\n",
    "         \"Date\": \"12/23/2020\",},\n",
    "]\n",
    "\n",
    "s = Service(\"./chromedriver_linux_96-0-4664-45\")\n",
    "with webdriver.Chrome(service=s) as driver:\n",
    "    driver.maximize_window()\n",
    "    driver.get(\"https://livetoken.co/listings/topshot\")\n",
    "    \n",
    "    # vvvvv     HERE     vvvvv\n",
    "    name_field = driver.find_element(by=By.CSS_SELECTOR, value=\"div.vs__selected-options\")\n",
    "    print(name_field.get_attribute('outerHTML'))\n",
    "    # ^^^^^     HERE     ^^^^^\n",
    "    \n",
    "    time.sleep(5)"
   ]
  },
  {
   "cell_type": "markdown",
   "id": "2309c8e6",
   "metadata": {},
   "source": [
    "Sedaj, ko lahko dostopamo do našega dropdown menija, hočemo vanj vpisati ime košarkaša."
   ]
  },
  {
   "cell_type": "markdown",
   "id": "ff016639",
   "metadata": {},
   "source": [
    "Da simuliramo vnos črk v nek element uporabimo metodo `send_keys()`."
   ]
  },
  {
   "cell_type": "code",
   "execution_count": null,
   "id": "b6d0dcae",
   "metadata": {},
   "outputs": [],
   "source": [
    "import time\n",
    "from selenium import webdriver\n",
    "from selenium.webdriver.chrome.service import Service\n",
    "from selenium.webdriver.common.by import By\n",
    "\n",
    "my_portfolio = [\n",
    "        {\"Name\": \"LUKA DONČIĆ\" ,\n",
    "         \"Type\": \"Assist\",\n",
    "         \"Date\": \"1/17/2021\",},        \n",
    "        \n",
    "        {\"Name\": \"JAMYCHAL GREEN\",\n",
    "         \"Type\": \"Dunk\",\n",
    "         \"Date\": \"1/3/2021\",},        \n",
    "        \n",
    "        {\"Name\": \"T.J. MCCONNELL\",\n",
    "         \"Type\": \"Assist\",\n",
    "         \"Date\": \"12/23/2020\",},\n",
    "]\n",
    "\n",
    "s = Service(\"./chromedriver_linux_96-0-4664-45\")\n",
    "with webdriver.Chrome(service=s) as driver:\n",
    "    driver.maximize_window()\n",
    "    driver.get(\"https://livetoken.co/listings/topshot\")\n",
    "    \n",
    "    name_field = driver.find_element(by=By.CSS_SELECTOR, value=\"div.vs__selected-options input\")\n",
    "    print(name_field.get_attribute('outerHTML'))\n",
    "    # vvvvv     HERE     vvvvv\n",
    "    name_field.send_keys(my_portfolio[0][\"Name\"])\n",
    "    # ^^^^^     HERE     ^^^^^\n",
    "    \n",
    "    time.sleep(5)"
   ]
  },
  {
   "cell_type": "markdown",
   "id": "0ddcacbf",
   "metadata": {},
   "source": [
    "Sedaj dobimo `ElementNotInteractableException`. To pomeni, da v element še ne moremo vnašati črk. Ponavadi kakšen drug element stoji v ospredju (na primer gumb, ki čaka da sprejmemo ali zavrnemo piškotke) in moramo počakat, da izgine oziroma ga sami odklikati stran."
   ]
  },
  {
   "cell_type": "markdown",
   "id": "f13e737d",
   "metadata": {},
   "source": [
    "Najbolj osnovna rešitev je, da preprosto počakamo še nekaj časa:"
   ]
  },
  {
   "cell_type": "code",
   "execution_count": null,
   "id": "2e9f42ce",
   "metadata": {},
   "outputs": [],
   "source": [
    "import time\n",
    "from selenium import webdriver\n",
    "from selenium.webdriver.chrome.service import Service\n",
    "from selenium.webdriver.common.by import By\n",
    "\n",
    "my_portfolio = [\n",
    "        {\"Name\": \"LUKA DONČIĆ\" ,\n",
    "         \"Type\": \"Assist\",\n",
    "         \"Date\": \"1/17/2021\",},        \n",
    "        \n",
    "        {\"Name\": \"JAMYCHAL GREEN\",\n",
    "         \"Type\": \"Dunk\",\n",
    "         \"Date\": \"1/3/2021\",},        \n",
    "        \n",
    "        {\"Name\": \"T.J. MCCONNELL\",\n",
    "         \"Type\": \"Assist\",\n",
    "         \"Date\": \"12/23/2020\",},\n",
    "]\n",
    "\n",
    "s = Service(\"./chromedriver101_0_4951_41\")\n",
    "with webdriver.Chrome(service=s) as driver:\n",
    "    driver.maximize_window()\n",
    "    driver.get(\"https://livetoken.co/listings/topshot\")\n",
    "    \n",
    "    name_field = driver.find_element(by=By.CSS_SELECTOR, value=\"div.vs__selected-options input\")\n",
    "    print(name_field.get_attribute('outerHTML'))\n",
    "    # vvvvv     HERE     vvvvv\n",
    "    time.sleep(10)\n",
    "    name_field.send_keys(my_portfolio[0][\"Name\"])\n",
    "    # ^^^^^     HERE     ^^^^^\n",
    "    \n",
    "    time.sleep(5)"
   ]
  },
  {
   "cell_type": "code",
   "execution_count": null,
   "id": "7ff236d1",
   "metadata": {},
   "outputs": [],
   "source": []
  },
  {
   "cell_type": "markdown",
   "id": "8f740be3",
   "metadata": {},
   "source": [
    "Namesto čakanja lahko v seleniumu določimo **Explicit Wait** oziroma specifični vzrok čakanja.\n",
    "\n",
    "V našem primeru čakamo, da naš element postane \"clickable\"."
   ]
  },
  {
   "cell_type": "code",
   "execution_count": null,
   "id": "2e1d1468",
   "metadata": {},
   "outputs": [],
   "source": [
    "import time\n",
    "from selenium import webdriver\n",
    "from selenium.webdriver.chrome.service import Service\n",
    "from selenium.webdriver.common.by import By\n",
    "# vvvvv     HERE     vvvvv\n",
    "from selenium.webdriver.support.ui import WebDriverWait\n",
    "from selenium.webdriver.support import expected_conditions as EC\n",
    "# ^^^^^     HERE     ^^^^^\n",
    "\n",
    "my_portfolio = [\n",
    "        {\"Name\": \"LUKA DONČIĆ\" ,\n",
    "         \"Type\": \"Assist\",\n",
    "         \"Date\": \"1/17/2021\",},        \n",
    "        \n",
    "        {\"Name\": \"JAMYCHAL GREEN\",\n",
    "         \"Type\": \"Dunk\",\n",
    "         \"Date\": \"1/3/2021\",},        \n",
    "        \n",
    "        {\"Name\": \"T.J. MCCONNELL\",\n",
    "         \"Type\": \"Assist\",\n",
    "         \"Date\": \"12/23/2020\",},\n",
    "]\n",
    "\n",
    "s = Service(\"./chromedriver_linux_96-0-4664-45\")\n",
    "with webdriver.Chrome(service=s) as driver:\n",
    "    driver.maximize_window()\n",
    "    driver.get(\"https://livetoken.co/listings/topshot\")\n",
    "    \n",
    "    name_field = driver.find_element(by=By.CSS_SELECTOR, value=\"div.vs__selected-options input\")\n",
    "    print(name_field.get_attribute('outerHTML'))\n",
    "    # vvvvv     HERE     vvvvv\n",
    "    WebDriverWait(driver, 10).until(EC.element_to_be_clickable(name_field))\n",
    "    name_field.send_keys(my_portfolio[0][\"Name\"])\n",
    "    # ^^^^^     HERE     ^^^^^\n",
    "    \n",
    "    time.sleep(5)"
   ]
  },
  {
   "cell_type": "markdown",
   "id": "eecd160b",
   "metadata": {},
   "source": [
    "Naš driver bo sedaj eksplicitno počakal 10sekund, da je naš element \"clickable\". Če naš element ne postane clickable, driver vrže error."
   ]
  },
  {
   "cell_type": "markdown",
   "id": "6b3a33b3",
   "metadata": {},
   "source": [
    "---"
   ]
  },
  {
   "cell_type": "markdown",
   "id": "2120ec79",
   "metadata": {},
   "source": [
    "Sedaj moramo klikniti \"ENTER\" in nato ponoviti postopek še za **All Moments** element.\n",
    "\n",
    "Privzamemo, da za specifičen datum obstaja le ena vrednost tako, da bomo vpisali le datum."
   ]
  },
  {
   "cell_type": "code",
   "execution_count": null,
   "id": "96d5dacb",
   "metadata": {},
   "outputs": [],
   "source": [
    "import time\n",
    "from selenium import webdriver\n",
    "from selenium.webdriver.chrome.service import Service\n",
    "from selenium.webdriver.common.by import By\n",
    "from selenium.webdriver.support.ui import WebDriverWait\n",
    "from selenium.webdriver.support import expected_conditions as EC\n",
    "# vvvvv     HERE     vvvvv\n",
    "from selenium.webdriver.common.keys import Keys\n",
    "# ^^^^^     HERE     ^^^^^\n",
    "\n",
    "my_portfolio = [\n",
    "        {\"Name\": \"LUKA DONČIĆ\" ,\n",
    "         \"Type\": \"Assist\",\n",
    "         \"Date\": \"1/17/2021\",},        \n",
    "        \n",
    "        {\"Name\": \"JAMYCHAL GREEN\",\n",
    "         \"Type\": \"Dunk\",\n",
    "         \"Date\": \"1/3/2021\",},        \n",
    "        \n",
    "        {\"Name\": \"T.J. MCCONNELL\",\n",
    "         \"Type\": \"Assist\",\n",
    "         \"Date\": \"12/23/2020\",},\n",
    "]\n",
    "\n",
    "s = Service(\"./chromedriver_linux_96-0-4664-45\")\n",
    "with webdriver.Chrome(service=s) as driver:\n",
    "    driver.maximize_window()\n",
    "    driver.get(\"https://livetoken.co/listings/topshot\")\n",
    "    \n",
    "    name_field = driver.find_element(by=By.CSS_SELECTOR, value=\"div.vs__selected-options input\")\n",
    "    print(name_field.get_attribute('outerHTML'))\n",
    "    WebDriverWait(driver, 10).until(EC.element_to_be_clickable(name_field))\n",
    "    name_field.send_keys(my_portfolio[0][\"Name\"])\n",
    "    # vvvvv     HERE     vvvvv\n",
    "    name_field.send_keys(Keys.ENTER)\n",
    "    # ^^^^^     HERE     ^^^^^\n",
    "    \n",
    "    time.sleep(5)"
   ]
  },
  {
   "cell_type": "markdown",
   "id": "f3bc52c3",
   "metadata": {},
   "source": [
    "## Vpis datuma v drugi dropdown meni"
   ]
  },
  {
   "cell_type": "markdown",
   "id": "682cde8f",
   "metadata": {},
   "source": [
    "In pa ponovimo postopek še za drugi dropdown meni. Prvo moramo vnesti ime, nato se nam pokaže drugi dropdown meni."
   ]
  },
  {
   "cell_type": "markdown",
   "id": "a145d171",
   "metadata": {},
   "source": [
    "HTML koda izgleda nekako sledeče:\n",
    "```HTML\n",
    "<div class=\"vs__selected-options\"><span class=\"vs__selected\">\n",
    "            All Moments\n",
    "           <!----></span> <input aria-autocomplete=\"list\" aria-labelledby=\"vs3__combobox\" aria-controls=\"vs3__listbox\" type=\"search\" autocomplete=\"off\" class=\"vs__search\"></div>\n",
    "```"
   ]
  },
  {
   "cell_type": "code",
   "execution_count": null,
   "id": "e0841496",
   "metadata": {},
   "outputs": [],
   "source": [
    "import time\n",
    "from selenium import webdriver\n",
    "from selenium.webdriver.chrome.service import Service\n",
    "from selenium.webdriver.common.by import By\n",
    "from selenium.webdriver.support.ui import WebDriverWait\n",
    "from selenium.webdriver.support import expected_conditions as EC\n",
    "from selenium.webdriver.common.keys import Keys\n",
    "\n",
    "my_portfolio = [\n",
    "        {\"Name\": \"LUKA DONČIĆ\" ,\n",
    "         \"Type\": \"Assist\",\n",
    "         \"Date\": \"1/17/2021\",},        \n",
    "        \n",
    "        {\"Name\": \"JAMYCHAL GREEN\",\n",
    "         \"Type\": \"Dunk\",\n",
    "         \"Date\": \"1/3/2021\",},        \n",
    "        \n",
    "        {\"Name\": \"T.J. MCCONNELL\",\n",
    "         \"Type\": \"Assist\",\n",
    "         \"Date\": \"12/23/2020\",},\n",
    "]\n",
    "\n",
    "s = Service(\"./chromedriver_linux_96-0-4664-45\")\n",
    "with webdriver.Chrome(service=s) as driver:\n",
    "    driver.maximize_window()\n",
    "    driver.get(\"https://livetoken.co/listings/topshot\")\n",
    "    \n",
    "    name_field = driver.find_element(by=By.CSS_SELECTOR, value=\"div.vs__selected-options input\")\n",
    "    print(name_field.get_attribute('outerHTML'))\n",
    "    WebDriverWait(driver, 10).until(EC.element_to_be_clickable(name_field))\n",
    "    name_field.send_keys(my_portfolio[0][\"Name\"])\n",
    "    name_field.send_keys(Keys.ENTER)\n",
    "    \n",
    "    # vvvvv     HERE     vvvvv\n",
    "    all_moments_field = driver.find_elements(by=By.CSS_SELECTOR, value=\"div.vs__selected-options input\")[2]\n",
    "    print(all_moments_field.get_attribute('outerHTML'))\n",
    "    WebDriverWait(driver, 10).until(EC.element_to_be_clickable(all_moments_field))\n",
    "    all_moments_field.send_keys(my_portfolio[0][\"Date\"])\n",
    "    time.sleep(2) # Ker če ne se prehitro pritisne ENTER, medtem ko v ozadju dropdown šele dela selekcijo\n",
    "    all_moments_field.send_keys(Keys.ENTER)\n",
    "    # ^^^^^     HERE     ^^^^^\n",
    "    \n",
    "    time.sleep(5)"
   ]
  },
  {
   "cell_type": "markdown",
   "id": "f91ddc82",
   "metadata": {},
   "source": [
    "---"
   ]
  },
  {
   "cell_type": "markdown",
   "id": "6ba05fd1",
   "metadata": {},
   "source": [
    "## Pridobitev cene "
   ]
  },
  {
   "cell_type": "markdown",
   "id": "04805c0c",
   "metadata": {},
   "source": [
    "Sedaj moramo pridobiti informacijo o prvem in drugem najcenejšem momentu in izračunati našo ceno (ki je povprečje teh dveh)."
   ]
  },
  {
   "cell_type": "markdown",
   "id": "dceaeeb2",
   "metadata": {},
   "source": [
    "Vse cene so v HTML:\n",
    "\n",
    "```HTML\n",
    "<div data-v-2f19ebab=\"\" class=\"cost regularAsk\">$7</div>\n",
    "```\n",
    "\n",
    "Najcenejši moment ima namesto **regularAsk** class **lowestAsk**."
   ]
  },
  {
   "cell_type": "code",
   "execution_count": null,
   "id": "8ac924f7",
   "metadata": {},
   "outputs": [],
   "source": [
    "import time\n",
    "from selenium import webdriver\n",
    "from selenium.webdriver.chrome.service import Service\n",
    "from selenium.webdriver.common.by import By\n",
    "from selenium.webdriver.support.ui import WebDriverWait\n",
    "from selenium.webdriver.support import expected_conditions as EC\n",
    "from selenium.webdriver.common.keys import Keys\n",
    "\n",
    "my_portfolio = [\n",
    "        {\"Name\": \"LUKA DONČIĆ\" ,\n",
    "         \"Type\": \"Assist\",\n",
    "         \"Date\": \"1/17/2021\",},        \n",
    "        \n",
    "        {\"Name\": \"JAMYCHAL GREEN\",\n",
    "         \"Type\": \"Dunk\",\n",
    "         \"Date\": \"1/3/2021\",},        \n",
    "        \n",
    "        {\"Name\": \"T.J. MCCONNELL\",\n",
    "         \"Type\": \"Assist\",\n",
    "         \"Date\": \"12/23/2020\",},\n",
    "]\n",
    "\n",
    "s = Service(\"./chromedriver_linux_96-0-4664-45\")\n",
    "with webdriver.Chrome(service=s) as driver:\n",
    "    driver.maximize_window()\n",
    "    driver.get(\"https://livetoken.co/listings/topshot\")\n",
    "    \n",
    "    name_field = driver.find_element(by=By.CSS_SELECTOR, value=\"div.vs__selected-options input\")\n",
    "    print(name_field.get_attribute('outerHTML'))\n",
    "    WebDriverWait(driver, 10).until(EC.element_to_be_clickable(name_field))\n",
    "    name_field.send_keys(my_portfolio[0][\"Name\"])\n",
    "    name_field.send_keys(Keys.ENTER)\n",
    "    \n",
    "    all_moments_field = driver.find_elements(by=By.CSS_SELECTOR, value=\"div.vs__selected-options input\")[2]\n",
    "    print(all_moments_field.get_attribute('outerHTML'))\n",
    "    WebDriverWait(driver, 10).until(EC.element_to_be_clickable(all_moments_field))\n",
    "    all_moments_field.send_keys(my_portfolio[0][\"Date\"])\n",
    "    time.sleep(2) # Ker če ne se prehitro pritisne ENTER, medtem ko v ozadju dropdown šele dela selekcijo\n",
    "    all_moments_field.send_keys(Keys.ENTER)\n",
    "    \n",
    "    # vvvvv     HERE     vvvvv\n",
    "    time.sleep(5)\n",
    "    prices = driver.find_elements(by=By.CSS_SELECTOR, value=\"div.cost\")\n",
    "    price_1 = prices[0].get_attribute(\"innerText\")\n",
    "    price_2 = prices[1].get_attribute(\"innerText\")\n",
    "    print(price_1)\n",
    "    print(price_2)\n",
    "    # ^^^^^     HERE     ^^^^^\n",
    "    \n",
    "    time.sleep(5)"
   ]
  },
  {
   "cell_type": "markdown",
   "id": "414b9c3b",
   "metadata": {},
   "source": [
    "Text vrednosti imamo, sedaj je potrebno odstraniti $ znak in zadeve pretvoriti v dejanske številske vrednosti in nato izračunati našo prodajno ceno, ki je povprečna cena teh dveh."
   ]
  },
  {
   "cell_type": "code",
   "execution_count": null,
   "id": "d73671ca",
   "metadata": {},
   "outputs": [],
   "source": [
    "import time\n",
    "from selenium import webdriver\n",
    "from selenium.webdriver.chrome.service import Service\n",
    "from selenium.webdriver.common.by import By\n",
    "from selenium.webdriver.support.ui import WebDriverWait\n",
    "from selenium.webdriver.support import expected_conditions as EC\n",
    "from selenium.webdriver.common.keys import Keys\n",
    "\n",
    "my_portfolio = [\n",
    "        {\"Name\": \"LUKA DONČIĆ\" ,\n",
    "         \"Type\": \"Assist\",\n",
    "         \"Date\": \"1/17/2021\",},        \n",
    "        \n",
    "        {\"Name\": \"JAMYCHAL GREEN\",\n",
    "         \"Type\": \"Dunk\",\n",
    "         \"Date\": \"1/3/2021\",},        \n",
    "        \n",
    "        {\"Name\": \"T.J. MCCONNELL\",\n",
    "         \"Type\": \"Assist\",\n",
    "         \"Date\": \"12/23/2020\",},\n",
    "]\n",
    "\n",
    "s = Service(\"./chromedriver_linux_96-0-4664-45\")\n",
    "with webdriver.Chrome(service=s) as driver:\n",
    "    driver.maximize_window()\n",
    "    driver.get(\"https://livetoken.co/listings/topshot\")\n",
    "    \n",
    "    name_field = driver.find_element(by=By.CSS_SELECTOR, value=\"div.vs__selected-options input\")\n",
    "    print(name_field.get_attribute('outerHTML'))\n",
    "    WebDriverWait(driver, 10).until(EC.element_to_be_clickable(name_field))\n",
    "    name_field.send_keys(my_portfolio[0][\"Name\"])\n",
    "    name_field.send_keys(Keys.ENTER)\n",
    "    \n",
    "    all_moments_field = driver.find_elements(by=By.CSS_SELECTOR, value=\"div.vs__selected-options input\")[2]\n",
    "    print(all_moments_field.get_attribute('outerHTML'))\n",
    "    WebDriverWait(driver, 10).until(EC.element_to_be_clickable(all_moments_field))\n",
    "    all_moments_field.send_keys(my_portfolio[0][\"Date\"])\n",
    "    time.sleep(2) # Ker če ne se prehitro pritisne ENTER, medtem ko v ozadju dropdown šele dela selekcijo\n",
    "    all_moments_field.send_keys(Keys.ENTER)\n",
    "    \n",
    "    time.sleep(5)\n",
    "    prices = driver.find_elements(by=By.CSS_SELECTOR, value=\"div.cost\")\n",
    "    price_1 = prices[0].get_attribute(\"innerText\")\n",
    "    price_2 = prices[1].get_attribute(\"innerText\")\n",
    "    print(price_1)\n",
    "    print(price_2)\n",
    "\n",
    "    # vvvvv     HERE     vvvvv\n",
    "    price_1 = int(price_1.strip(\"$\"))\n",
    "    price_2 = int(price_2.strip(\"$\"))\n",
    "    my_price = (price_1 + price_2) / 2\n",
    "    print(f\"My price for {my_portfolio[0]['Name']} {my_portfolio[0]['Date']}: {my_price}\")\n",
    "    # ^^^^^     HERE     ^^^^^\n",
    "    \n",
    "    time.sleep(5)"
   ]
  },
  {
   "cell_type": "markdown",
   "id": "9a8bebee",
   "metadata": {},
   "source": [
    "Dodamo zadevo v for loop, ki najde cene za naš celoten portfolio."
   ]
  },
  {
   "cell_type": "code",
   "execution_count": null,
   "id": "6a491dfc",
   "metadata": {},
   "outputs": [],
   "source": [
    "import time\n",
    "from selenium import webdriver\n",
    "from selenium.webdriver.chrome.service import Service\n",
    "from selenium.webdriver.common.by import By\n",
    "from selenium.webdriver.support.ui import WebDriverWait\n",
    "from selenium.webdriver.support import expected_conditions as EC\n",
    "from selenium.webdriver.common.keys import Keys\n",
    "\n",
    "my_portfolio = [\n",
    "        {\"Name\": \"LUKA DONČIĆ\" ,\n",
    "         \"Type\": \"Assist\",\n",
    "         \"Date\": \"1/17/2021\",},        \n",
    "        \n",
    "        {\"Name\": \"JAMYCHAL GREEN\",\n",
    "         \"Type\": \"Dunk\",\n",
    "         \"Date\": \"1/3/2021\",},        \n",
    "        \n",
    "        {\"Name\": \"T.J. MCCONNELL\",\n",
    "         \"Type\": \"Assist\",\n",
    "         \"Date\": \"12/23/2020\",},\n",
    "]\n",
    "\n",
    "s = Service(\"./chromedriver_linux_96-0-4664-45\")\n",
    "with webdriver.Chrome(service=s) as driver:\n",
    "    driver.maximize_window()\n",
    "    driver.get(\"https://livetoken.co/listings/topshot\")\n",
    "    \n",
    "    # vvvvv     HERE     vvvvv\n",
    "    for moment in my_portfolio:\n",
    "    # ^^^^^     HERE     ^^^^^\n",
    "        name_field = driver.find_element(by=By.CSS_SELECTOR, value=\"div.vs__selected-options input\")\n",
    "        print(name_field.get_attribute('outerHTML'))\n",
    "        WebDriverWait(driver, 10).until(EC.element_to_be_clickable(name_field))\n",
    "        # vvvvv     HERE     vvvvv\n",
    "        name_field.send_keys(moment[\"Name\"])\n",
    "        # ^^^^^     HERE     ^^^^^\n",
    "        name_field.send_keys(Keys.ENTER)\n",
    "\n",
    "        all_moments_field = driver.find_elements(by=By.CSS_SELECTOR, value=\"div.vs__selected-options input\")[2]\n",
    "        print(all_moments_field.get_attribute('outerHTML'))\n",
    "        WebDriverWait(driver, 10).until(EC.element_to_be_clickable(all_moments_field))\n",
    "        # vvvvv     HERE     vvvvv\n",
    "        all_moments_field.send_keys(moment[\"Date\"])\n",
    "        # ^^^^^     HERE     ^^^^^\n",
    "        time.sleep(5) # Ker če ne se prehitro pritisne ENTER, medtem ko v ozadju dropdown šele dela selekcijo\n",
    "        all_moments_field.send_keys(Keys.ENTER)\n",
    "\n",
    "        time.sleep(5)\n",
    "        prices = driver.find_elements(by=By.CSS_SELECTOR, value=\"div.cost\")\n",
    "        price_1 = prices[0].get_attribute(\"innerText\")\n",
    "        price_2 = prices[1].get_attribute(\"innerText\")\n",
    "        print(price_1)\n",
    "        print(price_2)\n",
    "\n",
    "        price_1 = int(price_1.strip(\"$\"))\n",
    "        price_2 = int(price_2.strip(\"$\"))\n",
    "        my_price = (price_1 + price_2) / 2\n",
    "        # vvvvv     HERE     vvvvv\n",
    "        print(f\"My price for {moment['Name']} {moment['Date']}: {my_price}\")\n",
    "        # ^^^^^     HERE     ^^^^^\n",
    "\n",
    "    \n",
    "    time.sleep(5)"
   ]
  },
  {
   "cell_type": "markdown",
   "id": "250b5e2c",
   "metadata": {},
   "source": [
    "Za konec bomo zadevo zagnali še v **headless** načinu, kar pomeni, da se ne no odprlo nobeno okno in bo program deloval \"v ozadju\"."
   ]
  },
  {
   "cell_type": "code",
   "execution_count": null,
   "id": "06699609",
   "metadata": {},
   "outputs": [],
   "source": [
    "import time\n",
    "from selenium import webdriver\n",
    "from selenium.webdriver.chrome.service import Service\n",
    "from selenium.webdriver.common.by import By\n",
    "from selenium.webdriver.support.ui import WebDriverWait\n",
    "from selenium.webdriver.support import expected_conditions as EC\n",
    "from selenium.webdriver.common.keys import Keys\n",
    "# vvvvv     HERE     vvvvv\n",
    "from selenium.webdriver.chrome.options import Options\n",
    "# ^^^^^     HERE     ^^^^^\n",
    "\n",
    "my_portfolio = [\n",
    "        {\"Name\": \"LUKA DONČIĆ\" ,\n",
    "         \"Type\": \"Assist\",\n",
    "         \"Date\": \"1/17/2021\",},        \n",
    "        \n",
    "        {\"Name\": \"JAMYCHAL GREEN\",\n",
    "         \"Type\": \"Dunk\",\n",
    "         \"Date\": \"1/3/2021\",},        \n",
    "        \n",
    "        {\"Name\": \"T.J. MCCONNELL\",\n",
    "         \"Type\": \"Assist\",\n",
    "         \"Date\": \"12/23/2020\",},\n",
    "]\n",
    "\n",
    "s = Service(\"./chromedriver_linux_96-0-4664-45\")\n",
    "# vvvvv     HERE     vvvvv\n",
    "chrome_options = Options()\n",
    "chrome_options.add_argument(\"--headless\")\n",
    "with webdriver.Chrome(service=s, options=chrome_options) as driver:\n",
    "# ^^^^^     HERE     ^^^^^\n",
    "    driver.maximize_window()\n",
    "    driver.get(\"https://livetoken.co/listings/topshot\")\n",
    "    \n",
    "    for moment in my_portfolio:\n",
    "        name_field = driver.find_element(by=By.CSS_SELECTOR, value=\"div.vs__selected-options input\")\n",
    "        print(name_field.get_attribute('outerHTML'))\n",
    "        WebDriverWait(driver, 10).until(EC.element_to_be_clickable(name_field))\n",
    "        name_field.send_keys(moment[\"Name\"])\n",
    "        name_field.send_keys(Keys.ENTER)\n",
    "\n",
    "        all_moments_field = driver.find_elements(by=By.CSS_SELECTOR, value=\"div.vs__selected-options input\")[2]\n",
    "        print(all_moments_field.get_attribute('outerHTML'))\n",
    "        WebDriverWait(driver, 10).until(EC.element_to_be_clickable(all_moments_field))\n",
    "        all_moments_field.send_keys(moment[\"Date\"])\n",
    "        time.sleep(5) # Ker če ne se prehitro pritisne ENTER, medtem ko v ozadju dropdown šele dela selekcijo\n",
    "        all_moments_field.send_keys(Keys.ENTER)\n",
    "\n",
    "        time.sleep(5)\n",
    "        prices = driver.find_elements(by=By.CSS_SELECTOR, value=\"div.cost\")\n",
    "        price_1 = prices[0].get_attribute(\"innerText\")\n",
    "        price_2 = prices[1].get_attribute(\"innerText\")\n",
    "        print(price_1)\n",
    "        print(price_2)\n",
    "\n",
    "        price_1 = int(price_1.strip(\"$\"))\n",
    "        price_2 = int(price_2.strip(\"$\"))\n",
    "        my_price = (price_1 + price_2) / 2\n",
    "        print(f\"My price for {moment['Name']} {moment['Date']}: {my_price}\")\n",
    "\n",
    "    \n",
    "    time.sleep(5)"
   ]
  },
  {
   "cell_type": "markdown",
   "id": "dd357b03",
   "metadata": {},
   "source": [
    "\"Headless\" rešitve za Firefox so malo težje:\n",
    "> https://stackoverflow.com/questions/5370762/how-to-hide-firefox-window-selenium-webdriver"
   ]
  },
  {
   "cell_type": "code",
   "execution_count": null,
   "id": "a552c95e",
   "metadata": {},
   "outputs": [],
   "source": []
  }
 ],
 "metadata": {
  "kernelspec": {
   "display_name": "Python 3 (ipykernel)",
   "language": "python",
   "name": "python3"
  },
  "language_info": {
   "codemirror_mode": {
    "name": "ipython",
    "version": 3
   },
   "file_extension": ".py",
   "mimetype": "text/x-python",
   "name": "python",
   "nbconvert_exporter": "python",
   "pygments_lexer": "ipython3",
   "version": "3.10.4"
  }
 },
 "nbformat": 4,
 "nbformat_minor": 5
}
