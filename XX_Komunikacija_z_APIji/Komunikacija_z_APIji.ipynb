{
 "cells": [
  {
   "cell_type": "markdown",
   "id": "22a86b41",
   "metadata": {},
   "source": [
    "# Komunikacija z APIji"
   ]
  },
  {
   "cell_type": "markdown",
   "id": "002ee9dd",
   "metadata": {},
   "source": [
    "https://requests.readthedocs.io/en/latest/"
   ]
  },
  {
   "cell_type": "markdown",
   "id": "1ccc7b26",
   "metadata": {},
   "source": [
    "https://pypi.org/project/requests/"
   ]
  },
  {
   "cell_type": "code",
   "execution_count": 2,
   "id": "92085347",
   "metadata": {},
   "outputs": [],
   "source": [
    "import requests"
   ]
  },
  {
   "cell_type": "markdown",
   "id": "7e4593a1",
   "metadata": {},
   "source": [
    "## GET Request"
   ]
  },
  {
   "cell_type": "code",
   "execution_count": 3,
   "id": "b0b9b890",
   "metadata": {},
   "outputs": [],
   "source": [
    "url = \"https://example.com/\"\n",
    "response = requests.get(url)"
   ]
  },
  {
   "cell_type": "code",
   "execution_count": 4,
   "id": "a11a32d5",
   "metadata": {},
   "outputs": [
    {
     "name": "stdout",
     "output_type": "stream",
     "text": [
      "<Response [200]>\n"
     ]
    }
   ],
   "source": [
    "print(response)"
   ]
  },
  {
   "cell_type": "code",
   "execution_count": 6,
   "id": "a2e4b09e",
   "metadata": {},
   "outputs": [
    {
     "data": {
      "text/plain": [
       "200"
      ]
     },
     "execution_count": 6,
     "metadata": {},
     "output_type": "execute_result"
    }
   ],
   "source": [
    "response.status_code"
   ]
  },
  {
   "cell_type": "code",
   "execution_count": 7,
   "id": "83a2f95f",
   "metadata": {},
   "outputs": [
    {
     "name": "stdout",
     "output_type": "stream",
     "text": [
      "ok\n"
     ]
    }
   ],
   "source": [
    "if response.status_code == 200:\n",
    "    print(\"ok\")\n",
    "elif response.status_code == 400:\n",
    "    print(\"error\")"
   ]
  },
  {
   "cell_type": "code",
   "execution_count": 9,
   "id": "3479f50f",
   "metadata": {},
   "outputs": [
    {
     "name": "stdout",
     "output_type": "stream",
     "text": [
      "<!doctype html>\n",
      "<html>\n",
      "<head>\n",
      "    <title>Example Domain</title>\n",
      "\n",
      "    <meta charset=\"utf-8\" />\n",
      "    <meta http-equiv=\"Content-type\" content=\"text/html; charset=utf-8\" />\n",
      "    <meta name=\"viewport\" content=\"width=device-width, initial-scale=1\" />\n",
      "    <style type=\"text/css\">\n",
      "    body {\n",
      "        background-color: #f0f0f2;\n",
      "        margin: 0;\n",
      "        padding: 0;\n",
      "        font-family: -apple-system, system-ui, BlinkMacSystemFont, \"Segoe UI\", \"Open Sans\", \"Helvetica Neue\", Helvetica, Arial, sans-serif;\n",
      "        \n",
      "    }\n",
      "    div {\n",
      "        width: 600px;\n",
      "        margin: 5em auto;\n",
      "        padding: 2em;\n",
      "        background-color: #fdfdff;\n",
      "        border-radius: 0.5em;\n",
      "        box-shadow: 2px 3px 7px 2px rgba(0,0,0,0.02);\n",
      "    }\n",
      "    a:link, a:visited {\n",
      "        color: #38488f;\n",
      "        text-decoration: none;\n",
      "    }\n",
      "    @media (max-width: 700px) {\n",
      "        div {\n",
      "            margin: 0 auto;\n",
      "            width: auto;\n",
      "        }\n",
      "    }\n",
      "    </style>    \n",
      "</head>\n",
      "\n",
      "<body>\n",
      "<div>\n",
      "    <h1>Example Domain</h1>\n",
      "    <p>This domain is for use in illustrative examples in documents. You may use this\n",
      "    domain in literature without prior coordination or asking for permission.</p>\n",
      "    <p><a href=\"https://www.iana.org/domains/example\">More information...</a></p>\n",
      "</div>\n",
      "</body>\n",
      "</html>\n",
      "\n"
     ]
    }
   ],
   "source": [
    "print(response.text)"
   ]
  },
  {
   "cell_type": "code",
   "execution_count": 10,
   "id": "46d801be",
   "metadata": {},
   "outputs": [
    {
     "data": {
      "text/plain": [
       "'UTF-8'"
      ]
     },
     "execution_count": 10,
     "metadata": {},
     "output_type": "execute_result"
    }
   ],
   "source": [
    "response.encoding"
   ]
  },
  {
   "cell_type": "code",
   "execution_count": 12,
   "id": "73e0fdc0",
   "metadata": {},
   "outputs": [],
   "source": [
    "# response.json()"
   ]
  },
  {
   "cell_type": "code",
   "execution_count": 13,
   "id": "9201ff9b",
   "metadata": {},
   "outputs": [
    {
     "data": {
      "text/plain": [
       "{'Content-Encoding': 'gzip', 'Accept-Ranges': 'bytes', 'Age': '293951', 'Cache-Control': 'max-age=604800', 'Content-Type': 'text/html; charset=UTF-8', 'Date': 'Wed, 01 Jun 2022 12:39:32 GMT', 'Etag': '\"3147526947\"', 'Expires': 'Wed, 08 Jun 2022 12:39:32 GMT', 'Last-Modified': 'Thu, 17 Oct 2019 07:18:26 GMT', 'Server': 'ECS (dcb/7F5C)', 'Vary': 'Accept-Encoding', 'X-Cache': 'HIT', 'Content-Length': '648'}"
      ]
     },
     "execution_count": 13,
     "metadata": {},
     "output_type": "execute_result"
    }
   ],
   "source": [
    "response.headers"
   ]
  },
  {
   "cell_type": "code",
   "execution_count": 14,
   "id": "7f9f4138",
   "metadata": {},
   "outputs": [
    {
     "data": {
      "text/plain": [
       "'gzip'"
      ]
     },
     "execution_count": 14,
     "metadata": {},
     "output_type": "execute_result"
    }
   ],
   "source": [
    "response.headers['Content-Encoding']"
   ]
  },
  {
   "cell_type": "markdown",
   "id": "bcb56322",
   "metadata": {},
   "source": [
    "## Query parameters"
   ]
  },
  {
   "cell_type": "code",
   "execution_count": 15,
   "id": "6ce8b47a",
   "metadata": {},
   "outputs": [
    {
     "data": {
      "text/plain": [
       "{'status': 'success',\n",
       " 'country': 'Canada',\n",
       " 'countryCode': 'CA',\n",
       " 'region': 'QC',\n",
       " 'regionName': 'Quebec',\n",
       " 'city': 'Montreal',\n",
       " 'zip': 'H1K',\n",
       " 'lat': 45.6085,\n",
       " 'lon': -73.5493,\n",
       " 'timezone': 'America/Toronto',\n",
       " 'isp': 'Le Groupe Videotron Ltee',\n",
       " 'org': 'Videotron Ltee',\n",
       " 'as': 'AS5769 Videotron Telecom Ltee',\n",
       " 'query': '24.48.0.1'}"
      ]
     },
     "execution_count": 15,
     "metadata": {},
     "output_type": "execute_result"
    }
   ],
   "source": [
    "url = \"http://ip-api.com/json/24.48.0.1\"\n",
    "requests.get(url).json()"
   ]
  },
  {
   "cell_type": "code",
   "execution_count": 16,
   "id": "a19275b2",
   "metadata": {},
   "outputs": [],
   "source": [
    "ips = [\"87.164.206.186\", \"97.151.64.195\", \"199.74.100.136\", \"41.37.14.38\"]"
   ]
  },
  {
   "cell_type": "code",
   "execution_count": 25,
   "id": "ef1cbc1b",
   "metadata": {},
   "outputs": [
    {
     "name": "stdout",
     "output_type": "stream",
     "text": [
      "{'status': 'success', 'country': 'Germany', 'countryCode': 'DE', 'city': 'Meitingen', 'lat': 48.5415, 'lon': 10.8443, 'isp': 'Deutsche Telekom AG'}\n",
      "{'status': 'success', 'country': 'United States', 'countryCode': 'US', 'city': 'New York', 'lat': 40.7128, 'lon': -74.006, 'isp': 'Verizon Business'}\n",
      "{'status': 'success', 'country': 'United States', 'countryCode': 'US', 'city': 'Evanston', 'lat': 42.0451, 'lon': -87.6877, 'isp': 'Northwestern University'}\n",
      "{'status': 'success', 'country': 'Egypt', 'countryCode': 'EG', 'city': 'Cairo', 'lat': 30.0778, 'lon': 31.2852, 'isp': 'TE Data'}\n"
     ]
    }
   ],
   "source": [
    "for ip in ips:\n",
    "    url = f\"http://ip-api.com/json/{ip}\"\n",
    "    params = {\"fields\": \"status,country,countryCode,city,lat,lon,isp\"}\n",
    "    headers = {\"Acept\": \"application/json\"}\n",
    "    response = requests.get(url, params=params, headers=headers)\n",
    "    data = response.json()\n",
    "    # print(response.headers)\n",
    "    print(data)"
   ]
  },
  {
   "cell_type": "markdown",
   "id": "02376688",
   "metadata": {},
   "source": [
    "## Druge metode"
   ]
  },
  {
   "cell_type": "code",
   "execution_count": 28,
   "id": "e0dd4f81",
   "metadata": {},
   "outputs": [
    {
     "name": "stdout",
     "output_type": "stream",
     "text": [
      "{\n",
      "  \"args\": {}, \n",
      "  \"data\": \"{\\\"test\\\": 2}\", \n",
      "  \"files\": {}, \n",
      "  \"form\": {}, \n",
      "  \"headers\": {\n",
      "    \"Accept\": \"*/*\", \n",
      "    \"Accept-Encoding\": \"gzip, deflate\", \n",
      "    \"Content-Length\": \"11\", \n",
      "    \"Content-Type\": \"application/json\", \n",
      "    \"Host\": \"httpbin.org\", \n",
      "    \"User-Agent\": \"python-requests/2.27.1\", \n",
      "    \"X-Amzn-Trace-Id\": \"Root=1-629762a8-0dd9465f3fe2264327bfb64b\"\n",
      "  }, \n",
      "  \"json\": {\n",
      "    \"test\": 2\n",
      "  }, \n",
      "  \"origin\": \"212.101.140.20\", \n",
      "  \"url\": \"https://httpbin.org/post\"\n",
      "}\n",
      "\n"
     ]
    }
   ],
   "source": [
    "print(requests.post(\"https://httpbin.org/post\", json={\"test\":2}).text)"
   ]
  },
  {
   "cell_type": "code",
   "execution_count": 32,
   "id": "8ddb4147",
   "metadata": {},
   "outputs": [
    {
     "name": "stdout",
     "output_type": "stream",
     "text": [
      "{\n",
      "  \"args\": {}, \n",
      "  \"data\": \"\", \n",
      "  \"files\": {}, \n",
      "  \"form\": {}, \n",
      "  \"headers\": {\n",
      "    \"Accept\": \"*/*\", \n",
      "    \"Accept-Encoding\": \"gzip, deflate\", \n",
      "    \"Content-Length\": \"0\", \n",
      "    \"Host\": \"httpbin.org\", \n",
      "    \"User-Agent\": \"python-requests/2.27.1\", \n",
      "    \"X-Amzn-Trace-Id\": \"Root=1-629762cb-4db6978f7c04ab6b4820e3c4\"\n",
      "  }, \n",
      "  \"json\": null, \n",
      "  \"origin\": \"212.101.140.20\", \n",
      "  \"url\": \"https://httpbin.org/delete\"\n",
      "}\n",
      "\n"
     ]
    }
   ],
   "source": [
    "print(requests.delete(\"https://httpbin.org/delete\").text)"
   ]
  },
  {
   "cell_type": "code",
   "execution_count": 37,
   "id": "70de8c25",
   "metadata": {},
   "outputs": [
    {
     "data": {
      "text/plain": [
       "<Response [200]>"
      ]
     },
     "execution_count": 37,
     "metadata": {},
     "output_type": "execute_result"
    }
   ],
   "source": [
    "requests.get(url, verify=False, timeout=2)"
   ]
  },
  {
   "cell_type": "markdown",
   "id": "8ca287d3",
   "metadata": {},
   "source": [
    "## Session object"
   ]
  },
  {
   "cell_type": "code",
   "execution_count": 39,
   "id": "677b649d",
   "metadata": {},
   "outputs": [
    {
     "name": "stdout",
     "output_type": "stream",
     "text": [
      "200\n",
      "200\n",
      "200\n",
      "200\n",
      "200\n",
      "200\n",
      "200\n",
      "200\n",
      "200\n",
      "200\n",
      "200\n",
      "200\n",
      "200\n",
      "200\n",
      "200\n",
      "200\n",
      "200\n",
      "200\n",
      "200\n",
      "200\n"
     ]
    }
   ],
   "source": [
    "url = \"https://httpbin.org/get\"\n",
    "\n",
    "with requests.Session() as session:\n",
    "    for _ in range(20):\n",
    "        print(session.get(url).status_code)"
   ]
  },
  {
   "cell_type": "markdown",
   "id": "dec9d8ed",
   "metadata": {},
   "source": [
    "# Handlanje errorjev"
   ]
  },
  {
   "cell_type": "code",
   "execution_count": null,
   "id": "01f4ca37",
   "metadata": {},
   "outputs": [],
   "source": []
  },
  {
   "cell_type": "code",
   "execution_count": null,
   "id": "c96e67c7",
   "metadata": {},
   "outputs": [],
   "source": []
  },
  {
   "cell_type": "code",
   "execution_count": null,
   "id": "ddd11dbf",
   "metadata": {},
   "outputs": [],
   "source": []
  },
  {
   "cell_type": "code",
   "execution_count": null,
   "id": "84ffc9e6",
   "metadata": {},
   "outputs": [],
   "source": []
  },
  {
   "cell_type": "code",
   "execution_count": null,
   "id": "059f3646",
   "metadata": {},
   "outputs": [],
   "source": []
  },
  {
   "cell_type": "code",
   "execution_count": null,
   "id": "41e013bd",
   "metadata": {},
   "outputs": [],
   "source": []
  }
 ],
 "metadata": {
  "kernelspec": {
   "display_name": "Python 3 (ipykernel)",
   "language": "python",
   "name": "python3"
  },
  "language_info": {
   "codemirror_mode": {
    "name": "ipython",
    "version": 3
   },
   "file_extension": ".py",
   "mimetype": "text/x-python",
   "name": "python",
   "nbconvert_exporter": "python",
   "pygments_lexer": "ipython3",
   "version": "3.9.0"
  }
 },
 "nbformat": 4,
 "nbformat_minor": 5
}
